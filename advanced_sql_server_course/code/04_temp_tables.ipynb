{
    "metadata": {
        "kernelspec": {
            "name": "SQL",
            "display_name": "SQL",
            "language": "sql"
        },
        "language_info": {
            "name": "sql",
            "version": ""
        }
    },
    "nbformat_minor": 2,
    "nbformat": 4,
    "cells": [
        {
            "cell_type": "markdown",
            "source": [
                "# CTE Limitations\n",
                "\n",
                "- CTEs can only be used in the current query scope\n",
                "    - Cannot be referenced after the final SELECT statement\n",
                "- Problematic if you need to reuse your virtual tables for different purposes\n",
                "- Dependent virtual tables cannot be referenced individually making debugging more difficult\n",
                "\n",
                "# Temp Tables Introduction\n",
                "\n",
                "- Temp tables are only limited by the current session\n",
                "- Basic syntax uses SELECT INTO #\n",
                "- Disadvantage is once a temp table is created, you cannot run the entire script again\n",
                "    - Adding DROP TABLE alleviates issue\n",
                "- When to use temp tables over CTEs\n",
                "    - When you need to reference virtual tables in multiple outputs\n",
                "    - When you need to join large datasets in virtual tables\n",
                "    - When you need a script instead of a query"
            ],
            "metadata": {
                "azdata_cell_guid": "62154105-afcb-41b0-895e-27768ae781b5"
            },
            "attachments": {}
        },
        {
            "cell_type": "code",
            "source": [
                "USE AW2019;\r\n",
                "\r\n",
                "DROP TABLE IF EXISTS #Sales\r\n",
                "SELECT\r\n",
                "    OrderDate,\r\n",
                "    OrderMonth  = DATEFROMPARTS (YEAR (OrderDate), MONTH (OrderDate), 1),\r\n",
                "    TotalDue,\r\n",
                "    OrderRank   = ROW_NUMBER() OVER (PARTITION BY DATEFROMPARTS (YEAR (OrderDate), MONTH (OrderDate), 1) ORDER BY TotalDue DESC)\r\n",
                "INTO #Sales\r\n",
                "FROM Sales.SalesOrderHeader\r\n",
                "\r\n",
                "\r\n",
                "DROP TABLE IF EXISTS #AvgSalesMinusTop10\r\n",
                "SELECT\r\n",
                "    OrderMonth,\r\n",
                "    TotalSales = SUM(TotalDue)\r\n",
                "INTO #AvgSalesMinusTop10\r\n",
                "FROM #Sales\r\n",
                "WHERE OrderRank > 10\r\n",
                "GROUP BY OrderMonth\r\n",
                "\r\n",
                "\r\n",
                "DROP TABLE IF EXISTS #Purchases\r\n",
                "SELECT \r\n",
                "    OrderDate,\r\n",
                "    OrderMonth  = DATEFROMPARTS (YEAR (OrderDate), MONTH (OrderDate), 1),\r\n",
                "    TotalDue,\r\n",
                "    OrderRank   = ROW_NUMBER() OVER (PARTITION BY DATEFROMPARTS (YEAR (OrderDate), MONTH (OrderDate), 1) ORDER BY TotalDue DESC)\r\n",
                "INTO #Purchases\r\n",
                "FROM .Purchasing.PurchaseOrderHeader\r\n",
                "\r\n",
                "\r\n",
                "DROP TABLE IF EXISTS #AvgPurchasesMinusTop10\r\n",
                "SELECT\r\n",
                "    OrderMonth,\r\n",
                "    TotalPurchases = SUM(TotalDue)\r\n",
                "INTO #AvgPurchasesMinusTop10\r\n",
                "FROM #Purchases\r\n",
                "WHERE OrderRank > 10\r\n",
                "GROUP BY OrderMonth\r\n",
                "\r\n",
                "----------------------------------------\r\n",
                "SELECT TOP 10\r\n",
                "    S.OrderMonth,\r\n",
                "    S.TotalSales,\r\n",
                "    P.TotalPurchases\r\n",
                "FROM #AvgSalesMinusTop10 AS S\r\n",
                "\tJOIN #AvgPurchasesMinusTop10 AS P\r\n",
                "\t\tON S.OrderMonth = P.OrderMonth\r\n",
                "ORDER BY S.OrderMonth"
            ],
            "metadata": {
                "azdata_cell_guid": "472a35a1-5663-4a60-9122-6537fdcc1856",
                "language": "sql",
                "tags": []
            },
            "outputs": [
                {
                    "output_type": "display_data",
                    "data": {
                        "text/html": "(31465 rows affected)"
                    },
                    "metadata": {}
                },
                {
                    "output_type": "display_data",
                    "data": {
                        "text/html": "(38 rows affected)"
                    },
                    "metadata": {}
                },
                {
                    "output_type": "display_data",
                    "data": {
                        "text/html": "(4012 rows affected)"
                    },
                    "metadata": {}
                },
                {
                    "output_type": "display_data",
                    "data": {
                        "text/html": "(29 rows affected)"
                    },
                    "metadata": {}
                },
                {
                    "output_type": "display_data",
                    "data": {
                        "text/html": "(10 rows affected)"
                    },
                    "metadata": {}
                },
                {
                    "output_type": "display_data",
                    "data": {
                        "text/html": "Total execution time: 00:00:00.602"
                    },
                    "metadata": {}
                },
                {
                    "output_type": "execute_result",
                    "metadata": {},
                    "execution_count": 1,
                    "data": {
                        "application/vnd.dataresource+json": {
                            "schema": {
                                "fields": [
                                    {
                                        "name": "OrderMonth"
                                    },
                                    {
                                        "name": "TotalSales"
                                    },
                                    {
                                        "name": "TotalPurchases"
                                    }
                                ]
                            },
                            "data": [
                                {
                                    "0": "2011-12-01",
                                    "1": "1019635.6747",
                                    "2": "7254.3006"
                                },
                                {
                                    "0": "2012-01-01",
                                    "1": "3622013.9215",
                                    "2": "220767.0679"
                                },
                                {
                                    "0": "2012-02-01",
                                    "1": "1141791.6116",
                                    "2": "7610.834"
                                },
                                {
                                    "0": "2012-03-01",
                                    "1": "2441839.1531",
                                    "2": "218226.7469"
                                },
                                {
                                    "0": "2012-04-01",
                                    "1": "1341386.2938",
                                    "2": "2496.2083"
                                },
                                {
                                    "0": "2012-05-01",
                                    "1": "2259194.0397",
                                    "2": "5744.3167"
                                },
                                {
                                    "0": "2012-06-01",
                                    "1": "3527254.7224",
                                    "2": "107628.3985"
                                },
                                {
                                    "0": "2012-07-01",
                                    "1": "2560587.9382",
                                    "2": "234.7418"
                                },
                                {
                                    "0": "2012-08-01",
                                    "1": "1534278.5579",
                                    "2": "14737.7394"
                                },
                                {
                                    "0": "2012-09-01",
                                    "1": "2903851.4579",
                                    "2": "3485.3792"
                                }
                            ]
                        },
                        "text/html": [
                            "<table>",
                            "<tr><th>OrderMonth</th><th>TotalSales</th><th>TotalPurchases</th></tr>",
                            "<tr><td>2011-12-01</td><td>1019635.6747</td><td>7254.3006</td></tr>",
                            "<tr><td>2012-01-01</td><td>3622013.9215</td><td>220767.0679</td></tr>",
                            "<tr><td>2012-02-01</td><td>1141791.6116</td><td>7610.834</td></tr>",
                            "<tr><td>2012-03-01</td><td>2441839.1531</td><td>218226.7469</td></tr>",
                            "<tr><td>2012-04-01</td><td>1341386.2938</td><td>2496.2083</td></tr>",
                            "<tr><td>2012-05-01</td><td>2259194.0397</td><td>5744.3167</td></tr>",
                            "<tr><td>2012-06-01</td><td>3527254.7224</td><td>107628.3985</td></tr>",
                            "<tr><td>2012-07-01</td><td>2560587.9382</td><td>234.7418</td></tr>",
                            "<tr><td>2012-08-01</td><td>1534278.5579</td><td>14737.7394</td></tr>",
                            "<tr><td>2012-09-01</td><td>2903851.4579</td><td>3485.3792</td></tr>",
                            "</table>"
                        ]
                    }
                }
            ],
            "execution_count": 1
        },
        {
            "cell_type": "markdown",
            "source": [
                "# CREATE and INSERT\r\n",
                "\r\n",
                "- More control of the table being created and data being inserted\r\n",
                "- Create data structure in advance, load data with INSERT\r\n",
                "- Appropriate for more complex scenarios"
            ],
            "metadata": {
                "azdata_cell_guid": "a42d50eb-c58e-4d16-a70b-1793f5595d42"
            },
            "attachments": {}
        },
        {
            "cell_type": "code",
            "source": [
                "USE AW2019;\r\n",
                "\r\n",
                "DROP TABLE IF EXISTS #Sales\r\n",
                "CREATE TABLE #Sales (\r\n",
                "    OrderDate   DATE,\r\n",
                "    OrderMonth  DATE,\r\n",
                "    TotalDue    MONEY,\r\n",
                "    OrderRank   INT\r\n",
                ")\r\n",
                "\r\n",
                "INSERT INTO #Sales (\r\n",
                "    OrderDate,\r\n",
                "    OrderMonth,\r\n",
                "    TotalDue,\r\n",
                "    OrderRank\r\n",
                ")\r\n",
                "\r\n",
                "SELECT\r\n",
                "    OrderDate,\r\n",
                "    OrderMonth  = DATEFROMPARTS (YEAR (OrderDate), MONTH (OrderDate), 1),\r\n",
                "    TotalDue,\r\n",
                "    OrderRank   = ROW_NUMBER() OVER (PARTITION BY DATEFROMPARTS (YEAR (OrderDate), MONTH (OrderDate), 1) ORDER BY TotalDue DESC)\r\n",
                "FROM Sales.SalesOrderHeader;\r\n",
                "\r\n",
                "\r\n",
                "DROP TABLE IF EXISTS #AvgSalesMinusTop10\r\n",
                "CREATE TABLE #AvgSalesMinusTop10 (\r\n",
                "    OrderMonth  DATE,\r\n",
                "    TotalSales  MONEY\r\n",
                ")\r\n",
                "\r\n",
                "INSERT INTO #AvgSalesMinusTop10 (\r\n",
                "    OrderMonth,\r\n",
                "    TotalSales\r\n",
                ")\r\n",
                "\r\n",
                "SELECT\r\n",
                "    OrderMonth,\r\n",
                "    TotalSales = SUM(TotalDue)\r\n",
                "FROM #Sales\r\n",
                "WHERE OrderRank > 10\r\n",
                "GROUP BY OrderMonth;\r\n",
                "\r\n",
                "\r\n",
                "DROP TABLE IF EXISTS #Purchases\r\n",
                "CREATE TABLE #Purchases (\r\n",
                "    OrderDate   DATE,\r\n",
                "    OrderMonth  DATE,\r\n",
                "    TotalDue    MONEY,\r\n",
                "    OrderRank   INT\r\n",
                ")\r\n",
                "\r\n",
                "INSERT INTO #Purchases (\r\n",
                "    OrderDate,\r\n",
                "    OrderMonth,\r\n",
                "    TOtalDue,\r\n",
                "    OrderRank\r\n",
                ")\r\n",
                "\r\n",
                "SELECT \r\n",
                "    OrderDate,\r\n",
                "    OrderMonth  = DATEFROMPARTS (YEAR (OrderDate), MONTH (OrderDate), 1),\r\n",
                "    TotalDue,\r\n",
                "    OrderRank   = ROW_NUMBER() OVER (PARTITION BY DATEFROMPARTS (YEAR (OrderDate), MONTH (OrderDate), 1) ORDER BY TotalDue DESC)\r\n",
                "FROM .Purchasing.PurchaseOrderHeader;\r\n",
                "\r\n",
                "\r\n",
                "DROP TABLE IF EXISTS #AvgPurchasesMinusTop10\r\n",
                "CREATE TABLE #AvgPurchasesMinusTop10 (\r\n",
                "    OrderMonth      DATE,\r\n",
                "    TotalPurchases  MONEY\r\n",
                ")\r\n",
                "\r\n",
                "INSERT INTO #AvgPurchasesMinusTop10 (\r\n",
                "    OrderMonth,\r\n",
                "    TotalPurchases\r\n",
                ")\r\n",
                "\r\n",
                "SELECT\r\n",
                "    OrderMonth,\r\n",
                "    TotalPurchases = SUM(TotalDue)\r\n",
                "FROM #Purchases\r\n",
                "WHERE OrderRank > 10\r\n",
                "GROUP BY OrderMonth;\r\n",
                "\r\n",
                "----------------------------------------\r\n",
                "SELECT TOP 10\r\n",
                "    S.OrderMonth,\r\n",
                "    S.TotalSales,\r\n",
                "    P.TotalPurchases\r\n",
                "FROM #AvgSalesMinusTop10 AS S\r\n",
                "\tJOIN #AvgPurchasesMinusTop10 AS P\r\n",
                "\t\tON S.OrderMonth = P.OrderMonth\r\n",
                "ORDER BY S.OrderMonth"
            ],
            "metadata": {
                "azdata_cell_guid": "baaf06c0-7764-4d89-9e52-7f4ea5533fe6",
                "language": "sql"
            },
            "outputs": [
                {
                    "output_type": "display_data",
                    "data": {
                        "text/html": "(31465 rows affected)"
                    },
                    "metadata": {}
                },
                {
                    "output_type": "display_data",
                    "data": {
                        "text/html": "(38 rows affected)"
                    },
                    "metadata": {}
                },
                {
                    "output_type": "display_data",
                    "data": {
                        "text/html": "(4012 rows affected)"
                    },
                    "metadata": {}
                },
                {
                    "output_type": "display_data",
                    "data": {
                        "text/html": "(29 rows affected)"
                    },
                    "metadata": {}
                },
                {
                    "output_type": "display_data",
                    "data": {
                        "text/html": "(10 rows affected)"
                    },
                    "metadata": {}
                },
                {
                    "output_type": "display_data",
                    "data": {
                        "text/html": "Total execution time: 00:00:00.413"
                    },
                    "metadata": {}
                },
                {
                    "output_type": "execute_result",
                    "metadata": {},
                    "execution_count": 2,
                    "data": {
                        "application/vnd.dataresource+json": {
                            "schema": {
                                "fields": [
                                    {
                                        "name": "OrderMonth"
                                    },
                                    {
                                        "name": "TotalSales"
                                    },
                                    {
                                        "name": "TotalPurchases"
                                    }
                                ]
                            },
                            "data": [
                                {
                                    "0": "2011-12-01",
                                    "1": "1019635.6747",
                                    "2": "7254.3006"
                                },
                                {
                                    "0": "2012-01-01",
                                    "1": "3622013.9215",
                                    "2": "220767.0679"
                                },
                                {
                                    "0": "2012-02-01",
                                    "1": "1141791.6116",
                                    "2": "7610.834"
                                },
                                {
                                    "0": "2012-03-01",
                                    "1": "2441839.1531",
                                    "2": "218226.7469"
                                },
                                {
                                    "0": "2012-04-01",
                                    "1": "1341386.2938",
                                    "2": "2496.2083"
                                },
                                {
                                    "0": "2012-05-01",
                                    "1": "2259194.0397",
                                    "2": "5744.3167"
                                },
                                {
                                    "0": "2012-06-01",
                                    "1": "3527254.7224",
                                    "2": "107628.3985"
                                },
                                {
                                    "0": "2012-07-01",
                                    "1": "2560587.9382",
                                    "2": "234.7418"
                                },
                                {
                                    "0": "2012-08-01",
                                    "1": "1534278.5579",
                                    "2": "14737.7394"
                                },
                                {
                                    "0": "2012-09-01",
                                    "1": "2903851.4579",
                                    "2": "3485.3792"
                                }
                            ]
                        },
                        "text/html": [
                            "<table>",
                            "<tr><th>OrderMonth</th><th>TotalSales</th><th>TotalPurchases</th></tr>",
                            "<tr><td>2011-12-01</td><td>1019635.6747</td><td>7254.3006</td></tr>",
                            "<tr><td>2012-01-01</td><td>3622013.9215</td><td>220767.0679</td></tr>",
                            "<tr><td>2012-02-01</td><td>1141791.6116</td><td>7610.834</td></tr>",
                            "<tr><td>2012-03-01</td><td>2441839.1531</td><td>218226.7469</td></tr>",
                            "<tr><td>2012-04-01</td><td>1341386.2938</td><td>2496.2083</td></tr>",
                            "<tr><td>2012-05-01</td><td>2259194.0397</td><td>5744.3167</td></tr>",
                            "<tr><td>2012-06-01</td><td>3527254.7224</td><td>107628.3985</td></tr>",
                            "<tr><td>2012-07-01</td><td>2560587.9382</td><td>234.7418</td></tr>",
                            "<tr><td>2012-08-01</td><td>1534278.5579</td><td>14737.7394</td></tr>",
                            "<tr><td>2012-09-01</td><td>2903851.4579</td><td>3485.3792</td></tr>",
                            "</table>"
                        ]
                    }
                }
            ],
            "execution_count": 2
        },
        {
            "cell_type": "markdown",
            "source": [
                "# TRUNCATE\r\n",
                "\r\n",
                "- Allows us to clear table while keeping structure intact\r\n",
                "- Useful for situations when we want to reuse temp tables and reduce clutter in our code"
            ],
            "metadata": {
                "azdata_cell_guid": "1a0d6f51-178f-4083-972a-e337d4075e8d"
            },
            "attachments": {}
        },
        {
            "cell_type": "code",
            "source": [
                "USE AW2019;\r\n",
                "\r\n",
                "-- Create Orders Table\r\n",
                "DROP TABLE IF EXISTS #Orders\r\n",
                "CREATE TABLE #Orders (\r\n",
                "    OrderDate   DATE,\r\n",
                "    OrderMonth  DATE,\r\n",
                "    TotalDue    MONEY,\r\n",
                "    OrderRank   INT\r\n",
                ")\r\n",
                "\r\n",
                "-- Insert Sales Data\r\n",
                "INSERT INTO #Orders (\r\n",
                "    OrderDate,\r\n",
                "    OrderMonth,\r\n",
                "    TotalDue,\r\n",
                "    OrderRank\r\n",
                ")\r\n",
                "\r\n",
                "SELECT\r\n",
                "    OrderDate,\r\n",
                "    OrderMonth  = DATEFROMPARTS (YEAR (OrderDate), MONTH (OrderDate), 1),\r\n",
                "    TotalDue,\r\n",
                "    OrderRank   = ROW_NUMBER() OVER (PARTITION BY DATEFROMPARTS (YEAR (OrderDate), MONTH (OrderDate), 1) ORDER BY TotalDue DESC)\r\n",
                "FROM Sales.SalesOrderHeader;\r\n",
                "\r\n",
                "\r\n",
                "-- Create AvgOrdersMinusTop10 Table\r\n",
                "DROP TABLE IF EXISTS #AvgOrdersMinusTop10\r\n",
                "CREATE TABLE #AvgOrdersMinusTop10 (\r\n",
                "    OrderMonth  DATE,\r\n",
                "    OrderType   VARCHAR(32),\r\n",
                "    TotalDue    MONEY\r\n",
                ")\r\n",
                "\r\n",
                "-- Insert Sales Data\r\n",
                "INSERT INTO #AvgOrdersMinusTop10 (\r\n",
                "    OrderMonth,\r\n",
                "    OrderType,\r\n",
                "    TotalDue\r\n",
                ")\r\n",
                "\r\n",
                "SELECT\r\n",
                "    OrderMonth,\r\n",
                "    OrderType   = 'Sales',\r\n",
                "    TotalDue    = SUM(TotalDue)\r\n",
                "FROM #Orders\r\n",
                "WHERE OrderRank > 10\r\n",
                "GROUP BY OrderMonth;\r\n",
                "\r\n",
                "\r\n",
                "-- Empty Orders Table\r\n",
                "TRUNCATE TABLE #Orders;\r\n",
                "\r\n",
                "\r\n",
                "-- Insert Purchase Data\r\n",
                "INSERT INTO #Orders (\r\n",
                "    OrderDate,\r\n",
                "    OrderMonth,\r\n",
                "    TotalDue,\r\n",
                "    OrderRank\r\n",
                ")\r\n",
                "\r\n",
                "SELECT\r\n",
                "    OrderDate,\r\n",
                "    OrderMonth  = DATEFROMPARTS (YEAR (OrderDate), MONTH (OrderDate), 1),\r\n",
                "    TotalDue,\r\n",
                "    OrderRank   = ROW_NUMBER() OVER (PARTITION BY DATEFROMPARTS (YEAR (OrderDate), MONTH (OrderDate), 1) ORDER BY TotalDue DESC)\r\n",
                "FROM Purchasing.PurchaseOrderHeader;\r\n",
                "\r\n",
                "\r\n",
                "-- Insert Purchase Data\r\n",
                "INSERT INTO #AvgOrdersMinusTop10 (\r\n",
                "    OrderMonth,\r\n",
                "    OrderType,\r\n",
                "    TotalDue\r\n",
                ")\r\n",
                "\r\n",
                "SELECT\r\n",
                "    OrderMonth,\r\n",
                "    OrderType   = 'Purchase',\r\n",
                "    TotalDue    = SUM(TotalDue)\r\n",
                "FROM #Orders\r\n",
                "WHERE OrderRank > 10\r\n",
                "GROUP BY OrderMonth;\r\n",
                "\r\n",
                "----------------------------------------\r\n",
                "SELECT TOP 10\r\n",
                "    A.OrderMonth,\r\n",
                "    TotalSales      = A.TotalDue,\r\n",
                "    TotalPurchases  = B.TotalDue\r\n",
                "FROM #AvgOrdersMinusTop10 AS A\r\n",
                "    JOIN #AvgOrdersMinusTop10 AS B\r\n",
                "        ON A.OrderMonth = B.OrderMonth\r\n",
                "        AND B.OrderType = 'Purchase'\r\n",
                "WHERE A.OrderType = 'Sales'\r\n",
                "ORDER BY A.OrderMonth;"
            ],
            "metadata": {
                "azdata_cell_guid": "0837135d-e0e3-41f4-bf6a-5b490b72521d",
                "language": "sql",
                "tags": []
            },
            "outputs": [
                {
                    "output_type": "display_data",
                    "data": {
                        "text/html": "(31465 rows affected)"
                    },
                    "metadata": {}
                },
                {
                    "output_type": "display_data",
                    "data": {
                        "text/html": "(38 rows affected)"
                    },
                    "metadata": {}
                },
                {
                    "output_type": "display_data",
                    "data": {
                        "text/html": "(4012 rows affected)"
                    },
                    "metadata": {}
                },
                {
                    "output_type": "display_data",
                    "data": {
                        "text/html": "(29 rows affected)"
                    },
                    "metadata": {}
                },
                {
                    "output_type": "display_data",
                    "data": {
                        "text/html": "(10 rows affected)"
                    },
                    "metadata": {}
                },
                {
                    "output_type": "display_data",
                    "data": {
                        "text/html": "Total execution time: 00:00:00.216"
                    },
                    "metadata": {}
                },
                {
                    "output_type": "execute_result",
                    "metadata": {},
                    "execution_count": 3,
                    "data": {
                        "application/vnd.dataresource+json": {
                            "schema": {
                                "fields": [
                                    {
                                        "name": "OrderMonth"
                                    },
                                    {
                                        "name": "TotalSales"
                                    },
                                    {
                                        "name": "TotalPurchases"
                                    }
                                ]
                            },
                            "data": [
                                {
                                    "0": "2011-12-01",
                                    "1": "1019635.6747",
                                    "2": "7254.3006"
                                },
                                {
                                    "0": "2012-01-01",
                                    "1": "3622013.9215",
                                    "2": "220767.0679"
                                },
                                {
                                    "0": "2012-02-01",
                                    "1": "1141791.6116",
                                    "2": "7610.834"
                                },
                                {
                                    "0": "2012-03-01",
                                    "1": "2441839.1531",
                                    "2": "218226.7469"
                                },
                                {
                                    "0": "2012-04-01",
                                    "1": "1341386.2938",
                                    "2": "2496.2083"
                                },
                                {
                                    "0": "2012-05-01",
                                    "1": "2259194.0397",
                                    "2": "5744.3167"
                                },
                                {
                                    "0": "2012-06-01",
                                    "1": "3527254.7224",
                                    "2": "107628.3985"
                                },
                                {
                                    "0": "2012-07-01",
                                    "1": "2560587.9382",
                                    "2": "234.7418"
                                },
                                {
                                    "0": "2012-08-01",
                                    "1": "1534278.5579",
                                    "2": "14737.7394"
                                },
                                {
                                    "0": "2012-09-01",
                                    "1": "2903851.4579",
                                    "2": "3485.3792"
                                }
                            ]
                        },
                        "text/html": [
                            "<table>",
                            "<tr><th>OrderMonth</th><th>TotalSales</th><th>TotalPurchases</th></tr>",
                            "<tr><td>2011-12-01</td><td>1019635.6747</td><td>7254.3006</td></tr>",
                            "<tr><td>2012-01-01</td><td>3622013.9215</td><td>220767.0679</td></tr>",
                            "<tr><td>2012-02-01</td><td>1141791.6116</td><td>7610.834</td></tr>",
                            "<tr><td>2012-03-01</td><td>2441839.1531</td><td>218226.7469</td></tr>",
                            "<tr><td>2012-04-01</td><td>1341386.2938</td><td>2496.2083</td></tr>",
                            "<tr><td>2012-05-01</td><td>2259194.0397</td><td>5744.3167</td></tr>",
                            "<tr><td>2012-06-01</td><td>3527254.7224</td><td>107628.3985</td></tr>",
                            "<tr><td>2012-07-01</td><td>2560587.9382</td><td>234.7418</td></tr>",
                            "<tr><td>2012-08-01</td><td>1534278.5579</td><td>14737.7394</td></tr>",
                            "<tr><td>2012-09-01</td><td>2903851.4579</td><td>3485.3792</td></tr>",
                            "</table>"
                        ]
                    }
                }
            ],
            "execution_count": 3
        },
        {
            "cell_type": "markdown",
            "source": [
                "# UPDATE\r\n",
                "\r\n",
                "- Change data in an exisiting table in-place\r\n",
                "- Oppurtunity for query optimization\r\n",
                "- Allows us to build layers of logic without resorting to complex logic\r\n",
                "    - Build derived fields and logic based on other derived fields and logic"
            ],
            "metadata": {
                "azdata_cell_guid": "a484fa35-057d-46f6-9a7d-00dc0cd971cd"
            },
            "attachments": {}
        },
        {
            "cell_type": "code",
            "source": [
                "USE AW2019;\r\n",
                "\r\n",
                "-- Create Sales Orders Table\r\n",
                "DROP TABLE IF EXISTS #SalesOrders\r\n",
                "CREATE TABLE #SalesOrders (\r\n",
                "    SalesOrderID        INT,\r\n",
                "    OrderDate           DATE,\r\n",
                "    TaxAmt              MONEY,\r\n",
                "    Freight             MONEY,\r\n",
                "    TotalDue            MONEY,\r\n",
                "    TaxFreightPercent   FLOAT,\r\n",
                "    TaxFreightBucket    VARCHAR(32),\r\n",
                "    OrderAmtBucket      VARCHAR(32),\r\n",
                "    OrderCategory       VARCHAR(32),\r\n",
                "    OrderSubcategory    VARCHAR(32)\r\n",
                ")\r\n",
                "\r\n",
                "-- Insert Sales Order Data\r\n",
                "INSERT INTO #SalesOrders (\r\n",
                "    SalesOrderID,\r\n",
                "    OrderDate,\r\n",
                "    TaxAmt,\r\n",
                "    Freight,\r\n",
                "    TotalDue,\r\n",
                "    OrderCategory\r\n",
                ")\r\n",
                "\r\n",
                "SELECT\r\n",
                "    SalesOrderID,\r\n",
                "    OrderDate,\r\n",
                "    TaxAmt,\r\n",
                "    Freight,\r\n",
                "    TotalDue,\r\n",
                "    OrderCategory = 'Non-Holiday Order'\r\n",
                "FROM Sales.SalesOrderHeader\r\n",
                "WHERE YEAR (OrderDate) = 2013;\r\n",
                "\r\n",
                "\r\n",
                "-- Update Sales Order Data\r\n",
                "UPDATE #SalesOrders\r\n",
                "SET\r\n",
                "    TaxFreightPercent   =   (TaxAmt + Freight)/TotalDue,\r\n",
                "    OrderAmtBucket      =   CASE\r\n",
                "                                WHEN TotalDue < 100 THEN 'Small'\r\n",
                "                                WHEN TotalDue < 1000 THEN 'Medium'\r\n",
                "                                ELSE 'Large'\r\n",
                "\t                        END;    \r\n",
                "\r\n",
                "-- Update Sales Order Data Dependent on Previous Update\r\n",
                "UPDATE #SalesOrders\r\n",
                "SET    \r\n",
                "    TaxFreightBucket =      CASE\r\n",
                "                                WHEN TaxFreightPercent < 0.1 THEN 'Small'\r\n",
                "                                WHEN TaxFreightPercent < 0.2 THEN 'Medium'\r\n",
                "                                ELSE 'Large'\r\n",
                "                            END;\r\n",
                "\r\n",
                "-- Update Order Category\r\n",
                "UPDATE #SalesOrders\r\n",
                "SET OrderCategory = 'Holiday'\r\n",
                "FROM #SalesOrders\r\n",
                "WHERE DATEPART (QUARTER, OrderDate) = 4\r\n",
                "\r\n",
                "-- Update Order Subcategory\r\n",
                "UPDATE #SalesOrders\r\n",
                "SET OrderSubcategory = CONCAT (OrderCategory, ' - ', OrderAmtBucket)\r\n",
                "FROM #SalesOrders\r\n",
                "\r\n",
                "----------------------------------------\r\n",
                "SELECT TOP 10 *\r\n",
                "FROM #SalesOrders"
            ],
            "metadata": {
                "azdata_cell_guid": "18a2fee9-3a83-416e-9a88-4fc263f2f6a8",
                "language": "sql"
            },
            "outputs": [
                {
                    "output_type": "display_data",
                    "data": {
                        "text/html": "(14182 rows affected)"
                    },
                    "metadata": {}
                },
                {
                    "output_type": "display_data",
                    "data": {
                        "text/html": "(14182 rows affected)"
                    },
                    "metadata": {}
                },
                {
                    "output_type": "display_data",
                    "data": {
                        "text/html": "(14182 rows affected)"
                    },
                    "metadata": {}
                },
                {
                    "output_type": "display_data",
                    "data": {
                        "text/html": "(6121 rows affected)"
                    },
                    "metadata": {}
                },
                {
                    "output_type": "display_data",
                    "data": {
                        "text/html": "(14182 rows affected)"
                    },
                    "metadata": {}
                },
                {
                    "output_type": "display_data",
                    "data": {
                        "text/html": "(10 rows affected)"
                    },
                    "metadata": {}
                },
                {
                    "output_type": "display_data",
                    "data": {
                        "text/html": "Total execution time: 00:00:00.672"
                    },
                    "metadata": {}
                },
                {
                    "output_type": "execute_result",
                    "metadata": {},
                    "execution_count": 4,
                    "data": {
                        "application/vnd.dataresource+json": {
                            "schema": {
                                "fields": [
                                    {
                                        "name": "SalesOrderID"
                                    },
                                    {
                                        "name": "OrderDate"
                                    },
                                    {
                                        "name": "TaxAmt"
                                    },
                                    {
                                        "name": "Freight"
                                    },
                                    {
                                        "name": "TotalDue"
                                    },
                                    {
                                        "name": "TaxFreightPercent"
                                    },
                                    {
                                        "name": "TaxFreightBucket"
                                    },
                                    {
                                        "name": "OrderAmtBucket"
                                    },
                                    {
                                        "name": "OrderCategory"
                                    },
                                    {
                                        "name": "OrderSubcategory"
                                    }
                                ]
                            },
                            "data": [
                                {
                                    "0": "54413",
                                    "1": "2013-08-14",
                                    "2": "3.9184",
                                    "3": "1.2245",
                                    "4": "54.1229",
                                    "5": "0.095",
                                    "6": "Small",
                                    "7": "Small",
                                    "8": "Non-Holiday Order",
                                    "9": "Non-Holiday Order - Small"
                                },
                                {
                                    "0": "54414",
                                    "1": "2013-08-14",
                                    "2": "2.9832",
                                    "3": "0.9323",
                                    "4": "41.2055",
                                    "5": "0.095",
                                    "6": "Small",
                                    "7": "Small",
                                    "8": "Non-Holiday Order",
                                    "9": "Non-Holiday Order - Small"
                                },
                                {
                                    "0": "54415",
                                    "1": "2013-08-14",
                                    "2": "4.7168",
                                    "3": "1.474",
                                    "4": "65.1508",
                                    "5": "0.095",
                                    "6": "Small",
                                    "7": "Small",
                                    "8": "Non-Holiday Order",
                                    "9": "Non-Holiday Order - Small"
                                },
                                {
                                    "0": "54416",
                                    "1": "2013-08-14",
                                    "2": "144.676",
                                    "3": "45.2113",
                                    "4": "1998.3373",
                                    "5": "0.095",
                                    "6": "Small",
                                    "7": "Large",
                                    "8": "Non-Holiday Order",
                                    "9": "Non-Holiday Order - Large"
                                },
                                {
                                    "0": "54417",
                                    "1": "2013-08-14",
                                    "2": "190.3576",
                                    "3": "59.4868",
                                    "4": "2629.3144",
                                    "5": "0.095",
                                    "6": "Small",
                                    "7": "Large",
                                    "8": "Non-Holiday Order",
                                    "9": "Non-Holiday Order - Large"
                                },
                                {
                                    "0": "54418",
                                    "1": "2013-08-14",
                                    "2": "62.1064",
                                    "3": "19.4083",
                                    "4": "857.8447",
                                    "5": "0.095",
                                    "6": "Small",
                                    "7": "Medium",
                                    "8": "Non-Holiday Order",
                                    "9": "Non-Holiday Order - Medium"
                                },
                                {
                                    "0": "54419",
                                    "1": "2013-08-14",
                                    "2": "62.4656",
                                    "3": "19.5205",
                                    "4": "862.8061",
                                    "5": "0.095",
                                    "6": "Small",
                                    "7": "Medium",
                                    "8": "Non-Holiday Order",
                                    "9": "Non-Holiday Order - Medium"
                                },
                                {
                                    "0": "54420",
                                    "1": "2013-08-14",
                                    "2": "43.1992",
                                    "3": "13.4998",
                                    "4": "596.689",
                                    "5": "0.095",
                                    "6": "Small",
                                    "7": "Medium",
                                    "8": "Non-Holiday Order",
                                    "9": "Non-Holiday Order - Medium"
                                },
                                {
                                    "0": "54421",
                                    "1": "2013-08-14",
                                    "2": "48.6368",
                                    "3": "15.199",
                                    "4": "671.7958",
                                    "5": "0.095",
                                    "6": "Small",
                                    "7": "Medium",
                                    "8": "Non-Holiday Order",
                                    "9": "Non-Holiday Order - Medium"
                                },
                                {
                                    "0": "54422",
                                    "1": "2013-08-14",
                                    "2": "197.3056",
                                    "3": "61.658",
                                    "4": "2725.2836",
                                    "5": "0.095",
                                    "6": "Small",
                                    "7": "Large",
                                    "8": "Non-Holiday Order",
                                    "9": "Non-Holiday Order - Large"
                                }
                            ]
                        },
                        "text/html": [
                            "<table>",
                            "<tr><th>SalesOrderID</th><th>OrderDate</th><th>TaxAmt</th><th>Freight</th><th>TotalDue</th><th>TaxFreightPercent</th><th>TaxFreightBucket</th><th>OrderAmtBucket</th><th>OrderCategory</th><th>OrderSubcategory</th></tr>",
                            "<tr><td>54413</td><td>2013-08-14</td><td>3.9184</td><td>1.2245</td><td>54.1229</td><td>0.095</td><td>Small</td><td>Small</td><td>Non-Holiday Order</td><td>Non-Holiday Order - Small</td></tr>",
                            "<tr><td>54414</td><td>2013-08-14</td><td>2.9832</td><td>0.9323</td><td>41.2055</td><td>0.095</td><td>Small</td><td>Small</td><td>Non-Holiday Order</td><td>Non-Holiday Order - Small</td></tr>",
                            "<tr><td>54415</td><td>2013-08-14</td><td>4.7168</td><td>1.474</td><td>65.1508</td><td>0.095</td><td>Small</td><td>Small</td><td>Non-Holiday Order</td><td>Non-Holiday Order - Small</td></tr>",
                            "<tr><td>54416</td><td>2013-08-14</td><td>144.676</td><td>45.2113</td><td>1998.3373</td><td>0.095</td><td>Small</td><td>Large</td><td>Non-Holiday Order</td><td>Non-Holiday Order - Large</td></tr>",
                            "<tr><td>54417</td><td>2013-08-14</td><td>190.3576</td><td>59.4868</td><td>2629.3144</td><td>0.095</td><td>Small</td><td>Large</td><td>Non-Holiday Order</td><td>Non-Holiday Order - Large</td></tr>",
                            "<tr><td>54418</td><td>2013-08-14</td><td>62.1064</td><td>19.4083</td><td>857.8447</td><td>0.095</td><td>Small</td><td>Medium</td><td>Non-Holiday Order</td><td>Non-Holiday Order - Medium</td></tr>",
                            "<tr><td>54419</td><td>2013-08-14</td><td>62.4656</td><td>19.5205</td><td>862.8061</td><td>0.095</td><td>Small</td><td>Medium</td><td>Non-Holiday Order</td><td>Non-Holiday Order - Medium</td></tr>",
                            "<tr><td>54420</td><td>2013-08-14</td><td>43.1992</td><td>13.4998</td><td>596.689</td><td>0.095</td><td>Small</td><td>Medium</td><td>Non-Holiday Order</td><td>Non-Holiday Order - Medium</td></tr>",
                            "<tr><td>54421</td><td>2013-08-14</td><td>48.6368</td><td>15.199</td><td>671.7958</td><td>0.095</td><td>Small</td><td>Medium</td><td>Non-Holiday Order</td><td>Non-Holiday Order - Medium</td></tr>",
                            "<tr><td>54422</td><td>2013-08-14</td><td>197.3056</td><td>61.658</td><td>2725.2836</td><td>0.095</td><td>Small</td><td>Large</td><td>Non-Holiday Order</td><td>Non-Holiday Order - Large</td></tr>",
                            "</table>"
                        ]
                    }
                }
            ],
            "execution_count": 4
        },
        {
            "cell_type": "markdown",
            "source": [
                "# DELETE\r\n",
                "\r\n",
                "- Alows us to selectively remove rows from our data by applying criteria\r\n",
                "- Must be careful not to accidentally delete records"
            ],
            "metadata": {
                "azdata_cell_guid": "774da446-10aa-42c0-ba81-957f7b77b0e1"
            },
            "attachments": {}
        },
        {
            "cell_type": "code",
            "source": [
                "USE AW2019;\r\n",
                "\r\n",
                "-- Create Sales Table\r\n",
                "DROP TABLE IF EXISTS #Sales\r\n",
                "SELECT \r\n",
                "    OrderDate,\r\n",
                "\tOrderMonth = DATEFROMPARTS (YEAR (OrderDate), MONTH (OrderDate), 1),\r\n",
                "    TotalDue,\r\n",
                "\tOrderRank = ROW_NUMBER() OVER (PARTITION BY DATEFROMPARTS (YEAR (OrderDate), MONTH (OrderDate), 1) ORDER BY TotalDue DESC)\r\n",
                "INTO #Sales\r\n",
                "FROM Sales.SalesOrderHeader;\r\n",
                "\r\n",
                "-- Delete Records w/ Criteria\r\n",
                "DELETE FROM #Sales WHERE OrderRank > 10;\r\n",
                "\r\n",
                "-- Delete All Records (Similar to TRUNCATE)\r\n",
                "-- DELETE FROM #Sales\r\n",
                "\r\n",
                "----------------------------------------\r\n",
                "SELECT TOP 10*\r\n",
                "FROM #Sales;"
            ],
            "metadata": {
                "azdata_cell_guid": "12079b1e-1d6b-4233-a8cc-e368d06a634b",
                "language": "sql"
            },
            "outputs": [
                {
                    "output_type": "display_data",
                    "data": {
                        "text/html": "(31465 rows affected)"
                    },
                    "metadata": {}
                },
                {
                    "output_type": "display_data",
                    "data": {
                        "text/html": "(31085 rows affected)"
                    },
                    "metadata": {}
                },
                {
                    "output_type": "display_data",
                    "data": {
                        "text/html": "(10 rows affected)"
                    },
                    "metadata": {}
                },
                {
                    "output_type": "display_data",
                    "data": {
                        "text/html": "Total execution time: 00:00:00.124"
                    },
                    "metadata": {}
                },
                {
                    "output_type": "execute_result",
                    "metadata": {},
                    "execution_count": 5,
                    "data": {
                        "application/vnd.dataresource+json": {
                            "schema": {
                                "fields": [
                                    {
                                        "name": "OrderDate"
                                    },
                                    {
                                        "name": "OrderMonth"
                                    },
                                    {
                                        "name": "TotalDue"
                                    },
                                    {
                                        "name": "OrderRank"
                                    }
                                ]
                            },
                            "data": [
                                {
                                    "0": "2013-09-30 00:00:00.000",
                                    "1": "2013-09-01",
                                    "2": "137721.3102",
                                    "3": "1"
                                },
                                {
                                    "0": "2013-09-30 00:00:00.000",
                                    "1": "2013-09-01",
                                    "2": "126230.418",
                                    "3": "2"
                                },
                                {
                                    "0": "2013-09-30 00:00:00.000",
                                    "1": "2013-09-01",
                                    "2": "124249.4919",
                                    "3": "3"
                                },
                                {
                                    "0": "2013-09-30 00:00:00.000",
                                    "1": "2013-09-01",
                                    "2": "105403.8246",
                                    "3": "4"
                                },
                                {
                                    "0": "2013-09-30 00:00:00.000",
                                    "1": "2013-09-01",
                                    "2": "105120.5963",
                                    "3": "5"
                                },
                                {
                                    "0": "2013-09-30 00:00:00.000",
                                    "1": "2013-09-01",
                                    "2": "97248.3525",
                                    "3": "6"
                                },
                                {
                                    "0": "2013-09-30 00:00:00.000",
                                    "1": "2013-09-01",
                                    "2": "89661.1827",
                                    "3": "7"
                                },
                                {
                                    "0": "2013-09-30 00:00:00.000",
                                    "1": "2013-09-01",
                                    "2": "86193.0846",
                                    "3": "8"
                                },
                                {
                                    "0": "2013-09-30 00:00:00.000",
                                    "1": "2013-09-01",
                                    "2": "84763.4917",
                                    "3": "9"
                                },
                                {
                                    "0": "2013-09-30 00:00:00.000",
                                    "1": "2013-09-01",
                                    "2": "83688.5469",
                                    "3": "10"
                                }
                            ]
                        },
                        "text/html": [
                            "<table>",
                            "<tr><th>OrderDate</th><th>OrderMonth</th><th>TotalDue</th><th>OrderRank</th></tr>",
                            "<tr><td>2013-09-30 00:00:00.000</td><td>2013-09-01</td><td>137721.3102</td><td>1</td></tr>",
                            "<tr><td>2013-09-30 00:00:00.000</td><td>2013-09-01</td><td>126230.418</td><td>2</td></tr>",
                            "<tr><td>2013-09-30 00:00:00.000</td><td>2013-09-01</td><td>124249.4919</td><td>3</td></tr>",
                            "<tr><td>2013-09-30 00:00:00.000</td><td>2013-09-01</td><td>105403.8246</td><td>4</td></tr>",
                            "<tr><td>2013-09-30 00:00:00.000</td><td>2013-09-01</td><td>105120.5963</td><td>5</td></tr>",
                            "<tr><td>2013-09-30 00:00:00.000</td><td>2013-09-01</td><td>97248.3525</td><td>6</td></tr>",
                            "<tr><td>2013-09-30 00:00:00.000</td><td>2013-09-01</td><td>89661.1827</td><td>7</td></tr>",
                            "<tr><td>2013-09-30 00:00:00.000</td><td>2013-09-01</td><td>86193.0846</td><td>8</td></tr>",
                            "<tr><td>2013-09-30 00:00:00.000</td><td>2013-09-01</td><td>84763.4917</td><td>9</td></tr>",
                            "<tr><td>2013-09-30 00:00:00.000</td><td>2013-09-01</td><td>83688.5469</td><td>10</td></tr>",
                            "</table>"
                        ]
                    }
                }
            ],
            "execution_count": 5
        }
    ]
}