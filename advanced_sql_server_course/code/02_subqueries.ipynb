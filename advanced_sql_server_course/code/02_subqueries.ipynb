{
    "metadata": {
        "kernelspec": {
            "name": "SQL",
            "display_name": "SQL",
            "language": "sql"
        },
        "language_info": {
            "name": "sql",
            "version": ""
        }
    },
    "nbformat_minor": 2,
    "nbformat": 4,
    "cells": [
        {
            "cell_type": "markdown",
            "source": [
                "# Subqueries Introduction\r\n",
                "- Subqueries allow us to break more complex queries into parts\r\n",
                "\t- Best suited for straightforward two-step queries\r\n",
                "- Consists of a nested inner query (temp table) referenced by outer query\r\n",
                "\t- The inner query can be referenced like a table or view"
            ],
            "metadata": {
                "azdata_cell_guid": "84198b84-4dea-478e-b7a3-32b0586dc093"
            },
            "attachments": {}
        },
        {
            "cell_type": "code",
            "source": [
                "USE AW2019;\r\n",
                "\r\n",
                "SELECT TOP 10\r\n",
                "    PurchaseOrderID,\r\n",
                "    VendorID,\r\n",
                "    OrderDate,\r\n",
                "    TaxAmt,\r\n",
                "    Freight,\r\n",
                "    TotalDue,\r\n",
                "    TotalDueRank\r\n",
                "FROM (\r\n",
                "    SELECT\r\n",
                "        PurchaseOrderID,\r\n",
                "        VendorID,\r\n",
                "        OrderDate,\r\n",
                "        TaxAmt,\r\n",
                "        Freight,\r\n",
                "        TotalDue,\r\n",
                "        TotalDueRank = ROW_NUMBER () OVER (PARTITION BY VendorID ORDER BY TotalDue DESC)\r\n",
                "    FROM Purchasing.PurchaseOrderHeader\r\n",
                ") AS Rank\r\n",
                "WHERE TotalDueRank <= 3;"
            ],
            "metadata": {
                "azdata_cell_guid": "5d37aeb2-ce6c-4785-82fb-d5cce0df0920",
                "language": "sql"
            },
            "outputs": [
                {
                    "output_type": "display_data",
                    "data": {
                        "text/html": "(10 rows affected)"
                    },
                    "metadata": {}
                },
                {
                    "output_type": "display_data",
                    "data": {
                        "text/html": "Total execution time: 00:00:00.070"
                    },
                    "metadata": {}
                },
                {
                    "output_type": "execute_result",
                    "metadata": {},
                    "execution_count": 1,
                    "data": {
                        "application/vnd.dataresource+json": {
                            "schema": {
                                "fields": [
                                    {
                                        "name": "PurchaseOrderID"
                                    },
                                    {
                                        "name": "VendorID"
                                    },
                                    {
                                        "name": "OrderDate"
                                    },
                                    {
                                        "name": "TaxAmt"
                                    },
                                    {
                                        "name": "Freight"
                                    },
                                    {
                                        "name": "TotalDue"
                                    },
                                    {
                                        "name": "TotalDueRank"
                                    }
                                ]
                            },
                            "data": [
                                {
                                    "0": "325",
                                    "1": "1492",
                                    "2": "2013-04-25 00:00:00.000",
                                    "3": "119.8008",
                                    "4": "37.4378",
                                    "5": "1654.7486",
                                    "6": "1"
                                },
                                {
                                    "0": "1727",
                                    "1": "1492",
                                    "2": "2014-01-16 00:00:00.000",
                                    "3": "61.9164",
                                    "4": "19.3489",
                                    "5": "855.2203",
                                    "6": "2"
                                },
                                {
                                    "0": "2517",
                                    "1": "1492",
                                    "2": "2014-04-07 00:00:00.000",
                                    "3": "61.9164",
                                    "4": "19.3489",
                                    "5": "855.2203",
                                    "6": "3"
                                },
                                {
                                    "0": "1879",
                                    "1": "1494",
                                    "2": "2014-02-04 00:00:00.000",
                                    "3": "707.784",
                                    "4": "221.1825",
                                    "5": "9776.2665",
                                    "6": "1"
                                },
                                {
                                    "0": "1958",
                                    "1": "1494",
                                    "2": "2014-02-11 00:00:00.000",
                                    "3": "707.784",
                                    "4": "221.1825",
                                    "5": "9776.2665",
                                    "6": "2"
                                },
                                {
                                    "0": "1800",
                                    "1": "1494",
                                    "2": "2014-01-23 00:00:00.000",
                                    "3": "707.784",
                                    "4": "221.1825",
                                    "5": "9776.2665",
                                    "6": "3"
                                },
                                {
                                    "0": "925",
                                    "1": "1496",
                                    "2": "2013-09-17 00:00:00.000",
                                    "3": "165.5413",
                                    "4": "51.7317",
                                    "5": "2286.5395",
                                    "6": "1"
                                },
                                {
                                    "0": "1325",
                                    "1": "1496",
                                    "2": "2013-12-04 00:00:00.000",
                                    "3": "165.5413",
                                    "4": "51.7317",
                                    "5": "2286.5395",
                                    "6": "2"
                                },
                                {
                                    "0": "397",
                                    "1": "1496",
                                    "2": "2013-06-25 00:00:00.000",
                                    "3": "67.1832",
                                    "4": "20.9948",
                                    "5": "927.968",
                                    "6": "3"
                                },
                                {
                                    "0": "2185",
                                    "1": "1498",
                                    "2": "2014-03-04 00:00:00.000",
                                    "3": "2116.422",
                                    "4": "661.3819",
                                    "5": "29233.0789",
                                    "6": "1"
                                }
                            ]
                        },
                        "text/html": [
                            "<table>",
                            "<tr><th>PurchaseOrderID</th><th>VendorID</th><th>OrderDate</th><th>TaxAmt</th><th>Freight</th><th>TotalDue</th><th>TotalDueRank</th></tr>",
                            "<tr><td>325</td><td>1492</td><td>2013-04-25 00:00:00.000</td><td>119.8008</td><td>37.4378</td><td>1654.7486</td><td>1</td></tr>",
                            "<tr><td>1727</td><td>1492</td><td>2014-01-16 00:00:00.000</td><td>61.9164</td><td>19.3489</td><td>855.2203</td><td>2</td></tr>",
                            "<tr><td>2517</td><td>1492</td><td>2014-04-07 00:00:00.000</td><td>61.9164</td><td>19.3489</td><td>855.2203</td><td>3</td></tr>",
                            "<tr><td>1879</td><td>1494</td><td>2014-02-04 00:00:00.000</td><td>707.784</td><td>221.1825</td><td>9776.2665</td><td>1</td></tr>",
                            "<tr><td>1958</td><td>1494</td><td>2014-02-11 00:00:00.000</td><td>707.784</td><td>221.1825</td><td>9776.2665</td><td>2</td></tr>",
                            "<tr><td>1800</td><td>1494</td><td>2014-01-23 00:00:00.000</td><td>707.784</td><td>221.1825</td><td>9776.2665</td><td>3</td></tr>",
                            "<tr><td>925</td><td>1496</td><td>2013-09-17 00:00:00.000</td><td>165.5413</td><td>51.7317</td><td>2286.5395</td><td>1</td></tr>",
                            "<tr><td>1325</td><td>1496</td><td>2013-12-04 00:00:00.000</td><td>165.5413</td><td>51.7317</td><td>2286.5395</td><td>2</td></tr>",
                            "<tr><td>397</td><td>1496</td><td>2013-06-25 00:00:00.000</td><td>67.1832</td><td>20.9948</td><td>927.968</td><td>3</td></tr>",
                            "<tr><td>2185</td><td>1498</td><td>2014-03-04 00:00:00.000</td><td>2116.422</td><td>661.3819</td><td>29233.0789</td><td>1</td></tr>",
                            "</table>"
                        ]
                    }
                }
            ],
            "execution_count": 1
        },
        {
            "cell_type": "code",
            "source": [
                "USE AW2019;\r\n",
                "\r\n",
                "SELECT TOP 10\r\n",
                "    PurchaseOrderID,\r\n",
                "    VendorID,\r\n",
                "    OrderDate,\r\n",
                "    TaxAmt,\r\n",
                "    Freight,\r\n",
                "    TotalDue,\r\n",
                "    TotalDueRank\r\n",
                "FROM (\r\n",
                "    SELECT\r\n",
                "        PurchaseOrderID,\r\n",
                "        VendorID,\r\n",
                "        OrderDate,\r\n",
                "        TaxAmt,\r\n",
                "        Freight,\r\n",
                "        TotalDue,\r\n",
                "        TotalDueRank = DENSE_RANK () OVER (PARTITION BY VendorID ORDER BY TotalDue DESC)\r\n",
                "    FROM Purchasing.PurchaseOrderHeader\r\n",
                ") AS Rank\r\n",
                "WHERE TotalDueRank <= 3;"
            ],
            "metadata": {
                "azdata_cell_guid": "e1dae5b3-8df9-4e9a-b1fd-3f00c00be18a",
                "language": "sql"
            },
            "outputs": [
                {
                    "output_type": "display_data",
                    "data": {
                        "text/html": "(10 rows affected)"
                    },
                    "metadata": {}
                },
                {
                    "output_type": "display_data",
                    "data": {
                        "text/html": "Total execution time: 00:00:00.037"
                    },
                    "metadata": {}
                },
                {
                    "output_type": "execute_result",
                    "metadata": {},
                    "execution_count": 2,
                    "data": {
                        "application/vnd.dataresource+json": {
                            "schema": {
                                "fields": [
                                    {
                                        "name": "PurchaseOrderID"
                                    },
                                    {
                                        "name": "VendorID"
                                    },
                                    {
                                        "name": "OrderDate"
                                    },
                                    {
                                        "name": "TaxAmt"
                                    },
                                    {
                                        "name": "Freight"
                                    },
                                    {
                                        "name": "TotalDue"
                                    },
                                    {
                                        "name": "TotalDueRank"
                                    }
                                ]
                            },
                            "data": [
                                {
                                    "0": "325",
                                    "1": "1492",
                                    "2": "2013-04-25 00:00:00.000",
                                    "3": "119.8008",
                                    "4": "37.4378",
                                    "5": "1654.7486",
                                    "6": "1"
                                },
                                {
                                    "0": "1727",
                                    "1": "1492",
                                    "2": "2014-01-16 00:00:00.000",
                                    "3": "61.9164",
                                    "4": "19.3489",
                                    "5": "855.2203",
                                    "6": "2"
                                },
                                {
                                    "0": "2517",
                                    "1": "1492",
                                    "2": "2014-04-07 00:00:00.000",
                                    "3": "61.9164",
                                    "4": "19.3489",
                                    "5": "855.2203",
                                    "6": "2"
                                },
                                {
                                    "0": "3307",
                                    "1": "1492",
                                    "2": "2014-06-13 00:00:00.000",
                                    "3": "61.9164",
                                    "4": "19.3489",
                                    "5": "855.2203",
                                    "6": "2"
                                },
                                {
                                    "0": "167",
                                    "1": "1492",
                                    "2": "2012-05-30 00:00:00.000",
                                    "3": "56.8764",
                                    "4": "17.7739",
                                    "5": "785.6053",
                                    "6": "3"
                                },
                                {
                                    "0": "1879",
                                    "1": "1494",
                                    "2": "2014-02-04 00:00:00.000",
                                    "3": "707.784",
                                    "4": "221.1825",
                                    "5": "9776.2665",
                                    "6": "1"
                                },
                                {
                                    "0": "1958",
                                    "1": "1494",
                                    "2": "2014-02-11 00:00:00.000",
                                    "3": "707.784",
                                    "4": "221.1825",
                                    "5": "9776.2665",
                                    "6": "1"
                                },
                                {
                                    "0": "1800",
                                    "1": "1494",
                                    "2": "2014-01-23 00:00:00.000",
                                    "3": "707.784",
                                    "4": "221.1825",
                                    "5": "9776.2665",
                                    "6": "1"
                                },
                                {
                                    "0": "1721",
                                    "1": "1494",
                                    "2": "2014-01-16 00:00:00.000",
                                    "3": "707.784",
                                    "4": "221.1825",
                                    "5": "9776.2665",
                                    "6": "1"
                                },
                                {
                                    "0": "2116",
                                    "1": "1494",
                                    "2": "2014-02-26 00:00:00.000",
                                    "3": "707.784",
                                    "4": "221.1825",
                                    "5": "9776.2665",
                                    "6": "1"
                                }
                            ]
                        },
                        "text/html": [
                            "<table>",
                            "<tr><th>PurchaseOrderID</th><th>VendorID</th><th>OrderDate</th><th>TaxAmt</th><th>Freight</th><th>TotalDue</th><th>TotalDueRank</th></tr>",
                            "<tr><td>325</td><td>1492</td><td>2013-04-25 00:00:00.000</td><td>119.8008</td><td>37.4378</td><td>1654.7486</td><td>1</td></tr>",
                            "<tr><td>1727</td><td>1492</td><td>2014-01-16 00:00:00.000</td><td>61.9164</td><td>19.3489</td><td>855.2203</td><td>2</td></tr>",
                            "<tr><td>2517</td><td>1492</td><td>2014-04-07 00:00:00.000</td><td>61.9164</td><td>19.3489</td><td>855.2203</td><td>2</td></tr>",
                            "<tr><td>3307</td><td>1492</td><td>2014-06-13 00:00:00.000</td><td>61.9164</td><td>19.3489</td><td>855.2203</td><td>2</td></tr>",
                            "<tr><td>167</td><td>1492</td><td>2012-05-30 00:00:00.000</td><td>56.8764</td><td>17.7739</td><td>785.6053</td><td>3</td></tr>",
                            "<tr><td>1879</td><td>1494</td><td>2014-02-04 00:00:00.000</td><td>707.784</td><td>221.1825</td><td>9776.2665</td><td>1</td></tr>",
                            "<tr><td>1958</td><td>1494</td><td>2014-02-11 00:00:00.000</td><td>707.784</td><td>221.1825</td><td>9776.2665</td><td>1</td></tr>",
                            "<tr><td>1800</td><td>1494</td><td>2014-01-23 00:00:00.000</td><td>707.784</td><td>221.1825</td><td>9776.2665</td><td>1</td></tr>",
                            "<tr><td>1721</td><td>1494</td><td>2014-01-16 00:00:00.000</td><td>707.784</td><td>221.1825</td><td>9776.2665</td><td>1</td></tr>",
                            "<tr><td>2116</td><td>1494</td><td>2014-02-26 00:00:00.000</td><td>707.784</td><td>221.1825</td><td>9776.2665</td><td>1</td></tr>",
                            "</table>"
                        ]
                    }
                }
            ],
            "execution_count": 2
        },
        {
            "cell_type": "markdown",
            "source": [
                "# Scalar Subqueries\r\n",
                "- Subqueries that return a single value\r\n",
                "- Useful when comparing values in a result set to a scalar value\r\n",
                "\t- Using aggregate calculations in the WHERE clause for filtering"
            ],
            "metadata": {
                "azdata_cell_guid": "a190e874-9acf-49b3-bb79-fd2566792167"
            },
            "attachments": {}
        },
        {
            "cell_type": "code",
            "source": [
                "USE AW2019;\r\n",
                "\r\n",
                "SELECT TOP 10\r\n",
                "    BusinessEntityID,\r\n",
                "    JobTitle,\r\n",
                "    VacationHours,\r\n",
                "    MaxVacationHours = (SELECT MAX(VacationHours) FROM HumanResources.Employee),\r\n",
                "    PercentOfMaxVacationHours = VacationHours * 1.0 / (SELECT MAX(VacationHours) FROM HumanResources.Employee)\r\n",
                "FROM HumanResources.Employee\r\n",
                "WHERE VacationHours * 1.0 / (SELECT MAX(VacationHours) FROM HumanResources.Employee) >= 0.8;"
            ],
            "metadata": {
                "azdata_cell_guid": "4a5304f9-c34b-4858-9dd8-3825307d2f44",
                "language": "sql"
            },
            "outputs": [
                {
                    "output_type": "display_data",
                    "data": {
                        "text/html": "(10 rows affected)"
                    },
                    "metadata": {}
                },
                {
                    "output_type": "display_data",
                    "data": {
                        "text/html": "Total execution time: 00:00:00.014"
                    },
                    "metadata": {}
                },
                {
                    "output_type": "execute_result",
                    "metadata": {},
                    "execution_count": 3,
                    "data": {
                        "application/vnd.dataresource+json": {
                            "schema": {
                                "fields": [
                                    {
                                        "name": "BusinessEntityID"
                                    },
                                    {
                                        "name": "JobTitle"
                                    },
                                    {
                                        "name": "VacationHours"
                                    },
                                    {
                                        "name": "MaxVacationHours"
                                    },
                                    {
                                        "name": "PercentOfMaxVacationHours"
                                    }
                                ]
                            },
                            "data": [
                                {
                                    "0": "1",
                                    "1": "Chief Executive Officer",
                                    "2": "99",
                                    "3": "99",
                                    "4": "1.0000000"
                                },
                                {
                                    "0": "27",
                                    "1": "Production Supervisor - WC60",
                                    "2": "80",
                                    "3": "99",
                                    "4": "0.8080808"
                                },
                                {
                                    "0": "40",
                                    "1": "Production Supervisor - WC60",
                                    "2": "82",
                                    "3": "99",
                                    "4": "0.8282828"
                                },
                                {
                                    "0": "48",
                                    "1": "Production Technician - WC10",
                                    "2": "83",
                                    "3": "99",
                                    "4": "0.8383838"
                                },
                                {
                                    "0": "49",
                                    "1": "Production Technician - WC10",
                                    "2": "88",
                                    "3": "99",
                                    "4": "0.8888888"
                                },
                                {
                                    "0": "50",
                                    "1": "Production Technician - WC10",
                                    "2": "84",
                                    "3": "99",
                                    "4": "0.8484848"
                                },
                                {
                                    "0": "51",
                                    "1": "Production Technician - WC10",
                                    "2": "85",
                                    "3": "99",
                                    "4": "0.8585858"
                                },
                                {
                                    "0": "52",
                                    "1": "Production Technician - WC10",
                                    "2": "86",
                                    "3": "99",
                                    "4": "0.8686868"
                                },
                                {
                                    "0": "53",
                                    "1": "Production Technician - WC10",
                                    "2": "87",
                                    "3": "99",
                                    "4": "0.8787878"
                                },
                                {
                                    "0": "54",
                                    "1": "Production Technician - WC10",
                                    "2": "89",
                                    "3": "99",
                                    "4": "0.8989898"
                                }
                            ]
                        },
                        "text/html": [
                            "<table>",
                            "<tr><th>BusinessEntityID</th><th>JobTitle</th><th>VacationHours</th><th>MaxVacationHours</th><th>PercentOfMaxVacationHours</th></tr>",
                            "<tr><td>1</td><td>Chief Executive Officer</td><td>99</td><td>99</td><td>1.0000000</td></tr>",
                            "<tr><td>27</td><td>Production Supervisor - WC60</td><td>80</td><td>99</td><td>0.8080808</td></tr>",
                            "<tr><td>40</td><td>Production Supervisor - WC60</td><td>82</td><td>99</td><td>0.8282828</td></tr>",
                            "<tr><td>48</td><td>Production Technician - WC10</td><td>83</td><td>99</td><td>0.8383838</td></tr>",
                            "<tr><td>49</td><td>Production Technician - WC10</td><td>88</td><td>99</td><td>0.8888888</td></tr>",
                            "<tr><td>50</td><td>Production Technician - WC10</td><td>84</td><td>99</td><td>0.8484848</td></tr>",
                            "<tr><td>51</td><td>Production Technician - WC10</td><td>85</td><td>99</td><td>0.8585858</td></tr>",
                            "<tr><td>52</td><td>Production Technician - WC10</td><td>86</td><td>99</td><td>0.8686868</td></tr>",
                            "<tr><td>53</td><td>Production Technician - WC10</td><td>87</td><td>99</td><td>0.8787878</td></tr>",
                            "<tr><td>54</td><td>Production Technician - WC10</td><td>89</td><td>99</td><td>0.8989898</td></tr>",
                            "</table>"
                        ]
                    }
                }
            ],
            "execution_count": 3
        },
        {
            "cell_type": "markdown",
            "source": [
                "# Correlated Subqueries\r\n",
                "- Subqueries that run once for each record in the main/outer query\r\n",
                "- Return a scalar output for each of those records\r\n",
                "- Can be used in either the SELECT or WHERE clause"
            ],
            "metadata": {
                "azdata_cell_guid": "0e61edf8-bef6-4b97-abcf-0de73af67ddc"
            },
            "attachments": {}
        },
        {
            "cell_type": "code",
            "source": [
                "USE AW2019;\r\n",
                "\r\n",
                "SELECT TOP 10\r\n",
                "    H.PurchaseOrderID,\r\n",
                "    H.VendorID,\r\n",
                "    H.OrderDate,\r\n",
                "    H.TotalDue,\r\n",
                "    NonRejectedItems    = (\r\n",
                "        SELECT COUNT (*)\r\n",
                "        FROM Purchasing.PurchaseOrderDetail AS D\r\n",
                "        WHERE D.PurchaseOrderID = H.PurchaseOrderID AND D.RejectedQty = 0\r\n",
                "    ),\r\n",
                "    MostExpensiveItem   = (\r\n",
                "        SELECT MAX (UnitPrice)\r\n",
                "        FROM Purchasing.PurchaseOrderDetail AS D\r\n",
                "        WHERE D.PurchaseOrderID = H.PurchaseOrderID\r\n",
                "    )\r\n",
                "FROM Purchasing.PurchaseOrderHeader AS H"
            ],
            "metadata": {
                "azdata_cell_guid": "847eb00a-a437-44cf-a467-0eb18c297cd3",
                "language": "sql"
            },
            "outputs": [
                {
                    "output_type": "display_data",
                    "data": {
                        "text/html": "(10 rows affected)"
                    },
                    "metadata": {}
                },
                {
                    "output_type": "display_data",
                    "data": {
                        "text/html": "Total execution time: 00:00:00.013"
                    },
                    "metadata": {}
                },
                {
                    "output_type": "execute_result",
                    "metadata": {},
                    "execution_count": 4,
                    "data": {
                        "application/vnd.dataresource+json": {
                            "schema": {
                                "fields": [
                                    {
                                        "name": "PurchaseOrderID"
                                    },
                                    {
                                        "name": "VendorID"
                                    },
                                    {
                                        "name": "OrderDate"
                                    },
                                    {
                                        "name": "TotalDue"
                                    },
                                    {
                                        "name": "NonRejectedItems"
                                    },
                                    {
                                        "name": "MostExpensiveItem"
                                    }
                                ]
                            },
                            "data": [
                                {
                                    "0": "1",
                                    "1": "1580",
                                    "2": "2011-04-16 00:00:00.000",
                                    "3": "222.1492",
                                    "4": "1",
                                    "5": "50.26"
                                },
                                {
                                    "0": "2",
                                    "1": "1496",
                                    "2": "2011-04-16 00:00:00.000",
                                    "3": "300.6721",
                                    "4": "2",
                                    "5": "45.5805"
                                },
                                {
                                    "0": "3",
                                    "1": "1494",
                                    "2": "2011-04-16 00:00:00.000",
                                    "3": "9776.2665",
                                    "4": "1",
                                    "5": "16.086"
                                },
                                {
                                    "0": "4",
                                    "1": "1650",
                                    "2": "2011-04-16 00:00:00.000",
                                    "3": "189.0395",
                                    "4": "0",
                                    "5": "57.0255"
                                },
                                {
                                    "0": "5",
                                    "1": "1654",
                                    "2": "2011-04-30 00:00:00.000",
                                    "3": "22539.0165",
                                    "4": "1",
                                    "5": "37.086"
                                },
                                {
                                    "0": "6",
                                    "1": "1664",
                                    "2": "2011-04-30 00:00:00.000",
                                    "3": "16164.0229",
                                    "4": "1",
                                    "5": "26.5965"
                                },
                                {
                                    "0": "7",
                                    "1": "1678",
                                    "2": "2011-04-30 00:00:00.000",
                                    "3": "64847.5328",
                                    "4": "3",
                                    "5": "46.0635"
                                },
                                {
                                    "0": "8",
                                    "1": "1616",
                                    "2": "2011-04-30 00:00:00.000",
                                    "3": "766.1827",
                                    "4": "5",
                                    "5": "49.644"
                                },
                                {
                                    "0": "9",
                                    "1": "1492",
                                    "2": "2011-12-14 00:00:00.000",
                                    "3": "767.0528",
                                    "4": "5",
                                    "5": "49.6965"
                                },
                                {
                                    "0": "10",
                                    "1": "1602",
                                    "2": "2011-12-14 00:00:00.000",
                                    "3": "1984.6192",
                                    "4": "3",
                                    "5": "47.4705"
                                }
                            ]
                        },
                        "text/html": [
                            "<table>",
                            "<tr><th>PurchaseOrderID</th><th>VendorID</th><th>OrderDate</th><th>TotalDue</th><th>NonRejectedItems</th><th>MostExpensiveItem</th></tr>",
                            "<tr><td>1</td><td>1580</td><td>2011-04-16 00:00:00.000</td><td>222.1492</td><td>1</td><td>50.26</td></tr>",
                            "<tr><td>2</td><td>1496</td><td>2011-04-16 00:00:00.000</td><td>300.6721</td><td>2</td><td>45.5805</td></tr>",
                            "<tr><td>3</td><td>1494</td><td>2011-04-16 00:00:00.000</td><td>9776.2665</td><td>1</td><td>16.086</td></tr>",
                            "<tr><td>4</td><td>1650</td><td>2011-04-16 00:00:00.000</td><td>189.0395</td><td>0</td><td>57.0255</td></tr>",
                            "<tr><td>5</td><td>1654</td><td>2011-04-30 00:00:00.000</td><td>22539.0165</td><td>1</td><td>37.086</td></tr>",
                            "<tr><td>6</td><td>1664</td><td>2011-04-30 00:00:00.000</td><td>16164.0229</td><td>1</td><td>26.5965</td></tr>",
                            "<tr><td>7</td><td>1678</td><td>2011-04-30 00:00:00.000</td><td>64847.5328</td><td>3</td><td>46.0635</td></tr>",
                            "<tr><td>8</td><td>1616</td><td>2011-04-30 00:00:00.000</td><td>766.1827</td><td>5</td><td>49.644</td></tr>",
                            "<tr><td>9</td><td>1492</td><td>2011-12-14 00:00:00.000</td><td>767.0528</td><td>5</td><td>49.6965</td></tr>",
                            "<tr><td>10</td><td>1602</td><td>2011-12-14 00:00:00.000</td><td>1984.6192</td><td>3</td><td>47.4705</td></tr>",
                            "</table>"
                        ]
                    }
                }
            ],
            "execution_count": 4
        },
        {
            "cell_type": "markdown",
            "source": [
                "# EXISTS and NOT EXISTS Operators in Correlated Subqueries\r\n",
                "- Checks if there is matching record (EXISTS) or not (NOT EXISTS)\r\n",
                "- Does not add any fields to our result set, simply returns records where the logic is true\r\n",
                "- Similar to joins, but better suited when there is a one-to-many relationship\r\n",
                "\t- When we need to check for a match from a secondary table and we only want to return a single record from the one side"
            ],
            "metadata": {
                "language": "sql",
                "azdata_cell_guid": "99068d35-ac4e-453a-a803-bc5974f4f972"
            },
            "attachments": {}
        },
        {
            "cell_type": "code",
            "source": [
                "USE AW2019;\r\n",
                "\r\n",
                "-- EXISTS\r\n",
                "SELECT TOP 10\r\n",
                "    H.PurchaseOrderID,\r\n",
                "    H.OrderDate,\r\n",
                "    H.SubTotal,\r\n",
                "    H.TaxAmt\r\n",
                "FROM Purchasing.PurchaseOrderHeader AS H\r\n",
                "WHERE EXISTS (\r\n",
                "    SELECT *\r\n",
                "    FROM Purchasing.PurchaseOrderDetail AS D\r\n",
                "    WHERE D.PurchaseOrderID = H.PurchaseOrderID AND D.OrderQty > 500 AND D.UnitPrice > 50\r\n",
                ")\r\n",
                "ORDER BY H.PurchaseOrderID;"
            ],
            "metadata": {
                "language": "sql",
                "azdata_cell_guid": "b12ff85d-c996-4194-883a-86f99749952a"
            },
            "outputs": [
                {
                    "output_type": "display_data",
                    "data": {
                        "text/html": "(10 rows affected)"
                    },
                    "metadata": {}
                },
                {
                    "output_type": "display_data",
                    "data": {
                        "text/html": "Total execution time: 00:00:00.032"
                    },
                    "metadata": {}
                },
                {
                    "output_type": "execute_result",
                    "metadata": {},
                    "execution_count": 5,
                    "data": {
                        "application/vnd.dataresource+json": {
                            "schema": {
                                "fields": [
                                    {
                                        "name": "PurchaseOrderID"
                                    },
                                    {
                                        "name": "OrderDate"
                                    },
                                    {
                                        "name": "SubTotal"
                                    },
                                    {
                                        "name": "TaxAmt"
                                    }
                                ]
                            },
                            "data": [
                                {
                                    "0": "12",
                                    "1": "2011-12-14 00:00:00.000",
                                    "2": "34644.225",
                                    "3": "2771.538"
                                },
                                {
                                    "0": "23",
                                    "1": "2011-12-15 00:00:00.000",
                                    "2": "37312.275",
                                    "3": "2984.982"
                                },
                                {
                                    "0": "42",
                                    "1": "2012-01-16 00:00:00.000",
                                    "2": "34644.225",
                                    "3": "2771.538"
                                },
                                {
                                    "0": "69",
                                    "1": "2012-01-25 00:00:00.000",
                                    "2": "91117.95",
                                    "3": "7289.436"
                                },
                                {
                                    "0": "91",
                                    "1": "2012-02-23 00:00:00.000",
                                    "2": "34644.225",
                                    "3": "2771.538"
                                },
                                {
                                    "0": "102",
                                    "1": "2012-03-08 00:00:00.000",
                                    "2": "35394.975",
                                    "3": "2831.598"
                                },
                                {
                                    "0": "121",
                                    "1": "2012-03-09 00:00:00.000",
                                    "2": "34644.225",
                                    "3": "2771.538"
                                },
                                {
                                    "0": "148",
                                    "1": "2012-04-11 00:00:00.000",
                                    "2": "91117.95",
                                    "3": "7289.436"
                                },
                                {
                                    "0": "170",
                                    "1": "2012-05-30 00:00:00.000",
                                    "2": "34644.225",
                                    "3": "2771.538"
                                },
                                {
                                    "0": "200",
                                    "1": "2012-06-25 00:00:00.000",
                                    "2": "34644.225",
                                    "3": "2771.538"
                                }
                            ]
                        },
                        "text/html": [
                            "<table>",
                            "<tr><th>PurchaseOrderID</th><th>OrderDate</th><th>SubTotal</th><th>TaxAmt</th></tr>",
                            "<tr><td>12</td><td>2011-12-14 00:00:00.000</td><td>34644.225</td><td>2771.538</td></tr>",
                            "<tr><td>23</td><td>2011-12-15 00:00:00.000</td><td>37312.275</td><td>2984.982</td></tr>",
                            "<tr><td>42</td><td>2012-01-16 00:00:00.000</td><td>34644.225</td><td>2771.538</td></tr>",
                            "<tr><td>69</td><td>2012-01-25 00:00:00.000</td><td>91117.95</td><td>7289.436</td></tr>",
                            "<tr><td>91</td><td>2012-02-23 00:00:00.000</td><td>34644.225</td><td>2771.538</td></tr>",
                            "<tr><td>102</td><td>2012-03-08 00:00:00.000</td><td>35394.975</td><td>2831.598</td></tr>",
                            "<tr><td>121</td><td>2012-03-09 00:00:00.000</td><td>34644.225</td><td>2771.538</td></tr>",
                            "<tr><td>148</td><td>2012-04-11 00:00:00.000</td><td>91117.95</td><td>7289.436</td></tr>",
                            "<tr><td>170</td><td>2012-05-30 00:00:00.000</td><td>34644.225</td><td>2771.538</td></tr>",
                            "<tr><td>200</td><td>2012-06-25 00:00:00.000</td><td>34644.225</td><td>2771.538</td></tr>",
                            "</table>"
                        ]
                    }
                }
            ],
            "execution_count": 5
        },
        {
            "cell_type": "code",
            "source": [
                "USE AW2019;\r\n",
                "\r\n",
                "-- NOT EXISTS\r\n",
                "SELECT TOP 10\r\n",
                "    H.PurchaseOrderID,\r\n",
                "    H.OrderDate,\r\n",
                "    H.SubTotal,\r\n",
                "    H.TaxAmt\r\n",
                "FROM Purchasing.PurchaseOrderHeader AS H\r\n",
                "WHERE NOT EXISTS (\r\n",
                "    SELECT *\r\n",
                "    FROM Purchasing.PurchaseOrderDetail AS D\r\n",
                "    WHERE D.PurchaseOrderID = H.PurchaseOrderID AND D.RejectedQty > 0\r\n",
                ")\r\n",
                "ORDER BY H.PurchaseOrderID;"
            ],
            "metadata": {
                "language": "sql",
                "azdata_cell_guid": "c2a44019-4c88-4229-bab0-24694b1a571b"
            },
            "outputs": [
                {
                    "output_type": "display_data",
                    "data": {
                        "text/html": "(10 rows affected)"
                    },
                    "metadata": {}
                },
                {
                    "output_type": "display_data",
                    "data": {
                        "text/html": "Total execution time: 00:00:00.031"
                    },
                    "metadata": {}
                },
                {
                    "output_type": "execute_result",
                    "metadata": {},
                    "execution_count": 6,
                    "data": {
                        "application/vnd.dataresource+json": {
                            "schema": {
                                "fields": [
                                    {
                                        "name": "PurchaseOrderID"
                                    },
                                    {
                                        "name": "OrderDate"
                                    },
                                    {
                                        "name": "SubTotal"
                                    },
                                    {
                                        "name": "TaxAmt"
                                    }
                                ]
                            },
                            "data": [
                                {
                                    "0": "1",
                                    "1": "2011-04-16 00:00:00.000",
                                    "2": "201.04",
                                    "3": "16.0832"
                                },
                                {
                                    "0": "2",
                                    "1": "2011-04-16 00:00:00.000",
                                    "2": "272.1015",
                                    "3": "21.7681"
                                },
                                {
                                    "0": "3",
                                    "1": "2011-04-16 00:00:00.000",
                                    "2": "8847.30",
                                    "3": "707.784"
                                },
                                {
                                    "0": "5",
                                    "1": "2011-04-30 00:00:00.000",
                                    "2": "20397.30",
                                    "3": "1631.784"
                                },
                                {
                                    "0": "6",
                                    "1": "2011-04-30 00:00:00.000",
                                    "2": "14628.075",
                                    "3": "1170.246"
                                },
                                {
                                    "0": "7",
                                    "1": "2011-04-30 00:00:00.000",
                                    "2": "58685.55",
                                    "3": "4694.844"
                                },
                                {
                                    "0": "8",
                                    "1": "2011-04-30 00:00:00.000",
                                    "2": "693.378",
                                    "3": "55.4702"
                                },
                                {
                                    "0": "9",
                                    "1": "2011-12-14 00:00:00.000",
                                    "2": "694.1655",
                                    "3": "55.5332"
                                },
                                {
                                    "0": "10",
                                    "1": "2011-12-14 00:00:00.000",
                                    "2": "1796.0355",
                                    "3": "143.6828"
                                },
                                {
                                    "0": "11",
                                    "1": "2011-12-14 00:00:00.000",
                                    "2": "501.1965",
                                    "3": "40.0957"
                                }
                            ]
                        },
                        "text/html": [
                            "<table>",
                            "<tr><th>PurchaseOrderID</th><th>OrderDate</th><th>SubTotal</th><th>TaxAmt</th></tr>",
                            "<tr><td>1</td><td>2011-04-16 00:00:00.000</td><td>201.04</td><td>16.0832</td></tr>",
                            "<tr><td>2</td><td>2011-04-16 00:00:00.000</td><td>272.1015</td><td>21.7681</td></tr>",
                            "<tr><td>3</td><td>2011-04-16 00:00:00.000</td><td>8847.30</td><td>707.784</td></tr>",
                            "<tr><td>5</td><td>2011-04-30 00:00:00.000</td><td>20397.30</td><td>1631.784</td></tr>",
                            "<tr><td>6</td><td>2011-04-30 00:00:00.000</td><td>14628.075</td><td>1170.246</td></tr>",
                            "<tr><td>7</td><td>2011-04-30 00:00:00.000</td><td>58685.55</td><td>4694.844</td></tr>",
                            "<tr><td>8</td><td>2011-04-30 00:00:00.000</td><td>693.378</td><td>55.4702</td></tr>",
                            "<tr><td>9</td><td>2011-12-14 00:00:00.000</td><td>694.1655</td><td>55.5332</td></tr>",
                            "<tr><td>10</td><td>2011-12-14 00:00:00.000</td><td>1796.0355</td><td>143.6828</td></tr>",
                            "<tr><td>11</td><td>2011-12-14 00:00:00.000</td><td>501.1965</td><td>40.0957</td></tr>",
                            "</table>"
                        ]
                    }
                }
            ],
            "execution_count": 6
        },
        {
            "cell_type": "markdown",
            "source": [
                "# PIVOT Operator\r\n",
                "- PIVOT flattens the result set\r\n",
                "- Generates a column for each unique value in the pivoted column\r\n",
                "- We can apply aggregate functions to the values that fall under the pivoted columns\r\n",
                "- *Similar to pivot tables in excel*"
            ],
            "metadata": {
                "language": "sql",
                "azdata_cell_guid": "1c8f79e3-7933-4908-820e-fb3f38b04873"
            },
            "attachments": {}
        },
        {
            "cell_type": "code",
            "source": [
                "USE AW2019;\r\n",
                "\r\n",
                "SELECT\r\n",
                "    [Employee Gender] = Gender,\r\n",
                "    [Sales Representative], \r\n",
                "    [Buyer], \r\n",
                "    [Janitor]\r\n",
                "FROM (\r\n",
                "    SELECT \r\n",
                "        JobTitle,\r\n",
                "        Gender, \r\n",
                "        VacationHours\r\n",
                "    FROM HumanResources.Employee\r\n",
                ") AS S\r\n",
                "PIVOT (\r\n",
                "    AVG (VacationHours)\r\n",
                "    FOR JobTitle IN ([Sales Representative], [Buyer], [Janitor])\r\n",
                ") AS P\r\n",
                "ORDER BY [Employee Gender] ASC;"
            ],
            "metadata": {
                "language": "sql",
                "azdata_cell_guid": "8084b4dc-e085-434a-bcf2-3618a218cad3"
            },
            "outputs": [
                {
                    "output_type": "display_data",
                    "data": {
                        "text/html": "(2 rows affected)"
                    },
                    "metadata": {}
                },
                {
                    "output_type": "display_data",
                    "data": {
                        "text/html": "Total execution time: 00:00:00.015"
                    },
                    "metadata": {}
                },
                {
                    "output_type": "execute_result",
                    "metadata": {},
                    "execution_count": 7,
                    "data": {
                        "application/vnd.dataresource+json": {
                            "schema": {
                                "fields": [
                                    {
                                        "name": "Employee Gender"
                                    },
                                    {
                                        "name": "Sales Representative"
                                    },
                                    {
                                        "name": "Buyer"
                                    },
                                    {
                                        "name": "Janitor"
                                    }
                                ]
                            },
                            "data": [
                                {
                                    "0": "F",
                                    "1": "30",
                                    "2": "54",
                                    "3": "90"
                                },
                                {
                                    "0": "M",
                                    "1": "31",
                                    "2": "56",
                                    "3": "88"
                                }
                            ]
                        },
                        "text/html": [
                            "<table>",
                            "<tr><th>Employee Gender</th><th>Sales Representative</th><th>Buyer</th><th>Janitor</th></tr>",
                            "<tr><td>F</td><td>30</td><td>54</td><td>90</td></tr>",
                            "<tr><td>M</td><td>31</td><td>56</td><td>88</td></tr>",
                            "</table>"
                        ]
                    }
                }
            ],
            "execution_count": 7
        }
    ]
}