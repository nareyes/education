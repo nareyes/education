{
    "metadata": {
        "kernelspec": {
            "name": "SQL",
            "display_name": "SQL",
            "language": "sql"
        },
        "language_info": {
            "name": "sql",
            "version": ""
        }
    },
    "nbformat_minor": 2,
    "nbformat": 4,
    "cells": [
        {
            "cell_type": "markdown",
            "source": [
                "# Window Functions Introduction\n",
                "\n",
                "- Allow you to use aggregate functions in your query without losing row-level detail\n",
                "    - Aggregate functions by themselves group rows into a single output (force GROUP BY clause)\n",
                "- The aggregate column is added to the result set as an additional column\n",
                "- It's possible to group these calculations using PARTITION\n",
                "    - Similar to GROUP BY for aggregate queries\n",
                "\n",
                "  \n",
                "\n",
                "# The OVER Clause\n",
                "\n",
                "- Determines the partition (or window) and ordering of a result set before a window function is applied\n",
                "- A window function then performs an aggregation for each row in the window\n",
                "- Can be used to compute moving averages, cumulative averages, running totals, or a top N per group\n",
                "- Using the OVER clause without any arguments will apply the window function to the entire result set\n",
                "- Arguments;\n",
                "    - PARTITION BY: Divides query result set into partitions\n",
                "    - ORDER BY: Defines logical order within each partition\n",
                "    - ROWS/RANGE: Limits rows within the partition by specifying start and end points"
            ],
            "metadata": {
                "azdata_cell_guid": "984d95a6-1fb2-45e6-b197-060bc79c7bfa"
            },
            "attachments": {}
        },
        {
            "cell_type": "code",
            "source": [
                "USE AW2019;\r\n",
                "\r\n",
                "SELECT TOP 10\r\n",
                "    P.FirstName,\r\n",
                "    P.LastName,\r\n",
                "    E.JobTitle,\r\n",
                "    H.Rate,\r\n",
                "    AverageRate         = AVG (H.Rate) OVER (),\r\n",
                "    MaximumRate         = MAX (H.Rate) OVER (),\r\n",
                "    DiffFromAvgRate     = H.Rate - AVG (H.Rate) OVER (),\r\n",
                "    PercentOfMaxRate    = H.Rate / MAX (H.Rate) OVER () * 100\r\n",
                "FROM HumanResources.EmployeePayHistory AS H\r\n",
                "    INNER JOIN Person.Person AS P\r\n",
                "        ON H.BusinessEntityID = P.BusinessEntityID\r\n",
                "    INNER JOIN HumanResources.Employee AS E\r\n",
                "        ON H.BusinessEntityID = E.BusinessEntityID"
            ],
            "metadata": {
                "azdata_cell_guid": "05f38cae-141c-4785-a229-25d830bd6e1c",
                "language": "sql"
            },
            "outputs": [
                {
                    "output_type": "display_data",
                    "data": {
                        "text/html": "(10 rows affected)"
                    },
                    "metadata": {}
                },
                {
                    "output_type": "display_data",
                    "data": {
                        "text/html": "Total execution time: 00:00:00.011"
                    },
                    "metadata": {}
                },
                {
                    "output_type": "execute_result",
                    "metadata": {},
                    "execution_count": 1,
                    "data": {
                        "application/vnd.dataresource+json": {
                            "schema": {
                                "fields": [
                                    {
                                        "name": "FirstName"
                                    },
                                    {
                                        "name": "LastName"
                                    },
                                    {
                                        "name": "JobTitle"
                                    },
                                    {
                                        "name": "Rate"
                                    },
                                    {
                                        "name": "AverageRate"
                                    },
                                    {
                                        "name": "MaximumRate"
                                    },
                                    {
                                        "name": "DiffFromAvgRate"
                                    },
                                    {
                                        "name": "PercentOfMaxRate"
                                    }
                                ]
                            },
                            "data": [
                                {
                                    "0": "Ken",
                                    "1": "Sánchez",
                                    "2": "Chief Executive Officer",
                                    "3": "125.50",
                                    "4": "17.7588",
                                    "5": "125.50",
                                    "6": "107.7412",
                                    "7": "100.00"
                                },
                                {
                                    "0": "Terri",
                                    "1": "Duffy",
                                    "2": "Vice President of Engineering",
                                    "3": "63.4615",
                                    "4": "17.7588",
                                    "5": "125.50",
                                    "6": "45.7027",
                                    "7": "50.56"
                                },
                                {
                                    "0": "Roberto",
                                    "1": "Tamburello",
                                    "2": "Engineering Manager",
                                    "3": "43.2692",
                                    "4": "17.7588",
                                    "5": "125.50",
                                    "6": "25.5104",
                                    "7": "34.47"
                                },
                                {
                                    "0": "Rob",
                                    "1": "Walters",
                                    "2": "Senior Tool Designer",
                                    "3": "8.62",
                                    "4": "17.7588",
                                    "5": "125.50",
                                    "6": "-9.1388",
                                    "7": "6.86"
                                },
                                {
                                    "0": "Rob",
                                    "1": "Walters",
                                    "2": "Senior Tool Designer",
                                    "3": "23.72",
                                    "4": "17.7588",
                                    "5": "125.50",
                                    "6": "5.9612",
                                    "7": "18.90"
                                },
                                {
                                    "0": "Rob",
                                    "1": "Walters",
                                    "2": "Senior Tool Designer",
                                    "3": "29.8462",
                                    "4": "17.7588",
                                    "5": "125.50",
                                    "6": "12.0874",
                                    "7": "23.78"
                                },
                                {
                                    "0": "Gail",
                                    "1": "Erickson",
                                    "2": "Design Engineer",
                                    "3": "32.6923",
                                    "4": "17.7588",
                                    "5": "125.50",
                                    "6": "14.9335",
                                    "7": "26.04"
                                },
                                {
                                    "0": "Jossef",
                                    "1": "Goldberg",
                                    "2": "Design Engineer",
                                    "3": "32.6923",
                                    "4": "17.7588",
                                    "5": "125.50",
                                    "6": "14.9335",
                                    "7": "26.04"
                                },
                                {
                                    "0": "Dylan",
                                    "1": "Miller",
                                    "2": "Research and Development Manager",
                                    "3": "50.4808",
                                    "4": "17.7588",
                                    "5": "125.50",
                                    "6": "32.722",
                                    "7": "40.22"
                                },
                                {
                                    "0": "Diane",
                                    "1": "Margheim",
                                    "2": "Research and Development Engineer",
                                    "3": "40.8654",
                                    "4": "17.7588",
                                    "5": "125.50",
                                    "6": "23.1066",
                                    "7": "32.56"
                                }
                            ]
                        },
                        "text/html": [
                            "<table>",
                            "<tr><th>FirstName</th><th>LastName</th><th>JobTitle</th><th>Rate</th><th>AverageRate</th><th>MaximumRate</th><th>DiffFromAvgRate</th><th>PercentOfMaxRate</th></tr>",
                            "<tr><td>Ken</td><td>Sánchez</td><td>Chief Executive Officer</td><td>125.50</td><td>17.7588</td><td>125.50</td><td>107.7412</td><td>100.00</td></tr>",
                            "<tr><td>Terri</td><td>Duffy</td><td>Vice President of Engineering</td><td>63.4615</td><td>17.7588</td><td>125.50</td><td>45.7027</td><td>50.56</td></tr>",
                            "<tr><td>Roberto</td><td>Tamburello</td><td>Engineering Manager</td><td>43.2692</td><td>17.7588</td><td>125.50</td><td>25.5104</td><td>34.47</td></tr>",
                            "<tr><td>Rob</td><td>Walters</td><td>Senior Tool Designer</td><td>8.62</td><td>17.7588</td><td>125.50</td><td>-9.1388</td><td>6.86</td></tr>",
                            "<tr><td>Rob</td><td>Walters</td><td>Senior Tool Designer</td><td>23.72</td><td>17.7588</td><td>125.50</td><td>5.9612</td><td>18.90</td></tr>",
                            "<tr><td>Rob</td><td>Walters</td><td>Senior Tool Designer</td><td>29.8462</td><td>17.7588</td><td>125.50</td><td>12.0874</td><td>23.78</td></tr>",
                            "<tr><td>Gail</td><td>Erickson</td><td>Design Engineer</td><td>32.6923</td><td>17.7588</td><td>125.50</td><td>14.9335</td><td>26.04</td></tr>",
                            "<tr><td>Jossef</td><td>Goldberg</td><td>Design Engineer</td><td>32.6923</td><td>17.7588</td><td>125.50</td><td>14.9335</td><td>26.04</td></tr>",
                            "<tr><td>Dylan</td><td>Miller</td><td>Research and Development Manager</td><td>50.4808</td><td>17.7588</td><td>125.50</td><td>32.722</td><td>40.22</td></tr>",
                            "<tr><td>Diane</td><td>Margheim</td><td>Research and Development Engineer</td><td>40.8654</td><td>17.7588</td><td>125.50</td><td>23.1066</td><td>32.56</td></tr>",
                            "</table>"
                        ]
                    }
                }
            ],
            "execution_count": 1
        },
        {
            "cell_type": "markdown",
            "source": [
                "# The PARTITION BY Clause\n",
                "\n",
                "- Allows us to compute aggregate totals for groups within our data, while still retaining row-level detail\n",
                "- Assigns each row of your query output to a group, without collapsing data into fewer rows as with GROUP BY\n",
                "    - Instead of group being assigned based on the distinct values of ALL the non-aggregated columns of our data, we specify the columns these groups will be based on\n",
                "- Arguments;\n",
                "    - Columns you wish to group the result set by"
            ],
            "metadata": {
                "azdata_cell_guid": "d4a1226b-1b04-40e6-8fc9-f8ce31cbd32f"
            },
            "attachments": {}
        },
        {
            "cell_type": "code",
            "source": [
                "USE AW2019;\r\n",
                "\r\n",
                "SELECT TOP 10\r\n",
                "    P.Name AS ProductName,\r\n",
                "    C.Name AS ProductCategory,\r\n",
                "    S.Name AS ProductSubcategory,\r\n",
                "    P.ListPrice,\r\n",
                "    AvgPriceByCategory                  =   AVG (P.ListPrice) OVER (PARTITION BY C.Name),\r\n",
                "    AvgPriceByCategoryAndSubcategory    =   AVG (P.ListPrice) OVER (PARTITION BY C.Name, S.Name),\r\n",
                "    ProductVsCategoryDelta              =   P.ListPrice - AVG (P.ListPrice) OVER (PARTITION BY C.Name)\r\n",
                "FROM Production.Product AS P\r\n",
                "    INNER JOIN Production.ProductSubcategory AS S\r\n",
                "        ON P.ProductSubcategoryID = S.ProductSubcategoryID\r\n",
                "    INNER JOIN Production.ProductCategory AS C\r\n",
                "        ON S.ProductCategoryID = C.ProductCategoryID;"
            ],
            "metadata": {
                "azdata_cell_guid": "66f3f339-10fd-4676-80ba-bdc1b43c1a14",
                "language": "sql"
            },
            "outputs": [
                {
                    "output_type": "display_data",
                    "data": {
                        "text/html": "(10 rows affected)"
                    },
                    "metadata": {}
                },
                {
                    "output_type": "display_data",
                    "data": {
                        "text/html": "Total execution time: 00:00:00.008"
                    },
                    "metadata": {}
                },
                {
                    "output_type": "execute_result",
                    "metadata": {},
                    "execution_count": 2,
                    "data": {
                        "application/vnd.dataresource+json": {
                            "schema": {
                                "fields": [
                                    {
                                        "name": "ProductName"
                                    },
                                    {
                                        "name": "ProductCategory"
                                    },
                                    {
                                        "name": "ProductSubcategory"
                                    },
                                    {
                                        "name": "ListPrice"
                                    },
                                    {
                                        "name": "AvgPriceByCategory"
                                    },
                                    {
                                        "name": "AvgPriceByCategoryAndSubcategory"
                                    },
                                    {
                                        "name": "ProductVsCategoryDelta"
                                    }
                                ]
                            },
                            "data": [
                                {
                                    "0": "Hitch Rack - 4-Bike",
                                    "1": "Accessories",
                                    "2": "Bike Racks",
                                    "3": "120.00",
                                    "4": "34.3489",
                                    "5": "120.00",
                                    "6": "85.6511"
                                },
                                {
                                    "0": "All-Purpose Bike Stand",
                                    "1": "Accessories",
                                    "2": "Bike Stands",
                                    "3": "159.00",
                                    "4": "34.3489",
                                    "5": "159.00",
                                    "6": "124.6511"
                                },
                                {
                                    "0": "Water Bottle - 30 oz.",
                                    "1": "Accessories",
                                    "2": "Bottles and Cages",
                                    "3": "4.99",
                                    "4": "34.3489",
                                    "5": "7.99",
                                    "6": "-29.3589"
                                },
                                {
                                    "0": "Mountain Bottle Cage",
                                    "1": "Accessories",
                                    "2": "Bottles and Cages",
                                    "3": "9.99",
                                    "4": "34.3489",
                                    "5": "7.99",
                                    "6": "-24.3589"
                                },
                                {
                                    "0": "Road Bottle Cage",
                                    "1": "Accessories",
                                    "2": "Bottles and Cages",
                                    "3": "8.99",
                                    "4": "34.3489",
                                    "5": "7.99",
                                    "6": "-25.3589"
                                },
                                {
                                    "0": "Bike Wash - Dissolver",
                                    "1": "Accessories",
                                    "2": "Cleaners",
                                    "3": "7.95",
                                    "4": "34.3489",
                                    "5": "7.95",
                                    "6": "-26.3989"
                                },
                                {
                                    "0": "Fender Set - Mountain",
                                    "1": "Accessories",
                                    "2": "Fenders",
                                    "3": "21.98",
                                    "4": "34.3489",
                                    "5": "21.98",
                                    "6": "-12.3689"
                                },
                                {
                                    "0": "Sport-100 Helmet, Red",
                                    "1": "Accessories",
                                    "2": "Helmets",
                                    "3": "34.99",
                                    "4": "34.3489",
                                    "5": "34.99",
                                    "6": "0.6411"
                                },
                                {
                                    "0": "Sport-100 Helmet, Black",
                                    "1": "Accessories",
                                    "2": "Helmets",
                                    "3": "34.99",
                                    "4": "34.3489",
                                    "5": "34.99",
                                    "6": "0.6411"
                                },
                                {
                                    "0": "Sport-100 Helmet, Blue",
                                    "1": "Accessories",
                                    "2": "Helmets",
                                    "3": "34.99",
                                    "4": "34.3489",
                                    "5": "34.99",
                                    "6": "0.6411"
                                }
                            ]
                        },
                        "text/html": [
                            "<table>",
                            "<tr><th>ProductName</th><th>ProductCategory</th><th>ProductSubcategory</th><th>ListPrice</th><th>AvgPriceByCategory</th><th>AvgPriceByCategoryAndSubcategory</th><th>ProductVsCategoryDelta</th></tr>",
                            "<tr><td>Hitch Rack - 4-Bike</td><td>Accessories</td><td>Bike Racks</td><td>120.00</td><td>34.3489</td><td>120.00</td><td>85.6511</td></tr>",
                            "<tr><td>All-Purpose Bike Stand</td><td>Accessories</td><td>Bike Stands</td><td>159.00</td><td>34.3489</td><td>159.00</td><td>124.6511</td></tr>",
                            "<tr><td>Water Bottle - 30 oz.</td><td>Accessories</td><td>Bottles and Cages</td><td>4.99</td><td>34.3489</td><td>7.99</td><td>-29.3589</td></tr>",
                            "<tr><td>Mountain Bottle Cage</td><td>Accessories</td><td>Bottles and Cages</td><td>9.99</td><td>34.3489</td><td>7.99</td><td>-24.3589</td></tr>",
                            "<tr><td>Road Bottle Cage</td><td>Accessories</td><td>Bottles and Cages</td><td>8.99</td><td>34.3489</td><td>7.99</td><td>-25.3589</td></tr>",
                            "<tr><td>Bike Wash - Dissolver</td><td>Accessories</td><td>Cleaners</td><td>7.95</td><td>34.3489</td><td>7.95</td><td>-26.3989</td></tr>",
                            "<tr><td>Fender Set - Mountain</td><td>Accessories</td><td>Fenders</td><td>21.98</td><td>34.3489</td><td>21.98</td><td>-12.3689</td></tr>",
                            "<tr><td>Sport-100 Helmet, Red</td><td>Accessories</td><td>Helmets</td><td>34.99</td><td>34.3489</td><td>34.99</td><td>0.6411</td></tr>",
                            "<tr><td>Sport-100 Helmet, Black</td><td>Accessories</td><td>Helmets</td><td>34.99</td><td>34.3489</td><td>34.99</td><td>0.6411</td></tr>",
                            "<tr><td>Sport-100 Helmet, Blue</td><td>Accessories</td><td>Helmets</td><td>34.99</td><td>34.3489</td><td>34.99</td><td>0.6411</td></tr>",
                            "</table>"
                        ]
                    }
                }
            ],
            "execution_count": 2
        },
        {
            "cell_type": "markdown",
            "source": [
                "# The ROW_NUMBER Clause\n",
                "\n",
                "- Window functions give us the ability to rank records without our data (across the entire query output or within partitioned)\n",
                "- Ranks all records in the result set sequentially and ignores ties\n",
                "- There is no guarantee rows will be ordered exactly the same with each execution unless the following ocnditions are true;\n",
                "    - Values of the partitioned column are unique\n",
                "    - Values of the ORDER BY columns are unique\n",
                "    - Combinations of values of the partition column and ORDER BY columns are unique\n",
                "- Arguments;\n",
                "    - PARTITION BY: Divides query result set into partitions\n",
                "    - ORDER BY: Defines logical order within each partition"
            ],
            "metadata": {
                "azdata_cell_guid": "ff0dd3b2-77e1-467c-b1b1-0185b9e7e3e7"
            },
            "attachments": {}
        },
        {
            "cell_type": "code",
            "source": [
                "USE AW2019;\r\n",
                "\r\n",
                "SELECT TOP 10\r\n",
                "    P.Name AS ProductName,\r\n",
                "    C.Name AS ProductCategory,\r\n",
                "    S.Name AS ProductSubcategory,\r\n",
                "    P.ListPrice,\r\n",
                "    PriceRank           =   ROW_NUMBER() OVER (ORDER BY P.ListPrice DESC),\r\n",
                "    CategoryPriceRank   =   ROW_NUMBER() OVER (PARTITION BY C.Name ORDER BY P.ListPrice DESC),\r\n",
                "    Top5PriceInCategory =   CASE\r\n",
                "                                WHEN ROW_NUMBER() OVER (PARTITION BY C.Name ORDER BY P.ListPrice DESC) <= 5 THEN 'YES'\r\n",
                "                                ELSE 'NO'\r\n",
                "                            END\r\n",
                "FROM Production.Product AS P\r\n",
                "    INNER JOIN Production.ProductSubcategory AS S\r\n",
                "        ON P.ProductSubcategoryID = S.ProductSubcategoryID\r\n",
                "    INNER JOIN Production.ProductCategory AS C\r\n",
                "        ON S.ProductCategoryID = C.ProductCategoryID;"
            ],
            "metadata": {
                "azdata_cell_guid": "f44ba067-5ada-4c30-bbf3-0e1d6aed59a0",
                "language": "sql"
            },
            "outputs": [
                {
                    "output_type": "display_data",
                    "data": {
                        "text/html": "(10 rows affected)"
                    },
                    "metadata": {}
                },
                {
                    "output_type": "display_data",
                    "data": {
                        "text/html": "Total execution time: 00:00:00.016"
                    },
                    "metadata": {}
                },
                {
                    "output_type": "execute_result",
                    "metadata": {},
                    "execution_count": 3,
                    "data": {
                        "application/vnd.dataresource+json": {
                            "schema": {
                                "fields": [
                                    {
                                        "name": "ProductName"
                                    },
                                    {
                                        "name": "ProductCategory"
                                    },
                                    {
                                        "name": "ProductSubcategory"
                                    },
                                    {
                                        "name": "ListPrice"
                                    },
                                    {
                                        "name": "PriceRank"
                                    },
                                    {
                                        "name": "CategoryPriceRank"
                                    },
                                    {
                                        "name": "Top5PriceInCategory"
                                    }
                                ]
                            },
                            "data": [
                                {
                                    "0": "All-Purpose Bike Stand",
                                    "1": "Accessories",
                                    "2": "Bike Stands",
                                    "3": "159.00",
                                    "4": "192",
                                    "5": "1",
                                    "6": "YES"
                                },
                                {
                                    "0": "Touring-Panniers, Large",
                                    "1": "Accessories",
                                    "2": "Panniers",
                                    "3": "125.00",
                                    "4": "194",
                                    "5": "2",
                                    "6": "YES"
                                },
                                {
                                    "0": "Hitch Rack - 4-Bike",
                                    "1": "Accessories",
                                    "2": "Bike Racks",
                                    "3": "120.00",
                                    "4": "200",
                                    "5": "3",
                                    "6": "YES"
                                },
                                {
                                    "0": "Hydration Pack - 70 oz.",
                                    "1": "Accessories",
                                    "2": "Hydration Packs",
                                    "3": "54.99",
                                    "4": "234",
                                    "5": "4",
                                    "6": "YES"
                                },
                                {
                                    "0": "Headlights - Weatherproof",
                                    "1": "Accessories",
                                    "2": "Lights",
                                    "3": "44.99",
                                    "4": "248",
                                    "5": "5",
                                    "6": "YES"
                                },
                                {
                                    "0": "HL Mountain Tire",
                                    "1": "Accessories",
                                    "2": "Tires and Tubes",
                                    "3": "35.00",
                                    "4": "259",
                                    "5": "6",
                                    "6": "NO"
                                },
                                {
                                    "0": "Headlights - Dual-Beam",
                                    "1": "Accessories",
                                    "2": "Lights",
                                    "3": "34.99",
                                    "4": "260",
                                    "5": "7",
                                    "6": "NO"
                                },
                                {
                                    "0": "Sport-100 Helmet, Blue",
                                    "1": "Accessories",
                                    "2": "Helmets",
                                    "3": "34.99",
                                    "4": "261",
                                    "5": "8",
                                    "6": "NO"
                                },
                                {
                                    "0": "Sport-100 Helmet, Red",
                                    "1": "Accessories",
                                    "2": "Helmets",
                                    "3": "34.99",
                                    "4": "262",
                                    "5": "9",
                                    "6": "NO"
                                },
                                {
                                    "0": "Sport-100 Helmet, Black",
                                    "1": "Accessories",
                                    "2": "Helmets",
                                    "3": "34.99",
                                    "4": "263",
                                    "5": "10",
                                    "6": "NO"
                                }
                            ]
                        },
                        "text/html": [
                            "<table>",
                            "<tr><th>ProductName</th><th>ProductCategory</th><th>ProductSubcategory</th><th>ListPrice</th><th>PriceRank</th><th>CategoryPriceRank</th><th>Top5PriceInCategory</th></tr>",
                            "<tr><td>All-Purpose Bike Stand</td><td>Accessories</td><td>Bike Stands</td><td>159.00</td><td>192</td><td>1</td><td>YES</td></tr>",
                            "<tr><td>Touring-Panniers, Large</td><td>Accessories</td><td>Panniers</td><td>125.00</td><td>194</td><td>2</td><td>YES</td></tr>",
                            "<tr><td>Hitch Rack - 4-Bike</td><td>Accessories</td><td>Bike Racks</td><td>120.00</td><td>200</td><td>3</td><td>YES</td></tr>",
                            "<tr><td>Hydration Pack - 70 oz.</td><td>Accessories</td><td>Hydration Packs</td><td>54.99</td><td>234</td><td>4</td><td>YES</td></tr>",
                            "<tr><td>Headlights - Weatherproof</td><td>Accessories</td><td>Lights</td><td>44.99</td><td>248</td><td>5</td><td>YES</td></tr>",
                            "<tr><td>HL Mountain Tire</td><td>Accessories</td><td>Tires and Tubes</td><td>35.00</td><td>259</td><td>6</td><td>NO</td></tr>",
                            "<tr><td>Headlights - Dual-Beam</td><td>Accessories</td><td>Lights</td><td>34.99</td><td>260</td><td>7</td><td>NO</td></tr>",
                            "<tr><td>Sport-100 Helmet, Blue</td><td>Accessories</td><td>Helmets</td><td>34.99</td><td>261</td><td>8</td><td>NO</td></tr>",
                            "<tr><td>Sport-100 Helmet, Red</td><td>Accessories</td><td>Helmets</td><td>34.99</td><td>262</td><td>9</td><td>NO</td></tr>",
                            "<tr><td>Sport-100 Helmet, Black</td><td>Accessories</td><td>Helmets</td><td>34.99</td><td>263</td><td>10</td><td>NO</td></tr>",
                            "</table>"
                        ]
                    }
                }
            ],
            "execution_count": 3
        },
        {
            "cell_type": "markdown",
            "source": [
                "# The RANK and DENSE\\_RANK Clause\n",
                "\n",
                "- Return the rank of each row within the partition of a result set\n",
                "    - Similar to ROW\\_NUMBER but differs in how ties are handled\n",
                "- RANK provides the same numeric value for ties but maintains the overall rank order (example: 1, 2, 2, 4, 5)\n",
                "- DENSE\\_RANK eliminates gaps in the ranking values (example: 1, 2, 3, 4, 5)\n",
                "    - The rank of a specific row is one plus the number of distinct rank values that come before the specific row\n",
                "- Arguments;\n",
                "    - PARTITION BY: Divides query result set into partitions\n",
                "    - ORDER BY: Defines logical order within each partition"
            ],
            "metadata": {
                "azdata_cell_guid": "085b7a39-f9cf-4242-aa1e-87b8a460db46"
            },
            "attachments": {}
        },
        {
            "cell_type": "code",
            "source": [
                "USE AW2019;\r\n",
                "\r\n",
                "SELECT TOP 10\r\n",
                "    P.Name AS ProductName,\r\n",
                "    C.Name AS ProductCategory,\r\n",
                "    S.Name AS ProductSubcategory,\r\n",
                "    P.ListPrice,\r\n",
                "    PriceRank                           =   ROW_NUMBER() OVER (ORDER BY P.ListPrice DESC),\r\n",
                "    CategoryPriceRankWithRowNum         =   ROW_NUMBER() OVER (PARTITION BY C.Name ORDER BY P.ListPrice DESC),\r\n",
                "    CategoryPriceRankWithRank           =   RANK() OVER (PARTITION BY C.Name ORDER BY P.ListPrice DESC),\r\n",
                "    CategoryPriceRankWithDenseRank      =   DENSE_RANK() OVER (PARTITION BY C.Name ORDER BY P.ListPrice DESC),\r\n",
                "    Top5PriceInCategoryWithDenseRank    =   CASE\r\n",
                "                                                WHEN DENSE_RANK() OVER (PARTITION BY C.Name ORDER BY P.ListPrice DESC) <= 5 THEN 'YES'\r\n",
                "                                                ELSE 'NO'\r\n",
                "                                            END   \r\n",
                "FROM Production.Product AS P\r\n",
                "    INNER JOIN Production.ProductSubcategory AS S\r\n",
                "        ON P.ProductSubcategoryID = S.ProductSubcategoryID\r\n",
                "    INNER JOIN Production.ProductCategory AS C\r\n",
                "        ON S.ProductCategoryID = C.ProductCategoryID;"
            ],
            "metadata": {
                "azdata_cell_guid": "160c033c-d49d-4bfa-b39c-5882b7e9d163",
                "language": "sql"
            },
            "outputs": [
                {
                    "output_type": "display_data",
                    "data": {
                        "text/html": "(10 rows affected)"
                    },
                    "metadata": {}
                },
                {
                    "output_type": "display_data",
                    "data": {
                        "text/html": "Total execution time: 00:00:00.015"
                    },
                    "metadata": {}
                },
                {
                    "output_type": "execute_result",
                    "metadata": {},
                    "execution_count": 4,
                    "data": {
                        "application/vnd.dataresource+json": {
                            "schema": {
                                "fields": [
                                    {
                                        "name": "ProductName"
                                    },
                                    {
                                        "name": "ProductCategory"
                                    },
                                    {
                                        "name": "ProductSubcategory"
                                    },
                                    {
                                        "name": "ListPrice"
                                    },
                                    {
                                        "name": "PriceRank"
                                    },
                                    {
                                        "name": "CategoryPriceRankWithRowNum"
                                    },
                                    {
                                        "name": "CategoryPriceRankWithRank"
                                    },
                                    {
                                        "name": "CategoryPriceRankWithDenseRank"
                                    },
                                    {
                                        "name": "Top5PriceInCategoryWithDenseRank"
                                    }
                                ]
                            },
                            "data": [
                                {
                                    "0": "All-Purpose Bike Stand",
                                    "1": "Accessories",
                                    "2": "Bike Stands",
                                    "3": "159.00",
                                    "4": "192",
                                    "5": "1",
                                    "6": "1",
                                    "7": "1",
                                    "8": "YES"
                                },
                                {
                                    "0": "Touring-Panniers, Large",
                                    "1": "Accessories",
                                    "2": "Panniers",
                                    "3": "125.00",
                                    "4": "194",
                                    "5": "2",
                                    "6": "2",
                                    "7": "2",
                                    "8": "YES"
                                },
                                {
                                    "0": "Hitch Rack - 4-Bike",
                                    "1": "Accessories",
                                    "2": "Bike Racks",
                                    "3": "120.00",
                                    "4": "200",
                                    "5": "3",
                                    "6": "3",
                                    "7": "3",
                                    "8": "YES"
                                },
                                {
                                    "0": "Hydration Pack - 70 oz.",
                                    "1": "Accessories",
                                    "2": "Hydration Packs",
                                    "3": "54.99",
                                    "4": "234",
                                    "5": "4",
                                    "6": "4",
                                    "7": "4",
                                    "8": "YES"
                                },
                                {
                                    "0": "Headlights - Weatherproof",
                                    "1": "Accessories",
                                    "2": "Lights",
                                    "3": "44.99",
                                    "4": "248",
                                    "5": "5",
                                    "6": "5",
                                    "7": "5",
                                    "8": "YES"
                                },
                                {
                                    "0": "HL Mountain Tire",
                                    "1": "Accessories",
                                    "2": "Tires and Tubes",
                                    "3": "35.00",
                                    "4": "259",
                                    "5": "6",
                                    "6": "6",
                                    "7": "6",
                                    "8": "NO"
                                },
                                {
                                    "0": "Headlights - Dual-Beam",
                                    "1": "Accessories",
                                    "2": "Lights",
                                    "3": "34.99",
                                    "4": "260",
                                    "5": "7",
                                    "6": "7",
                                    "7": "7",
                                    "8": "NO"
                                },
                                {
                                    "0": "Sport-100 Helmet, Blue",
                                    "1": "Accessories",
                                    "2": "Helmets",
                                    "3": "34.99",
                                    "4": "261",
                                    "5": "8",
                                    "6": "7",
                                    "7": "7",
                                    "8": "NO"
                                },
                                {
                                    "0": "Sport-100 Helmet, Red",
                                    "1": "Accessories",
                                    "2": "Helmets",
                                    "3": "34.99",
                                    "4": "262",
                                    "5": "9",
                                    "6": "7",
                                    "7": "7",
                                    "8": "NO"
                                },
                                {
                                    "0": "Sport-100 Helmet, Black",
                                    "1": "Accessories",
                                    "2": "Helmets",
                                    "3": "34.99",
                                    "4": "263",
                                    "5": "10",
                                    "6": "7",
                                    "7": "7",
                                    "8": "NO"
                                }
                            ]
                        },
                        "text/html": [
                            "<table>",
                            "<tr><th>ProductName</th><th>ProductCategory</th><th>ProductSubcategory</th><th>ListPrice</th><th>PriceRank</th><th>CategoryPriceRankWithRowNum</th><th>CategoryPriceRankWithRank</th><th>CategoryPriceRankWithDenseRank</th><th>Top5PriceInCategoryWithDenseRank</th></tr>",
                            "<tr><td>All-Purpose Bike Stand</td><td>Accessories</td><td>Bike Stands</td><td>159.00</td><td>192</td><td>1</td><td>1</td><td>1</td><td>YES</td></tr>",
                            "<tr><td>Touring-Panniers, Large</td><td>Accessories</td><td>Panniers</td><td>125.00</td><td>194</td><td>2</td><td>2</td><td>2</td><td>YES</td></tr>",
                            "<tr><td>Hitch Rack - 4-Bike</td><td>Accessories</td><td>Bike Racks</td><td>120.00</td><td>200</td><td>3</td><td>3</td><td>3</td><td>YES</td></tr>",
                            "<tr><td>Hydration Pack - 70 oz.</td><td>Accessories</td><td>Hydration Packs</td><td>54.99</td><td>234</td><td>4</td><td>4</td><td>4</td><td>YES</td></tr>",
                            "<tr><td>Headlights - Weatherproof</td><td>Accessories</td><td>Lights</td><td>44.99</td><td>248</td><td>5</td><td>5</td><td>5</td><td>YES</td></tr>",
                            "<tr><td>HL Mountain Tire</td><td>Accessories</td><td>Tires and Tubes</td><td>35.00</td><td>259</td><td>6</td><td>6</td><td>6</td><td>NO</td></tr>",
                            "<tr><td>Headlights - Dual-Beam</td><td>Accessories</td><td>Lights</td><td>34.99</td><td>260</td><td>7</td><td>7</td><td>7</td><td>NO</td></tr>",
                            "<tr><td>Sport-100 Helmet, Blue</td><td>Accessories</td><td>Helmets</td><td>34.99</td><td>261</td><td>8</td><td>7</td><td>7</td><td>NO</td></tr>",
                            "<tr><td>Sport-100 Helmet, Red</td><td>Accessories</td><td>Helmets</td><td>34.99</td><td>262</td><td>9</td><td>7</td><td>7</td><td>NO</td></tr>",
                            "<tr><td>Sport-100 Helmet, Black</td><td>Accessories</td><td>Helmets</td><td>34.99</td><td>263</td><td>10</td><td>7</td><td>7</td><td>NO</td></tr>",
                            "</table>"
                        ]
                    }
                }
            ],
            "execution_count": 4
        },
        {
            "cell_type": "markdown",
            "source": [
                "# The LEAD and LAG Clause\n",
                "\n",
                "- LEAD allows us to grab values from subsequent records relative to the position of the \"current\" record in our data\n",
                "- LAG allows us to grab values from previous records relative to the position of the \"current\" record in our data\n",
                "- These are useful when we want to compare current values to subsequent or previous values for analysis\n",
                "- Arguments;\n",
                "    - Scalar Expression: Value to be returned based on the specified offset\n",
                "    - Offset: The number of rows or forward or backwards from which to obtain a value"
            ],
            "metadata": {
                "azdata_cell_guid": "7586aade-aee4-4562-82c0-25fe13ceeddf"
            },
            "attachments": {}
        },
        {
            "cell_type": "code",
            "source": [
                "USE AW2019;\r\n",
                "\r\n",
                "SELECT TOP 10\r\n",
                "    H.OrderDate,  \r\n",
                "    H.PurchaseOrderID,\r\n",
                "    V.Name AS VendorName,\r\n",
                "    H.TotalDue,\r\n",
                "    PrevOrderFromVendorAmt  = LAG (H.TotalDue, 1) OVER (PARTITION BY H.VendorID ORDER BY H.OrderDate ASC),\r\n",
                "    NextOrderFromVendorAmt  = LEAD (H.TotalDue, 1) OVER (PARTITION BY H.VendorID ORDER BY H.OrderDate ASC),\r\n",
                "    Next2OrderFromVendorAmt = LEAD (H.TotalDue, 2) OVER (PARTITION BY H.VendorID ORDER BY H.OrderDate ASC)\r\n",
                "FROM Purchasing.PurchaseOrderHeader AS H\r\n",
                "    INNER JOIN Purchasing.Vendor AS V\r\n",
                "        ON H.VendorID = V.BusinessEntityID\r\n",
                "WHERE YEAR (H.OrderDate) >= 2013 AND H.TotalDue > 500\r\n",
                "ORDER BY H.VendorID, H.OrderDate;"
            ],
            "metadata": {
                "azdata_cell_guid": "0d1fa6a8-cf5d-435f-9c49-7fccd9c155bc",
                "language": "sql"
            },
            "outputs": [
                {
                    "output_type": "display_data",
                    "data": {
                        "text/html": "(10 rows affected)"
                    },
                    "metadata": {}
                },
                {
                    "output_type": "display_data",
                    "data": {
                        "text/html": "Total execution time: 00:00:00.016"
                    },
                    "metadata": {}
                },
                {
                    "output_type": "execute_result",
                    "metadata": {},
                    "execution_count": 6,
                    "data": {
                        "application/vnd.dataresource+json": {
                            "schema": {
                                "fields": [
                                    {
                                        "name": "OrderDate"
                                    },
                                    {
                                        "name": "PurchaseOrderID"
                                    },
                                    {
                                        "name": "VendorName"
                                    },
                                    {
                                        "name": "TotalDue"
                                    },
                                    {
                                        "name": "PrevOrderFromVendorAmt"
                                    },
                                    {
                                        "name": "NextOrderFromVendorAmt"
                                    },
                                    {
                                        "name": "Next2OrderFromVendorAmt"
                                    }
                                ]
                            },
                            "data": [
                                {
                                    "0": "2013-04-25 00:00:00.000",
                                    "1": "325",
                                    "2": "Australia Bike Retailer",
                                    "3": "1654.7486",
                                    "4": "NULL",
                                    "5": "553.8221",
                                    "6": "767.0528"
                                },
                                {
                                    "0": "2013-08-18 00:00:00.000",
                                    "1": "596",
                                    "2": "Australia Bike Retailer",
                                    "3": "553.8221",
                                    "4": "1654.7486",
                                    "5": "767.0528",
                                    "6": "553.8221"
                                },
                                {
                                    "0": "2013-09-08 00:00:00.000",
                                    "1": "849",
                                    "2": "Australia Bike Retailer",
                                    "3": "767.0528",
                                    "4": "553.8221",
                                    "5": "553.8221",
                                    "6": "655.9126"
                                },
                                {
                                    "0": "2013-10-13 00:00:00.000",
                                    "1": "1031",
                                    "2": "Australia Bike Retailer",
                                    "3": "553.8221",
                                    "4": "767.0528",
                                    "5": "655.9126",
                                    "6": "553.8221"
                                },
                                {
                                    "0": "2013-11-06 00:00:00.000",
                                    "1": "1095",
                                    "2": "Australia Bike Retailer",
                                    "3": "655.9126",
                                    "4": "553.8221",
                                    "5": "553.8221",
                                    "6": "767.0528"
                                },
                                {
                                    "0": "2013-12-12 00:00:00.000",
                                    "1": "1411",
                                    "2": "Australia Bike Retailer",
                                    "3": "553.8221",
                                    "4": "655.9126",
                                    "5": "767.0528",
                                    "6": "855.2203"
                                },
                                {
                                    "0": "2014-01-06 00:00:00.000",
                                    "1": "1648",
                                    "2": "Australia Bike Retailer",
                                    "3": "767.0528",
                                    "4": "553.8221",
                                    "5": "855.2203",
                                    "6": "533.1813"
                                },
                                {
                                    "0": "2014-01-16 00:00:00.000",
                                    "1": "1727",
                                    "2": "Australia Bike Retailer",
                                    "3": "855.2203",
                                    "4": "767.0528",
                                    "5": "533.1813",
                                    "6": "553.8221"
                                },
                                {
                                    "0": "2014-01-24 00:00:00.000",
                                    "1": "1806",
                                    "2": "Australia Bike Retailer",
                                    "3": "533.1813",
                                    "4": "855.2203",
                                    "5": "553.8221",
                                    "6": "767.0528"
                                },
                                {
                                    "0": "2014-03-05 00:00:00.000",
                                    "1": "2201",
                                    "2": "Australia Bike Retailer",
                                    "3": "553.8221",
                                    "4": "533.1813",
                                    "5": "767.0528",
                                    "6": "855.2203"
                                }
                            ]
                        },
                        "text/html": [
                            "<table>",
                            "<tr><th>OrderDate</th><th>PurchaseOrderID</th><th>VendorName</th><th>TotalDue</th><th>PrevOrderFromVendorAmt</th><th>NextOrderFromVendorAmt</th><th>Next2OrderFromVendorAmt</th></tr>",
                            "<tr><td>2013-04-25 00:00:00.000</td><td>325</td><td>Australia Bike Retailer</td><td>1654.7486</td><td>NULL</td><td>553.8221</td><td>767.0528</td></tr>",
                            "<tr><td>2013-08-18 00:00:00.000</td><td>596</td><td>Australia Bike Retailer</td><td>553.8221</td><td>1654.7486</td><td>767.0528</td><td>553.8221</td></tr>",
                            "<tr><td>2013-09-08 00:00:00.000</td><td>849</td><td>Australia Bike Retailer</td><td>767.0528</td><td>553.8221</td><td>553.8221</td><td>655.9126</td></tr>",
                            "<tr><td>2013-10-13 00:00:00.000</td><td>1031</td><td>Australia Bike Retailer</td><td>553.8221</td><td>767.0528</td><td>655.9126</td><td>553.8221</td></tr>",
                            "<tr><td>2013-11-06 00:00:00.000</td><td>1095</td><td>Australia Bike Retailer</td><td>655.9126</td><td>553.8221</td><td>553.8221</td><td>767.0528</td></tr>",
                            "<tr><td>2013-12-12 00:00:00.000</td><td>1411</td><td>Australia Bike Retailer</td><td>553.8221</td><td>655.9126</td><td>767.0528</td><td>855.2203</td></tr>",
                            "<tr><td>2014-01-06 00:00:00.000</td><td>1648</td><td>Australia Bike Retailer</td><td>767.0528</td><td>553.8221</td><td>855.2203</td><td>533.1813</td></tr>",
                            "<tr><td>2014-01-16 00:00:00.000</td><td>1727</td><td>Australia Bike Retailer</td><td>855.2203</td><td>767.0528</td><td>533.1813</td><td>553.8221</td></tr>",
                            "<tr><td>2014-01-24 00:00:00.000</td><td>1806</td><td>Australia Bike Retailer</td><td>533.1813</td><td>855.2203</td><td>553.8221</td><td>767.0528</td></tr>",
                            "<tr><td>2014-03-05 00:00:00.000</td><td>2201</td><td>Australia Bike Retailer</td><td>553.8221</td><td>533.1813</td><td>767.0528</td><td>855.2203</td></tr>",
                            "</table>"
                        ]
                    }
                }
            ],
            "execution_count": 6
        }
    ]
}