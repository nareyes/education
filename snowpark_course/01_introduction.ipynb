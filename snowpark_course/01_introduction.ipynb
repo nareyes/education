{
 "cells": [
  {
   "cell_type": "code",
   "execution_count": 1,
   "metadata": {},
   "outputs": [],
   "source": [
    "import os\n",
    "from auth import auth\n",
    "import snowflake.snowpark.functions\n",
    "from snowflake.snowpark import Session\n",
    "from snowflake.snowpark.functions import col"
   ]
  },
  {
   "cell_type": "code",
   "execution_count": 2,
   "metadata": {},
   "outputs": [],
   "source": [
    "# establish connection\n",
    "connection_params = {\n",
    "    'account': auth.account,\n",
    "    'user': auth.user,\n",
    "    'password': auth.password,\n",
    "    'role': 'DATA_ENGINEER',\n",
    "    'warehouse': 'DATA_ENGINEER_WH',\n",
    "    'database': 'NREYES',\n",
    "    'schema': 'PUBLIC' \n",
    "}\n",
    "\n",
    "session = Session.builder.configs(connection_params).create()"
   ]
  },
  {
   "cell_type": "code",
   "execution_count": 3,
   "metadata": {},
   "outputs": [
    {
     "name": "stdout",
     "output_type": "stream",
     "text": [
      "[Row(CURRENT_WAREHOUSE()='DATA_ENGINEER_WH', CURRENT_DATABASE()='NREYES', CURRENT_SCHEMA()='PUBLIC')]\n"
     ]
    }
   ],
   "source": [
    "# test connection\n",
    "print(\n",
    "    session.sql(\n",
    "        'select current_warehouse(), current_database(), current_schema()'\n",
    "    ).collect()\n",
    ")"
   ]
  },
  {
   "cell_type": "code",
   "execution_count": 4,
   "metadata": {},
   "outputs": [
    {
     "name": "stdout",
     "output_type": "stream",
     "text": [
      "---------------------------------------------------------------------------\n",
      "|\"C_NAME\"            |\"C_ADDRESS\"                        |\"C_MKTSEGMENT\"  |\n",
      "---------------------------------------------------------------------------\n",
      "|Customer#000060001  |9Ii4zQn9cX                         |HOUSEHOLD       |\n",
      "|Customer#000060010  |c4vEEaV1tdqLdw2oVuXp BN            |HOUSEHOLD       |\n",
      "|Customer#000060016  |i5JCEL8FRYSLvOs1Lkqn30a,1jherLDP   |HOUSEHOLD       |\n",
      "|Customer#000060021  |KsKuSbEyZEenCWB7F1uMaOm54bciBqZfU  |HOUSEHOLD       |\n",
      "|Customer#000060024  |7JBly7LjGnzGYfJCcPeyIoqIwWda       |HOUSEHOLD       |\n",
      "|Customer#000060038  | FBvBksLyQsKovVujfq8XQ             |HOUSEHOLD       |\n",
      "|Customer#000060043  |6SLQTGRhNJBKEJl9aekego5iwHgy       |HOUSEHOLD       |\n",
      "|Customer#000060047  |FETxgdO1 Nn,HkjnlMNx3dvUrM4qMlf    |HOUSEHOLD       |\n",
      "|Customer#000060048  |72pgkyyStsx2                       |HOUSEHOLD       |\n",
      "|Customer#000060052  |jygrlXgrjEIaVsH14eKreo,ldCsK       |HOUSEHOLD       |\n",
      "---------------------------------------------------------------------------\n",
      "\n"
     ]
    },
    {
     "data": {
      "text/plain": [
       "30189"
      ]
     },
     "execution_count": 4,
     "metadata": {},
     "output_type": "execute_result"
    }
   ],
   "source": [
    "# sample queries\n",
    "# the following statements will not execute in snowflake until an action is called: show(), count(), etc\n",
    "df_customer = session.table('snowflake_sample_data.tpch_sf1.customer')\n",
    "df_customer_filtered = df_customer.filter(col('c_mktsegment') == 'HOUSEHOLD')\n",
    "df_customer_select = df_customer_filtered.select(col('c_name'), col('c_address'), col('c_mktsegment'))\n",
    "\n",
    "df_customer_select.show() # limits 10 records\n",
    "df_customer_select.count()"
   ]
  },
  {
   "cell_type": "code",
   "execution_count": 20,
   "metadata": {},
   "outputs": [
    {
     "name": "stdout",
     "output_type": "stream",
     "text": [
      "------------------\n",
      "|\"O_TOTALPRICE\"  |\n",
      "------------------\n",
      "|30175.88        |\n",
      "|297999.63       |\n",
      "|345438.38       |\n",
      "|135965.53       |\n",
      "|209937.09       |\n",
      "|140186.32       |\n",
      "|298655.07       |\n",
      "|175973.90       |\n",
      "|4635.38         |\n",
      "|348308.79       |\n",
      "------------------\n",
      "\n",
      "--------------------------------\n",
      "|\"SUMMARY\"  |\"O_TOTALPRICE\"    |\n",
      "--------------------------------\n",
      "|count      |1500000.0         |\n",
      "|max        |555285.16         |\n",
      "|mean       |151219.53763164   |\n",
      "|min        |857.71            |\n",
      "|stddev     |88621.4313636512  |\n",
      "--------------------------------\n",
      "\n"
     ]
    }
   ],
   "source": [
    "# query table statistics (numeric columns only)\n",
    "# https://docs.snowflake.com/en/developer-guide/snowpark/reference/python/latest/api/snowflake.snowpark.DataFrame.describe\n",
    "df_orders = session.table('snowflake_sample_data.tpch_sf1.orders')\n",
    "df_orders_select = df_orders.select(col('o_totalprice'))\n",
    "\n",
    "df_orders_select.show()\n",
    "df_orders_select.describe().sort('summary', ascending=True).show()"
   ]
  }
 ],
 "metadata": {
  "kernelspec": {
   "display_name": "snowpark",
   "language": "python",
   "name": "python3"
  },
  "language_info": {
   "codemirror_mode": {
    "name": "ipython",
    "version": 3
   },
   "file_extension": ".py",
   "mimetype": "text/x-python",
   "name": "python",
   "nbconvert_exporter": "python",
   "pygments_lexer": "ipython3",
   "version": "3.8.19"
  }
 },
 "nbformat": 4,
 "nbformat_minor": 2
}
