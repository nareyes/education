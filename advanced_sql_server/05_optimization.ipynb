{
    "metadata": {
        "kernelspec": {
            "name": "SQL",
            "display_name": "SQL",
            "language": "sql"
        },
        "language_info": {
            "name": "sql",
            "version": ""
        }
    },
    "nbformat_minor": 2,
    "nbformat": 4,
    "cells": [
        {
            "cell_type": "markdown",
            "source": [
                "# Optimizing With UPDATE\r\n",
                "\r\n",
                "- Generally speaking, JOINs between very large tables are very expensive regarding performance\r\n",
                "- Steps to take for query optimization\r\n",
                "    - Define a filtered dataset as early as possible to JOIN on smaller core population tables\r\n",
                "    - Avoid several JOINs in a single SELECT query when large tables are involved\r\n",
                "    - Instead, use UPDATE statements to populate fields in a temp table, one source table at a time\r\n",
                "    - Apply indexes to fields that will be used in JOINs (will review later)"
            ],
            "metadata": {
                "azdata_cell_guid": "8c08317a-951a-47af-b8d0-14cb9d83ce9f"
            },
            "attachments": {}
        },
        {
            "cell_type": "code",
            "source": [
                "USE AW2019;\r\n",
                "\r\n",
                "-- Starter Code\r\n",
                "SELECT TOP 10\r\n",
                "    H.SalesOrderID,\r\n",
                "    H.OrderDate,\r\n",
                "    D.ProductID,\r\n",
                "    D.LineTotal,\r\n",
                "    P.Name AS ProductName,\r\n",
                "    SC.Name AS ProductSubcategory,\r\n",
                "    C.Name AS ProductCategory\r\n",
                "FROM Sales.SalesOrderHeader AS H\r\n",
                "    JOIN Sales.SalesOrderDetail AS D\r\n",
                "        ON H.SalesOrderID = D.SalesOrderDetailID\r\n",
                "    JOIN Production.Product AS P\r\n",
                "        ON D.ProductID = P.ProductID\r\n",
                "    JOIN Production.ProductSubcategory AS SC\r\n",
                "        ON P.ProductSubcategoryID = SC.ProductSubcategoryID\r\n",
                "    JOIN Production.ProductCategory AS C\r\n",
                "        ON SC.ProductCategoryID = C.ProductCategoryID\r\n",
                "WHERE YEAR (H.OrderDate) = 2012;\r\n",
                "\r\n",
                "/*\r\n",
                "This particular query is ok since the source tables are not large, \r\n",
                "but if we were working with very large tables we would be better off with the following approach.\r\n",
                "*/"
            ],
            "metadata": {
                "azdata_cell_guid": "70126049-b62e-4839-8109-d39c562a6f5a",
                "language": "sql"
            },
            "outputs": [
                {
                    "output_type": "display_data",
                    "data": {
                        "text/html": "(10 rows affected)"
                    },
                    "metadata": {}
                },
                {
                    "output_type": "display_data",
                    "data": {
                        "text/html": "Total execution time: 00:00:00.098"
                    },
                    "metadata": {}
                },
                {
                    "output_type": "execute_result",
                    "metadata": {},
                    "execution_count": 1,
                    "data": {
                        "application/vnd.dataresource+json": {
                            "schema": {
                                "fields": [
                                    {
                                        "name": "SalesOrderID"
                                    },
                                    {
                                        "name": "OrderDate"
                                    },
                                    {
                                        "name": "ProductID"
                                    },
                                    {
                                        "name": "LineTotal"
                                    },
                                    {
                                        "name": "ProductName"
                                    },
                                    {
                                        "name": "ProductSubcategory"
                                    },
                                    {
                                        "name": "ProductCategory"
                                    }
                                ]
                            },
                            "data": [
                                {
                                    "0": "45266",
                                    "1": "2012-01-01 00:00:00.000",
                                    "2": "957",
                                    "3": "2384.070000",
                                    "4": "Touring-1000 Yellow, 60",
                                    "5": "Touring Bikes",
                                    "6": "Bikes"
                                },
                                {
                                    "0": "45267",
                                    "1": "2012-01-01 00:00:00.000",
                                    "2": "707",
                                    "3": "34.990000",
                                    "4": "Sport-100 Helmet, Red",
                                    "5": "Helmets",
                                    "6": "Accessories"
                                },
                                {
                                    "0": "45268",
                                    "1": "2012-01-01 00:00:00.000",
                                    "2": "796",
                                    "3": "2443.350000",
                                    "4": "Road-250 Black, 58",
                                    "5": "Road Bikes",
                                    "6": "Bikes"
                                },
                                {
                                    "0": "45269",
                                    "1": "2012-01-01 00:00:00.000",
                                    "2": "933",
                                    "3": "32.600000",
                                    "4": "HL Road Tire",
                                    "5": "Tires and Tubes",
                                    "6": "Accessories"
                                },
                                {
                                    "0": "45270",
                                    "1": "2012-01-01 00:00:00.000",
                                    "2": "922",
                                    "3": "3.990000",
                                    "4": "Road Tire Tube",
                                    "5": "Tires and Tubes",
                                    "6": "Accessories"
                                },
                                {
                                    "0": "45271",
                                    "1": "2012-01-01 00:00:00.000",
                                    "2": "707",
                                    "3": "34.990000",
                                    "4": "Sport-100 Helmet, Red",
                                    "5": "Helmets",
                                    "6": "Accessories"
                                },
                                {
                                    "0": "45272",
                                    "1": "2012-01-01 00:00:00.000",
                                    "2": "859",
                                    "3": "24.490000",
                                    "4": "Half-Finger Gloves, M",
                                    "5": "Gloves",
                                    "6": "Clothing"
                                },
                                {
                                    "0": "45273",
                                    "1": "2012-01-01 00:00:00.000",
                                    "2": "799",
                                    "3": "1120.490000",
                                    "4": "Road-550-W Yellow, 42",
                                    "5": "Road Bikes",
                                    "6": "Bikes"
                                },
                                {
                                    "0": "45274",
                                    "1": "2012-01-01 00:00:00.000",
                                    "2": "932",
                                    "3": "24.990000",
                                    "4": "ML Road Tire",
                                    "5": "Tires and Tubes",
                                    "6": "Accessories"
                                },
                                {
                                    "0": "45275",
                                    "1": "2012-01-01 00:00:00.000",
                                    "2": "922",
                                    "3": "3.990000",
                                    "4": "Road Tire Tube",
                                    "5": "Tires and Tubes",
                                    "6": "Accessories"
                                }
                            ]
                        },
                        "text/html": [
                            "<table>",
                            "<tr><th>SalesOrderID</th><th>OrderDate</th><th>ProductID</th><th>LineTotal</th><th>ProductName</th><th>ProductSubcategory</th><th>ProductCategory</th></tr>",
                            "<tr><td>45266</td><td>2012-01-01 00:00:00.000</td><td>957</td><td>2384.070000</td><td>Touring-1000 Yellow, 60</td><td>Touring Bikes</td><td>Bikes</td></tr>",
                            "<tr><td>45267</td><td>2012-01-01 00:00:00.000</td><td>707</td><td>34.990000</td><td>Sport-100 Helmet, Red</td><td>Helmets</td><td>Accessories</td></tr>",
                            "<tr><td>45268</td><td>2012-01-01 00:00:00.000</td><td>796</td><td>2443.350000</td><td>Road-250 Black, 58</td><td>Road Bikes</td><td>Bikes</td></tr>",
                            "<tr><td>45269</td><td>2012-01-01 00:00:00.000</td><td>933</td><td>32.600000</td><td>HL Road Tire</td><td>Tires and Tubes</td><td>Accessories</td></tr>",
                            "<tr><td>45270</td><td>2012-01-01 00:00:00.000</td><td>922</td><td>3.990000</td><td>Road Tire Tube</td><td>Tires and Tubes</td><td>Accessories</td></tr>",
                            "<tr><td>45271</td><td>2012-01-01 00:00:00.000</td><td>707</td><td>34.990000</td><td>Sport-100 Helmet, Red</td><td>Helmets</td><td>Accessories</td></tr>",
                            "<tr><td>45272</td><td>2012-01-01 00:00:00.000</td><td>859</td><td>24.490000</td><td>Half-Finger Gloves, M</td><td>Gloves</td><td>Clothing</td></tr>",
                            "<tr><td>45273</td><td>2012-01-01 00:00:00.000</td><td>799</td><td>1120.490000</td><td>Road-550-W Yellow, 42</td><td>Road Bikes</td><td>Bikes</td></tr>",
                            "<tr><td>45274</td><td>2012-01-01 00:00:00.000</td><td>932</td><td>24.990000</td><td>ML Road Tire</td><td>Tires and Tubes</td><td>Accessories</td></tr>",
                            "<tr><td>45275</td><td>2012-01-01 00:00:00.000</td><td>922</td><td>3.990000</td><td>Road Tire Tube</td><td>Tires and Tubes</td><td>Accessories</td></tr>",
                            "</table>"
                        ]
                    }
                }
            ],
            "execution_count": 1
        },
        {
            "cell_type": "code",
            "source": [
                "USE AW2019;\r\n",
                "\r\n",
                "-- Optimized Code\r\n",
                "\r\n",
                "-- Create Filtered Temp Table for 2012 Sales Data\r\n",
                "DROP TABLE IF EXISTS #Sales2012\r\n",
                "CREATE TABLE #Sales2012 (\r\n",
                "    SalesOrderID    INT,\r\n",
                "    OrderDate       DATE\r\n",
                ")\r\n",
                "\r\n",
                "    INSERT INTO #Sales2012 (\r\n",
                "        SalesOrderID,\r\n",
                "        OrderDate\r\n",
                "    )\r\n",
                "\r\n",
                "    SELECT SalesOrderID, OrderDate\r\n",
                "    FROM Sales.SalesOrderHeader\r\n",
                "    WHERE YEAR (OrderDate) = 2012;\r\n",
                "\r\n",
                "-- Create Master Temp Table and Insert #Sales2012\r\n",
                "DROP TABLE IF EXISTS #ProductsSold2012\r\n",
                "CREATE TABLE #ProductsSold2012 (\r\n",
                "    SalesOrderID            INT,\r\n",
                "    OrderDate               DATE,\r\n",
                "    LineTotal               MONEY,\r\n",
                "    ProductID               INT,\r\n",
                "    ProductName             VARCHAR(64),\r\n",
                "    ProductSubcategoryID    INT,\r\n",
                "    ProductSubcategory      VARCHAR(64),\r\n",
                "    ProductCategoryID       INT,\r\n",
                "    ProductCategory         VARCHAR(64)\r\n",
                ")\r\n",
                "\r\n",
                "    INSERT INTO #ProductsSold2012 (\r\n",
                "        SalesOrderID,\r\n",
                "        OrderDate,\r\n",
                "        LineTotal,\r\n",
                "        ProductID\r\n",
                "    )\r\n",
                "\r\n",
                "    SELECT\r\n",
                "        S.SalesOrderID,\r\n",
                "        S.OrderDate,\r\n",
                "        D.LineTotal,\r\n",
                "        D.ProductID\r\n",
                "    FROM #Sales2012 AS S -- less expensive join\r\n",
                "        JOIN Sales.SalesOrderDetail AS D\r\n",
                "            ON S.SalesOrderID = D.SalesOrderID;\r\n",
                "\r\n",
                "-- Update Remaining NULL Values in #ProductsSold2012\r\n",
                "UPDATE #ProductsSold2012\r\n",
                "SET \r\n",
                "    ProductName = P.Name,\r\n",
                "    ProductSubcategoryID = P.ProductSubcategoryID\r\n",
                "FROM #ProductsSold2012 AS PS\r\n",
                "    JOIN Production.Product AS P\r\n",
                "        ON PS.ProductID = P.ProductID;\r\n",
                "\r\n",
                "UPDATE #ProductsSold2012\r\n",
                "SET \r\n",
                "    ProductSubcategory = SC.Name,\r\n",
                "    ProductCategoryID = SC.ProductCategoryID\r\n",
                "FROM #ProductsSold2012 AS PS\r\n",
                "    JOIN Production.ProductSubcategory AS SC\r\n",
                "        ON PS.ProductSubcategoryID = SC.ProductSubcategoryID;\r\n",
                "\r\n",
                "UPDATE #ProductsSold2012\r\n",
                "SET ProductCategory = C.Name\r\n",
                "FROM #ProductsSold2012 AS PS\r\n",
                "    JOIN Production.ProductCategory AS C\r\n",
                "        ON PS.ProductCategoryID = C.ProductCategoryID;\r\n",
                "\r\n",
                "-- Query Data\r\n",
                "SELECT TOP 10 * \r\n",
                "FROM #ProductsSold2012;"
            ],
            "metadata": {
                "azdata_cell_guid": "5db1d06b-9d2d-4b37-813c-7882939c598f",
                "language": "sql"
            },
            "outputs": [
                {
                    "output_type": "display_data",
                    "data": {
                        "text/html": "(3915 rows affected)"
                    },
                    "metadata": {}
                },
                {
                    "output_type": "display_data",
                    "data": {
                        "text/html": "(21689 rows affected)"
                    },
                    "metadata": {}
                },
                {
                    "output_type": "display_data",
                    "data": {
                        "text/html": "(21689 rows affected)"
                    },
                    "metadata": {}
                },
                {
                    "output_type": "display_data",
                    "data": {
                        "text/html": "(21689 rows affected)"
                    },
                    "metadata": {}
                },
                {
                    "output_type": "display_data",
                    "data": {
                        "text/html": "(21689 rows affected)"
                    },
                    "metadata": {}
                },
                {
                    "output_type": "display_data",
                    "data": {
                        "text/html": "(10 rows affected)"
                    },
                    "metadata": {}
                },
                {
                    "output_type": "display_data",
                    "data": {
                        "text/html": "Total execution time: 00:00:01.380"
                    },
                    "metadata": {}
                },
                {
                    "output_type": "execute_result",
                    "metadata": {},
                    "execution_count": 2,
                    "data": {
                        "application/vnd.dataresource+json": {
                            "schema": {
                                "fields": [
                                    {
                                        "name": "SalesOrderID"
                                    },
                                    {
                                        "name": "OrderDate"
                                    },
                                    {
                                        "name": "LineTotal"
                                    },
                                    {
                                        "name": "ProductID"
                                    },
                                    {
                                        "name": "ProductName"
                                    },
                                    {
                                        "name": "ProductSubcategoryID"
                                    },
                                    {
                                        "name": "ProductSubcategory"
                                    },
                                    {
                                        "name": "ProductCategoryID"
                                    },
                                    {
                                        "name": "ProductCategory"
                                    }
                                ]
                            },
                            "data": [
                                {
                                    "0": "47362",
                                    "1": "2012-07-31",
                                    "2": "259.1222",
                                    "3": "863",
                                    "4": "Full-Finger Gloves, L",
                                    "5": "20",
                                    "6": "Gloves",
                                    "7": "3",
                                    "8": "Clothing"
                                },
                                {
                                    "0": "47362",
                                    "1": "2012-07-31",
                                    "2": "22.794",
                                    "3": "861",
                                    "4": "Full-Finger Gloves, S",
                                    "5": "20",
                                    "6": "Gloves",
                                    "7": "3",
                                    "8": "Clothing"
                                },
                                {
                                    "0": "47362",
                                    "1": "2012-07-31",
                                    "2": "4971.4072",
                                    "3": "780",
                                    "4": "Mountain-200 Silver, 42",
                                    "5": "1",
                                    "6": "Mountain Bikes",
                                    "7": "1",
                                    "8": "Bikes"
                                },
                                {
                                    "0": "47362",
                                    "1": "2012-07-31",
                                    "2": "109.341",
                                    "3": "815",
                                    "4": "LL Mountain Front Wheel",
                                    "5": "17",
                                    "6": "Wheels",
                                    "7": "2",
                                    "8": "Components"
                                },
                                {
                                    "0": "47362",
                                    "1": "2012-07-31",
                                    "2": "209.256",
                                    "3": "832",
                                    "4": "ML Mountain Frame - Black, 48",
                                    "5": "12",
                                    "6": "Mountain Frames",
                                    "7": "2",
                                    "8": "Components"
                                },
                                {
                                    "0": "47362",
                                    "1": "2012-07-31",
                                    "2": "1229.4589",
                                    "3": "782",
                                    "4": "Mountain-200 Black, 38",
                                    "5": "1",
                                    "6": "Mountain Bikes",
                                    "7": "1",
                                    "8": "Bikes"
                                },
                                {
                                    "0": "47362",
                                    "1": "2012-07-31",
                                    "2": "196.329",
                                    "3": "825",
                                    "4": "HL Mountain Rear Wheel",
                                    "5": "17",
                                    "6": "Wheels",
                                    "7": "2",
                                    "8": "Components"
                                },
                                {
                                    "0": "47362",
                                    "1": "2012-07-31",
                                    "2": "157.941",
                                    "3": "823",
                                    "4": "LL Mountain Rear Wheel",
                                    "5": "17",
                                    "6": "Wheels",
                                    "7": "2",
                                    "8": "Components"
                                },
                                {
                                    "0": "47363",
                                    "1": "2012-07-31",
                                    "2": "214.236",
                                    "3": "828",
                                    "4": "HL Road Rear Wheel",
                                    "5": "17",
                                    "6": "Wheels",
                                    "7": "2",
                                    "8": "Components"
                                },
                                {
                                    "0": "47364",
                                    "1": "2012-07-31",
                                    "2": "183.9382",
                                    "3": "738",
                                    "4": "LL Road Frame - Black, 52",
                                    "5": "14",
                                    "6": "Road Frames",
                                    "7": "2",
                                    "8": "Components"
                                }
                            ]
                        },
                        "text/html": [
                            "<table>",
                            "<tr><th>SalesOrderID</th><th>OrderDate</th><th>LineTotal</th><th>ProductID</th><th>ProductName</th><th>ProductSubcategoryID</th><th>ProductSubcategory</th><th>ProductCategoryID</th><th>ProductCategory</th></tr>",
                            "<tr><td>47362</td><td>2012-07-31</td><td>259.1222</td><td>863</td><td>Full-Finger Gloves, L</td><td>20</td><td>Gloves</td><td>3</td><td>Clothing</td></tr>",
                            "<tr><td>47362</td><td>2012-07-31</td><td>22.794</td><td>861</td><td>Full-Finger Gloves, S</td><td>20</td><td>Gloves</td><td>3</td><td>Clothing</td></tr>",
                            "<tr><td>47362</td><td>2012-07-31</td><td>4971.4072</td><td>780</td><td>Mountain-200 Silver, 42</td><td>1</td><td>Mountain Bikes</td><td>1</td><td>Bikes</td></tr>",
                            "<tr><td>47362</td><td>2012-07-31</td><td>109.341</td><td>815</td><td>LL Mountain Front Wheel</td><td>17</td><td>Wheels</td><td>2</td><td>Components</td></tr>",
                            "<tr><td>47362</td><td>2012-07-31</td><td>209.256</td><td>832</td><td>ML Mountain Frame - Black, 48</td><td>12</td><td>Mountain Frames</td><td>2</td><td>Components</td></tr>",
                            "<tr><td>47362</td><td>2012-07-31</td><td>1229.4589</td><td>782</td><td>Mountain-200 Black, 38</td><td>1</td><td>Mountain Bikes</td><td>1</td><td>Bikes</td></tr>",
                            "<tr><td>47362</td><td>2012-07-31</td><td>196.329</td><td>825</td><td>HL Mountain Rear Wheel</td><td>17</td><td>Wheels</td><td>2</td><td>Components</td></tr>",
                            "<tr><td>47362</td><td>2012-07-31</td><td>157.941</td><td>823</td><td>LL Mountain Rear Wheel</td><td>17</td><td>Wheels</td><td>2</td><td>Components</td></tr>",
                            "<tr><td>47363</td><td>2012-07-31</td><td>214.236</td><td>828</td><td>HL Road Rear Wheel</td><td>17</td><td>Wheels</td><td>2</td><td>Components</td></tr>",
                            "<tr><td>47364</td><td>2012-07-31</td><td>183.9382</td><td>738</td><td>LL Road Frame - Black, 52</td><td>14</td><td>Road Frames</td><td>2</td><td>Components</td></tr>",
                            "</table>"
                        ]
                    }
                }
            ],
            "execution_count": 2
        },
        {
            "cell_type": "markdown",
            "source": [
                "# Improved EXISTS and NOT EXISTS w/ UPDATE\r\n",
                "- EXISTS allows you to check for matching records from the many side of a relationship, without resulting in duplicated data from the one side\r\n",
                "    - This works fine uinless you need additional information about the match\r\n",
                "    - If you need to see data points pertaining to the match, UPDATE is a superior alternative\r\n",
                "- Choosing techniques;\r\n",
                "    - If you need to see all matches from the many side of the relationship, use JOIN\r\n",
                "    - If you don't want to see all matches from the many side, AND don't want to see information about matches, use EXISTS\r\n",
                "    - If you don't want to see all matches from the many side, but would like to see information about returned matches, use UPDATE\r\n",
                ""
            ],
            "metadata": {
                "azdata_cell_guid": "6b3d7f77-0b55-47f5-8ee1-fb619e1ee83f"
            },
            "attachments": {}
        },
        {
            "cell_type": "code",
            "source": [
                "USE AW2019;\r\n",
                "\r\n",
                "--Select All Orders w/ At Least One Item Over 10K, Using EXISTS\r\n",
                "SELECT TOP 10\r\n",
                "    H.SalesOrderID,\r\n",
                "    H.OrderDate,\r\n",
                "    H.TotalDue\r\n",
                "FROM Sales.SalesOrderHeader H\r\n",
                "WHERE EXISTS (\r\n",
                "\tSELECT H.SalesOrderID\r\n",
                "\tFROM Sales.SalesOrderDetail D\r\n",
                "\tWHERE H.SalesOrderID = D.SalesOrderID\r\n",
                "\t\tAND D.LineTotal > 10000\r\n",
                ")\r\n",
                "ORDER BY H.SalesOrderID\r\n",
                "\r\n",
                "\r\n",
                "-- Create a Table w/ Sales Data, Including a Field for Line Total\r\n",
                "DROP TABLE IF EXISTS #Sales\r\n",
                "CREATE TABLE #Sales (\r\n",
                "    SalesOrderID    INT,\r\n",
                "    OrderDate       DATE,\r\n",
                "    TotalDue        MONEY,\r\n",
                "    LineTotal       MONEY\r\n",
                ")\r\n",
                "\r\n",
                "\r\n",
                "--Insert Sales Data into Temp Table\r\n",
                "    INSERT INTO #Sales (\r\n",
                "        SalesOrderID,\r\n",
                "        OrderDate,\r\n",
                "        TotalDue\r\n",
                "    )\r\n",
                "\r\n",
                "    SELECT\r\n",
                "        SalesOrderID,\r\n",
                "        OrderDate,\r\n",
                "        TotalDue\r\n",
                "    FROM Sales.SalesOrderHeader\r\n",
                "\r\n",
                "\r\n",
                "--Update Temp Table w/ > 10K Line Totals\r\n",
                "UPDATE #Sales\r\n",
                "SET LineTotal = D.LineTotal\r\n",
                "FROM #Sales A\r\n",
                "\tJOIN Sales.SalesOrderDetail D\r\n",
                "\t\tON A.SalesOrderID = D.SalesOrderID\r\n",
                "WHERE D.LineTotal > 10000\r\n",
                "\r\n",
                "\r\n",
                "--Recreate EXISTS, Returning Records With Existing Line Total\r\n",
                "SELECT TOP 10 * \r\n",
                "FROM #Sales \r\n",
                "WHERE LineTotal IS NOT NULL;\r\n",
                "\r\n",
                "\r\n",
                "--Recreate NOT EXISTS, Returning Records Without Existing Line Total\r\n",
                "SELECT TOP 10 * \r\n",
                "FROM #Sales \r\n",
                "WHERE LineTotal IS NULL;"
            ],
            "metadata": {
                "azdata_cell_guid": "1775f1c9-6c32-42b9-a0f7-6401560b6ea7",
                "language": "sql"
            },
            "outputs": [
                {
                    "output_type": "display_data",
                    "data": {
                        "text/html": "(10 rows affected)"
                    },
                    "metadata": {}
                },
                {
                    "output_type": "display_data",
                    "data": {
                        "text/html": "(31465 rows affected)"
                    },
                    "metadata": {}
                },
                {
                    "output_type": "display_data",
                    "data": {
                        "text/html": "(416 rows affected)"
                    },
                    "metadata": {}
                },
                {
                    "output_type": "display_data",
                    "data": {
                        "text/html": "(10 rows affected)"
                    },
                    "metadata": {}
                },
                {
                    "output_type": "display_data",
                    "data": {
                        "text/html": "(10 rows affected)"
                    },
                    "metadata": {}
                },
                {
                    "output_type": "display_data",
                    "data": {
                        "text/html": "Total execution time: 00:00:00.160"
                    },
                    "metadata": {}
                },
                {
                    "output_type": "execute_result",
                    "metadata": {},
                    "execution_count": 3,
                    "data": {
                        "application/vnd.dataresource+json": {
                            "schema": {
                                "fields": [
                                    {
                                        "name": "SalesOrderID"
                                    },
                                    {
                                        "name": "OrderDate"
                                    },
                                    {
                                        "name": "TotalDue"
                                    }
                                ]
                            },
                            "data": [
                                {
                                    "0": "43683",
                                    "1": "2011-05-31 00:00:00.000",
                                    "2": "48204.0662"
                                },
                                {
                                    "0": "43695",
                                    "1": "2011-05-31 00:00:00.000",
                                    "2": "44344.8265"
                                },
                                {
                                    "0": "43843",
                                    "1": "2011-07-01 00:00:00.000",
                                    "2": "37106.2915"
                                },
                                {
                                    "0": "43864",
                                    "1": "2011-07-01 00:00:00.000",
                                    "2": "43335.7219"
                                },
                                {
                                    "0": "43869",
                                    "1": "2011-07-01 00:00:00.000",
                                    "2": "55408.1581"
                                },
                                {
                                    "0": "43875",
                                    "1": "2011-07-01 00:00:00.000",
                                    "2": "137343.2877"
                                },
                                {
                                    "0": "43881",
                                    "1": "2011-07-01 00:00:00.000",
                                    "2": "43706.8175"
                                },
                                {
                                    "0": "43884",
                                    "1": "2011-07-01 00:00:00.000",
                                    "2": "130416.4829"
                                },
                                {
                                    "0": "43890",
                                    "1": "2011-07-01 00:00:00.000",
                                    "2": "84686.9878"
                                },
                                {
                                    "0": "43894",
                                    "1": "2011-07-01 00:00:00.000",
                                    "2": "36585.904"
                                }
                            ]
                        },
                        "text/html": [
                            "<table>",
                            "<tr><th>SalesOrderID</th><th>OrderDate</th><th>TotalDue</th></tr>",
                            "<tr><td>43683</td><td>2011-05-31 00:00:00.000</td><td>48204.0662</td></tr>",
                            "<tr><td>43695</td><td>2011-05-31 00:00:00.000</td><td>44344.8265</td></tr>",
                            "<tr><td>43843</td><td>2011-07-01 00:00:00.000</td><td>37106.2915</td></tr>",
                            "<tr><td>43864</td><td>2011-07-01 00:00:00.000</td><td>43335.7219</td></tr>",
                            "<tr><td>43869</td><td>2011-07-01 00:00:00.000</td><td>55408.1581</td></tr>",
                            "<tr><td>43875</td><td>2011-07-01 00:00:00.000</td><td>137343.2877</td></tr>",
                            "<tr><td>43881</td><td>2011-07-01 00:00:00.000</td><td>43706.8175</td></tr>",
                            "<tr><td>43884</td><td>2011-07-01 00:00:00.000</td><td>130416.4829</td></tr>",
                            "<tr><td>43890</td><td>2011-07-01 00:00:00.000</td><td>84686.9878</td></tr>",
                            "<tr><td>43894</td><td>2011-07-01 00:00:00.000</td><td>36585.904</td></tr>",
                            "</table>"
                        ]
                    }
                },
                {
                    "output_type": "execute_result",
                    "metadata": {},
                    "execution_count": 3,
                    "data": {
                        "application/vnd.dataresource+json": {
                            "schema": {
                                "fields": [
                                    {
                                        "name": "SalesOrderID"
                                    },
                                    {
                                        "name": "OrderDate"
                                    },
                                    {
                                        "name": "TotalDue"
                                    },
                                    {
                                        "name": "LineTotal"
                                    }
                                ]
                            },
                            "data": [
                                {
                                    "0": "57012",
                                    "1": "2013-09-30",
                                    "2": "89661.1827",
                                    "3": "14906.1593"
                                },
                                {
                                    "0": "57023",
                                    "1": "2013-09-30",
                                    "2": "38837.7761",
                                    "3": "15109.0437"
                                },
                                {
                                    "0": "57034",
                                    "1": "2013-09-30",
                                    "2": "86193.0846",
                                    "3": "10262.07"
                                },
                                {
                                    "0": "57036",
                                    "1": "2013-09-30",
                                    "2": "42680.2308",
                                    "3": "11015.952"
                                },
                                {
                                    "0": "57037",
                                    "1": "2013-09-30",
                                    "2": "45566.5466",
                                    "3": "12527.946"
                                },
                                {
                                    "0": "57041",
                                    "1": "2013-09-30",
                                    "2": "71945.7548",
                                    "3": "14304.42"
                                },
                                {
                                    "0": "57045",
                                    "1": "2013-09-30",
                                    "2": "55385.6976",
                                    "3": "14304.42"
                                },
                                {
                                    "0": "57046",
                                    "1": "2013-09-30",
                                    "2": "82333.7853",
                                    "3": "13769.94"
                                },
                                {
                                    "0": "57051",
                                    "1": "2013-09-30",
                                    "2": "84763.4917",
                                    "3": "14220.2764"
                                },
                                {
                                    "0": "57054",
                                    "1": "2013-09-30",
                                    "2": "105120.5963",
                                    "3": "10013.094"
                                }
                            ]
                        },
                        "text/html": [
                            "<table>",
                            "<tr><th>SalesOrderID</th><th>OrderDate</th><th>TotalDue</th><th>LineTotal</th></tr>",
                            "<tr><td>57012</td><td>2013-09-30</td><td>89661.1827</td><td>14906.1593</td></tr>",
                            "<tr><td>57023</td><td>2013-09-30</td><td>38837.7761</td><td>15109.0437</td></tr>",
                            "<tr><td>57034</td><td>2013-09-30</td><td>86193.0846</td><td>10262.07</td></tr>",
                            "<tr><td>57036</td><td>2013-09-30</td><td>42680.2308</td><td>11015.952</td></tr>",
                            "<tr><td>57037</td><td>2013-09-30</td><td>45566.5466</td><td>12527.946</td></tr>",
                            "<tr><td>57041</td><td>2013-09-30</td><td>71945.7548</td><td>14304.42</td></tr>",
                            "<tr><td>57045</td><td>2013-09-30</td><td>55385.6976</td><td>14304.42</td></tr>",
                            "<tr><td>57046</td><td>2013-09-30</td><td>82333.7853</td><td>13769.94</td></tr>",
                            "<tr><td>57051</td><td>2013-09-30</td><td>84763.4917</td><td>14220.2764</td></tr>",
                            "<tr><td>57054</td><td>2013-09-30</td><td>105120.5963</td><td>10013.094</td></tr>",
                            "</table>"
                        ]
                    }
                },
                {
                    "output_type": "execute_result",
                    "metadata": {},
                    "execution_count": 3,
                    "data": {
                        "application/vnd.dataresource+json": {
                            "schema": {
                                "fields": [
                                    {
                                        "name": "SalesOrderID"
                                    },
                                    {
                                        "name": "OrderDate"
                                    },
                                    {
                                        "name": "TotalDue"
                                    },
                                    {
                                        "name": "LineTotal"
                                    }
                                ]
                            },
                            "data": [
                                {
                                    "0": "55803",
                                    "1": "2013-09-06",
                                    "2": "2673.0613",
                                    "3": "NULL"
                                },
                                {
                                    "0": "55804",
                                    "1": "2013-09-06",
                                    "2": "2644.3313",
                                    "3": "NULL"
                                },
                                {
                                    "0": "55805",
                                    "1": "2013-09-06",
                                    "2": "650.8008",
                                    "3": "NULL"
                                },
                                {
                                    "0": "55806",
                                    "1": "2013-09-06",
                                    "2": "1238.1415",
                                    "3": "NULL"
                                },
                                {
                                    "0": "55807",
                                    "1": "2013-09-06",
                                    "2": "1308.8283",
                                    "3": "NULL"
                                },
                                {
                                    "0": "55808",
                                    "1": "2013-09-06",
                                    "2": "1238.1415",
                                    "3": "NULL"
                                },
                                {
                                    "0": "55809",
                                    "1": "2013-09-06",
                                    "2": "1286.7394",
                                    "3": "NULL"
                                },
                                {
                                    "0": "55810",
                                    "1": "2013-09-06",
                                    "2": "695.0119",
                                    "3": "NULL"
                                },
                                {
                                    "0": "55811",
                                    "1": "2013-09-06",
                                    "2": "2755.3617",
                                    "3": "NULL"
                                },
                                {
                                    "0": "55812",
                                    "1": "2013-09-06",
                                    "2": "901.4701",
                                    "3": "NULL"
                                }
                            ]
                        },
                        "text/html": [
                            "<table>",
                            "<tr><th>SalesOrderID</th><th>OrderDate</th><th>TotalDue</th><th>LineTotal</th></tr>",
                            "<tr><td>55803</td><td>2013-09-06</td><td>2673.0613</td><td>NULL</td></tr>",
                            "<tr><td>55804</td><td>2013-09-06</td><td>2644.3313</td><td>NULL</td></tr>",
                            "<tr><td>55805</td><td>2013-09-06</td><td>650.8008</td><td>NULL</td></tr>",
                            "<tr><td>55806</td><td>2013-09-06</td><td>1238.1415</td><td>NULL</td></tr>",
                            "<tr><td>55807</td><td>2013-09-06</td><td>1308.8283</td><td>NULL</td></tr>",
                            "<tr><td>55808</td><td>2013-09-06</td><td>1238.1415</td><td>NULL</td></tr>",
                            "<tr><td>55809</td><td>2013-09-06</td><td>1286.7394</td><td>NULL</td></tr>",
                            "<tr><td>55810</td><td>2013-09-06</td><td>695.0119</td><td>NULL</td></tr>",
                            "<tr><td>55811</td><td>2013-09-06</td><td>2755.3617</td><td>NULL</td></tr>",
                            "<tr><td>55812</td><td>2013-09-06</td><td>901.4701</td><td>NULL</td></tr>",
                            "</table>"
                        ]
                    }
                }
            ],
            "execution_count": 3
        },
        {
            "cell_type": "markdown",
            "source": [
                "# Indexes\r\n",
                "- Main advantage of temp tavles over CTE's is that temp tables can be indexed for better performance\r\n",
                "- Indexes are database objects that can make queries against your tables faster\r\n",
                "    - They sort the data in the fileds they apply to (either in the tbale itself, or in a seperate data structure)\r\n",
                "    - Sorting allowes the data base engine to locate records within a table without having to search through the table row-by-row\r\n",
                "- Two types of indexes: Clustered and Non-Clustered\r\n",
                "- General approach to applying indexes;\r\n",
                "    - How tables are used in joins should drive the use of indexes\r\n",
                "    - Generally add a clustered index first, and then layer non-clustered indexes to cover additional fields that will be used to join other tables\r\n",
                "    - Indexes take up memeory in the database, so only add them when they are really needed\r\n",
                "    - Indexes slow down data inserts, so you should generally add indexes after data has been loaded\r\n",
                "\r\n",
                "# Clustered Indexes\r\n",
                "- Rows are physically sorted base on the field(s) the index is applied to\r\n",
                "- Tables with a primary key are given a clustered index by default\r\n",
                "- Most tables should have at least have a clustered index for query speed improvement\r\n",
                "- A table may only have one clustered index\r\n",
                "- Implementation strategies;\r\n",
                "    - Apply a clustered index to field(s) most likely to be used in joins\r\n",
                "    - These should also be the ones that most uniquely define a record in a table\r\n",
                "    - Whichever field is a good canditate for a primary key is likely also a good candidate for a clustered index\r\n",
                "\r\n",
                "# Non-Clustered Indexes\r\n",
                "- Advantage over clustered indexes is that many non-clustered indexes can be applied to a single table\r\n",
                "- Non-clustered indexes do not physcially sort the data in a table (which is why many can be applied to a single table)\r\n",
                "    - Sorted order is stored in an external data structure\r\n",
                "- Implementation strategies;\r\n",
                "    - Apply to fields that you'll use to join tables on outside of the clustered index\r\n",
                "    - Fields covered by non-clustered indexes should still have a high level of uniqueness\r\n",
                ""
            ],
            "metadata": {
                "azdata_cell_guid": "47f9a76a-d87e-43f7-ad08-9614bbd51245",
                "language": ""
            },
            "attachments": {}
        },
        {
            "cell_type": "code",
            "source": [
                "USE AW2019;\r\n",
                "\r\n",
                "-- Optimized Previous Code w/ Indexes (Use Join Fields to Drive Decisions, Create Indexes AFTER Data is Loaded)\r\n",
                "\r\n",
                "-- Create Filtered Temp Table for 2012 Sales Data\r\n",
                "DROP TABLE IF EXISTS #Sales2012\r\n",
                "CREATE TABLE #Sales2012 (\r\n",
                "    SalesOrderID    INT,\r\n",
                "    OrderDate       DATE\r\n",
                ")\r\n",
                "\r\n",
                "    INSERT INTO #Sales2012 (\r\n",
                "        SalesOrderID,\r\n",
                "        OrderDate\r\n",
                "    )\r\n",
                "\r\n",
                "    SELECT SalesOrderID, OrderDate\r\n",
                "    FROM Sales.SalesOrderHeader\r\n",
                "    WHERE YEAR (OrderDate) = 2012;\r\n",
                "\r\n",
                "    -- Add Clustered Index to #Sales2012\r\n",
                "    CREATE CLUSTERED INDEX Sales2012_idx ON #Sales2012 (SalesOrderID)\r\n",
                "\r\n",
                "-- Create Master Temp Table and Insert #Sales2012\r\n",
                "DROP TABLE IF EXISTS #ProductsSold2012\r\n",
                "CREATE TABLE #ProductsSold2012 (\r\n",
                "    SalesOrderID            INT,\r\n",
                "    -- SalesOrderDetailID      INT,\r\n",
                "    OrderDate               DATE,\r\n",
                "    LineTotal               MONEY,\r\n",
                "    ProductID               INT,\r\n",
                "    ProductName             VARCHAR(64),\r\n",
                "    ProductSubcategoryID    INT,\r\n",
                "    ProductSubcategory      VARCHAR(64),\r\n",
                "    ProductCategoryID       INT,\r\n",
                "    ProductCategory         VARCHAR(64)\r\n",
                ")\r\n",
                "\r\n",
                "    INSERT INTO #ProductsSold2012 (\r\n",
                "        SalesOrderID,\r\n",
                "        -- SalesOrderDetailID,\r\n",
                "        OrderDate,\r\n",
                "        LineTotal,\r\n",
                "        ProductID\r\n",
                "    )\r\n",
                "\r\n",
                "    SELECT\r\n",
                "        S.SalesOrderID,\r\n",
                "        -- D.SalesOrderDetailID,\r\n",
                "        S.OrderDate,\r\n",
                "        D.LineTotal,\r\n",
                "        D.ProductID\r\n",
                "    FROM #Sales2012 AS S -- less expensive join\r\n",
                "        JOIN Sales.SalesOrderDetail AS D\r\n",
                "            ON S.SalesOrderID = D.SalesOrderID;\r\n",
                "\r\n",
                "    -- Add Clustered Index to #ProductsSold2012\r\n",
                "    CREATE CLUSTERED INDEX ProductsSold2012_idx ON #ProductsSold2012 (SalesOrderID)\r\n",
                "\r\n",
                "    -- Add Non-Clustered Index to #ProductsSold2012\r\n",
                "    CREATE NONCLUSTERED INDEX ProductIDSold2012_idx ON #ProductsSold2012 (ProductID)\r\n",
                "\r\n",
                "-- Update Remaining NULL Values in #ProductsSold2012\r\n",
                "UPDATE #ProductsSold2012\r\n",
                "SET \r\n",
                "    ProductName = P.Name,\r\n",
                "    ProductSubcategoryID = P.ProductSubcategoryID\r\n",
                "FROM #ProductsSold2012 AS PS\r\n",
                "    JOIN Production.Product AS P\r\n",
                "        ON PS.ProductID = P.ProductID;\r\n",
                "\r\n",
                "-- Add Non-Clustered Index to #ProductsSold2012 Based on Previous Update\r\n",
                "CREATE NONCLUSTERED INDEX ProductSubcategoryIDSold2012_idx ON #ProductsSold2012 (ProductSubcategoryID)\r\n",
                "\r\n",
                "UPDATE #ProductsSold2012\r\n",
                "SET \r\n",
                "    ProductSubcategory = SC.Name,\r\n",
                "    ProductCategoryID = SC.ProductCategoryID\r\n",
                "FROM #ProductsSold2012 AS PS\r\n",
                "    JOIN Production.ProductSubcategory AS SC\r\n",
                "        ON PS.ProductSubcategoryID = SC.ProductSubcategoryID;\r\n",
                "\r\n",
                "-- Add Non-Clustered Index to #ProductsSold2012 Based on Previous Update\r\n",
                "CREATE NONCLUSTERED INDEX ProductCategoryIDSold2012_idx ON #ProductsSold2012 (ProductCategoryID)\r\n",
                "\r\n",
                "UPDATE #ProductsSold2012\r\n",
                "SET ProductCategory = C.Name\r\n",
                "FROM #ProductsSold2012 AS PS\r\n",
                "    JOIN Production.ProductCategory AS C\r\n",
                "        ON PS.ProductCategoryID = C.ProductCategoryID;\r\n",
                "\r\n",
                "-- Query Data\r\n",
                "SELECT TOP 10 * \r\n",
                "FROM #ProductsSold2012;"
            ],
            "metadata": {
                "azdata_cell_guid": "3008e8a0-2ad6-4d14-a38d-ea72cfa743f1",
                "language": "sql"
            },
            "outputs": [
                {
                    "output_type": "display_data",
                    "data": {
                        "text/html": "(3915 rows affected)"
                    },
                    "metadata": {}
                },
                {
                    "output_type": "display_data",
                    "data": {
                        "text/html": "(21689 rows affected)"
                    },
                    "metadata": {}
                },
                {
                    "output_type": "display_data",
                    "data": {
                        "text/html": "(21689 rows affected)"
                    },
                    "metadata": {}
                },
                {
                    "output_type": "display_data",
                    "data": {
                        "text/html": "(21689 rows affected)"
                    },
                    "metadata": {}
                },
                {
                    "output_type": "display_data",
                    "data": {
                        "text/html": "(21689 rows affected)"
                    },
                    "metadata": {}
                },
                {
                    "output_type": "display_data",
                    "data": {
                        "text/html": "(10 rows affected)"
                    },
                    "metadata": {}
                },
                {
                    "output_type": "display_data",
                    "data": {
                        "text/html": "Total execution time: 00:00:00.440"
                    },
                    "metadata": {}
                },
                {
                    "output_type": "execute_result",
                    "metadata": {},
                    "execution_count": 7,
                    "data": {
                        "application/vnd.dataresource+json": {
                            "schema": {
                                "fields": [
                                    {
                                        "name": "SalesOrderID"
                                    },
                                    {
                                        "name": "OrderDate"
                                    },
                                    {
                                        "name": "LineTotal"
                                    },
                                    {
                                        "name": "ProductID"
                                    },
                                    {
                                        "name": "ProductName"
                                    },
                                    {
                                        "name": "ProductSubcategoryID"
                                    },
                                    {
                                        "name": "ProductSubcategory"
                                    },
                                    {
                                        "name": "ProductCategoryID"
                                    },
                                    {
                                        "name": "ProductCategory"
                                    }
                                ]
                            },
                            "data": [
                                {
                                    "0": "46959",
                                    "1": "2012-06-30",
                                    "2": "447.093",
                                    "3": "819",
                                    "4": "ML Road Front Wheel",
                                    "5": "17",
                                    "6": "Wheels",
                                    "7": "2",
                                    "8": "Components"
                                },
                                {
                                    "0": "46959",
                                    "1": "2012-06-30",
                                    "2": "809.328",
                                    "3": "725",
                                    "4": "LL Road Frame - Red, 44",
                                    "5": "14",
                                    "6": "Road Frames",
                                    "7": "2",
                                    "8": "Components"
                                },
                                {
                                    "0": "46959",
                                    "1": "2012-06-30",
                                    "2": "100.9325",
                                    "3": "708",
                                    "4": "Sport-100 Helmet, Black",
                                    "5": "31",
                                    "6": "Helmets",
                                    "7": "4",
                                    "8": "Accessories"
                                },
                                {
                                    "0": "46959",
                                    "1": "2012-06-30",
                                    "2": "89.988",
                                    "3": "854",
                                    "4": "Women's Tights, L",
                                    "5": "24",
                                    "6": "Tights",
                                    "7": "3",
                                    "8": "Clothing"
                                },
                                {
                                    "0": "46959",
                                    "1": "2012-06-30",
                                    "2": "7853.625",
                                    "3": "794",
                                    "4": "Road-250 Black, 48",
                                    "5": "2",
                                    "6": "Road Bikes",
                                    "7": "1",
                                    "8": "Bikes"
                                },
                                {
                                    "0": "46959",
                                    "1": "2012-06-30",
                                    "2": "115.3616",
                                    "3": "715",
                                    "4": "Long-Sleeve Logo Jersey, L",
                                    "5": "21",
                                    "6": "Jerseys",
                                    "7": "3",
                                    "8": "Clothing"
                                },
                                {
                                    "0": "46959",
                                    "1": "2012-06-30",
                                    "2": "1409.382",
                                    "3": "767",
                                    "4": "Road-650 Black, 62",
                                    "5": "2",
                                    "6": "Road Bikes",
                                    "7": "1",
                                    "8": "Bikes"
                                },
                                {
                                    "0": "46959",
                                    "1": "2012-06-30",
                                    "2": "405.234",
                                    "3": "826",
                                    "4": "LL Road Rear Wheel",
                                    "5": "17",
                                    "6": "Wheels",
                                    "7": "2",
                                    "8": "Components"
                                },
                                {
                                    "0": "46959",
                                    "1": "2012-06-30",
                                    "2": "224.97",
                                    "3": "852",
                                    "4": "Women's Tights, S",
                                    "5": "24",
                                    "6": "Tights",
                                    "7": "3",
                                    "8": "Clothing"
                                },
                                {
                                    "0": "46959",
                                    "1": "2012-06-30",
                                    "2": "60.5595",
                                    "3": "707",
                                    "4": "Sport-100 Helmet, Red",
                                    "5": "31",
                                    "6": "Helmets",
                                    "7": "4",
                                    "8": "Accessories"
                                }
                            ]
                        },
                        "text/html": [
                            "<table>",
                            "<tr><th>SalesOrderID</th><th>OrderDate</th><th>LineTotal</th><th>ProductID</th><th>ProductName</th><th>ProductSubcategoryID</th><th>ProductSubcategory</th><th>ProductCategoryID</th><th>ProductCategory</th></tr>",
                            "<tr><td>46959</td><td>2012-06-30</td><td>447.093</td><td>819</td><td>ML Road Front Wheel</td><td>17</td><td>Wheels</td><td>2</td><td>Components</td></tr>",
                            "<tr><td>46959</td><td>2012-06-30</td><td>809.328</td><td>725</td><td>LL Road Frame - Red, 44</td><td>14</td><td>Road Frames</td><td>2</td><td>Components</td></tr>",
                            "<tr><td>46959</td><td>2012-06-30</td><td>100.9325</td><td>708</td><td>Sport-100 Helmet, Black</td><td>31</td><td>Helmets</td><td>4</td><td>Accessories</td></tr>",
                            "<tr><td>46959</td><td>2012-06-30</td><td>89.988</td><td>854</td><td>Women's Tights, L</td><td>24</td><td>Tights</td><td>3</td><td>Clothing</td></tr>",
                            "<tr><td>46959</td><td>2012-06-30</td><td>7853.625</td><td>794</td><td>Road-250 Black, 48</td><td>2</td><td>Road Bikes</td><td>1</td><td>Bikes</td></tr>",
                            "<tr><td>46959</td><td>2012-06-30</td><td>115.3616</td><td>715</td><td>Long-Sleeve Logo Jersey, L</td><td>21</td><td>Jerseys</td><td>3</td><td>Clothing</td></tr>",
                            "<tr><td>46959</td><td>2012-06-30</td><td>1409.382</td><td>767</td><td>Road-650 Black, 62</td><td>2</td><td>Road Bikes</td><td>1</td><td>Bikes</td></tr>",
                            "<tr><td>46959</td><td>2012-06-30</td><td>405.234</td><td>826</td><td>LL Road Rear Wheel</td><td>17</td><td>Wheels</td><td>2</td><td>Components</td></tr>",
                            "<tr><td>46959</td><td>2012-06-30</td><td>224.97</td><td>852</td><td>Women's Tights, S</td><td>24</td><td>Tights</td><td>3</td><td>Clothing</td></tr>",
                            "<tr><td>46959</td><td>2012-06-30</td><td>60.5595</td><td>707</td><td>Sport-100 Helmet, Red</td><td>31</td><td>Helmets</td><td>4</td><td>Accessories</td></tr>",
                            "</table>"
                        ]
                    }
                }
            ],
            "execution_count": 7
        },
        {
            "cell_type": "markdown",
            "source": [
                "# Creating Permanent Objects for Optimization\r\n",
                "- DDL (Data Definition Language): Pertain to the structure and definition of a table. Include CREATE, DROP, and TRUNCATE.\r\n",
                "- DML (Data Manipulation Language): Commands that manipulate data within tables. Include INSERT, UPDATE, and DELETE. \r\n",
                "- Benefits of lookup tables;\r\n",
                "    - Eliminate duplicated effort by locating frequently used attributes in one place\r\n",
                "    - Promote data integrity by consolidating a \"single version of truth\" in a central location\r\n",
                "    - Examples: Calendar, Store Locations, etc."
            ],
            "metadata": {
                "azdata_cell_guid": "3e6a7b45-d955-418d-81ea-67dd58eac1e6"
            },
            "attachments": {}
        },
        {
            "cell_type": "code",
            "source": [
                "USE AW2019;\r\n",
                "\r\n",
                "-- Create Permanent Lookup Calendar Table\r\n",
                "DROP TABLE IF EXISTS AW2019.dbo.Calendar\r\n",
                "CREATE TABLE AW2019.dbo.Calendar (\r\n",
                "    DateValue           DATE,\r\n",
                "    DayOfWeekNumber     INT,\r\n",
                "    DayOfWeekName       VARCHAR(32),\r\n",
                "    DayOfMonthNumber    INT,\r\n",
                "    MonthNumber         INT,\r\n",
                "    YearNumber          INT,\r\n",
                "    WeekendFlag         TINYINT\r\n",
                ")\r\n",
                "\r\n",
                "    -- Manually Inserting Values (Not Practical)\r\n",
                "    INSERT INTO AW2019.dbo.Calendar (\r\n",
                "        DateValue,\r\n",
                "        DayOfWeekNumber,\r\n",
                "        DayOfWeekName,\r\n",
                "        DayOfMonthNumber,\r\n",
                "        MonthNumber,\r\n",
                "        YearNumber,\r\n",
                "        WeekendFlag\r\n",
                "    )\r\n",
                "\r\n",
                "    VALUES (\r\n",
                "        CAST ('2011-01-01' AS DATE), 7, 'Saturday', 1, 1, 2011, 1\r\n",
                "    )\r\n",
                "\r\n",
                "    -- Truncate Table to Remove Inserted Values\r\n",
                "    TRUNCATE TABLE dbo.Calendar;\r\n",
                "\r\n",
                "-- Using a Recursive CTE to Generate a List of Dates and Insert\r\n",
                "WITH Dates AS (\r\n",
                "    SELECT CAST ('2011-01-01' AS DATE) AS DateValue\r\n",
                "\r\n",
                "    UNION ALL\r\n",
                "\r\n",
                "    SELECT DATEADD (DAY, 1, DateValue)\r\n",
                "    FROM Dates\r\n",
                "    WHERE DateValue < CAST ('2030-12-31' AS DATE)\r\n",
                ")\r\n",
                "\r\n",
                "INSERT INTO dbo.Calendar (DateValue)\r\n",
                "SELECT DateValue\r\n",
                "FROM Dates\r\n",
                "OPTION (MAXRECURSION 10000)\r\n",
                "\r\n",
                "-- Update Fields w/ Date Functions\r\n",
                "UPDATE dbo.Calendar\r\n",
                "SET\r\n",
                "    DayOfWeekNumber     = DATEPART (WEEKDAY, DateValue),\r\n",
                "    DayOfWeekName       = FORMAT (DateValue, 'dddd'),\r\n",
                "    DayOfMonthNumber    = DAY (DateValue),\r\n",
                "    MonthNumber         = MONTH (DateValue),\r\n",
                "    YearNumber          = YEAR (DateValue)\r\n",
                "\r\n",
                "\r\n",
                "UPDATE dbo.Calendar\r\n",
                "SET WeekendFlag =   CASE\r\n",
                "                        WHEN DayOfWeekName IN ('Saturday', 'Sunday') THEN 1\r\n",
                "                        ELSE 0\r\n",
                "                    END\r\n",
                "\r\n",
                "SELECT TOP 10 * \r\n",
                "FROM dbo.Calendar;"
            ],
            "metadata": {
                "azdata_cell_guid": "30e30769-dbb9-497a-aa70-430a0996d39e",
                "language": "sql"
            },
            "outputs": [
                {
                    "output_type": "display_data",
                    "data": {
                        "text/html": "(1 row affected)"
                    },
                    "metadata": {}
                },
                {
                    "output_type": "display_data",
                    "data": {
                        "text/html": "(7305 rows affected)"
                    },
                    "metadata": {}
                },
                {
                    "output_type": "display_data",
                    "data": {
                        "text/html": "(7305 rows affected)"
                    },
                    "metadata": {}
                },
                {
                    "output_type": "display_data",
                    "data": {
                        "text/html": "(7305 rows affected)"
                    },
                    "metadata": {}
                },
                {
                    "output_type": "display_data",
                    "data": {
                        "text/html": "(10 rows affected)"
                    },
                    "metadata": {}
                },
                {
                    "output_type": "display_data",
                    "data": {
                        "text/html": "Total execution time: 00:00:00.727"
                    },
                    "metadata": {}
                },
                {
                    "output_type": "execute_result",
                    "metadata": {},
                    "execution_count": 5,
                    "data": {
                        "application/vnd.dataresource+json": {
                            "schema": {
                                "fields": [
                                    {
                                        "name": "DateValue"
                                    },
                                    {
                                        "name": "DayOfWeekNumber"
                                    },
                                    {
                                        "name": "DayOfWeekName"
                                    },
                                    {
                                        "name": "DayOfMonthNumber"
                                    },
                                    {
                                        "name": "MonthNumber"
                                    },
                                    {
                                        "name": "YearNumber"
                                    },
                                    {
                                        "name": "WeekendFlag"
                                    }
                                ]
                            },
                            "data": [
                                {
                                    "0": "2011-01-01",
                                    "1": "7",
                                    "2": "Saturday",
                                    "3": "1",
                                    "4": "1",
                                    "5": "2011",
                                    "6": "1"
                                },
                                {
                                    "0": "2011-01-02",
                                    "1": "1",
                                    "2": "Sunday",
                                    "3": "2",
                                    "4": "1",
                                    "5": "2011",
                                    "6": "1"
                                },
                                {
                                    "0": "2011-01-03",
                                    "1": "2",
                                    "2": "Monday",
                                    "3": "3",
                                    "4": "1",
                                    "5": "2011",
                                    "6": "0"
                                },
                                {
                                    "0": "2011-01-04",
                                    "1": "3",
                                    "2": "Tuesday",
                                    "3": "4",
                                    "4": "1",
                                    "5": "2011",
                                    "6": "0"
                                },
                                {
                                    "0": "2011-01-05",
                                    "1": "4",
                                    "2": "Wednesday",
                                    "3": "5",
                                    "4": "1",
                                    "5": "2011",
                                    "6": "0"
                                },
                                {
                                    "0": "2011-01-06",
                                    "1": "5",
                                    "2": "Thursday",
                                    "3": "6",
                                    "4": "1",
                                    "5": "2011",
                                    "6": "0"
                                },
                                {
                                    "0": "2011-01-07",
                                    "1": "6",
                                    "2": "Friday",
                                    "3": "7",
                                    "4": "1",
                                    "5": "2011",
                                    "6": "0"
                                },
                                {
                                    "0": "2011-01-08",
                                    "1": "7",
                                    "2": "Saturday",
                                    "3": "8",
                                    "4": "1",
                                    "5": "2011",
                                    "6": "1"
                                },
                                {
                                    "0": "2011-01-09",
                                    "1": "1",
                                    "2": "Sunday",
                                    "3": "9",
                                    "4": "1",
                                    "5": "2011",
                                    "6": "1"
                                },
                                {
                                    "0": "2011-01-10",
                                    "1": "2",
                                    "2": "Monday",
                                    "3": "10",
                                    "4": "1",
                                    "5": "2011",
                                    "6": "0"
                                }
                            ]
                        },
                        "text/html": [
                            "<table>",
                            "<tr><th>DateValue</th><th>DayOfWeekNumber</th><th>DayOfWeekName</th><th>DayOfMonthNumber</th><th>MonthNumber</th><th>YearNumber</th><th>WeekendFlag</th></tr>",
                            "<tr><td>2011-01-01</td><td>7</td><td>Saturday</td><td>1</td><td>1</td><td>2011</td><td>1</td></tr>",
                            "<tr><td>2011-01-02</td><td>1</td><td>Sunday</td><td>2</td><td>1</td><td>2011</td><td>1</td></tr>",
                            "<tr><td>2011-01-03</td><td>2</td><td>Monday</td><td>3</td><td>1</td><td>2011</td><td>0</td></tr>",
                            "<tr><td>2011-01-04</td><td>3</td><td>Tuesday</td><td>4</td><td>1</td><td>2011</td><td>0</td></tr>",
                            "<tr><td>2011-01-05</td><td>4</td><td>Wednesday</td><td>5</td><td>1</td><td>2011</td><td>0</td></tr>",
                            "<tr><td>2011-01-06</td><td>5</td><td>Thursday</td><td>6</td><td>1</td><td>2011</td><td>0</td></tr>",
                            "<tr><td>2011-01-07</td><td>6</td><td>Friday</td><td>7</td><td>1</td><td>2011</td><td>0</td></tr>",
                            "<tr><td>2011-01-08</td><td>7</td><td>Saturday</td><td>8</td><td>1</td><td>2011</td><td>1</td></tr>",
                            "<tr><td>2011-01-09</td><td>1</td><td>Sunday</td><td>9</td><td>1</td><td>2011</td><td>1</td></tr>",
                            "<tr><td>2011-01-10</td><td>2</td><td>Monday</td><td>10</td><td>1</td><td>2011</td><td>0</td></tr>",
                            "</table>"
                        ]
                    }
                }
            ],
            "execution_count": 5
        },
        {
            "cell_type": "code",
            "source": [
                "USE AW2019;\r\n",
                "\r\n",
                "-- Use Calendar Table to Identify Weekend Sales\r\n",
                "SELECT TOP 10 H.*\r\n",
                "FROM Sales.SalesOrderHeader AS H\r\n",
                "    JOIN dbo.Calendar AS C\r\n",
                "        ON H.OrderDate = C.DateValue\r\n",
                "WHERE C.WeekendFlag = 1 AND H.SalesOrderNumber IS NOT NULL;"
            ],
            "metadata": {
                "azdata_cell_guid": "be83c183-97e0-4d87-90f8-ad84c17ba0cc",
                "language": "sql"
            },
            "outputs": [
                {
                    "output_type": "display_data",
                    "data": {
                        "text/html": "(10 rows affected)"
                    },
                    "metadata": {}
                },
                {
                    "output_type": "display_data",
                    "data": {
                        "text/html": "Total execution time: 00:00:00.043"
                    },
                    "metadata": {}
                },
                {
                    "output_type": "execute_result",
                    "metadata": {},
                    "execution_count": 6,
                    "data": {
                        "application/vnd.dataresource+json": {
                            "schema": {
                                "fields": [
                                    {
                                        "name": "SalesOrderID"
                                    },
                                    {
                                        "name": "RevisionNumber"
                                    },
                                    {
                                        "name": "OrderDate"
                                    },
                                    {
                                        "name": "DueDate"
                                    },
                                    {
                                        "name": "ShipDate"
                                    },
                                    {
                                        "name": "Status"
                                    },
                                    {
                                        "name": "OnlineOrderFlag"
                                    },
                                    {
                                        "name": "SalesOrderNumber"
                                    },
                                    {
                                        "name": "PurchaseOrderNumber"
                                    },
                                    {
                                        "name": "AccountNumber"
                                    },
                                    {
                                        "name": "CustomerID"
                                    },
                                    {
                                        "name": "SalesPersonID"
                                    },
                                    {
                                        "name": "TerritoryID"
                                    },
                                    {
                                        "name": "BillToAddressID"
                                    },
                                    {
                                        "name": "ShipToAddressID"
                                    },
                                    {
                                        "name": "ShipMethodID"
                                    },
                                    {
                                        "name": "CreditCardID"
                                    },
                                    {
                                        "name": "CreditCardApprovalCode"
                                    },
                                    {
                                        "name": "CurrencyRateID"
                                    },
                                    {
                                        "name": "SubTotal"
                                    },
                                    {
                                        "name": "TaxAmt"
                                    },
                                    {
                                        "name": "Freight"
                                    },
                                    {
                                        "name": "TotalDue"
                                    },
                                    {
                                        "name": "Comment"
                                    },
                                    {
                                        "name": "rowguid"
                                    },
                                    {
                                        "name": "ModifiedDate"
                                    }
                                ]
                            },
                            "data": [
                                {
                                    "0": "43713",
                                    "1": "8",
                                    "2": "2011-06-04 00:00:00.000",
                                    "3": "2011-06-16 00:00:00.000",
                                    "4": "2011-06-11 00:00:00.000",
                                    "5": "5",
                                    "6": "1",
                                    "7": "SO43713",
                                    "8": "NULL",
                                    "9": "10-4030-027601",
                                    "10": "27601",
                                    "11": "NULL",
                                    "12": "4",
                                    "13": "11855",
                                    "14": "11855",
                                    "15": "1",
                                    "16": "16570",
                                    "17": "830288Vi85808",
                                    "18": "NULL",
                                    "19": "3578.27",
                                    "20": "286.2616",
                                    "21": "89.4568",
                                    "22": "3953.9884",
                                    "23": "NULL",
                                    "24": "9de30294-9066-4988-a3ad-09a0713348e5",
                                    "25": "2011-06-11 00:00:00.000"
                                },
                                {
                                    "0": "43714",
                                    "1": "8",
                                    "2": "2011-06-04 00:00:00.000",
                                    "3": "2011-06-16 00:00:00.000",
                                    "4": "2011-06-11 00:00:00.000",
                                    "5": "5",
                                    "6": "1",
                                    "7": "SO43714",
                                    "8": "NULL",
                                    "9": "10-4030-013591",
                                    "10": "13591",
                                    "11": "NULL",
                                    "12": "10",
                                    "13": "15169",
                                    "14": "15169",
                                    "15": "1",
                                    "16": "15963",
                                    "17": "1031124Vi82522",
                                    "18": "61",
                                    "19": "3578.27",
                                    "20": "286.2616",
                                    "21": "89.4568",
                                    "22": "3953.9884",
                                    "23": "NULL",
                                    "24": "40659773-9ce3-4214-9886-c9de75e40274",
                                    "25": "2011-06-11 00:00:00.000"
                                },
                                {
                                    "0": "43715",
                                    "1": "8",
                                    "2": "2011-06-04 00:00:00.000",
                                    "3": "2011-06-16 00:00:00.000",
                                    "4": "2011-06-11 00:00:00.000",
                                    "5": "5",
                                    "6": "1",
                                    "7": "SO43715",
                                    "8": "NULL",
                                    "9": "10-4030-016483",
                                    "10": "16483",
                                    "11": "NULL",
                                    "12": "9",
                                    "13": "28213",
                                    "14": "28213",
                                    "15": "1",
                                    "16": "7985",
                                    "17": "1134605Vi41375",
                                    "18": "54",
                                    "19": "3578.27",
                                    "20": "286.2616",
                                    "21": "89.4568",
                                    "22": "3953.9884",
                                    "23": "NULL",
                                    "24": "36c19607-cc19-4cc0-8ea7-c16a6cc747dd",
                                    "25": "2011-06-11 00:00:00.000"
                                },
                                {
                                    "0": "43716",
                                    "1": "8",
                                    "2": "2011-06-04 00:00:00.000",
                                    "3": "2011-06-16 00:00:00.000",
                                    "4": "2011-06-11 00:00:00.000",
                                    "5": "5",
                                    "6": "1",
                                    "7": "SO43716",
                                    "8": "NULL",
                                    "9": "10-4030-016529",
                                    "10": "16529",
                                    "11": "NULL",
                                    "12": "9",
                                    "13": "23557",
                                    "14": "23557",
                                    "15": "1",
                                    "16": "5873",
                                    "17": "534626Vi30635",
                                    "18": "54",
                                    "19": "3578.27",
                                    "20": "286.2616",
                                    "21": "89.4568",
                                    "22": "3953.9884",
                                    "23": "NULL",
                                    "24": "92d7b8bf-071b-478e-a330-dec813c635f9",
                                    "25": "2011-06-11 00:00:00.000"
                                },
                                {
                                    "0": "43717",
                                    "1": "8",
                                    "2": "2011-06-04 00:00:00.000",
                                    "3": "2011-06-16 00:00:00.000",
                                    "4": "2011-06-11 00:00:00.000",
                                    "5": "5",
                                    "6": "1",
                                    "7": "SO43717",
                                    "8": "NULL",
                                    "9": "10-4030-025249",
                                    "10": "25249",
                                    "11": "NULL",
                                    "12": "9",
                                    "13": "11809",
                                    "14": "11809",
                                    "15": "1",
                                    "16": "5700",
                                    "17": "1235425Vi29858",
                                    "18": "54",
                                    "19": "699.0982",
                                    "20": "55.9279",
                                    "21": "17.4775",
                                    "22": "772.5036",
                                    "23": "NULL",
                                    "24": "8cf612ef-31b8-4a57-8e57-5c62d48a0944",
                                    "25": "2011-06-11 00:00:00.000"
                                },
                                {
                                    "0": "43718",
                                    "1": "8",
                                    "2": "2011-06-05 00:00:00.000",
                                    "3": "2011-06-17 00:00:00.000",
                                    "4": "2011-06-12 00:00:00.000",
                                    "5": "5",
                                    "6": "1",
                                    "7": "SO43718",
                                    "8": "NULL",
                                    "9": "10-4030-027668",
                                    "10": "27668",
                                    "11": "NULL",
                                    "12": "1",
                                    "13": "25346",
                                    "14": "25346",
                                    "15": "1",
                                    "16": "3049",
                                    "17": "530203Vi16052",
                                    "18": "NULL",
                                    "19": "3578.27",
                                    "20": "286.2616",
                                    "21": "89.4568",
                                    "22": "3953.9884",
                                    "23": "NULL",
                                    "24": "877141f0-4ae7-4fb3-b9e0-3ca2cc1a20c9",
                                    "25": "2011-06-12 00:00:00.000"
                                },
                                {
                                    "0": "43719",
                                    "1": "8",
                                    "2": "2011-06-05 00:00:00.000",
                                    "3": "2011-06-17 00:00:00.000",
                                    "4": "2011-06-12 00:00:00.000",
                                    "5": "5",
                                    "6": "1",
                                    "7": "SO43719",
                                    "8": "NULL",
                                    "9": "10-4030-027612",
                                    "10": "27612",
                                    "11": "NULL",
                                    "12": "4",
                                    "13": "13854",
                                    "14": "13854",
                                    "15": "1",
                                    "16": "5998",
                                    "17": "1130295Vi31203",
                                    "18": "NULL",
                                    "19": "3578.27",
                                    "20": "286.2616",
                                    "21": "89.4568",
                                    "22": "3953.9884",
                                    "23": "NULL",
                                    "24": "bf5155eb-c5be-4245-8fc4-f801db5b052d",
                                    "25": "2011-06-12 00:00:00.000"
                                },
                                {
                                    "0": "43720",
                                    "1": "8",
                                    "2": "2011-06-05 00:00:00.000",
                                    "3": "2011-06-17 00:00:00.000",
                                    "4": "2011-06-12 00:00:00.000",
                                    "5": "5",
                                    "6": "1",
                                    "7": "SO43720",
                                    "8": "NULL",
                                    "9": "10-4030-013264",
                                    "10": "13264",
                                    "11": "NULL",
                                    "12": "8",
                                    "13": "18584",
                                    "14": "18584",
                                    "15": "1",
                                    "16": "2765",
                                    "17": "831105Vi14399",
                                    "18": "71",
                                    "19": "3578.27",
                                    "20": "286.2616",
                                    "21": "89.4568",
                                    "22": "3953.9884",
                                    "23": "NULL",
                                    "24": "8832376e-105b-4696-8bb4-e6ec1aa20219",
                                    "25": "2011-06-12 00:00:00.000"
                                },
                                {
                                    "0": "43721",
                                    "1": "8",
                                    "2": "2011-06-05 00:00:00.000",
                                    "3": "2011-06-17 00:00:00.000",
                                    "4": "2011-06-12 00:00:00.000",
                                    "5": "5",
                                    "6": "1",
                                    "7": "SO43721",
                                    "8": "NULL",
                                    "9": "10-4030-013590",
                                    "10": "13590",
                                    "11": "NULL",
                                    "12": "10",
                                    "13": "22146",
                                    "14": "22146",
                                    "15": "1",
                                    "16": "11950",
                                    "17": "331111Vi61776",
                                    "18": "74",
                                    "19": "3578.27",
                                    "20": "286.2616",
                                    "21": "89.4568",
                                    "22": "3953.9884",
                                    "23": "NULL",
                                    "24": "3a8a408f-c18f-4ae3-b0c4-f3b82f5f3404",
                                    "25": "2011-06-12 00:00:00.000"
                                },
                                {
                                    "0": "43741",
                                    "1": "8",
                                    "2": "2011-06-11 00:00:00.000",
                                    "3": "2011-06-23 00:00:00.000",
                                    "4": "2011-06-18 00:00:00.000",
                                    "5": "5",
                                    "6": "1",
                                    "7": "SO43741",
                                    "8": "NULL",
                                    "9": "10-4030-027671",
                                    "10": "27671",
                                    "11": "NULL",
                                    "12": "1",
                                    "13": "13036",
                                    "14": "13036",
                                    "15": "1",
                                    "16": "4679",
                                    "17": "530206Vi24524",
                                    "18": "NULL",
                                    "19": "3578.27",
                                    "20": "286.2616",
                                    "21": "89.4568",
                                    "22": "3953.9884",
                                    "23": "NULL",
                                    "24": "c674c190-0cda-46f5-aac1-a65d9f902572",
                                    "25": "2011-06-18 00:00:00.000"
                                }
                            ]
                        },
                        "text/html": [
                            "<table>",
                            "<tr><th>SalesOrderID</th><th>RevisionNumber</th><th>OrderDate</th><th>DueDate</th><th>ShipDate</th><th>Status</th><th>OnlineOrderFlag</th><th>SalesOrderNumber</th><th>PurchaseOrderNumber</th><th>AccountNumber</th><th>CustomerID</th><th>SalesPersonID</th><th>TerritoryID</th><th>BillToAddressID</th><th>ShipToAddressID</th><th>ShipMethodID</th><th>CreditCardID</th><th>CreditCardApprovalCode</th><th>CurrencyRateID</th><th>SubTotal</th><th>TaxAmt</th><th>Freight</th><th>TotalDue</th><th>Comment</th><th>rowguid</th><th>ModifiedDate</th></tr>",
                            "<tr><td>43713</td><td>8</td><td>2011-06-04 00:00:00.000</td><td>2011-06-16 00:00:00.000</td><td>2011-06-11 00:00:00.000</td><td>5</td><td>1</td><td>SO43713</td><td>NULL</td><td>10-4030-027601</td><td>27601</td><td>NULL</td><td>4</td><td>11855</td><td>11855</td><td>1</td><td>16570</td><td>830288Vi85808</td><td>NULL</td><td>3578.27</td><td>286.2616</td><td>89.4568</td><td>3953.9884</td><td>NULL</td><td>9de30294-9066-4988-a3ad-09a0713348e5</td><td>2011-06-11 00:00:00.000</td></tr>",
                            "<tr><td>43714</td><td>8</td><td>2011-06-04 00:00:00.000</td><td>2011-06-16 00:00:00.000</td><td>2011-06-11 00:00:00.000</td><td>5</td><td>1</td><td>SO43714</td><td>NULL</td><td>10-4030-013591</td><td>13591</td><td>NULL</td><td>10</td><td>15169</td><td>15169</td><td>1</td><td>15963</td><td>1031124Vi82522</td><td>61</td><td>3578.27</td><td>286.2616</td><td>89.4568</td><td>3953.9884</td><td>NULL</td><td>40659773-9ce3-4214-9886-c9de75e40274</td><td>2011-06-11 00:00:00.000</td></tr>",
                            "<tr><td>43715</td><td>8</td><td>2011-06-04 00:00:00.000</td><td>2011-06-16 00:00:00.000</td><td>2011-06-11 00:00:00.000</td><td>5</td><td>1</td><td>SO43715</td><td>NULL</td><td>10-4030-016483</td><td>16483</td><td>NULL</td><td>9</td><td>28213</td><td>28213</td><td>1</td><td>7985</td><td>1134605Vi41375</td><td>54</td><td>3578.27</td><td>286.2616</td><td>89.4568</td><td>3953.9884</td><td>NULL</td><td>36c19607-cc19-4cc0-8ea7-c16a6cc747dd</td><td>2011-06-11 00:00:00.000</td></tr>",
                            "<tr><td>43716</td><td>8</td><td>2011-06-04 00:00:00.000</td><td>2011-06-16 00:00:00.000</td><td>2011-06-11 00:00:00.000</td><td>5</td><td>1</td><td>SO43716</td><td>NULL</td><td>10-4030-016529</td><td>16529</td><td>NULL</td><td>9</td><td>23557</td><td>23557</td><td>1</td><td>5873</td><td>534626Vi30635</td><td>54</td><td>3578.27</td><td>286.2616</td><td>89.4568</td><td>3953.9884</td><td>NULL</td><td>92d7b8bf-071b-478e-a330-dec813c635f9</td><td>2011-06-11 00:00:00.000</td></tr>",
                            "<tr><td>43717</td><td>8</td><td>2011-06-04 00:00:00.000</td><td>2011-06-16 00:00:00.000</td><td>2011-06-11 00:00:00.000</td><td>5</td><td>1</td><td>SO43717</td><td>NULL</td><td>10-4030-025249</td><td>25249</td><td>NULL</td><td>9</td><td>11809</td><td>11809</td><td>1</td><td>5700</td><td>1235425Vi29858</td><td>54</td><td>699.0982</td><td>55.9279</td><td>17.4775</td><td>772.5036</td><td>NULL</td><td>8cf612ef-31b8-4a57-8e57-5c62d48a0944</td><td>2011-06-11 00:00:00.000</td></tr>",
                            "<tr><td>43718</td><td>8</td><td>2011-06-05 00:00:00.000</td><td>2011-06-17 00:00:00.000</td><td>2011-06-12 00:00:00.000</td><td>5</td><td>1</td><td>SO43718</td><td>NULL</td><td>10-4030-027668</td><td>27668</td><td>NULL</td><td>1</td><td>25346</td><td>25346</td><td>1</td><td>3049</td><td>530203Vi16052</td><td>NULL</td><td>3578.27</td><td>286.2616</td><td>89.4568</td><td>3953.9884</td><td>NULL</td><td>877141f0-4ae7-4fb3-b9e0-3ca2cc1a20c9</td><td>2011-06-12 00:00:00.000</td></tr>",
                            "<tr><td>43719</td><td>8</td><td>2011-06-05 00:00:00.000</td><td>2011-06-17 00:00:00.000</td><td>2011-06-12 00:00:00.000</td><td>5</td><td>1</td><td>SO43719</td><td>NULL</td><td>10-4030-027612</td><td>27612</td><td>NULL</td><td>4</td><td>13854</td><td>13854</td><td>1</td><td>5998</td><td>1130295Vi31203</td><td>NULL</td><td>3578.27</td><td>286.2616</td><td>89.4568</td><td>3953.9884</td><td>NULL</td><td>bf5155eb-c5be-4245-8fc4-f801db5b052d</td><td>2011-06-12 00:00:00.000</td></tr>",
                            "<tr><td>43720</td><td>8</td><td>2011-06-05 00:00:00.000</td><td>2011-06-17 00:00:00.000</td><td>2011-06-12 00:00:00.000</td><td>5</td><td>1</td><td>SO43720</td><td>NULL</td><td>10-4030-013264</td><td>13264</td><td>NULL</td><td>8</td><td>18584</td><td>18584</td><td>1</td><td>2765</td><td>831105Vi14399</td><td>71</td><td>3578.27</td><td>286.2616</td><td>89.4568</td><td>3953.9884</td><td>NULL</td><td>8832376e-105b-4696-8bb4-e6ec1aa20219</td><td>2011-06-12 00:00:00.000</td></tr>",
                            "<tr><td>43721</td><td>8</td><td>2011-06-05 00:00:00.000</td><td>2011-06-17 00:00:00.000</td><td>2011-06-12 00:00:00.000</td><td>5</td><td>1</td><td>SO43721</td><td>NULL</td><td>10-4030-013590</td><td>13590</td><td>NULL</td><td>10</td><td>22146</td><td>22146</td><td>1</td><td>11950</td><td>331111Vi61776</td><td>74</td><td>3578.27</td><td>286.2616</td><td>89.4568</td><td>3953.9884</td><td>NULL</td><td>3a8a408f-c18f-4ae3-b0c4-f3b82f5f3404</td><td>2011-06-12 00:00:00.000</td></tr>",
                            "<tr><td>43741</td><td>8</td><td>2011-06-11 00:00:00.000</td><td>2011-06-23 00:00:00.000</td><td>2011-06-18 00:00:00.000</td><td>5</td><td>1</td><td>SO43741</td><td>NULL</td><td>10-4030-027671</td><td>27671</td><td>NULL</td><td>1</td><td>13036</td><td>13036</td><td>1</td><td>4679</td><td>530206Vi24524</td><td>NULL</td><td>3578.27</td><td>286.2616</td><td>89.4568</td><td>3953.9884</td><td>NULL</td><td>c674c190-0cda-46f5-aac1-a65d9f902572</td><td>2011-06-18 00:00:00.000</td></tr>",
                            "</table>"
                        ]
                    }
                }
            ],
            "execution_count": 6
        }
    ]
}