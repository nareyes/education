{
    "metadata": {
        "kernelspec": {
            "name": "SQL",
            "display_name": "SQL",
            "language": "sql"
        },
        "language_info": {
            "name": "sql",
            "version": ""
        }
    },
    "nbformat_minor": 2,
    "nbformat": 4,
    "cells": [
        {
            "cell_type": "markdown",
            "source": [
                "# CTEs Introduction\n",
                "\n",
                "- Common Table Expression\n",
                "- CTEs allow us to write multi-stage queries in a linear, easy to read format\n",
                "- Specifies temporary result set(s) that can be referenced by the final query in the CTE\n",
                "    - Temporary tables that can only be referenced within the full CTE query\n",
                "- All CTEs begin with a WITH statement, followed with temporary table(s) and a final query that references the temporary tables for a final output"
            ],
            "metadata": {
                "azdata_cell_guid": "88bd7d76-aa1a-4132-ae95-683299676d85"
            },
            "attachments": {}
        },
        {
            "cell_type": "code",
            "source": [
                "USE AW2019;\r\n",
                "\r\n",
                "WITH\r\n",
                "Sales AS (\r\n",
                "    SELECT\r\n",
                "        OrderDate,\r\n",
                "        OrderMonth  = DATEFROMPARTS (YEAR (OrderDate), MONTH (OrderDate), 1),\r\n",
                "        TotalDue,\r\n",
                "        OrderRank   = ROW_NUMBER() OVER (PARTITION BY DATEFROMPARTS (YEAR (OrderDate), MONTH (OrderDate), 1) ORDER BY TotalDue DESC)\r\n",
                "    FROM Sales.SalesOrderHeader\r\n",
                "),\r\n",
                "\r\n",
                "AvgSalesMinusTop10 AS (\r\n",
                "    SELECT\r\n",
                "        OrderMonth,\r\n",
                "        TotalSales  =   SUM (TotalDue)\r\n",
                "    FROM Sales\r\n",
                "    WHERE OrderRank > 10\r\n",
                "    GROUP BY OrderMonth\r\n",
                "),\r\n",
                "\r\n",
                "Purchases AS (\r\n",
                "    SELECT\r\n",
                "        OrderDate,\r\n",
                "        OrderMonth  = DATEFROMPARTS (YEAR (OrderDate), MONTH (OrderDate), 1),\r\n",
                "        TotalDue,\r\n",
                "        OrderRank   = ROW_NUMBER() OVER (PARTITION BY DATEFROMPARTS (YEAR (OrderDate), MONTH (OrderDate), 1) ORDER BY TotalDue DESC)\r\n",
                "    FROM Purchasing.PurchaseOrderHeader\r\n",
                "),\r\n",
                "\r\n",
                "AvgPurchasesMinusTop10 AS (\r\n",
                "    SELECT\r\n",
                "        OrderMonth,\r\n",
                "        TotalPurchases = SUM (TotalDue)\r\n",
                "    FROM Purchases\r\n",
                "    WHERE OrderRank > 10\r\n",
                "    GROUP BY OrderMonth\r\n",
                ")\r\n",
                "\r\n",
                "SELECT TOP 10\r\n",
                "    S.OrderMonth,\r\n",
                "    S.TotalSales,\r\n",
                "    P.TotalPurchases\r\n",
                "FROM AvgSalesMinusTop10 AS S\r\n",
                "    INNER JOIN AvgPurchasesMinusTop10 AS P\r\n",
                "        ON S.OrderMonth = P.OrderMonth\r\n",
                "ORDER BY OrderMonth ASC"
            ],
            "metadata": {
                "azdata_cell_guid": "11ca9984-3ec8-4f64-a966-037eddb9e917",
                "language": "sql"
            },
            "outputs": [
                {
                    "output_type": "display_data",
                    "data": {
                        "text/html": "(10 rows affected)"
                    },
                    "metadata": {}
                },
                {
                    "output_type": "display_data",
                    "data": {
                        "text/html": "Total execution time: 00:00:00.087"
                    },
                    "metadata": {}
                },
                {
                    "output_type": "execute_result",
                    "metadata": {},
                    "execution_count": 1,
                    "data": {
                        "application/vnd.dataresource+json": {
                            "schema": {
                                "fields": [
                                    {
                                        "name": "OrderMonth"
                                    },
                                    {
                                        "name": "TotalSales"
                                    },
                                    {
                                        "name": "TotalPurchases"
                                    }
                                ]
                            },
                            "data": [
                                {
                                    "0": "2011-12-01",
                                    "1": "1019635.6747",
                                    "2": "7254.3006"
                                },
                                {
                                    "0": "2012-01-01",
                                    "1": "3622013.9215",
                                    "2": "220767.0679"
                                },
                                {
                                    "0": "2012-02-01",
                                    "1": "1141791.6116",
                                    "2": "7610.834"
                                },
                                {
                                    "0": "2012-03-01",
                                    "1": "2441839.1531",
                                    "2": "218226.7469"
                                },
                                {
                                    "0": "2012-04-01",
                                    "1": "1341386.2938",
                                    "2": "2496.2083"
                                },
                                {
                                    "0": "2012-05-01",
                                    "1": "2259194.0397",
                                    "2": "5744.3167"
                                },
                                {
                                    "0": "2012-06-01",
                                    "1": "3527254.7224",
                                    "2": "107628.3985"
                                },
                                {
                                    "0": "2012-07-01",
                                    "1": "2560587.9382",
                                    "2": "234.7418"
                                },
                                {
                                    "0": "2012-08-01",
                                    "1": "1534278.5579",
                                    "2": "14737.7394"
                                },
                                {
                                    "0": "2012-09-01",
                                    "1": "2903851.4579",
                                    "2": "3485.3792"
                                }
                            ]
                        },
                        "text/html": [
                            "<table>",
                            "<tr><th>OrderMonth</th><th>TotalSales</th><th>TotalPurchases</th></tr>",
                            "<tr><td>2011-12-01</td><td>1019635.6747</td><td>7254.3006</td></tr>",
                            "<tr><td>2012-01-01</td><td>3622013.9215</td><td>220767.0679</td></tr>",
                            "<tr><td>2012-02-01</td><td>1141791.6116</td><td>7610.834</td></tr>",
                            "<tr><td>2012-03-01</td><td>2441839.1531</td><td>218226.7469</td></tr>",
                            "<tr><td>2012-04-01</td><td>1341386.2938</td><td>2496.2083</td></tr>",
                            "<tr><td>2012-05-01</td><td>2259194.0397</td><td>5744.3167</td></tr>",
                            "<tr><td>2012-06-01</td><td>3527254.7224</td><td>107628.3985</td></tr>",
                            "<tr><td>2012-07-01</td><td>2560587.9382</td><td>234.7418</td></tr>",
                            "<tr><td>2012-08-01</td><td>1534278.5579</td><td>14737.7394</td></tr>",
                            "<tr><td>2012-09-01</td><td>2903851.4579</td><td>3485.3792</td></tr>",
                            "</table>"
                        ]
                    }
                }
            ],
            "execution_count": 1
        }
    ]
}