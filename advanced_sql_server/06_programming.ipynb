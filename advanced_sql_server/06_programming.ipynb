{
    "metadata": {
        "kernelspec": {
            "name": "SQL",
            "display_name": "SQL",
            "language": "sql"
        },
        "language_info": {
            "name": "sql",
            "version": ""
        }
    },
    "nbformat_minor": 2,
    "nbformat": 4,
    "cells": [
        {
            "cell_type": "markdown",
            "source": [
                "# Variables\r\n",
                "- A variable is a named placeholder for a value or set of values\r\n",
                "- A variable only needs to be defined once, but can be reused many times\r\n",
                "- This allows us to consolidate complex logix into a variable, and then refer to the variable as many times as we need without repeating the logic"
            ],
            "metadata": {
                "azdata_cell_guid": "1082d26e-de9d-47f9-81e2-f7ff3f86ced5"
            },
            "attachments": {}
        },
        {
            "cell_type": "code",
            "source": [
                "USE AW2019;\r\n",
                "\r\n",
                "-- Declare & Set Variable\r\n",
                "DECLARE @mMyVarOne INT \r\n",
                "SET @mMyVarOne = 11\r\n",
                "SELECT @mMyVarOne AS MyVarOne\r\n",
                "\r\n",
                "-- Declare & Set Variable on Same Line\r\n",
                "DECLARE @mMyVarTwo INT = 12\r\n",
                "SELECT @mMyVarTwo AS MyVarTwo\r\n",
                "\r\n",
                "-- Declare Min Price Variable and Use in a Query\r\n",
                "DECLARE @MinPrice MONEY\r\n",
                "SET @MinPrice = 1000\r\n",
                "\r\n",
                "SELECT TOP 5 *\r\n",
                "FROM Production.Product\r\n",
                "WHERE ListPrice >= @MinPrice;"
            ],
            "metadata": {
                "azdata_cell_guid": "18ea4391-e691-42a6-b7c1-013bd91d2b00",
                "language": "sql"
            },
            "outputs": [
                {
                    "output_type": "display_data",
                    "data": {
                        "text/html": "(1 row affected)"
                    },
                    "metadata": {}
                },
                {
                    "output_type": "display_data",
                    "data": {
                        "text/html": "(1 row affected)"
                    },
                    "metadata": {}
                },
                {
                    "output_type": "display_data",
                    "data": {
                        "text/html": "(5 rows affected)"
                    },
                    "metadata": {}
                },
                {
                    "output_type": "display_data",
                    "data": {
                        "text/html": "Total execution time: 00:00:00.056"
                    },
                    "metadata": {}
                },
                {
                    "output_type": "execute_result",
                    "execution_count": 7,
                    "data": {
                        "application/vnd.dataresource+json": {
                            "schema": {
                                "fields": [
                                    {
                                        "name": "MyVarOne"
                                    }
                                ]
                            },
                            "data": [
                                {
                                    "0": "11"
                                }
                            ]
                        },
                        "text/html": "<table><tr><th>MyVarOne</th></tr><tr><td>11</td></tr></table>"
                    },
                    "metadata": {}
                },
                {
                    "output_type": "execute_result",
                    "execution_count": 7,
                    "data": {
                        "application/vnd.dataresource+json": {
                            "schema": {
                                "fields": [
                                    {
                                        "name": "MyVarTwo"
                                    }
                                ]
                            },
                            "data": [
                                {
                                    "0": "12"
                                }
                            ]
                        },
                        "text/html": "<table><tr><th>MyVarTwo</th></tr><tr><td>12</td></tr></table>"
                    },
                    "metadata": {}
                },
                {
                    "output_type": "execute_result",
                    "execution_count": 7,
                    "data": {
                        "application/vnd.dataresource+json": {
                            "schema": {
                                "fields": [
                                    {
                                        "name": "ProductID"
                                    },
                                    {
                                        "name": "Name"
                                    },
                                    {
                                        "name": "ProductNumber"
                                    },
                                    {
                                        "name": "MakeFlag"
                                    },
                                    {
                                        "name": "FinishedGoodsFlag"
                                    },
                                    {
                                        "name": "Color"
                                    },
                                    {
                                        "name": "SafetyStockLevel"
                                    },
                                    {
                                        "name": "ReorderPoint"
                                    },
                                    {
                                        "name": "StandardCost"
                                    },
                                    {
                                        "name": "ListPrice"
                                    },
                                    {
                                        "name": "Size"
                                    },
                                    {
                                        "name": "SizeUnitMeasureCode"
                                    },
                                    {
                                        "name": "WeightUnitMeasureCode"
                                    },
                                    {
                                        "name": "Weight"
                                    },
                                    {
                                        "name": "DaysToManufacture"
                                    },
                                    {
                                        "name": "ProductLine"
                                    },
                                    {
                                        "name": "Class"
                                    },
                                    {
                                        "name": "Style"
                                    },
                                    {
                                        "name": "ProductSubcategoryID"
                                    },
                                    {
                                        "name": "ProductModelID"
                                    },
                                    {
                                        "name": "SellStartDate"
                                    },
                                    {
                                        "name": "SellEndDate"
                                    },
                                    {
                                        "name": "DiscontinuedDate"
                                    },
                                    {
                                        "name": "rowguid"
                                    },
                                    {
                                        "name": "ModifiedDate"
                                    }
                                ]
                            },
                            "data": [
                                {
                                    "0": "680",
                                    "1": "HL Road Frame - Black, 58",
                                    "2": "FR-R92B-58",
                                    "3": "1",
                                    "4": "1",
                                    "5": "Black",
                                    "6": "500",
                                    "7": "375",
                                    "8": "1059.31",
                                    "9": "1431.50",
                                    "10": "58",
                                    "11": "CM ",
                                    "12": "LB ",
                                    "13": "2.24",
                                    "14": "1",
                                    "15": "R ",
                                    "16": "H ",
                                    "17": "U ",
                                    "18": "14",
                                    "19": "6",
                                    "20": "2008-04-30 00:00:00.000",
                                    "21": "NULL",
                                    "22": "NULL",
                                    "23": "43dd68d6-14a4-461f-9069-55309d90ea7e",
                                    "24": "2014-02-08 10:01:36.827"
                                },
                                {
                                    "0": "706",
                                    "1": "HL Road Frame - Red, 58",
                                    "2": "FR-R92R-58",
                                    "3": "1",
                                    "4": "1",
                                    "5": "Red",
                                    "6": "500",
                                    "7": "375",
                                    "8": "1059.31",
                                    "9": "1431.50",
                                    "10": "58",
                                    "11": "CM ",
                                    "12": "LB ",
                                    "13": "2.24",
                                    "14": "1",
                                    "15": "R ",
                                    "16": "H ",
                                    "17": "U ",
                                    "18": "14",
                                    "19": "6",
                                    "20": "2008-04-30 00:00:00.000",
                                    "21": "NULL",
                                    "22": "NULL",
                                    "23": "9540ff17-2712-4c90-a3d1-8ce5568b2462",
                                    "24": "2014-02-08 10:01:36.827"
                                },
                                {
                                    "0": "717",
                                    "1": "HL Road Frame - Red, 62",
                                    "2": "FR-R92R-62",
                                    "3": "1",
                                    "4": "1",
                                    "5": "Red",
                                    "6": "500",
                                    "7": "375",
                                    "8": "868.6342",
                                    "9": "1431.50",
                                    "10": "62",
                                    "11": "CM ",
                                    "12": "LB ",
                                    "13": "2.30",
                                    "14": "1",
                                    "15": "R ",
                                    "16": "H ",
                                    "17": "U ",
                                    "18": "14",
                                    "19": "6",
                                    "20": "2011-05-31 00:00:00.000",
                                    "21": "NULL",
                                    "22": "NULL",
                                    "23": "052e4f8b-0a2a-46b2-9f42-10febcfae416",
                                    "24": "2014-02-08 10:01:36.827"
                                },
                                {
                                    "0": "718",
                                    "1": "HL Road Frame - Red, 44",
                                    "2": "FR-R92R-44",
                                    "3": "1",
                                    "4": "1",
                                    "5": "Red",
                                    "6": "500",
                                    "7": "375",
                                    "8": "868.6342",
                                    "9": "1431.50",
                                    "10": "44",
                                    "11": "CM ",
                                    "12": "LB ",
                                    "13": "2.12",
                                    "14": "1",
                                    "15": "R ",
                                    "16": "H ",
                                    "17": "U ",
                                    "18": "14",
                                    "19": "6",
                                    "20": "2011-05-31 00:00:00.000",
                                    "21": "NULL",
                                    "22": "NULL",
                                    "23": "a88d3b54-2cae-43f2-8c6e-ea1d97b46a7c",
                                    "24": "2014-02-08 10:01:36.827"
                                },
                                {
                                    "0": "719",
                                    "1": "HL Road Frame - Red, 48",
                                    "2": "FR-R92R-48",
                                    "3": "1",
                                    "4": "1",
                                    "5": "Red",
                                    "6": "500",
                                    "7": "375",
                                    "8": "868.6342",
                                    "9": "1431.50",
                                    "10": "48",
                                    "11": "CM ",
                                    "12": "LB ",
                                    "13": "2.16",
                                    "14": "1",
                                    "15": "R ",
                                    "16": "H ",
                                    "17": "U ",
                                    "18": "14",
                                    "19": "6",
                                    "20": "2011-05-31 00:00:00.000",
                                    "21": "NULL",
                                    "22": "NULL",
                                    "23": "07befc9a-7634-402b-b234-d7797733baaf",
                                    "24": "2014-02-08 10:01:36.827"
                                }
                            ]
                        },
                        "text/html": "<table><tr><th>ProductID</th><th>Name</th><th>ProductNumber</th><th>MakeFlag</th><th>FinishedGoodsFlag</th><th>Color</th><th>SafetyStockLevel</th><th>ReorderPoint</th><th>StandardCost</th><th>ListPrice</th><th>Size</th><th>SizeUnitMeasureCode</th><th>WeightUnitMeasureCode</th><th>Weight</th><th>DaysToManufacture</th><th>ProductLine</th><th>Class</th><th>Style</th><th>ProductSubcategoryID</th><th>ProductModelID</th><th>SellStartDate</th><th>SellEndDate</th><th>DiscontinuedDate</th><th>rowguid</th><th>ModifiedDate</th></tr><tr><td>680</td><td>HL Road Frame - Black, 58</td><td>FR-R92B-58</td><td>1</td><td>1</td><td>Black</td><td>500</td><td>375</td><td>1059.31</td><td>1431.50</td><td>58</td><td>CM </td><td>LB </td><td>2.24</td><td>1</td><td>R </td><td>H </td><td>U </td><td>14</td><td>6</td><td>2008-04-30 00:00:00.000</td><td>NULL</td><td>NULL</td><td>43dd68d6-14a4-461f-9069-55309d90ea7e</td><td>2014-02-08 10:01:36.827</td></tr><tr><td>706</td><td>HL Road Frame - Red, 58</td><td>FR-R92R-58</td><td>1</td><td>1</td><td>Red</td><td>500</td><td>375</td><td>1059.31</td><td>1431.50</td><td>58</td><td>CM </td><td>LB </td><td>2.24</td><td>1</td><td>R </td><td>H </td><td>U </td><td>14</td><td>6</td><td>2008-04-30 00:00:00.000</td><td>NULL</td><td>NULL</td><td>9540ff17-2712-4c90-a3d1-8ce5568b2462</td><td>2014-02-08 10:01:36.827</td></tr><tr><td>717</td><td>HL Road Frame - Red, 62</td><td>FR-R92R-62</td><td>1</td><td>1</td><td>Red</td><td>500</td><td>375</td><td>868.6342</td><td>1431.50</td><td>62</td><td>CM </td><td>LB </td><td>2.30</td><td>1</td><td>R </td><td>H </td><td>U </td><td>14</td><td>6</td><td>2011-05-31 00:00:00.000</td><td>NULL</td><td>NULL</td><td>052e4f8b-0a2a-46b2-9f42-10febcfae416</td><td>2014-02-08 10:01:36.827</td></tr><tr><td>718</td><td>HL Road Frame - Red, 44</td><td>FR-R92R-44</td><td>1</td><td>1</td><td>Red</td><td>500</td><td>375</td><td>868.6342</td><td>1431.50</td><td>44</td><td>CM </td><td>LB </td><td>2.12</td><td>1</td><td>R </td><td>H </td><td>U </td><td>14</td><td>6</td><td>2011-05-31 00:00:00.000</td><td>NULL</td><td>NULL</td><td>a88d3b54-2cae-43f2-8c6e-ea1d97b46a7c</td><td>2014-02-08 10:01:36.827</td></tr><tr><td>719</td><td>HL Road Frame - Red, 48</td><td>FR-R92R-48</td><td>1</td><td>1</td><td>Red</td><td>500</td><td>375</td><td>868.6342</td><td>1431.50</td><td>48</td><td>CM </td><td>LB </td><td>2.16</td><td>1</td><td>R </td><td>H </td><td>U </td><td>14</td><td>6</td><td>2011-05-31 00:00:00.000</td><td>NULL</td><td>NULL</td><td>07befc9a-7634-402b-b234-d7797733baaf</td><td>2014-02-08 10:01:36.827</td></tr></table>"
                    },
                    "metadata": {}
                }
            ],
            "execution_count": 7
        },
        {
            "cell_type": "code",
            "source": [
                "USE AW2019;\r\n",
                "\r\n",
                "-- Embedded Subquery\r\n",
                "SELECT TOP 5\r\n",
                "    ProductID,\r\n",
                "    Name,\r\n",
                "    StandardCost,\r\n",
                "    ListPrice,\r\n",
                "    AvgListPrice        = (SELECT AVG (ListPrice) FROM Production.Product),\r\n",
                "    AvgListPriceDiff    = ListPrice - (SELECT AVG (ListPrice) FROM Production.Product)\r\n",
                "FROM Production.Product\r\n",
                "WHERE ListPrice > (SELECT AVG (ListPrice) FROM Production.Product)\r\n",
                "ORDER BY ListPrice ASC;\r\n",
                "\r\n",
                "-- Alternate Solution Using a Variable\r\n",
                "DECLARE @AvgPrice MONEY\r\n",
                "SELECT @AvgPrice = (\r\n",
                "    SELECT AVG (ListPrice) \r\n",
                "    FROM Production.Product\r\n",
                ")\r\n",
                "\r\n",
                "SELECT TOP 5\r\n",
                "    ProductID,\r\n",
                "    Name,\r\n",
                "    StandardCost,\r\n",
                "    ListPrice,\r\n",
                "    AvgListPrice        = @AvgPrice,\r\n",
                "    AvgListPriceDiff    = ListPrice - @AvgPrice\r\n",
                "FROM Production.Product\r\n",
                "WHERE ListPrice > @AvgPrice\r\n",
                "ORDER BY ListPrice ASC;"
            ],
            "metadata": {
                "azdata_cell_guid": "b748f82d-90d4-46a1-8c5b-88673d9c1f90",
                "language": "sql"
            },
            "outputs": [
                {
                    "output_type": "display_data",
                    "data": {
                        "text/html": "(5 rows affected)"
                    },
                    "metadata": {}
                },
                {
                    "output_type": "display_data",
                    "data": {
                        "text/html": "(5 rows affected)"
                    },
                    "metadata": {}
                },
                {
                    "output_type": "display_data",
                    "data": {
                        "text/html": "Total execution time: 00:00:00.031"
                    },
                    "metadata": {}
                },
                {
                    "output_type": "execute_result",
                    "execution_count": 8,
                    "data": {
                        "application/vnd.dataresource+json": {
                            "schema": {
                                "fields": [
                                    {
                                        "name": "ProductID"
                                    },
                                    {
                                        "name": "Name"
                                    },
                                    {
                                        "name": "StandardCost"
                                    },
                                    {
                                        "name": "ListPrice"
                                    },
                                    {
                                        "name": "AvgListPrice"
                                    },
                                    {
                                        "name": "AvgListPriceDiff"
                                    }
                                ]
                            },
                            "data": [
                                {
                                    "0": "977",
                                    "1": "Road-750 Black, 58",
                                    "2": "343.6496",
                                    "3": "539.99",
                                    "4": "438.6662",
                                    "5": "101.3238"
                                },
                                {
                                    "0": "989",
                                    "1": "Mountain-500 Black, 40",
                                    "2": "294.5797",
                                    "3": "539.99",
                                    "4": "438.6662",
                                    "5": "101.3238"
                                },
                                {
                                    "0": "990",
                                    "1": "Mountain-500 Black, 42",
                                    "2": "294.5797",
                                    "3": "539.99",
                                    "4": "438.6662",
                                    "5": "101.3238"
                                },
                                {
                                    "0": "991",
                                    "1": "Mountain-500 Black, 44",
                                    "2": "294.5797",
                                    "3": "539.99",
                                    "4": "438.6662",
                                    "5": "101.3238"
                                },
                                {
                                    "0": "992",
                                    "1": "Mountain-500 Black, 48",
                                    "2": "294.5797",
                                    "3": "539.99",
                                    "4": "438.6662",
                                    "5": "101.3238"
                                }
                            ]
                        },
                        "text/html": "<table><tr><th>ProductID</th><th>Name</th><th>StandardCost</th><th>ListPrice</th><th>AvgListPrice</th><th>AvgListPriceDiff</th></tr><tr><td>977</td><td>Road-750 Black, 58</td><td>343.6496</td><td>539.99</td><td>438.6662</td><td>101.3238</td></tr><tr><td>989</td><td>Mountain-500 Black, 40</td><td>294.5797</td><td>539.99</td><td>438.6662</td><td>101.3238</td></tr><tr><td>990</td><td>Mountain-500 Black, 42</td><td>294.5797</td><td>539.99</td><td>438.6662</td><td>101.3238</td></tr><tr><td>991</td><td>Mountain-500 Black, 44</td><td>294.5797</td><td>539.99</td><td>438.6662</td><td>101.3238</td></tr><tr><td>992</td><td>Mountain-500 Black, 48</td><td>294.5797</td><td>539.99</td><td>438.6662</td><td>101.3238</td></tr></table>"
                    },
                    "metadata": {}
                },
                {
                    "output_type": "execute_result",
                    "execution_count": 8,
                    "data": {
                        "application/vnd.dataresource+json": {
                            "schema": {
                                "fields": [
                                    {
                                        "name": "ProductID"
                                    },
                                    {
                                        "name": "Name"
                                    },
                                    {
                                        "name": "StandardCost"
                                    },
                                    {
                                        "name": "ListPrice"
                                    },
                                    {
                                        "name": "AvgListPrice"
                                    },
                                    {
                                        "name": "AvgListPriceDiff"
                                    }
                                ]
                            },
                            "data": [
                                {
                                    "0": "977",
                                    "1": "Road-750 Black, 58",
                                    "2": "343.6496",
                                    "3": "539.99",
                                    "4": "438.6662",
                                    "5": "101.3238"
                                },
                                {
                                    "0": "989",
                                    "1": "Mountain-500 Black, 40",
                                    "2": "294.5797",
                                    "3": "539.99",
                                    "4": "438.6662",
                                    "5": "101.3238"
                                },
                                {
                                    "0": "990",
                                    "1": "Mountain-500 Black, 42",
                                    "2": "294.5797",
                                    "3": "539.99",
                                    "4": "438.6662",
                                    "5": "101.3238"
                                },
                                {
                                    "0": "991",
                                    "1": "Mountain-500 Black, 44",
                                    "2": "294.5797",
                                    "3": "539.99",
                                    "4": "438.6662",
                                    "5": "101.3238"
                                },
                                {
                                    "0": "992",
                                    "1": "Mountain-500 Black, 48",
                                    "2": "294.5797",
                                    "3": "539.99",
                                    "4": "438.6662",
                                    "5": "101.3238"
                                }
                            ]
                        },
                        "text/html": "<table><tr><th>ProductID</th><th>Name</th><th>StandardCost</th><th>ListPrice</th><th>AvgListPrice</th><th>AvgListPriceDiff</th></tr><tr><td>977</td><td>Road-750 Black, 58</td><td>343.6496</td><td>539.99</td><td>438.6662</td><td>101.3238</td></tr><tr><td>989</td><td>Mountain-500 Black, 40</td><td>294.5797</td><td>539.99</td><td>438.6662</td><td>101.3238</td></tr><tr><td>990</td><td>Mountain-500 Black, 42</td><td>294.5797</td><td>539.99</td><td>438.6662</td><td>101.3238</td></tr><tr><td>991</td><td>Mountain-500 Black, 44</td><td>294.5797</td><td>539.99</td><td>438.6662</td><td>101.3238</td></tr><tr><td>992</td><td>Mountain-500 Black, 48</td><td>294.5797</td><td>539.99</td><td>438.6662</td><td>101.3238</td></tr></table>"
                    },
                    "metadata": {}
                }
            ],
            "execution_count": 8
        },
        {
            "cell_type": "code",
            "source": [
                "-- Using Variables to Work w/ Dates\r\n",
                "DECLARE @Today DATE \r\n",
                "SET @Today = CAST (GETDATE() aS DATE)\r\n",
                "\r\n",
                "DECLARE @FirstDayOfMonth DATE\r\n",
                "SET @FirstDayOfMonth = DATEFROMPARTS (YEAR (@Today), MONTH (@Today), 1)\r\n",
                "\r\n",
                "DECLARE @FirstDayOfPrevMonth DATE\r\n",
                "SET @FirstDayOfPrevMonth = DATEADD (MONTH, -1, @FirstDayOfMonth)\r\n",
                "\r\n",
                "DECLARE @LastDayOfPrevMonth DATE\r\n",
                "SET @LastDayOfPrevMonth = DATEADD (DAY, -1, @FirstDayOfMonth)\r\n",
                "\r\n",
                "SELECT @Today AS Today;\r\n",
                "SELECT @FirstDayOfMonth AS FirstDayOfMonth;\r\n",
                "SELECT @FirstDayOfPrevMonth AS FirstDayOfPrevMonth;\r\n",
                "SELECT @LastDayOfPrevMonth AS LastDayOfPrevMonth;\r\n",
                "\r\n",
                "-- Querying Calendar Table \r\n",
                "SELECT TOP 5 *\r\n",
                "FROM AW2019.dbo.Calendar\r\n",
                "WHERE DateValue BETWEEN @FirstDayOfPrevMonth AND @LastDayOfPrevMonth;"
            ],
            "metadata": {
                "azdata_cell_guid": "50d5aae4-2619-4125-86b8-7840d5301d7d",
                "language": "sql"
            },
            "outputs": [
                {
                    "output_type": "display_data",
                    "data": {
                        "text/html": "(1 row affected)"
                    },
                    "metadata": {}
                },
                {
                    "output_type": "display_data",
                    "data": {
                        "text/html": "(1 row affected)"
                    },
                    "metadata": {}
                },
                {
                    "output_type": "display_data",
                    "data": {
                        "text/html": "(1 row affected)"
                    },
                    "metadata": {}
                },
                {
                    "output_type": "display_data",
                    "data": {
                        "text/html": "(1 row affected)"
                    },
                    "metadata": {}
                },
                {
                    "output_type": "display_data",
                    "data": {
                        "text/html": "(5 rows affected)"
                    },
                    "metadata": {}
                },
                {
                    "output_type": "display_data",
                    "data": {
                        "text/html": "Total execution time: 00:00:00.153"
                    },
                    "metadata": {}
                },
                {
                    "output_type": "execute_result",
                    "execution_count": 9,
                    "data": {
                        "application/vnd.dataresource+json": {
                            "schema": {
                                "fields": [
                                    {
                                        "name": "Today"
                                    }
                                ]
                            },
                            "data": [
                                {
                                    "0": "2022-07-25"
                                }
                            ]
                        },
                        "text/html": "<table><tr><th>Today</th></tr><tr><td>2022-07-25</td></tr></table>"
                    },
                    "metadata": {}
                },
                {
                    "output_type": "execute_result",
                    "execution_count": 9,
                    "data": {
                        "application/vnd.dataresource+json": {
                            "schema": {
                                "fields": [
                                    {
                                        "name": "FirstDayOfMonth"
                                    }
                                ]
                            },
                            "data": [
                                {
                                    "0": "2022-07-01"
                                }
                            ]
                        },
                        "text/html": "<table><tr><th>FirstDayOfMonth</th></tr><tr><td>2022-07-01</td></tr></table>"
                    },
                    "metadata": {}
                },
                {
                    "output_type": "execute_result",
                    "execution_count": 9,
                    "data": {
                        "application/vnd.dataresource+json": {
                            "schema": {
                                "fields": [
                                    {
                                        "name": "FirstDayOfPrevMonth"
                                    }
                                ]
                            },
                            "data": [
                                {
                                    "0": "2022-06-01"
                                }
                            ]
                        },
                        "text/html": "<table><tr><th>FirstDayOfPrevMonth</th></tr><tr><td>2022-06-01</td></tr></table>"
                    },
                    "metadata": {}
                },
                {
                    "output_type": "execute_result",
                    "execution_count": 9,
                    "data": {
                        "application/vnd.dataresource+json": {
                            "schema": {
                                "fields": [
                                    {
                                        "name": "LastDayOfPrevMonth"
                                    }
                                ]
                            },
                            "data": [
                                {
                                    "0": "2022-06-30"
                                }
                            ]
                        },
                        "text/html": "<table><tr><th>LastDayOfPrevMonth</th></tr><tr><td>2022-06-30</td></tr></table>"
                    },
                    "metadata": {}
                },
                {
                    "output_type": "execute_result",
                    "execution_count": 9,
                    "data": {
                        "application/vnd.dataresource+json": {
                            "schema": {
                                "fields": [
                                    {
                                        "name": "DateValue"
                                    },
                                    {
                                        "name": "DayOfWeekNumber"
                                    },
                                    {
                                        "name": "DayOfWeekName"
                                    },
                                    {
                                        "name": "DayOfMonthNumber"
                                    },
                                    {
                                        "name": "MonthNumber"
                                    },
                                    {
                                        "name": "YearNumber"
                                    },
                                    {
                                        "name": "WeekendFlag"
                                    }
                                ]
                            },
                            "data": [
                                {
                                    "0": "2022-06-01",
                                    "1": "4",
                                    "2": "Wednesday",
                                    "3": "1",
                                    "4": "6",
                                    "5": "2022",
                                    "6": "0"
                                },
                                {
                                    "0": "2022-06-02",
                                    "1": "5",
                                    "2": "Thursday",
                                    "3": "2",
                                    "4": "6",
                                    "5": "2022",
                                    "6": "0"
                                },
                                {
                                    "0": "2022-06-03",
                                    "1": "6",
                                    "2": "Friday",
                                    "3": "3",
                                    "4": "6",
                                    "5": "2022",
                                    "6": "0"
                                },
                                {
                                    "0": "2022-06-04",
                                    "1": "7",
                                    "2": "Saturday",
                                    "3": "4",
                                    "4": "6",
                                    "5": "2022",
                                    "6": "1"
                                },
                                {
                                    "0": "2022-06-05",
                                    "1": "1",
                                    "2": "Sunday",
                                    "3": "5",
                                    "4": "6",
                                    "5": "2022",
                                    "6": "1"
                                }
                            ]
                        },
                        "text/html": "<table><tr><th>DateValue</th><th>DayOfWeekNumber</th><th>DayOfWeekName</th><th>DayOfMonthNumber</th><th>MonthNumber</th><th>YearNumber</th><th>WeekendFlag</th></tr><tr><td>2022-06-01</td><td>4</td><td>Wednesday</td><td>1</td><td>6</td><td>2022</td><td>0</td></tr><tr><td>2022-06-02</td><td>5</td><td>Thursday</td><td>2</td><td>6</td><td>2022</td><td>0</td></tr><tr><td>2022-06-03</td><td>6</td><td>Friday</td><td>3</td><td>6</td><td>2022</td><td>0</td></tr><tr><td>2022-06-04</td><td>7</td><td>Saturday</td><td>4</td><td>6</td><td>2022</td><td>1</td></tr><tr><td>2022-06-05</td><td>1</td><td>Sunday</td><td>5</td><td>6</td><td>2022</td><td>1</td></tr></table>"
                    },
                    "metadata": {}
                }
            ],
            "execution_count": 9
        },
        {
            "cell_type": "markdown",
            "source": [
                "# User Defined Functions\r\n",
                "- Allows us to create functions if needed\r\n",
                "- Should be used sparingly as there are most-likely exisitng functions for most use cases\r\n",
                "- Returns a single value based on the user-defined function and input"
            ],
            "metadata": {
                "azdata_cell_guid": "366005ef-6d02-4c13-8a3a-aecd6eded8aa"
            },
            "attachments": {}
        },
        {
            "cell_type": "code",
            "source": [
                "-- Creating a User-Definted Function\r\n",
                "USE AW2019\r\n",
                "GO\r\n",
                "\r\n",
                "DROP FUNCTION IF EXISTS dbo.ufnCurrentDate\r\n",
                "GO\r\n",
                "\r\n",
                "CREATE FUNCTION dbo.ufnCurrentDate()\r\n",
                "RETURNS DATE\r\n",
                "AS\r\n",
                "\r\n",
                "BEGIN\r\n",
                "    RETURN CAST (GETDATE() AS DATE)\r\n",
                "END\r\n",
                "GO\r\n",
                "\r\n",
                "-- Query Using User-Defined Function\r\n",
                "SELECT TOP 5 \r\n",
                "    SalesOrderID,\r\n",
                "    OrderDate,\r\n",
                "    DueDate,\r\n",
                "    ShipDate,\r\n",
                "    Today = dbo.ufnCurrentDate()\r\n",
                "FROM Sales.SalesOrderHeader\r\n",
                "WHERE YEAR (OrderDate) = 2011;"
            ],
            "metadata": {
                "azdata_cell_guid": "0da9ac37-9fc2-4a25-93e2-1cdea591cccd",
                "language": "sql"
            },
            "outputs": [
                {
                    "output_type": "display_data",
                    "data": {
                        "text/html": "Commands completed successfully."
                    },
                    "metadata": {}
                },
                {
                    "output_type": "display_data",
                    "data": {
                        "text/html": "Commands completed successfully."
                    },
                    "metadata": {}
                },
                {
                    "output_type": "display_data",
                    "data": {
                        "text/html": "Commands completed successfully."
                    },
                    "metadata": {}
                },
                {
                    "output_type": "display_data",
                    "data": {
                        "text/html": "(5 rows affected)"
                    },
                    "metadata": {}
                },
                {
                    "output_type": "display_data",
                    "data": {
                        "text/html": "Total execution time: 00:00:00.033"
                    },
                    "metadata": {}
                },
                {
                    "output_type": "execute_result",
                    "execution_count": 13,
                    "data": {
                        "application/vnd.dataresource+json": {
                            "schema": {
                                "fields": [
                                    {
                                        "name": "SalesOrderID"
                                    },
                                    {
                                        "name": "OrderDate"
                                    },
                                    {
                                        "name": "DueDate"
                                    },
                                    {
                                        "name": "ShipDate"
                                    },
                                    {
                                        "name": "Today"
                                    }
                                ]
                            },
                            "data": [
                                {
                                    "0": "43659",
                                    "1": "2011-05-31 00:00:00.000",
                                    "2": "2011-06-12 00:00:00.000",
                                    "3": "2011-06-07 00:00:00.000",
                                    "4": "2022-07-25"
                                },
                                {
                                    "0": "43660",
                                    "1": "2011-05-31 00:00:00.000",
                                    "2": "2011-06-12 00:00:00.000",
                                    "3": "2011-06-07 00:00:00.000",
                                    "4": "2022-07-25"
                                },
                                {
                                    "0": "43661",
                                    "1": "2011-05-31 00:00:00.000",
                                    "2": "2011-06-12 00:00:00.000",
                                    "3": "2011-06-07 00:00:00.000",
                                    "4": "2022-07-25"
                                },
                                {
                                    "0": "43662",
                                    "1": "2011-05-31 00:00:00.000",
                                    "2": "2011-06-12 00:00:00.000",
                                    "3": "2011-06-07 00:00:00.000",
                                    "4": "2022-07-25"
                                },
                                {
                                    "0": "43663",
                                    "1": "2011-05-31 00:00:00.000",
                                    "2": "2011-06-12 00:00:00.000",
                                    "3": "2011-06-07 00:00:00.000",
                                    "4": "2022-07-25"
                                }
                            ]
                        },
                        "text/html": "<table><tr><th>SalesOrderID</th><th>OrderDate</th><th>DueDate</th><th>ShipDate</th><th>Today</th></tr><tr><td>43659</td><td>2011-05-31 00:00:00.000</td><td>2011-06-12 00:00:00.000</td><td>2011-06-07 00:00:00.000</td><td>2022-07-25</td></tr><tr><td>43660</td><td>2011-05-31 00:00:00.000</td><td>2011-06-12 00:00:00.000</td><td>2011-06-07 00:00:00.000</td><td>2022-07-25</td></tr><tr><td>43661</td><td>2011-05-31 00:00:00.000</td><td>2011-06-12 00:00:00.000</td><td>2011-06-07 00:00:00.000</td><td>2022-07-25</td></tr><tr><td>43662</td><td>2011-05-31 00:00:00.000</td><td>2011-06-12 00:00:00.000</td><td>2011-06-07 00:00:00.000</td><td>2022-07-25</td></tr><tr><td>43663</td><td>2011-05-31 00:00:00.000</td><td>2011-06-12 00:00:00.000</td><td>2011-06-07 00:00:00.000</td><td>2022-07-25</td></tr></table>"
                    },
                    "metadata": {}
                }
            ],
            "execution_count": 13
        },
        {
            "cell_type": "code",
            "source": [
                "-- Adding Paramenters to a User-Defined Function\r\n",
                "USE AW2019\r\n",
                "GO\r\n",
                "\r\n",
                "DROP FUNCTION IF EXISTS dbo.ufnElapsedBusinessDays\r\n",
                "GO\r\n",
                "\r\n",
                "CREATE FUNCTION dbo.ufnElapsedBusinessDays (@StartDate DATE, @EndDate DATE)\r\n",
                "RETURNS INT\r\n",
                "AS\r\n",
                "\r\n",
                "BEGIN\r\n",
                "    RETURN (\r\n",
                "        SELECT COUNT (*)\r\n",
                "        FROM dbo.Calendar\r\n",
                "        WHERE DateValue BETWEEN @StartDate AND @EndDate AND WeekendFlag = 0\r\n",
                "    ) - 1\r\n",
                "END\r\n",
                "GO\r\n",
                "\r\n",
                "\r\n",
                "-- Query Using User-Defined Function w/ Parameters\r\n",
                "SELECT TOP 10\r\n",
                "    SalesOrderID,\r\n",
                "    OrderDate,\r\n",
                "    DueDate,\r\n",
                "    ShipDate,\r\n",
                "    ElapsedBusinessDays = dbo.ufnElapsedBusinessDays (OrderDate, ShipDate)\r\n",
                "FROM Sales.SalesOrderHeader\r\n",
                "WHERE YEAR (OrderDate) = 2011"
            ],
            "metadata": {
                "azdata_cell_guid": "22e5664a-17d6-483b-8a06-ffa225388f36",
                "language": "sql"
            },
            "outputs": [
                {
                    "output_type": "display_data",
                    "data": {
                        "text/html": "Commands completed successfully."
                    },
                    "metadata": {}
                },
                {
                    "output_type": "display_data",
                    "data": {
                        "text/html": "Commands completed successfully."
                    },
                    "metadata": {}
                },
                {
                    "output_type": "display_data",
                    "data": {
                        "text/html": "Commands completed successfully."
                    },
                    "metadata": {}
                },
                {
                    "output_type": "display_data",
                    "data": {
                        "text/html": "(10 rows affected)"
                    },
                    "metadata": {}
                },
                {
                    "output_type": "display_data",
                    "data": {
                        "text/html": "Total execution time: 00:00:00.229"
                    },
                    "metadata": {}
                },
                {
                    "output_type": "execute_result",
                    "execution_count": 14,
                    "data": {
                        "application/vnd.dataresource+json": {
                            "schema": {
                                "fields": [
                                    {
                                        "name": "SalesOrderID"
                                    },
                                    {
                                        "name": "OrderDate"
                                    },
                                    {
                                        "name": "DueDate"
                                    },
                                    {
                                        "name": "ShipDate"
                                    },
                                    {
                                        "name": "ElapsedBusinessDays"
                                    }
                                ]
                            },
                            "data": [
                                {
                                    "0": "43659",
                                    "1": "2011-05-31 00:00:00.000",
                                    "2": "2011-06-12 00:00:00.000",
                                    "3": "2011-06-07 00:00:00.000",
                                    "4": "5"
                                },
                                {
                                    "0": "43660",
                                    "1": "2011-05-31 00:00:00.000",
                                    "2": "2011-06-12 00:00:00.000",
                                    "3": "2011-06-07 00:00:00.000",
                                    "4": "5"
                                },
                                {
                                    "0": "43661",
                                    "1": "2011-05-31 00:00:00.000",
                                    "2": "2011-06-12 00:00:00.000",
                                    "3": "2011-06-07 00:00:00.000",
                                    "4": "5"
                                },
                                {
                                    "0": "43662",
                                    "1": "2011-05-31 00:00:00.000",
                                    "2": "2011-06-12 00:00:00.000",
                                    "3": "2011-06-07 00:00:00.000",
                                    "4": "5"
                                },
                                {
                                    "0": "43663",
                                    "1": "2011-05-31 00:00:00.000",
                                    "2": "2011-06-12 00:00:00.000",
                                    "3": "2011-06-07 00:00:00.000",
                                    "4": "5"
                                },
                                {
                                    "0": "43664",
                                    "1": "2011-05-31 00:00:00.000",
                                    "2": "2011-06-12 00:00:00.000",
                                    "3": "2011-06-07 00:00:00.000",
                                    "4": "5"
                                },
                                {
                                    "0": "43665",
                                    "1": "2011-05-31 00:00:00.000",
                                    "2": "2011-06-12 00:00:00.000",
                                    "3": "2011-06-07 00:00:00.000",
                                    "4": "5"
                                },
                                {
                                    "0": "43666",
                                    "1": "2011-05-31 00:00:00.000",
                                    "2": "2011-06-12 00:00:00.000",
                                    "3": "2011-06-07 00:00:00.000",
                                    "4": "5"
                                },
                                {
                                    "0": "43667",
                                    "1": "2011-05-31 00:00:00.000",
                                    "2": "2011-06-12 00:00:00.000",
                                    "3": "2011-06-07 00:00:00.000",
                                    "4": "5"
                                },
                                {
                                    "0": "43668",
                                    "1": "2011-05-31 00:00:00.000",
                                    "2": "2011-06-12 00:00:00.000",
                                    "3": "2011-06-07 00:00:00.000",
                                    "4": "5"
                                }
                            ]
                        },
                        "text/html": "<table><tr><th>SalesOrderID</th><th>OrderDate</th><th>DueDate</th><th>ShipDate</th><th>ElapsedBusinessDays</th></tr><tr><td>43659</td><td>2011-05-31 00:00:00.000</td><td>2011-06-12 00:00:00.000</td><td>2011-06-07 00:00:00.000</td><td>5</td></tr><tr><td>43660</td><td>2011-05-31 00:00:00.000</td><td>2011-06-12 00:00:00.000</td><td>2011-06-07 00:00:00.000</td><td>5</td></tr><tr><td>43661</td><td>2011-05-31 00:00:00.000</td><td>2011-06-12 00:00:00.000</td><td>2011-06-07 00:00:00.000</td><td>5</td></tr><tr><td>43662</td><td>2011-05-31 00:00:00.000</td><td>2011-06-12 00:00:00.000</td><td>2011-06-07 00:00:00.000</td><td>5</td></tr><tr><td>43663</td><td>2011-05-31 00:00:00.000</td><td>2011-06-12 00:00:00.000</td><td>2011-06-07 00:00:00.000</td><td>5</td></tr><tr><td>43664</td><td>2011-05-31 00:00:00.000</td><td>2011-06-12 00:00:00.000</td><td>2011-06-07 00:00:00.000</td><td>5</td></tr><tr><td>43665</td><td>2011-05-31 00:00:00.000</td><td>2011-06-12 00:00:00.000</td><td>2011-06-07 00:00:00.000</td><td>5</td></tr><tr><td>43666</td><td>2011-05-31 00:00:00.000</td><td>2011-06-12 00:00:00.000</td><td>2011-06-07 00:00:00.000</td><td>5</td></tr><tr><td>43667</td><td>2011-05-31 00:00:00.000</td><td>2011-06-12 00:00:00.000</td><td>2011-06-07 00:00:00.000</td><td>5</td></tr><tr><td>43668</td><td>2011-05-31 00:00:00.000</td><td>2011-06-12 00:00:00.000</td><td>2011-06-07 00:00:00.000</td><td>5</td></tr></table>"
                    },
                    "metadata": {}
                }
            ],
            "execution_count": 14
        },
        {
            "cell_type": "markdown",
            "source": [
                "# Stored Procedures\r\n",
                "- Database objects that provide almost unlimited flexibility\r\n",
                "- Reusable SQL scripts, available on demand\r\n",
                "- Dynamic, user-driven results"
            ],
            "metadata": {
                "azdata_cell_guid": "e86c9bab-3190-45ac-9d2b-97a11d88e5be"
            },
            "attachments": {}
        },
        {
            "cell_type": "code",
            "source": [
                "USE AW2019;\r\n",
                "\r\n",
                "-- Starter Query\r\n",
                "SELECT *\r\n",
                "FROM (\r\n",
                "    SELECT\r\n",
                "        P.Name AS ProductName,\r\n",
                "        LineTotalSum        = Sum (D.LineTotal),\r\n",
                "        LineTotalSumRank    = DENSE_RANK () OVER (ORDER BY SUM (D.LineTotal) DESC)\r\n",
                "    FROM Sales.SalesOrderDetail AS D\r\n",
                "        JOIN Production.Product AS P\r\n",
                "            ON D.ProductID = P.ProductID\r\n",
                "    GROUP BY P.Name\r\n",
                ") AS X\r\n",
                "WHERE LineTotalSumRank <= 10;\r\n",
                "GO\r\n",
                "\r\n",
                "-- Create Simple Stored Procedure\r\n",
                "DROP PROCEDURE IF EXISTS dbo.OrdersReport\r\n",
                "GO\r\n",
                "\r\n",
                "CREATE PROCEDURE dbo.OrdersReport\r\n",
                "AS\r\n",
                "\r\n",
                "BEGIN\r\n",
                "    SELECT *\r\n",
                "    FROM (\r\n",
                "        SELECT\r\n",
                "            P.Name AS ProductName,\r\n",
                "            LineTotalSum        = Sum (D.LineTotal),\r\n",
                "            LineTotalSumRank    = DENSE_RANK () OVER (ORDER BY SUM (D.LineTotal) DESC)\r\n",
                "        FROM Sales.SalesOrderDetail AS D\r\n",
                "            JOIN Production.Product AS P\r\n",
                "                ON D.ProductID = P.ProductID\r\n",
                "        GROUP BY P.Name\r\n",
                "    ) AS X\r\n",
                "    WHERE LineTotalSumRank <= 10\r\n",
                "END\r\n",
                "\r\n",
                "-- Call Stored Procedure\r\n",
                "EXEC dbo.OrdersReport\r\n",
                "GO\r\n",
                "\r\n",
                "\r\n",
                "-- Modify Stored Procedure to Add Parameter\r\n",
                "ALTER PROCEDURE dbo.OrdersReport (@TopN INT)\r\n",
                "AS\r\n",
                "\r\n",
                "BEGIN\r\n",
                "    SELECT *\r\n",
                "    FROM (\r\n",
                "        SELECT\r\n",
                "            P.Name AS ProductName,\r\n",
                "            LineTotalSum        = Sum (D.LineTotal),\r\n",
                "            LineTotalSumRank    = DENSE_RANK () OVER (ORDER BY SUM (D.LineTotal) DESC)\r\n",
                "        FROM Sales.SalesOrderDetail AS D\r\n",
                "            JOIN Production.Product AS P\r\n",
                "                ON D.ProductID = P.ProductID\r\n",
                "        GROUP BY P.Name\r\n",
                "    ) AS X\r\n",
                "    WHERE LineTotalSumRank <= @TopN\r\n",
                "END\r\n",
                "GO\r\n",
                "\r\n",
                "-- Call Stored Procedure w/ Parameter\r\n",
                "EXEC dbo.OrdersReport 5"
            ],
            "metadata": {
                "azdata_cell_guid": "76687bde-ab2c-4cad-b876-16550348b8da",
                "language": "sql"
            },
            "outputs": [
                {
                    "output_type": "display_data",
                    "data": {
                        "text/html": "(10 rows affected)"
                    },
                    "metadata": {}
                },
                {
                    "output_type": "display_data",
                    "data": {
                        "text/html": "Commands completed successfully."
                    },
                    "metadata": {}
                },
                {
                    "output_type": "display_data",
                    "data": {
                        "text/html": "Commands completed successfully."
                    },
                    "metadata": {}
                },
                {
                    "output_type": "display_data",
                    "data": {
                        "text/html": "Commands completed successfully."
                    },
                    "metadata": {}
                },
                {
                    "output_type": "display_data",
                    "data": {
                        "text/html": "(5 rows affected)"
                    },
                    "metadata": {}
                },
                {
                    "output_type": "display_data",
                    "data": {
                        "text/html": "Total execution time: 00:00:00.257"
                    },
                    "metadata": {}
                },
                {
                    "output_type": "execute_result",
                    "metadata": {},
                    "execution_count": 9,
                    "data": {
                        "application/vnd.dataresource+json": {
                            "schema": {
                                "fields": [
                                    {
                                        "name": "ProductName"
                                    },
                                    {
                                        "name": "LineTotalSum"
                                    },
                                    {
                                        "name": "LineTotalSumRank"
                                    }
                                ]
                            },
                            "data": [
                                {
                                    "0": "Mountain-200 Black, 38",
                                    "1": "4400592.800400",
                                    "2": "1"
                                },
                                {
                                    "0": "Mountain-200 Black, 42",
                                    "1": "4009494.761841",
                                    "2": "2"
                                },
                                {
                                    "0": "Mountain-200 Silver, 38",
                                    "1": "3693678.025272",
                                    "2": "3"
                                },
                                {
                                    "0": "Mountain-200 Silver, 42",
                                    "1": "3438478.860423",
                                    "2": "4"
                                },
                                {
                                    "0": "Mountain-200 Silver, 46",
                                    "1": "3434256.941928",
                                    "2": "5"
                                },
                                {
                                    "0": "Mountain-200 Black, 46",
                                    "1": "3309673.216908",
                                    "2": "6"
                                },
                                {
                                    "0": "Road-250 Black, 44",
                                    "1": "2516857.314918",
                                    "2": "7"
                                },
                                {
                                    "0": "Road-250 Black, 48",
                                    "1": "2347655.953454",
                                    "2": "8"
                                },
                                {
                                    "0": "Road-250 Black, 52",
                                    "1": "2012447.775000",
                                    "2": "9"
                                },
                                {
                                    "0": "Road-150 Red, 56",
                                    "1": "1847818.628000",
                                    "2": "10"
                                }
                            ]
                        },
                        "text/html": [
                            "<table>",
                            "<tr><th>ProductName</th><th>LineTotalSum</th><th>LineTotalSumRank</th></tr>",
                            "<tr><td>Mountain-200 Black, 38</td><td>4400592.800400</td><td>1</td></tr>",
                            "<tr><td>Mountain-200 Black, 42</td><td>4009494.761841</td><td>2</td></tr>",
                            "<tr><td>Mountain-200 Silver, 38</td><td>3693678.025272</td><td>3</td></tr>",
                            "<tr><td>Mountain-200 Silver, 42</td><td>3438478.860423</td><td>4</td></tr>",
                            "<tr><td>Mountain-200 Silver, 46</td><td>3434256.941928</td><td>5</td></tr>",
                            "<tr><td>Mountain-200 Black, 46</td><td>3309673.216908</td><td>6</td></tr>",
                            "<tr><td>Road-250 Black, 44</td><td>2516857.314918</td><td>7</td></tr>",
                            "<tr><td>Road-250 Black, 48</td><td>2347655.953454</td><td>8</td></tr>",
                            "<tr><td>Road-250 Black, 52</td><td>2012447.775000</td><td>9</td></tr>",
                            "<tr><td>Road-150 Red, 56</td><td>1847818.628000</td><td>10</td></tr>",
                            "</table>"
                        ]
                    }
                },
                {
                    "output_type": "execute_result",
                    "metadata": {},
                    "execution_count": 9,
                    "data": {
                        "application/vnd.dataresource+json": {
                            "schema": {
                                "fields": [
                                    {
                                        "name": "ProductName"
                                    },
                                    {
                                        "name": "LineTotalSum"
                                    },
                                    {
                                        "name": "LineTotalSumRank"
                                    }
                                ]
                            },
                            "data": [
                                {
                                    "0": "Mountain-200 Black, 38",
                                    "1": "4400592.800400",
                                    "2": "1"
                                },
                                {
                                    "0": "Mountain-200 Black, 42",
                                    "1": "4009494.761841",
                                    "2": "2"
                                },
                                {
                                    "0": "Mountain-200 Silver, 38",
                                    "1": "3693678.025272",
                                    "2": "3"
                                },
                                {
                                    "0": "Mountain-200 Silver, 42",
                                    "1": "3438478.860423",
                                    "2": "4"
                                },
                                {
                                    "0": "Mountain-200 Silver, 46",
                                    "1": "3434256.941928",
                                    "2": "5"
                                }
                            ]
                        },
                        "text/html": [
                            "<table>",
                            "<tr><th>ProductName</th><th>LineTotalSum</th><th>LineTotalSumRank</th></tr>",
                            "<tr><td>Mountain-200 Black, 38</td><td>4400592.800400</td><td>1</td></tr>",
                            "<tr><td>Mountain-200 Black, 42</td><td>4009494.761841</td><td>2</td></tr>",
                            "<tr><td>Mountain-200 Silver, 38</td><td>3693678.025272</td><td>3</td></tr>",
                            "<tr><td>Mountain-200 Silver, 42</td><td>3438478.860423</td><td>4</td></tr>",
                            "<tr><td>Mountain-200 Silver, 46</td><td>3434256.941928</td><td>5</td></tr>",
                            "</table>"
                        ]
                    }
                }
            ],
            "execution_count": 9
        },
        {
            "cell_type": "markdown",
            "source": [
                "# Control Flow w/ IF Statements\r\n",
                "- Allows us to apply logical conditions to our code\r\n",
                "- IF, ELSE\r\n",
                "- SQL does not have an ELIF option, but you can use nested IF statements, or multiple distinct IF statements\r\n",
                "    - If an IF statement with no ELSE condition runs and the IF condition is not met, the block of code is skipped\r\n",
                "    - We can use this to circumvent ELIF by having another IF statements below\r\n",
                "    - Make sure criteria for each IF statement does not overlap unles you want multiple statements to run given a true conditon"
            ],
            "metadata": {
                "azdata_cell_guid": "f66cc0a1-f089-481f-a08e-d34dda9c62aa"
            },
            "attachments": {}
        },
        {
            "cell_type": "code",
            "source": [
                "USE AW2019;\r\n",
                "GO\r\n",
                "\r\n",
                "-- Basic Example\r\n",
                "DECLARE @MyInput INT\r\n",
                "SET @MyInput = 4\r\n",
                "\r\n",
                "IF @MyInput > 1\r\n",
                "    BEGIN\r\n",
                "        SELECT 'Hello World' AS Greeting\r\n",
                "    END\r\n",
                "\r\n",
                "ELSE\r\n",
                "    BEGIN\r\n",
                "        SELECT 'Farewell' AS Greeting\r\n",
                "    END\r\n",
                "GO\r\n",
                "\r\n",
                "\r\n",
                "-- Stored Procedure w/ Conditional Logic\r\n",
                "ALTER PROCEDURE dbo.OrdersReport (@TopN INT, @OrderType INT)\r\n",
                "AS\r\n",
                "\r\n",
                "BEGIN\r\n",
                "\r\n",
                "    IF @OrderType = 1\r\n",
                "        BEGIN\r\n",
                "            SELECT *\r\n",
                "            FROM (\r\n",
                "                SELECT\r\n",
                "                    P.Name AS ProductName,\r\n",
                "                    LineTotalSum        = Sum (D.LineTotal),\r\n",
                "                    LineTotalSumRank    = DENSE_RANK () OVER (ORDER BY SUM (D.LineTotal) DESC)\r\n",
                "                FROM Sales.SalesOrderDetail AS D\r\n",
                "                    JOIN Production.Product AS P\r\n",
                "                        ON D.ProductID = P.ProductID\r\n",
                "                GROUP BY P.Name\r\n",
                "            ) AS X\r\n",
                "            WHERE LineTotalSumRank <= @TopN\r\n",
                "        END\r\n",
                "\r\n",
                "        ELSE\r\n",
                "            BEGIN\r\n",
                "                SELECT *\r\n",
                "                FROM (\r\n",
                "                    SELECT\r\n",
                "                        P.Name AS ProductName,\r\n",
                "                        LineTotalSum        = Sum (D.LineTotal),\r\n",
                "                        LineTotalSumRank    = DENSE_RANK () OVER (ORDER BY SUM (D.LineTotal) DESC)\r\n",
                "                    FROM Purchasing.PurchaseOrderDetail AS D\r\n",
                "                        JOIN Production.Product AS P\r\n",
                "                            ON D.ProductID = P.ProductID\r\n",
                "                    GROUP BY P.Name\r\n",
                "                ) AS X\r\n",
                "                WHERE LineTotalSumRank <= @TopN\r\n",
                "            END\r\n",
                "     \r\n",
                "END\r\n",
                "GO\r\n",
                "\r\n",
                "-- Call Stored Procedure for Sales and Purchase Order Detail\r\n",
                "EXEC dbo.OrdersReport @TopN = 5, @OrderType = 1 -- Sales Order Detail\r\n",
                "EXEC dbo.OrdersReport @TopN = 5, @OrderType = 2 -- Purchase Order Detail"
            ],
            "metadata": {
                "azdata_cell_guid": "2292d902-cf18-4b46-b725-4b2de0410517",
                "language": "sql"
            },
            "outputs": [
                {
                    "output_type": "display_data",
                    "data": {
                        "text/html": "Commands completed successfully."
                    },
                    "metadata": {}
                },
                {
                    "output_type": "display_data",
                    "data": {
                        "text/html": "(1 row affected)"
                    },
                    "metadata": {}
                },
                {
                    "output_type": "display_data",
                    "data": {
                        "text/html": "Commands completed successfully."
                    },
                    "metadata": {}
                },
                {
                    "output_type": "display_data",
                    "data": {
                        "text/html": "(5 rows affected)"
                    },
                    "metadata": {}
                },
                {
                    "output_type": "display_data",
                    "data": {
                        "text/html": "(6 rows affected)"
                    },
                    "metadata": {}
                },
                {
                    "output_type": "display_data",
                    "data": {
                        "text/html": "Total execution time: 00:00:00.175"
                    },
                    "metadata": {}
                },
                {
                    "output_type": "execute_result",
                    "metadata": {},
                    "execution_count": 14,
                    "data": {
                        "application/vnd.dataresource+json": {
                            "schema": {
                                "fields": [
                                    {
                                        "name": "Greeting"
                                    }
                                ]
                            },
                            "data": [
                                {
                                    "0": "Hello World"
                                }
                            ]
                        },
                        "text/html": [
                            "<table>",
                            "<tr><th>Greeting</th></tr>",
                            "<tr><td>Hello World</td></tr>",
                            "</table>"
                        ]
                    }
                },
                {
                    "output_type": "execute_result",
                    "metadata": {},
                    "execution_count": 14,
                    "data": {
                        "application/vnd.dataresource+json": {
                            "schema": {
                                "fields": [
                                    {
                                        "name": "ProductName"
                                    },
                                    {
                                        "name": "LineTotalSum"
                                    },
                                    {
                                        "name": "LineTotalSumRank"
                                    }
                                ]
                            },
                            "data": [
                                {
                                    "0": "Mountain-200 Black, 38",
                                    "1": "4400592.800400",
                                    "2": "1"
                                },
                                {
                                    "0": "Mountain-200 Black, 42",
                                    "1": "4009494.761841",
                                    "2": "2"
                                },
                                {
                                    "0": "Mountain-200 Silver, 38",
                                    "1": "3693678.025272",
                                    "2": "3"
                                },
                                {
                                    "0": "Mountain-200 Silver, 42",
                                    "1": "3438478.860423",
                                    "2": "4"
                                },
                                {
                                    "0": "Mountain-200 Silver, 46",
                                    "1": "3434256.941928",
                                    "2": "5"
                                }
                            ]
                        },
                        "text/html": [
                            "<table>",
                            "<tr><th>ProductName</th><th>LineTotalSum</th><th>LineTotalSumRank</th></tr>",
                            "<tr><td>Mountain-200 Black, 38</td><td>4400592.800400</td><td>1</td></tr>",
                            "<tr><td>Mountain-200 Black, 42</td><td>4009494.761841</td><td>2</td></tr>",
                            "<tr><td>Mountain-200 Silver, 38</td><td>3693678.025272</td><td>3</td></tr>",
                            "<tr><td>Mountain-200 Silver, 42</td><td>3438478.860423</td><td>4</td></tr>",
                            "<tr><td>Mountain-200 Silver, 46</td><td>3434256.941928</td><td>5</td></tr>",
                            "</table>"
                        ]
                    }
                },
                {
                    "output_type": "execute_result",
                    "metadata": {},
                    "execution_count": 14,
                    "data": {
                        "application/vnd.dataresource+json": {
                            "schema": {
                                "fields": [
                                    {
                                        "name": "ProductName"
                                    },
                                    {
                                        "name": "LineTotalSum"
                                    },
                                    {
                                        "name": "LineTotalSumRank"
                                    }
                                ]
                            },
                            "data": [
                                {
                                    "0": "HL Crankarm",
                                    "1": "3358797.75",
                                    "2": "1"
                                },
                                {
                                    "0": "ML Mountain Pedal",
                                    "1": "2709040.95",
                                    "2": "2"
                                },
                                {
                                    "0": "ML Road Pedal",
                                    "1": "2390330.25",
                                    "2": "3"
                                },
                                {
                                    "0": "Rear Brakes",
                                    "1": "2277948.75",
                                    "2": "4"
                                },
                                {
                                    "0": "Front Brakes",
                                    "1": "2277948.75",
                                    "2": "4"
                                },
                                {
                                    "0": "HL Mountain Tire",
                                    "1": "2092346.025",
                                    "2": "5"
                                }
                            ]
                        },
                        "text/html": [
                            "<table>",
                            "<tr><th>ProductName</th><th>LineTotalSum</th><th>LineTotalSumRank</th></tr>",
                            "<tr><td>HL Crankarm</td><td>3358797.75</td><td>1</td></tr>",
                            "<tr><td>ML Mountain Pedal</td><td>2709040.95</td><td>2</td></tr>",
                            "<tr><td>ML Road Pedal</td><td>2390330.25</td><td>3</td></tr>",
                            "<tr><td>Rear Brakes</td><td>2277948.75</td><td>4</td></tr>",
                            "<tr><td>Front Brakes</td><td>2277948.75</td><td>4</td></tr>",
                            "<tr><td>HL Mountain Tire</td><td>2092346.025</td><td>5</td></tr>",
                            "</table>"
                        ]
                    }
                }
            ],
            "execution_count": 14
        },
        {
            "cell_type": "code",
            "source": [
                "USE AW2019;\r\n",
                "GO\r\n",
                "\r\n",
                "-- Stored Procedure w/ Multiple IF Statements\r\n",
                "ALTER PROCEDURE dbo.OrdersReport (@TopN INT, @OrderType INT)\r\n",
                "AS\r\n",
                "\r\n",
                "BEGIN\r\n",
                "\r\n",
                "    IF @OrderType = 1\r\n",
                "        BEGIN\r\n",
                "            SELECT *\r\n",
                "            FROM (\r\n",
                "                SELECT\r\n",
                "                    P.Name AS ProductName,\r\n",
                "                    LineTotalSum        = Sum (D.LineTotal),\r\n",
                "                    LineTotalSumRank    = DENSE_RANK () OVER (ORDER BY SUM (D.LineTotal) DESC)\r\n",
                "                FROM Sales.SalesOrderDetail AS D\r\n",
                "                    JOIN Production.Product AS P\r\n",
                "                        ON D.ProductID = P.ProductID\r\n",
                "                GROUP BY P.Name\r\n",
                "            ) AS X\r\n",
                "            WHERE LineTotalSumRank <= @TopN\r\n",
                "        END\r\n",
                "\r\n",
                "    IF @OrderType = 2\r\n",
                "        BEGIN\r\n",
                "            SELECT *\r\n",
                "            FROM (\r\n",
                "                SELECT\r\n",
                "                    P.Name AS ProductName,\r\n",
                "                    LineTotalSum        = Sum (D.LineTotal),\r\n",
                "                    LineTotalSumRank    = DENSE_RANK () OVER (ORDER BY SUM (D.LineTotal) DESC)\r\n",
                "                FROM Purchasing.PurchaseOrderDetail AS D\r\n",
                "                    JOIN Production.Product AS P\r\n",
                "                        ON D.ProductID = P.ProductID\r\n",
                "                GROUP BY P.Name\r\n",
                "            ) AS X\r\n",
                "            WHERE LineTotalSumRank <= @TopN\r\n",
                "        END\r\n",
                "\r\n",
                "    IF @OrderType = 3\r\n",
                "    BEGIN\r\n",
                "        DROP TABLE IF EXISTS #AllOrders\r\n",
                "        SELECT\r\n",
                "            ProductID,\r\n",
                "            LineTotal\r\n",
                "        INTO #AllOrders\r\n",
                "        FROM Sales.SalesOrderDetail\r\n",
                "\r\n",
                "        INSERT INTO #AllOrders\r\n",
                "        SELECT\r\n",
                "            ProductID,\r\n",
                "            LineTotal\r\n",
                "        FROM Purchasing.PurchaseOrderDetail\r\n",
                "\r\n",
                "\r\n",
                "            SELECT *\r\n",
                "            FROM (\r\n",
                "                SELECT\r\n",
                "                    P.Name AS ProductName,\r\n",
                "                    LineTotalSum = SUM (A.LineTotal),\r\n",
                "                    LineTotalSumRank = DENSE_RANK () OVER (ORDER BY SUM (A.LineTotal) DESC)\r\n",
                "                FROM #AllOrders AS A\r\n",
                "                JOIN Production.Product AS P\r\n",
                "                    ON A.ProductID = P.ProductID\r\n",
                "                GROUP BY P.Name\r\n",
                "            ) AS X\r\n",
                "            WHERE LineTotalSumRank <= @TopN\r\n",
                "    END\r\n",
                "     \r\n",
                "END\r\n",
                "GO\r\n",
                "\r\n",
                "-- Call Stored Procedure for Sales, Purchase, and Combined Order Detail\r\n",
                "EXEC dbo.OrdersReport 5, 1 -- Sales Order Detail\r\n",
                "EXEC dbo.OrdersReport 5, 2 -- Purchase Order Detail\r\n",
                "EXEC dbo.OrdersReport 5, 3 -- Sales & Purchase Order Detail Combined"
            ],
            "metadata": {
                "azdata_cell_guid": "1d575f8c-3a6c-4237-bb9c-3c2b64297c8d",
                "language": "sql"
            },
            "outputs": [
                {
                    "output_type": "display_data",
                    "data": {
                        "text/html": "Commands completed successfully."
                    },
                    "metadata": {}
                },
                {
                    "output_type": "display_data",
                    "data": {
                        "text/html": "Commands completed successfully."
                    },
                    "metadata": {}
                },
                {
                    "output_type": "display_data",
                    "data": {
                        "text/html": "(5 rows affected)"
                    },
                    "metadata": {}
                },
                {
                    "output_type": "display_data",
                    "data": {
                        "text/html": "(6 rows affected)"
                    },
                    "metadata": {}
                },
                {
                    "output_type": "display_data",
                    "data": {
                        "text/html": "(121317 rows affected)"
                    },
                    "metadata": {}
                },
                {
                    "output_type": "display_data",
                    "data": {
                        "text/html": "(8845 rows affected)"
                    },
                    "metadata": {}
                },
                {
                    "output_type": "display_data",
                    "data": {
                        "text/html": "(5 rows affected)"
                    },
                    "metadata": {}
                },
                {
                    "output_type": "display_data",
                    "data": {
                        "text/html": "Total execution time: 00:00:00.561"
                    },
                    "metadata": {}
                },
                {
                    "output_type": "execute_result",
                    "metadata": {},
                    "execution_count": 15,
                    "data": {
                        "application/vnd.dataresource+json": {
                            "schema": {
                                "fields": [
                                    {
                                        "name": "ProductName"
                                    },
                                    {
                                        "name": "LineTotalSum"
                                    },
                                    {
                                        "name": "LineTotalSumRank"
                                    }
                                ]
                            },
                            "data": [
                                {
                                    "0": "Mountain-200 Black, 38",
                                    "1": "4400592.800400",
                                    "2": "1"
                                },
                                {
                                    "0": "Mountain-200 Black, 42",
                                    "1": "4009494.761841",
                                    "2": "2"
                                },
                                {
                                    "0": "Mountain-200 Silver, 38",
                                    "1": "3693678.025272",
                                    "2": "3"
                                },
                                {
                                    "0": "Mountain-200 Silver, 42",
                                    "1": "3438478.860423",
                                    "2": "4"
                                },
                                {
                                    "0": "Mountain-200 Silver, 46",
                                    "1": "3434256.941928",
                                    "2": "5"
                                }
                            ]
                        },
                        "text/html": [
                            "<table>",
                            "<tr><th>ProductName</th><th>LineTotalSum</th><th>LineTotalSumRank</th></tr>",
                            "<tr><td>Mountain-200 Black, 38</td><td>4400592.800400</td><td>1</td></tr>",
                            "<tr><td>Mountain-200 Black, 42</td><td>4009494.761841</td><td>2</td></tr>",
                            "<tr><td>Mountain-200 Silver, 38</td><td>3693678.025272</td><td>3</td></tr>",
                            "<tr><td>Mountain-200 Silver, 42</td><td>3438478.860423</td><td>4</td></tr>",
                            "<tr><td>Mountain-200 Silver, 46</td><td>3434256.941928</td><td>5</td></tr>",
                            "</table>"
                        ]
                    }
                },
                {
                    "output_type": "execute_result",
                    "metadata": {},
                    "execution_count": 15,
                    "data": {
                        "application/vnd.dataresource+json": {
                            "schema": {
                                "fields": [
                                    {
                                        "name": "ProductName"
                                    },
                                    {
                                        "name": "LineTotalSum"
                                    },
                                    {
                                        "name": "LineTotalSumRank"
                                    }
                                ]
                            },
                            "data": [
                                {
                                    "0": "HL Crankarm",
                                    "1": "3358797.75",
                                    "2": "1"
                                },
                                {
                                    "0": "ML Mountain Pedal",
                                    "1": "2709040.95",
                                    "2": "2"
                                },
                                {
                                    "0": "ML Road Pedal",
                                    "1": "2390330.25",
                                    "2": "3"
                                },
                                {
                                    "0": "Rear Brakes",
                                    "1": "2277948.75",
                                    "2": "4"
                                },
                                {
                                    "0": "Front Brakes",
                                    "1": "2277948.75",
                                    "2": "4"
                                },
                                {
                                    "0": "HL Mountain Tire",
                                    "1": "2092346.025",
                                    "2": "5"
                                }
                            ]
                        },
                        "text/html": [
                            "<table>",
                            "<tr><th>ProductName</th><th>LineTotalSum</th><th>LineTotalSumRank</th></tr>",
                            "<tr><td>HL Crankarm</td><td>3358797.75</td><td>1</td></tr>",
                            "<tr><td>ML Mountain Pedal</td><td>2709040.95</td><td>2</td></tr>",
                            "<tr><td>ML Road Pedal</td><td>2390330.25</td><td>3</td></tr>",
                            "<tr><td>Rear Brakes</td><td>2277948.75</td><td>4</td></tr>",
                            "<tr><td>Front Brakes</td><td>2277948.75</td><td>4</td></tr>",
                            "<tr><td>HL Mountain Tire</td><td>2092346.025</td><td>5</td></tr>",
                            "</table>"
                        ]
                    }
                },
                {
                    "output_type": "execute_result",
                    "metadata": {},
                    "execution_count": 15,
                    "data": {
                        "application/vnd.dataresource+json": {
                            "schema": {
                                "fields": [
                                    {
                                        "name": "ProductName"
                                    },
                                    {
                                        "name": "LineTotalSum"
                                    },
                                    {
                                        "name": "LineTotalSumRank"
                                    }
                                ]
                            },
                            "data": [
                                {
                                    "0": "Mountain-200 Black, 38",
                                    "1": "4400592.800400",
                                    "2": "1"
                                },
                                {
                                    "0": "Mountain-200 Black, 42",
                                    "1": "4009494.761841",
                                    "2": "2"
                                },
                                {
                                    "0": "Mountain-200 Silver, 38",
                                    "1": "3693678.025272",
                                    "2": "3"
                                },
                                {
                                    "0": "Mountain-200 Silver, 42",
                                    "1": "3438478.860423",
                                    "2": "4"
                                },
                                {
                                    "0": "Mountain-200 Silver, 46",
                                    "1": "3434256.941928",
                                    "2": "5"
                                }
                            ]
                        },
                        "text/html": [
                            "<table>",
                            "<tr><th>ProductName</th><th>LineTotalSum</th><th>LineTotalSumRank</th></tr>",
                            "<tr><td>Mountain-200 Black, 38</td><td>4400592.800400</td><td>1</td></tr>",
                            "<tr><td>Mountain-200 Black, 42</td><td>4009494.761841</td><td>2</td></tr>",
                            "<tr><td>Mountain-200 Silver, 38</td><td>3693678.025272</td><td>3</td></tr>",
                            "<tr><td>Mountain-200 Silver, 42</td><td>3438478.860423</td><td>4</td></tr>",
                            "<tr><td>Mountain-200 Silver, 46</td><td>3434256.941928</td><td>5</td></tr>",
                            "</table>"
                        ]
                    }
                }
            ],
            "execution_count": 15
        }
    ]
}