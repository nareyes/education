{
 "cells": [
  {
   "cell_type": "markdown",
   "metadata": {},
   "source": [
    "# Effective Pandas\n",
    "\n",
    "* Install\n",
    "* Jupyter\n",
    "* Pandas Overview\n",
    "  * Load\n",
    "  * Inspect\n",
    "  * Tweak\n",
    "  * Stats\n",
    "  * Plotting\n",
    "  * Filtering\n",
    "  * Missing Data\n",
    "  * Grouping\n",
    "  * Joining\n",
    "* Summary"
   ]
  },
  {
   "cell_type": "markdown",
   "metadata": {},
   "source": [
    "## Install Pandas\n",
    "\n",
    "I reccommend using conda or downloading Python using a virtual environment.\n",
    "\n",
    "### Conda\n",
    "\n",
    "* Install Anaconda (for Python 3) from anaconda.org\n",
    "* Launch Ananconda Prompt (or terminal) and create an environment:\n",
    "      conda create --name pandasclass python=3.7\n",
    "* Activate the environment:\n",
    "      conda activate pandasclass\n",
    "* Install libraries:\n",
    "      conda install notebook pandas seaborn xlrd openpyxl scipy\n",
    "* Launch Jupyter:\n",
    "      jupyter notebook\n",
    "      \n",
    "### Python.org \n",
    "\n",
    "* Install Python 3\n",
    "* Launch a terminal or command prompt and create a virtual environment:\n",
    "      python3 -m venv env\n",
    "* Activate virtual environment \n",
    "  * Windows:\n",
    "        env\\Scripts\\activate\n",
    "  * Unix (Mac/Linux):\n",
    "        source env/bin/activate\n",
    "* Install libraries:\n",
    "      pip install notebook pandas seaborn xlrd openpyxl scipy\n",
    "* Launch Jupyter:\n",
    "      jupyter notebook"
   ]
  },
  {
   "cell_type": "markdown",
   "metadata": {},
   "source": [
    "## Jupyter\n",
    "\n",
    "Two modes\n",
    "\n",
    "### Command Mode\n",
    "\n",
    "* A - Above\n",
    "* B - Below\n",
    "* CTL-Enter - Run\n",
    "* C,X,V - Copy, cut, paste\n",
    "* II - Interrupt Kernel\n",
    "* 00 - Restart Kernel\n",
    "\n",
    "### Edit Mode\n",
    "\n",
    "* TAB - Completion\n",
    "* Shift-TAB - Documentation (hit 4x to popup)\n",
    "* ESC - Back to command mode w/o running\n",
    "* CTL-Enter - Run\n",
    "\n",
    "### Hints\n",
    "\n",
    "* Add ? to functions and methods to see docs\n",
    "* Add ?? to functions and methods to see source\n",
    "* Add cell magic to make matplotlib plots show up:\n",
    "      %matplotlib inline"
   ]
  },
  {
   "cell_type": "code",
   "execution_count": null,
   "metadata": {
    "vscode": {
     "languageId": "python"
    }
   },
   "outputs": [],
   "source": []
  },
  {
   "cell_type": "code",
   "execution_count": null,
   "metadata": {
    "vscode": {
     "languageId": "python"
    }
   },
   "outputs": [],
   "source": []
  },
  {
   "cell_type": "code",
   "execution_count": null,
   "metadata": {
    "vscode": {
     "languageId": "python"
    }
   },
   "outputs": [],
   "source": []
  },
  {
   "cell_type": "markdown",
   "metadata": {},
   "source": [
    "## Quick Example"
   ]
  },
  {
   "cell_type": "code",
   "execution_count": null,
   "metadata": {
    "vscode": {
     "languageId": "python"
    }
   },
   "outputs": [],
   "source": [
    "%matplotlib inline\n",
    "import pandas as pd\n",
    "import numpy as np"
   ]
  },
  {
   "cell_type": "code",
   "execution_count": null,
   "metadata": {
    "lines_to_next_cell": 2,
    "vscode": {
     "languageId": "python"
    }
   },
   "outputs": [],
   "source": [
    "url = 'https://github.com/mattharrison/datasets/raw/master/data/Presidents.xls'\n",
    "pres = pd.read_excel(url)"
   ]
  },
  {
   "cell_type": "code",
   "execution_count": null,
   "metadata": {
    "vscode": {
     "languageId": "python"
    }
   },
   "outputs": [],
   "source": [
    "pres"
   ]
  },
  {
   "cell_type": "code",
   "execution_count": null,
   "metadata": {
    "vscode": {
     "languageId": "python"
    }
   },
   "outputs": [],
   "source": [
    "# Inspect data\n",
    "pres.columns"
   ]
  },
  {
   "cell_type": "code",
   "execution_count": null,
   "metadata": {
    "vscode": {
     "languageId": "python"
    }
   },
   "outputs": [],
   "source": [
    "pres.sample(10)"
   ]
  },
  {
   "cell_type": "code",
   "execution_count": null,
   "metadata": {
    "vscode": {
     "languageId": "python"
    }
   },
   "outputs": [],
   "source": [
    "pres.dtypes"
   ]
  },
  {
   "cell_type": "code",
   "execution_count": null,
   "metadata": {
    "vscode": {
     "languageId": "python"
    }
   },
   "outputs": [],
   "source": [
    "pres['% popular'].value_counts(dropna=False)"
   ]
  },
  {
   "cell_type": "code",
   "execution_count": null,
   "metadata": {
    "vscode": {
     "languageId": "python"
    }
   },
   "outputs": [],
   "source": [
    "pres['% popular'].replace('NA()', '', regex=False).unique()"
   ]
  },
  {
   "cell_type": "code",
   "execution_count": null,
   "metadata": {
    "vscode": {
     "languageId": "python"
    }
   },
   "outputs": [],
   "source": [
    "# Tweak\n",
    "def clean_cols(val):\n",
    "    return val.replace(' ', '_').replace('#', 'Num').replace('%', 'Per')\n",
    "\n",
    "def clean_pop(df):\n",
    "    col = (df\n",
    "            ['Per_popular']\n",
    "           .replace('NA()', np.nan)\n",
    "           .astype(float)\n",
    "          )\n",
    "    return col.fillna(col.mean())\n",
    "\n",
    "pres2 = (pres\n",
    "  .rename(columns=clean_cols)\n",
    "  .assign(date=lambda df_:pd.to_datetime(df_.Year_first_inaugurated, format='%Y'),\n",
    "         Per_popular=clean_pop)\n",
    "  #.assign(Years_in_office = lambda df_:df_.Years_in_office.astype(int))\n",
    ")"
   ]
  },
  {
   "cell_type": "code",
   "execution_count": null,
   "metadata": {
    "vscode": {
     "languageId": "python"
    }
   },
   "outputs": [],
   "source": [
    "# Stats\n",
    "pres2.describe()"
   ]
  },
  {
   "cell_type": "code",
   "execution_count": null,
   "metadata": {
    "vscode": {
     "languageId": "python"
    }
   },
   "outputs": [],
   "source": [
    "pres2.corr()"
   ]
  },
  {
   "cell_type": "code",
   "execution_count": null,
   "metadata": {
    "vscode": {
     "languageId": "python"
    }
   },
   "outputs": [],
   "source": [
    "pres2.corr().style.background_gradient(cmap='RdBu', vmin=-1, vmax=1)"
   ]
  },
  {
   "cell_type": "code",
   "execution_count": null,
   "metadata": {
    "vscode": {
     "languageId": "python"
    }
   },
   "outputs": [],
   "source": [
    "(pres2\n",
    " .Age_at_inauguration\n",
    " .plot.bar()\n",
    ")"
   ]
  },
  {
   "cell_type": "code",
   "execution_count": null,
   "metadata": {
    "vscode": {
     "languageId": "python"
    }
   },
   "outputs": [],
   "source": [
    "(pres2\n",
    " .set_index('President')\n",
    " .Age_at_inauguration\n",
    " .plot.barh(figsize=(6,6))\n",
    ")"
   ]
  },
  {
   "cell_type": "code",
   "execution_count": null,
   "metadata": {
    "vscode": {
     "languageId": "python"
    }
   },
   "outputs": [],
   "source": [
    "(pres2\n",
    " .set_index('President')\n",
    " .Age_at_inauguration\n",
    " .plot.barh(figsize=(6,6))\n",
    ")"
   ]
  },
  {
   "cell_type": "code",
   "execution_count": null,
   "metadata": {
    "vscode": {
     "languageId": "python"
    }
   },
   "outputs": [],
   "source": [
    "(pres2\n",
    " .Political_Party\n",
    " .value_counts()\n",
    " .plot.pie(figsize=(6,4))\n",
    ")"
   ]
  },
  {
   "cell_type": "code",
   "execution_count": null,
   "metadata": {
    "vscode": {
     "languageId": "python"
    }
   },
   "outputs": [],
   "source": [
    "(pres2\n",
    " .Political_Party\n",
    " .value_counts()\n",
    " .plot.pie(figsize=(6,4))\n",
    ")"
   ]
  },
  {
   "cell_type": "code",
   "execution_count": null,
   "metadata": {
    "vscode": {
     "languageId": "python"
    }
   },
   "outputs": [],
   "source": [
    "(pres2\n",
    " .Political_Party\n",
    " .value_counts()\n",
    " .plot.barh(figsize=(6,4))\n",
    ")"
   ]
  },
  {
   "cell_type": "code",
   "execution_count": null,
   "metadata": {
    "vscode": {
     "languageId": "python"
    }
   },
   "outputs": [],
   "source": [
    "(pres2\n",
    " .Occupation\n",
    " .value_counts()\n",
    " .plot.barh(figsize=(6,4))\n",
    ")"
   ]
  },
  {
   "cell_type": "code",
   "execution_count": null,
   "metadata": {
    "vscode": {
     "languageId": "python"
    }
   },
   "outputs": [],
   "source": [
    "(pres2\n",
    " .College\n",
    " .value_counts()\n",
    " .plot.barh(figsize=(6,4))\n",
    ")"
   ]
  },
  {
   "cell_type": "code",
   "execution_count": null,
   "metadata": {
    "vscode": {
     "languageId": "python"
    }
   },
   "outputs": [],
   "source": [
    "# Filtering\n",
    "pres2[pres2.Years_in_office < 4]"
   ]
  },
  {
   "cell_type": "code",
   "execution_count": null,
   "metadata": {
    "vscode": {
     "languageId": "python"
    }
   },
   "outputs": [],
   "source": [
    "pres2.Years_in_office.value_counts(dropna=False)"
   ]
  },
  {
   "cell_type": "code",
   "execution_count": null,
   "metadata": {
    "vscode": {
     "languageId": "python"
    }
   },
   "outputs": [],
   "source": [
    "pres2[pres2.Years_in_office.isna()]"
   ]
  },
  {
   "cell_type": "code",
   "execution_count": null,
   "metadata": {
    "vscode": {
     "languageId": "python"
    }
   },
   "outputs": [],
   "source": [
    "(pres2\n",
    ".groupby('Political_Party')\n",
    ".mean())"
   ]
  },
  {
   "cell_type": "code",
   "execution_count": null,
   "metadata": {
    "vscode": {
     "languageId": "python"
    }
   },
   "outputs": [],
   "source": []
  },
  {
   "cell_type": "code",
   "execution_count": null,
   "metadata": {
    "vscode": {
     "languageId": "python"
    }
   },
   "outputs": [],
   "source": []
  },
  {
   "cell_type": "code",
   "execution_count": null,
   "metadata": {
    "vscode": {
     "languageId": "python"
    }
   },
   "outputs": [],
   "source": []
  },
  {
   "cell_type": "markdown",
   "metadata": {},
   "source": [
    "## Loading Data"
   ]
  },
  {
   "cell_type": "code",
   "execution_count": null,
   "metadata": {
    "vscode": {
     "languageId": "python"
    }
   },
   "outputs": [],
   "source": [
    "url = 'https://github.com/mattharrison/datasets/raw/master/data/alta-noaa-1980-2019.csv'\n",
    "alta = pd.read_csv(url)"
   ]
  },
  {
   "cell_type": "code",
   "execution_count": null,
   "metadata": {
    "vscode": {
     "languageId": "python"
    }
   },
   "outputs": [],
   "source": [
    "alta"
   ]
  },
  {
   "cell_type": "code",
   "execution_count": null,
   "metadata": {
    "vscode": {
     "languageId": "python"
    }
   },
   "outputs": [],
   "source": [
    "pd.re"
   ]
  },
  {
   "cell_type": "code",
   "execution_count": null,
   "metadata": {
    "vscode": {
     "languageId": "python"
    }
   },
   "outputs": [],
   "source": [
    "# save as Excel\n",
    "alta.to_excel('alta.xlsx')"
   ]
  },
  {
   "cell_type": "code",
   "execution_count": null,
   "metadata": {
    "vscode": {
     "languageId": "python"
    }
   },
   "outputs": [],
   "source": [
    "pd.read_excel?"
   ]
  },
  {
   "cell_type": "code",
   "execution_count": null,
   "metadata": {
    "vscode": {
     "languageId": "python"
    }
   },
   "outputs": [],
   "source": [
    "alta2 = pd.read_excel('alta.xlsx', index_col=0)"
   ]
  },
  {
   "cell_type": "code",
   "execution_count": null,
   "metadata": {
    "vscode": {
     "languageId": "python"
    }
   },
   "outputs": [],
   "source": [
    "alta2"
   ]
  },
  {
   "cell_type": "code",
   "execution_count": null,
   "metadata": {
    "vscode": {
     "languageId": "python"
    }
   },
   "outputs": [],
   "source": [
    "# save as SQL\n",
    "import sqlite3\n",
    "con = sqlite3.connect('alta.db')\n",
    "con.execute('DROP TABLE IF EXISTS alta')\n",
    "alta.to_sql('alta', con)"
   ]
  },
  {
   "cell_type": "code",
   "execution_count": null,
   "metadata": {
    "vscode": {
     "languageId": "python"
    }
   },
   "outputs": [],
   "source": [
    "alta2 = pd.read_sql('SELECT * from alta', con)"
   ]
  },
  {
   "cell_type": "code",
   "execution_count": null,
   "metadata": {
    "vscode": {
     "languageId": "python"
    }
   },
   "outputs": [],
   "source": [
    "alta2"
   ]
  },
  {
   "cell_type": "code",
   "execution_count": null,
   "metadata": {
    "vscode": {
     "languageId": "python"
    }
   },
   "outputs": [],
   "source": []
  },
  {
   "cell_type": "code",
   "execution_count": null,
   "metadata": {
    "vscode": {
     "languageId": "python"
    }
   },
   "outputs": [],
   "source": []
  },
  {
   "cell_type": "code",
   "execution_count": null,
   "metadata": {
    "vscode": {
     "languageId": "python"
    }
   },
   "outputs": [],
   "source": []
  },
  {
   "cell_type": "code",
   "execution_count": null,
   "metadata": {
    "vscode": {
     "languageId": "python"
    }
   },
   "outputs": [],
   "source": []
  },
  {
   "cell_type": "code",
   "execution_count": null,
   "metadata": {
    "vscode": {
     "languageId": "python"
    }
   },
   "outputs": [],
   "source": []
  },
  {
   "cell_type": "markdown",
   "metadata": {},
   "source": [
    "## Inspecting Data"
   ]
  },
  {
   "cell_type": "code",
   "execution_count": null,
   "metadata": {
    "vscode": {
     "languageId": "python"
    }
   },
   "outputs": [],
   "source": [
    "alta.columns"
   ]
  },
  {
   "cell_type": "code",
   "execution_count": null,
   "metadata": {
    "vscode": {
     "languageId": "python"
    }
   },
   "outputs": [],
   "source": [
    "alta.SNOW."
   ]
  },
  {
   "cell_type": "code",
   "execution_count": null,
   "metadata": {
    "vscode": {
     "languageId": "python"
    }
   },
   "outputs": [],
   "source": [
    "alta[\"SNOW\"]"
   ]
  },
  {
   "cell_type": "code",
   "execution_count": null,
   "metadata": {
    "vscode": {
     "languageId": "python"
    }
   },
   "outputs": [],
   "source": [
    "alta.dtypes"
   ]
  },
  {
   "cell_type": "code",
   "execution_count": null,
   "metadata": {
    "vscode": {
     "languageId": "python"
    }
   },
   "outputs": [],
   "source": [
    "alta.info()"
   ]
  },
  {
   "cell_type": "code",
   "execution_count": null,
   "metadata": {
    "vscode": {
     "languageId": "python"
    }
   },
   "outputs": [],
   "source": [
    "# property vs method\n",
    "alta.info"
   ]
  },
  {
   "cell_type": "code",
   "execution_count": null,
   "metadata": {
    "vscode": {
     "languageId": "python"
    }
   },
   "outputs": [],
   "source": [
    "alta.dtypes()"
   ]
  },
  {
   "cell_type": "code",
   "execution_count": null,
   "metadata": {
    "vscode": {
     "languageId": "python"
    }
   },
   "outputs": [],
   "source": [
    "alta.head()"
   ]
  },
  {
   "cell_type": "code",
   "execution_count": null,
   "metadata": {
    "vscode": {
     "languageId": "python"
    }
   },
   "outputs": [],
   "source": [
    "alta.head().T"
   ]
  },
  {
   "cell_type": "code",
   "execution_count": null,
   "metadata": {
    "vscode": {
     "languageId": "python"
    }
   },
   "outputs": [],
   "source": [
    "alta.sample(5)"
   ]
  },
  {
   "cell_type": "code",
   "execution_count": null,
   "metadata": {
    "vscode": {
     "languageId": "python"
    }
   },
   "outputs": [],
   "source": [
    "alta.shape"
   ]
  },
  {
   "cell_type": "code",
   "execution_count": null,
   "metadata": {
    "vscode": {
     "languageId": "python"
    }
   },
   "outputs": [],
   "source": [
    "alta.index"
   ]
  },
  {
   "cell_type": "code",
   "execution_count": null,
   "metadata": {
    "vscode": {
     "languageId": "python"
    }
   },
   "outputs": [],
   "source": [
    "# doesn't show :(\n",
    "with pd.option_context('display.min_rows', 3):\n",
    "    alta"
   ]
  },
  {
   "cell_type": "code",
   "execution_count": null,
   "metadata": {
    "vscode": {
     "languageId": "python"
    }
   },
   "outputs": [],
   "source": [
    "from IPython.display import display\n",
    "with pd.option_context('display.min_rows', 3):\n",
    "    display(alta)"
   ]
  },
  {
   "cell_type": "code",
   "execution_count": null,
   "metadata": {
    "vscode": {
     "languageId": "python"
    }
   },
   "outputs": [],
   "source": [
    "from IPython.display import display\n",
    "with pd.option_context('display.max_columns', 40):\n",
    "    display(alta.T)"
   ]
  },
  {
   "cell_type": "code",
   "execution_count": null,
   "metadata": {
    "vscode": {
     "languageId": "python"
    }
   },
   "outputs": [],
   "source": []
  },
  {
   "cell_type": "markdown",
   "metadata": {},
   "source": [
    "## Tweaking Data"
   ]
  },
  {
   "cell_type": "code",
   "execution_count": null,
   "metadata": {
    "vscode": {
     "languageId": "python"
    }
   },
   "outputs": [],
   "source": [
    "alta.columns"
   ]
  },
  {
   "cell_type": "code",
   "execution_count": null,
   "metadata": {
    "vscode": {
     "languageId": "python"
    }
   },
   "outputs": [],
   "source": [
    "# generally rename columns so I get attribute access (gives me completion in Jupyter)\n",
    "# can use a dictionary or a function\n",
    "def clean_col(name):\n",
    "    return name.lower()\n",
    "\n",
    "(alta\n",
    " .rename(columns=clean_col)\n",
    ")"
   ]
  },
  {
   "cell_type": "code",
   "execution_count": null,
   "metadata": {
    "vscode": {
     "languageId": "python"
    }
   },
   "outputs": [],
   "source": [
    "alta.dtypes"
   ]
  },
  {
   "cell_type": "code",
   "execution_count": null,
   "metadata": {
    "vscode": {
     "languageId": "python"
    }
   },
   "outputs": [],
   "source": [
    "pd.to_datetime(alta.DATE)"
   ]
  },
  {
   "cell_type": "code",
   "execution_count": null,
   "metadata": {
    "vscode": {
     "languageId": "python"
    }
   },
   "outputs": [],
   "source": [
    "alta.NAME.value_counts()"
   ]
  },
  {
   "cell_type": "code",
   "execution_count": null,
   "metadata": {
    "lines_to_next_cell": 2,
    "vscode": {
     "languageId": "python"
    }
   },
   "outputs": [],
   "source": [
    "# many string utilities\n",
    "alta.DATE.str."
   ]
  },
  {
   "cell_type": "code",
   "execution_count": null,
   "metadata": {
    "vscode": {
     "languageId": "python"
    }
   },
   "outputs": [],
   "source": [
    "# string manipulation using .str\n",
    "alta.DATE.str.slice(0,4)"
   ]
  },
  {
   "cell_type": "code",
   "execution_count": null,
   "metadata": {
    "vscode": {
     "languageId": "python"
    }
   },
   "outputs": [],
   "source": [
    "# string manipulation then convert to number\n",
    "alta.DATE.str.slice(0,4).astype(int)"
   ]
  },
  {
   "cell_type": "code",
   "execution_count": null,
   "metadata": {
    "vscode": {
     "languageId": "python"
    }
   },
   "outputs": [],
   "source": [
    "# in this case can also convert to date and pull off year attribute from .dt\n",
    "pd.to_datetime(alta.DATE).dt.year"
   ]
  },
  {
   "cell_type": "code",
   "execution_count": null,
   "metadata": {
    "vscode": {
     "languageId": "python"
    }
   },
   "outputs": [],
   "source": [
    "def to_celsius(val):\n",
    "    return (val - 32) * 5/9\n",
    "\n",
    "alta.TOBS.apply(to_celsius)"
   ]
  },
  {
   "cell_type": "code",
   "execution_count": null,
   "metadata": {
    "vscode": {
     "languageId": "python"
    }
   },
   "outputs": [],
   "source": [
    "%%timeit\n",
    "alta.TOBS.apply(to_celsius)"
   ]
  },
  {
   "cell_type": "code",
   "execution_count": null,
   "metadata": {
    "vscode": {
     "languageId": "python"
    }
   },
   "outputs": [],
   "source": [
    "%%timeit\n",
    "(alta.TOBS - 32) * 5/9"
   ]
  },
  {
   "cell_type": "code",
   "execution_count": null,
   "metadata": {
    "vscode": {
     "languageId": "python"
    }
   },
   "outputs": [],
   "source": [
    "def clean_col(name):\n",
    "    return name.lower()\n",
    "\n",
    "\n",
    "def tweak_alta(df):\n",
    "    return (df\n",
    "            .rename(columns=clean_col)\n",
    "            .assign(date=lambda df_:pd.to_datetime(df_.date),\n",
    "                    year=lambda df_: df_.date.dt.year,\n",
    "                    tobs_c=lambda df_: (df_.tobs - 32) * 5/9\n",
    "                   )\n",
    "            [['date', 'prcp', 'snow', 'snwd', 'tmax', 'tmin', 'tobs', 'tobs_c']]\n",
    "    )\n",
    "alta2 = tweak_alta(alta)"
   ]
  },
  {
   "cell_type": "code",
   "execution_count": null,
   "metadata": {
    "vscode": {
     "languageId": "python"
    }
   },
   "outputs": [],
   "source": [
    "alta2"
   ]
  },
  {
   "cell_type": "code",
   "execution_count": null,
   "metadata": {
    "vscode": {
     "languageId": "python"
    }
   },
   "outputs": [],
   "source": []
  },
  {
   "cell_type": "code",
   "execution_count": null,
   "metadata": {
    "vscode": {
     "languageId": "python"
    }
   },
   "outputs": [],
   "source": []
  },
  {
   "cell_type": "code",
   "execution_count": null,
   "metadata": {
    "vscode": {
     "languageId": "python"
    }
   },
   "outputs": [],
   "source": []
  },
  {
   "cell_type": "code",
   "execution_count": null,
   "metadata": {
    "vscode": {
     "languageId": "python"
    }
   },
   "outputs": [],
   "source": []
  },
  {
   "cell_type": "markdown",
   "metadata": {},
   "source": [
    "## Stats"
   ]
  },
  {
   "cell_type": "code",
   "execution_count": null,
   "metadata": {
    "vscode": {
     "languageId": "python"
    }
   },
   "outputs": [],
   "source": [
    "alta2.describe()"
   ]
  },
  {
   "cell_type": "code",
   "execution_count": null,
   "metadata": {
    "vscode": {
     "languageId": "python"
    }
   },
   "outputs": [],
   "source": [
    "# various aggregation functions (min, max, mean, median, kurt, skew)\n",
    "alta2.mean()"
   ]
  },
  {
   "cell_type": "code",
   "execution_count": null,
   "metadata": {
    "vscode": {
     "languageId": "python"
    }
   },
   "outputs": [],
   "source": [
    "alta2.snow.quantile(.7)"
   ]
  },
  {
   "cell_type": "code",
   "execution_count": null,
   "metadata": {
    "vscode": {
     "languageId": "python"
    }
   },
   "outputs": [],
   "source": [
    "alta2.snow.quantile([.1,.9])"
   ]
  },
  {
   "cell_type": "code",
   "execution_count": null,
   "metadata": {
    "vscode": {
     "languageId": "python"
    }
   },
   "outputs": [],
   "source": [
    "alta2.agg(['kurt', 'skew', 'mean', 'median'])"
   ]
  },
  {
   "cell_type": "code",
   "execution_count": null,
   "metadata": {
    "vscode": {
     "languageId": "python"
    }
   },
   "outputs": [],
   "source": [
    "alta2.corr()"
   ]
  },
  {
   "cell_type": "code",
   "execution_count": null,
   "metadata": {
    "vscode": {
     "languageId": "python"
    }
   },
   "outputs": [],
   "source": [
    "alta2.corr().style.background_gradient(cmap='RdBu', vmin=-1, vmax=1)"
   ]
  },
  {
   "cell_type": "code",
   "execution_count": null,
   "metadata": {
    "vscode": {
     "languageId": "python"
    }
   },
   "outputs": [],
   "source": [
    "alta2.prcp.corr(alta2.snow)"
   ]
  },
  {
   "cell_type": "code",
   "execution_count": null,
   "metadata": {
    "vscode": {
     "languageId": "python"
    }
   },
   "outputs": [],
   "source": []
  },
  {
   "cell_type": "code",
   "execution_count": null,
   "metadata": {
    "vscode": {
     "languageId": "python"
    }
   },
   "outputs": [],
   "source": []
  },
  {
   "cell_type": "code",
   "execution_count": null,
   "metadata": {
    "vscode": {
     "languageId": "python"
    }
   },
   "outputs": [],
   "source": []
  },
  {
   "cell_type": "code",
   "execution_count": null,
   "metadata": {
    "vscode": {
     "languageId": "python"
    }
   },
   "outputs": [],
   "source": []
  },
  {
   "cell_type": "code",
   "execution_count": null,
   "metadata": {
    "vscode": {
     "languageId": "python"
    }
   },
   "outputs": [],
   "source": []
  },
  {
   "cell_type": "markdown",
   "metadata": {},
   "source": [
    "## Plotting"
   ]
  },
  {
   "cell_type": "code",
   "execution_count": null,
   "metadata": {
    "vscode": {
     "languageId": "python"
    }
   },
   "outputs": [],
   "source": [
    "%matplotlib inline"
   ]
  },
  {
   "cell_type": "code",
   "execution_count": null,
   "metadata": {
    "vscode": {
     "languageId": "python"
    }
   },
   "outputs": [],
   "source": [
    "alta2.plot()"
   ]
  },
  {
   "cell_type": "code",
   "execution_count": null,
   "metadata": {
    "vscode": {
     "languageId": "python"
    }
   },
   "outputs": [],
   "source": [
    "alta2.dtypes"
   ]
  },
  {
   "cell_type": "code",
   "execution_count": null,
   "metadata": {
    "vscode": {
     "languageId": "python"
    }
   },
   "outputs": [],
   "source": [
    "(alta2\n",
    ".drop(columns='date')\n",
    ".plot())"
   ]
  },
  {
   "cell_type": "code",
   "execution_count": null,
   "metadata": {
    "vscode": {
     "languageId": "python"
    }
   },
   "outputs": [],
   "source": [
    "# plots index in x, so why not put the date in the index?\n",
    "(alta2\n",
    ".set_index('date')\n",
    ".plot())"
   ]
  },
  {
   "cell_type": "code",
   "execution_count": null,
   "metadata": {
    "vscode": {
     "languageId": "python"
    }
   },
   "outputs": [],
   "source": [
    "# plots index in x, so why not put the date in the index?\n",
    "(alta2\n",
    ".set_index('date')\n",
    ".plot())"
   ]
  },
  {
   "cell_type": "code",
   "execution_count": null,
   "metadata": {
    "vscode": {
     "languageId": "python"
    }
   },
   "outputs": [],
   "source": [
    "# plots index in x, so why not put the date in the index?\n",
    "(alta2\n",
    ".set_index('date')\n",
    ".filter(regex=r'^t.*', axis='columns')\n",
    ".plot())"
   ]
  },
  {
   "cell_type": "code",
   "execution_count": null,
   "metadata": {
    "vscode": {
     "languageId": "python"
    }
   },
   "outputs": [],
   "source": [
    "(alta2\n",
    ".set_index('date')\n",
    ".filter(regex=r'^t.*', axis='columns')\n",
    ".plot(figsize=(10,4)))"
   ]
  },
  {
   "cell_type": "code",
   "execution_count": null,
   "metadata": {
    "vscode": {
     "languageId": "python"
    }
   },
   "outputs": [],
   "source": [
    "(alta2\n",
    ".set_index('date')\n",
    ".filter(regex=r'^t.*', axis='columns')\n",
    ".resample('W')\n",
    ".mean()\n",
    ".plot(figsize=(10,4))\n",
    ")"
   ]
  },
  {
   "cell_type": "code",
   "execution_count": null,
   "metadata": {
    "vscode": {
     "languageId": "python"
    }
   },
   "outputs": [],
   "source": [
    "# use the docs to get links like this\n",
    "# https://pandas.pydata.org/pandas-docs/stable/user_guide/timeseries.html#dateoffset-objects\n",
    "alta2.resample?"
   ]
  },
  {
   "cell_type": "code",
   "execution_count": null,
   "metadata": {
    "vscode": {
     "languageId": "python"
    }
   },
   "outputs": [],
   "source": [
    "_ = (alta2\n",
    ".set_index('date')\n",
    ".filter(regex=r'^t.*', axis='columns')\n",
    ".resample('M')\n",
    ".mean()\n",
    ".iloc[-100:]\n",
    ".plot(figsize=(10,4))\n",
    ")"
   ]
  },
  {
   "cell_type": "code",
   "execution_count": null,
   "metadata": {
    "lines_to_next_cell": 2,
    "vscode": {
     "languageId": "python"
    }
   },
   "outputs": [],
   "source": [
    "import matplotlib.font_manager as fm\n",
    "fm.fontManager.ttflist\n",
    "# append to this list if you want to add a font\n",
    "#fm.fontManager.ttflist += fm.createFontList(['thsarabunnew-webfont.ttf'])"
   ]
  },
  {
   "cell_type": "code",
   "execution_count": null,
   "metadata": {
    "vscode": {
     "languageId": "python"
    }
   },
   "outputs": [],
   "source": [
    "import matplotlib.pyplot as plt\n",
    "font = 'Sinkin Sans'\n",
    "with plt.style.context('fivethirtyeight'):    \n",
    "    with plt.style.context({'font.family':font}):\n",
    "        _ = (alta2\n",
    "        .set_index('date')\n",
    "        .filter(regex=r'^t.*', axis='columns')\n",
    "        .resample('M')\n",
    "        .mean()\n",
    "        .iloc[-100:]\n",
    "        .plot(figsize=(10,4), title='Temperatures at Alta')\n",
    "        .legend(bbox_to_anchor=(1,1))\n",
    "        )"
   ]
  },
  {
   "cell_type": "code",
   "execution_count": null,
   "metadata": {
    "vscode": {
     "languageId": "python"
    }
   },
   "outputs": [],
   "source": [
    "# bar plot - avg per month\n",
    "(alta2\n",
    " .groupby(alta2.date.dt.month_name())\n",
    " .snow\n",
    " .mean()\n",
    " .plot.barh()\n",
    ")"
   ]
  },
  {
   "cell_type": "code",
   "execution_count": null,
   "metadata": {
    "vscode": {
     "languageId": "python"
    }
   },
   "outputs": [],
   "source": []
  },
  {
   "cell_type": "code",
   "execution_count": null,
   "metadata": {
    "vscode": {
     "languageId": "python"
    }
   },
   "outputs": [],
   "source": [
    "# bar plot - avg per month\n",
    "months = ['January', 'February', 'March', 'April', 'May', 'June', 'July',\n",
    "          'August', 'September', 'October', 'November', 'December']\n",
    "MonthType = pd.CategoricalDtype(categories=months, ordered=True)\n",
    "_ = (alta2\n",
    " .assign(month=alta2.date.dt.month_name().astype(MonthType))\n",
    " .groupby('month')\n",
    " .snow\n",
    " .mean()\n",
    " .plot.barh()\n",
    ")"
   ]
  },
  {
   "cell_type": "code",
   "execution_count": null,
   "metadata": {
    "vscode": {
     "languageId": "python"
    }
   },
   "outputs": [],
   "source": [
    "# add style, title, clean ylabel\n",
    "with plt.style.context('fivethirtyeight'):\n",
    "    with plt.style.context({'font.family':font}):\n",
    "        ax = (alta2\n",
    "         .assign(month=alta2.date.dt.month_name().astype(MonthType))\n",
    "         .groupby('month')\n",
    "         .snow\n",
    "         .mean()\n",
    "         .plot.barh(title=\"Average Daily Snowfall(in) at Alta\")\n",
    "        )\n",
    "        ax.set_ylabel('')"
   ]
  },
  {
   "cell_type": "code",
   "execution_count": null,
   "metadata": {
    "vscode": {
     "languageId": "python"
    }
   },
   "outputs": [],
   "source": [
    "# pie chart\n",
    "\n",
    "months = ['January', 'February', 'March', 'April', 'May', 'June', 'July',\n",
    "          'August', 'September', 'October', 'November', 'December']\n",
    "MonthType = pd.CategoricalDtype(categories=months, ordered=True)\n",
    "_ = (alta2\n",
    " .assign(month=alta2.date.dt.month_name().astype(MonthType))\n",
    " .groupby('month')\n",
    " .snow\n",
    " .mean()\n",
    " .plot.pie()\n",
    ")"
   ]
  },
  {
   "cell_type": "code",
   "execution_count": null,
   "metadata": {
    "vscode": {
     "languageId": "python"
    }
   },
   "outputs": [],
   "source": [
    "# scatter plot\n",
    "(alta2\n",
    "  .plot.scatter(x='tobs', y='snwd'))"
   ]
  },
  {
   "cell_type": "code",
   "execution_count": null,
   "metadata": {
    "vscode": {
     "languageId": "python"
    }
   },
   "outputs": [],
   "source": [
    "(alta2[alta2.tobs>100])"
   ]
  },
  {
   "cell_type": "code",
   "execution_count": null,
   "metadata": {
    "vscode": {
     "languageId": "python"
    }
   },
   "outputs": [],
   "source": [
    "# scatter plot\n",
    "(alta2\n",
    "  .sample(2_000)\n",
    "  .plot.scatter(x='tobs', y='snwd', alpha=.2))"
   ]
  },
  {
   "cell_type": "code",
   "execution_count": null,
   "metadata": {
    "vscode": {
     "languageId": "python"
    }
   },
   "outputs": [],
   "source": [
    "# scatter plot\n",
    "(alta2\n",
    "  .sample(2_000)\n",
    "  .plot.scatter(x='tobs', y='snow', alpha=.2))"
   ]
  },
  {
   "cell_type": "code",
   "execution_count": null,
   "metadata": {
    "vscode": {
     "languageId": "python"
    }
   },
   "outputs": [],
   "source": [
    "alta2.query('snow > 0').tobs.max()"
   ]
  },
  {
   "cell_type": "code",
   "execution_count": null,
   "metadata": {
    "vscode": {
     "languageId": "python"
    }
   },
   "outputs": [],
   "source": [
    "# scatter plot\n",
    "with plt.style.context('fivethirtyeight'):\n",
    "    (alta2\n",
    "      .sample(2_000)\n",
    "      .plot.scatter(x='tobs', y='snow', alpha=.2,\n",
    "                   title='Snowfall vs Temp (F)'))"
   ]
  },
  {
   "cell_type": "code",
   "execution_count": null,
   "metadata": {
    "vscode": {
     "languageId": "python"
    }
   },
   "outputs": [],
   "source": [
    "(alta2\n",
    "  .query('snow > 0')\n",
    "  .tobs\n",
    "  .plot.hist())"
   ]
  },
  {
   "cell_type": "code",
   "execution_count": null,
   "metadata": {
    "vscode": {
     "languageId": "python"
    }
   },
   "outputs": [],
   "source": [
    "with plt.style.context('fivethirtyeight'):\n",
    "    with plt.style.context({'font.family':font}):\n",
    "        (alta2\n",
    "          .query('snow > 0')\n",
    "          .tobs\n",
    "          .plot.hist(title='Temp (F) during Snowfall'))"
   ]
  },
  {
   "cell_type": "code",
   "execution_count": null,
   "metadata": {
    "vscode": {
     "languageId": "python"
    }
   },
   "outputs": [],
   "source": []
  },
  {
   "cell_type": "code",
   "execution_count": null,
   "metadata": {
    "vscode": {
     "languageId": "python"
    }
   },
   "outputs": [],
   "source": []
  },
  {
   "cell_type": "markdown",
   "metadata": {},
   "source": [
    "## Filtering"
   ]
  },
  {
   "cell_type": "code",
   "execution_count": null,
   "metadata": {
    "vscode": {
     "languageId": "python"
    }
   },
   "outputs": [],
   "source": [
    "alta2[alta2.tobs > 100]"
   ]
  },
  {
   "cell_type": "code",
   "execution_count": null,
   "metadata": {
    "vscode": {
     "languageId": "python"
    }
   },
   "outputs": [],
   "source": [
    "alta2.query('tobs > 100')"
   ]
  },
  {
   "cell_type": "code",
   "execution_count": null,
   "metadata": {
    "vscode": {
     "languageId": "python"
    }
   },
   "outputs": [],
   "source": [
    "months = ['December', 'January']\n",
    "alta2.query('date.dt.month_name().isin(@months)').date.dt.month_name().value_counts()"
   ]
  },
  {
   "cell_type": "code",
   "execution_count": null,
   "metadata": {
    "vscode": {
     "languageId": "python"
    }
   },
   "outputs": [],
   "source": [
    "months = ['December', 'January']\n",
    "alta2.query('date.dt.month_name().isin(@months) and snow > 10').describe()"
   ]
  },
  {
   "cell_type": "code",
   "execution_count": null,
   "metadata": {
    "vscode": {
     "languageId": "python"
    }
   },
   "outputs": [],
   "source": [
    "jan_dec = alta2.date.dt.month_name().isin(months)\n",
    "gt_10 = alta2.snow > 10\n",
    "alta2[jan_dec and gt_10]"
   ]
  },
  {
   "cell_type": "code",
   "execution_count": null,
   "metadata": {
    "vscode": {
     "languageId": "python"
    }
   },
   "outputs": [],
   "source": [
    "jan_dec = alta2.date.dt.month_name().isin(months)\n",
    "gt_10 = alta2.snow > 10\n",
    "alta2[jan_dec & gt_10]"
   ]
  },
  {
   "cell_type": "code",
   "execution_count": null,
   "metadata": {
    "vscode": {
     "languageId": "python"
    }
   },
   "outputs": [],
   "source": [
    "alta2[alta2.date.dt.month_name().isin(months) & alta2.snow > 10]"
   ]
  },
  {
   "cell_type": "code",
   "execution_count": null,
   "metadata": {
    "vscode": {
     "languageId": "python"
    }
   },
   "outputs": [],
   "source": [
    "alta2[alta2.date.dt.month_name().isin(months) & (alta2.snow > 10)]"
   ]
  },
  {
   "cell_type": "code",
   "execution_count": null,
   "metadata": {
    "vscode": {
     "languageId": "python"
    }
   },
   "outputs": [],
   "source": [
    "alta2.date.dt.month_name().isin(months) & alta2.snow"
   ]
  },
  {
   "cell_type": "code",
   "execution_count": null,
   "metadata": {
    "vscode": {
     "languageId": "python"
    }
   },
   "outputs": [],
   "source": [
    "alta2.date.dt.month_name().isin(months) & alta2.snow > 10"
   ]
  },
  {
   "cell_type": "code",
   "execution_count": null,
   "metadata": {
    "vscode": {
     "languageId": "python"
    }
   },
   "outputs": [],
   "source": [
    "# say I want to plot snow against date\n",
    "# pull out a single column\n",
    "(alta2\n",
    "  .set_index('date')\n",
    "  .snow)"
   ]
  },
  {
   "cell_type": "code",
   "execution_count": null,
   "metadata": {
    "vscode": {
     "languageId": "python"
    }
   },
   "outputs": [],
   "source": [
    "# say I want to plot snow against date\n",
    "# pull out a single column\n",
    "(alta2\n",
    "  .set_index('date')\n",
    "  ['snow'])"
   ]
  },
  {
   "cell_type": "code",
   "execution_count": null,
   "metadata": {
    "vscode": {
     "languageId": "python"
    }
   },
   "outputs": [],
   "source": [
    "# say I want to plot snow against date\n",
    "# pull out a single column - Not a series\n",
    "(alta2\n",
    "  .set_index('date')\n",
    "  [['snow']])"
   ]
  },
  {
   "cell_type": "code",
   "execution_count": null,
   "metadata": {
    "vscode": {
     "languageId": "python"
    }
   },
   "outputs": [],
   "source": [
    "# say I want to plot snow against date\n",
    "# pull out a single column\n",
    "(alta2\n",
    "  .set_index('date')\n",
    "  .loc[:, 'snow'])"
   ]
  },
  {
   "cell_type": "code",
   "execution_count": null,
   "metadata": {
    "vscode": {
     "languageId": "python"
    }
   },
   "outputs": [],
   "source": [
    "# say I want to plot snow against date\n",
    "# pull out a single column\n",
    "(alta2\n",
    "  .set_index('date')\n",
    "  .iloc[:, 2])"
   ]
  },
  {
   "cell_type": "code",
   "execution_count": null,
   "metadata": {
    "vscode": {
     "languageId": "python"
    }
   },
   "outputs": [],
   "source": []
  },
  {
   "cell_type": "code",
   "execution_count": null,
   "metadata": {
    "vscode": {
     "languageId": "python"
    }
   },
   "outputs": [],
   "source": []
  },
  {
   "cell_type": "code",
   "execution_count": null,
   "metadata": {
    "vscode": {
     "languageId": "python"
    }
   },
   "outputs": [],
   "source": []
  },
  {
   "cell_type": "markdown",
   "metadata": {},
   "source": [
    "### LOC Indexing"
   ]
  },
  {
   "cell_type": "code",
   "execution_count": null,
   "metadata": {
    "vscode": {
     "languageId": "python"
    }
   },
   "outputs": [],
   "source": [
    "# by label\n",
    "# dates support \"Partial String Indexing\"\n",
    "# https://pandas.pydata.org/pandas-docs/stable/user_guide/timeseries.html#partial-string-indexing\n",
    "# This will go to end of 2016. Use datetime objects to specify exact match (or longer string)\n",
    "(alta2\n",
    "  .set_index('date')\n",
    "  .loc['2015':'2016', 'snow'])"
   ]
  },
  {
   "cell_type": "code",
   "execution_count": null,
   "metadata": {
    "vscode": {
     "languageId": "python"
    }
   },
   "outputs": [],
   "source": [
    "# by label\n",
    "# dates support \"Partial String Indexing\"\n",
    "# https://pandas.pydata.org/pandas-docs/stable/user_guide/timeseries.html#partial-string-indexing\n",
    "# This will go to end of 2016. Use datetime objects to specify exact match (or longer string)\n",
    "(alta2\n",
    "  .set_index('date')\n",
    "  .loc['2015':'2016', 'snow':'snwd'])"
   ]
  },
  {
   "cell_type": "code",
   "execution_count": null,
   "metadata": {
    "vscode": {
     "languageId": "python"
    }
   },
   "outputs": [],
   "source": [
    "# by label\n",
    "# with lists & partial strings\n",
    "(alta2\n",
    "  .set_index('date')\n",
    "  .loc[['2015','2016'], ['snow','snwd']])"
   ]
  },
  {
   "cell_type": "code",
   "execution_count": null,
   "metadata": {
    "vscode": {
     "languageId": "python"
    }
   },
   "outputs": [],
   "source": [
    "# by label\n",
    "# with lists\n",
    "(alta2\n",
    "  .set_index('date')\n",
    "  .loc[['2015-11-01','2016-07-04'], ['snow','snwd']])"
   ]
  },
  {
   "cell_type": "code",
   "execution_count": null,
   "metadata": {
    "vscode": {
     "languageId": "python"
    }
   },
   "outputs": [],
   "source": [
    "# by label\n",
    "# with lists\n",
    "import datetime\n",
    "(alta2\n",
    "  .set_index('date')\n",
    "  .loc[[datetime.datetime(2015,11,1), datetime.datetime(2016,7,1)],\n",
    "       ['snow','snwd']])"
   ]
  },
  {
   "cell_type": "code",
   "execution_count": null,
   "metadata": {
    "vscode": {
     "languageId": "python"
    }
   },
   "outputs": [],
   "source": [
    "# by label\n",
    "# select all rows\n",
    "(alta2\n",
    "  .set_index('date')\n",
    "  .loc[:, ['snow','snwd']])"
   ]
  },
  {
   "cell_type": "code",
   "execution_count": null,
   "metadata": {
    "vscode": {
     "languageId": "python"
    }
   },
   "outputs": [],
   "source": [
    "# by label\n",
    "# use boolean array\n",
    "gt10 = (alta2\n",
    "       .set_index('date')\n",
    "       .snow > 10)\n",
    "(alta2\n",
    "  .set_index('date')\n",
    "  .loc[gt10, ['snow','snwd']])"
   ]
  },
  {
   "cell_type": "code",
   "execution_count": null,
   "metadata": {
    "vscode": {
     "languageId": "python"
    }
   },
   "outputs": [],
   "source": [
    "alta2.loc?"
   ]
  },
  {
   "cell_type": "code",
   "execution_count": null,
   "metadata": {
    "vscode": {
     "languageId": "python"
    }
   },
   "outputs": [],
   "source": [
    "# by function\n",
    "# use boolean array\n",
    "(alta2\n",
    "  .set_index('date')\n",
    "  .loc[lambda df_:df_.snow > 10, ['snow','snwd']])"
   ]
  },
  {
   "cell_type": "code",
   "execution_count": null,
   "metadata": {
    "vscode": {
     "languageId": "python"
    }
   },
   "outputs": [],
   "source": [
    "# by function\n",
    "# use boolean array - useful when intermediate dataframe/series has changed\n",
    "(alta2\n",
    "  .set_index('date')\n",
    "  .rename(columns=str.upper)\n",
    "  .loc[lambda df_:df_.SNOW > 10])"
   ]
  },
  {
   "cell_type": "code",
   "execution_count": null,
   "metadata": {
    "vscode": {
     "languageId": "python"
    }
   },
   "outputs": [],
   "source": []
  },
  {
   "cell_type": "code",
   "execution_count": null,
   "metadata": {
    "vscode": {
     "languageId": "python"
    }
   },
   "outputs": [],
   "source": []
  },
  {
   "cell_type": "code",
   "execution_count": null,
   "metadata": {
    "vscode": {
     "languageId": "python"
    }
   },
   "outputs": [],
   "source": []
  },
  {
   "cell_type": "markdown",
   "metadata": {},
   "source": [
    "### ILOC Indexing"
   ]
  },
  {
   "cell_type": "code",
   "execution_count": null,
   "metadata": {
    "vscode": {
     "languageId": "python"
    }
   },
   "outputs": [],
   "source": [
    "# iloc is by \n",
    "(alta2\n",
    "  .set_index('date')\n",
    "  .iloc[:, 2])"
   ]
  },
  {
   "cell_type": "code",
   "execution_count": null,
   "metadata": {
    "vscode": {
     "languageId": "python"
    }
   },
   "outputs": [],
   "source": [
    "# iloc is by \n",
    "(alta2\n",
    "  .set_index('date')\n",
    "  .iloc[12_500:13_500:, 2])"
   ]
  },
  {
   "cell_type": "code",
   "execution_count": null,
   "metadata": {
    "vscode": {
     "languageId": "python"
    }
   },
   "outputs": [],
   "source": [
    "# useful for pulling off first/last \n",
    "(alta2\n",
    "  .iloc[-200:])"
   ]
  },
  {
   "cell_type": "code",
   "execution_count": null,
   "metadata": {
    "vscode": {
     "languageId": "python"
    }
   },
   "outputs": [],
   "source": [
    "# note this follows \"half-open interval\" includes start index but not end\n",
    "(alta2\n",
    "  .iloc[10:20, 2:6])"
   ]
  },
  {
   "cell_type": "code",
   "execution_count": null,
   "metadata": {
    "vscode": {
     "languageId": "python"
    }
   },
   "outputs": [],
   "source": [
    "# by contrast loc is the closed interval (includes 20 and tmin)\n",
    "(alta2\n",
    "  .loc[10:20, 'snow':'tmin'])"
   ]
  },
  {
   "cell_type": "code",
   "execution_count": null,
   "metadata": {
    "vscode": {
     "languageId": "python"
    }
   },
   "outputs": [],
   "source": [
    "# doesn't work with boolean arrays\n",
    "gt10 = alta2.snow > 10\n",
    "(alta2\n",
    " .iloc[gt10])"
   ]
  },
  {
   "cell_type": "code",
   "execution_count": null,
   "metadata": {
    "vscode": {
     "languageId": "python"
    }
   },
   "outputs": [],
   "source": [
    "# however does work with numpy?!\n",
    "gt10 = alta2.snow > 10\n",
    "(alta2\n",
    " .iloc[gt10.to_numpy()])"
   ]
  },
  {
   "cell_type": "code",
   "execution_count": null,
   "metadata": {
    "vscode": {
     "languageId": "python"
    }
   },
   "outputs": [],
   "source": []
  },
  {
   "cell_type": "code",
   "execution_count": null,
   "metadata": {
    "vscode": {
     "languageId": "python"
    }
   },
   "outputs": [],
   "source": []
  },
  {
   "cell_type": "code",
   "execution_count": null,
   "metadata": {
    "vscode": {
     "languageId": "python"
    }
   },
   "outputs": [],
   "source": []
  },
  {
   "cell_type": "markdown",
   "metadata": {},
   "source": [
    "## Missing Data"
   ]
  },
  {
   "cell_type": "code",
   "execution_count": null,
   "metadata": {
    "vscode": {
     "languageId": "python"
    }
   },
   "outputs": [],
   "source": [
    "alta2.isna()"
   ]
  },
  {
   "cell_type": "code",
   "execution_count": null,
   "metadata": {
    "vscode": {
     "languageId": "python"
    }
   },
   "outputs": [],
   "source": [
    "# columns with missing data (apply any to axis 0)\n",
    "alta2.isna().any()"
   ]
  },
  {
   "cell_type": "code",
   "execution_count": null,
   "metadata": {
    "vscode": {
     "languageId": "python"
    }
   },
   "outputs": [],
   "source": [
    "# columns with missing data\n",
    "alta2.isna().sum()"
   ]
  },
  {
   "cell_type": "code",
   "execution_count": null,
   "metadata": {
    "vscode": {
     "languageId": "python"
    }
   },
   "outputs": [],
   "source": [
    "# columns with missing data\n",
    "alta2.isna().mul(100).mean()"
   ]
  },
  {
   "cell_type": "code",
   "execution_count": null,
   "metadata": {
    "vscode": {
     "languageId": "python"
    }
   },
   "outputs": [],
   "source": [
    "# where any part of row is missing\n",
    "alta2.isna().any(axis=1)"
   ]
  },
  {
   "cell_type": "code",
   "execution_count": null,
   "metadata": {
    "vscode": {
     "languageId": "python"
    }
   },
   "outputs": [],
   "source": [
    "# where any part of row is missing\n",
    "alta2[alta2.isna().any(axis=1)]"
   ]
  },
  {
   "cell_type": "code",
   "execution_count": null,
   "metadata": {
    "vscode": {
     "languageId": "python"
    }
   },
   "outputs": [],
   "source": [
    "# see where snow depth is missing\n",
    "alta2.query('snwd.isna()')"
   ]
  },
  {
   "cell_type": "code",
   "execution_count": null,
   "metadata": {
    "vscode": {
     "languageId": "python"
    }
   },
   "outputs": [],
   "source": [
    "(alta2\n",
    " .set_index('date')\n",
    " .loc['1980-04':'1980-05']\n",
    " .snwd\n",
    " .plot()\n",
    ")"
   ]
  },
  {
   "cell_type": "code",
   "execution_count": null,
   "metadata": {
    "vscode": {
     "languageId": "python"
    }
   },
   "outputs": [],
   "source": [
    "# dealing with missing data\n",
    "# Talk to an SME!\n",
    "# - Drop\n",
    "# - Impute\n",
    "# - (Add indicator column)\n",
    "(alta2\n",
    " .set_index('date')\n",
    " .loc['1980-04':'1980-05']\n",
    " .snwd\n",
    " .dropna()\n",
    " .plot()\n",
    ")"
   ]
  },
  {
   "cell_type": "code",
   "execution_count": null,
   "metadata": {
    "vscode": {
     "languageId": "python"
    }
   },
   "outputs": [],
   "source": [
    "alta2.snwd.fillna?"
   ]
  },
  {
   "cell_type": "code",
   "execution_count": null,
   "metadata": {
    "vscode": {
     "languageId": "python"
    }
   },
   "outputs": [],
   "source": [
    "# dealing with missing data\n",
    "# Talk to an SME!\n",
    "# - Drop\n",
    "# - Impute\n",
    "# - (Add indicator column)\n",
    "(alta2\n",
    " .set_index('date')\n",
    " .loc['1980-04':'1980-05']\n",
    " .snwd\n",
    " .fillna(alta2.snwd.mean())\n",
    " .plot()\n",
    ")"
   ]
  },
  {
   "cell_type": "code",
   "execution_count": null,
   "metadata": {
    "vscode": {
     "languageId": "python"
    }
   },
   "outputs": [],
   "source": [
    "# dealing with missing data\n",
    "# Talk to an SME!\n",
    "# - Drop\n",
    "# - Impute\n",
    "# - (Add indicator column)\n",
    "(alta2\n",
    " .set_index('date')\n",
    " .loc['1980-04':'1980-05']\n",
    " .snwd\n",
    " .interpolate()\n",
    " .plot()\n",
    ")"
   ]
  },
  {
   "cell_type": "code",
   "execution_count": null,
   "metadata": {
    "vscode": {
     "languageId": "python"
    }
   },
   "outputs": [],
   "source": [
    "# dealing with missing data\n",
    "# Talk to an SME!\n",
    "# - Drop\n",
    "# - Impute\n",
    "# - (Add indicator column)\n",
    "(alta2\n",
    " .set_index('date')\n",
    " .loc['1980-04':'1980-05']\n",
    " .snwd\n",
    " .ffill()\n",
    " .plot()\n",
    ")"
   ]
  },
  {
   "cell_type": "code",
   "execution_count": null,
   "metadata": {
    "vscode": {
     "languageId": "python"
    }
   },
   "outputs": [],
   "source": [
    "# dealing with missing data\n",
    "# Talk to an SME!\n",
    "# - Drop\n",
    "# - Impute\n",
    "# - (Add indicator column)\n",
    "(alta2\n",
    " .set_index('date')\n",
    " .loc['1980-04':'1980-05']\n",
    " .snwd\n",
    " .bfill()\n",
    " .plot()\n",
    ")"
   ]
  },
  {
   "cell_type": "code",
   "execution_count": null,
   "metadata": {
    "vscode": {
     "languageId": "python"
    }
   },
   "outputs": [],
   "source": [
    "# Add indicator column\n",
    "(alta2\n",
    ".assign(snwd_missing=alta2.snwd.isna(),\n",
    "        snwd=lambda df_:df_.snwd.interpolate())\n",
    ")"
   ]
  },
  {
   "cell_type": "code",
   "execution_count": null,
   "metadata": {
    "vscode": {
     "languageId": "python"
    }
   },
   "outputs": [],
   "source": [
    "# dealing with missing data\n",
    "# Talk to an SME!\n",
    "# - Drop\n",
    "# - Impute\n",
    "# - (Add indicator column)\n",
    "(alta2\n",
    " .set_index('date')\n",
    " .loc[:'1984-08']\n",
    " .snwd\n",
    " .interpolate()\n",
    " .plot(figsize=(10,4))\n",
    ")"
   ]
  },
  {
   "cell_type": "code",
   "execution_count": null,
   "metadata": {
    "vscode": {
     "languageId": "python"
    }
   },
   "outputs": [],
   "source": [
    "# dealing with missing data\n",
    "# Talk to an SME!\n",
    "# - Drop\n",
    "# - Impute\n",
    "# - (Add indicator column)\n",
    "(alta2\n",
    " .set_index('date')\n",
    " .loc['1984-08':'1990-08']\n",
    " .snwd\n",
    " .interpolate()\n",
    " .plot(figsize=(10,4))\n",
    ")"
   ]
  },
  {
   "cell_type": "code",
   "execution_count": null,
   "metadata": {
    "vscode": {
     "languageId": "python"
    }
   },
   "outputs": [],
   "source": [
    "# dealing with missing data\n",
    "# Talk to an SME!\n",
    "# - Drop\n",
    "# - Impute\n",
    "# - (Add indicator column)\n",
    "(alta2\n",
    " .set_index('date')\n",
    " .loc['1984-08':'1985-08']\n",
    " .snwd\n",
    " #.bfill()\n",
    " .plot(figsize=(10,4))\n",
    ")"
   ]
  },
  {
   "cell_type": "code",
   "execution_count": null,
   "metadata": {
    "vscode": {
     "languageId": "python"
    }
   },
   "outputs": [],
   "source": []
  },
  {
   "cell_type": "markdown",
   "metadata": {},
   "source": [
    "## Grouping"
   ]
  },
  {
   "cell_type": "code",
   "execution_count": null,
   "metadata": {
    "vscode": {
     "languageId": "python"
    }
   },
   "outputs": [],
   "source": [
    "# sum of the snowfall by year\n",
    "(alta2\n",
    "  .groupby(alta2.date.dt.year)\n",
    "  .snow\n",
    "  .sum()\n",
    ")"
   ]
  },
  {
   "cell_type": "code",
   "execution_count": null,
   "metadata": {
    "vscode": {
     "languageId": "python"
    }
   },
   "outputs": [],
   "source": [
    "# sum of the snowfall by year\n",
    "(alta2\n",
    "  .groupby(alta2.date.dt.year)\n",
    "  .snow\n",
    "  .sum()\n",
    "  .plot()\n",
    ")"
   ]
  },
  {
   "cell_type": "code",
   "execution_count": null,
   "metadata": {
    "vscode": {
     "languageId": "python"
    }
   },
   "outputs": [],
   "source": [
    "# maximum snow depth by year\n",
    "(alta2\n",
    "  .groupby(alta2.date.dt.year)\n",
    "  .snwd\n",
    "  .max()\n",
    ")"
   ]
  },
  {
   "cell_type": "code",
   "execution_count": null,
   "metadata": {
    "vscode": {
     "languageId": "python"
    }
   },
   "outputs": [],
   "source": [
    "# maximum snow depth by year\n",
    "(alta2\n",
    "  .groupby(alta2.date.dt.year)\n",
    "  .snwd\n",
    "  .max()\n",
    "  .plot()\n",
    ")"
   ]
  },
  {
   "cell_type": "code",
   "execution_count": null,
   "metadata": {
    "vscode": {
     "languageId": "python"
    }
   },
   "outputs": [],
   "source": [
    "# maximum snow depth by month\n",
    "(alta2\n",
    "  .groupby(alta2.date.dt.month)\n",
    "  .snwd\n",
    "  .max()\n",
    "  .plot()\n",
    ")"
   ]
  },
  {
   "cell_type": "code",
   "execution_count": null,
   "metadata": {
    "vscode": {
     "languageId": "python"
    }
   },
   "outputs": [],
   "source": [
    "# maximum snow depth by month of each year\n",
    "(alta2\n",
    "  .groupby(pd.Grouper(key='date', freq='m'))\n",
    "  .snwd\n",
    "  .max()\n",
    "  .plot()\n",
    ")"
   ]
  },
  {
   "cell_type": "code",
   "execution_count": null,
   "metadata": {
    "vscode": {
     "languageId": "python"
    }
   },
   "outputs": [],
   "source": [
    "pd.tseries.offsets.ccalendar.MONTH_ALIASES"
   ]
  },
  {
   "cell_type": "code",
   "execution_count": null,
   "metadata": {
    "vscode": {
     "languageId": "python"
    }
   },
   "outputs": [],
   "source": [
    "pd.offsets.YearOffset(month=9)"
   ]
  },
  {
   "cell_type": "code",
   "execution_count": null,
   "metadata": {
    "vscode": {
     "languageId": "python"
    }
   },
   "outputs": [],
   "source": [
    "# maximum snowfall by skiseason\n",
    "(alta2\n",
    "  .groupby(pd.Grouper(key='date', freq='A-JUN'))\n",
    "  .snow\n",
    "  .sum()\n",
    "  .plot()\n",
    ")"
   ]
  },
  {
   "cell_type": "code",
   "execution_count": null,
   "metadata": {
    "lines_to_next_cell": 2,
    "vscode": {
     "languageId": "python"
    }
   },
   "outputs": [],
   "source": [
    "# groupby by multiple columns\n",
    "(alta2\n",
    " .groupby([alta2.date.dt.year, alta2.date.dt.month])\n",
    " .snwd\n",
    " .mean()\n",
    ")"
   ]
  },
  {
   "cell_type": "code",
   "execution_count": null,
   "metadata": {
    "lines_to_next_cell": 2,
    "vscode": {
     "languageId": "python"
    }
   },
   "outputs": [],
   "source": [
    "# groupby by multiple columns\n",
    "(alta2\n",
    " .groupby([alta2.date.dt.year, alta2.date.dt.month])\n",
    " .snwd\n",
    " .mean()\n",
    " .unstack()\n",
    ")"
   ]
  },
  {
   "cell_type": "code",
   "execution_count": null,
   "metadata": {
    "lines_to_next_cell": 2,
    "vscode": {
     "languageId": "python"
    }
   },
   "outputs": [],
   "source": [
    "# groupby by multiple columns\n",
    "(alta2\n",
    " .groupby([alta2.date.dt.year, alta2.date.dt.month])\n",
    " .snwd\n",
    " .mean()\n",
    " .unstack()\n",
    " .plot()\n",
    ")"
   ]
  },
  {
   "cell_type": "code",
   "execution_count": null,
   "metadata": {
    "lines_to_next_cell": 2,
    "vscode": {
     "languageId": "python"
    }
   },
   "outputs": [],
   "source": [
    "# groupby by multiple columns\n",
    "with plt.style.context('fivethirtyeight'):\n",
    "    with plt.style.context({'font.family':font}):\n",
    "        (alta2\n",
    "         .groupby([alta2.date.dt.year.rename('year'), alta2.date.dt.month.rename('month')])\n",
    "         .snwd\n",
    "         .mean()\n",
    "         .unstack()\n",
    "         .rename(columns=dict(enumerate(\n",
    "             'Jan,Feb,Mar,Apr,May,Jun,Jul,Aug,Sep,Oct,Nov,Dec'.split(','), 1)))\n",
    "         .interpolate()\n",
    "         .plot(cmap='jet', figsize=(12,4), title='Average Monthly Snowdepth (in)')\n",
    "         .legend(bbox_to_anchor=(1,1))\n",
    "        )"
   ]
  },
  {
   "cell_type": "code",
   "execution_count": null,
   "metadata": {
    "lines_to_next_cell": 2,
    "vscode": {
     "languageId": "python"
    }
   },
   "outputs": [],
   "source": [
    "# groupby by multiple columns\n",
    "(alta2\n",
    " .groupby([alta2.date.dt.year.rename('year'), alta2.date.dt.month.rename('month')])\n",
    " .snwd\n",
    " .mean()\n",
    " .unstack()\n",
    " .rename(columns=dict(enumerate(\n",
    "     'Jan,Feb,Mar,Apr,May,Jun,Jul,Aug,Sep,Oct,Nov,Dec'.split(','), 1)))\n",
    " .interpolate()\n",
    " .plot.bar(cmap='jet', figsize=(12,4))\n",
    " .legend(bbox_to_anchor=(1,1))\n",
    ")"
   ]
  },
  {
   "cell_type": "code",
   "execution_count": null,
   "metadata": {
    "vscode": {
     "languageId": "python"
    }
   },
   "outputs": [],
   "source": [
    "# can have multiple columns\n",
    "(alta2\n",
    " .groupby([alta2.date.dt.year.rename('year'), alta2.date.dt.month.rename('month')])\n",
    " [['snwd', 'snow']]\n",
    " .mean()\n",
    ")"
   ]
  },
  {
   "cell_type": "code",
   "execution_count": null,
   "metadata": {
    "vscode": {
     "languageId": "python"
    }
   },
   "outputs": [],
   "source": [
    "# can have multiple columns and multiple aggregations\n",
    "def first(s):\n",
    "    return s.iloc[0]\n",
    "(alta2\n",
    " .groupby([alta2.date.dt.year.rename('year'), alta2.date.dt.month.rename('month')])\n",
    " [['snwd', 'snow']]\n",
    " .agg([first, 'median', 'std', 'max'])\n",
    ")"
   ]
  },
  {
   "cell_type": "code",
   "execution_count": null,
   "metadata": {
    "vscode": {
     "languageId": "python"
    }
   },
   "outputs": [],
   "source": [
    "# or per column aggregations\n",
    "def first(s):\n",
    "    return s.iloc[0]\n",
    "(alta2\n",
    " .groupby([alta2.date.dt.year.rename('year'), alta2.date.dt.month.rename('month')])\n",
    " .agg({'snow':['mean'], 'snwd':['max', 'min'], 'tobs':[first]})\n",
    ")"
   ]
  },
  {
   "cell_type": "code",
   "execution_count": null,
   "metadata": {
    "vscode": {
     "languageId": "python"
    }
   },
   "outputs": [],
   "source": [
    "# flatten columns\n",
    "def first(s):\n",
    "    return s.iloc[0]\n",
    "\n",
    "def to_flat_cols(df_):\n",
    "    cols = ['_'.join(cs) for cs in df_.columns.to_flat_index()]\n",
    "    df_.columns = cols\n",
    "    return df_\n",
    "\n",
    "(alta2\n",
    " .groupby([alta2.date.dt.year.rename('year'), alta2.date.dt.month.rename('month')])\n",
    " .agg({'snow':['mean'], 'snwd':['max', 'min'], 'tobs':[first]})\n",
    " .pipe(to_flat_cols)\n",
    ")"
   ]
  },
  {
   "cell_type": "code",
   "execution_count": null,
   "metadata": {
    "lines_to_next_cell": 0,
    "vscode": {
     "languageId": "python"
    }
   },
   "outputs": [],
   "source": [
    "# flatten index\n",
    "def first(s):\n",
    "    return s.iloc[0]\n",
    "\n",
    "def to_flat_cols(df_):\n",
    "    cols = ['_'.join(cs) for cs in df_.columns.to_flat_index()]\n",
    "    df_.columns = cols\n",
    "    return df_\n",
    "\n",
    "(alta2\n",
    " .groupby([alta2.date.dt.year.rename('year'), alta2.date.dt.month.rename('month')])\n",
    " .agg({'snow':['mean'], 'snwd':['max', 'min'], 'tobs':[first]})\n",
    " .pipe(to_flat_cols)\n",
    " .reset_index()\n",
    ")"
   ]
  },
  {
   "cell_type": "code",
   "execution_count": null,
   "metadata": {
    "vscode": {
     "languageId": "python"
    }
   },
   "outputs": [],
   "source": []
  },
  {
   "cell_type": "code",
   "execution_count": null,
   "metadata": {
    "lines_to_next_cell": 2,
    "vscode": {
     "languageId": "python"
    }
   },
   "outputs": [],
   "source": []
  },
  {
   "cell_type": "markdown",
   "metadata": {},
   "source": [
    "## Joining Data"
   ]
  },
  {
   "cell_type": "code",
   "execution_count": null,
   "metadata": {
    "vscode": {
     "languageId": "python"
    }
   },
   "outputs": [],
   "source": [
    "# going to join with particulate matter data for 2004\n",
    "# http://www.airmonitoring.utah.gov/dataarchive/archpm25.htm\n",
    "# and see if there is a correlation\n",
    "url = 'http://www.airmonitoring.utah.gov/dataarchive/2004-PM2.5.csv'\n",
    "part_df = pd.read_csv(url)"
   ]
  },
  {
   "cell_type": "code",
   "execution_count": null,
   "metadata": {
    "vscode": {
     "languageId": "python"
    }
   },
   "outputs": [],
   "source": [
    "part_df"
   ]
  },
  {
   "cell_type": "code",
   "execution_count": null,
   "metadata": {
    "vscode": {
     "languageId": "python"
    }
   },
   "outputs": [],
   "source": [
    "part_df.HW.value_counts()"
   ]
  },
  {
   "cell_type": "code",
   "execution_count": null,
   "metadata": {
    "lines_to_next_cell": 2,
    "vscode": {
     "languageId": "python"
    }
   },
   "outputs": [],
   "source": [
    "part_df.HW.str.extract(r'([^0-9\\-\\.])', expand=False).value_counts()"
   ]
  },
  {
   "cell_type": "code",
   "execution_count": null,
   "metadata": {
    "lines_to_next_cell": 2,
    "vscode": {
     "languageId": "python"
    }
   },
   "outputs": [],
   "source": [
    "part_df[~part_df.HW.str.extract(r'([^0-9\\-\\.])', expand=False).isna()]#.value_counts()"
   ]
  },
  {
   "cell_type": "code",
   "execution_count": null,
   "metadata": {
    "vscode": {
     "languageId": "python"
    }
   },
   "outputs": [],
   "source": [
    "# going to join with particulate matter data for 2004\n",
    "# http://www.airmonitoring.utah.gov/dataarchive/archpm25.htm\n",
    "# and see if there is a correlation\n",
    "url = 'http://www.airmonitoring.utah.gov/dataarchive/2004-PM2.5.csv'\n",
    "part_df = pd.read_csv(url, skiprows=2, parse_dates=[0])\n",
    "part_df"
   ]
  },
  {
   "cell_type": "code",
   "execution_count": null,
   "metadata": {
    "vscode": {
     "languageId": "python"
    }
   },
   "outputs": [],
   "source": [
    "part_df.dtypes"
   ]
  },
  {
   "cell_type": "code",
   "execution_count": null,
   "metadata": {
    "vscode": {
     "languageId": "python"
    }
   },
   "outputs": [],
   "source": [
    "alta2"
   ]
  },
  {
   "cell_type": "code",
   "execution_count": null,
   "metadata": {
    "vscode": {
     "languageId": "python"
    }
   },
   "outputs": [],
   "source": [
    "part_df2 = part_df.groupby(pd.Grouper(key='Date', freq='D')).mean().reset_index()\n",
    "part_df2"
   ]
  },
  {
   "cell_type": "code",
   "execution_count": null,
   "metadata": {
    "vscode": {
     "languageId": "python"
    }
   },
   "outputs": [],
   "source": [
    "part_df2.set_index('Date').plot()"
   ]
  },
  {
   "cell_type": "code",
   "execution_count": null,
   "metadata": {
    "vscode": {
     "languageId": "python"
    }
   },
   "outputs": [],
   "source": [
    "alta2.join(part_df2)"
   ]
  },
  {
   "cell_type": "code",
   "execution_count": null,
   "metadata": {
    "vscode": {
     "languageId": "python"
    }
   },
   "outputs": [],
   "source": [
    "(alta2\n",
    " .join(part_df2)\n",
    " .set_index('date')\n",
    " .loc[lambda df_:df_.index.year==2004]\n",
    " .isna().mul(100).mean()\n",
    ")"
   ]
  },
  {
   "cell_type": "code",
   "execution_count": null,
   "metadata": {
    "vscode": {
     "languageId": "python"
    }
   },
   "outputs": [],
   "source": [
    "(alta2\n",
    " .merge(part_df2, left_on='date', right_on='Date')\n",
    " .set_index('date')\n",
    " .loc[lambda df_:df_.index.year==2004]\n",
    " .isna().mul(100).mean()\n",
    ")"
   ]
  },
  {
   "cell_type": "code",
   "execution_count": null,
   "metadata": {
    "vscode": {
     "languageId": "python"
    }
   },
   "outputs": [],
   "source": [
    "(alta2\n",
    " .merge(part_df2, left_on='date', right_on='Date')\n",
    " .corr()\n",
    " .style.background_gradient(cmap='RdBu', vmin=-1, vmax=1)\n",
    ")"
   ]
  },
  {
   "cell_type": "code",
   "execution_count": null,
   "metadata": {
    "vscode": {
     "languageId": "python"
    }
   },
   "outputs": [],
   "source": [
    "(alta2\n",
    " .merge(part_df2, left_on='date', right_on='Date')\n",
    " .plot.scatter(x='UG/M3', y='snwd', alpha=.2)\n",
    ")"
   ]
  },
  {
   "cell_type": "code",
   "execution_count": null,
   "metadata": {
    "vscode": {
     "languageId": "python"
    }
   },
   "outputs": [],
   "source": [
    "(alta2\n",
    " .merge(part_df2, left_on='date', right_on='Date')\n",
    " .set_index('date')\n",
    " [['snwd', 'UG/M3']]\n",
    " .plot()\n",
    ")"
   ]
  },
  {
   "cell_type": "code",
   "execution_count": null,
   "metadata": {
    "vscode": {
     "languageId": "python"
    }
   },
   "outputs": [],
   "source": [
    "# join types demo\n",
    "from IPython.display import display\n",
    "df1 = pd.DataFrame({'name': ['Fred', 'Suzy', 'Suzy', 'Bob'],\n",
    "                   'pet':['Dog', 'Dog', 'Cat', 'Fish']})\n",
    "\n",
    "df2 = pd.DataFrame({'Name': ['Suzy', 'Suzy', 'Suzy', 'Fred', 'Joe', 'Joe'],\n",
    "                   'Color': ['Black', 'Blue', 'Red', 'Green', 'Yellow', 'Blue']})\n",
    "display(df1)\n",
    "display(df2)"
   ]
  },
  {
   "cell_type": "code",
   "execution_count": null,
   "metadata": {
    "vscode": {
     "languageId": "python"
    }
   },
   "outputs": [],
   "source": [
    "df1.merge(df2)"
   ]
  },
  {
   "cell_type": "code",
   "execution_count": null,
   "metadata": {
    "vscode": {
     "languageId": "python"
    }
   },
   "outputs": [],
   "source": [
    "# default \"how\" is inner\n",
    "df1.merge(df2.assign(name=df2.Name))"
   ]
  },
  {
   "cell_type": "code",
   "execution_count": null,
   "metadata": {
    "vscode": {
     "languageId": "python"
    }
   },
   "outputs": [],
   "source": [
    "# default \"how\" is inner\n",
    "df1.merge(df2.assign(name=df2.Name), how='left')"
   ]
  },
  {
   "cell_type": "code",
   "execution_count": null,
   "metadata": {
    "vscode": {
     "languageId": "python"
    }
   },
   "outputs": [],
   "source": [
    "# default \"how\" is inner\n",
    "df1.merge(df2.assign(name=df2.Name), how='right')"
   ]
  },
  {
   "cell_type": "code",
   "execution_count": null,
   "metadata": {
    "vscode": {
     "languageId": "python"
    }
   },
   "outputs": [],
   "source": [
    "# default \"how\" is inner\n",
    "df1.merge(df2.assign(name=df2.Name), how='outer')"
   ]
  },
  {
   "cell_type": "code",
   "execution_count": null,
   "metadata": {
    "vscode": {
     "languageId": "python"
    }
   },
   "outputs": [],
   "source": [
    "# default \"how\" is inner\n",
    "df1.merge(df2.assign(name=df2.Name), how='left', validate='1:1')"
   ]
  },
  {
   "cell_type": "code",
   "execution_count": null,
   "metadata": {
    "vscode": {
     "languageId": "python"
    }
   },
   "outputs": [],
   "source": [
    "(df1\n",
    " .drop_duplicates(subset='name')\n",
    ")"
   ]
  },
  {
   "cell_type": "code",
   "execution_count": null,
   "metadata": {
    "vscode": {
     "languageId": "python"
    }
   },
   "outputs": [],
   "source": [
    "# default \"how\" is inner\n",
    "(df1\n",
    " .drop_duplicates(subset='name')\n",
    " .merge(df2\n",
    "        .drop_duplicates(subset='Name')\n",
    "        .assign(name=df2.Name), how='left', validate='1:1')\n",
    ")"
   ]
  },
  {
   "cell_type": "code",
   "execution_count": null,
   "metadata": {
    "vscode": {
     "languageId": "python"
    }
   },
   "outputs": [],
   "source": []
  },
  {
   "cell_type": "code",
   "execution_count": null,
   "metadata": {
    "vscode": {
     "languageId": "python"
    }
   },
   "outputs": [],
   "source": []
  },
  {
   "cell_type": "code",
   "execution_count": null,
   "metadata": {
    "vscode": {
     "languageId": "python"
    }
   },
   "outputs": [],
   "source": []
  }
 ],
 "metadata": {
  "kernelspec": {
   "display_name": "Python 3",
   "language": "python",
   "name": "python3"
  }
 },
 "nbformat": 4,
 "nbformat_minor": 4
}
