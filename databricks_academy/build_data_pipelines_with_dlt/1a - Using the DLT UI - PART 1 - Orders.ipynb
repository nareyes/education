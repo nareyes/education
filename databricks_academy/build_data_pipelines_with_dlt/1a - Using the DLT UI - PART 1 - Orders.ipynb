{
 "cells": [
  {
   "cell_type": "markdown",
   "metadata": {
    "application/vnd.databricks.v1+cell": {
     "cellMetadata": {},
     "inputWidgets": {},
     "nuid": "645d028e-f21f-4eaf-bb59-3411c3d8d2d9",
     "showTitle": false,
     "tableResultSettingsMap": {},
     "title": ""
    }
   },
   "source": [
    "\n",
    "<div style=\"text-align: center; line-height: 0; padding-top: 9px;\">\n",
    "  <img src=\"https://databricks.com/wp-content/uploads/2018/03/db-academy-rgb-1200px.png\" alt=\"Databricks Learning\">\n",
    "</div>\n"
   ]
  },
  {
   "cell_type": "markdown",
   "metadata": {
    "application/vnd.databricks.v1+cell": {
     "cellMetadata": {},
     "inputWidgets": {},
     "nuid": "6ee5a608-8ba3-44bd-b2ca-bc96367eeccf",
     "showTitle": false,
     "tableResultSettingsMap": {},
     "title": ""
    }
   },
   "source": [
    "# Using the Delta Live Tables UI - PART 1 - Orders\n",
    "\n",
    "This demo will explore the DLT UI. By the end of this lesson you will be able to: \n",
    "\n",
    "* Deploy a DLT pipeline\n",
    "* Explore the resultant DAG\n",
    "* Execute an update of the pipeline\n",
    "\n",
    "This demonstration will focus on using SQL code with DLT. Python notebooks are available that replicate the SQL code."
   ]
  },
  {
   "cell_type": "markdown",
   "metadata": {
    "application/vnd.databricks.v1+cell": {
     "cellMetadata": {},
     "inputWidgets": {},
     "nuid": "9ac0809d-f16b-4424-8e09-b713cb48f223",
     "showTitle": false,
     "tableResultSettingsMap": {},
     "title": ""
    }
   },
   "source": [
    "## REQUIRED - SELECT CLASSIC COMPUTE\n",
    "\n",
    "Before executing cells in this notebook, please select your classic compute cluster in the lab. Be aware that **Serverless** is enabled by default.\n",
    "\n",
    "Follow these steps to select the classic compute cluster:\n",
    "\n",
    "1. Navigate to the top-right of this notebook and click the drop-down menu to select your cluster. By default, the notebook will use **Serverless**.\n",
    "\n",
    "1. If your cluster is available, select it and continue to the next cell. If the cluster is not shown:\n",
    "\n",
    "  - In the drop-down, select **More**.\n",
    "\n",
    "  - In the **Attach to an existing compute resource** pop-up, select the first drop-down. You will see a unique cluster name in that drop-down. Please select that cluster.\n",
    "\n",
    "**NOTE:** If your cluster has terminated, you might need to restart it in order to select it. To do this:\n",
    "\n",
    "1. Right-click on **Compute** in the left navigation pane and select *Open in new tab*.\n",
    "\n",
    "1. Find the triangle icon to the right of your compute cluster name and click it.\n",
    "\n",
    "1. Wait a few minutes for the cluster to start.\n",
    "\n",
    "1. Once the cluster is running, complete the steps above to select your cluster."
   ]
  },
  {
   "cell_type": "markdown",
   "metadata": {
    "application/vnd.databricks.v1+cell": {
     "cellMetadata": {},
     "inputWidgets": {},
     "nuid": "c6c6f8cb-17cf-457b-bd42-5824274be7e2",
     "showTitle": false,
     "tableResultSettingsMap": {},
     "title": ""
    }
   },
   "source": [
    "## A. Classroom Setup\n",
    "\n",
    "Run the following cell to configure your working environment for this course. It will also set your default catalog to **dbacademy** and the schema to your specific schema name shown below using the `USE` statements.\n",
    "<br></br>\n",
    "\n",
    "\n",
    "```\n",
    "USE CATALOG dbacademy;\n",
    "USE SCHEMA dbacademy.<your unique schema name>;\n",
    "```\n",
    "\n",
    "**NOTE:** The `DA` object is only used in Databricks Academy courses and is not available outside of these courses. It will dynamically reference the information needed to run the course."
   ]
  },
  {
   "cell_type": "code",
   "execution_count": 0,
   "metadata": {
    "application/vnd.databricks.v1+cell": {
     "cellMetadata": {
      "byteLimit": 2048000,
      "rowLimit": 10000
     },
     "inputWidgets": {},
     "nuid": "3581c75a-6ed1-4eef-87a9-2665134ce625",
     "showTitle": false,
     "tableResultSettingsMap": {},
     "title": ""
    }
   },
   "outputs": [
    {
     "output_type": "stream",
     "name": "stdout",
     "output_type": "stream",
     "text": [
      "\u001B[43mNote: you may need to restart the kernel using %restart_python or dbutils.library.restartPython() to use updated packages.\u001B[0m\n"
     ]
    },
    {
     "output_type": "stream",
     "name": "stdout",
     "output_type": "stream",
     "text": [
      "Loading batch 1 of 31...2 seconds\n"
     ]
    },
    {
     "output_type": "execute_result",
     "data": {
      "text/plain": [
       "True"
      ]
     },
     "execution_count": 15,
     "metadata": {},
     "output_type": "execute_result"
    }
   ],
   "source": [
    "%run ./Includes/Classroom-Setup-1"
   ]
  },
  {
   "cell_type": "markdown",
   "metadata": {
    "application/vnd.databricks.v1+cell": {
     "cellMetadata": {},
     "inputWidgets": {},
     "nuid": "0e4ac8ce-b2ef-4757-ac64-853bc4a2cab8",
     "showTitle": false,
     "tableResultSettingsMap": {},
     "title": ""
    }
   },
   "source": [
    "## B. Explore Available Raw Files"
   ]
  },
  {
   "cell_type": "markdown",
   "metadata": {
    "application/vnd.databricks.v1+cell": {
     "cellMetadata": {},
     "inputWidgets": {},
     "nuid": "753aaa35-362b-4ec7-b9a5-82256ddb63cb",
     "showTitle": false,
     "tableResultSettingsMap": {},
     "title": ""
    }
   },
   "source": [
    "Complete the following steps to explore the available raw data files that will be used for the DLT pipeline:\n",
    "\n",
    "1. Navigate to the available catalogs by selecting the catalog icon directly to the left of the notebook (do not select the **Catalog** text in the far left navigation bar).\n",
    "\n",
    "2. Expand the **dbacademy** catalog.\n",
    "\n",
    "3. Expand the **ops** schema.\n",
    "\n",
    "4. Expand the **Volumes** within the **ops** schema.\n",
    "\n",
    "5. Expand the volume that contains your **unique username**.\n",
    "\n",
    "6. Expand the **stream-source** directory. Notice that the directory contains three subdirectories: **customers**, **orders**, and **status**.\n",
    "\n",
    "7. Expand each subdirectory. Notice that each contains a JSON file (00.json) with raw data. We will create a DLT pipeline that will ingest the files within this volume to create tables and materialized views for our consumers."
   ]
  },
  {
   "cell_type": "markdown",
   "metadata": {
    "application/vnd.databricks.v1+cell": {
     "cellMetadata": {},
     "inputWidgets": {},
     "nuid": "3bd2f973-6906-4ae7-a5fe-d938d165700a",
     "showTitle": false,
     "tableResultSettingsMap": {},
     "title": ""
    }
   },
   "source": [
    "## C. Generate Pipeline Configuration\n",
    "Delta Live Tables (DLT) pipelines can be written in either SQL or python. In this course, we have written examples in both languages. In the code cell below, note that we are first going to look at the SQL example. \n",
    "\n",
    "We are going to manually configure a pipeline using the DLT UI. Configuring this pipeline will require parameters unique to a given user. Run the cell to print out values you'll use to configure your pipeline in subsequent steps."
   ]
  },
  {
   "cell_type": "code",
   "execution_count": 0,
   "metadata": {
    "application/vnd.databricks.v1+cell": {
     "cellMetadata": {
      "byteLimit": 2048000,
      "rowLimit": 10000
     },
     "inputWidgets": {},
     "nuid": "87f4b852-ae05-4d13-b4be-8b38bea983ec",
     "showTitle": false,
     "tableResultSettingsMap": {},
     "title": ""
    }
   },
   "outputs": [
    {
     "output_type": "stream",
     "name": "stdout",
     "output_type": "stream",
     "text": [
      "labuser9104086_1738597681: Example Pipeline\n"
     ]
    },
    {
     "output_type": "display_data",
     "data": {
      "text/html": [
       "<table style=\"width:100%\">\n",
       "            <tr>\n",
       "                <td style=\"white-space:nowrap; width:1em\">Pipeline Name:</td>\n",
       "                <td><input type=\"text\" value=\"labuser9104086_1738597681: Example Pipeline\" style=\"width: 100%\"></td></tr>\n",
       "            <tr>\n",
       "                <td style=\"white-space:nowrap; width:1em\">Notebook #1 Path:</td>\n",
       "                <td><input type=\"text\" value=\"/Users/labuser9104086_1738597681@vocareum.com/build-data-pipelines-with-delta-live-tables-2.0.1/Build Data Pipelines with Delta Live Tables/2A - SQL Pipelines/1 - Orders Pipeline\" style=\"width: 100%\"></td></tr>\n",
       "            <tr>\n",
       "                <td style=\"white-space:nowrap; width:1em\">Notebook #2 Path:</td>\n",
       "                <td><input type=\"text\" value=\"/Users/labuser9104086_1738597681@vocareum.com/build-data-pipelines-with-delta-live-tables-2.0.1/Build Data Pipelines with Delta Live Tables/2A - SQL Pipelines/2 - Customers Pipeline\" style=\"width: 100%\"></td></tr>\n",
       "            <tr>\n",
       "                <td style=\"white-space:nowrap; width:1em\">Notebook #3 Path:</td>\n",
       "                <td><input type=\"text\" value=\"/Users/labuser9104086_1738597681@vocareum.com/build-data-pipelines-with-delta-live-tables-2.0.1/Build Data Pipelines with Delta Live Tables/2A - SQL Pipelines/3L - Status Pipeline Lab\" style=\"width: 100%\"></td></tr>\n",
       "            <tr>\n",
       "                <td style=\"white-space:nowrap; width:1em\">Catalog:</td>\n",
       "                <td><input type=\"text\" value=\"dbacademy\" style=\"width: 100%\"></td></tr>\n",
       "            <tr>\n",
       "                <td style=\"white-space:nowrap; width:1em\">Target Schema:</td>\n",
       "                <td><input type=\"text\" value=\"labuser9104086_1738597681\" style=\"width: 100%\"></td></tr>\n",
       "            <tr>\n",
       "                <td style=\"white-space:nowrap; width:1em\">Source:</td>\n",
       "                <td><input type=\"text\" value=\"/Volumes/dbacademy/ops/labuser9104086_1738597681@vocareum_com/stream-source\" style=\"width: 100%\"></td></tr></table>"
      ]
     },
     "metadata": {},
     "output_type": "display_data"
    }
   ],
   "source": [
    "pipeline_language = \"SQL\"\n",
    "# pipeline_language = \"Python\"\n",
    "\n",
    "DA.print_pipeline_config(pipeline_language)"
   ]
  },
  {
   "cell_type": "markdown",
   "metadata": {
    "application/vnd.databricks.v1+cell": {
     "cellMetadata": {},
     "inputWidgets": {},
     "nuid": "de7b1167-b67f-45bd-8fb2-be695af52941",
     "showTitle": false,
     "tableResultSettingsMap": {},
     "title": ""
    }
   },
   "source": [
    "## PART 1 - Add a Single Notebook to a DLT Pipeline"
   ]
  },
  {
   "cell_type": "markdown",
   "metadata": {
    "application/vnd.databricks.v1+cell": {
     "cellMetadata": {},
     "inputWidgets": {},
     "nuid": "4669d3e0-8815-4052-8479-4ab5097b62e9",
     "showTitle": false,
     "tableResultSettingsMap": {},
     "title": ""
    }
   },
   "source": [
    "### PART 1.1 - Create and Configure a Pipeline\n",
    "\n",
    "Complete the following steps to configure the pipeline.\n",
    "\n",
    "1. Open the **Delta Live Tables** UI:\n",
    "    - Find **Delta Live Tables** under the **Data Engineering** section in the left navigation bar.\n",
    "    - Right click on **Delta Live Tables** to select *Open Link in a New Tab*. Make sure to open it in a new tab so you can continue to follow along this notebook.\n",
    "\n",
    "2. Click **Create pipeline** in the upper-right corner to create a DLT pipeline.\n",
    "\n",
    "3. Configure the pipeline as specified below. You'll need the values provided in the cell output above for this step.\n",
    "\n",
    "| Setting | Instructions |\n",
    "|--|--|\n",
    "| Pipeline name | Enter the **Pipeline Name** provided above |\n",
    "| Serverless | Choose **Serverless** |\n",
    "| Product edition (not needed with Serverless) | Choose **Advanced**  |\n",
    "| Pipeline mode | Choose **Triggered** |\n",
    "| Paths| Use the navigator to select or enter the path for ONLY **Notebook #1** from the cell provided above |\n",
    "| Storage options | Choose **Unity Catalog** (should already be selected by default)  |\n",
    "| Catalog | Choose your **Catalog** provided above (**dbacademy**) |\n",
    "| Target schema | Choose your **Target schema** provided above (your unique schema name) |\n",
    "| Configuration | Click **Add Configuration** and input the **Key** and **Value** using the table below |\n",
    "| Channel | Choose **Current** |\n",
    "\n",
    "#### Configuration Details\n",
    "**NOTE:** The **source** key references the path to your raw files which reside in your volume. The **source** variable will be used in your notebooks to dynamically reference the volume location: \n",
    "- Source Volume Path Example: */Volumes/dbacademy/ops/\\<your-unique-user-name-from-cell-above>/stream-source*\n",
    "\n",
    "| Key                 | Value                                      |\n",
    "| ------------------- | ------------------------------------------ |\n",
    "| **`source`** | Enter the **Source** provided in the previous code cell |\n",
    "\n",
    "\n",
    "\n",
    "<br></br>\n",
    "\n",
    "4. Click the **Create** button to create the DLT pipeline. Leave the Delta Live Tables UI open."
   ]
  },
  {
   "cell_type": "markdown",
   "metadata": {
    "application/vnd.databricks.v1+cell": {
     "cellMetadata": {},
     "inputWidgets": {},
     "nuid": "68d652d8-fd44-4a26-8ff2-c4123a6990dd",
     "showTitle": false,
     "tableResultSettingsMap": {},
     "title": ""
    }
   },
   "source": [
    "### PART 1.2 - Check Your Pipeline Configuration\n",
    "\n",
    "1. If necessary, in the Databricks workspace open the Delta Live Tables (DLT) UI (**Workflows** -> **Delta Live Tables**) and open your DLT pipeline.\n",
    "\n",
    "2. Select **Settings** to access your pipeline configuration. \n",
    "\n",
    "3. Review the pipeline configuration settings to ensure they are correctly configured according to the provided instructions.\n",
    "\n",
    "4. **IMPORTANT (Lab Dependent):** Remove the key value pair `\"label\":\"maintenance\"` if it is currently part of your pipeline JSON configuration. This is required to successfully validate the pipeline configuration. \n",
    "    - Do this by clicking **JSON** in the upper-right corner.\n",
    "    - Then remove the code related to the key-value pair `\"label\":\"maintenance\"` in the JSON file. Be aware the other cluster information in the screenshot below will not match yours.\n",
    "    \n",
    "![maintenance_label](files/images/build-data-pipelines-with-delta-live-tables-2.0.1/maintenance_label.png)\n",
    "\n",
    "5. Once you've confirmed that the pipeline configuration is set up correctly and the maintenance cluster has been removed, proceed to the next steps for validating and running the pipeline.\n",
    "\n",
    "6. Click **Save** in the bottom right corner."
   ]
  },
  {
   "cell_type": "markdown",
   "metadata": {
    "application/vnd.databricks.v1+cell": {
     "cellMetadata": {},
     "inputWidgets": {},
     "nuid": "384fd708-13bd-4509-9e90-b4749cdd53ad",
     "showTitle": false,
     "tableResultSettingsMap": {},
     "title": ""
    }
   },
   "source": [
    "Run the following cell to check if the pipeline has been set up correctly for the demonstration. This is a custom method specifically built for this course. Fix any specified issues if required."
   ]
  },
  {
   "cell_type": "code",
   "execution_count": 0,
   "metadata": {
    "application/vnd.databricks.v1+cell": {
     "cellMetadata": {
      "byteLimit": 2048000,
      "rowLimit": 10000
     },
     "inputWidgets": {},
     "nuid": "a2b4e6ca-bc16-42b3-8e74-ecbf5d461adc",
     "showTitle": false,
     "tableResultSettingsMap": {},
     "title": ""
    }
   },
   "outputs": [],
   "source": [
    "DA.validate_pipeline_config(pipeline_language)"
   ]
  },
  {
   "cell_type": "markdown",
   "metadata": {
    "application/vnd.databricks.v1+cell": {
     "cellMetadata": {},
     "inputWidgets": {},
     "nuid": "a05e5eb1-df14-4535-bfa7-4a9c46317c71",
     "showTitle": false,
     "tableResultSettingsMap": {},
     "title": ""
    }
   },
   "source": [
    "#### NOTE - Additional Notes on Pipeline Configuration\n",
    "Here are a few notes regarding the pipeline settings above:\n",
    "\n",
    "- **Pipeline mode** - This specifies how the pipeline will be run. Choose the mode based on latency and cost requirements.\n",
    "  - `Triggered` pipelines run once and then shut down until the next manual or scheduled update.\n",
    "  - `Continuous` pipelines run continuously, ingesting new data as it arrives.\n",
    "- **Notebook libraries** - Even though these documents are standard Databricks Notebooks, the SQL syntax is specialized to DLT table declarations. We will be exploring the syntax in the exercise that follows.\n",
    "- **Storage location** - This optional field allows the user to specify a location to store logs, tables, and other information related to pipeline execution. If not specified, DLT will automatically generate a directory.\n",
    "- **Catalog and Target schema** - These parameters are necessary to make data available outside the pipeline.\n",
    "- **Configuration variables** - Key-value pairs that we add here will be passed to the notebooks used in the pipeline. We will look at the one variable we are using, **`source`**, in the next lesson. Please note that keys are case-sensitive."
   ]
  },
  {
   "cell_type": "markdown",
   "metadata": {
    "application/vnd.databricks.v1+cell": {
     "cellMetadata": {},
     "inputWidgets": {},
     "nuid": "8caf6091-0de2-41a3-bbbc-89c22103bebf",
     "showTitle": false,
     "tableResultSettingsMap": {},
     "title": ""
    }
   },
   "source": [
    "### PART 1.3 -  Full Refresh, Validate, Start\n",
    "1. Click the dropdown immediately to the right of the **`Start`** button. There are two additional options (other than \"Start\").\n",
    "\n",
    "  - **Full refresh all** - All live tables are updated to reflect the current state of their input data sources. For all streaming tables, Delta Live Tables attempts to clear all data from each table and then load all data from the streaming source.\n",
    "\n",
    "      --**IMPORTANT NOTE**--  \n",
    "      Because a full refresh clears all data from your current tables and uses the current state of data sources, it is possible for you to lose data if your data sources no longer contain the data you need. Be very careful when running full refreshes.\n",
    "\n",
    " - **Validate** - Builds a directed acyclic graph (DAG) and runs a syntax check but does not actually perform any data updates."
   ]
  },
  {
   "cell_type": "markdown",
   "metadata": {
    "application/vnd.databricks.v1+cell": {
     "cellMetadata": {},
     "inputWidgets": {},
     "nuid": "6781d2ad-32fd-48c3-a8d8-5ae10680b927",
     "showTitle": false,
     "tableResultSettingsMap": {},
     "title": ""
    }
   },
   "source": [
    "### PART 1.4 - Validating Pipelines"
   ]
  },
  {
   "cell_type": "markdown",
   "metadata": {
    "application/vnd.databricks.v1+cell": {
     "cellMetadata": {},
     "inputWidgets": {},
     "nuid": "55aa3496-a992-4d2d-99fc-7f98a8a260cd",
     "showTitle": false,
     "tableResultSettingsMap": {},
     "title": ""
    }
   },
   "source": [
    "#### 4a. Validate the Pipeline\n",
    "1. Click the dropdown next to the **`Start`** button and click **`Validate`**. DLT builds a graph in the graph window and generates log entries at the bottom of the window. The pipeline should pass all checks and look similar to the image below.\n",
    "\n",
    "\n",
    "![ValidateOneNotebookDLTPipeline](files/images/build-data-pipelines-with-delta-live-tables-2.0.1/ValidateOneNotebookDLTPipeline.png)"
   ]
  },
  {
   "cell_type": "markdown",
   "metadata": {
    "application/vnd.databricks.v1+cell": {
     "cellMetadata": {},
     "inputWidgets": {},
     "nuid": "0ca92c18-11d9-4c40-b10b-36368360fead",
     "showTitle": false,
     "tableResultSettingsMap": {},
     "title": ""
    }
   },
   "source": [
    "#### 4b. Introduce an Error\n",
    "Let's introduce an error:\n",
    "\n",
    "1. In the **`Pipeline details`** section (to the right of the DAG), click the **`Source code`** link. Our first source code notebook is opened in a new window. We will be talking about DLT source code in the next lesson. For now, continue through the next steps.\n",
    " \n",
    "    - You may get a note that this notebook is associated with a pipeline. If you do, click the \"`x`\" to dismiss the dialog box.\n",
    "\n",
    "2. Scroll to the first code cell in the notebook and remove the word `CREATE` from the SQL command. This will create a syntax error in this notebook.\n",
    "\n",
    "    - Note that we do not need to \"Save\" the notebook.\n",
    "\n",
    "3. Return to the pipeline definition and run `Validate` again by clicking the dropdown next to `Start` and clicking **`Validate`**.\n",
    "\n",
    "4. The validation fails. Click the log entry marked in red to get more details about the error. We see that there was a syntax error. We can also view the stack trace by clicking the \"+\" button. \n",
    "\n",
    "5. Fix the error we introduced, and re-run **`Validate`**. Confirm there are no errors."
   ]
  },
  {
   "cell_type": "markdown",
   "metadata": {
    "application/vnd.databricks.v1+cell": {
     "cellMetadata": {},
     "inputWidgets": {},
     "nuid": "d8c012e7-f4e3-45e3-8db3-13b7acba4993",
     "showTitle": false,
     "tableResultSettingsMap": {},
     "title": ""
    }
   },
   "source": [
    "### PART 1.5 - Run a Pipeline\n",
    "\n",
    "Now that we have the pipeline validated, let's run it.\n",
    "\n",
    "1. We are running the pipeline in development mode. Development mode provides for more expeditious iterative development by reusing the cluster (as opposed to creating a new cluster for each run) and disabling retries so that you can readily identify and fix errors. Refer to the <a href=\"https://docs.databricks.com/data-engineering/delta-live-tables/delta-live-tables-user-guide.html#optimize-execution\" target=\"_blank\">documentation</a> for more information on this feature.\n",
    "\n",
    "2. Click **Start** to begin the pipeline run.\n",
    "\n",
    "3. The pipeline will create the data in the **dbacademy** catalog within your unique schema.\n",
    "\n",
    "4. While the DLT pipeline is running, let's examine Notebook **1 - Orders Pipeline** for the specified language and review the code.\n",
    "  - [SQL Notebook 1 - Orders Pipeline]($./2A - SQL Pipelines/1 - Orders Pipeline)\n",
    "  - [Python Notebook 1 - Orders Pipeline]($./2B - Python Pipelines/1 - Orders Pipeline)\n",
    "\n",
    "\n",
    "**NOTE:** We are using Serverless clusters in this course for DLT pipelines. However, if you use a classic compute cluster with the DLT policy, the initial run will take several minutes while a cluster is provisioned. Subsequent runs will be appreciably quicker."
   ]
  },
  {
   "cell_type": "markdown",
   "metadata": {
    "application/vnd.databricks.v1+cell": {
     "cellMetadata": {},
     "inputWidgets": {},
     "nuid": "e7a8e6c0-5b49-40ff-8356-b55f56d3e693",
     "showTitle": false,
     "tableResultSettingsMap": {},
     "title": ""
    }
   },
   "source": [
    "### PART 1.6 - Explore the DAG\n",
    "\n",
    "As the pipeline completes, the execution flow is graphed. Selecting the streaming tables or materialized views reviews the details.\n",
    "\n",
    "Complete the following:\n",
    "\n",
    "1. Select **orders_silver**. Notice the results reported in the **Data Quality** section. \n",
    "\n",
    "**NOTE:** With each triggered update, all newly arriving data will be processed through your pipeline. Metrics will always be reported for the current run.\n",
    "\n",
    "<br></br>\n",
    "\n",
    "![RunOneNotebookDLTPipeline](files/images/build-data-pipelines-with-delta-live-tables-2.0.1/RunOneNotebookDLTPipeline.png)"
   ]
  },
  {
   "cell_type": "markdown",
   "metadata": {
    "application/vnd.databricks.v1+cell": {
     "cellMetadata": {},
     "inputWidgets": {},
     "nuid": "efa13db7-400c-4c22-bdc8-2180bb77f788",
     "showTitle": false,
     "tableResultSettingsMap": {},
     "title": ""
    }
   },
   "source": [
    "Leave your Databricks environment open. We will discuss how to implement Change Data Capture (CDC) in DLT and add another notebook to the pipeline."
   ]
  },
  {
   "cell_type": "markdown",
   "metadata": {
    "application/vnd.databricks.v1+cell": {
     "cellMetadata": {},
     "inputWidgets": {},
     "nuid": "4c8c0c0e-3b31-4ad4-a0bd-64b5f910f636",
     "showTitle": false,
     "tableResultSettingsMap": {},
     "title": ""
    }
   },
   "source": [
    "\n",
    "&copy; 2025 Databricks, Inc. All rights reserved.<br/>\n",
    "Apache, Apache Spark, Spark and the Spark logo are trademarks of the \n",
    "<a href=\"https://www.apache.org/\">Apache Software Foundation</a>.<br/>\n",
    "<br/><a href=\"https://databricks.com/privacy-policy\">Privacy Policy</a> | \n",
    "<a href=\"https://databricks.com/terms-of-use\">Terms of Use</a> | \n",
    "<a href=\"https://help.databricks.com/\">Support</a>"
   ]
  }
 ],
 "metadata": {
  "application/vnd.databricks.v1+notebook": {
   "computePreferences": null,
   "dashboards": [],
   "environmentMetadata": null,
   "language": "python",
   "notebookMetadata": {
    "pythonIndentUnit": 4
   },
   "notebookName": "1a - Using the DLT UI - PART 1 - Orders",
   "widgets": {}
  },
  "language_info": {
   "name": "python"
  }
 },
 "nbformat": 4,
 "nbformat_minor": 0
}