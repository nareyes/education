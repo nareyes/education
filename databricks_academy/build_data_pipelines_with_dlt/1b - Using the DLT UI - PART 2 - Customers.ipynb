{
 "cells": [
  {
   "cell_type": "markdown",
   "metadata": {
    "application/vnd.databricks.v1+cell": {
     "cellMetadata": {},
     "inputWidgets": {},
     "nuid": "8a3b919a-2ce4-4005-abef-48870c2050a0",
     "showTitle": false,
     "tableResultSettingsMap": {},
     "title": ""
    }
   },
   "source": [
    "\n",
    "<div style=\"text-align: center; line-height: 0; padding-top: 9px;\">\n",
    "  <img src=\"https://databricks.com/wp-content/uploads/2018/03/db-academy-rgb-1200px.png\" alt=\"Databricks Learning\">\n",
    "</div>\n"
   ]
  },
  {
   "cell_type": "markdown",
   "metadata": {
    "application/vnd.databricks.v1+cell": {
     "cellMetadata": {},
     "inputWidgets": {},
     "nuid": "8c060c07-7ac5-4fd2-ab8d-97c2df4f785d",
     "showTitle": false,
     "tableResultSettingsMap": {},
     "title": ""
    }
   },
   "source": [
    "# Using the Delta Live Tables UI - PART 2 - Customers\n",
    "\n",
    "This demo will explore the DLT UI. By the end of this lesson you will be able to: \n",
    "\n",
    "* Deploy a DLT pipeline\n",
    "* Explore the resultant DAG\n",
    "* Execute an update of the pipeline\n",
    "\n",
    "This demonstration will focus on using SQL code with DLT. Python notebooks are available that replicate the SQL code."
   ]
  },
  {
   "cell_type": "markdown",
   "metadata": {
    "application/vnd.databricks.v1+cell": {
     "cellMetadata": {},
     "inputWidgets": {},
     "nuid": "bddc8cb7-e9c8-4583-95e0-63c9ec88810b",
     "showTitle": false,
     "tableResultSettingsMap": {},
     "title": ""
    }
   },
   "source": [
    "## REQUIRED - SELECT CLASSIC COMPUTE\n",
    "\n",
    "Before executing cells in this notebook, please select your classic compute cluster in the lab. Be aware that **Serverless** is enabled by default.\n",
    "\n",
    "Follow these steps to select the classic compute cluster:\n",
    "\n",
    "1. Navigate to the top-right of this notebook and click the drop-down menu to select your cluster. By default, the notebook will use **Serverless**.\n",
    "\n",
    "1. If your cluster is available, select it and continue to the next cell. If the cluster is not shown:\n",
    "\n",
    "  - In the drop-down, select **More**.\n",
    "\n",
    "  - In the **Attach to an existing compute resource** pop-up, select the first drop-down. You will see a unique cluster name in that drop-down. Please select that cluster.\n",
    "\n",
    "**NOTE:** If your cluster has terminated, you might need to restart it in order to select it. To do this:\n",
    "\n",
    "1. Right-click on **Compute** in the left navigation pane and select *Open in new tab*.\n",
    "\n",
    "1. Find the triangle icon to the right of your compute cluster name and click it.\n",
    "\n",
    "1. Wait a few minutes for the cluster to start.\n",
    "\n",
    "1. Once the cluster is running, complete the steps above to select your cluster."
   ]
  },
  {
   "cell_type": "markdown",
   "metadata": {
    "application/vnd.databricks.v1+cell": {
     "cellMetadata": {},
     "inputWidgets": {},
     "nuid": "74c29a15-257a-49b6-b884-9cde9be33976",
     "showTitle": false,
     "tableResultSettingsMap": {},
     "title": ""
    }
   },
   "source": [
    "## A. Classroom Setup\n",
    "\n",
    "Run the following cell to configure your working environment for this course. It will also set your default catalog to **dbacademy** and the schema to your specific schema name shown below using the `USE` statements.\n",
    "<br></br>\n",
    "\n",
    "\n",
    "```\n",
    "USE CATALOG dbacademy;\n",
    "USE SCHEMA dbacademy.<your unique schema name>;\n",
    "```\n",
    "\n",
    "**NOTE:** The `DA` object is only used in Databricks Academy courses and is not available outside of these courses. It will dynamically reference the information needed to run the course."
   ]
  },
  {
   "cell_type": "code",
   "execution_count": 0,
   "metadata": {
    "application/vnd.databricks.v1+cell": {
     "cellMetadata": {
      "byteLimit": 2048000,
      "rowLimit": 10000
     },
     "inputWidgets": {},
     "nuid": "44cdaeef-6daf-4421-8e1a-8b32d846ea62",
     "showTitle": false,
     "tableResultSettingsMap": {},
     "title": ""
    }
   },
   "outputs": [
    {
     "output_type": "stream",
     "name": "stdout",
     "output_type": "stream",
     "text": [
      "\u001B[43mNote: you may need to restart the kernel using %restart_python or dbutils.library.restartPython() to use updated packages.\u001B[0m\n"
     ]
    },
    {
     "output_type": "stream",
     "name": "stdout",
     "output_type": "stream",
     "text": [
      "Loading batch 1 of 31...1 seconds\n"
     ]
    },
    {
     "output_type": "execute_result",
     "data": {
      "text/plain": [
       "True"
      ]
     },
     "execution_count": 15,
     "metadata": {},
     "output_type": "execute_result"
    }
   ],
   "source": [
    "%run ./Includes/Classroom-Setup-1"
   ]
  },
  {
   "cell_type": "markdown",
   "metadata": {
    "application/vnd.databricks.v1+cell": {
     "cellMetadata": {},
     "inputWidgets": {},
     "nuid": "90e2d344-6916-4d15-8ea5-ae2fe300d66f",
     "showTitle": false,
     "tableResultSettingsMap": {},
     "title": ""
    }
   },
   "source": [
    "## B. Generate Pipeline Configuration\n",
    "Run the following cell to obtain the pipeline configuration information we saw earlier. Modify the pipeline_language if necessary."
   ]
  },
  {
   "cell_type": "code",
   "execution_count": 0,
   "metadata": {
    "application/vnd.databricks.v1+cell": {
     "cellMetadata": {
      "byteLimit": 2048000,
      "rowLimit": 10000
     },
     "inputWidgets": {},
     "nuid": "2bb621a1-fe12-4821-9686-4e0efba68c34",
     "showTitle": false,
     "tableResultSettingsMap": {},
     "title": ""
    }
   },
   "outputs": [
    {
     "output_type": "stream",
     "name": "stdout",
     "output_type": "stream",
     "text": [
      "labuser9104086_1738597681: Example Pipeline\n"
     ]
    },
    {
     "output_type": "display_data",
     "data": {
      "text/html": [
       "<table style=\"width:100%\">\n",
       "            <tr>\n",
       "                <td style=\"white-space:nowrap; width:1em\">Pipeline Name:</td>\n",
       "                <td><input type=\"text\" value=\"labuser9104086_1738597681: Example Pipeline\" style=\"width: 100%\"></td></tr>\n",
       "            <tr>\n",
       "                <td style=\"white-space:nowrap; width:1em\">Notebook #1 Path:</td>\n",
       "                <td><input type=\"text\" value=\"/Users/labuser9104086_1738597681@vocareum.com/build-data-pipelines-with-delta-live-tables-2.0.1/Build Data Pipelines with Delta Live Tables/2A - SQL Pipelines/1 - Orders Pipeline\" style=\"width: 100%\"></td></tr>\n",
       "            <tr>\n",
       "                <td style=\"white-space:nowrap; width:1em\">Notebook #2 Path:</td>\n",
       "                <td><input type=\"text\" value=\"/Users/labuser9104086_1738597681@vocareum.com/build-data-pipelines-with-delta-live-tables-2.0.1/Build Data Pipelines with Delta Live Tables/2A - SQL Pipelines/2 - Customers Pipeline\" style=\"width: 100%\"></td></tr>\n",
       "            <tr>\n",
       "                <td style=\"white-space:nowrap; width:1em\">Notebook #3 Path:</td>\n",
       "                <td><input type=\"text\" value=\"/Users/labuser9104086_1738597681@vocareum.com/build-data-pipelines-with-delta-live-tables-2.0.1/Build Data Pipelines with Delta Live Tables/2A - SQL Pipelines/3L - Status Pipeline Lab\" style=\"width: 100%\"></td></tr>\n",
       "            <tr>\n",
       "                <td style=\"white-space:nowrap; width:1em\">Catalog:</td>\n",
       "                <td><input type=\"text\" value=\"dbacademy\" style=\"width: 100%\"></td></tr>\n",
       "            <tr>\n",
       "                <td style=\"white-space:nowrap; width:1em\">Target Schema:</td>\n",
       "                <td><input type=\"text\" value=\"labuser9104086_1738597681\" style=\"width: 100%\"></td></tr>\n",
       "            <tr>\n",
       "                <td style=\"white-space:nowrap; width:1em\">Source:</td>\n",
       "                <td><input type=\"text\" value=\"/Volumes/dbacademy/ops/labuser9104086_1738597681@vocareum_com/stream-source\" style=\"width: 100%\"></td></tr></table>"
      ]
     },
     "metadata": {},
     "output_type": "display_data"
    }
   ],
   "source": [
    "pipeline_language = \"SQL\"\n",
    "# pipeline_language = \"Python\"\n",
    "\n",
    "DA.print_pipeline_config(pipeline_language)"
   ]
  },
  {
   "cell_type": "markdown",
   "metadata": {
    "application/vnd.databricks.v1+cell": {
     "cellMetadata": {},
     "inputWidgets": {},
     "nuid": "84096ca8-b79d-43ca-8c6c-5568c8126c2f",
     "showTitle": false,
     "tableResultSettingsMap": {},
     "title": ""
    }
   },
   "source": [
    "## PART 2 - Add a Second Notebook to a DLT Pipeline"
   ]
  },
  {
   "cell_type": "markdown",
   "metadata": {
    "application/vnd.databricks.v1+cell": {
     "cellMetadata": {},
     "inputWidgets": {},
     "nuid": "b8fc8201-61bd-4733-b639-3152f14abd77",
     "showTitle": false,
     "tableResultSettingsMap": {},
     "title": ""
    }
   },
   "source": [
    "Add **Notebook #2** to the DLT pipeline you created earlier. Complete the following:\n",
    "\n",
    "1. Navigate back to your DLT pipeline.\n",
    "\n",
    "2. Select **Settings** at the top right corner.\n",
    "\n",
    "3. In the **Source code** section select **Add source code** and add the path to **Notebook #2 - Customers Pipeline** using the cell above.\n",
    "    - You can also manually navigate to the notebook using the UI:\n",
    "      - For SQL: **Course folder** -> **2A - SQL Pipelines** -> **2 - Customers Pipeline**\n",
    "      - For Python: **Course folder** -> **2B - Python Pipelines** -> **2 - Customers Pipeline**\n",
    "\n",
    "4. Select **Save** at the bottom right of the screen to save the DLT pipeline.\n",
    "\n",
    "5. Select the drop down arrow to the right of **Start** and select **Full refresh all** to rerun and refresh the entire DLT pipeline with the additional notebook.\n",
    "    - **IMPORTANT NOTE:** Remember, with a **Full refresh all**, all tables are updated to reflect the current state of their input data sources. For streaming tables, Delta Live Tables attempts to clear all data from each table and then load all data from the input streaming source.\n",
    "\n",
    "6. While the DLT pipeline is running, examine Notebook **2 - Customers Pipeline** and review the code.\n",
    "    - [SQL Notebook 2 - Customers Pipeline]($./2A - SQL Pipelines/2 - Customers Pipeline)\n",
    "    - [Python Notebook 2 - Customers Pipeline]($./2B - Python Pipelines/2 - Customers Pipeline)\n",
    "\n",
    "7. Your DLT pipeline DAG should look like the following:\n",
    "\n",
    "<br></br>\n",
    "![RunTwoNotebookDLTPipeline](files/images/build-data-pipelines-with-delta-live-tables-2.0.1/RunTwoNotebookDLTPipeline.png)"
   ]
  },
  {
   "cell_type": "markdown",
   "metadata": {
    "application/vnd.databricks.v1+cell": {
     "cellMetadata": {},
     "inputWidgets": {},
     "nuid": "a8dba004-6dea-4186-b106-d67194ce57e5",
     "showTitle": false,
     "tableResultSettingsMap": {},
     "title": ""
    }
   },
   "source": [
    "## D. DLT Python vs SQL"
   ]
  },
  {
   "cell_type": "markdown",
   "metadata": {
    "application/vnd.databricks.v1+cell": {
     "cellMetadata": {},
     "inputWidgets": {},
     "nuid": "fa2d65af-6410-4f18-8a34-3517ca7239d1",
     "showTitle": false,
     "tableResultSettingsMap": {},
     "title": ""
    }
   },
   "source": [
    "| Python | SQL | Notes |\n",
    "|--------|--------|--------|\n",
    "| Python API | Proprietary SQL API |  |\n",
    "| No syntax check | Has syntax checks| In Python, if you run a DLT notebook cell on its own it will show in error, whereas in SQL it will check if the command is syntactically valid and tell you. In both cases, individual notebook cells are not supposed to be run for DLT pipelines. |\n",
    "| A note on imports | None | The dlt module should be explicitly imported into your Python notebook libraries. In SQL, this is not the case. |\n",
    "| Tables as DataFrames | Tables as query results | The Python DataFrame API allows for multiple transformations of a dataset by stringing multiple API calls together. Compared to SQL, those same transformations must be saved in temporary tables as they are transformed. |\n",
    "|`@dlt.table()`  | `SELECT` statement | In SQL, the core logic of your query, containing transformations you make to your data, is contained in the `SELECT` statement. In Python, data transformations are specified when you configure options for @dlt.table().  |\n",
    "| `@dlt.table(comment = `\"Python comment\",`table_properties = {\"quality\": \"silver\"})` | `COMMENT` \"SQL comment\"       `TBLPROPERTIES (\"quality\" = \"silver\")` | This is how you add comments and table properties in Python vs. SQL |\n",
    "| Python Metaprogramming | N/A | You can use Python inner functions with Delta Live Tables to programmatically create multiple tables to reduce code redundancy."
   ]
  },
  {
   "cell_type": "markdown",
   "metadata": {
    "application/vnd.databricks.v1+cell": {
     "cellMetadata": {},
     "inputWidgets": {},
     "nuid": "6206c183-ef20-4eaf-9142-9cd717be5a70",
     "showTitle": false,
     "tableResultSettingsMap": {},
     "title": ""
    }
   },
   "source": [
    "# Complete the Lab\n",
    "## Open the notebook: 1c - Using the Delta Live Tables UI - PART 3 Lab - Status"
   ]
  },
  {
   "cell_type": "markdown",
   "metadata": {
    "application/vnd.databricks.v1+cell": {
     "cellMetadata": {},
     "inputWidgets": {},
     "nuid": "f6aaac0d-ddf6-4ea6-bb33-c67ff320df9c",
     "showTitle": false,
     "tableResultSettingsMap": {},
     "title": ""
    }
   },
   "source": [
    "\n",
    "&copy; 2025 Databricks, Inc. All rights reserved.<br/>\n",
    "Apache, Apache Spark, Spark and the Spark logo are trademarks of the \n",
    "<a href=\"https://www.apache.org/\">Apache Software Foundation</a>.<br/>\n",
    "<br/><a href=\"https://databricks.com/privacy-policy\">Privacy Policy</a> | \n",
    "<a href=\"https://databricks.com/terms-of-use\">Terms of Use</a> | \n",
    "<a href=\"https://help.databricks.com/\">Support</a>"
   ]
  }
 ],
 "metadata": {
  "application/vnd.databricks.v1+notebook": {
   "computePreferences": null,
   "dashboards": [],
   "environmentMetadata": null,
   "language": "python",
   "notebookMetadata": {
    "pythonIndentUnit": 4
   },
   "notebookName": "1b - Using the DLT UI - PART 2 - Customers",
   "widgets": {}
  },
  "language_info": {
   "name": "python"
  }
 },
 "nbformat": 4,
 "nbformat_minor": 0
}