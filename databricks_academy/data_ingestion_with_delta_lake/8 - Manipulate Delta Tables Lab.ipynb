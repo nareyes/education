{
 "cells": [
  {
   "cell_type": "markdown",
   "metadata": {
    "application/vnd.databricks.v1+cell": {
     "cellMetadata": {},
     "inputWidgets": {},
     "nuid": "f75e2ed6-f398-4050-bec0-fbbe96e0905c",
     "showTitle": false,
     "tableResultSettingsMap": {},
     "title": ""
    }
   },
   "source": [
    "\n",
    "<div style=\"text-align: center; line-height: 0; padding-top: 9px;\">\n",
    "  <img src=\"https://databricks.com/wp-content/uploads/2018/03/db-academy-rgb-1200px.png\" alt=\"Databricks Learning\">\n",
    "</div>\n"
   ]
  },
  {
   "cell_type": "markdown",
   "metadata": {
    "application/vnd.databricks.v1+cell": {
     "cellMetadata": {},
     "inputWidgets": {},
     "nuid": "c62c8e07-a689-471e-a773-3ae9039f3834",
     "showTitle": false,
     "tableResultSettingsMap": {},
     "title": ""
    }
   },
   "source": [
    "# Manipulate Delta Tables Lab\n",
    "\n",
    "This notebook provides a hands-on review of some of the more esoteric features Delta Lake brings to the data lakehouse.\n",
    "\n",
    "## Learning Objectives\n",
    "By the end of this lab, you should be able to:\n",
    "- Review table history\n",
    "- Query previous table versions and rollback a table to a specific version"
   ]
  },
  {
   "cell_type": "markdown",
   "metadata": {
    "application/vnd.databricks.v1+cell": {
     "cellMetadata": {},
     "inputWidgets": {},
     "nuid": "36a4e818-7273-4d9c-bf82-43376485de97",
     "showTitle": false,
     "tableResultSettingsMap": {},
     "title": ""
    }
   },
   "source": [
    "## REQUIRED - SELECT CLASSIC COMPUTE\n",
    "\n",
    "Before executing cells in this notebook, please select your classic compute cluster in the lab. Be aware that **Serverless** is enabled by default.\n",
    "\n",
    "Follow these steps to select the classic compute cluster:\n",
    "\n",
    "1. Navigate to the top-right of this notebook and click the drop-down menu to select your cluster. By default, the notebook will use **Serverless**.\n",
    "\n",
    "1. If your cluster is available, select it and continue to the next cell. If the cluster is not shown:\n",
    "\n",
    "  - In the drop-down, select **More**.\n",
    "\n",
    "  - In the **Attach to an existing compute resource** pop-up, select the first drop-down. You will see a unique cluster name in that drop-down. Please select that cluster.\n",
    "\n",
    "**NOTE:** If your cluster has terminated, you might need to restart it in order to select it. To do this:\n",
    "\n",
    "1. Right-click on **Compute** in the left navigation pane and select *Open in new tab*.\n",
    "\n",
    "1. Find the triangle icon to the right of your compute cluster name and click it.\n",
    "\n",
    "1. Wait a few minutes for the cluster to start.\n",
    "\n",
    "1. Once the cluster is running, complete the steps above to select your cluster."
   ]
  },
  {
   "cell_type": "markdown",
   "metadata": {
    "application/vnd.databricks.v1+cell": {
     "cellMetadata": {},
     "inputWidgets": {},
     "nuid": "ba228c56-35d8-4e41-9113-199350eb07aa",
     "showTitle": true,
     "tableResultSettingsMap": {},
     "title": "cvf"
    }
   },
   "source": [
    "## Classroom Setup\n",
    "\n",
    "Run the following cell to configure your working environment for this course. It will also set your default catalog to **dbacademy** and the schema to your specific schema name shown below using the `USE` statements.\n",
    "<br></br>\n",
    "\n",
    "\n",
    "```\n",
    "USE CATALOG dbacademy;\n",
    "USE SCHEMA dbacademy.<your unique schema name>;\n",
    "```\n",
    "\n",
    "**NOTE:** The `DA` object is only used in Databricks Academy courses and is not available outside of these courses. It will dynamically reference the information needed to run the course."
   ]
  },
  {
   "cell_type": "code",
   "execution_count": 0,
   "metadata": {
    "application/vnd.databricks.v1+cell": {
     "cellMetadata": {
      "byteLimit": 2048000,
      "rowLimit": 10000
     },
     "inputWidgets": {},
     "nuid": "d958474b-3cdb-4d7a-b0c6-249597c85a5d",
     "showTitle": false,
     "tableResultSettingsMap": {},
     "title": ""
    }
   },
   "outputs": [
    {
     "output_type": "stream",
     "name": "stdout",
     "output_type": "stream",
     "text": [
      "\u001B[43mNote: you may need to restart the kernel using %restart_python or dbutils.library.restartPython() to use updated packages.\u001B[0m\n"
     ]
    },
    {
     "output_type": "display_data",
     "data": {
      "text/html": [
       "<table style=\"width:100%\">\n",
       "            <tr>\n",
       "                <td style=\"white-space:nowrap; width:1em\">Course Catalog:</td>\n",
       "                <td><input type=\"text\" value=\"dbacademy\" style=\"width: 100%\"></td></tr>\n",
       "            <tr>\n",
       "                <td style=\"white-space:nowrap; width:1em\">Your Schema:</td>\n",
       "                <td><input type=\"text\" value=\"labuser9051024_1738251370\" style=\"width: 100%\"></td></tr></table>"
      ]
     },
     "metadata": {},
     "output_type": "display_data"
    }
   ],
   "source": [
    "%run ./Includes/Classroom-Setup-8L"
   ]
  },
  {
   "cell_type": "markdown",
   "metadata": {
    "application/vnd.databricks.v1+cell": {
     "cellMetadata": {},
     "inputWidgets": {},
     "nuid": "e91f1b30-9a11-4dae-854b-ff9e0d4d5c89",
     "showTitle": false,
     "tableResultSettingsMap": {},
     "title": ""
    }
   },
   "source": [
    "## Create History of Bean Collection\n",
    "\n",
    "The cell below includes various table operations, resulting in the following schema for the **`beans`** table:\n",
    "\n",
    "| Field Name | Field type |\n",
    "| --- | --- |\n",
    "| name | STRING |\n",
    "| color | STRING |\n",
    "| grams | FLOAT |\n",
    "| delicious | BOOLEAN |"
   ]
  },
  {
   "cell_type": "code",
   "execution_count": 0,
   "metadata": {
    "application/vnd.databricks.v1+cell": {
     "cellMetadata": {
      "byteLimit": 2048000,
      "rowLimit": 10000
     },
     "inputWidgets": {},
     "nuid": "5df2b171-b9ec-4290-86da-8711f1e29afa",
     "showTitle": false,
     "tableResultSettingsMap": {},
     "title": ""
    }
   },
   "outputs": [
    {
     "output_type": "display_data",
     "data": {
      "text/html": [
       "<style scoped>\n",
       "  .table-result-container {\n",
       "    max-height: 300px;\n",
       "    overflow: auto;\n",
       "  }\n",
       "  table, th, td {\n",
       "    border: 1px solid black;\n",
       "    border-collapse: collapse;\n",
       "  }\n",
       "  th, td {\n",
       "    padding: 5px;\n",
       "  }\n",
       "  th {\n",
       "    text-align: left;\n",
       "  }\n",
       "</style><div class='table-result-container'><table class='table-result'><thead style='background-color: white'><tr><th>num_affected_rows</th><th>num_updated_rows</th><th>num_deleted_rows</th><th>num_inserted_rows</th></tr></thead><tbody><tr><td>3</td><td>1</td><td>0</td><td>2</td></tr></tbody></table></div>"
      ]
     },
     "metadata": {
      "application/vnd.databricks.v1+output": {
       "addedWidgets": {},
       "aggData": [],
       "aggError": "",
       "aggOverflow": false,
       "aggSchema": [],
       "aggSeriesLimitReached": false,
       "aggType": "",
       "arguments": {},
       "columnCustomDisplayInfos": {},
       "data": [
        [
         3,
         1,
         0,
         2
        ]
       ],
       "datasetInfos": [
        {
         "name": "_sqldf",
         "schema": {
          "fields": [
           {
            "metadata": {},
            "name": "num_affected_rows",
            "nullable": true,
            "type": "long"
           },
           {
            "metadata": {},
            "name": "num_updated_rows",
            "nullable": true,
            "type": "long"
           },
           {
            "metadata": {},
            "name": "num_deleted_rows",
            "nullable": true,
            "type": "long"
           },
           {
            "metadata": {},
            "name": "num_inserted_rows",
            "nullable": true,
            "type": "long"
           }
          ],
          "type": "struct"
         },
         "tableIdentifier": null,
         "typeStr": "pyspark.sql.connect.dataframe.DataFrame"
        }
       ],
       "dbfsResultPath": null,
       "isJsonSchema": true,
       "metadata": {
        "createTempViewForImplicitDf": true,
        "dataframeName": "_sqldf",
        "executionCount": 6
       },
       "overflow": false,
       "plotOptions": {
        "customPlotOptions": {},
        "displayType": "table",
        "pivotAggregation": null,
        "pivotColumns": null,
        "xColumns": null,
        "yColumns": null
       },
       "removedWidgets": [],
       "schema": [
        {
         "metadata": "{}",
         "name": "num_affected_rows",
         "type": "\"long\""
        },
        {
         "metadata": "{}",
         "name": "num_updated_rows",
         "type": "\"long\""
        },
        {
         "metadata": "{}",
         "name": "num_deleted_rows",
         "type": "\"long\""
        },
        {
         "metadata": "{}",
         "name": "num_inserted_rows",
         "type": "\"long\""
        }
       ],
       "type": "table"
      }
     },
     "output_type": "display_data"
    }
   ],
   "source": [
    "CREATE OR REPLACE TABLE beans \n",
    "(name STRING, color STRING, grams FLOAT, delicious BOOLEAN);\n",
    "\n",
    "INSERT INTO beans VALUES\n",
    "(\"black\", \"black\", 500, true),\n",
    "(\"lentils\", \"brown\", 1000, true),\n",
    "(\"jelly\", \"rainbow\", 42.5, false);\n",
    "\n",
    "INSERT INTO beans VALUES\n",
    "('pinto', 'brown', 1.5, true),\n",
    "('green', 'green', 178.3, true),\n",
    "('beanbag chair', 'white', 40000, false);\n",
    "\n",
    "UPDATE beans\n",
    "SET delicious = true\n",
    "WHERE name = \"jelly\";\n",
    "\n",
    "UPDATE beans\n",
    "SET grams = 1500\n",
    "WHERE name = 'pinto';\n",
    "\n",
    "DELETE FROM beans\n",
    "WHERE delicious = false;\n",
    "\n",
    "CREATE OR REPLACE TEMP VIEW new_beans(name, color, grams, delicious) AS VALUES\n",
    "('black', 'black', 60.5, true),\n",
    "('lentils', 'green', 500, true),\n",
    "('kidney', 'red', 387.2, true),\n",
    "('castor', 'brown', 25, false);\n",
    "\n",
    "MERGE INTO beans a\n",
    "USING new_beans b\n",
    "ON a.name=b.name AND a.color = b.color\n",
    "WHEN MATCHED THEN\n",
    "  UPDATE SET grams = a.grams + b.grams\n",
    "WHEN NOT MATCHED AND b.delicious = true THEN\n",
    "  INSERT *;"
   ]
  },
  {
   "cell_type": "markdown",
   "metadata": {
    "application/vnd.databricks.v1+cell": {
     "cellMetadata": {},
     "inputWidgets": {},
     "nuid": "ec16c935-5beb-4319-ade1-d0a4fd586d59",
     "showTitle": false,
     "tableResultSettingsMap": {},
     "title": ""
    }
   },
   "source": [
    "## Review the Table History\n",
    "\n",
    "Delta Lake's transaction log stores information about each transaction that modifies a table's contents or settings.\n",
    "\n",
    "Review the history of the **`beans`** table below."
   ]
  },
  {
   "cell_type": "code",
   "execution_count": 0,
   "metadata": {
    "application/vnd.databricks.v1+cell": {
     "cellMetadata": {
      "byteLimit": 2048000,
      "rowLimit": 10000
     },
     "inputWidgets": {},
     "nuid": "91715aed-1ab1-40e7-a4a6-7e901de99aaf",
     "showTitle": false,
     "tableResultSettingsMap": {},
     "title": ""
    }
   },
   "outputs": [
    {
     "output_type": "display_data",
     "data": {
      "text/html": [
       "<style scoped>\n",
       "  .table-result-container {\n",
       "    max-height: 300px;\n",
       "    overflow: auto;\n",
       "  }\n",
       "  table, th, td {\n",
       "    border: 1px solid black;\n",
       "    border-collapse: collapse;\n",
       "  }\n",
       "  th, td {\n",
       "    padding: 5px;\n",
       "  }\n",
       "  th {\n",
       "    text-align: left;\n",
       "  }\n",
       "</style><div class='table-result-container'><table class='table-result'><thead style='background-color: white'><tr><th>version</th><th>timestamp</th><th>userId</th><th>userName</th><th>operation</th><th>operationParameters</th><th>job</th><th>notebook</th><th>clusterId</th><th>readVersion</th><th>isolationLevel</th><th>isBlindAppend</th><th>operationMetrics</th><th>userMetadata</th><th>engineInfo</th></tr></thead><tbody><tr><td>10</td><td>2025-01-30T18:18:02.000Z</td><td>1401283921468378</td><td>labuser9051024_1738251370@vocareum.com</td><td>OPTIMIZE</td><td>Map(predicate -> [], auto -> true, clusterBy -> [], zOrderBy -> [], batchId -> 0)</td><td>null</td><td>null</td><td>0130-181610-4q2fislr-v2n</td><td>9</td><td>SnapshotIsolation</td><td>false</td><td>Map(numRemovedFiles -> 4, numRemovedBytes -> 4783, p25FileSize -> 1330, numDeletionVectorsRemoved -> 1, minFileSize -> 1330, numAddedFiles -> 1, maxFileSize -> 1330, p75FileSize -> 1330, p50FileSize -> 1330, numAddedBytes -> 1330)</td><td>null</td><td>Databricks-Runtime/16.1.x-photon-scala2.12</td></tr><tr><td>9</td><td>2025-01-30T18:18:01.000Z</td><td>1401283921468378</td><td>labuser9051024_1738251370@vocareum.com</td><td>MERGE</td><td>Map(predicate -> [\"((name#18344 = name#18336) AND (color#18345 = color#18337))\"], clusterBy -> [], matchedPredicates -> [{\"actionType\":\"update\"}], statsOnLoad -> false, notMatchedBySourcePredicates -> [], notMatchedPredicates -> [{\"predicate\":\"delicious#18339: boolean\",\"actionType\":\"insert\"}])</td><td>null</td><td>null</td><td>0130-181610-4q2fislr-v2n</td><td>8</td><td>WriteSerializable</td><td>false</td><td>Map(numTargetRowsCopied -> 0, numTargetRowsDeleted -> 0, numTargetFilesAdded -> 3, numTargetBytesAdded -> 3500, numTargetBytesRemoved -> 0, numTargetDeletionVectorsAdded -> 1, numTargetRowsMatchedUpdated -> 1, executionTimeMs -> 1314, materializeSourceTimeMs -> 57, numTargetRowsInserted -> 2, numTargetRowsMatchedDeleted -> 0, numTargetDeletionVectorsUpdated -> 0, scanTimeMs -> 531, numTargetRowsUpdated -> 1, numOutputRows -> 3, numTargetDeletionVectorsRemoved -> 0, numTargetRowsNotMatchedBySourceUpdated -> 0, numTargetChangeFilesAdded -> 0, numSourceRows -> 4, numTargetFilesRemoved -> 0, numTargetRowsNotMatchedBySourceDeleted -> 0, rewriteTimeMs -> 694)</td><td>null</td><td>Databricks-Runtime/16.1.x-photon-scala2.12</td></tr><tr><td>8</td><td>2025-01-30T18:17:59.000Z</td><td>1401283921468378</td><td>labuser9051024_1738251370@vocareum.com</td><td>OPTIMIZE</td><td>Map(predicate -> [], auto -> true, clusterBy -> [], zOrderBy -> [], batchId -> 0)</td><td>null</td><td>null</td><td>0130-181610-4q2fislr-v2n</td><td>7</td><td>SnapshotIsolation</td><td>false</td><td>Map(numRemovedFiles -> 1, numRemovedBytes -> 1326, p25FileSize -> 1283, numDeletionVectorsRemoved -> 1, minFileSize -> 1283, numAddedFiles -> 1, maxFileSize -> 1283, p75FileSize -> 1283, p50FileSize -> 1283, numAddedBytes -> 1283)</td><td>null</td><td>Databricks-Runtime/16.1.x-photon-scala2.12</td></tr><tr><td>7</td><td>2025-01-30T18:17:58.000Z</td><td>1401283921468378</td><td>labuser9051024_1738251370@vocareum.com</td><td>DELETE</td><td>Map(predicate -> [\"NOT delicious#17843\"])</td><td>null</td><td>null</td><td>0130-181610-4q2fislr-v2n</td><td>5</td><td>WriteSerializable</td><td>false</td><td>Map(numRemovedFiles -> 0, numRemovedBytes -> 0, numCopiedRows -> 0, numDeletionVectorsAdded -> 1, numDeletionVectorsRemoved -> 1, numAddedChangeFiles -> 0, executionTimeMs -> 420, conflictDetectionTimeMs -> 125, numDeletionVectorsUpdated -> 1, numDeletedRows -> 1, scanTimeMs -> 254, numAddedFiles -> 0, numAddedBytes -> 0, rewriteTimeMs -> 166)</td><td>null</td><td>Databricks-Runtime/16.1.x-photon-scala2.12</td></tr><tr><td>6</td><td>2025-01-30T18:17:57.000Z</td><td>1401283921468378</td><td>labuser9051024_1738251370@vocareum.com</td><td>OPTIMIZE</td><td>Map(predicate -> [], auto -> true, clusterBy -> [], zOrderBy -> [], batchId -> 0)</td><td>null</td><td>null</td><td>0130-181610-4q2fislr-v2n</td><td>5</td><td>SnapshotIsolation</td><td>false</td><td>Map(numRemovedFiles -> 2, numRemovedBytes -> 2490, p25FileSize -> 1326, numDeletionVectorsRemoved -> 1, minFileSize -> 1326, numAddedFiles -> 1, maxFileSize -> 1326, p75FileSize -> 1326, p50FileSize -> 1326, numAddedBytes -> 1326)</td><td>null</td><td>Databricks-Runtime/16.1.x-photon-scala2.12</td></tr><tr><td>5</td><td>2025-01-30T18:17:56.001Z</td><td>1401283921468378</td><td>labuser9051024_1738251370@vocareum.com</td><td>UPDATE</td><td>Map(predicate -> [\"(name#17103 = pinto)\"])</td><td>null</td><td>null</td><td>0130-181610-4q2fislr-v2n</td><td>3</td><td>WriteSerializable</td><td>false</td><td>Map(numRemovedFiles -> 0, numRemovedBytes -> 0, numCopiedRows -> 0, numDeletionVectorsAdded -> 1, numDeletionVectorsRemoved -> 0, numAddedChangeFiles -> 0, executionTimeMs -> 742, conflictDetectionTimeMs -> 157, numDeletionVectorsUpdated -> 0, scanTimeMs -> 269, numAddedFiles -> 1, numUpdatedRows -> 1, numAddedBytes -> 1164, rewriteTimeMs -> 473)</td><td>null</td><td>Databricks-Runtime/16.1.x-photon-scala2.12</td></tr><tr><td>4</td><td>2025-01-30T18:17:56.000Z</td><td>1401283921468378</td><td>labuser9051024_1738251370@vocareum.com</td><td>OPTIMIZE</td><td>Map(predicate -> [], auto -> true, clusterBy -> [], zOrderBy -> [], batchId -> 0)</td><td>null</td><td>null</td><td>0130-181610-4q2fislr-v2n</td><td>3</td><td>SnapshotIsolation</td><td>false</td><td>Map(numRemovedFiles -> 3, numRemovedBytes -> 3587, p25FileSize -> 1326, numDeletionVectorsRemoved -> 1, minFileSize -> 1326, numAddedFiles -> 1, maxFileSize -> 1326, p75FileSize -> 1326, p50FileSize -> 1326, numAddedBytes -> 1326)</td><td>null</td><td>Databricks-Runtime/16.1.x-photon-scala2.12</td></tr><tr><td>3</td><td>2025-01-30T18:17:55.000Z</td><td>1401283921468378</td><td>labuser9051024_1738251370@vocareum.com</td><td>UPDATE</td><td>Map(predicate -> [\"(name#16501 = jelly)\"])</td><td>null</td><td>null</td><td>0130-181610-4q2fislr-v2n</td><td>2</td><td>WriteSerializable</td><td>false</td><td>Map(numRemovedFiles -> 0, numRemovedBytes -> 0, numCopiedRows -> 0, numDeletionVectorsAdded -> 1, numDeletionVectorsRemoved -> 0, numAddedChangeFiles -> 0, executionTimeMs -> 1010, numDeletionVectorsUpdated -> 0, scanTimeMs -> 501, numAddedFiles -> 1, numUpdatedRows -> 1, numAddedBytes -> 1175, rewriteTimeMs -> 509)</td><td>null</td><td>Databricks-Runtime/16.1.x-photon-scala2.12</td></tr><tr><td>2</td><td>2025-01-30T18:17:53.000Z</td><td>1401283921468378</td><td>labuser9051024_1738251370@vocareum.com</td><td>WRITE</td><td>Map(mode -> Append, statsOnLoad -> false, partitionBy -> [])</td><td>null</td><td>null</td><td>0130-181610-4q2fislr-v2n</td><td>1</td><td>WriteSerializable</td><td>true</td><td>Map(numFiles -> 1, numOutputRows -> 3, numOutputBytes -> 1212)</td><td>null</td><td>Databricks-Runtime/16.1.x-photon-scala2.12</td></tr><tr><td>1</td><td>2025-01-30T18:17:51.000Z</td><td>1401283921468378</td><td>labuser9051024_1738251370@vocareum.com</td><td>WRITE</td><td>Map(mode -> Append, statsOnLoad -> false, partitionBy -> [])</td><td>null</td><td>null</td><td>0130-181610-4q2fislr-v2n</td><td>0</td><td>WriteSerializable</td><td>true</td><td>Map(numFiles -> 1, numOutputRows -> 3, numOutputBytes -> 1200)</td><td>null</td><td>Databricks-Runtime/16.1.x-photon-scala2.12</td></tr><tr><td>0</td><td>2025-01-30T18:17:50.000Z</td><td>1401283921468378</td><td>labuser9051024_1738251370@vocareum.com</td><td>CREATE OR REPLACE TABLE</td><td>Map(partitionBy -> [], clusterBy -> [], description -> null, isManaged -> true, properties -> {\"delta.enableDeletionVectors\":\"true\"}, statsOnLoad -> false)</td><td>null</td><td>null</td><td>0130-181610-4q2fislr-v2n</td><td>null</td><td>WriteSerializable</td><td>true</td><td>Map()</td><td>null</td><td>Databricks-Runtime/16.1.x-photon-scala2.12</td></tr></tbody></table></div>"
      ]
     },
     "metadata": {
      "application/vnd.databricks.v1+output": {
       "addedWidgets": {},
       "aggData": [],
       "aggError": "",
       "aggOverflow": false,
       "aggSchema": [],
       "aggSeriesLimitReached": false,
       "aggType": "",
       "arguments": {},
       "columnCustomDisplayInfos": {},
       "data": [
        [
         10,
         "2025-01-30T18:18:02.000Z",
         "1401283921468378",
         "labuser9051024_1738251370@vocareum.com",
         "OPTIMIZE",
         {
          "auto": "true",
          "batchId": "0",
          "clusterBy": "[]",
          "predicate": "[]",
          "zOrderBy": "[]"
         },
         null,
         null,
         "0130-181610-4q2fislr-v2n",
         9,
         "SnapshotIsolation",
         false,
         {
          "maxFileSize": "1330",
          "minFileSize": "1330",
          "numAddedBytes": "1330",
          "numAddedFiles": "1",
          "numDeletionVectorsRemoved": "1",
          "numRemovedBytes": "4783",
          "numRemovedFiles": "4",
          "p25FileSize": "1330",
          "p50FileSize": "1330",
          "p75FileSize": "1330"
         },
         null,
         "Databricks-Runtime/16.1.x-photon-scala2.12"
        ],
        [
         9,
         "2025-01-30T18:18:01.000Z",
         "1401283921468378",
         "labuser9051024_1738251370@vocareum.com",
         "MERGE",
         {
          "clusterBy": "[]",
          "matchedPredicates": "[{\"actionType\":\"update\"}]",
          "notMatchedBySourcePredicates": "[]",
          "notMatchedPredicates": "[{\"predicate\":\"delicious#18339: boolean\",\"actionType\":\"insert\"}]",
          "predicate": "[\"((name#18344 = name#18336) AND (color#18345 = color#18337))\"]",
          "statsOnLoad": "false"
         },
         null,
         null,
         "0130-181610-4q2fislr-v2n",
         8,
         "WriteSerializable",
         false,
         {
          "executionTimeMs": "1314",
          "materializeSourceTimeMs": "57",
          "numOutputRows": "3",
          "numSourceRows": "4",
          "numTargetBytesAdded": "3500",
          "numTargetBytesRemoved": "0",
          "numTargetChangeFilesAdded": "0",
          "numTargetDeletionVectorsAdded": "1",
          "numTargetDeletionVectorsRemoved": "0",
          "numTargetDeletionVectorsUpdated": "0",
          "numTargetFilesAdded": "3",
          "numTargetFilesRemoved": "0",
          "numTargetRowsCopied": "0",
          "numTargetRowsDeleted": "0",
          "numTargetRowsInserted": "2",
          "numTargetRowsMatchedDeleted": "0",
          "numTargetRowsMatchedUpdated": "1",
          "numTargetRowsNotMatchedBySourceDeleted": "0",
          "numTargetRowsNotMatchedBySourceUpdated": "0",
          "numTargetRowsUpdated": "1",
          "rewriteTimeMs": "694",
          "scanTimeMs": "531"
         },
         null,
         "Databricks-Runtime/16.1.x-photon-scala2.12"
        ],
        [
         8,
         "2025-01-30T18:17:59.000Z",
         "1401283921468378",
         "labuser9051024_1738251370@vocareum.com",
         "OPTIMIZE",
         {
          "auto": "true",
          "batchId": "0",
          "clusterBy": "[]",
          "predicate": "[]",
          "zOrderBy": "[]"
         },
         null,
         null,
         "0130-181610-4q2fislr-v2n",
         7,
         "SnapshotIsolation",
         false,
         {
          "maxFileSize": "1283",
          "minFileSize": "1283",
          "numAddedBytes": "1283",
          "numAddedFiles": "1",
          "numDeletionVectorsRemoved": "1",
          "numRemovedBytes": "1326",
          "numRemovedFiles": "1",
          "p25FileSize": "1283",
          "p50FileSize": "1283",
          "p75FileSize": "1283"
         },
         null,
         "Databricks-Runtime/16.1.x-photon-scala2.12"
        ],
        [
         7,
         "2025-01-30T18:17:58.000Z",
         "1401283921468378",
         "labuser9051024_1738251370@vocareum.com",
         "DELETE",
         {
          "predicate": "[\"NOT delicious#17843\"]"
         },
         null,
         null,
         "0130-181610-4q2fislr-v2n",
         5,
         "WriteSerializable",
         false,
         {
          "conflictDetectionTimeMs": "125",
          "executionTimeMs": "420",
          "numAddedBytes": "0",
          "numAddedChangeFiles": "0",
          "numAddedFiles": "0",
          "numCopiedRows": "0",
          "numDeletedRows": "1",
          "numDeletionVectorsAdded": "1",
          "numDeletionVectorsRemoved": "1",
          "numDeletionVectorsUpdated": "1",
          "numRemovedBytes": "0",
          "numRemovedFiles": "0",
          "rewriteTimeMs": "166",
          "scanTimeMs": "254"
         },
         null,
         "Databricks-Runtime/16.1.x-photon-scala2.12"
        ],
        [
         6,
         "2025-01-30T18:17:57.000Z",
         "1401283921468378",
         "labuser9051024_1738251370@vocareum.com",
         "OPTIMIZE",
         {
          "auto": "true",
          "batchId": "0",
          "clusterBy": "[]",
          "predicate": "[]",
          "zOrderBy": "[]"
         },
         null,
         null,
         "0130-181610-4q2fislr-v2n",
         5,
         "SnapshotIsolation",
         false,
         {
          "maxFileSize": "1326",
          "minFileSize": "1326",
          "numAddedBytes": "1326",
          "numAddedFiles": "1",
          "numDeletionVectorsRemoved": "1",
          "numRemovedBytes": "2490",
          "numRemovedFiles": "2",
          "p25FileSize": "1326",
          "p50FileSize": "1326",
          "p75FileSize": "1326"
         },
         null,
         "Databricks-Runtime/16.1.x-photon-scala2.12"
        ],
        [
         5,
         "2025-01-30T18:17:56.001Z",
         "1401283921468378",
         "labuser9051024_1738251370@vocareum.com",
         "UPDATE",
         {
          "predicate": "[\"(name#17103 = pinto)\"]"
         },
         null,
         null,
         "0130-181610-4q2fislr-v2n",
         3,
         "WriteSerializable",
         false,
         {
          "conflictDetectionTimeMs": "157",
          "executionTimeMs": "742",
          "numAddedBytes": "1164",
          "numAddedChangeFiles": "0",
          "numAddedFiles": "1",
          "numCopiedRows": "0",
          "numDeletionVectorsAdded": "1",
          "numDeletionVectorsRemoved": "0",
          "numDeletionVectorsUpdated": "0",
          "numRemovedBytes": "0",
          "numRemovedFiles": "0",
          "numUpdatedRows": "1",
          "rewriteTimeMs": "473",
          "scanTimeMs": "269"
         },
         null,
         "Databricks-Runtime/16.1.x-photon-scala2.12"
        ],
        [
         4,
         "2025-01-30T18:17:56.000Z",
         "1401283921468378",
         "labuser9051024_1738251370@vocareum.com",
         "OPTIMIZE",
         {
          "auto": "true",
          "batchId": "0",
          "clusterBy": "[]",
          "predicate": "[]",
          "zOrderBy": "[]"
         },
         null,
         null,
         "0130-181610-4q2fislr-v2n",
         3,
         "SnapshotIsolation",
         false,
         {
          "maxFileSize": "1326",
          "minFileSize": "1326",
          "numAddedBytes": "1326",
          "numAddedFiles": "1",
          "numDeletionVectorsRemoved": "1",
          "numRemovedBytes": "3587",
          "numRemovedFiles": "3",
          "p25FileSize": "1326",
          "p50FileSize": "1326",
          "p75FileSize": "1326"
         },
         null,
         "Databricks-Runtime/16.1.x-photon-scala2.12"
        ],
        [
         3,
         "2025-01-30T18:17:55.000Z",
         "1401283921468378",
         "labuser9051024_1738251370@vocareum.com",
         "UPDATE",
         {
          "predicate": "[\"(name#16501 = jelly)\"]"
         },
         null,
         null,
         "0130-181610-4q2fislr-v2n",
         2,
         "WriteSerializable",
         false,
         {
          "executionTimeMs": "1010",
          "numAddedBytes": "1175",
          "numAddedChangeFiles": "0",
          "numAddedFiles": "1",
          "numCopiedRows": "0",
          "numDeletionVectorsAdded": "1",
          "numDeletionVectorsRemoved": "0",
          "numDeletionVectorsUpdated": "0",
          "numRemovedBytes": "0",
          "numRemovedFiles": "0",
          "numUpdatedRows": "1",
          "rewriteTimeMs": "509",
          "scanTimeMs": "501"
         },
         null,
         "Databricks-Runtime/16.1.x-photon-scala2.12"
        ],
        [
         2,
         "2025-01-30T18:17:53.000Z",
         "1401283921468378",
         "labuser9051024_1738251370@vocareum.com",
         "WRITE",
         {
          "mode": "Append",
          "partitionBy": "[]",
          "statsOnLoad": "false"
         },
         null,
         null,
         "0130-181610-4q2fislr-v2n",
         1,
         "WriteSerializable",
         true,
         {
          "numFiles": "1",
          "numOutputBytes": "1212",
          "numOutputRows": "3"
         },
         null,
         "Databricks-Runtime/16.1.x-photon-scala2.12"
        ],
        [
         1,
         "2025-01-30T18:17:51.000Z",
         "1401283921468378",
         "labuser9051024_1738251370@vocareum.com",
         "WRITE",
         {
          "mode": "Append",
          "partitionBy": "[]",
          "statsOnLoad": "false"
         },
         null,
         null,
         "0130-181610-4q2fislr-v2n",
         0,
         "WriteSerializable",
         true,
         {
          "numFiles": "1",
          "numOutputBytes": "1200",
          "numOutputRows": "3"
         },
         null,
         "Databricks-Runtime/16.1.x-photon-scala2.12"
        ],
        [
         0,
         "2025-01-30T18:17:50.000Z",
         "1401283921468378",
         "labuser9051024_1738251370@vocareum.com",
         "CREATE OR REPLACE TABLE",
         {
          "clusterBy": "[]",
          "description": null,
          "isManaged": "true",
          "partitionBy": "[]",
          "properties": "{\"delta.enableDeletionVectors\":\"true\"}",
          "statsOnLoad": "false"
         },
         null,
         null,
         "0130-181610-4q2fislr-v2n",
         null,
         "WriteSerializable",
         true,
         {},
         null,
         "Databricks-Runtime/16.1.x-photon-scala2.12"
        ]
       ],
       "datasetInfos": [
        {
         "name": "_sqldf",
         "schema": {
          "fields": [
           {
            "metadata": {},
            "name": "version",
            "nullable": true,
            "type": "long"
           },
           {
            "metadata": {},
            "name": "timestamp",
            "nullable": true,
            "type": "timestamp"
           },
           {
            "metadata": {},
            "name": "userId",
            "nullable": true,
            "type": "string"
           },
           {
            "metadata": {},
            "name": "userName",
            "nullable": true,
            "type": "string"
           },
           {
            "metadata": {},
            "name": "operation",
            "nullable": true,
            "type": "string"
           },
           {
            "metadata": {},
            "name": "operationParameters",
            "nullable": true,
            "type": {
             "keyType": "string",
             "type": "map",
             "valueContainsNull": true,
             "valueType": "string"
            }
           },
           {
            "metadata": {},
            "name": "job",
            "nullable": true,
            "type": {
             "fields": [
              {
               "metadata": {},
               "name": "jobId",
               "nullable": true,
               "type": "string"
              },
              {
               "metadata": {},
               "name": "jobName",
               "nullable": true,
               "type": "string"
              },
              {
               "metadata": {},
               "name": "jobRunId",
               "nullable": true,
               "type": "string"
              },
              {
               "metadata": {},
               "name": "runId",
               "nullable": true,
               "type": "string"
              },
              {
               "metadata": {},
               "name": "jobOwnerId",
               "nullable": true,
               "type": "string"
              },
              {
               "metadata": {},
               "name": "triggerType",
               "nullable": true,
               "type": "string"
              }
             ],
             "type": "struct"
            }
           },
           {
            "metadata": {},
            "name": "notebook",
            "nullable": true,
            "type": {
             "fields": [
              {
               "metadata": {},
               "name": "notebookId",
               "nullable": true,
               "type": "string"
              }
             ],
             "type": "struct"
            }
           },
           {
            "metadata": {},
            "name": "clusterId",
            "nullable": true,
            "type": "string"
           },
           {
            "metadata": {},
            "name": "readVersion",
            "nullable": true,
            "type": "long"
           },
           {
            "metadata": {},
            "name": "isolationLevel",
            "nullable": true,
            "type": "string"
           },
           {
            "metadata": {},
            "name": "isBlindAppend",
            "nullable": true,
            "type": "boolean"
           },
           {
            "metadata": {},
            "name": "operationMetrics",
            "nullable": true,
            "type": {
             "keyType": "string",
             "type": "map",
             "valueContainsNull": true,
             "valueType": "string"
            }
           },
           {
            "metadata": {},
            "name": "userMetadata",
            "nullable": true,
            "type": "string"
           },
           {
            "metadata": {},
            "name": "engineInfo",
            "nullable": true,
            "type": "string"
           }
          ],
          "type": "struct"
         },
         "tableIdentifier": null,
         "typeStr": "pyspark.sql.connect.dataframe.DataFrame"
        }
       ],
       "dbfsResultPath": null,
       "isJsonSchema": true,
       "metadata": {
        "createTempViewForImplicitDf": true,
        "dataframeName": "_sqldf",
        "executionCount": 7
       },
       "overflow": false,
       "plotOptions": {
        "customPlotOptions": {},
        "displayType": "table",
        "pivotAggregation": null,
        "pivotColumns": null,
        "xColumns": null,
        "yColumns": null
       },
       "removedWidgets": [],
       "schema": [
        {
         "metadata": "{}",
         "name": "version",
         "type": "\"long\""
        },
        {
         "metadata": "{}",
         "name": "timestamp",
         "type": "\"timestamp\""
        },
        {
         "metadata": "{}",
         "name": "userId",
         "type": "\"string\""
        },
        {
         "metadata": "{}",
         "name": "userName",
         "type": "\"string\""
        },
        {
         "metadata": "{}",
         "name": "operation",
         "type": "\"string\""
        },
        {
         "metadata": "{}",
         "name": "operationParameters",
         "type": "{\"keyType\":\"string\",\"type\":\"map\",\"valueContainsNull\":true,\"valueType\":\"string\"}"
        },
        {
         "metadata": "{}",
         "name": "job",
         "type": "{\"fields\":[{\"metadata\":{},\"name\":\"jobId\",\"nullable\":true,\"type\":\"string\"},{\"metadata\":{},\"name\":\"jobName\",\"nullable\":true,\"type\":\"string\"},{\"metadata\":{},\"name\":\"jobRunId\",\"nullable\":true,\"type\":\"string\"},{\"metadata\":{},\"name\":\"runId\",\"nullable\":true,\"type\":\"string\"},{\"metadata\":{},\"name\":\"jobOwnerId\",\"nullable\":true,\"type\":\"string\"},{\"metadata\":{},\"name\":\"triggerType\",\"nullable\":true,\"type\":\"string\"}],\"type\":\"struct\"}"
        },
        {
         "metadata": "{}",
         "name": "notebook",
         "type": "{\"fields\":[{\"metadata\":{},\"name\":\"notebookId\",\"nullable\":true,\"type\":\"string\"}],\"type\":\"struct\"}"
        },
        {
         "metadata": "{}",
         "name": "clusterId",
         "type": "\"string\""
        },
        {
         "metadata": "{}",
         "name": "readVersion",
         "type": "\"long\""
        },
        {
         "metadata": "{}",
         "name": "isolationLevel",
         "type": "\"string\""
        },
        {
         "metadata": "{}",
         "name": "isBlindAppend",
         "type": "\"boolean\""
        },
        {
         "metadata": "{}",
         "name": "operationMetrics",
         "type": "{\"keyType\":\"string\",\"type\":\"map\",\"valueContainsNull\":true,\"valueType\":\"string\"}"
        },
        {
         "metadata": "{}",
         "name": "userMetadata",
         "type": "\"string\""
        },
        {
         "metadata": "{}",
         "name": "engineInfo",
         "type": "\"string\""
        }
       ],
       "type": "table"
      }
     },
     "output_type": "display_data"
    }
   ],
   "source": [
    "DESCRIBE HISTORY beans;"
   ]
  },
  {
   "cell_type": "markdown",
   "metadata": {
    "application/vnd.databricks.v1+cell": {
     "cellMetadata": {},
     "inputWidgets": {},
     "nuid": "e96dd639-5232-4834-8c5a-0a56b61eb89f",
     "showTitle": false,
     "tableResultSettingsMap": {},
     "title": ""
    }
   },
   "source": [
    "If all the previous operations were completed as described you should see 9 versions of the table (**NOTE**: Delta Lake versioning starts with 0, so the max version number will be 8).\n",
    "\n",
    "The operations should be as follows:\n",
    "\n",
    "| version | operation |\n",
    "| --- | --- |\n",
    "| 0 | CREATE TABLE |\n",
    "| 1 | WRITE |\n",
    "| 2 | WRITE |\n",
    "| 3 | UPDATE |\n",
    "| 4 | OPTIMIZE |\n",
    "| 5 | UPDATE |\n",
    "| 6 | DELETE |\n",
    "| 7 | OPTIMIZE |\n",
    "| 8 | MERGE |\n",
    "\n",
    "The **`operationsParameters`** column will let you review predicates used for updates, deletes, and merges. The **`operationMetrics`** column indicates how many rows and files are added in each operation.\n",
    "\n",
    "Spend some time reviewing the Delta Lake history to understand which table version matches with a given transaction.\n",
    "\n",
    "**NOTE**: The **`version`** column designates the state of a table once a given transaction completes. The **`readVersion`** column indicates the version of the table an operation executed against. In this simple demo (with no concurrent transactions), this relationship should always increment by 1."
   ]
  },
  {
   "cell_type": "markdown",
   "metadata": {
    "application/vnd.databricks.v1+cell": {
     "cellMetadata": {},
     "inputWidgets": {},
     "nuid": "851646be-e07b-46b8-8212-4631436190b7",
     "showTitle": false,
     "tableResultSettingsMap": {},
     "title": ""
    }
   },
   "source": [
    "## Query a Specific Version\n",
    "\n",
    "After reviewing the table history, you decide you want to view the state of your table after your very first data was inserted.\n",
    "\n",
    "Run the query below to see this."
   ]
  },
  {
   "cell_type": "code",
   "execution_count": 0,
   "metadata": {
    "application/vnd.databricks.v1+cell": {
     "cellMetadata": {
      "byteLimit": 2048000,
      "rowLimit": 10000
     },
     "inputWidgets": {},
     "nuid": "d6f6e408-513b-4f89-8a1b-90624f96b4a5",
     "showTitle": false,
     "tableResultSettingsMap": {},
     "title": ""
    }
   },
   "outputs": [
    {
     "output_type": "display_data",
     "data": {
      "text/html": [
       "<style scoped>\n",
       "  .table-result-container {\n",
       "    max-height: 300px;\n",
       "    overflow: auto;\n",
       "  }\n",
       "  table, th, td {\n",
       "    border: 1px solid black;\n",
       "    border-collapse: collapse;\n",
       "  }\n",
       "  th, td {\n",
       "    padding: 5px;\n",
       "  }\n",
       "  th {\n",
       "    text-align: left;\n",
       "  }\n",
       "</style><div class='table-result-container'><table class='table-result'><thead style='background-color: white'><tr><th>name</th><th>color</th><th>grams</th><th>delicious</th></tr></thead><tbody><tr><td>black</td><td>black</td><td>500.0</td><td>true</td></tr><tr><td>lentils</td><td>brown</td><td>1000.0</td><td>true</td></tr><tr><td>jelly</td><td>rainbow</td><td>42.5</td><td>false</td></tr></tbody></table></div>"
      ]
     },
     "metadata": {
      "application/vnd.databricks.v1+output": {
       "addedWidgets": {},
       "aggData": [],
       "aggError": "",
       "aggOverflow": false,
       "aggSchema": [],
       "aggSeriesLimitReached": false,
       "aggType": "",
       "arguments": {},
       "columnCustomDisplayInfos": {},
       "data": [
        [
         "black",
         "black",
         500.0,
         true
        ],
        [
         "lentils",
         "brown",
         1000.0,
         true
        ],
        [
         "jelly",
         "rainbow",
         42.5,
         false
        ]
       ],
       "datasetInfos": [
        {
         "name": "_sqldf",
         "schema": {
          "fields": [
           {
            "metadata": {},
            "name": "name",
            "nullable": true,
            "type": "string"
           },
           {
            "metadata": {},
            "name": "color",
            "nullable": true,
            "type": "string"
           },
           {
            "metadata": {},
            "name": "grams",
            "nullable": true,
            "type": "float"
           },
           {
            "metadata": {},
            "name": "delicious",
            "nullable": true,
            "type": "boolean"
           }
          ],
          "type": "struct"
         },
         "tableIdentifier": null,
         "typeStr": "pyspark.sql.connect.dataframe.DataFrame"
        }
       ],
       "dbfsResultPath": null,
       "isJsonSchema": true,
       "metadata": {
        "createTempViewForImplicitDf": true,
        "dataframeName": "_sqldf",
        "executionCount": 8
       },
       "overflow": false,
       "plotOptions": {
        "customPlotOptions": {},
        "displayType": "table",
        "pivotAggregation": null,
        "pivotColumns": null,
        "xColumns": null,
        "yColumns": null
       },
       "removedWidgets": [],
       "schema": [
        {
         "metadata": "{}",
         "name": "name",
         "type": "\"string\""
        },
        {
         "metadata": "{}",
         "name": "color",
         "type": "\"string\""
        },
        {
         "metadata": "{}",
         "name": "grams",
         "type": "\"float\""
        },
        {
         "metadata": "{}",
         "name": "delicious",
         "type": "\"boolean\""
        }
       ],
       "type": "table"
      }
     },
     "output_type": "display_data"
    }
   ],
   "source": [
    "SELECT * \n",
    "FROM beans VERSION AS OF 1;"
   ]
  },
  {
   "cell_type": "markdown",
   "metadata": {
    "application/vnd.databricks.v1+cell": {
     "cellMetadata": {},
     "inputWidgets": {},
     "nuid": "10643d6c-c912-468b-aa77-35fdc1fbefbb",
     "showTitle": false,
     "tableResultSettingsMap": {},
     "title": ""
    }
   },
   "source": [
    "And now review the current state of your data."
   ]
  },
  {
   "cell_type": "code",
   "execution_count": 0,
   "metadata": {
    "application/vnd.databricks.v1+cell": {
     "cellMetadata": {
      "byteLimit": 2048000,
      "rowLimit": 10000
     },
     "inputWidgets": {},
     "nuid": "c3677e4f-0cce-49ac-91da-8ad0669a2967",
     "showTitle": false,
     "tableResultSettingsMap": {},
     "title": ""
    }
   },
   "outputs": [
    {
     "output_type": "display_data",
     "data": {
      "text/html": [
       "<style scoped>\n",
       "  .table-result-container {\n",
       "    max-height: 300px;\n",
       "    overflow: auto;\n",
       "  }\n",
       "  table, th, td {\n",
       "    border: 1px solid black;\n",
       "    border-collapse: collapse;\n",
       "  }\n",
       "  th, td {\n",
       "    padding: 5px;\n",
       "  }\n",
       "  th {\n",
       "    text-align: left;\n",
       "  }\n",
       "</style><div class='table-result-container'><table class='table-result'><thead style='background-color: white'><tr><th>name</th><th>color</th><th>grams</th><th>delicious</th></tr></thead><tbody><tr><td>jelly</td><td>rainbow</td><td>42.5</td><td>true</td></tr><tr><td>lentils</td><td>brown</td><td>1000.0</td><td>true</td></tr><tr><td>green</td><td>green</td><td>178.3</td><td>true</td></tr><tr><td>pinto</td><td>brown</td><td>1500.0</td><td>true</td></tr><tr><td>black</td><td>black</td><td>560.5</td><td>true</td></tr><tr><td>lentils</td><td>green</td><td>500.0</td><td>true</td></tr><tr><td>kidney</td><td>red</td><td>387.2</td><td>true</td></tr></tbody></table></div>"
      ]
     },
     "metadata": {
      "application/vnd.databricks.v1+output": {
       "addedWidgets": {},
       "aggData": [],
       "aggError": "",
       "aggOverflow": false,
       "aggSchema": [],
       "aggSeriesLimitReached": false,
       "aggType": "",
       "arguments": {},
       "columnCustomDisplayInfos": {},
       "data": [
        [
         "jelly",
         "rainbow",
         42.5,
         true
        ],
        [
         "lentils",
         "brown",
         1000.0,
         true
        ],
        [
         "green",
         "green",
         178.3,
         true
        ],
        [
         "pinto",
         "brown",
         1500.0,
         true
        ],
        [
         "black",
         "black",
         560.5,
         true
        ],
        [
         "lentils",
         "green",
         500.0,
         true
        ],
        [
         "kidney",
         "red",
         387.2,
         true
        ]
       ],
       "datasetInfos": [
        {
         "name": "_sqldf",
         "schema": {
          "fields": [
           {
            "metadata": {},
            "name": "name",
            "nullable": true,
            "type": "string"
           },
           {
            "metadata": {},
            "name": "color",
            "nullable": true,
            "type": "string"
           },
           {
            "metadata": {},
            "name": "grams",
            "nullable": true,
            "type": "float"
           },
           {
            "metadata": {},
            "name": "delicious",
            "nullable": true,
            "type": "boolean"
           }
          ],
          "type": "struct"
         },
         "tableIdentifier": null,
         "typeStr": "pyspark.sql.connect.dataframe.DataFrame"
        }
       ],
       "dbfsResultPath": null,
       "isJsonSchema": true,
       "metadata": {
        "createTempViewForImplicitDf": true,
        "dataframeName": "_sqldf",
        "executionCount": 9
       },
       "overflow": false,
       "plotOptions": {
        "customPlotOptions": {},
        "displayType": "table",
        "pivotAggregation": null,
        "pivotColumns": null,
        "xColumns": null,
        "yColumns": null
       },
       "removedWidgets": [],
       "schema": [
        {
         "metadata": "{}",
         "name": "name",
         "type": "\"string\""
        },
        {
         "metadata": "{}",
         "name": "color",
         "type": "\"string\""
        },
        {
         "metadata": "{}",
         "name": "grams",
         "type": "\"float\""
        },
        {
         "metadata": "{}",
         "name": "delicious",
         "type": "\"boolean\""
        }
       ],
       "type": "table"
      }
     },
     "output_type": "display_data"
    }
   ],
   "source": [
    "SELECT * \n",
    "FROM beans;"
   ]
  },
  {
   "cell_type": "markdown",
   "metadata": {
    "application/vnd.databricks.v1+cell": {
     "cellMetadata": {},
     "inputWidgets": {},
     "nuid": "62fb97ec-de47-4290-8a7f-b5cd42e91a7b",
     "showTitle": false,
     "tableResultSettingsMap": {},
     "title": ""
    }
   },
   "source": [
    "You want to review the weights of your beans before you deleted any records.\n",
    "\n",
    "Fill in the statement below to register a temporary view of the version just before data was deleted, then run the following cell to query the view."
   ]
  },
  {
   "cell_type": "code",
   "execution_count": 0,
   "metadata": {
    "application/vnd.databricks.v1+cell": {
     "cellMetadata": {
      "byteLimit": 2048000,
      "rowLimit": 10000
     },
     "inputWidgets": {},
     "nuid": "d59f560f-125b-4f8d-9ff8-477f12c7975a",
     "showTitle": false,
     "tableResultSettingsMap": {},
     "title": ""
    }
   },
   "outputs": [],
   "source": [
    "CREATE OR REPLACE TEMP VIEW pre_delete_vw AS\n",
    "    SELECT * \n",
    "    FROM beans VERSION AS OF 6;"
   ]
  },
  {
   "cell_type": "code",
   "execution_count": 0,
   "metadata": {
    "application/vnd.databricks.v1+cell": {
     "cellMetadata": {
      "byteLimit": 2048000,
      "rowLimit": 10000
     },
     "inputWidgets": {},
     "nuid": "02d61124-f980-410c-878a-945518f0ab33",
     "showTitle": false,
     "tableResultSettingsMap": {},
     "title": ""
    }
   },
   "outputs": [
    {
     "output_type": "display_data",
     "data": {
      "text/html": [
       "<style scoped>\n",
       "  .table-result-container {\n",
       "    max-height: 300px;\n",
       "    overflow: auto;\n",
       "  }\n",
       "  table, th, td {\n",
       "    border: 1px solid black;\n",
       "    border-collapse: collapse;\n",
       "  }\n",
       "  th, td {\n",
       "    padding: 5px;\n",
       "  }\n",
       "  th {\n",
       "    text-align: left;\n",
       "  }\n",
       "</style><div class='table-result-container'><table class='table-result'><thead style='background-color: white'><tr><th>name</th><th>color</th><th>grams</th><th>delicious</th></tr></thead><tbody><tr><td>jelly</td><td>rainbow</td><td>42.5</td><td>true</td></tr><tr><td>black</td><td>black</td><td>500.0</td><td>true</td></tr><tr><td>lentils</td><td>brown</td><td>1000.0</td><td>true</td></tr><tr><td>green</td><td>green</td><td>178.3</td><td>true</td></tr><tr><td>beanbag chair</td><td>white</td><td>40000.0</td><td>false</td></tr><tr><td>pinto</td><td>brown</td><td>1500.0</td><td>true</td></tr></tbody></table></div>"
      ]
     },
     "metadata": {
      "application/vnd.databricks.v1+output": {
       "addedWidgets": {},
       "aggData": [],
       "aggError": "",
       "aggOverflow": false,
       "aggSchema": [],
       "aggSeriesLimitReached": false,
       "aggType": "",
       "arguments": {},
       "columnCustomDisplayInfos": {},
       "data": [
        [
         "jelly",
         "rainbow",
         42.5,
         true
        ],
        [
         "black",
         "black",
         500.0,
         true
        ],
        [
         "lentils",
         "brown",
         1000.0,
         true
        ],
        [
         "green",
         "green",
         178.3,
         true
        ],
        [
         "beanbag chair",
         "white",
         40000.0,
         false
        ],
        [
         "pinto",
         "brown",
         1500.0,
         true
        ]
       ],
       "datasetInfos": [
        {
         "name": "_sqldf",
         "schema": {
          "fields": [
           {
            "metadata": {},
            "name": "name",
            "nullable": true,
            "type": "string"
           },
           {
            "metadata": {},
            "name": "color",
            "nullable": true,
            "type": "string"
           },
           {
            "metadata": {},
            "name": "grams",
            "nullable": true,
            "type": "float"
           },
           {
            "metadata": {},
            "name": "delicious",
            "nullable": true,
            "type": "boolean"
           }
          ],
          "type": "struct"
         },
         "tableIdentifier": null,
         "typeStr": "pyspark.sql.connect.dataframe.DataFrame"
        }
       ],
       "dbfsResultPath": null,
       "isJsonSchema": true,
       "metadata": {
        "createTempViewForImplicitDf": true,
        "dataframeName": "_sqldf",
        "executionCount": 16
       },
       "overflow": false,
       "plotOptions": {
        "customPlotOptions": {},
        "displayType": "table",
        "pivotAggregation": null,
        "pivotColumns": null,
        "xColumns": null,
        "yColumns": null
       },
       "removedWidgets": [],
       "schema": [
        {
         "metadata": "{}",
         "name": "name",
         "type": "\"string\""
        },
        {
         "metadata": "{}",
         "name": "color",
         "type": "\"string\""
        },
        {
         "metadata": "{}",
         "name": "grams",
         "type": "\"float\""
        },
        {
         "metadata": "{}",
         "name": "delicious",
         "type": "\"boolean\""
        }
       ],
       "type": "table"
      }
     },
     "output_type": "display_data"
    }
   ],
   "source": [
    "SELECT * \n",
    "FROM pre_delete_vw;"
   ]
  },
  {
   "cell_type": "markdown",
   "metadata": {
    "application/vnd.databricks.v1+cell": {
     "cellMetadata": {},
     "inputWidgets": {},
     "nuid": "b017e1c7-0025-4eb7-bd26-62631880fd2d",
     "showTitle": false,
     "tableResultSettingsMap": {},
     "title": ""
    }
   },
   "source": [
    "Run the cell below to check that you have captured the correct version."
   ]
  },
  {
   "cell_type": "code",
   "execution_count": 0,
   "metadata": {
    "application/vnd.databricks.v1+cell": {
     "cellMetadata": {
      "byteLimit": 2048000,
      "rowLimit": 10000
     },
     "inputWidgets": {},
     "nuid": "59750bf1-a8b4-446a-92f4-48236a31ee68",
     "showTitle": false,
     "tableResultSettingsMap": {},
     "title": ""
    }
   },
   "outputs": [],
   "source": [
    "%python\n",
    "assert spark.catalog.tableExists(\"pre_delete_vw\"), \"Make sure you have registered the temporary view with the provided name `pre_delete_vw`\"\n",
    "assert spark.table(\"pre_delete_vw\").count() == 6, \"Make sure you're querying a version of the table with 6 records\"\n",
    "assert spark.table(\"pre_delete_vw\").selectExpr(\"int(sum(grams))\").first()[0] == 43220, \"Make sure you query the version of the table after updates were applied\""
   ]
  },
  {
   "cell_type": "markdown",
   "metadata": {
    "application/vnd.databricks.v1+cell": {
     "cellMetadata": {},
     "inputWidgets": {},
     "nuid": "e4845781-deba-4b77-a9c9-083433adede3",
     "showTitle": false,
     "tableResultSettingsMap": {},
     "title": ""
    }
   },
   "source": [
    "## Restore a Previous Version\n",
    "\n",
    "Apparently there was a misunderstanding; the beans your friend gave you that you merged into your collection were not intended for you to keep.\n",
    "\n",
    "Revert your table to the version before this **`MERGE`** statement completed."
   ]
  },
  {
   "cell_type": "code",
   "execution_count": 0,
   "metadata": {
    "application/vnd.databricks.v1+cell": {
     "cellMetadata": {
      "byteLimit": 2048000,
      "rowLimit": 10000
     },
     "inputWidgets": {},
     "nuid": "aee570a1-4e7f-4a30-868f-7b8a6eb48b9e",
     "showTitle": false,
     "tableResultSettingsMap": {},
     "title": ""
    }
   },
   "outputs": [
    {
     "output_type": "display_data",
     "data": {
      "text/html": [
       "<style scoped>\n",
       "  .table-result-container {\n",
       "    max-height: 300px;\n",
       "    overflow: auto;\n",
       "  }\n",
       "  table, th, td {\n",
       "    border: 1px solid black;\n",
       "    border-collapse: collapse;\n",
       "  }\n",
       "  th, td {\n",
       "    padding: 5px;\n",
       "  }\n",
       "  th {\n",
       "    text-align: left;\n",
       "  }\n",
       "</style><div class='table-result-container'><table class='table-result'><thead style='background-color: white'><tr><th>table_size_after_restore</th><th>num_of_files_after_restore</th><th>num_removed_files</th><th>num_restored_files</th><th>removed_files_size</th><th>restored_files_size</th></tr></thead><tbody><tr><td>1283</td><td>1</td><td>1</td><td>1</td><td>1330</td><td>1283</td></tr></tbody></table></div>"
      ]
     },
     "metadata": {
      "application/vnd.databricks.v1+output": {
       "addedWidgets": {},
       "aggData": [],
       "aggError": "",
       "aggOverflow": false,
       "aggSchema": [],
       "aggSeriesLimitReached": false,
       "aggType": "",
       "arguments": {},
       "columnCustomDisplayInfos": {},
       "data": [
        [
         1283,
         1,
         1,
         1,
         1330,
         1283
        ]
       ],
       "datasetInfos": [
        {
         "name": "_sqldf",
         "schema": {
          "fields": [
           {
            "metadata": {},
            "name": "table_size_after_restore",
            "nullable": true,
            "type": "long"
           },
           {
            "metadata": {},
            "name": "num_of_files_after_restore",
            "nullable": true,
            "type": "long"
           },
           {
            "metadata": {},
            "name": "num_removed_files",
            "nullable": true,
            "type": "long"
           },
           {
            "metadata": {},
            "name": "num_restored_files",
            "nullable": true,
            "type": "long"
           },
           {
            "metadata": {},
            "name": "removed_files_size",
            "nullable": true,
            "type": "long"
           },
           {
            "metadata": {},
            "name": "restored_files_size",
            "nullable": true,
            "type": "long"
           }
          ],
          "type": "struct"
         },
         "tableIdentifier": null,
         "typeStr": "pyspark.sql.connect.dataframe.DataFrame"
        }
       ],
       "dbfsResultPath": null,
       "isJsonSchema": true,
       "metadata": {
        "createTempViewForImplicitDf": true,
        "dataframeName": "_sqldf",
        "executionCount": 18
       },
       "overflow": false,
       "plotOptions": {
        "customPlotOptions": {},
        "displayType": "table",
        "pivotAggregation": null,
        "pivotColumns": null,
        "xColumns": null,
        "yColumns": null
       },
       "removedWidgets": [],
       "schema": [
        {
         "metadata": "{}",
         "name": "table_size_after_restore",
         "type": "\"long\""
        },
        {
         "metadata": "{}",
         "name": "num_of_files_after_restore",
         "type": "\"long\""
        },
        {
         "metadata": "{}",
         "name": "num_removed_files",
         "type": "\"long\""
        },
        {
         "metadata": "{}",
         "name": "num_restored_files",
         "type": "\"long\""
        },
        {
         "metadata": "{}",
         "name": "removed_files_size",
         "type": "\"long\""
        },
        {
         "metadata": "{}",
         "name": "restored_files_size",
         "type": "\"long\""
        }
       ],
       "type": "table"
      }
     },
     "output_type": "display_data"
    }
   ],
   "source": [
    "RESTORE TABLE beans TO VERSION AS OF 8;"
   ]
  },
  {
   "cell_type": "markdown",
   "metadata": {
    "application/vnd.databricks.v1+cell": {
     "cellMetadata": {},
     "inputWidgets": {},
     "nuid": "eac5ddbb-3e12-4133-a71c-8bdd4375a283",
     "showTitle": false,
     "tableResultSettingsMap": {},
     "title": ""
    }
   },
   "source": [
    "Review the history of your table. Make note of the fact that restoring to a previous version adds another table version."
   ]
  },
  {
   "cell_type": "code",
   "execution_count": 0,
   "metadata": {
    "application/vnd.databricks.v1+cell": {
     "cellMetadata": {
      "byteLimit": 2048000,
      "rowLimit": 10000
     },
     "inputWidgets": {},
     "nuid": "b10280b4-3516-4691-b70b-c6d5559181bb",
     "showTitle": false,
     "tableResultSettingsMap": {},
     "title": ""
    }
   },
   "outputs": [
    {
     "output_type": "display_data",
     "data": {
      "text/html": [
       "<style scoped>\n",
       "  .table-result-container {\n",
       "    max-height: 300px;\n",
       "    overflow: auto;\n",
       "  }\n",
       "  table, th, td {\n",
       "    border: 1px solid black;\n",
       "    border-collapse: collapse;\n",
       "  }\n",
       "  th, td {\n",
       "    padding: 5px;\n",
       "  }\n",
       "  th {\n",
       "    text-align: left;\n",
       "  }\n",
       "</style><div class='table-result-container'><table class='table-result'><thead style='background-color: white'><tr><th>version</th><th>timestamp</th><th>userId</th><th>userName</th><th>operation</th><th>operationParameters</th><th>job</th><th>notebook</th><th>clusterId</th><th>readVersion</th><th>isolationLevel</th><th>isBlindAppend</th><th>operationMetrics</th><th>userMetadata</th><th>engineInfo</th></tr></thead><tbody><tr><td>11</td><td>2025-01-30T18:21:38.000Z</td><td>1401283921468378</td><td>labuser9051024_1738251370@vocareum.com</td><td>RESTORE</td><td>Map(version -> 8, timestamp -> null)</td><td>null</td><td>null</td><td>0130-181610-4q2fislr-v2n</td><td>10</td><td>Serializable</td><td>false</td><td>Map(numRestoredFiles -> 1, removedFilesSize -> 1330, numRemovedFiles -> 1, restoredFilesSize -> 1283, numOfFilesAfterRestore -> 1, tableSizeAfterRestore -> 1283)</td><td>null</td><td>Databricks-Runtime/16.1.x-photon-scala2.12</td></tr><tr><td>10</td><td>2025-01-30T18:18:02.000Z</td><td>1401283921468378</td><td>labuser9051024_1738251370@vocareum.com</td><td>OPTIMIZE</td><td>Map(predicate -> [], auto -> true, clusterBy -> [], zOrderBy -> [], batchId -> 0)</td><td>null</td><td>null</td><td>0130-181610-4q2fislr-v2n</td><td>9</td><td>SnapshotIsolation</td><td>false</td><td>Map(numRemovedFiles -> 4, numRemovedBytes -> 4783, p25FileSize -> 1330, numDeletionVectorsRemoved -> 1, minFileSize -> 1330, numAddedFiles -> 1, maxFileSize -> 1330, p75FileSize -> 1330, p50FileSize -> 1330, numAddedBytes -> 1330)</td><td>null</td><td>Databricks-Runtime/16.1.x-photon-scala2.12</td></tr><tr><td>9</td><td>2025-01-30T18:18:01.000Z</td><td>1401283921468378</td><td>labuser9051024_1738251370@vocareum.com</td><td>MERGE</td><td>Map(predicate -> [\"((name#18344 = name#18336) AND (color#18345 = color#18337))\"], clusterBy -> [], matchedPredicates -> [{\"actionType\":\"update\"}], statsOnLoad -> false, notMatchedBySourcePredicates -> [], notMatchedPredicates -> [{\"predicate\":\"delicious#18339: boolean\",\"actionType\":\"insert\"}])</td><td>null</td><td>null</td><td>0130-181610-4q2fislr-v2n</td><td>8</td><td>WriteSerializable</td><td>false</td><td>Map(numTargetRowsCopied -> 0, numTargetRowsDeleted -> 0, numTargetFilesAdded -> 3, numTargetBytesAdded -> 3500, numTargetBytesRemoved -> 0, numTargetDeletionVectorsAdded -> 1, numTargetRowsMatchedUpdated -> 1, executionTimeMs -> 1314, materializeSourceTimeMs -> 57, numTargetRowsInserted -> 2, numTargetRowsMatchedDeleted -> 0, numTargetDeletionVectorsUpdated -> 0, scanTimeMs -> 531, numTargetRowsUpdated -> 1, numOutputRows -> 3, numTargetDeletionVectorsRemoved -> 0, numTargetRowsNotMatchedBySourceUpdated -> 0, numTargetChangeFilesAdded -> 0, numSourceRows -> 4, numTargetFilesRemoved -> 0, numTargetRowsNotMatchedBySourceDeleted -> 0, rewriteTimeMs -> 694)</td><td>null</td><td>Databricks-Runtime/16.1.x-photon-scala2.12</td></tr><tr><td>8</td><td>2025-01-30T18:17:59.000Z</td><td>1401283921468378</td><td>labuser9051024_1738251370@vocareum.com</td><td>OPTIMIZE</td><td>Map(predicate -> [], auto -> true, clusterBy -> [], zOrderBy -> [], batchId -> 0)</td><td>null</td><td>null</td><td>0130-181610-4q2fislr-v2n</td><td>7</td><td>SnapshotIsolation</td><td>false</td><td>Map(numRemovedFiles -> 1, numRemovedBytes -> 1326, p25FileSize -> 1283, numDeletionVectorsRemoved -> 1, minFileSize -> 1283, numAddedFiles -> 1, maxFileSize -> 1283, p75FileSize -> 1283, p50FileSize -> 1283, numAddedBytes -> 1283)</td><td>null</td><td>Databricks-Runtime/16.1.x-photon-scala2.12</td></tr><tr><td>7</td><td>2025-01-30T18:17:58.000Z</td><td>1401283921468378</td><td>labuser9051024_1738251370@vocareum.com</td><td>DELETE</td><td>Map(predicate -> [\"NOT delicious#17843\"])</td><td>null</td><td>null</td><td>0130-181610-4q2fislr-v2n</td><td>5</td><td>WriteSerializable</td><td>false</td><td>Map(numRemovedFiles -> 0, numRemovedBytes -> 0, numCopiedRows -> 0, numDeletionVectorsAdded -> 1, numDeletionVectorsRemoved -> 1, numAddedChangeFiles -> 0, executionTimeMs -> 420, conflictDetectionTimeMs -> 125, numDeletionVectorsUpdated -> 1, numDeletedRows -> 1, scanTimeMs -> 254, numAddedFiles -> 0, numAddedBytes -> 0, rewriteTimeMs -> 166)</td><td>null</td><td>Databricks-Runtime/16.1.x-photon-scala2.12</td></tr><tr><td>6</td><td>2025-01-30T18:17:57.000Z</td><td>1401283921468378</td><td>labuser9051024_1738251370@vocareum.com</td><td>OPTIMIZE</td><td>Map(predicate -> [], auto -> true, clusterBy -> [], zOrderBy -> [], batchId -> 0)</td><td>null</td><td>null</td><td>0130-181610-4q2fislr-v2n</td><td>5</td><td>SnapshotIsolation</td><td>false</td><td>Map(numRemovedFiles -> 2, numRemovedBytes -> 2490, p25FileSize -> 1326, numDeletionVectorsRemoved -> 1, minFileSize -> 1326, numAddedFiles -> 1, maxFileSize -> 1326, p75FileSize -> 1326, p50FileSize -> 1326, numAddedBytes -> 1326)</td><td>null</td><td>Databricks-Runtime/16.1.x-photon-scala2.12</td></tr><tr><td>5</td><td>2025-01-30T18:17:56.001Z</td><td>1401283921468378</td><td>labuser9051024_1738251370@vocareum.com</td><td>UPDATE</td><td>Map(predicate -> [\"(name#17103 = pinto)\"])</td><td>null</td><td>null</td><td>0130-181610-4q2fislr-v2n</td><td>3</td><td>WriteSerializable</td><td>false</td><td>Map(numRemovedFiles -> 0, numRemovedBytes -> 0, numCopiedRows -> 0, numDeletionVectorsAdded -> 1, numDeletionVectorsRemoved -> 0, numAddedChangeFiles -> 0, executionTimeMs -> 742, conflictDetectionTimeMs -> 157, numDeletionVectorsUpdated -> 0, scanTimeMs -> 269, numAddedFiles -> 1, numUpdatedRows -> 1, numAddedBytes -> 1164, rewriteTimeMs -> 473)</td><td>null</td><td>Databricks-Runtime/16.1.x-photon-scala2.12</td></tr><tr><td>4</td><td>2025-01-30T18:17:56.000Z</td><td>1401283921468378</td><td>labuser9051024_1738251370@vocareum.com</td><td>OPTIMIZE</td><td>Map(predicate -> [], auto -> true, clusterBy -> [], zOrderBy -> [], batchId -> 0)</td><td>null</td><td>null</td><td>0130-181610-4q2fislr-v2n</td><td>3</td><td>SnapshotIsolation</td><td>false</td><td>Map(numRemovedFiles -> 3, numRemovedBytes -> 3587, p25FileSize -> 1326, numDeletionVectorsRemoved -> 1, minFileSize -> 1326, numAddedFiles -> 1, maxFileSize -> 1326, p75FileSize -> 1326, p50FileSize -> 1326, numAddedBytes -> 1326)</td><td>null</td><td>Databricks-Runtime/16.1.x-photon-scala2.12</td></tr><tr><td>3</td><td>2025-01-30T18:17:55.000Z</td><td>1401283921468378</td><td>labuser9051024_1738251370@vocareum.com</td><td>UPDATE</td><td>Map(predicate -> [\"(name#16501 = jelly)\"])</td><td>null</td><td>null</td><td>0130-181610-4q2fislr-v2n</td><td>2</td><td>WriteSerializable</td><td>false</td><td>Map(numRemovedFiles -> 0, numRemovedBytes -> 0, numCopiedRows -> 0, numDeletionVectorsAdded -> 1, numDeletionVectorsRemoved -> 0, numAddedChangeFiles -> 0, executionTimeMs -> 1010, numDeletionVectorsUpdated -> 0, scanTimeMs -> 501, numAddedFiles -> 1, numUpdatedRows -> 1, numAddedBytes -> 1175, rewriteTimeMs -> 509)</td><td>null</td><td>Databricks-Runtime/16.1.x-photon-scala2.12</td></tr><tr><td>2</td><td>2025-01-30T18:17:53.000Z</td><td>1401283921468378</td><td>labuser9051024_1738251370@vocareum.com</td><td>WRITE</td><td>Map(mode -> Append, statsOnLoad -> false, partitionBy -> [])</td><td>null</td><td>null</td><td>0130-181610-4q2fislr-v2n</td><td>1</td><td>WriteSerializable</td><td>true</td><td>Map(numFiles -> 1, numOutputRows -> 3, numOutputBytes -> 1212)</td><td>null</td><td>Databricks-Runtime/16.1.x-photon-scala2.12</td></tr><tr><td>1</td><td>2025-01-30T18:17:51.000Z</td><td>1401283921468378</td><td>labuser9051024_1738251370@vocareum.com</td><td>WRITE</td><td>Map(mode -> Append, statsOnLoad -> false, partitionBy -> [])</td><td>null</td><td>null</td><td>0130-181610-4q2fislr-v2n</td><td>0</td><td>WriteSerializable</td><td>true</td><td>Map(numFiles -> 1, numOutputRows -> 3, numOutputBytes -> 1200)</td><td>null</td><td>Databricks-Runtime/16.1.x-photon-scala2.12</td></tr><tr><td>0</td><td>2025-01-30T18:17:50.000Z</td><td>1401283921468378</td><td>labuser9051024_1738251370@vocareum.com</td><td>CREATE OR REPLACE TABLE</td><td>Map(partitionBy -> [], clusterBy -> [], description -> null, isManaged -> true, properties -> {\"delta.enableDeletionVectors\":\"true\"}, statsOnLoad -> false)</td><td>null</td><td>null</td><td>0130-181610-4q2fislr-v2n</td><td>null</td><td>WriteSerializable</td><td>true</td><td>Map()</td><td>null</td><td>Databricks-Runtime/16.1.x-photon-scala2.12</td></tr></tbody></table></div>"
      ]
     },
     "metadata": {
      "application/vnd.databricks.v1+output": {
       "addedWidgets": {},
       "aggData": [],
       "aggError": "",
       "aggOverflow": false,
       "aggSchema": [],
       "aggSeriesLimitReached": false,
       "aggType": "",
       "arguments": {},
       "columnCustomDisplayInfos": {},
       "data": [
        [
         11,
         "2025-01-30T18:21:38.000Z",
         "1401283921468378",
         "labuser9051024_1738251370@vocareum.com",
         "RESTORE",
         {
          "timestamp": null,
          "version": "8"
         },
         null,
         null,
         "0130-181610-4q2fislr-v2n",
         10,
         "Serializable",
         false,
         {
          "numOfFilesAfterRestore": "1",
          "numRemovedFiles": "1",
          "numRestoredFiles": "1",
          "removedFilesSize": "1330",
          "restoredFilesSize": "1283",
          "tableSizeAfterRestore": "1283"
         },
         null,
         "Databricks-Runtime/16.1.x-photon-scala2.12"
        ],
        [
         10,
         "2025-01-30T18:18:02.000Z",
         "1401283921468378",
         "labuser9051024_1738251370@vocareum.com",
         "OPTIMIZE",
         {
          "auto": "true",
          "batchId": "0",
          "clusterBy": "[]",
          "predicate": "[]",
          "zOrderBy": "[]"
         },
         null,
         null,
         "0130-181610-4q2fislr-v2n",
         9,
         "SnapshotIsolation",
         false,
         {
          "maxFileSize": "1330",
          "minFileSize": "1330",
          "numAddedBytes": "1330",
          "numAddedFiles": "1",
          "numDeletionVectorsRemoved": "1",
          "numRemovedBytes": "4783",
          "numRemovedFiles": "4",
          "p25FileSize": "1330",
          "p50FileSize": "1330",
          "p75FileSize": "1330"
         },
         null,
         "Databricks-Runtime/16.1.x-photon-scala2.12"
        ],
        [
         9,
         "2025-01-30T18:18:01.000Z",
         "1401283921468378",
         "labuser9051024_1738251370@vocareum.com",
         "MERGE",
         {
          "clusterBy": "[]",
          "matchedPredicates": "[{\"actionType\":\"update\"}]",
          "notMatchedBySourcePredicates": "[]",
          "notMatchedPredicates": "[{\"predicate\":\"delicious#18339: boolean\",\"actionType\":\"insert\"}]",
          "predicate": "[\"((name#18344 = name#18336) AND (color#18345 = color#18337))\"]",
          "statsOnLoad": "false"
         },
         null,
         null,
         "0130-181610-4q2fislr-v2n",
         8,
         "WriteSerializable",
         false,
         {
          "executionTimeMs": "1314",
          "materializeSourceTimeMs": "57",
          "numOutputRows": "3",
          "numSourceRows": "4",
          "numTargetBytesAdded": "3500",
          "numTargetBytesRemoved": "0",
          "numTargetChangeFilesAdded": "0",
          "numTargetDeletionVectorsAdded": "1",
          "numTargetDeletionVectorsRemoved": "0",
          "numTargetDeletionVectorsUpdated": "0",
          "numTargetFilesAdded": "3",
          "numTargetFilesRemoved": "0",
          "numTargetRowsCopied": "0",
          "numTargetRowsDeleted": "0",
          "numTargetRowsInserted": "2",
          "numTargetRowsMatchedDeleted": "0",
          "numTargetRowsMatchedUpdated": "1",
          "numTargetRowsNotMatchedBySourceDeleted": "0",
          "numTargetRowsNotMatchedBySourceUpdated": "0",
          "numTargetRowsUpdated": "1",
          "rewriteTimeMs": "694",
          "scanTimeMs": "531"
         },
         null,
         "Databricks-Runtime/16.1.x-photon-scala2.12"
        ],
        [
         8,
         "2025-01-30T18:17:59.000Z",
         "1401283921468378",
         "labuser9051024_1738251370@vocareum.com",
         "OPTIMIZE",
         {
          "auto": "true",
          "batchId": "0",
          "clusterBy": "[]",
          "predicate": "[]",
          "zOrderBy": "[]"
         },
         null,
         null,
         "0130-181610-4q2fislr-v2n",
         7,
         "SnapshotIsolation",
         false,
         {
          "maxFileSize": "1283",
          "minFileSize": "1283",
          "numAddedBytes": "1283",
          "numAddedFiles": "1",
          "numDeletionVectorsRemoved": "1",
          "numRemovedBytes": "1326",
          "numRemovedFiles": "1",
          "p25FileSize": "1283",
          "p50FileSize": "1283",
          "p75FileSize": "1283"
         },
         null,
         "Databricks-Runtime/16.1.x-photon-scala2.12"
        ],
        [
         7,
         "2025-01-30T18:17:58.000Z",
         "1401283921468378",
         "labuser9051024_1738251370@vocareum.com",
         "DELETE",
         {
          "predicate": "[\"NOT delicious#17843\"]"
         },
         null,
         null,
         "0130-181610-4q2fislr-v2n",
         5,
         "WriteSerializable",
         false,
         {
          "conflictDetectionTimeMs": "125",
          "executionTimeMs": "420",
          "numAddedBytes": "0",
          "numAddedChangeFiles": "0",
          "numAddedFiles": "0",
          "numCopiedRows": "0",
          "numDeletedRows": "1",
          "numDeletionVectorsAdded": "1",
          "numDeletionVectorsRemoved": "1",
          "numDeletionVectorsUpdated": "1",
          "numRemovedBytes": "0",
          "numRemovedFiles": "0",
          "rewriteTimeMs": "166",
          "scanTimeMs": "254"
         },
         null,
         "Databricks-Runtime/16.1.x-photon-scala2.12"
        ],
        [
         6,
         "2025-01-30T18:17:57.000Z",
         "1401283921468378",
         "labuser9051024_1738251370@vocareum.com",
         "OPTIMIZE",
         {
          "auto": "true",
          "batchId": "0",
          "clusterBy": "[]",
          "predicate": "[]",
          "zOrderBy": "[]"
         },
         null,
         null,
         "0130-181610-4q2fislr-v2n",
         5,
         "SnapshotIsolation",
         false,
         {
          "maxFileSize": "1326",
          "minFileSize": "1326",
          "numAddedBytes": "1326",
          "numAddedFiles": "1",
          "numDeletionVectorsRemoved": "1",
          "numRemovedBytes": "2490",
          "numRemovedFiles": "2",
          "p25FileSize": "1326",
          "p50FileSize": "1326",
          "p75FileSize": "1326"
         },
         null,
         "Databricks-Runtime/16.1.x-photon-scala2.12"
        ],
        [
         5,
         "2025-01-30T18:17:56.001Z",
         "1401283921468378",
         "labuser9051024_1738251370@vocareum.com",
         "UPDATE",
         {
          "predicate": "[\"(name#17103 = pinto)\"]"
         },
         null,
         null,
         "0130-181610-4q2fislr-v2n",
         3,
         "WriteSerializable",
         false,
         {
          "conflictDetectionTimeMs": "157",
          "executionTimeMs": "742",
          "numAddedBytes": "1164",
          "numAddedChangeFiles": "0",
          "numAddedFiles": "1",
          "numCopiedRows": "0",
          "numDeletionVectorsAdded": "1",
          "numDeletionVectorsRemoved": "0",
          "numDeletionVectorsUpdated": "0",
          "numRemovedBytes": "0",
          "numRemovedFiles": "0",
          "numUpdatedRows": "1",
          "rewriteTimeMs": "473",
          "scanTimeMs": "269"
         },
         null,
         "Databricks-Runtime/16.1.x-photon-scala2.12"
        ],
        [
         4,
         "2025-01-30T18:17:56.000Z",
         "1401283921468378",
         "labuser9051024_1738251370@vocareum.com",
         "OPTIMIZE",
         {
          "auto": "true",
          "batchId": "0",
          "clusterBy": "[]",
          "predicate": "[]",
          "zOrderBy": "[]"
         },
         null,
         null,
         "0130-181610-4q2fislr-v2n",
         3,
         "SnapshotIsolation",
         false,
         {
          "maxFileSize": "1326",
          "minFileSize": "1326",
          "numAddedBytes": "1326",
          "numAddedFiles": "1",
          "numDeletionVectorsRemoved": "1",
          "numRemovedBytes": "3587",
          "numRemovedFiles": "3",
          "p25FileSize": "1326",
          "p50FileSize": "1326",
          "p75FileSize": "1326"
         },
         null,
         "Databricks-Runtime/16.1.x-photon-scala2.12"
        ],
        [
         3,
         "2025-01-30T18:17:55.000Z",
         "1401283921468378",
         "labuser9051024_1738251370@vocareum.com",
         "UPDATE",
         {
          "predicate": "[\"(name#16501 = jelly)\"]"
         },
         null,
         null,
         "0130-181610-4q2fislr-v2n",
         2,
         "WriteSerializable",
         false,
         {
          "executionTimeMs": "1010",
          "numAddedBytes": "1175",
          "numAddedChangeFiles": "0",
          "numAddedFiles": "1",
          "numCopiedRows": "0",
          "numDeletionVectorsAdded": "1",
          "numDeletionVectorsRemoved": "0",
          "numDeletionVectorsUpdated": "0",
          "numRemovedBytes": "0",
          "numRemovedFiles": "0",
          "numUpdatedRows": "1",
          "rewriteTimeMs": "509",
          "scanTimeMs": "501"
         },
         null,
         "Databricks-Runtime/16.1.x-photon-scala2.12"
        ],
        [
         2,
         "2025-01-30T18:17:53.000Z",
         "1401283921468378",
         "labuser9051024_1738251370@vocareum.com",
         "WRITE",
         {
          "mode": "Append",
          "partitionBy": "[]",
          "statsOnLoad": "false"
         },
         null,
         null,
         "0130-181610-4q2fislr-v2n",
         1,
         "WriteSerializable",
         true,
         {
          "numFiles": "1",
          "numOutputBytes": "1212",
          "numOutputRows": "3"
         },
         null,
         "Databricks-Runtime/16.1.x-photon-scala2.12"
        ],
        [
         1,
         "2025-01-30T18:17:51.000Z",
         "1401283921468378",
         "labuser9051024_1738251370@vocareum.com",
         "WRITE",
         {
          "mode": "Append",
          "partitionBy": "[]",
          "statsOnLoad": "false"
         },
         null,
         null,
         "0130-181610-4q2fislr-v2n",
         0,
         "WriteSerializable",
         true,
         {
          "numFiles": "1",
          "numOutputBytes": "1200",
          "numOutputRows": "3"
         },
         null,
         "Databricks-Runtime/16.1.x-photon-scala2.12"
        ],
        [
         0,
         "2025-01-30T18:17:50.000Z",
         "1401283921468378",
         "labuser9051024_1738251370@vocareum.com",
         "CREATE OR REPLACE TABLE",
         {
          "clusterBy": "[]",
          "description": null,
          "isManaged": "true",
          "partitionBy": "[]",
          "properties": "{\"delta.enableDeletionVectors\":\"true\"}",
          "statsOnLoad": "false"
         },
         null,
         null,
         "0130-181610-4q2fislr-v2n",
         null,
         "WriteSerializable",
         true,
         {},
         null,
         "Databricks-Runtime/16.1.x-photon-scala2.12"
        ]
       ],
       "datasetInfos": [
        {
         "name": "_sqldf",
         "schema": {
          "fields": [
           {
            "metadata": {},
            "name": "version",
            "nullable": true,
            "type": "long"
           },
           {
            "metadata": {},
            "name": "timestamp",
            "nullable": true,
            "type": "timestamp"
           },
           {
            "metadata": {},
            "name": "userId",
            "nullable": true,
            "type": "string"
           },
           {
            "metadata": {},
            "name": "userName",
            "nullable": true,
            "type": "string"
           },
           {
            "metadata": {},
            "name": "operation",
            "nullable": true,
            "type": "string"
           },
           {
            "metadata": {},
            "name": "operationParameters",
            "nullable": true,
            "type": {
             "keyType": "string",
             "type": "map",
             "valueContainsNull": true,
             "valueType": "string"
            }
           },
           {
            "metadata": {},
            "name": "job",
            "nullable": true,
            "type": {
             "fields": [
              {
               "metadata": {},
               "name": "jobId",
               "nullable": true,
               "type": "string"
              },
              {
               "metadata": {},
               "name": "jobName",
               "nullable": true,
               "type": "string"
              },
              {
               "metadata": {},
               "name": "jobRunId",
               "nullable": true,
               "type": "string"
              },
              {
               "metadata": {},
               "name": "runId",
               "nullable": true,
               "type": "string"
              },
              {
               "metadata": {},
               "name": "jobOwnerId",
               "nullable": true,
               "type": "string"
              },
              {
               "metadata": {},
               "name": "triggerType",
               "nullable": true,
               "type": "string"
              }
             ],
             "type": "struct"
            }
           },
           {
            "metadata": {},
            "name": "notebook",
            "nullable": true,
            "type": {
             "fields": [
              {
               "metadata": {},
               "name": "notebookId",
               "nullable": true,
               "type": "string"
              }
             ],
             "type": "struct"
            }
           },
           {
            "metadata": {},
            "name": "clusterId",
            "nullable": true,
            "type": "string"
           },
           {
            "metadata": {},
            "name": "readVersion",
            "nullable": true,
            "type": "long"
           },
           {
            "metadata": {},
            "name": "isolationLevel",
            "nullable": true,
            "type": "string"
           },
           {
            "metadata": {},
            "name": "isBlindAppend",
            "nullable": true,
            "type": "boolean"
           },
           {
            "metadata": {},
            "name": "operationMetrics",
            "nullable": true,
            "type": {
             "keyType": "string",
             "type": "map",
             "valueContainsNull": true,
             "valueType": "string"
            }
           },
           {
            "metadata": {},
            "name": "userMetadata",
            "nullable": true,
            "type": "string"
           },
           {
            "metadata": {},
            "name": "engineInfo",
            "nullable": true,
            "type": "string"
           }
          ],
          "type": "struct"
         },
         "tableIdentifier": null,
         "typeStr": "pyspark.sql.connect.dataframe.DataFrame"
        }
       ],
       "dbfsResultPath": null,
       "isJsonSchema": true,
       "metadata": {
        "createTempViewForImplicitDf": true,
        "dataframeName": "_sqldf",
        "executionCount": 19
       },
       "overflow": false,
       "plotOptions": {
        "customPlotOptions": {},
        "displayType": "table",
        "pivotAggregation": null,
        "pivotColumns": null,
        "xColumns": null,
        "yColumns": null
       },
       "removedWidgets": [],
       "schema": [
        {
         "metadata": "{}",
         "name": "version",
         "type": "\"long\""
        },
        {
         "metadata": "{}",
         "name": "timestamp",
         "type": "\"timestamp\""
        },
        {
         "metadata": "{}",
         "name": "userId",
         "type": "\"string\""
        },
        {
         "metadata": "{}",
         "name": "userName",
         "type": "\"string\""
        },
        {
         "metadata": "{}",
         "name": "operation",
         "type": "\"string\""
        },
        {
         "metadata": "{}",
         "name": "operationParameters",
         "type": "{\"keyType\":\"string\",\"type\":\"map\",\"valueContainsNull\":true,\"valueType\":\"string\"}"
        },
        {
         "metadata": "{}",
         "name": "job",
         "type": "{\"fields\":[{\"metadata\":{},\"name\":\"jobId\",\"nullable\":true,\"type\":\"string\"},{\"metadata\":{},\"name\":\"jobName\",\"nullable\":true,\"type\":\"string\"},{\"metadata\":{},\"name\":\"jobRunId\",\"nullable\":true,\"type\":\"string\"},{\"metadata\":{},\"name\":\"runId\",\"nullable\":true,\"type\":\"string\"},{\"metadata\":{},\"name\":\"jobOwnerId\",\"nullable\":true,\"type\":\"string\"},{\"metadata\":{},\"name\":\"triggerType\",\"nullable\":true,\"type\":\"string\"}],\"type\":\"struct\"}"
        },
        {
         "metadata": "{}",
         "name": "notebook",
         "type": "{\"fields\":[{\"metadata\":{},\"name\":\"notebookId\",\"nullable\":true,\"type\":\"string\"}],\"type\":\"struct\"}"
        },
        {
         "metadata": "{}",
         "name": "clusterId",
         "type": "\"string\""
        },
        {
         "metadata": "{}",
         "name": "readVersion",
         "type": "\"long\""
        },
        {
         "metadata": "{}",
         "name": "isolationLevel",
         "type": "\"string\""
        },
        {
         "metadata": "{}",
         "name": "isBlindAppend",
         "type": "\"boolean\""
        },
        {
         "metadata": "{}",
         "name": "operationMetrics",
         "type": "{\"keyType\":\"string\",\"type\":\"map\",\"valueContainsNull\":true,\"valueType\":\"string\"}"
        },
        {
         "metadata": "{}",
         "name": "userMetadata",
         "type": "\"string\""
        },
        {
         "metadata": "{}",
         "name": "engineInfo",
         "type": "\"string\""
        }
       ],
       "type": "table"
      }
     },
     "output_type": "display_data"
    }
   ],
   "source": [
    "DESCRIBE HISTORY beans;"
   ]
  },
  {
   "cell_type": "code",
   "execution_count": 0,
   "metadata": {
    "application/vnd.databricks.v1+cell": {
     "cellMetadata": {
      "byteLimit": 2048000,
      "rowLimit": 10000
     },
     "inputWidgets": {},
     "nuid": "898cdb23-08ab-47fb-ad5b-6c699c4868f1",
     "showTitle": false,
     "tableResultSettingsMap": {},
     "title": ""
    }
   },
   "outputs": [],
   "source": [
    "%python\n",
    "last_tx = spark.conf.get(\"spark.databricks.delta.lastCommitVersionInSession\")\n",
    "assert spark.sql(f\"DESCRIBE HISTORY beans\").select(\"operation\").first()[0] == \"RESTORE\", \"Make sure you reverted your table with the `RESTORE` keyword\"\n",
    "assert spark.table(\"beans\").count() == 5, \"Make sure you reverted to the version after deleting records but before merging\""
   ]
  },
  {
   "cell_type": "markdown",
   "metadata": {
    "application/vnd.databricks.v1+cell": {
     "cellMetadata": {},
     "inputWidgets": {},
     "nuid": "e9debe09-4471-4ebd-950b-c11f56cdf0f5",
     "showTitle": false,
     "tableResultSettingsMap": {},
     "title": ""
    }
   },
   "source": [
    "By completing this lab, you should now feel comfortable:\n",
    "* Completing standard Delta Lake table creation and data manipulation commands\n",
    "* Reviewing table metadata including table history\n",
    "* Leverage Delta Lake versioning for snapshot queries and rollbacks"
   ]
  },
  {
   "cell_type": "markdown",
   "metadata": {
    "application/vnd.databricks.v1+cell": {
     "cellMetadata": {},
     "inputWidgets": {},
     "nuid": "16534377-1e14-4d27-ad6c-c22a98208b98",
     "showTitle": false,
     "tableResultSettingsMap": {},
     "title": ""
    }
   },
   "source": [
    "\n",
    "&copy; 2025 Databricks, Inc. All rights reserved.<br/>\n",
    "Apache, Apache Spark, Spark and the Spark logo are trademarks of the \n",
    "<a href=\"https://www.apache.org/\">Apache Software Foundation</a>.<br/>\n",
    "<br/><a href=\"https://databricks.com/privacy-policy\">Privacy Policy</a> | \n",
    "<a href=\"https://databricks.com/terms-of-use\">Terms of Use</a> | \n",
    "<a href=\"https://help.databricks.com/\">Support</a>"
   ]
  }
 ],
 "metadata": {
  "application/vnd.databricks.v1+notebook": {
   "computePreferences": null,
   "dashboards": [],
   "environmentMetadata": null,
   "language": "sql",
   "notebookMetadata": {
    "pythonIndentUnit": 4
   },
   "notebookName": "8L - Manipulate Delta Tables Lab",
   "widgets": {}
  },
  "language_info": {
   "name": "sql"
  }
 },
 "nbformat": 4,
 "nbformat_minor": 0
}