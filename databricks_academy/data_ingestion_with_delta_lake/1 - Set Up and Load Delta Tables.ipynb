{
 "cells": [
  {
   "cell_type": "markdown",
   "metadata": {
    "application/vnd.databricks.v1+cell": {
     "cellMetadata": {
      "byteLimit": 2048000,
      "rowLimit": 10000
     },
     "inputWidgets": {},
     "nuid": "7e3d5995-10fe-4b42-b224-b23301121d64",
     "showTitle": false,
     "tableResultSettingsMap": {},
     "title": ""
    }
   },
   "source": [
    "\n",
    "<div style=\"text-align: center; line-height: 0; padding-top: 9px;\">\n",
    "  <img src=\"https://databricks.com/wp-content/uploads/2018/03/db-academy-rgb-1200px.png\" alt=\"Databricks Learning\">\n",
    "</div>\n"
   ]
  },
  {
   "cell_type": "markdown",
   "metadata": {
    "application/vnd.databricks.v1+cell": {
     "cellMetadata": {
      "byteLimit": 2048000,
      "rowLimit": 10000
     },
     "inputWidgets": {},
     "nuid": "79635bf5-8bed-4737-b0bf-996a7795d63a",
     "showTitle": false,
     "tableResultSettingsMap": {},
     "title": ""
    }
   },
   "source": [
    "# Set Up and Load Delta Tables\n",
    "\n",
    "After extracting data from external data sources, load data into the Lakehouse to ensure that all of the benefits of the Databricks platform can be fully leveraged.\n",
    "\n",
    "While different organizations may have varying policies for how data is initially loaded into Databricks, we typically recommend that early tables represent a mostly raw version of the data, and that validation and enrichment occur in later stages. This pattern ensures that even if data doesn't match expectations with regards to data types or column names, no data will be dropped, meaning that programmatic or manual intervention can still salvage data in a partially corrupted or invalid state.\n",
    "\n",
    "This lesson will focus primarily on the pattern used to create most tables, **`CREATE TABLE _ AS SELECT`** (CTAS) statements.\n",
    "\n",
    "## Learning Objectives\n",
    "By the end of this lesson, you should be able to:\n",
    "- Use CTAS statements to create Delta Lake tables\n",
    "- Create new tables from existing views or tables\n",
    "- Enrich loaded data with additional metadata"
   ]
  },
  {
   "cell_type": "markdown",
   "metadata": {
    "application/vnd.databricks.v1+cell": {
     "cellMetadata": {
      "byteLimit": 2048000,
      "rowLimit": 10000
     },
     "inputWidgets": {},
     "nuid": "709355e8-5963-4f33-862a-3af8fa3381e8",
     "showTitle": false,
     "tableResultSettingsMap": {},
     "title": ""
    }
   },
   "source": [
    "## REQUIRED - SELECT CLASSIC COMPUTE\n",
    "\n",
    "Before executing cells in this notebook, please select your classic compute cluster in the lab. Be aware that **Serverless** is enabled by default.\n",
    "\n",
    "Follow these steps to select the classic compute cluster:\n",
    "\n",
    "1. Navigate to the top-right of this notebook and click the drop-down menu to select your cluster. By default, the notebook will use **Serverless**.\n",
    "\n",
    "1. If your cluster is available, select it and continue to the next cell. If the cluster is not shown:\n",
    "\n",
    "  - In the drop-down, select **More**.\n",
    "\n",
    "  - In the **Attach to an existing compute resource** pop-up, select the first drop-down. You will see a unique cluster name in that drop-down. Please select that cluster.\n",
    "\n",
    "**NOTE:** If your cluster has terminated, you might need to restart it in order to select it. To do this:\n",
    "\n",
    "1. Right-click on **Compute** in the left navigation pane and select *Open in new tab*.\n",
    "\n",
    "1. Find the triangle icon to the right of your compute cluster name and click it.\n",
    "\n",
    "1. Wait a few minutes for the cluster to start.\n",
    "\n",
    "1. Once the cluster is running, complete the steps above to select your cluster."
   ]
  },
  {
   "cell_type": "markdown",
   "metadata": {
    "application/vnd.databricks.v1+cell": {
     "cellMetadata": {
      "byteLimit": 2048000,
      "rowLimit": 10000
     },
     "inputWidgets": {},
     "nuid": "08a2e306-88d2-42d4-909f-062eddc9dc5a",
     "showTitle": false,
     "tableResultSettingsMap": {},
     "title": ""
    }
   },
   "source": [
    "## Classroom Setup\n",
    "\n",
    "Run the following cell to configure your working environment for this course. It will also set your default catalog to **dbacademy** and the schema to your specific schema name shown below using the `USE` statements.\n",
    "<br></br>\n",
    "\n",
    "\n",
    "```\n",
    "USE CATALOG dbacademy;\n",
    "USE SCHEMA dbacademy.<your unique schema name>;\n",
    "```\n",
    "\n",
    "**NOTE:** The `DA` object is only used in Databricks Academy courses and is not available outside of these courses. It will dynamically reference the information needed to run the course."
   ]
  },
  {
   "cell_type": "code",
   "execution_count": 0,
   "metadata": {
    "application/vnd.databricks.v1+cell": {
     "cellMetadata": {
      "byteLimit": 2048000,
      "rowLimit": 10000
     },
     "inputWidgets": {},
     "nuid": "aee17043-e6c9-4f51-9a21-e1b132627436",
     "showTitle": false,
     "tableResultSettingsMap": {},
     "title": ""
    }
   },
   "outputs": [
    {
     "output_type": "stream",
     "name": "stdout",
     "output_type": "stream",
     "text": [
      "\u001B[43mNote: you may need to restart the kernel using %restart_python or dbutils.library.restartPython() to use updated packages.\u001B[0m\n"
     ]
    },
    {
     "output_type": "display_data",
     "data": {
      "text/html": [
       "<table style=\"width:100%\">\n",
       "            <tr>\n",
       "                <td style=\"white-space:nowrap; width:1em\">Course Catalog:</td>\n",
       "                <td><input type=\"text\" value=\"dbacademy\" style=\"width: 100%\"></td></tr>\n",
       "            <tr>\n",
       "                <td style=\"white-space:nowrap; width:1em\">Your Schema:</td>\n",
       "                <td><input type=\"text\" value=\"labuser9051024_1737999152\" style=\"width: 100%\"></td></tr></table>"
      ]
     },
     "metadata": {},
     "output_type": "display_data"
    }
   ],
   "source": [
    "%run ./Includes/Classroom-Setup-1"
   ]
  },
  {
   "cell_type": "markdown",
   "metadata": {
    "application/vnd.databricks.v1+cell": {
     "cellMetadata": {
      "byteLimit": 2048000,
      "rowLimit": 10000
     },
     "inputWidgets": {},
     "nuid": "00aa5958-e342-45d8-8e75-abf5b624a6e3",
     "showTitle": false,
     "tableResultSettingsMap": {},
     "title": ""
    }
   },
   "source": [
    "## Querying Files\n",
    "In the cell below, we are going to run a query on a directory of parquet files. These files are not currently registered as any kind of data object (i.e., a table), but we can run some kinds of queries exactly as if they were. We can run these queries on many data file types, too (CSV, JSON, etc.).\n",
    "\n",
    "Most workflows will require users to access data from external cloud storage locations. \n",
    "\n",
    "In most companies, a workspace administrator will be responsible for configuring access to these storage locations. In this course, we are simply going to use data files that the `Classroom-Setup` script above installed in our workspace.\n"
   ]
  },
  {
   "cell_type": "code",
   "execution_count": 0,
   "metadata": {
    "application/vnd.databricks.v1+cell": {
     "cellMetadata": {
      "byteLimit": 2048000,
      "rowLimit": 10000
     },
     "inputWidgets": {},
     "nuid": "f4b72f04-e6c8-4423-962d-a7bcee65f969",
     "showTitle": false,
     "tableResultSettingsMap": {},
     "title": ""
    }
   },
   "outputs": [
    {
     "output_type": "display_data",
     "data": {
      "text/html": [
       "<style scoped>\n",
       "  .table-result-container {\n",
       "    max-height: 300px;\n",
       "    overflow: auto;\n",
       "  }\n",
       "  table, th, td {\n",
       "    border: 1px solid black;\n",
       "    border-collapse: collapse;\n",
       "  }\n",
       "  th, td {\n",
       "    padding: 5px;\n",
       "  }\n",
       "  th {\n",
       "    text-align: left;\n",
       "  }\n",
       "</style><div class='table-result-container'><table class='table-result'><thead style='background-color: white'><tr><th>order_id</th><th>email</th><th>transaction_timestamp</th><th>total_item_quantity</th><th>purchase_revenue_in_usd</th><th>unique_items</th><th>items</th></tr></thead><tbody><tr><td>257436</td><td>amanda16@skinner.com</td><td>1592193956703494</td><td>2</td><td>2190.0</td><td>1</td><td>List(List(null, M_PREM_T, Premium Twin Mattress, 2190.0, 1095.0, 2))</td></tr><tr><td>257452</td><td>jefferyfisher@yahoo.com</td><td>1592201856856023</td><td>1</td><td>1195.0</td><td>1</td><td>List(List(null, M_STAN_K, Standard King Mattress, 1195.0, 1195.0, 1))</td></tr><tr><td>257595</td><td>davidcollier@brown-curry.com</td><td>1592213317602596</td><td>1</td><td>945.0</td><td>1</td><td>List(List(null, M_STAN_F, Standard Full Mattress, 945.0, 945.0, 1))</td></tr><tr><td>257847</td><td>espears@wilson.com</td><td>1592219850060620</td><td>2</td><td>2140.0</td><td>2</td><td>List(List(null, M_STAN_K, Standard King Mattress, 1195.0, 1195.0, 1), List(null, M_STAN_F, Standard Full Mattress, 945.0, 945.0, 1))</td></tr><tr><td>275392</td><td>tracy67@carrillo-steele.com</td><td>1592424836322591</td><td>1</td><td>850.5</td><td>1</td><td>List(List(NEWBED10, M_STAN_F, Standard Full Mattress, 850.5, 945.0, 1))</td></tr><tr><td>258151</td><td>rachael13@hotmail.com</td><td>1592225139292956</td><td>1</td><td>1045.0</td><td>1</td><td>List(List(null, M_STAN_Q, Standard Queen Mattress, 1045.0, 1045.0, 1))</td></tr><tr><td>282615</td><td>ztaylor73@yahoo.com</td><td>1592504254634073</td><td>1</td><td>940.5</td><td>1</td><td>List(List(NEWBED10, M_STAN_Q, Standard Queen Mattress, 940.5, 1045.0, 1))</td></tr><tr><td>258158</td><td>ialvarado33@hotmail.com</td><td>1592225276980125</td><td>1</td><td>1795.0</td><td>1</td><td>List(List(null, M_PREM_Q, Premium Queen Mattress, 1795.0, 1795.0, 1))</td></tr><tr><td>281137</td><td>christinahayes@mooney-holland.com</td><td>1592496576817530</td><td>1</td><td>535.5</td><td>1</td><td>List(List(NEWBED10, M_STAN_T, Standard Twin Mattress, 535.5, 595.0, 1))</td></tr><tr><td>258387</td><td>jesuspalmer@stuart-chambers.com</td><td>1592227891252746</td><td>1</td><td>59.0</td><td>1</td><td>List(List(null, P_FOAM_S, Standard Foam Pillow, 59.0, 59.0, 1))</td></tr></tbody></table></div>"
      ]
     },
     "metadata": {
      "application/vnd.databricks.v1+output": {
       "addedWidgets": {},
       "aggData": [],
       "aggError": "",
       "aggOverflow": false,
       "aggSchema": [],
       "aggSeriesLimitReached": false,
       "aggType": "",
       "arguments": {},
       "columnCustomDisplayInfos": {},
       "data": [
        [
         257436,
         "amanda16@skinner.com",
         1592193956703494,
         2,
         2190.0,
         1,
         [
          [
           null,
           "M_PREM_T",
           "Premium Twin Mattress",
           2190.0,
           1095.0,
           2
          ]
         ]
        ],
        [
         257452,
         "jefferyfisher@yahoo.com",
         1592201856856023,
         1,
         1195.0,
         1,
         [
          [
           null,
           "M_STAN_K",
           "Standard King Mattress",
           1195.0,
           1195.0,
           1
          ]
         ]
        ],
        [
         257595,
         "davidcollier@brown-curry.com",
         1592213317602596,
         1,
         945.0,
         1,
         [
          [
           null,
           "M_STAN_F",
           "Standard Full Mattress",
           945.0,
           945.0,
           1
          ]
         ]
        ],
        [
         257847,
         "espears@wilson.com",
         1592219850060620,
         2,
         2140.0,
         2,
         [
          [
           null,
           "M_STAN_K",
           "Standard King Mattress",
           1195.0,
           1195.0,
           1
          ],
          [
           null,
           "M_STAN_F",
           "Standard Full Mattress",
           945.0,
           945.0,
           1
          ]
         ]
        ],
        [
         275392,
         "tracy67@carrillo-steele.com",
         1592424836322591,
         1,
         850.5,
         1,
         [
          [
           "NEWBED10",
           "M_STAN_F",
           "Standard Full Mattress",
           850.5,
           945.0,
           1
          ]
         ]
        ],
        [
         258151,
         "rachael13@hotmail.com",
         1592225139292956,
         1,
         1045.0,
         1,
         [
          [
           null,
           "M_STAN_Q",
           "Standard Queen Mattress",
           1045.0,
           1045.0,
           1
          ]
         ]
        ],
        [
         282615,
         "ztaylor73@yahoo.com",
         1592504254634073,
         1,
         940.5,
         1,
         [
          [
           "NEWBED10",
           "M_STAN_Q",
           "Standard Queen Mattress",
           940.5,
           1045.0,
           1
          ]
         ]
        ],
        [
         258158,
         "ialvarado33@hotmail.com",
         1592225276980125,
         1,
         1795.0,
         1,
         [
          [
           null,
           "M_PREM_Q",
           "Premium Queen Mattress",
           1795.0,
           1795.0,
           1
          ]
         ]
        ],
        [
         281137,
         "christinahayes@mooney-holland.com",
         1592496576817530,
         1,
         535.5,
         1,
         [
          [
           "NEWBED10",
           "M_STAN_T",
           "Standard Twin Mattress",
           535.5,
           595.0,
           1
          ]
         ]
        ],
        [
         258387,
         "jesuspalmer@stuart-chambers.com",
         1592227891252746,
         1,
         59.0,
         1,
         [
          [
           null,
           "P_FOAM_S",
           "Standard Foam Pillow",
           59.0,
           59.0,
           1
          ]
         ]
        ]
       ],
       "datasetInfos": [
        {
         "name": "_sqldf",
         "schema": {
          "fields": [
           {
            "metadata": {},
            "name": "order_id",
            "nullable": true,
            "type": "long"
           },
           {
            "metadata": {},
            "name": "email",
            "nullable": true,
            "type": "string"
           },
           {
            "metadata": {},
            "name": "transaction_timestamp",
            "nullable": true,
            "type": "long"
           },
           {
            "metadata": {},
            "name": "total_item_quantity",
            "nullable": true,
            "type": "long"
           },
           {
            "metadata": {},
            "name": "purchase_revenue_in_usd",
            "nullable": true,
            "type": "double"
           },
           {
            "metadata": {},
            "name": "unique_items",
            "nullable": true,
            "type": "long"
           },
           {
            "metadata": {},
            "name": "items",
            "nullable": true,
            "type": {
             "containsNull": true,
             "elementType": {
              "fields": [
               {
                "metadata": {},
                "name": "coupon",
                "nullable": true,
                "type": "string"
               },
               {
                "metadata": {},
                "name": "item_id",
                "nullable": true,
                "type": "string"
               },
               {
                "metadata": {},
                "name": "item_name",
                "nullable": true,
                "type": "string"
               },
               {
                "metadata": {},
                "name": "item_revenue_in_usd",
                "nullable": true,
                "type": "double"
               },
               {
                "metadata": {},
                "name": "price_in_usd",
                "nullable": true,
                "type": "double"
               },
               {
                "metadata": {},
                "name": "quantity",
                "nullable": true,
                "type": "long"
               }
              ],
              "type": "struct"
             },
             "type": "array"
            }
           }
          ],
          "type": "struct"
         },
         "tableIdentifier": null,
         "typeStr": "pyspark.sql.connect.dataframe.DataFrame"
        }
       ],
       "dbfsResultPath": null,
       "isJsonSchema": true,
       "metadata": {
        "createTempViewForImplicitDf": true,
        "dataframeName": "_sqldf",
        "executionCount": 5
       },
       "overflow": false,
       "plotOptions": {
        "customPlotOptions": {},
        "displayType": "table",
        "pivotAggregation": null,
        "pivotColumns": null,
        "xColumns": null,
        "yColumns": null
       },
       "removedWidgets": [],
       "schema": [
        {
         "metadata": "{}",
         "name": "order_id",
         "type": "\"long\""
        },
        {
         "metadata": "{}",
         "name": "email",
         "type": "\"string\""
        },
        {
         "metadata": "{}",
         "name": "transaction_timestamp",
         "type": "\"long\""
        },
        {
         "metadata": "{}",
         "name": "total_item_quantity",
         "type": "\"long\""
        },
        {
         "metadata": "{}",
         "name": "purchase_revenue_in_usd",
         "type": "\"double\""
        },
        {
         "metadata": "{}",
         "name": "unique_items",
         "type": "\"long\""
        },
        {
         "metadata": "{}",
         "name": "items",
         "type": "{\"containsNull\":true,\"elementType\":{\"fields\":[{\"metadata\":{},\"name\":\"coupon\",\"nullable\":true,\"type\":\"string\"},{\"metadata\":{},\"name\":\"item_id\",\"nullable\":true,\"type\":\"string\"},{\"metadata\":{},\"name\":\"item_name\",\"nullable\":true,\"type\":\"string\"},{\"metadata\":{},\"name\":\"item_revenue_in_usd\",\"nullable\":true,\"type\":\"double\"},{\"metadata\":{},\"name\":\"price_in_usd\",\"nullable\":true,\"type\":\"double\"},{\"metadata\":{},\"name\":\"quantity\",\"nullable\":true,\"type\":\"long\"}],\"type\":\"struct\"},\"type\":\"array\"}"
        }
       ],
       "type": "table"
      }
     },
     "output_type": "display_data"
    }
   ],
   "source": [
    "SELECT * \n",
    "FROM parquet.`/Volumes/dbacademy_ecommerce/v01/raw/sales-historical/` \n",
    "LIMIT 10;"
   ]
  },
  {
   "cell_type": "markdown",
   "metadata": {
    "application/vnd.databricks.v1+cell": {
     "cellMetadata": {
      "byteLimit": 2048000,
      "rowLimit": 10000
     },
     "inputWidgets": {},
     "nuid": "f48efc23-8968-4c9c-8bf9-8e860836207b",
     "showTitle": false,
     "tableResultSettingsMap": {},
     "title": ""
    }
   },
   "source": [
    "## Create Table as Select (CTAS)\n",
    "\n",
    "We are going to create a table that contains historical sales data from a previous point-of-sale system. This data is in the form of parquet files.\n",
    "\n",
    "**`CREATE TABLE AS SELECT`** statements create and populate Delta tables using data retrieved from an input query. We can create the table and populate it with data at the same time.\n",
    "\n",
    "CTAS statements automatically infer schema information from query results and do **not** support manual schema declaration. \n",
    "\n",
    "This means that CTAS statements are useful for external data ingestion from sources with well-defined schema, such as Parquet files and tables."
   ]
  },
  {
   "cell_type": "code",
   "execution_count": 0,
   "metadata": {
    "application/vnd.databricks.v1+cell": {
     "cellMetadata": {
      "byteLimit": 2048000,
      "rowLimit": 10000
     },
     "inputWidgets": {},
     "nuid": "029ff4f3-744f-44b4-a1df-df633f46168a",
     "showTitle": false,
     "tableResultSettingsMap": {},
     "title": ""
    }
   },
   "outputs": [
    {
     "output_type": "display_data",
     "data": {
      "text/html": [
       "<style scoped>\n",
       "  .table-result-container {\n",
       "    max-height: 300px;\n",
       "    overflow: auto;\n",
       "  }\n",
       "  table, th, td {\n",
       "    border: 1px solid black;\n",
       "    border-collapse: collapse;\n",
       "  }\n",
       "  th, td {\n",
       "    padding: 5px;\n",
       "  }\n",
       "  th {\n",
       "    text-align: left;\n",
       "  }\n",
       "</style><div class='table-result-container'><table class='table-result'><thead style='background-color: white'><tr><th>col_name</th><th>data_type</th><th>comment</th></tr></thead><tbody><tr><td>order_id</td><td>bigint</td><td>null</td></tr><tr><td>email</td><td>string</td><td>null</td></tr><tr><td>transaction_timestamp</td><td>bigint</td><td>null</td></tr><tr><td>total_item_quantity</td><td>bigint</td><td>null</td></tr><tr><td>purchase_revenue_in_usd</td><td>double</td><td>null</td></tr><tr><td>unique_items</td><td>bigint</td><td>null</td></tr><tr><td>items</td><td>array<struct<coupon:string,item_id:string,item_name:string,item_revenue_in_usd:double,price_in_usd:double,quantity:bigint>></td><td>null</td></tr></tbody></table></div>"
      ]
     },
     "metadata": {
      "application/vnd.databricks.v1+output": {
       "addedWidgets": {},
       "aggData": [],
       "aggError": "",
       "aggOverflow": false,
       "aggSchema": [],
       "aggSeriesLimitReached": false,
       "aggType": "",
       "arguments": {},
       "columnCustomDisplayInfos": {},
       "data": [
        [
         "order_id",
         "bigint",
         null
        ],
        [
         "email",
         "string",
         null
        ],
        [
         "transaction_timestamp",
         "bigint",
         null
        ],
        [
         "total_item_quantity",
         "bigint",
         null
        ],
        [
         "purchase_revenue_in_usd",
         "double",
         null
        ],
        [
         "unique_items",
         "bigint",
         null
        ],
        [
         "items",
         "array<struct<coupon:string,item_id:string,item_name:string,item_revenue_in_usd:double,price_in_usd:double,quantity:bigint>>",
         null
        ]
       ],
       "datasetInfos": [
        {
         "name": "_sqldf",
         "schema": {
          "fields": [
           {
            "metadata": {},
            "name": "col_name",
            "nullable": false,
            "type": "string"
           },
           {
            "metadata": {},
            "name": "data_type",
            "nullable": false,
            "type": "string"
           },
           {
            "metadata": {},
            "name": "comment",
            "nullable": true,
            "type": "string"
           }
          ],
          "type": "struct"
         },
         "tableIdentifier": null,
         "typeStr": "pyspark.sql.connect.dataframe.DataFrame"
        }
       ],
       "dbfsResultPath": null,
       "isJsonSchema": true,
       "metadata": {
        "createTempViewForImplicitDf": true,
        "dataframeName": "_sqldf",
        "executionCount": 6
       },
       "overflow": false,
       "plotOptions": {
        "customPlotOptions": {},
        "displayType": "table",
        "pivotAggregation": null,
        "pivotColumns": null,
        "xColumns": null,
        "yColumns": null
       },
       "removedWidgets": [],
       "schema": [
        {
         "metadata": "{}",
         "name": "col_name",
         "type": "\"string\""
        },
        {
         "metadata": "{}",
         "name": "data_type",
         "type": "\"string\""
        },
        {
         "metadata": "{}",
         "name": "comment",
         "type": "\"string\""
        }
       ],
       "type": "table"
      }
     },
     "output_type": "display_data"
    }
   ],
   "source": [
    "CREATE OR REPLACE TABLE historical_sales_bronze \n",
    "USING DELTA AS\n",
    "  SELECT * \n",
    "  FROM parquet.`/Volumes/dbacademy_ecommerce/v01/raw/sales-historical/`;\n",
    "\n",
    "\n",
    "DESCRIBE historical_sales_bronze;"
   ]
  },
  {
   "cell_type": "markdown",
   "metadata": {
    "application/vnd.databricks.v1+cell": {
     "cellMetadata": {
      "byteLimit": 2048000,
      "rowLimit": 10000
     },
     "inputWidgets": {},
     "nuid": "9e09faa6-17f5-4380-a4b9-a12ef3539cd1",
     "showTitle": false,
     "tableResultSettingsMap": {},
     "title": ""
    }
   },
   "source": [
    "By running `DESCRIBE <table-name>`, we can see column names and data types. We see that the schema of this table looks correct."
   ]
  },
  {
   "cell_type": "markdown",
   "metadata": {
    "application/vnd.databricks.v1+cell": {
     "cellMetadata": {
      "byteLimit": 2048000,
      "rowLimit": 10000
     },
     "inputWidgets": {},
     "nuid": "a83ba1f1-0fdb-43b8-94f0-c9f6bdffc846",
     "showTitle": false,
     "tableResultSettingsMap": {},
     "title": ""
    }
   },
   "source": [
    "## Extracting CSV\n",
    "We also have data in the form of CSV files. The data files have a header row that contains column names and is delimited with a \"|\" (pipe) character. \n",
    "\n",
    "We can see how this would present significant limitations when trying to ingest data from CSV files, as demonstrated in the cell below."
   ]
  },
  {
   "cell_type": "code",
   "execution_count": 0,
   "metadata": {
    "application/vnd.databricks.v1+cell": {
     "cellMetadata": {
      "byteLimit": 2048000,
      "rowLimit": 10000
     },
     "inputWidgets": {},
     "nuid": "b747c052-a267-4b83-b87f-736057c63ce8",
     "showTitle": false,
     "tableResultSettingsMap": {},
     "title": ""
    }
   },
   "outputs": [
    {
     "output_type": "display_data",
     "data": {
      "text/html": [
       "<style scoped>\n",
       "  .table-result-container {\n",
       "    max-height: 300px;\n",
       "    overflow: auto;\n",
       "  }\n",
       "  table, th, td {\n",
       "    border: 1px solid black;\n",
       "    border-collapse: collapse;\n",
       "  }\n",
       "  th, td {\n",
       "    padding: 5px;\n",
       "  }\n",
       "  th {\n",
       "    text-align: left;\n",
       "  }\n",
       "</style><div class='table-result-container'><table class='table-result'><thead style='background-color: white'><tr><th>_c0</th></tr></thead><tbody><tr><td>order_id|email|transactions_timestamp|total_item_quantity|purchase_revenue_in_usd|unique_items|items</td></tr><tr><td>298592|sandovalaustin@holder.com|1592629288475307|1|850.5|1|[{'coupon': 'NEWBED10'</td></tr><tr><td>299024|msmith@monroe.com|1592636869915092|2|1092.6|2|[{'coupon': 'NEWBED10'</td></tr><tr><td>300048|robertstimothy@hotmail.com|1592649862529478|1|1075.5|1|[{'coupon': 'NEWBED10'</td></tr><tr><td>298711|lovejamie@yahoo.com|1592631406799948|1|850.5|1|[{'coupon': 'NEWBED10'</td></tr><tr><td>301760|jennifer7054@gmail.com|1592661071882666|1|940.5|1|[{'coupon': 'NEWBED10'</td></tr><tr><td>302809|ywhite@kane.org|1592665563660982|1|1075.5|1|[{'coupon': 'NEWBED10'</td></tr><tr><td>309136|karen61@hotmail.com|1592689638083947|1|1795.5|1|[{'coupon': 'NEWBED10'</td></tr><tr><td>303941|deborah18@conrad-gallagher.com|1592669885794924|1|850.5|1|[{'coupon': 'NEWBED10'</td></tr><tr><td>305920|khanedwin@gmail.com|1592676863608194|1|1075.5|1|[{'coupon': 'NEWBED10'</td></tr></tbody></table></div>"
      ]
     },
     "metadata": {
      "application/vnd.databricks.v1+output": {
       "addedWidgets": {},
       "aggData": [],
       "aggError": "",
       "aggOverflow": false,
       "aggSchema": [],
       "aggSeriesLimitReached": false,
       "aggType": "",
       "arguments": {},
       "columnCustomDisplayInfos": {},
       "data": [
        [
         "order_id|email|transactions_timestamp|total_item_quantity|purchase_revenue_in_usd|unique_items|items"
        ],
        [
         "298592|sandovalaustin@holder.com|1592629288475307|1|850.5|1|[{'coupon': 'NEWBED10'"
        ],
        [
         "299024|msmith@monroe.com|1592636869915092|2|1092.6|2|[{'coupon': 'NEWBED10'"
        ],
        [
         "300048|robertstimothy@hotmail.com|1592649862529478|1|1075.5|1|[{'coupon': 'NEWBED10'"
        ],
        [
         "298711|lovejamie@yahoo.com|1592631406799948|1|850.5|1|[{'coupon': 'NEWBED10'"
        ],
        [
         "301760|jennifer7054@gmail.com|1592661071882666|1|940.5|1|[{'coupon': 'NEWBED10'"
        ],
        [
         "302809|ywhite@kane.org|1592665563660982|1|1075.5|1|[{'coupon': 'NEWBED10'"
        ],
        [
         "309136|karen61@hotmail.com|1592689638083947|1|1795.5|1|[{'coupon': 'NEWBED10'"
        ],
        [
         "303941|deborah18@conrad-gallagher.com|1592669885794924|1|850.5|1|[{'coupon': 'NEWBED10'"
        ],
        [
         "305920|khanedwin@gmail.com|1592676863608194|1|1075.5|1|[{'coupon': 'NEWBED10'"
        ]
       ],
       "datasetInfos": [
        {
         "name": "_sqldf",
         "schema": {
          "fields": [
           {
            "metadata": {},
            "name": "_c0",
            "nullable": true,
            "type": "string"
           }
          ],
          "type": "struct"
         },
         "tableIdentifier": null,
         "typeStr": "pyspark.sql.connect.dataframe.DataFrame"
        }
       ],
       "dbfsResultPath": null,
       "isJsonSchema": true,
       "metadata": {
        "createTempViewForImplicitDf": true,
        "dataframeName": "_sqldf",
        "executionCount": 7
       },
       "overflow": false,
       "plotOptions": {
        "customPlotOptions": {},
        "displayType": "table",
        "pivotAggregation": null,
        "pivotColumns": null,
        "xColumns": null,
        "yColumns": null
       },
       "removedWidgets": [],
       "schema": [
        {
         "metadata": "{}",
         "name": "_c0",
         "type": "\"string\""
        }
       ],
       "type": "table"
      }
     },
     "output_type": "display_data"
    }
   ],
   "source": [
    "CREATE OR REPLACE TEMP VIEW sales_unparsed AS\n",
    "  SELECT * \n",
    "  FROM csv.`/Volumes/dbacademy_ecommerce/v01/raw/sales-csv/`;\n",
    "\n",
    "\n",
    "SELECT * \n",
    "FROM sales_unparsed \n",
    "LIMIT 10;"
   ]
  },
  {
   "cell_type": "markdown",
   "metadata": {
    "application/vnd.databricks.v1+cell": {
     "cellMetadata": {
      "byteLimit": 2048000,
      "rowLimit": 10000
     },
     "inputWidgets": {},
     "nuid": "3327d790-8528-4d1e-a645-517e06ad0cb9",
     "showTitle": false,
     "tableResultSettingsMap": {},
     "title": ""
    }
   },
   "source": [
    "## The `read_files()` Table-Valued Function\n",
    "\n",
    "The code in the next cell creates a table using CTAS. The `read_files()` table-valued function (TVF) allows us to read a variety of different file formats. Read more about it [here](https://docs.databricks.com/en/sql/language-manual/functions/read_files.html). The first parameter is a path to the data. The `Classroom-Setup` script (at the top of this notebook) instantiated an object that has a number of useful variables, including a path to our sample data.\n",
    "\n",
    "We are using these options:\n",
    "\n",
    "1. `format => \"csv\"` -- Our data files are in the `CSV` format\n",
    "1. `sep => \"|\"` -- Our data fields are separated by the | (pipe) character\n",
    "1. `header => true` -- The first row of data should be used as the column names\n",
    "1. `mode => \"FAILFAST\"` -- This will cause the statement to throw an error and abort the read if there is any malformed data\n",
    "\n",
    "In this case, we are moving existing `CSV` data, but we could just as easily use other data types by using different options.\n",
    "\n",
    "A `_rescued_data` column is provided by default to rescue any data that doesn’t match the schema. \n",
    "\n",
    "For more information check out the [read_files table-valued function](https://docs.databricks.com/en/sql/language-manual/functions/read_files.html)."
   ]
  },
  {
   "cell_type": "code",
   "execution_count": 0,
   "metadata": {
    "application/vnd.databricks.v1+cell": {
     "cellMetadata": {
      "byteLimit": 2048000,
      "rowLimit": 10000
     },
     "inputWidgets": {},
     "nuid": "0f287c20-25d9-4e4d-a324-c44d3e2e043e",
     "showTitle": false,
     "tableResultSettingsMap": {},
     "title": ""
    }
   },
   "outputs": [
    {
     "output_type": "display_data",
     "data": {
      "text/html": [
       "<style scoped>\n",
       "  .table-result-container {\n",
       "    max-height: 300px;\n",
       "    overflow: auto;\n",
       "  }\n",
       "  table, th, td {\n",
       "    border: 1px solid black;\n",
       "    border-collapse: collapse;\n",
       "  }\n",
       "  th, td {\n",
       "    padding: 5px;\n",
       "  }\n",
       "  th {\n",
       "    text-align: left;\n",
       "  }\n",
       "</style><div class='table-result-container'><table class='table-result'><thead style='background-color: white'><tr><th>order_id</th><th>email</th><th>transactions_timestamp</th><th>total_item_quantity</th><th>purchase_revenue_in_usd</th><th>unique_items</th><th>items</th><th>_rescued_data</th></tr></thead><tbody><tr><td>298592</td><td>sandovalaustin@holder.com</td><td>1592629288475307</td><td>1</td><td>850.5</td><td>1</td><td>[{'coupon': 'NEWBED10', 'item_id': 'M_STAN_F', 'item_name': 'Standard Full Mattress', 'item_revenue_in_usd': 850.5, 'price_in_usd': 945.0, 'quantity': 1}]</td><td>null</td></tr><tr><td>299024</td><td>msmith@monroe.com</td><td>1592636869915092</td><td>2</td><td>1092.6</td><td>2</td><td>[{'coupon': 'NEWBED10', 'item_id': 'M_PREM_T', 'item_name': 'Premium Twin Mattress', 'item_revenue_in_usd': 985.5, 'price_in_usd': 1095.0, 'quantity': 1}, {'coupon': 'NEWBED10', 'item_id': 'P_DOWN_S', 'item_name': 'Standard Down Pillow', 'item_revenue_in_usd': 107.10000000000001, 'price_in_usd': 119.0, 'quantity': 1}]</td><td>null</td></tr><tr><td>300048</td><td>robertstimothy@hotmail.com</td><td>1592649862529478</td><td>1</td><td>1075.5</td><td>1</td><td>[{'coupon': 'NEWBED10', 'item_id': 'M_STAN_K', 'item_name': 'Standard King Mattress', 'item_revenue_in_usd': 1075.5, 'price_in_usd': 1195.0, 'quantity': 1}]</td><td>null</td></tr><tr><td>298711</td><td>lovejamie@yahoo.com</td><td>1592631406799948</td><td>1</td><td>850.5</td><td>1</td><td>[{'coupon': 'NEWBED10', 'item_id': 'M_STAN_F', 'item_name': 'Standard Full Mattress', 'item_revenue_in_usd': 850.5, 'price_in_usd': 945.0, 'quantity': 1}]</td><td>null</td></tr><tr><td>301760</td><td>jennifer7054@gmail.com</td><td>1592661071882666</td><td>1</td><td>940.5</td><td>1</td><td>[{'coupon': 'NEWBED10', 'item_id': 'M_STAN_Q', 'item_name': 'Standard Queen Mattress', 'item_revenue_in_usd': 940.5, 'price_in_usd': 1045.0, 'quantity': 1}]</td><td>null</td></tr><tr><td>302809</td><td>ywhite@kane.org</td><td>1592665563660982</td><td>1</td><td>1075.5</td><td>1</td><td>[{'coupon': 'NEWBED10', 'item_id': 'M_STAN_K', 'item_name': 'Standard King Mattress', 'item_revenue_in_usd': 1075.5, 'price_in_usd': 1195.0, 'quantity': 1}]</td><td>null</td></tr><tr><td>309136</td><td>karen61@hotmail.com</td><td>1592689638083947</td><td>1</td><td>1795.5</td><td>1</td><td>[{'coupon': 'NEWBED10', 'item_id': 'M_PREM_K', 'item_name': 'Premium King Mattress', 'item_revenue_in_usd': 1795.5, 'price_in_usd': 1995.0, 'quantity': 1}]</td><td>null</td></tr><tr><td>303941</td><td>deborah18@conrad-gallagher.com</td><td>1592669885794924</td><td>1</td><td>850.5</td><td>1</td><td>[{'coupon': 'NEWBED10', 'item_id': 'M_STAN_F', 'item_name': 'Standard Full Mattress', 'item_revenue_in_usd': 850.5, 'price_in_usd': 945.0, 'quantity': 1}]</td><td>null</td></tr><tr><td>305920</td><td>khanedwin@gmail.com</td><td>1592676863608194</td><td>1</td><td>1075.5</td><td>1</td><td>[{'coupon': 'NEWBED10', 'item_id': 'M_STAN_K', 'item_name': 'Standard King Mattress', 'item_revenue_in_usd': 1075.5, 'price_in_usd': 1195.0, 'quantity': 1}]</td><td>null</td></tr><tr><td>298795</td><td>samantha4354@hotmail.com</td><td>1592632916516773</td><td>1</td><td>985.5</td><td>1</td><td>[{'coupon': 'NEWBED10', 'item_id': 'M_PREM_T', 'item_name': 'Premium Twin Mattress', 'item_revenue_in_usd': 985.5, 'price_in_usd': 1095.0, 'quantity': 1}]</td><td>null</td></tr></tbody></table></div>"
      ]
     },
     "metadata": {
      "application/vnd.databricks.v1+output": {
       "addedWidgets": {},
       "aggData": [],
       "aggError": "",
       "aggOverflow": false,
       "aggSchema": [],
       "aggSeriesLimitReached": false,
       "aggType": "",
       "arguments": {},
       "columnCustomDisplayInfos": {},
       "data": [
        [
         298592,
         "sandovalaustin@holder.com",
         1592629288475307,
         1,
         850.5,
         1,
         "[{'coupon': 'NEWBED10', 'item_id': 'M_STAN_F', 'item_name': 'Standard Full Mattress', 'item_revenue_in_usd': 850.5, 'price_in_usd': 945.0, 'quantity': 1}]",
         null
        ],
        [
         299024,
         "msmith@monroe.com",
         1592636869915092,
         2,
         1092.6,
         2,
         "[{'coupon': 'NEWBED10', 'item_id': 'M_PREM_T', 'item_name': 'Premium Twin Mattress', 'item_revenue_in_usd': 985.5, 'price_in_usd': 1095.0, 'quantity': 1}, {'coupon': 'NEWBED10', 'item_id': 'P_DOWN_S', 'item_name': 'Standard Down Pillow', 'item_revenue_in_usd': 107.10000000000001, 'price_in_usd': 119.0, 'quantity': 1}]",
         null
        ],
        [
         300048,
         "robertstimothy@hotmail.com",
         1592649862529478,
         1,
         1075.5,
         1,
         "[{'coupon': 'NEWBED10', 'item_id': 'M_STAN_K', 'item_name': 'Standard King Mattress', 'item_revenue_in_usd': 1075.5, 'price_in_usd': 1195.0, 'quantity': 1}]",
         null
        ],
        [
         298711,
         "lovejamie@yahoo.com",
         1592631406799948,
         1,
         850.5,
         1,
         "[{'coupon': 'NEWBED10', 'item_id': 'M_STAN_F', 'item_name': 'Standard Full Mattress', 'item_revenue_in_usd': 850.5, 'price_in_usd': 945.0, 'quantity': 1}]",
         null
        ],
        [
         301760,
         "jennifer7054@gmail.com",
         1592661071882666,
         1,
         940.5,
         1,
         "[{'coupon': 'NEWBED10', 'item_id': 'M_STAN_Q', 'item_name': 'Standard Queen Mattress', 'item_revenue_in_usd': 940.5, 'price_in_usd': 1045.0, 'quantity': 1}]",
         null
        ],
        [
         302809,
         "ywhite@kane.org",
         1592665563660982,
         1,
         1075.5,
         1,
         "[{'coupon': 'NEWBED10', 'item_id': 'M_STAN_K', 'item_name': 'Standard King Mattress', 'item_revenue_in_usd': 1075.5, 'price_in_usd': 1195.0, 'quantity': 1}]",
         null
        ],
        [
         309136,
         "karen61@hotmail.com",
         1592689638083947,
         1,
         1795.5,
         1,
         "[{'coupon': 'NEWBED10', 'item_id': 'M_PREM_K', 'item_name': 'Premium King Mattress', 'item_revenue_in_usd': 1795.5, 'price_in_usd': 1995.0, 'quantity': 1}]",
         null
        ],
        [
         303941,
         "deborah18@conrad-gallagher.com",
         1592669885794924,
         1,
         850.5,
         1,
         "[{'coupon': 'NEWBED10', 'item_id': 'M_STAN_F', 'item_name': 'Standard Full Mattress', 'item_revenue_in_usd': 850.5, 'price_in_usd': 945.0, 'quantity': 1}]",
         null
        ],
        [
         305920,
         "khanedwin@gmail.com",
         1592676863608194,
         1,
         1075.5,
         1,
         "[{'coupon': 'NEWBED10', 'item_id': 'M_STAN_K', 'item_name': 'Standard King Mattress', 'item_revenue_in_usd': 1075.5, 'price_in_usd': 1195.0, 'quantity': 1}]",
         null
        ],
        [
         298795,
         "samantha4354@hotmail.com",
         1592632916516773,
         1,
         985.5,
         1,
         "[{'coupon': 'NEWBED10', 'item_id': 'M_PREM_T', 'item_name': 'Premium Twin Mattress', 'item_revenue_in_usd': 985.5, 'price_in_usd': 1095.0, 'quantity': 1}]",
         null
        ]
       ],
       "datasetInfos": [
        {
         "name": "_sqldf",
         "schema": {
          "fields": [
           {
            "metadata": {},
            "name": "order_id",
            "nullable": true,
            "type": "integer"
           },
           {
            "metadata": {},
            "name": "email",
            "nullable": true,
            "type": "string"
           },
           {
            "metadata": {},
            "name": "transactions_timestamp",
            "nullable": true,
            "type": "long"
           },
           {
            "metadata": {},
            "name": "total_item_quantity",
            "nullable": true,
            "type": "integer"
           },
           {
            "metadata": {},
            "name": "purchase_revenue_in_usd",
            "nullable": true,
            "type": "double"
           },
           {
            "metadata": {},
            "name": "unique_items",
            "nullable": true,
            "type": "integer"
           },
           {
            "metadata": {},
            "name": "items",
            "nullable": true,
            "type": "string"
           },
           {
            "metadata": {},
            "name": "_rescued_data",
            "nullable": true,
            "type": "string"
           }
          ],
          "type": "struct"
         },
         "tableIdentifier": null,
         "typeStr": "pyspark.sql.connect.dataframe.DataFrame"
        }
       ],
       "dbfsResultPath": null,
       "isJsonSchema": true,
       "metadata": {
        "createTempViewForImplicitDf": true,
        "dataframeName": "_sqldf",
        "executionCount": 8
       },
       "overflow": false,
       "plotOptions": {
        "customPlotOptions": {},
        "displayType": "table",
        "pivotAggregation": null,
        "pivotColumns": null,
        "xColumns": null,
        "yColumns": null
       },
       "removedWidgets": [],
       "schema": [
        {
         "metadata": "{}",
         "name": "order_id",
         "type": "\"integer\""
        },
        {
         "metadata": "{}",
         "name": "email",
         "type": "\"string\""
        },
        {
         "metadata": "{}",
         "name": "transactions_timestamp",
         "type": "\"long\""
        },
        {
         "metadata": "{}",
         "name": "total_item_quantity",
         "type": "\"integer\""
        },
        {
         "metadata": "{}",
         "name": "purchase_revenue_in_usd",
         "type": "\"double\""
        },
        {
         "metadata": "{}",
         "name": "unique_items",
         "type": "\"integer\""
        },
        {
         "metadata": "{}",
         "name": "items",
         "type": "\"string\""
        },
        {
         "metadata": "{}",
         "name": "_rescued_data",
         "type": "\"string\""
        }
       ],
       "type": "table"
      }
     },
     "output_type": "display_data"
    }
   ],
   "source": [
    "DROP TABLE IF EXISTS sales_bronze;\n",
    "\n",
    "CREATE OR REPLACE TABLE sales_bronze \n",
    "USING DELTA AS\n",
    "      SELECT * \n",
    "      FROM read_files(\"/Volumes/dbacademy_ecommerce/v01/raw/sales-csv/\",\n",
    "            format => \"csv\",\n",
    "            sep => \"|\",\n",
    "            header => true,\n",
    "            mode => \"FAILFAST\");\n",
    "\n",
    "\n",
    "SELECT * \n",
    "FROM sales_bronze \n",
    "LIMIT 10;"
   ]
  },
  {
   "cell_type": "markdown",
   "metadata": {
    "application/vnd.databricks.v1+cell": {
     "cellMetadata": {
      "byteLimit": 2048000,
      "rowLimit": 10000
     },
     "inputWidgets": {},
     "nuid": "f88457cb-81ba-4b67-8d4e-c879ddc9553f",
     "showTitle": false,
     "tableResultSettingsMap": {},
     "title": ""
    }
   },
   "source": [
    "In the next cell, run `DESCRIBE EXTENDED` on our new table and see that:\n",
    "\n",
    "1. The column names and data types were inferred correctly\n",
    "1. The table was created in our catalog and the default schema, not `hive-metastore`. These were both created for us with the `Classroom-Setup` script\n",
    "1. The table is MANAGED, and we can see a path to the data in the metastore's default location\n",
    "1. The table is a Delta table.\n",
    "1. You own the table. This is true of everything you create, unless you change the owner"
   ]
  },
  {
   "cell_type": "code",
   "execution_count": 0,
   "metadata": {
    "application/vnd.databricks.v1+cell": {
     "cellMetadata": {
      "byteLimit": 2048000,
      "rowLimit": 10000
     },
     "inputWidgets": {},
     "nuid": "3caa6f4d-dc93-4fd9-b7e0-41017198a895",
     "showTitle": false,
     "tableResultSettingsMap": {},
     "title": ""
    }
   },
   "outputs": [
    {
     "output_type": "display_data",
     "data": {
      "text/html": [
       "<style scoped>\n",
       "  .table-result-container {\n",
       "    max-height: 300px;\n",
       "    overflow: auto;\n",
       "  }\n",
       "  table, th, td {\n",
       "    border: 1px solid black;\n",
       "    border-collapse: collapse;\n",
       "  }\n",
       "  th, td {\n",
       "    padding: 5px;\n",
       "  }\n",
       "  th {\n",
       "    text-align: left;\n",
       "  }\n",
       "</style><div class='table-result-container'><table class='table-result'><thead style='background-color: white'><tr><th>col_name</th><th>data_type</th><th>comment</th></tr></thead><tbody><tr><td>order_id</td><td>int</td><td>null</td></tr><tr><td>email</td><td>string</td><td>null</td></tr><tr><td>transactions_timestamp</td><td>bigint</td><td>null</td></tr><tr><td>total_item_quantity</td><td>int</td><td>null</td></tr><tr><td>purchase_revenue_in_usd</td><td>double</td><td>null</td></tr><tr><td>unique_items</td><td>int</td><td>null</td></tr><tr><td>items</td><td>string</td><td>null</td></tr><tr><td>_rescued_data</td><td>string</td><td>null</td></tr><tr><td></td><td></td><td></td></tr><tr><td># Delta Statistics Columns</td><td></td><td></td></tr><tr><td>Column Names</td><td>transactions_timestamp, order_id, email, purchase_revenue_in_usd, unique_items, items, total_item_quantity, _rescued_data</td><td></td></tr><tr><td>Column Selection Method</td><td>first-32</td><td></td></tr><tr><td></td><td></td><td></td></tr><tr><td># Detailed Table Information</td><td></td><td></td></tr><tr><td>Catalog</td><td>dbacademy</td><td></td></tr><tr><td>Database</td><td>labuser9051024_1737999152</td><td></td></tr><tr><td>Table</td><td>sales_bronze</td><td></td></tr><tr><td>Created Time</td><td>Mon Jan 27 18:15:44 UTC 2025</td><td></td></tr><tr><td>Last Access</td><td>UNKNOWN</td><td></td></tr><tr><td>Created By</td><td>Spark </td><td></td></tr><tr><td>Type</td><td>MANAGED</td><td></td></tr><tr><td>Location</td><td>s3://unity-catalogs-us-west-2/metastore/3672733-root/a8cd9b46-b2b9-4239-94a6-a4878982f9a4/tables/e2175165-c9d8-4edc-a619-98efe7660c6a</td><td></td></tr><tr><td>Provider</td><td>delta</td><td></td></tr><tr><td>Owner</td><td>labuser9051024_1737999152@vocareum.com</td><td></td></tr><tr><td>Is_managed_location</td><td>true</td><td></td></tr><tr><td>Predictive Optimization</td><td>ENABLE (inherited from METASTORE 3672733-us-west-2)</td><td></td></tr><tr><td>Table Properties</td><td>[delta.enableDeletionVectors=true,delta.feature.deletionVectors=supported,delta.minReaderVersion=3,delta.minWriterVersion=7]</td><td></td></tr></tbody></table></div>"
      ]
     },
     "metadata": {
      "application/vnd.databricks.v1+output": {
       "addedWidgets": {},
       "aggData": [],
       "aggError": "",
       "aggOverflow": false,
       "aggSchema": [],
       "aggSeriesLimitReached": false,
       "aggType": "",
       "arguments": {},
       "columnCustomDisplayInfos": {},
       "data": [
        [
         "order_id",
         "int",
         null
        ],
        [
         "email",
         "string",
         null
        ],
        [
         "transactions_timestamp",
         "bigint",
         null
        ],
        [
         "total_item_quantity",
         "int",
         null
        ],
        [
         "purchase_revenue_in_usd",
         "double",
         null
        ],
        [
         "unique_items",
         "int",
         null
        ],
        [
         "items",
         "string",
         null
        ],
        [
         "_rescued_data",
         "string",
         null
        ],
        [
         "",
         "",
         ""
        ],
        [
         "# Delta Statistics Columns",
         "",
         ""
        ],
        [
         "Column Names",
         "transactions_timestamp, order_id, email, purchase_revenue_in_usd, unique_items, items, total_item_quantity, _rescued_data",
         ""
        ],
        [
         "Column Selection Method",
         "first-32",
         ""
        ],
        [
         "",
         "",
         ""
        ],
        [
         "# Detailed Table Information",
         "",
         ""
        ],
        [
         "Catalog",
         "dbacademy",
         ""
        ],
        [
         "Database",
         "labuser9051024_1737999152",
         ""
        ],
        [
         "Table",
         "sales_bronze",
         ""
        ],
        [
         "Created Time",
         "Mon Jan 27 18:15:44 UTC 2025",
         ""
        ],
        [
         "Last Access",
         "UNKNOWN",
         ""
        ],
        [
         "Created By",
         "Spark ",
         ""
        ],
        [
         "Type",
         "MANAGED",
         ""
        ],
        [
         "Location",
         "s3://unity-catalogs-us-west-2/metastore/3672733-root/a8cd9b46-b2b9-4239-94a6-a4878982f9a4/tables/e2175165-c9d8-4edc-a619-98efe7660c6a",
         ""
        ],
        [
         "Provider",
         "delta",
         ""
        ],
        [
         "Owner",
         "labuser9051024_1737999152@vocareum.com",
         ""
        ],
        [
         "Is_managed_location",
         "true",
         ""
        ],
        [
         "Predictive Optimization",
         "ENABLE (inherited from METASTORE 3672733-us-west-2)",
         ""
        ],
        [
         "Table Properties",
         "[delta.enableDeletionVectors=true,delta.feature.deletionVectors=supported,delta.minReaderVersion=3,delta.minWriterVersion=7]",
         ""
        ]
       ],
       "datasetInfos": [
        {
         "name": "_sqldf",
         "schema": {
          "fields": [
           {
            "metadata": {},
            "name": "col_name",
            "nullable": false,
            "type": "string"
           },
           {
            "metadata": {},
            "name": "data_type",
            "nullable": false,
            "type": "string"
           },
           {
            "metadata": {},
            "name": "comment",
            "nullable": true,
            "type": "string"
           }
          ],
          "type": "struct"
         },
         "tableIdentifier": null,
         "typeStr": "pyspark.sql.connect.dataframe.DataFrame"
        }
       ],
       "dbfsResultPath": null,
       "isJsonSchema": true,
       "metadata": {
        "createTempViewForImplicitDf": true,
        "dataframeName": "_sqldf",
        "executionCount": 9
       },
       "overflow": false,
       "plotOptions": {
        "customPlotOptions": {},
        "displayType": "table",
        "pivotAggregation": null,
        "pivotColumns": null,
        "xColumns": null,
        "yColumns": null
       },
       "removedWidgets": [],
       "schema": [
        {
         "metadata": "{}",
         "name": "col_name",
         "type": "\"string\""
        },
        {
         "metadata": "{}",
         "name": "data_type",
         "type": "\"string\""
        },
        {
         "metadata": "{}",
         "name": "comment",
         "type": "\"string\""
        }
       ],
       "type": "table"
      }
     },
     "output_type": "display_data"
    }
   ],
   "source": [
    "DESCRIBE EXTENDED sales_bronze;"
   ]
  },
  {
   "cell_type": "markdown",
   "metadata": {
    "application/vnd.databricks.v1+cell": {
     "cellMetadata": {
      "byteLimit": 2048000,
      "rowLimit": 10000
     },
     "inputWidgets": {},
     "nuid": "a2376e46-b09c-4c0f-9d68-402a019b1953",
     "showTitle": false,
     "tableResultSettingsMap": {},
     "title": ""
    }
   },
   "source": [
    "## Catalogs, Schemas, and Tables on Databricks\n",
    "We've created two tables so far: `historical_sales_bronze` and `sales_bronze`. But, we have not specified which schema (database) or catalog in which these tables should live. The `Classroom-Setup` script at the top of the notebook created a catalog for us and a schema. It then ran `USE` statements, so any table we create will live in the `default` schema, which lives in a catalog that is based on our username. \n",
    "\n",
    "Running the next cell will show you information about the catalog that was created for you by the setup script above. Normally, you could just run `DESCRIBE CATALOG <catalog_name>`, but since your catalog name was generated for you, we are using the method, `DA.catalog_name` to get this name.  \n",
    "  \n",
    "Note: The DA object is only used in Databricks Academy courses and is not available outside of these courses."
   ]
  },
  {
   "cell_type": "code",
   "execution_count": 0,
   "metadata": {
    "application/vnd.databricks.v1+cell": {
     "cellMetadata": {
      "byteLimit": 2048000,
      "rowLimit": 10000
     },
     "inputWidgets": {},
     "nuid": "b8a11317-77ea-4897-82b7-243bc8ea2260",
     "showTitle": false,
     "tableResultSettingsMap": {},
     "title": ""
    }
   },
   "outputs": [
    {
     "output_type": "display_data",
     "data": {
      "text/html": [
       "<style scoped>\n",
       "  .table-result-container {\n",
       "    max-height: 300px;\n",
       "    overflow: auto;\n",
       "  }\n",
       "  table, th, td {\n",
       "    border: 1px solid black;\n",
       "    border-collapse: collapse;\n",
       "  }\n",
       "  th, td {\n",
       "    padding: 5px;\n",
       "  }\n",
       "  th {\n",
       "    text-align: left;\n",
       "  }\n",
       "</style><div class='table-result-container'><table class='table-result'><thead style='background-color: white'><tr><th>info_name</th><th>info_value</th></tr></thead><tbody><tr><td>Catalog Name</td><td>dbacademy</td></tr><tr><td>Comment</td><td></td></tr><tr><td>Owner</td><td>metastore_admins</td></tr><tr><td>Catalog Type</td><td>Regular</td></tr></tbody></table></div>"
      ]
     },
     "metadata": {
      "application/vnd.databricks.v1+output": {
       "addedWidgets": {},
       "aggData": [],
       "aggError": "",
       "aggOverflow": false,
       "aggSchema": [],
       "aggSeriesLimitReached": false,
       "aggType": "",
       "arguments": {},
       "columnCustomDisplayInfos": {},
       "data": [
        [
         "Catalog Name",
         "dbacademy"
        ],
        [
         "Comment",
         ""
        ],
        [
         "Owner",
         "metastore_admins"
        ],
        [
         "Catalog Type",
         "Regular"
        ]
       ],
       "datasetInfos": [
        {
         "name": "_sqldf",
         "schema": {
          "fields": [
           {
            "metadata": {},
            "name": "info_name",
            "nullable": false,
            "type": "string"
           },
           {
            "metadata": {},
            "name": "info_value",
            "nullable": true,
            "type": "string"
           }
          ],
          "type": "struct"
         },
         "tableIdentifier": null,
         "typeStr": "pyspark.sql.connect.dataframe.DataFrame"
        }
       ],
       "dbfsResultPath": null,
       "isJsonSchema": true,
       "metadata": {
        "createTempViewForImplicitDf": true,
        "dataframeName": "_sqldf",
        "executionCount": 10
       },
       "overflow": false,
       "plotOptions": {
        "customPlotOptions": {},
        "displayType": "table",
        "pivotAggregation": null,
        "pivotColumns": null,
        "xColumns": null,
        "yColumns": null
       },
       "removedWidgets": [],
       "schema": [
        {
         "metadata": "{}",
         "name": "info_name",
         "type": "\"string\""
        },
        {
         "metadata": "{}",
         "name": "info_value",
         "type": "\"string\""
        }
       ],
       "type": "table"
      }
     },
     "output_type": "display_data"
    }
   ],
   "source": [
    "DESCRIBE CATALOG dbacademy;"
   ]
  },
  {
   "cell_type": "markdown",
   "metadata": {
    "application/vnd.databricks.v1+cell": {
     "cellMetadata": {
      "byteLimit": 2048000,
      "rowLimit": 10000
     },
     "inputWidgets": {},
     "nuid": "05bec68a-e01f-4eec-a8d8-373aa7b8829c",
     "showTitle": false,
     "tableResultSettingsMap": {},
     "title": ""
    }
   },
   "source": [
    "Run the code below to see information about the schema (database) that was created for you. In the output below, the schema name is in the row called \"Namespace Name.\" You can see that the schema was auto-created when the catalog was created.\n",
    "\n",
    "Note: The `DA` object is only used in Databricks Academy courses and is not available outside of these courses.\n",
    "\n",
    "The [IDENTIFIER clause](https://docs.databricks.com/en/sql/language-manual/sql-ref-names-identifier-clause.html) interprets a constant string as a:\n",
    "- table or view name\n",
    "- function name\n",
    "- column name\n",
    "- field name\n",
    "- schema name"
   ]
  },
  {
   "cell_type": "code",
   "execution_count": 0,
   "metadata": {
    "application/vnd.databricks.v1+cell": {
     "cellMetadata": {
      "byteLimit": 2048000,
      "rowLimit": 10000
     },
     "inputWidgets": {},
     "nuid": "c6479472-c92b-4af3-abeb-213c06db8d36",
     "showTitle": false,
     "tableResultSettingsMap": {},
     "title": ""
    }
   },
   "outputs": [
    {
     "output_type": "display_data",
     "data": {
      "text/html": [
       "<style scoped>\n",
       "  .table-result-container {\n",
       "    max-height: 300px;\n",
       "    overflow: auto;\n",
       "  }\n",
       "  table, th, td {\n",
       "    border: 1px solid black;\n",
       "    border-collapse: collapse;\n",
       "  }\n",
       "  th, td {\n",
       "    padding: 5px;\n",
       "  }\n",
       "  th {\n",
       "    text-align: left;\n",
       "  }\n",
       "</style><div class='table-result-container'><table class='table-result'><thead style='background-color: white'><tr><th>database_description_item</th><th>database_description_value</th></tr></thead><tbody><tr><td>Catalog Name</td><td>dbacademy</td></tr><tr><td>Namespace Name</td><td>labuser9051024_1737999152</td></tr><tr><td>Comment</td><td></td></tr><tr><td>Location</td><td></td></tr><tr><td>Owner</td><td>9556a37f-7dc0-4b5f-849c-babbde9b34af</td></tr></tbody></table></div>"
      ]
     },
     "metadata": {
      "application/vnd.databricks.v1+output": {
       "addedWidgets": {},
       "aggData": [],
       "aggError": "",
       "aggOverflow": false,
       "aggSchema": [],
       "aggSeriesLimitReached": false,
       "aggType": "",
       "arguments": {},
       "columnCustomDisplayInfos": {},
       "data": [
        [
         "Catalog Name",
         "dbacademy"
        ],
        [
         "Namespace Name",
         "labuser9051024_1737999152"
        ],
        [
         "Comment",
         ""
        ],
        [
         "Location",
         ""
        ],
        [
         "Owner",
         "9556a37f-7dc0-4b5f-849c-babbde9b34af"
        ]
       ],
       "datasetInfos": [
        {
         "name": "_sqldf",
         "schema": {
          "fields": [
           {
            "metadata": {},
            "name": "database_description_item",
            "nullable": false,
            "type": "string"
           },
           {
            "metadata": {},
            "name": "database_description_value",
            "nullable": true,
            "type": "string"
           }
          ],
          "type": "struct"
         },
         "tableIdentifier": null,
         "typeStr": "pyspark.sql.connect.dataframe.DataFrame"
        }
       ],
       "dbfsResultPath": null,
       "isJsonSchema": true,
       "metadata": {
        "createTempViewForImplicitDf": true,
        "dataframeName": "_sqldf",
        "executionCount": 11
       },
       "overflow": false,
       "plotOptions": {
        "customPlotOptions": {},
        "displayType": "table",
        "pivotAggregation": null,
        "pivotColumns": null,
        "xColumns": null,
        "yColumns": null
       },
       "removedWidgets": [],
       "schema": [
        {
         "metadata": "{}",
         "name": "database_description_item",
         "type": "\"string\""
        },
        {
         "metadata": "{}",
         "name": "database_description_value",
         "type": "\"string\""
        }
       ],
       "type": "table"
      }
     },
     "output_type": "display_data"
    }
   ],
   "source": [
    "DESCRIBE SCHEMA IDENTIFIER(DA.schema_name);"
   ]
  },
  {
   "cell_type": "markdown",
   "metadata": {
    "application/vnd.databricks.v1+cell": {
     "cellMetadata": {
      "byteLimit": 2048000,
      "rowLimit": 10000
     },
     "inputWidgets": {},
     "nuid": "b7783d7b-24a4-49ca-98b7-86893607ffa8",
     "showTitle": false,
     "tableResultSettingsMap": {},
     "title": ""
    }
   },
   "source": [
    "## Managed and External Tables\n",
    "Databricks supports tables that copy data into the metastore associated with this Databricks workspace (managed tables), as well as tables that are simply registered with the metastore but do not copy data from object storage outside the metastore location (external tables). With external tables, data remains in its original location, but you can access it from within Databricks the same way as managed tables. In fact, once a table is created, you may not even care whether or not a table is managed or external. So far, all the tables we have created are managed tables. \n",
    "\n",
    "We will **not** be creating external tables in this course. You can learn about creating external tables [here](https://docs.databricks.com/en/sql/language-manual/sql-ref-external-tables.html)."
   ]
  },
  {
   "cell_type": "markdown",
   "metadata": {
    "application/vnd.databricks.v1+cell": {
     "cellMetadata": {
      "byteLimit": 2048000,
      "rowLimit": 10000
     },
     "inputWidgets": {},
     "nuid": "86a9877e-a8c7-4cbb-954f-38d1b8260147",
     "showTitle": false,
     "tableResultSettingsMap": {},
     "title": ""
    }
   },
   "source": [
    "## Load Incrementally\n",
    "\n",
    "**`COPY INTO`** provides SQL engineers an idempotent option to incrementally ingest data from external systems.\n",
    "\n",
    "Note that this operation does have some expectations:\n",
    "- Data schema should be consistent\n",
    "- Duplicate records should try to be excluded or handled downstream\n",
    "\n",
    "This operation is potentially much cheaper than full table scans for data that grows predictably.\n",
    "\n",
    "We want to capture new data but not re-ingest files that have already been read. We can use `COPY INTO` to perform this action. \n",
    "\n",
    "The first step is to create an empty table. We can then use COPY INTO to infer the schema of our existing data and copy data from new files that were added since the last time we ran `COPY INTO`.\n"
   ]
  },
  {
   "cell_type": "code",
   "execution_count": 0,
   "metadata": {
    "application/vnd.databricks.v1+cell": {
     "cellMetadata": {
      "byteLimit": 2048000,
      "rowLimit": 10000
     },
     "inputWidgets": {},
     "nuid": "77665bef-ac43-422d-95df-4ecdd2c700de",
     "showTitle": false,
     "tableResultSettingsMap": {},
     "title": ""
    }
   },
   "outputs": [],
   "source": [
    "DROP TABLE IF EXISTS users_bronze;\n",
    "\n",
    "CREATE TABLE users_bronze \n",
    "USING DELTA;"
   ]
  },
  {
   "cell_type": "markdown",
   "metadata": {
    "application/vnd.databricks.v1+cell": {
     "cellMetadata": {
      "byteLimit": 2048000,
      "rowLimit": 10000
     },
     "inputWidgets": {},
     "nuid": "3738127e-ac7e-4fca-971c-0822e488f725",
     "showTitle": false,
     "tableResultSettingsMap": {},
     "title": ""
    }
   },
   "source": [
    "COPY INTO loads data from data files into a Delta table. This is a retriable and idempotent operation, meaning that files in the source location that have already been loaded are skipped.\n",
    "\n",
    "The cell below demonstrates how to use COPY INTO with a parquet source, specifying:\n",
    "1. The path to the data. \n",
    "\n",
    "1. The FILEFORMAT of the data, in this case, parquet.\n",
    "1. COPY_OPTIONS -- There are a number of key-value pairs that can be used. We are specifying that we want to merge the schema of the data."
   ]
  },
  {
   "cell_type": "code",
   "execution_count": 0,
   "metadata": {
    "application/vnd.databricks.v1+cell": {
     "cellMetadata": {
      "byteLimit": 2048000,
      "rowLimit": 10000
     },
     "inputWidgets": {},
     "nuid": "5ca5b085-dca8-4725-94e6-a8da6e477d12",
     "showTitle": false,
     "tableResultSettingsMap": {},
     "title": ""
    }
   },
   "outputs": [
    {
     "output_type": "display_data",
     "data": {
      "text/html": [
       "<style scoped>\n",
       "  .table-result-container {\n",
       "    max-height: 300px;\n",
       "    overflow: auto;\n",
       "  }\n",
       "  table, th, td {\n",
       "    border: 1px solid black;\n",
       "    border-collapse: collapse;\n",
       "  }\n",
       "  th, td {\n",
       "    padding: 5px;\n",
       "  }\n",
       "  th {\n",
       "    text-align: left;\n",
       "  }\n",
       "</style><div class='table-result-container'><table class='table-result'><thead style='background-color: white'><tr><th>num_affected_rows</th><th>num_inserted_rows</th><th>num_skipped_corrupt_files</th></tr></thead><tbody><tr><td>983</td><td>983</td><td>0</td></tr></tbody></table></div>"
      ]
     },
     "metadata": {
      "application/vnd.databricks.v1+output": {
       "addedWidgets": {},
       "aggData": [],
       "aggError": "",
       "aggOverflow": false,
       "aggSchema": [],
       "aggSeriesLimitReached": false,
       "aggType": "",
       "arguments": {},
       "columnCustomDisplayInfos": {},
       "data": [
        [
         983,
         983,
         0
        ]
       ],
       "datasetInfos": [
        {
         "name": "_sqldf",
         "schema": {
          "fields": [
           {
            "metadata": {},
            "name": "num_affected_rows",
            "nullable": true,
            "type": "long"
           },
           {
            "metadata": {},
            "name": "num_inserted_rows",
            "nullable": true,
            "type": "long"
           },
           {
            "metadata": {},
            "name": "num_skipped_corrupt_files",
            "nullable": true,
            "type": "integer"
           }
          ],
          "type": "struct"
         },
         "tableIdentifier": null,
         "typeStr": "pyspark.sql.connect.dataframe.DataFrame"
        }
       ],
       "dbfsResultPath": null,
       "isJsonSchema": true,
       "metadata": {
        "createTempViewForImplicitDf": true,
        "dataframeName": "_sqldf",
        "executionCount": 14
       },
       "overflow": false,
       "plotOptions": {
        "customPlotOptions": {},
        "displayType": "table",
        "pivotAggregation": null,
        "pivotColumns": null,
        "xColumns": null,
        "yColumns": null
       },
       "removedWidgets": [],
       "schema": [
        {
         "metadata": "{}",
         "name": "num_affected_rows",
         "type": "\"long\""
        },
        {
         "metadata": "{}",
         "name": "num_inserted_rows",
         "type": "\"long\""
        },
        {
         "metadata": "{}",
         "name": "num_skipped_corrupt_files",
         "type": "\"integer\""
        }
       ],
       "type": "table"
      }
     },
     "output_type": "display_data"
    }
   ],
   "source": [
    "COPY INTO users_bronze\n",
    "  FROM '/Volumes/dbacademy_ecommerce/v01/raw/users-30m/'\n",
    "  FILEFORMAT = parquet\n",
    "  COPY_OPTIONS ('mergeSchema' = 'true');"
   ]
  },
  {
   "cell_type": "markdown",
   "metadata": {
    "application/vnd.databricks.v1+cell": {
     "cellMetadata": {
      "byteLimit": 2048000,
      "rowLimit": 10000
     },
     "inputWidgets": {},
     "nuid": "e56e61c8-caf6-40f7-acd9-5323a2e00722",
     "showTitle": false,
     "tableResultSettingsMap": {},
     "title": ""
    }
   },
   "source": [
    "%md\n",
    "## COPY INTO is Idempotent\n",
    "COPY INTO keeps track of the files it has ingested previously. We can run it again, and no additional data is ingested because the files in the source directory haven't changed. Let's run the `COPY INTO` command again to show this. \n",
    "\n",
    "The count of total rows is the same as the `number_inserted_rows` above because no new data was copied into the table."
   ]
  },
  {
   "cell_type": "code",
   "execution_count": 0,
   "metadata": {
    "application/vnd.databricks.v1+cell": {
     "cellMetadata": {
      "byteLimit": 2048000,
      "rowLimit": 10000
     },
     "inputWidgets": {},
     "nuid": "e5fef7c8-b201-48ed-bab6-47a82b7390f7",
     "showTitle": false,
     "tableResultSettingsMap": {},
     "title": ""
    }
   },
   "outputs": [
    {
     "output_type": "display_data",
     "data": {
      "text/html": [
       "<style scoped>\n",
       "  .table-result-container {\n",
       "    max-height: 300px;\n",
       "    overflow: auto;\n",
       "  }\n",
       "  table, th, td {\n",
       "    border: 1px solid black;\n",
       "    border-collapse: collapse;\n",
       "  }\n",
       "  th, td {\n",
       "    padding: 5px;\n",
       "  }\n",
       "  th {\n",
       "    text-align: left;\n",
       "  }\n",
       "</style><div class='table-result-container'><table class='table-result'><thead style='background-color: white'><tr><th>num_affected_rows</th><th>num_inserted_rows</th><th>num_skipped_corrupt_files</th></tr></thead><tbody><tr><td>0</td><td>0</td><td>0</td></tr></tbody></table></div>"
      ]
     },
     "metadata": {
      "application/vnd.databricks.v1+output": {
       "addedWidgets": {},
       "aggData": [],
       "aggError": "",
       "aggOverflow": false,
       "aggSchema": [],
       "aggSeriesLimitReached": false,
       "aggType": "",
       "arguments": {},
       "columnCustomDisplayInfos": {},
       "data": [
        [
         0,
         0,
         0
        ]
       ],
       "datasetInfos": [
        {
         "name": "_sqldf",
         "schema": {
          "fields": [
           {
            "metadata": {},
            "name": "num_affected_rows",
            "nullable": true,
            "type": "long"
           },
           {
            "metadata": {},
            "name": "num_inserted_rows",
            "nullable": true,
            "type": "long"
           },
           {
            "metadata": {},
            "name": "num_skipped_corrupt_files",
            "nullable": true,
            "type": "integer"
           }
          ],
          "type": "struct"
         },
         "tableIdentifier": null,
         "typeStr": "pyspark.sql.connect.dataframe.DataFrame"
        }
       ],
       "dbfsResultPath": null,
       "isJsonSchema": true,
       "metadata": {
        "createTempViewForImplicitDf": true,
        "dataframeName": "_sqldf",
        "executionCount": 15
       },
       "overflow": false,
       "plotOptions": {
        "customPlotOptions": {},
        "displayType": "table",
        "pivotAggregation": null,
        "pivotColumns": null,
        "xColumns": null,
        "yColumns": null
       },
       "removedWidgets": [],
       "schema": [
        {
         "metadata": "{}",
         "name": "num_affected_rows",
         "type": "\"long\""
        },
        {
         "metadata": "{}",
         "name": "num_inserted_rows",
         "type": "\"long\""
        },
        {
         "metadata": "{}",
         "name": "num_skipped_corrupt_files",
         "type": "\"integer\""
        }
       ],
       "type": "table"
      }
     },
     "output_type": "display_data"
    }
   ],
   "source": [
    "COPY INTO users_bronze\n",
    "  FROM '/Volumes/dbacademy_ecommerce/v01/raw/users-30m/'\n",
    "  FILEFORMAT = parquet\n",
    "  COPY_OPTIONS ('mergeSchema' = 'true');"
   ]
  },
  {
   "cell_type": "code",
   "execution_count": 0,
   "metadata": {
    "application/vnd.databricks.v1+cell": {
     "cellMetadata": {
      "byteLimit": 2048000,
      "rowLimit": 10000
     },
     "inputWidgets": {},
     "nuid": "dae739e0-5b0b-4296-9494-07cbcc2e37f3",
     "showTitle": false,
     "tableResultSettingsMap": {},
     "title": ""
    }
   },
   "outputs": [
    {
     "output_type": "display_data",
     "data": {
      "text/html": [
       "<style scoped>\n",
       "  .table-result-container {\n",
       "    max-height: 300px;\n",
       "    overflow: auto;\n",
       "  }\n",
       "  table, th, td {\n",
       "    border: 1px solid black;\n",
       "    border-collapse: collapse;\n",
       "  }\n",
       "  th, td {\n",
       "    padding: 5px;\n",
       "  }\n",
       "  th {\n",
       "    text-align: left;\n",
       "  }\n",
       "</style><div class='table-result-container'><table class='table-result'><thead style='background-color: white'><tr><th>count(*)</th></tr></thead><tbody><tr><td>983</td></tr></tbody></table></div>"
      ]
     },
     "metadata": {
      "application/vnd.databricks.v1+output": {
       "addedWidgets": {},
       "aggData": [],
       "aggError": "",
       "aggOverflow": false,
       "aggSchema": [],
       "aggSeriesLimitReached": false,
       "aggType": "",
       "arguments": {},
       "columnCustomDisplayInfos": {},
       "data": [
        [
         983
        ]
       ],
       "datasetInfos": [
        {
         "name": "_sqldf",
         "schema": {
          "fields": [
           {
            "metadata": {},
            "name": "count(*)",
            "nullable": false,
            "type": "long"
           }
          ],
          "type": "struct"
         },
         "tableIdentifier": null,
         "typeStr": "pyspark.sql.connect.dataframe.DataFrame"
        }
       ],
       "dbfsResultPath": null,
       "isJsonSchema": true,
       "metadata": {
        "createTempViewForImplicitDf": true,
        "dataframeName": "_sqldf",
        "executionCount": 16
       },
       "overflow": false,
       "plotOptions": {
        "customPlotOptions": {},
        "displayType": "table",
        "pivotAggregation": null,
        "pivotColumns": null,
        "xColumns": null,
        "yColumns": null
       },
       "removedWidgets": [],
       "schema": [
        {
         "metadata": "{}",
         "name": "count(*)",
         "type": "\"long\""
        }
       ],
       "type": "table"
      }
     },
     "output_type": "display_data"
    }
   ],
   "source": [
    "SELECT count(*) \n",
    "FROM users_bronze;"
   ]
  },
  {
   "cell_type": "markdown",
   "metadata": {
    "application/vnd.databricks.v1+cell": {
     "cellMetadata": {
      "byteLimit": 2048000,
      "rowLimit": 10000
     },
     "inputWidgets": {},
     "nuid": "289e6834-289e-40ed-8bef-0c5f673b8561",
     "showTitle": false,
     "tableResultSettingsMap": {},
     "title": ""
    }
   },
   "source": [
    "\n",
    "## Creating External Tables\n",
    "\n",
    "While Spark will extract some self-describing data sources efficiently using default settings, many formats will require declaration of schema or other options.\n",
    "\n",
    "External tables are tables whose data is stored outside of the managed storage location specified for the metastore, catalog, or schema. Use external tables only when you require direct access to the data outside of Databricks clusters or Databricks SQL warehouses.\n",
    "\n",
    "In order to provide access to an external storage location, a user with the necessary privileges must follow the instructions found [here](https://docs.databricks.com/en/sql/language-manual/sql-ref-external-locations.html). Once the external location is properly configured, external tables can be created with code like this:\n",
    "\n",
    "<strong><code>\n",
    "DROP TABLE IF EXISTS sales_csv;<br />\n",
    "CREATE TABLE sales_csv<br />\n",
    "  (order_id LONG, email STRING, transactions_timestamp LONG, total_item_quantity INTEGER, purchase_revenue_in_usd DOUBLE, unique_items INTEGER, items STRING)<br />\n",
    "USING CSV<br />\n",
    "OPTIONS (<br />\n",
    "  header = \"true\",<br />\n",
    "  delimiter = \"|\"<br />\n",
    ")<br />\n",
    "LOCATION \"<path-to-external-location>\"<br />\n",
    "</code></strong>\n",
    "\n",
    "Note the use of the **`LOCATION`** keyword, followed by a path to the pre-configured external location. When you run **`DROP TABLE`** on an external table, Unity Catalog does not delete the underlying data.\n",
    "\n",
    "Also note that options are passed with keys as unquoted text and values in quotes. Spark supports many <a href=\"https://docs.databricks.com/data/data-sources/index.html\" target=\"_blank\">data sources</a> with custom options, and additional systems may have unofficial support through external <a href=\"https://docs.databricks.com/libraries/index.html\" target=\"_blank\">libraries</a>. \n",
    "\n",
    "**NOTE**: Depending on your workspace settings, you may need administrator assistance to load libraries and configure the requisite security settings for some data sources.\n"
   ]
  },
  {
   "cell_type": "markdown",
   "metadata": {
    "application/vnd.databricks.v1+cell": {
     "cellMetadata": {
      "byteLimit": 2048000,
      "rowLimit": 10000
     },
     "inputWidgets": {},
     "nuid": "ec753175-d3bd-4430-875c-797bafe8d01a",
     "showTitle": false,
     "tableResultSettingsMap": {},
     "title": ""
    }
   },
   "source": [
    "## Limits of Tables with External Data Sources\n",
    "\n",
    "By using our CTAS example and our `COPY INTO` example as we have so far, we are able to take full advantage of converting our CSV data into the Delta format. This allows us to take advantage of the performance guarantees associated with Delta Lake and the Databricks Data Intelligence Platform.\n",
    "\n",
    "If we were defining tables or queries against external data sources, we **cannot** expect the performance guarantees associated with Delta Lake and the Data Intelligence Platform.\n",
    "\n",
    "For example: While Delta Lake tables will guarantee that you always query the most recent version of your source data, tables registered against other data sources may represent older cached versions."
   ]
  },
  {
   "cell_type": "markdown",
   "metadata": {
    "application/vnd.databricks.v1+cell": {
     "cellMetadata": {
      "byteLimit": 2048000,
      "rowLimit": 10000
     },
     "inputWidgets": {},
     "nuid": "4312f1f2-3659-48b2-bc90-d30cfe822248",
     "showTitle": false,
     "tableResultSettingsMap": {},
     "title": ""
    }
   },
   "source": [
    "## Built-In Functions\n",
    "\n",
    "Databricks has a vast [number of built-in functions](https://docs.databricks.com/en/sql/language-manual/sql-ref-functions-builtin.html) you can use in your code.\n",
    "\n",
    "We are going to create a table for user data generated by the previous point-of-sale system, but we need to make some changes. \n",
    "\n",
    "The `first_touch_timestamp` is in the wrong format. We need to divide the timestamp that is currently in microseconds by 1e6 (1 million). We will then use `CAST` to cast the result to a [TIMESTAMP](https://docs.databricks.com/en/sql/language-manual/data-types/timestamp-type.html). Then, we `CAST` to [DATE](https://docs.databricks.com/en/sql/language-manual/data-types/date-type.html).\n",
    "\n",
    "Since we want to make changes to the `first_touch_timestamp` data, we need to use the `CAST` keyword. The syntax for `CAST` is `CAST(column AS data_type)`. We first cast the data to a `TIMESTAMP` and then to a `DATE`.  To use `CAST` with `COPY INTO`, we need to use a `SELECT` clause (make sure you include the parentheses) after the word `FROM` (in the `COPY INTO`).\n",
    "\n",
    "Our **`SELECT`** clause leverages two additional built-in Spark SQL commands useful for file ingestion:\n",
    "* **`current_timestamp()`** records the timestamp when the logic is executed\n",
    "* **`_metadata.file_name`** records the source data file for each record in the table\n"
   ]
  },
  {
   "cell_type": "code",
   "execution_count": 0,
   "metadata": {
    "application/vnd.databricks.v1+cell": {
     "cellMetadata": {
      "byteLimit": 2048000,
      "rowLimit": 10000
     },
     "inputWidgets": {},
     "nuid": "29af44a9-ec35-4dfc-a812-131ed084993c",
     "showTitle": false,
     "tableResultSettingsMap": {},
     "title": ""
    }
   },
   "outputs": [
    {
     "output_type": "display_data",
     "data": {
      "text/html": [
       "<style scoped>\n",
       "  .table-result-container {\n",
       "    max-height: 300px;\n",
       "    overflow: auto;\n",
       "  }\n",
       "  table, th, td {\n",
       "    border: 1px solid black;\n",
       "    border-collapse: collapse;\n",
       "  }\n",
       "  th, td {\n",
       "    padding: 5px;\n",
       "  }\n",
       "  th {\n",
       "    text-align: left;\n",
       "  }\n",
       "</style><div class='table-result-container'><table class='table-result'><thead style='background-color: white'><tr><th>user_id</th><th>user_first_touch_timestamp</th><th>email</th><th>first_touch_date</th><th>updated</th><th>source_file</th></tr></thead><tbody><tr><td>UA000000102357395</td><td>1592190121523305</td><td>jeremyfarrell@hart.net</td><td>2020-06-15</td><td>2025-01-27T18:17:22.107Z</td><td>part-00000-tid-531959640415905750-948b4f2d-2d35-46e3-97eb-e6d85d2bf872-7571-1-c000.snappy.parquet</td></tr><tr><td>UA000000102357489</td><td>1592192459520769</td><td>null</td><td>2020-06-15</td><td>2025-01-27T18:17:22.107Z</td><td>part-00000-tid-531959640415905750-948b4f2d-2d35-46e3-97eb-e6d85d2bf872-7571-1-c000.snappy.parquet</td></tr><tr><td>UA000000102357626</td><td>1592194772447739</td><td>bergjesse@yahoo.com</td><td>2020-06-15</td><td>2025-01-27T18:17:22.107Z</td><td>part-00000-tid-531959640415905750-948b4f2d-2d35-46e3-97eb-e6d85d2bf872-7571-1-c000.snappy.parquet</td></tr><tr><td>UA000000102357672</td><td>1592195514566890</td><td>null</td><td>2020-06-15</td><td>2025-01-27T18:17:22.107Z</td><td>part-00000-tid-531959640415905750-948b4f2d-2d35-46e3-97eb-e6d85d2bf872-7571-1-c000.snappy.parquet</td></tr><tr><td>UA000000102357678</td><td>1592195595064595</td><td>null</td><td>2020-06-15</td><td>2025-01-27T18:17:22.107Z</td><td>part-00000-tid-531959640415905750-948b4f2d-2d35-46e3-97eb-e6d85d2bf872-7571-1-c000.snappy.parquet</td></tr><tr><td>UA000000102357776</td><td>1592196622138468</td><td>null</td><td>2020-06-15</td><td>2025-01-27T18:17:22.107Z</td><td>part-00000-tid-531959640415905750-948b4f2d-2d35-46e3-97eb-e6d85d2bf872-7571-1-c000.snappy.parquet</td></tr><tr><td>UA000000102357956</td><td>1592198144189925</td><td>null</td><td>2020-06-15</td><td>2025-01-27T18:17:22.107Z</td><td>part-00000-tid-531959640415905750-948b4f2d-2d35-46e3-97eb-e6d85d2bf872-7571-1-c000.snappy.parquet</td></tr><tr><td>UA000000102358011</td><td>1592198574912871</td><td>null</td><td>2020-06-15</td><td>2025-01-27T18:17:22.107Z</td><td>part-00000-tid-531959640415905750-948b4f2d-2d35-46e3-97eb-e6d85d2bf872-7571-1-c000.snappy.parquet</td></tr><tr><td>UA000000102358095</td><td>1592199051437790</td><td>null</td><td>2020-06-15</td><td>2025-01-27T18:17:22.107Z</td><td>part-00000-tid-531959640415905750-948b4f2d-2d35-46e3-97eb-e6d85d2bf872-7571-1-c000.snappy.parquet</td></tr><tr><td>UA000000102358668</td><td>1592201725118996</td><td>null</td><td>2020-06-15</td><td>2025-01-27T18:17:22.107Z</td><td>part-00000-tid-531959640415905750-948b4f2d-2d35-46e3-97eb-e6d85d2bf872-7571-1-c000.snappy.parquet</td></tr></tbody></table></div>"
      ]
     },
     "metadata": {
      "application/vnd.databricks.v1+output": {
       "addedWidgets": {},
       "aggData": [],
       "aggError": "",
       "aggOverflow": false,
       "aggSchema": [],
       "aggSeriesLimitReached": false,
       "aggType": "",
       "arguments": {},
       "columnCustomDisplayInfos": {},
       "data": [
        [
         "UA000000102357395",
         1592190121523305,
         "jeremyfarrell@hart.net",
         "2020-06-15",
         "2025-01-27T18:17:22.107Z",
         "part-00000-tid-531959640415905750-948b4f2d-2d35-46e3-97eb-e6d85d2bf872-7571-1-c000.snappy.parquet"
        ],
        [
         "UA000000102357489",
         1592192459520769,
         null,
         "2020-06-15",
         "2025-01-27T18:17:22.107Z",
         "part-00000-tid-531959640415905750-948b4f2d-2d35-46e3-97eb-e6d85d2bf872-7571-1-c000.snappy.parquet"
        ],
        [
         "UA000000102357626",
         1592194772447739,
         "bergjesse@yahoo.com",
         "2020-06-15",
         "2025-01-27T18:17:22.107Z",
         "part-00000-tid-531959640415905750-948b4f2d-2d35-46e3-97eb-e6d85d2bf872-7571-1-c000.snappy.parquet"
        ],
        [
         "UA000000102357672",
         1592195514566890,
         null,
         "2020-06-15",
         "2025-01-27T18:17:22.107Z",
         "part-00000-tid-531959640415905750-948b4f2d-2d35-46e3-97eb-e6d85d2bf872-7571-1-c000.snappy.parquet"
        ],
        [
         "UA000000102357678",
         1592195595064595,
         null,
         "2020-06-15",
         "2025-01-27T18:17:22.107Z",
         "part-00000-tid-531959640415905750-948b4f2d-2d35-46e3-97eb-e6d85d2bf872-7571-1-c000.snappy.parquet"
        ],
        [
         "UA000000102357776",
         1592196622138468,
         null,
         "2020-06-15",
         "2025-01-27T18:17:22.107Z",
         "part-00000-tid-531959640415905750-948b4f2d-2d35-46e3-97eb-e6d85d2bf872-7571-1-c000.snappy.parquet"
        ],
        [
         "UA000000102357956",
         1592198144189925,
         null,
         "2020-06-15",
         "2025-01-27T18:17:22.107Z",
         "part-00000-tid-531959640415905750-948b4f2d-2d35-46e3-97eb-e6d85d2bf872-7571-1-c000.snappy.parquet"
        ],
        [
         "UA000000102358011",
         1592198574912871,
         null,
         "2020-06-15",
         "2025-01-27T18:17:22.107Z",
         "part-00000-tid-531959640415905750-948b4f2d-2d35-46e3-97eb-e6d85d2bf872-7571-1-c000.snappy.parquet"
        ],
        [
         "UA000000102358095",
         1592199051437790,
         null,
         "2020-06-15",
         "2025-01-27T18:17:22.107Z",
         "part-00000-tid-531959640415905750-948b4f2d-2d35-46e3-97eb-e6d85d2bf872-7571-1-c000.snappy.parquet"
        ],
        [
         "UA000000102358668",
         1592201725118996,
         null,
         "2020-06-15",
         "2025-01-27T18:17:22.107Z",
         "part-00000-tid-531959640415905750-948b4f2d-2d35-46e3-97eb-e6d85d2bf872-7571-1-c000.snappy.parquet"
        ]
       ],
       "datasetInfos": [
        {
         "name": "_sqldf",
         "schema": {
          "fields": [
           {
            "metadata": {},
            "name": "user_id",
            "nullable": true,
            "type": "string"
           },
           {
            "metadata": {},
            "name": "user_first_touch_timestamp",
            "nullable": true,
            "type": "long"
           },
           {
            "metadata": {},
            "name": "email",
            "nullable": true,
            "type": "string"
           },
           {
            "metadata": {},
            "name": "first_touch_date",
            "nullable": true,
            "type": "date"
           },
           {
            "metadata": {},
            "name": "updated",
            "nullable": true,
            "type": "timestamp"
           },
           {
            "metadata": {},
            "name": "source_file",
            "nullable": true,
            "type": "string"
           }
          ],
          "type": "struct"
         },
         "tableIdentifier": null,
         "typeStr": "pyspark.sql.connect.dataframe.DataFrame"
        }
       ],
       "dbfsResultPath": null,
       "isJsonSchema": true,
       "metadata": {
        "createTempViewForImplicitDf": true,
        "dataframeName": "_sqldf",
        "executionCount": 18
       },
       "overflow": false,
       "plotOptions": {
        "customPlotOptions": {},
        "displayType": "table",
        "pivotAggregation": null,
        "pivotColumns": null,
        "xColumns": null,
        "yColumns": null
       },
       "removedWidgets": [],
       "schema": [
        {
         "metadata": "{}",
         "name": "user_id",
         "type": "\"string\""
        },
        {
         "metadata": "{}",
         "name": "user_first_touch_timestamp",
         "type": "\"long\""
        },
        {
         "metadata": "{}",
         "name": "email",
         "type": "\"string\""
        },
        {
         "metadata": "{}",
         "name": "first_touch_date",
         "type": "\"date\""
        },
        {
         "metadata": "{}",
         "name": "updated",
         "type": "\"timestamp\""
        },
        {
         "metadata": "{}",
         "name": "source_file",
         "type": "\"string\""
        }
       ],
       "type": "table"
      }
     },
     "output_type": "display_data"
    }
   ],
   "source": [
    "DROP TABLE IF EXISTS users_bronze;\n",
    "\n",
    "CREATE TABLE users_bronze;\n",
    "COPY INTO users_bronze FROM\n",
    "  (SELECT *, \n",
    "    cast(cast(user_first_touch_timestamp/1e6 AS TIMESTAMP) AS DATE) first_touch_date, \n",
    "    current_timestamp() updated,\n",
    "    _metadata.file_name source_file\n",
    "  FROM '/Volumes/dbacademy_ecommerce/v01/raw/users-historical/')\n",
    "  FILEFORMAT = PARQUET\n",
    "  COPY_OPTIONS ('mergeSchema' = 'true');\n",
    "\n",
    "\n",
    "SELECT * \n",
    "FROM users_bronze LIMIT 10;"
   ]
  },
  {
   "cell_type": "markdown",
   "metadata": {
    "application/vnd.databricks.v1+cell": {
     "cellMetadata": {
      "byteLimit": 2048000,
      "rowLimit": 10000
     },
     "inputWidgets": {},
     "nuid": "0a1d3f69-d3fe-43f4-b51e-efbc470d9ae7",
     "showTitle": false,
     "tableResultSettingsMap": {},
     "title": ""
    }
   },
   "source": [
    "\n",
    "&copy; 2025 Databricks, Inc. All rights reserved.<br/>\n",
    "Apache, Apache Spark, Spark and the Spark logo are trademarks of the \n",
    "<a href=\"https://www.apache.org/\">Apache Software Foundation</a>.<br/>\n",
    "<br/><a href=\"https://databricks.com/privacy-policy\">Privacy Policy</a> | \n",
    "<a href=\"https://databricks.com/terms-of-use\">Terms of Use</a> | \n",
    "<a href=\"https://help.databricks.com/\">Support</a>"
   ]
  }
 ],
 "metadata": {
  "application/vnd.databricks.v1+notebook": {
   "computePreferences": null,
   "dashboards": [],
   "environmentMetadata": null,
   "language": "sql",
   "notebookMetadata": {
    "pythonIndentUnit": 4
   },
   "notebookName": "1 - Set Up and Load Delta Tables",
   "widgets": {}
  },
  "language_info": {
   "name": "sql"
  }
 },
 "nbformat": 4,
 "nbformat_minor": 0
}