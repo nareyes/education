{
 "cells": [
  {
   "cell_type": "markdown",
   "metadata": {},
   "source": [
    "# Chapter 1 - Python Primer"
   ]
  },
  {
   "cell_type": "markdown",
   "metadata": {},
   "source": [
    "### 1.1.2 Preview of a Python Program"
   ]
  },
  {
   "cell_type": "code",
   "execution_count": 7,
   "metadata": {},
   "outputs": [
    {
     "name": "stdout",
     "output_type": "stream",
     "text": [
      "Welcome to the GPA Caclculator!\n",
      "Please Enter All Letter Grades, One Per Line.\n",
      "Enter a Blank Line to Designate the End.\n",
      "\n",
      "Your GPA is 3.39\n"
     ]
    }
   ],
   "source": [
    "# GPA Calculator\n",
    "print('Welcome to the GPA Caclculator!')\n",
    "print('Please Enter All Letter Grades, One Per Line.')\n",
    "print('Enter a Blank Line to Designate the End.\\n')\n",
    "\n",
    "# map from letter grade to point value\n",
    "points = {\n",
    "    'A+': 4.33,\n",
    "    'A':  4.00,\n",
    "    'A-': 3.67,\n",
    "    'B+': 3.33,\n",
    "    'B':  3.00,\n",
    "    'B-': 2.67,\n",
    "    'C+': 2.33,\n",
    "    'C':  2.00,\n",
    "    'C-': 1.67,\n",
    "    'D+': 1.33,\n",
    "    'D':  1.00,\n",
    "    'F':  0.00,\n",
    "}\n",
    "\n",
    "num_courses = 0\n",
    "total_points= 0\n",
    "done = False\n",
    "\n",
    "while not done:\n",
    "    grades = input()\n",
    "\n",
    "    if grades == '':            # read lines from user\n",
    "        done = True             # empty line entered terminates program\n",
    "    elif grades not in points:  # unrecognized grade entered\n",
    "        print(\"Unkown Grade '{0}' Ignored\".format(grades))\n",
    "    else:\n",
    "        num_courses += 1\n",
    "        total_points += points[grades]\n",
    "\n",
    "if num_courses > 0:             # avoid division by zero\n",
    "    print(\"Your GPA is {0:.3}\".format(total_points / num_courses))"
   ]
  }
 ],
 "metadata": {
  "kernelspec": {
   "display_name": "base",
   "language": "python",
   "name": "python3"
  },
  "language_info": {
   "codemirror_mode": {
    "name": "ipython",
    "version": 3
   },
   "file_extension": ".py",
   "mimetype": "text/x-python",
   "name": "python",
   "nbconvert_exporter": "python",
   "pygments_lexer": "ipython3",
   "version": "3.11.7"
  }
 },
 "nbformat": 4,
 "nbformat_minor": 2
}
