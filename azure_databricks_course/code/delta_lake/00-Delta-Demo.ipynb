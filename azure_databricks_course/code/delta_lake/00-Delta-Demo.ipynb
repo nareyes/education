{
 "cells": [
  {
   "cell_type": "markdown",
   "metadata": {
    "application/vnd.databricks.v1+cell": {
     "cellMetadata": {},
     "inputWidgets": {},
     "nuid": "87586540-c923-46c9-8d19-a6d5c0e684f2",
     "showTitle": false,
     "title": ""
    }
   },
   "source": [
    "# Delta Demo\n",
    "1. Read Data\n",
    "2. Write Managed Table\n",
    "3. Write External Table\n",
    "4. Write Partitioned Managed Table\n",
    "5. Update Delta Table\n",
    "6. Delete from Delta Table\n",
    "7. Merge/Upsert to Delta Lake\n",
    "8. History and Versioning\n",
    "9. Vacuum (Delete History)\n",
    "10. Convert Parquet Table to Delta\n",
    "11. Convert Parquet File to Delta"
   ]
  },
  {
   "cell_type": "code",
   "execution_count": 0,
   "metadata": {
    "application/vnd.databricks.v1+cell": {
     "cellMetadata": {
      "byteLimit": 2048000,
      "rowLimit": 10000
     },
     "inputWidgets": {},
     "nuid": "242f75c5-ec97-4fed-8222-b33920dff3bf",
     "showTitle": false,
     "title": ""
    }
   },
   "outputs": [],
   "source": [
    "# Import Modules\n",
    "from delta.tables import DeltaTable\n",
    "from pyspark.sql.functions import upper, current_timestamp"
   ]
  },
  {
   "cell_type": "code",
   "execution_count": 0,
   "metadata": {
    "application/vnd.databricks.v1+cell": {
     "cellMetadata": {
      "byteLimit": 2048000,
      "rowLimit": 10000
     },
     "inputWidgets": {},
     "nuid": "730fbfdc-0495-48d3-8a23-e217b9fbb5f4",
     "showTitle": false,
     "title": ""
    }
   },
   "outputs": [],
   "source": [
    "# File Date Parameter\n",
    "dbutils.widgets.text(\"FileDate\", \"2021-03-28\")\n",
    "file_date = dbutils.widgets.get('FileDate')"
   ]
  },
  {
   "cell_type": "code",
   "execution_count": 0,
   "metadata": {
    "application/vnd.databricks.v1+cell": {
     "cellMetadata": {
      "byteLimit": 2048000,
      "rowLimit": 10000
     },
     "inputWidgets": {},
     "nuid": "752182d6-446c-4482-a6bc-cf2e333d55ee",
     "showTitle": false,
     "title": ""
    }
   },
   "outputs": [],
   "source": [
    "%run \"../01-Setup/09-Global-Variables\""
   ]
  },
  {
   "cell_type": "markdown",
   "metadata": {
    "application/vnd.databricks.v1+cell": {
     "cellMetadata": {},
     "inputWidgets": {},
     "nuid": "836a2b03-4c38-45c0-a6e9-2e15541db0a4",
     "showTitle": false,
     "title": ""
    }
   },
   "source": [
    "### Read Data"
   ]
  },
  {
   "cell_type": "code",
   "execution_count": 0,
   "metadata": {
    "application/vnd.databricks.v1+cell": {
     "cellMetadata": {
      "byteLimit": 2048000,
      "rowLimit": 10000
     },
     "inputWidgets": {},
     "nuid": "b95acb5f-5a2a-4832-8c10-087da6d6cefe",
     "showTitle": false,
     "title": ""
    }
   },
   "outputs": [
    {
     "output_type": "display_data",
     "data": {
      "text/html": [
       "<style scoped>\n",
       "  .table-result-container {\n",
       "    max-height: 300px;\n",
       "    overflow: auto;\n",
       "  }\n",
       "  table, th, td {\n",
       "    border: 1px solid black;\n",
       "    border-collapse: collapse;\n",
       "  }\n",
       "  th, td {\n",
       "    padding: 5px;\n",
       "  }\n",
       "  th {\n",
       "    text-align: left;\n",
       "  }\n",
       "</style><div class='table-result-container'><table class='table-result'><thead style='background-color: white'><tr><th>constructorId</th><th>driverId</th><th>fastestLap</th><th>fastestLapSpeed</th><th>fastestLapTime</th><th>grid</th><th>laps</th><th>milliseconds</th><th>number</th><th>points</th><th>position</th><th>positionOrder</th><th>positionText</th><th>raceId</th><th>rank</th><th>resultId</th><th>statusId</th><th>time</th></tr></thead><tbody><tr><td>131</td><td>1</td><td>44</td><td>207.235</td><td>1:34.015</td><td>2</td><td>56</td><td>5523897</td><td>44</td><td>25</td><td>1</td><td>1</td><td>1</td><td>1052</td><td>4</td><td>24966</td><td>1</td><td>1:32:03.897</td></tr><tr><td>9</td><td>830</td><td>41</td><td>208.984</td><td>1:33.228</td><td>1</td><td>56</td><td>5524642</td><td>33</td><td>18</td><td>2</td><td>2</td><td>2</td><td>1052</td><td>2</td><td>24967</td><td>1</td><td>+0.745</td></tr><tr><td>131</td><td>822</td><td>56</td><td>211.566</td><td>1:32.090</td><td>3</td><td>56</td><td>5561280</td><td>77</td><td>16</td><td>3</td><td>3</td><td>3</td><td>1052</td><td>1</td><td>24968</td><td>1</td><td>+37.383</td></tr><tr><td>1</td><td>846</td><td>38</td><td>206.398</td><td>1:34.396</td><td>7</td><td>56</td><td>5570363</td><td>4</td><td>12</td><td>4</td><td>4</td><td>4</td><td>1052</td><td>6</td><td>24969</td><td>1</td><td>+46.466</td></tr><tr><td>9</td><td>815</td><td>44</td><td>207.334</td><td>1:33.970</td><td>0</td><td>56</td><td>5575944</td><td>11</td><td>10</td><td>5</td><td>5</td><td>5</td><td>1052</td><td>3</td><td>24970</td><td>1</td><td>+52.047</td></tr><tr><td>6</td><td>844</td><td>39</td><td>205.112</td><td>1:34.988</td><td>4</td><td>56</td><td>5582987</td><td>16</td><td>8</td><td>6</td><td>6</td><td>6</td><td>1052</td><td>11</td><td>24971</td><td>1</td><td>+59.090</td></tr><tr><td>1</td><td>817</td><td>36</td><td>205.233</td><td>1:34.932</td><td>6</td><td>56</td><td>5589901</td><td>3</td><td>6</td><td>7</td><td>7</td><td>7</td><td>1052</td><td>10</td><td>24972</td><td>1</td><td>+66.004</td></tr><tr><td>6</td><td>832</td><td>48</td><td>206.151</td><td>1:34.509</td><td>8</td><td>56</td><td>5590997</td><td>55</td><td>4</td><td>8</td><td>8</td><td>8</td><td>1052</td><td>7</td><td>24973</td><td>1</td><td>+67.100</td></tr><tr><td>213</td><td>852</td><td>38</td><td>205.603</td><td>1:34.761</td><td>13</td><td>56</td><td>5609589</td><td>22</td><td>2</td><td>9</td><td>9</td><td>9</td><td>1052</td><td>8</td><td>24974</td><td>1</td><td>+85.692</td></tr><tr><td>117</td><td>840</td><td>31</td><td>205.378</td><td>1:34.865</td><td>10</td><td>56</td><td>5610610</td><td>18</td><td>1</td><td>10</td><td>10</td><td>10</td><td>1052</td><td>9</td><td>24975</td><td>1</td><td>+86.713</td></tr><tr><td>51</td><td>8</td><td>45</td><td>204.672</td><td>1:35.192</td><td>14</td><td>56</td><td>5612761</td><td>7</td><td>0</td><td>11</td><td>11</td><td>11</td><td>1052</td><td>14</td><td>24976</td><td>1</td><td>+88.864</td></tr><tr><td>51</td><td>841</td><td>32</td><td>204.823</td><td>1:35.122</td><td>12</td><td>55</td><td>\\N</td><td>99</td><td>0</td><td>12</td><td>12</td><td>12</td><td>1052</td><td>13</td><td>24977</td><td>11</td><td>\\N</td></tr><tr><td>214</td><td>839</td><td>33</td><td>204.548</td><td>1:35.250</td><td>16</td><td>55</td><td>\\N</td><td>31</td><td>0</td><td>13</td><td>13</td><td>13</td><td>1052</td><td>15</td><td>24978</td><td>11</td><td>\\N</td></tr><tr><td>3</td><td>847</td><td>40</td><td>205.008</td><td>1:35.036</td><td>15</td><td>55</td><td>\\N</td><td>63</td><td>0</td><td>14</td><td>14</td><td>14</td><td>1052</td><td>12</td><td>24979</td><td>11</td><td>\\N</td></tr><tr><td>117</td><td>20</td><td>26</td><td>203.871</td><td>1:35.566</td><td>20</td><td>55</td><td>\\N</td><td>5</td><td>0</td><td>15</td><td>15</td><td>15</td><td>1052</td><td>16</td><td>24980</td><td>11</td><td>\\N</td></tr><tr><td>210</td><td>854</td><td>38</td><td>202.667</td><td>1:36.134</td><td>18</td><td>55</td><td>\\N</td><td>47</td><td>0</td><td>16</td><td>16</td><td>16</td><td>1052</td><td>18</td><td>24981</td><td>11</td><td>\\N</td></tr><tr><td>213</td><td>842</td><td>48</td><td>207.069</td><td>1:34.090</td><td>5</td><td>52</td><td>\\N</td><td>10</td><td>0</td><td>17</td><td>17</td><td>17</td><td>1052</td><td>5</td><td>24982</td><td>31</td><td>\\N</td></tr><tr><td>3</td><td>849</td><td>16</td><td>201.685</td><td>1:36.602</td><td>17</td><td>51</td><td>\\N</td><td>6</td><td>0</td><td>18</td><td>18</td><td>18</td><td>1052</td><td>19</td><td>24983</td><td>31</td><td>\\N</td></tr><tr><td>214</td><td>4</td><td>31</td><td>202.816</td><td>1:36.063</td><td>9</td><td>32</td><td>\\N</td><td>14</td><td>0</td><td>\\N</td><td>19</td><td>R</td><td>1052</td><td>17</td><td>24984</td><td>23</td><td>\\N</td></tr><tr><td>210</td><td>853</td><td>\\N</td><td>\\N</td><td>\\N</td><td>19</td><td>0</td><td>\\N</td><td>9</td><td>0</td><td>\\N</td><td>20</td><td>R</td><td>1052</td><td>0</td><td>24985</td><td>3</td><td>\\N</td></tr></tbody></table></div>"
      ]
     },
     "metadata": {
      "application/vnd.databricks.v1+output": {
       "addedWidgets": {},
       "aggData": [],
       "aggError": "",
       "aggOverflow": false,
       "aggSchema": [],
       "aggSeriesLimitReached": false,
       "aggType": "",
       "arguments": {},
       "columnCustomDisplayInfos": {},
       "data": [
        [
         131,
         1,
         "44",
         "207.235",
         "1:34.015",
         2,
         56,
         "5523897",
         44,
         25,
         "1",
         1,
         "1",
         1052,
         4,
         24966,
         1,
         "1:32:03.897"
        ],
        [
         9,
         830,
         "41",
         "208.984",
         "1:33.228",
         1,
         56,
         "5524642",
         33,
         18,
         "2",
         2,
         "2",
         1052,
         2,
         24967,
         1,
         "+0.745"
        ],
        [
         131,
         822,
         "56",
         "211.566",
         "1:32.090",
         3,
         56,
         "5561280",
         77,
         16,
         "3",
         3,
         "3",
         1052,
         1,
         24968,
         1,
         "+37.383"
        ],
        [
         1,
         846,
         "38",
         "206.398",
         "1:34.396",
         7,
         56,
         "5570363",
         4,
         12,
         "4",
         4,
         "4",
         1052,
         6,
         24969,
         1,
         "+46.466"
        ],
        [
         9,
         815,
         "44",
         "207.334",
         "1:33.970",
         0,
         56,
         "5575944",
         11,
         10,
         "5",
         5,
         "5",
         1052,
         3,
         24970,
         1,
         "+52.047"
        ],
        [
         6,
         844,
         "39",
         "205.112",
         "1:34.988",
         4,
         56,
         "5582987",
         16,
         8,
         "6",
         6,
         "6",
         1052,
         11,
         24971,
         1,
         "+59.090"
        ],
        [
         1,
         817,
         "36",
         "205.233",
         "1:34.932",
         6,
         56,
         "5589901",
         3,
         6,
         "7",
         7,
         "7",
         1052,
         10,
         24972,
         1,
         "+66.004"
        ],
        [
         6,
         832,
         "48",
         "206.151",
         "1:34.509",
         8,
         56,
         "5590997",
         55,
         4,
         "8",
         8,
         "8",
         1052,
         7,
         24973,
         1,
         "+67.100"
        ],
        [
         213,
         852,
         "38",
         "205.603",
         "1:34.761",
         13,
         56,
         "5609589",
         22,
         2,
         "9",
         9,
         "9",
         1052,
         8,
         24974,
         1,
         "+85.692"
        ],
        [
         117,
         840,
         "31",
         "205.378",
         "1:34.865",
         10,
         56,
         "5610610",
         18,
         1,
         "10",
         10,
         "10",
         1052,
         9,
         24975,
         1,
         "+86.713"
        ],
        [
         51,
         8,
         "45",
         "204.672",
         "1:35.192",
         14,
         56,
         "5612761",
         7,
         0,
         "11",
         11,
         "11",
         1052,
         14,
         24976,
         1,
         "+88.864"
        ],
        [
         51,
         841,
         "32",
         "204.823",
         "1:35.122",
         12,
         55,
         "\\N",
         99,
         0,
         "12",
         12,
         "12",
         1052,
         13,
         24977,
         11,
         "\\N"
        ],
        [
         214,
         839,
         "33",
         "204.548",
         "1:35.250",
         16,
         55,
         "\\N",
         31,
         0,
         "13",
         13,
         "13",
         1052,
         15,
         24978,
         11,
         "\\N"
        ],
        [
         3,
         847,
         "40",
         "205.008",
         "1:35.036",
         15,
         55,
         "\\N",
         63,
         0,
         "14",
         14,
         "14",
         1052,
         12,
         24979,
         11,
         "\\N"
        ],
        [
         117,
         20,
         "26",
         "203.871",
         "1:35.566",
         20,
         55,
         "\\N",
         5,
         0,
         "15",
         15,
         "15",
         1052,
         16,
         24980,
         11,
         "\\N"
        ],
        [
         210,
         854,
         "38",
         "202.667",
         "1:36.134",
         18,
         55,
         "\\N",
         47,
         0,
         "16",
         16,
         "16",
         1052,
         18,
         24981,
         11,
         "\\N"
        ],
        [
         213,
         842,
         "48",
         "207.069",
         "1:34.090",
         5,
         52,
         "\\N",
         10,
         0,
         "17",
         17,
         "17",
         1052,
         5,
         24982,
         31,
         "\\N"
        ],
        [
         3,
         849,
         "16",
         "201.685",
         "1:36.602",
         17,
         51,
         "\\N",
         6,
         0,
         "18",
         18,
         "18",
         1052,
         19,
         24983,
         31,
         "\\N"
        ],
        [
         214,
         4,
         "31",
         "202.816",
         "1:36.063",
         9,
         32,
         "\\N",
         14,
         0,
         "\\N",
         19,
         "R",
         1052,
         17,
         24984,
         23,
         "\\N"
        ],
        [
         210,
         853,
         "\\N",
         "\\N",
         "\\N",
         19,
         0,
         "\\N",
         9,
         0,
         "\\N",
         20,
         "R",
         1052,
         0,
         24985,
         3,
         "\\N"
        ]
       ],
       "datasetInfos": [],
       "dbfsResultPath": null,
       "isJsonSchema": true,
       "metadata": {},
       "overflow": false,
       "plotOptions": {
        "customPlotOptions": {},
        "displayType": "table",
        "pivotAggregation": null,
        "pivotColumns": null,
        "xColumns": null,
        "yColumns": null
       },
       "removedWidgets": [],
       "schema": [
        {
         "metadata": "{}",
         "name": "constructorId",
         "type": "\"long\""
        },
        {
         "metadata": "{}",
         "name": "driverId",
         "type": "\"long\""
        },
        {
         "metadata": "{}",
         "name": "fastestLap",
         "type": "\"string\""
        },
        {
         "metadata": "{}",
         "name": "fastestLapSpeed",
         "type": "\"string\""
        },
        {
         "metadata": "{}",
         "name": "fastestLapTime",
         "type": "\"string\""
        },
        {
         "metadata": "{}",
         "name": "grid",
         "type": "\"long\""
        },
        {
         "metadata": "{}",
         "name": "laps",
         "type": "\"long\""
        },
        {
         "metadata": "{}",
         "name": "milliseconds",
         "type": "\"string\""
        },
        {
         "metadata": "{}",
         "name": "number",
         "type": "\"long\""
        },
        {
         "metadata": "{}",
         "name": "points",
         "type": "\"long\""
        },
        {
         "metadata": "{}",
         "name": "position",
         "type": "\"string\""
        },
        {
         "metadata": "{}",
         "name": "positionOrder",
         "type": "\"long\""
        },
        {
         "metadata": "{}",
         "name": "positionText",
         "type": "\"string\""
        },
        {
         "metadata": "{}",
         "name": "raceId",
         "type": "\"long\""
        },
        {
         "metadata": "{}",
         "name": "rank",
         "type": "\"long\""
        },
        {
         "metadata": "{}",
         "name": "resultId",
         "type": "\"long\""
        },
        {
         "metadata": "{}",
         "name": "statusId",
         "type": "\"long\""
        },
        {
         "metadata": "{}",
         "name": "time",
         "type": "\"string\""
        }
       ],
       "type": "table"
      }
     },
     "output_type": "display_data"
    }
   ],
   "source": [
    "# Read Results Data\n",
    "results_df = spark.read \\\n",
    "    .option('inferSchema', True) \\\n",
    "    .json(f'{raw_inc_folder_path}/{file_date}/results.json')\n",
    "\n",
    "# Display Data\n",
    "display(results_df)"
   ]
  },
  {
   "cell_type": "markdown",
   "metadata": {
    "application/vnd.databricks.v1+cell": {
     "cellMetadata": {},
     "inputWidgets": {},
     "nuid": "e05fa302-ccb8-40cc-b7d2-43f31ddfbec1",
     "showTitle": false,
     "title": ""
    }
   },
   "source": [
    "### Write Managed Table"
   ]
  },
  {
   "cell_type": "code",
   "execution_count": 0,
   "metadata": {
    "application/vnd.databricks.v1+cell": {
     "cellMetadata": {
      "byteLimit": 2048000,
      "rowLimit": 10000
     },
     "inputWidgets": {},
     "nuid": "103e4f6d-f29d-4652-8939-24b96051e526",
     "showTitle": false,
     "title": ""
    }
   },
   "outputs": [],
   "source": [
    "# Write to Delta Lake and Create Managed Table\n",
    "results_df.write \\\n",
    "    .format('delta') \\\n",
    "    .mode('overwrite') \\\n",
    "    .saveAsTable('formula1_delta_demo.results_delta')\n",
    "\n",
    "# .save writes to delta lake\n",
    "# .saveastable writes to delta lake and creates managed table"
   ]
  },
  {
   "cell_type": "code",
   "execution_count": 0,
   "metadata": {
    "application/vnd.databricks.v1+cell": {
     "cellMetadata": {
      "byteLimit": 2048000,
      "implicitDf": true,
      "rowLimit": 10000
     },
     "inputWidgets": {},
     "nuid": "f8ac50e6-2816-47f9-9464-6583c7189c2d",
     "showTitle": false,
     "title": ""
    }
   },
   "outputs": [
    {
     "output_type": "display_data",
     "data": {
      "text/html": [
       "<style scoped>\n",
       "  .table-result-container {\n",
       "    max-height: 300px;\n",
       "    overflow: auto;\n",
       "  }\n",
       "  table, th, td {\n",
       "    border: 1px solid black;\n",
       "    border-collapse: collapse;\n",
       "  }\n",
       "  th, td {\n",
       "    padding: 5px;\n",
       "  }\n",
       "  th {\n",
       "    text-align: left;\n",
       "  }\n",
       "</style><div class='table-result-container'><table class='table-result'><thead style='background-color: white'><tr><th>constructorId</th><th>driverId</th><th>fastestLap</th><th>fastestLapSpeed</th><th>fastestLapTime</th><th>grid</th><th>laps</th><th>milliseconds</th><th>number</th><th>points</th><th>position</th><th>positionOrder</th><th>positionText</th><th>raceId</th><th>rank</th><th>resultId</th><th>statusId</th><th>time</th></tr></thead><tbody><tr><td>131</td><td>1</td><td>44</td><td>207.235</td><td>1:34.015</td><td>2</td><td>56</td><td>5523897</td><td>44</td><td>25</td><td>1</td><td>1</td><td>1</td><td>1052</td><td>4</td><td>24966</td><td>1</td><td>1:32:03.897</td></tr><tr><td>9</td><td>830</td><td>41</td><td>208.984</td><td>1:33.228</td><td>1</td><td>56</td><td>5524642</td><td>33</td><td>18</td><td>2</td><td>2</td><td>2</td><td>1052</td><td>2</td><td>24967</td><td>1</td><td>+0.745</td></tr><tr><td>131</td><td>822</td><td>56</td><td>211.566</td><td>1:32.090</td><td>3</td><td>56</td><td>5561280</td><td>77</td><td>16</td><td>3</td><td>3</td><td>3</td><td>1052</td><td>1</td><td>24968</td><td>1</td><td>+37.383</td></tr><tr><td>1</td><td>846</td><td>38</td><td>206.398</td><td>1:34.396</td><td>7</td><td>56</td><td>5570363</td><td>4</td><td>12</td><td>4</td><td>4</td><td>4</td><td>1052</td><td>6</td><td>24969</td><td>1</td><td>+46.466</td></tr><tr><td>9</td><td>815</td><td>44</td><td>207.334</td><td>1:33.970</td><td>0</td><td>56</td><td>5575944</td><td>11</td><td>10</td><td>5</td><td>5</td><td>5</td><td>1052</td><td>3</td><td>24970</td><td>1</td><td>+52.047</td></tr><tr><td>6</td><td>844</td><td>39</td><td>205.112</td><td>1:34.988</td><td>4</td><td>56</td><td>5582987</td><td>16</td><td>8</td><td>6</td><td>6</td><td>6</td><td>1052</td><td>11</td><td>24971</td><td>1</td><td>+59.090</td></tr><tr><td>1</td><td>817</td><td>36</td><td>205.233</td><td>1:34.932</td><td>6</td><td>56</td><td>5589901</td><td>3</td><td>6</td><td>7</td><td>7</td><td>7</td><td>1052</td><td>10</td><td>24972</td><td>1</td><td>+66.004</td></tr><tr><td>6</td><td>832</td><td>48</td><td>206.151</td><td>1:34.509</td><td>8</td><td>56</td><td>5590997</td><td>55</td><td>4</td><td>8</td><td>8</td><td>8</td><td>1052</td><td>7</td><td>24973</td><td>1</td><td>+67.100</td></tr><tr><td>213</td><td>852</td><td>38</td><td>205.603</td><td>1:34.761</td><td>13</td><td>56</td><td>5609589</td><td>22</td><td>2</td><td>9</td><td>9</td><td>9</td><td>1052</td><td>8</td><td>24974</td><td>1</td><td>+85.692</td></tr><tr><td>117</td><td>840</td><td>31</td><td>205.378</td><td>1:34.865</td><td>10</td><td>56</td><td>5610610</td><td>18</td><td>1</td><td>10</td><td>10</td><td>10</td><td>1052</td><td>9</td><td>24975</td><td>1</td><td>+86.713</td></tr><tr><td>51</td><td>8</td><td>45</td><td>204.672</td><td>1:35.192</td><td>14</td><td>56</td><td>5612761</td><td>7</td><td>0</td><td>11</td><td>11</td><td>11</td><td>1052</td><td>14</td><td>24976</td><td>1</td><td>+88.864</td></tr><tr><td>51</td><td>841</td><td>32</td><td>204.823</td><td>1:35.122</td><td>12</td><td>55</td><td>\\N</td><td>99</td><td>0</td><td>12</td><td>12</td><td>12</td><td>1052</td><td>13</td><td>24977</td><td>11</td><td>\\N</td></tr><tr><td>214</td><td>839</td><td>33</td><td>204.548</td><td>1:35.250</td><td>16</td><td>55</td><td>\\N</td><td>31</td><td>0</td><td>13</td><td>13</td><td>13</td><td>1052</td><td>15</td><td>24978</td><td>11</td><td>\\N</td></tr><tr><td>3</td><td>847</td><td>40</td><td>205.008</td><td>1:35.036</td><td>15</td><td>55</td><td>\\N</td><td>63</td><td>0</td><td>14</td><td>14</td><td>14</td><td>1052</td><td>12</td><td>24979</td><td>11</td><td>\\N</td></tr><tr><td>117</td><td>20</td><td>26</td><td>203.871</td><td>1:35.566</td><td>20</td><td>55</td><td>\\N</td><td>5</td><td>0</td><td>15</td><td>15</td><td>15</td><td>1052</td><td>16</td><td>24980</td><td>11</td><td>\\N</td></tr><tr><td>210</td><td>854</td><td>38</td><td>202.667</td><td>1:36.134</td><td>18</td><td>55</td><td>\\N</td><td>47</td><td>0</td><td>16</td><td>16</td><td>16</td><td>1052</td><td>18</td><td>24981</td><td>11</td><td>\\N</td></tr><tr><td>213</td><td>842</td><td>48</td><td>207.069</td><td>1:34.090</td><td>5</td><td>52</td><td>\\N</td><td>10</td><td>0</td><td>17</td><td>17</td><td>17</td><td>1052</td><td>5</td><td>24982</td><td>31</td><td>\\N</td></tr><tr><td>3</td><td>849</td><td>16</td><td>201.685</td><td>1:36.602</td><td>17</td><td>51</td><td>\\N</td><td>6</td><td>0</td><td>18</td><td>18</td><td>18</td><td>1052</td><td>19</td><td>24983</td><td>31</td><td>\\N</td></tr><tr><td>214</td><td>4</td><td>31</td><td>202.816</td><td>1:36.063</td><td>9</td><td>32</td><td>\\N</td><td>14</td><td>0</td><td>\\N</td><td>19</td><td>R</td><td>1052</td><td>17</td><td>24984</td><td>23</td><td>\\N</td></tr><tr><td>210</td><td>853</td><td>\\N</td><td>\\N</td><td>\\N</td><td>19</td><td>0</td><td>\\N</td><td>9</td><td>0</td><td>\\N</td><td>20</td><td>R</td><td>1052</td><td>0</td><td>24985</td><td>3</td><td>\\N</td></tr></tbody></table></div>"
      ]
     },
     "metadata": {
      "application/vnd.databricks.v1+output": {
       "addedWidgets": {},
       "aggData": [],
       "aggError": "",
       "aggOverflow": false,
       "aggSchema": [],
       "aggSeriesLimitReached": false,
       "aggType": "",
       "arguments": {},
       "columnCustomDisplayInfos": {},
       "data": [
        [
         131,
         1,
         "44",
         "207.235",
         "1:34.015",
         2,
         56,
         "5523897",
         44,
         25,
         "1",
         1,
         "1",
         1052,
         4,
         24966,
         1,
         "1:32:03.897"
        ],
        [
         9,
         830,
         "41",
         "208.984",
         "1:33.228",
         1,
         56,
         "5524642",
         33,
         18,
         "2",
         2,
         "2",
         1052,
         2,
         24967,
         1,
         "+0.745"
        ],
        [
         131,
         822,
         "56",
         "211.566",
         "1:32.090",
         3,
         56,
         "5561280",
         77,
         16,
         "3",
         3,
         "3",
         1052,
         1,
         24968,
         1,
         "+37.383"
        ],
        [
         1,
         846,
         "38",
         "206.398",
         "1:34.396",
         7,
         56,
         "5570363",
         4,
         12,
         "4",
         4,
         "4",
         1052,
         6,
         24969,
         1,
         "+46.466"
        ],
        [
         9,
         815,
         "44",
         "207.334",
         "1:33.970",
         0,
         56,
         "5575944",
         11,
         10,
         "5",
         5,
         "5",
         1052,
         3,
         24970,
         1,
         "+52.047"
        ],
        [
         6,
         844,
         "39",
         "205.112",
         "1:34.988",
         4,
         56,
         "5582987",
         16,
         8,
         "6",
         6,
         "6",
         1052,
         11,
         24971,
         1,
         "+59.090"
        ],
        [
         1,
         817,
         "36",
         "205.233",
         "1:34.932",
         6,
         56,
         "5589901",
         3,
         6,
         "7",
         7,
         "7",
         1052,
         10,
         24972,
         1,
         "+66.004"
        ],
        [
         6,
         832,
         "48",
         "206.151",
         "1:34.509",
         8,
         56,
         "5590997",
         55,
         4,
         "8",
         8,
         "8",
         1052,
         7,
         24973,
         1,
         "+67.100"
        ],
        [
         213,
         852,
         "38",
         "205.603",
         "1:34.761",
         13,
         56,
         "5609589",
         22,
         2,
         "9",
         9,
         "9",
         1052,
         8,
         24974,
         1,
         "+85.692"
        ],
        [
         117,
         840,
         "31",
         "205.378",
         "1:34.865",
         10,
         56,
         "5610610",
         18,
         1,
         "10",
         10,
         "10",
         1052,
         9,
         24975,
         1,
         "+86.713"
        ],
        [
         51,
         8,
         "45",
         "204.672",
         "1:35.192",
         14,
         56,
         "5612761",
         7,
         0,
         "11",
         11,
         "11",
         1052,
         14,
         24976,
         1,
         "+88.864"
        ],
        [
         51,
         841,
         "32",
         "204.823",
         "1:35.122",
         12,
         55,
         "\\N",
         99,
         0,
         "12",
         12,
         "12",
         1052,
         13,
         24977,
         11,
         "\\N"
        ],
        [
         214,
         839,
         "33",
         "204.548",
         "1:35.250",
         16,
         55,
         "\\N",
         31,
         0,
         "13",
         13,
         "13",
         1052,
         15,
         24978,
         11,
         "\\N"
        ],
        [
         3,
         847,
         "40",
         "205.008",
         "1:35.036",
         15,
         55,
         "\\N",
         63,
         0,
         "14",
         14,
         "14",
         1052,
         12,
         24979,
         11,
         "\\N"
        ],
        [
         117,
         20,
         "26",
         "203.871",
         "1:35.566",
         20,
         55,
         "\\N",
         5,
         0,
         "15",
         15,
         "15",
         1052,
         16,
         24980,
         11,
         "\\N"
        ],
        [
         210,
         854,
         "38",
         "202.667",
         "1:36.134",
         18,
         55,
         "\\N",
         47,
         0,
         "16",
         16,
         "16",
         1052,
         18,
         24981,
         11,
         "\\N"
        ],
        [
         213,
         842,
         "48",
         "207.069",
         "1:34.090",
         5,
         52,
         "\\N",
         10,
         0,
         "17",
         17,
         "17",
         1052,
         5,
         24982,
         31,
         "\\N"
        ],
        [
         3,
         849,
         "16",
         "201.685",
         "1:36.602",
         17,
         51,
         "\\N",
         6,
         0,
         "18",
         18,
         "18",
         1052,
         19,
         24983,
         31,
         "\\N"
        ],
        [
         214,
         4,
         "31",
         "202.816",
         "1:36.063",
         9,
         32,
         "\\N",
         14,
         0,
         "\\N",
         19,
         "R",
         1052,
         17,
         24984,
         23,
         "\\N"
        ],
        [
         210,
         853,
         "\\N",
         "\\N",
         "\\N",
         19,
         0,
         "\\N",
         9,
         0,
         "\\N",
         20,
         "R",
         1052,
         0,
         24985,
         3,
         "\\N"
        ]
       ],
       "datasetInfos": [],
       "dbfsResultPath": null,
       "isJsonSchema": true,
       "metadata": {},
       "overflow": false,
       "plotOptions": {
        "customPlotOptions": {},
        "displayType": "table",
        "pivotAggregation": null,
        "pivotColumns": null,
        "xColumns": null,
        "yColumns": null
       },
       "removedWidgets": [],
       "schema": [
        {
         "metadata": "{}",
         "name": "constructorId",
         "type": "\"long\""
        },
        {
         "metadata": "{}",
         "name": "driverId",
         "type": "\"long\""
        },
        {
         "metadata": "{}",
         "name": "fastestLap",
         "type": "\"string\""
        },
        {
         "metadata": "{}",
         "name": "fastestLapSpeed",
         "type": "\"string\""
        },
        {
         "metadata": "{}",
         "name": "fastestLapTime",
         "type": "\"string\""
        },
        {
         "metadata": "{}",
         "name": "grid",
         "type": "\"long\""
        },
        {
         "metadata": "{}",
         "name": "laps",
         "type": "\"long\""
        },
        {
         "metadata": "{}",
         "name": "milliseconds",
         "type": "\"string\""
        },
        {
         "metadata": "{}",
         "name": "number",
         "type": "\"long\""
        },
        {
         "metadata": "{}",
         "name": "points",
         "type": "\"long\""
        },
        {
         "metadata": "{}",
         "name": "position",
         "type": "\"string\""
        },
        {
         "metadata": "{}",
         "name": "positionOrder",
         "type": "\"long\""
        },
        {
         "metadata": "{}",
         "name": "positionText",
         "type": "\"string\""
        },
        {
         "metadata": "{}",
         "name": "raceId",
         "type": "\"long\""
        },
        {
         "metadata": "{}",
         "name": "rank",
         "type": "\"long\""
        },
        {
         "metadata": "{}",
         "name": "resultId",
         "type": "\"long\""
        },
        {
         "metadata": "{}",
         "name": "statusId",
         "type": "\"long\""
        },
        {
         "metadata": "{}",
         "name": "time",
         "type": "\"string\""
        }
       ],
       "type": "table"
      }
     },
     "output_type": "display_data"
    }
   ],
   "source": [
    "%sql\n",
    "-- Read Managed Table\n",
    "select *\n",
    "from formula1_delta_demo.results_delta;"
   ]
  },
  {
   "cell_type": "markdown",
   "metadata": {
    "application/vnd.databricks.v1+cell": {
     "cellMetadata": {},
     "inputWidgets": {},
     "nuid": "a47cf67c-912c-4c7a-b824-868d90f9f030",
     "showTitle": false,
     "title": ""
    }
   },
   "source": [
    "### Write External Table"
   ]
  },
  {
   "cell_type": "code",
   "execution_count": 0,
   "metadata": {
    "application/vnd.databricks.v1+cell": {
     "cellMetadata": {
      "byteLimit": 2048000,
      "rowLimit": 10000
     },
     "inputWidgets": {},
     "nuid": "93cd3db1-aff2-446f-ae70-c98b2a2cd577",
     "showTitle": false,
     "title": ""
    }
   },
   "outputs": [
    {
     "output_type": "display_data",
     "data": {
      "text/html": [
       "<style scoped>\n",
       "  .table-result-container {\n",
       "    max-height: 300px;\n",
       "    overflow: auto;\n",
       "  }\n",
       "  table, th, td {\n",
       "    border: 1px solid black;\n",
       "    border-collapse: collapse;\n",
       "  }\n",
       "  th, td {\n",
       "    padding: 5px;\n",
       "  }\n",
       "  th {\n",
       "    text-align: left;\n",
       "  }\n",
       "</style><div class='table-result-container'><table class='table-result'><thead style='background-color: white'><tr><th>constructorId</th><th>driverId</th><th>fastestLap</th><th>fastestLapSpeed</th><th>fastestLapTime</th><th>grid</th><th>laps</th><th>milliseconds</th><th>number</th><th>points</th><th>position</th><th>positionOrder</th><th>positionText</th><th>raceId</th><th>rank</th><th>resultId</th><th>statusId</th><th>time</th></tr></thead><tbody><tr><td>131</td><td>1</td><td>44</td><td>207.235</td><td>1:34.015</td><td>2</td><td>56</td><td>5523897</td><td>44</td><td>25</td><td>1</td><td>1</td><td>1</td><td>1052</td><td>4</td><td>24966</td><td>1</td><td>1:32:03.897</td></tr><tr><td>9</td><td>830</td><td>41</td><td>208.984</td><td>1:33.228</td><td>1</td><td>56</td><td>5524642</td><td>33</td><td>18</td><td>2</td><td>2</td><td>2</td><td>1052</td><td>2</td><td>24967</td><td>1</td><td>+0.745</td></tr><tr><td>131</td><td>822</td><td>56</td><td>211.566</td><td>1:32.090</td><td>3</td><td>56</td><td>5561280</td><td>77</td><td>16</td><td>3</td><td>3</td><td>3</td><td>1052</td><td>1</td><td>24968</td><td>1</td><td>+37.383</td></tr><tr><td>1</td><td>846</td><td>38</td><td>206.398</td><td>1:34.396</td><td>7</td><td>56</td><td>5570363</td><td>4</td><td>12</td><td>4</td><td>4</td><td>4</td><td>1052</td><td>6</td><td>24969</td><td>1</td><td>+46.466</td></tr><tr><td>9</td><td>815</td><td>44</td><td>207.334</td><td>1:33.970</td><td>0</td><td>56</td><td>5575944</td><td>11</td><td>10</td><td>5</td><td>5</td><td>5</td><td>1052</td><td>3</td><td>24970</td><td>1</td><td>+52.047</td></tr><tr><td>6</td><td>844</td><td>39</td><td>205.112</td><td>1:34.988</td><td>4</td><td>56</td><td>5582987</td><td>16</td><td>8</td><td>6</td><td>6</td><td>6</td><td>1052</td><td>11</td><td>24971</td><td>1</td><td>+59.090</td></tr><tr><td>1</td><td>817</td><td>36</td><td>205.233</td><td>1:34.932</td><td>6</td><td>56</td><td>5589901</td><td>3</td><td>6</td><td>7</td><td>7</td><td>7</td><td>1052</td><td>10</td><td>24972</td><td>1</td><td>+66.004</td></tr><tr><td>6</td><td>832</td><td>48</td><td>206.151</td><td>1:34.509</td><td>8</td><td>56</td><td>5590997</td><td>55</td><td>4</td><td>8</td><td>8</td><td>8</td><td>1052</td><td>7</td><td>24973</td><td>1</td><td>+67.100</td></tr><tr><td>213</td><td>852</td><td>38</td><td>205.603</td><td>1:34.761</td><td>13</td><td>56</td><td>5609589</td><td>22</td><td>2</td><td>9</td><td>9</td><td>9</td><td>1052</td><td>8</td><td>24974</td><td>1</td><td>+85.692</td></tr><tr><td>117</td><td>840</td><td>31</td><td>205.378</td><td>1:34.865</td><td>10</td><td>56</td><td>5610610</td><td>18</td><td>1</td><td>10</td><td>10</td><td>10</td><td>1052</td><td>9</td><td>24975</td><td>1</td><td>+86.713</td></tr><tr><td>51</td><td>8</td><td>45</td><td>204.672</td><td>1:35.192</td><td>14</td><td>56</td><td>5612761</td><td>7</td><td>0</td><td>11</td><td>11</td><td>11</td><td>1052</td><td>14</td><td>24976</td><td>1</td><td>+88.864</td></tr><tr><td>51</td><td>841</td><td>32</td><td>204.823</td><td>1:35.122</td><td>12</td><td>55</td><td>\\N</td><td>99</td><td>0</td><td>12</td><td>12</td><td>12</td><td>1052</td><td>13</td><td>24977</td><td>11</td><td>\\N</td></tr><tr><td>214</td><td>839</td><td>33</td><td>204.548</td><td>1:35.250</td><td>16</td><td>55</td><td>\\N</td><td>31</td><td>0</td><td>13</td><td>13</td><td>13</td><td>1052</td><td>15</td><td>24978</td><td>11</td><td>\\N</td></tr><tr><td>3</td><td>847</td><td>40</td><td>205.008</td><td>1:35.036</td><td>15</td><td>55</td><td>\\N</td><td>63</td><td>0</td><td>14</td><td>14</td><td>14</td><td>1052</td><td>12</td><td>24979</td><td>11</td><td>\\N</td></tr><tr><td>117</td><td>20</td><td>26</td><td>203.871</td><td>1:35.566</td><td>20</td><td>55</td><td>\\N</td><td>5</td><td>0</td><td>15</td><td>15</td><td>15</td><td>1052</td><td>16</td><td>24980</td><td>11</td><td>\\N</td></tr><tr><td>210</td><td>854</td><td>38</td><td>202.667</td><td>1:36.134</td><td>18</td><td>55</td><td>\\N</td><td>47</td><td>0</td><td>16</td><td>16</td><td>16</td><td>1052</td><td>18</td><td>24981</td><td>11</td><td>\\N</td></tr><tr><td>213</td><td>842</td><td>48</td><td>207.069</td><td>1:34.090</td><td>5</td><td>52</td><td>\\N</td><td>10</td><td>0</td><td>17</td><td>17</td><td>17</td><td>1052</td><td>5</td><td>24982</td><td>31</td><td>\\N</td></tr><tr><td>3</td><td>849</td><td>16</td><td>201.685</td><td>1:36.602</td><td>17</td><td>51</td><td>\\N</td><td>6</td><td>0</td><td>18</td><td>18</td><td>18</td><td>1052</td><td>19</td><td>24983</td><td>31</td><td>\\N</td></tr><tr><td>214</td><td>4</td><td>31</td><td>202.816</td><td>1:36.063</td><td>9</td><td>32</td><td>\\N</td><td>14</td><td>0</td><td>\\N</td><td>19</td><td>R</td><td>1052</td><td>17</td><td>24984</td><td>23</td><td>\\N</td></tr><tr><td>210</td><td>853</td><td>\\N</td><td>\\N</td><td>\\N</td><td>19</td><td>0</td><td>\\N</td><td>9</td><td>0</td><td>\\N</td><td>20</td><td>R</td><td>1052</td><td>0</td><td>24985</td><td>3</td><td>\\N</td></tr></tbody></table></div>"
      ]
     },
     "metadata": {
      "application/vnd.databricks.v1+output": {
       "addedWidgets": {},
       "aggData": [],
       "aggError": "",
       "aggOverflow": false,
       "aggSchema": [],
       "aggSeriesLimitReached": false,
       "aggType": "",
       "arguments": {},
       "columnCustomDisplayInfos": {},
       "data": [
        [
         131,
         1,
         "44",
         "207.235",
         "1:34.015",
         2,
         56,
         "5523897",
         44,
         25,
         "1",
         1,
         "1",
         1052,
         4,
         24966,
         1,
         "1:32:03.897"
        ],
        [
         9,
         830,
         "41",
         "208.984",
         "1:33.228",
         1,
         56,
         "5524642",
         33,
         18,
         "2",
         2,
         "2",
         1052,
         2,
         24967,
         1,
         "+0.745"
        ],
        [
         131,
         822,
         "56",
         "211.566",
         "1:32.090",
         3,
         56,
         "5561280",
         77,
         16,
         "3",
         3,
         "3",
         1052,
         1,
         24968,
         1,
         "+37.383"
        ],
        [
         1,
         846,
         "38",
         "206.398",
         "1:34.396",
         7,
         56,
         "5570363",
         4,
         12,
         "4",
         4,
         "4",
         1052,
         6,
         24969,
         1,
         "+46.466"
        ],
        [
         9,
         815,
         "44",
         "207.334",
         "1:33.970",
         0,
         56,
         "5575944",
         11,
         10,
         "5",
         5,
         "5",
         1052,
         3,
         24970,
         1,
         "+52.047"
        ],
        [
         6,
         844,
         "39",
         "205.112",
         "1:34.988",
         4,
         56,
         "5582987",
         16,
         8,
         "6",
         6,
         "6",
         1052,
         11,
         24971,
         1,
         "+59.090"
        ],
        [
         1,
         817,
         "36",
         "205.233",
         "1:34.932",
         6,
         56,
         "5589901",
         3,
         6,
         "7",
         7,
         "7",
         1052,
         10,
         24972,
         1,
         "+66.004"
        ],
        [
         6,
         832,
         "48",
         "206.151",
         "1:34.509",
         8,
         56,
         "5590997",
         55,
         4,
         "8",
         8,
         "8",
         1052,
         7,
         24973,
         1,
         "+67.100"
        ],
        [
         213,
         852,
         "38",
         "205.603",
         "1:34.761",
         13,
         56,
         "5609589",
         22,
         2,
         "9",
         9,
         "9",
         1052,
         8,
         24974,
         1,
         "+85.692"
        ],
        [
         117,
         840,
         "31",
         "205.378",
         "1:34.865",
         10,
         56,
         "5610610",
         18,
         1,
         "10",
         10,
         "10",
         1052,
         9,
         24975,
         1,
         "+86.713"
        ],
        [
         51,
         8,
         "45",
         "204.672",
         "1:35.192",
         14,
         56,
         "5612761",
         7,
         0,
         "11",
         11,
         "11",
         1052,
         14,
         24976,
         1,
         "+88.864"
        ],
        [
         51,
         841,
         "32",
         "204.823",
         "1:35.122",
         12,
         55,
         "\\N",
         99,
         0,
         "12",
         12,
         "12",
         1052,
         13,
         24977,
         11,
         "\\N"
        ],
        [
         214,
         839,
         "33",
         "204.548",
         "1:35.250",
         16,
         55,
         "\\N",
         31,
         0,
         "13",
         13,
         "13",
         1052,
         15,
         24978,
         11,
         "\\N"
        ],
        [
         3,
         847,
         "40",
         "205.008",
         "1:35.036",
         15,
         55,
         "\\N",
         63,
         0,
         "14",
         14,
         "14",
         1052,
         12,
         24979,
         11,
         "\\N"
        ],
        [
         117,
         20,
         "26",
         "203.871",
         "1:35.566",
         20,
         55,
         "\\N",
         5,
         0,
         "15",
         15,
         "15",
         1052,
         16,
         24980,
         11,
         "\\N"
        ],
        [
         210,
         854,
         "38",
         "202.667",
         "1:36.134",
         18,
         55,
         "\\N",
         47,
         0,
         "16",
         16,
         "16",
         1052,
         18,
         24981,
         11,
         "\\N"
        ],
        [
         213,
         842,
         "48",
         "207.069",
         "1:34.090",
         5,
         52,
         "\\N",
         10,
         0,
         "17",
         17,
         "17",
         1052,
         5,
         24982,
         31,
         "\\N"
        ],
        [
         3,
         849,
         "16",
         "201.685",
         "1:36.602",
         17,
         51,
         "\\N",
         6,
         0,
         "18",
         18,
         "18",
         1052,
         19,
         24983,
         31,
         "\\N"
        ],
        [
         214,
         4,
         "31",
         "202.816",
         "1:36.063",
         9,
         32,
         "\\N",
         14,
         0,
         "\\N",
         19,
         "R",
         1052,
         17,
         24984,
         23,
         "\\N"
        ],
        [
         210,
         853,
         "\\N",
         "\\N",
         "\\N",
         19,
         0,
         "\\N",
         9,
         0,
         "\\N",
         20,
         "R",
         1052,
         0,
         24985,
         3,
         "\\N"
        ]
       ],
       "datasetInfos": [],
       "dbfsResultPath": null,
       "isJsonSchema": true,
       "metadata": {},
       "overflow": false,
       "plotOptions": {
        "customPlotOptions": {},
        "displayType": "table",
        "pivotAggregation": null,
        "pivotColumns": null,
        "xColumns": null,
        "yColumns": null
       },
       "removedWidgets": [],
       "schema": [
        {
         "metadata": "{}",
         "name": "constructorId",
         "type": "\"long\""
        },
        {
         "metadata": "{}",
         "name": "driverId",
         "type": "\"long\""
        },
        {
         "metadata": "{}",
         "name": "fastestLap",
         "type": "\"string\""
        },
        {
         "metadata": "{}",
         "name": "fastestLapSpeed",
         "type": "\"string\""
        },
        {
         "metadata": "{}",
         "name": "fastestLapTime",
         "type": "\"string\""
        },
        {
         "metadata": "{}",
         "name": "grid",
         "type": "\"long\""
        },
        {
         "metadata": "{}",
         "name": "laps",
         "type": "\"long\""
        },
        {
         "metadata": "{}",
         "name": "milliseconds",
         "type": "\"string\""
        },
        {
         "metadata": "{}",
         "name": "number",
         "type": "\"long\""
        },
        {
         "metadata": "{}",
         "name": "points",
         "type": "\"long\""
        },
        {
         "metadata": "{}",
         "name": "position",
         "type": "\"string\""
        },
        {
         "metadata": "{}",
         "name": "positionOrder",
         "type": "\"long\""
        },
        {
         "metadata": "{}",
         "name": "positionText",
         "type": "\"string\""
        },
        {
         "metadata": "{}",
         "name": "raceId",
         "type": "\"long\""
        },
        {
         "metadata": "{}",
         "name": "rank",
         "type": "\"long\""
        },
        {
         "metadata": "{}",
         "name": "resultId",
         "type": "\"long\""
        },
        {
         "metadata": "{}",
         "name": "statusId",
         "type": "\"long\""
        },
        {
         "metadata": "{}",
         "name": "time",
         "type": "\"string\""
        }
       ],
       "type": "table"
      }
     },
     "output_type": "display_data"
    }
   ],
   "source": [
    "# Write to Delta Lake\n",
    "results_df.write \\\n",
    "    .format('delta') \\\n",
    "    .mode('overwrite') \\\n",
    "    .save(f'{delta_demo_folder_path}/results_ext')\n",
    "\n",
    "# Read External Table\n",
    "results_ext_df = spark.read \\\n",
    "    .format('delta') \\\n",
    "    .load(f'{delta_demo_folder_path}/results_ext')\n",
    "\n",
    "# Display Data\n",
    "display(results_ext_df)"
   ]
  },
  {
   "cell_type": "markdown",
   "metadata": {
    "application/vnd.databricks.v1+cell": {
     "cellMetadata": {},
     "inputWidgets": {},
     "nuid": "74755d4b-56a2-4fd5-95cb-5a819a922810",
     "showTitle": false,
     "title": ""
    }
   },
   "source": [
    "### Write Partitioned Managed Table"
   ]
  },
  {
   "cell_type": "code",
   "execution_count": 0,
   "metadata": {
    "application/vnd.databricks.v1+cell": {
     "cellMetadata": {
      "byteLimit": 2048000,
      "rowLimit": 10000
     },
     "inputWidgets": {},
     "nuid": "7f0435e8-8505-4e03-ad3c-a224c5300538",
     "showTitle": false,
     "title": ""
    }
   },
   "outputs": [],
   "source": [
    "# Write to Delta Lake and Create Managed Table w/ Partition\n",
    "results_df.write \\\n",
    "    .format('delta') \\\n",
    "    .mode('overwrite') \\\n",
    "    .partitionBy('constructorId') \\\n",
    "    .saveAsTable('formula1_delta_demo.results_part_delta')"
   ]
  },
  {
   "cell_type": "code",
   "execution_count": 0,
   "metadata": {
    "application/vnd.databricks.v1+cell": {
     "cellMetadata": {
      "byteLimit": 2048000,
      "implicitDf": true,
      "rowLimit": 10000
     },
     "inputWidgets": {},
     "nuid": "ab303afa-96c2-4118-8c44-3c10da8961e4",
     "showTitle": false,
     "title": ""
    }
   },
   "outputs": [
    {
     "output_type": "display_data",
     "data": {
      "text/html": [
       "<style scoped>\n",
       "  .table-result-container {\n",
       "    max-height: 300px;\n",
       "    overflow: auto;\n",
       "  }\n",
       "  table, th, td {\n",
       "    border: 1px solid black;\n",
       "    border-collapse: collapse;\n",
       "  }\n",
       "  th, td {\n",
       "    padding: 5px;\n",
       "  }\n",
       "  th {\n",
       "    text-align: left;\n",
       "  }\n",
       "</style><div class='table-result-container'><table class='table-result'><thead style='background-color: white'><tr><th>constructorId</th></tr></thead><tbody><tr><td>1</td></tr><tr><td>3</td></tr><tr><td>6</td></tr><tr><td>9</td></tr><tr><td>51</td></tr><tr><td>131</td></tr><tr><td>117</td></tr><tr><td>214</td></tr><tr><td>210</td></tr><tr><td>213</td></tr></tbody></table></div>"
      ]
     },
     "metadata": {
      "application/vnd.databricks.v1+output": {
       "addedWidgets": {},
       "aggData": [],
       "aggError": "",
       "aggOverflow": false,
       "aggSchema": [],
       "aggSeriesLimitReached": false,
       "aggType": "",
       "arguments": {},
       "columnCustomDisplayInfos": {},
       "data": [
        [
         1
        ],
        [
         3
        ],
        [
         6
        ],
        [
         9
        ],
        [
         51
        ],
        [
         131
        ],
        [
         117
        ],
        [
         214
        ],
        [
         210
        ],
        [
         213
        ]
       ],
       "datasetInfos": [],
       "dbfsResultPath": null,
       "isJsonSchema": true,
       "metadata": {},
       "overflow": false,
       "plotOptions": {
        "customPlotOptions": {},
        "displayType": "table",
        "pivotAggregation": null,
        "pivotColumns": null,
        "xColumns": null,
        "yColumns": null
       },
       "removedWidgets": [],
       "schema": [
        {
         "metadata": "{}",
         "name": "constructorId",
         "type": "\"long\""
        }
       ],
       "type": "table"
      }
     },
     "output_type": "display_data"
    }
   ],
   "source": [
    "%sql\n",
    "-- Display Partitions\n",
    "show partitions formula1_delta_demo.results_part_delta;"
   ]
  },
  {
   "cell_type": "markdown",
   "metadata": {
    "application/vnd.databricks.v1+cell": {
     "cellMetadata": {},
     "inputWidgets": {},
     "nuid": "73acbcbc-4d66-43e4-9068-be595854e0fc",
     "showTitle": false,
     "title": ""
    }
   },
   "source": [
    "### Update Delta Table"
   ]
  },
  {
   "cell_type": "code",
   "execution_count": 0,
   "metadata": {
    "application/vnd.databricks.v1+cell": {
     "cellMetadata": {
      "byteLimit": 2048000,
      "implicitDf": true,
      "rowLimit": 10000
     },
     "inputWidgets": {},
     "nuid": "633ff0ea-7185-4381-89ed-1daea601ff2c",
     "showTitle": false,
     "title": ""
    }
   },
   "outputs": [
    {
     "output_type": "display_data",
     "data": {
      "text/html": [
       "<style scoped>\n",
       "  .table-result-container {\n",
       "    max-height: 300px;\n",
       "    overflow: auto;\n",
       "  }\n",
       "  table, th, td {\n",
       "    border: 1px solid black;\n",
       "    border-collapse: collapse;\n",
       "  }\n",
       "  th, td {\n",
       "    padding: 5px;\n",
       "  }\n",
       "  th {\n",
       "    text-align: left;\n",
       "  }\n",
       "</style><div class='table-result-container'><table class='table-result'><thead style='background-color: white'><tr><th>constructorId</th><th>driverId</th><th>fastestLap</th><th>fastestLapSpeed</th><th>fastestLapTime</th><th>grid</th><th>laps</th><th>milliseconds</th><th>number</th><th>points</th><th>position</th><th>positionOrder</th><th>positionText</th><th>raceId</th><th>rank</th><th>resultId</th><th>statusId</th><th>time</th></tr></thead><tbody><tr><td>131</td><td>1</td><td>44</td><td>207.235</td><td>1:34.015</td><td>2</td><td>56</td><td>5523897</td><td>44</td><td>10</td><td>1</td><td>1</td><td>1</td><td>1052</td><td>4</td><td>24966</td><td>1</td><td>1:32:03.897</td></tr><tr><td>9</td><td>830</td><td>41</td><td>208.984</td><td>1:33.228</td><td>1</td><td>56</td><td>5524642</td><td>33</td><td>9</td><td>2</td><td>2</td><td>2</td><td>1052</td><td>2</td><td>24967</td><td>1</td><td>+0.745</td></tr><tr><td>131</td><td>822</td><td>56</td><td>211.566</td><td>1:32.090</td><td>3</td><td>56</td><td>5561280</td><td>77</td><td>8</td><td>3</td><td>3</td><td>3</td><td>1052</td><td>1</td><td>24968</td><td>1</td><td>+37.383</td></tr><tr><td>1</td><td>846</td><td>38</td><td>206.398</td><td>1:34.396</td><td>7</td><td>56</td><td>5570363</td><td>4</td><td>7</td><td>4</td><td>4</td><td>4</td><td>1052</td><td>6</td><td>24969</td><td>1</td><td>+46.466</td></tr><tr><td>9</td><td>815</td><td>44</td><td>207.334</td><td>1:33.970</td><td>0</td><td>56</td><td>5575944</td><td>11</td><td>6</td><td>5</td><td>5</td><td>5</td><td>1052</td><td>3</td><td>24970</td><td>1</td><td>+52.047</td></tr><tr><td>6</td><td>844</td><td>39</td><td>205.112</td><td>1:34.988</td><td>4</td><td>56</td><td>5582987</td><td>16</td><td>5</td><td>6</td><td>6</td><td>6</td><td>1052</td><td>11</td><td>24971</td><td>1</td><td>+59.090</td></tr><tr><td>1</td><td>817</td><td>36</td><td>205.233</td><td>1:34.932</td><td>6</td><td>56</td><td>5589901</td><td>3</td><td>4</td><td>7</td><td>7</td><td>7</td><td>1052</td><td>10</td><td>24972</td><td>1</td><td>+66.004</td></tr><tr><td>6</td><td>832</td><td>48</td><td>206.151</td><td>1:34.509</td><td>8</td><td>56</td><td>5590997</td><td>55</td><td>3</td><td>8</td><td>8</td><td>8</td><td>1052</td><td>7</td><td>24973</td><td>1</td><td>+67.100</td></tr><tr><td>213</td><td>852</td><td>38</td><td>205.603</td><td>1:34.761</td><td>13</td><td>56</td><td>5609589</td><td>22</td><td>2</td><td>9</td><td>9</td><td>9</td><td>1052</td><td>8</td><td>24974</td><td>1</td><td>+85.692</td></tr><tr><td>117</td><td>840</td><td>31</td><td>205.378</td><td>1:34.865</td><td>10</td><td>56</td><td>5610610</td><td>18</td><td>1</td><td>10</td><td>10</td><td>10</td><td>1052</td><td>9</td><td>24975</td><td>1</td><td>+86.713</td></tr><tr><td>51</td><td>8</td><td>45</td><td>204.672</td><td>1:35.192</td><td>14</td><td>56</td><td>5612761</td><td>7</td><td>0</td><td>11</td><td>11</td><td>11</td><td>1052</td><td>14</td><td>24976</td><td>1</td><td>+88.864</td></tr><tr><td>51</td><td>841</td><td>32</td><td>204.823</td><td>1:35.122</td><td>12</td><td>55</td><td>\\N</td><td>99</td><td>0</td><td>12</td><td>12</td><td>12</td><td>1052</td><td>13</td><td>24977</td><td>11</td><td>\\N</td></tr><tr><td>214</td><td>839</td><td>33</td><td>204.548</td><td>1:35.250</td><td>16</td><td>55</td><td>\\N</td><td>31</td><td>0</td><td>13</td><td>13</td><td>13</td><td>1052</td><td>15</td><td>24978</td><td>11</td><td>\\N</td></tr><tr><td>3</td><td>847</td><td>40</td><td>205.008</td><td>1:35.036</td><td>15</td><td>55</td><td>\\N</td><td>63</td><td>0</td><td>14</td><td>14</td><td>14</td><td>1052</td><td>12</td><td>24979</td><td>11</td><td>\\N</td></tr><tr><td>117</td><td>20</td><td>26</td><td>203.871</td><td>1:35.566</td><td>20</td><td>55</td><td>\\N</td><td>5</td><td>0</td><td>15</td><td>15</td><td>15</td><td>1052</td><td>16</td><td>24980</td><td>11</td><td>\\N</td></tr><tr><td>210</td><td>854</td><td>38</td><td>202.667</td><td>1:36.134</td><td>18</td><td>55</td><td>\\N</td><td>47</td><td>0</td><td>16</td><td>16</td><td>16</td><td>1052</td><td>18</td><td>24981</td><td>11</td><td>\\N</td></tr><tr><td>213</td><td>842</td><td>48</td><td>207.069</td><td>1:34.090</td><td>5</td><td>52</td><td>\\N</td><td>10</td><td>0</td><td>17</td><td>17</td><td>17</td><td>1052</td><td>5</td><td>24982</td><td>31</td><td>\\N</td></tr><tr><td>3</td><td>849</td><td>16</td><td>201.685</td><td>1:36.602</td><td>17</td><td>51</td><td>\\N</td><td>6</td><td>0</td><td>18</td><td>18</td><td>18</td><td>1052</td><td>19</td><td>24983</td><td>31</td><td>\\N</td></tr><tr><td>214</td><td>4</td><td>31</td><td>202.816</td><td>1:36.063</td><td>9</td><td>32</td><td>\\N</td><td>14</td><td>0</td><td>\\N</td><td>19</td><td>R</td><td>1052</td><td>17</td><td>24984</td><td>23</td><td>\\N</td></tr><tr><td>210</td><td>853</td><td>\\N</td><td>\\N</td><td>\\N</td><td>19</td><td>0</td><td>\\N</td><td>9</td><td>0</td><td>\\N</td><td>20</td><td>R</td><td>1052</td><td>0</td><td>24985</td><td>3</td><td>\\N</td></tr></tbody></table></div>"
      ]
     },
     "metadata": {
      "application/vnd.databricks.v1+output": {
       "addedWidgets": {},
       "aggData": [],
       "aggError": "",
       "aggOverflow": false,
       "aggSchema": [],
       "aggSeriesLimitReached": false,
       "aggType": "",
       "arguments": {},
       "columnCustomDisplayInfos": {},
       "data": [
        [
         131,
         1,
         "44",
         "207.235",
         "1:34.015",
         2,
         56,
         "5523897",
         44,
         10,
         "1",
         1,
         "1",
         1052,
         4,
         24966,
         1,
         "1:32:03.897"
        ],
        [
         9,
         830,
         "41",
         "208.984",
         "1:33.228",
         1,
         56,
         "5524642",
         33,
         9,
         "2",
         2,
         "2",
         1052,
         2,
         24967,
         1,
         "+0.745"
        ],
        [
         131,
         822,
         "56",
         "211.566",
         "1:32.090",
         3,
         56,
         "5561280",
         77,
         8,
         "3",
         3,
         "3",
         1052,
         1,
         24968,
         1,
         "+37.383"
        ],
        [
         1,
         846,
         "38",
         "206.398",
         "1:34.396",
         7,
         56,
         "5570363",
         4,
         7,
         "4",
         4,
         "4",
         1052,
         6,
         24969,
         1,
         "+46.466"
        ],
        [
         9,
         815,
         "44",
         "207.334",
         "1:33.970",
         0,
         56,
         "5575944",
         11,
         6,
         "5",
         5,
         "5",
         1052,
         3,
         24970,
         1,
         "+52.047"
        ],
        [
         6,
         844,
         "39",
         "205.112",
         "1:34.988",
         4,
         56,
         "5582987",
         16,
         5,
         "6",
         6,
         "6",
         1052,
         11,
         24971,
         1,
         "+59.090"
        ],
        [
         1,
         817,
         "36",
         "205.233",
         "1:34.932",
         6,
         56,
         "5589901",
         3,
         4,
         "7",
         7,
         "7",
         1052,
         10,
         24972,
         1,
         "+66.004"
        ],
        [
         6,
         832,
         "48",
         "206.151",
         "1:34.509",
         8,
         56,
         "5590997",
         55,
         3,
         "8",
         8,
         "8",
         1052,
         7,
         24973,
         1,
         "+67.100"
        ],
        [
         213,
         852,
         "38",
         "205.603",
         "1:34.761",
         13,
         56,
         "5609589",
         22,
         2,
         "9",
         9,
         "9",
         1052,
         8,
         24974,
         1,
         "+85.692"
        ],
        [
         117,
         840,
         "31",
         "205.378",
         "1:34.865",
         10,
         56,
         "5610610",
         18,
         1,
         "10",
         10,
         "10",
         1052,
         9,
         24975,
         1,
         "+86.713"
        ],
        [
         51,
         8,
         "45",
         "204.672",
         "1:35.192",
         14,
         56,
         "5612761",
         7,
         0,
         "11",
         11,
         "11",
         1052,
         14,
         24976,
         1,
         "+88.864"
        ],
        [
         51,
         841,
         "32",
         "204.823",
         "1:35.122",
         12,
         55,
         "\\N",
         99,
         0,
         "12",
         12,
         "12",
         1052,
         13,
         24977,
         11,
         "\\N"
        ],
        [
         214,
         839,
         "33",
         "204.548",
         "1:35.250",
         16,
         55,
         "\\N",
         31,
         0,
         "13",
         13,
         "13",
         1052,
         15,
         24978,
         11,
         "\\N"
        ],
        [
         3,
         847,
         "40",
         "205.008",
         "1:35.036",
         15,
         55,
         "\\N",
         63,
         0,
         "14",
         14,
         "14",
         1052,
         12,
         24979,
         11,
         "\\N"
        ],
        [
         117,
         20,
         "26",
         "203.871",
         "1:35.566",
         20,
         55,
         "\\N",
         5,
         0,
         "15",
         15,
         "15",
         1052,
         16,
         24980,
         11,
         "\\N"
        ],
        [
         210,
         854,
         "38",
         "202.667",
         "1:36.134",
         18,
         55,
         "\\N",
         47,
         0,
         "16",
         16,
         "16",
         1052,
         18,
         24981,
         11,
         "\\N"
        ],
        [
         213,
         842,
         "48",
         "207.069",
         "1:34.090",
         5,
         52,
         "\\N",
         10,
         0,
         "17",
         17,
         "17",
         1052,
         5,
         24982,
         31,
         "\\N"
        ],
        [
         3,
         849,
         "16",
         "201.685",
         "1:36.602",
         17,
         51,
         "\\N",
         6,
         0,
         "18",
         18,
         "18",
         1052,
         19,
         24983,
         31,
         "\\N"
        ],
        [
         214,
         4,
         "31",
         "202.816",
         "1:36.063",
         9,
         32,
         "\\N",
         14,
         0,
         "\\N",
         19,
         "R",
         1052,
         17,
         24984,
         23,
         "\\N"
        ],
        [
         210,
         853,
         "\\N",
         "\\N",
         "\\N",
         19,
         0,
         "\\N",
         9,
         0,
         "\\N",
         20,
         "R",
         1052,
         0,
         24985,
         3,
         "\\N"
        ]
       ],
       "datasetInfos": [],
       "dbfsResultPath": null,
       "isJsonSchema": true,
       "metadata": {},
       "overflow": false,
       "plotOptions": {
        "customPlotOptions": {},
        "displayType": "table",
        "pivotAggregation": null,
        "pivotColumns": null,
        "xColumns": null,
        "yColumns": null
       },
       "removedWidgets": [],
       "schema": [
        {
         "metadata": "{}",
         "name": "constructorId",
         "type": "\"long\""
        },
        {
         "metadata": "{}",
         "name": "driverId",
         "type": "\"long\""
        },
        {
         "metadata": "{}",
         "name": "fastestLap",
         "type": "\"string\""
        },
        {
         "metadata": "{}",
         "name": "fastestLapSpeed",
         "type": "\"string\""
        },
        {
         "metadata": "{}",
         "name": "fastestLapTime",
         "type": "\"string\""
        },
        {
         "metadata": "{}",
         "name": "grid",
         "type": "\"long\""
        },
        {
         "metadata": "{}",
         "name": "laps",
         "type": "\"long\""
        },
        {
         "metadata": "{}",
         "name": "milliseconds",
         "type": "\"string\""
        },
        {
         "metadata": "{}",
         "name": "number",
         "type": "\"long\""
        },
        {
         "metadata": "{}",
         "name": "points",
         "type": "\"long\""
        },
        {
         "metadata": "{}",
         "name": "position",
         "type": "\"string\""
        },
        {
         "metadata": "{}",
         "name": "positionOrder",
         "type": "\"long\""
        },
        {
         "metadata": "{}",
         "name": "positionText",
         "type": "\"string\""
        },
        {
         "metadata": "{}",
         "name": "raceId",
         "type": "\"long\""
        },
        {
         "metadata": "{}",
         "name": "rank",
         "type": "\"long\""
        },
        {
         "metadata": "{}",
         "name": "resultId",
         "type": "\"long\""
        },
        {
         "metadata": "{}",
         "name": "statusId",
         "type": "\"long\""
        },
        {
         "metadata": "{}",
         "name": "time",
         "type": "\"string\""
        }
       ],
       "type": "table"
      }
     },
     "output_type": "display_data"
    }
   ],
   "source": [
    "%sql\n",
    "-- Update Managed Table SQL\n",
    "update formula1_delta_demo.results_delta\n",
    "  set points = 11 - position\n",
    "  where position <= 10;\n",
    "\n",
    "-- Read updated Table\n",
    "select *\n",
    "from formula1_delta_demo.results_delta;"
   ]
  },
  {
   "cell_type": "code",
   "execution_count": 0,
   "metadata": {
    "application/vnd.databricks.v1+cell": {
     "cellMetadata": {
      "byteLimit": 2048000,
      "rowLimit": 10000
     },
     "inputWidgets": {},
     "nuid": "7907f63d-2709-4524-be61-f95abf1bb2ee",
     "showTitle": false,
     "title": ""
    }
   },
   "outputs": [],
   "source": [
    "# update Managed Table PySpark\n",
    "deltaTable = DeltaTable.forPath(spark, f'{delta_demo_folder_path}/results_delta')\n",
    "deltaTable.update(\n",
    "    'position <= 10',\n",
    "    {'points': '21 - position'}\n",
    ")"
   ]
  },
  {
   "cell_type": "code",
   "execution_count": 0,
   "metadata": {
    "application/vnd.databricks.v1+cell": {
     "cellMetadata": {
      "byteLimit": 2048000,
      "implicitDf": true,
      "rowLimit": 10000
     },
     "inputWidgets": {},
     "nuid": "de10dfc5-0868-48cb-8244-048a04525f1c",
     "showTitle": false,
     "title": ""
    }
   },
   "outputs": [
    {
     "output_type": "display_data",
     "data": {
      "text/html": [
       "<style scoped>\n",
       "  .table-result-container {\n",
       "    max-height: 300px;\n",
       "    overflow: auto;\n",
       "  }\n",
       "  table, th, td {\n",
       "    border: 1px solid black;\n",
       "    border-collapse: collapse;\n",
       "  }\n",
       "  th, td {\n",
       "    padding: 5px;\n",
       "  }\n",
       "  th {\n",
       "    text-align: left;\n",
       "  }\n",
       "</style><div class='table-result-container'><table class='table-result'><thead style='background-color: white'><tr><th>constructorId</th><th>driverId</th><th>fastestLap</th><th>fastestLapSpeed</th><th>fastestLapTime</th><th>grid</th><th>laps</th><th>milliseconds</th><th>number</th><th>points</th><th>position</th><th>positionOrder</th><th>positionText</th><th>raceId</th><th>rank</th><th>resultId</th><th>statusId</th><th>time</th></tr></thead><tbody><tr><td>131</td><td>1</td><td>44</td><td>207.235</td><td>1:34.015</td><td>2</td><td>56</td><td>5523897</td><td>44</td><td>20</td><td>1</td><td>1</td><td>1</td><td>1052</td><td>4</td><td>24966</td><td>1</td><td>1:32:03.897</td></tr><tr><td>9</td><td>830</td><td>41</td><td>208.984</td><td>1:33.228</td><td>1</td><td>56</td><td>5524642</td><td>33</td><td>19</td><td>2</td><td>2</td><td>2</td><td>1052</td><td>2</td><td>24967</td><td>1</td><td>+0.745</td></tr><tr><td>131</td><td>822</td><td>56</td><td>211.566</td><td>1:32.090</td><td>3</td><td>56</td><td>5561280</td><td>77</td><td>18</td><td>3</td><td>3</td><td>3</td><td>1052</td><td>1</td><td>24968</td><td>1</td><td>+37.383</td></tr><tr><td>1</td><td>846</td><td>38</td><td>206.398</td><td>1:34.396</td><td>7</td><td>56</td><td>5570363</td><td>4</td><td>17</td><td>4</td><td>4</td><td>4</td><td>1052</td><td>6</td><td>24969</td><td>1</td><td>+46.466</td></tr><tr><td>9</td><td>815</td><td>44</td><td>207.334</td><td>1:33.970</td><td>0</td><td>56</td><td>5575944</td><td>11</td><td>16</td><td>5</td><td>5</td><td>5</td><td>1052</td><td>3</td><td>24970</td><td>1</td><td>+52.047</td></tr><tr><td>6</td><td>844</td><td>39</td><td>205.112</td><td>1:34.988</td><td>4</td><td>56</td><td>5582987</td><td>16</td><td>15</td><td>6</td><td>6</td><td>6</td><td>1052</td><td>11</td><td>24971</td><td>1</td><td>+59.090</td></tr><tr><td>1</td><td>817</td><td>36</td><td>205.233</td><td>1:34.932</td><td>6</td><td>56</td><td>5589901</td><td>3</td><td>14</td><td>7</td><td>7</td><td>7</td><td>1052</td><td>10</td><td>24972</td><td>1</td><td>+66.004</td></tr><tr><td>6</td><td>832</td><td>48</td><td>206.151</td><td>1:34.509</td><td>8</td><td>56</td><td>5590997</td><td>55</td><td>13</td><td>8</td><td>8</td><td>8</td><td>1052</td><td>7</td><td>24973</td><td>1</td><td>+67.100</td></tr><tr><td>213</td><td>852</td><td>38</td><td>205.603</td><td>1:34.761</td><td>13</td><td>56</td><td>5609589</td><td>22</td><td>12</td><td>9</td><td>9</td><td>9</td><td>1052</td><td>8</td><td>24974</td><td>1</td><td>+85.692</td></tr><tr><td>117</td><td>840</td><td>31</td><td>205.378</td><td>1:34.865</td><td>10</td><td>56</td><td>5610610</td><td>18</td><td>11</td><td>10</td><td>10</td><td>10</td><td>1052</td><td>9</td><td>24975</td><td>1</td><td>+86.713</td></tr><tr><td>51</td><td>8</td><td>45</td><td>204.672</td><td>1:35.192</td><td>14</td><td>56</td><td>5612761</td><td>7</td><td>0</td><td>11</td><td>11</td><td>11</td><td>1052</td><td>14</td><td>24976</td><td>1</td><td>+88.864</td></tr><tr><td>51</td><td>841</td><td>32</td><td>204.823</td><td>1:35.122</td><td>12</td><td>55</td><td>\\N</td><td>99</td><td>0</td><td>12</td><td>12</td><td>12</td><td>1052</td><td>13</td><td>24977</td><td>11</td><td>\\N</td></tr><tr><td>214</td><td>839</td><td>33</td><td>204.548</td><td>1:35.250</td><td>16</td><td>55</td><td>\\N</td><td>31</td><td>0</td><td>13</td><td>13</td><td>13</td><td>1052</td><td>15</td><td>24978</td><td>11</td><td>\\N</td></tr><tr><td>3</td><td>847</td><td>40</td><td>205.008</td><td>1:35.036</td><td>15</td><td>55</td><td>\\N</td><td>63</td><td>0</td><td>14</td><td>14</td><td>14</td><td>1052</td><td>12</td><td>24979</td><td>11</td><td>\\N</td></tr><tr><td>117</td><td>20</td><td>26</td><td>203.871</td><td>1:35.566</td><td>20</td><td>55</td><td>\\N</td><td>5</td><td>0</td><td>15</td><td>15</td><td>15</td><td>1052</td><td>16</td><td>24980</td><td>11</td><td>\\N</td></tr><tr><td>210</td><td>854</td><td>38</td><td>202.667</td><td>1:36.134</td><td>18</td><td>55</td><td>\\N</td><td>47</td><td>0</td><td>16</td><td>16</td><td>16</td><td>1052</td><td>18</td><td>24981</td><td>11</td><td>\\N</td></tr><tr><td>213</td><td>842</td><td>48</td><td>207.069</td><td>1:34.090</td><td>5</td><td>52</td><td>\\N</td><td>10</td><td>0</td><td>17</td><td>17</td><td>17</td><td>1052</td><td>5</td><td>24982</td><td>31</td><td>\\N</td></tr><tr><td>3</td><td>849</td><td>16</td><td>201.685</td><td>1:36.602</td><td>17</td><td>51</td><td>\\N</td><td>6</td><td>0</td><td>18</td><td>18</td><td>18</td><td>1052</td><td>19</td><td>24983</td><td>31</td><td>\\N</td></tr><tr><td>214</td><td>4</td><td>31</td><td>202.816</td><td>1:36.063</td><td>9</td><td>32</td><td>\\N</td><td>14</td><td>0</td><td>\\N</td><td>19</td><td>R</td><td>1052</td><td>17</td><td>24984</td><td>23</td><td>\\N</td></tr><tr><td>210</td><td>853</td><td>\\N</td><td>\\N</td><td>\\N</td><td>19</td><td>0</td><td>\\N</td><td>9</td><td>0</td><td>\\N</td><td>20</td><td>R</td><td>1052</td><td>0</td><td>24985</td><td>3</td><td>\\N</td></tr></tbody></table></div>"
      ]
     },
     "metadata": {
      "application/vnd.databricks.v1+output": {
       "addedWidgets": {},
       "aggData": [],
       "aggError": "",
       "aggOverflow": false,
       "aggSchema": [],
       "aggSeriesLimitReached": false,
       "aggType": "",
       "arguments": {},
       "columnCustomDisplayInfos": {},
       "data": [
        [
         131,
         1,
         "44",
         "207.235",
         "1:34.015",
         2,
         56,
         "5523897",
         44,
         20,
         "1",
         1,
         "1",
         1052,
         4,
         24966,
         1,
         "1:32:03.897"
        ],
        [
         9,
         830,
         "41",
         "208.984",
         "1:33.228",
         1,
         56,
         "5524642",
         33,
         19,
         "2",
         2,
         "2",
         1052,
         2,
         24967,
         1,
         "+0.745"
        ],
        [
         131,
         822,
         "56",
         "211.566",
         "1:32.090",
         3,
         56,
         "5561280",
         77,
         18,
         "3",
         3,
         "3",
         1052,
         1,
         24968,
         1,
         "+37.383"
        ],
        [
         1,
         846,
         "38",
         "206.398",
         "1:34.396",
         7,
         56,
         "5570363",
         4,
         17,
         "4",
         4,
         "4",
         1052,
         6,
         24969,
         1,
         "+46.466"
        ],
        [
         9,
         815,
         "44",
         "207.334",
         "1:33.970",
         0,
         56,
         "5575944",
         11,
         16,
         "5",
         5,
         "5",
         1052,
         3,
         24970,
         1,
         "+52.047"
        ],
        [
         6,
         844,
         "39",
         "205.112",
         "1:34.988",
         4,
         56,
         "5582987",
         16,
         15,
         "6",
         6,
         "6",
         1052,
         11,
         24971,
         1,
         "+59.090"
        ],
        [
         1,
         817,
         "36",
         "205.233",
         "1:34.932",
         6,
         56,
         "5589901",
         3,
         14,
         "7",
         7,
         "7",
         1052,
         10,
         24972,
         1,
         "+66.004"
        ],
        [
         6,
         832,
         "48",
         "206.151",
         "1:34.509",
         8,
         56,
         "5590997",
         55,
         13,
         "8",
         8,
         "8",
         1052,
         7,
         24973,
         1,
         "+67.100"
        ],
        [
         213,
         852,
         "38",
         "205.603",
         "1:34.761",
         13,
         56,
         "5609589",
         22,
         12,
         "9",
         9,
         "9",
         1052,
         8,
         24974,
         1,
         "+85.692"
        ],
        [
         117,
         840,
         "31",
         "205.378",
         "1:34.865",
         10,
         56,
         "5610610",
         18,
         11,
         "10",
         10,
         "10",
         1052,
         9,
         24975,
         1,
         "+86.713"
        ],
        [
         51,
         8,
         "45",
         "204.672",
         "1:35.192",
         14,
         56,
         "5612761",
         7,
         0,
         "11",
         11,
         "11",
         1052,
         14,
         24976,
         1,
         "+88.864"
        ],
        [
         51,
         841,
         "32",
         "204.823",
         "1:35.122",
         12,
         55,
         "\\N",
         99,
         0,
         "12",
         12,
         "12",
         1052,
         13,
         24977,
         11,
         "\\N"
        ],
        [
         214,
         839,
         "33",
         "204.548",
         "1:35.250",
         16,
         55,
         "\\N",
         31,
         0,
         "13",
         13,
         "13",
         1052,
         15,
         24978,
         11,
         "\\N"
        ],
        [
         3,
         847,
         "40",
         "205.008",
         "1:35.036",
         15,
         55,
         "\\N",
         63,
         0,
         "14",
         14,
         "14",
         1052,
         12,
         24979,
         11,
         "\\N"
        ],
        [
         117,
         20,
         "26",
         "203.871",
         "1:35.566",
         20,
         55,
         "\\N",
         5,
         0,
         "15",
         15,
         "15",
         1052,
         16,
         24980,
         11,
         "\\N"
        ],
        [
         210,
         854,
         "38",
         "202.667",
         "1:36.134",
         18,
         55,
         "\\N",
         47,
         0,
         "16",
         16,
         "16",
         1052,
         18,
         24981,
         11,
         "\\N"
        ],
        [
         213,
         842,
         "48",
         "207.069",
         "1:34.090",
         5,
         52,
         "\\N",
         10,
         0,
         "17",
         17,
         "17",
         1052,
         5,
         24982,
         31,
         "\\N"
        ],
        [
         3,
         849,
         "16",
         "201.685",
         "1:36.602",
         17,
         51,
         "\\N",
         6,
         0,
         "18",
         18,
         "18",
         1052,
         19,
         24983,
         31,
         "\\N"
        ],
        [
         214,
         4,
         "31",
         "202.816",
         "1:36.063",
         9,
         32,
         "\\N",
         14,
         0,
         "\\N",
         19,
         "R",
         1052,
         17,
         24984,
         23,
         "\\N"
        ],
        [
         210,
         853,
         "\\N",
         "\\N",
         "\\N",
         19,
         0,
         "\\N",
         9,
         0,
         "\\N",
         20,
         "R",
         1052,
         0,
         24985,
         3,
         "\\N"
        ]
       ],
       "datasetInfos": [],
       "dbfsResultPath": null,
       "isJsonSchema": true,
       "metadata": {},
       "overflow": false,
       "plotOptions": {
        "customPlotOptions": {},
        "displayType": "table",
        "pivotAggregation": null,
        "pivotColumns": null,
        "xColumns": null,
        "yColumns": null
       },
       "removedWidgets": [],
       "schema": [
        {
         "metadata": "{}",
         "name": "constructorId",
         "type": "\"long\""
        },
        {
         "metadata": "{}",
         "name": "driverId",
         "type": "\"long\""
        },
        {
         "metadata": "{}",
         "name": "fastestLap",
         "type": "\"string\""
        },
        {
         "metadata": "{}",
         "name": "fastestLapSpeed",
         "type": "\"string\""
        },
        {
         "metadata": "{}",
         "name": "fastestLapTime",
         "type": "\"string\""
        },
        {
         "metadata": "{}",
         "name": "grid",
         "type": "\"long\""
        },
        {
         "metadata": "{}",
         "name": "laps",
         "type": "\"long\""
        },
        {
         "metadata": "{}",
         "name": "milliseconds",
         "type": "\"string\""
        },
        {
         "metadata": "{}",
         "name": "number",
         "type": "\"long\""
        },
        {
         "metadata": "{}",
         "name": "points",
         "type": "\"long\""
        },
        {
         "metadata": "{}",
         "name": "position",
         "type": "\"string\""
        },
        {
         "metadata": "{}",
         "name": "positionOrder",
         "type": "\"long\""
        },
        {
         "metadata": "{}",
         "name": "positionText",
         "type": "\"string\""
        },
        {
         "metadata": "{}",
         "name": "raceId",
         "type": "\"long\""
        },
        {
         "metadata": "{}",
         "name": "rank",
         "type": "\"long\""
        },
        {
         "metadata": "{}",
         "name": "resultId",
         "type": "\"long\""
        },
        {
         "metadata": "{}",
         "name": "statusId",
         "type": "\"long\""
        },
        {
         "metadata": "{}",
         "name": "time",
         "type": "\"string\""
        }
       ],
       "type": "table"
      }
     },
     "output_type": "display_data"
    }
   ],
   "source": [
    "%sql\n",
    "-- Read updated Table\n",
    "select *\n",
    "from formula1_delta_demo.results_delta;"
   ]
  },
  {
   "cell_type": "markdown",
   "metadata": {
    "application/vnd.databricks.v1+cell": {
     "cellMetadata": {},
     "inputWidgets": {},
     "nuid": "d0284787-76ae-449b-a754-4f0ee4373ba2",
     "showTitle": false,
     "title": ""
    }
   },
   "source": [
    "### Delete from Delta Table"
   ]
  },
  {
   "cell_type": "code",
   "execution_count": 0,
   "metadata": {
    "application/vnd.databricks.v1+cell": {
     "cellMetadata": {
      "byteLimit": 2048000,
      "implicitDf": true,
      "rowLimit": 10000
     },
     "inputWidgets": {},
     "nuid": "2248bc4b-bb98-42b0-b185-f091e454032a",
     "showTitle": false,
     "title": ""
    }
   },
   "outputs": [
    {
     "output_type": "display_data",
     "data": {
      "text/html": [
       "<style scoped>\n",
       "  .table-result-container {\n",
       "    max-height: 300px;\n",
       "    overflow: auto;\n",
       "  }\n",
       "  table, th, td {\n",
       "    border: 1px solid black;\n",
       "    border-collapse: collapse;\n",
       "  }\n",
       "  th, td {\n",
       "    padding: 5px;\n",
       "  }\n",
       "  th {\n",
       "    text-align: left;\n",
       "  }\n",
       "</style><div class='table-result-container'><table class='table-result'><thead style='background-color: white'><tr><th>constructorId</th><th>driverId</th><th>fastestLap</th><th>fastestLapSpeed</th><th>fastestLapTime</th><th>grid</th><th>laps</th><th>milliseconds</th><th>number</th><th>points</th><th>position</th><th>positionOrder</th><th>positionText</th><th>raceId</th><th>rank</th><th>resultId</th><th>statusId</th><th>time</th></tr></thead><tbody><tr><td>131</td><td>1</td><td>44</td><td>207.235</td><td>1:34.015</td><td>2</td><td>56</td><td>5523897</td><td>44</td><td>20</td><td>1</td><td>1</td><td>1</td><td>1052</td><td>4</td><td>24966</td><td>1</td><td>1:32:03.897</td></tr><tr><td>9</td><td>830</td><td>41</td><td>208.984</td><td>1:33.228</td><td>1</td><td>56</td><td>5524642</td><td>33</td><td>19</td><td>2</td><td>2</td><td>2</td><td>1052</td><td>2</td><td>24967</td><td>1</td><td>+0.745</td></tr><tr><td>131</td><td>822</td><td>56</td><td>211.566</td><td>1:32.090</td><td>3</td><td>56</td><td>5561280</td><td>77</td><td>18</td><td>3</td><td>3</td><td>3</td><td>1052</td><td>1</td><td>24968</td><td>1</td><td>+37.383</td></tr><tr><td>1</td><td>846</td><td>38</td><td>206.398</td><td>1:34.396</td><td>7</td><td>56</td><td>5570363</td><td>4</td><td>17</td><td>4</td><td>4</td><td>4</td><td>1052</td><td>6</td><td>24969</td><td>1</td><td>+46.466</td></tr><tr><td>9</td><td>815</td><td>44</td><td>207.334</td><td>1:33.970</td><td>0</td><td>56</td><td>5575944</td><td>11</td><td>16</td><td>5</td><td>5</td><td>5</td><td>1052</td><td>3</td><td>24970</td><td>1</td><td>+52.047</td></tr><tr><td>6</td><td>844</td><td>39</td><td>205.112</td><td>1:34.988</td><td>4</td><td>56</td><td>5582987</td><td>16</td><td>15</td><td>6</td><td>6</td><td>6</td><td>1052</td><td>11</td><td>24971</td><td>1</td><td>+59.090</td></tr><tr><td>1</td><td>817</td><td>36</td><td>205.233</td><td>1:34.932</td><td>6</td><td>56</td><td>5589901</td><td>3</td><td>14</td><td>7</td><td>7</td><td>7</td><td>1052</td><td>10</td><td>24972</td><td>1</td><td>+66.004</td></tr><tr><td>6</td><td>832</td><td>48</td><td>206.151</td><td>1:34.509</td><td>8</td><td>56</td><td>5590997</td><td>55</td><td>13</td><td>8</td><td>8</td><td>8</td><td>1052</td><td>7</td><td>24973</td><td>1</td><td>+67.100</td></tr><tr><td>213</td><td>852</td><td>38</td><td>205.603</td><td>1:34.761</td><td>13</td><td>56</td><td>5609589</td><td>22</td><td>12</td><td>9</td><td>9</td><td>9</td><td>1052</td><td>8</td><td>24974</td><td>1</td><td>+85.692</td></tr><tr><td>117</td><td>840</td><td>31</td><td>205.378</td><td>1:34.865</td><td>10</td><td>56</td><td>5610610</td><td>18</td><td>11</td><td>10</td><td>10</td><td>10</td><td>1052</td><td>9</td><td>24975</td><td>1</td><td>+86.713</td></tr><tr><td>214</td><td>4</td><td>31</td><td>202.816</td><td>1:36.063</td><td>9</td><td>32</td><td>\\N</td><td>14</td><td>0</td><td>\\N</td><td>19</td><td>R</td><td>1052</td><td>17</td><td>24984</td><td>23</td><td>\\N</td></tr><tr><td>210</td><td>853</td><td>\\N</td><td>\\N</td><td>\\N</td><td>19</td><td>0</td><td>\\N</td><td>9</td><td>0</td><td>\\N</td><td>20</td><td>R</td><td>1052</td><td>0</td><td>24985</td><td>3</td><td>\\N</td></tr></tbody></table></div>"
      ]
     },
     "metadata": {
      "application/vnd.databricks.v1+output": {
       "addedWidgets": {},
       "aggData": [],
       "aggError": "",
       "aggOverflow": false,
       "aggSchema": [],
       "aggSeriesLimitReached": false,
       "aggType": "",
       "arguments": {},
       "columnCustomDisplayInfos": {},
       "data": [
        [
         131,
         1,
         "44",
         "207.235",
         "1:34.015",
         2,
         56,
         "5523897",
         44,
         20,
         "1",
         1,
         "1",
         1052,
         4,
         24966,
         1,
         "1:32:03.897"
        ],
        [
         9,
         830,
         "41",
         "208.984",
         "1:33.228",
         1,
         56,
         "5524642",
         33,
         19,
         "2",
         2,
         "2",
         1052,
         2,
         24967,
         1,
         "+0.745"
        ],
        [
         131,
         822,
         "56",
         "211.566",
         "1:32.090",
         3,
         56,
         "5561280",
         77,
         18,
         "3",
         3,
         "3",
         1052,
         1,
         24968,
         1,
         "+37.383"
        ],
        [
         1,
         846,
         "38",
         "206.398",
         "1:34.396",
         7,
         56,
         "5570363",
         4,
         17,
         "4",
         4,
         "4",
         1052,
         6,
         24969,
         1,
         "+46.466"
        ],
        [
         9,
         815,
         "44",
         "207.334",
         "1:33.970",
         0,
         56,
         "5575944",
         11,
         16,
         "5",
         5,
         "5",
         1052,
         3,
         24970,
         1,
         "+52.047"
        ],
        [
         6,
         844,
         "39",
         "205.112",
         "1:34.988",
         4,
         56,
         "5582987",
         16,
         15,
         "6",
         6,
         "6",
         1052,
         11,
         24971,
         1,
         "+59.090"
        ],
        [
         1,
         817,
         "36",
         "205.233",
         "1:34.932",
         6,
         56,
         "5589901",
         3,
         14,
         "7",
         7,
         "7",
         1052,
         10,
         24972,
         1,
         "+66.004"
        ],
        [
         6,
         832,
         "48",
         "206.151",
         "1:34.509",
         8,
         56,
         "5590997",
         55,
         13,
         "8",
         8,
         "8",
         1052,
         7,
         24973,
         1,
         "+67.100"
        ],
        [
         213,
         852,
         "38",
         "205.603",
         "1:34.761",
         13,
         56,
         "5609589",
         22,
         12,
         "9",
         9,
         "9",
         1052,
         8,
         24974,
         1,
         "+85.692"
        ],
        [
         117,
         840,
         "31",
         "205.378",
         "1:34.865",
         10,
         56,
         "5610610",
         18,
         11,
         "10",
         10,
         "10",
         1052,
         9,
         24975,
         1,
         "+86.713"
        ],
        [
         214,
         4,
         "31",
         "202.816",
         "1:36.063",
         9,
         32,
         "\\N",
         14,
         0,
         "\\N",
         19,
         "R",
         1052,
         17,
         24984,
         23,
         "\\N"
        ],
        [
         210,
         853,
         "\\N",
         "\\N",
         "\\N",
         19,
         0,
         "\\N",
         9,
         0,
         "\\N",
         20,
         "R",
         1052,
         0,
         24985,
         3,
         "\\N"
        ]
       ],
       "datasetInfos": [],
       "dbfsResultPath": null,
       "isJsonSchema": true,
       "metadata": {},
       "overflow": false,
       "plotOptions": {
        "customPlotOptions": {},
        "displayType": "table",
        "pivotAggregation": null,
        "pivotColumns": null,
        "xColumns": null,
        "yColumns": null
       },
       "removedWidgets": [],
       "schema": [
        {
         "metadata": "{}",
         "name": "constructorId",
         "type": "\"long\""
        },
        {
         "metadata": "{}",
         "name": "driverId",
         "type": "\"long\""
        },
        {
         "metadata": "{}",
         "name": "fastestLap",
         "type": "\"string\""
        },
        {
         "metadata": "{}",
         "name": "fastestLapSpeed",
         "type": "\"string\""
        },
        {
         "metadata": "{}",
         "name": "fastestLapTime",
         "type": "\"string\""
        },
        {
         "metadata": "{}",
         "name": "grid",
         "type": "\"long\""
        },
        {
         "metadata": "{}",
         "name": "laps",
         "type": "\"long\""
        },
        {
         "metadata": "{}",
         "name": "milliseconds",
         "type": "\"string\""
        },
        {
         "metadata": "{}",
         "name": "number",
         "type": "\"long\""
        },
        {
         "metadata": "{}",
         "name": "points",
         "type": "\"long\""
        },
        {
         "metadata": "{}",
         "name": "position",
         "type": "\"string\""
        },
        {
         "metadata": "{}",
         "name": "positionOrder",
         "type": "\"long\""
        },
        {
         "metadata": "{}",
         "name": "positionText",
         "type": "\"string\""
        },
        {
         "metadata": "{}",
         "name": "raceId",
         "type": "\"long\""
        },
        {
         "metadata": "{}",
         "name": "rank",
         "type": "\"long\""
        },
        {
         "metadata": "{}",
         "name": "resultId",
         "type": "\"long\""
        },
        {
         "metadata": "{}",
         "name": "statusId",
         "type": "\"long\""
        },
        {
         "metadata": "{}",
         "name": "time",
         "type": "\"string\""
        }
       ],
       "type": "table"
      }
     },
     "output_type": "display_data"
    }
   ],
   "source": [
    "%sql\n",
    "-- Delete from Managed Table SQL\n",
    "delete from formula1_delta_demo.results_delta\n",
    "  where position > 10;\n",
    "\n",
    "-- Read updated Table\n",
    "select *\n",
    "from formula1_delta_demo.results_delta;"
   ]
  },
  {
   "cell_type": "code",
   "execution_count": 0,
   "metadata": {
    "application/vnd.databricks.v1+cell": {
     "cellMetadata": {
      "byteLimit": 2048000,
      "rowLimit": 10000
     },
     "inputWidgets": {},
     "nuid": "bece74b0-af54-4cea-a4e4-983074b2c6bd",
     "showTitle": false,
     "title": ""
    }
   },
   "outputs": [],
   "source": [
    "# Delete from Managed Table PySpark\n",
    "deltaTable = DeltaTable.forPath(spark, f'{delta_demo_folder_path}/results_delta')\n",
    "deltaTable.delete(\n",
    "    'points = 0',\n",
    ")"
   ]
  },
  {
   "cell_type": "code",
   "execution_count": 0,
   "metadata": {
    "application/vnd.databricks.v1+cell": {
     "cellMetadata": {
      "byteLimit": 2048000,
      "implicitDf": true,
      "rowLimit": 10000
     },
     "inputWidgets": {},
     "nuid": "ad9ad69c-413c-47bf-a8fa-bc069a038dc4",
     "showTitle": false,
     "title": ""
    }
   },
   "outputs": [
    {
     "output_type": "display_data",
     "data": {
      "text/html": [
       "<style scoped>\n",
       "  .table-result-container {\n",
       "    max-height: 300px;\n",
       "    overflow: auto;\n",
       "  }\n",
       "  table, th, td {\n",
       "    border: 1px solid black;\n",
       "    border-collapse: collapse;\n",
       "  }\n",
       "  th, td {\n",
       "    padding: 5px;\n",
       "  }\n",
       "  th {\n",
       "    text-align: left;\n",
       "  }\n",
       "</style><div class='table-result-container'><table class='table-result'><thead style='background-color: white'><tr><th>constructorId</th><th>driverId</th><th>fastestLap</th><th>fastestLapSpeed</th><th>fastestLapTime</th><th>grid</th><th>laps</th><th>milliseconds</th><th>number</th><th>points</th><th>position</th><th>positionOrder</th><th>positionText</th><th>raceId</th><th>rank</th><th>resultId</th><th>statusId</th><th>time</th></tr></thead><tbody><tr><td>131</td><td>1</td><td>44</td><td>207.235</td><td>1:34.015</td><td>2</td><td>56</td><td>5523897</td><td>44</td><td>20</td><td>1</td><td>1</td><td>1</td><td>1052</td><td>4</td><td>24966</td><td>1</td><td>1:32:03.897</td></tr><tr><td>9</td><td>830</td><td>41</td><td>208.984</td><td>1:33.228</td><td>1</td><td>56</td><td>5524642</td><td>33</td><td>19</td><td>2</td><td>2</td><td>2</td><td>1052</td><td>2</td><td>24967</td><td>1</td><td>+0.745</td></tr><tr><td>131</td><td>822</td><td>56</td><td>211.566</td><td>1:32.090</td><td>3</td><td>56</td><td>5561280</td><td>77</td><td>18</td><td>3</td><td>3</td><td>3</td><td>1052</td><td>1</td><td>24968</td><td>1</td><td>+37.383</td></tr><tr><td>1</td><td>846</td><td>38</td><td>206.398</td><td>1:34.396</td><td>7</td><td>56</td><td>5570363</td><td>4</td><td>17</td><td>4</td><td>4</td><td>4</td><td>1052</td><td>6</td><td>24969</td><td>1</td><td>+46.466</td></tr><tr><td>9</td><td>815</td><td>44</td><td>207.334</td><td>1:33.970</td><td>0</td><td>56</td><td>5575944</td><td>11</td><td>16</td><td>5</td><td>5</td><td>5</td><td>1052</td><td>3</td><td>24970</td><td>1</td><td>+52.047</td></tr><tr><td>6</td><td>844</td><td>39</td><td>205.112</td><td>1:34.988</td><td>4</td><td>56</td><td>5582987</td><td>16</td><td>15</td><td>6</td><td>6</td><td>6</td><td>1052</td><td>11</td><td>24971</td><td>1</td><td>+59.090</td></tr><tr><td>1</td><td>817</td><td>36</td><td>205.233</td><td>1:34.932</td><td>6</td><td>56</td><td>5589901</td><td>3</td><td>14</td><td>7</td><td>7</td><td>7</td><td>1052</td><td>10</td><td>24972</td><td>1</td><td>+66.004</td></tr><tr><td>6</td><td>832</td><td>48</td><td>206.151</td><td>1:34.509</td><td>8</td><td>56</td><td>5590997</td><td>55</td><td>13</td><td>8</td><td>8</td><td>8</td><td>1052</td><td>7</td><td>24973</td><td>1</td><td>+67.100</td></tr><tr><td>213</td><td>852</td><td>38</td><td>205.603</td><td>1:34.761</td><td>13</td><td>56</td><td>5609589</td><td>22</td><td>12</td><td>9</td><td>9</td><td>9</td><td>1052</td><td>8</td><td>24974</td><td>1</td><td>+85.692</td></tr><tr><td>117</td><td>840</td><td>31</td><td>205.378</td><td>1:34.865</td><td>10</td><td>56</td><td>5610610</td><td>18</td><td>11</td><td>10</td><td>10</td><td>10</td><td>1052</td><td>9</td><td>24975</td><td>1</td><td>+86.713</td></tr></tbody></table></div>"
      ]
     },
     "metadata": {
      "application/vnd.databricks.v1+output": {
       "addedWidgets": {},
       "aggData": [],
       "aggError": "",
       "aggOverflow": false,
       "aggSchema": [],
       "aggSeriesLimitReached": false,
       "aggType": "",
       "arguments": {},
       "columnCustomDisplayInfos": {},
       "data": [
        [
         131,
         1,
         "44",
         "207.235",
         "1:34.015",
         2,
         56,
         "5523897",
         44,
         20,
         "1",
         1,
         "1",
         1052,
         4,
         24966,
         1,
         "1:32:03.897"
        ],
        [
         9,
         830,
         "41",
         "208.984",
         "1:33.228",
         1,
         56,
         "5524642",
         33,
         19,
         "2",
         2,
         "2",
         1052,
         2,
         24967,
         1,
         "+0.745"
        ],
        [
         131,
         822,
         "56",
         "211.566",
         "1:32.090",
         3,
         56,
         "5561280",
         77,
         18,
         "3",
         3,
         "3",
         1052,
         1,
         24968,
         1,
         "+37.383"
        ],
        [
         1,
         846,
         "38",
         "206.398",
         "1:34.396",
         7,
         56,
         "5570363",
         4,
         17,
         "4",
         4,
         "4",
         1052,
         6,
         24969,
         1,
         "+46.466"
        ],
        [
         9,
         815,
         "44",
         "207.334",
         "1:33.970",
         0,
         56,
         "5575944",
         11,
         16,
         "5",
         5,
         "5",
         1052,
         3,
         24970,
         1,
         "+52.047"
        ],
        [
         6,
         844,
         "39",
         "205.112",
         "1:34.988",
         4,
         56,
         "5582987",
         16,
         15,
         "6",
         6,
         "6",
         1052,
         11,
         24971,
         1,
         "+59.090"
        ],
        [
         1,
         817,
         "36",
         "205.233",
         "1:34.932",
         6,
         56,
         "5589901",
         3,
         14,
         "7",
         7,
         "7",
         1052,
         10,
         24972,
         1,
         "+66.004"
        ],
        [
         6,
         832,
         "48",
         "206.151",
         "1:34.509",
         8,
         56,
         "5590997",
         55,
         13,
         "8",
         8,
         "8",
         1052,
         7,
         24973,
         1,
         "+67.100"
        ],
        [
         213,
         852,
         "38",
         "205.603",
         "1:34.761",
         13,
         56,
         "5609589",
         22,
         12,
         "9",
         9,
         "9",
         1052,
         8,
         24974,
         1,
         "+85.692"
        ],
        [
         117,
         840,
         "31",
         "205.378",
         "1:34.865",
         10,
         56,
         "5610610",
         18,
         11,
         "10",
         10,
         "10",
         1052,
         9,
         24975,
         1,
         "+86.713"
        ]
       ],
       "datasetInfos": [],
       "dbfsResultPath": null,
       "isJsonSchema": true,
       "metadata": {},
       "overflow": false,
       "plotOptions": {
        "customPlotOptions": {},
        "displayType": "table",
        "pivotAggregation": null,
        "pivotColumns": null,
        "xColumns": null,
        "yColumns": null
       },
       "removedWidgets": [],
       "schema": [
        {
         "metadata": "{}",
         "name": "constructorId",
         "type": "\"long\""
        },
        {
         "metadata": "{}",
         "name": "driverId",
         "type": "\"long\""
        },
        {
         "metadata": "{}",
         "name": "fastestLap",
         "type": "\"string\""
        },
        {
         "metadata": "{}",
         "name": "fastestLapSpeed",
         "type": "\"string\""
        },
        {
         "metadata": "{}",
         "name": "fastestLapTime",
         "type": "\"string\""
        },
        {
         "metadata": "{}",
         "name": "grid",
         "type": "\"long\""
        },
        {
         "metadata": "{}",
         "name": "laps",
         "type": "\"long\""
        },
        {
         "metadata": "{}",
         "name": "milliseconds",
         "type": "\"string\""
        },
        {
         "metadata": "{}",
         "name": "number",
         "type": "\"long\""
        },
        {
         "metadata": "{}",
         "name": "points",
         "type": "\"long\""
        },
        {
         "metadata": "{}",
         "name": "position",
         "type": "\"string\""
        },
        {
         "metadata": "{}",
         "name": "positionOrder",
         "type": "\"long\""
        },
        {
         "metadata": "{}",
         "name": "positionText",
         "type": "\"string\""
        },
        {
         "metadata": "{}",
         "name": "raceId",
         "type": "\"long\""
        },
        {
         "metadata": "{}",
         "name": "rank",
         "type": "\"long\""
        },
        {
         "metadata": "{}",
         "name": "resultId",
         "type": "\"long\""
        },
        {
         "metadata": "{}",
         "name": "statusId",
         "type": "\"long\""
        },
        {
         "metadata": "{}",
         "name": "time",
         "type": "\"string\""
        }
       ],
       "type": "table"
      }
     },
     "output_type": "display_data"
    }
   ],
   "source": [
    "%sql\n",
    "-- Read updated Table\n",
    "select *\n",
    "from formula1_delta_demo.results_delta;"
   ]
  },
  {
   "cell_type": "markdown",
   "metadata": {
    "application/vnd.databricks.v1+cell": {
     "cellMetadata": {},
     "inputWidgets": {},
     "nuid": "9a3f164e-5396-499c-8118-e711aeedafe7",
     "showTitle": false,
     "title": ""
    }
   },
   "source": [
    "### Merge/Upsert to Delta Lake"
   ]
  },
  {
   "cell_type": "code",
   "execution_count": 0,
   "metadata": {
    "application/vnd.databricks.v1+cell": {
     "cellMetadata": {
      "byteLimit": 2048000,
      "rowLimit": 10000
     },
     "inputWidgets": {},
     "nuid": "1b062290-3860-4c58-98dd-ee445687c581",
     "showTitle": false,
     "title": ""
    }
   },
   "outputs": [
    {
     "output_type": "display_data",
     "data": {
      "text/html": [
       "<style scoped>\n",
       "  .table-result-container {\n",
       "    max-height: 300px;\n",
       "    overflow: auto;\n",
       "  }\n",
       "  table, th, td {\n",
       "    border: 1px solid black;\n",
       "    border-collapse: collapse;\n",
       "  }\n",
       "  th, td {\n",
       "    padding: 5px;\n",
       "  }\n",
       "  th {\n",
       "    text-align: left;\n",
       "  }\n",
       "</style><div class='table-result-container'><table class='table-result'><thead style='background-color: white'><tr><th>driverId</th><th>dob</th><th>forename</th><th>surname</th></tr></thead><tbody><tr><td>1</td><td>1985-01-07</td><td>Lewis</td><td>Hamilton</td></tr><tr><td>2</td><td>1977-05-10</td><td>Nick</td><td>Heidfeld</td></tr><tr><td>3</td><td>1985-06-27</td><td>Nico</td><td>Rosberg</td></tr><tr><td>4</td><td>1981-07-29</td><td>Fernando</td><td>Alonso</td></tr><tr><td>5</td><td>1981-10-19</td><td>Heikki</td><td>Kovalainen</td></tr><tr><td>6</td><td>1985-01-11</td><td>Kazuki</td><td>Nakajima</td></tr><tr><td>7</td><td>1979-02-28</td><td>Sébastien</td><td>Bourdais</td></tr><tr><td>8</td><td>1979-10-17</td><td>Kimi</td><td>Räikkönen</td></tr><tr><td>9</td><td>1984-12-07</td><td>Robert</td><td>Kubica</td></tr><tr><td>10</td><td>1982-03-18</td><td>Timo</td><td>Glock</td></tr></tbody></table></div>"
      ]
     },
     "metadata": {
      "application/vnd.databricks.v1+output": {
       "addedWidgets": {},
       "aggData": [],
       "aggError": "",
       "aggOverflow": false,
       "aggSchema": [],
       "aggSeriesLimitReached": false,
       "aggType": "",
       "arguments": {},
       "columnCustomDisplayInfos": {},
       "data": [
        [
         1,
         "1985-01-07",
         "Lewis",
         "Hamilton"
        ],
        [
         2,
         "1977-05-10",
         "Nick",
         "Heidfeld"
        ],
        [
         3,
         "1985-06-27",
         "Nico",
         "Rosberg"
        ],
        [
         4,
         "1981-07-29",
         "Fernando",
         "Alonso"
        ],
        [
         5,
         "1981-10-19",
         "Heikki",
         "Kovalainen"
        ],
        [
         6,
         "1985-01-11",
         "Kazuki",
         "Nakajima"
        ],
        [
         7,
         "1979-02-28",
         "Sébastien",
         "Bourdais"
        ],
        [
         8,
         "1979-10-17",
         "Kimi",
         "Räikkönen"
        ],
        [
         9,
         "1984-12-07",
         "Robert",
         "Kubica"
        ],
        [
         10,
         "1982-03-18",
         "Timo",
         "Glock"
        ]
       ],
       "datasetInfos": [],
       "dbfsResultPath": null,
       "isJsonSchema": true,
       "metadata": {},
       "overflow": false,
       "plotOptions": {
        "customPlotOptions": {},
        "displayType": "table",
        "pivotAggregation": null,
        "pivotColumns": null,
        "xColumns": null,
        "yColumns": null
       },
       "removedWidgets": [],
       "schema": [
        {
         "metadata": "{}",
         "name": "driverId",
         "type": "\"long\""
        },
        {
         "metadata": "{}",
         "name": "dob",
         "type": "\"string\""
        },
        {
         "metadata": "{}",
         "name": "forename",
         "type": "\"string\""
        },
        {
         "metadata": "{}",
         "name": "surname",
         "type": "\"string\""
        }
       ],
       "type": "table"
      }
     },
     "output_type": "display_data"
    }
   ],
   "source": [
    "# Create Demo Data (Day 1)\n",
    "drivers_day1_df = spark.read \\\n",
    "    .option('inferSchema', True) \\\n",
    "    .json(f'{raw_inc_folder_path}/{file_date}/drivers.json') \\\n",
    "    .filter('driverId <= 10') \\\n",
    "    .select('driverId', 'dob', 'name.forename', 'name.surname')\n",
    "\n",
    "# Create Temporary View\n",
    "drivers_day1_df.createOrReplaceTempView('drivers_day1')\n",
    "\n",
    "# Display Data\n",
    "display(drivers_day1_df)"
   ]
  },
  {
   "cell_type": "code",
   "execution_count": 0,
   "metadata": {
    "application/vnd.databricks.v1+cell": {
     "cellMetadata": {
      "byteLimit": 2048000,
      "rowLimit": 10000
     },
     "inputWidgets": {},
     "nuid": "2b8da9c8-a630-4e63-bfda-5df70a040c71",
     "showTitle": false,
     "title": ""
    }
   },
   "outputs": [
    {
     "output_type": "display_data",
     "data": {
      "text/html": [
       "<style scoped>\n",
       "  .table-result-container {\n",
       "    max-height: 300px;\n",
       "    overflow: auto;\n",
       "  }\n",
       "  table, th, td {\n",
       "    border: 1px solid black;\n",
       "    border-collapse: collapse;\n",
       "  }\n",
       "  th, td {\n",
       "    padding: 5px;\n",
       "  }\n",
       "  th {\n",
       "    text-align: left;\n",
       "  }\n",
       "</style><div class='table-result-container'><table class='table-result'><thead style='background-color: white'><tr><th>driverId</th><th>dob</th><th>forename</th><th>surname</th></tr></thead><tbody><tr><td>6</td><td>1985-01-11</td><td>KAZUKI</td><td>NAKAJIMA</td></tr><tr><td>7</td><td>1979-02-28</td><td>SÉBASTIEN</td><td>BOURDAIS</td></tr><tr><td>8</td><td>1979-10-17</td><td>KIMI</td><td>RÄIKKÖNEN</td></tr><tr><td>9</td><td>1984-12-07</td><td>ROBERT</td><td>KUBICA</td></tr><tr><td>10</td><td>1982-03-18</td><td>TIMO</td><td>GLOCK</td></tr><tr><td>11</td><td>1977-01-28</td><td>TAKUMA</td><td>SATO</td></tr><tr><td>12</td><td>1985-07-25</td><td>NELSON</td><td>PIQUET JR.</td></tr><tr><td>13</td><td>1981-04-25</td><td>FELIPE</td><td>MASSA</td></tr><tr><td>14</td><td>1971-03-27</td><td>DAVID</td><td>COULTHARD</td></tr><tr><td>15</td><td>1974-07-13</td><td>JARNO</td><td>TRULLI</td></tr></tbody></table></div>"
      ]
     },
     "metadata": {
      "application/vnd.databricks.v1+output": {
       "addedWidgets": {},
       "aggData": [],
       "aggError": "",
       "aggOverflow": false,
       "aggSchema": [],
       "aggSeriesLimitReached": false,
       "aggType": "",
       "arguments": {},
       "columnCustomDisplayInfos": {},
       "data": [
        [
         6,
         "1985-01-11",
         "KAZUKI",
         "NAKAJIMA"
        ],
        [
         7,
         "1979-02-28",
         "SÉBASTIEN",
         "BOURDAIS"
        ],
        [
         8,
         "1979-10-17",
         "KIMI",
         "RÄIKKÖNEN"
        ],
        [
         9,
         "1984-12-07",
         "ROBERT",
         "KUBICA"
        ],
        [
         10,
         "1982-03-18",
         "TIMO",
         "GLOCK"
        ],
        [
         11,
         "1977-01-28",
         "TAKUMA",
         "SATO"
        ],
        [
         12,
         "1985-07-25",
         "NELSON",
         "PIQUET JR."
        ],
        [
         13,
         "1981-04-25",
         "FELIPE",
         "MASSA"
        ],
        [
         14,
         "1971-03-27",
         "DAVID",
         "COULTHARD"
        ],
        [
         15,
         "1974-07-13",
         "JARNO",
         "TRULLI"
        ]
       ],
       "datasetInfos": [],
       "dbfsResultPath": null,
       "isJsonSchema": true,
       "metadata": {},
       "overflow": false,
       "plotOptions": {
        "customPlotOptions": {},
        "displayType": "table",
        "pivotAggregation": null,
        "pivotColumns": null,
        "xColumns": null,
        "yColumns": null
       },
       "removedWidgets": [],
       "schema": [
        {
         "metadata": "{}",
         "name": "driverId",
         "type": "\"long\""
        },
        {
         "metadata": "{}",
         "name": "dob",
         "type": "\"string\""
        },
        {
         "metadata": "{}",
         "name": "forename",
         "type": "\"string\""
        },
        {
         "metadata": "{}",
         "name": "surname",
         "type": "\"string\""
        }
       ],
       "type": "table"
      }
     },
     "output_type": "display_data"
    }
   ],
   "source": [
    "# Create Demo Data (Day 2)\n",
    "drivers_day2_df = spark.read \\\n",
    "    .option('inferSchema', True) \\\n",
    "    .json(f'{raw_inc_folder_path}/{file_date}/drivers.json') \\\n",
    "    .filter('driverId between 6 and 15') \\\n",
    "    .select('driverId', 'dob', upper('name.forename').alias('forename'), upper('name.surname').alias('surname'))\n",
    "\n",
    "# Create Temporary View\n",
    "drivers_day2_df.createOrReplaceTempView('drivers_day2')\n",
    "\n",
    "#Display Data\n",
    "display(drivers_day2_df)"
   ]
  },
  {
   "cell_type": "code",
   "execution_count": 0,
   "metadata": {
    "application/vnd.databricks.v1+cell": {
     "cellMetadata": {
      "byteLimit": 2048000,
      "rowLimit": 10000
     },
     "inputWidgets": {},
     "nuid": "92b0b44f-fc51-47b2-b605-41b71b99165c",
     "showTitle": false,
     "title": ""
    }
   },
   "outputs": [
    {
     "output_type": "display_data",
     "data": {
      "text/html": [
       "<style scoped>\n",
       "  .table-result-container {\n",
       "    max-height: 300px;\n",
       "    overflow: auto;\n",
       "  }\n",
       "  table, th, td {\n",
       "    border: 1px solid black;\n",
       "    border-collapse: collapse;\n",
       "  }\n",
       "  th, td {\n",
       "    padding: 5px;\n",
       "  }\n",
       "  th {\n",
       "    text-align: left;\n",
       "  }\n",
       "</style><div class='table-result-container'><table class='table-result'><thead style='background-color: white'><tr><th>driverId</th><th>dob</th><th>forename</th><th>surname</th></tr></thead><tbody><tr><td>1</td><td>1985-01-07</td><td>LEWIS</td><td>HAMILTON</td></tr><tr><td>2</td><td>1977-05-10</td><td>NICK</td><td>HEIDFELD</td></tr><tr><td>3</td><td>1985-06-27</td><td>NICO</td><td>ROSBERG</td></tr><tr><td>4</td><td>1981-07-29</td><td>FERNANDO</td><td>ALONSO</td></tr><tr><td>5</td><td>1981-10-19</td><td>HEIKKI</td><td>KOVALAINEN</td></tr><tr><td>16</td><td>1983-01-11</td><td>ADRIAN</td><td>SUTIL</td></tr><tr><td>17</td><td>1976-08-27</td><td>MARK</td><td>WEBBER</td></tr><tr><td>18</td><td>1980-01-19</td><td>JENSON</td><td>BUTTON</td></tr><tr><td>19</td><td>1979-04-18</td><td>ANTHONY</td><td>DAVIDSON</td></tr><tr><td>20</td><td>1987-07-03</td><td>SEBASTIAN</td><td>VETTEL</td></tr></tbody></table></div>"
      ]
     },
     "metadata": {
      "application/vnd.databricks.v1+output": {
       "addedWidgets": {},
       "aggData": [],
       "aggError": "",
       "aggOverflow": false,
       "aggSchema": [],
       "aggSeriesLimitReached": false,
       "aggType": "",
       "arguments": {},
       "columnCustomDisplayInfos": {},
       "data": [
        [
         1,
         "1985-01-07",
         "LEWIS",
         "HAMILTON"
        ],
        [
         2,
         "1977-05-10",
         "NICK",
         "HEIDFELD"
        ],
        [
         3,
         "1985-06-27",
         "NICO",
         "ROSBERG"
        ],
        [
         4,
         "1981-07-29",
         "FERNANDO",
         "ALONSO"
        ],
        [
         5,
         "1981-10-19",
         "HEIKKI",
         "KOVALAINEN"
        ],
        [
         16,
         "1983-01-11",
         "ADRIAN",
         "SUTIL"
        ],
        [
         17,
         "1976-08-27",
         "MARK",
         "WEBBER"
        ],
        [
         18,
         "1980-01-19",
         "JENSON",
         "BUTTON"
        ],
        [
         19,
         "1979-04-18",
         "ANTHONY",
         "DAVIDSON"
        ],
        [
         20,
         "1987-07-03",
         "SEBASTIAN",
         "VETTEL"
        ]
       ],
       "datasetInfos": [],
       "dbfsResultPath": null,
       "isJsonSchema": true,
       "metadata": {},
       "overflow": false,
       "plotOptions": {
        "customPlotOptions": {},
        "displayType": "table",
        "pivotAggregation": null,
        "pivotColumns": null,
        "xColumns": null,
        "yColumns": null
       },
       "removedWidgets": [],
       "schema": [
        {
         "metadata": "{}",
         "name": "driverId",
         "type": "\"long\""
        },
        {
         "metadata": "{}",
         "name": "dob",
         "type": "\"string\""
        },
        {
         "metadata": "{}",
         "name": "forename",
         "type": "\"string\""
        },
        {
         "metadata": "{}",
         "name": "surname",
         "type": "\"string\""
        }
       ],
       "type": "table"
      }
     },
     "output_type": "display_data"
    }
   ],
   "source": [
    "# Create Demo Data (Day 3)\n",
    "drivers_day3_df = spark.read \\\n",
    "    .option('inferSchema', True) \\\n",
    "    .json(f'{raw_inc_folder_path}/{file_date}/drivers.json') \\\n",
    "    .filter('driverId between 1 and 5 or driverId between 16 and 20') \\\n",
    "    .select('driverId', 'dob', upper('name.forename').alias('forename'), upper('name.surname').alias('surname'))\n",
    "\n",
    "# Display Data\n",
    "display(drivers_day3_df)"
   ]
  },
  {
   "cell_type": "code",
   "execution_count": 0,
   "metadata": {
    "application/vnd.databricks.v1+cell": {
     "cellMetadata": {
      "byteLimit": 2048000,
      "implicitDf": true,
      "rowLimit": 10000
     },
     "inputWidgets": {},
     "nuid": "d828fb5b-c3b4-4ea9-9eeb-57ffba9add61",
     "showTitle": false,
     "title": ""
    }
   },
   "outputs": [
    {
     "output_type": "display_data",
     "data": {
      "text/html": [
       "<style scoped>\n",
       "  .table-result-container {\n",
       "    max-height: 300px;\n",
       "    overflow: auto;\n",
       "  }\n",
       "  table, th, td {\n",
       "    border: 1px solid black;\n",
       "    border-collapse: collapse;\n",
       "  }\n",
       "  th, td {\n",
       "    padding: 5px;\n",
       "  }\n",
       "  th {\n",
       "    text-align: left;\n",
       "  }\n",
       "</style><div class='table-result-container'><table class='table-result'><thead style='background-color: white'><tr></tr></thead><tbody></tbody></table></div>"
      ]
     },
     "metadata": {
      "application/vnd.databricks.v1+output": {
       "addedWidgets": {},
       "aggData": [],
       "aggError": "",
       "aggOverflow": false,
       "aggSchema": [],
       "aggSeriesLimitReached": false,
       "aggType": "",
       "arguments": {},
       "columnCustomDisplayInfos": {},
       "data": [],
       "datasetInfos": [],
       "dbfsResultPath": null,
       "isJsonSchema": true,
       "metadata": {},
       "overflow": false,
       "plotOptions": {
        "customPlotOptions": {},
        "displayType": "table",
        "pivotAggregation": null,
        "pivotColumns": null,
        "xColumns": null,
        "yColumns": null
       },
       "removedWidgets": [],
       "schema": [],
       "type": "table"
      }
     },
     "output_type": "display_data"
    }
   ],
   "source": [
    "%sql\n",
    "-- Create Delta Table\n",
    "drop table if exists formula1_delta_demo.drivers_merge;\n",
    "\n",
    "create table if not exists formula1_delta_demo.drivers_merge (\n",
    "  driverId int\n",
    "  ,dob date\n",
    "  ,forename string \n",
    "  ,surname string\n",
    "  ,createdDate date\n",
    "  ,updatedDate date\n",
    ")\n",
    "using delta;"
   ]
  },
  {
   "cell_type": "code",
   "execution_count": 0,
   "metadata": {
    "application/vnd.databricks.v1+cell": {
     "cellMetadata": {
      "byteLimit": 2048000,
      "implicitDf": true,
      "rowLimit": 10000
     },
     "inputWidgets": {},
     "nuid": "5e3dcacf-8728-43c2-8a61-ead9b0fb8dfb",
     "showTitle": false,
     "title": ""
    }
   },
   "outputs": [
    {
     "output_type": "display_data",
     "data": {
      "text/html": [
       "<style scoped>\n",
       "  .table-result-container {\n",
       "    max-height: 300px;\n",
       "    overflow: auto;\n",
       "  }\n",
       "  table, th, td {\n",
       "    border: 1px solid black;\n",
       "    border-collapse: collapse;\n",
       "  }\n",
       "  th, td {\n",
       "    padding: 5px;\n",
       "  }\n",
       "  th {\n",
       "    text-align: left;\n",
       "  }\n",
       "</style><div class='table-result-container'><table class='table-result'><thead style='background-color: white'><tr><th>driverId</th><th>dob</th><th>forename</th><th>surname</th><th>createdDate</th><th>updatedDate</th></tr></thead><tbody><tr><td>1</td><td>1985-01-07</td><td>Lewis</td><td>Hamilton</td><td>2023-08-21</td><td>null</td></tr><tr><td>2</td><td>1977-05-10</td><td>Nick</td><td>Heidfeld</td><td>2023-08-21</td><td>null</td></tr><tr><td>3</td><td>1985-06-27</td><td>Nico</td><td>Rosberg</td><td>2023-08-21</td><td>null</td></tr><tr><td>4</td><td>1981-07-29</td><td>Fernando</td><td>Alonso</td><td>2023-08-21</td><td>null</td></tr><tr><td>5</td><td>1981-10-19</td><td>Heikki</td><td>Kovalainen</td><td>2023-08-21</td><td>null</td></tr><tr><td>6</td><td>1985-01-11</td><td>Kazuki</td><td>Nakajima</td><td>2023-08-21</td><td>null</td></tr><tr><td>7</td><td>1979-02-28</td><td>Sébastien</td><td>Bourdais</td><td>2023-08-21</td><td>null</td></tr><tr><td>8</td><td>1979-10-17</td><td>Kimi</td><td>Räikkönen</td><td>2023-08-21</td><td>null</td></tr><tr><td>9</td><td>1984-12-07</td><td>Robert</td><td>Kubica</td><td>2023-08-21</td><td>null</td></tr><tr><td>10</td><td>1982-03-18</td><td>Timo</td><td>Glock</td><td>2023-08-21</td><td>null</td></tr></tbody></table></div>"
      ]
     },
     "metadata": {
      "application/vnd.databricks.v1+output": {
       "addedWidgets": {},
       "aggData": [],
       "aggError": "",
       "aggOverflow": false,
       "aggSchema": [],
       "aggSeriesLimitReached": false,
       "aggType": "",
       "arguments": {},
       "columnCustomDisplayInfos": {},
       "data": [
        [
         1,
         "1985-01-07",
         "Lewis",
         "Hamilton",
         "2023-08-21",
         null
        ],
        [
         2,
         "1977-05-10",
         "Nick",
         "Heidfeld",
         "2023-08-21",
         null
        ],
        [
         3,
         "1985-06-27",
         "Nico",
         "Rosberg",
         "2023-08-21",
         null
        ],
        [
         4,
         "1981-07-29",
         "Fernando",
         "Alonso",
         "2023-08-21",
         null
        ],
        [
         5,
         "1981-10-19",
         "Heikki",
         "Kovalainen",
         "2023-08-21",
         null
        ],
        [
         6,
         "1985-01-11",
         "Kazuki",
         "Nakajima",
         "2023-08-21",
         null
        ],
        [
         7,
         "1979-02-28",
         "Sébastien",
         "Bourdais",
         "2023-08-21",
         null
        ],
        [
         8,
         "1979-10-17",
         "Kimi",
         "Räikkönen",
         "2023-08-21",
         null
        ],
        [
         9,
         "1984-12-07",
         "Robert",
         "Kubica",
         "2023-08-21",
         null
        ],
        [
         10,
         "1982-03-18",
         "Timo",
         "Glock",
         "2023-08-21",
         null
        ]
       ],
       "datasetInfos": [],
       "dbfsResultPath": null,
       "isJsonSchema": true,
       "metadata": {},
       "overflow": false,
       "plotOptions": {
        "customPlotOptions": {},
        "displayType": "table",
        "pivotAggregation": null,
        "pivotColumns": null,
        "xColumns": null,
        "yColumns": null
       },
       "removedWidgets": [],
       "schema": [
        {
         "metadata": "{}",
         "name": "driverId",
         "type": "\"integer\""
        },
        {
         "metadata": "{}",
         "name": "dob",
         "type": "\"date\""
        },
        {
         "metadata": "{}",
         "name": "forename",
         "type": "\"string\""
        },
        {
         "metadata": "{}",
         "name": "surname",
         "type": "\"string\""
        },
        {
         "metadata": "{}",
         "name": "createdDate",
         "type": "\"date\""
        },
        {
         "metadata": "{}",
         "name": "updatedDate",
         "type": "\"date\""
        }
       ],
       "type": "table"
      }
     },
     "output_type": "display_data"
    }
   ],
   "source": [
    "%sql\n",
    "-- Merge Data from Day 1 Using SQL\n",
    "merge into formula1_delta_demo.drivers_merge as tgt\n",
    "using drivers_day1 as upt\n",
    "on tgt.driverId = upt.driverId\n",
    "when matched then\n",
    "  update set\n",
    "    tgt.dob = upt.dob\n",
    "    ,tgt.forename = upt.forename\n",
    "    ,tgt.surname = upt.surname\n",
    "    ,tgt.updatedDate = current_timestamp\n",
    "when not matched then\n",
    "  insert (driverId, dob, forename, surname, createdDate)\n",
    "  values (driverId, dob, forename, surname, current_timestamp);\n",
    "\n",
    "-- Display Data\n",
    "select *\n",
    "from formula1_delta_demo.drivers_merge;"
   ]
  },
  {
   "cell_type": "code",
   "execution_count": 0,
   "metadata": {
    "application/vnd.databricks.v1+cell": {
     "cellMetadata": {
      "byteLimit": 2048000,
      "implicitDf": true,
      "rowLimit": 10000
     },
     "inputWidgets": {},
     "nuid": "2496b412-2971-4ce6-b38b-2a615985e8a6",
     "showTitle": false,
     "title": ""
    }
   },
   "outputs": [
    {
     "output_type": "display_data",
     "data": {
      "text/html": [
       "<style scoped>\n",
       "  .table-result-container {\n",
       "    max-height: 300px;\n",
       "    overflow: auto;\n",
       "  }\n",
       "  table, th, td {\n",
       "    border: 1px solid black;\n",
       "    border-collapse: collapse;\n",
       "  }\n",
       "  th, td {\n",
       "    padding: 5px;\n",
       "  }\n",
       "  th {\n",
       "    text-align: left;\n",
       "  }\n",
       "</style><div class='table-result-container'><table class='table-result'><thead style='background-color: white'><tr><th>driverId</th><th>dob</th><th>forename</th><th>surname</th><th>createdDate</th><th>updatedDate</th></tr></thead><tbody><tr><td>6</td><td>1985-01-11</td><td>KAZUKI</td><td>NAKAJIMA</td><td>2023-08-21</td><td>2023-08-21</td></tr><tr><td>7</td><td>1979-02-28</td><td>SÉBASTIEN</td><td>BOURDAIS</td><td>2023-08-21</td><td>2023-08-21</td></tr><tr><td>8</td><td>1979-10-17</td><td>KIMI</td><td>RÄIKKÖNEN</td><td>2023-08-21</td><td>2023-08-21</td></tr><tr><td>9</td><td>1984-12-07</td><td>ROBERT</td><td>KUBICA</td><td>2023-08-21</td><td>2023-08-21</td></tr><tr><td>10</td><td>1982-03-18</td><td>TIMO</td><td>GLOCK</td><td>2023-08-21</td><td>2023-08-21</td></tr><tr><td>11</td><td>1977-01-28</td><td>TAKUMA</td><td>SATO</td><td>2023-08-21</td><td>null</td></tr><tr><td>12</td><td>1985-07-25</td><td>NELSON</td><td>PIQUET JR.</td><td>2023-08-21</td><td>null</td></tr><tr><td>13</td><td>1981-04-25</td><td>FELIPE</td><td>MASSA</td><td>2023-08-21</td><td>null</td></tr><tr><td>14</td><td>1971-03-27</td><td>DAVID</td><td>COULTHARD</td><td>2023-08-21</td><td>null</td></tr><tr><td>15</td><td>1974-07-13</td><td>JARNO</td><td>TRULLI</td><td>2023-08-21</td><td>null</td></tr><tr><td>1</td><td>1985-01-07</td><td>Lewis</td><td>Hamilton</td><td>2023-08-21</td><td>null</td></tr><tr><td>2</td><td>1977-05-10</td><td>Nick</td><td>Heidfeld</td><td>2023-08-21</td><td>null</td></tr><tr><td>3</td><td>1985-06-27</td><td>Nico</td><td>Rosberg</td><td>2023-08-21</td><td>null</td></tr><tr><td>4</td><td>1981-07-29</td><td>Fernando</td><td>Alonso</td><td>2023-08-21</td><td>null</td></tr><tr><td>5</td><td>1981-10-19</td><td>Heikki</td><td>Kovalainen</td><td>2023-08-21</td><td>null</td></tr></tbody></table></div>"
      ]
     },
     "metadata": {
      "application/vnd.databricks.v1+output": {
       "addedWidgets": {},
       "aggData": [],
       "aggError": "",
       "aggOverflow": false,
       "aggSchema": [],
       "aggSeriesLimitReached": false,
       "aggType": "",
       "arguments": {},
       "columnCustomDisplayInfos": {},
       "data": [
        [
         6,
         "1985-01-11",
         "KAZUKI",
         "NAKAJIMA",
         "2023-08-21",
         "2023-08-21"
        ],
        [
         7,
         "1979-02-28",
         "SÉBASTIEN",
         "BOURDAIS",
         "2023-08-21",
         "2023-08-21"
        ],
        [
         8,
         "1979-10-17",
         "KIMI",
         "RÄIKKÖNEN",
         "2023-08-21",
         "2023-08-21"
        ],
        [
         9,
         "1984-12-07",
         "ROBERT",
         "KUBICA",
         "2023-08-21",
         "2023-08-21"
        ],
        [
         10,
         "1982-03-18",
         "TIMO",
         "GLOCK",
         "2023-08-21",
         "2023-08-21"
        ],
        [
         11,
         "1977-01-28",
         "TAKUMA",
         "SATO",
         "2023-08-21",
         null
        ],
        [
         12,
         "1985-07-25",
         "NELSON",
         "PIQUET JR.",
         "2023-08-21",
         null
        ],
        [
         13,
         "1981-04-25",
         "FELIPE",
         "MASSA",
         "2023-08-21",
         null
        ],
        [
         14,
         "1971-03-27",
         "DAVID",
         "COULTHARD",
         "2023-08-21",
         null
        ],
        [
         15,
         "1974-07-13",
         "JARNO",
         "TRULLI",
         "2023-08-21",
         null
        ],
        [
         1,
         "1985-01-07",
         "Lewis",
         "Hamilton",
         "2023-08-21",
         null
        ],
        [
         2,
         "1977-05-10",
         "Nick",
         "Heidfeld",
         "2023-08-21",
         null
        ],
        [
         3,
         "1985-06-27",
         "Nico",
         "Rosberg",
         "2023-08-21",
         null
        ],
        [
         4,
         "1981-07-29",
         "Fernando",
         "Alonso",
         "2023-08-21",
         null
        ],
        [
         5,
         "1981-10-19",
         "Heikki",
         "Kovalainen",
         "2023-08-21",
         null
        ]
       ],
       "datasetInfos": [],
       "dbfsResultPath": null,
       "isJsonSchema": true,
       "metadata": {},
       "overflow": false,
       "plotOptions": {
        "customPlotOptions": {},
        "displayType": "table",
        "pivotAggregation": null,
        "pivotColumns": null,
        "xColumns": null,
        "yColumns": null
       },
       "removedWidgets": [],
       "schema": [
        {
         "metadata": "{}",
         "name": "driverId",
         "type": "\"integer\""
        },
        {
         "metadata": "{}",
         "name": "dob",
         "type": "\"date\""
        },
        {
         "metadata": "{}",
         "name": "forename",
         "type": "\"string\""
        },
        {
         "metadata": "{}",
         "name": "surname",
         "type": "\"string\""
        },
        {
         "metadata": "{}",
         "name": "createdDate",
         "type": "\"date\""
        },
        {
         "metadata": "{}",
         "name": "updatedDate",
         "type": "\"date\""
        }
       ],
       "type": "table"
      }
     },
     "output_type": "display_data"
    }
   ],
   "source": [
    "%sql\n",
    "-- Merge Data from Day 2 Using SQL\n",
    "merge into formula1_delta_demo.drivers_merge as tgt\n",
    "using drivers_day2 as upt\n",
    "on tgt.driverId = upt.driverId\n",
    "when matched then\n",
    "  update set\n",
    "    tgt.dob = upt.dob\n",
    "    ,tgt.forename = upt.forename\n",
    "    ,tgt.surname = upt.surname\n",
    "    ,tgt.updatedDate = current_timestamp\n",
    "when not matched then\n",
    "  insert (driverId, dob, forename, surname, createdDate)\n",
    "  values (driverId, dob, forename, surname, current_timestamp);\n",
    "\n",
    "-- Display Data\n",
    "select *\n",
    "from formula1_delta_demo.drivers_merge;"
   ]
  },
  {
   "cell_type": "code",
   "execution_count": 0,
   "metadata": {
    "application/vnd.databricks.v1+cell": {
     "cellMetadata": {
      "byteLimit": 2048000,
      "rowLimit": 10000
     },
     "inputWidgets": {},
     "nuid": "c014046e-0ef6-45ac-b242-809905a51bd8",
     "showTitle": false,
     "title": ""
    }
   },
   "outputs": [],
   "source": [
    "# Merge Data from Day 3 Using PySpark\n",
    "deltaTable = DeltaTable.forPath(spark, f'{delta_demo_folder_path}/drivers_merge')\n",
    "\n",
    "deltaTable.alias('tgt').merge(\n",
    "    drivers_day3_df.alias('upt'),\n",
    "    'tgt.driverId = upt.driverId'\n",
    "    ) \\\n",
    "    .whenMatchedUpdate(\n",
    "        set = {\n",
    "            'dob': 'upt.dob'\n",
    "            ,'forename' : 'upt.forename'\n",
    "            ,'surname' : 'upt.surname'\n",
    "            ,'updatedDate' : 'current_timestamp()'\n",
    "        }\n",
    "    ) \\\n",
    "    .whenNotMatchedInsert(\n",
    "        values = {\n",
    "            'driverId': 'upt.driverId'\n",
    "            ,'dob': 'upt.dob'\n",
    "            ,'forename': 'upt.forename'\n",
    "            ,'surname': 'upt.surname'\n",
    "            ,'createdDate': 'current_timestamp()'\n",
    "        }\n",
    "\n",
    "    ) \\\n",
    "    .execute()"
   ]
  },
  {
   "cell_type": "code",
   "execution_count": 0,
   "metadata": {
    "application/vnd.databricks.v1+cell": {
     "cellMetadata": {
      "byteLimit": 2048000,
      "implicitDf": true,
      "rowLimit": 10000
     },
     "inputWidgets": {},
     "nuid": "902a0576-e440-43ee-9296-2ca4993e636e",
     "showTitle": false,
     "title": ""
    }
   },
   "outputs": [
    {
     "output_type": "display_data",
     "data": {
      "text/html": [
       "<style scoped>\n",
       "  .table-result-container {\n",
       "    max-height: 300px;\n",
       "    overflow: auto;\n",
       "  }\n",
       "  table, th, td {\n",
       "    border: 1px solid black;\n",
       "    border-collapse: collapse;\n",
       "  }\n",
       "  th, td {\n",
       "    padding: 5px;\n",
       "  }\n",
       "  th {\n",
       "    text-align: left;\n",
       "  }\n",
       "</style><div class='table-result-container'><table class='table-result'><thead style='background-color: white'><tr><th>driverId</th><th>dob</th><th>forename</th><th>surname</th><th>createdDate</th><th>updatedDate</th></tr></thead><tbody><tr><td>1</td><td>1985-01-07</td><td>LEWIS</td><td>HAMILTON</td><td>2023-08-21</td><td>2023-08-21</td></tr><tr><td>2</td><td>1977-05-10</td><td>NICK</td><td>HEIDFELD</td><td>2023-08-21</td><td>2023-08-21</td></tr><tr><td>3</td><td>1985-06-27</td><td>NICO</td><td>ROSBERG</td><td>2023-08-21</td><td>2023-08-21</td></tr><tr><td>4</td><td>1981-07-29</td><td>FERNANDO</td><td>ALONSO</td><td>2023-08-21</td><td>2023-08-21</td></tr><tr><td>5</td><td>1981-10-19</td><td>HEIKKI</td><td>KOVALAINEN</td><td>2023-08-21</td><td>2023-08-21</td></tr><tr><td>6</td><td>1985-01-11</td><td>KAZUKI</td><td>NAKAJIMA</td><td>2023-08-21</td><td>2023-08-21</td></tr><tr><td>7</td><td>1979-02-28</td><td>SÉBASTIEN</td><td>BOURDAIS</td><td>2023-08-21</td><td>2023-08-21</td></tr><tr><td>8</td><td>1979-10-17</td><td>KIMI</td><td>RÄIKKÖNEN</td><td>2023-08-21</td><td>2023-08-21</td></tr><tr><td>9</td><td>1984-12-07</td><td>ROBERT</td><td>KUBICA</td><td>2023-08-21</td><td>2023-08-21</td></tr><tr><td>10</td><td>1982-03-18</td><td>TIMO</td><td>GLOCK</td><td>2023-08-21</td><td>2023-08-21</td></tr><tr><td>11</td><td>1977-01-28</td><td>TAKUMA</td><td>SATO</td><td>2023-08-21</td><td>null</td></tr><tr><td>12</td><td>1985-07-25</td><td>NELSON</td><td>PIQUET JR.</td><td>2023-08-21</td><td>null</td></tr><tr><td>13</td><td>1981-04-25</td><td>FELIPE</td><td>MASSA</td><td>2023-08-21</td><td>null</td></tr><tr><td>14</td><td>1971-03-27</td><td>DAVID</td><td>COULTHARD</td><td>2023-08-21</td><td>null</td></tr><tr><td>15</td><td>1974-07-13</td><td>JARNO</td><td>TRULLI</td><td>2023-08-21</td><td>null</td></tr><tr><td>16</td><td>1983-01-11</td><td>ADRIAN</td><td>SUTIL</td><td>2023-08-21</td><td>null</td></tr><tr><td>17</td><td>1976-08-27</td><td>MARK</td><td>WEBBER</td><td>2023-08-21</td><td>null</td></tr><tr><td>18</td><td>1980-01-19</td><td>JENSON</td><td>BUTTON</td><td>2023-08-21</td><td>null</td></tr><tr><td>19</td><td>1979-04-18</td><td>ANTHONY</td><td>DAVIDSON</td><td>2023-08-21</td><td>null</td></tr><tr><td>20</td><td>1987-07-03</td><td>SEBASTIAN</td><td>VETTEL</td><td>2023-08-21</td><td>null</td></tr></tbody></table></div>"
      ]
     },
     "metadata": {
      "application/vnd.databricks.v1+output": {
       "addedWidgets": {},
       "aggData": [],
       "aggError": "",
       "aggOverflow": false,
       "aggSchema": [],
       "aggSeriesLimitReached": false,
       "aggType": "",
       "arguments": {},
       "columnCustomDisplayInfos": {},
       "data": [
        [
         1,
         "1985-01-07",
         "LEWIS",
         "HAMILTON",
         "2023-08-21",
         "2023-08-21"
        ],
        [
         2,
         "1977-05-10",
         "NICK",
         "HEIDFELD",
         "2023-08-21",
         "2023-08-21"
        ],
        [
         3,
         "1985-06-27",
         "NICO",
         "ROSBERG",
         "2023-08-21",
         "2023-08-21"
        ],
        [
         4,
         "1981-07-29",
         "FERNANDO",
         "ALONSO",
         "2023-08-21",
         "2023-08-21"
        ],
        [
         5,
         "1981-10-19",
         "HEIKKI",
         "KOVALAINEN",
         "2023-08-21",
         "2023-08-21"
        ],
        [
         6,
         "1985-01-11",
         "KAZUKI",
         "NAKAJIMA",
         "2023-08-21",
         "2023-08-21"
        ],
        [
         7,
         "1979-02-28",
         "SÉBASTIEN",
         "BOURDAIS",
         "2023-08-21",
         "2023-08-21"
        ],
        [
         8,
         "1979-10-17",
         "KIMI",
         "RÄIKKÖNEN",
         "2023-08-21",
         "2023-08-21"
        ],
        [
         9,
         "1984-12-07",
         "ROBERT",
         "KUBICA",
         "2023-08-21",
         "2023-08-21"
        ],
        [
         10,
         "1982-03-18",
         "TIMO",
         "GLOCK",
         "2023-08-21",
         "2023-08-21"
        ],
        [
         11,
         "1977-01-28",
         "TAKUMA",
         "SATO",
         "2023-08-21",
         null
        ],
        [
         12,
         "1985-07-25",
         "NELSON",
         "PIQUET JR.",
         "2023-08-21",
         null
        ],
        [
         13,
         "1981-04-25",
         "FELIPE",
         "MASSA",
         "2023-08-21",
         null
        ],
        [
         14,
         "1971-03-27",
         "DAVID",
         "COULTHARD",
         "2023-08-21",
         null
        ],
        [
         15,
         "1974-07-13",
         "JARNO",
         "TRULLI",
         "2023-08-21",
         null
        ],
        [
         16,
         "1983-01-11",
         "ADRIAN",
         "SUTIL",
         "2023-08-21",
         null
        ],
        [
         17,
         "1976-08-27",
         "MARK",
         "WEBBER",
         "2023-08-21",
         null
        ],
        [
         18,
         "1980-01-19",
         "JENSON",
         "BUTTON",
         "2023-08-21",
         null
        ],
        [
         19,
         "1979-04-18",
         "ANTHONY",
         "DAVIDSON",
         "2023-08-21",
         null
        ],
        [
         20,
         "1987-07-03",
         "SEBASTIAN",
         "VETTEL",
         "2023-08-21",
         null
        ]
       ],
       "datasetInfos": [],
       "dbfsResultPath": null,
       "isJsonSchema": true,
       "metadata": {},
       "overflow": false,
       "plotOptions": {
        "customPlotOptions": {},
        "displayType": "table",
        "pivotAggregation": null,
        "pivotColumns": null,
        "xColumns": null,
        "yColumns": null
       },
       "removedWidgets": [],
       "schema": [
        {
         "metadata": "{}",
         "name": "driverId",
         "type": "\"integer\""
        },
        {
         "metadata": "{}",
         "name": "dob",
         "type": "\"date\""
        },
        {
         "metadata": "{}",
         "name": "forename",
         "type": "\"string\""
        },
        {
         "metadata": "{}",
         "name": "surname",
         "type": "\"string\""
        },
        {
         "metadata": "{}",
         "name": "createdDate",
         "type": "\"date\""
        },
        {
         "metadata": "{}",
         "name": "updatedDate",
         "type": "\"date\""
        }
       ],
       "type": "table"
      }
     },
     "output_type": "display_data"
    }
   ],
   "source": [
    "%sql\n",
    "-- Display Final Merged Data\n",
    "select *\n",
    "from formula1_delta_demo.drivers_merge\n",
    "order by driverId asc;"
   ]
  },
  {
   "cell_type": "markdown",
   "metadata": {
    "application/vnd.databricks.v1+cell": {
     "cellMetadata": {},
     "inputWidgets": {},
     "nuid": "254e1dd7-109d-4c93-b345-8156dbe78a74",
     "showTitle": false,
     "title": ""
    }
   },
   "source": [
    "### History and Versioning"
   ]
  },
  {
   "cell_type": "code",
   "execution_count": 0,
   "metadata": {
    "application/vnd.databricks.v1+cell": {
     "cellMetadata": {
      "byteLimit": 2048000,
      "implicitDf": true,
      "rowLimit": 10000
     },
     "inputWidgets": {},
     "nuid": "28205f78-a787-42d2-90b8-083f0c667c8a",
     "showTitle": false,
     "title": ""
    }
   },
   "outputs": [
    {
     "output_type": "display_data",
     "data": {
      "text/html": [
       "<style scoped>\n",
       "  .table-result-container {\n",
       "    max-height: 300px;\n",
       "    overflow: auto;\n",
       "  }\n",
       "  table, th, td {\n",
       "    border: 1px solid black;\n",
       "    border-collapse: collapse;\n",
       "  }\n",
       "  th, td {\n",
       "    padding: 5px;\n",
       "  }\n",
       "  th {\n",
       "    text-align: left;\n",
       "  }\n",
       "</style><div class='table-result-container'><table class='table-result'><thead style='background-color: white'><tr><th>version</th><th>timestamp</th><th>userId</th><th>userName</th><th>operation</th><th>operationParameters</th><th>job</th><th>notebook</th><th>clusterId</th><th>readVersion</th><th>isolationLevel</th><th>isBlindAppend</th><th>operationMetrics</th><th>userMetadata</th><th>engineInfo</th></tr></thead><tbody><tr><td>7</td><td>2023-08-21T15:06:47.000+0000</td><td>7187749001525811</td><td>nick.reyes@sebrands.com</td><td>VACUUM END</td><td>Map(status -> COMPLETED)</td><td>null</td><td>List(2007731451434353)</td><td>0615-130520-q9luod2y</td><td>6</td><td>SnapshotIsolation</td><td>true</td><td>Map(numDeletedFiles -> 0, numVacuumedDirectories -> 1)</td><td>null</td><td>Databricks-Runtime/12.2.x-scala2.12</td></tr><tr><td>6</td><td>2023-08-21T15:06:43.000+0000</td><td>7187749001525811</td><td>nick.reyes@sebrands.com</td><td>VACUUM START</td><td>Map(retentionCheckEnabled -> false, defaultRetentionMillis -> 604800000, specifiedRetentionMillis -> 0)</td><td>null</td><td>List(2007731451434353)</td><td>0615-130520-q9luod2y</td><td>5</td><td>SnapshotIsolation</td><td>true</td><td>Map(numFilesToDelete -> 0, sizeOfDataToDelete -> 0)</td><td>null</td><td>Databricks-Runtime/12.2.x-scala2.12</td></tr><tr><td>5</td><td>2023-08-21T15:04:58.000+0000</td><td>7187749001525811</td><td>nick.reyes@sebrands.com</td><td>VACUUM END</td><td>Map(status -> COMPLETED)</td><td>null</td><td>List(2007731451434353)</td><td>0615-130520-q9luod2y</td><td>4</td><td>SnapshotIsolation</td><td>true</td><td>Map(numDeletedFiles -> 2, numVacuumedDirectories -> 1)</td><td>null</td><td>Databricks-Runtime/12.2.x-scala2.12</td></tr><tr><td>4</td><td>2023-08-21T15:04:53.000+0000</td><td>7187749001525811</td><td>nick.reyes@sebrands.com</td><td>VACUUM START</td><td>Map(retentionCheckEnabled -> false, defaultRetentionMillis -> 604800000, specifiedRetentionMillis -> 0)</td><td>null</td><td>List(2007731451434353)</td><td>0615-130520-q9luod2y</td><td>3</td><td>SnapshotIsolation</td><td>true</td><td>Map(numFilesToDelete -> 2, sizeOfDataToDelete -> 3987)</td><td>null</td><td>Databricks-Runtime/12.2.x-scala2.12</td></tr><tr><td>3</td><td>2023-08-21T14:48:59.000+0000</td><td>7187749001525811</td><td>nick.reyes@sebrands.com</td><td>MERGE</td><td>Map(predicate -> [\"(cast(driverId#4116 as bigint) = driverId#194L)\"], matchedPredicates -> [{\"actionType\":\"update\"}], notMatchedPredicates -> [{\"actionType\":\"insert\"}], notMatchedBySourcePredicates -> [])</td><td>null</td><td>List(2007731451434353)</td><td>0615-130520-q9luod2y</td><td>2</td><td>WriteSerializable</td><td>false</td><td>Map(numTargetRowsCopied -> 0, numTargetRowsDeleted -> 0, numTargetFilesAdded -> 1, numTargetBytesAdded -> 2134, numTargetBytesRemoved -> 1914, numTargetDeletionVectorsAdded -> 0, numTargetRowsMatchedUpdated -> 5, executionTimeMs -> 2491, numTargetRowsInserted -> 5, numTargetRowsMatchedDeleted -> 0, scanTimeMs -> 1130, numTargetRowsUpdated -> 5, numOutputRows -> 10, numTargetDeletionVectorsRemoved -> 0, numTargetRowsNotMatchedBySourceUpdated -> 0, numTargetChangeFilesAdded -> 0, numSourceRows -> 10, numTargetFilesRemoved -> 1, numTargetRowsNotMatchedBySourceDeleted -> 0, rewriteTimeMs -> 1012)</td><td>null</td><td>Databricks-Runtime/12.2.x-scala2.12</td></tr><tr><td>2</td><td>2023-08-21T14:35:58.000+0000</td><td>7187749001525811</td><td>nick.reyes@sebrands.com</td><td>MERGE</td><td>Map(predicate -> [\"(cast(driverId#2944 as bigint) = driverId#355L)\"], matchedPredicates -> [{\"actionType\":\"update\"}], notMatchedPredicates -> [{\"actionType\":\"insert\"}], notMatchedBySourcePredicates -> [])</td><td>null</td><td>List(2007731451434353)</td><td>0615-130520-q9luod2y</td><td>1</td><td>WriteSerializable</td><td>false</td><td>Map(numTargetRowsCopied -> 5, numTargetRowsDeleted -> 0, numTargetFilesAdded -> 2, numTargetBytesAdded -> 4052, numTargetBytesRemoved -> 2073, numTargetDeletionVectorsAdded -> 0, numTargetRowsMatchedUpdated -> 5, executionTimeMs -> 3161, numTargetRowsInserted -> 5, numTargetRowsMatchedDeleted -> 0, scanTimeMs -> 1454, numTargetRowsUpdated -> 5, numOutputRows -> 15, numTargetDeletionVectorsRemoved -> 0, numTargetRowsNotMatchedBySourceUpdated -> 0, numTargetChangeFilesAdded -> 0, numSourceRows -> 10, numTargetFilesRemoved -> 1, numTargetRowsNotMatchedBySourceDeleted -> 0, rewriteTimeMs -> 1342)</td><td>null</td><td>Databricks-Runtime/12.2.x-scala2.12</td></tr><tr><td>1</td><td>2023-08-21T14:34:45.000+0000</td><td>7187749001525811</td><td>nick.reyes@sebrands.com</td><td>MERGE</td><td>Map(predicate -> [\"(cast(driverId#1910 as bigint) = driverId#239L)\"], matchedPredicates -> [{\"actionType\":\"update\"}], notMatchedPredicates -> [{\"actionType\":\"insert\"}], notMatchedBySourcePredicates -> [])</td><td>null</td><td>List(2007731451434353)</td><td>0615-130520-q9luod2y</td><td>0</td><td>WriteSerializable</td><td>false</td><td>Map(numTargetRowsCopied -> 0, numTargetRowsDeleted -> 0, numTargetFilesAdded -> 1, numTargetBytesAdded -> 2073, numTargetBytesRemoved -> 0, numTargetDeletionVectorsAdded -> 0, numTargetRowsMatchedUpdated -> 0, executionTimeMs -> 4954, numTargetRowsInserted -> 10, numTargetRowsMatchedDeleted -> 0, scanTimeMs -> 1689, numTargetRowsUpdated -> 0, numOutputRows -> 10, numTargetDeletionVectorsRemoved -> 0, numTargetRowsNotMatchedBySourceUpdated -> 0, numTargetChangeFilesAdded -> 0, numSourceRows -> 10, numTargetFilesRemoved -> 0, numTargetRowsNotMatchedBySourceDeleted -> 0, rewriteTimeMs -> 2807)</td><td>null</td><td>Databricks-Runtime/12.2.x-scala2.12</td></tr><tr><td>0</td><td>2023-08-21T14:32:55.000+0000</td><td>7187749001525811</td><td>nick.reyes@sebrands.com</td><td>CREATE TABLE</td><td>Map(isManaged -> true, description -> null, partitionBy -> [], properties -> {})</td><td>null</td><td>List(2007731451434353)</td><td>0615-130520-q9luod2y</td><td>null</td><td>WriteSerializable</td><td>true</td><td>Map()</td><td>null</td><td>Databricks-Runtime/12.2.x-scala2.12</td></tr></tbody></table></div>"
      ]
     },
     "metadata": {
      "application/vnd.databricks.v1+output": {
       "addedWidgets": {},
       "aggData": [],
       "aggError": "",
       "aggOverflow": false,
       "aggSchema": [],
       "aggSeriesLimitReached": false,
       "aggType": "",
       "arguments": {},
       "columnCustomDisplayInfos": {},
       "data": [
        [
         7,
         "2023-08-21T15:06:47.000+0000",
         "7187749001525811",
         "nick.reyes@sebrands.com",
         "VACUUM END",
         {
          "status": "COMPLETED"
         },
         null,
         [
          "2007731451434353"
         ],
         "0615-130520-q9luod2y",
         6,
         "SnapshotIsolation",
         true,
         {
          "numDeletedFiles": "0",
          "numVacuumedDirectories": "1"
         },
         null,
         "Databricks-Runtime/12.2.x-scala2.12"
        ],
        [
         6,
         "2023-08-21T15:06:43.000+0000",
         "7187749001525811",
         "nick.reyes@sebrands.com",
         "VACUUM START",
         {
          "defaultRetentionMillis": "604800000",
          "retentionCheckEnabled": "false",
          "specifiedRetentionMillis": "0"
         },
         null,
         [
          "2007731451434353"
         ],
         "0615-130520-q9luod2y",
         5,
         "SnapshotIsolation",
         true,
         {
          "numFilesToDelete": "0",
          "sizeOfDataToDelete": "0"
         },
         null,
         "Databricks-Runtime/12.2.x-scala2.12"
        ],
        [
         5,
         "2023-08-21T15:04:58.000+0000",
         "7187749001525811",
         "nick.reyes@sebrands.com",
         "VACUUM END",
         {
          "status": "COMPLETED"
         },
         null,
         [
          "2007731451434353"
         ],
         "0615-130520-q9luod2y",
         4,
         "SnapshotIsolation",
         true,
         {
          "numDeletedFiles": "2",
          "numVacuumedDirectories": "1"
         },
         null,
         "Databricks-Runtime/12.2.x-scala2.12"
        ],
        [
         4,
         "2023-08-21T15:04:53.000+0000",
         "7187749001525811",
         "nick.reyes@sebrands.com",
         "VACUUM START",
         {
          "defaultRetentionMillis": "604800000",
          "retentionCheckEnabled": "false",
          "specifiedRetentionMillis": "0"
         },
         null,
         [
          "2007731451434353"
         ],
         "0615-130520-q9luod2y",
         3,
         "SnapshotIsolation",
         true,
         {
          "numFilesToDelete": "2",
          "sizeOfDataToDelete": "3987"
         },
         null,
         "Databricks-Runtime/12.2.x-scala2.12"
        ],
        [
         3,
         "2023-08-21T14:48:59.000+0000",
         "7187749001525811",
         "nick.reyes@sebrands.com",
         "MERGE",
         {
          "matchedPredicates": "[{\"actionType\":\"update\"}]",
          "notMatchedBySourcePredicates": "[]",
          "notMatchedPredicates": "[{\"actionType\":\"insert\"}]",
          "predicate": "[\"(cast(driverId#4116 as bigint) = driverId#194L)\"]"
         },
         null,
         [
          "2007731451434353"
         ],
         "0615-130520-q9luod2y",
         2,
         "WriteSerializable",
         false,
         {
          "executionTimeMs": "2491",
          "numOutputRows": "10",
          "numSourceRows": "10",
          "numTargetBytesAdded": "2134",
          "numTargetBytesRemoved": "1914",
          "numTargetChangeFilesAdded": "0",
          "numTargetDeletionVectorsAdded": "0",
          "numTargetDeletionVectorsRemoved": "0",
          "numTargetFilesAdded": "1",
          "numTargetFilesRemoved": "1",
          "numTargetRowsCopied": "0",
          "numTargetRowsDeleted": "0",
          "numTargetRowsInserted": "5",
          "numTargetRowsMatchedDeleted": "0",
          "numTargetRowsMatchedUpdated": "5",
          "numTargetRowsNotMatchedBySourceDeleted": "0",
          "numTargetRowsNotMatchedBySourceUpdated": "0",
          "numTargetRowsUpdated": "5",
          "rewriteTimeMs": "1012",
          "scanTimeMs": "1130"
         },
         null,
         "Databricks-Runtime/12.2.x-scala2.12"
        ],
        [
         2,
         "2023-08-21T14:35:58.000+0000",
         "7187749001525811",
         "nick.reyes@sebrands.com",
         "MERGE",
         {
          "matchedPredicates": "[{\"actionType\":\"update\"}]",
          "notMatchedBySourcePredicates": "[]",
          "notMatchedPredicates": "[{\"actionType\":\"insert\"}]",
          "predicate": "[\"(cast(driverId#2944 as bigint) = driverId#355L)\"]"
         },
         null,
         [
          "2007731451434353"
         ],
         "0615-130520-q9luod2y",
         1,
         "WriteSerializable",
         false,
         {
          "executionTimeMs": "3161",
          "numOutputRows": "15",
          "numSourceRows": "10",
          "numTargetBytesAdded": "4052",
          "numTargetBytesRemoved": "2073",
          "numTargetChangeFilesAdded": "0",
          "numTargetDeletionVectorsAdded": "0",
          "numTargetDeletionVectorsRemoved": "0",
          "numTargetFilesAdded": "2",
          "numTargetFilesRemoved": "1",
          "numTargetRowsCopied": "5",
          "numTargetRowsDeleted": "0",
          "numTargetRowsInserted": "5",
          "numTargetRowsMatchedDeleted": "0",
          "numTargetRowsMatchedUpdated": "5",
          "numTargetRowsNotMatchedBySourceDeleted": "0",
          "numTargetRowsNotMatchedBySourceUpdated": "0",
          "numTargetRowsUpdated": "5",
          "rewriteTimeMs": "1342",
          "scanTimeMs": "1454"
         },
         null,
         "Databricks-Runtime/12.2.x-scala2.12"
        ],
        [
         1,
         "2023-08-21T14:34:45.000+0000",
         "7187749001525811",
         "nick.reyes@sebrands.com",
         "MERGE",
         {
          "matchedPredicates": "[{\"actionType\":\"update\"}]",
          "notMatchedBySourcePredicates": "[]",
          "notMatchedPredicates": "[{\"actionType\":\"insert\"}]",
          "predicate": "[\"(cast(driverId#1910 as bigint) = driverId#239L)\"]"
         },
         null,
         [
          "2007731451434353"
         ],
         "0615-130520-q9luod2y",
         0,
         "WriteSerializable",
         false,
         {
          "executionTimeMs": "4954",
          "numOutputRows": "10",
          "numSourceRows": "10",
          "numTargetBytesAdded": "2073",
          "numTargetBytesRemoved": "0",
          "numTargetChangeFilesAdded": "0",
          "numTargetDeletionVectorsAdded": "0",
          "numTargetDeletionVectorsRemoved": "0",
          "numTargetFilesAdded": "1",
          "numTargetFilesRemoved": "0",
          "numTargetRowsCopied": "0",
          "numTargetRowsDeleted": "0",
          "numTargetRowsInserted": "10",
          "numTargetRowsMatchedDeleted": "0",
          "numTargetRowsMatchedUpdated": "0",
          "numTargetRowsNotMatchedBySourceDeleted": "0",
          "numTargetRowsNotMatchedBySourceUpdated": "0",
          "numTargetRowsUpdated": "0",
          "rewriteTimeMs": "2807",
          "scanTimeMs": "1689"
         },
         null,
         "Databricks-Runtime/12.2.x-scala2.12"
        ],
        [
         0,
         "2023-08-21T14:32:55.000+0000",
         "7187749001525811",
         "nick.reyes@sebrands.com",
         "CREATE TABLE",
         {
          "description": null,
          "isManaged": "true",
          "partitionBy": "[]",
          "properties": "{}"
         },
         null,
         [
          "2007731451434353"
         ],
         "0615-130520-q9luod2y",
         null,
         "WriteSerializable",
         true,
         {},
         null,
         "Databricks-Runtime/12.2.x-scala2.12"
        ]
       ],
       "datasetInfos": [],
       "dbfsResultPath": null,
       "isJsonSchema": true,
       "metadata": {},
       "overflow": false,
       "plotOptions": {
        "customPlotOptions": {},
        "displayType": "table",
        "pivotAggregation": null,
        "pivotColumns": null,
        "xColumns": null,
        "yColumns": null
       },
       "removedWidgets": [],
       "schema": [
        {
         "metadata": "{}",
         "name": "version",
         "type": "\"long\""
        },
        {
         "metadata": "{}",
         "name": "timestamp",
         "type": "\"timestamp\""
        },
        {
         "metadata": "{}",
         "name": "userId",
         "type": "\"string\""
        },
        {
         "metadata": "{}",
         "name": "userName",
         "type": "\"string\""
        },
        {
         "metadata": "{}",
         "name": "operation",
         "type": "\"string\""
        },
        {
         "metadata": "{}",
         "name": "operationParameters",
         "type": "{\"type\":\"map\",\"keyType\":\"string\",\"valueType\":\"string\",\"valueContainsNull\":true}"
        },
        {
         "metadata": "{}",
         "name": "job",
         "type": "{\"type\":\"struct\",\"fields\":[{\"name\":\"jobId\",\"type\":\"string\",\"nullable\":true,\"metadata\":{}},{\"name\":\"jobName\",\"type\":\"string\",\"nullable\":true,\"metadata\":{}},{\"name\":\"jobRunId\",\"type\":\"string\",\"nullable\":true,\"metadata\":{}},{\"name\":\"runId\",\"type\":\"string\",\"nullable\":true,\"metadata\":{}},{\"name\":\"jobOwnerId\",\"type\":\"string\",\"nullable\":true,\"metadata\":{}},{\"name\":\"triggerType\",\"type\":\"string\",\"nullable\":true,\"metadata\":{}}]}"
        },
        {
         "metadata": "{}",
         "name": "notebook",
         "type": "{\"type\":\"struct\",\"fields\":[{\"name\":\"notebookId\",\"type\":\"string\",\"nullable\":true,\"metadata\":{}}]}"
        },
        {
         "metadata": "{}",
         "name": "clusterId",
         "type": "\"string\""
        },
        {
         "metadata": "{}",
         "name": "readVersion",
         "type": "\"long\""
        },
        {
         "metadata": "{}",
         "name": "isolationLevel",
         "type": "\"string\""
        },
        {
         "metadata": "{}",
         "name": "isBlindAppend",
         "type": "\"boolean\""
        },
        {
         "metadata": "{}",
         "name": "operationMetrics",
         "type": "{\"type\":\"map\",\"keyType\":\"string\",\"valueType\":\"string\",\"valueContainsNull\":true}"
        },
        {
         "metadata": "{}",
         "name": "userMetadata",
         "type": "\"string\""
        },
        {
         "metadata": "{}",
         "name": "engineInfo",
         "type": "\"string\""
        }
       ],
       "type": "table"
      }
     },
     "output_type": "display_data"
    }
   ],
   "source": [
    "%sql\n",
    "-- Show Table History\n",
    "desc history formula1_delta_demo.drivers_merge;"
   ]
  },
  {
   "cell_type": "code",
   "execution_count": 0,
   "metadata": {
    "application/vnd.databricks.v1+cell": {
     "cellMetadata": {
      "byteLimit": 2048000,
      "implicitDf": true,
      "rowLimit": 10000
     },
     "inputWidgets": {},
     "nuid": "c89169bd-8431-47fa-b0b5-669b47eb1dd3",
     "showTitle": false,
     "title": ""
    }
   },
   "outputs": [
    {
     "output_type": "display_data",
     "data": {
      "text/html": [
       "<style scoped>\n",
       "  .table-result-container {\n",
       "    max-height: 300px;\n",
       "    overflow: auto;\n",
       "  }\n",
       "  table, th, td {\n",
       "    border: 1px solid black;\n",
       "    border-collapse: collapse;\n",
       "  }\n",
       "  th, td {\n",
       "    padding: 5px;\n",
       "  }\n",
       "  th {\n",
       "    text-align: left;\n",
       "  }\n",
       "</style><div class='table-result-container'><table class='table-result'><thead style='background-color: white'><tr><th>driverId</th><th>dob</th><th>forename</th><th>surname</th><th>createdDate</th><th>updatedDate</th></tr></thead><tbody><tr><td>1</td><td>1985-01-07</td><td>Lewis</td><td>Hamilton</td><td>2023-08-21</td><td>null</td></tr><tr><td>2</td><td>1977-05-10</td><td>Nick</td><td>Heidfeld</td><td>2023-08-21</td><td>null</td></tr><tr><td>3</td><td>1985-06-27</td><td>Nico</td><td>Rosberg</td><td>2023-08-21</td><td>null</td></tr><tr><td>4</td><td>1981-07-29</td><td>Fernando</td><td>Alonso</td><td>2023-08-21</td><td>null</td></tr><tr><td>5</td><td>1981-10-19</td><td>Heikki</td><td>Kovalainen</td><td>2023-08-21</td><td>null</td></tr><tr><td>6</td><td>1985-01-11</td><td>Kazuki</td><td>Nakajima</td><td>2023-08-21</td><td>null</td></tr><tr><td>7</td><td>1979-02-28</td><td>Sébastien</td><td>Bourdais</td><td>2023-08-21</td><td>null</td></tr><tr><td>8</td><td>1979-10-17</td><td>Kimi</td><td>Räikkönen</td><td>2023-08-21</td><td>null</td></tr><tr><td>9</td><td>1984-12-07</td><td>Robert</td><td>Kubica</td><td>2023-08-21</td><td>null</td></tr><tr><td>10</td><td>1982-03-18</td><td>Timo</td><td>Glock</td><td>2023-08-21</td><td>null</td></tr></tbody></table></div>"
      ]
     },
     "metadata": {
      "application/vnd.databricks.v1+output": {
       "addedWidgets": {},
       "aggData": [],
       "aggError": "",
       "aggOverflow": false,
       "aggSchema": [],
       "aggSeriesLimitReached": false,
       "aggType": "",
       "arguments": {},
       "columnCustomDisplayInfos": {},
       "data": [
        [
         1,
         "1985-01-07",
         "Lewis",
         "Hamilton",
         "2023-08-21",
         null
        ],
        [
         2,
         "1977-05-10",
         "Nick",
         "Heidfeld",
         "2023-08-21",
         null
        ],
        [
         3,
         "1985-06-27",
         "Nico",
         "Rosberg",
         "2023-08-21",
         null
        ],
        [
         4,
         "1981-07-29",
         "Fernando",
         "Alonso",
         "2023-08-21",
         null
        ],
        [
         5,
         "1981-10-19",
         "Heikki",
         "Kovalainen",
         "2023-08-21",
         null
        ],
        [
         6,
         "1985-01-11",
         "Kazuki",
         "Nakajima",
         "2023-08-21",
         null
        ],
        [
         7,
         "1979-02-28",
         "Sébastien",
         "Bourdais",
         "2023-08-21",
         null
        ],
        [
         8,
         "1979-10-17",
         "Kimi",
         "Räikkönen",
         "2023-08-21",
         null
        ],
        [
         9,
         "1984-12-07",
         "Robert",
         "Kubica",
         "2023-08-21",
         null
        ],
        [
         10,
         "1982-03-18",
         "Timo",
         "Glock",
         "2023-08-21",
         null
        ]
       ],
       "datasetInfos": [],
       "dbfsResultPath": null,
       "isJsonSchema": true,
       "metadata": {},
       "overflow": false,
       "plotOptions": {
        "customPlotOptions": {},
        "displayType": "table",
        "pivotAggregation": null,
        "pivotColumns": null,
        "xColumns": null,
        "yColumns": null
       },
       "removedWidgets": [],
       "schema": [
        {
         "metadata": "{}",
         "name": "driverId",
         "type": "\"integer\""
        },
        {
         "metadata": "{}",
         "name": "dob",
         "type": "\"date\""
        },
        {
         "metadata": "{}",
         "name": "forename",
         "type": "\"string\""
        },
        {
         "metadata": "{}",
         "name": "surname",
         "type": "\"string\""
        },
        {
         "metadata": "{}",
         "name": "createdDate",
         "type": "\"date\""
        },
        {
         "metadata": "{}",
         "name": "updatedDate",
         "type": "\"date\""
        }
       ],
       "type": "table"
      }
     },
     "output_type": "display_data"
    }
   ],
   "source": [
    "%sql\n",
    "-- Display Data by Version or Timestamp Using SQL\n",
    "select *\n",
    "from formula1_delta_demo.drivers_merge\n",
    "version as of 1;\n",
    "-- timestamp as of '2023-08-21T14:34:45.000+0000'"
   ]
  },
  {
   "cell_type": "code",
   "execution_count": 0,
   "metadata": {
    "application/vnd.databricks.v1+cell": {
     "cellMetadata": {
      "byteLimit": 2048000,
      "rowLimit": 10000
     },
     "inputWidgets": {},
     "nuid": "71c63280-e02b-48bd-b412-0f5a9a3f78f3",
     "showTitle": false,
     "title": ""
    }
   },
   "outputs": [
    {
     "output_type": "display_data",
     "data": {
      "text/html": [
       "<style scoped>\n",
       "  .table-result-container {\n",
       "    max-height: 300px;\n",
       "    overflow: auto;\n",
       "  }\n",
       "  table, th, td {\n",
       "    border: 1px solid black;\n",
       "    border-collapse: collapse;\n",
       "  }\n",
       "  th, td {\n",
       "    padding: 5px;\n",
       "  }\n",
       "  th {\n",
       "    text-align: left;\n",
       "  }\n",
       "</style><div class='table-result-container'><table class='table-result'><thead style='background-color: white'><tr><th>driverId</th><th>dob</th><th>forename</th><th>surname</th><th>createdDate</th><th>updatedDate</th></tr></thead><tbody><tr><td>1</td><td>1985-01-07</td><td>Lewis</td><td>Hamilton</td><td>2023-08-21</td><td>null</td></tr><tr><td>2</td><td>1977-05-10</td><td>Nick</td><td>Heidfeld</td><td>2023-08-21</td><td>null</td></tr><tr><td>3</td><td>1985-06-27</td><td>Nico</td><td>Rosberg</td><td>2023-08-21</td><td>null</td></tr><tr><td>4</td><td>1981-07-29</td><td>Fernando</td><td>Alonso</td><td>2023-08-21</td><td>null</td></tr><tr><td>5</td><td>1981-10-19</td><td>Heikki</td><td>Kovalainen</td><td>2023-08-21</td><td>null</td></tr><tr><td>6</td><td>1985-01-11</td><td>Kazuki</td><td>Nakajima</td><td>2023-08-21</td><td>null</td></tr><tr><td>7</td><td>1979-02-28</td><td>Sébastien</td><td>Bourdais</td><td>2023-08-21</td><td>null</td></tr><tr><td>8</td><td>1979-10-17</td><td>Kimi</td><td>Räikkönen</td><td>2023-08-21</td><td>null</td></tr><tr><td>9</td><td>1984-12-07</td><td>Robert</td><td>Kubica</td><td>2023-08-21</td><td>null</td></tr><tr><td>10</td><td>1982-03-18</td><td>Timo</td><td>Glock</td><td>2023-08-21</td><td>null</td></tr></tbody></table></div>"
      ]
     },
     "metadata": {
      "application/vnd.databricks.v1+output": {
       "addedWidgets": {},
       "aggData": [],
       "aggError": "",
       "aggOverflow": false,
       "aggSchema": [],
       "aggSeriesLimitReached": false,
       "aggType": "",
       "arguments": {},
       "columnCustomDisplayInfos": {},
       "data": [
        [
         1,
         "1985-01-07",
         "Lewis",
         "Hamilton",
         "2023-08-21",
         null
        ],
        [
         2,
         "1977-05-10",
         "Nick",
         "Heidfeld",
         "2023-08-21",
         null
        ],
        [
         3,
         "1985-06-27",
         "Nico",
         "Rosberg",
         "2023-08-21",
         null
        ],
        [
         4,
         "1981-07-29",
         "Fernando",
         "Alonso",
         "2023-08-21",
         null
        ],
        [
         5,
         "1981-10-19",
         "Heikki",
         "Kovalainen",
         "2023-08-21",
         null
        ],
        [
         6,
         "1985-01-11",
         "Kazuki",
         "Nakajima",
         "2023-08-21",
         null
        ],
        [
         7,
         "1979-02-28",
         "Sébastien",
         "Bourdais",
         "2023-08-21",
         null
        ],
        [
         8,
         "1979-10-17",
         "Kimi",
         "Räikkönen",
         "2023-08-21",
         null
        ],
        [
         9,
         "1984-12-07",
         "Robert",
         "Kubica",
         "2023-08-21",
         null
        ],
        [
         10,
         "1982-03-18",
         "Timo",
         "Glock",
         "2023-08-21",
         null
        ]
       ],
       "datasetInfos": [],
       "dbfsResultPath": null,
       "isJsonSchema": true,
       "metadata": {},
       "overflow": false,
       "plotOptions": {
        "customPlotOptions": {},
        "displayType": "table",
        "pivotAggregation": null,
        "pivotColumns": null,
        "xColumns": null,
        "yColumns": null
       },
       "removedWidgets": [],
       "schema": [
        {
         "metadata": "{}",
         "name": "driverId",
         "type": "\"integer\""
        },
        {
         "metadata": "{}",
         "name": "dob",
         "type": "\"date\""
        },
        {
         "metadata": "{}",
         "name": "forename",
         "type": "\"string\""
        },
        {
         "metadata": "{}",
         "name": "surname",
         "type": "\"string\""
        },
        {
         "metadata": "{}",
         "name": "createdDate",
         "type": "\"date\""
        },
        {
         "metadata": "{}",
         "name": "updatedDate",
         "type": "\"date\""
        }
       ],
       "type": "table"
      }
     },
     "output_type": "display_data"
    }
   ],
   "source": [
    "# Display Data by Version Using PySpark\n",
    "df_version = spark.read \\\n",
    "    .format('delta') \\\n",
    "    .option('versionAsOf', '1') \\\n",
    "    .load(f'{delta_demo_folder_path}/drivers_merge')\n",
    "\n",
    "display(df_version)"
   ]
  },
  {
   "cell_type": "code",
   "execution_count": 0,
   "metadata": {
    "application/vnd.databricks.v1+cell": {
     "cellMetadata": {
      "byteLimit": 2048000,
      "rowLimit": 10000
     },
     "inputWidgets": {},
     "nuid": "3841c12e-f53c-42fd-a053-5b9429b9fd32",
     "showTitle": false,
     "title": ""
    }
   },
   "outputs": [
    {
     "output_type": "display_data",
     "data": {
      "text/html": [
       "<style scoped>\n",
       "  .table-result-container {\n",
       "    max-height: 300px;\n",
       "    overflow: auto;\n",
       "  }\n",
       "  table, th, td {\n",
       "    border: 1px solid black;\n",
       "    border-collapse: collapse;\n",
       "  }\n",
       "  th, td {\n",
       "    padding: 5px;\n",
       "  }\n",
       "  th {\n",
       "    text-align: left;\n",
       "  }\n",
       "</style><div class='table-result-container'><table class='table-result'><thead style='background-color: white'><tr><th>driverId</th><th>dob</th><th>forename</th><th>surname</th><th>createdDate</th><th>updatedDate</th></tr></thead><tbody><tr><td>1</td><td>1985-01-07</td><td>Lewis</td><td>Hamilton</td><td>2023-08-21</td><td>null</td></tr><tr><td>2</td><td>1977-05-10</td><td>Nick</td><td>Heidfeld</td><td>2023-08-21</td><td>null</td></tr><tr><td>3</td><td>1985-06-27</td><td>Nico</td><td>Rosberg</td><td>2023-08-21</td><td>null</td></tr><tr><td>4</td><td>1981-07-29</td><td>Fernando</td><td>Alonso</td><td>2023-08-21</td><td>null</td></tr><tr><td>5</td><td>1981-10-19</td><td>Heikki</td><td>Kovalainen</td><td>2023-08-21</td><td>null</td></tr><tr><td>6</td><td>1985-01-11</td><td>Kazuki</td><td>Nakajima</td><td>2023-08-21</td><td>null</td></tr><tr><td>7</td><td>1979-02-28</td><td>Sébastien</td><td>Bourdais</td><td>2023-08-21</td><td>null</td></tr><tr><td>8</td><td>1979-10-17</td><td>Kimi</td><td>Räikkönen</td><td>2023-08-21</td><td>null</td></tr><tr><td>9</td><td>1984-12-07</td><td>Robert</td><td>Kubica</td><td>2023-08-21</td><td>null</td></tr><tr><td>10</td><td>1982-03-18</td><td>Timo</td><td>Glock</td><td>2023-08-21</td><td>null</td></tr></tbody></table></div>"
      ]
     },
     "metadata": {
      "application/vnd.databricks.v1+output": {
       "addedWidgets": {},
       "aggData": [],
       "aggError": "",
       "aggOverflow": false,
       "aggSchema": [],
       "aggSeriesLimitReached": false,
       "aggType": "",
       "arguments": {},
       "columnCustomDisplayInfos": {},
       "data": [
        [
         1,
         "1985-01-07",
         "Lewis",
         "Hamilton",
         "2023-08-21",
         null
        ],
        [
         2,
         "1977-05-10",
         "Nick",
         "Heidfeld",
         "2023-08-21",
         null
        ],
        [
         3,
         "1985-06-27",
         "Nico",
         "Rosberg",
         "2023-08-21",
         null
        ],
        [
         4,
         "1981-07-29",
         "Fernando",
         "Alonso",
         "2023-08-21",
         null
        ],
        [
         5,
         "1981-10-19",
         "Heikki",
         "Kovalainen",
         "2023-08-21",
         null
        ],
        [
         6,
         "1985-01-11",
         "Kazuki",
         "Nakajima",
         "2023-08-21",
         null
        ],
        [
         7,
         "1979-02-28",
         "Sébastien",
         "Bourdais",
         "2023-08-21",
         null
        ],
        [
         8,
         "1979-10-17",
         "Kimi",
         "Räikkönen",
         "2023-08-21",
         null
        ],
        [
         9,
         "1984-12-07",
         "Robert",
         "Kubica",
         "2023-08-21",
         null
        ],
        [
         10,
         "1982-03-18",
         "Timo",
         "Glock",
         "2023-08-21",
         null
        ]
       ],
       "datasetInfos": [],
       "dbfsResultPath": null,
       "isJsonSchema": true,
       "metadata": {},
       "overflow": false,
       "plotOptions": {
        "customPlotOptions": {},
        "displayType": "table",
        "pivotAggregation": null,
        "pivotColumns": null,
        "xColumns": null,
        "yColumns": null
       },
       "removedWidgets": [],
       "schema": [
        {
         "metadata": "{}",
         "name": "driverId",
         "type": "\"integer\""
        },
        {
         "metadata": "{}",
         "name": "dob",
         "type": "\"date\""
        },
        {
         "metadata": "{}",
         "name": "forename",
         "type": "\"string\""
        },
        {
         "metadata": "{}",
         "name": "surname",
         "type": "\"string\""
        },
        {
         "metadata": "{}",
         "name": "createdDate",
         "type": "\"date\""
        },
        {
         "metadata": "{}",
         "name": "updatedDate",
         "type": "\"date\""
        }
       ],
       "type": "table"
      }
     },
     "output_type": "display_data"
    }
   ],
   "source": [
    "# Display Data by Timestamp Using PySpark\n",
    "df_timestamp = spark.read \\\n",
    "    .format('delta') \\\n",
    "    .option('timestampAsOf', '2023-08-21T14:34:45.000+0000') \\\n",
    "    .load(f'{delta_demo_folder_path}/drivers_merge')\n",
    "\n",
    "display(df_timestamp)"
   ]
  },
  {
   "cell_type": "markdown",
   "metadata": {
    "application/vnd.databricks.v1+cell": {
     "cellMetadata": {},
     "inputWidgets": {},
     "nuid": "82a37bba-09e9-4281-8518-5fbdbff92afe",
     "showTitle": false,
     "title": ""
    }
   },
   "source": [
    "### Vaccum (Delete History)"
   ]
  },
  {
   "cell_type": "code",
   "execution_count": 0,
   "metadata": {
    "application/vnd.databricks.v1+cell": {
     "cellMetadata": {
      "byteLimit": 2048000,
      "implicitDf": true,
      "rowLimit": 10000
     },
     "inputWidgets": {},
     "nuid": "46bb059d-f036-4cb2-956b-fc4e1ba0ecb3",
     "showTitle": false,
     "title": ""
    }
   },
   "outputs": [
    {
     "output_type": "display_data",
     "data": {
      "text/html": [
       "<style scoped>\n",
       "  .table-result-container {\n",
       "    max-height: 300px;\n",
       "    overflow: auto;\n",
       "  }\n",
       "  table, th, td {\n",
       "    border: 1px solid black;\n",
       "    border-collapse: collapse;\n",
       "  }\n",
       "  th, td {\n",
       "    padding: 5px;\n",
       "  }\n",
       "  th {\n",
       "    text-align: left;\n",
       "  }\n",
       "</style><div class='table-result-container'><table class='table-result'><thead style='background-color: white'><tr><th>driverId</th><th>dob</th><th>forename</th><th>surname</th><th>createdDate</th><th>updatedDate</th></tr></thead><tbody><tr><td>6</td><td>1985-01-11</td><td>KAZUKI</td><td>NAKAJIMA</td><td>2023-08-21</td><td>2023-08-21</td></tr><tr><td>7</td><td>1979-02-28</td><td>SÉBASTIEN</td><td>BOURDAIS</td><td>2023-08-21</td><td>2023-08-21</td></tr><tr><td>8</td><td>1979-10-17</td><td>KIMI</td><td>RÄIKKÖNEN</td><td>2023-08-21</td><td>2023-08-21</td></tr><tr><td>9</td><td>1984-12-07</td><td>ROBERT</td><td>KUBICA</td><td>2023-08-21</td><td>2023-08-21</td></tr><tr><td>10</td><td>1982-03-18</td><td>TIMO</td><td>GLOCK</td><td>2023-08-21</td><td>2023-08-21</td></tr><tr><td>11</td><td>1977-01-28</td><td>TAKUMA</td><td>SATO</td><td>2023-08-21</td><td>null</td></tr><tr><td>12</td><td>1985-07-25</td><td>NELSON</td><td>PIQUET JR.</td><td>2023-08-21</td><td>null</td></tr><tr><td>13</td><td>1981-04-25</td><td>FELIPE</td><td>MASSA</td><td>2023-08-21</td><td>null</td></tr><tr><td>14</td><td>1971-03-27</td><td>DAVID</td><td>COULTHARD</td><td>2023-08-21</td><td>null</td></tr><tr><td>15</td><td>1974-07-13</td><td>JARNO</td><td>TRULLI</td><td>2023-08-21</td><td>null</td></tr><tr><td>1</td><td>1985-01-07</td><td>LEWIS</td><td>HAMILTON</td><td>2023-08-21</td><td>2023-08-21</td></tr><tr><td>2</td><td>1977-05-10</td><td>NICK</td><td>HEIDFELD</td><td>2023-08-21</td><td>2023-08-21</td></tr><tr><td>3</td><td>1985-06-27</td><td>NICO</td><td>ROSBERG</td><td>2023-08-21</td><td>2023-08-21</td></tr><tr><td>4</td><td>1981-07-29</td><td>FERNANDO</td><td>ALONSO</td><td>2023-08-21</td><td>2023-08-21</td></tr><tr><td>5</td><td>1981-10-19</td><td>HEIKKI</td><td>KOVALAINEN</td><td>2023-08-21</td><td>2023-08-21</td></tr><tr><td>16</td><td>1983-01-11</td><td>ADRIAN</td><td>SUTIL</td><td>2023-08-21</td><td>null</td></tr><tr><td>17</td><td>1976-08-27</td><td>MARK</td><td>WEBBER</td><td>2023-08-21</td><td>null</td></tr><tr><td>18</td><td>1980-01-19</td><td>JENSON</td><td>BUTTON</td><td>2023-08-21</td><td>null</td></tr><tr><td>19</td><td>1979-04-18</td><td>ANTHONY</td><td>DAVIDSON</td><td>2023-08-21</td><td>null</td></tr><tr><td>20</td><td>1987-07-03</td><td>SEBASTIAN</td><td>VETTEL</td><td>2023-08-21</td><td>null</td></tr></tbody></table></div>"
      ]
     },
     "metadata": {
      "application/vnd.databricks.v1+output": {
       "addedWidgets": {},
       "aggData": [],
       "aggError": "",
       "aggOverflow": false,
       "aggSchema": [],
       "aggSeriesLimitReached": false,
       "aggType": "",
       "arguments": {},
       "columnCustomDisplayInfos": {},
       "data": [
        [
         6,
         "1985-01-11",
         "KAZUKI",
         "NAKAJIMA",
         "2023-08-21",
         "2023-08-21"
        ],
        [
         7,
         "1979-02-28",
         "SÉBASTIEN",
         "BOURDAIS",
         "2023-08-21",
         "2023-08-21"
        ],
        [
         8,
         "1979-10-17",
         "KIMI",
         "RÄIKKÖNEN",
         "2023-08-21",
         "2023-08-21"
        ],
        [
         9,
         "1984-12-07",
         "ROBERT",
         "KUBICA",
         "2023-08-21",
         "2023-08-21"
        ],
        [
         10,
         "1982-03-18",
         "TIMO",
         "GLOCK",
         "2023-08-21",
         "2023-08-21"
        ],
        [
         11,
         "1977-01-28",
         "TAKUMA",
         "SATO",
         "2023-08-21",
         null
        ],
        [
         12,
         "1985-07-25",
         "NELSON",
         "PIQUET JR.",
         "2023-08-21",
         null
        ],
        [
         13,
         "1981-04-25",
         "FELIPE",
         "MASSA",
         "2023-08-21",
         null
        ],
        [
         14,
         "1971-03-27",
         "DAVID",
         "COULTHARD",
         "2023-08-21",
         null
        ],
        [
         15,
         "1974-07-13",
         "JARNO",
         "TRULLI",
         "2023-08-21",
         null
        ],
        [
         1,
         "1985-01-07",
         "LEWIS",
         "HAMILTON",
         "2023-08-21",
         "2023-08-21"
        ],
        [
         2,
         "1977-05-10",
         "NICK",
         "HEIDFELD",
         "2023-08-21",
         "2023-08-21"
        ],
        [
         3,
         "1985-06-27",
         "NICO",
         "ROSBERG",
         "2023-08-21",
         "2023-08-21"
        ],
        [
         4,
         "1981-07-29",
         "FERNANDO",
         "ALONSO",
         "2023-08-21",
         "2023-08-21"
        ],
        [
         5,
         "1981-10-19",
         "HEIKKI",
         "KOVALAINEN",
         "2023-08-21",
         "2023-08-21"
        ],
        [
         16,
         "1983-01-11",
         "ADRIAN",
         "SUTIL",
         "2023-08-21",
         null
        ],
        [
         17,
         "1976-08-27",
         "MARK",
         "WEBBER",
         "2023-08-21",
         null
        ],
        [
         18,
         "1980-01-19",
         "JENSON",
         "BUTTON",
         "2023-08-21",
         null
        ],
        [
         19,
         "1979-04-18",
         "ANTHONY",
         "DAVIDSON",
         "2023-08-21",
         null
        ],
        [
         20,
         "1987-07-03",
         "SEBASTIAN",
         "VETTEL",
         "2023-08-21",
         null
        ]
       ],
       "datasetInfos": [],
       "dbfsResultPath": null,
       "isJsonSchema": true,
       "metadata": {},
       "overflow": false,
       "plotOptions": {
        "customPlotOptions": {},
        "displayType": "table",
        "pivotAggregation": null,
        "pivotColumns": null,
        "xColumns": null,
        "yColumns": null
       },
       "removedWidgets": [],
       "schema": [
        {
         "metadata": "{}",
         "name": "driverId",
         "type": "\"integer\""
        },
        {
         "metadata": "{}",
         "name": "dob",
         "type": "\"date\""
        },
        {
         "metadata": "{}",
         "name": "forename",
         "type": "\"string\""
        },
        {
         "metadata": "{}",
         "name": "surname",
         "type": "\"string\""
        },
        {
         "metadata": "{}",
         "name": "createdDate",
         "type": "\"date\""
        },
        {
         "metadata": "{}",
         "name": "updatedDate",
         "type": "\"date\""
        }
       ],
       "type": "table"
      }
     },
     "output_type": "display_data"
    }
   ],
   "source": [
    "%sql\n",
    "-- Delete History\n",
    "set spark.databricks.delta.retentionDurationCheck.enabled = false; -- default 7 days, option needed to set lower\n",
    "\n",
    "vacuum formula1_delta_demo.drivers_merge\n",
    "retain 0 hours;\n",
    "\n",
    "-- Display Data (Only Latest Version Avaialble)\n",
    "select *\n",
    "from formula1_delta_demo.drivers_merge;"
   ]
  },
  {
   "cell_type": "markdown",
   "metadata": {
    "application/vnd.databricks.v1+cell": {
     "cellMetadata": {},
     "inputWidgets": {},
     "nuid": "3fb69ba6-2776-4d6b-b495-a57240218c88",
     "showTitle": false,
     "title": ""
    }
   },
   "source": [
    "### Convert Parquet Table to Delta"
   ]
  },
  {
   "cell_type": "code",
   "execution_count": 0,
   "metadata": {
    "application/vnd.databricks.v1+cell": {
     "cellMetadata": {
      "byteLimit": 2048000,
      "implicitDf": true,
      "rowLimit": 10000
     },
     "inputWidgets": {},
     "nuid": "299c7f1b-8733-49a9-be19-6674ca7b299e",
     "showTitle": false,
     "title": ""
    }
   },
   "outputs": [
    {
     "output_type": "display_data",
     "data": {
      "text/html": [
       "<style scoped>\n",
       "  .table-result-container {\n",
       "    max-height: 300px;\n",
       "    overflow: auto;\n",
       "  }\n",
       "  table, th, td {\n",
       "    border: 1px solid black;\n",
       "    border-collapse: collapse;\n",
       "  }\n",
       "  th, td {\n",
       "    padding: 5px;\n",
       "  }\n",
       "  th {\n",
       "    text-align: left;\n",
       "  }\n",
       "</style><div class='table-result-container'><table class='table-result'><thead style='background-color: white'><tr></tr></thead><tbody></tbody></table></div>"
      ]
     },
     "metadata": {
      "application/vnd.databricks.v1+output": {
       "addedWidgets": {},
       "aggData": [],
       "aggError": "",
       "aggOverflow": false,
       "aggSchema": [],
       "aggSeriesLimitReached": false,
       "aggType": "",
       "arguments": {},
       "columnCustomDisplayInfos": {},
       "data": [],
       "datasetInfos": [],
       "dbfsResultPath": null,
       "isJsonSchema": true,
       "metadata": {},
       "overflow": false,
       "plotOptions": {
        "customPlotOptions": {},
        "displayType": "table",
        "pivotAggregation": null,
        "pivotColumns": null,
        "xColumns": null,
        "yColumns": null
       },
       "removedWidgets": [],
       "schema": [],
       "type": "table"
      }
     },
     "output_type": "display_data"
    }
   ],
   "source": [
    "%sql\n",
    "-- Create Parquet Table\n",
    "drop table if exists formula1_delta_demo.drivers_convert_delta;\n",
    "\n",
    "create table if not exists formula1_delta_demo.drivers_convert_delta (\n",
    "  driverId int\n",
    "  ,dob date\n",
    "  ,forename string \n",
    "  ,surname string\n",
    "  ,createdDate date\n",
    "  ,updatedDate date\n",
    ")\n",
    "using parquet;"
   ]
  },
  {
   "cell_type": "code",
   "execution_count": 0,
   "metadata": {
    "application/vnd.databricks.v1+cell": {
     "cellMetadata": {
      "byteLimit": 2048000,
      "implicitDf": true,
      "rowLimit": 10000
     },
     "inputWidgets": {},
     "nuid": "65f50563-a502-4f10-9e20-1c178f2e4113",
     "showTitle": false,
     "title": ""
    }
   },
   "outputs": [
    {
     "output_type": "display_data",
     "data": {
      "text/html": [
       "<style scoped>\n",
       "  .table-result-container {\n",
       "    max-height: 300px;\n",
       "    overflow: auto;\n",
       "  }\n",
       "  table, th, td {\n",
       "    border: 1px solid black;\n",
       "    border-collapse: collapse;\n",
       "  }\n",
       "  th, td {\n",
       "    padding: 5px;\n",
       "  }\n",
       "  th {\n",
       "    text-align: left;\n",
       "  }\n",
       "</style><div class='table-result-container'><table class='table-result'><thead style='background-color: white'><tr><th>driverId</th><th>dob</th><th>forename</th><th>surname</th><th>createdDate</th><th>updatedDate</th></tr></thead><tbody><tr><td>6</td><td>1985-01-11</td><td>KAZUKI</td><td>NAKAJIMA</td><td>2023-08-21</td><td>2023-08-21</td></tr><tr><td>7</td><td>1979-02-28</td><td>SÉBASTIEN</td><td>BOURDAIS</td><td>2023-08-21</td><td>2023-08-21</td></tr><tr><td>8</td><td>1979-10-17</td><td>KIMI</td><td>RÄIKKÖNEN</td><td>2023-08-21</td><td>2023-08-21</td></tr><tr><td>9</td><td>1984-12-07</td><td>ROBERT</td><td>KUBICA</td><td>2023-08-21</td><td>2023-08-21</td></tr><tr><td>10</td><td>1982-03-18</td><td>TIMO</td><td>GLOCK</td><td>2023-08-21</td><td>2023-08-21</td></tr><tr><td>11</td><td>1977-01-28</td><td>TAKUMA</td><td>SATO</td><td>2023-08-21</td><td>null</td></tr><tr><td>12</td><td>1985-07-25</td><td>NELSON</td><td>PIQUET JR.</td><td>2023-08-21</td><td>null</td></tr><tr><td>13</td><td>1981-04-25</td><td>FELIPE</td><td>MASSA</td><td>2023-08-21</td><td>null</td></tr><tr><td>14</td><td>1971-03-27</td><td>DAVID</td><td>COULTHARD</td><td>2023-08-21</td><td>null</td></tr><tr><td>15</td><td>1974-07-13</td><td>JARNO</td><td>TRULLI</td><td>2023-08-21</td><td>null</td></tr><tr><td>1</td><td>1985-01-07</td><td>LEWIS</td><td>HAMILTON</td><td>2023-08-21</td><td>2023-08-21</td></tr><tr><td>2</td><td>1977-05-10</td><td>NICK</td><td>HEIDFELD</td><td>2023-08-21</td><td>2023-08-21</td></tr><tr><td>3</td><td>1985-06-27</td><td>NICO</td><td>ROSBERG</td><td>2023-08-21</td><td>2023-08-21</td></tr><tr><td>4</td><td>1981-07-29</td><td>FERNANDO</td><td>ALONSO</td><td>2023-08-21</td><td>2023-08-21</td></tr><tr><td>5</td><td>1981-10-19</td><td>HEIKKI</td><td>KOVALAINEN</td><td>2023-08-21</td><td>2023-08-21</td></tr><tr><td>16</td><td>1983-01-11</td><td>ADRIAN</td><td>SUTIL</td><td>2023-08-21</td><td>null</td></tr><tr><td>17</td><td>1976-08-27</td><td>MARK</td><td>WEBBER</td><td>2023-08-21</td><td>null</td></tr><tr><td>18</td><td>1980-01-19</td><td>JENSON</td><td>BUTTON</td><td>2023-08-21</td><td>null</td></tr><tr><td>19</td><td>1979-04-18</td><td>ANTHONY</td><td>DAVIDSON</td><td>2023-08-21</td><td>null</td></tr><tr><td>20</td><td>1987-07-03</td><td>SEBASTIAN</td><td>VETTEL</td><td>2023-08-21</td><td>null</td></tr></tbody></table></div>"
      ]
     },
     "metadata": {
      "application/vnd.databricks.v1+output": {
       "addedWidgets": {},
       "aggData": [],
       "aggError": "",
       "aggOverflow": false,
       "aggSchema": [],
       "aggSeriesLimitReached": false,
       "aggType": "",
       "arguments": {},
       "columnCustomDisplayInfos": {},
       "data": [
        [
         6,
         "1985-01-11",
         "KAZUKI",
         "NAKAJIMA",
         "2023-08-21",
         "2023-08-21"
        ],
        [
         7,
         "1979-02-28",
         "SÉBASTIEN",
         "BOURDAIS",
         "2023-08-21",
         "2023-08-21"
        ],
        [
         8,
         "1979-10-17",
         "KIMI",
         "RÄIKKÖNEN",
         "2023-08-21",
         "2023-08-21"
        ],
        [
         9,
         "1984-12-07",
         "ROBERT",
         "KUBICA",
         "2023-08-21",
         "2023-08-21"
        ],
        [
         10,
         "1982-03-18",
         "TIMO",
         "GLOCK",
         "2023-08-21",
         "2023-08-21"
        ],
        [
         11,
         "1977-01-28",
         "TAKUMA",
         "SATO",
         "2023-08-21",
         null
        ],
        [
         12,
         "1985-07-25",
         "NELSON",
         "PIQUET JR.",
         "2023-08-21",
         null
        ],
        [
         13,
         "1981-04-25",
         "FELIPE",
         "MASSA",
         "2023-08-21",
         null
        ],
        [
         14,
         "1971-03-27",
         "DAVID",
         "COULTHARD",
         "2023-08-21",
         null
        ],
        [
         15,
         "1974-07-13",
         "JARNO",
         "TRULLI",
         "2023-08-21",
         null
        ],
        [
         1,
         "1985-01-07",
         "LEWIS",
         "HAMILTON",
         "2023-08-21",
         "2023-08-21"
        ],
        [
         2,
         "1977-05-10",
         "NICK",
         "HEIDFELD",
         "2023-08-21",
         "2023-08-21"
        ],
        [
         3,
         "1985-06-27",
         "NICO",
         "ROSBERG",
         "2023-08-21",
         "2023-08-21"
        ],
        [
         4,
         "1981-07-29",
         "FERNANDO",
         "ALONSO",
         "2023-08-21",
         "2023-08-21"
        ],
        [
         5,
         "1981-10-19",
         "HEIKKI",
         "KOVALAINEN",
         "2023-08-21",
         "2023-08-21"
        ],
        [
         16,
         "1983-01-11",
         "ADRIAN",
         "SUTIL",
         "2023-08-21",
         null
        ],
        [
         17,
         "1976-08-27",
         "MARK",
         "WEBBER",
         "2023-08-21",
         null
        ],
        [
         18,
         "1980-01-19",
         "JENSON",
         "BUTTON",
         "2023-08-21",
         null
        ],
        [
         19,
         "1979-04-18",
         "ANTHONY",
         "DAVIDSON",
         "2023-08-21",
         null
        ],
        [
         20,
         "1987-07-03",
         "SEBASTIAN",
         "VETTEL",
         "2023-08-21",
         null
        ]
       ],
       "datasetInfos": [],
       "dbfsResultPath": null,
       "isJsonSchema": true,
       "metadata": {},
       "overflow": false,
       "plotOptions": {
        "customPlotOptions": {},
        "displayType": "table",
        "pivotAggregation": null,
        "pivotColumns": null,
        "xColumns": null,
        "yColumns": null
       },
       "removedWidgets": [],
       "schema": [
        {
         "metadata": "{}",
         "name": "driverId",
         "type": "\"integer\""
        },
        {
         "metadata": "{}",
         "name": "dob",
         "type": "\"date\""
        },
        {
         "metadata": "{}",
         "name": "forename",
         "type": "\"string\""
        },
        {
         "metadata": "{}",
         "name": "surname",
         "type": "\"string\""
        },
        {
         "metadata": "{}",
         "name": "createdDate",
         "type": "\"date\""
        },
        {
         "metadata": "{}",
         "name": "updatedDate",
         "type": "\"date\""
        }
       ],
       "type": "table"
      }
     },
     "output_type": "display_data"
    }
   ],
   "source": [
    "%sql\n",
    "-- Insert Into Parquet Table\n",
    "insert into formula1_delta_demo.drivers_convert_delta\n",
    "  select *\n",
    "  from formula1_delta_demo.drivers_merge;\n",
    "\n",
    "-- Display Data\n",
    "select *\n",
    "from formula1_delta_demo.drivers_convert_delta;"
   ]
  },
  {
   "cell_type": "code",
   "execution_count": 0,
   "metadata": {
    "application/vnd.databricks.v1+cell": {
     "cellMetadata": {
      "byteLimit": 2048000,
      "implicitDf": true,
      "rowLimit": 10000
     },
     "inputWidgets": {},
     "nuid": "bb40b4eb-a7e9-4a8c-8545-fe59becf178b",
     "showTitle": false,
     "title": ""
    }
   },
   "outputs": [
    {
     "output_type": "display_data",
     "data": {
      "text/html": [
       "<style scoped>\n",
       "  .table-result-container {\n",
       "    max-height: 300px;\n",
       "    overflow: auto;\n",
       "  }\n",
       "  table, th, td {\n",
       "    border: 1px solid black;\n",
       "    border-collapse: collapse;\n",
       "  }\n",
       "  th, td {\n",
       "    padding: 5px;\n",
       "  }\n",
       "  th {\n",
       "    text-align: left;\n",
       "  }\n",
       "</style><div class='table-result-container'><table class='table-result'><thead style='background-color: white'><tr></tr></thead><tbody></tbody></table></div>"
      ]
     },
     "metadata": {
      "application/vnd.databricks.v1+output": {
       "addedWidgets": {},
       "aggData": [],
       "aggError": "",
       "aggOverflow": false,
       "aggSchema": [],
       "aggSeriesLimitReached": false,
       "aggType": "",
       "arguments": {},
       "columnCustomDisplayInfos": {},
       "data": [],
       "datasetInfos": [],
       "dbfsResultPath": null,
       "isJsonSchema": true,
       "metadata": {},
       "overflow": false,
       "plotOptions": {
        "customPlotOptions": {},
        "displayType": "table",
        "pivotAggregation": null,
        "pivotColumns": null,
        "xColumns": null,
        "yColumns": null
       },
       "removedWidgets": [],
       "schema": [],
       "type": "table"
      }
     },
     "output_type": "display_data"
    }
   ],
   "source": [
    "%sql\n",
    "-- Convert Parquet Table to Delta\n",
    "convert to delta formula1_delta_demo.drivers_convert_delta;"
   ]
  },
  {
   "cell_type": "markdown",
   "metadata": {
    "application/vnd.databricks.v1+cell": {
     "cellMetadata": {},
     "inputWidgets": {},
     "nuid": "c70c426f-7051-4278-aeae-6448071c521e",
     "showTitle": false,
     "title": ""
    }
   },
   "source": [
    "### Convert Parquet File to Delta"
   ]
  },
  {
   "cell_type": "code",
   "execution_count": 0,
   "metadata": {
    "application/vnd.databricks.v1+cell": {
     "cellMetadata": {
      "byteLimit": 2048000,
      "rowLimit": 10000
     },
     "inputWidgets": {},
     "nuid": "441db321-bd9d-4a86-b7b1-19ceb67fd285",
     "showTitle": false,
     "title": ""
    }
   },
   "outputs": [],
   "source": [
    "# Create Parquet DataFrame\n",
    "parquet_df = spark.table('formula1_delta_demo.drivers_convert_delta')\n",
    "\n",
    "# Create Parquet File\n",
    "parquet_df.write \\\n",
    "    .format('parquet') \\\n",
    "    .save(f'{delta_demo_folder_path}/drivers_convert_delta_from_file')"
   ]
  },
  {
   "cell_type": "code",
   "execution_count": 0,
   "metadata": {
    "application/vnd.databricks.v1+cell": {
     "cellMetadata": {
      "byteLimit": 2048000,
      "implicitDf": true,
      "rowLimit": 10000
     },
     "inputWidgets": {},
     "nuid": "2e5eca0d-ecc3-45d3-b5ae-685976cfbfb4",
     "showTitle": false,
     "title": ""
    }
   },
   "outputs": [
    {
     "output_type": "display_data",
     "data": {
      "text/html": [
       "<style scoped>\n",
       "  .table-result-container {\n",
       "    max-height: 300px;\n",
       "    overflow: auto;\n",
       "  }\n",
       "  table, th, td {\n",
       "    border: 1px solid black;\n",
       "    border-collapse: collapse;\n",
       "  }\n",
       "  th, td {\n",
       "    padding: 5px;\n",
       "  }\n",
       "  th {\n",
       "    text-align: left;\n",
       "  }\n",
       "</style><div class='table-result-container'><table class='table-result'><thead style='background-color: white'><tr></tr></thead><tbody></tbody></table></div>"
      ]
     },
     "metadata": {
      "application/vnd.databricks.v1+output": {
       "addedWidgets": {},
       "aggData": [],
       "aggError": "",
       "aggOverflow": false,
       "aggSchema": [],
       "aggSeriesLimitReached": false,
       "aggType": "",
       "arguments": {},
       "columnCustomDisplayInfos": {},
       "data": [],
       "datasetInfos": [],
       "dbfsResultPath": null,
       "isJsonSchema": true,
       "metadata": {},
       "overflow": false,
       "plotOptions": {
        "customPlotOptions": {},
        "displayType": "table",
        "pivotAggregation": null,
        "pivotColumns": null,
        "xColumns": null,
        "yColumns": null
       },
       "removedWidgets": [],
       "schema": [],
       "type": "table"
      }
     },
     "output_type": "display_data"
    }
   ],
   "source": [
    "%sql\n",
    "-- Convert Parquet File to Delta\n",
    "convert to delta parquet.`abfss://delta-demo@dbcourselakehouse.dfs.core.windows.net/drivers_convert_delta_from_file`"
   ]
  }
 ],
 "metadata": {
  "application/vnd.databricks.v1+notebook": {
   "dashboards": [],
   "language": "python",
   "notebookMetadata": {
    "mostRecentlyExecutedCommandWithImplicitDF": {
     "commandId": 42752951737165,
     "dataframes": [
      "_sqldf"
     ]
    },
    "pythonIndentUnit": 4
   },
   "notebookName": "00-Delta-Demo",
   "widgets": {
    "FileDate": {
     "currentValue": "2021-03-28",
     "nuid": "092d930e-2acc-4c4b-b8e9-29b18df2ce03",
     "widgetInfo": {
      "widgetType": "text",
      "defaultValue": "2021-03-28",
      "label": null,
      "name": "FileDate",
      "options": {
       "widgetType": "text",
       "validationRegex": null
      }
     }
    }
   }
  }
 },
 "nbformat": 4,
 "nbformat_minor": 0
}
