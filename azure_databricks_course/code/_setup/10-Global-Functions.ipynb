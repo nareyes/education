{
 "cells": [
  {
   "cell_type": "markdown",
   "metadata": {
    "application/vnd.databricks.v1+cell": {
     "cellMetadata": {},
     "inputWidgets": {},
     "nuid": "67ada3b6-9987-456b-a118-76f89ffbff0d",
     "showTitle": false,
     "title": ""
    }
   },
   "source": [
    "# Global Functions"
   ]
  },
  {
   "cell_type": "code",
   "execution_count": 0,
   "metadata": {
    "application/vnd.databricks.v1+cell": {
     "cellMetadata": {
      "byteLimit": 2048000,
      "rowLimit": 10000
     },
     "inputWidgets": {},
     "nuid": "1bf78f96-f665-48d3-a720-30e601c9b02a",
     "showTitle": false,
     "title": ""
    }
   },
   "outputs": [],
   "source": [
    "# Import Modules\n",
    "\n",
    "from delta.tables import DeltaTable\n",
    "from pyspark.sql.functions import current_timestamp"
   ]
  },
  {
   "cell_type": "code",
   "execution_count": 0,
   "metadata": {
    "application/vnd.databricks.v1+cell": {
     "cellMetadata": {
      "byteLimit": 2048000,
      "rowLimit": 10000
     },
     "inputWidgets": {},
     "nuid": "8a97df76-fd63-4cf6-866d-aba50a309ff7",
     "showTitle": false,
     "title": ""
    }
   },
   "outputs": [],
   "source": [
    "# Add Ingestion Date\n",
    "\n",
    "def add_ingestion_date(input_df):\n",
    "    output_df = input_df.withColumn('ingestion_date', current_timestamp())\n",
    "\n",
    "    return output_df"
   ]
  },
  {
   "cell_type": "code",
   "execution_count": 0,
   "metadata": {
    "application/vnd.databricks.v1+cell": {
     "cellMetadata": {
      "byteLimit": 2048000,
      "rowLimit": 10000
     },
     "inputWidgets": {},
     "nuid": "384feb5c-f907-45cc-bb85-a2998d535fb3",
     "showTitle": false,
     "title": ""
    }
   },
   "outputs": [],
   "source": [
    "# Re-Arrange Parition Column\n",
    "\n",
    "def re_arrange_partition_column(input_df, partition_column):\n",
    "  column_list = []\n",
    "\n",
    "  for column_name in input_df.schema.names:\n",
    "    if column_name != partition_column:\n",
    "      column_list.append(column_name)\n",
    "\n",
    "  column_list.append(partition_column)\n",
    "\n",
    "  output_df = input_df.select(column_list)\n",
    "  \n",
    "  return output_df"
   ]
  },
  {
   "cell_type": "code",
   "execution_count": 0,
   "metadata": {
    "application/vnd.databricks.v1+cell": {
     "cellMetadata": {
      "byteLimit": 2048000,
      "rowLimit": 10000
     },
     "inputWidgets": {},
     "nuid": "0f33cb26-f503-4609-a9c3-befe9dc106d3",
     "showTitle": false,
     "title": ""
    }
   },
   "outputs": [],
   "source": [
    "# Overwrite Partition\n",
    "\n",
    "def overwrite_partition(input_df, db_name, table_name, partition_column):\n",
    "  output_df = re_arrange_partition_column(input_df, partition_column)\n",
    "\n",
    "  spark.conf.set('spark.sql.sources.partitionOverwriteMode', 'dynamic')\n",
    "  \n",
    "  if (spark._jsparkSession.catalog().tableExists(f'{db_name}.{table_name}')):\n",
    "    output_df.write.mode('overwrite').insertInto(f'{db_name}.{table_name}')\n",
    "  else:\n",
    "    output_df.write.mode('overwrite').partitionBy(partition_column).format('parquet').saveAsTable(f'{db_name}.{table_name}')"
   ]
  },
  {
   "cell_type": "code",
   "execution_count": 0,
   "metadata": {
    "application/vnd.databricks.v1+cell": {
     "cellMetadata": {
      "byteLimit": 2048000,
      "rowLimit": 10000
     },
     "inputWidgets": {},
     "nuid": "fd9d5d0b-272f-4c4d-92a3-09cdf78efc03",
     "showTitle": false,
     "title": ""
    }
   },
   "outputs": [],
   "source": [
    "# Merge Non-Partitioned Delta Data\n",
    "\n",
    "def merge_delta_data(input_df, db_name, table_name, folder_path, merge_condition):\n",
    "    from delta.tables import DeltaTable\n",
    "    spark.conf.set('spark.databricks.optimizer.dynamicPartitionPruning', 'true')\n",
    "\n",
    "    if (spark._jsparkSession.catalog().tableExists(f'{db_name}.{table_name}')):\n",
    "        deltaTable = DeltaTable.forPath(spark, f'{folder_path}/{table_name}')\n",
    "\n",
    "        deltaTable.alias('tgt').merge(\n",
    "            input_df.alias('src'),\n",
    "            merge_condition\n",
    "        ) \\\n",
    "            .whenMatchedUpdateAll() \\\n",
    "            .whenNotMatchedInsertAll() \\\n",
    "            .execute()\n",
    "\n",
    "    else:\n",
    "        input_df.write.mode('overwrite').format('delta').saveAsTable(f'{db_name}.{table_name}')   "
   ]
  },
  {
   "cell_type": "code",
   "execution_count": 0,
   "metadata": {
    "application/vnd.databricks.v1+cell": {
     "cellMetadata": {
      "byteLimit": 2048000,
      "rowLimit": 10000
     },
     "inputWidgets": {},
     "nuid": "4ab02544-d25f-4deb-9a28-f16e1c9bea97",
     "showTitle": false,
     "title": ""
    }
   },
   "outputs": [],
   "source": [
    "# Merge Partitioned Delta Data\n",
    "\n",
    "def merge_partitioned_delta_data(input_df, db_name, table_name, folder_path, partition_column, merge_condition):\n",
    "    from delta.tables import DeltaTable\n",
    "    spark.conf.set('spark.databricks.optimizer.dynamicPartitionPruning', 'true')\n",
    "\n",
    "    if (spark._jsparkSession.catalog().tableExists(f'{db_name}.{table_name}')):\n",
    "        deltaTable = DeltaTable.forPath(spark, f'{folder_path}/{table_name}')\n",
    "\n",
    "        deltaTable.alias('tgt').merge(\n",
    "            input_df.alias('src'),\n",
    "            merge_condition\n",
    "        ) \\\n",
    "            .whenMatchedUpdateAll() \\\n",
    "            .whenNotMatchedInsertAll() \\\n",
    "            .execute()\n",
    "\n",
    "    else:\n",
    "        input_df.write.mode('overwrite').partitionBy(partition_column).format('delta').saveAsTable(f'{db_name}.{table_name}')   "
   ]
  }
 ],
 "metadata": {
  "application/vnd.databricks.v1+notebook": {
   "dashboards": [],
   "language": "python",
   "notebookMetadata": {
    "pythonIndentUnit": 4
   },
   "notebookName": "10-Global-Functions",
   "widgets": {}
  }
 },
 "nbformat": 4,
 "nbformat_minor": 0
}
