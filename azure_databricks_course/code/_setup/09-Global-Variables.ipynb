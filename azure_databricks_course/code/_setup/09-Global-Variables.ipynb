{
 "cells": [
  {
   "cell_type": "markdown",
   "metadata": {
    "application/vnd.databricks.v1+cell": {
     "cellMetadata": {},
     "inputWidgets": {},
     "nuid": "2c392ae6-b1c9-4a51-84c6-9cb818f6c148",
     "showTitle": false,
     "title": ""
    }
   },
   "source": [
    "# Global Variables"
   ]
  },
  {
   "cell_type": "code",
   "execution_count": 0,
   "metadata": {
    "application/vnd.databricks.v1+cell": {
     "cellMetadata": {
      "byteLimit": 2048000,
      "rowLimit": 10000
     },
     "inputWidgets": {},
     "nuid": "ccf23133-5dd6-4bcb-9ad0-f0f4e2d97b56",
     "showTitle": false,
     "title": ""
    }
   },
   "outputs": [],
   "source": [
    "# Create Folder Path Variables\n",
    "\n",
    "raw_folder_path = 'abfss://raw@dbcourselakehouse.dfs.core.windows.net'\n",
    "raw_inc_folder_path = 'abfss://raw-incremental@dbcourselakehouse.dfs.core.windows.net'\n",
    "processed_folder_path = 'abfss://processed@dbcourselakehouse.dfs.core.windows.net'\n",
    "processed_inc_folder_path = 'abfss://processed-incremental@dbcourselakehouse.dfs.core.windows.net'\n",
    "curated_folder_path = 'abfss://curated@dbcourselakehouse.dfs.core.windows.net'\n",
    "curated_inc_folder_path = 'abfss://curated-incremental@dbcourselakehouse.dfs.core.windows.net'\n",
    "delta_demo_folder_path = 'abfss://delta-demo@dbcourselakehouse.dfs.core.windows.net'\n",
    "raw_delta_folder_path = 'abfss://raw-delta@dbcourselakehouse.dfs.core.windows.net'\n",
    "processed_delta_folder_path = 'abfss://processed-delta@dbcourselakehouse.dfs.core.windows.net'\n",
    "processed_delta_database_folder_path = 'abfss://processed-database-delta@dbcourselakehouse.dfs.core.windows.net'\n",
    "curated_delta_folder_path = 'abfss://curated-delta@dbcourselakehouse.dfs.core.windows.net'\n",
    "curated_delta_database_folder_path = 'abfss://curated-database-delta@dbcourselakehouse.dfs.core.windows.net'"
   ]
  }
 ],
 "metadata": {
  "application/vnd.databricks.v1+notebook": {
   "dashboards": [],
   "language": "python",
   "notebookMetadata": {
    "pythonIndentUnit": 4
   },
   "notebookName": "09-Global-Variables",
   "widgets": {}
  }
 },
 "nbformat": 4,
 "nbformat_minor": 0
}
