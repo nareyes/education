{
 "cells": [
  {
   "cell_type": "code",
   "execution_count": 0,
   "metadata": {
    "application/vnd.databricks.v1+cell": {
     "cellMetadata": {},
     "inputWidgets": {},
     "nuid": "ccf23133-5dd6-4bcb-9ad0-f0f4e2d97b56",
     "showTitle": false,
     "title": ""
    }
   },
   "outputs": [],
   "source": [
    "# Create Folder Path Variables\n",
    "raw_folder_path = 'abfss://raw@dbcourselakehouse.dfs.core.windows.net'\n",
    "processed_folder_path = 'abfss://processed@dbcourselakehouse.dfs.core.windows.net'\n",
    "curated_folder_path = 'abfss://curated@dbcourselakehouse.dfs.core.windows.net'"
   ]
  }
 ],
 "metadata": {
  "application/vnd.databricks.v1+notebook": {
   "dashboards": [],
   "language": "python",
   "notebookMetadata": {
    "pythonIndentUnit": 4
   },
   "notebookName": "09-Global-Variables",
   "widgets": {}
  }
 },
 "nbformat": 4,
 "nbformat_minor": 0
}
