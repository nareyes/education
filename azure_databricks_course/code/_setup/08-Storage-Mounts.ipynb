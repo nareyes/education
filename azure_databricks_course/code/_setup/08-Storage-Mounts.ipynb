{
 "cells": [
  {
   "cell_type": "markdown",
   "metadata": {
    "application/vnd.databricks.v1+cell": {
     "cellMetadata": {},
     "inputWidgets": {},
     "nuid": "7f487d44-6008-4b59-8ba8-ee4b69687cc7",
     "showTitle": false,
     "title": ""
    }
   },
   "source": [
    "# Databricks Storage Mounts\n",
    "\n",
    "**Benefits**\n",
    "- Access data without requiring credentials\n",
    "- Access files using file semantics instead of storage URLs\n",
    "- Stores files to object storage realizing Azure storage benefits\n",
    "\n",
    "**Workflow**\n",
    "- Mounts ADLS Gen2 to DBFS Using Service Principal\n",
    "- Access DBFS from Databricks Notebooks"
   ]
  },
  {
   "cell_type": "code",
   "execution_count": 0,
   "metadata": {
    "application/vnd.databricks.v1+cell": {
     "cellMetadata": {},
     "inputWidgets": {},
     "nuid": "5b1c8ba2-f054-446f-828c-af7528daf6c4",
     "showTitle": false,
     "title": ""
    }
   },
   "outputs": [],
   "source": [
    "# Set Variables\n",
    "\n",
    "client_id = \"\"\n",
    "tenant_id = \"\"\n",
    "secret_value = \"\""
   ]
  },
  {
   "cell_type": "code",
   "execution_count": 0,
   "metadata": {
    "application/vnd.databricks.v1+cell": {
     "cellMetadata": {},
     "inputWidgets": {},
     "nuid": "e84ad676-2f1f-4d3f-b247-1401fd0d4e57",
     "showTitle": false,
     "title": ""
    }
   },
   "outputs": [],
   "source": [
    "# Set Variables Using Secret Scope\n",
    "\n",
    "client_id = dbutils.secrets.get(scope=<secret_scope>, key=<secret_scope_key>)\n",
    "tenant_id = dbutils.secrets.get(scope=<secret_scope>, key=<secret_scope_key>)\n",
    "secret_value = dbutils.secrets.get(scope=<secret_scope>, key=<secret_scope_key>)\n",
    "service_credential = dbutils.secrets.get(scope=\"<secret_scope>\",key=\"<service_scope_key>\")"
   ]
  },
  {
   "cell_type": "code",
   "execution_count": 0,
   "metadata": {
    "application/vnd.databricks.v1+cell": {
     "cellMetadata": {},
     "inputWidgets": {},
     "nuid": "f2cfabc8-e6a4-49de-b55f-0b8dfe8c0042",
     "showTitle": false,
     "title": ""
    }
   },
   "outputs": [],
   "source": [
    "# Set Spark Config\n",
    "\n",
    "spark.conf.set(\"fs.azure.account.auth.type.<storage_account_namet>.dfs.core.windows.net\", \"OAuth\")\n",
    "spark.conf.set(\"fs.azure.account.oauth.provider.type.<storage_account_namet>.dfs.core.windows.net\", \"org.apache.hadoop.fs.azurebfs.oauth2.ClientCredsTokenProvider\")\n",
    "spark.conf.set(\"fs.azure.account.oauth2.client.id.<storage_account_namet>.dfs.core.windows.net\", \"<application_id>\")\n",
    "spark.conf.set(\"fs.azure.account.oauth2.client.secret.<storage_account_name>.dfs.core.windows.net\", <service_credential_client_secret>)\n",
    "spark.conf.set(\"fs.azure.account.oauth2.client.endpoint.<storage_account_namet>.dfs.core.windows.net\", \"https://login.microsoftonline.com/<directory_id>/oauth2/token\")"
   ]
  }
 ],
 "metadata": {
  "application/vnd.databricks.v1+notebook": {
   "dashboards": [],
   "language": "python",
   "notebookMetadata": {
    "pythonIndentUnit": 4
   },
   "notebookName": "08-Storage-Mounts",
   "widgets": {}
  }
 },
 "nbformat": 4,
 "nbformat_minor": 0
}
