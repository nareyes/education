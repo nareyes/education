{
 "cells": [
  {
   "cell_type": "markdown",
   "metadata": {
    "application/vnd.databricks.v1+cell": {
     "cellMetadata": {},
     "inputWidgets": {},
     "nuid": "7f487d44-6008-4b59-8ba8-ee4b69687cc7",
     "showTitle": false,
     "title": ""
    }
   },
   "source": [
    "# Databricks Storage Mounts\n",
    "\n",
    "**Benefits**\n",
    "- Access data without requiring credentials\n",
    "- Access files using file semantics instead of storage URLs\n",
    "- Stores files to object storage realizing Azure storage benefits\n",
    "\n",
    "**Workflow**\n",
    "- Mounts ADLS Gen2 to DBFS Using Service Principal\n",
    "- Access DBFS from Databricks Notebooks"
   ]
  },
  {
   "cell_type": "code",
   "execution_count": 0,
   "metadata": {
    "application/vnd.databricks.v1+cell": {
     "cellMetadata": {},
     "inputWidgets": {},
     "nuid": "5b1c8ba2-f054-446f-828c-af7528daf6c4",
     "showTitle": false,
     "title": ""
    }
   },
   "outputs": [],
   "source": [
    "# Set Variables\n",
    "\n",
    "client_id = \"\"\n",
    "tenant_id = \"\"\n",
    "secret_value = \"\""
   ]
  },
  {
   "cell_type": "code",
   "execution_count": 0,
   "metadata": {
    "application/vnd.databricks.v1+cell": {
     "cellMetadata": {},
     "inputWidgets": {},
     "nuid": "e84ad676-2f1f-4d3f-b247-1401fd0d4e57",
     "showTitle": false,
     "title": ""
    }
   },
   "outputs": [],
   "source": [
    "# Set Variables Using Secret Scope\n",
    "\n",
    "client_id = dbutils.secrets.get(scope=<secret_scope>, key=<secret_scope_key>)\n",
    "tenant_id = dbutils.secrets.get(scope=<secret_scope>, key=<secret_scope_key>)\n",
    "secret_value = dbutils.secrets.get(scope=<secret_scope>, key=<secret_scope_key>)\n",
    "service_credential = dbutils.secrets.get(scope=\"<secret_scope>\",key=\"<service_scope_key>\")"
   ]
  },
  {
   "cell_type": "code",
   "execution_count": 0,
   "metadata": {
    "application/vnd.databricks.v1+cell": {
     "cellMetadata": {},
     "inputWidgets": {},
     "nuid": "f2cfabc8-e6a4-49de-b55f-0b8dfe8c0042",
     "showTitle": false,
     "title": ""
    }
   },
   "outputs": [],
   "source": [
    "# Set Spark Config\n",
    "\n",
    "spark.conf.set(\"fs.azure.account.auth.type.<storage_account_namet>.dfs.core.windows.net\", \"OAuth\")\n",
    "spark.conf.set(\"fs.azure.account.oauth.provider.type.<storage_account_namet>.dfs.core.windows.net\", \"org.apache.hadoop.fs.azurebfs.oauth2.ClientCredsTokenProvider\")\n",
    "spark.conf.set(\"fs.azure.account.oauth2.client.id.<storage_account_namet>.dfs.core.windows.net\", \"<application_id>\")\n",
    "spark.conf.set(\"fs.azure.account.oauth2.client.secret.<storage_account_name>.dfs.core.windows.net\", <service_credential_client_secret>)\n",
    "spark.conf.set(\"fs.azure.account.oauth2.client.endpoint.<storage_account_namet>.dfs.core.windows.net\", \"https://login.microsoftonline.com/<directory_id>/oauth2/token\")"
   ]
  },
  {
   "cell_type": "markdown",
   "metadata": {
    "application/vnd.databricks.v1+cell": {
     "cellMetadata": {},
     "inputWidgets": {},
     "nuid": "42be43cd-6288-49d3-ad42-51e9d852dd51",
     "showTitle": false,
     "title": ""
    }
   },
   "source": [
    "### Additional Configuration Code"
   ]
  },
  {
   "cell_type": "code",
   "execution_count": 0,
   "metadata": {
    "application/vnd.databricks.v1+cell": {
     "cellMetadata": {},
     "inputWidgets": {},
     "nuid": "709fb4f8-8ec5-499b-8f2b-3662c25021cd",
     "showTitle": false,
     "title": ""
    }
   },
   "outputs": [],
   "source": [
    "# Databricks Notebook Variables\n",
    "\n",
    "storage_account_name = \"formula1dl\"\n",
    "client_id = dbutils.secrets.get(scope=\"formula1-scope\", key=\"databricks-app-client-id\")\n",
    "tenant_id = dbutils.secrets.get(scope=\"formula1-scope\", key=\"databricks-app-tenant-id\")\n",
    "client_secret = dbutils.secrets.get(scope=\"formula1-scope\", key=\"databricks-app-client-secret\")"
   ]
  },
  {
   "cell_type": "code",
   "execution_count": 0,
   "metadata": {
    "application/vnd.databricks.v1+cell": {
     "cellMetadata": {},
     "inputWidgets": {},
     "nuid": "2284ccfe-694e-469d-93aa-c0a579bd79d1",
     "showTitle": false,
     "title": ""
    }
   },
   "outputs": [],
   "source": [
    "# Set Configurations\n",
    "\n",
    "configs = {\n",
    "    \"fs.azure.account.auth.type\": \"OAuth\",\n",
    "    \"fs.azure.account.oauth.provider.type\": \"org.apache.hadoop.fs.azurebfs.oauth2.ClientCredsTokenProvider\",\n",
    "    \"fs.azure.account.oauth2.client.id\": f\"{client_id}\",\n",
    "    \"fs.azure.account.oauth2.client.secret\": f\"{client_secret}\",\n",
    "    \"fs.azure.account.oauth2.client.endpoint\": f\"https://login.microsoftonline.com/{tenant_id}/oauth2/token\"\n",
    "}"
   ]
  },
  {
   "cell_type": "code",
   "execution_count": 0,
   "metadata": {
    "application/vnd.databricks.v1+cell": {
     "cellMetadata": {},
     "inputWidgets": {},
     "nuid": "a8147d8e-f3b1-49d0-8fc3-7b547b20aae5",
     "showTitle": false,
     "title": ""
    }
   },
   "outputs": [],
   "source": [
    "# Create Mount Function\n",
    "\n",
    "def mount_adls(container_name):\n",
    "  dbutils.fs.mount(\n",
    "    source = f\"abfss://{container_name}@{storage_account_name}.dfs.core.windows.net/\",\n",
    "    mount_point = f\"/mnt/{storage_account_name}/{container_name}\",\n",
    "    extra_configs = configs\n",
    "  )"
   ]
  },
  {
   "cell_type": "code",
   "execution_count": 0,
   "metadata": {
    "application/vnd.databricks.v1+cell": {
     "cellMetadata": {},
     "inputWidgets": {},
     "nuid": "4ad5575d-2c28-42bd-84dc-4e15c28ea07a",
     "showTitle": false,
     "title": ""
    }
   },
   "outputs": [],
   "source": [
    "# Mount Containers\n",
    "\n",
    "mount_adls(\"raw\")\n",
    "mount_adls(\"processed\")\n",
    "mount_adls(\"presentation\")"
   ]
  },
  {
   "cell_type": "code",
   "execution_count": 0,
   "metadata": {
    "application/vnd.databricks.v1+cell": {
     "cellMetadata": {},
     "inputWidgets": {},
     "nuid": "cde35f79-4d57-4963-a089-707cf575001f",
     "showTitle": false,
     "title": ""
    }
   },
   "outputs": [],
   "source": [
    "# Display Contents\n",
    "\n",
    "dbutils.fs.ls(\"/mnt/formula1dl/raw\")\n",
    "dbutils.fs.ls(\"/mnt/formula1dl/processed\")\n",
    "dbutils.fs.ls(\"/mnt/formula1dl/presentation\")"
   ]
  },
  {
   "cell_type": "code",
   "execution_count": 0,
   "metadata": {
    "application/vnd.databricks.v1+cell": {
     "cellMetadata": {},
     "inputWidgets": {},
     "nuid": "07537764-1396-439d-b22b-f40921cf1c8f",
     "showTitle": false,
     "title": ""
    }
   },
   "outputs": [],
   "source": [
    "# Unmount Containers\n",
    "\n",
    "dbutils.fs.unmount(\"/mnt/formula1dl/raw\")\n",
    "dbutils.fs.unmount(\"/mnt/formula1dl/processed\")\n",
    "dbutils.fs.unmount(\"/mnt/formula1dl/presentation\")"
   ]
  }
 ],
 "metadata": {
  "application/vnd.databricks.v1+notebook": {
   "dashboards": [],
   "language": "python",
   "notebookMetadata": {
    "pythonIndentUnit": 4
   },
   "notebookName": "08-Storage-Mounts",
   "widgets": {}
  }
 },
 "nbformat": 4,
 "nbformat_minor": 0
}
