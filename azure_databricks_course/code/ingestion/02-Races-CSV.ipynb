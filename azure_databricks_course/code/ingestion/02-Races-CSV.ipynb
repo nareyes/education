{
 "cells": [
  {
   "cell_type": "markdown",
   "metadata": {
    "application/vnd.databricks.v1+cell": {
     "cellMetadata": {
      "byteLimit": 2048000,
      "rowLimit": 10000
     },
     "inputWidgets": {},
     "nuid": "0635c355-60a9-4bf6-8e35-4878e03e4c55",
     "showTitle": false,
     "title": ""
    }
   },
   "source": [
    "# Ingest Races CSV File\n",
    "1. Read CSV File\n",
    "2. Specify Schema\n",
    "3. Select Coumns\n",
    "4. Rename Columns\n",
    "5. Add New Columns\n",
    "6. Write to Data Lake (File System) and Partition"
   ]
  },
  {
   "cell_type": "code",
   "execution_count": 0,
   "metadata": {
    "application/vnd.databricks.v1+cell": {
     "cellMetadata": {
      "byteLimit": 2048000,
      "rowLimit": 10000
     },
     "inputWidgets": {},
     "nuid": "06d7c522-8719-4a18-aa57-f340fe8973ec",
     "showTitle": false,
     "title": ""
    }
   },
   "outputs": [],
   "source": [
    "# Import Modules\n",
    "from pyspark.sql.functions import col, lit, concat, current_timestamp, to_timestamp\n",
    "from pyspark.sql.types import StructType, StructField, IntegerType, StringType, DoubleType, DateType"
   ]
  },
  {
   "cell_type": "code",
   "execution_count": 0,
   "metadata": {
    "application/vnd.databricks.v1+cell": {
     "cellMetadata": {
      "byteLimit": 2048000,
      "rowLimit": 10000
     },
     "inputWidgets": {},
     "nuid": "49bd15e4-494a-4e37-a7e3-a3a12d13b5e8",
     "showTitle": false,
     "title": ""
    }
   },
   "outputs": [],
   "source": [
    "# Display DBFS Mounted Contents\n",
    "\n",
    "# %fs\n",
    "# ls /mnt/dbcourselakehouse/raw"
   ]
  },
  {
   "cell_type": "markdown",
   "metadata": {
    "application/vnd.databricks.v1+cell": {
     "cellMetadata": {
      "byteLimit": 2048000,
      "rowLimit": 10000
     },
     "inputWidgets": {},
     "nuid": "a07f2f89-2bbc-4ed6-ad59-46a57b22c52f",
     "showTitle": false,
     "title": ""
    }
   },
   "source": [
    "### Read CSV"
   ]
  },
  {
   "cell_type": "code",
   "execution_count": 0,
   "metadata": {
    "application/vnd.databricks.v1+cell": {
     "cellMetadata": {
      "byteLimit": 2048000,
      "rowLimit": 10000
     },
     "inputWidgets": {},
     "nuid": "cea9bdf8-bed2-4b62-b137-5f2f65a5702e",
     "showTitle": false,
     "title": ""
    }
   },
   "outputs": [],
   "source": [
    "# Read CSV File Using Spark DataFrame Reader API\n",
    "# races_df = spark.read.option('header', True).csv(\"abfss://raw@dbcourselakehouse.dfs.core.windows.net/races.csv\")"
   ]
  },
  {
   "cell_type": "code",
   "execution_count": 0,
   "metadata": {
    "application/vnd.databricks.v1+cell": {
     "cellMetadata": {
      "byteLimit": 2048000,
      "rowLimit": 10000
     },
     "inputWidgets": {},
     "nuid": "59e8fc2b-4a55-4079-8176-613939f54fc6",
     "showTitle": false,
     "title": ""
    }
   },
   "outputs": [],
   "source": [
    "# Display Data Using Show Method\n",
    "# races_df.show(n = 10)\n",
    "\n",
    "# Display Data in Table Format\n",
    "# display(races_df)"
   ]
  },
  {
   "cell_type": "markdown",
   "metadata": {
    "application/vnd.databricks.v1+cell": {
     "cellMetadata": {
      "byteLimit": 2048000,
      "rowLimit": 10000
     },
     "inputWidgets": {},
     "nuid": "9c7bad96-c233-4602-9fed-980f7f519bba",
     "showTitle": false,
     "title": ""
    }
   },
   "source": [
    "### Specify Schema (Infer and Explicit)"
   ]
  },
  {
   "cell_type": "code",
   "execution_count": 0,
   "metadata": {
    "application/vnd.databricks.v1+cell": {
     "cellMetadata": {
      "byteLimit": 2048000,
      "rowLimit": 10000
     },
     "inputWidgets": {},
     "nuid": "886024ae-ff36-42e0-ba31-71535b6bc1e6",
     "showTitle": false,
     "title": ""
    }
   },
   "outputs": [],
   "source": [
    "# Infer Schema Option (Suitable for Dev/Small Data)\n",
    "# races_df = spark.read \\\n",
    "#     .option('header', True) \\\n",
    "#     .option('inferSchema', True) \\\n",
    "#     .csv(\"abfss://raw@dbcourselakehouse.dfs.core.windows.net/races.csv\")\n",
    "\n",
    "# Display Data\n",
    "# display(races_df)"
   ]
  },
  {
   "cell_type": "code",
   "execution_count": 0,
   "metadata": {
    "application/vnd.databricks.v1+cell": {
     "cellMetadata": {
      "byteLimit": 2048000,
      "rowLimit": 10000
     },
     "inputWidgets": {},
     "nuid": "d3c68285-1560-43b4-b255-de41bf89635d",
     "showTitle": false,
     "title": ""
    }
   },
   "outputs": [],
   "source": [
    "# Write Schema Explicitly (Best Practice for Production)\n",
    "# StructType Represents Rows, StructField Represents Columns\n",
    "races_schema = StructType(fields = [\n",
    "    StructField(\"raceId\", IntegerType(), False),\n",
    "    StructField(\"year\", IntegerType(), True),\n",
    "    StructField(\"round\", IntegerType(), True),\n",
    "    StructField(\"circuitId\", IntegerType(), True),\n",
    "    StructField(\"name\", StringType(), True),\n",
    "    StructField(\"date\", DateType(), True),\n",
    "    StructField(\"time\", StringType(), True),\n",
    "    StructField(\"url\", StringType(), True)\n",
    "])\n",
    "\n",
    "# Apply Schema\n",
    "races_df = spark.read \\\n",
    "    .option('header', True) \\\n",
    "    .schema(races_schema) \\\n",
    "    .csv(\"abfss://raw@dbcourselakehouse.dfs.core.windows.net/races.csv\")\n",
    "\n",
    "# Display Data\n",
    "# display(races_df)"
   ]
  },
  {
   "cell_type": "code",
   "execution_count": 0,
   "metadata": {
    "application/vnd.databricks.v1+cell": {
     "cellMetadata": {
      "byteLimit": 2048000,
      "rowLimit": 10000
     },
     "inputWidgets": {},
     "nuid": "b17af90b-5b65-413e-a59c-30d15b14183e",
     "showTitle": false,
     "title": ""
    }
   },
   "outputs": [],
   "source": [
    "# Print Schema\n",
    "# races_df.printSchema()"
   ]
  },
  {
   "cell_type": "code",
   "execution_count": 0,
   "metadata": {
    "application/vnd.databricks.v1+cell": {
     "cellMetadata": {
      "byteLimit": 2048000,
      "rowLimit": 10000
     },
     "inputWidgets": {},
     "nuid": "69cc1a0f-070a-463b-af8f-c9c6cea6d479",
     "showTitle": false,
     "title": ""
    }
   },
   "outputs": [],
   "source": [
    "# Describe Data\n",
    "# races_df.describe().show()"
   ]
  },
  {
   "cell_type": "markdown",
   "metadata": {
    "application/vnd.databricks.v1+cell": {
     "cellMetadata": {
      "byteLimit": 2048000,
      "rowLimit": 10000
     },
     "inputWidgets": {},
     "nuid": "cee3b693-dd1b-4f9a-8c53-5d375a1d98d6",
     "showTitle": false,
     "title": ""
    }
   },
   "source": [
    "### Select Required Columns"
   ]
  },
  {
   "cell_type": "code",
   "execution_count": 0,
   "metadata": {
    "application/vnd.databricks.v1+cell": {
     "cellMetadata": {
      "byteLimit": 2048000,
      "rowLimit": 10000
     },
     "inputWidgets": {},
     "nuid": "557780da-c764-45b2-8506-bb94f816ed53",
     "showTitle": false,
     "title": ""
    }
   },
   "outputs": [],
   "source": [
    "# Select Columns Implicitly\n",
    "races_selected_df = races_df.select(\n",
    "    'raceId',\n",
    "    'year',\n",
    "    'round',\n",
    "    'circuitId',\n",
    "    'name',\n",
    "    'date',\n",
    "    'time'\n",
    ")\n",
    "\n",
    "# Display Data\n",
    "# display(races_selected_df)"
   ]
  },
  {
   "cell_type": "code",
   "execution_count": 0,
   "metadata": {
    "application/vnd.databricks.v1+cell": {
     "cellMetadata": {
      "byteLimit": 2048000,
      "rowLimit": 10000
     },
     "inputWidgets": {},
     "nuid": "79ae75d8-4b0a-4d90-9677-3059c5b1460a",
     "showTitle": false,
     "title": ""
    }
   },
   "outputs": [],
   "source": [
    "# Select Columns Explicilty (Method 1)\n",
    "# races_selected_df = races_df.select(\n",
    "#     races_df.raceId,\n",
    "#     races_df.year,\n",
    "#     races_df.round,\n",
    "#     races_df.circuitId,\n",
    "#     races_df.name,\n",
    "#     races_df.date,\n",
    "#     races_df.time\n",
    "# )\n",
    "\n",
    "# Display Data\n",
    "# display(races_selected_df)"
   ]
  },
  {
   "cell_type": "code",
   "execution_count": 0,
   "metadata": {
    "application/vnd.databricks.v1+cell": {
     "cellMetadata": {
      "byteLimit": 2048000,
      "rowLimit": 10000
     },
     "inputWidgets": {},
     "nuid": "3b7d9eaa-a1dc-401a-a181-b0a5dc2bb889",
     "showTitle": false,
     "title": ""
    }
   },
   "outputs": [],
   "source": [
    "# Select Columns Explicilty (Method 2)\n",
    "# races_selected_df = races_df.select(\n",
    "#     races_df['raceId'],\n",
    "#     races_df['year'],\n",
    "#     races_df['round'],\n",
    "#     races_df['circuitId'],\n",
    "#     races_df['name'],\n",
    "#     races_df['date'],\n",
    "#     races_df['time']\n",
    "# )\n",
    "\n",
    "# Display Data\n",
    "# display(races_selected_df)"
   ]
  },
  {
   "cell_type": "code",
   "execution_count": 0,
   "metadata": {
    "application/vnd.databricks.v1+cell": {
     "cellMetadata": {
      "byteLimit": 2048000,
      "rowLimit": 10000
     },
     "inputWidgets": {},
     "nuid": "b359d811-1c33-402d-a2ba-efc998abccc0",
     "showTitle": false,
     "title": ""
    }
   },
   "outputs": [],
   "source": [
    "# Select Columns Using col Function\n",
    "# Allows Column Aliasing\n",
    "# races_selected_df = races_df.select(\n",
    "#     col('raceId'),\n",
    "#     col('year'),\n",
    "#     col('round'),\n",
    "#     col('circuitId'),\n",
    "#     col('name'),\n",
    "#     col('date'),\n",
    "#     col('time')\n",
    "# )\n",
    "\n",
    "# Display Data\n",
    "# display(races_selected_df)"
   ]
  },
  {
   "cell_type": "markdown",
   "metadata": {
    "application/vnd.databricks.v1+cell": {
     "cellMetadata": {
      "byteLimit": 2048000,
      "rowLimit": 10000
     },
     "inputWidgets": {},
     "nuid": "33396880-5b3e-4e55-bd64-c7c57795a61e",
     "showTitle": false,
     "title": ""
    }
   },
   "source": [
    "### Rename Columns"
   ]
  },
  {
   "cell_type": "code",
   "execution_count": 0,
   "metadata": {
    "application/vnd.databricks.v1+cell": {
     "cellMetadata": {
      "byteLimit": 2048000,
      "rowLimit": 10000
     },
     "inputWidgets": {},
     "nuid": "eaed607d-1edb-4987-a155-9cf245a37354",
     "showTitle": false,
     "title": ""
    }
   },
   "outputs": [],
   "source": [
    "# Rename Columns Using withColumnRenamed\n",
    "races_renamed_df = races_selcted_df \\\n",
    "    .withColumnRenamed('raceId', 'race_id') \\\n",
    "    .withColumnRenamed('year', 'race_year') \\\n",
    "    .withColumnRenamed('circuitId', 'circuit_id')\n",
    "\n",
    "# Display Data\n",
    "# display(races_renamed_df)"
   ]
  },
  {
   "cell_type": "markdown",
   "metadata": {
    "application/vnd.databricks.v1+cell": {
     "cellMetadata": {
      "byteLimit": 2048000,
      "rowLimit": 10000
     },
     "inputWidgets": {},
     "nuid": "4e1d350d-d8ce-43a4-bcef-4a8657584d4a",
     "showTitle": false,
     "title": ""
    }
   },
   "source": [
    "### Add New Column"
   ]
  },
  {
   "cell_type": "code",
   "execution_count": 0,
   "metadata": {
    "application/vnd.databricks.v1+cell": {
     "cellMetadata": {
      "byteLimit": 2048000,
      "rowLimit": 10000
     },
     "inputWidgets": {},
     "nuid": "bc74712f-b4db-48e4-b34b-a27d25749bcf",
     "showTitle": false,
     "title": ""
    }
   },
   "outputs": [],
   "source": [
    "# Add Ingested Date Column w/ Current Timestamp\n",
    "# Add Transformed Race Timestamp Column\n",
    "races_final_df = races_renamed_df \\\n",
    "    .withColumn('race_timestamp', to_timestamp(concat(col('date'), lit(' '), col('time')), 'yyyy-MM-dd HH:mm:ss')) \\\n",
    "    .withColumn('ingestion_date', current_timestamp())\n",
    "\n",
    "# Display Data\n",
    "# display(races_final_df)"
   ]
  },
  {
   "cell_type": "markdown",
   "metadata": {
    "application/vnd.databricks.v1+cell": {
     "cellMetadata": {
      "byteLimit": 2048000,
      "rowLimit": 10000
     },
     "inputWidgets": {},
     "nuid": "12ce187e-5445-4214-94f1-bcaf6c90b0cd",
     "showTitle": false,
     "title": ""
    }
   },
   "source": [
    "### Write DF to File System & Partition"
   ]
  },
  {
   "cell_type": "code",
   "execution_count": 0,
   "metadata": {
    "application/vnd.databricks.v1+cell": {
     "cellMetadata": {
      "byteLimit": 2048000,
      "rowLimit": 10000
     },
     "inputWidgets": {},
     "nuid": "15e7f46e-aca3-4c2b-bb78-d0621f52ab11",
     "showTitle": false,
     "title": ""
    }
   },
   "outputs": [],
   "source": [
    "# Write DataFrame to FileSystem in Parquet Format\n",
    "races_final_df.write \\\n",
    "    .mode('overwrite') \\\n",
    "    .partitionBy('race_year') \\\n",
    "    .parquet(\"abfss://processed@dbcourselakehouse.dfs.core.windows.net/races\")"
   ]
  },
  {
   "cell_type": "code",
   "execution_count": 0,
   "metadata": {
    "application/vnd.databricks.v1+cell": {
     "cellMetadata": {
      "byteLimit": 2048000,
      "rowLimit": 10000
     },
     "inputWidgets": {},
     "nuid": "a3e8daf4-c3f3-4fc2-90b0-f3163d4e9d13",
     "showTitle": false,
     "title": ""
    }
   },
   "outputs": [],
   "source": [
    "# Display File System Contents\n",
    "# %fs\n",
    "\n",
    "# ls \"abfss://processed@dbcourselakehouse.dfs.core.windows.net/races\""
   ]
  },
  {
   "cell_type": "markdown",
   "metadata": {
    "application/vnd.databricks.v1+cell": {
     "cellMetadata": {
      "byteLimit": 2048000,
      "rowLimit": 10000
     },
     "inputWidgets": {},
     "nuid": "aa6f4028-a596-4425-b0c3-36079a98abeb",
     "showTitle": false,
     "title": ""
    }
   },
   "source": [
    "### Read Parquet File from File System"
   ]
  },
  {
   "cell_type": "code",
   "execution_count": 0,
   "metadata": {
    "application/vnd.databricks.v1+cell": {
     "cellMetadata": {
      "byteLimit": 2048000,
      "rowLimit": 10000
     },
     "inputWidgets": {},
     "nuid": "26dfe9ab-7e8e-4d9b-9da9-456da565652d",
     "showTitle": false,
     "title": ""
    }
   },
   "outputs": [],
   "source": [
    "# Read File\n",
    "# df = spark.read.parquet(\"abfss://processed@dbcourselakehouse.dfs.core.windows.net/races\")\n",
    "\n",
    "# Display Data\n",
    "# display(df)"
   ]
  }
 ],
 "metadata": {
  "application/vnd.databricks.v1+notebook": {
   "dashboards": [],
   "language": "python",
   "notebookMetadata": {
    "mostRecentlyExecutedCommandWithImplicitDF": {
     "commandId": -1,
     "dataframes": [
      "_sqldf"
     ]
    },
    "pythonIndentUnit": 4
   },
   "notebookName": "02-Races-CSV",
   "widgets": {}
  }
 },
 "nbformat": 4,
 "nbformat_minor": 0
}
