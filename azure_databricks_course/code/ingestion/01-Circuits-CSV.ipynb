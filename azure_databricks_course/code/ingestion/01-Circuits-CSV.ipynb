{
 "cells": [
  {
   "attachments": {},
   "cell_type": "markdown",
   "metadata": {
    "application/vnd.databricks.v1+cell": {
     "cellMetadata": {
      "byteLimit": 2048000,
      "rowLimit": 10000
     },
     "inputWidgets": {},
     "nuid": "0635c355-60a9-4bf6-8e35-4878e03e4c55",
     "showTitle": false,
     "title": ""
    }
   },
   "source": [
    "# Ingest Circuits CSV File\n",
    "1. Read Data\n",
    "2. Transform Data\n",
    "3. Write Data"
   ]
  },
  {
   "cell_type": "code",
   "execution_count": null,
   "metadata": {
    "application/vnd.databricks.v1+cell": {
     "cellMetadata": {
      "byteLimit": 2048000,
      "rowLimit": 10000
     },
     "inputWidgets": {},
     "nuid": "06d7c522-8719-4a18-aa57-f340fe8973ec",
     "showTitle": false,
     "title": ""
    }
   },
   "outputs": [],
   "source": [
    "# Import Modules\n",
    "from pyspark.sql.functions import col, lit, current_timestamp\n",
    "from pyspark.sql.types import StructType, StructField, IntegerType, StringType, DoubleType"
   ]
  },
  {
   "cell_type": "code",
   "execution_count": null,
   "metadata": {
    "application/vnd.databricks.v1+cell": {
     "cellMetadata": {
      "byteLimit": 2048000,
      "rowLimit": 10000
     },
     "inputWidgets": {},
     "nuid": "28ce582f-5cb4-4f43-ad81-586c75becaca",
     "showTitle": false,
     "title": ""
    }
   },
   "outputs": [],
   "source": [
    "%run \"../01-Setup/09-Global-Variables\""
   ]
  },
  {
   "cell_type": "code",
   "execution_count": null,
   "metadata": {
    "application/vnd.databricks.v1+cell": {
     "cellMetadata": {
      "byteLimit": 2048000,
      "rowLimit": 10000
     },
     "inputWidgets": {},
     "nuid": "027a9821-22ad-42a7-9af5-fe95a1f0b177",
     "showTitle": false,
     "title": ""
    }
   },
   "outputs": [],
   "source": [
    "%run \"../01-Setup/10-Global-Functions\""
   ]
  },
  {
   "cell_type": "code",
   "execution_count": null,
   "metadata": {
    "application/vnd.databricks.v1+cell": {
     "cellMetadata": {
      "byteLimit": 2048000,
      "rowLimit": 10000
     },
     "inputWidgets": {},
     "nuid": "8b32aded-5c09-40c7-a984-bd215b5ad98c",
     "showTitle": false,
     "title": ""
    }
   },
   "outputs": [],
   "source": [
    "# print(raw_folder_path)\n",
    "# print(processed_folder_path)\n",
    "# print(curated_folder_path)"
   ]
  },
  {
   "attachments": {},
   "cell_type": "markdown",
   "metadata": {
    "application/vnd.databricks.v1+cell": {
     "cellMetadata": {
      "byteLimit": 2048000,
      "rowLimit": 10000
     },
     "inputWidgets": {},
     "nuid": "a07f2f89-2bbc-4ed6-ad59-46a57b22c52f",
     "showTitle": false,
     "title": ""
    }
   },
   "source": [
    "### Read Data"
   ]
  },
  {
   "cell_type": "code",
   "execution_count": null,
   "metadata": {
    "application/vnd.databricks.v1+cell": {
     "cellMetadata": {
      "byteLimit": 2048000,
      "rowLimit": 10000
     },
     "inputWidgets": {},
     "nuid": "cea9bdf8-bed2-4b62-b137-5f2f65a5702e",
     "showTitle": false,
     "title": ""
    }
   },
   "outputs": [],
   "source": [
    "# Read CSV File Using Spark DataFrame Reader API\n",
    "# circuits_df = spark.read.option('header', True).csv(\"abfss://raw@dbcourselakehouse.dfs.core.windows.net/circuits.csv\")"
   ]
  },
  {
   "cell_type": "code",
   "execution_count": null,
   "metadata": {
    "application/vnd.databricks.v1+cell": {
     "cellMetadata": {
      "byteLimit": 2048000,
      "rowLimit": 10000
     },
     "inputWidgets": {},
     "nuid": "59e8fc2b-4a55-4079-8176-613939f54fc6",
     "showTitle": false,
     "title": ""
    }
   },
   "outputs": [],
   "source": [
    "# Display Data Using Show Method\n",
    "# circuits_df.show(n = 10)\n",
    "\n",
    "# Display Data in Table Format\n",
    "# display(circuits_df)"
   ]
  },
  {
   "cell_type": "code",
   "execution_count": null,
   "metadata": {
    "application/vnd.databricks.v1+cell": {
     "cellMetadata": {
      "byteLimit": 2048000,
      "rowLimit": 10000
     },
     "inputWidgets": {},
     "nuid": "886024ae-ff36-42e0-ba31-71535b6bc1e6",
     "showTitle": false,
     "title": ""
    }
   },
   "outputs": [
    {
     "data": {
      "text/html": [
       "<style scoped>\n",
       "  .table-result-container {\n",
       "    max-height: 300px;\n",
       "    overflow: auto;\n",
       "  }\n",
       "  table, th, td {\n",
       "    border: 1px solid black;\n",
       "    border-collapse: collapse;\n",
       "  }\n",
       "  th, td {\n",
       "    padding: 5px;\n",
       "  }\n",
       "  th {\n",
       "    text-align: left;\n",
       "  }\n",
       "</style><div class='table-result-container'><table class='table-result'><thead style='background-color: white'><tr><th>circuitId</th><th>circuitRef</th><th>name</th><th>location</th><th>country</th><th>lat</th><th>lng</th><th>alt</th><th>url</th></tr></thead><tbody><tr><td>1</td><td>albert_park</td><td>Albert Park Grand Prix Circuit</td><td>Melbourne</td><td>Australia</td><td>-37.8497</td><td>144.968</td><td>10</td><td>http://en.wikipedia.org/wiki/Melbourne_Grand_Prix_Circuit</td></tr><tr><td>2</td><td>sepang</td><td>Sepang International Circuit</td><td>Kuala Lumpur</td><td>Malaysia</td><td>2.76083</td><td>101.738</td><td>18</td><td>http://en.wikipedia.org/wiki/Sepang_International_Circuit</td></tr><tr><td>3</td><td>bahrain</td><td>Bahrain International Circuit</td><td>Sakhir</td><td>Bahrain</td><td>26.0325</td><td>50.5106</td><td>7</td><td>http://en.wikipedia.org/wiki/Bahrain_International_Circuit</td></tr><tr><td>4</td><td>catalunya</td><td>Circuit de Barcelona-Catalunya</td><td>Montmeló</td><td>Spain</td><td>41.57</td><td>2.26111</td><td>109</td><td>http://en.wikipedia.org/wiki/Circuit_de_Barcelona-Catalunya</td></tr><tr><td>5</td><td>istanbul</td><td>Istanbul Park</td><td>Istanbul</td><td>Turkey</td><td>40.9517</td><td>29.405</td><td>130</td><td>http://en.wikipedia.org/wiki/Istanbul_Park</td></tr><tr><td>6</td><td>monaco</td><td>Circuit de Monaco</td><td>Monte-Carlo</td><td>Monaco</td><td>43.7347</td><td>7.42056</td><td>7</td><td>http://en.wikipedia.org/wiki/Circuit_de_Monaco</td></tr><tr><td>7</td><td>villeneuve</td><td>Circuit Gilles Villeneuve</td><td>Montreal</td><td>Canada</td><td>45.5</td><td>-73.5228</td><td>13</td><td>http://en.wikipedia.org/wiki/Circuit_Gilles_Villeneuve</td></tr><tr><td>8</td><td>magny_cours</td><td>Circuit de Nevers Magny-Cours</td><td>Magny Cours</td><td>France</td><td>46.8642</td><td>3.16361</td><td>228</td><td>http://en.wikipedia.org/wiki/Circuit_de_Nevers_Magny-Cours</td></tr><tr><td>9</td><td>silverstone</td><td>Silverstone Circuit</td><td>Silverstone</td><td>UK</td><td>52.0786</td><td>-1.01694</td><td>153</td><td>http://en.wikipedia.org/wiki/Silverstone_Circuit</td></tr><tr><td>10</td><td>hockenheimring</td><td>Hockenheimring</td><td>Hockenheim</td><td>Germany</td><td>49.3278</td><td>8.56583</td><td>103</td><td>http://en.wikipedia.org/wiki/Hockenheimring</td></tr><tr><td>11</td><td>hungaroring</td><td>Hungaroring</td><td>Budapest</td><td>Hungary</td><td>47.5789</td><td>19.2486</td><td>264</td><td>http://en.wikipedia.org/wiki/Hungaroring</td></tr><tr><td>12</td><td>valencia</td><td>Valencia Street Circuit</td><td>Valencia</td><td>Spain</td><td>39.4589</td><td>-0.331667</td><td>4</td><td>http://en.wikipedia.org/wiki/Valencia_Street_Circuit</td></tr><tr><td>13</td><td>spa</td><td>Circuit de Spa-Francorchamps</td><td>Spa</td><td>Belgium</td><td>50.4372</td><td>5.97139</td><td>401</td><td>http://en.wikipedia.org/wiki/Circuit_de_Spa-Francorchamps</td></tr><tr><td>14</td><td>monza</td><td>Autodromo Nazionale di Monza</td><td>Monza</td><td>Italy</td><td>45.6156</td><td>9.28111</td><td>162</td><td>http://en.wikipedia.org/wiki/Autodromo_Nazionale_Monza</td></tr><tr><td>15</td><td>marina_bay</td><td>Marina Bay Street Circuit</td><td>Marina Bay</td><td>Singapore</td><td>1.2914</td><td>103.864</td><td>18</td><td>http://en.wikipedia.org/wiki/Marina_Bay_Street_Circuit</td></tr><tr><td>16</td><td>fuji</td><td>Fuji Speedway</td><td>Oyama</td><td>Japan</td><td>35.3717</td><td>138.927</td><td>583</td><td>http://en.wikipedia.org/wiki/Fuji_Speedway</td></tr><tr><td>17</td><td>shanghai</td><td>Shanghai International Circuit</td><td>Shanghai</td><td>China</td><td>31.3389</td><td>121.22</td><td>5</td><td>http://en.wikipedia.org/wiki/Shanghai_International_Circuit</td></tr><tr><td>18</td><td>interlagos</td><td>Autódromo José Carlos Pace</td><td>São Paulo</td><td>Brazil</td><td>-23.7036</td><td>-46.6997</td><td>785</td><td>http://en.wikipedia.org/wiki/Aut%C3%B3dromo_Jos%C3%A9_Carlos_Pace</td></tr><tr><td>19</td><td>indianapolis</td><td>Indianapolis Motor Speedway</td><td>Indianapolis</td><td>USA</td><td>39.795</td><td>-86.2347</td><td>223</td><td>http://en.wikipedia.org/wiki/Indianapolis_Motor_Speedway</td></tr><tr><td>20</td><td>nurburgring</td><td>Nürburgring</td><td>Nürburg</td><td>Germany</td><td>50.3356</td><td>6.9475</td><td>578</td><td>http://en.wikipedia.org/wiki/N%C3%BCrburgring</td></tr><tr><td>21</td><td>imola</td><td>Autodromo Enzo e Dino Ferrari</td><td>Imola</td><td>Italy</td><td>44.3439</td><td>11.7167</td><td>37</td><td>http://en.wikipedia.org/wiki/Autodromo_Enzo_e_Dino_Ferrari</td></tr><tr><td>22</td><td>suzuka</td><td>Suzuka Circuit</td><td>Suzuka</td><td>Japan</td><td>34.8431</td><td>136.541</td><td>45</td><td>http://en.wikipedia.org/wiki/Suzuka_Circuit</td></tr><tr><td>23</td><td>osterreichring</td><td>A1-Ring</td><td>Spielburg</td><td>Austria</td><td>47.2197</td><td>14.7647</td><td>678</td><td>http://en.wikipedia.org/wiki/A1-Ring</td></tr><tr><td>24</td><td>yas_marina</td><td>Yas Marina Circuit</td><td>Abu Dhabi</td><td>UAE</td><td>24.4672</td><td>54.6031</td><td>3</td><td>http://en.wikipedia.org/wiki/Yas_Marina_Circuit</td></tr><tr><td>25</td><td>galvez</td><td>Autódromo Juan y Oscar Gálvez</td><td>Buenos Aires</td><td>Argentina</td><td>-34.6943</td><td>-58.4593</td><td>8</td><td>http://en.wikipedia.org/wiki/Aut%C3%B3dromo_Oscar_Alfredo_G%C3%A1lvez</td></tr><tr><td>26</td><td>jerez</td><td>Circuito de Jerez</td><td>Jerez de la Frontera</td><td>Spain</td><td>36.7083</td><td>-6.03417</td><td>37</td><td>http://en.wikipedia.org/wiki/Circuito_Permanente_de_Jerez</td></tr><tr><td>27</td><td>estoril</td><td>Autódromo do Estoril</td><td>Estoril</td><td>Portugal</td><td>38.7506</td><td>-9.39417</td><td>130</td><td>http://en.wikipedia.org/wiki/Aut%C3%B3dromo_do_Estoril</td></tr><tr><td>28</td><td>okayama</td><td>Okayama International Circuit</td><td>Okayama</td><td>Japan</td><td>34.915</td><td>134.221</td><td>266</td><td>http://en.wikipedia.org/wiki/TI_Circuit</td></tr><tr><td>29</td><td>adelaide</td><td>Adelaide Street Circuit</td><td>Adelaide</td><td>Australia</td><td>-34.9272</td><td>138.617</td><td>58</td><td>http://en.wikipedia.org/wiki/Adelaide_Street_Circuit</td></tr><tr><td>30</td><td>kyalami</td><td>Kyalami</td><td>Midrand</td><td>South Africa</td><td>-25.9894</td><td>28.0767</td><td>1460</td><td>http://en.wikipedia.org/wiki/Kyalami</td></tr><tr><td>31</td><td>donington</td><td>Donington Park</td><td>Castle Donington</td><td>UK</td><td>52.8306</td><td>-1.37528</td><td>88</td><td>http://en.wikipedia.org/wiki/Donington_Park</td></tr><tr><td>32</td><td>rodriguez</td><td>Autódromo Hermanos Rodríguez</td><td>Mexico City</td><td>Mexico</td><td>19.4042</td><td>-99.0907</td><td>2227</td><td>http://en.wikipedia.org/wiki/Aut%C3%B3dromo_Hermanos_Rodr%C3%ADguez</td></tr><tr><td>33</td><td>phoenix</td><td>Phoenix street circuit</td><td>Phoenix</td><td>USA</td><td>33.4479</td><td>-112.075</td><td>345</td><td>http://en.wikipedia.org/wiki/Phoenix_street_circuit</td></tr><tr><td>34</td><td>ricard</td><td>Circuit Paul Ricard</td><td>Le Castellet</td><td>France</td><td>43.2506</td><td>5.79167</td><td>432</td><td>http://en.wikipedia.org/wiki/Paul_Ricard_Circuit</td></tr><tr><td>35</td><td>yeongam</td><td>Korean International Circuit</td><td>Yeongam County</td><td>Korea</td><td>34.7333</td><td>126.417</td><td>0</td><td>http://en.wikipedia.org/wiki/Korean_International_Circuit</td></tr><tr><td>36</td><td>jacarepagua</td><td>Autódromo Internacional Nelson Piquet</td><td>Rio de Janeiro</td><td>Brazil</td><td>-22.9756</td><td>-43.395</td><td>1126</td><td>http://en.wikipedia.org/wiki/Aut%C3%B3dromo_Internacional_Nelson_Piquet</td></tr><tr><td>37</td><td>detroit</td><td>Detroit Street Circuit</td><td>Detroit</td><td>USA</td><td>42.3298</td><td>-83.0401</td><td>177</td><td>http://en.wikipedia.org/wiki/Detroit_street_circuit</td></tr><tr><td>38</td><td>brands_hatch</td><td>Brands Hatch</td><td>Kent</td><td>UK</td><td>51.3569</td><td>0.263056</td><td>145</td><td>http://en.wikipedia.org/wiki/Brands_Hatch</td></tr><tr><td>39</td><td>zandvoort</td><td>Circuit Park Zandvoort</td><td>Zandvoort</td><td>Netherlands</td><td>52.3888</td><td>4.54092</td><td>6</td><td>http://en.wikipedia.org/wiki/Circuit_Zandvoort</td></tr><tr><td>40</td><td>zolder</td><td>Zolder</td><td>Heusden-Zolder</td><td>Belgium</td><td>50.9894</td><td>5.25694</td><td>36</td><td>http://en.wikipedia.org/wiki/Zolder</td></tr><tr><td>41</td><td>dijon</td><td>Dijon-Prenois</td><td>Dijon</td><td>France</td><td>47.3625</td><td>4.89913</td><td>484</td><td>http://en.wikipedia.org/wiki/Dijon-Prenois</td></tr><tr><td>42</td><td>dallas</td><td>Fair Park</td><td>Dallas</td><td>USA</td><td>32.7774</td><td>-96.7587</td><td>139</td><td>http://en.wikipedia.org/wiki/Fair_Park</td></tr><tr><td>43</td><td>long_beach</td><td>Long Beach</td><td>California</td><td>USA</td><td>33.7651</td><td>-118.189</td><td>12</td><td>http://en.wikipedia.org/wiki/Long_Beach,_California</td></tr><tr><td>44</td><td>las_vegas</td><td>Las Vegas Street Circuit</td><td>Nevada</td><td>USA</td><td>36.1162</td><td>-115.174</td><td>639</td><td>http://en.wikipedia.org/wiki/Las_Vegas,_Nevada</td></tr><tr><td>45</td><td>jarama</td><td>Jarama</td><td>Madrid</td><td>Spain</td><td>40.6171</td><td>-3.58558</td><td>609</td><td>http://en.wikipedia.org/wiki/Circuito_Permanente_Del_Jarama</td></tr><tr><td>46</td><td>watkins_glen</td><td>Watkins Glen</td><td>New York State</td><td>USA</td><td>42.3369</td><td>-76.9272</td><td>485</td><td>http://en.wikipedia.org/wiki/Watkins_Glen_International</td></tr><tr><td>47</td><td>anderstorp</td><td>Scandinavian Raceway</td><td>Anderstorp</td><td>Sweden</td><td>57.2653</td><td>13.6042</td><td>153</td><td>http://en.wikipedia.org/wiki/Scandinavian_Raceway</td></tr><tr><td>48</td><td>mosport</td><td>Mosport International Raceway</td><td>Ontario</td><td>Canada</td><td>44.0481</td><td>-78.6756</td><td>332</td><td>http://en.wikipedia.org/wiki/Mosport</td></tr><tr><td>49</td><td>montjuic</td><td>Montjuïc</td><td>Barcelona</td><td>Spain</td><td>41.3664</td><td>2.15167</td><td>79</td><td>http://en.wikipedia.org/wiki/Montju%C3%AFc_circuit</td></tr><tr><td>50</td><td>nivelles</td><td>Nivelles-Baulers</td><td>Brussels</td><td>Belgium</td><td>50.6211</td><td>4.32694</td><td>139</td><td>http://en.wikipedia.org/wiki/Nivelles-Baulers</td></tr><tr><td>51</td><td>charade</td><td>Charade Circuit</td><td>Clermont-Ferrand</td><td>France</td><td>45.7472</td><td>3.03889</td><td>790</td><td>http://en.wikipedia.org/wiki/Charade_Circuit</td></tr><tr><td>52</td><td>tremblant</td><td>Circuit Mont-Tremblant</td><td>Quebec</td><td>Canada</td><td>46.1877</td><td>-74.6099</td><td>214</td><td>http://en.wikipedia.org/wiki/Circuit_Mont-Tremblant</td></tr><tr><td>53</td><td>essarts</td><td>Rouen-Les-Essarts</td><td>Rouen</td><td>France</td><td>49.3306</td><td>1.00458</td><td>81</td><td>http://en.wikipedia.org/wiki/Rouen-Les-Essarts</td></tr><tr><td>54</td><td>lemans</td><td>Le Mans</td><td>Le Mans</td><td>France</td><td>47.95</td><td>0.224231</td><td>67</td><td>http://en.wikipedia.org/wiki/Circuit_de_la_Sarthe#Bugatti_Circuit</td></tr><tr><td>55</td><td>reims</td><td>Reims-Gueux</td><td>Reims</td><td>France</td><td>49.2542</td><td>3.93083</td><td>88</td><td>http://en.wikipedia.org/wiki/Reims-Gueux</td></tr><tr><td>56</td><td>george</td><td>Prince George Circuit</td><td>Eastern Cape Province</td><td>South Africa</td><td>-33.0486</td><td>27.8736</td><td>15</td><td>http://en.wikipedia.org/wiki/Prince_George_Circuit</td></tr><tr><td>57</td><td>zeltweg</td><td>Zeltweg</td><td>Styria</td><td>Austria</td><td>47.2039</td><td>14.7478</td><td>676</td><td>http://en.wikipedia.org/wiki/Zeltweg_Airfield</td></tr><tr><td>58</td><td>aintree</td><td>Aintree</td><td>Liverpool</td><td>UK</td><td>53.4769</td><td>-2.94056</td><td>20</td><td>http://en.wikipedia.org/wiki/Aintree_Motor_Racing_Circuit</td></tr><tr><td>59</td><td>boavista</td><td>Circuito da Boavista</td><td>Oporto</td><td>Portugal</td><td>41.1705</td><td>-8.67325</td><td>28</td><td>http://en.wikipedia.org/wiki/Circuito_da_Boavista</td></tr><tr><td>60</td><td>riverside</td><td>Riverside International Raceway</td><td>California</td><td>USA</td><td>33.937</td><td>-117.273</td><td>470</td><td>http://en.wikipedia.org/wiki/Riverside_International_Raceway</td></tr><tr><td>61</td><td>avus</td><td>AVUS</td><td>Berlin</td><td>Germany</td><td>52.4806</td><td>13.2514</td><td>53</td><td>http://en.wikipedia.org/wiki/AVUS</td></tr><tr><td>62</td><td>monsanto</td><td>Monsanto Park Circuit</td><td>Lisbon</td><td>Portugal</td><td>38.7197</td><td>-9.20306</td><td>158</td><td>http://en.wikipedia.org/wiki/Monsanto_Park_Circuit</td></tr><tr><td>63</td><td>sebring</td><td>Sebring International Raceway</td><td>Florida</td><td>USA</td><td>27.4547</td><td>-81.3483</td><td>18</td><td>http://en.wikipedia.org/wiki/Sebring_Raceway</td></tr><tr><td>64</td><td>ain-diab</td><td>Ain Diab</td><td>Casablanca</td><td>Morocco</td><td>33.5786</td><td>-7.6875</td><td>19</td><td>http://en.wikipedia.org/wiki/Ain-Diab_Circuit</td></tr><tr><td>65</td><td>pescara</td><td>Pescara Circuit</td><td>Pescara</td><td>Italy</td><td>42.475</td><td>14.1508</td><td>129</td><td>http://en.wikipedia.org/wiki/Pescara_Circuit</td></tr><tr><td>66</td><td>bremgarten</td><td>Circuit Bremgarten</td><td>Bern</td><td>Switzerland</td><td>46.9589</td><td>7.40194</td><td>551</td><td>http://en.wikipedia.org/wiki/Circuit_Bremgarten</td></tr><tr><td>67</td><td>pedralbes</td><td>Circuit de Pedralbes</td><td>Barcelona</td><td>Spain</td><td>41.3903</td><td>2.11667</td><td>85</td><td>http://en.wikipedia.org/wiki/Pedralbes_Circuit</td></tr><tr><td>68</td><td>buddh</td><td>Buddh International Circuit</td><td>Uttar Pradesh</td><td>India</td><td>28.3487</td><td>77.5331</td><td>194</td><td>http://en.wikipedia.org/wiki/Buddh_International_Circuit</td></tr><tr><td>69</td><td>americas</td><td>Circuit of the Americas</td><td>Austin</td><td>USA</td><td>30.1328</td><td>-97.6411</td><td>161</td><td>http://en.wikipedia.org/wiki/Circuit_of_the_Americas</td></tr><tr><td>70</td><td>red_bull_ring</td><td>Red Bull Ring</td><td>Spielburg</td><td>Austria</td><td>47.2197</td><td>14.7647</td><td>678</td><td>http://en.wikipedia.org/wiki/Red_Bull_Ring</td></tr><tr><td>71</td><td>sochi</td><td>Sochi Autodrom</td><td>Sochi</td><td>Russia</td><td>43.4057</td><td>39.9578</td><td>2</td><td>http://en.wikipedia.org/wiki/Sochi_Autodrom</td></tr><tr><td>72</td><td>port_imperial</td><td>Port Imperial Street Circuit</td><td>New Jersey</td><td>USA</td><td>40.7769</td><td>-74.0111</td><td>4</td><td>http://en.wikipedia.org/wiki/Port_Imperial_Street_Circuit</td></tr><tr><td>73</td><td>BAK</td><td>Baku City Circuit</td><td>Baku</td><td>Azerbaijan</td><td>40.3725</td><td>49.8533</td><td>-7</td><td>http://en.wikipedia.org/wiki/Baku_City_Circuit</td></tr><tr><td>74</td><td>hanoi</td><td>Hanoi Street Circuit</td><td>Hanoi</td><td>Vietnam</td><td>21.0166</td><td>105.766</td><td>9</td><td>http://en.wikipedia.org/wiki/Hanoi_Street_Circuit</td></tr><tr><td>75</td><td>portimao</td><td>Autódromo Internacional do Algarve</td><td>Portimão</td><td>Portugal</td><td>37.227</td><td>-8.6267</td><td>108</td><td>http://en.wikipedia.org/wiki/Algarve_International_Circuit</td></tr><tr><td>76</td><td>mugello</td><td>Autodromo Internazionale del Mugello</td><td>Mugello</td><td>Italy</td><td>43.9975</td><td>11.3719</td><td>255</td><td>http://en.wikipedia.org/wiki/Mugello_Circuit</td></tr><tr><td>77</td><td>jeddah</td><td>Jeddah Street Circuit</td><td>Jeddah</td><td>Saudi Arabia</td><td>21.5433</td><td>39.1728</td><td>15</td><td>http://en.wikipedia.org/wiki/Jeddah_Street_Circuit</td></tr></tbody></table></div>"
      ]
     },
     "metadata": {
      "application/vnd.databricks.v1+output": {
       "addedWidgets": {},
       "aggData": [],
       "aggError": "",
       "aggOverflow": false,
       "aggSchema": [],
       "aggSeriesLimitReached": false,
       "aggType": "",
       "arguments": {},
       "columnCustomDisplayInfos": {},
       "data": [
        [
         1,
         "albert_park",
         "Albert Park Grand Prix Circuit",
         "Melbourne",
         "Australia",
         -37.8497,
         144.968,
         10,
         "http://en.wikipedia.org/wiki/Melbourne_Grand_Prix_Circuit"
        ],
        [
         2,
         "sepang",
         "Sepang International Circuit",
         "Kuala Lumpur",
         "Malaysia",
         2.76083,
         101.738,
         18,
         "http://en.wikipedia.org/wiki/Sepang_International_Circuit"
        ],
        [
         3,
         "bahrain",
         "Bahrain International Circuit",
         "Sakhir",
         "Bahrain",
         26.0325,
         50.5106,
         7,
         "http://en.wikipedia.org/wiki/Bahrain_International_Circuit"
        ],
        [
         4,
         "catalunya",
         "Circuit de Barcelona-Catalunya",
         "Montmeló",
         "Spain",
         41.57,
         2.26111,
         109,
         "http://en.wikipedia.org/wiki/Circuit_de_Barcelona-Catalunya"
        ],
        [
         5,
         "istanbul",
         "Istanbul Park",
         "Istanbul",
         "Turkey",
         40.9517,
         29.405,
         130,
         "http://en.wikipedia.org/wiki/Istanbul_Park"
        ],
        [
         6,
         "monaco",
         "Circuit de Monaco",
         "Monte-Carlo",
         "Monaco",
         43.7347,
         7.42056,
         7,
         "http://en.wikipedia.org/wiki/Circuit_de_Monaco"
        ],
        [
         7,
         "villeneuve",
         "Circuit Gilles Villeneuve",
         "Montreal",
         "Canada",
         45.5,
         -73.5228,
         13,
         "http://en.wikipedia.org/wiki/Circuit_Gilles_Villeneuve"
        ],
        [
         8,
         "magny_cours",
         "Circuit de Nevers Magny-Cours",
         "Magny Cours",
         "France",
         46.8642,
         3.16361,
         228,
         "http://en.wikipedia.org/wiki/Circuit_de_Nevers_Magny-Cours"
        ],
        [
         9,
         "silverstone",
         "Silverstone Circuit",
         "Silverstone",
         "UK",
         52.0786,
         -1.01694,
         153,
         "http://en.wikipedia.org/wiki/Silverstone_Circuit"
        ],
        [
         10,
         "hockenheimring",
         "Hockenheimring",
         "Hockenheim",
         "Germany",
         49.3278,
         8.56583,
         103,
         "http://en.wikipedia.org/wiki/Hockenheimring"
        ],
        [
         11,
         "hungaroring",
         "Hungaroring",
         "Budapest",
         "Hungary",
         47.5789,
         19.2486,
         264,
         "http://en.wikipedia.org/wiki/Hungaroring"
        ],
        [
         12,
         "valencia",
         "Valencia Street Circuit",
         "Valencia",
         "Spain",
         39.4589,
         -0.331667,
         4,
         "http://en.wikipedia.org/wiki/Valencia_Street_Circuit"
        ],
        [
         13,
         "spa",
         "Circuit de Spa-Francorchamps",
         "Spa",
         "Belgium",
         50.4372,
         5.97139,
         401,
         "http://en.wikipedia.org/wiki/Circuit_de_Spa-Francorchamps"
        ],
        [
         14,
         "monza",
         "Autodromo Nazionale di Monza",
         "Monza",
         "Italy",
         45.6156,
         9.28111,
         162,
         "http://en.wikipedia.org/wiki/Autodromo_Nazionale_Monza"
        ],
        [
         15,
         "marina_bay",
         "Marina Bay Street Circuit",
         "Marina Bay",
         "Singapore",
         1.2914,
         103.864,
         18,
         "http://en.wikipedia.org/wiki/Marina_Bay_Street_Circuit"
        ],
        [
         16,
         "fuji",
         "Fuji Speedway",
         "Oyama",
         "Japan",
         35.3717,
         138.927,
         583,
         "http://en.wikipedia.org/wiki/Fuji_Speedway"
        ],
        [
         17,
         "shanghai",
         "Shanghai International Circuit",
         "Shanghai",
         "China",
         31.3389,
         121.22,
         5,
         "http://en.wikipedia.org/wiki/Shanghai_International_Circuit"
        ],
        [
         18,
         "interlagos",
         "Autódromo José Carlos Pace",
         "São Paulo",
         "Brazil",
         -23.7036,
         -46.6997,
         785,
         "http://en.wikipedia.org/wiki/Aut%C3%B3dromo_Jos%C3%A9_Carlos_Pace"
        ],
        [
         19,
         "indianapolis",
         "Indianapolis Motor Speedway",
         "Indianapolis",
         "USA",
         39.795,
         -86.2347,
         223,
         "http://en.wikipedia.org/wiki/Indianapolis_Motor_Speedway"
        ],
        [
         20,
         "nurburgring",
         "Nürburgring",
         "Nürburg",
         "Germany",
         50.3356,
         6.9475,
         578,
         "http://en.wikipedia.org/wiki/N%C3%BCrburgring"
        ],
        [
         21,
         "imola",
         "Autodromo Enzo e Dino Ferrari",
         "Imola",
         "Italy",
         44.3439,
         11.7167,
         37,
         "http://en.wikipedia.org/wiki/Autodromo_Enzo_e_Dino_Ferrari"
        ],
        [
         22,
         "suzuka",
         "Suzuka Circuit",
         "Suzuka",
         "Japan",
         34.8431,
         136.541,
         45,
         "http://en.wikipedia.org/wiki/Suzuka_Circuit"
        ],
        [
         23,
         "osterreichring",
         "A1-Ring",
         "Spielburg",
         "Austria",
         47.2197,
         14.7647,
         678,
         "http://en.wikipedia.org/wiki/A1-Ring"
        ],
        [
         24,
         "yas_marina",
         "Yas Marina Circuit",
         "Abu Dhabi",
         "UAE",
         24.4672,
         54.6031,
         3,
         "http://en.wikipedia.org/wiki/Yas_Marina_Circuit"
        ],
        [
         25,
         "galvez",
         "Autódromo Juan y Oscar Gálvez",
         "Buenos Aires",
         "Argentina",
         -34.6943,
         -58.4593,
         8,
         "http://en.wikipedia.org/wiki/Aut%C3%B3dromo_Oscar_Alfredo_G%C3%A1lvez"
        ],
        [
         26,
         "jerez",
         "Circuito de Jerez",
         "Jerez de la Frontera",
         "Spain",
         36.7083,
         -6.03417,
         37,
         "http://en.wikipedia.org/wiki/Circuito_Permanente_de_Jerez"
        ],
        [
         27,
         "estoril",
         "Autódromo do Estoril",
         "Estoril",
         "Portugal",
         38.7506,
         -9.39417,
         130,
         "http://en.wikipedia.org/wiki/Aut%C3%B3dromo_do_Estoril"
        ],
        [
         28,
         "okayama",
         "Okayama International Circuit",
         "Okayama",
         "Japan",
         34.915,
         134.221,
         266,
         "http://en.wikipedia.org/wiki/TI_Circuit"
        ],
        [
         29,
         "adelaide",
         "Adelaide Street Circuit",
         "Adelaide",
         "Australia",
         -34.9272,
         138.617,
         58,
         "http://en.wikipedia.org/wiki/Adelaide_Street_Circuit"
        ],
        [
         30,
         "kyalami",
         "Kyalami",
         "Midrand",
         "South Africa",
         -25.9894,
         28.0767,
         1460,
         "http://en.wikipedia.org/wiki/Kyalami"
        ],
        [
         31,
         "donington",
         "Donington Park",
         "Castle Donington",
         "UK",
         52.8306,
         -1.37528,
         88,
         "http://en.wikipedia.org/wiki/Donington_Park"
        ],
        [
         32,
         "rodriguez",
         "Autódromo Hermanos Rodríguez",
         "Mexico City",
         "Mexico",
         19.4042,
         -99.0907,
         2227,
         "http://en.wikipedia.org/wiki/Aut%C3%B3dromo_Hermanos_Rodr%C3%ADguez"
        ],
        [
         33,
         "phoenix",
         "Phoenix street circuit",
         "Phoenix",
         "USA",
         33.4479,
         -112.075,
         345,
         "http://en.wikipedia.org/wiki/Phoenix_street_circuit"
        ],
        [
         34,
         "ricard",
         "Circuit Paul Ricard",
         "Le Castellet",
         "France",
         43.2506,
         5.79167,
         432,
         "http://en.wikipedia.org/wiki/Paul_Ricard_Circuit"
        ],
        [
         35,
         "yeongam",
         "Korean International Circuit",
         "Yeongam County",
         "Korea",
         34.7333,
         126.417,
         0,
         "http://en.wikipedia.org/wiki/Korean_International_Circuit"
        ],
        [
         36,
         "jacarepagua",
         "Autódromo Internacional Nelson Piquet",
         "Rio de Janeiro",
         "Brazil",
         -22.9756,
         -43.395,
         1126,
         "http://en.wikipedia.org/wiki/Aut%C3%B3dromo_Internacional_Nelson_Piquet"
        ],
        [
         37,
         "detroit",
         "Detroit Street Circuit",
         "Detroit",
         "USA",
         42.3298,
         -83.0401,
         177,
         "http://en.wikipedia.org/wiki/Detroit_street_circuit"
        ],
        [
         38,
         "brands_hatch",
         "Brands Hatch",
         "Kent",
         "UK",
         51.3569,
         0.263056,
         145,
         "http://en.wikipedia.org/wiki/Brands_Hatch"
        ],
        [
         39,
         "zandvoort",
         "Circuit Park Zandvoort",
         "Zandvoort",
         "Netherlands",
         52.3888,
         4.54092,
         6,
         "http://en.wikipedia.org/wiki/Circuit_Zandvoort"
        ],
        [
         40,
         "zolder",
         "Zolder",
         "Heusden-Zolder",
         "Belgium",
         50.9894,
         5.25694,
         36,
         "http://en.wikipedia.org/wiki/Zolder"
        ],
        [
         41,
         "dijon",
         "Dijon-Prenois",
         "Dijon",
         "France",
         47.3625,
         4.89913,
         484,
         "http://en.wikipedia.org/wiki/Dijon-Prenois"
        ],
        [
         42,
         "dallas",
         "Fair Park",
         "Dallas",
         "USA",
         32.7774,
         -96.7587,
         139,
         "http://en.wikipedia.org/wiki/Fair_Park"
        ],
        [
         43,
         "long_beach",
         "Long Beach",
         "California",
         "USA",
         33.7651,
         -118.189,
         12,
         "http://en.wikipedia.org/wiki/Long_Beach,_California"
        ],
        [
         44,
         "las_vegas",
         "Las Vegas Street Circuit",
         "Nevada",
         "USA",
         36.1162,
         -115.174,
         639,
         "http://en.wikipedia.org/wiki/Las_Vegas,_Nevada"
        ],
        [
         45,
         "jarama",
         "Jarama",
         "Madrid",
         "Spain",
         40.6171,
         -3.58558,
         609,
         "http://en.wikipedia.org/wiki/Circuito_Permanente_Del_Jarama"
        ],
        [
         46,
         "watkins_glen",
         "Watkins Glen",
         "New York State",
         "USA",
         42.3369,
         -76.9272,
         485,
         "http://en.wikipedia.org/wiki/Watkins_Glen_International"
        ],
        [
         47,
         "anderstorp",
         "Scandinavian Raceway",
         "Anderstorp",
         "Sweden",
         57.2653,
         13.6042,
         153,
         "http://en.wikipedia.org/wiki/Scandinavian_Raceway"
        ],
        [
         48,
         "mosport",
         "Mosport International Raceway",
         "Ontario",
         "Canada",
         44.0481,
         -78.6756,
         332,
         "http://en.wikipedia.org/wiki/Mosport"
        ],
        [
         49,
         "montjuic",
         "Montjuïc",
         "Barcelona",
         "Spain",
         41.3664,
         2.15167,
         79,
         "http://en.wikipedia.org/wiki/Montju%C3%AFc_circuit"
        ],
        [
         50,
         "nivelles",
         "Nivelles-Baulers",
         "Brussels",
         "Belgium",
         50.6211,
         4.32694,
         139,
         "http://en.wikipedia.org/wiki/Nivelles-Baulers"
        ],
        [
         51,
         "charade",
         "Charade Circuit",
         "Clermont-Ferrand",
         "France",
         45.7472,
         3.03889,
         790,
         "http://en.wikipedia.org/wiki/Charade_Circuit"
        ],
        [
         52,
         "tremblant",
         "Circuit Mont-Tremblant",
         "Quebec",
         "Canada",
         46.1877,
         -74.6099,
         214,
         "http://en.wikipedia.org/wiki/Circuit_Mont-Tremblant"
        ],
        [
         53,
         "essarts",
         "Rouen-Les-Essarts",
         "Rouen",
         "France",
         49.3306,
         1.00458,
         81,
         "http://en.wikipedia.org/wiki/Rouen-Les-Essarts"
        ],
        [
         54,
         "lemans",
         "Le Mans",
         "Le Mans",
         "France",
         47.95,
         0.224231,
         67,
         "http://en.wikipedia.org/wiki/Circuit_de_la_Sarthe#Bugatti_Circuit"
        ],
        [
         55,
         "reims",
         "Reims-Gueux",
         "Reims",
         "France",
         49.2542,
         3.93083,
         88,
         "http://en.wikipedia.org/wiki/Reims-Gueux"
        ],
        [
         56,
         "george",
         "Prince George Circuit",
         "Eastern Cape Province",
         "South Africa",
         -33.0486,
         27.8736,
         15,
         "http://en.wikipedia.org/wiki/Prince_George_Circuit"
        ],
        [
         57,
         "zeltweg",
         "Zeltweg",
         "Styria",
         "Austria",
         47.2039,
         14.7478,
         676,
         "http://en.wikipedia.org/wiki/Zeltweg_Airfield"
        ],
        [
         58,
         "aintree",
         "Aintree",
         "Liverpool",
         "UK",
         53.4769,
         -2.94056,
         20,
         "http://en.wikipedia.org/wiki/Aintree_Motor_Racing_Circuit"
        ],
        [
         59,
         "boavista",
         "Circuito da Boavista",
         "Oporto",
         "Portugal",
         41.1705,
         -8.67325,
         28,
         "http://en.wikipedia.org/wiki/Circuito_da_Boavista"
        ],
        [
         60,
         "riverside",
         "Riverside International Raceway",
         "California",
         "USA",
         33.937,
         -117.273,
         470,
         "http://en.wikipedia.org/wiki/Riverside_International_Raceway"
        ],
        [
         61,
         "avus",
         "AVUS",
         "Berlin",
         "Germany",
         52.4806,
         13.2514,
         53,
         "http://en.wikipedia.org/wiki/AVUS"
        ],
        [
         62,
         "monsanto",
         "Monsanto Park Circuit",
         "Lisbon",
         "Portugal",
         38.7197,
         -9.20306,
         158,
         "http://en.wikipedia.org/wiki/Monsanto_Park_Circuit"
        ],
        [
         63,
         "sebring",
         "Sebring International Raceway",
         "Florida",
         "USA",
         27.4547,
         -81.3483,
         18,
         "http://en.wikipedia.org/wiki/Sebring_Raceway"
        ],
        [
         64,
         "ain-diab",
         "Ain Diab",
         "Casablanca",
         "Morocco",
         33.5786,
         -7.6875,
         19,
         "http://en.wikipedia.org/wiki/Ain-Diab_Circuit"
        ],
        [
         65,
         "pescara",
         "Pescara Circuit",
         "Pescara",
         "Italy",
         42.475,
         14.1508,
         129,
         "http://en.wikipedia.org/wiki/Pescara_Circuit"
        ],
        [
         66,
         "bremgarten",
         "Circuit Bremgarten",
         "Bern",
         "Switzerland",
         46.9589,
         7.40194,
         551,
         "http://en.wikipedia.org/wiki/Circuit_Bremgarten"
        ],
        [
         67,
         "pedralbes",
         "Circuit de Pedralbes",
         "Barcelona",
         "Spain",
         41.3903,
         2.11667,
         85,
         "http://en.wikipedia.org/wiki/Pedralbes_Circuit"
        ],
        [
         68,
         "buddh",
         "Buddh International Circuit",
         "Uttar Pradesh",
         "India",
         28.3487,
         77.5331,
         194,
         "http://en.wikipedia.org/wiki/Buddh_International_Circuit"
        ],
        [
         69,
         "americas",
         "Circuit of the Americas",
         "Austin",
         "USA",
         30.1328,
         -97.6411,
         161,
         "http://en.wikipedia.org/wiki/Circuit_of_the_Americas"
        ],
        [
         70,
         "red_bull_ring",
         "Red Bull Ring",
         "Spielburg",
         "Austria",
         47.2197,
         14.7647,
         678,
         "http://en.wikipedia.org/wiki/Red_Bull_Ring"
        ],
        [
         71,
         "sochi",
         "Sochi Autodrom",
         "Sochi",
         "Russia",
         43.4057,
         39.9578,
         2,
         "http://en.wikipedia.org/wiki/Sochi_Autodrom"
        ],
        [
         72,
         "port_imperial",
         "Port Imperial Street Circuit",
         "New Jersey",
         "USA",
         40.7769,
         -74.0111,
         4,
         "http://en.wikipedia.org/wiki/Port_Imperial_Street_Circuit"
        ],
        [
         73,
         "BAK",
         "Baku City Circuit",
         "Baku",
         "Azerbaijan",
         40.3725,
         49.8533,
         -7,
         "http://en.wikipedia.org/wiki/Baku_City_Circuit"
        ],
        [
         74,
         "hanoi",
         "Hanoi Street Circuit",
         "Hanoi",
         "Vietnam",
         21.0166,
         105.766,
         9,
         "http://en.wikipedia.org/wiki/Hanoi_Street_Circuit"
        ],
        [
         75,
         "portimao",
         "Autódromo Internacional do Algarve",
         "Portimão",
         "Portugal",
         37.227,
         -8.6267,
         108,
         "http://en.wikipedia.org/wiki/Algarve_International_Circuit"
        ],
        [
         76,
         "mugello",
         "Autodromo Internazionale del Mugello",
         "Mugello",
         "Italy",
         43.9975,
         11.3719,
         255,
         "http://en.wikipedia.org/wiki/Mugello_Circuit"
        ],
        [
         77,
         "jeddah",
         "Jeddah Street Circuit",
         "Jeddah",
         "Saudi Arabia",
         21.5433,
         39.1728,
         15,
         "http://en.wikipedia.org/wiki/Jeddah_Street_Circuit"
        ]
       ],
       "datasetInfos": [],
       "dbfsResultPath": null,
       "isJsonSchema": true,
       "metadata": {},
       "overflow": false,
       "plotOptions": {
        "customPlotOptions": {},
        "displayType": "table",
        "pivotAggregation": null,
        "pivotColumns": null,
        "xColumns": null,
        "yColumns": null
       },
       "removedWidgets": [],
       "schema": [
        {
         "metadata": "{}",
         "name": "circuitId",
         "type": "\"integer\""
        },
        {
         "metadata": "{}",
         "name": "circuitRef",
         "type": "\"string\""
        },
        {
         "metadata": "{}",
         "name": "name",
         "type": "\"string\""
        },
        {
         "metadata": "{}",
         "name": "location",
         "type": "\"string\""
        },
        {
         "metadata": "{}",
         "name": "country",
         "type": "\"string\""
        },
        {
         "metadata": "{}",
         "name": "lat",
         "type": "\"double\""
        },
        {
         "metadata": "{}",
         "name": "lng",
         "type": "\"double\""
        },
        {
         "metadata": "{}",
         "name": "alt",
         "type": "\"integer\""
        },
        {
         "metadata": "{}",
         "name": "url",
         "type": "\"string\""
        }
       ],
       "type": "table"
      }
     },
     "output_type": "display_data"
    }
   ],
   "source": [
    "# Write Schema (Implicitly) (Suitable for Dev/Small Data)\n",
    "# circuits_df = spark.read \\\n",
    "#     .option('header', True) \\\n",
    "#     .option('inferSchema', True) \\\n",
    "#     .csv('abfss://raw@dbcourselakehouse.dfs.core.windows.net/circuits.csv')\n",
    "\n",
    "# Display Data\n",
    "# display(circuits_df)\n",
    "\n",
    "\n",
    "# ----------------------------------------\n",
    "# Write Schema (Explicitly) (Best Practice for Production)\n",
    "# StructType Represents Rows, StructField Represents Columns\n",
    "circuits_schema = StructType(fields = [\n",
    "    StructField('circuitId', IntegerType(), False),\n",
    "    StructField('circuitRef', StringType(), True),\n",
    "    StructField('name', StringType(), True),\n",
    "    StructField('location', StringType(), True),\n",
    "    StructField('country', StringType(), True),\n",
    "    StructField('lat', DoubleType(), True),\n",
    "    StructField('lng', DoubleType(), True),\n",
    "    StructField('alt', IntegerType(), True),\n",
    "    StructField('url', StringType(), True)\n",
    "])\n",
    "\n",
    "# Apply Schema\n",
    "circuits_df = spark.read \\\n",
    "    .option('header', True) \\\n",
    "    .schema(circuits_schema) \\\n",
    "    .csv(f'{raw_folder_path}/circuits.csv')\n",
    "    # .csv('abfss://raw@dbcourselakehouse.dfs.core.windows.net/circuits.csv') \\\n",
    "\n",
    "# Display Data\n",
    "display(circuits_df)"
   ]
  },
  {
   "cell_type": "code",
   "execution_count": null,
   "metadata": {
    "application/vnd.databricks.v1+cell": {
     "cellMetadata": {
      "byteLimit": 2048000,
      "rowLimit": 10000
     },
     "inputWidgets": {},
     "nuid": "b17af90b-5b65-413e-a59c-30d15b14183e",
     "showTitle": false,
     "title": ""
    }
   },
   "outputs": [
    {
     "name": "stdout",
     "output_type": "stream",
     "text": [
      "root\n",
      " |-- circuitId: integer (nullable = true)\n",
      " |-- circuitRef: string (nullable = true)\n",
      " |-- name: string (nullable = true)\n",
      " |-- location: string (nullable = true)\n",
      " |-- country: string (nullable = true)\n",
      " |-- lat: double (nullable = true)\n",
      " |-- lng: double (nullable = true)\n",
      " |-- alt: integer (nullable = true)\n",
      " |-- url: string (nullable = true)\n",
      "\n"
     ]
    }
   ],
   "source": [
    "# Print Schema\n",
    "circuits_df.printSchema()"
   ]
  },
  {
   "cell_type": "code",
   "execution_count": null,
   "metadata": {
    "application/vnd.databricks.v1+cell": {
     "cellMetadata": {
      "byteLimit": 2048000,
      "rowLimit": 10000
     },
     "inputWidgets": {},
     "nuid": "69cc1a0f-070a-463b-af8f-c9c6cea6d479",
     "showTitle": false,
     "title": ""
    }
   },
   "outputs": [
    {
     "name": "stdout",
     "output_type": "stream",
     "text": [
      "+-------+------------------+----------+-------+---------+---------+------------------+-----------------+-----------------+--------------------+\n",
      "|summary|         circuitId|circuitRef|   name| location|  country|               lat|              lng|              alt|                 url|\n",
      "+-------+------------------+----------+-------+---------+---------+------------------+-----------------+-----------------+--------------------+\n",
      "|  count|                77|        77|     77|       77|       77|                77|               77|               77|                  77|\n",
      "|   mean|              39.0|      null|   null|     null|     null| 33.72035103896102|3.551302597402597|247.4935064935065|                null|\n",
      "| stddev|22.371857321197094|      null|   null|     null|     null|22.885969000074535| 64.8766790440326|363.2672505910991|                null|\n",
      "|    min|                 1|       BAK|A1-Ring|Abu Dhabi|Argentina|          -37.8497|         -118.189|               -7|http://en.wikiped...|\n",
      "|    max|                77|    zolder| Zolder|Zandvoort|  Vietnam|           57.2653|          144.968|             2227|http://en.wikiped...|\n",
      "+-------+------------------+----------+-------+---------+---------+------------------+-----------------+-----------------+--------------------+\n",
      "\n"
     ]
    }
   ],
   "source": [
    "# Describe Data\n",
    "circuits_df.describe().show()"
   ]
  },
  {
   "attachments": {},
   "cell_type": "markdown",
   "metadata": {
    "application/vnd.databricks.v1+cell": {
     "cellMetadata": {
      "byteLimit": 2048000,
      "rowLimit": 10000
     },
     "inputWidgets": {},
     "nuid": "cee3b693-dd1b-4f9a-8c53-5d375a1d98d6",
     "showTitle": false,
     "title": ""
    }
   },
   "source": [
    "### Transform Data"
   ]
  },
  {
   "cell_type": "code",
   "execution_count": null,
   "metadata": {
    "application/vnd.databricks.v1+cell": {
     "cellMetadata": {
      "byteLimit": 2048000,
      "rowLimit": 10000
     },
     "inputWidgets": {},
     "nuid": "557780da-c764-45b2-8506-bb94f816ed53",
     "showTitle": false,
     "title": ""
    }
   },
   "outputs": [
    {
     "data": {
      "text/html": [
       "<style scoped>\n",
       "  .table-result-container {\n",
       "    max-height: 300px;\n",
       "    overflow: auto;\n",
       "  }\n",
       "  table, th, td {\n",
       "    border: 1px solid black;\n",
       "    border-collapse: collapse;\n",
       "  }\n",
       "  th, td {\n",
       "    padding: 5px;\n",
       "  }\n",
       "  th {\n",
       "    text-align: left;\n",
       "  }\n",
       "</style><div class='table-result-container'><table class='table-result'><thead style='background-color: white'><tr><th>circuitId</th><th>circuitRef</th><th>name</th><th>location</th><th>country</th><th>lat</th><th>long</th><th>alt</th></tr></thead><tbody><tr><td>1</td><td>albert_park</td><td>Albert Park Grand Prix Circuit</td><td>Melbourne</td><td>Australia</td><td>-37.8497</td><td>144.968</td><td>10</td></tr><tr><td>2</td><td>sepang</td><td>Sepang International Circuit</td><td>Kuala Lumpur</td><td>Malaysia</td><td>2.76083</td><td>101.738</td><td>18</td></tr><tr><td>3</td><td>bahrain</td><td>Bahrain International Circuit</td><td>Sakhir</td><td>Bahrain</td><td>26.0325</td><td>50.5106</td><td>7</td></tr><tr><td>4</td><td>catalunya</td><td>Circuit de Barcelona-Catalunya</td><td>Montmeló</td><td>Spain</td><td>41.57</td><td>2.26111</td><td>109</td></tr><tr><td>5</td><td>istanbul</td><td>Istanbul Park</td><td>Istanbul</td><td>Turkey</td><td>40.9517</td><td>29.405</td><td>130</td></tr><tr><td>6</td><td>monaco</td><td>Circuit de Monaco</td><td>Monte-Carlo</td><td>Monaco</td><td>43.7347</td><td>7.42056</td><td>7</td></tr><tr><td>7</td><td>villeneuve</td><td>Circuit Gilles Villeneuve</td><td>Montreal</td><td>Canada</td><td>45.5</td><td>-73.5228</td><td>13</td></tr><tr><td>8</td><td>magny_cours</td><td>Circuit de Nevers Magny-Cours</td><td>Magny Cours</td><td>France</td><td>46.8642</td><td>3.16361</td><td>228</td></tr><tr><td>9</td><td>silverstone</td><td>Silverstone Circuit</td><td>Silverstone</td><td>UK</td><td>52.0786</td><td>-1.01694</td><td>153</td></tr><tr><td>10</td><td>hockenheimring</td><td>Hockenheimring</td><td>Hockenheim</td><td>Germany</td><td>49.3278</td><td>8.56583</td><td>103</td></tr><tr><td>11</td><td>hungaroring</td><td>Hungaroring</td><td>Budapest</td><td>Hungary</td><td>47.5789</td><td>19.2486</td><td>264</td></tr><tr><td>12</td><td>valencia</td><td>Valencia Street Circuit</td><td>Valencia</td><td>Spain</td><td>39.4589</td><td>-0.331667</td><td>4</td></tr><tr><td>13</td><td>spa</td><td>Circuit de Spa-Francorchamps</td><td>Spa</td><td>Belgium</td><td>50.4372</td><td>5.97139</td><td>401</td></tr><tr><td>14</td><td>monza</td><td>Autodromo Nazionale di Monza</td><td>Monza</td><td>Italy</td><td>45.6156</td><td>9.28111</td><td>162</td></tr><tr><td>15</td><td>marina_bay</td><td>Marina Bay Street Circuit</td><td>Marina Bay</td><td>Singapore</td><td>1.2914</td><td>103.864</td><td>18</td></tr><tr><td>16</td><td>fuji</td><td>Fuji Speedway</td><td>Oyama</td><td>Japan</td><td>35.3717</td><td>138.927</td><td>583</td></tr><tr><td>17</td><td>shanghai</td><td>Shanghai International Circuit</td><td>Shanghai</td><td>China</td><td>31.3389</td><td>121.22</td><td>5</td></tr><tr><td>18</td><td>interlagos</td><td>Autódromo José Carlos Pace</td><td>São Paulo</td><td>Brazil</td><td>-23.7036</td><td>-46.6997</td><td>785</td></tr><tr><td>19</td><td>indianapolis</td><td>Indianapolis Motor Speedway</td><td>Indianapolis</td><td>USA</td><td>39.795</td><td>-86.2347</td><td>223</td></tr><tr><td>20</td><td>nurburgring</td><td>Nürburgring</td><td>Nürburg</td><td>Germany</td><td>50.3356</td><td>6.9475</td><td>578</td></tr><tr><td>21</td><td>imola</td><td>Autodromo Enzo e Dino Ferrari</td><td>Imola</td><td>Italy</td><td>44.3439</td><td>11.7167</td><td>37</td></tr><tr><td>22</td><td>suzuka</td><td>Suzuka Circuit</td><td>Suzuka</td><td>Japan</td><td>34.8431</td><td>136.541</td><td>45</td></tr><tr><td>23</td><td>osterreichring</td><td>A1-Ring</td><td>Spielburg</td><td>Austria</td><td>47.2197</td><td>14.7647</td><td>678</td></tr><tr><td>24</td><td>yas_marina</td><td>Yas Marina Circuit</td><td>Abu Dhabi</td><td>UAE</td><td>24.4672</td><td>54.6031</td><td>3</td></tr><tr><td>25</td><td>galvez</td><td>Autódromo Juan y Oscar Gálvez</td><td>Buenos Aires</td><td>Argentina</td><td>-34.6943</td><td>-58.4593</td><td>8</td></tr><tr><td>26</td><td>jerez</td><td>Circuito de Jerez</td><td>Jerez de la Frontera</td><td>Spain</td><td>36.7083</td><td>-6.03417</td><td>37</td></tr><tr><td>27</td><td>estoril</td><td>Autódromo do Estoril</td><td>Estoril</td><td>Portugal</td><td>38.7506</td><td>-9.39417</td><td>130</td></tr><tr><td>28</td><td>okayama</td><td>Okayama International Circuit</td><td>Okayama</td><td>Japan</td><td>34.915</td><td>134.221</td><td>266</td></tr><tr><td>29</td><td>adelaide</td><td>Adelaide Street Circuit</td><td>Adelaide</td><td>Australia</td><td>-34.9272</td><td>138.617</td><td>58</td></tr><tr><td>30</td><td>kyalami</td><td>Kyalami</td><td>Midrand</td><td>South Africa</td><td>-25.9894</td><td>28.0767</td><td>1460</td></tr><tr><td>31</td><td>donington</td><td>Donington Park</td><td>Castle Donington</td><td>UK</td><td>52.8306</td><td>-1.37528</td><td>88</td></tr><tr><td>32</td><td>rodriguez</td><td>Autódromo Hermanos Rodríguez</td><td>Mexico City</td><td>Mexico</td><td>19.4042</td><td>-99.0907</td><td>2227</td></tr><tr><td>33</td><td>phoenix</td><td>Phoenix street circuit</td><td>Phoenix</td><td>USA</td><td>33.4479</td><td>-112.075</td><td>345</td></tr><tr><td>34</td><td>ricard</td><td>Circuit Paul Ricard</td><td>Le Castellet</td><td>France</td><td>43.2506</td><td>5.79167</td><td>432</td></tr><tr><td>35</td><td>yeongam</td><td>Korean International Circuit</td><td>Yeongam County</td><td>Korea</td><td>34.7333</td><td>126.417</td><td>0</td></tr><tr><td>36</td><td>jacarepagua</td><td>Autódromo Internacional Nelson Piquet</td><td>Rio de Janeiro</td><td>Brazil</td><td>-22.9756</td><td>-43.395</td><td>1126</td></tr><tr><td>37</td><td>detroit</td><td>Detroit Street Circuit</td><td>Detroit</td><td>USA</td><td>42.3298</td><td>-83.0401</td><td>177</td></tr><tr><td>38</td><td>brands_hatch</td><td>Brands Hatch</td><td>Kent</td><td>UK</td><td>51.3569</td><td>0.263056</td><td>145</td></tr><tr><td>39</td><td>zandvoort</td><td>Circuit Park Zandvoort</td><td>Zandvoort</td><td>Netherlands</td><td>52.3888</td><td>4.54092</td><td>6</td></tr><tr><td>40</td><td>zolder</td><td>Zolder</td><td>Heusden-Zolder</td><td>Belgium</td><td>50.9894</td><td>5.25694</td><td>36</td></tr><tr><td>41</td><td>dijon</td><td>Dijon-Prenois</td><td>Dijon</td><td>France</td><td>47.3625</td><td>4.89913</td><td>484</td></tr><tr><td>42</td><td>dallas</td><td>Fair Park</td><td>Dallas</td><td>USA</td><td>32.7774</td><td>-96.7587</td><td>139</td></tr><tr><td>43</td><td>long_beach</td><td>Long Beach</td><td>California</td><td>USA</td><td>33.7651</td><td>-118.189</td><td>12</td></tr><tr><td>44</td><td>las_vegas</td><td>Las Vegas Street Circuit</td><td>Nevada</td><td>USA</td><td>36.1162</td><td>-115.174</td><td>639</td></tr><tr><td>45</td><td>jarama</td><td>Jarama</td><td>Madrid</td><td>Spain</td><td>40.6171</td><td>-3.58558</td><td>609</td></tr><tr><td>46</td><td>watkins_glen</td><td>Watkins Glen</td><td>New York State</td><td>USA</td><td>42.3369</td><td>-76.9272</td><td>485</td></tr><tr><td>47</td><td>anderstorp</td><td>Scandinavian Raceway</td><td>Anderstorp</td><td>Sweden</td><td>57.2653</td><td>13.6042</td><td>153</td></tr><tr><td>48</td><td>mosport</td><td>Mosport International Raceway</td><td>Ontario</td><td>Canada</td><td>44.0481</td><td>-78.6756</td><td>332</td></tr><tr><td>49</td><td>montjuic</td><td>Montjuïc</td><td>Barcelona</td><td>Spain</td><td>41.3664</td><td>2.15167</td><td>79</td></tr><tr><td>50</td><td>nivelles</td><td>Nivelles-Baulers</td><td>Brussels</td><td>Belgium</td><td>50.6211</td><td>4.32694</td><td>139</td></tr><tr><td>51</td><td>charade</td><td>Charade Circuit</td><td>Clermont-Ferrand</td><td>France</td><td>45.7472</td><td>3.03889</td><td>790</td></tr><tr><td>52</td><td>tremblant</td><td>Circuit Mont-Tremblant</td><td>Quebec</td><td>Canada</td><td>46.1877</td><td>-74.6099</td><td>214</td></tr><tr><td>53</td><td>essarts</td><td>Rouen-Les-Essarts</td><td>Rouen</td><td>France</td><td>49.3306</td><td>1.00458</td><td>81</td></tr><tr><td>54</td><td>lemans</td><td>Le Mans</td><td>Le Mans</td><td>France</td><td>47.95</td><td>0.224231</td><td>67</td></tr><tr><td>55</td><td>reims</td><td>Reims-Gueux</td><td>Reims</td><td>France</td><td>49.2542</td><td>3.93083</td><td>88</td></tr><tr><td>56</td><td>george</td><td>Prince George Circuit</td><td>Eastern Cape Province</td><td>South Africa</td><td>-33.0486</td><td>27.8736</td><td>15</td></tr><tr><td>57</td><td>zeltweg</td><td>Zeltweg</td><td>Styria</td><td>Austria</td><td>47.2039</td><td>14.7478</td><td>676</td></tr><tr><td>58</td><td>aintree</td><td>Aintree</td><td>Liverpool</td><td>UK</td><td>53.4769</td><td>-2.94056</td><td>20</td></tr><tr><td>59</td><td>boavista</td><td>Circuito da Boavista</td><td>Oporto</td><td>Portugal</td><td>41.1705</td><td>-8.67325</td><td>28</td></tr><tr><td>60</td><td>riverside</td><td>Riverside International Raceway</td><td>California</td><td>USA</td><td>33.937</td><td>-117.273</td><td>470</td></tr><tr><td>61</td><td>avus</td><td>AVUS</td><td>Berlin</td><td>Germany</td><td>52.4806</td><td>13.2514</td><td>53</td></tr><tr><td>62</td><td>monsanto</td><td>Monsanto Park Circuit</td><td>Lisbon</td><td>Portugal</td><td>38.7197</td><td>-9.20306</td><td>158</td></tr><tr><td>63</td><td>sebring</td><td>Sebring International Raceway</td><td>Florida</td><td>USA</td><td>27.4547</td><td>-81.3483</td><td>18</td></tr><tr><td>64</td><td>ain-diab</td><td>Ain Diab</td><td>Casablanca</td><td>Morocco</td><td>33.5786</td><td>-7.6875</td><td>19</td></tr><tr><td>65</td><td>pescara</td><td>Pescara Circuit</td><td>Pescara</td><td>Italy</td><td>42.475</td><td>14.1508</td><td>129</td></tr><tr><td>66</td><td>bremgarten</td><td>Circuit Bremgarten</td><td>Bern</td><td>Switzerland</td><td>46.9589</td><td>7.40194</td><td>551</td></tr><tr><td>67</td><td>pedralbes</td><td>Circuit de Pedralbes</td><td>Barcelona</td><td>Spain</td><td>41.3903</td><td>2.11667</td><td>85</td></tr><tr><td>68</td><td>buddh</td><td>Buddh International Circuit</td><td>Uttar Pradesh</td><td>India</td><td>28.3487</td><td>77.5331</td><td>194</td></tr><tr><td>69</td><td>americas</td><td>Circuit of the Americas</td><td>Austin</td><td>USA</td><td>30.1328</td><td>-97.6411</td><td>161</td></tr><tr><td>70</td><td>red_bull_ring</td><td>Red Bull Ring</td><td>Spielburg</td><td>Austria</td><td>47.2197</td><td>14.7647</td><td>678</td></tr><tr><td>71</td><td>sochi</td><td>Sochi Autodrom</td><td>Sochi</td><td>Russia</td><td>43.4057</td><td>39.9578</td><td>2</td></tr><tr><td>72</td><td>port_imperial</td><td>Port Imperial Street Circuit</td><td>New Jersey</td><td>USA</td><td>40.7769</td><td>-74.0111</td><td>4</td></tr><tr><td>73</td><td>BAK</td><td>Baku City Circuit</td><td>Baku</td><td>Azerbaijan</td><td>40.3725</td><td>49.8533</td><td>-7</td></tr><tr><td>74</td><td>hanoi</td><td>Hanoi Street Circuit</td><td>Hanoi</td><td>Vietnam</td><td>21.0166</td><td>105.766</td><td>9</td></tr><tr><td>75</td><td>portimao</td><td>Autódromo Internacional do Algarve</td><td>Portimão</td><td>Portugal</td><td>37.227</td><td>-8.6267</td><td>108</td></tr><tr><td>76</td><td>mugello</td><td>Autodromo Internazionale del Mugello</td><td>Mugello</td><td>Italy</td><td>43.9975</td><td>11.3719</td><td>255</td></tr><tr><td>77</td><td>jeddah</td><td>Jeddah Street Circuit</td><td>Jeddah</td><td>Saudi Arabia</td><td>21.5433</td><td>39.1728</td><td>15</td></tr></tbody></table></div>"
      ]
     },
     "metadata": {
      "application/vnd.databricks.v1+output": {
       "addedWidgets": {},
       "aggData": [],
       "aggError": "",
       "aggOverflow": false,
       "aggSchema": [],
       "aggSeriesLimitReached": false,
       "aggType": "",
       "arguments": {},
       "columnCustomDisplayInfos": {},
       "data": [
        [
         1,
         "albert_park",
         "Albert Park Grand Prix Circuit",
         "Melbourne",
         "Australia",
         -37.8497,
         144.968,
         10
        ],
        [
         2,
         "sepang",
         "Sepang International Circuit",
         "Kuala Lumpur",
         "Malaysia",
         2.76083,
         101.738,
         18
        ],
        [
         3,
         "bahrain",
         "Bahrain International Circuit",
         "Sakhir",
         "Bahrain",
         26.0325,
         50.5106,
         7
        ],
        [
         4,
         "catalunya",
         "Circuit de Barcelona-Catalunya",
         "Montmeló",
         "Spain",
         41.57,
         2.26111,
         109
        ],
        [
         5,
         "istanbul",
         "Istanbul Park",
         "Istanbul",
         "Turkey",
         40.9517,
         29.405,
         130
        ],
        [
         6,
         "monaco",
         "Circuit de Monaco",
         "Monte-Carlo",
         "Monaco",
         43.7347,
         7.42056,
         7
        ],
        [
         7,
         "villeneuve",
         "Circuit Gilles Villeneuve",
         "Montreal",
         "Canada",
         45.5,
         -73.5228,
         13
        ],
        [
         8,
         "magny_cours",
         "Circuit de Nevers Magny-Cours",
         "Magny Cours",
         "France",
         46.8642,
         3.16361,
         228
        ],
        [
         9,
         "silverstone",
         "Silverstone Circuit",
         "Silverstone",
         "UK",
         52.0786,
         -1.01694,
         153
        ],
        [
         10,
         "hockenheimring",
         "Hockenheimring",
         "Hockenheim",
         "Germany",
         49.3278,
         8.56583,
         103
        ],
        [
         11,
         "hungaroring",
         "Hungaroring",
         "Budapest",
         "Hungary",
         47.5789,
         19.2486,
         264
        ],
        [
         12,
         "valencia",
         "Valencia Street Circuit",
         "Valencia",
         "Spain",
         39.4589,
         -0.331667,
         4
        ],
        [
         13,
         "spa",
         "Circuit de Spa-Francorchamps",
         "Spa",
         "Belgium",
         50.4372,
         5.97139,
         401
        ],
        [
         14,
         "monza",
         "Autodromo Nazionale di Monza",
         "Monza",
         "Italy",
         45.6156,
         9.28111,
         162
        ],
        [
         15,
         "marina_bay",
         "Marina Bay Street Circuit",
         "Marina Bay",
         "Singapore",
         1.2914,
         103.864,
         18
        ],
        [
         16,
         "fuji",
         "Fuji Speedway",
         "Oyama",
         "Japan",
         35.3717,
         138.927,
         583
        ],
        [
         17,
         "shanghai",
         "Shanghai International Circuit",
         "Shanghai",
         "China",
         31.3389,
         121.22,
         5
        ],
        [
         18,
         "interlagos",
         "Autódromo José Carlos Pace",
         "São Paulo",
         "Brazil",
         -23.7036,
         -46.6997,
         785
        ],
        [
         19,
         "indianapolis",
         "Indianapolis Motor Speedway",
         "Indianapolis",
         "USA",
         39.795,
         -86.2347,
         223
        ],
        [
         20,
         "nurburgring",
         "Nürburgring",
         "Nürburg",
         "Germany",
         50.3356,
         6.9475,
         578
        ],
        [
         21,
         "imola",
         "Autodromo Enzo e Dino Ferrari",
         "Imola",
         "Italy",
         44.3439,
         11.7167,
         37
        ],
        [
         22,
         "suzuka",
         "Suzuka Circuit",
         "Suzuka",
         "Japan",
         34.8431,
         136.541,
         45
        ],
        [
         23,
         "osterreichring",
         "A1-Ring",
         "Spielburg",
         "Austria",
         47.2197,
         14.7647,
         678
        ],
        [
         24,
         "yas_marina",
         "Yas Marina Circuit",
         "Abu Dhabi",
         "UAE",
         24.4672,
         54.6031,
         3
        ],
        [
         25,
         "galvez",
         "Autódromo Juan y Oscar Gálvez",
         "Buenos Aires",
         "Argentina",
         -34.6943,
         -58.4593,
         8
        ],
        [
         26,
         "jerez",
         "Circuito de Jerez",
         "Jerez de la Frontera",
         "Spain",
         36.7083,
         -6.03417,
         37
        ],
        [
         27,
         "estoril",
         "Autódromo do Estoril",
         "Estoril",
         "Portugal",
         38.7506,
         -9.39417,
         130
        ],
        [
         28,
         "okayama",
         "Okayama International Circuit",
         "Okayama",
         "Japan",
         34.915,
         134.221,
         266
        ],
        [
         29,
         "adelaide",
         "Adelaide Street Circuit",
         "Adelaide",
         "Australia",
         -34.9272,
         138.617,
         58
        ],
        [
         30,
         "kyalami",
         "Kyalami",
         "Midrand",
         "South Africa",
         -25.9894,
         28.0767,
         1460
        ],
        [
         31,
         "donington",
         "Donington Park",
         "Castle Donington",
         "UK",
         52.8306,
         -1.37528,
         88
        ],
        [
         32,
         "rodriguez",
         "Autódromo Hermanos Rodríguez",
         "Mexico City",
         "Mexico",
         19.4042,
         -99.0907,
         2227
        ],
        [
         33,
         "phoenix",
         "Phoenix street circuit",
         "Phoenix",
         "USA",
         33.4479,
         -112.075,
         345
        ],
        [
         34,
         "ricard",
         "Circuit Paul Ricard",
         "Le Castellet",
         "France",
         43.2506,
         5.79167,
         432
        ],
        [
         35,
         "yeongam",
         "Korean International Circuit",
         "Yeongam County",
         "Korea",
         34.7333,
         126.417,
         0
        ],
        [
         36,
         "jacarepagua",
         "Autódromo Internacional Nelson Piquet",
         "Rio de Janeiro",
         "Brazil",
         -22.9756,
         -43.395,
         1126
        ],
        [
         37,
         "detroit",
         "Detroit Street Circuit",
         "Detroit",
         "USA",
         42.3298,
         -83.0401,
         177
        ],
        [
         38,
         "brands_hatch",
         "Brands Hatch",
         "Kent",
         "UK",
         51.3569,
         0.263056,
         145
        ],
        [
         39,
         "zandvoort",
         "Circuit Park Zandvoort",
         "Zandvoort",
         "Netherlands",
         52.3888,
         4.54092,
         6
        ],
        [
         40,
         "zolder",
         "Zolder",
         "Heusden-Zolder",
         "Belgium",
         50.9894,
         5.25694,
         36
        ],
        [
         41,
         "dijon",
         "Dijon-Prenois",
         "Dijon",
         "France",
         47.3625,
         4.89913,
         484
        ],
        [
         42,
         "dallas",
         "Fair Park",
         "Dallas",
         "USA",
         32.7774,
         -96.7587,
         139
        ],
        [
         43,
         "long_beach",
         "Long Beach",
         "California",
         "USA",
         33.7651,
         -118.189,
         12
        ],
        [
         44,
         "las_vegas",
         "Las Vegas Street Circuit",
         "Nevada",
         "USA",
         36.1162,
         -115.174,
         639
        ],
        [
         45,
         "jarama",
         "Jarama",
         "Madrid",
         "Spain",
         40.6171,
         -3.58558,
         609
        ],
        [
         46,
         "watkins_glen",
         "Watkins Glen",
         "New York State",
         "USA",
         42.3369,
         -76.9272,
         485
        ],
        [
         47,
         "anderstorp",
         "Scandinavian Raceway",
         "Anderstorp",
         "Sweden",
         57.2653,
         13.6042,
         153
        ],
        [
         48,
         "mosport",
         "Mosport International Raceway",
         "Ontario",
         "Canada",
         44.0481,
         -78.6756,
         332
        ],
        [
         49,
         "montjuic",
         "Montjuïc",
         "Barcelona",
         "Spain",
         41.3664,
         2.15167,
         79
        ],
        [
         50,
         "nivelles",
         "Nivelles-Baulers",
         "Brussels",
         "Belgium",
         50.6211,
         4.32694,
         139
        ],
        [
         51,
         "charade",
         "Charade Circuit",
         "Clermont-Ferrand",
         "France",
         45.7472,
         3.03889,
         790
        ],
        [
         52,
         "tremblant",
         "Circuit Mont-Tremblant",
         "Quebec",
         "Canada",
         46.1877,
         -74.6099,
         214
        ],
        [
         53,
         "essarts",
         "Rouen-Les-Essarts",
         "Rouen",
         "France",
         49.3306,
         1.00458,
         81
        ],
        [
         54,
         "lemans",
         "Le Mans",
         "Le Mans",
         "France",
         47.95,
         0.224231,
         67
        ],
        [
         55,
         "reims",
         "Reims-Gueux",
         "Reims",
         "France",
         49.2542,
         3.93083,
         88
        ],
        [
         56,
         "george",
         "Prince George Circuit",
         "Eastern Cape Province",
         "South Africa",
         -33.0486,
         27.8736,
         15
        ],
        [
         57,
         "zeltweg",
         "Zeltweg",
         "Styria",
         "Austria",
         47.2039,
         14.7478,
         676
        ],
        [
         58,
         "aintree",
         "Aintree",
         "Liverpool",
         "UK",
         53.4769,
         -2.94056,
         20
        ],
        [
         59,
         "boavista",
         "Circuito da Boavista",
         "Oporto",
         "Portugal",
         41.1705,
         -8.67325,
         28
        ],
        [
         60,
         "riverside",
         "Riverside International Raceway",
         "California",
         "USA",
         33.937,
         -117.273,
         470
        ],
        [
         61,
         "avus",
         "AVUS",
         "Berlin",
         "Germany",
         52.4806,
         13.2514,
         53
        ],
        [
         62,
         "monsanto",
         "Monsanto Park Circuit",
         "Lisbon",
         "Portugal",
         38.7197,
         -9.20306,
         158
        ],
        [
         63,
         "sebring",
         "Sebring International Raceway",
         "Florida",
         "USA",
         27.4547,
         -81.3483,
         18
        ],
        [
         64,
         "ain-diab",
         "Ain Diab",
         "Casablanca",
         "Morocco",
         33.5786,
         -7.6875,
         19
        ],
        [
         65,
         "pescara",
         "Pescara Circuit",
         "Pescara",
         "Italy",
         42.475,
         14.1508,
         129
        ],
        [
         66,
         "bremgarten",
         "Circuit Bremgarten",
         "Bern",
         "Switzerland",
         46.9589,
         7.40194,
         551
        ],
        [
         67,
         "pedralbes",
         "Circuit de Pedralbes",
         "Barcelona",
         "Spain",
         41.3903,
         2.11667,
         85
        ],
        [
         68,
         "buddh",
         "Buddh International Circuit",
         "Uttar Pradesh",
         "India",
         28.3487,
         77.5331,
         194
        ],
        [
         69,
         "americas",
         "Circuit of the Americas",
         "Austin",
         "USA",
         30.1328,
         -97.6411,
         161
        ],
        [
         70,
         "red_bull_ring",
         "Red Bull Ring",
         "Spielburg",
         "Austria",
         47.2197,
         14.7647,
         678
        ],
        [
         71,
         "sochi",
         "Sochi Autodrom",
         "Sochi",
         "Russia",
         43.4057,
         39.9578,
         2
        ],
        [
         72,
         "port_imperial",
         "Port Imperial Street Circuit",
         "New Jersey",
         "USA",
         40.7769,
         -74.0111,
         4
        ],
        [
         73,
         "BAK",
         "Baku City Circuit",
         "Baku",
         "Azerbaijan",
         40.3725,
         49.8533,
         -7
        ],
        [
         74,
         "hanoi",
         "Hanoi Street Circuit",
         "Hanoi",
         "Vietnam",
         21.0166,
         105.766,
         9
        ],
        [
         75,
         "portimao",
         "Autódromo Internacional do Algarve",
         "Portimão",
         "Portugal",
         37.227,
         -8.6267,
         108
        ],
        [
         76,
         "mugello",
         "Autodromo Internazionale del Mugello",
         "Mugello",
         "Italy",
         43.9975,
         11.3719,
         255
        ],
        [
         77,
         "jeddah",
         "Jeddah Street Circuit",
         "Jeddah",
         "Saudi Arabia",
         21.5433,
         39.1728,
         15
        ]
       ],
       "datasetInfos": [],
       "dbfsResultPath": null,
       "isJsonSchema": true,
       "metadata": {},
       "overflow": false,
       "plotOptions": {
        "customPlotOptions": {},
        "displayType": "table",
        "pivotAggregation": null,
        "pivotColumns": null,
        "xColumns": null,
        "yColumns": null
       },
       "removedWidgets": [],
       "schema": [
        {
         "metadata": "{}",
         "name": "circuitId",
         "type": "\"integer\""
        },
        {
         "metadata": "{}",
         "name": "circuitRef",
         "type": "\"string\""
        },
        {
         "metadata": "{}",
         "name": "name",
         "type": "\"string\""
        },
        {
         "metadata": "{}",
         "name": "location",
         "type": "\"string\""
        },
        {
         "metadata": "{}",
         "name": "country",
         "type": "\"string\""
        },
        {
         "metadata": "{}",
         "name": "lat",
         "type": "\"double\""
        },
        {
         "metadata": "{}",
         "name": "long",
         "type": "\"double\""
        },
        {
         "metadata": "{}",
         "name": "alt",
         "type": "\"integer\""
        }
       ],
       "type": "table"
      }
     },
     "output_type": "display_data"
    }
   ],
   "source": [
    "# Select Columns Implicitly (Method 1)\n",
    "circuits_selected_df = circuits_df.select(\n",
    "    'circuitId',\n",
    "    'circuitRef',\n",
    "    'name',\n",
    "    'location',\n",
    "    'country',\n",
    "    'lat',\n",
    "    'lng',\n",
    "    'alt'\n",
    ")\n",
    "\n",
    "# Display Data\n",
    "# display(circuits_selected_df)\n",
    "\n",
    "\n",
    "# ----------------------------------------\n",
    "# Select Columns Explicilty (Method 2)\n",
    "circuits_selected_df = circuits_df.select(\n",
    "    circuits_df.circuitId,\n",
    "    circuits_df.circuitRef,\n",
    "    circuits_df.name,\n",
    "    circuits_df.location,\n",
    "    circuits_df.country,\n",
    "    circuits_df.lat,\n",
    "    circuits_df.lng,\n",
    "    circuits_df.alt\n",
    ")\n",
    "\n",
    "# Display Data\n",
    "# display(circuits_seected_df)\n",
    "\n",
    "\n",
    "# ----------------------------------------\n",
    "# Select Columns Explicilty (Method 3)\n",
    "# circuits_selected_df = circuits_df.select(\n",
    "#     circuits_df['circuitId'],\n",
    "#     circuits_df['circuitRef'],\n",
    "#     circuits_df['name'],\n",
    "#     circuits_df['location'],\n",
    "#     circuits_df['country'],\n",
    "#     circuits_df['lat'],\n",
    "#     circuits_df['lng'],\n",
    "#     circuits_df['alt']\n",
    "# )\n",
    "\n",
    "# Display Data\n",
    "# display(circuits_selected_df)\n",
    "\n",
    "\n",
    "# ----------------------------------------\n",
    "# Select Columns Using col Function (Method 4)\n",
    "# Allows Column Aliasing\n",
    "circuits_selected_df = circuits_df.select(\n",
    "    col('circuitId'),\n",
    "    col('circuitRef'),\n",
    "    col('name'),\n",
    "    col('location'),\n",
    "    col('country'),\n",
    "    col('lat'),\n",
    "    col('lng').alias('long'),\n",
    "    col('alt')\n",
    ")\n",
    "\n",
    "# Display Data\n",
    "display(circuits_selected_df)"
   ]
  },
  {
   "cell_type": "code",
   "execution_count": null,
   "metadata": {
    "application/vnd.databricks.v1+cell": {
     "cellMetadata": {
      "byteLimit": 2048000,
      "rowLimit": 10000
     },
     "inputWidgets": {},
     "nuid": "eaed607d-1edb-4987-a155-9cf245a37354",
     "showTitle": false,
     "title": ""
    }
   },
   "outputs": [
    {
     "data": {
      "text/html": [
       "<style scoped>\n",
       "  .table-result-container {\n",
       "    max-height: 300px;\n",
       "    overflow: auto;\n",
       "  }\n",
       "  table, th, td {\n",
       "    border: 1px solid black;\n",
       "    border-collapse: collapse;\n",
       "  }\n",
       "  th, td {\n",
       "    padding: 5px;\n",
       "  }\n",
       "  th {\n",
       "    text-align: left;\n",
       "  }\n",
       "</style><div class='table-result-container'><table class='table-result'><thead style='background-color: white'><tr><th>circuit_id</th><th>circuit_ref</th><th>name</th><th>location</th><th>country</th><th>latitude</th><th>longitude</th><th>altitude</th></tr></thead><tbody><tr><td>1</td><td>albert_park</td><td>Albert Park Grand Prix Circuit</td><td>Melbourne</td><td>Australia</td><td>-37.8497</td><td>144.968</td><td>10</td></tr><tr><td>2</td><td>sepang</td><td>Sepang International Circuit</td><td>Kuala Lumpur</td><td>Malaysia</td><td>2.76083</td><td>101.738</td><td>18</td></tr><tr><td>3</td><td>bahrain</td><td>Bahrain International Circuit</td><td>Sakhir</td><td>Bahrain</td><td>26.0325</td><td>50.5106</td><td>7</td></tr><tr><td>4</td><td>catalunya</td><td>Circuit de Barcelona-Catalunya</td><td>Montmeló</td><td>Spain</td><td>41.57</td><td>2.26111</td><td>109</td></tr><tr><td>5</td><td>istanbul</td><td>Istanbul Park</td><td>Istanbul</td><td>Turkey</td><td>40.9517</td><td>29.405</td><td>130</td></tr><tr><td>6</td><td>monaco</td><td>Circuit de Monaco</td><td>Monte-Carlo</td><td>Monaco</td><td>43.7347</td><td>7.42056</td><td>7</td></tr><tr><td>7</td><td>villeneuve</td><td>Circuit Gilles Villeneuve</td><td>Montreal</td><td>Canada</td><td>45.5</td><td>-73.5228</td><td>13</td></tr><tr><td>8</td><td>magny_cours</td><td>Circuit de Nevers Magny-Cours</td><td>Magny Cours</td><td>France</td><td>46.8642</td><td>3.16361</td><td>228</td></tr><tr><td>9</td><td>silverstone</td><td>Silverstone Circuit</td><td>Silverstone</td><td>UK</td><td>52.0786</td><td>-1.01694</td><td>153</td></tr><tr><td>10</td><td>hockenheimring</td><td>Hockenheimring</td><td>Hockenheim</td><td>Germany</td><td>49.3278</td><td>8.56583</td><td>103</td></tr><tr><td>11</td><td>hungaroring</td><td>Hungaroring</td><td>Budapest</td><td>Hungary</td><td>47.5789</td><td>19.2486</td><td>264</td></tr><tr><td>12</td><td>valencia</td><td>Valencia Street Circuit</td><td>Valencia</td><td>Spain</td><td>39.4589</td><td>-0.331667</td><td>4</td></tr><tr><td>13</td><td>spa</td><td>Circuit de Spa-Francorchamps</td><td>Spa</td><td>Belgium</td><td>50.4372</td><td>5.97139</td><td>401</td></tr><tr><td>14</td><td>monza</td><td>Autodromo Nazionale di Monza</td><td>Monza</td><td>Italy</td><td>45.6156</td><td>9.28111</td><td>162</td></tr><tr><td>15</td><td>marina_bay</td><td>Marina Bay Street Circuit</td><td>Marina Bay</td><td>Singapore</td><td>1.2914</td><td>103.864</td><td>18</td></tr><tr><td>16</td><td>fuji</td><td>Fuji Speedway</td><td>Oyama</td><td>Japan</td><td>35.3717</td><td>138.927</td><td>583</td></tr><tr><td>17</td><td>shanghai</td><td>Shanghai International Circuit</td><td>Shanghai</td><td>China</td><td>31.3389</td><td>121.22</td><td>5</td></tr><tr><td>18</td><td>interlagos</td><td>Autódromo José Carlos Pace</td><td>São Paulo</td><td>Brazil</td><td>-23.7036</td><td>-46.6997</td><td>785</td></tr><tr><td>19</td><td>indianapolis</td><td>Indianapolis Motor Speedway</td><td>Indianapolis</td><td>USA</td><td>39.795</td><td>-86.2347</td><td>223</td></tr><tr><td>20</td><td>nurburgring</td><td>Nürburgring</td><td>Nürburg</td><td>Germany</td><td>50.3356</td><td>6.9475</td><td>578</td></tr><tr><td>21</td><td>imola</td><td>Autodromo Enzo e Dino Ferrari</td><td>Imola</td><td>Italy</td><td>44.3439</td><td>11.7167</td><td>37</td></tr><tr><td>22</td><td>suzuka</td><td>Suzuka Circuit</td><td>Suzuka</td><td>Japan</td><td>34.8431</td><td>136.541</td><td>45</td></tr><tr><td>23</td><td>osterreichring</td><td>A1-Ring</td><td>Spielburg</td><td>Austria</td><td>47.2197</td><td>14.7647</td><td>678</td></tr><tr><td>24</td><td>yas_marina</td><td>Yas Marina Circuit</td><td>Abu Dhabi</td><td>UAE</td><td>24.4672</td><td>54.6031</td><td>3</td></tr><tr><td>25</td><td>galvez</td><td>Autódromo Juan y Oscar Gálvez</td><td>Buenos Aires</td><td>Argentina</td><td>-34.6943</td><td>-58.4593</td><td>8</td></tr><tr><td>26</td><td>jerez</td><td>Circuito de Jerez</td><td>Jerez de la Frontera</td><td>Spain</td><td>36.7083</td><td>-6.03417</td><td>37</td></tr><tr><td>27</td><td>estoril</td><td>Autódromo do Estoril</td><td>Estoril</td><td>Portugal</td><td>38.7506</td><td>-9.39417</td><td>130</td></tr><tr><td>28</td><td>okayama</td><td>Okayama International Circuit</td><td>Okayama</td><td>Japan</td><td>34.915</td><td>134.221</td><td>266</td></tr><tr><td>29</td><td>adelaide</td><td>Adelaide Street Circuit</td><td>Adelaide</td><td>Australia</td><td>-34.9272</td><td>138.617</td><td>58</td></tr><tr><td>30</td><td>kyalami</td><td>Kyalami</td><td>Midrand</td><td>South Africa</td><td>-25.9894</td><td>28.0767</td><td>1460</td></tr><tr><td>31</td><td>donington</td><td>Donington Park</td><td>Castle Donington</td><td>UK</td><td>52.8306</td><td>-1.37528</td><td>88</td></tr><tr><td>32</td><td>rodriguez</td><td>Autódromo Hermanos Rodríguez</td><td>Mexico City</td><td>Mexico</td><td>19.4042</td><td>-99.0907</td><td>2227</td></tr><tr><td>33</td><td>phoenix</td><td>Phoenix street circuit</td><td>Phoenix</td><td>USA</td><td>33.4479</td><td>-112.075</td><td>345</td></tr><tr><td>34</td><td>ricard</td><td>Circuit Paul Ricard</td><td>Le Castellet</td><td>France</td><td>43.2506</td><td>5.79167</td><td>432</td></tr><tr><td>35</td><td>yeongam</td><td>Korean International Circuit</td><td>Yeongam County</td><td>Korea</td><td>34.7333</td><td>126.417</td><td>0</td></tr><tr><td>36</td><td>jacarepagua</td><td>Autódromo Internacional Nelson Piquet</td><td>Rio de Janeiro</td><td>Brazil</td><td>-22.9756</td><td>-43.395</td><td>1126</td></tr><tr><td>37</td><td>detroit</td><td>Detroit Street Circuit</td><td>Detroit</td><td>USA</td><td>42.3298</td><td>-83.0401</td><td>177</td></tr><tr><td>38</td><td>brands_hatch</td><td>Brands Hatch</td><td>Kent</td><td>UK</td><td>51.3569</td><td>0.263056</td><td>145</td></tr><tr><td>39</td><td>zandvoort</td><td>Circuit Park Zandvoort</td><td>Zandvoort</td><td>Netherlands</td><td>52.3888</td><td>4.54092</td><td>6</td></tr><tr><td>40</td><td>zolder</td><td>Zolder</td><td>Heusden-Zolder</td><td>Belgium</td><td>50.9894</td><td>5.25694</td><td>36</td></tr><tr><td>41</td><td>dijon</td><td>Dijon-Prenois</td><td>Dijon</td><td>France</td><td>47.3625</td><td>4.89913</td><td>484</td></tr><tr><td>42</td><td>dallas</td><td>Fair Park</td><td>Dallas</td><td>USA</td><td>32.7774</td><td>-96.7587</td><td>139</td></tr><tr><td>43</td><td>long_beach</td><td>Long Beach</td><td>California</td><td>USA</td><td>33.7651</td><td>-118.189</td><td>12</td></tr><tr><td>44</td><td>las_vegas</td><td>Las Vegas Street Circuit</td><td>Nevada</td><td>USA</td><td>36.1162</td><td>-115.174</td><td>639</td></tr><tr><td>45</td><td>jarama</td><td>Jarama</td><td>Madrid</td><td>Spain</td><td>40.6171</td><td>-3.58558</td><td>609</td></tr><tr><td>46</td><td>watkins_glen</td><td>Watkins Glen</td><td>New York State</td><td>USA</td><td>42.3369</td><td>-76.9272</td><td>485</td></tr><tr><td>47</td><td>anderstorp</td><td>Scandinavian Raceway</td><td>Anderstorp</td><td>Sweden</td><td>57.2653</td><td>13.6042</td><td>153</td></tr><tr><td>48</td><td>mosport</td><td>Mosport International Raceway</td><td>Ontario</td><td>Canada</td><td>44.0481</td><td>-78.6756</td><td>332</td></tr><tr><td>49</td><td>montjuic</td><td>Montjuïc</td><td>Barcelona</td><td>Spain</td><td>41.3664</td><td>2.15167</td><td>79</td></tr><tr><td>50</td><td>nivelles</td><td>Nivelles-Baulers</td><td>Brussels</td><td>Belgium</td><td>50.6211</td><td>4.32694</td><td>139</td></tr><tr><td>51</td><td>charade</td><td>Charade Circuit</td><td>Clermont-Ferrand</td><td>France</td><td>45.7472</td><td>3.03889</td><td>790</td></tr><tr><td>52</td><td>tremblant</td><td>Circuit Mont-Tremblant</td><td>Quebec</td><td>Canada</td><td>46.1877</td><td>-74.6099</td><td>214</td></tr><tr><td>53</td><td>essarts</td><td>Rouen-Les-Essarts</td><td>Rouen</td><td>France</td><td>49.3306</td><td>1.00458</td><td>81</td></tr><tr><td>54</td><td>lemans</td><td>Le Mans</td><td>Le Mans</td><td>France</td><td>47.95</td><td>0.224231</td><td>67</td></tr><tr><td>55</td><td>reims</td><td>Reims-Gueux</td><td>Reims</td><td>France</td><td>49.2542</td><td>3.93083</td><td>88</td></tr><tr><td>56</td><td>george</td><td>Prince George Circuit</td><td>Eastern Cape Province</td><td>South Africa</td><td>-33.0486</td><td>27.8736</td><td>15</td></tr><tr><td>57</td><td>zeltweg</td><td>Zeltweg</td><td>Styria</td><td>Austria</td><td>47.2039</td><td>14.7478</td><td>676</td></tr><tr><td>58</td><td>aintree</td><td>Aintree</td><td>Liverpool</td><td>UK</td><td>53.4769</td><td>-2.94056</td><td>20</td></tr><tr><td>59</td><td>boavista</td><td>Circuito da Boavista</td><td>Oporto</td><td>Portugal</td><td>41.1705</td><td>-8.67325</td><td>28</td></tr><tr><td>60</td><td>riverside</td><td>Riverside International Raceway</td><td>California</td><td>USA</td><td>33.937</td><td>-117.273</td><td>470</td></tr><tr><td>61</td><td>avus</td><td>AVUS</td><td>Berlin</td><td>Germany</td><td>52.4806</td><td>13.2514</td><td>53</td></tr><tr><td>62</td><td>monsanto</td><td>Monsanto Park Circuit</td><td>Lisbon</td><td>Portugal</td><td>38.7197</td><td>-9.20306</td><td>158</td></tr><tr><td>63</td><td>sebring</td><td>Sebring International Raceway</td><td>Florida</td><td>USA</td><td>27.4547</td><td>-81.3483</td><td>18</td></tr><tr><td>64</td><td>ain-diab</td><td>Ain Diab</td><td>Casablanca</td><td>Morocco</td><td>33.5786</td><td>-7.6875</td><td>19</td></tr><tr><td>65</td><td>pescara</td><td>Pescara Circuit</td><td>Pescara</td><td>Italy</td><td>42.475</td><td>14.1508</td><td>129</td></tr><tr><td>66</td><td>bremgarten</td><td>Circuit Bremgarten</td><td>Bern</td><td>Switzerland</td><td>46.9589</td><td>7.40194</td><td>551</td></tr><tr><td>67</td><td>pedralbes</td><td>Circuit de Pedralbes</td><td>Barcelona</td><td>Spain</td><td>41.3903</td><td>2.11667</td><td>85</td></tr><tr><td>68</td><td>buddh</td><td>Buddh International Circuit</td><td>Uttar Pradesh</td><td>India</td><td>28.3487</td><td>77.5331</td><td>194</td></tr><tr><td>69</td><td>americas</td><td>Circuit of the Americas</td><td>Austin</td><td>USA</td><td>30.1328</td><td>-97.6411</td><td>161</td></tr><tr><td>70</td><td>red_bull_ring</td><td>Red Bull Ring</td><td>Spielburg</td><td>Austria</td><td>47.2197</td><td>14.7647</td><td>678</td></tr><tr><td>71</td><td>sochi</td><td>Sochi Autodrom</td><td>Sochi</td><td>Russia</td><td>43.4057</td><td>39.9578</td><td>2</td></tr><tr><td>72</td><td>port_imperial</td><td>Port Imperial Street Circuit</td><td>New Jersey</td><td>USA</td><td>40.7769</td><td>-74.0111</td><td>4</td></tr><tr><td>73</td><td>BAK</td><td>Baku City Circuit</td><td>Baku</td><td>Azerbaijan</td><td>40.3725</td><td>49.8533</td><td>-7</td></tr><tr><td>74</td><td>hanoi</td><td>Hanoi Street Circuit</td><td>Hanoi</td><td>Vietnam</td><td>21.0166</td><td>105.766</td><td>9</td></tr><tr><td>75</td><td>portimao</td><td>Autódromo Internacional do Algarve</td><td>Portimão</td><td>Portugal</td><td>37.227</td><td>-8.6267</td><td>108</td></tr><tr><td>76</td><td>mugello</td><td>Autodromo Internazionale del Mugello</td><td>Mugello</td><td>Italy</td><td>43.9975</td><td>11.3719</td><td>255</td></tr><tr><td>77</td><td>jeddah</td><td>Jeddah Street Circuit</td><td>Jeddah</td><td>Saudi Arabia</td><td>21.5433</td><td>39.1728</td><td>15</td></tr></tbody></table></div>"
      ]
     },
     "metadata": {
      "application/vnd.databricks.v1+output": {
       "addedWidgets": {},
       "aggData": [],
       "aggError": "",
       "aggOverflow": false,
       "aggSchema": [],
       "aggSeriesLimitReached": false,
       "aggType": "",
       "arguments": {},
       "columnCustomDisplayInfos": {},
       "data": [
        [
         1,
         "albert_park",
         "Albert Park Grand Prix Circuit",
         "Melbourne",
         "Australia",
         -37.8497,
         144.968,
         10
        ],
        [
         2,
         "sepang",
         "Sepang International Circuit",
         "Kuala Lumpur",
         "Malaysia",
         2.76083,
         101.738,
         18
        ],
        [
         3,
         "bahrain",
         "Bahrain International Circuit",
         "Sakhir",
         "Bahrain",
         26.0325,
         50.5106,
         7
        ],
        [
         4,
         "catalunya",
         "Circuit de Barcelona-Catalunya",
         "Montmeló",
         "Spain",
         41.57,
         2.26111,
         109
        ],
        [
         5,
         "istanbul",
         "Istanbul Park",
         "Istanbul",
         "Turkey",
         40.9517,
         29.405,
         130
        ],
        [
         6,
         "monaco",
         "Circuit de Monaco",
         "Monte-Carlo",
         "Monaco",
         43.7347,
         7.42056,
         7
        ],
        [
         7,
         "villeneuve",
         "Circuit Gilles Villeneuve",
         "Montreal",
         "Canada",
         45.5,
         -73.5228,
         13
        ],
        [
         8,
         "magny_cours",
         "Circuit de Nevers Magny-Cours",
         "Magny Cours",
         "France",
         46.8642,
         3.16361,
         228
        ],
        [
         9,
         "silverstone",
         "Silverstone Circuit",
         "Silverstone",
         "UK",
         52.0786,
         -1.01694,
         153
        ],
        [
         10,
         "hockenheimring",
         "Hockenheimring",
         "Hockenheim",
         "Germany",
         49.3278,
         8.56583,
         103
        ],
        [
         11,
         "hungaroring",
         "Hungaroring",
         "Budapest",
         "Hungary",
         47.5789,
         19.2486,
         264
        ],
        [
         12,
         "valencia",
         "Valencia Street Circuit",
         "Valencia",
         "Spain",
         39.4589,
         -0.331667,
         4
        ],
        [
         13,
         "spa",
         "Circuit de Spa-Francorchamps",
         "Spa",
         "Belgium",
         50.4372,
         5.97139,
         401
        ],
        [
         14,
         "monza",
         "Autodromo Nazionale di Monza",
         "Monza",
         "Italy",
         45.6156,
         9.28111,
         162
        ],
        [
         15,
         "marina_bay",
         "Marina Bay Street Circuit",
         "Marina Bay",
         "Singapore",
         1.2914,
         103.864,
         18
        ],
        [
         16,
         "fuji",
         "Fuji Speedway",
         "Oyama",
         "Japan",
         35.3717,
         138.927,
         583
        ],
        [
         17,
         "shanghai",
         "Shanghai International Circuit",
         "Shanghai",
         "China",
         31.3389,
         121.22,
         5
        ],
        [
         18,
         "interlagos",
         "Autódromo José Carlos Pace",
         "São Paulo",
         "Brazil",
         -23.7036,
         -46.6997,
         785
        ],
        [
         19,
         "indianapolis",
         "Indianapolis Motor Speedway",
         "Indianapolis",
         "USA",
         39.795,
         -86.2347,
         223
        ],
        [
         20,
         "nurburgring",
         "Nürburgring",
         "Nürburg",
         "Germany",
         50.3356,
         6.9475,
         578
        ],
        [
         21,
         "imola",
         "Autodromo Enzo e Dino Ferrari",
         "Imola",
         "Italy",
         44.3439,
         11.7167,
         37
        ],
        [
         22,
         "suzuka",
         "Suzuka Circuit",
         "Suzuka",
         "Japan",
         34.8431,
         136.541,
         45
        ],
        [
         23,
         "osterreichring",
         "A1-Ring",
         "Spielburg",
         "Austria",
         47.2197,
         14.7647,
         678
        ],
        [
         24,
         "yas_marina",
         "Yas Marina Circuit",
         "Abu Dhabi",
         "UAE",
         24.4672,
         54.6031,
         3
        ],
        [
         25,
         "galvez",
         "Autódromo Juan y Oscar Gálvez",
         "Buenos Aires",
         "Argentina",
         -34.6943,
         -58.4593,
         8
        ],
        [
         26,
         "jerez",
         "Circuito de Jerez",
         "Jerez de la Frontera",
         "Spain",
         36.7083,
         -6.03417,
         37
        ],
        [
         27,
         "estoril",
         "Autódromo do Estoril",
         "Estoril",
         "Portugal",
         38.7506,
         -9.39417,
         130
        ],
        [
         28,
         "okayama",
         "Okayama International Circuit",
         "Okayama",
         "Japan",
         34.915,
         134.221,
         266
        ],
        [
         29,
         "adelaide",
         "Adelaide Street Circuit",
         "Adelaide",
         "Australia",
         -34.9272,
         138.617,
         58
        ],
        [
         30,
         "kyalami",
         "Kyalami",
         "Midrand",
         "South Africa",
         -25.9894,
         28.0767,
         1460
        ],
        [
         31,
         "donington",
         "Donington Park",
         "Castle Donington",
         "UK",
         52.8306,
         -1.37528,
         88
        ],
        [
         32,
         "rodriguez",
         "Autódromo Hermanos Rodríguez",
         "Mexico City",
         "Mexico",
         19.4042,
         -99.0907,
         2227
        ],
        [
         33,
         "phoenix",
         "Phoenix street circuit",
         "Phoenix",
         "USA",
         33.4479,
         -112.075,
         345
        ],
        [
         34,
         "ricard",
         "Circuit Paul Ricard",
         "Le Castellet",
         "France",
         43.2506,
         5.79167,
         432
        ],
        [
         35,
         "yeongam",
         "Korean International Circuit",
         "Yeongam County",
         "Korea",
         34.7333,
         126.417,
         0
        ],
        [
         36,
         "jacarepagua",
         "Autódromo Internacional Nelson Piquet",
         "Rio de Janeiro",
         "Brazil",
         -22.9756,
         -43.395,
         1126
        ],
        [
         37,
         "detroit",
         "Detroit Street Circuit",
         "Detroit",
         "USA",
         42.3298,
         -83.0401,
         177
        ],
        [
         38,
         "brands_hatch",
         "Brands Hatch",
         "Kent",
         "UK",
         51.3569,
         0.263056,
         145
        ],
        [
         39,
         "zandvoort",
         "Circuit Park Zandvoort",
         "Zandvoort",
         "Netherlands",
         52.3888,
         4.54092,
         6
        ],
        [
         40,
         "zolder",
         "Zolder",
         "Heusden-Zolder",
         "Belgium",
         50.9894,
         5.25694,
         36
        ],
        [
         41,
         "dijon",
         "Dijon-Prenois",
         "Dijon",
         "France",
         47.3625,
         4.89913,
         484
        ],
        [
         42,
         "dallas",
         "Fair Park",
         "Dallas",
         "USA",
         32.7774,
         -96.7587,
         139
        ],
        [
         43,
         "long_beach",
         "Long Beach",
         "California",
         "USA",
         33.7651,
         -118.189,
         12
        ],
        [
         44,
         "las_vegas",
         "Las Vegas Street Circuit",
         "Nevada",
         "USA",
         36.1162,
         -115.174,
         639
        ],
        [
         45,
         "jarama",
         "Jarama",
         "Madrid",
         "Spain",
         40.6171,
         -3.58558,
         609
        ],
        [
         46,
         "watkins_glen",
         "Watkins Glen",
         "New York State",
         "USA",
         42.3369,
         -76.9272,
         485
        ],
        [
         47,
         "anderstorp",
         "Scandinavian Raceway",
         "Anderstorp",
         "Sweden",
         57.2653,
         13.6042,
         153
        ],
        [
         48,
         "mosport",
         "Mosport International Raceway",
         "Ontario",
         "Canada",
         44.0481,
         -78.6756,
         332
        ],
        [
         49,
         "montjuic",
         "Montjuïc",
         "Barcelona",
         "Spain",
         41.3664,
         2.15167,
         79
        ],
        [
         50,
         "nivelles",
         "Nivelles-Baulers",
         "Brussels",
         "Belgium",
         50.6211,
         4.32694,
         139
        ],
        [
         51,
         "charade",
         "Charade Circuit",
         "Clermont-Ferrand",
         "France",
         45.7472,
         3.03889,
         790
        ],
        [
         52,
         "tremblant",
         "Circuit Mont-Tremblant",
         "Quebec",
         "Canada",
         46.1877,
         -74.6099,
         214
        ],
        [
         53,
         "essarts",
         "Rouen-Les-Essarts",
         "Rouen",
         "France",
         49.3306,
         1.00458,
         81
        ],
        [
         54,
         "lemans",
         "Le Mans",
         "Le Mans",
         "France",
         47.95,
         0.224231,
         67
        ],
        [
         55,
         "reims",
         "Reims-Gueux",
         "Reims",
         "France",
         49.2542,
         3.93083,
         88
        ],
        [
         56,
         "george",
         "Prince George Circuit",
         "Eastern Cape Province",
         "South Africa",
         -33.0486,
         27.8736,
         15
        ],
        [
         57,
         "zeltweg",
         "Zeltweg",
         "Styria",
         "Austria",
         47.2039,
         14.7478,
         676
        ],
        [
         58,
         "aintree",
         "Aintree",
         "Liverpool",
         "UK",
         53.4769,
         -2.94056,
         20
        ],
        [
         59,
         "boavista",
         "Circuito da Boavista",
         "Oporto",
         "Portugal",
         41.1705,
         -8.67325,
         28
        ],
        [
         60,
         "riverside",
         "Riverside International Raceway",
         "California",
         "USA",
         33.937,
         -117.273,
         470
        ],
        [
         61,
         "avus",
         "AVUS",
         "Berlin",
         "Germany",
         52.4806,
         13.2514,
         53
        ],
        [
         62,
         "monsanto",
         "Monsanto Park Circuit",
         "Lisbon",
         "Portugal",
         38.7197,
         -9.20306,
         158
        ],
        [
         63,
         "sebring",
         "Sebring International Raceway",
         "Florida",
         "USA",
         27.4547,
         -81.3483,
         18
        ],
        [
         64,
         "ain-diab",
         "Ain Diab",
         "Casablanca",
         "Morocco",
         33.5786,
         -7.6875,
         19
        ],
        [
         65,
         "pescara",
         "Pescara Circuit",
         "Pescara",
         "Italy",
         42.475,
         14.1508,
         129
        ],
        [
         66,
         "bremgarten",
         "Circuit Bremgarten",
         "Bern",
         "Switzerland",
         46.9589,
         7.40194,
         551
        ],
        [
         67,
         "pedralbes",
         "Circuit de Pedralbes",
         "Barcelona",
         "Spain",
         41.3903,
         2.11667,
         85
        ],
        [
         68,
         "buddh",
         "Buddh International Circuit",
         "Uttar Pradesh",
         "India",
         28.3487,
         77.5331,
         194
        ],
        [
         69,
         "americas",
         "Circuit of the Americas",
         "Austin",
         "USA",
         30.1328,
         -97.6411,
         161
        ],
        [
         70,
         "red_bull_ring",
         "Red Bull Ring",
         "Spielburg",
         "Austria",
         47.2197,
         14.7647,
         678
        ],
        [
         71,
         "sochi",
         "Sochi Autodrom",
         "Sochi",
         "Russia",
         43.4057,
         39.9578,
         2
        ],
        [
         72,
         "port_imperial",
         "Port Imperial Street Circuit",
         "New Jersey",
         "USA",
         40.7769,
         -74.0111,
         4
        ],
        [
         73,
         "BAK",
         "Baku City Circuit",
         "Baku",
         "Azerbaijan",
         40.3725,
         49.8533,
         -7
        ],
        [
         74,
         "hanoi",
         "Hanoi Street Circuit",
         "Hanoi",
         "Vietnam",
         21.0166,
         105.766,
         9
        ],
        [
         75,
         "portimao",
         "Autódromo Internacional do Algarve",
         "Portimão",
         "Portugal",
         37.227,
         -8.6267,
         108
        ],
        [
         76,
         "mugello",
         "Autodromo Internazionale del Mugello",
         "Mugello",
         "Italy",
         43.9975,
         11.3719,
         255
        ],
        [
         77,
         "jeddah",
         "Jeddah Street Circuit",
         "Jeddah",
         "Saudi Arabia",
         21.5433,
         39.1728,
         15
        ]
       ],
       "datasetInfos": [],
       "dbfsResultPath": null,
       "isJsonSchema": true,
       "metadata": {},
       "overflow": false,
       "plotOptions": {
        "customPlotOptions": {},
        "displayType": "table",
        "pivotAggregation": null,
        "pivotColumns": null,
        "xColumns": null,
        "yColumns": null
       },
       "removedWidgets": [],
       "schema": [
        {
         "metadata": "{}",
         "name": "circuit_id",
         "type": "\"integer\""
        },
        {
         "metadata": "{}",
         "name": "circuit_ref",
         "type": "\"string\""
        },
        {
         "metadata": "{}",
         "name": "name",
         "type": "\"string\""
        },
        {
         "metadata": "{}",
         "name": "location",
         "type": "\"string\""
        },
        {
         "metadata": "{}",
         "name": "country",
         "type": "\"string\""
        },
        {
         "metadata": "{}",
         "name": "latitude",
         "type": "\"double\""
        },
        {
         "metadata": "{}",
         "name": "longitude",
         "type": "\"double\""
        },
        {
         "metadata": "{}",
         "name": "altitude",
         "type": "\"integer\""
        }
       ],
       "type": "table"
      }
     },
     "output_type": "display_data"
    }
   ],
   "source": [
    "# Rename Columns Using withColumnRenamed\n",
    "circuits_renamed_df = circuits_selected_df \\\n",
    "    .withColumnRenamed('circuitId', 'circuit_id') \\\n",
    "    .withColumnRenamed('circuitRef', 'circuit_ref') \\\n",
    "    .withColumnRenamed('lat', 'latitude') \\\n",
    "    .withColumnRenamed('long', 'longitude') \\\n",
    "    .withColumnRenamed('alt', 'altitude')\n",
    "\n",
    "# Display Data\n",
    "display(circuits_renamed_df)"
   ]
  },
  {
   "cell_type": "code",
   "execution_count": null,
   "metadata": {
    "application/vnd.databricks.v1+cell": {
     "cellMetadata": {
      "byteLimit": 2048000,
      "rowLimit": 10000
     },
     "inputWidgets": {},
     "nuid": "bc74712f-b4db-48e4-b34b-a27d25749bcf",
     "showTitle": false,
     "title": ""
    }
   },
   "outputs": [
    {
     "data": {
      "text/html": [
       "<style scoped>\n",
       "  .table-result-container {\n",
       "    max-height: 300px;\n",
       "    overflow: auto;\n",
       "  }\n",
       "  table, th, td {\n",
       "    border: 1px solid black;\n",
       "    border-collapse: collapse;\n",
       "  }\n",
       "  th, td {\n",
       "    padding: 5px;\n",
       "  }\n",
       "  th {\n",
       "    text-align: left;\n",
       "  }\n",
       "</style><div class='table-result-container'><table class='table-result'><thead style='background-color: white'><tr><th>circuit_id</th><th>circuit_ref</th><th>name</th><th>location</th><th>country</th><th>latitude</th><th>longitude</th><th>altitude</th><th>env</th><th>ingestion_date</th></tr></thead><tbody><tr><td>1</td><td>albert_park</td><td>Albert Park Grand Prix Circuit</td><td>Melbourne</td><td>Australia</td><td>-37.8497</td><td>144.968</td><td>10</td><td>prod</td><td>2023-07-12T02:46:58.793+0000</td></tr><tr><td>2</td><td>sepang</td><td>Sepang International Circuit</td><td>Kuala Lumpur</td><td>Malaysia</td><td>2.76083</td><td>101.738</td><td>18</td><td>prod</td><td>2023-07-12T02:46:58.793+0000</td></tr><tr><td>3</td><td>bahrain</td><td>Bahrain International Circuit</td><td>Sakhir</td><td>Bahrain</td><td>26.0325</td><td>50.5106</td><td>7</td><td>prod</td><td>2023-07-12T02:46:58.793+0000</td></tr><tr><td>4</td><td>catalunya</td><td>Circuit de Barcelona-Catalunya</td><td>Montmeló</td><td>Spain</td><td>41.57</td><td>2.26111</td><td>109</td><td>prod</td><td>2023-07-12T02:46:58.793+0000</td></tr><tr><td>5</td><td>istanbul</td><td>Istanbul Park</td><td>Istanbul</td><td>Turkey</td><td>40.9517</td><td>29.405</td><td>130</td><td>prod</td><td>2023-07-12T02:46:58.793+0000</td></tr><tr><td>6</td><td>monaco</td><td>Circuit de Monaco</td><td>Monte-Carlo</td><td>Monaco</td><td>43.7347</td><td>7.42056</td><td>7</td><td>prod</td><td>2023-07-12T02:46:58.793+0000</td></tr><tr><td>7</td><td>villeneuve</td><td>Circuit Gilles Villeneuve</td><td>Montreal</td><td>Canada</td><td>45.5</td><td>-73.5228</td><td>13</td><td>prod</td><td>2023-07-12T02:46:58.793+0000</td></tr><tr><td>8</td><td>magny_cours</td><td>Circuit de Nevers Magny-Cours</td><td>Magny Cours</td><td>France</td><td>46.8642</td><td>3.16361</td><td>228</td><td>prod</td><td>2023-07-12T02:46:58.793+0000</td></tr><tr><td>9</td><td>silverstone</td><td>Silverstone Circuit</td><td>Silverstone</td><td>UK</td><td>52.0786</td><td>-1.01694</td><td>153</td><td>prod</td><td>2023-07-12T02:46:58.793+0000</td></tr><tr><td>10</td><td>hockenheimring</td><td>Hockenheimring</td><td>Hockenheim</td><td>Germany</td><td>49.3278</td><td>8.56583</td><td>103</td><td>prod</td><td>2023-07-12T02:46:58.793+0000</td></tr><tr><td>11</td><td>hungaroring</td><td>Hungaroring</td><td>Budapest</td><td>Hungary</td><td>47.5789</td><td>19.2486</td><td>264</td><td>prod</td><td>2023-07-12T02:46:58.793+0000</td></tr><tr><td>12</td><td>valencia</td><td>Valencia Street Circuit</td><td>Valencia</td><td>Spain</td><td>39.4589</td><td>-0.331667</td><td>4</td><td>prod</td><td>2023-07-12T02:46:58.793+0000</td></tr><tr><td>13</td><td>spa</td><td>Circuit de Spa-Francorchamps</td><td>Spa</td><td>Belgium</td><td>50.4372</td><td>5.97139</td><td>401</td><td>prod</td><td>2023-07-12T02:46:58.793+0000</td></tr><tr><td>14</td><td>monza</td><td>Autodromo Nazionale di Monza</td><td>Monza</td><td>Italy</td><td>45.6156</td><td>9.28111</td><td>162</td><td>prod</td><td>2023-07-12T02:46:58.793+0000</td></tr><tr><td>15</td><td>marina_bay</td><td>Marina Bay Street Circuit</td><td>Marina Bay</td><td>Singapore</td><td>1.2914</td><td>103.864</td><td>18</td><td>prod</td><td>2023-07-12T02:46:58.793+0000</td></tr><tr><td>16</td><td>fuji</td><td>Fuji Speedway</td><td>Oyama</td><td>Japan</td><td>35.3717</td><td>138.927</td><td>583</td><td>prod</td><td>2023-07-12T02:46:58.793+0000</td></tr><tr><td>17</td><td>shanghai</td><td>Shanghai International Circuit</td><td>Shanghai</td><td>China</td><td>31.3389</td><td>121.22</td><td>5</td><td>prod</td><td>2023-07-12T02:46:58.793+0000</td></tr><tr><td>18</td><td>interlagos</td><td>Autódromo José Carlos Pace</td><td>São Paulo</td><td>Brazil</td><td>-23.7036</td><td>-46.6997</td><td>785</td><td>prod</td><td>2023-07-12T02:46:58.793+0000</td></tr><tr><td>19</td><td>indianapolis</td><td>Indianapolis Motor Speedway</td><td>Indianapolis</td><td>USA</td><td>39.795</td><td>-86.2347</td><td>223</td><td>prod</td><td>2023-07-12T02:46:58.793+0000</td></tr><tr><td>20</td><td>nurburgring</td><td>Nürburgring</td><td>Nürburg</td><td>Germany</td><td>50.3356</td><td>6.9475</td><td>578</td><td>prod</td><td>2023-07-12T02:46:58.793+0000</td></tr><tr><td>21</td><td>imola</td><td>Autodromo Enzo e Dino Ferrari</td><td>Imola</td><td>Italy</td><td>44.3439</td><td>11.7167</td><td>37</td><td>prod</td><td>2023-07-12T02:46:58.793+0000</td></tr><tr><td>22</td><td>suzuka</td><td>Suzuka Circuit</td><td>Suzuka</td><td>Japan</td><td>34.8431</td><td>136.541</td><td>45</td><td>prod</td><td>2023-07-12T02:46:58.793+0000</td></tr><tr><td>23</td><td>osterreichring</td><td>A1-Ring</td><td>Spielburg</td><td>Austria</td><td>47.2197</td><td>14.7647</td><td>678</td><td>prod</td><td>2023-07-12T02:46:58.793+0000</td></tr><tr><td>24</td><td>yas_marina</td><td>Yas Marina Circuit</td><td>Abu Dhabi</td><td>UAE</td><td>24.4672</td><td>54.6031</td><td>3</td><td>prod</td><td>2023-07-12T02:46:58.793+0000</td></tr><tr><td>25</td><td>galvez</td><td>Autódromo Juan y Oscar Gálvez</td><td>Buenos Aires</td><td>Argentina</td><td>-34.6943</td><td>-58.4593</td><td>8</td><td>prod</td><td>2023-07-12T02:46:58.793+0000</td></tr><tr><td>26</td><td>jerez</td><td>Circuito de Jerez</td><td>Jerez de la Frontera</td><td>Spain</td><td>36.7083</td><td>-6.03417</td><td>37</td><td>prod</td><td>2023-07-12T02:46:58.793+0000</td></tr><tr><td>27</td><td>estoril</td><td>Autódromo do Estoril</td><td>Estoril</td><td>Portugal</td><td>38.7506</td><td>-9.39417</td><td>130</td><td>prod</td><td>2023-07-12T02:46:58.793+0000</td></tr><tr><td>28</td><td>okayama</td><td>Okayama International Circuit</td><td>Okayama</td><td>Japan</td><td>34.915</td><td>134.221</td><td>266</td><td>prod</td><td>2023-07-12T02:46:58.793+0000</td></tr><tr><td>29</td><td>adelaide</td><td>Adelaide Street Circuit</td><td>Adelaide</td><td>Australia</td><td>-34.9272</td><td>138.617</td><td>58</td><td>prod</td><td>2023-07-12T02:46:58.793+0000</td></tr><tr><td>30</td><td>kyalami</td><td>Kyalami</td><td>Midrand</td><td>South Africa</td><td>-25.9894</td><td>28.0767</td><td>1460</td><td>prod</td><td>2023-07-12T02:46:58.793+0000</td></tr><tr><td>31</td><td>donington</td><td>Donington Park</td><td>Castle Donington</td><td>UK</td><td>52.8306</td><td>-1.37528</td><td>88</td><td>prod</td><td>2023-07-12T02:46:58.793+0000</td></tr><tr><td>32</td><td>rodriguez</td><td>Autódromo Hermanos Rodríguez</td><td>Mexico City</td><td>Mexico</td><td>19.4042</td><td>-99.0907</td><td>2227</td><td>prod</td><td>2023-07-12T02:46:58.793+0000</td></tr><tr><td>33</td><td>phoenix</td><td>Phoenix street circuit</td><td>Phoenix</td><td>USA</td><td>33.4479</td><td>-112.075</td><td>345</td><td>prod</td><td>2023-07-12T02:46:58.793+0000</td></tr><tr><td>34</td><td>ricard</td><td>Circuit Paul Ricard</td><td>Le Castellet</td><td>France</td><td>43.2506</td><td>5.79167</td><td>432</td><td>prod</td><td>2023-07-12T02:46:58.793+0000</td></tr><tr><td>35</td><td>yeongam</td><td>Korean International Circuit</td><td>Yeongam County</td><td>Korea</td><td>34.7333</td><td>126.417</td><td>0</td><td>prod</td><td>2023-07-12T02:46:58.793+0000</td></tr><tr><td>36</td><td>jacarepagua</td><td>Autódromo Internacional Nelson Piquet</td><td>Rio de Janeiro</td><td>Brazil</td><td>-22.9756</td><td>-43.395</td><td>1126</td><td>prod</td><td>2023-07-12T02:46:58.793+0000</td></tr><tr><td>37</td><td>detroit</td><td>Detroit Street Circuit</td><td>Detroit</td><td>USA</td><td>42.3298</td><td>-83.0401</td><td>177</td><td>prod</td><td>2023-07-12T02:46:58.793+0000</td></tr><tr><td>38</td><td>brands_hatch</td><td>Brands Hatch</td><td>Kent</td><td>UK</td><td>51.3569</td><td>0.263056</td><td>145</td><td>prod</td><td>2023-07-12T02:46:58.793+0000</td></tr><tr><td>39</td><td>zandvoort</td><td>Circuit Park Zandvoort</td><td>Zandvoort</td><td>Netherlands</td><td>52.3888</td><td>4.54092</td><td>6</td><td>prod</td><td>2023-07-12T02:46:58.793+0000</td></tr><tr><td>40</td><td>zolder</td><td>Zolder</td><td>Heusden-Zolder</td><td>Belgium</td><td>50.9894</td><td>5.25694</td><td>36</td><td>prod</td><td>2023-07-12T02:46:58.793+0000</td></tr><tr><td>41</td><td>dijon</td><td>Dijon-Prenois</td><td>Dijon</td><td>France</td><td>47.3625</td><td>4.89913</td><td>484</td><td>prod</td><td>2023-07-12T02:46:58.793+0000</td></tr><tr><td>42</td><td>dallas</td><td>Fair Park</td><td>Dallas</td><td>USA</td><td>32.7774</td><td>-96.7587</td><td>139</td><td>prod</td><td>2023-07-12T02:46:58.793+0000</td></tr><tr><td>43</td><td>long_beach</td><td>Long Beach</td><td>California</td><td>USA</td><td>33.7651</td><td>-118.189</td><td>12</td><td>prod</td><td>2023-07-12T02:46:58.793+0000</td></tr><tr><td>44</td><td>las_vegas</td><td>Las Vegas Street Circuit</td><td>Nevada</td><td>USA</td><td>36.1162</td><td>-115.174</td><td>639</td><td>prod</td><td>2023-07-12T02:46:58.793+0000</td></tr><tr><td>45</td><td>jarama</td><td>Jarama</td><td>Madrid</td><td>Spain</td><td>40.6171</td><td>-3.58558</td><td>609</td><td>prod</td><td>2023-07-12T02:46:58.793+0000</td></tr><tr><td>46</td><td>watkins_glen</td><td>Watkins Glen</td><td>New York State</td><td>USA</td><td>42.3369</td><td>-76.9272</td><td>485</td><td>prod</td><td>2023-07-12T02:46:58.793+0000</td></tr><tr><td>47</td><td>anderstorp</td><td>Scandinavian Raceway</td><td>Anderstorp</td><td>Sweden</td><td>57.2653</td><td>13.6042</td><td>153</td><td>prod</td><td>2023-07-12T02:46:58.793+0000</td></tr><tr><td>48</td><td>mosport</td><td>Mosport International Raceway</td><td>Ontario</td><td>Canada</td><td>44.0481</td><td>-78.6756</td><td>332</td><td>prod</td><td>2023-07-12T02:46:58.793+0000</td></tr><tr><td>49</td><td>montjuic</td><td>Montjuïc</td><td>Barcelona</td><td>Spain</td><td>41.3664</td><td>2.15167</td><td>79</td><td>prod</td><td>2023-07-12T02:46:58.793+0000</td></tr><tr><td>50</td><td>nivelles</td><td>Nivelles-Baulers</td><td>Brussels</td><td>Belgium</td><td>50.6211</td><td>4.32694</td><td>139</td><td>prod</td><td>2023-07-12T02:46:58.793+0000</td></tr><tr><td>51</td><td>charade</td><td>Charade Circuit</td><td>Clermont-Ferrand</td><td>France</td><td>45.7472</td><td>3.03889</td><td>790</td><td>prod</td><td>2023-07-12T02:46:58.793+0000</td></tr><tr><td>52</td><td>tremblant</td><td>Circuit Mont-Tremblant</td><td>Quebec</td><td>Canada</td><td>46.1877</td><td>-74.6099</td><td>214</td><td>prod</td><td>2023-07-12T02:46:58.793+0000</td></tr><tr><td>53</td><td>essarts</td><td>Rouen-Les-Essarts</td><td>Rouen</td><td>France</td><td>49.3306</td><td>1.00458</td><td>81</td><td>prod</td><td>2023-07-12T02:46:58.793+0000</td></tr><tr><td>54</td><td>lemans</td><td>Le Mans</td><td>Le Mans</td><td>France</td><td>47.95</td><td>0.224231</td><td>67</td><td>prod</td><td>2023-07-12T02:46:58.793+0000</td></tr><tr><td>55</td><td>reims</td><td>Reims-Gueux</td><td>Reims</td><td>France</td><td>49.2542</td><td>3.93083</td><td>88</td><td>prod</td><td>2023-07-12T02:46:58.793+0000</td></tr><tr><td>56</td><td>george</td><td>Prince George Circuit</td><td>Eastern Cape Province</td><td>South Africa</td><td>-33.0486</td><td>27.8736</td><td>15</td><td>prod</td><td>2023-07-12T02:46:58.793+0000</td></tr><tr><td>57</td><td>zeltweg</td><td>Zeltweg</td><td>Styria</td><td>Austria</td><td>47.2039</td><td>14.7478</td><td>676</td><td>prod</td><td>2023-07-12T02:46:58.793+0000</td></tr><tr><td>58</td><td>aintree</td><td>Aintree</td><td>Liverpool</td><td>UK</td><td>53.4769</td><td>-2.94056</td><td>20</td><td>prod</td><td>2023-07-12T02:46:58.793+0000</td></tr><tr><td>59</td><td>boavista</td><td>Circuito da Boavista</td><td>Oporto</td><td>Portugal</td><td>41.1705</td><td>-8.67325</td><td>28</td><td>prod</td><td>2023-07-12T02:46:58.793+0000</td></tr><tr><td>60</td><td>riverside</td><td>Riverside International Raceway</td><td>California</td><td>USA</td><td>33.937</td><td>-117.273</td><td>470</td><td>prod</td><td>2023-07-12T02:46:58.793+0000</td></tr><tr><td>61</td><td>avus</td><td>AVUS</td><td>Berlin</td><td>Germany</td><td>52.4806</td><td>13.2514</td><td>53</td><td>prod</td><td>2023-07-12T02:46:58.793+0000</td></tr><tr><td>62</td><td>monsanto</td><td>Monsanto Park Circuit</td><td>Lisbon</td><td>Portugal</td><td>38.7197</td><td>-9.20306</td><td>158</td><td>prod</td><td>2023-07-12T02:46:58.793+0000</td></tr><tr><td>63</td><td>sebring</td><td>Sebring International Raceway</td><td>Florida</td><td>USA</td><td>27.4547</td><td>-81.3483</td><td>18</td><td>prod</td><td>2023-07-12T02:46:58.793+0000</td></tr><tr><td>64</td><td>ain-diab</td><td>Ain Diab</td><td>Casablanca</td><td>Morocco</td><td>33.5786</td><td>-7.6875</td><td>19</td><td>prod</td><td>2023-07-12T02:46:58.793+0000</td></tr><tr><td>65</td><td>pescara</td><td>Pescara Circuit</td><td>Pescara</td><td>Italy</td><td>42.475</td><td>14.1508</td><td>129</td><td>prod</td><td>2023-07-12T02:46:58.793+0000</td></tr><tr><td>66</td><td>bremgarten</td><td>Circuit Bremgarten</td><td>Bern</td><td>Switzerland</td><td>46.9589</td><td>7.40194</td><td>551</td><td>prod</td><td>2023-07-12T02:46:58.793+0000</td></tr><tr><td>67</td><td>pedralbes</td><td>Circuit de Pedralbes</td><td>Barcelona</td><td>Spain</td><td>41.3903</td><td>2.11667</td><td>85</td><td>prod</td><td>2023-07-12T02:46:58.793+0000</td></tr><tr><td>68</td><td>buddh</td><td>Buddh International Circuit</td><td>Uttar Pradesh</td><td>India</td><td>28.3487</td><td>77.5331</td><td>194</td><td>prod</td><td>2023-07-12T02:46:58.793+0000</td></tr><tr><td>69</td><td>americas</td><td>Circuit of the Americas</td><td>Austin</td><td>USA</td><td>30.1328</td><td>-97.6411</td><td>161</td><td>prod</td><td>2023-07-12T02:46:58.793+0000</td></tr><tr><td>70</td><td>red_bull_ring</td><td>Red Bull Ring</td><td>Spielburg</td><td>Austria</td><td>47.2197</td><td>14.7647</td><td>678</td><td>prod</td><td>2023-07-12T02:46:58.793+0000</td></tr><tr><td>71</td><td>sochi</td><td>Sochi Autodrom</td><td>Sochi</td><td>Russia</td><td>43.4057</td><td>39.9578</td><td>2</td><td>prod</td><td>2023-07-12T02:46:58.793+0000</td></tr><tr><td>72</td><td>port_imperial</td><td>Port Imperial Street Circuit</td><td>New Jersey</td><td>USA</td><td>40.7769</td><td>-74.0111</td><td>4</td><td>prod</td><td>2023-07-12T02:46:58.793+0000</td></tr><tr><td>73</td><td>BAK</td><td>Baku City Circuit</td><td>Baku</td><td>Azerbaijan</td><td>40.3725</td><td>49.8533</td><td>-7</td><td>prod</td><td>2023-07-12T02:46:58.793+0000</td></tr><tr><td>74</td><td>hanoi</td><td>Hanoi Street Circuit</td><td>Hanoi</td><td>Vietnam</td><td>21.0166</td><td>105.766</td><td>9</td><td>prod</td><td>2023-07-12T02:46:58.793+0000</td></tr><tr><td>75</td><td>portimao</td><td>Autódromo Internacional do Algarve</td><td>Portimão</td><td>Portugal</td><td>37.227</td><td>-8.6267</td><td>108</td><td>prod</td><td>2023-07-12T02:46:58.793+0000</td></tr><tr><td>76</td><td>mugello</td><td>Autodromo Internazionale del Mugello</td><td>Mugello</td><td>Italy</td><td>43.9975</td><td>11.3719</td><td>255</td><td>prod</td><td>2023-07-12T02:46:58.793+0000</td></tr><tr><td>77</td><td>jeddah</td><td>Jeddah Street Circuit</td><td>Jeddah</td><td>Saudi Arabia</td><td>21.5433</td><td>39.1728</td><td>15</td><td>prod</td><td>2023-07-12T02:46:58.793+0000</td></tr></tbody></table></div>"
      ]
     },
     "metadata": {
      "application/vnd.databricks.v1+output": {
       "addedWidgets": {},
       "aggData": [],
       "aggError": "",
       "aggOverflow": false,
       "aggSchema": [],
       "aggSeriesLimitReached": false,
       "aggType": "",
       "arguments": {},
       "columnCustomDisplayInfos": {},
       "data": [
        [
         1,
         "albert_park",
         "Albert Park Grand Prix Circuit",
         "Melbourne",
         "Australia",
         -37.8497,
         144.968,
         10,
         "prod",
         "2023-07-12T02:46:58.793+0000"
        ],
        [
         2,
         "sepang",
         "Sepang International Circuit",
         "Kuala Lumpur",
         "Malaysia",
         2.76083,
         101.738,
         18,
         "prod",
         "2023-07-12T02:46:58.793+0000"
        ],
        [
         3,
         "bahrain",
         "Bahrain International Circuit",
         "Sakhir",
         "Bahrain",
         26.0325,
         50.5106,
         7,
         "prod",
         "2023-07-12T02:46:58.793+0000"
        ],
        [
         4,
         "catalunya",
         "Circuit de Barcelona-Catalunya",
         "Montmeló",
         "Spain",
         41.57,
         2.26111,
         109,
         "prod",
         "2023-07-12T02:46:58.793+0000"
        ],
        [
         5,
         "istanbul",
         "Istanbul Park",
         "Istanbul",
         "Turkey",
         40.9517,
         29.405,
         130,
         "prod",
         "2023-07-12T02:46:58.793+0000"
        ],
        [
         6,
         "monaco",
         "Circuit de Monaco",
         "Monte-Carlo",
         "Monaco",
         43.7347,
         7.42056,
         7,
         "prod",
         "2023-07-12T02:46:58.793+0000"
        ],
        [
         7,
         "villeneuve",
         "Circuit Gilles Villeneuve",
         "Montreal",
         "Canada",
         45.5,
         -73.5228,
         13,
         "prod",
         "2023-07-12T02:46:58.793+0000"
        ],
        [
         8,
         "magny_cours",
         "Circuit de Nevers Magny-Cours",
         "Magny Cours",
         "France",
         46.8642,
         3.16361,
         228,
         "prod",
         "2023-07-12T02:46:58.793+0000"
        ],
        [
         9,
         "silverstone",
         "Silverstone Circuit",
         "Silverstone",
         "UK",
         52.0786,
         -1.01694,
         153,
         "prod",
         "2023-07-12T02:46:58.793+0000"
        ],
        [
         10,
         "hockenheimring",
         "Hockenheimring",
         "Hockenheim",
         "Germany",
         49.3278,
         8.56583,
         103,
         "prod",
         "2023-07-12T02:46:58.793+0000"
        ],
        [
         11,
         "hungaroring",
         "Hungaroring",
         "Budapest",
         "Hungary",
         47.5789,
         19.2486,
         264,
         "prod",
         "2023-07-12T02:46:58.793+0000"
        ],
        [
         12,
         "valencia",
         "Valencia Street Circuit",
         "Valencia",
         "Spain",
         39.4589,
         -0.331667,
         4,
         "prod",
         "2023-07-12T02:46:58.793+0000"
        ],
        [
         13,
         "spa",
         "Circuit de Spa-Francorchamps",
         "Spa",
         "Belgium",
         50.4372,
         5.97139,
         401,
         "prod",
         "2023-07-12T02:46:58.793+0000"
        ],
        [
         14,
         "monza",
         "Autodromo Nazionale di Monza",
         "Monza",
         "Italy",
         45.6156,
         9.28111,
         162,
         "prod",
         "2023-07-12T02:46:58.793+0000"
        ],
        [
         15,
         "marina_bay",
         "Marina Bay Street Circuit",
         "Marina Bay",
         "Singapore",
         1.2914,
         103.864,
         18,
         "prod",
         "2023-07-12T02:46:58.793+0000"
        ],
        [
         16,
         "fuji",
         "Fuji Speedway",
         "Oyama",
         "Japan",
         35.3717,
         138.927,
         583,
         "prod",
         "2023-07-12T02:46:58.793+0000"
        ],
        [
         17,
         "shanghai",
         "Shanghai International Circuit",
         "Shanghai",
         "China",
         31.3389,
         121.22,
         5,
         "prod",
         "2023-07-12T02:46:58.793+0000"
        ],
        [
         18,
         "interlagos",
         "Autódromo José Carlos Pace",
         "São Paulo",
         "Brazil",
         -23.7036,
         -46.6997,
         785,
         "prod",
         "2023-07-12T02:46:58.793+0000"
        ],
        [
         19,
         "indianapolis",
         "Indianapolis Motor Speedway",
         "Indianapolis",
         "USA",
         39.795,
         -86.2347,
         223,
         "prod",
         "2023-07-12T02:46:58.793+0000"
        ],
        [
         20,
         "nurburgring",
         "Nürburgring",
         "Nürburg",
         "Germany",
         50.3356,
         6.9475,
         578,
         "prod",
         "2023-07-12T02:46:58.793+0000"
        ],
        [
         21,
         "imola",
         "Autodromo Enzo e Dino Ferrari",
         "Imola",
         "Italy",
         44.3439,
         11.7167,
         37,
         "prod",
         "2023-07-12T02:46:58.793+0000"
        ],
        [
         22,
         "suzuka",
         "Suzuka Circuit",
         "Suzuka",
         "Japan",
         34.8431,
         136.541,
         45,
         "prod",
         "2023-07-12T02:46:58.793+0000"
        ],
        [
         23,
         "osterreichring",
         "A1-Ring",
         "Spielburg",
         "Austria",
         47.2197,
         14.7647,
         678,
         "prod",
         "2023-07-12T02:46:58.793+0000"
        ],
        [
         24,
         "yas_marina",
         "Yas Marina Circuit",
         "Abu Dhabi",
         "UAE",
         24.4672,
         54.6031,
         3,
         "prod",
         "2023-07-12T02:46:58.793+0000"
        ],
        [
         25,
         "galvez",
         "Autódromo Juan y Oscar Gálvez",
         "Buenos Aires",
         "Argentina",
         -34.6943,
         -58.4593,
         8,
         "prod",
         "2023-07-12T02:46:58.793+0000"
        ],
        [
         26,
         "jerez",
         "Circuito de Jerez",
         "Jerez de la Frontera",
         "Spain",
         36.7083,
         -6.03417,
         37,
         "prod",
         "2023-07-12T02:46:58.793+0000"
        ],
        [
         27,
         "estoril",
         "Autódromo do Estoril",
         "Estoril",
         "Portugal",
         38.7506,
         -9.39417,
         130,
         "prod",
         "2023-07-12T02:46:58.793+0000"
        ],
        [
         28,
         "okayama",
         "Okayama International Circuit",
         "Okayama",
         "Japan",
         34.915,
         134.221,
         266,
         "prod",
         "2023-07-12T02:46:58.793+0000"
        ],
        [
         29,
         "adelaide",
         "Adelaide Street Circuit",
         "Adelaide",
         "Australia",
         -34.9272,
         138.617,
         58,
         "prod",
         "2023-07-12T02:46:58.793+0000"
        ],
        [
         30,
         "kyalami",
         "Kyalami",
         "Midrand",
         "South Africa",
         -25.9894,
         28.0767,
         1460,
         "prod",
         "2023-07-12T02:46:58.793+0000"
        ],
        [
         31,
         "donington",
         "Donington Park",
         "Castle Donington",
         "UK",
         52.8306,
         -1.37528,
         88,
         "prod",
         "2023-07-12T02:46:58.793+0000"
        ],
        [
         32,
         "rodriguez",
         "Autódromo Hermanos Rodríguez",
         "Mexico City",
         "Mexico",
         19.4042,
         -99.0907,
         2227,
         "prod",
         "2023-07-12T02:46:58.793+0000"
        ],
        [
         33,
         "phoenix",
         "Phoenix street circuit",
         "Phoenix",
         "USA",
         33.4479,
         -112.075,
         345,
         "prod",
         "2023-07-12T02:46:58.793+0000"
        ],
        [
         34,
         "ricard",
         "Circuit Paul Ricard",
         "Le Castellet",
         "France",
         43.2506,
         5.79167,
         432,
         "prod",
         "2023-07-12T02:46:58.793+0000"
        ],
        [
         35,
         "yeongam",
         "Korean International Circuit",
         "Yeongam County",
         "Korea",
         34.7333,
         126.417,
         0,
         "prod",
         "2023-07-12T02:46:58.793+0000"
        ],
        [
         36,
         "jacarepagua",
         "Autódromo Internacional Nelson Piquet",
         "Rio de Janeiro",
         "Brazil",
         -22.9756,
         -43.395,
         1126,
         "prod",
         "2023-07-12T02:46:58.793+0000"
        ],
        [
         37,
         "detroit",
         "Detroit Street Circuit",
         "Detroit",
         "USA",
         42.3298,
         -83.0401,
         177,
         "prod",
         "2023-07-12T02:46:58.793+0000"
        ],
        [
         38,
         "brands_hatch",
         "Brands Hatch",
         "Kent",
         "UK",
         51.3569,
         0.263056,
         145,
         "prod",
         "2023-07-12T02:46:58.793+0000"
        ],
        [
         39,
         "zandvoort",
         "Circuit Park Zandvoort",
         "Zandvoort",
         "Netherlands",
         52.3888,
         4.54092,
         6,
         "prod",
         "2023-07-12T02:46:58.793+0000"
        ],
        [
         40,
         "zolder",
         "Zolder",
         "Heusden-Zolder",
         "Belgium",
         50.9894,
         5.25694,
         36,
         "prod",
         "2023-07-12T02:46:58.793+0000"
        ],
        [
         41,
         "dijon",
         "Dijon-Prenois",
         "Dijon",
         "France",
         47.3625,
         4.89913,
         484,
         "prod",
         "2023-07-12T02:46:58.793+0000"
        ],
        [
         42,
         "dallas",
         "Fair Park",
         "Dallas",
         "USA",
         32.7774,
         -96.7587,
         139,
         "prod",
         "2023-07-12T02:46:58.793+0000"
        ],
        [
         43,
         "long_beach",
         "Long Beach",
         "California",
         "USA",
         33.7651,
         -118.189,
         12,
         "prod",
         "2023-07-12T02:46:58.793+0000"
        ],
        [
         44,
         "las_vegas",
         "Las Vegas Street Circuit",
         "Nevada",
         "USA",
         36.1162,
         -115.174,
         639,
         "prod",
         "2023-07-12T02:46:58.793+0000"
        ],
        [
         45,
         "jarama",
         "Jarama",
         "Madrid",
         "Spain",
         40.6171,
         -3.58558,
         609,
         "prod",
         "2023-07-12T02:46:58.793+0000"
        ],
        [
         46,
         "watkins_glen",
         "Watkins Glen",
         "New York State",
         "USA",
         42.3369,
         -76.9272,
         485,
         "prod",
         "2023-07-12T02:46:58.793+0000"
        ],
        [
         47,
         "anderstorp",
         "Scandinavian Raceway",
         "Anderstorp",
         "Sweden",
         57.2653,
         13.6042,
         153,
         "prod",
         "2023-07-12T02:46:58.793+0000"
        ],
        [
         48,
         "mosport",
         "Mosport International Raceway",
         "Ontario",
         "Canada",
         44.0481,
         -78.6756,
         332,
         "prod",
         "2023-07-12T02:46:58.793+0000"
        ],
        [
         49,
         "montjuic",
         "Montjuïc",
         "Barcelona",
         "Spain",
         41.3664,
         2.15167,
         79,
         "prod",
         "2023-07-12T02:46:58.793+0000"
        ],
        [
         50,
         "nivelles",
         "Nivelles-Baulers",
         "Brussels",
         "Belgium",
         50.6211,
         4.32694,
         139,
         "prod",
         "2023-07-12T02:46:58.793+0000"
        ],
        [
         51,
         "charade",
         "Charade Circuit",
         "Clermont-Ferrand",
         "France",
         45.7472,
         3.03889,
         790,
         "prod",
         "2023-07-12T02:46:58.793+0000"
        ],
        [
         52,
         "tremblant",
         "Circuit Mont-Tremblant",
         "Quebec",
         "Canada",
         46.1877,
         -74.6099,
         214,
         "prod",
         "2023-07-12T02:46:58.793+0000"
        ],
        [
         53,
         "essarts",
         "Rouen-Les-Essarts",
         "Rouen",
         "France",
         49.3306,
         1.00458,
         81,
         "prod",
         "2023-07-12T02:46:58.793+0000"
        ],
        [
         54,
         "lemans",
         "Le Mans",
         "Le Mans",
         "France",
         47.95,
         0.224231,
         67,
         "prod",
         "2023-07-12T02:46:58.793+0000"
        ],
        [
         55,
         "reims",
         "Reims-Gueux",
         "Reims",
         "France",
         49.2542,
         3.93083,
         88,
         "prod",
         "2023-07-12T02:46:58.793+0000"
        ],
        [
         56,
         "george",
         "Prince George Circuit",
         "Eastern Cape Province",
         "South Africa",
         -33.0486,
         27.8736,
         15,
         "prod",
         "2023-07-12T02:46:58.793+0000"
        ],
        [
         57,
         "zeltweg",
         "Zeltweg",
         "Styria",
         "Austria",
         47.2039,
         14.7478,
         676,
         "prod",
         "2023-07-12T02:46:58.793+0000"
        ],
        [
         58,
         "aintree",
         "Aintree",
         "Liverpool",
         "UK",
         53.4769,
         -2.94056,
         20,
         "prod",
         "2023-07-12T02:46:58.793+0000"
        ],
        [
         59,
         "boavista",
         "Circuito da Boavista",
         "Oporto",
         "Portugal",
         41.1705,
         -8.67325,
         28,
         "prod",
         "2023-07-12T02:46:58.793+0000"
        ],
        [
         60,
         "riverside",
         "Riverside International Raceway",
         "California",
         "USA",
         33.937,
         -117.273,
         470,
         "prod",
         "2023-07-12T02:46:58.793+0000"
        ],
        [
         61,
         "avus",
         "AVUS",
         "Berlin",
         "Germany",
         52.4806,
         13.2514,
         53,
         "prod",
         "2023-07-12T02:46:58.793+0000"
        ],
        [
         62,
         "monsanto",
         "Monsanto Park Circuit",
         "Lisbon",
         "Portugal",
         38.7197,
         -9.20306,
         158,
         "prod",
         "2023-07-12T02:46:58.793+0000"
        ],
        [
         63,
         "sebring",
         "Sebring International Raceway",
         "Florida",
         "USA",
         27.4547,
         -81.3483,
         18,
         "prod",
         "2023-07-12T02:46:58.793+0000"
        ],
        [
         64,
         "ain-diab",
         "Ain Diab",
         "Casablanca",
         "Morocco",
         33.5786,
         -7.6875,
         19,
         "prod",
         "2023-07-12T02:46:58.793+0000"
        ],
        [
         65,
         "pescara",
         "Pescara Circuit",
         "Pescara",
         "Italy",
         42.475,
         14.1508,
         129,
         "prod",
         "2023-07-12T02:46:58.793+0000"
        ],
        [
         66,
         "bremgarten",
         "Circuit Bremgarten",
         "Bern",
         "Switzerland",
         46.9589,
         7.40194,
         551,
         "prod",
         "2023-07-12T02:46:58.793+0000"
        ],
        [
         67,
         "pedralbes",
         "Circuit de Pedralbes",
         "Barcelona",
         "Spain",
         41.3903,
         2.11667,
         85,
         "prod",
         "2023-07-12T02:46:58.793+0000"
        ],
        [
         68,
         "buddh",
         "Buddh International Circuit",
         "Uttar Pradesh",
         "India",
         28.3487,
         77.5331,
         194,
         "prod",
         "2023-07-12T02:46:58.793+0000"
        ],
        [
         69,
         "americas",
         "Circuit of the Americas",
         "Austin",
         "USA",
         30.1328,
         -97.6411,
         161,
         "prod",
         "2023-07-12T02:46:58.793+0000"
        ],
        [
         70,
         "red_bull_ring",
         "Red Bull Ring",
         "Spielburg",
         "Austria",
         47.2197,
         14.7647,
         678,
         "prod",
         "2023-07-12T02:46:58.793+0000"
        ],
        [
         71,
         "sochi",
         "Sochi Autodrom",
         "Sochi",
         "Russia",
         43.4057,
         39.9578,
         2,
         "prod",
         "2023-07-12T02:46:58.793+0000"
        ],
        [
         72,
         "port_imperial",
         "Port Imperial Street Circuit",
         "New Jersey",
         "USA",
         40.7769,
         -74.0111,
         4,
         "prod",
         "2023-07-12T02:46:58.793+0000"
        ],
        [
         73,
         "BAK",
         "Baku City Circuit",
         "Baku",
         "Azerbaijan",
         40.3725,
         49.8533,
         -7,
         "prod",
         "2023-07-12T02:46:58.793+0000"
        ],
        [
         74,
         "hanoi",
         "Hanoi Street Circuit",
         "Hanoi",
         "Vietnam",
         21.0166,
         105.766,
         9,
         "prod",
         "2023-07-12T02:46:58.793+0000"
        ],
        [
         75,
         "portimao",
         "Autódromo Internacional do Algarve",
         "Portimão",
         "Portugal",
         37.227,
         -8.6267,
         108,
         "prod",
         "2023-07-12T02:46:58.793+0000"
        ],
        [
         76,
         "mugello",
         "Autodromo Internazionale del Mugello",
         "Mugello",
         "Italy",
         43.9975,
         11.3719,
         255,
         "prod",
         "2023-07-12T02:46:58.793+0000"
        ],
        [
         77,
         "jeddah",
         "Jeddah Street Circuit",
         "Jeddah",
         "Saudi Arabia",
         21.5433,
         39.1728,
         15,
         "prod",
         "2023-07-12T02:46:58.793+0000"
        ]
       ],
       "datasetInfos": [],
       "dbfsResultPath": null,
       "isJsonSchema": true,
       "metadata": {},
       "overflow": false,
       "plotOptions": {
        "customPlotOptions": {},
        "displayType": "table",
        "pivotAggregation": null,
        "pivotColumns": null,
        "xColumns": null,
        "yColumns": null
       },
       "removedWidgets": [],
       "schema": [
        {
         "metadata": "{}",
         "name": "circuit_id",
         "type": "\"integer\""
        },
        {
         "metadata": "{}",
         "name": "circuit_ref",
         "type": "\"string\""
        },
        {
         "metadata": "{}",
         "name": "name",
         "type": "\"string\""
        },
        {
         "metadata": "{}",
         "name": "location",
         "type": "\"string\""
        },
        {
         "metadata": "{}",
         "name": "country",
         "type": "\"string\""
        },
        {
         "metadata": "{}",
         "name": "latitude",
         "type": "\"double\""
        },
        {
         "metadata": "{}",
         "name": "longitude",
         "type": "\"double\""
        },
        {
         "metadata": "{}",
         "name": "altitude",
         "type": "\"integer\""
        },
        {
         "metadata": "{}",
         "name": "env",
         "type": "\"string\""
        },
        {
         "metadata": "{}",
         "name": "ingestion_date",
         "type": "\"timestamp\""
        }
       ],
       "type": "table"
      }
     },
     "output_type": "display_data"
    }
   ],
   "source": [
    "# Add String Literal Column w/ Static Value (lit Function)\n",
    "circuits_env_df = circuits_renamed_df \\\n",
    "    .withColumn('env', lit('prod'))\n",
    "    # .withColumn('ingestion_date', current_timestamp())\n",
    "\n",
    "# Add Ingested Date Column w/ Current Timestamp\n",
    "circuits_final_df = add_ingestion_date(circuits_env_df)\n",
    "\n",
    "# Display Data\n",
    "display(circuits_final_df)"
   ]
  },
  {
   "attachments": {},
   "cell_type": "markdown",
   "metadata": {
    "application/vnd.databricks.v1+cell": {
     "cellMetadata": {
      "byteLimit": 2048000,
      "rowLimit": 10000
     },
     "inputWidgets": {},
     "nuid": "12ce187e-5445-4214-94f1-bcaf6c90b0cd",
     "showTitle": false,
     "title": ""
    }
   },
   "source": [
    "### Write Data"
   ]
  },
  {
   "cell_type": "code",
   "execution_count": null,
   "metadata": {
    "application/vnd.databricks.v1+cell": {
     "cellMetadata": {
      "byteLimit": 2048000,
      "rowLimit": 10000
     },
     "inputWidgets": {},
     "nuid": "15e7f46e-aca3-4c2b-bb78-d0621f52ab11",
     "showTitle": false,
     "title": ""
    }
   },
   "outputs": [],
   "source": [
    "# Write DataFrame to FileSystem in Parquet Format\n",
    "circuits_final_df.write \\\n",
    "    .mode('overwrite') \\\n",
    "    .parquet(f'{processed_folder_path}/circuits')\n",
    "    # .parquet('abfss://processed@dbcourselakehouse.dfs.core.windows.net/circuits')"
   ]
  },
  {
   "cell_type": "code",
   "execution_count": null,
   "metadata": {
    "application/vnd.databricks.v1+cell": {
     "cellMetadata": {
      "byteLimit": 2048000,
      "rowLimit": 10000
     },
     "inputWidgets": {},
     "nuid": "a3e8daf4-c3f3-4fc2-90b0-f3163d4e9d13",
     "showTitle": false,
     "title": ""
    }
   },
   "outputs": [],
   "source": [
    "# Display File System Contents\n",
    "# %fs\n",
    "\n",
    "# ls \"abfss://processed@dbcourselakehouse.dfs.core.windows.net/circuits\""
   ]
  },
  {
   "cell_type": "code",
   "execution_count": null,
   "metadata": {
    "application/vnd.databricks.v1+cell": {
     "cellMetadata": {
      "byteLimit": 2048000,
      "rowLimit": 10000
     },
     "inputWidgets": {},
     "nuid": "26dfe9ab-7e8e-4d9b-9da9-456da565652d",
     "showTitle": false,
     "title": ""
    }
   },
   "outputs": [
    {
     "data": {
      "text/html": [
       "<style scoped>\n",
       "  .table-result-container {\n",
       "    max-height: 300px;\n",
       "    overflow: auto;\n",
       "  }\n",
       "  table, th, td {\n",
       "    border: 1px solid black;\n",
       "    border-collapse: collapse;\n",
       "  }\n",
       "  th, td {\n",
       "    padding: 5px;\n",
       "  }\n",
       "  th {\n",
       "    text-align: left;\n",
       "  }\n",
       "</style><div class='table-result-container'><table class='table-result'><thead style='background-color: white'><tr><th>circuit_id</th><th>circuit_ref</th><th>name</th><th>location</th><th>country</th><th>latitude</th><th>longitude</th><th>altitude</th><th>env</th><th>ingestion_date</th></tr></thead><tbody><tr><td>1</td><td>albert_park</td><td>Albert Park Grand Prix Circuit</td><td>Melbourne</td><td>Australia</td><td>-37.8497</td><td>144.968</td><td>10</td><td>prod</td><td>2023-07-12T02:46:58.982+0000</td></tr><tr><td>2</td><td>sepang</td><td>Sepang International Circuit</td><td>Kuala Lumpur</td><td>Malaysia</td><td>2.76083</td><td>101.738</td><td>18</td><td>prod</td><td>2023-07-12T02:46:58.982+0000</td></tr><tr><td>3</td><td>bahrain</td><td>Bahrain International Circuit</td><td>Sakhir</td><td>Bahrain</td><td>26.0325</td><td>50.5106</td><td>7</td><td>prod</td><td>2023-07-12T02:46:58.982+0000</td></tr><tr><td>4</td><td>catalunya</td><td>Circuit de Barcelona-Catalunya</td><td>Montmeló</td><td>Spain</td><td>41.57</td><td>2.26111</td><td>109</td><td>prod</td><td>2023-07-12T02:46:58.982+0000</td></tr><tr><td>5</td><td>istanbul</td><td>Istanbul Park</td><td>Istanbul</td><td>Turkey</td><td>40.9517</td><td>29.405</td><td>130</td><td>prod</td><td>2023-07-12T02:46:58.982+0000</td></tr><tr><td>6</td><td>monaco</td><td>Circuit de Monaco</td><td>Monte-Carlo</td><td>Monaco</td><td>43.7347</td><td>7.42056</td><td>7</td><td>prod</td><td>2023-07-12T02:46:58.982+0000</td></tr><tr><td>7</td><td>villeneuve</td><td>Circuit Gilles Villeneuve</td><td>Montreal</td><td>Canada</td><td>45.5</td><td>-73.5228</td><td>13</td><td>prod</td><td>2023-07-12T02:46:58.982+0000</td></tr><tr><td>8</td><td>magny_cours</td><td>Circuit de Nevers Magny-Cours</td><td>Magny Cours</td><td>France</td><td>46.8642</td><td>3.16361</td><td>228</td><td>prod</td><td>2023-07-12T02:46:58.982+0000</td></tr><tr><td>9</td><td>silverstone</td><td>Silverstone Circuit</td><td>Silverstone</td><td>UK</td><td>52.0786</td><td>-1.01694</td><td>153</td><td>prod</td><td>2023-07-12T02:46:58.982+0000</td></tr><tr><td>10</td><td>hockenheimring</td><td>Hockenheimring</td><td>Hockenheim</td><td>Germany</td><td>49.3278</td><td>8.56583</td><td>103</td><td>prod</td><td>2023-07-12T02:46:58.982+0000</td></tr><tr><td>11</td><td>hungaroring</td><td>Hungaroring</td><td>Budapest</td><td>Hungary</td><td>47.5789</td><td>19.2486</td><td>264</td><td>prod</td><td>2023-07-12T02:46:58.982+0000</td></tr><tr><td>12</td><td>valencia</td><td>Valencia Street Circuit</td><td>Valencia</td><td>Spain</td><td>39.4589</td><td>-0.331667</td><td>4</td><td>prod</td><td>2023-07-12T02:46:58.982+0000</td></tr><tr><td>13</td><td>spa</td><td>Circuit de Spa-Francorchamps</td><td>Spa</td><td>Belgium</td><td>50.4372</td><td>5.97139</td><td>401</td><td>prod</td><td>2023-07-12T02:46:58.982+0000</td></tr><tr><td>14</td><td>monza</td><td>Autodromo Nazionale di Monza</td><td>Monza</td><td>Italy</td><td>45.6156</td><td>9.28111</td><td>162</td><td>prod</td><td>2023-07-12T02:46:58.982+0000</td></tr><tr><td>15</td><td>marina_bay</td><td>Marina Bay Street Circuit</td><td>Marina Bay</td><td>Singapore</td><td>1.2914</td><td>103.864</td><td>18</td><td>prod</td><td>2023-07-12T02:46:58.982+0000</td></tr><tr><td>16</td><td>fuji</td><td>Fuji Speedway</td><td>Oyama</td><td>Japan</td><td>35.3717</td><td>138.927</td><td>583</td><td>prod</td><td>2023-07-12T02:46:58.982+0000</td></tr><tr><td>17</td><td>shanghai</td><td>Shanghai International Circuit</td><td>Shanghai</td><td>China</td><td>31.3389</td><td>121.22</td><td>5</td><td>prod</td><td>2023-07-12T02:46:58.982+0000</td></tr><tr><td>18</td><td>interlagos</td><td>Autódromo José Carlos Pace</td><td>São Paulo</td><td>Brazil</td><td>-23.7036</td><td>-46.6997</td><td>785</td><td>prod</td><td>2023-07-12T02:46:58.982+0000</td></tr><tr><td>19</td><td>indianapolis</td><td>Indianapolis Motor Speedway</td><td>Indianapolis</td><td>USA</td><td>39.795</td><td>-86.2347</td><td>223</td><td>prod</td><td>2023-07-12T02:46:58.982+0000</td></tr><tr><td>20</td><td>nurburgring</td><td>Nürburgring</td><td>Nürburg</td><td>Germany</td><td>50.3356</td><td>6.9475</td><td>578</td><td>prod</td><td>2023-07-12T02:46:58.982+0000</td></tr><tr><td>21</td><td>imola</td><td>Autodromo Enzo e Dino Ferrari</td><td>Imola</td><td>Italy</td><td>44.3439</td><td>11.7167</td><td>37</td><td>prod</td><td>2023-07-12T02:46:58.982+0000</td></tr><tr><td>22</td><td>suzuka</td><td>Suzuka Circuit</td><td>Suzuka</td><td>Japan</td><td>34.8431</td><td>136.541</td><td>45</td><td>prod</td><td>2023-07-12T02:46:58.982+0000</td></tr><tr><td>23</td><td>osterreichring</td><td>A1-Ring</td><td>Spielburg</td><td>Austria</td><td>47.2197</td><td>14.7647</td><td>678</td><td>prod</td><td>2023-07-12T02:46:58.982+0000</td></tr><tr><td>24</td><td>yas_marina</td><td>Yas Marina Circuit</td><td>Abu Dhabi</td><td>UAE</td><td>24.4672</td><td>54.6031</td><td>3</td><td>prod</td><td>2023-07-12T02:46:58.982+0000</td></tr><tr><td>25</td><td>galvez</td><td>Autódromo Juan y Oscar Gálvez</td><td>Buenos Aires</td><td>Argentina</td><td>-34.6943</td><td>-58.4593</td><td>8</td><td>prod</td><td>2023-07-12T02:46:58.982+0000</td></tr><tr><td>26</td><td>jerez</td><td>Circuito de Jerez</td><td>Jerez de la Frontera</td><td>Spain</td><td>36.7083</td><td>-6.03417</td><td>37</td><td>prod</td><td>2023-07-12T02:46:58.982+0000</td></tr><tr><td>27</td><td>estoril</td><td>Autódromo do Estoril</td><td>Estoril</td><td>Portugal</td><td>38.7506</td><td>-9.39417</td><td>130</td><td>prod</td><td>2023-07-12T02:46:58.982+0000</td></tr><tr><td>28</td><td>okayama</td><td>Okayama International Circuit</td><td>Okayama</td><td>Japan</td><td>34.915</td><td>134.221</td><td>266</td><td>prod</td><td>2023-07-12T02:46:58.982+0000</td></tr><tr><td>29</td><td>adelaide</td><td>Adelaide Street Circuit</td><td>Adelaide</td><td>Australia</td><td>-34.9272</td><td>138.617</td><td>58</td><td>prod</td><td>2023-07-12T02:46:58.982+0000</td></tr><tr><td>30</td><td>kyalami</td><td>Kyalami</td><td>Midrand</td><td>South Africa</td><td>-25.9894</td><td>28.0767</td><td>1460</td><td>prod</td><td>2023-07-12T02:46:58.982+0000</td></tr><tr><td>31</td><td>donington</td><td>Donington Park</td><td>Castle Donington</td><td>UK</td><td>52.8306</td><td>-1.37528</td><td>88</td><td>prod</td><td>2023-07-12T02:46:58.982+0000</td></tr><tr><td>32</td><td>rodriguez</td><td>Autódromo Hermanos Rodríguez</td><td>Mexico City</td><td>Mexico</td><td>19.4042</td><td>-99.0907</td><td>2227</td><td>prod</td><td>2023-07-12T02:46:58.982+0000</td></tr><tr><td>33</td><td>phoenix</td><td>Phoenix street circuit</td><td>Phoenix</td><td>USA</td><td>33.4479</td><td>-112.075</td><td>345</td><td>prod</td><td>2023-07-12T02:46:58.982+0000</td></tr><tr><td>34</td><td>ricard</td><td>Circuit Paul Ricard</td><td>Le Castellet</td><td>France</td><td>43.2506</td><td>5.79167</td><td>432</td><td>prod</td><td>2023-07-12T02:46:58.982+0000</td></tr><tr><td>35</td><td>yeongam</td><td>Korean International Circuit</td><td>Yeongam County</td><td>Korea</td><td>34.7333</td><td>126.417</td><td>0</td><td>prod</td><td>2023-07-12T02:46:58.982+0000</td></tr><tr><td>36</td><td>jacarepagua</td><td>Autódromo Internacional Nelson Piquet</td><td>Rio de Janeiro</td><td>Brazil</td><td>-22.9756</td><td>-43.395</td><td>1126</td><td>prod</td><td>2023-07-12T02:46:58.982+0000</td></tr><tr><td>37</td><td>detroit</td><td>Detroit Street Circuit</td><td>Detroit</td><td>USA</td><td>42.3298</td><td>-83.0401</td><td>177</td><td>prod</td><td>2023-07-12T02:46:58.982+0000</td></tr><tr><td>38</td><td>brands_hatch</td><td>Brands Hatch</td><td>Kent</td><td>UK</td><td>51.3569</td><td>0.263056</td><td>145</td><td>prod</td><td>2023-07-12T02:46:58.982+0000</td></tr><tr><td>39</td><td>zandvoort</td><td>Circuit Park Zandvoort</td><td>Zandvoort</td><td>Netherlands</td><td>52.3888</td><td>4.54092</td><td>6</td><td>prod</td><td>2023-07-12T02:46:58.982+0000</td></tr><tr><td>40</td><td>zolder</td><td>Zolder</td><td>Heusden-Zolder</td><td>Belgium</td><td>50.9894</td><td>5.25694</td><td>36</td><td>prod</td><td>2023-07-12T02:46:58.982+0000</td></tr><tr><td>41</td><td>dijon</td><td>Dijon-Prenois</td><td>Dijon</td><td>France</td><td>47.3625</td><td>4.89913</td><td>484</td><td>prod</td><td>2023-07-12T02:46:58.982+0000</td></tr><tr><td>42</td><td>dallas</td><td>Fair Park</td><td>Dallas</td><td>USA</td><td>32.7774</td><td>-96.7587</td><td>139</td><td>prod</td><td>2023-07-12T02:46:58.982+0000</td></tr><tr><td>43</td><td>long_beach</td><td>Long Beach</td><td>California</td><td>USA</td><td>33.7651</td><td>-118.189</td><td>12</td><td>prod</td><td>2023-07-12T02:46:58.982+0000</td></tr><tr><td>44</td><td>las_vegas</td><td>Las Vegas Street Circuit</td><td>Nevada</td><td>USA</td><td>36.1162</td><td>-115.174</td><td>639</td><td>prod</td><td>2023-07-12T02:46:58.982+0000</td></tr><tr><td>45</td><td>jarama</td><td>Jarama</td><td>Madrid</td><td>Spain</td><td>40.6171</td><td>-3.58558</td><td>609</td><td>prod</td><td>2023-07-12T02:46:58.982+0000</td></tr><tr><td>46</td><td>watkins_glen</td><td>Watkins Glen</td><td>New York State</td><td>USA</td><td>42.3369</td><td>-76.9272</td><td>485</td><td>prod</td><td>2023-07-12T02:46:58.982+0000</td></tr><tr><td>47</td><td>anderstorp</td><td>Scandinavian Raceway</td><td>Anderstorp</td><td>Sweden</td><td>57.2653</td><td>13.6042</td><td>153</td><td>prod</td><td>2023-07-12T02:46:58.982+0000</td></tr><tr><td>48</td><td>mosport</td><td>Mosport International Raceway</td><td>Ontario</td><td>Canada</td><td>44.0481</td><td>-78.6756</td><td>332</td><td>prod</td><td>2023-07-12T02:46:58.982+0000</td></tr><tr><td>49</td><td>montjuic</td><td>Montjuïc</td><td>Barcelona</td><td>Spain</td><td>41.3664</td><td>2.15167</td><td>79</td><td>prod</td><td>2023-07-12T02:46:58.982+0000</td></tr><tr><td>50</td><td>nivelles</td><td>Nivelles-Baulers</td><td>Brussels</td><td>Belgium</td><td>50.6211</td><td>4.32694</td><td>139</td><td>prod</td><td>2023-07-12T02:46:58.982+0000</td></tr><tr><td>51</td><td>charade</td><td>Charade Circuit</td><td>Clermont-Ferrand</td><td>France</td><td>45.7472</td><td>3.03889</td><td>790</td><td>prod</td><td>2023-07-12T02:46:58.982+0000</td></tr><tr><td>52</td><td>tremblant</td><td>Circuit Mont-Tremblant</td><td>Quebec</td><td>Canada</td><td>46.1877</td><td>-74.6099</td><td>214</td><td>prod</td><td>2023-07-12T02:46:58.982+0000</td></tr><tr><td>53</td><td>essarts</td><td>Rouen-Les-Essarts</td><td>Rouen</td><td>France</td><td>49.3306</td><td>1.00458</td><td>81</td><td>prod</td><td>2023-07-12T02:46:58.982+0000</td></tr><tr><td>54</td><td>lemans</td><td>Le Mans</td><td>Le Mans</td><td>France</td><td>47.95</td><td>0.224231</td><td>67</td><td>prod</td><td>2023-07-12T02:46:58.982+0000</td></tr><tr><td>55</td><td>reims</td><td>Reims-Gueux</td><td>Reims</td><td>France</td><td>49.2542</td><td>3.93083</td><td>88</td><td>prod</td><td>2023-07-12T02:46:58.982+0000</td></tr><tr><td>56</td><td>george</td><td>Prince George Circuit</td><td>Eastern Cape Province</td><td>South Africa</td><td>-33.0486</td><td>27.8736</td><td>15</td><td>prod</td><td>2023-07-12T02:46:58.982+0000</td></tr><tr><td>57</td><td>zeltweg</td><td>Zeltweg</td><td>Styria</td><td>Austria</td><td>47.2039</td><td>14.7478</td><td>676</td><td>prod</td><td>2023-07-12T02:46:58.982+0000</td></tr><tr><td>58</td><td>aintree</td><td>Aintree</td><td>Liverpool</td><td>UK</td><td>53.4769</td><td>-2.94056</td><td>20</td><td>prod</td><td>2023-07-12T02:46:58.982+0000</td></tr><tr><td>59</td><td>boavista</td><td>Circuito da Boavista</td><td>Oporto</td><td>Portugal</td><td>41.1705</td><td>-8.67325</td><td>28</td><td>prod</td><td>2023-07-12T02:46:58.982+0000</td></tr><tr><td>60</td><td>riverside</td><td>Riverside International Raceway</td><td>California</td><td>USA</td><td>33.937</td><td>-117.273</td><td>470</td><td>prod</td><td>2023-07-12T02:46:58.982+0000</td></tr><tr><td>61</td><td>avus</td><td>AVUS</td><td>Berlin</td><td>Germany</td><td>52.4806</td><td>13.2514</td><td>53</td><td>prod</td><td>2023-07-12T02:46:58.982+0000</td></tr><tr><td>62</td><td>monsanto</td><td>Monsanto Park Circuit</td><td>Lisbon</td><td>Portugal</td><td>38.7197</td><td>-9.20306</td><td>158</td><td>prod</td><td>2023-07-12T02:46:58.982+0000</td></tr><tr><td>63</td><td>sebring</td><td>Sebring International Raceway</td><td>Florida</td><td>USA</td><td>27.4547</td><td>-81.3483</td><td>18</td><td>prod</td><td>2023-07-12T02:46:58.982+0000</td></tr><tr><td>64</td><td>ain-diab</td><td>Ain Diab</td><td>Casablanca</td><td>Morocco</td><td>33.5786</td><td>-7.6875</td><td>19</td><td>prod</td><td>2023-07-12T02:46:58.982+0000</td></tr><tr><td>65</td><td>pescara</td><td>Pescara Circuit</td><td>Pescara</td><td>Italy</td><td>42.475</td><td>14.1508</td><td>129</td><td>prod</td><td>2023-07-12T02:46:58.982+0000</td></tr><tr><td>66</td><td>bremgarten</td><td>Circuit Bremgarten</td><td>Bern</td><td>Switzerland</td><td>46.9589</td><td>7.40194</td><td>551</td><td>prod</td><td>2023-07-12T02:46:58.982+0000</td></tr><tr><td>67</td><td>pedralbes</td><td>Circuit de Pedralbes</td><td>Barcelona</td><td>Spain</td><td>41.3903</td><td>2.11667</td><td>85</td><td>prod</td><td>2023-07-12T02:46:58.982+0000</td></tr><tr><td>68</td><td>buddh</td><td>Buddh International Circuit</td><td>Uttar Pradesh</td><td>India</td><td>28.3487</td><td>77.5331</td><td>194</td><td>prod</td><td>2023-07-12T02:46:58.982+0000</td></tr><tr><td>69</td><td>americas</td><td>Circuit of the Americas</td><td>Austin</td><td>USA</td><td>30.1328</td><td>-97.6411</td><td>161</td><td>prod</td><td>2023-07-12T02:46:58.982+0000</td></tr><tr><td>70</td><td>red_bull_ring</td><td>Red Bull Ring</td><td>Spielburg</td><td>Austria</td><td>47.2197</td><td>14.7647</td><td>678</td><td>prod</td><td>2023-07-12T02:46:58.982+0000</td></tr><tr><td>71</td><td>sochi</td><td>Sochi Autodrom</td><td>Sochi</td><td>Russia</td><td>43.4057</td><td>39.9578</td><td>2</td><td>prod</td><td>2023-07-12T02:46:58.982+0000</td></tr><tr><td>72</td><td>port_imperial</td><td>Port Imperial Street Circuit</td><td>New Jersey</td><td>USA</td><td>40.7769</td><td>-74.0111</td><td>4</td><td>prod</td><td>2023-07-12T02:46:58.982+0000</td></tr><tr><td>73</td><td>BAK</td><td>Baku City Circuit</td><td>Baku</td><td>Azerbaijan</td><td>40.3725</td><td>49.8533</td><td>-7</td><td>prod</td><td>2023-07-12T02:46:58.982+0000</td></tr><tr><td>74</td><td>hanoi</td><td>Hanoi Street Circuit</td><td>Hanoi</td><td>Vietnam</td><td>21.0166</td><td>105.766</td><td>9</td><td>prod</td><td>2023-07-12T02:46:58.982+0000</td></tr><tr><td>75</td><td>portimao</td><td>Autódromo Internacional do Algarve</td><td>Portimão</td><td>Portugal</td><td>37.227</td><td>-8.6267</td><td>108</td><td>prod</td><td>2023-07-12T02:46:58.982+0000</td></tr><tr><td>76</td><td>mugello</td><td>Autodromo Internazionale del Mugello</td><td>Mugello</td><td>Italy</td><td>43.9975</td><td>11.3719</td><td>255</td><td>prod</td><td>2023-07-12T02:46:58.982+0000</td></tr><tr><td>77</td><td>jeddah</td><td>Jeddah Street Circuit</td><td>Jeddah</td><td>Saudi Arabia</td><td>21.5433</td><td>39.1728</td><td>15</td><td>prod</td><td>2023-07-12T02:46:58.982+0000</td></tr></tbody></table></div>"
      ]
     },
     "metadata": {
      "application/vnd.databricks.v1+output": {
       "addedWidgets": {},
       "aggData": [],
       "aggError": "",
       "aggOverflow": false,
       "aggSchema": [],
       "aggSeriesLimitReached": false,
       "aggType": "",
       "arguments": {},
       "columnCustomDisplayInfos": {},
       "data": [
        [
         1,
         "albert_park",
         "Albert Park Grand Prix Circuit",
         "Melbourne",
         "Australia",
         -37.8497,
         144.968,
         10,
         "prod",
         "2023-07-12T02:46:58.982+0000"
        ],
        [
         2,
         "sepang",
         "Sepang International Circuit",
         "Kuala Lumpur",
         "Malaysia",
         2.76083,
         101.738,
         18,
         "prod",
         "2023-07-12T02:46:58.982+0000"
        ],
        [
         3,
         "bahrain",
         "Bahrain International Circuit",
         "Sakhir",
         "Bahrain",
         26.0325,
         50.5106,
         7,
         "prod",
         "2023-07-12T02:46:58.982+0000"
        ],
        [
         4,
         "catalunya",
         "Circuit de Barcelona-Catalunya",
         "Montmeló",
         "Spain",
         41.57,
         2.26111,
         109,
         "prod",
         "2023-07-12T02:46:58.982+0000"
        ],
        [
         5,
         "istanbul",
         "Istanbul Park",
         "Istanbul",
         "Turkey",
         40.9517,
         29.405,
         130,
         "prod",
         "2023-07-12T02:46:58.982+0000"
        ],
        [
         6,
         "monaco",
         "Circuit de Monaco",
         "Monte-Carlo",
         "Monaco",
         43.7347,
         7.42056,
         7,
         "prod",
         "2023-07-12T02:46:58.982+0000"
        ],
        [
         7,
         "villeneuve",
         "Circuit Gilles Villeneuve",
         "Montreal",
         "Canada",
         45.5,
         -73.5228,
         13,
         "prod",
         "2023-07-12T02:46:58.982+0000"
        ],
        [
         8,
         "magny_cours",
         "Circuit de Nevers Magny-Cours",
         "Magny Cours",
         "France",
         46.8642,
         3.16361,
         228,
         "prod",
         "2023-07-12T02:46:58.982+0000"
        ],
        [
         9,
         "silverstone",
         "Silverstone Circuit",
         "Silverstone",
         "UK",
         52.0786,
         -1.01694,
         153,
         "prod",
         "2023-07-12T02:46:58.982+0000"
        ],
        [
         10,
         "hockenheimring",
         "Hockenheimring",
         "Hockenheim",
         "Germany",
         49.3278,
         8.56583,
         103,
         "prod",
         "2023-07-12T02:46:58.982+0000"
        ],
        [
         11,
         "hungaroring",
         "Hungaroring",
         "Budapest",
         "Hungary",
         47.5789,
         19.2486,
         264,
         "prod",
         "2023-07-12T02:46:58.982+0000"
        ],
        [
         12,
         "valencia",
         "Valencia Street Circuit",
         "Valencia",
         "Spain",
         39.4589,
         -0.331667,
         4,
         "prod",
         "2023-07-12T02:46:58.982+0000"
        ],
        [
         13,
         "spa",
         "Circuit de Spa-Francorchamps",
         "Spa",
         "Belgium",
         50.4372,
         5.97139,
         401,
         "prod",
         "2023-07-12T02:46:58.982+0000"
        ],
        [
         14,
         "monza",
         "Autodromo Nazionale di Monza",
         "Monza",
         "Italy",
         45.6156,
         9.28111,
         162,
         "prod",
         "2023-07-12T02:46:58.982+0000"
        ],
        [
         15,
         "marina_bay",
         "Marina Bay Street Circuit",
         "Marina Bay",
         "Singapore",
         1.2914,
         103.864,
         18,
         "prod",
         "2023-07-12T02:46:58.982+0000"
        ],
        [
         16,
         "fuji",
         "Fuji Speedway",
         "Oyama",
         "Japan",
         35.3717,
         138.927,
         583,
         "prod",
         "2023-07-12T02:46:58.982+0000"
        ],
        [
         17,
         "shanghai",
         "Shanghai International Circuit",
         "Shanghai",
         "China",
         31.3389,
         121.22,
         5,
         "prod",
         "2023-07-12T02:46:58.982+0000"
        ],
        [
         18,
         "interlagos",
         "Autódromo José Carlos Pace",
         "São Paulo",
         "Brazil",
         -23.7036,
         -46.6997,
         785,
         "prod",
         "2023-07-12T02:46:58.982+0000"
        ],
        [
         19,
         "indianapolis",
         "Indianapolis Motor Speedway",
         "Indianapolis",
         "USA",
         39.795,
         -86.2347,
         223,
         "prod",
         "2023-07-12T02:46:58.982+0000"
        ],
        [
         20,
         "nurburgring",
         "Nürburgring",
         "Nürburg",
         "Germany",
         50.3356,
         6.9475,
         578,
         "prod",
         "2023-07-12T02:46:58.982+0000"
        ],
        [
         21,
         "imola",
         "Autodromo Enzo e Dino Ferrari",
         "Imola",
         "Italy",
         44.3439,
         11.7167,
         37,
         "prod",
         "2023-07-12T02:46:58.982+0000"
        ],
        [
         22,
         "suzuka",
         "Suzuka Circuit",
         "Suzuka",
         "Japan",
         34.8431,
         136.541,
         45,
         "prod",
         "2023-07-12T02:46:58.982+0000"
        ],
        [
         23,
         "osterreichring",
         "A1-Ring",
         "Spielburg",
         "Austria",
         47.2197,
         14.7647,
         678,
         "prod",
         "2023-07-12T02:46:58.982+0000"
        ],
        [
         24,
         "yas_marina",
         "Yas Marina Circuit",
         "Abu Dhabi",
         "UAE",
         24.4672,
         54.6031,
         3,
         "prod",
         "2023-07-12T02:46:58.982+0000"
        ],
        [
         25,
         "galvez",
         "Autódromo Juan y Oscar Gálvez",
         "Buenos Aires",
         "Argentina",
         -34.6943,
         -58.4593,
         8,
         "prod",
         "2023-07-12T02:46:58.982+0000"
        ],
        [
         26,
         "jerez",
         "Circuito de Jerez",
         "Jerez de la Frontera",
         "Spain",
         36.7083,
         -6.03417,
         37,
         "prod",
         "2023-07-12T02:46:58.982+0000"
        ],
        [
         27,
         "estoril",
         "Autódromo do Estoril",
         "Estoril",
         "Portugal",
         38.7506,
         -9.39417,
         130,
         "prod",
         "2023-07-12T02:46:58.982+0000"
        ],
        [
         28,
         "okayama",
         "Okayama International Circuit",
         "Okayama",
         "Japan",
         34.915,
         134.221,
         266,
         "prod",
         "2023-07-12T02:46:58.982+0000"
        ],
        [
         29,
         "adelaide",
         "Adelaide Street Circuit",
         "Adelaide",
         "Australia",
         -34.9272,
         138.617,
         58,
         "prod",
         "2023-07-12T02:46:58.982+0000"
        ],
        [
         30,
         "kyalami",
         "Kyalami",
         "Midrand",
         "South Africa",
         -25.9894,
         28.0767,
         1460,
         "prod",
         "2023-07-12T02:46:58.982+0000"
        ],
        [
         31,
         "donington",
         "Donington Park",
         "Castle Donington",
         "UK",
         52.8306,
         -1.37528,
         88,
         "prod",
         "2023-07-12T02:46:58.982+0000"
        ],
        [
         32,
         "rodriguez",
         "Autódromo Hermanos Rodríguez",
         "Mexico City",
         "Mexico",
         19.4042,
         -99.0907,
         2227,
         "prod",
         "2023-07-12T02:46:58.982+0000"
        ],
        [
         33,
         "phoenix",
         "Phoenix street circuit",
         "Phoenix",
         "USA",
         33.4479,
         -112.075,
         345,
         "prod",
         "2023-07-12T02:46:58.982+0000"
        ],
        [
         34,
         "ricard",
         "Circuit Paul Ricard",
         "Le Castellet",
         "France",
         43.2506,
         5.79167,
         432,
         "prod",
         "2023-07-12T02:46:58.982+0000"
        ],
        [
         35,
         "yeongam",
         "Korean International Circuit",
         "Yeongam County",
         "Korea",
         34.7333,
         126.417,
         0,
         "prod",
         "2023-07-12T02:46:58.982+0000"
        ],
        [
         36,
         "jacarepagua",
         "Autódromo Internacional Nelson Piquet",
         "Rio de Janeiro",
         "Brazil",
         -22.9756,
         -43.395,
         1126,
         "prod",
         "2023-07-12T02:46:58.982+0000"
        ],
        [
         37,
         "detroit",
         "Detroit Street Circuit",
         "Detroit",
         "USA",
         42.3298,
         -83.0401,
         177,
         "prod",
         "2023-07-12T02:46:58.982+0000"
        ],
        [
         38,
         "brands_hatch",
         "Brands Hatch",
         "Kent",
         "UK",
         51.3569,
         0.263056,
         145,
         "prod",
         "2023-07-12T02:46:58.982+0000"
        ],
        [
         39,
         "zandvoort",
         "Circuit Park Zandvoort",
         "Zandvoort",
         "Netherlands",
         52.3888,
         4.54092,
         6,
         "prod",
         "2023-07-12T02:46:58.982+0000"
        ],
        [
         40,
         "zolder",
         "Zolder",
         "Heusden-Zolder",
         "Belgium",
         50.9894,
         5.25694,
         36,
         "prod",
         "2023-07-12T02:46:58.982+0000"
        ],
        [
         41,
         "dijon",
         "Dijon-Prenois",
         "Dijon",
         "France",
         47.3625,
         4.89913,
         484,
         "prod",
         "2023-07-12T02:46:58.982+0000"
        ],
        [
         42,
         "dallas",
         "Fair Park",
         "Dallas",
         "USA",
         32.7774,
         -96.7587,
         139,
         "prod",
         "2023-07-12T02:46:58.982+0000"
        ],
        [
         43,
         "long_beach",
         "Long Beach",
         "California",
         "USA",
         33.7651,
         -118.189,
         12,
         "prod",
         "2023-07-12T02:46:58.982+0000"
        ],
        [
         44,
         "las_vegas",
         "Las Vegas Street Circuit",
         "Nevada",
         "USA",
         36.1162,
         -115.174,
         639,
         "prod",
         "2023-07-12T02:46:58.982+0000"
        ],
        [
         45,
         "jarama",
         "Jarama",
         "Madrid",
         "Spain",
         40.6171,
         -3.58558,
         609,
         "prod",
         "2023-07-12T02:46:58.982+0000"
        ],
        [
         46,
         "watkins_glen",
         "Watkins Glen",
         "New York State",
         "USA",
         42.3369,
         -76.9272,
         485,
         "prod",
         "2023-07-12T02:46:58.982+0000"
        ],
        [
         47,
         "anderstorp",
         "Scandinavian Raceway",
         "Anderstorp",
         "Sweden",
         57.2653,
         13.6042,
         153,
         "prod",
         "2023-07-12T02:46:58.982+0000"
        ],
        [
         48,
         "mosport",
         "Mosport International Raceway",
         "Ontario",
         "Canada",
         44.0481,
         -78.6756,
         332,
         "prod",
         "2023-07-12T02:46:58.982+0000"
        ],
        [
         49,
         "montjuic",
         "Montjuïc",
         "Barcelona",
         "Spain",
         41.3664,
         2.15167,
         79,
         "prod",
         "2023-07-12T02:46:58.982+0000"
        ],
        [
         50,
         "nivelles",
         "Nivelles-Baulers",
         "Brussels",
         "Belgium",
         50.6211,
         4.32694,
         139,
         "prod",
         "2023-07-12T02:46:58.982+0000"
        ],
        [
         51,
         "charade",
         "Charade Circuit",
         "Clermont-Ferrand",
         "France",
         45.7472,
         3.03889,
         790,
         "prod",
         "2023-07-12T02:46:58.982+0000"
        ],
        [
         52,
         "tremblant",
         "Circuit Mont-Tremblant",
         "Quebec",
         "Canada",
         46.1877,
         -74.6099,
         214,
         "prod",
         "2023-07-12T02:46:58.982+0000"
        ],
        [
         53,
         "essarts",
         "Rouen-Les-Essarts",
         "Rouen",
         "France",
         49.3306,
         1.00458,
         81,
         "prod",
         "2023-07-12T02:46:58.982+0000"
        ],
        [
         54,
         "lemans",
         "Le Mans",
         "Le Mans",
         "France",
         47.95,
         0.224231,
         67,
         "prod",
         "2023-07-12T02:46:58.982+0000"
        ],
        [
         55,
         "reims",
         "Reims-Gueux",
         "Reims",
         "France",
         49.2542,
         3.93083,
         88,
         "prod",
         "2023-07-12T02:46:58.982+0000"
        ],
        [
         56,
         "george",
         "Prince George Circuit",
         "Eastern Cape Province",
         "South Africa",
         -33.0486,
         27.8736,
         15,
         "prod",
         "2023-07-12T02:46:58.982+0000"
        ],
        [
         57,
         "zeltweg",
         "Zeltweg",
         "Styria",
         "Austria",
         47.2039,
         14.7478,
         676,
         "prod",
         "2023-07-12T02:46:58.982+0000"
        ],
        [
         58,
         "aintree",
         "Aintree",
         "Liverpool",
         "UK",
         53.4769,
         -2.94056,
         20,
         "prod",
         "2023-07-12T02:46:58.982+0000"
        ],
        [
         59,
         "boavista",
         "Circuito da Boavista",
         "Oporto",
         "Portugal",
         41.1705,
         -8.67325,
         28,
         "prod",
         "2023-07-12T02:46:58.982+0000"
        ],
        [
         60,
         "riverside",
         "Riverside International Raceway",
         "California",
         "USA",
         33.937,
         -117.273,
         470,
         "prod",
         "2023-07-12T02:46:58.982+0000"
        ],
        [
         61,
         "avus",
         "AVUS",
         "Berlin",
         "Germany",
         52.4806,
         13.2514,
         53,
         "prod",
         "2023-07-12T02:46:58.982+0000"
        ],
        [
         62,
         "monsanto",
         "Monsanto Park Circuit",
         "Lisbon",
         "Portugal",
         38.7197,
         -9.20306,
         158,
         "prod",
         "2023-07-12T02:46:58.982+0000"
        ],
        [
         63,
         "sebring",
         "Sebring International Raceway",
         "Florida",
         "USA",
         27.4547,
         -81.3483,
         18,
         "prod",
         "2023-07-12T02:46:58.982+0000"
        ],
        [
         64,
         "ain-diab",
         "Ain Diab",
         "Casablanca",
         "Morocco",
         33.5786,
         -7.6875,
         19,
         "prod",
         "2023-07-12T02:46:58.982+0000"
        ],
        [
         65,
         "pescara",
         "Pescara Circuit",
         "Pescara",
         "Italy",
         42.475,
         14.1508,
         129,
         "prod",
         "2023-07-12T02:46:58.982+0000"
        ],
        [
         66,
         "bremgarten",
         "Circuit Bremgarten",
         "Bern",
         "Switzerland",
         46.9589,
         7.40194,
         551,
         "prod",
         "2023-07-12T02:46:58.982+0000"
        ],
        [
         67,
         "pedralbes",
         "Circuit de Pedralbes",
         "Barcelona",
         "Spain",
         41.3903,
         2.11667,
         85,
         "prod",
         "2023-07-12T02:46:58.982+0000"
        ],
        [
         68,
         "buddh",
         "Buddh International Circuit",
         "Uttar Pradesh",
         "India",
         28.3487,
         77.5331,
         194,
         "prod",
         "2023-07-12T02:46:58.982+0000"
        ],
        [
         69,
         "americas",
         "Circuit of the Americas",
         "Austin",
         "USA",
         30.1328,
         -97.6411,
         161,
         "prod",
         "2023-07-12T02:46:58.982+0000"
        ],
        [
         70,
         "red_bull_ring",
         "Red Bull Ring",
         "Spielburg",
         "Austria",
         47.2197,
         14.7647,
         678,
         "prod",
         "2023-07-12T02:46:58.982+0000"
        ],
        [
         71,
         "sochi",
         "Sochi Autodrom",
         "Sochi",
         "Russia",
         43.4057,
         39.9578,
         2,
         "prod",
         "2023-07-12T02:46:58.982+0000"
        ],
        [
         72,
         "port_imperial",
         "Port Imperial Street Circuit",
         "New Jersey",
         "USA",
         40.7769,
         -74.0111,
         4,
         "prod",
         "2023-07-12T02:46:58.982+0000"
        ],
        [
         73,
         "BAK",
         "Baku City Circuit",
         "Baku",
         "Azerbaijan",
         40.3725,
         49.8533,
         -7,
         "prod",
         "2023-07-12T02:46:58.982+0000"
        ],
        [
         74,
         "hanoi",
         "Hanoi Street Circuit",
         "Hanoi",
         "Vietnam",
         21.0166,
         105.766,
         9,
         "prod",
         "2023-07-12T02:46:58.982+0000"
        ],
        [
         75,
         "portimao",
         "Autódromo Internacional do Algarve",
         "Portimão",
         "Portugal",
         37.227,
         -8.6267,
         108,
         "prod",
         "2023-07-12T02:46:58.982+0000"
        ],
        [
         76,
         "mugello",
         "Autodromo Internazionale del Mugello",
         "Mugello",
         "Italy",
         43.9975,
         11.3719,
         255,
         "prod",
         "2023-07-12T02:46:58.982+0000"
        ],
        [
         77,
         "jeddah",
         "Jeddah Street Circuit",
         "Jeddah",
         "Saudi Arabia",
         21.5433,
         39.1728,
         15,
         "prod",
         "2023-07-12T02:46:58.982+0000"
        ]
       ],
       "datasetInfos": [],
       "dbfsResultPath": null,
       "isJsonSchema": true,
       "metadata": {},
       "overflow": false,
       "plotOptions": {
        "customPlotOptions": {},
        "displayType": "table",
        "pivotAggregation": null,
        "pivotColumns": null,
        "xColumns": null,
        "yColumns": null
       },
       "removedWidgets": [],
       "schema": [
        {
         "metadata": "{}",
         "name": "circuit_id",
         "type": "\"integer\""
        },
        {
         "metadata": "{}",
         "name": "circuit_ref",
         "type": "\"string\""
        },
        {
         "metadata": "{}",
         "name": "name",
         "type": "\"string\""
        },
        {
         "metadata": "{}",
         "name": "location",
         "type": "\"string\""
        },
        {
         "metadata": "{}",
         "name": "country",
         "type": "\"string\""
        },
        {
         "metadata": "{}",
         "name": "latitude",
         "type": "\"double\""
        },
        {
         "metadata": "{}",
         "name": "longitude",
         "type": "\"double\""
        },
        {
         "metadata": "{}",
         "name": "altitude",
         "type": "\"integer\""
        },
        {
         "metadata": "{}",
         "name": "env",
         "type": "\"string\""
        },
        {
         "metadata": "{}",
         "name": "ingestion_date",
         "type": "\"timestamp\""
        }
       ],
       "type": "table"
      }
     },
     "output_type": "display_data"
    }
   ],
   "source": [
    "# Read File\n",
    "df = spark.read.parquet('abfss://processed@dbcourselakehouse.dfs.core.windows.net/circuits')\n",
    "\n",
    "# Display Data\n",
    "display(df)"
   ]
  },
  {
   "cell_type": "code",
   "execution_count": null,
   "metadata": {},
   "outputs": [],
   "source": [
    "# Notbook Exit Output\n",
    "dbutils.notebook.exit(\"Circuits Successful\")"
   ]
  }
 ],
 "metadata": {
  "application/vnd.databricks.v1+notebook": {
   "dashboards": [],
   "language": "python",
   "notebookMetadata": {
    "mostRecentlyExecutedCommandWithImplicitDF": {
     "commandId": -1,
     "dataframes": [
      "_sqldf"
     ]
    },
    "pythonIndentUnit": 4
   },
   "notebookName": "01-Circuits-CSV",
   "widgets": {}
  },
  "language_info": {
   "name": "python"
  }
 },
 "nbformat": 4,
 "nbformat_minor": 0
}
