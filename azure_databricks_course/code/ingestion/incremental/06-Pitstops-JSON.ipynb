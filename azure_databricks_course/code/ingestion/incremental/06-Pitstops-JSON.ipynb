{
 "cells": [
  {
   "cell_type": "markdown",
   "metadata": {
    "application/vnd.databricks.v1+cell": {
     "cellMetadata": {
      "byteLimit": 2048000,
      "rowLimit": 10000
     },
     "inputWidgets": {},
     "nuid": "98c9ddf8-f8f1-4f0c-8574-679817e4d607",
     "showTitle": false,
     "title": ""
    }
   },
   "source": [
    "# Ingest Pitstops JSON File\n",
    "\n",
    "1. Read Data\n",
    "2. Transform Data\n",
    "3. Write Data"
   ]
  },
  {
   "cell_type": "code",
   "execution_count": 0,
   "metadata": {
    "application/vnd.databricks.v1+cell": {
     "cellMetadata": {
      "byteLimit": 2048000,
      "rowLimit": 10000
     },
     "inputWidgets": {},
     "nuid": "d0be2c72-2516-4ce2-87b9-85ff54f779d3",
     "showTitle": false,
     "title": ""
    }
   },
   "outputs": [],
   "source": [
    "# Import Modules\n",
    "from pyspark.sql.functions import current_timestamp, lit\n",
    "from pyspark.sql.types import StructType, StructField, IntegerType, StringType"
   ]
  },
  {
   "cell_type": "code",
   "execution_count": 0,
   "metadata": {
    "application/vnd.databricks.v1+cell": {
     "cellMetadata": {
      "byteLimit": 2048000,
      "rowLimit": 10000
     },
     "inputWidgets": {},
     "nuid": "3b17e81a-e47e-4584-b74c-8a2ff36ded73",
     "showTitle": false,
     "title": ""
    }
   },
   "outputs": [],
   "source": [
    "# File Date Parameter\n",
    "dbutils.widgets.text(\"FileDate\", \"2021-03-28\")\n",
    "file_date = dbutils.widgets.get('FileDate')"
   ]
  },
  {
   "cell_type": "code",
   "execution_count": 0,
   "metadata": {
    "application/vnd.databricks.v1+cell": {
     "cellMetadata": {
      "byteLimit": 2048000,
      "rowLimit": 10000
     },
     "inputWidgets": {},
     "nuid": "32b3f436-98e2-4190-aa24-c54290ad4452",
     "showTitle": false,
     "title": ""
    }
   },
   "outputs": [],
   "source": [
    "%run \"../../01-Setup/09-Global-Variables\""
   ]
  },
  {
   "cell_type": "code",
   "execution_count": 0,
   "metadata": {
    "application/vnd.databricks.v1+cell": {
     "cellMetadata": {
      "byteLimit": 2048000,
      "rowLimit": 10000
     },
     "inputWidgets": {},
     "nuid": "3e88eaed-2ab9-42fa-be0d-c2ac27636070",
     "showTitle": false,
     "title": ""
    }
   },
   "outputs": [],
   "source": [
    "%run \"../../01-Setup/10-Global-Functions\""
   ]
  },
  {
   "cell_type": "markdown",
   "metadata": {
    "application/vnd.databricks.v1+cell": {
     "cellMetadata": {
      "byteLimit": 2048000,
      "rowLimit": 10000
     },
     "inputWidgets": {},
     "nuid": "b53ebb5d-3e05-4d05-bbd6-2bef1c4835ac",
     "showTitle": false,
     "title": ""
    }
   },
   "source": [
    "### Read Data"
   ]
  },
  {
   "cell_type": "code",
   "execution_count": 0,
   "metadata": {
    "application/vnd.databricks.v1+cell": {
     "cellMetadata": {
      "byteLimit": 2048000,
      "rowLimit": 10000
     },
     "inputWidgets": {},
     "nuid": "e269d3a9-0a1c-4047-80c2-c34a8983eca7",
     "showTitle": false,
     "title": ""
    }
   },
   "outputs": [
    {
     "output_type": "display_data",
     "data": {
      "text/html": [
       "<style scoped>\n",
       "  .table-result-container {\n",
       "    max-height: 300px;\n",
       "    overflow: auto;\n",
       "  }\n",
       "  table, th, td {\n",
       "    border: 1px solid black;\n",
       "    border-collapse: collapse;\n",
       "  }\n",
       "  th, td {\n",
       "    padding: 5px;\n",
       "  }\n",
       "  th {\n",
       "    text-align: left;\n",
       "  }\n",
       "</style><div class='table-result-container'><table class='table-result'><thead style='background-color: white'><tr><th>raceId</th><th>driverId</th><th>stop</th><th>lap</th><th>time</th><th>duration</th><th>milliseconds</th></tr></thead><tbody><tr><td>1053</td><td>839</td><td>1</td><td>1</td><td>15:05:16</td><td>30.866</td><td>30866</td></tr><tr><td>1053</td><td>20</td><td>1</td><td>3</td><td>15:10:09</td><td>32.024</td><td>32024</td></tr><tr><td>1053</td><td>854</td><td>1</td><td>5</td><td>15:15:11</td><td>51.007</td><td>51007</td></tr><tr><td>1053</td><td>853</td><td>1</td><td>12</td><td>15:27:20</td><td>31.168</td><td>31168</td></tr><tr><td>1053</td><td>842</td><td>1</td><td>14</td><td>15:30:10</td><td>31.068</td><td>31068</td></tr><tr><td>1053</td><td>20</td><td>2</td><td>20</td><td>15:39:11</td><td>31.184</td><td>31184</td></tr><tr><td>1053</td><td>854</td><td>2</td><td>21</td><td>15:41:24</td><td>32.479</td><td>32479</td></tr><tr><td>1053</td><td>20</td><td>3</td><td>22</td><td>15:42:52</td><td>39.502</td><td>39502</td></tr><tr><td>1053</td><td>853</td><td>2</td><td>23</td><td>15:45:20</td><td>31.5</td><td>31500</td></tr><tr><td>1053</td><td>852</td><td>1</td><td>25</td><td>15:46:39</td><td>30.696</td><td>30696</td></tr><tr><td>1053</td><td>847</td><td>1</td><td>26</td><td>15:47:53</td><td>29.983</td><td>29983</td></tr><tr><td>1053</td><td>8</td><td>1</td><td>26</td><td>15:47:55</td><td>30.28</td><td>30280</td></tr><tr><td>1053</td><td>830</td><td>1</td><td>27</td><td>15:47:59</td><td>29.809</td><td>29809</td></tr><tr><td>1053</td><td>842</td><td>2</td><td>26</td><td>15:48:45</td><td>32.277</td><td>32277</td></tr><tr><td>1053</td><td>832</td><td>1</td><td>27</td><td>15:48:51</td><td>30.856</td><td>30856</td></tr><tr><td>1053</td><td>817</td><td>1</td><td>27</td><td>15:48:57</td><td>34.34</td><td>34340</td></tr><tr><td>1053</td><td>840</td><td>1</td><td>27</td><td>15:49:16</td><td>31.138</td><td>31138</td></tr><tr><td>1053</td><td>1</td><td>1</td><td>28</td><td>15:49:27</td><td>32.112</td><td>32112</td></tr><tr><td>1053</td><td>841</td><td>1</td><td>27</td><td>15:49:32</td><td>32.299</td><td>32299</td></tr><tr><td>1053</td><td>839</td><td>2</td><td>27</td><td>15:49:42</td><td>30.652</td><td>30652</td></tr><tr><td>1053</td><td>844</td><td>1</td><td>28</td><td>15:49:43</td><td>31.002</td><td>31002</td></tr><tr><td>1053</td><td>815</td><td>1</td><td>28</td><td>15:49:58</td><td>44.608</td><td>44608</td></tr><tr><td>1053</td><td>846</td><td>1</td><td>28</td><td>15:50:11</td><td>30.654</td><td>30654</td></tr><tr><td>1053</td><td>822</td><td>1</td><td>28</td><td>15:50:46</td><td>30.167</td><td>30167</td></tr><tr><td>1053</td><td>4</td><td>1</td><td>28</td><td>15:51:18</td><td>30.864</td><td>30864</td></tr><tr><td>1053</td><td>1</td><td>2</td><td>31</td><td>15:55:30</td><td>38.198</td><td>38198</td></tr><tr><td>1053</td><td>839</td><td>3</td><td>31</td><td>15:56:23</td><td>30.701</td><td>30701</td></tr><tr><td>1053</td><td>830</td><td>2</td><td>33</td><td>15:58:11</td><td>27:01.361</td><td>1621361</td></tr><tr><td>1053</td><td>840</td><td>2</td><td>32</td><td>15:58:13</td><td>24:52.090</td><td>1492090</td></tr><tr><td>1053</td><td>8</td><td>2</td><td>32</td><td>15:58:16</td><td>24:52.612</td><td>1492612</td></tr><tr><td>1053</td><td>1</td><td>3</td><td>32</td><td>15:58:17</td><td>24:54.731</td><td>1494731</td></tr><tr><td>1053</td><td>854</td><td>3</td><td>31</td><td>15:58:20</td><td>25:21.462</td><td>1521462</td></tr><tr><td>1053</td><td>852</td><td>2</td><td>32</td><td>15:58:24</td><td>24:51.384</td><td>1491384</td></tr><tr><td>1053</td><td>841</td><td>2</td><td>32</td><td>15:58:26</td><td>24:56.541</td><td>1496541</td></tr><tr><td>1053</td><td>844</td><td>2</td><td>33</td><td>15:58:28</td><td>26:49.484</td><td>1609484</td></tr><tr><td>1053</td><td>4</td><td>2</td><td>32</td><td>15:58:37</td><td>24:48.372</td><td>1488372</td></tr><tr><td>1053</td><td>839</td><td>4</td><td>32</td><td>15:58:48</td><td>24:38.974</td><td>1478974</td></tr><tr><td>1053</td><td>853</td><td>3</td><td>31</td><td>15:58:57</td><td>24:46.154</td><td>1486154</td></tr><tr><td>1053</td><td>846</td><td>2</td><td>33</td><td>15:59:06</td><td>26:24.953</td><td>1584953</td></tr><tr><td>1053</td><td>815</td><td>2</td><td>33</td><td>15:59:11</td><td>26:21.158</td><td>1581158</td></tr><tr><td>1053</td><td>832</td><td>2</td><td>33</td><td>15:59:14</td><td>26:22.211</td><td>1582211</td></tr><tr><td>1053</td><td>842</td><td>3</td><td>32</td><td>15:59:18</td><td>24:13.539</td><td>1453539</td></tr><tr><td>1053</td><td>20</td><td>4</td><td>32</td><td>15:59:21</td><td>24:12.323</td><td>1452323</td></tr><tr><td>1053</td><td>817</td><td>2</td><td>33</td><td>15:59:25</td><td>26:14.827</td><td>1574827</td></tr><tr><td>1053</td><td>840</td><td>3</td><td>33</td><td>16:24:36</td><td>1:05.390</td><td>65390</td></tr><tr><td>1053</td><td>8</td><td>3</td><td>33</td><td>16:24:42</td><td>1:02.892</td><td>62892</td></tr><tr><td>1053</td><td>1</td><td>4</td><td>33</td><td>16:24:48</td><td>1:05.870</td><td>65870</td></tr><tr><td>1053</td><td>852</td><td>3</td><td>33</td><td>16:24:52</td><td>1:03.280</td><td>63280</td></tr><tr><td>1053</td><td>841</td><td>3</td><td>33</td><td>16:24:58</td><td>1:00.172</td><td>60172</td></tr><tr><td>1053</td><td>4</td><td>3</td><td>33</td><td>16:25:04</td><td>57.601</td><td>57601</td></tr><tr><td>1053</td><td>839</td><td>5</td><td>33</td><td>16:25:06</td><td>56.733</td><td>56733</td></tr><tr><td>1053</td><td>842</td><td>4</td><td>33</td><td>16:25:09</td><td>56.083</td><td>56083</td></tr><tr><td>1053</td><td>20</td><td>5</td><td>33</td><td>16:25:15</td><td>52.043</td><td>52043</td></tr><tr><td>1053</td><td>854</td><td>4</td><td>32</td><td>16:25:16</td><td>51.222</td><td>51222</td></tr><tr><td>1053</td><td>853</td><td>4</td><td>32</td><td>16:25:22</td><td>49.729</td><td>49729</td></tr><tr><td>1053</td><td>841</td><td>4</td><td>40</td><td>16:36:13</td><td>29.742</td><td>29742</td></tr></tbody></table></div>"
      ]
     },
     "metadata": {
      "application/vnd.databricks.v1+output": {
       "addedWidgets": {},
       "aggData": [],
       "aggError": "",
       "aggOverflow": false,
       "aggSchema": [],
       "aggSeriesLimitReached": false,
       "aggType": "",
       "arguments": {},
       "columnCustomDisplayInfos": {},
       "data": [
        [
         1053,
         839,
         "1",
         1,
         "15:05:16",
         "30.866",
         30866
        ],
        [
         1053,
         20,
         "1",
         3,
         "15:10:09",
         "32.024",
         32024
        ],
        [
         1053,
         854,
         "1",
         5,
         "15:15:11",
         "51.007",
         51007
        ],
        [
         1053,
         853,
         "1",
         12,
         "15:27:20",
         "31.168",
         31168
        ],
        [
         1053,
         842,
         "1",
         14,
         "15:30:10",
         "31.068",
         31068
        ],
        [
         1053,
         20,
         "2",
         20,
         "15:39:11",
         "31.184",
         31184
        ],
        [
         1053,
         854,
         "2",
         21,
         "15:41:24",
         "32.479",
         32479
        ],
        [
         1053,
         20,
         "3",
         22,
         "15:42:52",
         "39.502",
         39502
        ],
        [
         1053,
         853,
         "2",
         23,
         "15:45:20",
         "31.5",
         31500
        ],
        [
         1053,
         852,
         "1",
         25,
         "15:46:39",
         "30.696",
         30696
        ],
        [
         1053,
         847,
         "1",
         26,
         "15:47:53",
         "29.983",
         29983
        ],
        [
         1053,
         8,
         "1",
         26,
         "15:47:55",
         "30.28",
         30280
        ],
        [
         1053,
         830,
         "1",
         27,
         "15:47:59",
         "29.809",
         29809
        ],
        [
         1053,
         842,
         "2",
         26,
         "15:48:45",
         "32.277",
         32277
        ],
        [
         1053,
         832,
         "1",
         27,
         "15:48:51",
         "30.856",
         30856
        ],
        [
         1053,
         817,
         "1",
         27,
         "15:48:57",
         "34.34",
         34340
        ],
        [
         1053,
         840,
         "1",
         27,
         "15:49:16",
         "31.138",
         31138
        ],
        [
         1053,
         1,
         "1",
         28,
         "15:49:27",
         "32.112",
         32112
        ],
        [
         1053,
         841,
         "1",
         27,
         "15:49:32",
         "32.299",
         32299
        ],
        [
         1053,
         839,
         "2",
         27,
         "15:49:42",
         "30.652",
         30652
        ],
        [
         1053,
         844,
         "1",
         28,
         "15:49:43",
         "31.002",
         31002
        ],
        [
         1053,
         815,
         "1",
         28,
         "15:49:58",
         "44.608",
         44608
        ],
        [
         1053,
         846,
         "1",
         28,
         "15:50:11",
         "30.654",
         30654
        ],
        [
         1053,
         822,
         "1",
         28,
         "15:50:46",
         "30.167",
         30167
        ],
        [
         1053,
         4,
         "1",
         28,
         "15:51:18",
         "30.864",
         30864
        ],
        [
         1053,
         1,
         "2",
         31,
         "15:55:30",
         "38.198",
         38198
        ],
        [
         1053,
         839,
         "3",
         31,
         "15:56:23",
         "30.701",
         30701
        ],
        [
         1053,
         830,
         "2",
         33,
         "15:58:11",
         "27:01.361",
         1621361
        ],
        [
         1053,
         840,
         "2",
         32,
         "15:58:13",
         "24:52.090",
         1492090
        ],
        [
         1053,
         8,
         "2",
         32,
         "15:58:16",
         "24:52.612",
         1492612
        ],
        [
         1053,
         1,
         "3",
         32,
         "15:58:17",
         "24:54.731",
         1494731
        ],
        [
         1053,
         854,
         "3",
         31,
         "15:58:20",
         "25:21.462",
         1521462
        ],
        [
         1053,
         852,
         "2",
         32,
         "15:58:24",
         "24:51.384",
         1491384
        ],
        [
         1053,
         841,
         "2",
         32,
         "15:58:26",
         "24:56.541",
         1496541
        ],
        [
         1053,
         844,
         "2",
         33,
         "15:58:28",
         "26:49.484",
         1609484
        ],
        [
         1053,
         4,
         "2",
         32,
         "15:58:37",
         "24:48.372",
         1488372
        ],
        [
         1053,
         839,
         "4",
         32,
         "15:58:48",
         "24:38.974",
         1478974
        ],
        [
         1053,
         853,
         "3",
         31,
         "15:58:57",
         "24:46.154",
         1486154
        ],
        [
         1053,
         846,
         "2",
         33,
         "15:59:06",
         "26:24.953",
         1584953
        ],
        [
         1053,
         815,
         "2",
         33,
         "15:59:11",
         "26:21.158",
         1581158
        ],
        [
         1053,
         832,
         "2",
         33,
         "15:59:14",
         "26:22.211",
         1582211
        ],
        [
         1053,
         842,
         "3",
         32,
         "15:59:18",
         "24:13.539",
         1453539
        ],
        [
         1053,
         20,
         "4",
         32,
         "15:59:21",
         "24:12.323",
         1452323
        ],
        [
         1053,
         817,
         "2",
         33,
         "15:59:25",
         "26:14.827",
         1574827
        ],
        [
         1053,
         840,
         "3",
         33,
         "16:24:36",
         "1:05.390",
         65390
        ],
        [
         1053,
         8,
         "3",
         33,
         "16:24:42",
         "1:02.892",
         62892
        ],
        [
         1053,
         1,
         "4",
         33,
         "16:24:48",
         "1:05.870",
         65870
        ],
        [
         1053,
         852,
         "3",
         33,
         "16:24:52",
         "1:03.280",
         63280
        ],
        [
         1053,
         841,
         "3",
         33,
         "16:24:58",
         "1:00.172",
         60172
        ],
        [
         1053,
         4,
         "3",
         33,
         "16:25:04",
         "57.601",
         57601
        ],
        [
         1053,
         839,
         "5",
         33,
         "16:25:06",
         "56.733",
         56733
        ],
        [
         1053,
         842,
         "4",
         33,
         "16:25:09",
         "56.083",
         56083
        ],
        [
         1053,
         20,
         "5",
         33,
         "16:25:15",
         "52.043",
         52043
        ],
        [
         1053,
         854,
         "4",
         32,
         "16:25:16",
         "51.222",
         51222
        ],
        [
         1053,
         853,
         "4",
         32,
         "16:25:22",
         "49.729",
         49729
        ],
        [
         1053,
         841,
         "4",
         40,
         "16:36:13",
         "29.742",
         29742
        ]
       ],
       "datasetInfos": [],
       "dbfsResultPath": null,
       "isJsonSchema": true,
       "metadata": {},
       "overflow": false,
       "plotOptions": {
        "customPlotOptions": {},
        "displayType": "table",
        "pivotAggregation": null,
        "pivotColumns": null,
        "xColumns": null,
        "yColumns": null
       },
       "removedWidgets": [],
       "schema": [
        {
         "metadata": "{}",
         "name": "raceId",
         "type": "\"integer\""
        },
        {
         "metadata": "{}",
         "name": "driverId",
         "type": "\"integer\""
        },
        {
         "metadata": "{}",
         "name": "stop",
         "type": "\"string\""
        },
        {
         "metadata": "{}",
         "name": "lap",
         "type": "\"integer\""
        },
        {
         "metadata": "{}",
         "name": "time",
         "type": "\"string\""
        },
        {
         "metadata": "{}",
         "name": "duration",
         "type": "\"string\""
        },
        {
         "metadata": "{}",
         "name": "milliseconds",
         "type": "\"integer\""
        }
       ],
       "type": "table"
      }
     },
     "output_type": "display_data"
    }
   ],
   "source": [
    "# Write Schema (Explicitly)\n",
    "# StructType Represents Rows, StructField Represents Columns\n",
    "pitstops_schema = StructType(fields = [\n",
    "    StructField('raceId', IntegerType(), False),\n",
    "    StructField('driverId', IntegerType(), True),\n",
    "    StructField('stop', StringType(), True),\n",
    "    StructField('lap', IntegerType(), True),\n",
    "    StructField('time', StringType(), True),\n",
    "    StructField('duration', StringType(), True),\n",
    "    StructField('milliseconds', IntegerType(), True)\n",
    "])\n",
    "\n",
    "# Apply Schema\n",
    "pitstops_df = spark.read \\\n",
    "    .schema(pitstops_schema) \\\n",
    "    .option('multiLine', True) \\\n",
    "    .json(f'{raw_inc_folder_path}/{file_date}/pit_stops.json')\n",
    "\n",
    "# Display Data\n",
    "display(pitstops_df)"
   ]
  },
  {
   "cell_type": "code",
   "execution_count": 0,
   "metadata": {
    "application/vnd.databricks.v1+cell": {
     "cellMetadata": {
      "byteLimit": 2048000,
      "rowLimit": 10000
     },
     "inputWidgets": {},
     "nuid": "8991bc63-e11d-4254-8834-a3155fd857a1",
     "showTitle": false,
     "title": ""
    }
   },
   "outputs": [
    {
     "output_type": "stream",
     "name": "stdout",
     "output_type": "stream",
     "text": [
      "root\n |-- raceId: integer (nullable = true)\n |-- driverId: integer (nullable = true)\n |-- stop: string (nullable = true)\n |-- lap: integer (nullable = true)\n |-- time: string (nullable = true)\n |-- duration: string (nullable = true)\n |-- milliseconds: integer (nullable = true)\n\n"
     ]
    }
   ],
   "source": [
    "# Print Schema\n",
    "pitstops_df.printSchema()"
   ]
  },
  {
   "cell_type": "code",
   "execution_count": 0,
   "metadata": {
    "application/vnd.databricks.v1+cell": {
     "cellMetadata": {
      "byteLimit": 2048000,
      "rowLimit": 10000
     },
     "inputWidgets": {},
     "nuid": "48151ca4-953b-4ded-bfad-21854c157a88",
     "showTitle": false,
     "title": ""
    }
   },
   "outputs": [
    {
     "output_type": "stream",
     "name": "stdout",
     "output_type": "stream",
     "text": [
      "+-------+------+-----------------+------------------+------------------+--------+-----------------+-----------------+\n|summary|raceId|         driverId|              stop|               lap|    time|         duration|     milliseconds|\n+-------+------+-----------------+------------------+------------------+--------+-----------------+-----------------+\n|  count|    56|               56|                56|                56|      56|               56|               56|\n|   mean|1053.0|            618.0|2.2142857142857144|27.946428571428573|    null|          36.6055|       490435.125|\n| stddev|   0.0|371.6344733985019|1.1554501006382465| 7.706949975319544|    null|9.322011969884322|689062.9786592821|\n|    min|  1053|                1|                 1|                 1|15:05:16|         1:00.172|            29742|\n|    max|  1053|              854|                 5|                40|16:36:13|           57.601|          1621361|\n+-------+------+-----------------+------------------+------------------+--------+-----------------+-----------------+\n\n"
     ]
    }
   ],
   "source": [
    "# Describe Data\n",
    "pitstops_df.describe().show()"
   ]
  },
  {
   "cell_type": "markdown",
   "metadata": {
    "application/vnd.databricks.v1+cell": {
     "cellMetadata": {
      "byteLimit": 2048000,
      "rowLimit": 10000
     },
     "inputWidgets": {},
     "nuid": "f45ce64b-bcb4-4eea-9547-23c1d7d70e98",
     "showTitle": false,
     "title": ""
    }
   },
   "source": [
    "### Transform Data"
   ]
  },
  {
   "cell_type": "code",
   "execution_count": 0,
   "metadata": {
    "application/vnd.databricks.v1+cell": {
     "cellMetadata": {
      "byteLimit": 2048000,
      "rowLimit": 10000
     },
     "inputWidgets": {},
     "nuid": "fb402929-3114-49c4-bfcf-8496268b00ee",
     "showTitle": false,
     "title": ""
    }
   },
   "outputs": [
    {
     "output_type": "display_data",
     "data": {
      "text/html": [
       "<style scoped>\n",
       "  .table-result-container {\n",
       "    max-height: 300px;\n",
       "    overflow: auto;\n",
       "  }\n",
       "  table, th, td {\n",
       "    border: 1px solid black;\n",
       "    border-collapse: collapse;\n",
       "  }\n",
       "  th, td {\n",
       "    padding: 5px;\n",
       "  }\n",
       "  th {\n",
       "    text-align: left;\n",
       "  }\n",
       "</style><div class='table-result-container'><table class='table-result'><thead style='background-color: white'><tr><th>race_id</th><th>driver_id</th><th>stop</th><th>lap</th><th>time</th><th>duration</th><th>milliseconds</th><th>file_date</th></tr></thead><tbody><tr><td>1053</td><td>839</td><td>1</td><td>1</td><td>15:05:16</td><td>30.866</td><td>30866</td><td>2021-04-18</td></tr><tr><td>1053</td><td>20</td><td>1</td><td>3</td><td>15:10:09</td><td>32.024</td><td>32024</td><td>2021-04-18</td></tr><tr><td>1053</td><td>854</td><td>1</td><td>5</td><td>15:15:11</td><td>51.007</td><td>51007</td><td>2021-04-18</td></tr><tr><td>1053</td><td>853</td><td>1</td><td>12</td><td>15:27:20</td><td>31.168</td><td>31168</td><td>2021-04-18</td></tr><tr><td>1053</td><td>842</td><td>1</td><td>14</td><td>15:30:10</td><td>31.068</td><td>31068</td><td>2021-04-18</td></tr><tr><td>1053</td><td>20</td><td>2</td><td>20</td><td>15:39:11</td><td>31.184</td><td>31184</td><td>2021-04-18</td></tr><tr><td>1053</td><td>854</td><td>2</td><td>21</td><td>15:41:24</td><td>32.479</td><td>32479</td><td>2021-04-18</td></tr><tr><td>1053</td><td>20</td><td>3</td><td>22</td><td>15:42:52</td><td>39.502</td><td>39502</td><td>2021-04-18</td></tr><tr><td>1053</td><td>853</td><td>2</td><td>23</td><td>15:45:20</td><td>31.5</td><td>31500</td><td>2021-04-18</td></tr><tr><td>1053</td><td>852</td><td>1</td><td>25</td><td>15:46:39</td><td>30.696</td><td>30696</td><td>2021-04-18</td></tr><tr><td>1053</td><td>847</td><td>1</td><td>26</td><td>15:47:53</td><td>29.983</td><td>29983</td><td>2021-04-18</td></tr><tr><td>1053</td><td>8</td><td>1</td><td>26</td><td>15:47:55</td><td>30.28</td><td>30280</td><td>2021-04-18</td></tr><tr><td>1053</td><td>830</td><td>1</td><td>27</td><td>15:47:59</td><td>29.809</td><td>29809</td><td>2021-04-18</td></tr><tr><td>1053</td><td>842</td><td>2</td><td>26</td><td>15:48:45</td><td>32.277</td><td>32277</td><td>2021-04-18</td></tr><tr><td>1053</td><td>832</td><td>1</td><td>27</td><td>15:48:51</td><td>30.856</td><td>30856</td><td>2021-04-18</td></tr><tr><td>1053</td><td>817</td><td>1</td><td>27</td><td>15:48:57</td><td>34.34</td><td>34340</td><td>2021-04-18</td></tr><tr><td>1053</td><td>840</td><td>1</td><td>27</td><td>15:49:16</td><td>31.138</td><td>31138</td><td>2021-04-18</td></tr><tr><td>1053</td><td>1</td><td>1</td><td>28</td><td>15:49:27</td><td>32.112</td><td>32112</td><td>2021-04-18</td></tr><tr><td>1053</td><td>841</td><td>1</td><td>27</td><td>15:49:32</td><td>32.299</td><td>32299</td><td>2021-04-18</td></tr><tr><td>1053</td><td>839</td><td>2</td><td>27</td><td>15:49:42</td><td>30.652</td><td>30652</td><td>2021-04-18</td></tr><tr><td>1053</td><td>844</td><td>1</td><td>28</td><td>15:49:43</td><td>31.002</td><td>31002</td><td>2021-04-18</td></tr><tr><td>1053</td><td>815</td><td>1</td><td>28</td><td>15:49:58</td><td>44.608</td><td>44608</td><td>2021-04-18</td></tr><tr><td>1053</td><td>846</td><td>1</td><td>28</td><td>15:50:11</td><td>30.654</td><td>30654</td><td>2021-04-18</td></tr><tr><td>1053</td><td>822</td><td>1</td><td>28</td><td>15:50:46</td><td>30.167</td><td>30167</td><td>2021-04-18</td></tr><tr><td>1053</td><td>4</td><td>1</td><td>28</td><td>15:51:18</td><td>30.864</td><td>30864</td><td>2021-04-18</td></tr><tr><td>1053</td><td>1</td><td>2</td><td>31</td><td>15:55:30</td><td>38.198</td><td>38198</td><td>2021-04-18</td></tr><tr><td>1053</td><td>839</td><td>3</td><td>31</td><td>15:56:23</td><td>30.701</td><td>30701</td><td>2021-04-18</td></tr><tr><td>1053</td><td>830</td><td>2</td><td>33</td><td>15:58:11</td><td>27:01.361</td><td>1621361</td><td>2021-04-18</td></tr><tr><td>1053</td><td>840</td><td>2</td><td>32</td><td>15:58:13</td><td>24:52.090</td><td>1492090</td><td>2021-04-18</td></tr><tr><td>1053</td><td>8</td><td>2</td><td>32</td><td>15:58:16</td><td>24:52.612</td><td>1492612</td><td>2021-04-18</td></tr><tr><td>1053</td><td>1</td><td>3</td><td>32</td><td>15:58:17</td><td>24:54.731</td><td>1494731</td><td>2021-04-18</td></tr><tr><td>1053</td><td>854</td><td>3</td><td>31</td><td>15:58:20</td><td>25:21.462</td><td>1521462</td><td>2021-04-18</td></tr><tr><td>1053</td><td>852</td><td>2</td><td>32</td><td>15:58:24</td><td>24:51.384</td><td>1491384</td><td>2021-04-18</td></tr><tr><td>1053</td><td>841</td><td>2</td><td>32</td><td>15:58:26</td><td>24:56.541</td><td>1496541</td><td>2021-04-18</td></tr><tr><td>1053</td><td>844</td><td>2</td><td>33</td><td>15:58:28</td><td>26:49.484</td><td>1609484</td><td>2021-04-18</td></tr><tr><td>1053</td><td>4</td><td>2</td><td>32</td><td>15:58:37</td><td>24:48.372</td><td>1488372</td><td>2021-04-18</td></tr><tr><td>1053</td><td>839</td><td>4</td><td>32</td><td>15:58:48</td><td>24:38.974</td><td>1478974</td><td>2021-04-18</td></tr><tr><td>1053</td><td>853</td><td>3</td><td>31</td><td>15:58:57</td><td>24:46.154</td><td>1486154</td><td>2021-04-18</td></tr><tr><td>1053</td><td>846</td><td>2</td><td>33</td><td>15:59:06</td><td>26:24.953</td><td>1584953</td><td>2021-04-18</td></tr><tr><td>1053</td><td>815</td><td>2</td><td>33</td><td>15:59:11</td><td>26:21.158</td><td>1581158</td><td>2021-04-18</td></tr><tr><td>1053</td><td>832</td><td>2</td><td>33</td><td>15:59:14</td><td>26:22.211</td><td>1582211</td><td>2021-04-18</td></tr><tr><td>1053</td><td>842</td><td>3</td><td>32</td><td>15:59:18</td><td>24:13.539</td><td>1453539</td><td>2021-04-18</td></tr><tr><td>1053</td><td>20</td><td>4</td><td>32</td><td>15:59:21</td><td>24:12.323</td><td>1452323</td><td>2021-04-18</td></tr><tr><td>1053</td><td>817</td><td>2</td><td>33</td><td>15:59:25</td><td>26:14.827</td><td>1574827</td><td>2021-04-18</td></tr><tr><td>1053</td><td>840</td><td>3</td><td>33</td><td>16:24:36</td><td>1:05.390</td><td>65390</td><td>2021-04-18</td></tr><tr><td>1053</td><td>8</td><td>3</td><td>33</td><td>16:24:42</td><td>1:02.892</td><td>62892</td><td>2021-04-18</td></tr><tr><td>1053</td><td>1</td><td>4</td><td>33</td><td>16:24:48</td><td>1:05.870</td><td>65870</td><td>2021-04-18</td></tr><tr><td>1053</td><td>852</td><td>3</td><td>33</td><td>16:24:52</td><td>1:03.280</td><td>63280</td><td>2021-04-18</td></tr><tr><td>1053</td><td>841</td><td>3</td><td>33</td><td>16:24:58</td><td>1:00.172</td><td>60172</td><td>2021-04-18</td></tr><tr><td>1053</td><td>4</td><td>3</td><td>33</td><td>16:25:04</td><td>57.601</td><td>57601</td><td>2021-04-18</td></tr><tr><td>1053</td><td>839</td><td>5</td><td>33</td><td>16:25:06</td><td>56.733</td><td>56733</td><td>2021-04-18</td></tr><tr><td>1053</td><td>842</td><td>4</td><td>33</td><td>16:25:09</td><td>56.083</td><td>56083</td><td>2021-04-18</td></tr><tr><td>1053</td><td>20</td><td>5</td><td>33</td><td>16:25:15</td><td>52.043</td><td>52043</td><td>2021-04-18</td></tr><tr><td>1053</td><td>854</td><td>4</td><td>32</td><td>16:25:16</td><td>51.222</td><td>51222</td><td>2021-04-18</td></tr><tr><td>1053</td><td>853</td><td>4</td><td>32</td><td>16:25:22</td><td>49.729</td><td>49729</td><td>2021-04-18</td></tr><tr><td>1053</td><td>841</td><td>4</td><td>40</td><td>16:36:13</td><td>29.742</td><td>29742</td><td>2021-04-18</td></tr></tbody></table></div>"
      ]
     },
     "metadata": {
      "application/vnd.databricks.v1+output": {
       "addedWidgets": {},
       "aggData": [],
       "aggError": "",
       "aggOverflow": false,
       "aggSchema": [],
       "aggSeriesLimitReached": false,
       "aggType": "",
       "arguments": {},
       "columnCustomDisplayInfos": {},
       "data": [
        [
         1053,
         839,
         "1",
         1,
         "15:05:16",
         "30.866",
         30866,
         "2021-04-18"
        ],
        [
         1053,
         20,
         "1",
         3,
         "15:10:09",
         "32.024",
         32024,
         "2021-04-18"
        ],
        [
         1053,
         854,
         "1",
         5,
         "15:15:11",
         "51.007",
         51007,
         "2021-04-18"
        ],
        [
         1053,
         853,
         "1",
         12,
         "15:27:20",
         "31.168",
         31168,
         "2021-04-18"
        ],
        [
         1053,
         842,
         "1",
         14,
         "15:30:10",
         "31.068",
         31068,
         "2021-04-18"
        ],
        [
         1053,
         20,
         "2",
         20,
         "15:39:11",
         "31.184",
         31184,
         "2021-04-18"
        ],
        [
         1053,
         854,
         "2",
         21,
         "15:41:24",
         "32.479",
         32479,
         "2021-04-18"
        ],
        [
         1053,
         20,
         "3",
         22,
         "15:42:52",
         "39.502",
         39502,
         "2021-04-18"
        ],
        [
         1053,
         853,
         "2",
         23,
         "15:45:20",
         "31.5",
         31500,
         "2021-04-18"
        ],
        [
         1053,
         852,
         "1",
         25,
         "15:46:39",
         "30.696",
         30696,
         "2021-04-18"
        ],
        [
         1053,
         847,
         "1",
         26,
         "15:47:53",
         "29.983",
         29983,
         "2021-04-18"
        ],
        [
         1053,
         8,
         "1",
         26,
         "15:47:55",
         "30.28",
         30280,
         "2021-04-18"
        ],
        [
         1053,
         830,
         "1",
         27,
         "15:47:59",
         "29.809",
         29809,
         "2021-04-18"
        ],
        [
         1053,
         842,
         "2",
         26,
         "15:48:45",
         "32.277",
         32277,
         "2021-04-18"
        ],
        [
         1053,
         832,
         "1",
         27,
         "15:48:51",
         "30.856",
         30856,
         "2021-04-18"
        ],
        [
         1053,
         817,
         "1",
         27,
         "15:48:57",
         "34.34",
         34340,
         "2021-04-18"
        ],
        [
         1053,
         840,
         "1",
         27,
         "15:49:16",
         "31.138",
         31138,
         "2021-04-18"
        ],
        [
         1053,
         1,
         "1",
         28,
         "15:49:27",
         "32.112",
         32112,
         "2021-04-18"
        ],
        [
         1053,
         841,
         "1",
         27,
         "15:49:32",
         "32.299",
         32299,
         "2021-04-18"
        ],
        [
         1053,
         839,
         "2",
         27,
         "15:49:42",
         "30.652",
         30652,
         "2021-04-18"
        ],
        [
         1053,
         844,
         "1",
         28,
         "15:49:43",
         "31.002",
         31002,
         "2021-04-18"
        ],
        [
         1053,
         815,
         "1",
         28,
         "15:49:58",
         "44.608",
         44608,
         "2021-04-18"
        ],
        [
         1053,
         846,
         "1",
         28,
         "15:50:11",
         "30.654",
         30654,
         "2021-04-18"
        ],
        [
         1053,
         822,
         "1",
         28,
         "15:50:46",
         "30.167",
         30167,
         "2021-04-18"
        ],
        [
         1053,
         4,
         "1",
         28,
         "15:51:18",
         "30.864",
         30864,
         "2021-04-18"
        ],
        [
         1053,
         1,
         "2",
         31,
         "15:55:30",
         "38.198",
         38198,
         "2021-04-18"
        ],
        [
         1053,
         839,
         "3",
         31,
         "15:56:23",
         "30.701",
         30701,
         "2021-04-18"
        ],
        [
         1053,
         830,
         "2",
         33,
         "15:58:11",
         "27:01.361",
         1621361,
         "2021-04-18"
        ],
        [
         1053,
         840,
         "2",
         32,
         "15:58:13",
         "24:52.090",
         1492090,
         "2021-04-18"
        ],
        [
         1053,
         8,
         "2",
         32,
         "15:58:16",
         "24:52.612",
         1492612,
         "2021-04-18"
        ],
        [
         1053,
         1,
         "3",
         32,
         "15:58:17",
         "24:54.731",
         1494731,
         "2021-04-18"
        ],
        [
         1053,
         854,
         "3",
         31,
         "15:58:20",
         "25:21.462",
         1521462,
         "2021-04-18"
        ],
        [
         1053,
         852,
         "2",
         32,
         "15:58:24",
         "24:51.384",
         1491384,
         "2021-04-18"
        ],
        [
         1053,
         841,
         "2",
         32,
         "15:58:26",
         "24:56.541",
         1496541,
         "2021-04-18"
        ],
        [
         1053,
         844,
         "2",
         33,
         "15:58:28",
         "26:49.484",
         1609484,
         "2021-04-18"
        ],
        [
         1053,
         4,
         "2",
         32,
         "15:58:37",
         "24:48.372",
         1488372,
         "2021-04-18"
        ],
        [
         1053,
         839,
         "4",
         32,
         "15:58:48",
         "24:38.974",
         1478974,
         "2021-04-18"
        ],
        [
         1053,
         853,
         "3",
         31,
         "15:58:57",
         "24:46.154",
         1486154,
         "2021-04-18"
        ],
        [
         1053,
         846,
         "2",
         33,
         "15:59:06",
         "26:24.953",
         1584953,
         "2021-04-18"
        ],
        [
         1053,
         815,
         "2",
         33,
         "15:59:11",
         "26:21.158",
         1581158,
         "2021-04-18"
        ],
        [
         1053,
         832,
         "2",
         33,
         "15:59:14",
         "26:22.211",
         1582211,
         "2021-04-18"
        ],
        [
         1053,
         842,
         "3",
         32,
         "15:59:18",
         "24:13.539",
         1453539,
         "2021-04-18"
        ],
        [
         1053,
         20,
         "4",
         32,
         "15:59:21",
         "24:12.323",
         1452323,
         "2021-04-18"
        ],
        [
         1053,
         817,
         "2",
         33,
         "15:59:25",
         "26:14.827",
         1574827,
         "2021-04-18"
        ],
        [
         1053,
         840,
         "3",
         33,
         "16:24:36",
         "1:05.390",
         65390,
         "2021-04-18"
        ],
        [
         1053,
         8,
         "3",
         33,
         "16:24:42",
         "1:02.892",
         62892,
         "2021-04-18"
        ],
        [
         1053,
         1,
         "4",
         33,
         "16:24:48",
         "1:05.870",
         65870,
         "2021-04-18"
        ],
        [
         1053,
         852,
         "3",
         33,
         "16:24:52",
         "1:03.280",
         63280,
         "2021-04-18"
        ],
        [
         1053,
         841,
         "3",
         33,
         "16:24:58",
         "1:00.172",
         60172,
         "2021-04-18"
        ],
        [
         1053,
         4,
         "3",
         33,
         "16:25:04",
         "57.601",
         57601,
         "2021-04-18"
        ],
        [
         1053,
         839,
         "5",
         33,
         "16:25:06",
         "56.733",
         56733,
         "2021-04-18"
        ],
        [
         1053,
         842,
         "4",
         33,
         "16:25:09",
         "56.083",
         56083,
         "2021-04-18"
        ],
        [
         1053,
         20,
         "5",
         33,
         "16:25:15",
         "52.043",
         52043,
         "2021-04-18"
        ],
        [
         1053,
         854,
         "4",
         32,
         "16:25:16",
         "51.222",
         51222,
         "2021-04-18"
        ],
        [
         1053,
         853,
         "4",
         32,
         "16:25:22",
         "49.729",
         49729,
         "2021-04-18"
        ],
        [
         1053,
         841,
         "4",
         40,
         "16:36:13",
         "29.742",
         29742,
         "2021-04-18"
        ]
       ],
       "datasetInfos": [],
       "dbfsResultPath": null,
       "isJsonSchema": true,
       "metadata": {},
       "overflow": false,
       "plotOptions": {
        "customPlotOptions": {},
        "displayType": "table",
        "pivotAggregation": null,
        "pivotColumns": null,
        "xColumns": null,
        "yColumns": null
       },
       "removedWidgets": [],
       "schema": [
        {
         "metadata": "{}",
         "name": "race_id",
         "type": "\"integer\""
        },
        {
         "metadata": "{}",
         "name": "driver_id",
         "type": "\"integer\""
        },
        {
         "metadata": "{}",
         "name": "stop",
         "type": "\"string\""
        },
        {
         "metadata": "{}",
         "name": "lap",
         "type": "\"integer\""
        },
        {
         "metadata": "{}",
         "name": "time",
         "type": "\"string\""
        },
        {
         "metadata": "{}",
         "name": "duration",
         "type": "\"string\""
        },
        {
         "metadata": "{}",
         "name": "milliseconds",
         "type": "\"integer\""
        },
        {
         "metadata": "{}",
         "name": "file_date",
         "type": "\"string\""
        }
       ],
       "type": "table"
      }
     },
     "output_type": "display_data"
    }
   ],
   "source": [
    "# Rename Columns Using withColumnRenamed\n",
    "pitstops_renamed_df = pitstops_df \\\n",
    "    .withColumnRenamed('raceId', 'race_id') \\\n",
    "    .withColumnRenamed('driverId', 'driver_id') \\\n",
    "    .withColumn('file_date', lit(file_date))\n",
    "\n",
    "# Display Data\n",
    "display(pitstops_renamed_df)"
   ]
  },
  {
   "cell_type": "code",
   "execution_count": 0,
   "metadata": {
    "application/vnd.databricks.v1+cell": {
     "cellMetadata": {
      "byteLimit": 2048000,
      "rowLimit": 10000
     },
     "inputWidgets": {},
     "nuid": "7519c991-8910-43e5-aa84-5a1ebc058f4f",
     "showTitle": false,
     "title": ""
    }
   },
   "outputs": [
    {
     "output_type": "display_data",
     "data": {
      "text/html": [
       "<style scoped>\n",
       "  .table-result-container {\n",
       "    max-height: 300px;\n",
       "    overflow: auto;\n",
       "  }\n",
       "  table, th, td {\n",
       "    border: 1px solid black;\n",
       "    border-collapse: collapse;\n",
       "  }\n",
       "  th, td {\n",
       "    padding: 5px;\n",
       "  }\n",
       "  th {\n",
       "    text-align: left;\n",
       "  }\n",
       "</style><div class='table-result-container'><table class='table-result'><thead style='background-color: white'><tr><th>race_id</th><th>driver_id</th><th>stop</th><th>lap</th><th>time</th><th>duration</th><th>milliseconds</th><th>file_date</th><th>ingestion_date</th></tr></thead><tbody><tr><td>1053</td><td>839</td><td>1</td><td>1</td><td>15:05:16</td><td>30.866</td><td>30866</td><td>2021-04-18</td><td>2023-08-15T16:49:52.704+0000</td></tr><tr><td>1053</td><td>20</td><td>1</td><td>3</td><td>15:10:09</td><td>32.024</td><td>32024</td><td>2021-04-18</td><td>2023-08-15T16:49:52.704+0000</td></tr><tr><td>1053</td><td>854</td><td>1</td><td>5</td><td>15:15:11</td><td>51.007</td><td>51007</td><td>2021-04-18</td><td>2023-08-15T16:49:52.704+0000</td></tr><tr><td>1053</td><td>853</td><td>1</td><td>12</td><td>15:27:20</td><td>31.168</td><td>31168</td><td>2021-04-18</td><td>2023-08-15T16:49:52.704+0000</td></tr><tr><td>1053</td><td>842</td><td>1</td><td>14</td><td>15:30:10</td><td>31.068</td><td>31068</td><td>2021-04-18</td><td>2023-08-15T16:49:52.704+0000</td></tr><tr><td>1053</td><td>20</td><td>2</td><td>20</td><td>15:39:11</td><td>31.184</td><td>31184</td><td>2021-04-18</td><td>2023-08-15T16:49:52.704+0000</td></tr><tr><td>1053</td><td>854</td><td>2</td><td>21</td><td>15:41:24</td><td>32.479</td><td>32479</td><td>2021-04-18</td><td>2023-08-15T16:49:52.704+0000</td></tr><tr><td>1053</td><td>20</td><td>3</td><td>22</td><td>15:42:52</td><td>39.502</td><td>39502</td><td>2021-04-18</td><td>2023-08-15T16:49:52.704+0000</td></tr><tr><td>1053</td><td>853</td><td>2</td><td>23</td><td>15:45:20</td><td>31.5</td><td>31500</td><td>2021-04-18</td><td>2023-08-15T16:49:52.704+0000</td></tr><tr><td>1053</td><td>852</td><td>1</td><td>25</td><td>15:46:39</td><td>30.696</td><td>30696</td><td>2021-04-18</td><td>2023-08-15T16:49:52.704+0000</td></tr><tr><td>1053</td><td>847</td><td>1</td><td>26</td><td>15:47:53</td><td>29.983</td><td>29983</td><td>2021-04-18</td><td>2023-08-15T16:49:52.704+0000</td></tr><tr><td>1053</td><td>8</td><td>1</td><td>26</td><td>15:47:55</td><td>30.28</td><td>30280</td><td>2021-04-18</td><td>2023-08-15T16:49:52.704+0000</td></tr><tr><td>1053</td><td>830</td><td>1</td><td>27</td><td>15:47:59</td><td>29.809</td><td>29809</td><td>2021-04-18</td><td>2023-08-15T16:49:52.704+0000</td></tr><tr><td>1053</td><td>842</td><td>2</td><td>26</td><td>15:48:45</td><td>32.277</td><td>32277</td><td>2021-04-18</td><td>2023-08-15T16:49:52.704+0000</td></tr><tr><td>1053</td><td>832</td><td>1</td><td>27</td><td>15:48:51</td><td>30.856</td><td>30856</td><td>2021-04-18</td><td>2023-08-15T16:49:52.704+0000</td></tr><tr><td>1053</td><td>817</td><td>1</td><td>27</td><td>15:48:57</td><td>34.34</td><td>34340</td><td>2021-04-18</td><td>2023-08-15T16:49:52.704+0000</td></tr><tr><td>1053</td><td>840</td><td>1</td><td>27</td><td>15:49:16</td><td>31.138</td><td>31138</td><td>2021-04-18</td><td>2023-08-15T16:49:52.704+0000</td></tr><tr><td>1053</td><td>1</td><td>1</td><td>28</td><td>15:49:27</td><td>32.112</td><td>32112</td><td>2021-04-18</td><td>2023-08-15T16:49:52.704+0000</td></tr><tr><td>1053</td><td>841</td><td>1</td><td>27</td><td>15:49:32</td><td>32.299</td><td>32299</td><td>2021-04-18</td><td>2023-08-15T16:49:52.704+0000</td></tr><tr><td>1053</td><td>839</td><td>2</td><td>27</td><td>15:49:42</td><td>30.652</td><td>30652</td><td>2021-04-18</td><td>2023-08-15T16:49:52.704+0000</td></tr><tr><td>1053</td><td>844</td><td>1</td><td>28</td><td>15:49:43</td><td>31.002</td><td>31002</td><td>2021-04-18</td><td>2023-08-15T16:49:52.704+0000</td></tr><tr><td>1053</td><td>815</td><td>1</td><td>28</td><td>15:49:58</td><td>44.608</td><td>44608</td><td>2021-04-18</td><td>2023-08-15T16:49:52.704+0000</td></tr><tr><td>1053</td><td>846</td><td>1</td><td>28</td><td>15:50:11</td><td>30.654</td><td>30654</td><td>2021-04-18</td><td>2023-08-15T16:49:52.704+0000</td></tr><tr><td>1053</td><td>822</td><td>1</td><td>28</td><td>15:50:46</td><td>30.167</td><td>30167</td><td>2021-04-18</td><td>2023-08-15T16:49:52.704+0000</td></tr><tr><td>1053</td><td>4</td><td>1</td><td>28</td><td>15:51:18</td><td>30.864</td><td>30864</td><td>2021-04-18</td><td>2023-08-15T16:49:52.704+0000</td></tr><tr><td>1053</td><td>1</td><td>2</td><td>31</td><td>15:55:30</td><td>38.198</td><td>38198</td><td>2021-04-18</td><td>2023-08-15T16:49:52.704+0000</td></tr><tr><td>1053</td><td>839</td><td>3</td><td>31</td><td>15:56:23</td><td>30.701</td><td>30701</td><td>2021-04-18</td><td>2023-08-15T16:49:52.704+0000</td></tr><tr><td>1053</td><td>830</td><td>2</td><td>33</td><td>15:58:11</td><td>27:01.361</td><td>1621361</td><td>2021-04-18</td><td>2023-08-15T16:49:52.704+0000</td></tr><tr><td>1053</td><td>840</td><td>2</td><td>32</td><td>15:58:13</td><td>24:52.090</td><td>1492090</td><td>2021-04-18</td><td>2023-08-15T16:49:52.704+0000</td></tr><tr><td>1053</td><td>8</td><td>2</td><td>32</td><td>15:58:16</td><td>24:52.612</td><td>1492612</td><td>2021-04-18</td><td>2023-08-15T16:49:52.704+0000</td></tr><tr><td>1053</td><td>1</td><td>3</td><td>32</td><td>15:58:17</td><td>24:54.731</td><td>1494731</td><td>2021-04-18</td><td>2023-08-15T16:49:52.704+0000</td></tr><tr><td>1053</td><td>854</td><td>3</td><td>31</td><td>15:58:20</td><td>25:21.462</td><td>1521462</td><td>2021-04-18</td><td>2023-08-15T16:49:52.704+0000</td></tr><tr><td>1053</td><td>852</td><td>2</td><td>32</td><td>15:58:24</td><td>24:51.384</td><td>1491384</td><td>2021-04-18</td><td>2023-08-15T16:49:52.704+0000</td></tr><tr><td>1053</td><td>841</td><td>2</td><td>32</td><td>15:58:26</td><td>24:56.541</td><td>1496541</td><td>2021-04-18</td><td>2023-08-15T16:49:52.704+0000</td></tr><tr><td>1053</td><td>844</td><td>2</td><td>33</td><td>15:58:28</td><td>26:49.484</td><td>1609484</td><td>2021-04-18</td><td>2023-08-15T16:49:52.704+0000</td></tr><tr><td>1053</td><td>4</td><td>2</td><td>32</td><td>15:58:37</td><td>24:48.372</td><td>1488372</td><td>2021-04-18</td><td>2023-08-15T16:49:52.704+0000</td></tr><tr><td>1053</td><td>839</td><td>4</td><td>32</td><td>15:58:48</td><td>24:38.974</td><td>1478974</td><td>2021-04-18</td><td>2023-08-15T16:49:52.704+0000</td></tr><tr><td>1053</td><td>853</td><td>3</td><td>31</td><td>15:58:57</td><td>24:46.154</td><td>1486154</td><td>2021-04-18</td><td>2023-08-15T16:49:52.704+0000</td></tr><tr><td>1053</td><td>846</td><td>2</td><td>33</td><td>15:59:06</td><td>26:24.953</td><td>1584953</td><td>2021-04-18</td><td>2023-08-15T16:49:52.704+0000</td></tr><tr><td>1053</td><td>815</td><td>2</td><td>33</td><td>15:59:11</td><td>26:21.158</td><td>1581158</td><td>2021-04-18</td><td>2023-08-15T16:49:52.704+0000</td></tr><tr><td>1053</td><td>832</td><td>2</td><td>33</td><td>15:59:14</td><td>26:22.211</td><td>1582211</td><td>2021-04-18</td><td>2023-08-15T16:49:52.704+0000</td></tr><tr><td>1053</td><td>842</td><td>3</td><td>32</td><td>15:59:18</td><td>24:13.539</td><td>1453539</td><td>2021-04-18</td><td>2023-08-15T16:49:52.704+0000</td></tr><tr><td>1053</td><td>20</td><td>4</td><td>32</td><td>15:59:21</td><td>24:12.323</td><td>1452323</td><td>2021-04-18</td><td>2023-08-15T16:49:52.704+0000</td></tr><tr><td>1053</td><td>817</td><td>2</td><td>33</td><td>15:59:25</td><td>26:14.827</td><td>1574827</td><td>2021-04-18</td><td>2023-08-15T16:49:52.704+0000</td></tr><tr><td>1053</td><td>840</td><td>3</td><td>33</td><td>16:24:36</td><td>1:05.390</td><td>65390</td><td>2021-04-18</td><td>2023-08-15T16:49:52.704+0000</td></tr><tr><td>1053</td><td>8</td><td>3</td><td>33</td><td>16:24:42</td><td>1:02.892</td><td>62892</td><td>2021-04-18</td><td>2023-08-15T16:49:52.704+0000</td></tr><tr><td>1053</td><td>1</td><td>4</td><td>33</td><td>16:24:48</td><td>1:05.870</td><td>65870</td><td>2021-04-18</td><td>2023-08-15T16:49:52.704+0000</td></tr><tr><td>1053</td><td>852</td><td>3</td><td>33</td><td>16:24:52</td><td>1:03.280</td><td>63280</td><td>2021-04-18</td><td>2023-08-15T16:49:52.704+0000</td></tr><tr><td>1053</td><td>841</td><td>3</td><td>33</td><td>16:24:58</td><td>1:00.172</td><td>60172</td><td>2021-04-18</td><td>2023-08-15T16:49:52.704+0000</td></tr><tr><td>1053</td><td>4</td><td>3</td><td>33</td><td>16:25:04</td><td>57.601</td><td>57601</td><td>2021-04-18</td><td>2023-08-15T16:49:52.704+0000</td></tr><tr><td>1053</td><td>839</td><td>5</td><td>33</td><td>16:25:06</td><td>56.733</td><td>56733</td><td>2021-04-18</td><td>2023-08-15T16:49:52.704+0000</td></tr><tr><td>1053</td><td>842</td><td>4</td><td>33</td><td>16:25:09</td><td>56.083</td><td>56083</td><td>2021-04-18</td><td>2023-08-15T16:49:52.704+0000</td></tr><tr><td>1053</td><td>20</td><td>5</td><td>33</td><td>16:25:15</td><td>52.043</td><td>52043</td><td>2021-04-18</td><td>2023-08-15T16:49:52.704+0000</td></tr><tr><td>1053</td><td>854</td><td>4</td><td>32</td><td>16:25:16</td><td>51.222</td><td>51222</td><td>2021-04-18</td><td>2023-08-15T16:49:52.704+0000</td></tr><tr><td>1053</td><td>853</td><td>4</td><td>32</td><td>16:25:22</td><td>49.729</td><td>49729</td><td>2021-04-18</td><td>2023-08-15T16:49:52.704+0000</td></tr><tr><td>1053</td><td>841</td><td>4</td><td>40</td><td>16:36:13</td><td>29.742</td><td>29742</td><td>2021-04-18</td><td>2023-08-15T16:49:52.704+0000</td></tr></tbody></table></div>"
      ]
     },
     "metadata": {
      "application/vnd.databricks.v1+output": {
       "addedWidgets": {},
       "aggData": [],
       "aggError": "",
       "aggOverflow": false,
       "aggSchema": [],
       "aggSeriesLimitReached": false,
       "aggType": "",
       "arguments": {},
       "columnCustomDisplayInfos": {},
       "data": [
        [
         1053,
         839,
         "1",
         1,
         "15:05:16",
         "30.866",
         30866,
         "2021-04-18",
         "2023-08-15T16:49:52.704+0000"
        ],
        [
         1053,
         20,
         "1",
         3,
         "15:10:09",
         "32.024",
         32024,
         "2021-04-18",
         "2023-08-15T16:49:52.704+0000"
        ],
        [
         1053,
         854,
         "1",
         5,
         "15:15:11",
         "51.007",
         51007,
         "2021-04-18",
         "2023-08-15T16:49:52.704+0000"
        ],
        [
         1053,
         853,
         "1",
         12,
         "15:27:20",
         "31.168",
         31168,
         "2021-04-18",
         "2023-08-15T16:49:52.704+0000"
        ],
        [
         1053,
         842,
         "1",
         14,
         "15:30:10",
         "31.068",
         31068,
         "2021-04-18",
         "2023-08-15T16:49:52.704+0000"
        ],
        [
         1053,
         20,
         "2",
         20,
         "15:39:11",
         "31.184",
         31184,
         "2021-04-18",
         "2023-08-15T16:49:52.704+0000"
        ],
        [
         1053,
         854,
         "2",
         21,
         "15:41:24",
         "32.479",
         32479,
         "2021-04-18",
         "2023-08-15T16:49:52.704+0000"
        ],
        [
         1053,
         20,
         "3",
         22,
         "15:42:52",
         "39.502",
         39502,
         "2021-04-18",
         "2023-08-15T16:49:52.704+0000"
        ],
        [
         1053,
         853,
         "2",
         23,
         "15:45:20",
         "31.5",
         31500,
         "2021-04-18",
         "2023-08-15T16:49:52.704+0000"
        ],
        [
         1053,
         852,
         "1",
         25,
         "15:46:39",
         "30.696",
         30696,
         "2021-04-18",
         "2023-08-15T16:49:52.704+0000"
        ],
        [
         1053,
         847,
         "1",
         26,
         "15:47:53",
         "29.983",
         29983,
         "2021-04-18",
         "2023-08-15T16:49:52.704+0000"
        ],
        [
         1053,
         8,
         "1",
         26,
         "15:47:55",
         "30.28",
         30280,
         "2021-04-18",
         "2023-08-15T16:49:52.704+0000"
        ],
        [
         1053,
         830,
         "1",
         27,
         "15:47:59",
         "29.809",
         29809,
         "2021-04-18",
         "2023-08-15T16:49:52.704+0000"
        ],
        [
         1053,
         842,
         "2",
         26,
         "15:48:45",
         "32.277",
         32277,
         "2021-04-18",
         "2023-08-15T16:49:52.704+0000"
        ],
        [
         1053,
         832,
         "1",
         27,
         "15:48:51",
         "30.856",
         30856,
         "2021-04-18",
         "2023-08-15T16:49:52.704+0000"
        ],
        [
         1053,
         817,
         "1",
         27,
         "15:48:57",
         "34.34",
         34340,
         "2021-04-18",
         "2023-08-15T16:49:52.704+0000"
        ],
        [
         1053,
         840,
         "1",
         27,
         "15:49:16",
         "31.138",
         31138,
         "2021-04-18",
         "2023-08-15T16:49:52.704+0000"
        ],
        [
         1053,
         1,
         "1",
         28,
         "15:49:27",
         "32.112",
         32112,
         "2021-04-18",
         "2023-08-15T16:49:52.704+0000"
        ],
        [
         1053,
         841,
         "1",
         27,
         "15:49:32",
         "32.299",
         32299,
         "2021-04-18",
         "2023-08-15T16:49:52.704+0000"
        ],
        [
         1053,
         839,
         "2",
         27,
         "15:49:42",
         "30.652",
         30652,
         "2021-04-18",
         "2023-08-15T16:49:52.704+0000"
        ],
        [
         1053,
         844,
         "1",
         28,
         "15:49:43",
         "31.002",
         31002,
         "2021-04-18",
         "2023-08-15T16:49:52.704+0000"
        ],
        [
         1053,
         815,
         "1",
         28,
         "15:49:58",
         "44.608",
         44608,
         "2021-04-18",
         "2023-08-15T16:49:52.704+0000"
        ],
        [
         1053,
         846,
         "1",
         28,
         "15:50:11",
         "30.654",
         30654,
         "2021-04-18",
         "2023-08-15T16:49:52.704+0000"
        ],
        [
         1053,
         822,
         "1",
         28,
         "15:50:46",
         "30.167",
         30167,
         "2021-04-18",
         "2023-08-15T16:49:52.704+0000"
        ],
        [
         1053,
         4,
         "1",
         28,
         "15:51:18",
         "30.864",
         30864,
         "2021-04-18",
         "2023-08-15T16:49:52.704+0000"
        ],
        [
         1053,
         1,
         "2",
         31,
         "15:55:30",
         "38.198",
         38198,
         "2021-04-18",
         "2023-08-15T16:49:52.704+0000"
        ],
        [
         1053,
         839,
         "3",
         31,
         "15:56:23",
         "30.701",
         30701,
         "2021-04-18",
         "2023-08-15T16:49:52.704+0000"
        ],
        [
         1053,
         830,
         "2",
         33,
         "15:58:11",
         "27:01.361",
         1621361,
         "2021-04-18",
         "2023-08-15T16:49:52.704+0000"
        ],
        [
         1053,
         840,
         "2",
         32,
         "15:58:13",
         "24:52.090",
         1492090,
         "2021-04-18",
         "2023-08-15T16:49:52.704+0000"
        ],
        [
         1053,
         8,
         "2",
         32,
         "15:58:16",
         "24:52.612",
         1492612,
         "2021-04-18",
         "2023-08-15T16:49:52.704+0000"
        ],
        [
         1053,
         1,
         "3",
         32,
         "15:58:17",
         "24:54.731",
         1494731,
         "2021-04-18",
         "2023-08-15T16:49:52.704+0000"
        ],
        [
         1053,
         854,
         "3",
         31,
         "15:58:20",
         "25:21.462",
         1521462,
         "2021-04-18",
         "2023-08-15T16:49:52.704+0000"
        ],
        [
         1053,
         852,
         "2",
         32,
         "15:58:24",
         "24:51.384",
         1491384,
         "2021-04-18",
         "2023-08-15T16:49:52.704+0000"
        ],
        [
         1053,
         841,
         "2",
         32,
         "15:58:26",
         "24:56.541",
         1496541,
         "2021-04-18",
         "2023-08-15T16:49:52.704+0000"
        ],
        [
         1053,
         844,
         "2",
         33,
         "15:58:28",
         "26:49.484",
         1609484,
         "2021-04-18",
         "2023-08-15T16:49:52.704+0000"
        ],
        [
         1053,
         4,
         "2",
         32,
         "15:58:37",
         "24:48.372",
         1488372,
         "2021-04-18",
         "2023-08-15T16:49:52.704+0000"
        ],
        [
         1053,
         839,
         "4",
         32,
         "15:58:48",
         "24:38.974",
         1478974,
         "2021-04-18",
         "2023-08-15T16:49:52.704+0000"
        ],
        [
         1053,
         853,
         "3",
         31,
         "15:58:57",
         "24:46.154",
         1486154,
         "2021-04-18",
         "2023-08-15T16:49:52.704+0000"
        ],
        [
         1053,
         846,
         "2",
         33,
         "15:59:06",
         "26:24.953",
         1584953,
         "2021-04-18",
         "2023-08-15T16:49:52.704+0000"
        ],
        [
         1053,
         815,
         "2",
         33,
         "15:59:11",
         "26:21.158",
         1581158,
         "2021-04-18",
         "2023-08-15T16:49:52.704+0000"
        ],
        [
         1053,
         832,
         "2",
         33,
         "15:59:14",
         "26:22.211",
         1582211,
         "2021-04-18",
         "2023-08-15T16:49:52.704+0000"
        ],
        [
         1053,
         842,
         "3",
         32,
         "15:59:18",
         "24:13.539",
         1453539,
         "2021-04-18",
         "2023-08-15T16:49:52.704+0000"
        ],
        [
         1053,
         20,
         "4",
         32,
         "15:59:21",
         "24:12.323",
         1452323,
         "2021-04-18",
         "2023-08-15T16:49:52.704+0000"
        ],
        [
         1053,
         817,
         "2",
         33,
         "15:59:25",
         "26:14.827",
         1574827,
         "2021-04-18",
         "2023-08-15T16:49:52.704+0000"
        ],
        [
         1053,
         840,
         "3",
         33,
         "16:24:36",
         "1:05.390",
         65390,
         "2021-04-18",
         "2023-08-15T16:49:52.704+0000"
        ],
        [
         1053,
         8,
         "3",
         33,
         "16:24:42",
         "1:02.892",
         62892,
         "2021-04-18",
         "2023-08-15T16:49:52.704+0000"
        ],
        [
         1053,
         1,
         "4",
         33,
         "16:24:48",
         "1:05.870",
         65870,
         "2021-04-18",
         "2023-08-15T16:49:52.704+0000"
        ],
        [
         1053,
         852,
         "3",
         33,
         "16:24:52",
         "1:03.280",
         63280,
         "2021-04-18",
         "2023-08-15T16:49:52.704+0000"
        ],
        [
         1053,
         841,
         "3",
         33,
         "16:24:58",
         "1:00.172",
         60172,
         "2021-04-18",
         "2023-08-15T16:49:52.704+0000"
        ],
        [
         1053,
         4,
         "3",
         33,
         "16:25:04",
         "57.601",
         57601,
         "2021-04-18",
         "2023-08-15T16:49:52.704+0000"
        ],
        [
         1053,
         839,
         "5",
         33,
         "16:25:06",
         "56.733",
         56733,
         "2021-04-18",
         "2023-08-15T16:49:52.704+0000"
        ],
        [
         1053,
         842,
         "4",
         33,
         "16:25:09",
         "56.083",
         56083,
         "2021-04-18",
         "2023-08-15T16:49:52.704+0000"
        ],
        [
         1053,
         20,
         "5",
         33,
         "16:25:15",
         "52.043",
         52043,
         "2021-04-18",
         "2023-08-15T16:49:52.704+0000"
        ],
        [
         1053,
         854,
         "4",
         32,
         "16:25:16",
         "51.222",
         51222,
         "2021-04-18",
         "2023-08-15T16:49:52.704+0000"
        ],
        [
         1053,
         853,
         "4",
         32,
         "16:25:22",
         "49.729",
         49729,
         "2021-04-18",
         "2023-08-15T16:49:52.704+0000"
        ],
        [
         1053,
         841,
         "4",
         40,
         "16:36:13",
         "29.742",
         29742,
         "2021-04-18",
         "2023-08-15T16:49:52.704+0000"
        ]
       ],
       "datasetInfos": [],
       "dbfsResultPath": null,
       "isJsonSchema": true,
       "metadata": {},
       "overflow": false,
       "plotOptions": {
        "customPlotOptions": {},
        "displayType": "table",
        "pivotAggregation": null,
        "pivotColumns": null,
        "xColumns": null,
        "yColumns": null
       },
       "removedWidgets": [],
       "schema": [
        {
         "metadata": "{}",
         "name": "race_id",
         "type": "\"integer\""
        },
        {
         "metadata": "{}",
         "name": "driver_id",
         "type": "\"integer\""
        },
        {
         "metadata": "{}",
         "name": "stop",
         "type": "\"string\""
        },
        {
         "metadata": "{}",
         "name": "lap",
         "type": "\"integer\""
        },
        {
         "metadata": "{}",
         "name": "time",
         "type": "\"string\""
        },
        {
         "metadata": "{}",
         "name": "duration",
         "type": "\"string\""
        },
        {
         "metadata": "{}",
         "name": "milliseconds",
         "type": "\"integer\""
        },
        {
         "metadata": "{}",
         "name": "file_date",
         "type": "\"string\""
        },
        {
         "metadata": "{}",
         "name": "ingestion_date",
         "type": "\"timestamp\""
        }
       ],
       "type": "table"
      }
     },
     "output_type": "display_data"
    }
   ],
   "source": [
    "# Add Ingested Date Date Using withColumn\n",
    "# pitstops_transformed_df = pitstops_renamed_df \\\n",
    "#     .withColumn('ingestion_date', current_timestamp()) \n",
    "\n",
    "# Add Ingested Date Column w/ Current Timestamp\n",
    "pitstops_transformed_df = add_ingestion_date(pitstops_renamed_df)\n",
    "\n",
    "# Display Data\n",
    "display(pitstops_transformed_df)"
   ]
  },
  {
   "cell_type": "code",
   "execution_count": 0,
   "metadata": {
    "application/vnd.databricks.v1+cell": {
     "cellMetadata": {
      "byteLimit": 2048000,
      "rowLimit": 10000
     },
     "inputWidgets": {},
     "nuid": "01bc6bff-0c2c-4318-9b2d-07d47865de41",
     "showTitle": false,
     "title": ""
    }
   },
   "outputs": [
    {
     "output_type": "display_data",
     "data": {
      "text/html": [
       "<style scoped>\n",
       "  .table-result-container {\n",
       "    max-height: 300px;\n",
       "    overflow: auto;\n",
       "  }\n",
       "  table, th, td {\n",
       "    border: 1px solid black;\n",
       "    border-collapse: collapse;\n",
       "  }\n",
       "  th, td {\n",
       "    padding: 5px;\n",
       "  }\n",
       "  th {\n",
       "    text-align: left;\n",
       "  }\n",
       "</style><div class='table-result-container'><table class='table-result'><thead style='background-color: white'><tr><th>race_id</th><th>driver_id</th><th>stop</th><th>lap</th><th>time</th><th>duration</th><th>milliseconds</th><th>file_date</th><th>ingestion_date</th></tr></thead><tbody><tr><td>1053</td><td>839</td><td>1</td><td>1</td><td>15:05:16</td><td>30.866</td><td>30866</td><td>2021-04-18</td><td>2023-08-15T16:49:52.985+0000</td></tr><tr><td>1053</td><td>20</td><td>1</td><td>3</td><td>15:10:09</td><td>32.024</td><td>32024</td><td>2021-04-18</td><td>2023-08-15T16:49:52.985+0000</td></tr><tr><td>1053</td><td>854</td><td>1</td><td>5</td><td>15:15:11</td><td>51.007</td><td>51007</td><td>2021-04-18</td><td>2023-08-15T16:49:52.985+0000</td></tr><tr><td>1053</td><td>853</td><td>1</td><td>12</td><td>15:27:20</td><td>31.168</td><td>31168</td><td>2021-04-18</td><td>2023-08-15T16:49:52.985+0000</td></tr><tr><td>1053</td><td>842</td><td>1</td><td>14</td><td>15:30:10</td><td>31.068</td><td>31068</td><td>2021-04-18</td><td>2023-08-15T16:49:52.985+0000</td></tr><tr><td>1053</td><td>20</td><td>2</td><td>20</td><td>15:39:11</td><td>31.184</td><td>31184</td><td>2021-04-18</td><td>2023-08-15T16:49:52.985+0000</td></tr><tr><td>1053</td><td>854</td><td>2</td><td>21</td><td>15:41:24</td><td>32.479</td><td>32479</td><td>2021-04-18</td><td>2023-08-15T16:49:52.985+0000</td></tr><tr><td>1053</td><td>20</td><td>3</td><td>22</td><td>15:42:52</td><td>39.502</td><td>39502</td><td>2021-04-18</td><td>2023-08-15T16:49:52.985+0000</td></tr><tr><td>1053</td><td>853</td><td>2</td><td>23</td><td>15:45:20</td><td>31.5</td><td>31500</td><td>2021-04-18</td><td>2023-08-15T16:49:52.985+0000</td></tr><tr><td>1053</td><td>852</td><td>1</td><td>25</td><td>15:46:39</td><td>30.696</td><td>30696</td><td>2021-04-18</td><td>2023-08-15T16:49:52.985+0000</td></tr><tr><td>1053</td><td>847</td><td>1</td><td>26</td><td>15:47:53</td><td>29.983</td><td>29983</td><td>2021-04-18</td><td>2023-08-15T16:49:52.985+0000</td></tr><tr><td>1053</td><td>8</td><td>1</td><td>26</td><td>15:47:55</td><td>30.28</td><td>30280</td><td>2021-04-18</td><td>2023-08-15T16:49:52.985+0000</td></tr><tr><td>1053</td><td>830</td><td>1</td><td>27</td><td>15:47:59</td><td>29.809</td><td>29809</td><td>2021-04-18</td><td>2023-08-15T16:49:52.985+0000</td></tr><tr><td>1053</td><td>842</td><td>2</td><td>26</td><td>15:48:45</td><td>32.277</td><td>32277</td><td>2021-04-18</td><td>2023-08-15T16:49:52.985+0000</td></tr><tr><td>1053</td><td>832</td><td>1</td><td>27</td><td>15:48:51</td><td>30.856</td><td>30856</td><td>2021-04-18</td><td>2023-08-15T16:49:52.985+0000</td></tr><tr><td>1053</td><td>817</td><td>1</td><td>27</td><td>15:48:57</td><td>34.34</td><td>34340</td><td>2021-04-18</td><td>2023-08-15T16:49:52.985+0000</td></tr><tr><td>1053</td><td>840</td><td>1</td><td>27</td><td>15:49:16</td><td>31.138</td><td>31138</td><td>2021-04-18</td><td>2023-08-15T16:49:52.985+0000</td></tr><tr><td>1053</td><td>1</td><td>1</td><td>28</td><td>15:49:27</td><td>32.112</td><td>32112</td><td>2021-04-18</td><td>2023-08-15T16:49:52.985+0000</td></tr><tr><td>1053</td><td>841</td><td>1</td><td>27</td><td>15:49:32</td><td>32.299</td><td>32299</td><td>2021-04-18</td><td>2023-08-15T16:49:52.985+0000</td></tr><tr><td>1053</td><td>839</td><td>2</td><td>27</td><td>15:49:42</td><td>30.652</td><td>30652</td><td>2021-04-18</td><td>2023-08-15T16:49:52.985+0000</td></tr><tr><td>1053</td><td>844</td><td>1</td><td>28</td><td>15:49:43</td><td>31.002</td><td>31002</td><td>2021-04-18</td><td>2023-08-15T16:49:52.985+0000</td></tr><tr><td>1053</td><td>815</td><td>1</td><td>28</td><td>15:49:58</td><td>44.608</td><td>44608</td><td>2021-04-18</td><td>2023-08-15T16:49:52.985+0000</td></tr><tr><td>1053</td><td>846</td><td>1</td><td>28</td><td>15:50:11</td><td>30.654</td><td>30654</td><td>2021-04-18</td><td>2023-08-15T16:49:52.985+0000</td></tr><tr><td>1053</td><td>822</td><td>1</td><td>28</td><td>15:50:46</td><td>30.167</td><td>30167</td><td>2021-04-18</td><td>2023-08-15T16:49:52.985+0000</td></tr><tr><td>1053</td><td>4</td><td>1</td><td>28</td><td>15:51:18</td><td>30.864</td><td>30864</td><td>2021-04-18</td><td>2023-08-15T16:49:52.985+0000</td></tr><tr><td>1053</td><td>1</td><td>2</td><td>31</td><td>15:55:30</td><td>38.198</td><td>38198</td><td>2021-04-18</td><td>2023-08-15T16:49:52.985+0000</td></tr><tr><td>1053</td><td>839</td><td>3</td><td>31</td><td>15:56:23</td><td>30.701</td><td>30701</td><td>2021-04-18</td><td>2023-08-15T16:49:52.985+0000</td></tr><tr><td>1053</td><td>830</td><td>2</td><td>33</td><td>15:58:11</td><td>27:01.361</td><td>1621361</td><td>2021-04-18</td><td>2023-08-15T16:49:52.985+0000</td></tr><tr><td>1053</td><td>840</td><td>2</td><td>32</td><td>15:58:13</td><td>24:52.090</td><td>1492090</td><td>2021-04-18</td><td>2023-08-15T16:49:52.985+0000</td></tr><tr><td>1053</td><td>8</td><td>2</td><td>32</td><td>15:58:16</td><td>24:52.612</td><td>1492612</td><td>2021-04-18</td><td>2023-08-15T16:49:52.985+0000</td></tr><tr><td>1053</td><td>1</td><td>3</td><td>32</td><td>15:58:17</td><td>24:54.731</td><td>1494731</td><td>2021-04-18</td><td>2023-08-15T16:49:52.985+0000</td></tr><tr><td>1053</td><td>854</td><td>3</td><td>31</td><td>15:58:20</td><td>25:21.462</td><td>1521462</td><td>2021-04-18</td><td>2023-08-15T16:49:52.985+0000</td></tr><tr><td>1053</td><td>852</td><td>2</td><td>32</td><td>15:58:24</td><td>24:51.384</td><td>1491384</td><td>2021-04-18</td><td>2023-08-15T16:49:52.985+0000</td></tr><tr><td>1053</td><td>841</td><td>2</td><td>32</td><td>15:58:26</td><td>24:56.541</td><td>1496541</td><td>2021-04-18</td><td>2023-08-15T16:49:52.985+0000</td></tr><tr><td>1053</td><td>844</td><td>2</td><td>33</td><td>15:58:28</td><td>26:49.484</td><td>1609484</td><td>2021-04-18</td><td>2023-08-15T16:49:52.985+0000</td></tr><tr><td>1053</td><td>4</td><td>2</td><td>32</td><td>15:58:37</td><td>24:48.372</td><td>1488372</td><td>2021-04-18</td><td>2023-08-15T16:49:52.985+0000</td></tr><tr><td>1053</td><td>839</td><td>4</td><td>32</td><td>15:58:48</td><td>24:38.974</td><td>1478974</td><td>2021-04-18</td><td>2023-08-15T16:49:52.985+0000</td></tr><tr><td>1053</td><td>853</td><td>3</td><td>31</td><td>15:58:57</td><td>24:46.154</td><td>1486154</td><td>2021-04-18</td><td>2023-08-15T16:49:52.985+0000</td></tr><tr><td>1053</td><td>846</td><td>2</td><td>33</td><td>15:59:06</td><td>26:24.953</td><td>1584953</td><td>2021-04-18</td><td>2023-08-15T16:49:52.985+0000</td></tr><tr><td>1053</td><td>815</td><td>2</td><td>33</td><td>15:59:11</td><td>26:21.158</td><td>1581158</td><td>2021-04-18</td><td>2023-08-15T16:49:52.985+0000</td></tr><tr><td>1053</td><td>832</td><td>2</td><td>33</td><td>15:59:14</td><td>26:22.211</td><td>1582211</td><td>2021-04-18</td><td>2023-08-15T16:49:52.985+0000</td></tr><tr><td>1053</td><td>842</td><td>3</td><td>32</td><td>15:59:18</td><td>24:13.539</td><td>1453539</td><td>2021-04-18</td><td>2023-08-15T16:49:52.985+0000</td></tr><tr><td>1053</td><td>20</td><td>4</td><td>32</td><td>15:59:21</td><td>24:12.323</td><td>1452323</td><td>2021-04-18</td><td>2023-08-15T16:49:52.985+0000</td></tr><tr><td>1053</td><td>817</td><td>2</td><td>33</td><td>15:59:25</td><td>26:14.827</td><td>1574827</td><td>2021-04-18</td><td>2023-08-15T16:49:52.985+0000</td></tr><tr><td>1053</td><td>840</td><td>3</td><td>33</td><td>16:24:36</td><td>1:05.390</td><td>65390</td><td>2021-04-18</td><td>2023-08-15T16:49:52.985+0000</td></tr><tr><td>1053</td><td>8</td><td>3</td><td>33</td><td>16:24:42</td><td>1:02.892</td><td>62892</td><td>2021-04-18</td><td>2023-08-15T16:49:52.985+0000</td></tr><tr><td>1053</td><td>1</td><td>4</td><td>33</td><td>16:24:48</td><td>1:05.870</td><td>65870</td><td>2021-04-18</td><td>2023-08-15T16:49:52.985+0000</td></tr><tr><td>1053</td><td>852</td><td>3</td><td>33</td><td>16:24:52</td><td>1:03.280</td><td>63280</td><td>2021-04-18</td><td>2023-08-15T16:49:52.985+0000</td></tr><tr><td>1053</td><td>841</td><td>3</td><td>33</td><td>16:24:58</td><td>1:00.172</td><td>60172</td><td>2021-04-18</td><td>2023-08-15T16:49:52.985+0000</td></tr><tr><td>1053</td><td>4</td><td>3</td><td>33</td><td>16:25:04</td><td>57.601</td><td>57601</td><td>2021-04-18</td><td>2023-08-15T16:49:52.985+0000</td></tr><tr><td>1053</td><td>839</td><td>5</td><td>33</td><td>16:25:06</td><td>56.733</td><td>56733</td><td>2021-04-18</td><td>2023-08-15T16:49:52.985+0000</td></tr><tr><td>1053</td><td>842</td><td>4</td><td>33</td><td>16:25:09</td><td>56.083</td><td>56083</td><td>2021-04-18</td><td>2023-08-15T16:49:52.985+0000</td></tr><tr><td>1053</td><td>20</td><td>5</td><td>33</td><td>16:25:15</td><td>52.043</td><td>52043</td><td>2021-04-18</td><td>2023-08-15T16:49:52.985+0000</td></tr><tr><td>1053</td><td>854</td><td>4</td><td>32</td><td>16:25:16</td><td>51.222</td><td>51222</td><td>2021-04-18</td><td>2023-08-15T16:49:52.985+0000</td></tr><tr><td>1053</td><td>853</td><td>4</td><td>32</td><td>16:25:22</td><td>49.729</td><td>49729</td><td>2021-04-18</td><td>2023-08-15T16:49:52.985+0000</td></tr><tr><td>1053</td><td>841</td><td>4</td><td>40</td><td>16:36:13</td><td>29.742</td><td>29742</td><td>2021-04-18</td><td>2023-08-15T16:49:52.985+0000</td></tr></tbody></table></div>"
      ]
     },
     "metadata": {
      "application/vnd.databricks.v1+output": {
       "addedWidgets": {},
       "aggData": [],
       "aggError": "",
       "aggOverflow": false,
       "aggSchema": [],
       "aggSeriesLimitReached": false,
       "aggType": "",
       "arguments": {},
       "columnCustomDisplayInfos": {},
       "data": [
        [
         1053,
         839,
         "1",
         1,
         "15:05:16",
         "30.866",
         30866,
         "2021-04-18",
         "2023-08-15T16:49:52.985+0000"
        ],
        [
         1053,
         20,
         "1",
         3,
         "15:10:09",
         "32.024",
         32024,
         "2021-04-18",
         "2023-08-15T16:49:52.985+0000"
        ],
        [
         1053,
         854,
         "1",
         5,
         "15:15:11",
         "51.007",
         51007,
         "2021-04-18",
         "2023-08-15T16:49:52.985+0000"
        ],
        [
         1053,
         853,
         "1",
         12,
         "15:27:20",
         "31.168",
         31168,
         "2021-04-18",
         "2023-08-15T16:49:52.985+0000"
        ],
        [
         1053,
         842,
         "1",
         14,
         "15:30:10",
         "31.068",
         31068,
         "2021-04-18",
         "2023-08-15T16:49:52.985+0000"
        ],
        [
         1053,
         20,
         "2",
         20,
         "15:39:11",
         "31.184",
         31184,
         "2021-04-18",
         "2023-08-15T16:49:52.985+0000"
        ],
        [
         1053,
         854,
         "2",
         21,
         "15:41:24",
         "32.479",
         32479,
         "2021-04-18",
         "2023-08-15T16:49:52.985+0000"
        ],
        [
         1053,
         20,
         "3",
         22,
         "15:42:52",
         "39.502",
         39502,
         "2021-04-18",
         "2023-08-15T16:49:52.985+0000"
        ],
        [
         1053,
         853,
         "2",
         23,
         "15:45:20",
         "31.5",
         31500,
         "2021-04-18",
         "2023-08-15T16:49:52.985+0000"
        ],
        [
         1053,
         852,
         "1",
         25,
         "15:46:39",
         "30.696",
         30696,
         "2021-04-18",
         "2023-08-15T16:49:52.985+0000"
        ],
        [
         1053,
         847,
         "1",
         26,
         "15:47:53",
         "29.983",
         29983,
         "2021-04-18",
         "2023-08-15T16:49:52.985+0000"
        ],
        [
         1053,
         8,
         "1",
         26,
         "15:47:55",
         "30.28",
         30280,
         "2021-04-18",
         "2023-08-15T16:49:52.985+0000"
        ],
        [
         1053,
         830,
         "1",
         27,
         "15:47:59",
         "29.809",
         29809,
         "2021-04-18",
         "2023-08-15T16:49:52.985+0000"
        ],
        [
         1053,
         842,
         "2",
         26,
         "15:48:45",
         "32.277",
         32277,
         "2021-04-18",
         "2023-08-15T16:49:52.985+0000"
        ],
        [
         1053,
         832,
         "1",
         27,
         "15:48:51",
         "30.856",
         30856,
         "2021-04-18",
         "2023-08-15T16:49:52.985+0000"
        ],
        [
         1053,
         817,
         "1",
         27,
         "15:48:57",
         "34.34",
         34340,
         "2021-04-18",
         "2023-08-15T16:49:52.985+0000"
        ],
        [
         1053,
         840,
         "1",
         27,
         "15:49:16",
         "31.138",
         31138,
         "2021-04-18",
         "2023-08-15T16:49:52.985+0000"
        ],
        [
         1053,
         1,
         "1",
         28,
         "15:49:27",
         "32.112",
         32112,
         "2021-04-18",
         "2023-08-15T16:49:52.985+0000"
        ],
        [
         1053,
         841,
         "1",
         27,
         "15:49:32",
         "32.299",
         32299,
         "2021-04-18",
         "2023-08-15T16:49:52.985+0000"
        ],
        [
         1053,
         839,
         "2",
         27,
         "15:49:42",
         "30.652",
         30652,
         "2021-04-18",
         "2023-08-15T16:49:52.985+0000"
        ],
        [
         1053,
         844,
         "1",
         28,
         "15:49:43",
         "31.002",
         31002,
         "2021-04-18",
         "2023-08-15T16:49:52.985+0000"
        ],
        [
         1053,
         815,
         "1",
         28,
         "15:49:58",
         "44.608",
         44608,
         "2021-04-18",
         "2023-08-15T16:49:52.985+0000"
        ],
        [
         1053,
         846,
         "1",
         28,
         "15:50:11",
         "30.654",
         30654,
         "2021-04-18",
         "2023-08-15T16:49:52.985+0000"
        ],
        [
         1053,
         822,
         "1",
         28,
         "15:50:46",
         "30.167",
         30167,
         "2021-04-18",
         "2023-08-15T16:49:52.985+0000"
        ],
        [
         1053,
         4,
         "1",
         28,
         "15:51:18",
         "30.864",
         30864,
         "2021-04-18",
         "2023-08-15T16:49:52.985+0000"
        ],
        [
         1053,
         1,
         "2",
         31,
         "15:55:30",
         "38.198",
         38198,
         "2021-04-18",
         "2023-08-15T16:49:52.985+0000"
        ],
        [
         1053,
         839,
         "3",
         31,
         "15:56:23",
         "30.701",
         30701,
         "2021-04-18",
         "2023-08-15T16:49:52.985+0000"
        ],
        [
         1053,
         830,
         "2",
         33,
         "15:58:11",
         "27:01.361",
         1621361,
         "2021-04-18",
         "2023-08-15T16:49:52.985+0000"
        ],
        [
         1053,
         840,
         "2",
         32,
         "15:58:13",
         "24:52.090",
         1492090,
         "2021-04-18",
         "2023-08-15T16:49:52.985+0000"
        ],
        [
         1053,
         8,
         "2",
         32,
         "15:58:16",
         "24:52.612",
         1492612,
         "2021-04-18",
         "2023-08-15T16:49:52.985+0000"
        ],
        [
         1053,
         1,
         "3",
         32,
         "15:58:17",
         "24:54.731",
         1494731,
         "2021-04-18",
         "2023-08-15T16:49:52.985+0000"
        ],
        [
         1053,
         854,
         "3",
         31,
         "15:58:20",
         "25:21.462",
         1521462,
         "2021-04-18",
         "2023-08-15T16:49:52.985+0000"
        ],
        [
         1053,
         852,
         "2",
         32,
         "15:58:24",
         "24:51.384",
         1491384,
         "2021-04-18",
         "2023-08-15T16:49:52.985+0000"
        ],
        [
         1053,
         841,
         "2",
         32,
         "15:58:26",
         "24:56.541",
         1496541,
         "2021-04-18",
         "2023-08-15T16:49:52.985+0000"
        ],
        [
         1053,
         844,
         "2",
         33,
         "15:58:28",
         "26:49.484",
         1609484,
         "2021-04-18",
         "2023-08-15T16:49:52.985+0000"
        ],
        [
         1053,
         4,
         "2",
         32,
         "15:58:37",
         "24:48.372",
         1488372,
         "2021-04-18",
         "2023-08-15T16:49:52.985+0000"
        ],
        [
         1053,
         839,
         "4",
         32,
         "15:58:48",
         "24:38.974",
         1478974,
         "2021-04-18",
         "2023-08-15T16:49:52.985+0000"
        ],
        [
         1053,
         853,
         "3",
         31,
         "15:58:57",
         "24:46.154",
         1486154,
         "2021-04-18",
         "2023-08-15T16:49:52.985+0000"
        ],
        [
         1053,
         846,
         "2",
         33,
         "15:59:06",
         "26:24.953",
         1584953,
         "2021-04-18",
         "2023-08-15T16:49:52.985+0000"
        ],
        [
         1053,
         815,
         "2",
         33,
         "15:59:11",
         "26:21.158",
         1581158,
         "2021-04-18",
         "2023-08-15T16:49:52.985+0000"
        ],
        [
         1053,
         832,
         "2",
         33,
         "15:59:14",
         "26:22.211",
         1582211,
         "2021-04-18",
         "2023-08-15T16:49:52.985+0000"
        ],
        [
         1053,
         842,
         "3",
         32,
         "15:59:18",
         "24:13.539",
         1453539,
         "2021-04-18",
         "2023-08-15T16:49:52.985+0000"
        ],
        [
         1053,
         20,
         "4",
         32,
         "15:59:21",
         "24:12.323",
         1452323,
         "2021-04-18",
         "2023-08-15T16:49:52.985+0000"
        ],
        [
         1053,
         817,
         "2",
         33,
         "15:59:25",
         "26:14.827",
         1574827,
         "2021-04-18",
         "2023-08-15T16:49:52.985+0000"
        ],
        [
         1053,
         840,
         "3",
         33,
         "16:24:36",
         "1:05.390",
         65390,
         "2021-04-18",
         "2023-08-15T16:49:52.985+0000"
        ],
        [
         1053,
         8,
         "3",
         33,
         "16:24:42",
         "1:02.892",
         62892,
         "2021-04-18",
         "2023-08-15T16:49:52.985+0000"
        ],
        [
         1053,
         1,
         "4",
         33,
         "16:24:48",
         "1:05.870",
         65870,
         "2021-04-18",
         "2023-08-15T16:49:52.985+0000"
        ],
        [
         1053,
         852,
         "3",
         33,
         "16:24:52",
         "1:03.280",
         63280,
         "2021-04-18",
         "2023-08-15T16:49:52.985+0000"
        ],
        [
         1053,
         841,
         "3",
         33,
         "16:24:58",
         "1:00.172",
         60172,
         "2021-04-18",
         "2023-08-15T16:49:52.985+0000"
        ],
        [
         1053,
         4,
         "3",
         33,
         "16:25:04",
         "57.601",
         57601,
         "2021-04-18",
         "2023-08-15T16:49:52.985+0000"
        ],
        [
         1053,
         839,
         "5",
         33,
         "16:25:06",
         "56.733",
         56733,
         "2021-04-18",
         "2023-08-15T16:49:52.985+0000"
        ],
        [
         1053,
         842,
         "4",
         33,
         "16:25:09",
         "56.083",
         56083,
         "2021-04-18",
         "2023-08-15T16:49:52.985+0000"
        ],
        [
         1053,
         20,
         "5",
         33,
         "16:25:15",
         "52.043",
         52043,
         "2021-04-18",
         "2023-08-15T16:49:52.985+0000"
        ],
        [
         1053,
         854,
         "4",
         32,
         "16:25:16",
         "51.222",
         51222,
         "2021-04-18",
         "2023-08-15T16:49:52.985+0000"
        ],
        [
         1053,
         853,
         "4",
         32,
         "16:25:22",
         "49.729",
         49729,
         "2021-04-18",
         "2023-08-15T16:49:52.985+0000"
        ],
        [
         1053,
         841,
         "4",
         40,
         "16:36:13",
         "29.742",
         29742,
         "2021-04-18",
         "2023-08-15T16:49:52.985+0000"
        ]
       ],
       "datasetInfos": [],
       "dbfsResultPath": null,
       "isJsonSchema": true,
       "metadata": {},
       "overflow": false,
       "plotOptions": {
        "customPlotOptions": {},
        "displayType": "table",
        "pivotAggregation": null,
        "pivotColumns": null,
        "xColumns": null,
        "yColumns": null
       },
       "removedWidgets": [],
       "schema": [
        {
         "metadata": "{}",
         "name": "race_id",
         "type": "\"integer\""
        },
        {
         "metadata": "{}",
         "name": "driver_id",
         "type": "\"integer\""
        },
        {
         "metadata": "{}",
         "name": "stop",
         "type": "\"string\""
        },
        {
         "metadata": "{}",
         "name": "lap",
         "type": "\"integer\""
        },
        {
         "metadata": "{}",
         "name": "time",
         "type": "\"string\""
        },
        {
         "metadata": "{}",
         "name": "duration",
         "type": "\"string\""
        },
        {
         "metadata": "{}",
         "name": "milliseconds",
         "type": "\"integer\""
        },
        {
         "metadata": "{}",
         "name": "file_date",
         "type": "\"string\""
        },
        {
         "metadata": "{}",
         "name": "ingestion_date",
         "type": "\"timestamp\""
        }
       ],
       "type": "table"
      }
     },
     "output_type": "display_data"
    }
   ],
   "source": [
    "# Drop Column\n",
    "pitstops_final_df = pitstops_transformed_df.drop('url')\n",
    "\n",
    "# Display Data\n",
    "display(pitstops_final_df)"
   ]
  },
  {
   "cell_type": "markdown",
   "metadata": {
    "application/vnd.databricks.v1+cell": {
     "cellMetadata": {
      "byteLimit": 2048000,
      "rowLimit": 10000
     },
     "inputWidgets": {},
     "nuid": "8f8ce8c1-d179-4610-a58c-86282aacf6a0",
     "showTitle": false,
     "title": ""
    }
   },
   "source": [
    "### Write Data"
   ]
  },
  {
   "cell_type": "code",
   "execution_count": 0,
   "metadata": {
    "application/vnd.databricks.v1+cell": {
     "cellMetadata": {
      "byteLimit": 2048000,
      "rowLimit": 10000
     },
     "inputWidgets": {},
     "nuid": "c2c4b415-dd87-4a66-ab2a-0a64d7ac0d17",
     "showTitle": false,
     "title": ""
    }
   },
   "outputs": [],
   "source": [
    "# Write DataFrame to FileSystem in Parquet Format\n",
    "# Partition on Race ID\n",
    "pitstops_final_df.write \\\n",
    "    .mode('overwrite') \\\n",
    "    .parquet(f'{processed_inc_folder_path}/pitstops')"
   ]
  },
  {
   "cell_type": "code",
   "execution_count": 0,
   "metadata": {
    "application/vnd.databricks.v1+cell": {
     "cellMetadata": {
      "byteLimit": 2048000,
      "rowLimit": 10000
     },
     "inputWidgets": {},
     "nuid": "c651a447-397f-4c06-a199-c331ab417590",
     "showTitle": false,
     "title": ""
    }
   },
   "outputs": [],
   "source": [
    "# INCREMENTAL LOAD METHOD 2 W/ FUNCTIONS\n",
    "# Re-Arrange DF (input_df, partition_column)\n",
    "output_df = re_arrange_partition_column(pitstops_final_df, 'race_id')\n",
    "\n",
    "# Overwrite Partitions (input_df, db_name, table_name, partition_column)\n",
    "overwrite_partition(pitstops_final_df, 'formula1_processed_inc', 'pitstops_inc', 'race_id')"
   ]
  },
  {
   "cell_type": "code",
   "execution_count": 0,
   "metadata": {
    "application/vnd.databricks.v1+cell": {
     "cellMetadata": {
      "byteLimit": 2048000,
      "rowLimit": 10000
     },
     "inputWidgets": {},
     "nuid": "22689b0a-bdf1-4e05-80e4-dd7ed2c082a8",
     "showTitle": false,
     "title": ""
    }
   },
   "outputs": [
    {
     "output_type": "display_data",
     "data": {
      "text/html": [
       "<style scoped>\n",
       "  .table-result-container {\n",
       "    max-height: 300px;\n",
       "    overflow: auto;\n",
       "  }\n",
       "  table, th, td {\n",
       "    border: 1px solid black;\n",
       "    border-collapse: collapse;\n",
       "  }\n",
       "  th, td {\n",
       "    padding: 5px;\n",
       "  }\n",
       "  th {\n",
       "    text-align: left;\n",
       "  }\n",
       "</style><div class='table-result-container'><table class='table-result'><thead style='background-color: white'><tr><th>race_id</th><th>driver_id</th><th>stop</th><th>lap</th><th>time</th><th>duration</th><th>milliseconds</th><th>file_date</th><th>ingestion_date</th></tr></thead><tbody><tr><td>1053</td><td>839</td><td>1</td><td>1</td><td>15:05:16</td><td>30.866</td><td>30866</td><td>2021-04-18</td><td>2023-08-15T16:49:53.218+0000</td></tr><tr><td>1053</td><td>20</td><td>1</td><td>3</td><td>15:10:09</td><td>32.024</td><td>32024</td><td>2021-04-18</td><td>2023-08-15T16:49:53.218+0000</td></tr><tr><td>1053</td><td>854</td><td>1</td><td>5</td><td>15:15:11</td><td>51.007</td><td>51007</td><td>2021-04-18</td><td>2023-08-15T16:49:53.218+0000</td></tr><tr><td>1053</td><td>853</td><td>1</td><td>12</td><td>15:27:20</td><td>31.168</td><td>31168</td><td>2021-04-18</td><td>2023-08-15T16:49:53.218+0000</td></tr><tr><td>1053</td><td>842</td><td>1</td><td>14</td><td>15:30:10</td><td>31.068</td><td>31068</td><td>2021-04-18</td><td>2023-08-15T16:49:53.218+0000</td></tr><tr><td>1053</td><td>20</td><td>2</td><td>20</td><td>15:39:11</td><td>31.184</td><td>31184</td><td>2021-04-18</td><td>2023-08-15T16:49:53.218+0000</td></tr><tr><td>1053</td><td>854</td><td>2</td><td>21</td><td>15:41:24</td><td>32.479</td><td>32479</td><td>2021-04-18</td><td>2023-08-15T16:49:53.218+0000</td></tr><tr><td>1053</td><td>20</td><td>3</td><td>22</td><td>15:42:52</td><td>39.502</td><td>39502</td><td>2021-04-18</td><td>2023-08-15T16:49:53.218+0000</td></tr><tr><td>1053</td><td>853</td><td>2</td><td>23</td><td>15:45:20</td><td>31.5</td><td>31500</td><td>2021-04-18</td><td>2023-08-15T16:49:53.218+0000</td></tr><tr><td>1053</td><td>852</td><td>1</td><td>25</td><td>15:46:39</td><td>30.696</td><td>30696</td><td>2021-04-18</td><td>2023-08-15T16:49:53.218+0000</td></tr><tr><td>1053</td><td>847</td><td>1</td><td>26</td><td>15:47:53</td><td>29.983</td><td>29983</td><td>2021-04-18</td><td>2023-08-15T16:49:53.218+0000</td></tr><tr><td>1053</td><td>8</td><td>1</td><td>26</td><td>15:47:55</td><td>30.28</td><td>30280</td><td>2021-04-18</td><td>2023-08-15T16:49:53.218+0000</td></tr><tr><td>1053</td><td>830</td><td>1</td><td>27</td><td>15:47:59</td><td>29.809</td><td>29809</td><td>2021-04-18</td><td>2023-08-15T16:49:53.218+0000</td></tr><tr><td>1053</td><td>842</td><td>2</td><td>26</td><td>15:48:45</td><td>32.277</td><td>32277</td><td>2021-04-18</td><td>2023-08-15T16:49:53.218+0000</td></tr><tr><td>1053</td><td>832</td><td>1</td><td>27</td><td>15:48:51</td><td>30.856</td><td>30856</td><td>2021-04-18</td><td>2023-08-15T16:49:53.218+0000</td></tr><tr><td>1053</td><td>817</td><td>1</td><td>27</td><td>15:48:57</td><td>34.34</td><td>34340</td><td>2021-04-18</td><td>2023-08-15T16:49:53.218+0000</td></tr><tr><td>1053</td><td>840</td><td>1</td><td>27</td><td>15:49:16</td><td>31.138</td><td>31138</td><td>2021-04-18</td><td>2023-08-15T16:49:53.218+0000</td></tr><tr><td>1053</td><td>1</td><td>1</td><td>28</td><td>15:49:27</td><td>32.112</td><td>32112</td><td>2021-04-18</td><td>2023-08-15T16:49:53.218+0000</td></tr><tr><td>1053</td><td>841</td><td>1</td><td>27</td><td>15:49:32</td><td>32.299</td><td>32299</td><td>2021-04-18</td><td>2023-08-15T16:49:53.218+0000</td></tr><tr><td>1053</td><td>839</td><td>2</td><td>27</td><td>15:49:42</td><td>30.652</td><td>30652</td><td>2021-04-18</td><td>2023-08-15T16:49:53.218+0000</td></tr><tr><td>1053</td><td>844</td><td>1</td><td>28</td><td>15:49:43</td><td>31.002</td><td>31002</td><td>2021-04-18</td><td>2023-08-15T16:49:53.218+0000</td></tr><tr><td>1053</td><td>815</td><td>1</td><td>28</td><td>15:49:58</td><td>44.608</td><td>44608</td><td>2021-04-18</td><td>2023-08-15T16:49:53.218+0000</td></tr><tr><td>1053</td><td>846</td><td>1</td><td>28</td><td>15:50:11</td><td>30.654</td><td>30654</td><td>2021-04-18</td><td>2023-08-15T16:49:53.218+0000</td></tr><tr><td>1053</td><td>822</td><td>1</td><td>28</td><td>15:50:46</td><td>30.167</td><td>30167</td><td>2021-04-18</td><td>2023-08-15T16:49:53.218+0000</td></tr><tr><td>1053</td><td>4</td><td>1</td><td>28</td><td>15:51:18</td><td>30.864</td><td>30864</td><td>2021-04-18</td><td>2023-08-15T16:49:53.218+0000</td></tr><tr><td>1053</td><td>1</td><td>2</td><td>31</td><td>15:55:30</td><td>38.198</td><td>38198</td><td>2021-04-18</td><td>2023-08-15T16:49:53.218+0000</td></tr><tr><td>1053</td><td>839</td><td>3</td><td>31</td><td>15:56:23</td><td>30.701</td><td>30701</td><td>2021-04-18</td><td>2023-08-15T16:49:53.218+0000</td></tr><tr><td>1053</td><td>830</td><td>2</td><td>33</td><td>15:58:11</td><td>27:01.361</td><td>1621361</td><td>2021-04-18</td><td>2023-08-15T16:49:53.218+0000</td></tr><tr><td>1053</td><td>840</td><td>2</td><td>32</td><td>15:58:13</td><td>24:52.090</td><td>1492090</td><td>2021-04-18</td><td>2023-08-15T16:49:53.218+0000</td></tr><tr><td>1053</td><td>8</td><td>2</td><td>32</td><td>15:58:16</td><td>24:52.612</td><td>1492612</td><td>2021-04-18</td><td>2023-08-15T16:49:53.218+0000</td></tr><tr><td>1053</td><td>1</td><td>3</td><td>32</td><td>15:58:17</td><td>24:54.731</td><td>1494731</td><td>2021-04-18</td><td>2023-08-15T16:49:53.218+0000</td></tr><tr><td>1053</td><td>854</td><td>3</td><td>31</td><td>15:58:20</td><td>25:21.462</td><td>1521462</td><td>2021-04-18</td><td>2023-08-15T16:49:53.218+0000</td></tr><tr><td>1053</td><td>852</td><td>2</td><td>32</td><td>15:58:24</td><td>24:51.384</td><td>1491384</td><td>2021-04-18</td><td>2023-08-15T16:49:53.218+0000</td></tr><tr><td>1053</td><td>841</td><td>2</td><td>32</td><td>15:58:26</td><td>24:56.541</td><td>1496541</td><td>2021-04-18</td><td>2023-08-15T16:49:53.218+0000</td></tr><tr><td>1053</td><td>844</td><td>2</td><td>33</td><td>15:58:28</td><td>26:49.484</td><td>1609484</td><td>2021-04-18</td><td>2023-08-15T16:49:53.218+0000</td></tr><tr><td>1053</td><td>4</td><td>2</td><td>32</td><td>15:58:37</td><td>24:48.372</td><td>1488372</td><td>2021-04-18</td><td>2023-08-15T16:49:53.218+0000</td></tr><tr><td>1053</td><td>839</td><td>4</td><td>32</td><td>15:58:48</td><td>24:38.974</td><td>1478974</td><td>2021-04-18</td><td>2023-08-15T16:49:53.218+0000</td></tr><tr><td>1053</td><td>853</td><td>3</td><td>31</td><td>15:58:57</td><td>24:46.154</td><td>1486154</td><td>2021-04-18</td><td>2023-08-15T16:49:53.218+0000</td></tr><tr><td>1053</td><td>846</td><td>2</td><td>33</td><td>15:59:06</td><td>26:24.953</td><td>1584953</td><td>2021-04-18</td><td>2023-08-15T16:49:53.218+0000</td></tr><tr><td>1053</td><td>815</td><td>2</td><td>33</td><td>15:59:11</td><td>26:21.158</td><td>1581158</td><td>2021-04-18</td><td>2023-08-15T16:49:53.218+0000</td></tr><tr><td>1053</td><td>832</td><td>2</td><td>33</td><td>15:59:14</td><td>26:22.211</td><td>1582211</td><td>2021-04-18</td><td>2023-08-15T16:49:53.218+0000</td></tr><tr><td>1053</td><td>842</td><td>3</td><td>32</td><td>15:59:18</td><td>24:13.539</td><td>1453539</td><td>2021-04-18</td><td>2023-08-15T16:49:53.218+0000</td></tr><tr><td>1053</td><td>20</td><td>4</td><td>32</td><td>15:59:21</td><td>24:12.323</td><td>1452323</td><td>2021-04-18</td><td>2023-08-15T16:49:53.218+0000</td></tr><tr><td>1053</td><td>817</td><td>2</td><td>33</td><td>15:59:25</td><td>26:14.827</td><td>1574827</td><td>2021-04-18</td><td>2023-08-15T16:49:53.218+0000</td></tr><tr><td>1053</td><td>840</td><td>3</td><td>33</td><td>16:24:36</td><td>1:05.390</td><td>65390</td><td>2021-04-18</td><td>2023-08-15T16:49:53.218+0000</td></tr><tr><td>1053</td><td>8</td><td>3</td><td>33</td><td>16:24:42</td><td>1:02.892</td><td>62892</td><td>2021-04-18</td><td>2023-08-15T16:49:53.218+0000</td></tr><tr><td>1053</td><td>1</td><td>4</td><td>33</td><td>16:24:48</td><td>1:05.870</td><td>65870</td><td>2021-04-18</td><td>2023-08-15T16:49:53.218+0000</td></tr><tr><td>1053</td><td>852</td><td>3</td><td>33</td><td>16:24:52</td><td>1:03.280</td><td>63280</td><td>2021-04-18</td><td>2023-08-15T16:49:53.218+0000</td></tr><tr><td>1053</td><td>841</td><td>3</td><td>33</td><td>16:24:58</td><td>1:00.172</td><td>60172</td><td>2021-04-18</td><td>2023-08-15T16:49:53.218+0000</td></tr><tr><td>1053</td><td>4</td><td>3</td><td>33</td><td>16:25:04</td><td>57.601</td><td>57601</td><td>2021-04-18</td><td>2023-08-15T16:49:53.218+0000</td></tr><tr><td>1053</td><td>839</td><td>5</td><td>33</td><td>16:25:06</td><td>56.733</td><td>56733</td><td>2021-04-18</td><td>2023-08-15T16:49:53.218+0000</td></tr><tr><td>1053</td><td>842</td><td>4</td><td>33</td><td>16:25:09</td><td>56.083</td><td>56083</td><td>2021-04-18</td><td>2023-08-15T16:49:53.218+0000</td></tr><tr><td>1053</td><td>20</td><td>5</td><td>33</td><td>16:25:15</td><td>52.043</td><td>52043</td><td>2021-04-18</td><td>2023-08-15T16:49:53.218+0000</td></tr><tr><td>1053</td><td>854</td><td>4</td><td>32</td><td>16:25:16</td><td>51.222</td><td>51222</td><td>2021-04-18</td><td>2023-08-15T16:49:53.218+0000</td></tr><tr><td>1053</td><td>853</td><td>4</td><td>32</td><td>16:25:22</td><td>49.729</td><td>49729</td><td>2021-04-18</td><td>2023-08-15T16:49:53.218+0000</td></tr><tr><td>1053</td><td>841</td><td>4</td><td>40</td><td>16:36:13</td><td>29.742</td><td>29742</td><td>2021-04-18</td><td>2023-08-15T16:49:53.218+0000</td></tr></tbody></table></div>"
      ]
     },
     "metadata": {
      "application/vnd.databricks.v1+output": {
       "addedWidgets": {},
       "aggData": [],
       "aggError": "",
       "aggOverflow": false,
       "aggSchema": [],
       "aggSeriesLimitReached": false,
       "aggType": "",
       "arguments": {},
       "columnCustomDisplayInfos": {},
       "data": [
        [
         1053,
         839,
         "1",
         1,
         "15:05:16",
         "30.866",
         30866,
         "2021-04-18",
         "2023-08-15T16:49:53.218+0000"
        ],
        [
         1053,
         20,
         "1",
         3,
         "15:10:09",
         "32.024",
         32024,
         "2021-04-18",
         "2023-08-15T16:49:53.218+0000"
        ],
        [
         1053,
         854,
         "1",
         5,
         "15:15:11",
         "51.007",
         51007,
         "2021-04-18",
         "2023-08-15T16:49:53.218+0000"
        ],
        [
         1053,
         853,
         "1",
         12,
         "15:27:20",
         "31.168",
         31168,
         "2021-04-18",
         "2023-08-15T16:49:53.218+0000"
        ],
        [
         1053,
         842,
         "1",
         14,
         "15:30:10",
         "31.068",
         31068,
         "2021-04-18",
         "2023-08-15T16:49:53.218+0000"
        ],
        [
         1053,
         20,
         "2",
         20,
         "15:39:11",
         "31.184",
         31184,
         "2021-04-18",
         "2023-08-15T16:49:53.218+0000"
        ],
        [
         1053,
         854,
         "2",
         21,
         "15:41:24",
         "32.479",
         32479,
         "2021-04-18",
         "2023-08-15T16:49:53.218+0000"
        ],
        [
         1053,
         20,
         "3",
         22,
         "15:42:52",
         "39.502",
         39502,
         "2021-04-18",
         "2023-08-15T16:49:53.218+0000"
        ],
        [
         1053,
         853,
         "2",
         23,
         "15:45:20",
         "31.5",
         31500,
         "2021-04-18",
         "2023-08-15T16:49:53.218+0000"
        ],
        [
         1053,
         852,
         "1",
         25,
         "15:46:39",
         "30.696",
         30696,
         "2021-04-18",
         "2023-08-15T16:49:53.218+0000"
        ],
        [
         1053,
         847,
         "1",
         26,
         "15:47:53",
         "29.983",
         29983,
         "2021-04-18",
         "2023-08-15T16:49:53.218+0000"
        ],
        [
         1053,
         8,
         "1",
         26,
         "15:47:55",
         "30.28",
         30280,
         "2021-04-18",
         "2023-08-15T16:49:53.218+0000"
        ],
        [
         1053,
         830,
         "1",
         27,
         "15:47:59",
         "29.809",
         29809,
         "2021-04-18",
         "2023-08-15T16:49:53.218+0000"
        ],
        [
         1053,
         842,
         "2",
         26,
         "15:48:45",
         "32.277",
         32277,
         "2021-04-18",
         "2023-08-15T16:49:53.218+0000"
        ],
        [
         1053,
         832,
         "1",
         27,
         "15:48:51",
         "30.856",
         30856,
         "2021-04-18",
         "2023-08-15T16:49:53.218+0000"
        ],
        [
         1053,
         817,
         "1",
         27,
         "15:48:57",
         "34.34",
         34340,
         "2021-04-18",
         "2023-08-15T16:49:53.218+0000"
        ],
        [
         1053,
         840,
         "1",
         27,
         "15:49:16",
         "31.138",
         31138,
         "2021-04-18",
         "2023-08-15T16:49:53.218+0000"
        ],
        [
         1053,
         1,
         "1",
         28,
         "15:49:27",
         "32.112",
         32112,
         "2021-04-18",
         "2023-08-15T16:49:53.218+0000"
        ],
        [
         1053,
         841,
         "1",
         27,
         "15:49:32",
         "32.299",
         32299,
         "2021-04-18",
         "2023-08-15T16:49:53.218+0000"
        ],
        [
         1053,
         839,
         "2",
         27,
         "15:49:42",
         "30.652",
         30652,
         "2021-04-18",
         "2023-08-15T16:49:53.218+0000"
        ],
        [
         1053,
         844,
         "1",
         28,
         "15:49:43",
         "31.002",
         31002,
         "2021-04-18",
         "2023-08-15T16:49:53.218+0000"
        ],
        [
         1053,
         815,
         "1",
         28,
         "15:49:58",
         "44.608",
         44608,
         "2021-04-18",
         "2023-08-15T16:49:53.218+0000"
        ],
        [
         1053,
         846,
         "1",
         28,
         "15:50:11",
         "30.654",
         30654,
         "2021-04-18",
         "2023-08-15T16:49:53.218+0000"
        ],
        [
         1053,
         822,
         "1",
         28,
         "15:50:46",
         "30.167",
         30167,
         "2021-04-18",
         "2023-08-15T16:49:53.218+0000"
        ],
        [
         1053,
         4,
         "1",
         28,
         "15:51:18",
         "30.864",
         30864,
         "2021-04-18",
         "2023-08-15T16:49:53.218+0000"
        ],
        [
         1053,
         1,
         "2",
         31,
         "15:55:30",
         "38.198",
         38198,
         "2021-04-18",
         "2023-08-15T16:49:53.218+0000"
        ],
        [
         1053,
         839,
         "3",
         31,
         "15:56:23",
         "30.701",
         30701,
         "2021-04-18",
         "2023-08-15T16:49:53.218+0000"
        ],
        [
         1053,
         830,
         "2",
         33,
         "15:58:11",
         "27:01.361",
         1621361,
         "2021-04-18",
         "2023-08-15T16:49:53.218+0000"
        ],
        [
         1053,
         840,
         "2",
         32,
         "15:58:13",
         "24:52.090",
         1492090,
         "2021-04-18",
         "2023-08-15T16:49:53.218+0000"
        ],
        [
         1053,
         8,
         "2",
         32,
         "15:58:16",
         "24:52.612",
         1492612,
         "2021-04-18",
         "2023-08-15T16:49:53.218+0000"
        ],
        [
         1053,
         1,
         "3",
         32,
         "15:58:17",
         "24:54.731",
         1494731,
         "2021-04-18",
         "2023-08-15T16:49:53.218+0000"
        ],
        [
         1053,
         854,
         "3",
         31,
         "15:58:20",
         "25:21.462",
         1521462,
         "2021-04-18",
         "2023-08-15T16:49:53.218+0000"
        ],
        [
         1053,
         852,
         "2",
         32,
         "15:58:24",
         "24:51.384",
         1491384,
         "2021-04-18",
         "2023-08-15T16:49:53.218+0000"
        ],
        [
         1053,
         841,
         "2",
         32,
         "15:58:26",
         "24:56.541",
         1496541,
         "2021-04-18",
         "2023-08-15T16:49:53.218+0000"
        ],
        [
         1053,
         844,
         "2",
         33,
         "15:58:28",
         "26:49.484",
         1609484,
         "2021-04-18",
         "2023-08-15T16:49:53.218+0000"
        ],
        [
         1053,
         4,
         "2",
         32,
         "15:58:37",
         "24:48.372",
         1488372,
         "2021-04-18",
         "2023-08-15T16:49:53.218+0000"
        ],
        [
         1053,
         839,
         "4",
         32,
         "15:58:48",
         "24:38.974",
         1478974,
         "2021-04-18",
         "2023-08-15T16:49:53.218+0000"
        ],
        [
         1053,
         853,
         "3",
         31,
         "15:58:57",
         "24:46.154",
         1486154,
         "2021-04-18",
         "2023-08-15T16:49:53.218+0000"
        ],
        [
         1053,
         846,
         "2",
         33,
         "15:59:06",
         "26:24.953",
         1584953,
         "2021-04-18",
         "2023-08-15T16:49:53.218+0000"
        ],
        [
         1053,
         815,
         "2",
         33,
         "15:59:11",
         "26:21.158",
         1581158,
         "2021-04-18",
         "2023-08-15T16:49:53.218+0000"
        ],
        [
         1053,
         832,
         "2",
         33,
         "15:59:14",
         "26:22.211",
         1582211,
         "2021-04-18",
         "2023-08-15T16:49:53.218+0000"
        ],
        [
         1053,
         842,
         "3",
         32,
         "15:59:18",
         "24:13.539",
         1453539,
         "2021-04-18",
         "2023-08-15T16:49:53.218+0000"
        ],
        [
         1053,
         20,
         "4",
         32,
         "15:59:21",
         "24:12.323",
         1452323,
         "2021-04-18",
         "2023-08-15T16:49:53.218+0000"
        ],
        [
         1053,
         817,
         "2",
         33,
         "15:59:25",
         "26:14.827",
         1574827,
         "2021-04-18",
         "2023-08-15T16:49:53.218+0000"
        ],
        [
         1053,
         840,
         "3",
         33,
         "16:24:36",
         "1:05.390",
         65390,
         "2021-04-18",
         "2023-08-15T16:49:53.218+0000"
        ],
        [
         1053,
         8,
         "3",
         33,
         "16:24:42",
         "1:02.892",
         62892,
         "2021-04-18",
         "2023-08-15T16:49:53.218+0000"
        ],
        [
         1053,
         1,
         "4",
         33,
         "16:24:48",
         "1:05.870",
         65870,
         "2021-04-18",
         "2023-08-15T16:49:53.218+0000"
        ],
        [
         1053,
         852,
         "3",
         33,
         "16:24:52",
         "1:03.280",
         63280,
         "2021-04-18",
         "2023-08-15T16:49:53.218+0000"
        ],
        [
         1053,
         841,
         "3",
         33,
         "16:24:58",
         "1:00.172",
         60172,
         "2021-04-18",
         "2023-08-15T16:49:53.218+0000"
        ],
        [
         1053,
         4,
         "3",
         33,
         "16:25:04",
         "57.601",
         57601,
         "2021-04-18",
         "2023-08-15T16:49:53.218+0000"
        ],
        [
         1053,
         839,
         "5",
         33,
         "16:25:06",
         "56.733",
         56733,
         "2021-04-18",
         "2023-08-15T16:49:53.218+0000"
        ],
        [
         1053,
         842,
         "4",
         33,
         "16:25:09",
         "56.083",
         56083,
         "2021-04-18",
         "2023-08-15T16:49:53.218+0000"
        ],
        [
         1053,
         20,
         "5",
         33,
         "16:25:15",
         "52.043",
         52043,
         "2021-04-18",
         "2023-08-15T16:49:53.218+0000"
        ],
        [
         1053,
         854,
         "4",
         32,
         "16:25:16",
         "51.222",
         51222,
         "2021-04-18",
         "2023-08-15T16:49:53.218+0000"
        ],
        [
         1053,
         853,
         "4",
         32,
         "16:25:22",
         "49.729",
         49729,
         "2021-04-18",
         "2023-08-15T16:49:53.218+0000"
        ],
        [
         1053,
         841,
         "4",
         40,
         "16:36:13",
         "29.742",
         29742,
         "2021-04-18",
         "2023-08-15T16:49:53.218+0000"
        ]
       ],
       "datasetInfos": [],
       "dbfsResultPath": null,
       "isJsonSchema": true,
       "metadata": {},
       "overflow": false,
       "plotOptions": {
        "customPlotOptions": {},
        "displayType": "table",
        "pivotAggregation": null,
        "pivotColumns": null,
        "xColumns": null,
        "yColumns": null
       },
       "removedWidgets": [],
       "schema": [
        {
         "metadata": "{}",
         "name": "race_id",
         "type": "\"integer\""
        },
        {
         "metadata": "{}",
         "name": "driver_id",
         "type": "\"integer\""
        },
        {
         "metadata": "{}",
         "name": "stop",
         "type": "\"string\""
        },
        {
         "metadata": "{}",
         "name": "lap",
         "type": "\"integer\""
        },
        {
         "metadata": "{}",
         "name": "time",
         "type": "\"string\""
        },
        {
         "metadata": "{}",
         "name": "duration",
         "type": "\"string\""
        },
        {
         "metadata": "{}",
         "name": "milliseconds",
         "type": "\"integer\""
        },
        {
         "metadata": "{}",
         "name": "file_date",
         "type": "\"string\""
        },
        {
         "metadata": "{}",
         "name": "ingestion_date",
         "type": "\"timestamp\""
        }
       ],
       "type": "table"
      }
     },
     "output_type": "display_data"
    }
   ],
   "source": [
    "# Read File from File System (Test)\n",
    "df = spark.read.parquet('abfss://processed-incremental@dbcourselakehouse.dfs.core.windows.net/pitstops')\n",
    "\n",
    "# Display Data\n",
    "display(df)"
   ]
  },
  {
   "cell_type": "code",
   "execution_count": 0,
   "metadata": {
    "application/vnd.databricks.v1+cell": {
     "cellMetadata": {
      "byteLimit": 2048000,
      "implicitDf": true,
      "rowLimit": 10000
     },
     "inputWidgets": {},
     "nuid": "3fc97adb-d4aa-4684-aea9-749d30585a8d",
     "showTitle": false,
     "title": ""
    }
   },
   "outputs": [
    {
     "output_type": "display_data",
     "data": {
      "text/html": [
       "<style scoped>\n",
       "  .table-result-container {\n",
       "    max-height: 300px;\n",
       "    overflow: auto;\n",
       "  }\n",
       "  table, th, td {\n",
       "    border: 1px solid black;\n",
       "    border-collapse: collapse;\n",
       "  }\n",
       "  th, td {\n",
       "    padding: 5px;\n",
       "  }\n",
       "  th {\n",
       "    text-align: left;\n",
       "  }\n",
       "</style><div class='table-result-container'><table class='table-result'><thead style='background-color: white'><tr><th>race_id</th><th>count(1)</th></tr></thead><tbody><tr><td>883</td><td>71</td></tr><tr><td>879</td><td>69</td></tr><tr><td>970</td><td>82</td></tr><tr><td>950</td><td>66</td></tr><tr><td>847</td><td>75</td></tr><tr><td>842</td><td>59</td></tr><tr><td>914</td><td>79</td></tr><tr><td>844</td><td>82</td></tr><tr><td>861</td><td>76</td></tr><tr><td>855</td><td>65</td></tr><tr><td>881</td><td>73</td></tr><tr><td>959</td><td>60</td></tr><tr><td>936</td><td>96</td></tr><tr><td>845</td><td>77</td></tr><tr><td>854</td><td>69</td></tr><tr><td>843</td><td>58</td></tr><tr><td>870</td><td>58</td></tr><tr><td>884</td><td>79</td></tr><tr><td>987</td><td>69</td></tr><tr><td>956</td><td>76</td></tr><tr><td>1020</td><td>77</td></tr><tr><td>869</td><td>60</td></tr><tr><td>982</td><td>82</td></tr><tr><td>848</td><td>65</td></tr><tr><td>1039</td><td>66</td></tr><tr><td>967</td><td>62</td></tr><tr><td>863</td><td>71</td></tr><tr><td>859</td><td>58</td></tr><tr><td>962</td><td>68</td></tr><tr><td>901</td><td>55</td></tr><tr><td>864</td><td>67</td></tr><tr><td>851</td><td>88</td></tr><tr><td>857</td><td>47</td></tr><tr><td>976</td><td>63</td></tr><tr><td>874</td><td>46</td></tr><tr><td>882</td><td>57</td></tr><tr><td>887</td><td>55</td></tr><tr><td>852</td><td>52</td></tr><tr><td>867</td><td>49</td></tr><tr><td>944</td><td>49</td></tr><tr><td>904</td><td>48</td></tr><tr><td>1045</td><td>57</td></tr><tr><td>849</td><td>54</td></tr><tr><td>862</td><td>55</td></tr><tr><td>850</td><td>50</td></tr><tr><td>880</td><td>53</td></tr><tr><td>960</td><td>51</td></tr><tr><td>890</td><td>56</td></tr><tr><td>958</td><td>45</td></tr><tr><td>856</td><td>50</td></tr><tr><td>952</td><td>47</td></tr><tr><td>895</td><td>48</td></tr><tr><td>893</td><td>54</td></tr><tr><td>1053</td><td>56</td></tr><tr><td>913</td><td>54</td></tr><tr><td>888</td><td>56</td></tr><tr><td>902</td><td>57</td></tr><tr><td>909</td><td>55</td></tr><tr><td>942</td><td>47</td></tr><tr><td>873</td><td>56</td></tr><tr><td>894</td><td>49</td></tr><tr><td>949</td><td>53</td></tr><tr><td>927</td><td>50</td></tr><tr><td>917</td><td>52</td></tr><tr><td>858</td><td>42</td></tr><tr><td>897</td><td>41</td></tr><tr><td>918</td><td>41</td></tr><tr><td>961</td><td>39</td></tr><tr><td>939</td><td>42</td></tr><tr><td>860</td><td>41</td></tr><tr><td>896</td><td>44</td></tr><tr><td>868</td><td>43</td></tr><tr><td>846</td><td>43</td></tr><tr><td>1029</td><td>45</td></tr><tr><td>886</td><td>44</td></tr><tr><td>1035</td><td>41</td></tr><tr><td>929</td><td>43</td></tr><tr><td>1052</td><td>40</td></tr><tr><td>903</td><td>45</td></tr><tr><td>891</td><td>43</td></tr><tr><td>948</td><td>45</td></tr><tr><td>930</td><td>46</td></tr><tr><td>957</td><td>47</td></tr><tr><td>907</td><td>41</td></tr><tr><td>945</td><td>42</td></tr><tr><td>911</td><td>46</td></tr><tr><td>899</td><td>47</td></tr><tr><td>953</td><td>45</td></tr><tr><td>940</td><td>45</td></tr><tr><td>1033</td><td>45</td></tr><tr><td>910</td><td>44</td></tr><tr><td>965</td><td>43</td></tr><tr><td>999</td><td>40</td></tr><tr><td>1011</td><td>40</td></tr><tr><td>841</td><td>45</td></tr><tr><td>963</td><td>44</td></tr><tr><td>853</td><td>35</td></tr><tr><td>1031</td><td>38</td></tr><tr><td>916</td><td>36</td></tr><tr><td>1046</td><td>39</td></tr><tr><td>973</td><td>37</td></tr><tr><td>875</td><td>41</td></tr><tr><td>955</td><td>33</td></tr><tr><td>906</td><td>33</td></tr><tr><td>992</td><td>36</td></tr><tr><td>980</td><td>40</td></tr><tr><td>1026</td><td>31</td></tr><tr><td>1028</td><td>33</td></tr><tr><td>871</td><td>38</td></tr><tr><td>931</td><td>31</td></tr><tr><td>937</td><td>38</td></tr><tr><td>900</td><td>34</td></tr><tr><td>1036</td><td>35</td></tr><tr><td>1041</td><td>33</td></tr><tr><td>877</td><td>30</td></tr><tr><td>928</td><td>38</td></tr><tr><td>968</td><td>37</td></tr><tr><td>1038</td><td>37</td></tr><tr><td>866</td><td>37</td></tr><tr><td>990</td><td>33</td></tr><tr><td>1014</td><td>37</td></tr><tr><td>943</td><td>38</td></tr><tr><td>872</td><td>31</td></tr><tr><td>1012</td><td>37</td></tr><tr><td>964</td><td>38</td></tr><tr><td>1044</td><td>38</td></tr><tr><td>934</td><td>33</td></tr><tr><td>954</td><td>36</td></tr><tr><td>1025</td><td>25</td></tr><tr><td>898</td><td>27</td></tr><tr><td>974</td><td>28</td></tr><tr><td>876</td><td>28</td></tr><tr><td>1030</td><td>25</td></tr><tr><td>1019</td><td>29</td></tr><tr><td>908</td><td>23</td></tr><tr><td>1008</td><td>25</td></tr><tr><td>998</td><td>28</td></tr><tr><td>1021</td><td>24</td></tr><tr><td>966</td><td>28</td></tr><tr><td>1022</td><td>24</td></tr><tr><td>1015</td><td>23</td></tr><tr><td>994</td><td>26</td></tr><tr><td>1001</td><td>34</td></tr><tr><td>1006</td><td>24</td></tr><tr><td>885</td><td>30</td></tr><tr><td>1007</td><td>29</td></tr><tr><td>951</td><td>26</td></tr><tr><td>1003</td><td>25</td></tr><tr><td>1027</td><td>26</td></tr><tr><td>1023</td><td>29</td></tr><tr><td>1043</td><td>30</td></tr><tr><td>978</td><td>27</td></tr><tr><td>1040</td><td>24</td></tr><tr><td>865</td><td>26</td></tr><tr><td>1024</td><td>28</td></tr><tr><td>971</td><td>31</td></tr><tr><td>905</td><td>27</td></tr><tr><td>985</td><td>25</td></tr><tr><td>1013</td><td>26</td></tr><tr><td>991</td><td>30</td></tr><tr><td>1005</td><td>23</td></tr><tr><td>1016</td><td>22</td></tr><tr><td>1034</td><td>22</td></tr><tr><td>988</td><td>22</td></tr><tr><td>984</td><td>22</td></tr><tr><td>912</td><td>23</td></tr><tr><td>1047</td><td>23</td></tr><tr><td>972</td><td>20</td></tr><tr><td>983</td><td>20</td></tr><tr><td>969</td><td>20</td></tr><tr><td>1032</td><td>21</td></tr><tr><td>1010</td><td>22</td></tr><tr><td>1002</td><td>21</td></tr><tr><td>993</td><td>21</td></tr><tr><td>979</td><td>21</td></tr><tr><td>1017</td><td>23</td></tr><tr><td>986</td><td>23</td></tr><tr><td>981</td><td>21</td></tr><tr><td>1000</td><td>20</td></tr><tr><td>938</td><td>23</td></tr><tr><td>977</td><td>20</td></tr><tr><td>1042</td><td>25</td></tr><tr><td>933</td><td>21</td></tr><tr><td>997</td><td>23</td></tr><tr><td>975</td><td>21</td></tr><tr><td>1018</td><td>23</td></tr><tr><td>892</td><td>24</td></tr><tr><td>1004</td><td>20</td></tr><tr><td>915</td><td>23</td></tr><tr><td>996</td><td>20</td></tr><tr><td>932</td><td>23</td></tr><tr><td>878</td><td>24</td></tr><tr><td>926</td><td>17</td></tr><tr><td>995</td><td>20</td></tr><tr><td>989</td><td>20</td></tr><tr><td>1037</td><td>20</td></tr><tr><td>941</td><td>19</td></tr><tr><td>1009</td><td>18</td></tr></tbody></table></div>"
      ]
     },
     "metadata": {
      "application/vnd.databricks.v1+output": {
       "addedWidgets": {},
       "aggData": [],
       "aggError": "",
       "aggOverflow": false,
       "aggSchema": [],
       "aggSeriesLimitReached": false,
       "aggType": "",
       "arguments": {},
       "columnCustomDisplayInfos": {},
       "data": [
        [
         883,
         71
        ],
        [
         879,
         69
        ],
        [
         970,
         82
        ],
        [
         950,
         66
        ],
        [
         847,
         75
        ],
        [
         842,
         59
        ],
        [
         914,
         79
        ],
        [
         844,
         82
        ],
        [
         861,
         76
        ],
        [
         855,
         65
        ],
        [
         881,
         73
        ],
        [
         959,
         60
        ],
        [
         936,
         96
        ],
        [
         845,
         77
        ],
        [
         854,
         69
        ],
        [
         843,
         58
        ],
        [
         870,
         58
        ],
        [
         884,
         79
        ],
        [
         987,
         69
        ],
        [
         956,
         76
        ],
        [
         1020,
         77
        ],
        [
         869,
         60
        ],
        [
         982,
         82
        ],
        [
         848,
         65
        ],
        [
         1039,
         66
        ],
        [
         967,
         62
        ],
        [
         863,
         71
        ],
        [
         859,
         58
        ],
        [
         962,
         68
        ],
        [
         901,
         55
        ],
        [
         864,
         67
        ],
        [
         851,
         88
        ],
        [
         857,
         47
        ],
        [
         976,
         63
        ],
        [
         874,
         46
        ],
        [
         882,
         57
        ],
        [
         887,
         55
        ],
        [
         852,
         52
        ],
        [
         867,
         49
        ],
        [
         944,
         49
        ],
        [
         904,
         48
        ],
        [
         1045,
         57
        ],
        [
         849,
         54
        ],
        [
         862,
         55
        ],
        [
         850,
         50
        ],
        [
         880,
         53
        ],
        [
         960,
         51
        ],
        [
         890,
         56
        ],
        [
         958,
         45
        ],
        [
         856,
         50
        ],
        [
         952,
         47
        ],
        [
         895,
         48
        ],
        [
         893,
         54
        ],
        [
         1053,
         56
        ],
        [
         913,
         54
        ],
        [
         888,
         56
        ],
        [
         902,
         57
        ],
        [
         909,
         55
        ],
        [
         942,
         47
        ],
        [
         873,
         56
        ],
        [
         894,
         49
        ],
        [
         949,
         53
        ],
        [
         927,
         50
        ],
        [
         917,
         52
        ],
        [
         858,
         42
        ],
        [
         897,
         41
        ],
        [
         918,
         41
        ],
        [
         961,
         39
        ],
        [
         939,
         42
        ],
        [
         860,
         41
        ],
        [
         896,
         44
        ],
        [
         868,
         43
        ],
        [
         846,
         43
        ],
        [
         1029,
         45
        ],
        [
         886,
         44
        ],
        [
         1035,
         41
        ],
        [
         929,
         43
        ],
        [
         1052,
         40
        ],
        [
         903,
         45
        ],
        [
         891,
         43
        ],
        [
         948,
         45
        ],
        [
         930,
         46
        ],
        [
         957,
         47
        ],
        [
         907,
         41
        ],
        [
         945,
         42
        ],
        [
         911,
         46
        ],
        [
         899,
         47
        ],
        [
         953,
         45
        ],
        [
         940,
         45
        ],
        [
         1033,
         45
        ],
        [
         910,
         44
        ],
        [
         965,
         43
        ],
        [
         999,
         40
        ],
        [
         1011,
         40
        ],
        [
         841,
         45
        ],
        [
         963,
         44
        ],
        [
         853,
         35
        ],
        [
         1031,
         38
        ],
        [
         916,
         36
        ],
        [
         1046,
         39
        ],
        [
         973,
         37
        ],
        [
         875,
         41
        ],
        [
         955,
         33
        ],
        [
         906,
         33
        ],
        [
         992,
         36
        ],
        [
         980,
         40
        ],
        [
         1026,
         31
        ],
        [
         1028,
         33
        ],
        [
         871,
         38
        ],
        [
         931,
         31
        ],
        [
         937,
         38
        ],
        [
         900,
         34
        ],
        [
         1036,
         35
        ],
        [
         1041,
         33
        ],
        [
         877,
         30
        ],
        [
         928,
         38
        ],
        [
         968,
         37
        ],
        [
         1038,
         37
        ],
        [
         866,
         37
        ],
        [
         990,
         33
        ],
        [
         1014,
         37
        ],
        [
         943,
         38
        ],
        [
         872,
         31
        ],
        [
         1012,
         37
        ],
        [
         964,
         38
        ],
        [
         1044,
         38
        ],
        [
         934,
         33
        ],
        [
         954,
         36
        ],
        [
         1025,
         25
        ],
        [
         898,
         27
        ],
        [
         974,
         28
        ],
        [
         876,
         28
        ],
        [
         1030,
         25
        ],
        [
         1019,
         29
        ],
        [
         908,
         23
        ],
        [
         1008,
         25
        ],
        [
         998,
         28
        ],
        [
         1021,
         24
        ],
        [
         966,
         28
        ],
        [
         1022,
         24
        ],
        [
         1015,
         23
        ],
        [
         994,
         26
        ],
        [
         1001,
         34
        ],
        [
         1006,
         24
        ],
        [
         885,
         30
        ],
        [
         1007,
         29
        ],
        [
         951,
         26
        ],
        [
         1003,
         25
        ],
        [
         1027,
         26
        ],
        [
         1023,
         29
        ],
        [
         1043,
         30
        ],
        [
         978,
         27
        ],
        [
         1040,
         24
        ],
        [
         865,
         26
        ],
        [
         1024,
         28
        ],
        [
         971,
         31
        ],
        [
         905,
         27
        ],
        [
         985,
         25
        ],
        [
         1013,
         26
        ],
        [
         991,
         30
        ],
        [
         1005,
         23
        ],
        [
         1016,
         22
        ],
        [
         1034,
         22
        ],
        [
         988,
         22
        ],
        [
         984,
         22
        ],
        [
         912,
         23
        ],
        [
         1047,
         23
        ],
        [
         972,
         20
        ],
        [
         983,
         20
        ],
        [
         969,
         20
        ],
        [
         1032,
         21
        ],
        [
         1010,
         22
        ],
        [
         1002,
         21
        ],
        [
         993,
         21
        ],
        [
         979,
         21
        ],
        [
         1017,
         23
        ],
        [
         986,
         23
        ],
        [
         981,
         21
        ],
        [
         1000,
         20
        ],
        [
         938,
         23
        ],
        [
         977,
         20
        ],
        [
         1042,
         25
        ],
        [
         933,
         21
        ],
        [
         997,
         23
        ],
        [
         975,
         21
        ],
        [
         1018,
         23
        ],
        [
         892,
         24
        ],
        [
         1004,
         20
        ],
        [
         915,
         23
        ],
        [
         996,
         20
        ],
        [
         932,
         23
        ],
        [
         878,
         24
        ],
        [
         926,
         17
        ],
        [
         995,
         20
        ],
        [
         989,
         20
        ],
        [
         1037,
         20
        ],
        [
         941,
         19
        ],
        [
         1009,
         18
        ]
       ],
       "datasetInfos": [],
       "dbfsResultPath": null,
       "isJsonSchema": true,
       "metadata": {},
       "overflow": false,
       "plotOptions": {
        "customPlotOptions": {},
        "displayType": "table",
        "pivotAggregation": null,
        "pivotColumns": null,
        "xColumns": null,
        "yColumns": null
       },
       "removedWidgets": [],
       "schema": [
        {
         "metadata": "{}",
         "name": "race_id",
         "type": "\"integer\""
        },
        {
         "metadata": "{\"__autoGeneratedAlias\":\"true\"}",
         "name": "count(1)",
         "type": "\"long\""
        }
       ],
       "type": "table"
      }
     },
     "output_type": "display_data"
    }
   ],
   "source": [
    "%sql\n",
    "-- Read Table\n",
    "select race_id, count(*)\n",
    "from formula1_processed_inc.pitstops_inc\n",
    "group by race_id;"
   ]
  },
  {
   "cell_type": "code",
   "execution_count": 0,
   "metadata": {
    "application/vnd.databricks.v1+cell": {
     "cellMetadata": {
      "byteLimit": 2048000,
      "rowLimit": 10000
     },
     "inputWidgets": {},
     "nuid": "c6d1ca52-57bb-4473-afa8-5526af3a4f26",
     "showTitle": false,
     "title": ""
    }
   },
   "outputs": [],
   "source": [
    "# Notbook Exit Output\n",
    "dbutils.notebook.exit(\"Pitstops Successful\")"
   ]
  }
 ],
 "metadata": {
  "application/vnd.databricks.v1+notebook": {
   "dashboards": [],
   "language": "python",
   "notebookMetadata": {
    "mostRecentlyExecutedCommandWithImplicitDF": {
     "commandId": 1731043978754017,
     "dataframes": [
      "_sqldf"
     ]
    },
    "pythonIndentUnit": 4
   },
   "notebookName": "06-Pitstops-JSON",
   "widgets": {
    "FileDate": {
     "currentValue": "2021-04-18",
     "nuid": "5f8ec8ad-31d5-4d3c-bf0c-daa161e4fd90",
     "widgetInfo": {
      "widgetType": "text",
      "defaultValue": "2021-03-28",
      "label": null,
      "name": "FileDate",
      "options": {
       "widgetType": "text",
       "validationRegex": null
      }
     }
    }
   }
  }
 },
 "nbformat": 4,
 "nbformat_minor": 0
}
