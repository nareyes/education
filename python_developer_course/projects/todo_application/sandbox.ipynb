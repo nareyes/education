{
 "cells": [
  {
   "cell_type": "markdown",
   "metadata": {},
   "source": [
    "# Todo Application Sandbox"
   ]
  },
  {
   "cell_type": "code",
   "execution_count": 10,
   "metadata": {},
   "outputs": [
    {
     "name": "stdout",
     "output_type": "stream",
     "text": [
      "1. Clean\n",
      "2. Shower\n",
      "3. Sleep\n",
      "Bye!\n"
     ]
    }
   ],
   "source": [
    "user_input_action = \"Type Add, Show, Edit, Complete, or Exit: \"\n",
    "user_input_todo = \"Enter a Todo: \"\n",
    "user_input_position_new = 'Enter a Valid Todo Number to Edit: '\n",
    "user_input_position_complete = 'Enter a Valid Todo Number to Complete: '\n",
    "\n",
    "while True:\n",
    "    user_action = input(user_input_action).strip().lower()\n",
    "\n",
    "    match user_action:\n",
    "        case 'add':\n",
    "            todo = input(user_input_todo).strip().title() + '\\n'\n",
    "\n",
    "            file = open('data/demo.txt', 'r')\n",
    "            todos = file.readlines()\n",
    "            file.close()\n",
    "\n",
    "            todos.append(todo)\n",
    "\n",
    "            file = open('data/demo.txt', 'w')\n",
    "            file.writelines(todos)\n",
    "            file.close()\n",
    "\n",
    "        case 'show':\n",
    "            file = open('data/demo.txt', 'r')\n",
    "            todos = file.readlines()\n",
    "            file.close()\n",
    "\n",
    "            # stripped_todos = [item.strip('\\n') for item in todos]\n",
    "\n",
    "            if todos == []:\n",
    "                print('No Pending Todos')\n",
    "            else:\n",
    "                for index, item in enumerate(todos):\n",
    "                    item = item.strip('\\n')\n",
    "                    print(f'{index + 1}. {item}')\n",
    "\n",
    "        case 'edit':\n",
    "            index_pos = input(user_input_position_new)\n",
    "            index_pos = int(index_pos) - 1\n",
    "            new_todo = input(user_input_todo).strip().title()\n",
    "            todos[index_pos] = new_todo\n",
    "\n",
    "        case 'complete':\n",
    "            index_pos = input(user_input_position_complete)\n",
    "            index_pos = int(index_pos) - 1 \n",
    "            todos.pop(index_pos)\n",
    "\n",
    "        case 'exit':\n",
    "            break\n",
    "        \n",
    "        case _:\n",
    "            print('Invalid Entry')\n",
    "\n",
    "print('Bye!')"
   ]
  },
  {
   "cell_type": "markdown",
   "metadata": {},
   "source": [
    "## Help"
   ]
  },
  {
   "cell_type": "code",
   "execution_count": 22,
   "metadata": {},
   "outputs": [
    {
     "data": {
      "text/plain": [
       "['__add__',\n",
       " '__class__',\n",
       " '__class_getitem__',\n",
       " '__contains__',\n",
       " '__delattr__',\n",
       " '__delitem__',\n",
       " '__dir__',\n",
       " '__doc__',\n",
       " '__eq__',\n",
       " '__format__',\n",
       " '__ge__',\n",
       " '__getattribute__',\n",
       " '__getitem__',\n",
       " '__getstate__',\n",
       " '__gt__',\n",
       " '__hash__',\n",
       " '__iadd__',\n",
       " '__imul__',\n",
       " '__init__',\n",
       " '__init_subclass__',\n",
       " '__iter__',\n",
       " '__le__',\n",
       " '__len__',\n",
       " '__lt__',\n",
       " '__mul__',\n",
       " '__ne__',\n",
       " '__new__',\n",
       " '__reduce__',\n",
       " '__reduce_ex__',\n",
       " '__repr__',\n",
       " '__reversed__',\n",
       " '__rmul__',\n",
       " '__setattr__',\n",
       " '__setitem__',\n",
       " '__sizeof__',\n",
       " '__str__',\n",
       " '__subclasshook__',\n",
       " 'append',\n",
       " 'clear',\n",
       " 'copy',\n",
       " 'count',\n",
       " 'extend',\n",
       " 'index',\n",
       " 'insert',\n",
       " 'pop',\n",
       " 'remove',\n",
       " 'reverse',\n",
       " 'sort']"
      ]
     },
     "execution_count": 22,
     "metadata": {},
     "output_type": "execute_result"
    }
   ],
   "source": [
    "dir(list)"
   ]
  },
  {
   "cell_type": "code",
   "execution_count": 24,
   "metadata": {},
   "outputs": [
    {
     "name": "stdout",
     "output_type": "stream",
     "text": [
      "Help on method_descriptor:\n",
      "\n",
      "remove(self, value, /)\n",
      "    Remove first occurrence of value.\n",
      "    \n",
      "    Raises ValueError if the value is not present.\n",
      "\n",
      "Help on method_descriptor:\n",
      "\n",
      "sort(self, /, *, key=None, reverse=False)\n",
      "    Sort the list in ascending order and return None.\n",
      "    \n",
      "    The sort is in-place (i.e. the list itself is modified) and stable (i.e. the\n",
      "    order of two equal elements is maintained).\n",
      "    \n",
      "    If a key function is given, apply it once to each list item and sort them,\n",
      "    ascending or descending, according to their function values.\n",
      "    \n",
      "    The reverse flag can be set to sort in descending order.\n",
      "\n"
     ]
    }
   ],
   "source": [
    "help(list.remove)\n",
    "help(list.sort)"
   ]
  },
  {
   "cell_type": "markdown",
   "metadata": {},
   "source": [
    "## Day 1"
   ]
  },
  {
   "cell_type": "code",
   "execution_count": 17,
   "metadata": {},
   "outputs": [
    {
     "name": "stdout",
     "output_type": "stream",
     "text": [
      "Hello, World\n"
     ]
    }
   ],
   "source": [
    "# print\n",
    "print('Hello, World')"
   ]
  },
  {
   "cell_type": "code",
   "execution_count": 18,
   "metadata": {},
   "outputs": [
    {
     "name": "stdout",
     "output_type": "stream",
     "text": [
      "1\n"
     ]
    }
   ],
   "source": [
    "# variables\n",
    "my_var = 1\n",
    "print(my_var)"
   ]
  },
  {
   "cell_type": "code",
   "execution_count": 19,
   "metadata": {},
   "outputs": [
    {
     "name": "stdout",
     "output_type": "stream",
     "text": [
      "I am 38 years old.\n"
     ]
    }
   ],
   "source": [
    "# user input and f strings\n",
    "my_age = input('Enter Age: ')\n",
    "print(f'I am {my_age} years old.')"
   ]
  },
  {
   "cell_type": "markdown",
   "metadata": {},
   "source": [
    "## Day 2"
   ]
  },
  {
   "cell_type": "code",
   "execution_count": 16,
   "metadata": {},
   "outputs": [
    {
     "name": "stdout",
     "output_type": "stream",
     "text": [
      "1\n",
      "2\n",
      "3\n",
      "4\n",
      "5\n"
     ]
    }
   ],
   "source": [
    "# while loops\n",
    "x = 1\n",
    "\n",
    "while x < 6:\n",
    "    print(x)\n",
    "    x = x + 1"
   ]
  },
  {
   "cell_type": "markdown",
   "metadata": {},
   "source": [
    "## Day 3"
   ]
  },
  {
   "cell_type": "code",
   "execution_count": 14,
   "metadata": {},
   "outputs": [
    {
     "name": "stdout",
     "output_type": "stream",
     "text": [
      "1\n",
      "2\n",
      "3\n",
      "4\n",
      "5\n"
     ]
    }
   ],
   "source": [
    "# for loops\n",
    "my_list = [1, 2, 3, 4, 5]\n",
    "\n",
    "for num in my_list:\n",
    "    print(num)\n"
   ]
  },
  {
   "cell_type": "code",
   "execution_count": 15,
   "metadata": {},
   "outputs": [
    {
     "name": "stdout",
     "output_type": "stream",
     "text": [
      "Pasta\n",
      "Pizza\n",
      "Salad\n"
     ]
    }
   ],
   "source": [
    "# using a string method\n",
    "my_meals = ['pasta', 'pizza', 'salad']\n",
    "\n",
    "for meal in my_meals:\n",
    "    print(meal.capitalize())"
   ]
  },
  {
   "cell_type": "markdown",
   "metadata": {},
   "source": [
    "## Day 4"
   ]
  },
  {
   "cell_type": "code",
   "execution_count": 3,
   "metadata": {},
   "outputs": [
    {
     "name": "stdout",
     "output_type": "stream",
     "text": [
      "item1\n",
      "item2\n",
      "item3\n"
     ]
    },
    {
     "ename": "IndexError",
     "evalue": "list index out of range",
     "output_type": "error",
     "traceback": [
      "\u001b[0;31m---------------------------------------------------------------------------\u001b[0m",
      "\u001b[0;31mIndexError\u001b[0m                                Traceback (most recent call last)",
      "Cell \u001b[0;32mIn[3], line 6\u001b[0m\n\u001b[1;32m      4\u001b[0m \u001b[38;5;28mprint\u001b[39m(my_list[\u001b[38;5;241m1\u001b[39m])\n\u001b[1;32m      5\u001b[0m \u001b[38;5;28mprint\u001b[39m(my_list[\u001b[38;5;241m2\u001b[39m])\n\u001b[0;32m----> 6\u001b[0m \u001b[38;5;28mprint\u001b[39m(\u001b[43mmy_list\u001b[49m\u001b[43m[\u001b[49m\u001b[38;5;241;43m3\u001b[39;49m\u001b[43m]\u001b[49m) \u001b[38;5;66;03m# error\u001b[39;00m\n",
      "\u001b[0;31mIndexError\u001b[0m: list index out of range"
     ]
    }
   ],
   "source": [
    "# list indexing\n",
    "my_list = ['item1', 'item2', 'item3']\n",
    "print(my_list[0])\n",
    "print(my_list[1])\n",
    "print(my_list[2])\n",
    "print(my_list[3]) # error"
   ]
  },
  {
   "cell_type": "code",
   "execution_count": 5,
   "metadata": {},
   "outputs": [
    {
     "name": "stdout",
     "output_type": "stream",
     "text": [
      "['item1', 'item2', 'item4']\n"
     ]
    }
   ],
   "source": [
    "# list reassinment (negative indexing)\n",
    "my_list = ['item1', 'item2', 'item3']\n",
    "my_list[-1] = 'item4'\n",
    "print(my_list)"
   ]
  },
  {
   "cell_type": "code",
   "execution_count": 11,
   "metadata": {},
   "outputs": [
    {
     "name": "stdout",
     "output_type": "stream",
     "text": [
      "50\n",
      "50.0\n",
      "500 <class 'str'>\n",
      "<class 'str'>\n"
     ]
    }
   ],
   "source": [
    "# data type conversion\n",
    "a = '5'\n",
    "b = int(a)\n",
    "c = b * 10\n",
    "print(c)\n",
    "\n",
    "d = 50\n",
    "e = float(d)\n",
    "print(e)\n",
    "\n",
    "f = 500\n",
    "g = str(f)\n",
    "print(g, type(g))"
   ]
  },
  {
   "cell_type": "code",
   "execution_count": 13,
   "metadata": {},
   "outputs": [
    {
     "name": "stdout",
     "output_type": "stream",
     "text": [
      "['1_Raw_Data.txt', '2_Reports.txt', '3_Presentations.txt']\n"
     ]
    }
   ],
   "source": [
    "# replacing characters in strings\n",
    "filenames = ['1.Raw Data.txt', '2.Reports.txt', '3.Presentations.txt']\n",
    "filenames_new = []\n",
    "\n",
    "for filename in filenames:\n",
    "    filename = filename.replace('.', '_', 1)\n",
    "    filename = filename.replace(' ', '_')\n",
    "    \n",
    "    filenames_new.append(filename)\n",
    "\n",
    "print(filenames_new)"
   ]
  },
  {
   "cell_type": "markdown",
   "metadata": {},
   "source": [
    "## Day 5"
   ]
  },
  {
   "cell_type": "code",
   "execution_count": 18,
   "metadata": {},
   "outputs": [
    {
     "name": "stdout",
     "output_type": "stream",
     "text": [
      "1. Clean\n",
      "2. Cook\n",
      "3. Sleep\n"
     ]
    }
   ],
   "source": [
    "# enumerate (outputs tuple with index and item)\n",
    "todos = ['clean', 'cook', 'sleep']\n",
    "\n",
    "# for item in todos:\n",
    "#     print(item)\n",
    "\n",
    "# for item in enumerate(todos):\n",
    "#     print(item)\n",
    "\n",
    "for index, item in enumerate(todos):\n",
    "    print(f'{index + 1}. {item.title()}')"
   ]
  },
  {
   "cell_type": "code",
   "execution_count": 15,
   "metadata": {},
   "outputs": [
    {
     "name": "stdout",
     "output_type": "stream",
     "text": [
      "['a', 'b', 'c', 'd']\n",
      "['a', 'b', 'c']\n",
      "['a', 'b']\n",
      "['a']\n"
     ]
    }
   ],
   "source": [
    "# remove items from list\n",
    "my_list = ['a', 'b', 'c', 'd']\n",
    "print(my_list)\n",
    "\n",
    "my_list.remove('d')\n",
    "print(my_list)\n",
    "\n",
    "my_list.pop(2)\n",
    "print(my_list)\n",
    "\n",
    "my_list.pop(-1) # default arg\n",
    "print(my_list)"
   ]
  },
  {
   "cell_type": "code",
   "execution_count": 27,
   "metadata": {},
   "outputs": [
    {
     "name": "stdout",
     "output_type": "stream",
     "text": [
      "['seth', 'ben', 'john']\n",
      "['seth', 'john', 'ben']\n",
      "['ben', 'john', 'seth']\n",
      "1. Ben\n",
      "2. John\n",
      "3. Seth\n"
     ]
    }
   ],
   "source": [
    "# sorting and enumerating a list\n",
    "waiting_list = ['seth', 'ben', 'john']\n",
    "print(waiting_list)\n",
    "\n",
    "waiting_list.sort(reverse = True)\n",
    "print(waiting_list)\n",
    "\n",
    "waiting_list.sort() # default ascending\n",
    "print(waiting_list)\n",
    "\n",
    "for index, name in enumerate(waiting_list):\n",
    "    print(f'{index + 1}. {name.title()}')"
   ]
  },
  {
   "cell_type": "markdown",
   "metadata": {},
   "source": [
    "## Day 6"
   ]
  },
  {
   "cell_type": "code",
   "execution_count": 22,
   "metadata": {},
   "outputs": [
    {
     "name": "stdout",
     "output_type": "stream",
     "text": [
      "<class 'list'>\n",
      "['Test']\n"
     ]
    }
   ],
   "source": [
    "# opening and reading a file\n",
    "file = open('data/demo.txt', 'r')\n",
    "my_list = file.readlines()\n",
    "file.close()\n",
    "\n",
    "print(type(my_list))\n",
    "print(my_list)\n"
   ]
  },
  {
   "cell_type": "code",
   "execution_count": 24,
   "metadata": {},
   "outputs": [
    {
     "name": "stdout",
     "output_type": "stream",
     "text": [
      "Write text to a file. \n",
      "This will be saved and accessible later.\n"
     ]
    }
   ],
   "source": [
    "# opening and writing to a file\n",
    "file = open('data/demo.txt', 'w')\n",
    "file.write('Write text to a file. \\nThis will be saved and accessible later.')\n",
    "file.close()\n",
    "\n",
    "file = open('data/demo.txt', 'r')\n",
    "my_list = file.read()\n",
    "file.close()\n",
    "print(my_list)"
   ]
  },
  {
   "cell_type": "code",
   "execution_count": 26,
   "metadata": {},
   "outputs": [
    {
     "name": "stdout",
     "output_type": "stream",
     "text": [
      "<zip object at 0x10dbb9a00>\n",
      "[(0, 5), (1, 6), (2, 7), (3, 8), (4, 9)]\n"
     ]
    }
   ],
   "source": [
    "# zip function\n",
    "a = [0, 1, 2, 3, 4]\n",
    "b = [5, 6, 7, 8, 9]\n",
    "x = zip(a, b)\n",
    "\n",
    "print(x)\n",
    "print(list(x))"
   ]
  },
  {
   "cell_type": "code",
   "execution_count": 31,
   "metadata": {},
   "outputs": [],
   "source": [
    "# write items of a list to multiple files\n",
    "filenames = ['doc.txt', 'report.txt', 'presentation.txt']\n",
    "contents = ['doc text demo', 'report text demo', 'presentation text demo']\n",
    "\n",
    "for content, filename in zip(contents, filenames):\n",
    "    file = open(f'data/{filename}', 'w')\n",
    "    file.write(content)\n",
    "    file.close()"
   ]
  },
  {
   "cell_type": "code",
   "execution_count": 32,
   "metadata": {},
   "outputs": [],
   "source": [
    "# overwriting behavior\n",
    "file = open('data/logs.txt', 'w')\n",
    "file.write('101.102.103.222 GET 01.988')\n",
    "file.close()\n",
    " \n",
    "file = open('data/logs.txt', 'w')\n",
    "file.write('171.131.104.108 POST 2.143')\n",
    "file.close() # this block will overwrite the first block"
   ]
  },
  {
   "cell_type": "markdown",
   "metadata": {},
   "source": [
    "## Day 7"
   ]
  },
  {
   "cell_type": "code",
   "execution_count": 4,
   "metadata": {},
   "outputs": [
    {
     "name": "stdout",
     "output_type": "stream",
     "text": [
      "['item1', 'item2', 'item3']\n"
     ]
    }
   ],
   "source": [
    "# stripping characters from a string\n",
    "my_str = ['item1\\n', 'item2\\n', 'item3\\n']\n",
    "my_new_str = []\n",
    "\n",
    "for item in my_str:\n",
    "    item = item.strip('\\n')\n",
    "    my_new_str.append(item)\n",
    "\n",
    "print(my_new_str)"
   ]
  },
  {
   "cell_type": "code",
   "execution_count": 7,
   "metadata": {},
   "outputs": [
    {
     "name": "stdout",
     "output_type": "stream",
     "text": [
      "['item1', 'item2', 'item3']\n"
     ]
    }
   ],
   "source": [
    "# stripping characters using list comprehension\n",
    "my_str = ['item1\\n', 'item2\\n', 'item3\\n']\n",
    "my_new_str = [item.strip('\\n') for item in my_str]\n",
    "\n",
    "print(my_new_str)"
   ]
  },
  {
   "cell_type": "code",
   "execution_count": 12,
   "metadata": {},
   "outputs": [
    {
     "name": "stdout",
     "output_type": "stream",
     "text": [
      "['1_Docs.txt', '2_Reports.txt', '3_Presentations.txt']\n"
     ]
    }
   ],
   "source": [
    "# modify strings in a list\n",
    "filenames = ['1.Docs', '2.Reports', '3.Presentations']\n",
    "modified_filenames = [filename.replace('.', '_') + '.txt' for filename in filenames]\n",
    "\n",
    "print(modified_filenames)\n"
   ]
  }
 ],
 "metadata": {
  "kernelspec": {
   "display_name": "base",
   "language": "python",
   "name": "python3"
  },
  "language_info": {
   "codemirror_mode": {
    "name": "ipython",
    "version": 3
   },
   "file_extension": ".py",
   "mimetype": "text/x-python",
   "name": "python",
   "nbconvert_exporter": "python",
   "pygments_lexer": "ipython3",
   "version": "3.11.5"
  }
 },
 "nbformat": 4,
 "nbformat_minor": 2
}
