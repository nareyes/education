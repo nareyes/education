{
 "cells": [
  {
   "cell_type": "code",
   "execution_count": 1,
   "metadata": {},
   "outputs": [],
   "source": [
    "# import libraries\n",
    "import random"
   ]
  },
  {
   "cell_type": "code",
   "execution_count": 2,
   "metadata": {},
   "outputs": [],
   "source": [
    "# declare variables\n",
    "lower_bound = 1\n",
    "upper_bound = 100\n",
    "guess_limit = 5\n",
    "guess_counter = 0\n",
    "correct_number = random.randint(lower_bound, upper_bound)"
   ]
  },
  {
   "cell_type": "code",
   "execution_count": 3,
   "metadata": {},
   "outputs": [
    {
     "name": "stdout",
     "output_type": "stream",
     "text": [
      "Guess a number between 1 and 100. You have 5 guesses. Good luck!\n",
      "\n"
     ]
    }
   ],
   "source": [
    "# game intro\n",
    "print(f\"Guess a number between {lower_bound} and {upper_bound}. You have {guess_limit} guesses. Good luck!\\n\")"
   ]
  },
  {
   "cell_type": "code",
   "execution_count": 4,
   "metadata": {},
   "outputs": [
    {
     "name": "stdout",
     "output_type": "stream",
     "text": [
      "Your guess is too high. Try again! Guess Remaining: 4\n",
      "Your guess is too high. Try again! Guess Remaining: 3\n",
      "Your guess is too low. Try again! Guess Remaining: 2\n",
      "Your guess is too low. Try again! Guess Remaining: 1\n",
      "Your guess is too low. Try again! Guess Remaining: 0\n",
      "You are out of guesses. The correct number was: 28\n"
     ]
    }
   ],
   "source": [
    "# play game\n",
    "while True:\n",
    "    user_guess = int(input(\"What is your guess?\"))\n",
    "    guess_counter += 1\n",
    "    remaining_guesses = guess_limit - guess_counter\n",
    "\n",
    "    if user_guess in range(lower_bound, upper_bound + 1):\n",
    "    \n",
    "        if user_guess == correct_number:\n",
    "            print(\"You got it!\")\n",
    "            break\n",
    "        elif user_guess < correct_number:\n",
    "            print(f\"Your guess is too low. Try again! Guess Remaining: {remaining_guesses}\")\n",
    "        else:\n",
    "            print(f\"Your guess is too high. Try again! Guess Remaining: {remaining_guesses}\")\n",
    "\n",
    "    else:\n",
    "        print(f\"Your guess is outside of the acceptable range. Try again!\")\n",
    "    \n",
    "    if remaining_guesses == 0:\n",
    "        print(f\"You are out of guesses. The correct number was: {correct_number}\")\n",
    "        break"
   ]
  }
 ],
 "metadata": {
  "kernelspec": {
   "display_name": "Python 3.9.12 ('ds_infinity')",
   "language": "python",
   "name": "python3"
  },
  "language_info": {
   "codemirror_mode": {
    "name": "ipython",
    "version": 3
   },
   "file_extension": ".py",
   "mimetype": "text/x-python",
   "name": "python",
   "nbconvert_exporter": "python",
   "pygments_lexer": "ipython3",
   "version": "3.9.12"
  },
  "orig_nbformat": 4,
  "vscode": {
   "interpreter": {
    "hash": "864fb72fa58be07f4055d468487424e4132a73f6ab835237ffcd5c869bf333aa"
   }
  }
 },
 "nbformat": 4,
 "nbformat_minor": 2
}
