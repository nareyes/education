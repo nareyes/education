{
 "cells": [
  {
   "cell_type": "code",
   "execution_count": null,
   "metadata": {},
   "outputs": [],
   "source": [
    "## using match case\n",
    "user_input_action = \"Type Add, Show, Edit, Complete, or Exit: \"\n",
    "user_input_todo = \"Enter a Todo: \"\n",
    "user_input_position_new = 'Enter a Valid Todo Number to Edit: '\n",
    "user_input_position_complete = 'Enter a Valid Todo Number to Complete: '\n",
    "\n",
    "while True:\n",
    "    user_action = input(user_input_action).strip().lower()\n",
    "\n",
    "    match user_action:\n",
    "        case 'add':\n",
    "            todo = input(user_input_todo).strip().title() + '\\n'\n",
    "\n",
    "            with open('data/todos.txt', 'r') as file:\n",
    "                todos = file.readlines()\n",
    "\n",
    "            todos.append(todo)\n",
    "\n",
    "            with open('data/todos.txt', 'w') as file:\n",
    "                file.writelines(todos)\n",
    "\n",
    "        case 'show':\n",
    "\n",
    "            with open('data/todos.txt', 'r') as file:\n",
    "                todos = file.readlines()\n",
    "\n",
    "            if todos == []:\n",
    "                print('No Pending Todos')\n",
    "            else:\n",
    "                for index, item in enumerate(todos):\n",
    "                    item = item.strip('\\n')\n",
    "                    print(f'{index + 1}. {item}')\n",
    "            \n",
    "            print('\\n')\n",
    "\n",
    "        case 'edit':\n",
    "            index_pos = input(user_input_position_new)\n",
    "            index_pos = int(index_pos) - 1\n",
    "\n",
    "            with open('data/todos.txt', 'r') as file:\n",
    "                todos = file.readlines()\n",
    "\n",
    "            new_todo = input(user_input_todo).strip().title()\n",
    "            todos[index_pos] = new_todo + '\\n'\n",
    "\n",
    "            with open('data/todos.txt', 'w') as file:\n",
    "                file.writelines(todos)\n",
    "\n",
    "        case 'complete':\n",
    "            index_pos = input(user_input_position_complete)\n",
    "            index_pos = int(index_pos) - 1\n",
    "\n",
    "            with open('data/todos.txt', 'r') as file:\n",
    "                todos = file.readlines()\n",
    "\n",
    "            _ = todos[index_pos].strip('\\n')\n",
    "\n",
    "            todos.pop(index_pos)\n",
    "\n",
    "            with open('data/todos.txt', 'w') as file:\n",
    "                file.writelines(todos)\n",
    "            \n",
    "            print(f'Todo Completed: {_}', '\\n')\n",
    "\n",
    "        case 'exit':\n",
    "            break\n",
    "        \n",
    "        case _:\n",
    "            print('Invalid Entry')\n",
    "\n",
    "print('Bye!')"
   ]
  },
  {
   "cell_type": "code",
   "execution_count": 14,
   "metadata": {},
   "outputs": [
    {
     "data": {
      "text/plain": [
       "datetime.date(2024, 2, 1)"
      ]
     },
     "execution_count": 14,
     "metadata": {},
     "output_type": "execute_result"
    }
   ],
   "source": [
    "from datetime import date\n",
    "date.today()"
   ]
  },
  {
   "cell_type": "code",
   "execution_count": 9,
   "metadata": {},
   "outputs": [
    {
     "name": "stdout",
     "output_type": "stream",
     "text": [
      "The quotient is, 2\n",
      "The remainder is, 5\n",
      "We're done!\n"
     ]
    }
   ],
   "source": [
    "num_1 = 17\n",
    "num_2 = 6\n",
    "\n",
    "quotient = f\"The quotient is {num_1 // num_2}\"\n",
    "print(quotient)\n",
    "\n",
    "remainder = f\"The remainder is {num_1 % num_2}\"\n",
    "print(remainder)\n",
    "\n",
    "print(\"We're done!\")"
   ]
  },
  {
   "cell_type": "code",
   "execution_count": 17,
   "metadata": {},
   "outputs": [
    {
     "name": "stdout",
     "output_type": "stream",
     "text": [
      "8 <class 'str'>\n",
      "8.2 <class 'str'>\n",
      "2024-02-01 <class 'str'>\n",
      "False <class 'str'>\n"
     ]
    }
   ],
   "source": [
    "from datetime import date\n",
    "new_integer = 8\n",
    "new_float = 8.2\n",
    "new_date = date.today()\n",
    "new_boolean = False\n",
    "\n",
    "integer_as_string = str(new_integer)\n",
    "float_as_string = str(new_float)\n",
    "date_as_string = str(new_date)\n",
    "boolean_as_string = str(new_boolean)\n",
    "\n",
    "\n",
    "#The lines of code below will test your code.\n",
    "#If it works, they will print the four string\n",
    "#values, each followed by \"<class 'str'>\".\n",
    "print(integer_as_string, type(integer_as_string))\n",
    "print(float_as_string, type(float_as_string))\n",
    "print(date_as_string, type(date_as_string))\n",
    "print(boolean_as_string, type(boolean_as_string))"
   ]
  },
  {
   "cell_type": "code",
   "execution_count": 22,
   "metadata": {},
   "outputs": [
    {
     "name": "stdout",
     "output_type": "stream",
     "text": [
      "<class 'int'>\n"
     ]
    }
   ],
   "source": [
    "a = '5.5'\n",
    "b = float(a)\n",
    "c = round(b)\n",
    "d = int(c)\n",
    "\n",
    "print(type(d))"
   ]
  },
  {
   "cell_type": "code",
   "execution_count": 28,
   "metadata": {},
   "outputs": [
    {
     "name": "stdout",
     "output_type": "stream",
     "text": [
      "True\n",
      "<class 'bool'>\n"
     ]
    }
   ],
   "source": [
    "a = 100\n",
    "b = bool(a)\n",
    "\n",
    "print(b)\n",
    "print(type(b))"
   ]
  },
  {
   "cell_type": "code",
   "execution_count": 26,
   "metadata": {},
   "outputs": [
    {
     "name": "stdout",
     "output_type": "stream",
     "text": [
      "True\n",
      "<class 'bool'>\n"
     ]
    }
   ],
   "source": [
    "a = 'False'\n",
    "b = bool(a)\n",
    "\n",
    "print(b)\n",
    "print(type(b))"
   ]
  },
  {
   "cell_type": "code",
   "execution_count": 31,
   "metadata": {},
   "outputs": [
    {
     "name": "stdout",
     "output_type": "stream",
     "text": [
      "5 <class 'int'>\n",
      "5.0 <class 'float'>\n",
      "True <class 'bool'>\n"
     ]
    }
   ],
   "source": [
    "#In the code below, three strings are created. Only one can be\n",
    "#converted to all three data types we're covering here (integers,\n",
    "#floats, and booleans). Create three new variables called\n",
    "#as_integer, as_float, and as_boolean, select the only variable\n",
    "#that can be converted to all three, and convert it.\n",
    "#\n",
    "#Hint: Python lets you convert anything to a boolean. It\n",
    "#interprets any non-empty string or non-zero number as True, and\n",
    "#any empty string or number 0 as False.\n",
    "\n",
    "a = \"5.1\"\n",
    "b = \"Hello!\"\n",
    "c = \"5\"\n",
    "\n",
    "#Add your code here!\n",
    "as_integer = int(c)\n",
    "as_float = float(c)\n",
    "as_boolean = bool(c)\n",
    "\n",
    "\n",
    "#The lines of code below will test your submission! If it's\n",
    "#working, it will print the value three times, followed by three\n",
    "#different types: <class 'int'>, <class 'float'>, and\n",
    "#<class 'bool'>.\n",
    "print(as_integer, type(as_integer))\n",
    "print(as_float, type(as_float))\n",
    "print(as_boolean, type(as_boolean))"
   ]
  },
  {
   "cell_type": "code",
   "execution_count": 3,
   "metadata": {},
   "outputs": [
    {
     "name": "stdout",
     "output_type": "stream",
     "text": [
      "2024-02-02 09:26:20.766896\n",
      "9\n",
      "26\n",
      "20\n"
     ]
    }
   ],
   "source": [
    "import datetime\n",
    "\n",
    "current_time = datetime.datetime.now()\n",
    "\n",
    "print(current_time)\n",
    "print(current_time.hour)\n",
    "print(current_time.minute)\n",
    "print(current_time.second)"
   ]
  },
  {
   "cell_type": "code",
   "execution_count": 11,
   "metadata": {},
   "outputs": [
    {
     "name": "stdout",
     "output_type": "stream",
     "text": [
      "2024/2/2\n",
      "9:39:2\n"
     ]
    }
   ],
   "source": [
    "#Complete the code below. We've gone ahead and created\n",
    "#variables for the current date and current time. Now,\n",
    "#we want to print date with the format year/month/day,\n",
    "#and the time with the format hour:minute:second.\n",
    "#\n",
    "#This is a tough one! Think about what we've learned\n",
    "#about converting and putting together strings.\n",
    "#Remember, we can add two strings together. For\n",
    "#example: \"5\" + \"1\" = \"51\".\n",
    "\n",
    "from datetime import date\n",
    "import datetime\n",
    "todays_date = date.today()\n",
    "current_time = datetime.datetime.now()\n",
    "\n",
    "#Don't modify the code above!\n",
    "\n",
    "#Complete the line below to print today's date with the\n",
    "#form year/month/day. For example, January 15th, 2016\n",
    "#would be 2016/1/15.\n",
    "print(f'{todays_date.year}/{todays_date.month}/{todays_date.day}')\n",
    "\n",
    "#Complete the line below to print the current time with\n",
    "#the form hour:minute:second, such as 12:57:15. Don't worry\n",
    "#about the leading 0s for single-digit times. If it's\n",
    "#1:05PM and 7 seconds, the correct answer would be:\n",
    "#13:5:7 (13 because Python uses 24-hour timeby default).\n",
    "print(f'{current_time.hour}:{current_time.minute}:{current_time.second}')"
   ]
  },
  {
   "cell_type": "code",
   "execution_count": 9,
   "metadata": {},
   "outputs": [
    {
     "name": "stdout",
     "output_type": "stream",
     "text": [
      "<class 'int'>\n"
     ]
    }
   ],
   "source": [
    "my_var_1 = 5\n",
    "my_var_1 = 3\n",
    "my_var_2 = my_var_1\n",
    "# my_var_3 = \"Hello!\"\n",
    "# my_var_1 = my_var_3\n",
    "# my_var_3 = 5.2\n",
    "# my_var_2 = True\n",
    "\n",
    "print(type(my_var_2))"
   ]
  },
  {
   "cell_type": "code",
   "execution_count": 25,
   "metadata": {},
   "outputs": [
    {
     "name": "stdout",
     "output_type": "stream",
     "text": [
      "<class 'int'>\n",
      "<class 'float'>\n",
      "<class 'str'>\n",
      "<class 'bool'>\n"
     ]
    }
   ],
   "source": [
    "#Create four variables name my_integer, my_decimal,\n",
    "#my_string, and my_boolean. Assign to each variable a\n",
    "#value of the corresponding type (an integer for\n",
    "#my_integer, a string of characters for my_string,\n",
    "#etc.). You can choose whatever values you want --\n",
    "#just make sure the variable names and types are\n",
    "#correct!\n",
    "#\n",
    "#Then, print the types of each of the four variables\n",
    "#in order: first the integer, then the decimal\n",
    "#number, then the string, then the boolean. This\n",
    "#should print text like <class 'int'>, <class\n",
    "#'float'>, and so on.\n",
    "#\n",
    "#Don't print anything except their types!\n",
    "\n",
    "\n",
    "#Create your variables here!\n",
    "my_integer = 1\n",
    "my_decimal = 1.1\n",
    "my_string = \"1\"\n",
    "my_boolean = True\n",
    "\n",
    "#Print their types here!\n",
    "print(type(my_integer))\n",
    "print(type(my_decimal))\n",
    "print(type(my_string))\n",
    "print(type(my_boolean))"
   ]
  },
  {
   "cell_type": "code",
   "execution_count": 26,
   "metadata": {},
   "outputs": [
    {
     "name": "stdout",
     "output_type": "stream",
     "text": [
      "The most pancakes Bob has eaten at one time is 7\n"
     ]
    }
   ],
   "source": [
    "num_pancakes = 7\n",
    "\n",
    "#You may modify the lines of code above, but don't move them!\n",
    "#When you Submit your code, we'll change these lines to\n",
    "#assign different values to the variables.\n",
    "#\n",
    "#Write a line of code below that will print the following\n",
    "#message:\n",
    "#\n",
    "#The most pancakes Bob has eaten at one time is 7\n",
    "#\n",
    "#The number in the sentence should always be the value of\n",
    "#num_pancakes.\n",
    "#\n",
    "#However, you may _not_ use the + operator. You must put\n",
    "#together the output in a different way.\n",
    "#\n",
    "#Add your code below!\n",
    "print(f'The most pancakes Bob has eaten at one time is {num_pancakes}')"
   ]
  },
  {
   "cell_type": "code",
   "execution_count": 28,
   "metadata": {},
   "outputs": [
    {
     "name": "stdout",
     "output_type": "stream",
     "text": [
      "Thank you for coming to Junior's. Your total is $2.51.\n"
     ]
    }
   ],
   "source": [
    "total = 2.51\n",
    "\n",
    "#You may modify the lines of code above, but don't move them!\n",
    "#When you Submit your code, we'll change these lines to\n",
    "#assign different values to the variables.\n",
    "\n",
    "#The code below attempts to print the message:\n",
    "#\n",
    "#Thank you for coming to Junior's. Your total is $2.51.\n",
    "#\n",
    "#Right now, however, the code is broken because the variable\n",
    "#total must be converted to a string before printing.\n",
    "#\n",
    "#Fix the code below! You may fix it however you want.\n",
    "\n",
    "print(\"Thank you for coming to Junior's. Your total is $\" + str(total) + \".\")"
   ]
  },
  {
   "cell_type": "code",
   "execution_count": 32,
   "metadata": {},
   "outputs": [
    {
     "name": "stdout",
     "output_type": "stream",
     "text": [
      "<class 'str'>\n",
      "<class 'int'>\n",
      "<class 'bool'>\n",
      "<class 'float'>\n"
     ]
    }
   ],
   "source": [
    "#Modify the code below so that the output matches the following:\n",
    "#\n",
    "#<class 'str'>\n",
    "#<class 'int'>\n",
    "#<class 'bool'>\n",
    "#<class 'float'>\n",
    "#\n",
    "#Don't write any new lines. Just rearrange the existing lines so\n",
    "#that the output matches the above.\n",
    "\n",
    "print(type(\"Hello!\"))\n",
    "print(type(5))\n",
    "print(type(True))\n",
    "print(type(5.1))"
   ]
  },
  {
   "cell_type": "code",
   "execution_count": 34,
   "metadata": {},
   "outputs": [
    {
     "name": "stdout",
     "output_type": "stream",
     "text": [
      "The current value of my_int is: 7\n"
     ]
    }
   ],
   "source": [
    "#The code below creates a variable named my_int and\n",
    "#assigns to it a random number from 0 to 10. You\n",
    "#don't need to worry about how this works; all you\n",
    "#need to know is that my_int will have an integer\n",
    "#as its value once this code is done.\n",
    "\n",
    "import random\n",
    "my_int = random.randint(0, 10)\n",
    "\n",
    "#Do not edit the code above!\n",
    "#\n",
    "#The line below attempts to print the value of\n",
    "#my_int, but currently it does not work. Fix\n",
    "#this code so that it works and prints \"The\n",
    "#current value of my_int is:\", followed by the\n",
    "#value.\n",
    "#\n",
    "#If you get stuck, look back at the Converting to\n",
    "#Strings vide from Lesson 2.2.7.\n",
    "\n",
    "print(\"The current value of my_int is: \" + str(my_int))"
   ]
  },
  {
   "cell_type": "code",
   "execution_count": 35,
   "metadata": {},
   "outputs": [
    {
     "name": "stdout",
     "output_type": "stream",
     "text": [
      "My name is Elphaba and it is True that I flew across the western sky 5 times.\n"
     ]
    }
   ],
   "source": [
    "name = \"Elphaba\"\n",
    "verb = \"flew\"\n",
    "where = \"the western sky\"\n",
    "number = 5\n",
    "result = True\n",
    "\n",
    "#You may modify the lines of code above, but don't move them!\n",
    "#When you Submit your code, we'll change these lines to\n",
    "#assign different values to the variables.\n",
    "\n",
    "#Above we have created five variables: name, verb, and where\n",
    "#which are strings, number which is an integer, and result,\n",
    "#which is a boolean.\n",
    "#\n",
    "#Below, write some code that will take these variables and\n",
    "#print out the sentence below with the values of the variables\n",
    "#filling in the corresponding spots in the sentence as\n",
    "#indicated by the variable name in brackets.\n",
    "\n",
    "#My name is [name] and it is [result] that I [verb] across [where] [number] times.\n",
    "#\n",
    "#Make sure to watch out for the data types of the values of\n",
    "#each of these variables, and make sure you have the right\n",
    "#number of spaces between each part!\n",
    "#\n",
    "#\n",
    "#Add your code below:\n",
    "print(f'My name is {name} and it is {result} that I {verb} across {where} {number} times.')\n"
   ]
  },
  {
   "cell_type": "code",
   "execution_count": 37,
   "metadata": {},
   "outputs": [
    {
     "name": "stdout",
     "output_type": "stream",
     "text": [
      "168\n"
     ]
    }
   ],
   "source": [
    "ones = 8\n",
    "tens = 6\n",
    "hundreds = 1\n",
    "\n",
    "#You may modify the lines of code above, but don't move them!\n",
    "#When you Submit your code, we'll change these lines to\n",
    "#assign different values to the variables.\n",
    "#\n",
    "#Imagine you want to find the integer represented by the\n",
    "#variables ones, tens, and hundreds above. For their initial\n",
    "#values, then, this would be 168.\n",
    "#\n",
    "#Below is some code that attempts to compute and print that\n",
    "#value, but at present it isn't working. Fix it so that it\n",
    "#works correctly.\n",
    "#\n",
    "#Fix the code below!\n",
    "\n",
    "result = str(hundreds) + str(tens) + str(ones)\n",
    "print(result)\n"
   ]
  },
  {
   "cell_type": "code",
   "execution_count": 40,
   "metadata": {},
   "outputs": [
    {
     "name": "stdout",
     "output_type": "stream",
     "text": [
      "24\n",
      "25\n",
      "There are 1 days between 2017-06-24 and 2017-06-25\n"
     ]
    }
   ],
   "source": [
    "#In the code below, we've created two dates. The day in each\n",
    "#date is chosen randomly. You don't need to worry about how\n",
    "#this works; all you need to know is that when you start\n",
    "#writing your code, you'll have access to two variables, each\n",
    "#holding a date: earlier_date and later_date, and later_date\n",
    "#is guaranteed to be later than earlier_date.\n",
    "#\n",
    "#Complete this code so that it creates a variable called\n",
    "#days_between that stores the number of days between the two\n",
    "#dates.\n",
    "#\n",
    "#Hint: You can find the number of days between two dates by\n",
    "#subtracting the day number of the earlier date from the\n",
    "#day number of the later date.\n",
    "\n",
    "from datetime import date\n",
    "import random\n",
    "earlier_date = date(2017, 6, random.randint(1, 25))\n",
    "later_date = date(2017, 6, random.randint(earlier_date.day + 1, 28))\n",
    "\n",
    "#Do not modify the code above!\n",
    "\n",
    "\n",
    "#Write your code here!\n",
    "\n",
    "\n",
    "#If your code is working correctly, then the following line\n",
    "#of code will print the correct number of dayes between the\n",
    "#two dates. Notice that this line uses commas instead of plus\n",
    "#signs, which is why it doesn't have to convert the dates to\n",
    "#strings: Python does that implicitly when we use this syntax.\n",
    "\n",
    "print(earlier_date.day)\n",
    "print(later_date.day)\n",
    "\n",
    "days_between = later_date.day - earlier_date.day\n",
    "print(\"There are\", days_between, \"days between\", earlier_date, \"and\", later_date)"
   ]
  },
  {
   "cell_type": "code",
   "execution_count": 42,
   "metadata": {},
   "outputs": [
    {
     "name": "stdout",
     "output_type": "stream",
     "text": [
      "my_int1: 1\n",
      "my_int2: 5\n",
      "my_int3: 9\n",
      "my_int1: 6\n",
      "my_int2: 15\n",
      "my_int3: 81\n"
     ]
    }
   ],
   "source": [
    "my_int1 = 1\n",
    "my_int2 = 5\n",
    "my_int3 = 9\n",
    "\n",
    "#You may modify the lines of code above, but don't move them!\n",
    "#When you Submit your code, we'll change these lines to\n",
    "#assign different values to the variables.\n",
    "#\n",
    "#The code above creates three variables: my_int1, my_int2,\n",
    "#and my_int3. Each will always be an integer\n",
    "#\n",
    "#Now, add three lines of code that will print the values\n",
    "#of those three variables with \"my_int1:\", \"my_int2:\", and\n",
    "#\"my_int3:\" labeling the output. So, if the variables' values\n",
    "#were 1, 5, and 9, your lines would print:\n",
    "#\n",
    "#my_int1: 1\n",
    "#my_int2: 5\n",
    "#my_int3: 9\n",
    "\n",
    "\n",
    "#Add your lines of code here!\n",
    "print('my_int1:', my_int1)\n",
    "print('my_int2:', my_int2)\n",
    "print('my_int3:', my_int3)\n",
    "\n",
    "\n",
    "#Next, these lines of code will modify the values of those\n",
    "#three variables. You don't need to worry about how these\n",
    "#work. We'll talk about it in the next couple chapters.\n",
    "\n",
    "my_int1 += 5\n",
    "my_int2 *= 3\n",
    "my_int3 **= 2\n",
    "\n",
    "#Now, copy and paste the same lines from above into the lines\n",
    "#below. This way, your output will show you the new values of\n",
    "#these variables.\n",
    "\n",
    "\n",
    "#Add your lines of code here!\n",
    "print('my_int1:', my_int1)\n",
    "print('my_int2:', my_int2)\n",
    "print('my_int3:', my_int3)\n",
    "\n",
    "\n",
    "#If your code works correctly, then when run, it should print:\n",
    "#my_int1: 1\n",
    "#my_int2: 5\n",
    "#my_int3: 9\n",
    "#my_int1: 6\n",
    "#my_int2: 15\n",
    "#my_int3: 81\n",
    "#\n",
    "#This should be the output when Running. When Submitting,\n",
    "#we'll test your code with other values of these three\n",
    "#variables.\n",
    "\n"
   ]
  },
  {
   "cell_type": "code",
   "execution_count": 43,
   "metadata": {},
   "outputs": [
    {
     "name": "stdout",
     "output_type": "stream",
     "text": [
      "The value is Hello, world! and the type is <class 'str'>\n"
     ]
    }
   ],
   "source": [
    "my_variable = \"Hello, world!\"\n",
    "\n",
    "#You may modify the lines of code above, but don't move them!\n",
    "#When you Submit your code, we'll change these lines to\n",
    "#assign different values to the variables.\n",
    "#\n",
    "#The code above creates one variable. Right now, it's a\n",
    "#string, but we might change it to be an integer, a float, or\n",
    "#something else.\n",
    "#\n",
    "#Add a line of code below that will print the variable's value\n",
    "#and type in a sentence like this:\n",
    "#\n",
    "#The value is Hello, world! and the type is <class 'str'>\n",
    "\n",
    "\n",
    "#Add your lines of code here!\n",
    "print(f'The value is {my_variable} and the type is {type(my_variable)}')\n",
    "\n",
    "\n",
    "\n",
    "#When running your code, you should see the message on line\n",
    "#14 printed. When submitting, we'll test your code with other\n",
    "#values and types."
   ]
  },
  {
   "cell_type": "code",
   "execution_count": 1,
   "metadata": {},
   "outputs": [
    {
     "name": "stdout",
     "output_type": "stream",
     "text": [
      "Help on function read_todos in module __main__:\n",
      "\n",
      "read_todos()\n",
      "    Reads a text file and returns the exisiting todos from the file.\n",
      "\n",
      "None\n"
     ]
    }
   ],
   "source": [
    "def read_todos():\n",
    "    \"\"\"Reads a text file and returns the exisiting todos from the file.\"\"\"\n",
    "    with open(\"data/todos.txt\", \"r\") as file_local:\n",
    "        todos_local = file_local.readlines()\n",
    "\n",
    "    return todos_local\n",
    "\n",
    "print(help(read_todos))"
   ]
  },
  {
   "cell_type": "code",
   "execution_count": 11,
   "metadata": {},
   "outputs": [
    {
     "data": {
      "text/plain": [
       "39"
      ]
     },
     "execution_count": 11,
     "metadata": {},
     "output_type": "execute_result"
    }
   ],
   "source": [
    "from datetime import date\n",
    "\n",
    "def get_age(year_of_birth, current_year=date.today().year):\n",
    "    age = current_year - year_of_birth\n",
    "\n",
    "    return age\n",
    "\n",
    "get_age(1985)"
   ]
  },
  {
   "cell_type": "code",
   "execution_count": 15,
   "metadata": {},
   "outputs": [
    {
     "data": {
      "text/plain": [
       "3"
      ]
     },
     "execution_count": 15,
     "metadata": {},
     "output_type": "execute_result"
    }
   ],
   "source": [
    "def get_nr_items(my_str):\n",
    "    split_str = my_str.split(',')\n",
    "\n",
    "    return len(split_str)\n",
    "\n",
    "get_nr_items('one,two,three')"
   ]
  },
  {
   "cell_type": "code",
   "execution_count": 16,
   "metadata": {},
   "outputs": [
    {
     "data": {
      "text/plain": [
       "49"
      ]
     },
     "execution_count": 16,
     "metadata": {},
     "output_type": "execute_result"
    }
   ],
   "source": [
    "def area(num):\n",
    "    return num ** 2\n",
    "\n",
    "area(7)"
   ]
  },
  {
   "cell_type": "code",
   "execution_count": 18,
   "metadata": {},
   "outputs": [
    {
     "data": {
      "text/plain": [
       "'Cold'"
      ]
     },
     "execution_count": 18,
     "metadata": {},
     "output_type": "execute_result"
    }
   ],
   "source": [
    "def temp(temp):\n",
    "    message = None\n",
    "\n",
    "    if temp > 7:\n",
    "        message = 'Warm'\n",
    "    else:\n",
    "        message = 'Cold'\n",
    "    \n",
    "    return message\n",
    "\n",
    "temp(7)"
   ]
  },
  {
   "cell_type": "code",
   "execution_count": null,
   "metadata": {},
   "outputs": [],
   "source": [
    "def str_test(my_str):\n",
    "    if len(my_str) >= 8:\n",
    "        return True\n",
    "    else:\n",
    "        return False"
   ]
  },
  {
   "cell_type": "code",
   "execution_count": 1,
   "metadata": {},
   "outputs": [
    {
     "data": {
      "text/plain": [
       "False"
      ]
     },
     "execution_count": 1,
     "metadata": {},
     "output_type": "execute_result"
    }
   ],
   "source": [
    "my_fruits = ['apple', 'orange', 'banana']\n",
    "\n",
    "new_fruit = 'strawberry'\n",
    "\n",
    "new_fruit in my_fruits"
   ]
  },
  {
   "cell_type": "code",
   "execution_count": 54,
   "metadata": {},
   "outputs": [
    {
     "name": "stdout",
     "output_type": "stream",
     "text": [
      "Jacket: False\n",
      "Boots: False\n",
      "Flip-Flops: False\n",
      "T-shirt: False\n"
     ]
    }
   ],
   "source": [
    "hot = True\n",
    "cold = False\n",
    "rainy = True\n",
    "windy = False\n",
    "snowy = False\n",
    "\n",
    "#You may modify the lines of code above, but don't move them!\n",
    "#When you Submit your code, we'll change these lines to\n",
    "#assign different values to the variables.\n",
    "\n",
    "#Imagine you're writing a clothing-recommendation app that\n",
    "#makes suggestions based on the weather. It has booleans\n",
    "#representing five different kinds of weather: hot, cold,\n",
    "#rainy, windy, snowy.\n",
    "#\n",
    "#The app recommends four kinds of clothing:\n",
    "#\n",
    "# - a jacket, if it's either cold or windy.\n",
    "# - boots, if it's cold and snowy.\n",
    "# - flip flops, if it's hot, unless it's rainy.\n",
    "# - a t-shirt, if it's hot, unless it's rainy or windy.\n",
    "#\n",
    "#Write some code below that will print four lines, one for\n",
    "#each of the four types of clothing. Under the original\n",
    "#values for the variables above, the lines should look\n",
    "#like this:\n",
    "#\n",
    "#Jacket: False\n",
    "#Boots: False\n",
    "#Flip-Flops: False\n",
    "#T-shirt: False\n",
    "#\n",
    "#The values (True and False) will differ based on the\n",
    "#values assigned to hot, cold, windy, snowy, and rainy\n",
    "#at the start of the program.\n",
    "print(f'Jacket: {cold or windy}')\n",
    "print(f'Boots: {cold and snowy}')\n",
    "print(f'Flip-Flops: {hot and not rainy}')\n",
    "print(f'T-shirt: {hot and not (rainy or windy)}')"
   ]
  },
  {
   "cell_type": "code",
   "execution_count": 55,
   "metadata": {},
   "outputs": [
    {
     "name": "stdout",
     "output_type": "stream",
     "text": [
      "True\n"
     ]
    }
   ],
   "source": [
    "my_gpa = 3.6\n",
    "my_major = \"Computer Science\"\n",
    "my_interest = \"Software\"\n",
    "company_gpa_req = 3.5\n",
    "company_major_recruiting  = \"Computer Science\"\n",
    "company_interest = \"Software\"\n",
    "\n",
    "#You may modify the lines of code above, but don't move them!\n",
    "#When you Submit your code, we'll change these lines to\n",
    "#assign different values to the variables.\n",
    "\n",
    "#It's career fair season and you are in the middle of applying\n",
    "#to all of these different companies for a potential internship\n",
    "#next summer, but you plan on only applying to companies that\n",
    "#you are interested in and companies whose requirements you meet.\n",
    "#\n",
    "#You'll only apply to the company if your GPA either matches or\n",
    "#is greater than the company's required GPA. Even then you'll\n",
    "#only apply to them if the major they are recruiting is your\n",
    "#major. However if you are not the major they are recruiting,\n",
    "#you'll still apply to them if your interest matches the interest\n",
    "#the company is advertising.\n",
    "#\n",
    "#Write some lines of code using logical operators that will print\n",
    "#True if you do end up applying to the company or False if you\n",
    "#don't end up appplying to the company based on the requirements\n",
    "#described above. Use the variable names as listed in the top of\n",
    "#the problem description.\n",
    "#\n",
    "#If your code is working correctly, with the original values of\n",
    "#the variables defined above, your code should print out True.\n",
    "\n",
    "#Add your code below!\n",
    "print(my_gpa >= company_gpa_req and (my_major == company_major_recruiting or my_interest == company_interest))"
   ]
  },
  {
   "cell_type": "code",
   "execution_count": 59,
   "metadata": {},
   "outputs": [
    {
     "name": "stdout",
     "output_type": "stream",
     "text": [
      "True\n"
     ]
    }
   ],
   "source": [
    "test_percent = 10\n",
    "review_time = 2\n",
    "feel_prepared = True\n",
    "\n",
    "#You may modify the lines of code above, but don't move them!\n",
    "#When you Submit your code, we'll change these lines to\n",
    "#assign different values to the variables.\n",
    "\n",
    "#You've been studying for your test for a few hours and you're\n",
    "#trying to decide if you can go to bed or if you need to study\n",
    "#longer.\n",
    "#\n",
    "#To go to bed, you need to feel prepared. Even if you \"feel\"\n",
    "#prepared, you need to make sure you have prepared adequately:\n",
    "#that means reviewing for at least 2 hours (review_time), or\n",
    "#at least 4 hours if the test is worth 20 percent or more of\n",
    "#your grade.\n",
    "#\n",
    "#So, to go to bed, you must feel prepared (feel_prepared must\n",
    "#be True), and you must have reviewed for 2 or more hours\n",
    "#(review_time must be greater than or equal to 2). If the\n",
    "#test is worth 20% or more (test_percent is greater than\n",
    "#or equal to 20), you should have reviewed for 4 or more hours\n",
    "#(review_time greater than or equal to 4).\n",
    "#\n",
    "#Add your code below! It should print True if you can go to\n",
    "#bed, False if you cannot.\n",
    "\n",
    "if test_percent >= 20:\n",
    "    print(feel_prepared and review_time >= 4)\n",
    "else:\n",
    "    print(feel_prepared and review_time >= 2)"
   ]
  },
  {
   "cell_type": "code",
   "execution_count": 61,
   "metadata": {},
   "outputs": [
    {
     "name": "stdout",
     "output_type": "stream",
     "text": [
      "You should wear a jacket today!\n"
     ]
    }
   ],
   "source": [
    "cold = False\n",
    "windy = True\n",
    "\n",
    "#You may modify the lines of code above, but don't move them!\n",
    "#When you Submit your code, we'll change these lines to\n",
    "#assign different values to the variables.\n",
    "\n",
    "#In this problem, we want to print the message, \"You should\n",
    "#wear a jacket today!\" if it's cold or windy, or the message\n",
    "#\"You don't need a jacket today!\" if it's not.\n",
    "#\n",
    "#At the bottom of this file, we've added some code that\n",
    "#handles printing these two messages. For this code to work,\n",
    "#the variable need_jacket needs to exist. Its value should be\n",
    "#True (the boolean, not the string) if it's cold or windy,\n",
    "#False if it's neither cold nor windy.\n",
    "\n",
    "\n",
    "#Add your code to create the variable need_jacket with the\n",
    "#appropriate value here!\n",
    "need_jacket = cold or windy\n",
    "\n",
    "#Do not modify the code below. It will work if you have\n",
    "#correctly create the variable need_jacket with the\n",
    "#appropriate value.\n",
    "if need_jacket:\n",
    "    print(\"You should wear a jacket today!\")\n",
    "else:\n",
    "    print(\"You don't need a jacket today!\")"
   ]
  },
  {
   "cell_type": "code",
   "execution_count": 66,
   "metadata": {},
   "outputs": [
    {
     "name": "stdout",
     "output_type": "stream",
     "text": [
      "Happy: True\n",
      "Sad: True\n",
      "Confused: True\n",
      "Bored: False\n",
      "Anxious: True\n"
     ]
    }
   ],
   "source": [
    "busy = True\n",
    "hungry = False\n",
    "tired = True\n",
    "stressed = False\n",
    "\n",
    "#You may modify the lines of code above, but don't move them!\n",
    "#When you Submit your code, we'll change these lines to\n",
    "#assign different values to the variables.\n",
    "\n",
    "#Logical operators get more complex when we start using them\n",
    "#with the results of other logical operators. So, let's try\n",
    "#it out!\n",
    "#\n",
    "#Using the variables above, we want to assess whether the\n",
    "#person is happy, sad, bored, confused, or anxious.\n",
    "#\n",
    "# - The person is happy if they're busy but not stressed.\n",
    "# - The person is sad if they're either hungry or tired.\n",
    "# - The person is confused if they're both happy and sad.\n",
    "# - The person is bored if they're neither happy, sad,\n",
    "#   nor busy.\n",
    "# - The person is anxious if they're neither happy nor sad,\n",
    "#   but they are stressed.\n",
    "#\n",
    "#Add code below whose output will list whether each of these\n",
    "#emotions is true or false. For example, with the original\n",
    "#values of the variables above, this would print:\n",
    "#\n",
    "#Happy: True\n",
    "#Sad: True\n",
    "#Confused: True\n",
    "#Bored: False\n",
    "#Anxious: False\n",
    "\n",
    "\n",
    "#Add your code here!\n",
    "print(f'Happy: {busy and not stressed}')\n",
    "print(f'Sad: {hungry or tired}')\n",
    "print(f'Confused: {(busy and not stressed) and (hungry or tired)}')\n",
    "print(f'Bored: {not (busy or (busy and not stressed) or (hungry or tired))}')\n",
    "print(f'Anxious: {stressed and not (busy and not stressed) or (hungry or tired)}')"
   ]
  }
 ],
 "metadata": {
  "kernelspec": {
   "display_name": "base",
   "language": "python",
   "name": "python3"
  },
  "language_info": {
   "codemirror_mode": {
    "name": "ipython",
    "version": 3
   },
   "file_extension": ".py",
   "mimetype": "text/x-python",
   "name": "python",
   "nbconvert_exporter": "python",
   "pygments_lexer": "ipython3",
   "version": "3.11.5"
  }
 },
 "nbformat": 4,
 "nbformat_minor": 2
}
