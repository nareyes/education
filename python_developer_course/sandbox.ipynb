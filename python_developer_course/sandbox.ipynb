{
 "cells": [
  {
   "cell_type": "code",
   "execution_count": 1,
   "metadata": {},
   "outputs": [],
   "source": [
    "import requests as req\n",
    "\n",
    "api_key = '35c80c376c864f5db83ef5935f99551f'\n",
    "url = 'https://newsapi.org/v2/top-headlines?sources=techcrunch&apiKey=35c80c376c864f5db83ef5935f99551f'\n",
    "\n",
    "request = req.get(url)\n",
    "content = request.json()"
   ]
  },
  {
   "cell_type": "code",
   "execution_count": 2,
   "metadata": {},
   "outputs": [
    {
     "name": "stdout",
     "output_type": "stream",
     "text": [
      "Dev-focused note-taking startup Stashpad launches Google Docs alternative you can use without any login | TechCrunch\n",
      "Spotify adds music videos in some countries | TechCrunch\n",
      "Ontario Teachers mints new unicorn in Indian fintech Perfios | TechCrunch\n",
      "Pint-size pickup startup Telo Trucks finds unexpected niche in fleet customers | TechCrunch\n",
      "Bluesky launches Ozone, a tool that lets users create and run their own independent moderation services | TechCrunch\n",
      "Anti-AI sentiment gets big applause at SXSW 2024 as storytellers dub AI cheerleading as 'terrifying bullsh**' | TechCrunch\n",
      "Glacier is training AI-powered recycling robots | TechCrunch\n",
      "Remote driving startup Phantom Auto is shutting down | TechCrunch\n",
      "Luminary Cloud's simulator taps GPUs to help speed up product design | TechCrunch\n",
      "Kolet makes travel eSIM cards easier to navigate | TechCrunch\n"
     ]
    }
   ],
   "source": [
    "for article in content['articles']:\n",
    "    print(article['title'])"
   ]
  },
  {
   "cell_type": "code",
   "execution_count": 3,
   "metadata": {},
   "outputs": [
    {
     "name": "stdout",
     "output_type": "stream",
     "text": [
      "Stashpad, a developer-focused \"DM to yourself\" styled notebook app, is now pivoting to a docs app that you can use without logging in.\n",
      "Spotify is adding music videos to its mobile and desktop apps in some markets. Users can seamlessly switch between audio and music videos.\n",
      "Teachers’ Venture Growth, the late-stage venture and growth investment arm of Ontario Teachers’ Pension Plan, is investing $80 million in Perfios, an Teachers’ Venture Growth, an arm of Canada's Ontario Teachers’ Pension Plan, is investing $80 million in Perf…\n",
      "The young automotive company raised $5.4 million and added a Tesla co-founder to its board.\n",
      "Bluesky is open-sourcing Ozone, a tool that lets individuals and teams to collaboratively review and label content on the network.\n",
      "A whiff of anti-AI sentiment got big applause at the SXSW conference in Austin this afternoon. Award-winning writers and directors Daniel Kwan and Daniel\n",
      "This week, Glacier co-founder Rebecca Hu chats with Found about wish-cycling and robots.\n",
      "Phantom Auto, the remote driving startup, is shutting down after failing to raise more capital, TechCrunch has learned.\n",
      "Luminary Cloud, a simulator powered by clusters of cloud-hosted GPUs, aims to streamline the process of digitally testing physical product prototypes.\n",
      "Kolet is a new French startup that wants to make it easier to stay connected when you travel thanks to eSIM cards.\n"
     ]
    }
   ],
   "source": [
    "for article in content['articles']:\n",
    "    print(article['description'])"
   ]
  },
  {
   "cell_type": "code",
   "execution_count": 5,
   "metadata": {},
   "outputs": [
    {
     "name": "stdout",
     "output_type": "stream",
     "text": [
      "Dev-focused note-taking startup Stashpad launches Google Docs alternative you can use without any login | TechCrunch\n",
      "Stashpad, a developer-focused \"DM to yourself\" styled notebook app, is now pivoting to a docs app that you can use without logging in.\n",
      "\n",
      "Spotify adds music videos in some countries | TechCrunch\n",
      "Spotify is adding music videos to its mobile and desktop apps in some markets. Users can seamlessly switch between audio and music videos.\n",
      "\n",
      "Ontario Teachers mints new unicorn in Indian fintech Perfios | TechCrunch\n",
      "Teachers’ Venture Growth, the late-stage venture and growth investment arm of Ontario Teachers’ Pension Plan, is investing $80 million in Perfios, an Teachers’ Venture Growth, an arm of Canada's Ontario Teachers’ Pension Plan, is investing $80 million in Perf…\n",
      "\n",
      "Pint-size pickup startup Telo Trucks finds unexpected niche in fleet customers | TechCrunch\n",
      "The young automotive company raised $5.4 million and added a Tesla co-founder to its board.\n",
      "\n",
      "Bluesky launches Ozone, a tool that lets users create and run their own independent moderation services | TechCrunch\n",
      "Bluesky is open-sourcing Ozone, a tool that lets individuals and teams to collaboratively review and label content on the network.\n",
      "\n",
      "Anti-AI sentiment gets big applause at SXSW 2024 as storytellers dub AI cheerleading as 'terrifying bullsh**' | TechCrunch\n",
      "A whiff of anti-AI sentiment got big applause at the SXSW conference in Austin this afternoon. Award-winning writers and directors Daniel Kwan and Daniel\n",
      "\n",
      "Glacier is training AI-powered recycling robots | TechCrunch\n",
      "This week, Glacier co-founder Rebecca Hu chats with Found about wish-cycling and robots.\n",
      "\n",
      "Remote driving startup Phantom Auto is shutting down | TechCrunch\n",
      "Phantom Auto, the remote driving startup, is shutting down after failing to raise more capital, TechCrunch has learned.\n",
      "\n",
      "Luminary Cloud's simulator taps GPUs to help speed up product design | TechCrunch\n",
      "Luminary Cloud, a simulator powered by clusters of cloud-hosted GPUs, aims to streamline the process of digitally testing physical product prototypes.\n",
      "\n",
      "Kolet makes travel eSIM cards easier to navigate | TechCrunch\n",
      "Kolet is a new French startup that wants to make it easier to stay connected when you travel thanks to eSIM cards.\n",
      "\n",
      "\n"
     ]
    }
   ],
   "source": [
    "import requests as req\n",
    "# from send_email import send_email\n",
    "\n",
    "api_key = '35c80c376c864f5db83ef5935f99551f'\n",
    "url = 'https://newsapi.org/v2/top-headlines?sources=techcrunch&apiKey=35c80c376c864f5db83ef5935f99551f'\n",
    "\n",
    "# make request and store content\n",
    "request = req.get(url)\n",
    "content = request.json()\n",
    "\n",
    "# extract article titles and descriptions\n",
    "# for article in content['articles']:\n",
    "#     print(article['title'])\n",
    "#     print(article['description'])\n",
    "\n",
    "# extract article titles and descriptions and store in body variable\n",
    "body = \"\"\n",
    "for article in content[\"articles\"]:\n",
    "    if article[\"title\"] is not None:\n",
    "        body = body + str(article[\"title\"]) + \"\\n\" + str(article[\"description\"]) + 2*\"\\n\"\n",
    "\n",
    "# body = body.encode(\"utf-8\")\n",
    "print(body)"
   ]
  }
 ],
 "metadata": {
  "kernelspec": {
   "display_name": "base",
   "language": "python",
   "name": "python3"
  },
  "language_info": {
   "codemirror_mode": {
    "name": "ipython",
    "version": 3
   },
   "file_extension": ".py",
   "mimetype": "text/x-python",
   "name": "python",
   "nbconvert_exporter": "python",
   "pygments_lexer": "ipython3",
   "version": "3.11.5"
  }
 },
 "nbformat": 4,
 "nbformat_minor": 2
}
