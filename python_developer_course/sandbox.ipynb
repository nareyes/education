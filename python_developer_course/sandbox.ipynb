{
 "cells": [
  {
   "cell_type": "code",
   "execution_count": 34,
   "metadata": {},
   "outputs": [
    {
     "name": "stdout",
     "output_type": "stream",
     "text": [
      "['projects/todo_application/web.py', 'projects/todo_application/cli.py', 'projects/todo_application/module.py', 'projects/todo_application/gui.py']\n",
      "\n",
      "\n",
      "WEB.PY\n",
      "CLI.PY\n",
      "MODULE.PY\n",
      "GUI.PY\n"
     ]
    }
   ],
   "source": [
    "import glob\n",
    "\n",
    "my_files = glob.glob('projects/todo_application/*.py')\n",
    "print(my_files)\n",
    "print('\\n')\n",
    "\n",
    "for file in my_files:\n",
    "    print(file[26:].upper())"
   ]
  },
  {
   "cell_type": "code",
   "execution_count": 50,
   "metadata": {},
   "outputs": [
    {
     "name": "stdout",
     "output_type": "stream",
     "text": [
      "Lower Bound: 1\n",
      "Upper Bound: 100\n",
      "Random Number: 27\n"
     ]
    }
   ],
   "source": [
    "import random\n",
    "\n",
    "lower = int(input('Enter Lower Bound: '))\n",
    "upper = int(input('Enter Upper Bound: '))\n",
    "random_num = random.randint(lower, upper)\n",
    "\n",
    "print(f'Lower Bound: {lower}')\n",
    "print(f'Upper Bound: {upper}')\n",
    "print(f'Random Number: {random_num}')\n"
   ]
  },
  {
   "cell_type": "code",
   "execution_count": 8,
   "metadata": {},
   "outputs": [
    {
     "name": "stdout",
     "output_type": "stream",
     "text": [
      "Num1 is less than Num2.\n",
      "Num1 is less than Num3.\n",
      "Execution complete.\n"
     ]
    }
   ],
   "source": [
    "my_num_1 = 1\n",
    "my_num_2 = 2\n",
    "my_num_3 = 3\n",
    "\n",
    "if my_num_1 < my_num_2:\n",
    "    print('Num1 is less than Num2.')\n",
    "\n",
    "    if my_num_1 < my_num_3:\n",
    "        print('Num1 is less than Num3.')\n",
    "\n",
    "print('Execution complete.')"
   ]
  },
  {
   "cell_type": "code",
   "execution_count": 9,
   "metadata": {},
   "outputs": [
    {
     "name": "stdout",
     "output_type": "stream",
     "text": [
      "mystery_value is less than 0.\n",
      "Boo :(\n"
     ]
    }
   ],
   "source": [
    "mystery_value = -1\n",
    "\n",
    "#You may modify the lines of code above, but don't move them!\n",
    "#When you Submit your code, we'll change these lines to\n",
    "#assign different values to the variables.\n",
    "\n",
    "#Notice that when you run this code, you encounter an error.\n",
    "#Instead of this error, we want this code to print \"Boo :(\"\n",
    "#(without the quotes) if mystery_value is not greater than 0.\n",
    "#\n",
    "#Fix this error WITHOUT modifying the existing code. You can\n",
    "#fix this error by only adding some code before the existing\n",
    "#code below.\n",
    "\n",
    "\n",
    "#Make any changes or additions here!\n",
    "result = 'Boo :('\n",
    "\n",
    "#Don't change any of the code below!\n",
    "if mystery_value > 0:\n",
    "    print(\"mystery_value is greater than 0.\")\n",
    "    result = \"Yay!\"\n",
    "else:\n",
    "    print(\"mystery_value is less than 0.\")\n",
    "\n",
    "print(result)"
   ]
  }
 ],
 "metadata": {
  "kernelspec": {
   "display_name": "base",
   "language": "python",
   "name": "python3"
  },
  "language_info": {
   "codemirror_mode": {
    "name": "ipython",
    "version": 3
   },
   "file_extension": ".py",
   "mimetype": "text/x-python",
   "name": "python",
   "nbconvert_exporter": "python",
   "pygments_lexer": "ipython3",
   "version": "3.11.5"
  }
 },
 "nbformat": 4,
 "nbformat_minor": 2
}
