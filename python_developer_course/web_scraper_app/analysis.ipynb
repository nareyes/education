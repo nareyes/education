{
 "cells": [
  {
   "cell_type": "code",
   "execution_count": 1,
   "metadata": {},
   "outputs": [],
   "source": [
    "import sqlite3"
   ]
  },
  {
   "cell_type": "code",
   "execution_count": 3,
   "metadata": {},
   "outputs": [],
   "source": [
    "# establish connection and cursor\n",
    "connection = sqlite3.connect('data.db')\n",
    "cursor = connection.cursor()"
   ]
  },
  {
   "cell_type": "code",
   "execution_count": 5,
   "metadata": {},
   "outputs": [
    {
     "name": "stdout",
     "output_type": "stream",
     "text": [
      "[('Lions', 'Lion City', '2088.10.15'), ('Monkey', 'Monkey City', '2088.10.15')]\n"
     ]
    }
   ],
   "source": [
    "# query data\n",
    "cursor.execute(\"\"\"\n",
    "    select * from events where date = '2088.10.15'\n",
    "\"\"\")\n",
    "\n",
    "result = cursor.fetchall()\n",
    "print(result)"
   ]
  },
  {
   "cell_type": "code",
   "execution_count": 6,
   "metadata": {},
   "outputs": [],
   "source": [
    "# insert records\n",
    "new_rows = [('Cats', 'Cat City', '2088.10.17'), ('Hens', 'Hen City', '2088.10.17')]\n",
    "\n",
    "cursor.executemany(\"insert into events values(?,?,?)\", new_rows)\n",
    "connection.commit()"
   ]
  },
  {
   "cell_type": "code",
   "execution_count": 15,
   "metadata": {},
   "outputs": [
    {
     "name": "stdout",
     "output_type": "stream",
     "text": [
      "[('Lions', 'Lion City', '2088.10.15'), ('Monkey', 'Monkey City', '2088.10.15'), ('Cats', 'Cat City', '2088.10.17'), ('Hens', 'Hen City', '2088.10.17')]\n"
     ]
    }
   ],
   "source": [
    "# query data\n",
    "cursor.execute(\"\"\"\n",
    "    select * from events\n",
    "\"\"\")\n",
    "\n",
    "result = cursor.fetchall()\n",
    "print(result)"
   ]
  },
  {
   "cell_type": "code",
   "execution_count": 35,
   "metadata": {},
   "outputs": [],
   "source": [
    "# drop table\n",
    "cursor.execute(\"\"\"\n",
    "    drop table tour_events;\n",
    "\"\"\")\n",
    "connection.commit()\n",
    "\n",
    "# create table\n",
    "cursor.execute(\"\"\"\n",
    "    create table tour_events (\n",
    "        band text,\n",
    "        city text,\n",
    "        date text\n",
    "    );\n",
    "\"\"\")\n",
    "connection.commit()"
   ]
  },
  {
   "cell_type": "code",
   "execution_count": 37,
   "metadata": {},
   "outputs": [
    {
     "name": "stdout",
     "output_type": "stream",
     "text": [
      "[('Feng Suave', 'Minimalia City', '5.5.2089'), ('Lions of the IDE', 'Clone City', '6.5.2088')]\n"
     ]
    }
   ],
   "source": [
    "# query data\n",
    "cursor.execute(\"\"\"\n",
    "    select * from tour_events\n",
    "\"\"\")\n",
    "\n",
    "result = cursor.fetchall()\n",
    "print(result)"
   ]
  }
 ],
 "metadata": {
  "kernelspec": {
   "display_name": "py_sandbox",
   "language": "python",
   "name": "python3"
  },
  "language_info": {
   "codemirror_mode": {
    "name": "ipython",
    "version": 3
   },
   "file_extension": ".py",
   "mimetype": "text/x-python",
   "name": "python",
   "nbconvert_exporter": "python",
   "pygments_lexer": "ipython3",
   "version": "3.11.5"
  }
 },
 "nbformat": 4,
 "nbformat_minor": 2
}
