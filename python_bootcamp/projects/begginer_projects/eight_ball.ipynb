{
 "cells": [
  {
   "cell_type": "code",
   "execution_count": 1,
   "metadata": {},
   "outputs": [],
   "source": [
    "# import libraries\n",
    "import random"
   ]
  },
  {
   "cell_type": "code",
   "execution_count": 2,
   "metadata": {},
   "outputs": [],
   "source": [
    "# definte function\n",
    "def eight_ball():\n",
    "\n",
    "    # declare varialbles\n",
    "    name = input(\"What is your name? \").lower()\n",
    "    question = input(\n",
    "        \"What is your question? Please provide a yes or no question: \").lower()\n",
    "    answer = []\n",
    "    random_number = random.randint(1, 9)\n",
    "\n",
    "    # control flow\n",
    "    if random_number == 1:\n",
    "        answer = \"Yes - definitely\"\n",
    "    elif random_number == 2:\n",
    "        answer = \"It is decidedly so.\"\n",
    "    elif random_number == 3:\n",
    "        answer = \"Without a doubt.\"\n",
    "    elif random_number == 4:\n",
    "        answer = \"Reply hazy, try again.\"\n",
    "    elif random_number == 5:\n",
    "        answer = \"Ask again later.\"\n",
    "    elif random_number == 6:\n",
    "        answer = \"Better not tell you now.\"\n",
    "    elif random_number == 7:\n",
    "        answer = \"My sources say no.\"\n",
    "    elif random_number == 8:\n",
    "        answer = \"Outlook not so good.\"\n",
    "    elif random_number == 9:\n",
    "        answer = \"Very doubtful.\"\n",
    "    else:\n",
    "        \"Error\"\n",
    "\n",
    "    print(f\"{name.title()} asks: {question.capitalize()}\")\n",
    "    print(f\"Magic 8-Ball's Answer: {answer}\")"
   ]
  },
  {
   "cell_type": "code",
   "execution_count": 5,
   "metadata": {},
   "outputs": [
    {
     "name": "stdout",
     "output_type": "stream",
     "text": [
      "Nick asks: Will i learn python?\n",
      "Magic 8-Ball's Answer: Outlook not so good.\n"
     ]
    }
   ],
   "source": [
    "# play game\n",
    "eight_ball()"
   ]
  }
 ],
 "metadata": {
  "kernelspec": {
   "display_name": "Python 3.9.12 ('ds_infinity')",
   "language": "python",
   "name": "python3"
  },
  "language_info": {
   "codemirror_mode": {
    "name": "ipython",
    "version": 3
   },
   "file_extension": ".py",
   "mimetype": "text/x-python",
   "name": "python",
   "nbconvert_exporter": "python",
   "pygments_lexer": "ipython3",
   "version": "3.9.12"
  },
  "orig_nbformat": 4,
  "vscode": {
   "interpreter": {
    "hash": "864fb72fa58be07f4055d468487424e4132a73f6ab835237ffcd5c869bf333aa"
   }
  }
 },
 "nbformat": 4,
 "nbformat_minor": 2
}
