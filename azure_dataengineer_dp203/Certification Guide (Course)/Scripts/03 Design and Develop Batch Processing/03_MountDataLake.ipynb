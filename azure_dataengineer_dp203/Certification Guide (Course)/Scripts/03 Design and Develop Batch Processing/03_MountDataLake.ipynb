{
 "cells": [
  {
   "attachments": {},
   "cell_type": "markdown",
   "metadata": {},
   "source": [
    "# Configure and Mount ADLS Container"
   ]
  },
  {
   "cell_type": "code",
   "execution_count": null,
   "metadata": {},
   "outputs": [],
   "source": [
    "%%scala\n",
    "\n",
    "# config using service principal\n",
    "val configs = Map(\n",
    "    \"fs.azure.account.auth.type\" -> \"OAuth\",\n",
    "    \"fs.azure.account.oauth.provider.type\" -> \"org.apache.hadoop.fs.azurebfs.oauth2.ClientCredsTokenProvider\",\n",
    "    \"fs.azure.account.oauth2.client.id\" -> \"<application-id>\",\n",
    "    \"fs.azure.account.oauth2.client.secret\" -> \"<key-name-for-service-credential>\"),\n",
    "    \"fs.azure.account.oauth2.client.endpoint\" -> \"https://login.microsoftonline.com/<directory-id>/oauth2/token\"\n",
    ")\n",
    "\n",
    "# mount container\n",
    "dbutils.fs.mount(\n",
    "  source = \"abfss://taxi@dp203azdatalakestorage.dfs.core.windows.net/\",\n",
    "  mountPoint = \"/mnt/DataLakeGen2Storage\",\n",
    "  extraConfigs = configs\n",
    ")"
   ]
  },
  {
   "cell_type": "code",
   "execution_count": null,
   "metadata": {},
   "outputs": [],
   "source": [
    "%%scala\n",
    "\n",
    "# display container contents\n",
    "display(\n",
    "  dbutils.fs.ls(\"mnt/DatalakeGen2Storage/\")\n",
    ")"
   ]
  }
 ],
 "metadata": {
  "kernelspec": {
   "display_name": "Python 3",
   "language": "python",
   "name": "python3"
  },
  "language_info": {
   "name": "python",
   "version": "3.11.1 (tags/v3.11.1:a7a450f, Dec  6 2022, 19:58:39) [MSC v.1934 64 bit (AMD64)]"
  },
  "orig_nbformat": 4,
  "vscode": {
   "interpreter": {
    "hash": "23f3cc7d9d19420abd4167eba51edf353f01bd6b9008f647c253ea542aed8a5f"
   }
  }
 },
 "nbformat": 4,
 "nbformat_minor": 2
}
