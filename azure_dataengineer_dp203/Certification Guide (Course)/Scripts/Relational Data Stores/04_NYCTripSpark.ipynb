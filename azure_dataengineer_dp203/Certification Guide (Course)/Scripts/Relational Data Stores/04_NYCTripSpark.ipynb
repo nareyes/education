{
  "cells": [
    {
      "attachments": {},
      "cell_type": "markdown",
      "metadata": {},
      "source": [
        "# Load NYC Taxi Data into Spark Database"
      ]
    },
    {
      "cell_type": "code",
      "execution_count": null,
      "metadata": {},
      "outputs": [],
      "source": [
        "%%spark\n",
        "\n",
        "spark.sql(\"CREATE DATABASE IF NOT EXISTS NYCTaxi\")\n",
        "\n",
        "val df = spark.read.sqlanalytics(\"DP203SQLPOOL.dbo.Trip\") \n",
        "df.write.mode(\"overwrite\").saveAsTable(\"NYCTaxi.trip\")"
      ]
    },
    {
      "attachments": {},
      "cell_type": "markdown",
      "metadata": {},
      "source": [
        "# Analyze NYC Taxi Data Using Spark Notebook"
      ]
    },
    {
      "cell_type": "code",
      "execution_count": null,
      "metadata": {},
      "outputs": [],
      "source": [
        "%%pyspark\n",
        "\n",
        "df = spark.sql(\"SELECT * FROM NYCTaxi.Trip\")\n",
        "\n",
        "display(df)"
      ]
    },
    {
      "cell_type": "code",
      "execution_count": null,
      "metadata": {},
      "outputs": [],
      "source": [
        "%%pyspark\n",
        "\n",
        "df = spark.sql(\"\"\"\n",
        "    SELECT\n",
        "        PassengerCount\n",
        "        , SUM (TripDistanceMiles) AS SumTripDistance\n",
        "        , AVG (TripDistanceMiles) AS AvgTripDistance\n",
        "    FROM NYCTaxi.Trip\n",
        "    WHERE TripDistanceMiles > 0 AND PassengerCount > 0\n",
        "    ORDER BY PassengerCount ASC\n",
        "\"\"\")\n",
        "\n",
        "display(df) \n",
        "df.write.saveAsTable(\"NYCTaxi.PassengerCountStats\")"
      ]
    },
    {
      "attachments": {},
      "cell_type": "markdown",
      "metadata": {},
      "source": [
        "# Load Data from Spark Table to Dedicated SQL Pool Table"
      ]
    },
    {
      "cell_type": "code",
      "execution_count": null,
      "metadata": {},
      "outputs": [],
      "source": [
        "%%spark\n",
        "\n",
        "val df = spark.sql(\"SELECT * FROM NYCTaxi.PassengerCountStats\")\n",
        "df.write.sqlanalytics(\"DP203SQLPOOL.dbo.PassengerCountStats\", Constants.INTERNAL)"
      ]
    }
  ],
  "metadata": {
    "kernelspec": {
      "display_name": "Python 3",
      "language": "python",
      "name": "python3"
    },
    "language_info": {
      "name": "python",
      "version": "3.11.1 (tags/v3.11.1:a7a450f, Dec  6 2022, 19:58:39) [MSC v.1934 64 bit (AMD64)]"
    },
    "saveOutput": true,
    "vscode": {
      "interpreter": {
        "hash": "23f3cc7d9d19420abd4167eba51edf353f01bd6b9008f647c253ea542aed8a5f"
      }
    }
  },
  "nbformat": 4,
  "nbformat_minor": 2
}
