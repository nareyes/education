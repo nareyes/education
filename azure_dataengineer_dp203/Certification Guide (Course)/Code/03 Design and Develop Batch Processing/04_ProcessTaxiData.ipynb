{
 "cells": [
  {
   "attachments": {},
   "cell_type": "markdown",
   "metadata": {},
   "source": [
    "# Section 1: Exploration Operations"
   ]
  },
  {
   "cell_type": "code",
   "execution_count": null,
   "metadata": {},
   "outputs": [],
   "source": [
    "%%scala\n",
    "\n",
    "# display container contents\n",
    "display(dbutils.fs.ls(\"mnt/DatalakeGen2Storage/\"))"
   ]
  },
  {
   "cell_type": "code",
   "execution_count": null,
   "metadata": {},
   "outputs": [],
   "source": [
    "%%scala\n",
    "\n",
    "# display file sample\n",
    "dbutils.fs.head(\"mnt/DatalakeGen2Storage/YellowTaxiTripData.csv\")"
   ]
  },
  {
   "cell_type": "code",
   "execution_count": null,
   "metadata": {},
   "outputs": [],
   "source": [
    "%%scala\n",
    "\n",
    "# create and display taxi dataframe\n",
    "var yellowTaxiTripDataDF = spark\n",
    "    .read\n",
    "    .option(\"header\", \"true\")    \n",
    "    .csv(\"/mnt/DatalakeGen2Storage/YellowTaxiTripData.csv\")\n",
    "\n",
    "display(yellowTaxiTripDataDF)"
   ]
  },
  {
   "attachments": {},
   "cell_type": "markdown",
   "metadata": {},
   "source": [
    "# Section 2: Analyze Data"
   ]
  },
  {
   "cell_type": "code",
   "execution_count": null,
   "metadata": {},
   "outputs": [],
   "source": [
    "%%scala\n",
    "\n",
    "# display statistics on passenger_count and trip_distance\n",
    "display(\n",
    "    yellowTaxiTripDataDF.describe(\n",
    "        \"passenger_count\",                                     \n",
    "        \"trip_distance\"                                     \n",
    "    )\n",
    ")"
   ]
  },
  {
   "attachments": {},
   "cell_type": "markdown",
   "metadata": {},
   "source": [
    "# Section 3: Clean Data"
   ]
  },
  {
   "cell_type": "code",
   "execution_count": null,
   "metadata": {},
   "outputs": [],
   "source": [
    "%%scala\n",
    "\n",
    "# display the count before filtering\n",
    "println(\n",
    "    \"Before Filter: \" + yellowTaxiTripDataDF.count()\n",
    ")\n",
    "\n",
    "# filter inaccurate data\n",
    "yellowTaxiTripDataDF = yellowTaxiTripDataDF\n",
    "    .where(\"passenger_count > 0\")\n",
    "    .filter($\"trip_distance\" > 0.0)\n",
    "\n",
    "# display the count after filtering\n",
    "println(\n",
    "    \"After Filter: \" + yellowTaxiTripDataDF.count()\n",
    ")"
   ]
  },
  {
   "cell_type": "code",
   "execution_count": null,
   "metadata": {},
   "outputs": [],
   "source": [
    "%%scala\n",
    "\n",
    "# display the count before filtering\n",
    "println(\n",
    "    \"Before Filter: \" + yellowTaxiTripDataDF.count()\n",
    ")\n",
    "\n",
    "# drop rows with nulls in PULocationID or DOLocationID\n",
    "yellowTaxiTripDataDF = yellowTaxiTripDataDF\n",
    "  .na.drop(\n",
    "    Seq(\"PULocationID\", \"DOLocationID\")\n",
    "  )\n",
    "\n",
    "# display the count after filtering\n",
    "println(\n",
    "    \"After Filter: \" + yellowTaxiTripDataDF.count()\n",
    ")"
   ]
  },
  {
   "attachments": {},
   "cell_type": "markdown",
   "metadata": {},
   "source": [
    "# Section 4: Transform Data"
   ]
  },
  {
   "cell_type": "code",
   "execution_count": null,
   "metadata": {},
   "outputs": [],
   "source": [
    "%%scala\n",
    "\n",
    "# rename the columns\n",
    "yellowTaxiTripDataDF = yellowTaxiTripDataDF                                                \n",
    "    .withColumnRenamed(\"PUlocationID\", \"PickupLocationId\")\n",
    "    .withColumnRenamed(\"DOlocationID\", \"DropLocationId\")       \n",
    "\n",
    "# print schema\n",
    "yellowTaxiTripDataDF.printSchema"
   ]
  },
  {
   "attachments": {},
   "cell_type": "markdown",
   "metadata": {},
   "source": [
    "# Section 5: Load Data"
   ]
  },
  {
   "cell_type": "code",
   "execution_count": null,
   "metadata": {},
   "outputs": [],
   "source": [
    "%%scala\n",
    "\n",
    "# load the dataframe as CSV to data lake\n",
    "yellowTaxiTripDataDF  \n",
    "    .write\n",
    "    .option(\"header\", \"true\")\n",
    "    .option(\"dateFormat\", \"yyyy-MM-dd HH:mm:ss.S\")\n",
    "    .mode(SaveMode.Overwrite)\n",
    "    .csv(\"/mnt/DatalakeGen2Storage/ProcessedTaxiData/YellowTaxiData.csv\")"
   ]
  },
  {
   "cell_type": "code",
   "execution_count": null,
   "metadata": {},
   "outputs": [],
   "source": [
    "%%scala\n",
    "\n",
    "# load the dataframe as parquet to data lake\n",
    "yellowTaxiTripDataDF  \n",
    "    .write\n",
    "    .option(\"header\", \"true\")\n",
    "    .option(\"dateFormat\", \"yyyy-MM-dd HH:mm:ss.S\")\n",
    "    .mode(SaveMode.Overwrite)\n",
    "    .parquet(\"/mnt/DatalakeGen2Storage/ProcessedTaxiData/YellowTaxiData.parquet\")"
   ]
  }
 ],
 "metadata": {
  "kernelspec": {
   "display_name": "Python 3",
   "language": "python",
   "name": "python3"
  },
  "language_info": {
   "name": "python",
   "version": "3.11.1 (tags/v3.11.1:a7a450f, Dec  6 2022, 19:58:39) [MSC v.1934 64 bit (AMD64)]"
  },
  "orig_nbformat": 4,
  "vscode": {
   "interpreter": {
    "hash": "23f3cc7d9d19420abd4167eba51edf353f01bd6b9008f647c253ea542aed8a5f"
   }
  }
 },
 "nbformat": 4,
 "nbformat_minor": 2
}
