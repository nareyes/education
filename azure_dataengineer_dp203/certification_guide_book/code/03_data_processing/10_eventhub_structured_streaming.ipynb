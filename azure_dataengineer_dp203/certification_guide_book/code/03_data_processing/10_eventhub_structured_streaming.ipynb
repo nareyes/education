{
    "metadata": {
        "kernelspec": {
            "name": "SQL",
            "display_name": "SQL",
            "language": "sql"
        },
        "language_info": {
            "name": "sql",
            "version": ""
        },
        "application/vnd.databricks.v1+notebook": {
            "dashboards": [],
            "language": "python",
            "notebookMetadata": {
                "pythonIndentUnit": 4
            },
            "notebookName": "EventHub-C10",
            "notebookOrigID": 2621222552226268,
            "widgets": {}
        }
    },
    "nbformat_minor": 2,
    "nbformat": 4,
    "cells": [
        {
            "cell_type": "markdown",
            "source": [
                "Use the following Azure Databricks storage setup block only if you are using Azure Databricks. You can refer to the instructions here to get started:\n",
                "https://docs.microsoft.com/en-us/azure/databricks/data/data-sources/azure/adls-gen2/azure-datalake-gen2-sp-access\n",
                "\n",
                "If you are using Synapse Spark and if your data is residing on the storage attached to the Synapse Spark workspace, you can skip the below storage setup section."
            ],
            "metadata": {
                "application/vnd.databricks.v1+cell": {
                    "inputWidgets": {},
                    "nuid": "2dd5e97c-10e9-4b4a-a9e9-c7e7839876b3",
                    "showTitle": false,
                    "title": ""
                },
                "azdata_cell_guid": "b1e40178-de2d-44e6-b1d7-c9823bc4799a"
            }
        },
        {
            "cell_type": "code",
            "source": [
                "%scala\n",
                "val storageAccountName = \"<INSERT STORAGE ACCOUNT>\"\n",
                "val fileSystemName = \"<INSERT CONTAINER NAME>\"\n",
                "\n",
                "val commonPath = \"abfss://\" + fileSystemName  + \"@\" + storageAccountName + \".dfs.core.windows.net\"\n",
                "\n",
                "# AAD Application Details\n",
                "val appID = \"<INSERT APP ID>\"\n",
                "val secret = \"<INSERT SECRET>\"\n",
                "val tenantID = \"<INSERT TENANT ID>\"\n",
                "\n",
                "spark.conf.set(\"fs.azure.account.auth.type.\" + storageAccountName + \".dfs.core.windows.net\", \"OAuth\")\n",
                "spark.conf.set(\"fs.azure.account.oauth.provider.type.\" + storageAccountName + \".dfs.core.windows.net\", \"org.apache.hadoop.fs.azurebfs.oauth2.ClientCredsTokenProvider\")\n",
                "spark.conf.set(\"fs.azure.account.oauth2.client.id.\" + storageAccountName + \".dfs.core.windows.net\", \"\" + appID + \"\")\n",
                "spark.conf.set(\"fs.azure.account.oauth2.client.secret.\" + storageAccountName + \".dfs.core.windows.net\", \"\" + secret + \"\")\n",
                "spark.conf.set(\"fs.azure.account.oauth2.client.endpoint.\" + storageAccountName + \".dfs.core.windows.net\", \"https://login.microsoftonline.com/\" + tenantID + \"/oauth2/token\")\n",
                "spark.conf.set(\"fs.azure.createRemoteFileSystemDuringInitialization\", \"true\")\n",
                "dbutils.fs.ls(\"abfss://\" + fileSystemName  + \"@\" + storageAccountName + \".dfs.core.windows.net/\")\n",
                "spark.conf.set(\"fs.azure.createRemoteFileSystemDuringInitialization\", \"false\")"
            ],
            "metadata": {
                "application/vnd.databricks.v1+cell": {
                    "inputWidgets": {},
                    "nuid": "2b8d08f4-fd94-4f7a-8637-d985ac5f8ac0",
                    "showTitle": false,
                    "title": ""
                },
                "azdata_cell_guid": "996de56c-6e52-43ce-a179-d26cbf1b1629",
                "language": "sql"
            },
            "outputs": [],
            "execution_count": null
        },
        {
            "cell_type": "markdown",
            "source": [
                "Install the Event Hub library in the spark cluster before proceeding to the next step.\n",
                "Spark Event Hubs connector - com.microsoft.azure:azure-eventhubs-spark_2.12:2.3.21 for Spark 3.x"
            ],
            "metadata": {
                "application/vnd.databricks.v1+cell": {
                    "inputWidgets": {},
                    "nuid": "993265cf-c577-4669-9584-708cacb50c38",
                    "showTitle": false,
                    "title": ""
                },
                "azdata_cell_guid": "b20549ad-69ea-4ffb-be2a-63d09301dba3"
            }
        },
        {
            "cell_type": "code",
            "source": [
                "from pyspark.sql.functions import *\n",
                "from pyspark.sql.types import *\n",
                "\n",
                "# connection string of Event Hubs Namespace\n",
                "EHConnectionString = \"<INSERT EVENT HUB CONN STR>\"\n",
                "\n",
                "EHConfig = {}\n",
                "EHConfig['eventhubs.connectionString'] = sc._jvm.org.apache.spark.eventhubs.EventHubsUtils.encrypt(EHConnectionString)\n",
                "\n",
                "EHStreamDF = spark.readStream.format(\"eventhubs\").options(**EHConfig).load()"
            ],
            "metadata": {
                "application/vnd.databricks.v1+cell": {
                    "inputWidgets": {},
                    "nuid": "02b15aed-f166-4b4c-90cb-37c8013a305b",
                    "showTitle": false,
                    "title": ""
                },
                "azdata_cell_guid": "efad1a26-58ef-4f51-9d10-d55094bf586f",
                "language": "sql"
            },
            "outputs": [
                {
                    "output_type": "display_data",
                    "data": {
                        "text/html": "<style scoped>\n  .ansiout {\n    display: block;\n    unicode-bidi: embed;\n    white-space: pre-wrap;\n    word-wrap: break-word;\n    word-break: break-all;\n    font-family: \"Source Code Pro\", \"Menlo\", monospace;;\n    font-size: 13px;\n    color: #555;\n    margin-left: 4px;\n    line-height: 19px;\n  }\n</style>\n<div class=\"ansiout\"></div>"
                    },
                    "metadata": {
                        "application/vnd.databricks.v1+output": {
                            "addedWidgets": {},
                            "arguments": {},
                            "data": "<div class=\"ansiout\"></div>",
                            "datasetInfos": [],
                            "metadata": {},
                            "removedWidgets": [],
                            "type": "html"
                        }
                    }
                }
            ],
            "execution_count": null
        },
        {
            "cell_type": "code",
            "source": [
                "print( EHStreamDF.isStreaming)\n",
                "print( EHStreamDF.printSchema())"
            ],
            "metadata": {
                "application/vnd.databricks.v1+cell": {
                    "inputWidgets": {},
                    "nuid": "ab86425b-05f7-47ba-b4ab-bdd731b40299",
                    "showTitle": false,
                    "title": ""
                },
                "azdata_cell_guid": "6f887cd5-9301-4e15-9a0e-90c1d1f0381d",
                "language": "sql"
            },
            "outputs": [],
            "execution_count": null
        },
        {
            "cell_type": "code",
            "source": [
                "JsonSchema = StructType() \\\n",
                ".add(\"tripId\", StringType()) \\\n",
                ".add(\"createdAt\", TimestampType()) \\\n",
                ".add(\"startLocation\", StringType()) \\\n",
                ".add(\"endLocation\", StringType()) \\\n",
                ".add(\"distance\", IntegerType()) \\\n",
                ".add(\"fare\", IntegerType())"
            ],
            "metadata": {
                "application/vnd.databricks.v1+cell": {
                    "inputWidgets": {},
                    "nuid": "0e1f2051-8afe-448d-bfc0-3b20b879ef2e",
                    "showTitle": false,
                    "title": ""
                },
                "azdata_cell_guid": "5df8c171-3481-4dde-9338-3763d08593f3",
                "language": "sql"
            },
            "outputs": [
                {
                    "output_type": "display_data",
                    "data": {
                        "text/html": "<style scoped>\n  .ansiout {\n    display: block;\n    unicode-bidi: embed;\n    white-space: pre-wrap;\n    word-wrap: break-word;\n    word-break: break-all;\n    font-family: \"Source Code Pro\", \"Menlo\", monospace;;\n    font-size: 13px;\n    color: #555;\n    margin-left: 4px;\n    line-height: 19px;\n  }\n</style>\n<div class=\"ansiout\"></div>"
                    },
                    "metadata": {
                        "application/vnd.databricks.v1+output": {
                            "addedWidgets": {},
                            "arguments": {},
                            "data": "<div class=\"ansiout\"></div>",
                            "datasetInfos": [],
                            "metadata": {},
                            "removedWidgets": [],
                            "type": "html"
                        }
                    }
                }
            ],
            "execution_count": null
        },
        {
            "cell_type": "code",
            "source": [
                "stringDF=EHStreamDF.selectExpr(\"CAST(body AS STRING)\")"
            ],
            "metadata": {
                "application/vnd.databricks.v1+cell": {
                    "inputWidgets": {},
                    "nuid": "5b9b6198-9d5e-4e09-addb-4d13ddbaf9f6",
                    "showTitle": false,
                    "title": ""
                },
                "azdata_cell_guid": "00aae1b6-32df-46a2-83f5-9231d1bc8921",
                "language": "sql"
            },
            "outputs": [
                {
                    "output_type": "display_data",
                    "data": {
                        "text/html": "<style scoped>\n  .ansiout {\n    display: block;\n    unicode-bidi: embed;\n    white-space: pre-wrap;\n    word-wrap: break-word;\n    word-break: break-all;\n    font-family: \"Source Code Pro\", \"Menlo\", monospace;;\n    font-size: 13px;\n    color: #555;\n    margin-left: 4px;\n    line-height: 19px;\n  }\n</style>\n<div class=\"ansiout\"></div>"
                    },
                    "metadata": {
                        "application/vnd.databricks.v1+output": {
                            "addedWidgets": {},
                            "arguments": {},
                            "data": "<div class=\"ansiout\"></div>",
                            "datasetInfos": [],
                            "metadata": {},
                            "removedWidgets": [],
                            "type": "html"
                        }
                    }
                }
            ],
            "execution_count": null
        },
        {
            "cell_type": "code",
            "source": [
                "jsonDF=stringDF.withColumn('tripjson', from_json(col('body'),schema=JsonSchema))"
            ],
            "metadata": {
                "application/vnd.databricks.v1+cell": {
                    "inputWidgets": {},
                    "nuid": "b06c7635-8ca6-452c-a1be-803103f37fd4",
                    "showTitle": false,
                    "title": ""
                },
                "azdata_cell_guid": "43b867d3-572d-42d3-91d7-c867beefa05a",
                "language": "sql"
            },
            "outputs": [
                {
                    "output_type": "display_data",
                    "data": {
                        "text/html": "<style scoped>\n  .ansiout {\n    display: block;\n    unicode-bidi: embed;\n    white-space: pre-wrap;\n    word-wrap: break-word;\n    word-break: break-all;\n    font-family: \"Source Code Pro\", \"Menlo\", monospace;;\n    font-size: 13px;\n    color: #555;\n    margin-left: 4px;\n    line-height: 19px;\n  }\n</style>\n<div class=\"ansiout\"></div>"
                    },
                    "metadata": {
                        "application/vnd.databricks.v1+output": {
                            "addedWidgets": {},
                            "arguments": {},
                            "data": "<div class=\"ansiout\"></div>",
                            "datasetInfos": [],
                            "metadata": {},
                            "removedWidgets": [],
                            "type": "html"
                        }
                    }
                }
            ],
            "execution_count": null
        },
        {
            "cell_type": "code",
            "source": [
                "EHStreamJsonDF=jsonDF.select(\"tripjson.*\")\n",
                "display(EHStreamJsonDF)"
            ],
            "metadata": {
                "application/vnd.databricks.v1+cell": {
                    "inputWidgets": {},
                    "nuid": "3f3d037e-3778-4f0e-8a4d-c41837044aea",
                    "showTitle": false,
                    "title": ""
                },
                "azdata_cell_guid": "435d7662-b31f-427e-b18e-ad4267f218d7",
                "language": "sql"
            },
            "outputs": [],
            "execution_count": null
        },
        {
            "cell_type": "code",
            "source": [
                "EHStreamJsonDF.selectExpr(\n",
                "                  \"tripId\"\\\n",
                "                  ,\"createdAt\"\\\n",
                "                  ,\"startLocation\"\\\n",
                "                  ,\"endLocation\"\\\n",
                "                  ,\"distance\"\\\n",
                "                  ,\"fare\")\\\n",
                ".writeStream.format(\"delta\")\\\n",
                ".outputMode(\"append\")\\\n",
                ".option(\"checkpointLocation\", \"dbfs:/tripsCheckpointLocation1/\")\\\n",
                ".option(\"mergeSchema\", \"true\")\\\n",
                ".start(\"dbfs:/TripsEventHubDelta1\")"
            ],
            "metadata": {
                "application/vnd.databricks.v1+cell": {
                    "inputWidgets": {},
                    "nuid": "24488233-9715-490b-8ef9-a62d5d7e8364",
                    "showTitle": false,
                    "title": ""
                },
                "azdata_cell_guid": "b13d6c56-60c8-4c29-b693-5b306b9031ca",
                "language": "sql"
            },
            "outputs": [],
            "execution_count": null
        },
        {
            "cell_type": "code",
            "source": [
                "EHStreamJsonDF.groupBy(window('createdAt',\"1 minutes\"),'startLocation').count().orderBy('window') \\\n",
                ".writeStream.format(\"delta\") \\\n",
                ".outputMode(\"complete\") \\\n",
                ".option(\"truncate\", \"false\") \\\n",
                ".option(\"checkpointLocation\", \"dbfs:/tripsCheckpointLocationTumbling2/\") \\\n",
                ".option(\"mergeSchema\", \"true\") \\\n",
                ".start(\"dbfs:/TripsEventHubDeltaTumbling2\") "
            ],
            "metadata": {
                "application/vnd.databricks.v1+cell": {
                    "inputWidgets": {},
                    "nuid": "aa07eb65-b2c7-4370-88be-cc41e0879d7d",
                    "showTitle": false,
                    "title": ""
                },
                "azdata_cell_guid": "566d4c8c-79c4-4401-90cb-59f28b496d7e",
                "language": "sql"
            },
            "outputs": [],
            "execution_count": null
        },
        {
            "cell_type": "code",
            "source": [
                "EHStreamJsonDF.groupBy(window('createdAt',\"1 minutes\"),'startLocation').count().orderBy('window')\\\n",
                ".writeStream.format(\"memory\") \\\n",
                ".outputMode(\"complete\") \\\n",
                ".option(\"truncate\", \"false\") \\\n",
                ".option(\"checkpointLocation\", \"dbfs:/tripsCheckpointLocation/\") \\\n",
                ".queryName(\"TripsTumblingQuery\").start() "
            ],
            "metadata": {
                "application/vnd.databricks.v1+cell": {
                    "inputWidgets": {},
                    "nuid": "772bf132-9a20-4ca5-9aa9-06250eb475f5",
                    "showTitle": false,
                    "title": ""
                },
                "azdata_cell_guid": "61860ebc-d9cd-4b75-8717-d1826f6cbf05",
                "language": "sql"
            },
            "outputs": [],
            "execution_count": null
        },
        {
            "cell_type": "code",
            "source": [
                "%sql\n",
                "SELECT * FROM TripsTumblingQuery ORDER BY Window desc"
            ],
            "metadata": {
                "application/vnd.databricks.v1+cell": {
                    "inputWidgets": {},
                    "nuid": "89ce537b-bc50-4bac-a0b5-e3570ee3a7be",
                    "showTitle": false,
                    "title": ""
                },
                "azdata_cell_guid": "58cc5beb-b6e9-4ed2-80b7-54148a06b7b0",
                "language": "sql"
            },
            "outputs": [],
            "execution_count": null
        },
        {
            "cell_type": "code",
            "source": [
                "%sql\n",
                "DROP TABLE IF EXISTS TripsAggTumbling;\n",
                "CREATE TABLE IF NOT EXISTS TripsAggTumbling\n",
                "USING DELTA\n",
                "LOCATION \"dbfs:/TripsEventHubDeltaTumbling2/\""
            ],
            "metadata": {
                "application/vnd.databricks.v1+cell": {
                    "inputWidgets": {},
                    "nuid": "77588e88-f9ba-492f-a057-86dd6eb5a950",
                    "showTitle": false,
                    "title": ""
                },
                "azdata_cell_guid": "27cf2d22-762c-4641-9bfb-6d83896ffbc9",
                "language": "sql"
            },
            "outputs": [
                {
                    "output_type": "display_data",
                    "data": {
                        "text/html": "<style scoped>\n  .table-result-container {\n    max-height: 300px;\n    overflow: auto;\n  }\n  table, th, td {\n    border: 1px solid black;\n    border-collapse: collapse;\n  }\n  th, td {\n    padding: 5px;\n  }\n  th {\n    text-align: left;\n  }\n</style><div class='table-result-container'><table class='table-result'><thead style='background-color: white'><tr></tr></thead><tbody></tbody></table></div>"
                    },
                    "metadata": {
                        "application/vnd.databricks.v1+output": {
                            "addedWidgets": {},
                            "aggData": [],
                            "aggError": "",
                            "aggOverflow": false,
                            "aggSchema": [],
                            "aggSeriesLimitReached": false,
                            "aggType": "",
                            "arguments": {},
                            "columnCustomDisplayInfos": {},
                            "data": [],
                            "datasetInfos": [],
                            "dbfsResultPath": null,
                            "isJsonSchema": true,
                            "metadata": {},
                            "overflow": false,
                            "plotOptions": {
                                "customPlotOptions": {},
                                "displayType": "table",
                                "pivotAggregation": null,
                                "pivotColumns": [],
                                "xColumns": [],
                                "yColumns": []
                            },
                            "removedWidgets": [],
                            "schema": [],
                            "type": "table"
                        }
                    }
                }
            ],
            "execution_count": null
        },
        {
            "cell_type": "code",
            "source": [
                "%sql\n",
                "SELECT * FROM TripsAggTumbling ORDER BY Window desc"
            ],
            "metadata": {
                "application/vnd.databricks.v1+cell": {
                    "inputWidgets": {},
                    "nuid": "3d156399-f46a-4aa3-8522-be24ed17e908",
                    "showTitle": false,
                    "title": ""
                },
                "azdata_cell_guid": "48795ad7-7dd8-4682-8320-0c1f8acf1937",
                "language": "sql"
            },
            "outputs": [],
            "execution_count": null
        },
        {
            "cell_type": "code",
            "source": [
                "for s in spark.streams.active:\n",
                "    s.stop()"
            ],
            "metadata": {
                "application/vnd.databricks.v1+cell": {
                    "inputWidgets": {},
                    "nuid": "d78e9c26-8886-418e-9ed5-ec3f11f45a7b",
                    "showTitle": false,
                    "title": ""
                },
                "azdata_cell_guid": "7ee2b01e-14d7-469c-a3ff-a8d9da0a62ac",
                "language": "sql"
            },
            "outputs": [
                {
                    "output_type": "display_data",
                    "data": {
                        "text/html": "<style scoped>\n  .ansiout {\n    display: block;\n    unicode-bidi: embed;\n    white-space: pre-wrap;\n    word-wrap: break-word;\n    word-break: break-all;\n    font-family: \"Source Code Pro\", \"Menlo\", monospace;;\n    font-size: 13px;\n    color: #555;\n    margin-left: 4px;\n    line-height: 19px;\n  }\n</style>\n<div class=\"ansiout\"></div>"
                    },
                    "metadata": {
                        "application/vnd.databricks.v1+output": {
                            "addedWidgets": {},
                            "arguments": {},
                            "data": "<div class=\"ansiout\"></div>",
                            "datasetInfos": [],
                            "metadata": {},
                            "removedWidgets": [],
                            "type": "html"
                        }
                    }
                }
            ],
            "execution_count": null
        },
        {
            "cell_type": "code",
            "source": [],
            "metadata": {
                "application/vnd.databricks.v1+cell": {
                    "inputWidgets": {},
                    "nuid": "fb2e8b5c-640e-468d-8a42-cf39e224718b",
                    "showTitle": false,
                    "title": ""
                },
                "azdata_cell_guid": "c3fc8063-3cd4-41ad-8fad-5bb4b5337c5d",
                "language": "sql"
            },
            "outputs": [],
            "execution_count": null
        }
    ]
}