{
    "metadata": {
        "kernelspec": {
            "name": "SQL",
            "display_name": "SQL",
            "language": "sql"
        },
        "language_info": {
            "name": "sql",
            "version": ""
        },
        "application/vnd.databricks.v1+notebook": {
            "dashboards": [],
            "language": "python",
            "notebookMetadata": {
                "pythonIndentUnit": 2
            },
            "notebookName": "SparkUDF-C14",
            "notebookOrigID": 188113580888596,
            "widgets": {}
        },
        "description": null,
        "save_output": true,
        "synapse_widget": {
            "state": {},
            "version": "0.1"
        }
    },
    "nbformat_minor": 2,
    "nbformat": 4,
    "cells": [
        {
            "cell_type": "code",
            "source": [
                "%scala\n",
                "// Simple UDF example\n",
                "\n",
                "import org.apache.spark.sql.functions.{col, udf}\n",
                "\n",
                "// Define the UDF\n",
                "val double = udf((s: Long) => 2 * s)\n",
                "\n",
                "// Use the UDF like regular functions\n",
                "display(spark.range(1, 20).select(double(col(\"id\")) as \"doubled\"))"
            ],
            "metadata": {
                "application/vnd.databricks.v1+cell": {
                    "inputWidgets": {},
                    "nuid": "f3a68d09-150b-435f-b71c-2fc9707f54ab",
                    "showTitle": false,
                    "title": ""
                },
                "azdata_cell_guid": "1fe95dea-7d48-493a-a1a4-d6170036c2eb",
                "language": "sql"
            },
            "outputs": [],
            "execution_count": null
        }
    ]
}