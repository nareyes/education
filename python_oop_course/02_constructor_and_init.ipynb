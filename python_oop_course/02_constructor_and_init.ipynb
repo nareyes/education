{
 "cells": [
  {
   "cell_type": "code",
   "execution_count": 1,
   "metadata": {},
   "outputs": [],
   "source": [
    "class Item:\n",
    "    def __init__(self, name, price, quantity):\n",
    "        self.name = name\n",
    "        self.price = price\n",
    "        self.quantity = quantity\n",
    "    \n",
    "    def calculate_total_price(self, x, y):\n",
    "        return x * y"
   ]
  },
  {
   "cell_type": "code",
   "execution_count": 2,
   "metadata": {},
   "outputs": [],
   "source": [
    "# create an instance of a class and assign attributes (example 1)\n",
    "item1 = Item(name = 'Phone', price = 100, quantity = 5)\n",
    "\n",
    "# create an instance of a class and assign attributes (example 2)\n",
    "item2 = Item(name = 'Laptop', price = 1000, quantity = 3)"
   ]
  },
  {
   "cell_type": "code",
   "execution_count": 3,
   "metadata": {},
   "outputs": [
    {
     "name": "stdout",
     "output_type": "stream",
     "text": [
      "Phone\n",
      "100\n",
      "5\n",
      "Laptop\n",
      "1000\n",
      "3\n"
     ]
    }
   ],
   "source": [
    "print(item1.name)\n",
    "print(item1.price)\n",
    "print(item1.quantity)\n",
    "\n",
    "print(item2.name)\n",
    "print(item2.price)\n",
    "print(item2.quantity)"
   ]
  }
 ],
 "metadata": {
  "kernelspec": {
   "display_name": "Python 3.9.13 ('base')",
   "language": "python",
   "name": "python3"
  },
  "language_info": {
   "codemirror_mode": {
    "name": "ipython",
    "version": 3
   },
   "file_extension": ".py",
   "mimetype": "text/x-python",
   "name": "python",
   "nbconvert_exporter": "python",
   "pygments_lexer": "ipython3",
   "version": "3.9.13"
  },
  "orig_nbformat": 4,
  "vscode": {
   "interpreter": {
    "hash": "1ba9a1c2f30cbcdec4a19ea5887407781700b95a8fe2ea473d326f76270bab2d"
   }
  }
 },
 "nbformat": 4,
 "nbformat_minor": 2
}
