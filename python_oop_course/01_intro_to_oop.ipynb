{
 "cells": [
  {
   "cell_type": "code",
   "execution_count": 1,
   "metadata": {},
   "outputs": [],
   "source": [
    "# create a basic class\n",
    "# functions inside classes are called methods\n",
    "class Item:\n",
    "    def calculate_total_price(self, x, y):\n",
    "        return x * y"
   ]
  },
  {
   "cell_type": "code",
   "execution_count": 2,
   "metadata": {},
   "outputs": [],
   "source": [
    "# create an instance of a class and assign attributes (example 1)\n",
    "item1 = Item()\n",
    "item1.name = 'Phone'\n",
    "item1.price = 100\n",
    "item1.quantity = 5"
   ]
  },
  {
   "cell_type": "code",
   "execution_count": 3,
   "metadata": {},
   "outputs": [],
   "source": [
    "# create an instance of a class and assign attributes (example 2)\n",
    "item2 = Item()\n",
    "item2.name = 'Laptop'\n",
    "item2.price = 1000\n",
    "item2.quantity = 3"
   ]
  },
  {
   "cell_type": "code",
   "execution_count": 4,
   "metadata": {},
   "outputs": [
    {
     "name": "stdout",
     "output_type": "stream",
     "text": [
      "500\n"
     ]
    }
   ],
   "source": [
    "# call method from instance of a class (example 1)\n",
    "item1_total = item1.calculate_total_price(item1.price, item1.quantity)\n",
    "print(item1_total)"
   ]
  },
  {
   "cell_type": "code",
   "execution_count": 5,
   "metadata": {},
   "outputs": [
    {
     "name": "stdout",
     "output_type": "stream",
     "text": [
      "3000\n"
     ]
    }
   ],
   "source": [
    "# call method from instance of a class (example 2)\n",
    "item2_total = item2.calculate_total_price(item2.price, item2.quantity)\n",
    "print(item2_total)"
   ]
  }
 ],
 "metadata": {
  "kernelspec": {
   "display_name": "Python 3.9.13 ('base')",
   "language": "python",
   "name": "python3"
  },
  "language_info": {
   "codemirror_mode": {
    "name": "ipython",
    "version": 3
   },
   "file_extension": ".py",
   "mimetype": "text/x-python",
   "name": "python",
   "nbconvert_exporter": "python",
   "pygments_lexer": "ipython3",
   "version": "3.9.13"
  },
  "orig_nbformat": 4,
  "vscode": {
   "interpreter": {
    "hash": "1ba9a1c2f30cbcdec4a19ea5887407781700b95a8fe2ea473d326f76270bab2d"
   }
  }
 },
 "nbformat": 4,
 "nbformat_minor": 2
}
