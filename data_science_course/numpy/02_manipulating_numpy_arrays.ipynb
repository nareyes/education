{
 "cells": [
  {
   "cell_type": "code",
   "execution_count": 2,
   "metadata": {},
   "outputs": [],
   "source": [
    "import numpy as np"
   ]
  },
  {
   "cell_type": "code",
   "execution_count": 4,
   "metadata": {},
   "outputs": [
    {
     "data": {
      "text/plain": [
       "array([0., 0., 0., 0., 0., 0., 0., 0., 0., 0.])"
      ]
     },
     "execution_count": 4,
     "metadata": {},
     "output_type": "execute_result"
    }
   ],
   "source": [
    "# create array and fill with zeros\n",
    "my_1d_array = np.zeros(10)\n",
    "my_1d_array"
   ]
  },
  {
   "cell_type": "code",
   "execution_count": 6,
   "metadata": {},
   "outputs": [
    {
     "data": {
      "text/plain": [
       "array([1., 0., 0., 0., 0., 0., 0., 0., 0., 0.])"
      ]
     },
     "execution_count": 6,
     "metadata": {},
     "output_type": "execute_result"
    }
   ],
   "source": [
    "# changing single value in a one dimensional array\n",
    "my_1d_array[0] = 1\n",
    "my_1d_array"
   ]
  },
  {
   "cell_type": "code",
   "execution_count": 10,
   "metadata": {},
   "outputs": [
    {
     "data": {
      "text/plain": [
       "array([1., 1., 1., 1., 1., 0., 0., 0., 0., 0.])"
      ]
     },
     "execution_count": 10,
     "metadata": {},
     "output_type": "execute_result"
    }
   ],
   "source": [
    "# changing multiple values in a one dimensional array\n",
    "my_1d_array[1:5] = 1\n",
    "my_1d_array"
   ]
  },
  {
   "cell_type": "code",
   "execution_count": 17,
   "metadata": {},
   "outputs": [
    {
     "name": "stdout",
     "output_type": "stream",
     "text": [
      "One Dimension: (array([0, 1, 2, 3, 4], dtype=int64),)\n",
      "Two Dimension: (array([0, 1, 1], dtype=int64), array([1, 1, 2], dtype=int64))\n"
     ]
    }
   ],
   "source": [
    "# searching for values in an array\n",
    "print(f\"One Dimension: {np.where(my_1d_array == 1)}\") # returns index locations were condition is True\n",
    "\n",
    "my_2d_array = np.array([[1, 5, 9], [8, 5, 5]])\n",
    "print(f\"Two Dimension: {np.where(my_2d_array == 5)}\")"
   ]
  },
  {
   "cell_type": "code",
   "execution_count": 20,
   "metadata": {},
   "outputs": [
    {
     "name": "stdout",
     "output_type": "stream",
     "text": [
      "< 5: (array([0, 1, 1], dtype=int64), array([1, 1, 2], dtype=int64))\n",
      ">= 5: (array([0, 0, 1, 1, 1], dtype=int64), array([1, 2, 0, 1, 2], dtype=int64))\n",
      "!= 5: (array([0, 0, 1], dtype=int64), array([0, 2, 0], dtype=int64))\n"
     ]
    }
   ],
   "source": [
    "# additional search operations\n",
    "print(f\"< 5: {np.where(my_2d_array == 5)}\")\n",
    "print(f\">= 5: {np.where(my_2d_array >= 5)}\")\n",
    "print(f\"!= 5: {np.where(my_2d_array != 5)}\")"
   ]
  },
  {
   "cell_type": "code",
   "execution_count": 22,
   "metadata": {},
   "outputs": [
    {
     "name": "stdout",
     "output_type": "stream",
     "text": [
      "[9 8]\n"
     ]
    }
   ],
   "source": [
    "# using a decalred variable that find values\n",
    "index = np.where(my_2d_array > 5)\n",
    "print(my_2d_array[index])"
   ]
  },
  {
   "cell_type": "code",
   "execution_count": 29,
   "metadata": {},
   "outputs": [
    {
     "name": "stdout",
     "output_type": "stream",
     "text": [
      "[1. 1. 1. 1. 1. 0. 0. 0. 0. 0.]\n",
      "False\n",
      "True\n"
     ]
    }
   ],
   "source": [
    "# check if all values meet a criteria\n",
    "print(my_1d_array)\n",
    "print(np.all(my_1d_array))\n",
    "print(np.all(my_1d_array) >= 0)"
   ]
  },
  {
   "cell_type": "code",
   "execution_count": 30,
   "metadata": {},
   "outputs": [
    {
     "name": "stdout",
     "output_type": "stream",
     "text": [
      "[1. 1. 1. 1. 1. 0. 0. 0. 0. 0.]\n",
      "True\n",
      "False\n"
     ]
    }
   ],
   "source": [
    "# check if any values meet a criteria\n",
    "print(my_1d_array)\n",
    "print(np.any(my_1d_array))\n",
    "print(np.any(my_1d_array) < 0)"
   ]
  },
  {
   "cell_type": "code",
   "execution_count": 47,
   "metadata": {},
   "outputs": [
    {
     "name": "stdout",
     "output_type": "stream",
     "text": [
      "a = [[1 2]\n",
      " [3 4]]\n",
      "b = [[5 6]\n",
      " [7 8]]\n",
      "\n",
      "\n",
      "[[1 2]\n",
      " [3 4]\n",
      " [5 6]\n",
      " [7 8]]\n",
      "\n",
      "\n",
      "[[1 2]\n",
      " [3 4]\n",
      " [5 6]\n",
      " [7 8]\n",
      " [1 2]\n",
      " [3 4]\n",
      " [5 6]\n",
      " [7 8]]\n",
      "\n",
      "\n",
      "[[1 2 5 6]\n",
      " [3 4 7 8]]\n",
      "[[1 2 5 6 1 2 5 6]\n",
      " [3 4 7 8 3 4 7 8]]\n"
     ]
    }
   ],
   "source": [
    "# stacking values (arrays must have same shape)\n",
    "a = np.array([[1, 2], [3, 4]])\n",
    "b = np.array([[5, 6], [7, 8]])\n",
    "print(f\"a = {a}\")\n",
    "print(f\"b = {b}\")\n",
    "print('\\n')\n",
    "\n",
    "v = np.vstack((a, b))\n",
    "print(v)\n",
    "print('\\n')\n",
    "\n",
    "v = np.vstack((a, b, a, b))\n",
    "print(v)\n",
    "print('\\n')\n",
    "\n",
    "h = np.hstack((a, b))\n",
    "print(h)\n",
    "\n",
    "h = np.hstack((a, b, a, b))\n",
    "print(h)"
   ]
  },
  {
   "cell_type": "code",
   "execution_count": 49,
   "metadata": {},
   "outputs": [
    {
     "name": "stdout",
     "output_type": "stream",
     "text": [
      "[[1 5 9]\n",
      " [8 5 5]]\n"
     ]
    },
    {
     "data": {
      "text/plain": [
       "array([1, 5, 9, 8, 5, 5])"
      ]
     },
     "execution_count": 49,
     "metadata": {},
     "output_type": "execute_result"
    }
   ],
   "source": [
    "# flatten a two dimensional array into one dimension\n",
    "print(my_2d_array)\n",
    "my_2d_array.flatten()"
   ]
  }
 ],
 "metadata": {
  "kernelspec": {
   "display_name": "Python 3.9.12 ('ds_infinity')",
   "language": "python",
   "name": "python3"
  },
  "language_info": {
   "codemirror_mode": {
    "name": "ipython",
    "version": 3
   },
   "file_extension": ".py",
   "mimetype": "text/x-python",
   "name": "python",
   "nbconvert_exporter": "python",
   "pygments_lexer": "ipython3",
   "version": "3.9.12"
  },
  "orig_nbformat": 4,
  "vscode": {
   "interpreter": {
    "hash": "864fb72fa58be07f4055d468487424e4132a73f6ab835237ffcd5c869bf333aa"
   }
  }
 },
 "nbformat": 4,
 "nbformat_minor": 2
}
