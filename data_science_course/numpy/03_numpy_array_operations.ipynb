{
 "cells": [
  {
   "cell_type": "code",
   "execution_count": 35,
   "metadata": {},
   "outputs": [],
   "source": [
    "import numpy as np"
   ]
  },
  {
   "cell_type": "code",
   "execution_count": 36,
   "metadata": {},
   "outputs": [
    {
     "data": {
      "text/plain": [
       "array([2, 2, 4, 4, 5, 5, 4, 5, 6, 2, 4, 4, 4, 6, 3, 4])"
      ]
     },
     "execution_count": 36,
     "metadata": {},
     "output_type": "execute_result"
    }
   ],
   "source": [
    "# create one dimensional array (start, stop, count)\n",
    "my_1d_array = np.random.randint(2, 8, 16)\n",
    "my_1d_array"
   ]
  },
  {
   "cell_type": "code",
   "execution_count": 37,
   "metadata": {},
   "outputs": [
    {
     "name": "stdout",
     "output_type": "stream",
     "text": [
      "Max: 6\n",
      "Min: 2\n",
      "Mean: 4.0\n",
      "Sum: 64\n",
      "St Dev: 1.224744871391589\n"
     ]
    }
   ],
   "source": [
    "# find max, min, mean, sum, and st dev values on one dimensional array\n",
    "print(f\"Max: {my_1d_array.max()}\")\n",
    "print(f\"Min: {my_1d_array.min()}\")\n",
    "print(f\"Mean: {my_1d_array.mean()}\")\n",
    "print(f\"Sum: {my_1d_array.sum()}\")\n",
    "print(f\"St Dev: {my_1d_array.std()}\")"
   ]
  },
  {
   "cell_type": "code",
   "execution_count": 38,
   "metadata": {},
   "outputs": [
    {
     "data": {
      "text/plain": [
       "array([[2, 2, 4, 4],\n",
       "       [5, 5, 4, 5],\n",
       "       [6, 2, 4, 4],\n",
       "       [4, 6, 3, 4]])"
      ]
     },
     "execution_count": 38,
     "metadata": {},
     "output_type": "execute_result"
    }
   ],
   "source": [
    "# create two dimensional array with reshape\n",
    "my_2d_array = my_1d_array.reshape(4, 4)\n",
    "my_2d_array"
   ]
  },
  {
   "cell_type": "code",
   "execution_count": 39,
   "metadata": {},
   "outputs": [
    {
     "name": "stdout",
     "output_type": "stream",
     "text": [
      "Mean Columns: [4.25 3.75 3.75 4.25]\n",
      "Mean Rows: [3.   4.75 4.   4.25]\n",
      "\n",
      "\n",
      "St Dev Columns: [1.47901995 1.78535711 0.4330127  0.4330127 ]\n",
      "St Dev Rows: [1.         0.4330127  1.41421356 1.08972474]\n"
     ]
    }
   ],
   "source": [
    "# find mean and st dev values on two dimensional arrays (same applies for other functions)\n",
    "print(f\"Mean Columns: {my_2d_array.mean(axis = 0)}\") # max per column\n",
    "print(f\"Mean Rows: {my_2d_array.mean(axis = 1)}\") # max per row\n",
    "print('\\n')\n",
    "\n",
    "print(f\"St Dev Columns: {my_2d_array.std(axis = 0)}\") # max per column\n",
    "print(f\"St Dev Rows: {my_2d_array.std(axis = 1)}\") # max per row\n",
    "\n",
    "# to find the index positions of the max or min statitic, use arg max or arg min"
   ]
  },
  {
   "cell_type": "code",
   "execution_count": 40,
   "metadata": {},
   "outputs": [
    {
     "data": {
      "text/plain": [
       "array([2, 2, 2, 3, 4, 4, 4, 4, 4, 4, 4, 5, 5, 5, 6, 6])"
      ]
     },
     "execution_count": 40,
     "metadata": {},
     "output_type": "execute_result"
    }
   ],
   "source": [
    "# sort array (not in place)\n",
    "np.sort(my_1d_array)"
   ]
  },
  {
   "cell_type": "code",
   "execution_count": 41,
   "metadata": {},
   "outputs": [
    {
     "data": {
      "text/plain": [
       "array([11, 12, 13, 14, 15])"
      ]
     },
     "execution_count": 41,
     "metadata": {},
     "output_type": "execute_result"
    }
   ],
   "source": [
    "# mathematical operations\n",
    "a = np.array([1, 2, 3, 4, 5])\n",
    "a + 10 # same syntax for -, *, /, **"
   ]
  },
  {
   "cell_type": "code",
   "execution_count": 42,
   "metadata": {},
   "outputs": [
    {
     "data": {
      "text/plain": [
       "array([ 4,  9,  4,  6, 11])"
      ]
     },
     "execution_count": 42,
     "metadata": {},
     "output_type": "execute_result"
    }
   ],
   "source": [
    "# mathematical operations on two arrays (must have same shapes)\n",
    "b = np.array([3, 7, 1, 2, 6])\n",
    "a + b # same syntax for -, *, /, **"
   ]
  },
  {
   "cell_type": "code",
   "execution_count": 43,
   "metadata": {},
   "outputs": [
    {
     "name": "stdout",
     "output_type": "stream",
     "text": [
      "[4 1 0 1 4]\n",
      "\n",
      "\n",
      "[       nan        nan 0.         1.         1.41421356]\n",
      "\n",
      "\n",
      "[-1 -1  0  1  1]\n"
     ]
    },
    {
     "name": "stderr",
     "output_type": "stream",
     "text": [
      "C:\\Users\\nick.reyes\\AppData\\Local\\Temp\\ipykernel_8928\\545809106.py:6: RuntimeWarning: invalid value encountered in sqrt\n",
      "  print(np.sqrt(c))\n"
     ]
    }
   ],
   "source": [
    "# more mathematical operations\n",
    "c = np.array([-2, -1, 0, 1, 2])\n",
    "print(np.square(c))\n",
    "print('\\n')\n",
    "\n",
    "print(np.sqrt(c))\n",
    "print('\\n')\n",
    "\n",
    "print(np.sign(c))"
   ]
  },
  {
   "cell_type": "code",
   "execution_count": 45,
   "metadata": {},
   "outputs": [
    {
     "name": "stdout",
     "output_type": "stream",
     "text": [
      "[-0.90929743 -0.84147098  0.          0.84147098  0.90929743]\n",
      "\n",
      "\n",
      "[-0.41614684  0.54030231  1.          0.54030231 -0.41614684]\n",
      "\n",
      "\n",
      "[ 2.18503986 -1.55740772  0.          1.55740772 -2.18503986]\n"
     ]
    }
   ],
   "source": [
    "# trigonemtric operations\n",
    "print(np.sin(c))\n",
    "print('\\n')\n",
    "\n",
    "print(np.cos(c))\n",
    "print('\\n')\n",
    "\n",
    "print(np.tan(c))"
   ]
  },
  {
   "cell_type": "code",
   "execution_count": 47,
   "metadata": {},
   "outputs": [
    {
     "data": {
      "text/plain": [
       "58"
      ]
     },
     "execution_count": 47,
     "metadata": {},
     "output_type": "execute_result"
    }
   ],
   "source": [
    "# calculating dot product\n",
    "d = np.array([1, 2, 3])\n",
    "e = np.array([4, 5, 6])\n",
    "np.dot(a, b)"
   ]
  }
 ],
 "metadata": {
  "kernelspec": {
   "display_name": "Python 3.9.12 ('ds_infinity')",
   "language": "python",
   "name": "python3"
  },
  "language_info": {
   "codemirror_mode": {
    "name": "ipython",
    "version": 3
   },
   "file_extension": ".py",
   "mimetype": "text/x-python",
   "name": "python",
   "nbconvert_exporter": "python",
   "pygments_lexer": "ipython3",
   "version": "3.9.12"
  },
  "orig_nbformat": 4,
  "vscode": {
   "interpreter": {
    "hash": "864fb72fa58be07f4055d468487424e4132a73f6ab835237ffcd5c869bf333aa"
   }
  }
 },
 "nbformat": 4,
 "nbformat_minor": 2
}
