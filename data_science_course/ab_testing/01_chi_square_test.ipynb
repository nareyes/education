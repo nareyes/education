{
 "cells": [
  {
   "cell_type": "markdown",
   "metadata": {},
   "source": [
    "# Chi-Square Test"
   ]
  },
  {
   "cell_type": "markdown",
   "metadata": {},
   "source": [
    "### Test the Responce b/w Two Different Outcomes\n",
    "\n",
    "Two Mailers;\n",
    "- Mailer 1: Basic Mailer\n",
    "- Mailer 2: Fancy Mailer (More Costly)"
   ]
  },
  {
   "cell_type": "code",
   "execution_count": 19,
   "metadata": {},
   "outputs": [],
   "source": [
    "import pandas as pd\n",
    "from scipy.stats import chi2_contingency, chi2"
   ]
  },
  {
   "cell_type": "code",
   "execution_count": 20,
   "metadata": {},
   "outputs": [],
   "source": [
    "# import data\n",
    "campaign_data = pd.read_excel('grocery_database.xlsx', sheet_name = 'campaign_data')"
   ]
  },
  {
   "cell_type": "code",
   "execution_count": 21,
   "metadata": {},
   "outputs": [
    {
     "data": {
      "text/html": [
       "<div>\n",
       "<style scoped>\n",
       "    .dataframe tbody tr th:only-of-type {\n",
       "        vertical-align: middle;\n",
       "    }\n",
       "\n",
       "    .dataframe tbody tr th {\n",
       "        vertical-align: top;\n",
       "    }\n",
       "\n",
       "    .dataframe thead th {\n",
       "        text-align: right;\n",
       "    }\n",
       "</style>\n",
       "<table border=\"1\" class=\"dataframe\">\n",
       "  <thead>\n",
       "    <tr style=\"text-align: right;\">\n",
       "      <th></th>\n",
       "      <th>customer_id</th>\n",
       "      <th>campaign_name</th>\n",
       "      <th>campaign_date</th>\n",
       "      <th>mailer_type</th>\n",
       "      <th>signup_flag</th>\n",
       "    </tr>\n",
       "  </thead>\n",
       "  <tbody>\n",
       "    <tr>\n",
       "      <th>0</th>\n",
       "      <td>74</td>\n",
       "      <td>delivery_club</td>\n",
       "      <td>2020-07-01</td>\n",
       "      <td>Mailer1</td>\n",
       "      <td>1</td>\n",
       "    </tr>\n",
       "    <tr>\n",
       "      <th>1</th>\n",
       "      <td>524</td>\n",
       "      <td>delivery_club</td>\n",
       "      <td>2020-07-01</td>\n",
       "      <td>Mailer1</td>\n",
       "      <td>1</td>\n",
       "    </tr>\n",
       "    <tr>\n",
       "      <th>2</th>\n",
       "      <td>607</td>\n",
       "      <td>delivery_club</td>\n",
       "      <td>2020-07-01</td>\n",
       "      <td>Mailer2</td>\n",
       "      <td>1</td>\n",
       "    </tr>\n",
       "    <tr>\n",
       "      <th>3</th>\n",
       "      <td>343</td>\n",
       "      <td>delivery_club</td>\n",
       "      <td>2020-07-01</td>\n",
       "      <td>Mailer1</td>\n",
       "      <td>0</td>\n",
       "    </tr>\n",
       "    <tr>\n",
       "      <th>4</th>\n",
       "      <td>322</td>\n",
       "      <td>delivery_club</td>\n",
       "      <td>2020-07-01</td>\n",
       "      <td>Mailer2</td>\n",
       "      <td>1</td>\n",
       "    </tr>\n",
       "  </tbody>\n",
       "</table>\n",
       "</div>"
      ],
      "text/plain": [
       "   customer_id  campaign_name campaign_date mailer_type  signup_flag\n",
       "0           74  delivery_club    2020-07-01     Mailer1            1\n",
       "1          524  delivery_club    2020-07-01     Mailer1            1\n",
       "2          607  delivery_club    2020-07-01     Mailer2            1\n",
       "3          343  delivery_club    2020-07-01     Mailer1            0\n",
       "4          322  delivery_club    2020-07-01     Mailer2            1"
      ]
     },
     "execution_count": 21,
     "metadata": {},
     "output_type": "execute_result"
    }
   ],
   "source": [
    "# filter data (remove control)\n",
    "campaign_data = campaign_data.loc[campaign_data['mailer_type'] != 'Control']\n",
    "campaign_data.head()"
   ]
  },
  {
   "cell_type": "code",
   "execution_count": 22,
   "metadata": {},
   "outputs": [
    {
     "name": "stdout",
     "output_type": "stream",
     "text": [
      "Observed Values Matrix:\n",
      "[[252 123]\n",
      " [209 127]]\n",
      "\n",
      "\n",
      "Mailer 1 Sign Up Rate: 0.328\n",
      "Mailer 2 Sign Up Rate: 0.378\n"
     ]
    }
   ],
   "source": [
    "# summarize to get observed frequencies\n",
    "observed_values = pd.crosstab(campaign_data['mailer_type'], campaign_data['signup_flag']).values # returns array\n",
    "print(f\"Observed Values Matrix:\\n{observed_values}\")\n",
    "print('\\n')\n",
    "\n",
    "# calculate signup rates\n",
    "mailer1_signup_rate = 123 / (252 + 123)\n",
    "mailer2_signup_rate = 127 / (209 + 127)\n",
    "\n",
    "print(f'Mailer 1 Sign Up Rate: {round(mailer1_signup_rate, 3)}')\n",
    "print(f'Mailer 2 Sign Up Rate: {round(mailer2_signup_rate, 3)}')"
   ]
  },
  {
   "cell_type": "code",
   "execution_count": 23,
   "metadata": {},
   "outputs": [
    {
     "name": "stdout",
     "output_type": "stream",
     "text": [
      "Null Hypothesis: There is no relationship between mailer type and signup rate. They are independent.\n",
      "Alternate Hypothesis: There is a relationship between type and signup rate. They are not idependent. \n",
      "\n",
      "Acceptance Criteria: 0.05\n"
     ]
    }
   ],
   "source": [
    "# state hypothesis and set acceptance criteria\n",
    "H_o = 'There is no relationship between mailer type and signup rate. They are independent.' # null\n",
    "H_a = 'There is a relationship between type and signup rate. They are not idependent.' # alternate\n",
    "acceptance_criteria = 0.05\n",
    "\n",
    "print(f'Null Hypothesis: {H_o}')\n",
    "print(f'Alternate Hypothesis: {H_a} \\n')\n",
    "print(f'Acceptance Criteria: {acceptance_criteria}')"
   ]
  },
  {
   "cell_type": "code",
   "execution_count": 24,
   "metadata": {},
   "outputs": [
    {
     "name": "stdout",
     "output_type": "stream",
     "text": [
      "P-Value: 0.1635\n",
      "Degrees of Freedom: 1\n",
      "Chi^2 Statistic: 1.9414\n"
     ]
    }
   ],
   "source": [
    "# calculate chi square statistic and p-value (set Yates correction to false when dof = 1)\n",
    "chi2_statistic, p_value, dof, expected_value = chi2_contingency(observed_values, correction = False)\n",
    "\n",
    "print(f'P-Value: {round(p_value, 4)}')\n",
    "print(f'Degrees of Freedom: {dof}')\n",
    "print(f'Chi^2 Statistic: {round(chi2_statistic, 4)}')"
   ]
  },
  {
   "cell_type": "code",
   "execution_count": 25,
   "metadata": {},
   "outputs": [
    {
     "name": "stdout",
     "output_type": "stream",
     "text": [
      "As our p-value of 0.1635 is higher than our acceptance criteria of 0.05, we accept the null hypothesis, and conclude that: \n",
      "    There is no relationship between mailer type and signup rate. They are independent.\n",
      "    \n"
     ]
    }
   ],
   "source": [
    "# print results (using p-value)\n",
    "if p_value <= acceptance_criteria:\n",
    "    print(f'''As our p-value of {round(p_value, 4)} is lower than our acceptance criteria of {acceptance_criteria}, we reject the null hypothesis, and conclude that: \n",
    "    {H_a}.\n",
    "    ''')\n",
    "else:\n",
    "    print(f'''As our p-value of {round(p_value, 4)} is higher than our acceptance criteria of {acceptance_criteria}, we accept the null hypothesis, and conclude that: \n",
    "    {H_o}\n",
    "    ''')"
   ]
  },
  {
   "cell_type": "code",
   "execution_count": 26,
   "metadata": {},
   "outputs": [
    {
     "name": "stdout",
     "output_type": "stream",
     "text": [
      "Chi^2 Statistic: 1.9414\n",
      "Critical Value: 3.8415\n"
     ]
    }
   ],
   "source": [
    "# find the critical value for our test (alternate way of determining test results)\n",
    "critical_value = chi2.ppf(1 - acceptance_criteria, dof)\n",
    "print(f'Chi^2 Statistic: {round(chi2_statistic, 4)}')\n",
    "print(f'Critical Value: {round(critical_value, 4)}')"
   ]
  },
  {
   "cell_type": "code",
   "execution_count": 27,
   "metadata": {},
   "outputs": [
    {
     "name": "stdout",
     "output_type": "stream",
     "text": [
      "As our chi-square statistic of 1.9414 is lower than our critical value of 3.8415, we accept the null hypothesis, and conclude that: \n",
      "    There is no relationship between mailer type and signup rate. They are independent.\n",
      "    \n"
     ]
    }
   ],
   "source": [
    "# print results (using chi-square statistic)\n",
    "if chi2_statistic >= critical_value:\n",
    "    print(f'''As our chi-square statistic of {round(chi2_statistic, 4)} is higher than our critical value of {round(critical_value, 4)}, we reject the null hypothesis, and conclude that: \n",
    "    {H_a}.\n",
    "    ''')\n",
    "else:\n",
    "    print(f'''As our chi-square statistic of {round(chi2_statistic, 4)} is lower than our critical value of {round(critical_value, 4)}, we accept the null hypothesis, and conclude that: \n",
    "    {H_o}\n",
    "    ''')"
   ]
  },
  {
   "cell_type": "markdown",
   "metadata": {},
   "source": [
    "Even though the sign up rate for mailer 2 is higher, it appears this difference is not significant given our acceptance criteria. This result does not imply there is no difference, it simply implies the difference is not significant enough to inform a decision to use the more expensive mailers permanently."
   ]
  }
 ],
 "metadata": {
  "kernelspec": {
   "display_name": "Python 3.9.12 ('ds_infinity')",
   "language": "python",
   "name": "python3"
  },
  "language_info": {
   "codemirror_mode": {
    "name": "ipython",
    "version": 3
   },
   "file_extension": ".py",
   "mimetype": "text/x-python",
   "name": "python",
   "nbconvert_exporter": "python",
   "pygments_lexer": "ipython3",
   "version": "3.9.12"
  },
  "orig_nbformat": 4,
  "vscode": {
   "interpreter": {
    "hash": "864fb72fa58be07f4055d468487424e4132a73f6ab835237ffcd5c869bf333aa"
   }
  }
 },
 "nbformat": 4,
 "nbformat_minor": 2
}
