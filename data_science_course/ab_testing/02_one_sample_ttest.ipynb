{
 "cells": [
  {
   "cell_type": "markdown",
   "metadata": {},
   "source": [
    "# One Sample T-Test"
   ]
  },
  {
   "cell_type": "markdown",
   "metadata": {},
   "source": [
    "### Compare Mean of a Sample with Mean of the Overall Population\n",
    "*Since we are using mock data in a normal distribution, we would expect the mean of the sample and population to be equal.*"
   ]
  },
  {
   "cell_type": "code",
   "execution_count": 36,
   "metadata": {},
   "outputs": [],
   "source": [
    "import numpy as np\n",
    "import matplotlib.pyplot as plt\n",
    "from scipy.stats import ttest_1samp, norm"
   ]
  },
  {
   "cell_type": "code",
   "execution_count": 37,
   "metadata": {},
   "outputs": [],
   "source": [
    "# create mock population data (credit scores)\n",
    "population = norm.rvs( # creates random variables in a normal distribution\n",
    "    loc = 500, # loc = mean\n",
    "    scale = 100, # scale = standard deviation\n",
    "    size = 1000\n",
    ").astype(int) # whole numbers"
   ]
  },
  {
   "cell_type": "code",
   "execution_count": 38,
   "metadata": {},
   "outputs": [],
   "source": [
    "# create mock sample data (credit scores)\n",
    "sample = np.random.choice(population, 250)"
   ]
  },
  {
   "cell_type": "code",
   "execution_count": 39,
   "metadata": {},
   "outputs": [
    {
     "data": {
      "image/png": "[encoded data removed]",
      "text/plain": [
       "<Figure size 432x288 with 1 Axes>"
      ]
     },
     "metadata": {
      "needs_background": "light"
     },
     "output_type": "display_data"
    }
   ],
   "source": [
    "# plot histograms for population and sample\n",
    "plt.hist(population, density = True, alpha = 0.5) # density = proportional frequency\n",
    "plt.hist(sample, density = True, alpha = 0.5)\n",
    "plt.show()"
   ]
  },
  {
   "cell_type": "code",
   "execution_count": 40,
   "metadata": {},
   "outputs": [
    {
     "name": "stdout",
     "output_type": "stream",
     "text": [
      "Sample Mean: 504.584\n",
      "Population Mean: 499.877\n",
      "\n",
      "Sample Variance: 9052.4589\n",
      "Population Variance: 9799.4699\n"
     ]
    }
   ],
   "source": [
    "# calculate population and sample means and variance for initial comparison\n",
    "sample_mean = sample.mean()\n",
    "population_mean = population.mean()\n",
    "print(f'Sample Mean: {sample_mean}')\n",
    "print(f'Population Mean: {population_mean}\\n')\n",
    "\n",
    "sample_var = sample.var()\n",
    "population_var = population.var()\n",
    "print(f'Sample Variance: {round(sample_var, 4)}')\n",
    "print(f'Population Variance: {round(population_var, 4)}')"
   ]
  },
  {
   "cell_type": "code",
   "execution_count": 41,
   "metadata": {},
   "outputs": [
    {
     "name": "stdout",
     "output_type": "stream",
     "text": [
      "Null Hypothesis: The mean of the sample is equal to the mean of the population.\n",
      "Alternate Hypothesis: The mean of the sample is NOT equal to the mean of the population. \n",
      "\n",
      "Acceptance Criteria: 0.05\n"
     ]
    }
   ],
   "source": [
    "# set null and alternate hypothesis, and acceptance criteria\n",
    "H_o = 'The mean of the sample is equal to the mean of the population.' # null\n",
    "H_a = 'The mean of the sample is NOT equal to the mean of the population.' # alternate\n",
    "acceptance_criteria = 0.05\n",
    "\n",
    "print(f'Null Hypothesis: {H_o}')\n",
    "print(f'Alternate Hypothesis: {H_a} \\n')\n",
    "print(f'Acceptance Criteria: {acceptance_criteria}')"
   ]
  },
  {
   "cell_type": "code",
   "execution_count": 42,
   "metadata": {},
   "outputs": [
    {
     "name": "stdout",
     "output_type": "stream",
     "text": [
      "p_value: 0.4357\n",
      "T-Statistic: 0.7807\n"
     ]
    }
   ],
   "source": [
    "# execute the hypothesis test\n",
    "t_stat, p_value = ttest_1samp(sample, population_mean)\n",
    "\n",
    "print(f'p_value: {round(p_value, 4)}')\n",
    "print(f'T-Statistic: {round(t_stat, 4)}')"
   ]
  },
  {
   "cell_type": "code",
   "execution_count": 43,
   "metadata": {},
   "outputs": [
    {
     "name": "stdout",
     "output_type": "stream",
     "text": [
      "As our p-value of 0.4357 is higher than our acceptance criteria of 0.05, we accept the null hypothesis, and conclude that: \n",
      "    The mean of the sample is equal to the mean of the population.\n",
      "    \n"
     ]
    }
   ],
   "source": [
    "# print results (using p-value)\n",
    "if p_value <= acceptance_criteria:\n",
    "    print(f'''As our p-value of {round(p_value, 4)} is lower than our acceptance criteria of {acceptance_criteria}, we reject the null hypothesis, and conclude that: \n",
    "    {H_a}\n",
    "    ''')\n",
    "else:\n",
    "    print(f'''As our p-value of {round(p_value, 4)} is higher than our acceptance criteria of {acceptance_criteria}, we accept the null hypothesis, and conclude that: \n",
    "    {H_o}\n",
    "    ''')"
   ]
  }
 ],
 "metadata": {
  "kernelspec": {
   "display_name": "Python 3.9.12 ('ds_infinity')",
   "language": "python",
   "name": "python3"
  },
  "language_info": {
   "codemirror_mode": {
    "name": "ipython",
    "version": 3
   },
   "file_extension": ".py",
   "mimetype": "text/x-python",
   "name": "python",
   "nbconvert_exporter": "python",
   "pygments_lexer": "ipython3",
   "version": "3.9.12"
  },
  "orig_nbformat": 4,
  "vscode": {
   "interpreter": {
    "hash": "864fb72fa58be07f4055d468487424e4132a73f6ab835237ffcd5c869bf333aa"
   }
  }
 },
 "nbformat": 4,
 "nbformat_minor": 2
}
