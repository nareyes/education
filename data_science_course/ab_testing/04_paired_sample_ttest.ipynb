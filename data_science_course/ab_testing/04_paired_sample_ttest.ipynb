{
 "cells": [
  {
   "cell_type": "markdown",
   "metadata": {},
   "source": [
    "# Paired Sample T-Test"
   ]
  },
  {
   "cell_type": "markdown",
   "metadata": {},
   "source": [
    "### Compare Means of Two Samples of the Same Observation (Comparing Resuts Before and After an Event)"
   ]
  },
  {
   "cell_type": "code",
   "execution_count": 17,
   "metadata": {},
   "outputs": [],
   "source": [
    "import numpy as np\n",
    "import matplotlib.pyplot as plt\n",
    "from scipy.stats import ttest_rel, norm"
   ]
  },
  {
   "cell_type": "code",
   "execution_count": 18,
   "metadata": {},
   "outputs": [],
   "source": [
    "# create mock sample data for before and after an event\n",
    "sample_before = norm.rvs( # creates random variables in a normal distribution\n",
    "    loc = 500, # loc = mean\n",
    "    scale = 100, # scale = standard deviation\n",
    "    size = 100\n",
    ").astype(int) # whole numbers\n",
    "\n",
    "sample_after = sample_before + np.random.randint(\n",
    "    low = -50, \n",
    "    high = 75, \n",
    "    size = 100)"
   ]
  },
  {
   "cell_type": "code",
   "execution_count": 19,
   "metadata": {},
   "outputs": [
    {
     "data": {
      "image/png": "[encoded data removed]",
      "text/plain": [
       "<Figure size 432x288 with 1 Axes>"
      ]
     },
     "metadata": {
      "needs_background": "light"
     },
     "output_type": "display_data"
    }
   ],
   "source": [
    "# plot histograms for population and sample\n",
    "plt.hist(sample_before, density = True, alpha = 0.5, label = 'Before') # density = proportional frequency\n",
    "plt.hist(sample_after, density = True, alpha = 0.5, label = 'After')\n",
    "plt.legend()\n",
    "plt.show()"
   ]
  },
  {
   "cell_type": "code",
   "execution_count": 20,
   "metadata": {},
   "outputs": [
    {
     "name": "stdout",
     "output_type": "stream",
     "text": [
      "Sample Before Mean: 514.78\n",
      "Sample After Mean: 529.46\n",
      "\n",
      "Sample Before Variance: 8073.3316\n",
      "Sample After Variance: 8612.8684\n"
     ]
    }
   ],
   "source": [
    "# calculate sample means and variances for initial comparison\n",
    "sample_before_mean = sample_before.mean()\n",
    "sample_after_mean = sample_after.mean()\n",
    "print(f'Sample Before Mean: {sample_before_mean}')\n",
    "print(f'Sample After Mean: {sample_after_mean}\\n')\n",
    "\n",
    "sample_before_var = sample_before.var()\n",
    "sample_after_var = sample_after.var()\n",
    "print(f'Sample Before Variance: {round(sample_before_var, 4)}')\n",
    "print(f'Sample After Variance: {round(sample_after_var, 4)}')"
   ]
  },
  {
   "cell_type": "code",
   "execution_count": 21,
   "metadata": {},
   "outputs": [
    {
     "name": "stdout",
     "output_type": "stream",
     "text": [
      "Null Hypothesis: The mean of the before sample is equal to the mean of the after sample.\n",
      "Alternate Hypothesis: The mean of the before sample is NOT equal to the mean of the after sample. \n",
      "\n",
      "Acceptance Criteria: 0.05\n"
     ]
    }
   ],
   "source": [
    "# set null and alternate hypothesis, and acceptance criteria\n",
    "H_o = 'The mean of the before sample is equal to the mean of the after sample.' # null\n",
    "H_a = 'The mean of the before sample is NOT equal to the mean of the after sample.' # alternate\n",
    "acceptance_criteria = 0.05\n",
    "\n",
    "print(f'Null Hypothesis: {H_o}')\n",
    "print(f'Alternate Hypothesis: {H_a} \\n')\n",
    "print(f'Acceptance Criteria: {acceptance_criteria}')"
   ]
  },
  {
   "cell_type": "code",
   "execution_count": 22,
   "metadata": {},
   "outputs": [
    {
     "name": "stdout",
     "output_type": "stream",
     "text": [
      "p_value: 0.0001\n",
      "T-Statistic: -4.0371\n"
     ]
    }
   ],
   "source": [
    "# execute the hypothesis test\n",
    "t_stat, p_value = ttest_rel(sample_before, sample_after)\n",
    "\n",
    "print(f'p_value: {round(p_value, 4)}')\n",
    "print(f'T-Statistic: {round(t_stat, 4)}')"
   ]
  },
  {
   "cell_type": "code",
   "execution_count": 23,
   "metadata": {},
   "outputs": [
    {
     "name": "stdout",
     "output_type": "stream",
     "text": [
      "As our p-value of 0.0001 is lower than our acceptance criteria of 0.05, we reject the null hypothesis, and conclude that: \n",
      "    The mean of the before sample is NOT equal to the mean of the after sample.\n",
      "    \n"
     ]
    }
   ],
   "source": [
    "# print results (using p-value)\n",
    "if p_value <= acceptance_criteria:\n",
    "    print(f'''As our p-value of {round(p_value, 4)} is lower than our acceptance criteria of {acceptance_criteria}, we reject the null hypothesis, and conclude that: \n",
    "    {H_a}\n",
    "    ''')\n",
    "else:\n",
    "    print(f'''As our p-value of {round(p_value, 4)} is higher than our acceptance criteria of {acceptance_criteria}, we accept the null hypothesis, and conclude that: \n",
    "    {H_o}\n",
    "    ''')"
   ]
  }
 ],
 "metadata": {
  "kernelspec": {
   "display_name": "Python 3.9.12 ('ds_infinity')",
   "language": "python",
   "name": "python3"
  },
  "language_info": {
   "codemirror_mode": {
    "name": "ipython",
    "version": 3
   },
   "file_extension": ".py",
   "mimetype": "text/x-python",
   "name": "python",
   "nbconvert_exporter": "python",
   "pygments_lexer": "ipython3",
   "version": "3.9.12"
  },
  "orig_nbformat": 4,
  "vscode": {
   "interpreter": {
    "hash": "864fb72fa58be07f4055d468487424e4132a73f6ab835237ffcd5c869bf333aa"
   }
  }
 },
 "nbformat": 4,
 "nbformat_minor": 2
}
