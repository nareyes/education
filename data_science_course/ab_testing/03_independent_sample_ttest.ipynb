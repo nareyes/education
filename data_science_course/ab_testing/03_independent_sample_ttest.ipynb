{
 "cells": [
  {
   "cell_type": "markdown",
   "metadata": {},
   "source": [
    "# Independent Sample T-Test"
   ]
  },
  {
   "cell_type": "markdown",
   "metadata": {},
   "source": [
    "### Compare Mean of Two Independent Samples with Associated Population Means\n",
    "*Since we are using mock data in a normal distribution, we would expect the means of the sample and population to be equal.*"
   ]
  },
  {
   "cell_type": "code",
   "execution_count": 73,
   "metadata": {},
   "outputs": [],
   "source": [
    "import numpy as np\n",
    "import matplotlib.pyplot as plt\n",
    "from scipy.stats import ttest_ind, norm"
   ]
  },
  {
   "cell_type": "code",
   "execution_count": 74,
   "metadata": {},
   "outputs": [],
   "source": [
    "# create mock independent sample data (credit scores)\n",
    "sample_a = norm.rvs( # creates random variables in a normal distribution\n",
    "    loc = 500, # loc = mean\n",
    "    scale = 100, # scale = standard deviation\n",
    "    size = 250\n",
    ").astype(int) # whole numbers\n",
    "\n",
    "sample_b = norm.rvs( # creates random variables in a normal distribution\n",
    "    loc = 550,\n",
    "    scale = 150,\n",
    "    size = 100\n",
    ").astype(int) # whole numbers"
   ]
  },
  {
   "cell_type": "code",
   "execution_count": 75,
   "metadata": {},
   "outputs": [
    {
     "data": {
      "image/png": "[encoded data removed]",
      "text/plain": [
       "<Figure size 432x288 with 1 Axes>"
      ]
     },
     "metadata": {
      "needs_background": "light"
     },
     "output_type": "display_data"
    }
   ],
   "source": [
    "# plot histograms for population and sample\n",
    "plt.hist(sample_a, density = True, alpha = 0.5) # density = proportional frequency\n",
    "plt.hist(sample_b, density = True, alpha = 0.5)\n",
    "plt.show()"
   ]
  },
  {
   "cell_type": "code",
   "execution_count": 76,
   "metadata": {},
   "outputs": [
    {
     "name": "stdout",
     "output_type": "stream",
     "text": [
      "Sample A Mean: 500.836\n",
      "Sample B Mean: 569.6\n",
      "\n",
      "Sample A Variance: 8741.4811\n",
      "Sample B Variance: 24822.76\n"
     ]
    }
   ],
   "source": [
    "# calculate sample means and variances for initial comparison\n",
    "sample_a_mean = sample_a.mean()\n",
    "sample_b_mean = sample_b.mean()\n",
    "print(f'Sample A Mean: {sample_a_mean}')\n",
    "print(f'Sample B Mean: {sample_b_mean}\\n')\n",
    "\n",
    "sample_a_var = sample_a.var()\n",
    "sample_b_var = sample_b.var()\n",
    "print(f'Sample A Variance: {round(sample_a_var, 4)}')\n",
    "print(f'Sample B Variance: {round(sample_b_var, 4)}')"
   ]
  },
  {
   "cell_type": "code",
   "execution_count": 77,
   "metadata": {},
   "outputs": [
    {
     "name": "stdout",
     "output_type": "stream",
     "text": [
      "Null Hypothesis: The mean of Sample A is equal to the mean of Sample B.\n",
      "Alternate Hypothesis: The mean of Sample A is NOT equal to the mean of Sample B. \n",
      "\n",
      "Acceptance Criteria: 0.05\n"
     ]
    }
   ],
   "source": [
    "# set null and alternate hypothesis, and acceptance criteria\n",
    "H_o = 'The mean of Sample A is equal to the mean of Sample B.' # null\n",
    "H_a = 'The mean of Sample A is NOT equal to the mean of Sample B.' # alternate\n",
    "acceptance_criteria = 0.05\n",
    "\n",
    "print(f'Null Hypothesis: {H_o}')\n",
    "print(f'Alternate Hypothesis: {H_a} \\n')\n",
    "print(f'Acceptance Criteria: {acceptance_criteria}')"
   ]
  },
  {
   "cell_type": "code",
   "execution_count": 78,
   "metadata": {},
   "outputs": [
    {
     "name": "stdout",
     "output_type": "stream",
     "text": [
      "p_value: 0.0\n",
      "T-Statistic: -5.0181\n"
     ]
    }
   ],
   "source": [
    "# execute the hypothesis test\n",
    "t_stat, p_value = ttest_ind(sample_a, sample_b)\n",
    "\n",
    "print(f'p_value: {round(p_value, 4)}')\n",
    "print(f'T-Statistic: {round(t_stat, 4)}')"
   ]
  },
  {
   "cell_type": "code",
   "execution_count": 79,
   "metadata": {},
   "outputs": [
    {
     "name": "stdout",
     "output_type": "stream",
     "text": [
      "As our p-value of 0.0 is lower than our acceptance criteria of 0.05, we reject the null hypothesis, and conclude that: \n",
      "    The mean of Sample A is NOT equal to the mean of Sample B.\n",
      "    \n"
     ]
    }
   ],
   "source": [
    "# print results (using p-value)\n",
    "if p_value <= acceptance_criteria:\n",
    "    print(f'''As our p-value of {round(p_value, 4)} is lower than our acceptance criteria of {acceptance_criteria}, we reject the null hypothesis, and conclude that: \n",
    "    {H_a}\n",
    "    ''')\n",
    "else:\n",
    "    print(f'''As our p-value of {round(p_value, 4)} is higher than our acceptance criteria of {acceptance_criteria}, we accept the null hypothesis, and conclude that: \n",
    "    {H_o}\n",
    "    ''')"
   ]
  },
  {
   "cell_type": "markdown",
   "metadata": {},
   "source": [
    "**The Independent Sample T-Test assumes that the two populations WILL have distributions with equal variance.**\n",
    "\n",
    "**Welch's T-Test is a more reliable test for the Independent Samples T-Test whenever sample sizes and variances are UNEQUAL between groups, and gives the same result as the regular Independent Sample T-Test when sample sizes and variances are equal.**\n",
    "\n",
    "#### ***We should default to the Welch's Independent Sample T-Test***\n"
   ]
  },
  {
   "cell_type": "code",
   "execution_count": 80,
   "metadata": {},
   "outputs": [
    {
     "name": "stdout",
     "output_type": "stream",
     "text": [
      "Welch's p_value: 0.0001\n",
      "Welch's T-Statistic: -4.0672\n"
     ]
    }
   ],
   "source": [
    "# execute the welch's hypothesis test\n",
    "welch_t_stat, welch_p_value = ttest_ind(sample_a, sample_b, equal_var = False) # equal_var = False applied welch test\n",
    "\n",
    "print(f'Welch\\'s p_value: {round(welch_p_value, 4)}')\n",
    "print(f'Welch\\'s T-Statistic: {round(welch_t_stat, 4)}')"
   ]
  },
  {
   "cell_type": "code",
   "execution_count": 81,
   "metadata": {},
   "outputs": [
    {
     "name": "stdout",
     "output_type": "stream",
     "text": [
      "As our p-value of 0.0001 is lower than our acceptance criteria of 0.05, we reject the null hypothesis, and conclude that: \n",
      "    The mean of Sample A is NOT equal to the mean of Sample B.\n",
      "    \n"
     ]
    }
   ],
   "source": [
    "# print results (using p-value and welch test)\n",
    "if p_value <= acceptance_criteria:\n",
    "    print(f'''As our p-value of {round(welch_p_value, 4)} is lower than our acceptance criteria of {acceptance_criteria}, we reject the null hypothesis, and conclude that: \n",
    "    {H_a}\n",
    "    ''')\n",
    "else:\n",
    "    print(f'''As our p-value of {round(welchp_value, 4)} is higher than our acceptance criteria of {acceptance_criteria}, we accept the null hypothesis, and conclude that: \n",
    "    {H_o}\n",
    "    ''')"
   ]
  }
 ],
 "metadata": {
  "kernelspec": {
   "display_name": "Python 3.9.12 ('ds_infinity')",
   "language": "python",
   "name": "python3"
  },
  "language_info": {
   "codemirror_mode": {
    "name": "ipython",
    "version": 3
   },
   "file_extension": ".py",
   "mimetype": "text/x-python",
   "name": "python",
   "nbconvert_exporter": "python",
   "pygments_lexer": "ipython3",
   "version": "3.9.12"
  },
  "orig_nbformat": 4,
  "vscode": {
   "interpreter": {
    "hash": "864fb72fa58be07f4055d468487424e4132a73f6ab835237ffcd5c869bf333aa"
   }
  }
 },
 "nbformat": 4,
 "nbformat_minor": 2
}
