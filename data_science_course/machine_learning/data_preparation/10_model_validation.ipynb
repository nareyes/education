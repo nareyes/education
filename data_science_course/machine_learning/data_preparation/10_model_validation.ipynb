{
 "cells": [
  {
   "cell_type": "code",
   "execution_count": 6,
   "metadata": {},
   "outputs": [],
   "source": [
    "import pandas as pd\n",
    "from sklearn.linear_model import LinearRegression\n",
    "# from sklearn.metrics import r2_score\n",
    "from sklearn.model_selection import train_test_split\n",
    "from sklearn.model_selection import cross_val_score, KFold, StratifiedKFold"
   ]
  },
  {
   "cell_type": "code",
   "execution_count": 2,
   "metadata": {},
   "outputs": [
    {
     "data": {
      "text/html": [
       "<div>\n",
       "<style scoped>\n",
       "    .dataframe tbody tr th:only-of-type {\n",
       "        vertical-align: middle;\n",
       "    }\n",
       "\n",
       "    .dataframe tbody tr th {\n",
       "        vertical-align: top;\n",
       "    }\n",
       "\n",
       "    .dataframe thead th {\n",
       "        text-align: right;\n",
       "    }\n",
       "</style>\n",
       "<table border=\"1\" class=\"dataframe\">\n",
       "  <thead>\n",
       "    <tr style=\"text-align: right;\">\n",
       "      <th></th>\n",
       "      <th>output</th>\n",
       "      <th>input1</th>\n",
       "      <th>input2</th>\n",
       "      <th>input3</th>\n",
       "      <th>input4</th>\n",
       "    </tr>\n",
       "  </thead>\n",
       "  <tbody>\n",
       "    <tr>\n",
       "      <th>0</th>\n",
       "      <td>564</td>\n",
       "      <td>534</td>\n",
       "      <td>536</td>\n",
       "      <td>466</td>\n",
       "      <td>599</td>\n",
       "    </tr>\n",
       "    <tr>\n",
       "      <th>1</th>\n",
       "      <td>182</td>\n",
       "      <td>264</td>\n",
       "      <td>103</td>\n",
       "      <td>244</td>\n",
       "      <td>519</td>\n",
       "    </tr>\n",
       "    <tr>\n",
       "      <th>2</th>\n",
       "      <td>323</td>\n",
       "      <td>272</td>\n",
       "      <td>339</td>\n",
       "      <td>609</td>\n",
       "      <td>474</td>\n",
       "    </tr>\n",
       "    <tr>\n",
       "      <th>3</th>\n",
       "      <td>438</td>\n",
       "      <td>416</td>\n",
       "      <td>444</td>\n",
       "      <td>330</td>\n",
       "      <td>582</td>\n",
       "    </tr>\n",
       "    <tr>\n",
       "      <th>4</th>\n",
       "      <td>547</td>\n",
       "      <td>520</td>\n",
       "      <td>464</td>\n",
       "      <td>104</td>\n",
       "      <td>412</td>\n",
       "    </tr>\n",
       "  </tbody>\n",
       "</table>\n",
       "</div>"
      ],
      "text/plain": [
       "   output  input1  input2  input3  input4\n",
       "0     564     534     536     466     599\n",
       "1     182     264     103     244     519\n",
       "2     323     272     339     609     474\n",
       "3     438     416     444     330     582\n",
       "4     547     520     464     104     412"
      ]
     },
     "execution_count": 2,
     "metadata": {},
     "output_type": "execute_result"
    }
   ],
   "source": [
    "# import sample data\n",
    "my_df = pd.read_csv('feature_selection_sample_data.csv')\n",
    "my_df.head()"
   ]
  },
  {
   "cell_type": "code",
   "execution_count": 3,
   "metadata": {},
   "outputs": [],
   "source": [
    "# seperate input and output variables\n",
    "X = my_df.drop(['output'], axis = 1) # axis=1 drops column\n",
    "y = my_df['output']"
   ]
  },
  {
   "cell_type": "markdown",
   "metadata": {},
   "source": [
    "### Simple Training/Test Split"
   ]
  },
  {
   "cell_type": "code",
   "execution_count": 4,
   "metadata": {},
   "outputs": [],
   "source": [
    "# create training and testing data for a regression model\n",
    "X_train, X_test, y_train, y_test = train_test_split(X, y, test_size = 0.2, shuffle = True)\n",
    "\n",
    "# create training and testing data for a classification model (not applicable to this example)\n",
    "# adding stratify argument ensures both sets will contain the same proportion of the output class (y)\n",
    "# X_train, X_test, y_train, y_test = train_test_split(X, y, test_size = 0.2, stratify = y)"
   ]
  },
  {
   "cell_type": "markdown",
   "metadata": {},
   "source": [
    "### Cross-Validation Training/Test Split"
   ]
  },
  {
   "cell_type": "code",
   "execution_count": 7,
   "metadata": {},
   "outputs": [],
   "source": [
    "# instantiate regressor object for demonstration\n",
    "regressor = LinearRegression()"
   ]
  },
  {
   "cell_type": "code",
   "execution_count": 13,
   "metadata": {},
   "outputs": [
    {
     "data": {
      "text/plain": [
       "array([0.78287124, 0.57838871, 0.45187443, 0.7384809 ])"
      ]
     },
     "execution_count": 13,
     "metadata": {},
     "output_type": "execute_result"
    }
   ],
   "source": [
    "# create cross validation scores and display r2 scores for a regression model\n",
    "# these scores represent the r2 scores for each fold of validation (cv = 4)\n",
    "cv_scores = cross_val_score(regressor, X, y, cv = 4, scoring = 'r2') # data is not shuffled with this method\n",
    "cv_scores"
   ]
  },
  {
   "cell_type": "code",
   "execution_count": 14,
   "metadata": {},
   "outputs": [
    {
     "data": {
      "text/plain": [
       "0.6379038172153191"
      ]
     },
     "execution_count": 14,
     "metadata": {},
     "output_type": "execute_result"
    }
   ],
   "source": [
    "# average (mean) cross-validation r2 score\n",
    "cv_scores.mean()"
   ]
  },
  {
   "cell_type": "code",
   "execution_count": 15,
   "metadata": {},
   "outputs": [
    {
     "data": {
      "text/plain": [
       "array([0.78649763, 0.68120856, 0.78749098, 0.72818783])"
      ]
     },
     "execution_count": 15,
     "metadata": {},
     "output_type": "execute_result"
    }
   ],
   "source": [
    "# alternate cross validation method that allows data shuffling prior to spit (preferred method)\n",
    "\n",
    "# regression model (current example)\n",
    "cv = KFold(n_splits = 4, shuffle = True)\n",
    "cv_scores_shuffled = cross_val_score(regressor, X, y, cv = cv, scoring = 'r2')\n",
    "cv_scores_shuffled\n",
    "\n",
    "# classification model\n",
    "# cv = StratifiedKFold(n_splits = 4, shuffle = True) # forces each fold to contain same proportion of output class\n",
    "# cv_scores_shuffled = cross_val_score(classifier, X, y, cv = cv, scoring = 'accuracy') # classifier would need to be instantiated\n",
    "# cv_scores_shuffled"
   ]
  },
  {
   "cell_type": "code",
   "execution_count": 16,
   "metadata": {},
   "outputs": [
    {
     "data": {
      "text/plain": [
       "0.7458462518132294"
      ]
     },
     "execution_count": 16,
     "metadata": {},
     "output_type": "execute_result"
    }
   ],
   "source": [
    "# average (mean) cross-validation r2 score for shuffled data\n",
    "cv_scores_shuffled.mean()"
   ]
  }
 ],
 "metadata": {
  "kernelspec": {
   "display_name": "Python 3.9.12",
   "language": "python",
   "name": "python3"
  },
  "language_info": {
   "codemirror_mode": {
    "name": "ipython",
    "version": 3
   },
   "file_extension": ".py",
   "mimetype": "text/x-python",
   "name": "python",
   "nbconvert_exporter": "python",
   "pygments_lexer": "ipython3",
   "version": "3.9.12"
  },
  "orig_nbformat": 4,
  "vscode": {
   "interpreter": {
    "hash": "864fb72fa58be07f4055d468487424e4132a73f6ab835237ffcd5c869bf333aa"
   }
  }
 },
 "nbformat": 4,
 "nbformat_minor": 2
}
