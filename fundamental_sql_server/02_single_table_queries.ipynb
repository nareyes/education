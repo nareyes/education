{
    "metadata": {
        "kernelspec": {
            "name": "SQL",
            "display_name": "SQL",
            "language": "sql"
        },
        "language_info": {
            "name": "sql",
            "version": ""
        }
    },
    "nbformat_minor": 2,
    "nbformat": 4,
    "cells": [
        {
            "cell_type": "markdown",
            "source": [
                "# Ch 2: Single-Table Queries\r\n",
                "\r\n",
                "\r\n",
                "## Elements of the SELECT Statement\r\n",
                "\r\n",
                "### T-SQL Syntax Order\r\n",
                "1. SELECT\r\n",
                "2. FROM\r\n",
                "3. WHERE\r\n",
                "4. GROUP BY\r\n",
                "5. HAVING\r\n",
                "6. ORDER BY\r\n",
                "\r\n",
                "### T-SQL Logical Processing Order\r\n",
                "1. FROM\r\n",
                "2. WHERE\r\n",
                "3. GROUP BY\r\n",
                "4. HAVING\r\n",
                "5. SELECT\r\n",
                "6. ORDER BY\r\n",
                "\r\n",
                ">Clause: Syntactical component of a query (Ex: In the WHERE clause, you specify a predicate)\r\n",
                "\r\n",
                ">Phase: Logical manipulation taking place as part of a query (Ex: The WHERE phase returns rows for which the predicate evaluates to TRUE)\r\n",
                "\r\n",
                "## The FROM Clause\r\n",
                "\r\n",
                "- Specify table names and table operators (if needed)\r\n",
                "- Regular identifiers (table and column names) that comply with formatting rules do not need to be delimited\r\n",
                "- Irregular identifies must be surrounded by \" \" or [ ]\r\n",
                "    - OrderDetails -- regular\r\n",
                "    - \"Order Details\" -- irregular \r\n",
                "    - [Order Details] -- irregular\r\n",
                "- To return all rows from a table with no special manipulation, all you need is a query with a FROM clause with the specified table, and a SELECT clause with the specific attributes you want to return."
            ],
            "metadata": {
                "language": "sql",
                "azdata_cell_guid": "9da82969-7c40-4d74-922a-f6d715fe9560"
            },
            "attachments": {}
        },
        {
            "cell_type": "code",
            "source": [
                "USE TSQLV4;\r\n",
                "\r\n",
                "SELECT TOP 5\r\n",
                "    orderid, \r\n",
                "    custid, \r\n",
                "    empid, \r\n",
                "    orderdate, \r\n",
                "    freight\r\n",
                "FROM Sales.Orders;"
            ],
            "metadata": {
                "azdata_cell_guid": "faacbc83-df00-4955-bfb7-b17c2f2c2d32",
                "language": "sql"
            },
            "outputs": [
                {
                    "output_type": "display_data",
                    "data": {
                        "text/html": "(5 rows affected)"
                    },
                    "metadata": {}
                },
                {
                    "output_type": "display_data",
                    "data": {
                        "text/html": "Total execution time: 00:00:00.010"
                    },
                    "metadata": {}
                },
                {
                    "output_type": "execute_result",
                    "execution_count": 2,
                    "data": {
                        "application/vnd.dataresource+json": {
                            "schema": {
                                "fields": [
                                    {
                                        "name": "orderid"
                                    },
                                    {
                                        "name": "custid"
                                    },
                                    {
                                        "name": "empid"
                                    },
                                    {
                                        "name": "orderdate"
                                    },
                                    {
                                        "name": "freight"
                                    }
                                ]
                            },
                            "data": [
                                {
                                    "0": "10248",
                                    "1": "85",
                                    "2": "5",
                                    "3": "2014-07-04",
                                    "4": "32.38"
                                },
                                {
                                    "0": "10249",
                                    "1": "79",
                                    "2": "6",
                                    "3": "2014-07-05",
                                    "4": "11.61"
                                },
                                {
                                    "0": "10250",
                                    "1": "34",
                                    "2": "4",
                                    "3": "2014-07-08",
                                    "4": "65.83"
                                },
                                {
                                    "0": "10251",
                                    "1": "84",
                                    "2": "3",
                                    "3": "2014-07-08",
                                    "4": "41.34"
                                },
                                {
                                    "0": "10252",
                                    "1": "76",
                                    "2": "4",
                                    "3": "2014-07-09",
                                    "4": "51.30"
                                }
                            ]
                        },
                        "text/html": "<table><tr><th>orderid</th><th>custid</th><th>empid</th><th>orderdate</th><th>freight</th></tr><tr><td>10248</td><td>85</td><td>5</td><td>2014-07-04</td><td>32.38</td></tr><tr><td>10249</td><td>79</td><td>6</td><td>2014-07-05</td><td>11.61</td></tr><tr><td>10250</td><td>34</td><td>4</td><td>2014-07-08</td><td>65.83</td></tr><tr><td>10251</td><td>84</td><td>3</td><td>2014-07-08</td><td>41.34</td></tr><tr><td>10252</td><td>76</td><td>4</td><td>2014-07-09</td><td>51.30</td></tr></table>"
                    },
                    "metadata": {}
                }
            ],
            "execution_count": 2
        },
        {
            "cell_type": "markdown",
            "source": [
                "# The WHERE Clause\r\n",
                "\r\n",
                "- Predicates or logical expressions are specified in the WHERE clause\r\n",
                "- Rows for which the logical expression evaluates to TRUE are returned, while FALSE and UNKOWN are discarded\r\n",
                "- Filtering queries reduces network traffic created by returning all rows"
            ],
            "metadata": {
                "azdata_cell_guid": "3704d79a-0929-4d60-8d5f-84c83229ea60"
            },
            "attachments": {}
        },
        {
            "cell_type": "code",
            "source": [
                "USE TSQLV4;\r\n",
                "\r\n",
                "SELECT TOP 5\r\n",
                "    orderid, \r\n",
                "    custid, \r\n",
                "    empid, \r\n",
                "    orderdate, \r\n",
                "    freight \r\n",
                "FROM Sales.Orders\r\n",
                "WHERE custid = 71;"
            ],
            "metadata": {
                "azdata_cell_guid": "6560a8ed-2a35-4d5d-9096-1e521e4c8d0c",
                "language": "sql"
            },
            "outputs": [
                {
                    "output_type": "display_data",
                    "data": {
                        "text/html": "(5 rows affected)"
                    },
                    "metadata": {}
                },
                {
                    "output_type": "display_data",
                    "data": {
                        "text/html": "Total execution time: 00:00:00.029"
                    },
                    "metadata": {}
                },
                {
                    "output_type": "execute_result",
                    "execution_count": 3,
                    "data": {
                        "application/vnd.dataresource+json": {
                            "schema": {
                                "fields": [
                                    {
                                        "name": "orderid"
                                    },
                                    {
                                        "name": "custid"
                                    },
                                    {
                                        "name": "empid"
                                    },
                                    {
                                        "name": "orderdate"
                                    },
                                    {
                                        "name": "freight"
                                    }
                                ]
                            },
                            "data": [
                                {
                                    "0": "10324",
                                    "1": "71",
                                    "2": "9",
                                    "3": "2014-10-08",
                                    "4": "214.27"
                                },
                                {
                                    "0": "10393",
                                    "1": "71",
                                    "2": "1",
                                    "3": "2014-12-25",
                                    "4": "126.56"
                                },
                                {
                                    "0": "10398",
                                    "1": "71",
                                    "2": "2",
                                    "3": "2014-12-30",
                                    "4": "89.16"
                                },
                                {
                                    "0": "10440",
                                    "1": "71",
                                    "2": "4",
                                    "3": "2015-02-10",
                                    "4": "86.53"
                                },
                                {
                                    "0": "10452",
                                    "1": "71",
                                    "2": "8",
                                    "3": "2015-02-20",
                                    "4": "140.26"
                                }
                            ]
                        },
                        "text/html": "<table><tr><th>orderid</th><th>custid</th><th>empid</th><th>orderdate</th><th>freight</th></tr><tr><td>10324</td><td>71</td><td>9</td><td>2014-10-08</td><td>214.27</td></tr><tr><td>10393</td><td>71</td><td>1</td><td>2014-12-25</td><td>126.56</td></tr><tr><td>10398</td><td>71</td><td>2</td><td>2014-12-30</td><td>89.16</td></tr><tr><td>10440</td><td>71</td><td>4</td><td>2015-02-10</td><td>86.53</td></tr><tr><td>10452</td><td>71</td><td>8</td><td>2015-02-20</td><td>140.26</td></tr></table>"
                    },
                    "metadata": {}
                }
            ],
            "execution_count": 3
        },
        {
            "cell_type": "markdown",
            "source": [
                "# The GROUP BY Clause\r\n",
                "\r\n",
                "- Arranges rows returned by the previous logical processing phases into groups, determined by elements specified in the clause\r\n",
                "- All phases subsequent to the GROUP BY phase (including HAVING, SELECT and ORDER BY) must operate on groups\r\n",
                "- Each group is represented by a single row (scalar) in the final result\r\n",
                "- Elements that are not in the GROUP BY clause must be inputted as aggregate functions in the SELECT statement\r\n",
                "- Note that all aggregate functions except for COUNT(*) ignore NULLs"
            ],
            "metadata": {
                "azdata_cell_guid": "ea8c3c31-ba3c-49e1-b297-af16f48cd1cb"
            },
            "attachments": {}
        },
        {
            "cell_type": "code",
            "source": [
                "USE TSQLV4;\r\n",
                "\r\n",
                "SELECT TOP 5\r\n",
                "  empid, \r\n",
                "  YEAR(orderdate) AS orderyear, \r\n",
                "  SUM(freight) AS totalfreight, \r\n",
                "  COUNT(*) AS numorders \r\n",
                "FROM Sales.Orders \r\n",
                "WHERE custid = 71 \r\n",
                "GROUP BY empid, YEAR(orderdate);"
            ],
            "metadata": {
                "azdata_cell_guid": "c026f125-7f6e-4e68-b1a7-2cd4cb3e1589",
                "language": "sql"
            },
            "outputs": [
                {
                    "output_type": "display_data",
                    "data": {
                        "text/html": "(5 rows affected)"
                    },
                    "metadata": {}
                },
                {
                    "output_type": "display_data",
                    "data": {
                        "text/html": "Total execution time: 00:00:00.020"
                    },
                    "metadata": {}
                },
                {
                    "output_type": "execute_result",
                    "execution_count": 4,
                    "data": {
                        "application/vnd.dataresource+json": {
                            "schema": {
                                "fields": [
                                    {
                                        "name": "empid"
                                    },
                                    {
                                        "name": "orderyear"
                                    },
                                    {
                                        "name": "totalfreight"
                                    },
                                    {
                                        "name": "numorders"
                                    }
                                ]
                            },
                            "data": [
                                {
                                    "0": "1",
                                    "1": "2014",
                                    "2": "126.56",
                                    "3": "1"
                                },
                                {
                                    "0": "2",
                                    "1": "2014",
                                    "2": "89.16",
                                    "3": "1"
                                },
                                {
                                    "0": "9",
                                    "1": "2014",
                                    "2": "214.27",
                                    "3": "1"
                                },
                                {
                                    "0": "1",
                                    "1": "2015",
                                    "2": "711.13",
                                    "3": "2"
                                },
                                {
                                    "0": "2",
                                    "1": "2015",
                                    "2": "352.69",
                                    "3": "1"
                                }
                            ]
                        },
                        "text/html": "<table><tr><th>empid</th><th>orderyear</th><th>totalfreight</th><th>numorders</th></tr><tr><td>1</td><td>2014</td><td>126.56</td><td>1</td></tr><tr><td>2</td><td>2014</td><td>89.16</td><td>1</td></tr><tr><td>9</td><td>2014</td><td>214.27</td><td>1</td></tr><tr><td>1</td><td>2015</td><td>711.13</td><td>2</td></tr><tr><td>2</td><td>2015</td><td>352.69</td><td>1</td></tr></table>"
                    },
                    "metadata": {}
                }
            ],
            "execution_count": 4
        },
        {
            "cell_type": "markdown",
            "source": [
                "# The HAVING Clause\r\n",
                "\r\n",
                "- Group specific filter that filters elements in the GROUP BY clause\r\n",
                "- Only groups for which the HAVING predicates evaluate to TRUE are returned, while FALSE and UNKNOWN are discarded\r\n",
                "- Because the HAVING clause is processed after the GROUP BY clause, you can refer to aggregate functions in the logical expression"
            ],
            "metadata": {
                "azdata_cell_guid": "6bea5879-8d91-4d45-bcc9-28119c4e9cbf"
            },
            "attachments": {}
        },
        {
            "cell_type": "code",
            "source": [
                "USE TSQLV4;\r\n",
                "\r\n",
                "SELECT TOP 5\r\n",
                "    empid, \r\n",
                "    YEAR(orderdate) AS orderyear \r\n",
                "FROM Sales.Orders \r\n",
                "WHERE custid = 71 \r\n",
                "GROUP BY empid, YEAR(orderdate) \r\n",
                "HAVING COUNT(*) > 1;\r\n",
                "-- Returns employees who sold more than one order to customer 71, grouped by employee and year."
            ],
            "metadata": {
                "azdata_cell_guid": "ea6bbb45-1061-4fb8-9115-ade77d8b2a86",
                "language": "sql"
            },
            "outputs": [
                {
                    "output_type": "display_data",
                    "data": {
                        "text/html": "(5 rows affected)"
                    },
                    "metadata": {}
                },
                {
                    "output_type": "display_data",
                    "data": {
                        "text/html": "Total execution time: 00:00:00.023"
                    },
                    "metadata": {}
                },
                {
                    "output_type": "execute_result",
                    "execution_count": 5,
                    "data": {
                        "application/vnd.dataresource+json": {
                            "schema": {
                                "fields": [
                                    {
                                        "name": "empid"
                                    },
                                    {
                                        "name": "orderyear"
                                    }
                                ]
                            },
                            "data": [
                                {
                                    "0": "1",
                                    "1": "2015"
                                },
                                {
                                    "0": "3",
                                    "1": "2015"
                                },
                                {
                                    "0": "5",
                                    "1": "2015"
                                },
                                {
                                    "0": "6",
                                    "1": "2015"
                                },
                                {
                                    "0": "8",
                                    "1": "2015"
                                }
                            ]
                        },
                        "text/html": "<table><tr><th>empid</th><th>orderyear</th></tr><tr><td>1</td><td>2015</td></tr><tr><td>3</td><td>2015</td></tr><tr><td>5</td><td>2015</td></tr><tr><td>6</td><td>2015</td></tr><tr><td>8</td><td>2015</td></tr></table>"
                    },
                    "metadata": {}
                }
            ],
            "execution_count": 5
        },
        {
            "cell_type": "markdown",
            "source": [
                "# The SELECT Clause\r\n",
                "\r\n",
                "- The SELECT clause is where attributes (columns) are specified\r\n",
                "- Expressions with no manipulations default to the source attribute name, while expressions with manipulations need to be aliased in order to return a column name\r\n",
                "- Since the SELECT clause is processed after the FROM, WHERE, GROUP BY, and HAVING clauses, aliases assigned in the SELECT statement cannot be referenced in those clauses\r\n",
                "- The DISTINCT clause can be used in the SELECT statement to remove duplicate rows\r\n",
                "- SQL allows specifying an asterisk (*) in the SELECT list instead of specific attributes, returning all attributes in the specified table. This is considered bad programming practice in most cases, and individual attributes should be listed in the order in which you want them returned in the result set."
            ],
            "metadata": {
                "azdata_cell_guid": "45336c80-41d5-4e39-be96-88ec29a1eebd"
            },
            "attachments": {}
        },
        {
            "cell_type": "code",
            "source": [
                "USE TSQLV4;\r\n",
                "\r\n",
                "SELECT TOP 5\r\n",
                "    orderid,\r\n",
                "    SUM(freight) AS totalfreight -- aliased column\r\n",
                "FROM Sales.Orders\r\n",
                "GROUP BY orderid;\r\n",
                "\r\n",
                "SELECT DISTINCT \r\n",
                "    empid, \r\n",
                "    YEAR(orderdate) AS orderyear \r\n",
                "FROM Sales.Orders \r\n",
                "WHERE custid = 71;\r\n",
                "\r\n",
                "SELECT TOP 5 *\r\n",
                "FROM Sales.Orders;"
            ],
            "metadata": {
                "azdata_cell_guid": "0531053e-78fa-4d06-8d54-448a12537dcd",
                "language": "sql"
            },
            "outputs": [
                {
                    "output_type": "display_data",
                    "data": {
                        "text/html": "(5 rows affected)"
                    },
                    "metadata": {}
                },
                {
                    "output_type": "display_data",
                    "data": {
                        "text/html": "(16 rows affected)"
                    },
                    "metadata": {}
                },
                {
                    "output_type": "display_data",
                    "data": {
                        "text/html": "(5 rows affected)"
                    },
                    "metadata": {}
                },
                {
                    "output_type": "display_data",
                    "data": {
                        "text/html": "Total execution time: 00:00:00.070"
                    },
                    "metadata": {}
                },
                {
                    "output_type": "execute_result",
                    "execution_count": 7,
                    "data": {
                        "application/vnd.dataresource+json": {
                            "schema": {
                                "fields": [
                                    {
                                        "name": "orderid"
                                    },
                                    {
                                        "name": "totalfreight"
                                    }
                                ]
                            },
                            "data": [
                                {
                                    "0": "10248",
                                    "1": "32.38"
                                },
                                {
                                    "0": "10249",
                                    "1": "11.61"
                                },
                                {
                                    "0": "10250",
                                    "1": "65.83"
                                },
                                {
                                    "0": "10251",
                                    "1": "41.34"
                                },
                                {
                                    "0": "10252",
                                    "1": "51.30"
                                }
                            ]
                        },
                        "text/html": "<table><tr><th>orderid</th><th>totalfreight</th></tr><tr><td>10248</td><td>32.38</td></tr><tr><td>10249</td><td>11.61</td></tr><tr><td>10250</td><td>65.83</td></tr><tr><td>10251</td><td>41.34</td></tr><tr><td>10252</td><td>51.30</td></tr></table>"
                    },
                    "metadata": {}
                },
                {
                    "output_type": "execute_result",
                    "execution_count": 7,
                    "data": {
                        "application/vnd.dataresource+json": {
                            "schema": {
                                "fields": [
                                    {
                                        "name": "empid"
                                    },
                                    {
                                        "name": "orderyear"
                                    }
                                ]
                            },
                            "data": [
                                {
                                    "0": "1",
                                    "1": "2014"
                                },
                                {
                                    "0": "1",
                                    "1": "2015"
                                },
                                {
                                    "0": "1",
                                    "1": "2016"
                                },
                                {
                                    "0": "2",
                                    "1": "2014"
                                },
                                {
                                    "0": "2",
                                    "1": "2015"
                                },
                                {
                                    "0": "2",
                                    "1": "2016"
                                },
                                {
                                    "0": "3",
                                    "1": "2015"
                                },
                                {
                                    "0": "4",
                                    "1": "2015"
                                },
                                {
                                    "0": "4",
                                    "1": "2016"
                                },
                                {
                                    "0": "5",
                                    "1": "2015"
                                },
                                {
                                    "0": "6",
                                    "1": "2015"
                                },
                                {
                                    "0": "6",
                                    "1": "2016"
                                },
                                {
                                    "0": "7",
                                    "1": "2015"
                                },
                                {
                                    "0": "7",
                                    "1": "2016"
                                },
                                {
                                    "0": "8",
                                    "1": "2015"
                                },
                                {
                                    "0": "9",
                                    "1": "2014"
                                }
                            ]
                        },
                        "text/html": "<table><tr><th>empid</th><th>orderyear</th></tr><tr><td>1</td><td>2014</td></tr><tr><td>1</td><td>2015</td></tr><tr><td>1</td><td>2016</td></tr><tr><td>2</td><td>2014</td></tr><tr><td>2</td><td>2015</td></tr><tr><td>2</td><td>2016</td></tr><tr><td>3</td><td>2015</td></tr><tr><td>4</td><td>2015</td></tr><tr><td>4</td><td>2016</td></tr><tr><td>5</td><td>2015</td></tr><tr><td>6</td><td>2015</td></tr><tr><td>6</td><td>2016</td></tr><tr><td>7</td><td>2015</td></tr><tr><td>7</td><td>2016</td></tr><tr><td>8</td><td>2015</td></tr><tr><td>9</td><td>2014</td></tr></table>"
                    },
                    "metadata": {}
                },
                {
                    "output_type": "execute_result",
                    "execution_count": 7,
                    "data": {
                        "application/vnd.dataresource+json": {
                            "schema": {
                                "fields": [
                                    {
                                        "name": "orderid"
                                    },
                                    {
                                        "name": "custid"
                                    },
                                    {
                                        "name": "empid"
                                    },
                                    {
                                        "name": "orderdate"
                                    },
                                    {
                                        "name": "requireddate"
                                    },
                                    {
                                        "name": "shippeddate"
                                    },
                                    {
                                        "name": "shipperid"
                                    },
                                    {
                                        "name": "freight"
                                    },
                                    {
                                        "name": "shipname"
                                    },
                                    {
                                        "name": "shipaddress"
                                    },
                                    {
                                        "name": "shipcity"
                                    },
                                    {
                                        "name": "shipregion"
                                    },
                                    {
                                        "name": "shippostalcode"
                                    },
                                    {
                                        "name": "shipcountry"
                                    }
                                ]
                            },
                            "data": [
                                {
                                    "0": "10248",
                                    "1": "85",
                                    "2": "5",
                                    "3": "2014-07-04",
                                    "4": "2014-08-01",
                                    "5": "2014-07-16",
                                    "6": "3",
                                    "7": "32.38",
                                    "8": "Ship to 85-B",
                                    "9": "6789 rue de l'Abbaye",
                                    "10": "Reims",
                                    "11": "NULL",
                                    "12": "10345",
                                    "13": "France"
                                },
                                {
                                    "0": "10249",
                                    "1": "79",
                                    "2": "6",
                                    "3": "2014-07-05",
                                    "4": "2014-08-16",
                                    "5": "2014-07-10",
                                    "6": "1",
                                    "7": "11.61",
                                    "8": "Ship to 79-C",
                                    "9": "Luisenstr. 9012",
                                    "10": "Münster",
                                    "11": "NULL",
                                    "12": "10328",
                                    "13": "Germany"
                                },
                                {
                                    "0": "10250",
                                    "1": "34",
                                    "2": "4",
                                    "3": "2014-07-08",
                                    "4": "2014-08-05",
                                    "5": "2014-07-12",
                                    "6": "2",
                                    "7": "65.83",
                                    "8": "Destination SCQXA",
                                    "9": "Rua do Paço, 7890",
                                    "10": "Rio de Janeiro",
                                    "11": "RJ",
                                    "12": "10195",
                                    "13": "Brazil"
                                },
                                {
                                    "0": "10251",
                                    "1": "84",
                                    "2": "3",
                                    "3": "2014-07-08",
                                    "4": "2014-08-05",
                                    "5": "2014-07-15",
                                    "6": "1",
                                    "7": "41.34",
                                    "8": "Ship to 84-A",
                                    "9": "3456, rue du Commerce",
                                    "10": "Lyon",
                                    "11": "NULL",
                                    "12": "10342",
                                    "13": "France"
                                },
                                {
                                    "0": "10252",
                                    "1": "76",
                                    "2": "4",
                                    "3": "2014-07-09",
                                    "4": "2014-08-06",
                                    "5": "2014-07-11",
                                    "6": "2",
                                    "7": "51.30",
                                    "8": "Ship to 76-B",
                                    "9": "Boulevard Tirou, 9012",
                                    "10": "Charleroi",
                                    "11": "NULL",
                                    "12": "10318",
                                    "13": "Belgium"
                                }
                            ]
                        },
                        "text/html": "<table><tr><th>orderid</th><th>custid</th><th>empid</th><th>orderdate</th><th>requireddate</th><th>shippeddate</th><th>shipperid</th><th>freight</th><th>shipname</th><th>shipaddress</th><th>shipcity</th><th>shipregion</th><th>shippostalcode</th><th>shipcountry</th></tr><tr><td>10248</td><td>85</td><td>5</td><td>2014-07-04</td><td>2014-08-01</td><td>2014-07-16</td><td>3</td><td>32.38</td><td>Ship to 85-B</td><td>6789 rue de l'Abbaye</td><td>Reims</td><td>NULL</td><td>10345</td><td>France</td></tr><tr><td>10249</td><td>79</td><td>6</td><td>2014-07-05</td><td>2014-08-16</td><td>2014-07-10</td><td>1</td><td>11.61</td><td>Ship to 79-C</td><td>Luisenstr. 9012</td><td>Münster</td><td>NULL</td><td>10328</td><td>Germany</td></tr><tr><td>10250</td><td>34</td><td>4</td><td>2014-07-08</td><td>2014-08-05</td><td>2014-07-12</td><td>2</td><td>65.83</td><td>Destination SCQXA</td><td>Rua do Paço, 7890</td><td>Rio de Janeiro</td><td>RJ</td><td>10195</td><td>Brazil</td></tr><tr><td>10251</td><td>84</td><td>3</td><td>2014-07-08</td><td>2014-08-05</td><td>2014-07-15</td><td>1</td><td>41.34</td><td>Ship to 84-A</td><td>3456, rue du Commerce</td><td>Lyon</td><td>NULL</td><td>10342</td><td>France</td></tr><tr><td>10252</td><td>76</td><td>4</td><td>2014-07-09</td><td>2014-08-06</td><td>2014-07-11</td><td>2</td><td>51.30</td><td>Ship to 76-B</td><td>Boulevard Tirou, 9012</td><td>Charleroi</td><td>NULL</td><td>10318</td><td>Belgium</td></tr></table>"
                    },
                    "metadata": {}
                }
            ],
            "execution_count": 7
        },
        {
            "cell_type": "markdown",
            "source": [
                "# The ORDER BY Clause\r\n",
                "\r\n",
                "- Used to sort the rows in the output for presentation purposes\r\n",
                "- Without an ORDER BY clause, a query result has no guaranteed order\r\n",
                "- Since the ORDER BY phase is processed after the SELECT phase where column aliases are defined, you can refer to the aliases\r\n",
                "- Ascending order is the default, but you can specify sort order by adding ASC or DESC to the statemen (tt is considered best practice to specify ASC even though that is the default)\r\n",
                "- You can specify elements in the ORDER BY clause that do not appear in the SELECT clause, unless a DISTINCT clause is specified. "
            ],
            "metadata": {
                "azdata_cell_guid": "73da3251-358d-4fbe-a0c5-2680578fdfe9"
            },
            "attachments": {}
        },
        {
            "cell_type": "code",
            "source": [
                "USE TSQLV4;\r\n",
                "\r\n",
                "SELECT TOP 5\r\n",
                "    empid, \r\n",
                "    YEAR(orderdate) AS orderyear, \r\n",
                "    COUNT(*) AS numorders \r\n",
                "FROM Sales.Orders \r\n",
                "WHERE custid = 71 \r\n",
                "GROUP BY empid, YEAR(orderdate) \r\n",
                "HAVING COUNT(*) > 1 \r\n",
                "ORDER BY empid ASC, orderyear ASC;"
            ],
            "metadata": {
                "azdata_cell_guid": "7d07b2ef-21d8-4c78-8c44-d0d22c426c25",
                "language": "sql"
            },
            "outputs": [
                {
                    "output_type": "display_data",
                    "data": {
                        "text/html": "(5 rows affected)"
                    },
                    "metadata": {}
                },
                {
                    "output_type": "display_data",
                    "data": {
                        "text/html": "Total execution time: 00:00:00.030"
                    },
                    "metadata": {}
                },
                {
                    "output_type": "execute_result",
                    "execution_count": 8,
                    "data": {
                        "application/vnd.dataresource+json": {
                            "schema": {
                                "fields": [
                                    {
                                        "name": "empid"
                                    },
                                    {
                                        "name": "orderyear"
                                    },
                                    {
                                        "name": "numorders"
                                    }
                                ]
                            },
                            "data": [
                                {
                                    "0": "1",
                                    "1": "2015",
                                    "2": "2"
                                },
                                {
                                    "0": "1",
                                    "1": "2016",
                                    "2": "3"
                                },
                                {
                                    "0": "2",
                                    "1": "2016",
                                    "2": "2"
                                },
                                {
                                    "0": "3",
                                    "1": "2015",
                                    "2": "2"
                                },
                                {
                                    "0": "4",
                                    "1": "2016",
                                    "2": "3"
                                }
                            ]
                        },
                        "text/html": "<table><tr><th>empid</th><th>orderyear</th><th>numorders</th></tr><tr><td>1</td><td>2015</td><td>2</td></tr><tr><td>1</td><td>2016</td><td>3</td></tr><tr><td>2</td><td>2016</td><td>2</td></tr><tr><td>3</td><td>2015</td><td>2</td></tr><tr><td>4</td><td>2016</td><td>3</td></tr></table>"
                    },
                    "metadata": {}
                }
            ],
            "execution_count": 8
        },
        {
            "cell_type": "markdown",
            "source": [
                "# The TOP Filter\r\n",
                "\r\n",
                "- T-SQL feature that limits the number or percentage of rows returned by the query\r\n",
                "- It relies on two elements;\r\n",
                "\t- The number or percent of rows to return\r\n",
                "\t- A sort order specified in the ORDER BY clause (optional)\r\n",
                "- When percent is used, the number of rows returned is calculated based on a percentage of the number of qualifying rows, rounded up\r\n",
                "- If DISTINCT is specified in the SELECT statement, the TOP filter is evaluated after duplicate rows have been removed.\r\n",
                "- The WITH TIES expression can be added to the TOP filter to return rows with the same sort value. "
            ],
            "metadata": {
                "azdata_cell_guid": "c11e9db4-3364-4a59-97ef-e3a48490c8db"
            },
            "attachments": {}
        },
        {
            "cell_type": "code",
            "source": [
                "USE TSQLV4;\r\n",
                "\r\n",
                "SELECT TOP (5)\r\n",
                "    orderid,\r\n",
                "    orderdate,\r\n",
                "    custid,\r\n",
                "    empid\r\n",
                "FROM Sales.Orders\r\n",
                "ORDER BY orderdate DESC; -- returns 5 rows\r\n",
                "\r\n",
                "SELECT TOP (5) WITH TIES \r\n",
                "    orderid, \r\n",
                "    orderdate, \r\n",
                "    custid, \r\n",
                "    empid \r\n",
                "FROM Sales.Orders \r\n",
                "ORDER BY orderdate DESC; -- returns 8 rows due to duplicate orderdate results\r\n",
                "\r\n",
                "SELECT TOP (5) *\r\n",
                "FROM Sales.Orders; -- this query can be used to explore the table without pulling all rows\r\n",
                "\r\n",
                "SELECT TOP (1) PERCENT\r\n",
                "    orderid,\r\n",
                "    orderdate,\r\n",
                "    custid,\r\n",
                "    empid\r\n",
                "FROM Sales.Orders\r\n",
                "ORDER BY orderdate DESC;"
            ],
            "metadata": {
                "azdata_cell_guid": "eee5916b-17b7-41bb-98b8-a0238dee82b8",
                "language": "sql"
            },
            "outputs": [
                {
                    "output_type": "display_data",
                    "data": {
                        "text/html": "(5 rows affected)"
                    },
                    "metadata": {}
                },
                {
                    "output_type": "display_data",
                    "data": {
                        "text/html": "(8 rows affected)"
                    },
                    "metadata": {}
                },
                {
                    "output_type": "display_data",
                    "data": {
                        "text/html": "(5 rows affected)"
                    },
                    "metadata": {}
                },
                {
                    "output_type": "display_data",
                    "data": {
                        "text/html": "(9 rows affected)"
                    },
                    "metadata": {}
                },
                {
                    "output_type": "display_data",
                    "data": {
                        "text/html": "Total execution time: 00:00:00.068"
                    },
                    "metadata": {}
                },
                {
                    "output_type": "execute_result",
                    "execution_count": 9,
                    "data": {
                        "application/vnd.dataresource+json": {
                            "schema": {
                                "fields": [
                                    {
                                        "name": "orderid"
                                    },
                                    {
                                        "name": "orderdate"
                                    },
                                    {
                                        "name": "custid"
                                    },
                                    {
                                        "name": "empid"
                                    }
                                ]
                            },
                            "data": [
                                {
                                    "0": "11077",
                                    "1": "2016-05-06",
                                    "2": "65",
                                    "3": "1"
                                },
                                {
                                    "0": "11076",
                                    "1": "2016-05-06",
                                    "2": "9",
                                    "3": "4"
                                },
                                {
                                    "0": "11075",
                                    "1": "2016-05-06",
                                    "2": "68",
                                    "3": "8"
                                },
                                {
                                    "0": "11074",
                                    "1": "2016-05-06",
                                    "2": "73",
                                    "3": "7"
                                },
                                {
                                    "0": "11073",
                                    "1": "2016-05-05",
                                    "2": "58",
                                    "3": "2"
                                }
                            ]
                        },
                        "text/html": "<table><tr><th>orderid</th><th>orderdate</th><th>custid</th><th>empid</th></tr><tr><td>11077</td><td>2016-05-06</td><td>65</td><td>1</td></tr><tr><td>11076</td><td>2016-05-06</td><td>9</td><td>4</td></tr><tr><td>11075</td><td>2016-05-06</td><td>68</td><td>8</td></tr><tr><td>11074</td><td>2016-05-06</td><td>73</td><td>7</td></tr><tr><td>11073</td><td>2016-05-05</td><td>58</td><td>2</td></tr></table>"
                    },
                    "metadata": {}
                },
                {
                    "output_type": "execute_result",
                    "execution_count": 9,
                    "data": {
                        "application/vnd.dataresource+json": {
                            "schema": {
                                "fields": [
                                    {
                                        "name": "orderid"
                                    },
                                    {
                                        "name": "orderdate"
                                    },
                                    {
                                        "name": "custid"
                                    },
                                    {
                                        "name": "empid"
                                    }
                                ]
                            },
                            "data": [
                                {
                                    "0": "11077",
                                    "1": "2016-05-06",
                                    "2": "65",
                                    "3": "1"
                                },
                                {
                                    "0": "11076",
                                    "1": "2016-05-06",
                                    "2": "9",
                                    "3": "4"
                                },
                                {
                                    "0": "11075",
                                    "1": "2016-05-06",
                                    "2": "68",
                                    "3": "8"
                                },
                                {
                                    "0": "11074",
                                    "1": "2016-05-06",
                                    "2": "73",
                                    "3": "7"
                                },
                                {
                                    "0": "11073",
                                    "1": "2016-05-05",
                                    "2": "58",
                                    "3": "2"
                                },
                                {
                                    "0": "11072",
                                    "1": "2016-05-05",
                                    "2": "20",
                                    "3": "4"
                                },
                                {
                                    "0": "11071",
                                    "1": "2016-05-05",
                                    "2": "46",
                                    "3": "1"
                                },
                                {
                                    "0": "11070",
                                    "1": "2016-05-05",
                                    "2": "44",
                                    "3": "2"
                                }
                            ]
                        },
                        "text/html": "<table><tr><th>orderid</th><th>orderdate</th><th>custid</th><th>empid</th></tr><tr><td>11077</td><td>2016-05-06</td><td>65</td><td>1</td></tr><tr><td>11076</td><td>2016-05-06</td><td>9</td><td>4</td></tr><tr><td>11075</td><td>2016-05-06</td><td>68</td><td>8</td></tr><tr><td>11074</td><td>2016-05-06</td><td>73</td><td>7</td></tr><tr><td>11073</td><td>2016-05-05</td><td>58</td><td>2</td></tr><tr><td>11072</td><td>2016-05-05</td><td>20</td><td>4</td></tr><tr><td>11071</td><td>2016-05-05</td><td>46</td><td>1</td></tr><tr><td>11070</td><td>2016-05-05</td><td>44</td><td>2</td></tr></table>"
                    },
                    "metadata": {}
                },
                {
                    "output_type": "execute_result",
                    "execution_count": 9,
                    "data": {
                        "application/vnd.dataresource+json": {
                            "schema": {
                                "fields": [
                                    {
                                        "name": "orderid"
                                    },
                                    {
                                        "name": "custid"
                                    },
                                    {
                                        "name": "empid"
                                    },
                                    {
                                        "name": "orderdate"
                                    },
                                    {
                                        "name": "requireddate"
                                    },
                                    {
                                        "name": "shippeddate"
                                    },
                                    {
                                        "name": "shipperid"
                                    },
                                    {
                                        "name": "freight"
                                    },
                                    {
                                        "name": "shipname"
                                    },
                                    {
                                        "name": "shipaddress"
                                    },
                                    {
                                        "name": "shipcity"
                                    },
                                    {
                                        "name": "shipregion"
                                    },
                                    {
                                        "name": "shippostalcode"
                                    },
                                    {
                                        "name": "shipcountry"
                                    }
                                ]
                            },
                            "data": [
                                {
                                    "0": "10248",
                                    "1": "85",
                                    "2": "5",
                                    "3": "2014-07-04",
                                    "4": "2014-08-01",
                                    "5": "2014-07-16",
                                    "6": "3",
                                    "7": "32.38",
                                    "8": "Ship to 85-B",
                                    "9": "6789 rue de l'Abbaye",
                                    "10": "Reims",
                                    "11": "NULL",
                                    "12": "10345",
                                    "13": "France"
                                },
                                {
                                    "0": "10249",
                                    "1": "79",
                                    "2": "6",
                                    "3": "2014-07-05",
                                    "4": "2014-08-16",
                                    "5": "2014-07-10",
                                    "6": "1",
                                    "7": "11.61",
                                    "8": "Ship to 79-C",
                                    "9": "Luisenstr. 9012",
                                    "10": "Münster",
                                    "11": "NULL",
                                    "12": "10328",
                                    "13": "Germany"
                                },
                                {
                                    "0": "10250",
                                    "1": "34",
                                    "2": "4",
                                    "3": "2014-07-08",
                                    "4": "2014-08-05",
                                    "5": "2014-07-12",
                                    "6": "2",
                                    "7": "65.83",
                                    "8": "Destination SCQXA",
                                    "9": "Rua do Paço, 7890",
                                    "10": "Rio de Janeiro",
                                    "11": "RJ",
                                    "12": "10195",
                                    "13": "Brazil"
                                },
                                {
                                    "0": "10251",
                                    "1": "84",
                                    "2": "3",
                                    "3": "2014-07-08",
                                    "4": "2014-08-05",
                                    "5": "2014-07-15",
                                    "6": "1",
                                    "7": "41.34",
                                    "8": "Ship to 84-A",
                                    "9": "3456, rue du Commerce",
                                    "10": "Lyon",
                                    "11": "NULL",
                                    "12": "10342",
                                    "13": "France"
                                },
                                {
                                    "0": "10252",
                                    "1": "76",
                                    "2": "4",
                                    "3": "2014-07-09",
                                    "4": "2014-08-06",
                                    "5": "2014-07-11",
                                    "6": "2",
                                    "7": "51.30",
                                    "8": "Ship to 76-B",
                                    "9": "Boulevard Tirou, 9012",
                                    "10": "Charleroi",
                                    "11": "NULL",
                                    "12": "10318",
                                    "13": "Belgium"
                                }
                            ]
                        },
                        "text/html": "<table><tr><th>orderid</th><th>custid</th><th>empid</th><th>orderdate</th><th>requireddate</th><th>shippeddate</th><th>shipperid</th><th>freight</th><th>shipname</th><th>shipaddress</th><th>shipcity</th><th>shipregion</th><th>shippostalcode</th><th>shipcountry</th></tr><tr><td>10248</td><td>85</td><td>5</td><td>2014-07-04</td><td>2014-08-01</td><td>2014-07-16</td><td>3</td><td>32.38</td><td>Ship to 85-B</td><td>6789 rue de l'Abbaye</td><td>Reims</td><td>NULL</td><td>10345</td><td>France</td></tr><tr><td>10249</td><td>79</td><td>6</td><td>2014-07-05</td><td>2014-08-16</td><td>2014-07-10</td><td>1</td><td>11.61</td><td>Ship to 79-C</td><td>Luisenstr. 9012</td><td>Münster</td><td>NULL</td><td>10328</td><td>Germany</td></tr><tr><td>10250</td><td>34</td><td>4</td><td>2014-07-08</td><td>2014-08-05</td><td>2014-07-12</td><td>2</td><td>65.83</td><td>Destination SCQXA</td><td>Rua do Paço, 7890</td><td>Rio de Janeiro</td><td>RJ</td><td>10195</td><td>Brazil</td></tr><tr><td>10251</td><td>84</td><td>3</td><td>2014-07-08</td><td>2014-08-05</td><td>2014-07-15</td><td>1</td><td>41.34</td><td>Ship to 84-A</td><td>3456, rue du Commerce</td><td>Lyon</td><td>NULL</td><td>10342</td><td>France</td></tr><tr><td>10252</td><td>76</td><td>4</td><td>2014-07-09</td><td>2014-08-06</td><td>2014-07-11</td><td>2</td><td>51.30</td><td>Ship to 76-B</td><td>Boulevard Tirou, 9012</td><td>Charleroi</td><td>NULL</td><td>10318</td><td>Belgium</td></tr></table>"
                    },
                    "metadata": {}
                },
                {
                    "output_type": "execute_result",
                    "execution_count": 9,
                    "data": {
                        "application/vnd.dataresource+json": {
                            "schema": {
                                "fields": [
                                    {
                                        "name": "orderid"
                                    },
                                    {
                                        "name": "orderdate"
                                    },
                                    {
                                        "name": "custid"
                                    },
                                    {
                                        "name": "empid"
                                    }
                                ]
                            },
                            "data": [
                                {
                                    "0": "11074",
                                    "1": "2016-05-06",
                                    "2": "73",
                                    "3": "7"
                                },
                                {
                                    "0": "11075",
                                    "1": "2016-05-06",
                                    "2": "68",
                                    "3": "8"
                                },
                                {
                                    "0": "11076",
                                    "1": "2016-05-06",
                                    "2": "9",
                                    "3": "4"
                                },
                                {
                                    "0": "11077",
                                    "1": "2016-05-06",
                                    "2": "65",
                                    "3": "1"
                                },
                                {
                                    "0": "11070",
                                    "1": "2016-05-05",
                                    "2": "44",
                                    "3": "2"
                                },
                                {
                                    "0": "11071",
                                    "1": "2016-05-05",
                                    "2": "46",
                                    "3": "1"
                                },
                                {
                                    "0": "11072",
                                    "1": "2016-05-05",
                                    "2": "20",
                                    "3": "4"
                                },
                                {
                                    "0": "11073",
                                    "1": "2016-05-05",
                                    "2": "58",
                                    "3": "2"
                                },
                                {
                                    "0": "11067",
                                    "1": "2016-05-04",
                                    "2": "17",
                                    "3": "1"
                                }
                            ]
                        },
                        "text/html": "<table><tr><th>orderid</th><th>orderdate</th><th>custid</th><th>empid</th></tr><tr><td>11074</td><td>2016-05-06</td><td>73</td><td>7</td></tr><tr><td>11075</td><td>2016-05-06</td><td>68</td><td>8</td></tr><tr><td>11076</td><td>2016-05-06</td><td>9</td><td>4</td></tr><tr><td>11077</td><td>2016-05-06</td><td>65</td><td>1</td></tr><tr><td>11070</td><td>2016-05-05</td><td>44</td><td>2</td></tr><tr><td>11071</td><td>2016-05-05</td><td>46</td><td>1</td></tr><tr><td>11072</td><td>2016-05-05</td><td>20</td><td>4</td></tr><tr><td>11073</td><td>2016-05-05</td><td>58</td><td>2</td></tr><tr><td>11067</td><td>2016-05-04</td><td>17</td><td>1</td></tr></table>"
                    },
                    "metadata": {}
                }
            ],
            "execution_count": 9
        },
        {
            "cell_type": "markdown",
            "source": [
                "# The OFFSET-FETCH Filter\r\n",
                "\r\n",
                "- The OFFSET-FETCH filter supports a skipping option, making it useful for ad-hoc paging purposes\r\n",
                "- This filter is considered an extension to the ORDER BY clause.\r\n",
                "- The OFFSET clause indicated how many rows to skip, and the FETCH clause indicates how many rows to return after the skipped rows\r\n",
                "- The OFFSET-FETCH filter must have an ORDER BY clause\r\n",
                "- The FETCH clause must be combined with the OFFSET clause. If you do not want to skip any rows, you can specify this with OFFSET 0 ROWS.\r\n",
                "- OFFSET without FETCH is allowed, and will return all remaining rows in the result after the query skips the indicated number of rows in the OFFSET clause"
            ],
            "metadata": {
                "azdata_cell_guid": "7d984817-fbb5-4cc6-a572-e8f22dd3d4e7"
            },
            "attachments": {}
        },
        {
            "cell_type": "code",
            "source": [
                "USE TSQLV4;\r\n",
                "\r\n",
                "SELECT \r\n",
                "    orderid, \r\n",
                "    orderdate, \r\n",
                "    custid, \r\n",
                "    empid \r\n",
                "FROM Sales.Orders \r\n",
                "ORDER BY orderdate, orderid \r\n",
                "OFFSET 50 ROWS FETCH NEXT 5 ROWS ONLY;"
            ],
            "metadata": {
                "azdata_cell_guid": "0ceeff7d-2a60-4023-9925-f525649b6b25",
                "language": "sql"
            },
            "outputs": [
                {
                    "output_type": "display_data",
                    "data": {
                        "text/html": "(5 rows affected)"
                    },
                    "metadata": {}
                },
                {
                    "output_type": "display_data",
                    "data": {
                        "text/html": "Total execution time: 00:00:00.009"
                    },
                    "metadata": {}
                },
                {
                    "output_type": "execute_result",
                    "execution_count": 11,
                    "data": {
                        "application/vnd.dataresource+json": {
                            "schema": {
                                "fields": [
                                    {
                                        "name": "orderid"
                                    },
                                    {
                                        "name": "orderdate"
                                    },
                                    {
                                        "name": "custid"
                                    },
                                    {
                                        "name": "empid"
                                    }
                                ]
                            },
                            "data": [
                                {
                                    "0": "10298",
                                    "1": "2014-09-05",
                                    "2": "37",
                                    "3": "6"
                                },
                                {
                                    "0": "10299",
                                    "1": "2014-09-06",
                                    "2": "67",
                                    "3": "4"
                                },
                                {
                                    "0": "10300",
                                    "1": "2014-09-09",
                                    "2": "49",
                                    "3": "2"
                                },
                                {
                                    "0": "10301",
                                    "1": "2014-09-09",
                                    "2": "86",
                                    "3": "8"
                                },
                                {
                                    "0": "10302",
                                    "1": "2014-09-10",
                                    "2": "76",
                                    "3": "4"
                                }
                            ]
                        },
                        "text/html": "<table><tr><th>orderid</th><th>orderdate</th><th>custid</th><th>empid</th></tr><tr><td>10298</td><td>2014-09-05</td><td>37</td><td>6</td></tr><tr><td>10299</td><td>2014-09-06</td><td>67</td><td>4</td></tr><tr><td>10300</td><td>2014-09-09</td><td>49</td><td>2</td></tr><tr><td>10301</td><td>2014-09-09</td><td>86</td><td>8</td></tr><tr><td>10302</td><td>2014-09-10</td><td>76</td><td>4</td></tr></table>"
                    },
                    "metadata": {}
                }
            ],
            "execution_count": 11
        },
        {
            "cell_type": "markdown",
            "source": [
                "# Predicates and Operators\r\n",
                "\r\n",
                "- Predicates are logical expressions that evaluate to TRUE, FALSE, or UNKNOWN\r\n",
                "\t- IN: Checks whether a value is equal to at least one of the elements in a specified set\r\n",
                "\t- BETWEEN: Checks whether a value is in a specified range, inclusive of the specified delimiters\r\n",
                "\t- LIKE: Checks whether a character string meets a specified pattern\r\n",
                "- Predicates can be combined with logical operators such as AND, OR, NOT\r\n",
                "- Standard comparison operators include: = , > , < , >= , <= , <> (not equal)\r\n",
                "- Standard arithmetic operators include: + , - , * , ** , / , % (modulo)\r\n",
                "- Standard null predicates include: IS NULL and IS NOT NULL\r\n",
                "- When multiple operators appear in the same expression, SQL evaluates based on order of precedence (PEMDAS)\r\n",
                "\t- Parenthesis (Give you full control over precedence)\r\n",
                "\t- Multiplication, Division, Modulo\r\n",
                "\t- Positive, Negative, Addition, Concatenation, Subtraction\r\n",
                "\t- Comparison Operators\r\n",
                "\t- NOT\r\n",
                "\t- AND\r\n",
                "\t- BETWEEN, IN, LIKE, OR\r\n",
                "\t- Assignment ( = )"
            ],
            "metadata": {
                "azdata_cell_guid": "f7284548-33da-4acf-807c-221b192a9cf9"
            },
            "attachments": {}
        },
        {
            "cell_type": "code",
            "source": [
                "USE TSQLV4;\r\n",
                "\r\n",
                "-- Predicates\r\n",
                "SELECT  TOP 3\r\n",
                "    orderid, \r\n",
                "    empid, \r\n",
                "    orderdate\r\n",
                "FROM Sales.Orders\r\n",
                "WHERE orderid IN(10248, 10249, 10250);\r\n",
                "\r\n",
                "-- Predicates and Logical Operators\r\n",
                "SELECT TOP 3\r\n",
                "    orderid, \r\n",
                "    empid, \r\n",
                "    orderdate\r\n",
                "FROM Sales.Orders \r\n",
                "WHERE orderid BETWEEN 10300 AND 10310; -- inclusive\r\n",
                "\r\n",
                "SELECT\r\n",
                "    empid, \r\n",
                "    firstname, \r\n",
                "    lastname\r\n",
                "FROM HR.Employees \r\n",
                "WHERE lastname LIKE N'D%'; -- N (NCHAR or NVARCHAR data types), % is a wild card, anything follows\r\n",
                "\r\n",
                "-- Comparison Operators\r\n",
                "SELECT TOP 3\r\n",
                "    orderid, \r\n",
                "    empid, \r\n",
                "    orderdate\r\n",
                "FROM Sales.Orders \r\n",
                "WHERE orderdate >= '2016-01-01';\r\n",
                "\r\n",
                "-- Predicates and Comparison Operators\r\n",
                "SELECT TOP 3\r\n",
                "    orderid, \r\n",
                "    empid, \r\n",
                "    orderdate\r\n",
                "FROM Sales.Orders\r\n",
                "WHERE orderdate >= '2016-01-01' AND empid IN (1, 3, 5);\r\n",
                "\r\n",
                "-- Arithmetic\r\n",
                "SELECT TOP 3\r\n",
                "    orderid, \r\n",
                "    productid, \r\n",
                "    qty, \r\n",
                "    unitprice, \r\n",
                "    discount, \r\n",
                "    qty * unitprice * (1 - discount) AS val\r\n",
                "FROM Sales.OrderDetails;\r\n",
                "\r\n",
                "-- Precedence (AND has precedence over OR, despite the order query is written\r\n",
                "SELECT TOP 3\r\n",
                "    orderid, \r\n",
                "    custid, \r\n",
                "    empid, \r\n",
                "    orderdate \r\n",
                "FROM Sales.Orders \r\n",
                "WHERE  \r\n",
                "    custid = 1 AND \r\n",
                "    empid IN(1, 3, 5) OR  \r\n",
                "    custid = 85 AND \r\n",
                "    empid IN(2, 4, 6);"
            ],
            "metadata": {
                "azdata_cell_guid": "d918426f-1c88-46e4-82e8-812dde5e333b",
                "language": "sql"
            },
            "outputs": [
                {
                    "output_type": "display_data",
                    "data": {
                        "text/html": "(3 rows affected)"
                    },
                    "metadata": {}
                },
                {
                    "output_type": "display_data",
                    "data": {
                        "text/html": "(3 rows affected)"
                    },
                    "metadata": {}
                },
                {
                    "output_type": "display_data",
                    "data": {
                        "text/html": "(2 rows affected)"
                    },
                    "metadata": {}
                },
                {
                    "output_type": "display_data",
                    "data": {
                        "text/html": "(3 rows affected)"
                    },
                    "metadata": {}
                },
                {
                    "output_type": "display_data",
                    "data": {
                        "text/html": "(3 rows affected)"
                    },
                    "metadata": {}
                },
                {
                    "output_type": "display_data",
                    "data": {
                        "text/html": "(3 rows affected)"
                    },
                    "metadata": {}
                },
                {
                    "output_type": "display_data",
                    "data": {
                        "text/html": "(3 rows affected)"
                    },
                    "metadata": {}
                },
                {
                    "output_type": "display_data",
                    "data": {
                        "text/html": "Total execution time: 00:00:00.061"
                    },
                    "metadata": {}
                },
                {
                    "output_type": "execute_result",
                    "execution_count": 14,
                    "data": {
                        "application/vnd.dataresource+json": {
                            "schema": {
                                "fields": [
                                    {
                                        "name": "orderid"
                                    },
                                    {
                                        "name": "empid"
                                    },
                                    {
                                        "name": "orderdate"
                                    }
                                ]
                            },
                            "data": [
                                {
                                    "0": "10248",
                                    "1": "5",
                                    "2": "2014-07-04"
                                },
                                {
                                    "0": "10249",
                                    "1": "6",
                                    "2": "2014-07-05"
                                },
                                {
                                    "0": "10250",
                                    "1": "4",
                                    "2": "2014-07-08"
                                }
                            ]
                        },
                        "text/html": "<table><tr><th>orderid</th><th>empid</th><th>orderdate</th></tr><tr><td>10248</td><td>5</td><td>2014-07-04</td></tr><tr><td>10249</td><td>6</td><td>2014-07-05</td></tr><tr><td>10250</td><td>4</td><td>2014-07-08</td></tr></table>"
                    },
                    "metadata": {}
                },
                {
                    "output_type": "execute_result",
                    "execution_count": 14,
                    "data": {
                        "application/vnd.dataresource+json": {
                            "schema": {
                                "fields": [
                                    {
                                        "name": "orderid"
                                    },
                                    {
                                        "name": "empid"
                                    },
                                    {
                                        "name": "orderdate"
                                    }
                                ]
                            },
                            "data": [
                                {
                                    "0": "10300",
                                    "1": "2",
                                    "2": "2014-09-09"
                                },
                                {
                                    "0": "10301",
                                    "1": "8",
                                    "2": "2014-09-09"
                                },
                                {
                                    "0": "10302",
                                    "1": "4",
                                    "2": "2014-09-10"
                                }
                            ]
                        },
                        "text/html": "<table><tr><th>orderid</th><th>empid</th><th>orderdate</th></tr><tr><td>10300</td><td>2</td><td>2014-09-09</td></tr><tr><td>10301</td><td>8</td><td>2014-09-09</td></tr><tr><td>10302</td><td>4</td><td>2014-09-10</td></tr></table>"
                    },
                    "metadata": {}
                },
                {
                    "output_type": "execute_result",
                    "execution_count": 14,
                    "data": {
                        "application/vnd.dataresource+json": {
                            "schema": {
                                "fields": [
                                    {
                                        "name": "empid"
                                    },
                                    {
                                        "name": "firstname"
                                    },
                                    {
                                        "name": "lastname"
                                    }
                                ]
                            },
                            "data": [
                                {
                                    "0": "1",
                                    "1": "Sara",
                                    "2": "Davis"
                                },
                                {
                                    "0": "9",
                                    "1": "Patricia",
                                    "2": "Doyle"
                                }
                            ]
                        },
                        "text/html": "<table><tr><th>empid</th><th>firstname</th><th>lastname</th></tr><tr><td>1</td><td>Sara</td><td>Davis</td></tr><tr><td>9</td><td>Patricia</td><td>Doyle</td></tr></table>"
                    },
                    "metadata": {}
                },
                {
                    "output_type": "execute_result",
                    "execution_count": 14,
                    "data": {
                        "application/vnd.dataresource+json": {
                            "schema": {
                                "fields": [
                                    {
                                        "name": "orderid"
                                    },
                                    {
                                        "name": "empid"
                                    },
                                    {
                                        "name": "orderdate"
                                    }
                                ]
                            },
                            "data": [
                                {
                                    "0": "10808",
                                    "1": "2",
                                    "2": "2016-01-01"
                                },
                                {
                                    "0": "10809",
                                    "1": "7",
                                    "2": "2016-01-01"
                                },
                                {
                                    "0": "10810",
                                    "1": "2",
                                    "2": "2016-01-01"
                                }
                            ]
                        },
                        "text/html": "<table><tr><th>orderid</th><th>empid</th><th>orderdate</th></tr><tr><td>10808</td><td>2</td><td>2016-01-01</td></tr><tr><td>10809</td><td>7</td><td>2016-01-01</td></tr><tr><td>10810</td><td>2</td><td>2016-01-01</td></tr></table>"
                    },
                    "metadata": {}
                },
                {
                    "output_type": "execute_result",
                    "execution_count": 14,
                    "data": {
                        "application/vnd.dataresource+json": {
                            "schema": {
                                "fields": [
                                    {
                                        "name": "orderid"
                                    },
                                    {
                                        "name": "empid"
                                    },
                                    {
                                        "name": "orderdate"
                                    }
                                ]
                            },
                            "data": [
                                {
                                    "0": "10812",
                                    "1": "5",
                                    "2": "2016-01-02"
                                },
                                {
                                    "0": "10813",
                                    "1": "1",
                                    "2": "2016-01-05"
                                },
                                {
                                    "0": "10814",
                                    "1": "3",
                                    "2": "2016-01-05"
                                }
                            ]
                        },
                        "text/html": "<table><tr><th>orderid</th><th>empid</th><th>orderdate</th></tr><tr><td>10812</td><td>5</td><td>2016-01-02</td></tr><tr><td>10813</td><td>1</td><td>2016-01-05</td></tr><tr><td>10814</td><td>3</td><td>2016-01-05</td></tr></table>"
                    },
                    "metadata": {}
                },
                {
                    "output_type": "execute_result",
                    "execution_count": 14,
                    "data": {
                        "application/vnd.dataresource+json": {
                            "schema": {
                                "fields": [
                                    {
                                        "name": "orderid"
                                    },
                                    {
                                        "name": "productid"
                                    },
                                    {
                                        "name": "qty"
                                    },
                                    {
                                        "name": "unitprice"
                                    },
                                    {
                                        "name": "discount"
                                    },
                                    {
                                        "name": "val"
                                    }
                                ]
                            },
                            "data": [
                                {
                                    "0": "10248",
                                    "1": "11",
                                    "2": "12",
                                    "3": "14.00",
                                    "4": "0.000",
                                    "5": "168.0000000"
                                },
                                {
                                    "0": "10248",
                                    "1": "42",
                                    "2": "10",
                                    "3": "9.80",
                                    "4": "0.000",
                                    "5": "98.0000000"
                                },
                                {
                                    "0": "10248",
                                    "1": "72",
                                    "2": "5",
                                    "3": "34.80",
                                    "4": "0.000",
                                    "5": "174.0000000"
                                }
                            ]
                        },
                        "text/html": "<table><tr><th>orderid</th><th>productid</th><th>qty</th><th>unitprice</th><th>discount</th><th>val</th></tr><tr><td>10248</td><td>11</td><td>12</td><td>14.00</td><td>0.000</td><td>168.0000000</td></tr><tr><td>10248</td><td>42</td><td>10</td><td>9.80</td><td>0.000</td><td>98.0000000</td></tr><tr><td>10248</td><td>72</td><td>5</td><td>34.80</td><td>0.000</td><td>174.0000000</td></tr></table>"
                    },
                    "metadata": {}
                },
                {
                    "output_type": "execute_result",
                    "execution_count": 14,
                    "data": {
                        "application/vnd.dataresource+json": {
                            "schema": {
                                "fields": [
                                    {
                                        "name": "orderid"
                                    },
                                    {
                                        "name": "custid"
                                    },
                                    {
                                        "name": "empid"
                                    },
                                    {
                                        "name": "orderdate"
                                    }
                                ]
                            },
                            "data": [
                                {
                                    "0": "10274",
                                    "1": "85",
                                    "2": "6",
                                    "3": "2014-08-06"
                                },
                                {
                                    "0": "10295",
                                    "1": "85",
                                    "2": "2",
                                    "3": "2014-09-02"
                                },
                                {
                                    "0": "10737",
                                    "1": "85",
                                    "2": "2",
                                    "3": "2015-11-11"
                                }
                            ]
                        },
                        "text/html": "<table><tr><th>orderid</th><th>custid</th><th>empid</th><th>orderdate</th></tr><tr><td>10274</td><td>85</td><td>6</td><td>2014-08-06</td></tr><tr><td>10295</td><td>85</td><td>2</td><td>2014-09-02</td></tr><tr><td>10737</td><td>85</td><td>2</td><td>2015-11-11</td></tr></table>"
                    },
                    "metadata": {}
                }
            ],
            "execution_count": 14
        },
        {
            "cell_type": "markdown",
            "source": [
                "# CASE Expressions\r\n",
                "\r\n",
                "- Scalar expression that returns a value based on conditional logic\r\n",
                "- Allowed in the SELECT, WHERE, HAVING, and ORDER BY clauses\r\n",
                "- Two forms of CASE expressions are simple and searched\r\n",
                "\t- Use simple to compare one value or scalar expression with a list of possible values and return a value for the first match\r\n",
                "\t- Use searched when you need to specify predicates in the WHEN clause rather than being restricted to using equality comparisons\r\n",
                "\t\t- Returns the value in the THEN clause that is associated with the first WHEN predicate that evaluates to TRUE\r\n",
                "- Functions that act as abbreviates CASE expressions include: ISNULL and COALESCE (standard)\r\n",
                "\t- ISNULL accepts two arguments as input and returns the first value that is not NULL, or NULL if both are NULL\r\n",
                "\t- COALESCE accepts two or more arguments as input and returns the first value that is not NULL, or NULL if both are NULL"
            ],
            "metadata": {
                "azdata_cell_guid": "a1d1d336-6fd3-4bc0-b314-21e08055a080"
            },
            "attachments": {}
        },
        {
            "cell_type": "code",
            "source": [
                "USE TSQLV4;\r\n",
                "\r\n",
                "-- Simple\r\n",
                "SELECT TOP 3\r\n",
                "    productid,\r\n",
                "    productname,\r\n",
                "    categoryid,\r\n",
                "    CASE categoryid\r\n",
                "        WHEN 1 THEN 'Beverages' \r\n",
                "        WHEN 2 THEN 'Condiments' \r\n",
                "        WHEN 3 THEN 'Confections' \r\n",
                "        WHEN 4 THEN 'Dairy Products' \r\n",
                "        WHEN 5 THEN 'Grains/Cereals' \r\n",
                "        WHEN 6 THEN 'Meat/Poultry' \r\n",
                "        WHEN 7 THEN 'Produce' \r\n",
                "        WHEN 8 THEN 'Seafood' \r\n",
                "        ELSE 'Unknown Category' -- Optional, Defaults to ELSE IS NULL\r\n",
                "    END AS categoryname\r\n",
                "FROM Production.Products;\r\n",
                "\r\n",
                "-- Searched (More Flexibility)\r\n",
                "SELECT TOP 3\r\n",
                "    orderid,\r\n",
                "    custid,\r\n",
                "    val,\r\n",
                "    CASE\r\n",
                "        WHEN val < 1000.00 THEN 'Less than 1000'\r\n",
                "        WHEN val BETWEEN 1000.00 and 3000.00 THEN 'Between 1000 and 3000'\r\n",
                "        WHEN val > 3000.00 THEN 'More than 3000'\r\n",
                "        ELSE 'Unknown' -- Optional, Defaults to ELSE IS NULL\r\n",
                "    END AS valuecategory\r\n",
                "FROM Sales.OrderValues;\r\n",
                "\r\n",
                "-- These queries are for illustration purposes. In these specific cases, the category names would be stored in a seperate table that can be joined. \r\n",
                "\r\n",
                "-- ISNULL\r\n",
                "SELECT ISNULL('Hello', 'World') AS greeting -- Returns 'Hello'\r\n",
                "SELECT ISNULL(NULL, 'World') AS greeting -- Returns 'World'\r\n",
                "\r\n",
                "-- COALESCE\r\n",
                "SELECT COALESCE('Hello', NULL, 'World', NULL, NULL) AS greeting -- Returns 'Hello'\r\n",
                "SELECT COALESCE(NULL, NULL, 'World', NULL, 'World') AS greeting -- Returns 'World'"
            ],
            "metadata": {
                "azdata_cell_guid": "c16a7702-ed4f-4a0f-ad9b-81bb8ea6d06f",
                "language": "sql"
            },
            "outputs": [
                {
                    "output_type": "display_data",
                    "data": {
                        "text/html": "(3 rows affected)"
                    },
                    "metadata": {}
                },
                {
                    "output_type": "display_data",
                    "data": {
                        "text/html": "(3 rows affected)"
                    },
                    "metadata": {}
                },
                {
                    "output_type": "display_data",
                    "data": {
                        "text/html": "(1 row affected)"
                    },
                    "metadata": {}
                },
                {
                    "output_type": "display_data",
                    "data": {
                        "text/html": "(1 row affected)"
                    },
                    "metadata": {}
                },
                {
                    "output_type": "display_data",
                    "data": {
                        "text/html": "(1 row affected)"
                    },
                    "metadata": {}
                },
                {
                    "output_type": "display_data",
                    "data": {
                        "text/html": "(1 row affected)"
                    },
                    "metadata": {}
                },
                {
                    "output_type": "display_data",
                    "data": {
                        "text/html": "Total execution time: 00:00:00.239"
                    },
                    "metadata": {}
                },
                {
                    "output_type": "execute_result",
                    "metadata": {},
                    "execution_count": 1,
                    "data": {
                        "application/vnd.dataresource+json": {
                            "schema": {
                                "fields": [
                                    {
                                        "name": "productid"
                                    },
                                    {
                                        "name": "productname"
                                    },
                                    {
                                        "name": "categoryid"
                                    },
                                    {
                                        "name": "categoryname"
                                    }
                                ]
                            },
                            "data": [
                                {
                                    "0": "1",
                                    "1": "Product HHYDP",
                                    "2": "1",
                                    "3": "Beverages"
                                },
                                {
                                    "0": "2",
                                    "1": "Product RECZE",
                                    "2": "1",
                                    "3": "Beverages"
                                },
                                {
                                    "0": "3",
                                    "1": "Product IMEHJ",
                                    "2": "2",
                                    "3": "Condiments"
                                }
                            ]
                        },
                        "text/html": [
                            "<table>",
                            "<tr><th>productid</th><th>productname</th><th>categoryid</th><th>categoryname</th></tr>",
                            "<tr><td>1</td><td>Product HHYDP</td><td>1</td><td>Beverages</td></tr>",
                            "<tr><td>2</td><td>Product RECZE</td><td>1</td><td>Beverages</td></tr>",
                            "<tr><td>3</td><td>Product IMEHJ</td><td>2</td><td>Condiments</td></tr>",
                            "</table>"
                        ]
                    }
                },
                {
                    "output_type": "execute_result",
                    "metadata": {},
                    "execution_count": 1,
                    "data": {
                        "application/vnd.dataresource+json": {
                            "schema": {
                                "fields": [
                                    {
                                        "name": "orderid"
                                    },
                                    {
                                        "name": "custid"
                                    },
                                    {
                                        "name": "val"
                                    },
                                    {
                                        "name": "valuecategory"
                                    }
                                ]
                            },
                            "data": [
                                {
                                    "0": "10248",
                                    "1": "85",
                                    "2": "440.00",
                                    "3": "Less than 1000"
                                },
                                {
                                    "0": "10249",
                                    "1": "79",
                                    "2": "1863.40",
                                    "3": "Between 1000 and 3000"
                                },
                                {
                                    "0": "10250",
                                    "1": "34",
                                    "2": "1552.60",
                                    "3": "Between 1000 and 3000"
                                }
                            ]
                        },
                        "text/html": [
                            "<table>",
                            "<tr><th>orderid</th><th>custid</th><th>val</th><th>valuecategory</th></tr>",
                            "<tr><td>10248</td><td>85</td><td>440.00</td><td>Less than 1000</td></tr>",
                            "<tr><td>10249</td><td>79</td><td>1863.40</td><td>Between 1000 and 3000</td></tr>",
                            "<tr><td>10250</td><td>34</td><td>1552.60</td><td>Between 1000 and 3000</td></tr>",
                            "</table>"
                        ]
                    }
                },
                {
                    "output_type": "execute_result",
                    "metadata": {},
                    "execution_count": 1,
                    "data": {
                        "application/vnd.dataresource+json": {
                            "schema": {
                                "fields": [
                                    {
                                        "name": "greeting"
                                    }
                                ]
                            },
                            "data": [
                                {
                                    "0": "Hello"
                                }
                            ]
                        },
                        "text/html": [
                            "<table>",
                            "<tr><th>greeting</th></tr>",
                            "<tr><td>Hello</td></tr>",
                            "</table>"
                        ]
                    }
                },
                {
                    "output_type": "execute_result",
                    "metadata": {},
                    "execution_count": 1,
                    "data": {
                        "application/vnd.dataresource+json": {
                            "schema": {
                                "fields": [
                                    {
                                        "name": "greeting"
                                    }
                                ]
                            },
                            "data": [
                                {
                                    "0": "World"
                                }
                            ]
                        },
                        "text/html": [
                            "<table>",
                            "<tr><th>greeting</th></tr>",
                            "<tr><td>World</td></tr>",
                            "</table>"
                        ]
                    }
                },
                {
                    "output_type": "execute_result",
                    "metadata": {},
                    "execution_count": 1,
                    "data": {
                        "application/vnd.dataresource+json": {
                            "schema": {
                                "fields": [
                                    {
                                        "name": "greeting"
                                    }
                                ]
                            },
                            "data": [
                                {
                                    "0": "Hello"
                                }
                            ]
                        },
                        "text/html": [
                            "<table>",
                            "<tr><th>greeting</th></tr>",
                            "<tr><td>Hello</td></tr>",
                            "</table>"
                        ]
                    }
                },
                {
                    "output_type": "execute_result",
                    "metadata": {},
                    "execution_count": 1,
                    "data": {
                        "application/vnd.dataresource+json": {
                            "schema": {
                                "fields": [
                                    {
                                        "name": "greeting"
                                    }
                                ]
                            },
                            "data": [
                                {
                                    "0": "World"
                                }
                            ]
                        },
                        "text/html": [
                            "<table>",
                            "<tr><th>greeting</th></tr>",
                            "<tr><td>World</td></tr>",
                            "</table>"
                        ]
                    }
                }
            ],
            "execution_count": 1
        },
        {
            "cell_type": "markdown",
            "source": [
                "# Character Data Types\r\n",
                "\r\n",
                "- SQL Server supports two kinds of character data types: \r\n",
                "\t- Regular data types include CHAR and VARCHAR (1 byte per character)\r\n",
                "\t- Unicode data types include NCHAR and NVARCHAR (4 bytes per character)\r\n",
                "\t\t- When expressing a Unicode character literal, the character N (for National) is prefixed before the string\r\n",
                "\t- Data types without the VAR element in its name (CHAR, NCHAR) have a fixed length\r\n",
                "\t- Data types with the VAR element in its name (VARCHAR, NVARCHAR) have a variable length\r\n",
                "\t\t- SQL Server will use as much storage space as needed in the row\r\n",
                "- Single quotes are used to delimit character strings\r\n",
                "- Double quotes (or square brackets) are used to delimit irregular identifiers such as table or column names"
            ],
            "metadata": {
                "azdata_cell_guid": "e0690ee4-c6a5-4b8f-ab3e-3ba09ddd4189"
            },
            "attachments": {}
        },
        {
            "cell_type": "markdown",
            "source": [
                "# Functions\r\n",
                "\r\n",
                "- Common T-SQL Functions;\r\n",
                "    - CONCAT(StringValue1, StringValue2, StringValueN)\r\n",
                "    - SUBSTRING(String, Start, Length)\r\n",
                "    - LEFT(String, N), RIGHT(String, N) -- N is the number of characters to extract from the left or right end of the supplied string\r\n",
                "    - LEN(String)\r\n",
                "    - DATALENGTH(Expression)\r\n",
                "    - REPLACE(String, Substring1, Substring2) -- Replaces all occurences of of Substring1 with Substring2\r\n",
                "    - REPLICATE(String, N) -- N is the number of times the string is replicated\r\n",
                "    - UPPER(String), LOWER(String)\r\n",
                "    - LTRIM(String), RTRIM(String) -- Removes leading or trailing spaces\r\n",
                "    - FORMAT(Value, Format, Culture)"
            ],
            "metadata": {
                "azdata_cell_guid": "28660408-d26c-4097-9b1d-a94624cecfd3"
            },
            "attachments": {}
        },
        {
            "cell_type": "markdown",
            "source": [
                "# The LIKE Predicate\r\n",
                "\r\n",
                "- Checks whether a character string matches a specified pattern, supported by wildcard characters\r\n",
                "\t- The percent wildcard represents a string of any size, including an empty string\r\n",
                "\t- The underscore wildcard represents a single character\r\n",
                "\t- The [List] wildcard represents a single character that must be one of the specified characters in the list\r\n",
                "\t- The [Range] wildcard represents a single character that must be within the specified range\r\n",
                "\t- The [^List or Range] wildcard represents a single character that is NOT within the specified list or range "
            ],
            "metadata": {
                "azdata_cell_guid": "6c66fe1f-415d-40f2-9597-13efa3f475b9"
            },
            "attachments": {}
        },
        {
            "cell_type": "code",
            "source": [
                "USE TSQLV4;\r\n",
                "\r\n",
                "-- Percent Wildcard\r\n",
                "SELECT\r\n",
                "    empid,\r\n",
                "    lastname\r\n",
                "FROM HR.Employees\r\n",
                "WHERE lastname LIKE N'D%'; -- Returns any lastname starts with D, with any length. \r\n",
                "\r\n",
                "-- Underscore Wildcard\r\n",
                "SELECT\r\n",
                "    empid,\r\n",
                "    lastname\r\n",
                "FROM HR.Employees\r\n",
                "WHERE lastname LIKE N'_e%'; -- Returns any lastname with an e for the second character, with any length after the wildcard.\r\n",
                "\r\n",
                "-- [List] Wildcard\r\n",
                "SELECT\r\n",
                "    empid,\r\n",
                "    lastname\r\n",
                "FROM HR.Employees\r\n",
                "WHERE lastname LIKE N'[ABC]%'; -- Returns any lastname with A, B, or C as a first character, with any length. \r\n",
                "\r\n",
                "-- [Range] Wildcarad\r\n",
                "SELECT\r\n",
                "    empid,\r\n",
                "    lastname\r\n",
                "FROM HR.Employees\r\n",
                "WHERE lastname LIKE N'[A-E]%'; -- Returns any lastname with A, B, C, D, or E as a first character, with any length.\r\n",
                "\r\n",
                "-- [^ List or Range] Wildcard\r\n",
                "SELECT\r\n",
                "    empid,\r\n",
                "    lastname\r\n",
                "FROM HR.Employees\r\n",
                "WHERE lastname LIKE N'[^A-E]%'; -- Returns any last name that does NOT start with A, B, C, D, or E, with and length. "
            ],
            "metadata": {
                "azdata_cell_guid": "50d63d9d-f406-4b4d-91e6-cf63dc10f169",
                "language": "sql"
            },
            "outputs": [
                {
                    "output_type": "display_data",
                    "data": {
                        "text/html": "(2 rows affected)"
                    },
                    "metadata": {}
                },
                {
                    "output_type": "display_data",
                    "data": {
                        "text/html": "(2 rows affected)"
                    },
                    "metadata": {}
                },
                {
                    "output_type": "display_data",
                    "data": {
                        "text/html": "(1 row affected)"
                    },
                    "metadata": {}
                },
                {
                    "output_type": "display_data",
                    "data": {
                        "text/html": "(3 rows affected)"
                    },
                    "metadata": {}
                },
                {
                    "output_type": "display_data",
                    "data": {
                        "text/html": "(6 rows affected)"
                    },
                    "metadata": {}
                },
                {
                    "output_type": "display_data",
                    "data": {
                        "text/html": "Total execution time: 00:00:00.101"
                    },
                    "metadata": {}
                },
                {
                    "output_type": "execute_result",
                    "execution_count": 17,
                    "data": {
                        "application/vnd.dataresource+json": {
                            "schema": {
                                "fields": [
                                    {
                                        "name": "empid"
                                    },
                                    {
                                        "name": "lastname"
                                    }
                                ]
                            },
                            "data": [
                                {
                                    "0": "1",
                                    "1": "Davis"
                                },
                                {
                                    "0": "9",
                                    "1": "Doyle"
                                }
                            ]
                        },
                        "text/html": "<table><tr><th>empid</th><th>lastname</th></tr><tr><td>1</td><td>Davis</td></tr><tr><td>9</td><td>Doyle</td></tr></table>"
                    },
                    "metadata": {}
                },
                {
                    "output_type": "execute_result",
                    "execution_count": 17,
                    "data": {
                        "application/vnd.dataresource+json": {
                            "schema": {
                                "fields": [
                                    {
                                        "name": "empid"
                                    },
                                    {
                                        "name": "lastname"
                                    }
                                ]
                            },
                            "data": [
                                {
                                    "0": "3",
                                    "1": "Lew"
                                },
                                {
                                    "0": "4",
                                    "1": "Peled"
                                }
                            ]
                        },
                        "text/html": "<table><tr><th>empid</th><th>lastname</th></tr><tr><td>3</td><td>Lew</td></tr><tr><td>4</td><td>Peled</td></tr></table>"
                    },
                    "metadata": {}
                },
                {
                    "output_type": "execute_result",
                    "execution_count": 17,
                    "data": {
                        "application/vnd.dataresource+json": {
                            "schema": {
                                "fields": [
                                    {
                                        "name": "empid"
                                    },
                                    {
                                        "name": "lastname"
                                    }
                                ]
                            },
                            "data": [
                                {
                                    "0": "8",
                                    "1": "Cameron"
                                }
                            ]
                        },
                        "text/html": "<table><tr><th>empid</th><th>lastname</th></tr><tr><td>8</td><td>Cameron</td></tr></table>"
                    },
                    "metadata": {}
                },
                {
                    "output_type": "execute_result",
                    "execution_count": 17,
                    "data": {
                        "application/vnd.dataresource+json": {
                            "schema": {
                                "fields": [
                                    {
                                        "name": "empid"
                                    },
                                    {
                                        "name": "lastname"
                                    }
                                ]
                            },
                            "data": [
                                {
                                    "0": "8",
                                    "1": "Cameron"
                                },
                                {
                                    "0": "1",
                                    "1": "Davis"
                                },
                                {
                                    "0": "9",
                                    "1": "Doyle"
                                }
                            ]
                        },
                        "text/html": "<table><tr><th>empid</th><th>lastname</th></tr><tr><td>8</td><td>Cameron</td></tr><tr><td>1</td><td>Davis</td></tr><tr><td>9</td><td>Doyle</td></tr></table>"
                    },
                    "metadata": {}
                },
                {
                    "output_type": "execute_result",
                    "execution_count": 17,
                    "data": {
                        "application/vnd.dataresource+json": {
                            "schema": {
                                "fields": [
                                    {
                                        "name": "empid"
                                    },
                                    {
                                        "name": "lastname"
                                    }
                                ]
                            },
                            "data": [
                                {
                                    "0": "2",
                                    "1": "Funk"
                                },
                                {
                                    "0": "7",
                                    "1": "King"
                                },
                                {
                                    "0": "3",
                                    "1": "Lew"
                                },
                                {
                                    "0": "5",
                                    "1": "Mortensen"
                                },
                                {
                                    "0": "4",
                                    "1": "Peled"
                                },
                                {
                                    "0": "6",
                                    "1": "Suurs"
                                }
                            ]
                        },
                        "text/html": "<table><tr><th>empid</th><th>lastname</th></tr><tr><td>2</td><td>Funk</td></tr><tr><td>7</td><td>King</td></tr><tr><td>3</td><td>Lew</td></tr><tr><td>5</td><td>Mortensen</td></tr><tr><td>4</td><td>Peled</td></tr><tr><td>6</td><td>Suurs</td></tr></table>"
                    },
                    "metadata": {}
                }
            ],
            "execution_count": 17
        },
        {
            "cell_type": "markdown",
            "source": [
                "# The ESCAPE Character\r\n",
                "\r\n",
                "- If you want to search for a character that is also used as a wildcard  (such as %, _ , [ ]), you can use as escape character\r\n",
                "- Specify a character that would not appear in the data as the escape character in front of the character you are searching for\r\n",
                "- Specify the keyword ESCAPE followed by the escape character immediately after the patters"
            ],
            "metadata": {
                "azdata_cell_guid": "4e698d86-b3a8-4ba7-8234-f53bacf2bea6"
            },
            "attachments": {}
        },
        {
            "cell_type": "code",
            "source": [
                "USE TSQLV4;\r\n",
                "\r\n",
                "SELECT\r\n",
                "    empid,\r\n",
                "    lastname\r\n",
                "FROM HR.Employees\r\n",
                "WHERE lastname LIKE N'%!_%' ESCAPE '!'; -- Returns any last name with an underscore in the name (zero results)"
            ],
            "metadata": {
                "azdata_cell_guid": "95154dcc-47df-4021-b30a-7dba8d48a61c",
                "language": "sql"
            },
            "outputs": [
                {
                    "output_type": "display_data",
                    "data": {
                        "text/html": "(0 rows affected)"
                    },
                    "metadata": {}
                },
                {
                    "output_type": "display_data",
                    "data": {
                        "text/html": "Total execution time: 00:00:00.010"
                    },
                    "metadata": {}
                },
                {
                    "output_type": "execute_result",
                    "execution_count": 18,
                    "data": {
                        "application/vnd.dataresource+json": {
                            "schema": {
                                "fields": [
                                    {
                                        "name": "empid"
                                    },
                                    {
                                        "name": "lastname"
                                    }
                                ]
                            },
                            "data": []
                        },
                        "text/html": "<table><tr><th>empid</th><th>lastname</th></tr></table>"
                    },
                    "metadata": {}
                }
            ],
            "execution_count": 18
        },
        {
            "cell_type": "markdown",
            "source": [
                "# Date & Time Data Types\r\n",
                "\r\n",
                "- T-SQL supports six data and time data types\r\n",
                "- DATETIME and SMALLDATETIME are legacy types\r\n",
                "- DATE, TIME, DATETIME2, and DATETIMEOFFSET are later additions\r\n",
                "- These types differ in storage requirements, supported date range, and precision"
            ],
            "metadata": {
                "azdata_cell_guid": "b6947426-c696-40a5-9035-7de9e01b0de6"
            },
            "attachments": {}
        },
        {
            "cell_type": "markdown",
            "source": [
                "# Converting to Date\r\n",
                "\r\n",
                "- Used to express dates in language-dependent formats \r\n",
                "- The CONVERT function converts a character-string literal to a requested data type, with a specified styling number\r\n",
                "- https://docs.microsoft.com/en-us/sql/t-sql/functions/cast-and-convert-transact-sql?view=sql-server-ver15"
            ],
            "metadata": {
                "azdata_cell_guid": "8055b8eb-7d1a-470b-aa9d-2e17e61b9b1f"
            },
            "attachments": {}
        },
        {
            "cell_type": "code",
            "source": [
                "USE TSQLV4;\r\n",
                "\r\n",
                "SELECT CONVERT(DATE, '02/12/2016', 101) AS Date;\r\n",
                "\r\n",
                "SELECT CONVERT(DATE, '02/12/2016', 103) AS Date; "
            ],
            "metadata": {
                "azdata_cell_guid": "60b8f2f3-4747-408f-b8f3-57457481b96a",
                "language": "sql"
            },
            "outputs": [
                {
                    "output_type": "display_data",
                    "data": {
                        "text/html": "(1 row affected)"
                    },
                    "metadata": {}
                },
                {
                    "output_type": "display_data",
                    "data": {
                        "text/html": "(1 row affected)"
                    },
                    "metadata": {}
                },
                {
                    "output_type": "display_data",
                    "data": {
                        "text/html": "Total execution time: 00:00:00.009"
                    },
                    "metadata": {}
                },
                {
                    "output_type": "execute_result",
                    "execution_count": 21,
                    "data": {
                        "application/vnd.dataresource+json": {
                            "schema": {
                                "fields": [
                                    {
                                        "name": "Date"
                                    }
                                ]
                            },
                            "data": [
                                {
                                    "0": "2016-02-12"
                                }
                            ]
                        },
                        "text/html": "<table><tr><th>Date</th></tr><tr><td>2016-02-12</td></tr></table>"
                    },
                    "metadata": {}
                },
                {
                    "output_type": "execute_result",
                    "execution_count": 21,
                    "data": {
                        "application/vnd.dataresource+json": {
                            "schema": {
                                "fields": [
                                    {
                                        "name": "Date"
                                    }
                                ]
                            },
                            "data": [
                                {
                                    "0": "2016-12-02"
                                }
                            ]
                        },
                        "text/html": "<table><tr><th>Date</th></tr><tr><td>2016-12-02</td></tr></table>"
                    },
                    "metadata": {}
                }
            ],
            "execution_count": 21
        },
        {
            "cell_type": "markdown",
            "source": [
                "# Filtering Date Ranges\r\n",
                "\r\n",
                "- Filtering date ranges such as a whole year or month can be done with functions such as YEAR and MONTH\r\n",
                "\t- This eliminates the possibility of using efficient indexing \r\n",
                "- Alternatively, range filtering can be used to maintain index possibilities"
            ],
            "metadata": {
                "azdata_cell_guid": "7f239908-916e-462a-af98-9ff790164d82"
            },
            "attachments": {}
        },
        {
            "cell_type": "code",
            "source": [
                "USE TSQLV4;\r\n",
                "\r\n",
                "-- Date Filter Functions\r\n",
                "SELECT TOP 3\r\n",
                "    orderid,\r\n",
                "    custid,\r\n",
                "    empid,\r\n",
                "    orderdate\r\n",
                "FROM Sales.Orders\r\n",
                "WHERE YEAR(orderdate) = 2015 AND MONTH(orderdate) = 01;\r\n",
                "\r\n",
                "-- Date Filter Range\r\n",
                "SELECT TOP 3\r\n",
                "    orderid,\r\n",
                "    custid,\r\n",
                "    empid,    \r\n",
                "    orderdate\r\n",
                "FROM Sales.Orders\r\n",
                "WHERE orderdate >= '2016-01-01' AND orderdate < '2016-02-01'; "
            ],
            "metadata": {
                "azdata_cell_guid": "5b0e5066-93eb-424f-9495-91789d64af48",
                "language": "sql"
            },
            "outputs": [
                {
                    "output_type": "display_data",
                    "data": {
                        "text/html": "(3 rows affected)"
                    },
                    "metadata": {}
                },
                {
                    "output_type": "display_data",
                    "data": {
                        "text/html": "(3 rows affected)"
                    },
                    "metadata": {}
                },
                {
                    "output_type": "display_data",
                    "data": {
                        "text/html": "Total execution time: 00:00:00.035"
                    },
                    "metadata": {}
                },
                {
                    "output_type": "execute_result",
                    "metadata": {},
                    "execution_count": 3,
                    "data": {
                        "application/vnd.dataresource+json": {
                            "schema": {
                                "fields": [
                                    {
                                        "name": "orderid"
                                    },
                                    {
                                        "name": "custid"
                                    },
                                    {
                                        "name": "empid"
                                    },
                                    {
                                        "name": "orderdate"
                                    }
                                ]
                            },
                            "data": [
                                {
                                    "0": "10400",
                                    "1": "19",
                                    "2": "1",
                                    "3": "2015-01-01"
                                },
                                {
                                    "0": "10401",
                                    "1": "65",
                                    "2": "1",
                                    "3": "2015-01-01"
                                },
                                {
                                    "0": "10402",
                                    "1": "20",
                                    "2": "8",
                                    "3": "2015-01-02"
                                }
                            ]
                        },
                        "text/html": [
                            "<table>",
                            "<tr><th>orderid</th><th>custid</th><th>empid</th><th>orderdate</th></tr>",
                            "<tr><td>10400</td><td>19</td><td>1</td><td>2015-01-01</td></tr>",
                            "<tr><td>10401</td><td>65</td><td>1</td><td>2015-01-01</td></tr>",
                            "<tr><td>10402</td><td>20</td><td>8</td><td>2015-01-02</td></tr>",
                            "</table>"
                        ]
                    }
                },
                {
                    "output_type": "execute_result",
                    "metadata": {},
                    "execution_count": 3,
                    "data": {
                        "application/vnd.dataresource+json": {
                            "schema": {
                                "fields": [
                                    {
                                        "name": "orderid"
                                    },
                                    {
                                        "name": "custid"
                                    },
                                    {
                                        "name": "empid"
                                    },
                                    {
                                        "name": "orderdate"
                                    }
                                ]
                            },
                            "data": [
                                {
                                    "0": "10808",
                                    "1": "55",
                                    "2": "2",
                                    "3": "2016-01-01"
                                },
                                {
                                    "0": "10809",
                                    "1": "88",
                                    "2": "7",
                                    "3": "2016-01-01"
                                },
                                {
                                    "0": "10810",
                                    "1": "42",
                                    "2": "2",
                                    "3": "2016-01-01"
                                }
                            ]
                        },
                        "text/html": [
                            "<table>",
                            "<tr><th>orderid</th><th>custid</th><th>empid</th><th>orderdate</th></tr>",
                            "<tr><td>10808</td><td>55</td><td>2</td><td>2016-01-01</td></tr>",
                            "<tr><td>10809</td><td>88</td><td>7</td><td>2016-01-01</td></tr>",
                            "<tr><td>10810</td><td>42</td><td>2</td><td>2016-01-01</td></tr>",
                            "</table>"
                        ]
                    }
                }
            ],
            "execution_count": 3
        },
        {
            "cell_type": "markdown",
            "source": [
                "# Current Date & Time Functions\r\n",
                "![DateTime Functions.jpg](attachment:DateTimeFunctions.jpg)"
            ],
            "metadata": {
                "azdata_cell_guid": "23ea9152-f0c0-403f-8173-312be0a4985b"
            },
            "attachments": {
                "DateTimeFunctions.jpg": {
                    "image/jpeg": "[encoded data removed]"
                }
            }
        },
        {
            "cell_type": "code",
            "source": [
                "SELECT \r\n",
                "  GETDATE()           AS [GETDATE], \r\n",
                "  CURRENT_TIMESTAMP   AS [CURRENT_TIMESTAMP], \r\n",
                "  GETUTCDATE()        AS [GETUTCDATE], \r\n",
                "  SYSDATETIME()       AS [SYSDATETIME], \r\n",
                "  SYSUTCDATETIME()    AS [SYSUTCDATETIME], \r\n",
                "  SYSDATETIMEOFFSET() AS [SYSDATETIMEOFFSET];"
            ],
            "metadata": {
                "azdata_cell_guid": "8f5004bc-2881-4431-8e42-a9856f60c98c",
                "language": "sql"
            },
            "outputs": [
                {
                    "output_type": "display_data",
                    "data": {
                        "text/html": "(1 row affected)"
                    },
                    "metadata": {}
                },
                {
                    "output_type": "display_data",
                    "data": {
                        "text/html": "Total execution time: 00:00:00.011"
                    },
                    "metadata": {}
                },
                {
                    "output_type": "execute_result",
                    "metadata": {},
                    "execution_count": 4,
                    "data": {
                        "application/vnd.dataresource+json": {
                            "schema": {
                                "fields": [
                                    {
                                        "name": "GETDATE"
                                    },
                                    {
                                        "name": "CURRENT_TIMESTAMP"
                                    },
                                    {
                                        "name": "GETUTCDATE"
                                    },
                                    {
                                        "name": "SYSDATETIME"
                                    },
                                    {
                                        "name": "SYSUTCDATETIME"
                                    },
                                    {
                                        "name": "SYSDATETIMEOFFSET"
                                    }
                                ]
                            },
                            "data": [
                                {
                                    "0": "2022-08-04 12:31:49.933",
                                    "1": "2022-08-04 12:31:49.933",
                                    "2": "2022-08-04 17:31:49.933",
                                    "3": "2022-08-04 12:31:49.9336924",
                                    "4": "2022-08-04 17:31:49.9336924",
                                    "5": "2022-08-04 12:31:49.9336924 -05:00"
                                }
                            ]
                        },
                        "text/html": [
                            "<table>",
                            "<tr><th>GETDATE</th><th>CURRENT_TIMESTAMP</th><th>GETUTCDATE</th><th>SYSDATETIME</th><th>SYSUTCDATETIME</th><th>SYSDATETIMEOFFSET</th></tr>",
                            "<tr><td>2022-08-04 12:31:49.933</td><td>2022-08-04 12:31:49.933</td><td>2022-08-04 17:31:49.933</td><td>2022-08-04 12:31:49.9336924</td><td>2022-08-04 17:31:49.9336924</td><td>2022-08-04 12:31:49.9336924 -05:00</td></tr>",
                            "</table>"
                        ]
                    }
                }
            ],
            "execution_count": 4
        },
        {
            "cell_type": "markdown",
            "source": [
                "# CAST, CONVERT, and PARSE Functions with TRY Counterparts\r\n",
                "\r\n",
                "- Used to convert an input value to some type target type, returning a converted value if the conversion succeed and an error if it does not\r\n",
                "- Each function has a TRY counterpart, that returns a NULL instead of an error in the case where a conversion fails\r\n",
                "- CAST is standard, while CONVERT and PARSE are not\r\n",
                "\t- PARSE is more expensive than CONVERT so it will not be covered\r\n",
                "- It is recommended to use CAST unless style numbers or culture are needed\r\n",
                "- Syntax:\r\n",
                "\t- CAST(value AS datatype)\r\n",
                "\t- TRY_CAST(value AS datatype)\r\n",
                "\t- CONVERT (datatype, value [, style_number])\r\n",
                "\t- TRY_CONVERT (datatype, value [, style_number])\r\n",
                "\t- PARSE (value AS datatype [USING culture])\r\n",
                "\t- TRY_PARSE (value AS datatype [USING culture])"
            ],
            "metadata": {
                "azdata_cell_guid": "83c6a2e6-52f3-4c21-81c3-1bdc3b0c62ad"
            },
            "attachments": {}
        },
        {
            "cell_type": "code",
            "source": [
                "-- CAST\r\n",
                "SELECT CAST('20160212' AS DATE) AS date;\r\n",
                "\r\n",
                "SELECT CAST(SYSDATETIME() AS DATE) AS sys_date;\r\n",
                "\r\n",
                "SELECT CAST(SYSDATETIME() AS TIME) as sys_date_time;\r\n",
                "\r\n",
                "-- CONVERT\r\n",
                "SELECT CONVERT(CHAR(8), CURRENT_TIMESTAMP, 112) AS string_date;\r\n",
                "\r\n",
                "SELECT CONVERT(CHAR(12), CURRENT_TIMESTAMP, 114) AS string_date_time;"
            ],
            "metadata": {
                "azdata_cell_guid": "6b35c248-1767-4e3c-92ea-c4233bdd5984",
                "language": "sql"
            },
            "outputs": [
                {
                    "output_type": "display_data",
                    "data": {
                        "text/html": "(1 row affected)"
                    },
                    "metadata": {}
                },
                {
                    "output_type": "display_data",
                    "data": {
                        "text/html": "(1 row affected)"
                    },
                    "metadata": {}
                },
                {
                    "output_type": "display_data",
                    "data": {
                        "text/html": "(1 row affected)"
                    },
                    "metadata": {}
                },
                {
                    "output_type": "display_data",
                    "data": {
                        "text/html": "(1 row affected)"
                    },
                    "metadata": {}
                },
                {
                    "output_type": "display_data",
                    "data": {
                        "text/html": "(1 row affected)"
                    },
                    "metadata": {}
                },
                {
                    "output_type": "display_data",
                    "data": {
                        "text/html": "Total execution time: 00:00:00.104"
                    },
                    "metadata": {}
                },
                {
                    "output_type": "execute_result",
                    "metadata": {},
                    "execution_count": 6,
                    "data": {
                        "application/vnd.dataresource+json": {
                            "schema": {
                                "fields": [
                                    {
                                        "name": "date"
                                    }
                                ]
                            },
                            "data": [
                                {
                                    "0": "2016-02-12"
                                }
                            ]
                        },
                        "text/html": [
                            "<table>",
                            "<tr><th>date</th></tr>",
                            "<tr><td>2016-02-12</td></tr>",
                            "</table>"
                        ]
                    }
                },
                {
                    "output_type": "execute_result",
                    "metadata": {},
                    "execution_count": 6,
                    "data": {
                        "application/vnd.dataresource+json": {
                            "schema": {
                                "fields": [
                                    {
                                        "name": "sys_date"
                                    }
                                ]
                            },
                            "data": [
                                {
                                    "0": "2022-08-04"
                                }
                            ]
                        },
                        "text/html": [
                            "<table>",
                            "<tr><th>sys_date</th></tr>",
                            "<tr><td>2022-08-04</td></tr>",
                            "</table>"
                        ]
                    }
                },
                {
                    "output_type": "execute_result",
                    "metadata": {},
                    "execution_count": 6,
                    "data": {
                        "application/vnd.dataresource+json": {
                            "schema": {
                                "fields": [
                                    {
                                        "name": "sys_date_time"
                                    }
                                ]
                            },
                            "data": [
                                {
                                    "0": "12:33:24.6150379"
                                }
                            ]
                        },
                        "text/html": [
                            "<table>",
                            "<tr><th>sys_date_time</th></tr>",
                            "<tr><td>12:33:24.6150379</td></tr>",
                            "</table>"
                        ]
                    }
                },
                {
                    "output_type": "execute_result",
                    "metadata": {},
                    "execution_count": 6,
                    "data": {
                        "application/vnd.dataresource+json": {
                            "schema": {
                                "fields": [
                                    {
                                        "name": "string_date"
                                    }
                                ]
                            },
                            "data": [
                                {
                                    "0": "20220804"
                                }
                            ]
                        },
                        "text/html": [
                            "<table>",
                            "<tr><th>string_date</th></tr>",
                            "<tr><td>20220804</td></tr>",
                            "</table>"
                        ]
                    }
                },
                {
                    "output_type": "execute_result",
                    "metadata": {},
                    "execution_count": 6,
                    "data": {
                        "application/vnd.dataresource+json": {
                            "schema": {
                                "fields": [
                                    {
                                        "name": "string_date_time"
                                    }
                                ]
                            },
                            "data": [
                                {
                                    "0": "12:33:24:613"
                                }
                            ]
                        },
                        "text/html": [
                            "<table>",
                            "<tr><th>string_date_time</th></tr>",
                            "<tr><td>12:33:24:613</td></tr>",
                            "</table>"
                        ]
                    }
                }
            ],
            "execution_count": 6
        },
        {
            "cell_type": "markdown",
            "source": [
                "# The DATEADD Function\r\n",
                "\r\n",
                "- Adds a specified number of units of a specified date part to an input date and time value\r\n",
                "- Syntax: DATEADD(part, n, value)\r\n",
                "- Valid values for part include;\r\n",
                "\t- YEAR\r\n",
                "\t- QUARTER\r\n",
                "\t- MONTH\r\n",
                "\t- DAYOFYEAR\r\n",
                "\t- DAY\r\n",
                "\t- WEEK\r\n",
                "\t- WEEKDAY\r\n",
                "\t- HOUR\r\n",
                "\t- MINUTE\r\n",
                "\t- SECOND\r\n",
                "\t- MILLISECOND\r\n",
                "\t- MICROSECOND\r\n",
                "\t- NANOSECOND\r\n",
                "- The return type for a date and time input is the same as the input type\r\n",
                "- If the function is given a string literal as input, the output is DATETIME"
            ],
            "metadata": {
                "azdata_cell_guid": "38d54806-fb59-4e36-8b2b-806af15f3601"
            },
            "attachments": {}
        },
        {
            "cell_type": "code",
            "source": [
                "SELECT DATEADD(YEAR, 1, '20160212') AS date_time;\r\n",
                "\r\n",
                "SELECT DATEADD(MONTH, 3, '2016-02-01') AS date_time;\r\n",
                "\r\n",
                "SELECT DATEADD(MONTH, -1, CAST('2016-02-1' AS DATE)) AS date;"
            ],
            "metadata": {
                "azdata_cell_guid": "8c5e655f-802a-4909-80b4-411cd1cfd0ba",
                "language": "sql"
            },
            "outputs": [
                {
                    "output_type": "display_data",
                    "data": {
                        "text/html": "(1 row affected)"
                    },
                    "metadata": {}
                },
                {
                    "output_type": "display_data",
                    "data": {
                        "text/html": "(1 row affected)"
                    },
                    "metadata": {}
                },
                {
                    "output_type": "display_data",
                    "data": {
                        "text/html": "(1 row affected)"
                    },
                    "metadata": {}
                },
                {
                    "output_type": "display_data",
                    "data": {
                        "text/html": "Total execution time: 00:00:00.041"
                    },
                    "metadata": {}
                },
                {
                    "output_type": "execute_result",
                    "metadata": {},
                    "execution_count": 7,
                    "data": {
                        "application/vnd.dataresource+json": {
                            "schema": {
                                "fields": [
                                    {
                                        "name": "date"
                                    }
                                ]
                            },
                            "data": [
                                {
                                    "0": "2017-02-12 00:00:00.000"
                                }
                            ]
                        },
                        "text/html": [
                            "<table>",
                            "<tr><th>date</th></tr>",
                            "<tr><td>2017-02-12 00:00:00.000</td></tr>",
                            "</table>"
                        ]
                    }
                },
                {
                    "output_type": "execute_result",
                    "metadata": {},
                    "execution_count": 7,
                    "data": {
                        "application/vnd.dataresource+json": {
                            "schema": {
                                "fields": [
                                    {
                                        "name": "date"
                                    }
                                ]
                            },
                            "data": [
                                {
                                    "0": "2016-05-01 00:00:00.000"
                                }
                            ]
                        },
                        "text/html": [
                            "<table>",
                            "<tr><th>date</th></tr>",
                            "<tr><td>2016-05-01 00:00:00.000</td></tr>",
                            "</table>"
                        ]
                    }
                },
                {
                    "output_type": "execute_result",
                    "metadata": {},
                    "execution_count": 7,
                    "data": {
                        "application/vnd.dataresource+json": {
                            "schema": {
                                "fields": [
                                    {
                                        "name": "date"
                                    }
                                ]
                            },
                            "data": [
                                {
                                    "0": "2016-01-01"
                                }
                            ]
                        },
                        "text/html": [
                            "<table>",
                            "<tr><th>date</th></tr>",
                            "<tr><td>2016-01-01</td></tr>",
                            "</table>"
                        ]
                    }
                }
            ],
            "execution_count": 7
        },
        {
            "cell_type": "markdown",
            "source": [
                "# The DATEDIFF and DATEDIFF_BIG Functions\r\n",
                "\r\n",
                "- Return the difference between two date and time values in terms of a specified date part\r\n",
                "- DATEDIFF returns a INT value (4-byte integer), while DATEDIFF_BIG returns a BIGINT value(8-byte integer)\r\n",
                "- Syntax:\r\n",
                "\t- DATEDIFF(part, dt_val1, dt_val2)\r\n",
                "\t- DATEDIFF_BIG(part, dt_val1, dt_val2)\r\n",
                "- Valid values for part are the same for the DATEADD function above"
            ],
            "metadata": {
                "language": "sql",
                "azdata_cell_guid": "91efc79e-e382-45ea-8219-92fcbaedeb6b"
            },
            "attachments": {}
        },
        {
            "cell_type": "code",
            "source": [
                "SELECT DATEDIFF(DAY, '2016-01-01', '2016-12-31') AS date_diff;\r\n",
                "\r\n",
                "SELECT DATEDIFF(MONTH, '2016-01-01', '2016-12-31') AS date_diff;"
            ],
            "metadata": {
                "language": "sql",
                "azdata_cell_guid": "835c1267-d6b3-483d-b0df-0bffbeb0610c"
            },
            "outputs": [
                {
                    "output_type": "display_data",
                    "data": {
                        "text/html": "(1 row affected)"
                    },
                    "metadata": {}
                },
                {
                    "output_type": "display_data",
                    "data": {
                        "text/html": "(1 row affected)"
                    },
                    "metadata": {}
                },
                {
                    "output_type": "display_data",
                    "data": {
                        "text/html": "Total execution time: 00:00:00.013"
                    },
                    "metadata": {}
                },
                {
                    "output_type": "execute_result",
                    "metadata": {},
                    "execution_count": 8,
                    "data": {
                        "application/vnd.dataresource+json": {
                            "schema": {
                                "fields": [
                                    {
                                        "name": "date_diff"
                                    }
                                ]
                            },
                            "data": [
                                {
                                    "0": "365"
                                }
                            ]
                        },
                        "text/html": [
                            "<table>",
                            "<tr><th>date_diff</th></tr>",
                            "<tr><td>365</td></tr>",
                            "</table>"
                        ]
                    }
                },
                {
                    "output_type": "execute_result",
                    "metadata": {},
                    "execution_count": 8,
                    "data": {
                        "application/vnd.dataresource+json": {
                            "schema": {
                                "fields": [
                                    {
                                        "name": "date_diff"
                                    }
                                ]
                            },
                            "data": [
                                {
                                    "0": "11"
                                }
                            ]
                        },
                        "text/html": [
                            "<table>",
                            "<tr><th>date_diff</th></tr>",
                            "<tr><td>11</td></tr>",
                            "</table>"
                        ]
                    }
                }
            ],
            "execution_count": 8
        },
        {
            "cell_type": "markdown",
            "source": [
                "# The DATEPART Function\r\n",
                "\r\n",
                "- Returns an integer representing a requested part of a date and time value\r\n",
                "- Syntax: DATEPART(part, dt_val)\r\n",
                "- Valid values for part are the same for the DATEADD functions above, but also include:\r\n",
                "\t- TZoffset\r\n",
                "\t- ISO_WEEK"
            ],
            "metadata": {
                "language": "sql",
                "azdata_cell_guid": "b1fa10a0-8f86-4a38-967c-b7891eff965e"
            },
            "attachments": {}
        },
        {
            "cell_type": "code",
            "source": [
                "SELECT DATEPART(MONTH, '2016-01-01') AS date_part;\r\n",
                "\r\n",
                "SELECT DATEPART(YEAR, '2016-01-01') AS date_part;"
            ],
            "metadata": {
                "language": "sql",
                "azdata_cell_guid": "acea8d57-74c9-418b-8650-96b5479ecd5e"
            },
            "outputs": [
                {
                    "output_type": "display_data",
                    "data": {
                        "text/html": "(1 row affected)"
                    },
                    "metadata": {}
                },
                {
                    "output_type": "display_data",
                    "data": {
                        "text/html": "(1 row affected)"
                    },
                    "metadata": {}
                },
                {
                    "output_type": "display_data",
                    "data": {
                        "text/html": "Total execution time: 00:00:00.010"
                    },
                    "metadata": {}
                },
                {
                    "output_type": "execute_result",
                    "metadata": {},
                    "execution_count": 9,
                    "data": {
                        "application/vnd.dataresource+json": {
                            "schema": {
                                "fields": [
                                    {
                                        "name": "date_part"
                                    }
                                ]
                            },
                            "data": [
                                {
                                    "0": "1"
                                }
                            ]
                        },
                        "text/html": [
                            "<table>",
                            "<tr><th>date_part</th></tr>",
                            "<tr><td>1</td></tr>",
                            "</table>"
                        ]
                    }
                },
                {
                    "output_type": "execute_result",
                    "metadata": {},
                    "execution_count": 9,
                    "data": {
                        "application/vnd.dataresource+json": {
                            "schema": {
                                "fields": [
                                    {
                                        "name": "date_part"
                                    }
                                ]
                            },
                            "data": [
                                {
                                    "0": "2016"
                                }
                            ]
                        },
                        "text/html": [
                            "<table>",
                            "<tr><th>date_part</th></tr>",
                            "<tr><td>2016</td></tr>",
                            "</table>"
                        ]
                    }
                }
            ],
            "execution_count": 9
        },
        {
            "cell_type": "markdown",
            "source": [
                "# The YEAR, MONTH, and DAY Functions\r\n",
                "\r\n",
                "- Abbreviations of the DATEPART function, returning an integer representation of the year, month, and day parts of an input date and time value\r\n",
                "- Syntax:\r\n",
                "\t- YEAR(dt_val)\r\n",
                "\t- MONTH(dt_val)\r\n",
                "\t- DAY(dt_val)"
            ],
            "metadata": {
                "language": "sql",
                "azdata_cell_guid": "2b44da60-2418-4c69-8e1f-dc2e1015d72f"
            },
            "attachments": {}
        },
        {
            "cell_type": "code",
            "source": [
                "SELECT \r\n",
                "  DAY('20160212') AS TheDay, \r\n",
                "  MONTH('20160212') AS TheMonth, \r\n",
                "  YEAR('20160212') AS TheYear;"
            ],
            "metadata": {
                "language": "sql",
                "azdata_cell_guid": "ec5148b3-db3d-4363-8794-dc789ea09a85"
            },
            "outputs": [
                {
                    "output_type": "display_data",
                    "data": {
                        "text/html": "(1 row affected)"
                    },
                    "metadata": {}
                },
                {
                    "output_type": "display_data",
                    "data": {
                        "text/html": "Total execution time: 00:00:00.008"
                    },
                    "metadata": {}
                },
                {
                    "output_type": "execute_result",
                    "metadata": {},
                    "execution_count": 10,
                    "data": {
                        "application/vnd.dataresource+json": {
                            "schema": {
                                "fields": [
                                    {
                                        "name": "TheDay"
                                    },
                                    {
                                        "name": "TheMonth"
                                    },
                                    {
                                        "name": "TheYear"
                                    }
                                ]
                            },
                            "data": [
                                {
                                    "0": "12",
                                    "1": "2",
                                    "2": "2016"
                                }
                            ]
                        },
                        "text/html": [
                            "<table>",
                            "<tr><th>TheDay</th><th>TheMonth</th><th>TheYear</th></tr>",
                            "<tr><td>12</td><td>2</td><td>2016</td></tr>",
                            "</table>"
                        ]
                    }
                }
            ],
            "execution_count": 10
        },
        {
            "cell_type": "markdown",
            "source": [
                "# The DATENAME Function\r\n",
                "\r\n",
                "- Returns a character string representing a part of a date and time value\r\n",
                "- Similar to DATEPART with the same part input options, returning a name where relevant (if the part requested does not have a name, the function returns a numeric value)\r\n",
                "- Syntax: DATENAME(dt_val, part)"
            ],
            "metadata": {
                "language": "sql",
                "azdata_cell_guid": "0aecc317-2700-4281-be94-c49491a0c658"
            },
            "attachments": {}
        },
        {
            "cell_type": "code",
            "source": [
                "SELECT DATENAME(MONTH, '2016-01-01') AS date_name;\r\n",
                "\r\n",
                "SELECT DATENAME(YEAR, '2016-01-01') AS date_name;"
            ],
            "metadata": {
                "language": "sql",
                "azdata_cell_guid": "ec4603a7-c558-4155-8822-2e706285b43a"
            },
            "outputs": [
                {
                    "output_type": "display_data",
                    "data": {
                        "text/html": "(1 row affected)"
                    },
                    "metadata": {}
                },
                {
                    "output_type": "display_data",
                    "data": {
                        "text/html": "(1 row affected)"
                    },
                    "metadata": {}
                },
                {
                    "output_type": "display_data",
                    "data": {
                        "text/html": "Total execution time: 00:00:00.030"
                    },
                    "metadata": {}
                },
                {
                    "output_type": "execute_result",
                    "metadata": {},
                    "execution_count": 11,
                    "data": {
                        "application/vnd.dataresource+json": {
                            "schema": {
                                "fields": [
                                    {
                                        "name": "date_name"
                                    }
                                ]
                            },
                            "data": [
                                {
                                    "0": "January"
                                }
                            ]
                        },
                        "text/html": [
                            "<table>",
                            "<tr><th>date_name</th></tr>",
                            "<tr><td>January</td></tr>",
                            "</table>"
                        ]
                    }
                },
                {
                    "output_type": "execute_result",
                    "metadata": {},
                    "execution_count": 11,
                    "data": {
                        "application/vnd.dataresource+json": {
                            "schema": {
                                "fields": [
                                    {
                                        "name": "date_name"
                                    }
                                ]
                            },
                            "data": [
                                {
                                    "0": "2016"
                                }
                            ]
                        },
                        "text/html": [
                            "<table>",
                            "<tr><th>date_name</th></tr>",
                            "<tr><td>2016</td></tr>",
                            "</table>"
                        ]
                    }
                }
            ],
            "execution_count": 11
        },
        {
            "cell_type": "markdown",
            "source": [
                "# THE ISDATE Function\r\n",
                "\r\n",
                "- Accepts a character string as an argument, and returns 1 if it is convertible to a date and time data type, or 0 if it isn't\r\n",
                "- Syntax: ISDATE(string)"
            ],
            "metadata": {
                "language": "sql",
                "azdata_cell_guid": "c8bcdb77-4ed3-44cf-8828-08f86bed67d7"
            },
            "attachments": {}
        },
        {
            "cell_type": "code",
            "source": [
                "SELECT ISDATE('20160212') AS is_date;\r\n",
                "\r\n",
                "SELECT ISDATE('20160230') AS is_date;\r\n",
                "\r\n",
                "SELECT ISDATE('TEST') AS is_date;"
            ],
            "metadata": {
                "language": "sql",
                "azdata_cell_guid": "4f3cdf4b-db20-4b18-86c8-4107b04b0484"
            },
            "outputs": [
                {
                    "output_type": "display_data",
                    "data": {
                        "text/html": "(1 row affected)"
                    },
                    "metadata": {}
                },
                {
                    "output_type": "display_data",
                    "data": {
                        "text/html": "(1 row affected)"
                    },
                    "metadata": {}
                },
                {
                    "output_type": "display_data",
                    "data": {
                        "text/html": "(1 row affected)"
                    },
                    "metadata": {}
                },
                {
                    "output_type": "display_data",
                    "data": {
                        "text/html": "Total execution time: 00:00:00.013"
                    },
                    "metadata": {}
                },
                {
                    "output_type": "execute_result",
                    "metadata": {},
                    "execution_count": 12,
                    "data": {
                        "application/vnd.dataresource+json": {
                            "schema": {
                                "fields": [
                                    {
                                        "name": "is_date"
                                    }
                                ]
                            },
                            "data": [
                                {
                                    "0": "1"
                                }
                            ]
                        },
                        "text/html": [
                            "<table>",
                            "<tr><th>is_date</th></tr>",
                            "<tr><td>1</td></tr>",
                            "</table>"
                        ]
                    }
                },
                {
                    "output_type": "execute_result",
                    "metadata": {},
                    "execution_count": 12,
                    "data": {
                        "application/vnd.dataresource+json": {
                            "schema": {
                                "fields": [
                                    {
                                        "name": "is_date"
                                    }
                                ]
                            },
                            "data": [
                                {
                                    "0": "0"
                                }
                            ]
                        },
                        "text/html": [
                            "<table>",
                            "<tr><th>is_date</th></tr>",
                            "<tr><td>0</td></tr>",
                            "</table>"
                        ]
                    }
                },
                {
                    "output_type": "execute_result",
                    "metadata": {},
                    "execution_count": 12,
                    "data": {
                        "application/vnd.dataresource+json": {
                            "schema": {
                                "fields": [
                                    {
                                        "name": "is_date"
                                    }
                                ]
                            },
                            "data": [
                                {
                                    "0": "0"
                                }
                            ]
                        },
                        "text/html": [
                            "<table>",
                            "<tr><th>is_date</th></tr>",
                            "<tr><td>0</td></tr>",
                            "</table>"
                        ]
                    }
                }
            ],
            "execution_count": 12
        },
        {
            "cell_type": "markdown",
            "source": [
                "# The FROMPARTS Function\r\n",
                "\r\n",
                "- Accepts integer inputs representing parts of a date and time value and constructs a value of the requested type from those parts\r\n",
                "- Syntax:\r\n",
                "\t- DATEFROMPARTS (year, month, day)\r\n",
                "\t- DATETIME2FROMPARTS (year, month, day, hour, minute, seconds, fractions, precision)\r\n",
                "\t- DATETIMEFROMPARTS (year, month, day, hour, minute, seconds, milliseconds)\r\n",
                "\t- DATETIMEOFFSETFROMPARTS (year, month, day, hour, minute, seconds, fractions, hour_offset, minute_offset, precision)\r\n",
                "\t- SMALLDATETIMEFROMPARTS (year, month, day, hour, minute)\r\n",
                "\t- TIMEFROMPARTS (hour, minute, seconds, fractions, precision)"
            ],
            "metadata": {
                "language": "sql",
                "azdata_cell_guid": "e2c39963-f9d8-4830-995b-f87fd673975f"
            },
            "attachments": {}
        },
        {
            "cell_type": "code",
            "source": [
                "SELECT \r\n",
                "  DATEFROMPARTS(2016, 02, 12) AS date_from_parts,\r\n",
                "  DATETIME2FROMPARTS(2016, 02, 12, 13, 30, 5, 1, 7) AS date_time_2_from_parts,\r\n",
                "  DATETIMEFROMPARTS(2016, 02, 12, 13, 30, 5, 997) AS date_time_from_parts,\r\n",
                "  DATETIMEOFFSETFROMPARTS(2016, 02, 12, 13, 30, 5, 1, -8, 0, 7) AS date_time_offset_from_parts,\r\n",
                "  SMALLDATETIMEFROMPARTS(2016, 02, 12, 13, 30) AS small_date_time_from_parts, \r\n",
                "  TIMEFROMPARTS(13, 30, 5, 1, 7) AS time_from_parts;"
            ],
            "metadata": {
                "language": "sql",
                "azdata_cell_guid": "4d84d27a-290f-420f-ae68-1543ffbd37f0"
            },
            "outputs": [
                {
                    "output_type": "display_data",
                    "data": {
                        "text/html": "(1 row affected)"
                    },
                    "metadata": {}
                },
                {
                    "output_type": "display_data",
                    "data": {
                        "text/html": "Total execution time: 00:00:00.008"
                    },
                    "metadata": {}
                },
                {
                    "output_type": "execute_result",
                    "metadata": {},
                    "execution_count": 13,
                    "data": {
                        "application/vnd.dataresource+json": {
                            "schema": {
                                "fields": [
                                    {
                                        "name": "date_from_parts"
                                    },
                                    {
                                        "name": "date_time_2_from_parts"
                                    },
                                    {
                                        "name": "date_time_from_parts"
                                    },
                                    {
                                        "name": "date_time_offset_from_parts"
                                    },
                                    {
                                        "name": "small_date_time_from_parts"
                                    },
                                    {
                                        "name": "time_from_parts"
                                    }
                                ]
                            },
                            "data": [
                                {
                                    "0": "2016-02-12",
                                    "1": "2016-02-12 13:30:05.0000001",
                                    "2": "2016-02-12 13:30:05.997",
                                    "3": "2016-02-12 13:30:05.0000001 -08:00",
                                    "4": "2016-02-12 13:30:00",
                                    "5": "13:30:05.0000001"
                                }
                            ]
                        },
                        "text/html": [
                            "<table>",
                            "<tr><th>date_from_parts</th><th>date_time_2_from_parts</th><th>date_time_from_parts</th><th>date_time_offset_from_parts</th><th>small_date_time_from_parts</th><th>time_from_parts</th></tr>",
                            "<tr><td>2016-02-12</td><td>2016-02-12 13:30:05.0000001</td><td>2016-02-12 13:30:05.997</td><td>2016-02-12 13:30:05.0000001 -08:00</td><td>2016-02-12 13:30:00</td><td>13:30:05.0000001</td></tr>",
                            "</table>"
                        ]
                    }
                }
            ],
            "execution_count": 13
        },
        {
            "cell_type": "markdown",
            "source": [
                "# The EOMONTH Function\r\n",
                "\r\n",
                "- Accepts an input date and time value and returns the respective end-of-month date as a DATE typed value\r\n",
                "- Supports an optional second argument indicating how many months to add or subtract (negative)\r\n",
                "- Syntax: EOMONTH(input [, months_to_add])"
            ],
            "metadata": {
                "language": "sql",
                "azdata_cell_guid": "e52671f7-4600-4d1a-b440-0e581c3c50f3"
            },
            "attachments": {}
        },
        {
            "cell_type": "code",
            "source": [
                "USE TSQLV4;\r\n",
                "\r\n",
                "SELECT EOMONTH('2016-01-01') AS eo_month;\r\n",
                "\r\n",
                "SELECT EOMONTH('2016-01-01', 3) AS eo_month;\r\n",
                "\r\n",
                "SELECT TOP 3\r\n",
                "    orderid,\r\n",
                "    orderdate,\r\n",
                "    custid,\r\n",
                "    empid\r\n",
                "FROM Sales.Orders\r\n",
                "WHERE orderdate = EOMONTH(orderdate);"
            ],
            "metadata": {
                "language": "sql",
                "azdata_cell_guid": "9a1d4b11-9995-4186-8424-3a60f3eb6ac0"
            },
            "outputs": [
                {
                    "output_type": "display_data",
                    "data": {
                        "text/html": "(1 row affected)"
                    },
                    "metadata": {}
                },
                {
                    "output_type": "display_data",
                    "data": {
                        "text/html": "(1 row affected)"
                    },
                    "metadata": {}
                },
                {
                    "output_type": "display_data",
                    "data": {
                        "text/html": "(3 rows affected)"
                    },
                    "metadata": {}
                },
                {
                    "output_type": "display_data",
                    "data": {
                        "text/html": "Total execution time: 00:00:00.068"
                    },
                    "metadata": {}
                },
                {
                    "output_type": "execute_result",
                    "metadata": {},
                    "execution_count": 14,
                    "data": {
                        "application/vnd.dataresource+json": {
                            "schema": {
                                "fields": [
                                    {
                                        "name": "eo_month"
                                    }
                                ]
                            },
                            "data": [
                                {
                                    "0": "2016-01-31"
                                }
                            ]
                        },
                        "text/html": [
                            "<table>",
                            "<tr><th>eo_month</th></tr>",
                            "<tr><td>2016-01-31</td></tr>",
                            "</table>"
                        ]
                    }
                },
                {
                    "output_type": "execute_result",
                    "metadata": {},
                    "execution_count": 14,
                    "data": {
                        "application/vnd.dataresource+json": {
                            "schema": {
                                "fields": [
                                    {
                                        "name": "eo_month"
                                    }
                                ]
                            },
                            "data": [
                                {
                                    "0": "2016-04-30"
                                }
                            ]
                        },
                        "text/html": [
                            "<table>",
                            "<tr><th>eo_month</th></tr>",
                            "<tr><td>2016-04-30</td></tr>",
                            "</table>"
                        ]
                    }
                },
                {
                    "output_type": "execute_result",
                    "metadata": {},
                    "execution_count": 14,
                    "data": {
                        "application/vnd.dataresource+json": {
                            "schema": {
                                "fields": [
                                    {
                                        "name": "orderid"
                                    },
                                    {
                                        "name": "orderdate"
                                    },
                                    {
                                        "name": "custid"
                                    },
                                    {
                                        "name": "empid"
                                    }
                                ]
                            },
                            "data": [
                                {
                                    "0": "10269",
                                    "1": "2014-07-31",
                                    "2": "89",
                                    "3": "5"
                                },
                                {
                                    "0": "10317",
                                    "1": "2014-09-30",
                                    "2": "48",
                                    "3": "6"
                                },
                                {
                                    "0": "10343",
                                    "1": "2014-10-31",
                                    "2": "44",
                                    "3": "4"
                                }
                            ]
                        },
                        "text/html": [
                            "<table>",
                            "<tr><th>orderid</th><th>orderdate</th><th>custid</th><th>empid</th></tr>",
                            "<tr><td>10269</td><td>2014-07-31</td><td>89</td><td>5</td></tr>",
                            "<tr><td>10317</td><td>2014-09-30</td><td>48</td><td>6</td></tr>",
                            "<tr><td>10343</td><td>2014-10-31</td><td>44</td><td>4</td></tr>",
                            "</table>"
                        ]
                    }
                }
            ],
            "execution_count": 14
        }
    ]
}