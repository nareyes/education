{
  "nbformat": 4,
  "nbformat_minor": 2,
  "metadata": {
    "kernelspec": {
      "name": "synapse_pyspark",
      "display_name": "Synapse PySpark"
    },
    "language_info": {
      "name": "python"
    },
    "save_output": true,
    "synapse_widget": {
      "version": "0.1",
      "state": {}
    }
  },
  "cells": [
    {
      "cell_type": "markdown",
      "metadata": {
        "nteract": {
          "transient": {
            "deleting": false
          }
        }
      },
      "source": [
        "# Trip Data Aggregation\n",
        "\n",
        "### Group By Columns\n",
        "1. Year\n",
        "2. Month\n",
        "3. Pickup Location ID\n",
        "4. Drop Off Location ID\n",
        "\n",
        "### Aggregated Columns\n",
        "1. Total Trip Count\n",
        "2. Total Fare Amount\n",
        "\n",
        "### Purpose of the Notebook\n",
        "Demonstrate the integration between Spark Pool and Serverless SQL Pool\n",
        "\n",
        "1. Create the aggregated table in Spark Pool\n",
        "2. Access the data from Serverless SQL Pool "
      ]
    },
    {
      "cell_type": "code",
      "execution_count": 6,
      "outputs": [],
      "metadata": {
        "jupyter": {
          "source_hidden": false,
          "outputs_hidden": false
        },
        "nteract": {
          "transient": {
            "deleting": false
          }
        }
      },
      "source": [
        "#Set Folder Paths\n",
        "raw_folder_path = 'abfss://nyc-taxi@synlakehousedev.dfs.core.windows.net/raw'\n",
        "processed_folder_path = 'abfss://nyc-taxi@synlakehousedev.dfs.core.windows.net/processed'\n",
        "curated_folder_path = 'abfss://nyc-taxi@synlakehousedev.dfs.core.windows.net/curated'"
      ]
    },
    {
      "cell_type": "code",
      "execution_count": 2,
      "outputs": [],
      "metadata": {
        "jupyter": {
          "source_hidden": false,
          "outputs_hidden": false
        },
        "nteract": {
          "transient": {
            "deleting": false
          }
        }
      },
      "source": [
        "#Set Spark Config (Partition Year and Month as Strings)\n",
        "spark.conf.set(\"spark.sql.sources.partitionColumnTypeInference.enabled\", \"false\")"
      ]
    },
    {
      "cell_type": "code",
      "execution_count": 12,
      "outputs": [],
      "metadata": {
        "jupyter": {
          "source_hidden": false,
          "outputs_hidden": false
        },
        "nteract": {
          "transient": {
            "deleting": false
          }
        },
        "microsoft": {
          "language": "sparksql"
        },
        "collapsed": false
      },
      "source": [
        "%%sql -- Create Database\n",
        "CREATE DATABASE IF NOT EXISTS NYC_Taxi_Spark\n",
        "LOCATION 'abfss://nyc-taxi@synlakehousedev.dfs.core.windows.net/curated_spark';"
      ]
    },
    {
      "cell_type": "code",
      "execution_count": 8,
      "outputs": [],
      "metadata": {
        "jupyter": {
          "source_hidden": false,
          "outputs_hidden": false
        },
        "nteract": {
          "transient": {
            "deleting": false
          }
        }
      },
      "source": [
        "# Read the Processed Data \n",
        "trip_processed_df = spark.read.parquet(f\"{processed_folder_path}/trip_partitioned\") \n",
        "\n",
        "trip_processed_df.head()"
      ]
    },
    {
      "cell_type": "code",
      "execution_count": 9,
      "outputs": [],
      "metadata": {
        "jupyter": {
          "source_hidden": false,
          "outputs_hidden": false
        },
        "nteract": {
          "transient": {
            "deleting": false
          }
        }
      },
      "source": [
        "# Perform the Required aggregations\n",
        "from pyspark.sql.functions import *\n",
        "\n",
        "trip_curated_agg_df = trip_processed_df \\\n",
        "                        .groupBy(\"PartitionYear\", \"PartitionMonth\", \"PULocationID\", \"DOLocationID\") \\\n",
        "                        .agg(count(lit(1)).alias(\"TotalTripCount\"),\n",
        "                        round(sum(\"FareAmount\"), 2).alias(\"TotalFareAmount\"))"
      ]
    },
    {
      "cell_type": "code",
      "execution_count": 11,
      "outputs": [],
      "metadata": {
        "jupyter": {
          "source_hidden": false,
          "outputs_hidden": false
        },
        "nteract": {
          "transient": {
            "deleting": false
          }
        }
      },
      "source": [
        "# Write the Aggregated Data to Curated Layer for Consumption\n",
        "trip_curated_agg_df.write.mode(\"overwrite\").partitionBy(\"PartitionYear\", \"PartitionMonth\").format(\"parquet\").saveAsTable(\"NYC_Taxi_Spark.TripAggregated\")"
      ]
    }
  ]
}