{
 "cells": [
  {
   "cell_type": "markdown",
   "metadata": {},
   "source": [
    "# Object-Oriented Programming with Classes\n",
    "*Caveat: There will be code duplication as classes are built upon to improve functionality.*"
   ]
  },
  {
   "cell_type": "markdown",
   "metadata": {},
   "source": [
    "#### Class Definition\n",
    "- A class is used to define the structure and behavior of one or more objects\n",
    "- Each object defined by the class is referred to as an instance of the class\n",
    "- The class of an object controls its initialization and which attributes and methods are avaialble"
   ]
  },
  {
   "cell_type": "code",
   "execution_count": 2,
   "metadata": {},
   "outputs": [
    {
     "name": "stdout",
     "output_type": "stream",
     "text": [
      "<__main__.Flight object at 0x0000022407041430>\n",
      "<class '__main__.Flight'>\n"
     ]
    }
   ],
   "source": [
    "# create an empty class\n",
    "# class names are written in CamelCase\n",
    "class Flight:\n",
    "    pass\n",
    "\n",
    "# create a new object (instance) by calling the class constructor\n",
    "f = Flight()\n",
    "print(f)\n",
    "print(type(f))"
   ]
  },
  {
   "cell_type": "markdown",
   "metadata": {},
   "source": [
    "#### Instance Methods\n",
    "- Methods are just functions defined within the class block\n",
    "- Instance methods are functions which can be called on objects which are instances of our class\n",
    "- Instance methods must accept a reference to the instance on which the method was called as the first formal argument\n",
    "- By convention, the first formal argument is *self*"
   ]
  },
  {
   "cell_type": "code",
   "execution_count": 5,
   "metadata": {},
   "outputs": [
    {
     "data": {
      "text/plain": [
       "'SN060'"
      ]
     },
     "execution_count": 5,
     "metadata": {},
     "output_type": "execute_result"
    }
   ],
   "source": [
    "class Flight:\n",
    "\n",
    "    def flight_number(self):\n",
    "        return \"SN060\"\n",
    "\n",
    "f = Flight()\n",
    "f.flight_number()"
   ]
  },
  {
   "cell_type": "markdown",
   "metadata": {},
   "source": [
    "#### Instance Initializers\n",
    "- If provided, the initializer method is called as part of the process of creating a new object when we call the constructor\n",
    "- The initializer method must be called \\_\\_init\\_\\_() delimited by the double underscores (dunder method)\n",
    "- The first argument to the initializer method must be *self*\n",
    "- The initializer method should not return anything, it modifies the object referred to by *self*\n",
    "- Within the initializer we assign to an attribute of the newly created instance called _flight_number\n",
    "- The leading underscore is used to avoid name clash with the method and as a convention for objects not intended to be consumed or manipulated"
   ]
  },
  {
   "cell_type": "code",
   "execution_count": 7,
   "metadata": {},
   "outputs": [
    {
     "data": {
      "text/plain": [
       "'SN060'"
      ]
     },
     "execution_count": 7,
     "metadata": {},
     "output_type": "execute_result"
    }
   ],
   "source": [
    "class Flight:\n",
    "\n",
    "    def __init__(self, flight_number):\n",
    "        self._flight_number = flight_number\n",
    "    \n",
    "    def flight_number(self):\n",
    "        return self._flight_number\n",
    "\n",
    "f = Flight(flight_number = \"SN060\")\n",
    "f.flight_number()"
   ]
  },
  {
   "cell_type": "markdown",
   "metadata": {},
   "source": [
    "#### Validation and Invariants\n",
    "- It's good practice for the initializer of an object to establish class invariants\n",
    "- Invariants are truths about the objects of the class that should endure for the lifetime of the object\n",
    "- We establish class invariants in the \\_\\_init\\_\\_() method and raise exceptions if they can't be attained"
   ]
  },
  {
   "cell_type": "code",
   "execution_count": 16,
   "metadata": {},
   "outputs": [],
   "source": [
    "class Flight:\n",
    "\n",
    "    def __init__(self, flight_number):\n",
    "        if not flight_number[:2].isalpha():\n",
    "            raise ValueError(f\"No Airline Code in {flight_number}\")\n",
    "        \n",
    "        if not flight_number[:2].isupper():\n",
    "            raise ValueError(f\"Invalid Airline Code {flight_number}\")\n",
    "        \n",
    "        # checks if preceeding characters are numeric and less that or equal to 9999\n",
    "        if not (flight_number[2:].isdigit() and int(flight_number[2:]) <= 9999):\n",
    "            raise ValueError(f\"Invalid Route Number {flight_number}\")\n",
    "        \n",
    "        self._flight_number = flight_number\n",
    "\n",
    "    def flight_number(self):\n",
    "        return self._flight_number\n",
    "    \n",
    "    def airline(self):\n",
    "        return self._flight_number[:2]"
   ]
  },
  {
   "cell_type": "code",
   "execution_count": 13,
   "metadata": {},
   "outputs": [
    {
     "ename": "ValueError",
     "evalue": "No Airline Code in 060",
     "output_type": "error",
     "traceback": [
      "\u001b[1;31m---------------------------------------------------------------------------\u001b[0m",
      "\u001b[1;31mValueError\u001b[0m                                Traceback (most recent call last)",
      "\u001b[1;32mc:\\Users\\nick.reyes\\OneDrive - Self Esteem Brands, LLC\\Data Analytics\\GitHub\\personal\\education\\python_developer_bootcamp\\notes\\01_getting_started\\_oop_notes.ipynb Cell 10\u001b[0m in \u001b[0;36m<cell line: 2>\u001b[1;34m()\u001b[0m\n\u001b[0;32m      <a href='vscode-notebook-cell:/c%3A/Users/nick.reyes/OneDrive%20-%20Self%20Esteem%20Brands%2C%20LLC/Data%20Analytics/GitHub/personal/education/python_developer_bootcamp/notes/01_getting_started/_oop_notes.ipynb#X21sZmlsZQ%3D%3D?line=0'>1</a>\u001b[0m \u001b[39m# testing first check (airline code must be two letters)\u001b[39;00m\n\u001b[1;32m----> <a href='vscode-notebook-cell:/c%3A/Users/nick.reyes/OneDrive%20-%20Self%20Esteem%20Brands%2C%20LLC/Data%20Analytics/GitHub/personal/education/python_developer_bootcamp/notes/01_getting_started/_oop_notes.ipynb#X21sZmlsZQ%3D%3D?line=1'>2</a>\u001b[0m Flight(\u001b[39m\"\u001b[39;49m\u001b[39m060\u001b[39;49m\u001b[39m\"\u001b[39;49m)\n",
      "\u001b[1;32mc:\\Users\\nick.reyes\\OneDrive - Self Esteem Brands, LLC\\Data Analytics\\GitHub\\personal\\education\\python_developer_bootcamp\\notes\\01_getting_started\\_oop_notes.ipynb Cell 10\u001b[0m in \u001b[0;36mFlight.__init__\u001b[1;34m(self, flight_number)\u001b[0m\n\u001b[0;32m      <a href='vscode-notebook-cell:/c%3A/Users/nick.reyes/OneDrive%20-%20Self%20Esteem%20Brands%2C%20LLC/Data%20Analytics/GitHub/personal/education/python_developer_bootcamp/notes/01_getting_started/_oop_notes.ipynb#X21sZmlsZQ%3D%3D?line=2'>3</a>\u001b[0m \u001b[39mdef\u001b[39;00m \u001b[39m__init__\u001b[39m(\u001b[39mself\u001b[39m, flight_number):\n\u001b[0;32m      <a href='vscode-notebook-cell:/c%3A/Users/nick.reyes/OneDrive%20-%20Self%20Esteem%20Brands%2C%20LLC/Data%20Analytics/GitHub/personal/education/python_developer_bootcamp/notes/01_getting_started/_oop_notes.ipynb#X21sZmlsZQ%3D%3D?line=3'>4</a>\u001b[0m     \u001b[39mif\u001b[39;00m \u001b[39mnot\u001b[39;00m flight_number[:\u001b[39m2\u001b[39m]\u001b[39m.\u001b[39misalpha():\n\u001b[1;32m----> <a href='vscode-notebook-cell:/c%3A/Users/nick.reyes/OneDrive%20-%20Self%20Esteem%20Brands%2C%20LLC/Data%20Analytics/GitHub/personal/education/python_developer_bootcamp/notes/01_getting_started/_oop_notes.ipynb#X21sZmlsZQ%3D%3D?line=4'>5</a>\u001b[0m         \u001b[39mraise\u001b[39;00m \u001b[39mValueError\u001b[39;00m(\u001b[39mf\u001b[39m\u001b[39m\"\u001b[39m\u001b[39mNo Airline Code in \u001b[39m\u001b[39m{\u001b[39;00mflight_number\u001b[39m}\u001b[39;00m\u001b[39m\"\u001b[39m)\n\u001b[0;32m      <a href='vscode-notebook-cell:/c%3A/Users/nick.reyes/OneDrive%20-%20Self%20Esteem%20Brands%2C%20LLC/Data%20Analytics/GitHub/personal/education/python_developer_bootcamp/notes/01_getting_started/_oop_notes.ipynb#X21sZmlsZQ%3D%3D?line=6'>7</a>\u001b[0m     \u001b[39m# checks if first two characters are upper case\u001b[39;00m\n\u001b[0;32m      <a href='vscode-notebook-cell:/c%3A/Users/nick.reyes/OneDrive%20-%20Self%20Esteem%20Brands%2C%20LLC/Data%20Analytics/GitHub/personal/education/python_developer_bootcamp/notes/01_getting_started/_oop_notes.ipynb#X21sZmlsZQ%3D%3D?line=7'>8</a>\u001b[0m     \u001b[39mif\u001b[39;00m \u001b[39mnot\u001b[39;00m flight_number[:\u001b[39m2\u001b[39m]\u001b[39m.\u001b[39misupper():\n",
      "\u001b[1;31mValueError\u001b[0m: No Airline Code in 060"
     ]
    }
   ],
   "source": [
    "# testing first check (airline code must be two letters)\n",
    "Flight(\"060\")"
   ]
  },
  {
   "cell_type": "code",
   "execution_count": 14,
   "metadata": {},
   "outputs": [
    {
     "ename": "ValueError",
     "evalue": "Invalid Airline Code sn060",
     "output_type": "error",
     "traceback": [
      "\u001b[1;31m---------------------------------------------------------------------------\u001b[0m",
      "\u001b[1;31mValueError\u001b[0m                                Traceback (most recent call last)",
      "\u001b[1;32mc:\\Users\\nick.reyes\\OneDrive - Self Esteem Brands, LLC\\Data Analytics\\GitHub\\personal\\education\\python_developer_bootcamp\\notes\\01_getting_started\\_oop_notes.ipynb Cell 11\u001b[0m in \u001b[0;36m<cell line: 2>\u001b[1;34m()\u001b[0m\n\u001b[0;32m      <a href='vscode-notebook-cell:/c%3A/Users/nick.reyes/OneDrive%20-%20Self%20Esteem%20Brands%2C%20LLC/Data%20Analytics/GitHub/personal/education/python_developer_bootcamp/notes/01_getting_started/_oop_notes.ipynb#X22sZmlsZQ%3D%3D?line=0'>1</a>\u001b[0m \u001b[39m# testing second check (airline code must be upper case)\u001b[39;00m\n\u001b[1;32m----> <a href='vscode-notebook-cell:/c%3A/Users/nick.reyes/OneDrive%20-%20Self%20Esteem%20Brands%2C%20LLC/Data%20Analytics/GitHub/personal/education/python_developer_bootcamp/notes/01_getting_started/_oop_notes.ipynb#X22sZmlsZQ%3D%3D?line=1'>2</a>\u001b[0m Flight(\u001b[39m\"\u001b[39;49m\u001b[39msn060\u001b[39;49m\u001b[39m\"\u001b[39;49m)\n",
      "\u001b[1;32mc:\\Users\\nick.reyes\\OneDrive - Self Esteem Brands, LLC\\Data Analytics\\GitHub\\personal\\education\\python_developer_bootcamp\\notes\\01_getting_started\\_oop_notes.ipynb Cell 11\u001b[0m in \u001b[0;36mFlight.__init__\u001b[1;34m(self, flight_number)\u001b[0m\n\u001b[0;32m      <a href='vscode-notebook-cell:/c%3A/Users/nick.reyes/OneDrive%20-%20Self%20Esteem%20Brands%2C%20LLC/Data%20Analytics/GitHub/personal/education/python_developer_bootcamp/notes/01_getting_started/_oop_notes.ipynb#X22sZmlsZQ%3D%3D?line=6'>7</a>\u001b[0m \u001b[39m# checks if first two characters are upper case\u001b[39;00m\n\u001b[0;32m      <a href='vscode-notebook-cell:/c%3A/Users/nick.reyes/OneDrive%20-%20Self%20Esteem%20Brands%2C%20LLC/Data%20Analytics/GitHub/personal/education/python_developer_bootcamp/notes/01_getting_started/_oop_notes.ipynb#X22sZmlsZQ%3D%3D?line=7'>8</a>\u001b[0m \u001b[39mif\u001b[39;00m \u001b[39mnot\u001b[39;00m flight_number[:\u001b[39m2\u001b[39m]\u001b[39m.\u001b[39misupper():\n\u001b[1;32m----> <a href='vscode-notebook-cell:/c%3A/Users/nick.reyes/OneDrive%20-%20Self%20Esteem%20Brands%2C%20LLC/Data%20Analytics/GitHub/personal/education/python_developer_bootcamp/notes/01_getting_started/_oop_notes.ipynb#X22sZmlsZQ%3D%3D?line=8'>9</a>\u001b[0m     \u001b[39mraise\u001b[39;00m \u001b[39mValueError\u001b[39;00m(\u001b[39mf\u001b[39m\u001b[39m\"\u001b[39m\u001b[39mInvalid Airline Code \u001b[39m\u001b[39m{\u001b[39;00mflight_number\u001b[39m}\u001b[39;00m\u001b[39m\"\u001b[39m)\n\u001b[0;32m     <a href='vscode-notebook-cell:/c%3A/Users/nick.reyes/OneDrive%20-%20Self%20Esteem%20Brands%2C%20LLC/Data%20Analytics/GitHub/personal/education/python_developer_bootcamp/notes/01_getting_started/_oop_notes.ipynb#X22sZmlsZQ%3D%3D?line=10'>11</a>\u001b[0m \u001b[39m# checks if preceeding characters are numeric and less that or equal to 9999\u001b[39;00m\n\u001b[0;32m     <a href='vscode-notebook-cell:/c%3A/Users/nick.reyes/OneDrive%20-%20Self%20Esteem%20Brands%2C%20LLC/Data%20Analytics/GitHub/personal/education/python_developer_bootcamp/notes/01_getting_started/_oop_notes.ipynb#X22sZmlsZQ%3D%3D?line=11'>12</a>\u001b[0m \u001b[39mif\u001b[39;00m \u001b[39mnot\u001b[39;00m (flight_number[\u001b[39m2\u001b[39m:]\u001b[39m.\u001b[39misdigit() \u001b[39mand\u001b[39;00m \u001b[39mint\u001b[39m(flight_number[\u001b[39m2\u001b[39m:]) \u001b[39m<\u001b[39m\u001b[39m=\u001b[39m \u001b[39m9999\u001b[39m):\n",
      "\u001b[1;31mValueError\u001b[0m: Invalid Airline Code sn060"
     ]
    }
   ],
   "source": [
    "# testing second check (airline code must be upper case)\n",
    "Flight(\"sn060\")"
   ]
  },
  {
   "cell_type": "code",
   "execution_count": 15,
   "metadata": {},
   "outputs": [
    {
     "ename": "ValueError",
     "evalue": "Invalid Route Number SN12345",
     "output_type": "error",
     "traceback": [
      "\u001b[1;31m---------------------------------------------------------------------------\u001b[0m",
      "\u001b[1;31mValueError\u001b[0m                                Traceback (most recent call last)",
      "\u001b[1;32mc:\\Users\\nick.reyes\\OneDrive - Self Esteem Brands, LLC\\Data Analytics\\GitHub\\personal\\education\\python_developer_bootcamp\\notes\\01_getting_started\\_oop_notes.ipynb Cell 12\u001b[0m in \u001b[0;36m<cell line: 2>\u001b[1;34m()\u001b[0m\n\u001b[0;32m      <a href='vscode-notebook-cell:/c%3A/Users/nick.reyes/OneDrive%20-%20Self%20Esteem%20Brands%2C%20LLC/Data%20Analytics/GitHub/personal/education/python_developer_bootcamp/notes/01_getting_started/_oop_notes.ipynb#X23sZmlsZQ%3D%3D?line=0'>1</a>\u001b[0m \u001b[39m# testing third check (preceeding characters are numeric and less than or equal to 9999)\u001b[39;00m\n\u001b[1;32m----> <a href='vscode-notebook-cell:/c%3A/Users/nick.reyes/OneDrive%20-%20Self%20Esteem%20Brands%2C%20LLC/Data%20Analytics/GitHub/personal/education/python_developer_bootcamp/notes/01_getting_started/_oop_notes.ipynb#X23sZmlsZQ%3D%3D?line=1'>2</a>\u001b[0m Flight(\u001b[39m'\u001b[39;49m\u001b[39mSN12345\u001b[39;49m\u001b[39m'\u001b[39;49m)\n",
      "\u001b[1;32mc:\\Users\\nick.reyes\\OneDrive - Self Esteem Brands, LLC\\Data Analytics\\GitHub\\personal\\education\\python_developer_bootcamp\\notes\\01_getting_started\\_oop_notes.ipynb Cell 12\u001b[0m in \u001b[0;36mFlight.__init__\u001b[1;34m(self, flight_number)\u001b[0m\n\u001b[0;32m     <a href='vscode-notebook-cell:/c%3A/Users/nick.reyes/OneDrive%20-%20Self%20Esteem%20Brands%2C%20LLC/Data%20Analytics/GitHub/personal/education/python_developer_bootcamp/notes/01_getting_started/_oop_notes.ipynb#X23sZmlsZQ%3D%3D?line=10'>11</a>\u001b[0m \u001b[39m# checks if preceeding characters are numeric and less that or equal to 9999\u001b[39;00m\n\u001b[0;32m     <a href='vscode-notebook-cell:/c%3A/Users/nick.reyes/OneDrive%20-%20Self%20Esteem%20Brands%2C%20LLC/Data%20Analytics/GitHub/personal/education/python_developer_bootcamp/notes/01_getting_started/_oop_notes.ipynb#X23sZmlsZQ%3D%3D?line=11'>12</a>\u001b[0m \u001b[39mif\u001b[39;00m \u001b[39mnot\u001b[39;00m (flight_number[\u001b[39m2\u001b[39m:]\u001b[39m.\u001b[39misdigit() \u001b[39mand\u001b[39;00m \u001b[39mint\u001b[39m(flight_number[\u001b[39m2\u001b[39m:]) \u001b[39m<\u001b[39m\u001b[39m=\u001b[39m \u001b[39m9999\u001b[39m):\n\u001b[1;32m---> <a href='vscode-notebook-cell:/c%3A/Users/nick.reyes/OneDrive%20-%20Self%20Esteem%20Brands%2C%20LLC/Data%20Analytics/GitHub/personal/education/python_developer_bootcamp/notes/01_getting_started/_oop_notes.ipynb#X23sZmlsZQ%3D%3D?line=12'>13</a>\u001b[0m     \u001b[39mraise\u001b[39;00m \u001b[39mValueError\u001b[39;00m(\u001b[39mf\u001b[39m\u001b[39m\"\u001b[39m\u001b[39mInvalid Route Number \u001b[39m\u001b[39m{\u001b[39;00mflight_number\u001b[39m}\u001b[39;00m\u001b[39m\"\u001b[39m)\n\u001b[0;32m     <a href='vscode-notebook-cell:/c%3A/Users/nick.reyes/OneDrive%20-%20Self%20Esteem%20Brands%2C%20LLC/Data%20Analytics/GitHub/personal/education/python_developer_bootcamp/notes/01_getting_started/_oop_notes.ipynb#X23sZmlsZQ%3D%3D?line=14'>15</a>\u001b[0m \u001b[39mself\u001b[39m\u001b[39m.\u001b[39m_flight_number \u001b[39m=\u001b[39m flight_number\n",
      "\u001b[1;31mValueError\u001b[0m: Invalid Route Number SN12345"
     ]
    }
   ],
   "source": [
    "# testing third check (preceeding characters are numeric and less than or equal to 9999)\n",
    "Flight('SN12345')"
   ]
  },
  {
   "cell_type": "code",
   "execution_count": 27,
   "metadata": {},
   "outputs": [
    {
     "name": "stdout",
     "output_type": "stream",
     "text": [
      "\n",
      "    Airline Code: SN\n",
      "    Flight Number: SN060\n",
      "    \n"
     ]
    }
   ],
   "source": [
    "# flight number passes checks and is returned by flight_number method\n",
    "# airline code is returned by airline method\n",
    "f = Flight('SN060')\n",
    "\n",
    "print(\n",
    "    f\"\"\"\n",
    "    Airline Code: {f.airline()}\n",
    "    Flight Number: {f.flight_number()}\n",
    "    \"\"\"\n",
    ")"
   ]
  },
  {
   "cell_type": "markdown",
   "metadata": {},
   "source": [
    "#### Second Class\n",
    "- Model different kinds of aircraft\n",
    "- The initializer creates four attributes for the aircraft (registration, model, num rows, num seats per row)\n",
    "- The seating_plan method is added to return the allowed rows and seats as a series of tuples\n",
    "\n",
    "The call to the range() constructor produces a range object which can be used as an iterable series of row numbers, up to the number of rows in the plane plus one. We add one to the range object because the stopping point of a range is not inclusive. The string and its slice method return a string with one character per seat. These two objects – the range and the string – are bundled up into a tuple."
   ]
  },
  {
   "cell_type": "code",
   "execution_count": 23,
   "metadata": {},
   "outputs": [],
   "source": [
    "class Aircraft:\n",
    "\n",
    "    def __init__(self, registration, model, num_rows, num_seats_per_row):\n",
    "        self._registration = registration\n",
    "        self._model = model\n",
    "        self._num_rows = num_rows\n",
    "        self._num_seats_per_row = num_seats_per_row\n",
    "    \n",
    "    def registration(self):\n",
    "        return self._registration\n",
    "    \n",
    "    def model(self):\n",
    "        return self._model\n",
    "    \n",
    "    def seating_plan(self):\n",
    "        return (range(1, self._num_rows + 1), \"ABCDEFGHJK\"[:self._num_seats_per_row])"
   ]
  },
  {
   "cell_type": "code",
   "execution_count": 26,
   "metadata": {},
   "outputs": [
    {
     "name": "stdout",
     "output_type": "stream",
     "text": [
      "\n",
      "    Registration:  G-EUPT\n",
      "    Model: Airbus A319\n",
      "    Seating Plan: (range(1, 23), 'ABCDEF')\n",
      "    \n"
     ]
    }
   ],
   "source": [
    "# construct a plane with a seating plan\n",
    "a = Aircraft(\" G-EUPT\", \"Airbus A319\", num_rows = 22, num_seats_per_row = 6)\n",
    "\n",
    "print(\n",
    "    f\"\"\"\n",
    "    Registration: {a.registration()}\n",
    "    Model: {a.model()}\n",
    "    Seating Plan: {a.seating_plan()}\n",
    "    \"\"\"\n",
    ")"
   ]
  },
  {
   "cell_type": "code",
   "execution_count": 38,
   "metadata": {},
   "outputs": [
    {
     "name": "stdout",
     "output_type": "stream",
     "text": [
      "Pretty printing has been turned OFF\n"
     ]
    },
    {
     "data": {
      "text/plain": [
       "[1, 2, 3, 4, 5, 6, 7, 8, 9, 10, 11, 12, 13, 14, 15, 16, 17, 18, 19, 20, 21, 22, 'A', 'B', 'C', 'D', 'E', 'F']"
      ]
     },
     "execution_count": 38,
     "metadata": {},
     "output_type": "execute_result"
    }
   ],
   "source": [
    "# test range object (should include 22 rows and 6 seats per row (letters))\n",
    "row_seats = []\n",
    "\n",
    "for item in a.seating_plan():\n",
    "    for identifier in item:\n",
    "        row_seats.append(identifier)\n",
    "\n",
    "%pprint\n",
    "row_seats"
   ]
  }
 ],
 "metadata": {
  "kernelspec": {
   "display_name": "Python 3.9.13 ('base')",
   "language": "python",
   "name": "python3"
  },
  "language_info": {
   "codemirror_mode": {
    "name": "ipython",
    "version": 3
   },
   "file_extension": ".py",
   "mimetype": "text/x-python",
   "name": "python",
   "nbconvert_exporter": "python",
   "pygments_lexer": "ipython3",
   "version": "3.9.13"
  },
  "orig_nbformat": 4,
  "vscode": {
   "interpreter": {
    "hash": "1ba9a1c2f30cbcdec4a19ea5887407781700b95a8fe2ea473d326f76270bab2d"
   }
  }
 },
 "nbformat": 4,
 "nbformat_minor": 2
}
