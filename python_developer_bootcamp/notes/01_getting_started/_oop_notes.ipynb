{
 "cells": [
  {
   "cell_type": "markdown",
   "metadata": {},
   "source": [
    "# Object-Oriented Programming with Classes\n",
    "*Caveat: There will be code duplication as classes are built upon to improve functionality. When calling from the REPL, we would need to import the module prior to instantiating.*"
   ]
  },
  {
   "cell_type": "markdown",
   "metadata": {},
   "source": [
    "### Class Definition\n",
    "- A class is used to define the structure and behavior of one or more objects\n",
    "- Each object defined by the class is referred to as an instance of the class\n",
    "- The class of an object controls its initialization and which attributes and methods are avaialble"
   ]
  },
  {
   "cell_type": "code",
   "execution_count": 1,
   "metadata": {},
   "outputs": [
    {
     "name": "stdout",
     "output_type": "stream",
     "text": [
      "<__main__.Flight object at 0x00000253F7FCDC10>\n",
      "<class '__main__.Flight'>\n"
     ]
    }
   ],
   "source": [
    "# create an empty class\n",
    "# class names are written in CamelCase\n",
    "class Flight:\n",
    "    pass\n",
    "\n",
    "# create a new object (instance) by calling the class constructor\n",
    "f = Flight()\n",
    "print(f)\n",
    "print(type(f))"
   ]
  },
  {
   "cell_type": "markdown",
   "metadata": {},
   "source": [
    "### Instance Methods\n",
    "- Methods are just functions defined within the class block\n",
    "- Instance methods are functions which can be called on objects which are instances of our class\n",
    "- Instance methods must accept a reference to the instance on which the method was called as the first formal argument\n",
    "- By convention, the first formal argument is *self*"
   ]
  },
  {
   "cell_type": "code",
   "execution_count": 2,
   "metadata": {},
   "outputs": [
    {
     "data": {
      "text/plain": [
       "'SN060'"
      ]
     },
     "execution_count": 2,
     "metadata": {},
     "output_type": "execute_result"
    }
   ],
   "source": [
    "class Flight:\n",
    "\n",
    "    def flight_number(self):\n",
    "        return \"SN060\"\n",
    "\n",
    "f = Flight()\n",
    "f.flight_number()"
   ]
  },
  {
   "cell_type": "markdown",
   "metadata": {},
   "source": [
    "### Instance Initializers\n",
    "- If provided, the initializer method is called as part of the process of creating a new object when we call the constructor\n",
    "- The initializer method must be called \\_\\_init\\_\\_() delimited by the double underscores (dunder method)\n",
    "- The first argument to the initializer method must be *self*\n",
    "- The initializer method should not return anything, it modifies the object referred to by *self*\n",
    "- Within the initializer we assign to an attribute of the newly created instance called _flight_number\n",
    "- The leading underscore is used to avoid name clash with the method and as a convention for objects not intended to be consumed or manipulated"
   ]
  },
  {
   "cell_type": "code",
   "execution_count": 3,
   "metadata": {},
   "outputs": [
    {
     "data": {
      "text/plain": [
       "'SN060'"
      ]
     },
     "execution_count": 3,
     "metadata": {},
     "output_type": "execute_result"
    }
   ],
   "source": [
    "class Flight:\n",
    "\n",
    "    def __init__(self, flight_number):\n",
    "        self._flight_number = flight_number\n",
    "    \n",
    "    def flight_number(self):\n",
    "        return self._flight_number\n",
    "\n",
    "f = Flight(flight_number = \"SN060\")\n",
    "f.flight_number()"
   ]
  },
  {
   "cell_type": "markdown",
   "metadata": {},
   "source": [
    "### Validation and Invariants\n",
    "- It's good practice for the initializer of an object to establish class invariants\n",
    "- Invariants are truths about the objects of the class that should endure for the lifetime of the object\n",
    "- We establish class invariants in the \\_\\_init\\_\\_() method and raise exceptions if they can't be attained"
   ]
  },
  {
   "cell_type": "code",
   "execution_count": 4,
   "metadata": {},
   "outputs": [],
   "source": [
    "class Flight:\n",
    "\n",
    "    def __init__(self, flight_number):\n",
    "        if not flight_number[:2].isalpha():\n",
    "            raise ValueError(f\"No Airline Code in {flight_number}\")\n",
    "        \n",
    "        if not flight_number[:2].isupper():\n",
    "            raise ValueError(f\"Invalid Airline Code {flight_number}\")\n",
    "        \n",
    "        if not (flight_number[2:].isdigit() and int(flight_number[2:]) <= 9999):\n",
    "            raise ValueError(f\"Invalid Route Number {flight_number}\")\n",
    "        \n",
    "        self._flight_number = flight_number\n",
    "\n",
    "    def flight_number(self):\n",
    "        return self._flight_number\n",
    "    \n",
    "    def airline(self):\n",
    "        return self._flight_number[:2]"
   ]
  },
  {
   "cell_type": "code",
   "execution_count": 5,
   "metadata": {},
   "outputs": [],
   "source": [
    "# testing first check (airline code must be two letters)\n",
    "# results in ValueError: No Airline Code in 060\n",
    "# Flight(\"060\")"
   ]
  },
  {
   "cell_type": "code",
   "execution_count": 6,
   "metadata": {},
   "outputs": [],
   "source": [
    "# testing second check (airline code must be upper case)\n",
    "# results in ValueError: Invalid Airline Code sn060\n",
    "# Flight(\"sn060\")"
   ]
  },
  {
   "cell_type": "code",
   "execution_count": 7,
   "metadata": {},
   "outputs": [],
   "source": [
    "# testing third check (preceeding characters are numeric and less than or equal to 9999)\n",
    "# results in ValueError: Invalid Route Number SN12345\n",
    "# Flight('SN12345') "
   ]
  },
  {
   "cell_type": "code",
   "execution_count": 8,
   "metadata": {},
   "outputs": [
    {
     "name": "stdout",
     "output_type": "stream",
     "text": [
      "\n",
      "    Airline Code: SN\n",
      "    Flight Number: SN060\n",
      "    \n"
     ]
    }
   ],
   "source": [
    "# flight number passes checks and is returned by flight_number method\n",
    "# airline code is returned by airline method\n",
    "f = Flight('SN060')\n",
    "\n",
    "print(\n",
    "    f\"\"\"\n",
    "    Airline Code: {f.airline()}\n",
    "    Flight Number: {f.flight_number()}\n",
    "    \"\"\"\n",
    ")"
   ]
  },
  {
   "cell_type": "markdown",
   "metadata": {},
   "source": [
    "### Second Class\n",
    "- Model different kinds of aircraft\n",
    "- The initializer creates four attributes for the aircraft (registration, model, num rows, num seats per row)\n",
    "- The seating_plan method is added to return the allowed rows and seats as a series of tuples\n",
    "\n",
    "The call to the range() constructor produces a range object which can be used as an iterable series of row numbers, up to the number of rows in the plane plus one. We add one to the range object because the stopping point of a range is not inclusive. The string and its slice method return a string with one character per seat. These two objects – the range and the string – are bundled up into a tuple."
   ]
  },
  {
   "cell_type": "code",
   "execution_count": 9,
   "metadata": {},
   "outputs": [],
   "source": [
    "class Aircraft:\n",
    "\n",
    "    def __init__(self, registration, model, num_rows, num_seats_per_row):\n",
    "        self._registration = registration\n",
    "        self._model = model\n",
    "        self._num_rows = num_rows\n",
    "        self._num_seats_per_row = num_seats_per_row\n",
    "    \n",
    "    def registration(self):\n",
    "        return self._registration\n",
    "    \n",
    "    def model(self):\n",
    "        return self._model\n",
    "    \n",
    "    def seating_plan(self):\n",
    "        return (range(1, self._num_rows + 1), \"ABCDEFGHJK\"[:self._num_seats_per_row])"
   ]
  },
  {
   "cell_type": "code",
   "execution_count": 10,
   "metadata": {},
   "outputs": [
    {
     "name": "stdout",
     "output_type": "stream",
     "text": [
      "\n",
      "    Registration:  G-EUPT\n",
      "    Model: Airbus A319\n",
      "    Seating Plan: (range(1, 23), 'ABCDEF')\n",
      "    \n"
     ]
    }
   ],
   "source": [
    "# construct a plane with a seating plan\n",
    "a = Aircraft(\" G-EUPT\", \"Airbus A319\", num_rows = 22, num_seats_per_row = 6)\n",
    "\n",
    "print(\n",
    "    f\"\"\"\n",
    "    Registration: {a.registration()}\n",
    "    Model: {a.model()}\n",
    "    Seating Plan: {a.seating_plan()}\n",
    "    \"\"\"\n",
    ")"
   ]
  },
  {
   "cell_type": "code",
   "execution_count": 11,
   "metadata": {},
   "outputs": [
    {
     "name": "stdout",
     "output_type": "stream",
     "text": [
      "Pretty printing has been turned OFF\n"
     ]
    },
    {
     "data": {
      "text/plain": [
       "[1, 2, 3, 4, 5, 6, 7, 8, 9, 10, 11, 12, 13, 14, 15, 16, 17, 18, 19, 20, 21, 22, 'A', 'B', 'C', 'D', 'E', 'F']"
      ]
     },
     "execution_count": 11,
     "metadata": {},
     "output_type": "execute_result"
    }
   ],
   "source": [
    "# test range object (should include 22 rows and 6 seats per row (letters))\n",
    "row_seats = []\n",
    "\n",
    "for item in a.seating_plan():\n",
    "    for identifier in item:\n",
    "        row_seats.append(identifier)\n",
    "\n",
    "%pprint\n",
    "row_seats"
   ]
  },
  {
   "cell_type": "code",
   "execution_count": 12,
   "metadata": {},
   "outputs": [
    {
     "name": "stdout",
     "output_type": "stream",
     "text": [
      "Pretty printing has been turned ON\n"
     ]
    }
   ],
   "source": [
    "%pprint"
   ]
  },
  {
   "cell_type": "markdown",
   "metadata": {},
   "source": [
    "### Collaborating Classes\n",
    "The Law of Demeter is an object-oriented design principle that says you should never call methods on objects you receive from other calls. Or, put another way: Only talk to your immediate friends.\n",
    "\n",
    "We’ll now modify our Flight class to accept an aircraft object when it is constructed, and we’ll follow the Law of Demeter by adding a method to report the aircraft model. This method will delegate to Aircraft on behalf of the client rather than allowing the client to “reach through” the Flight and interrogate the Aircraft object directly.\n",
    "\n",
    "Notice that we construct the Aircraft object and directly pass it to the Flight constructor without needing an intermediate named reference for it."
   ]
  },
  {
   "cell_type": "code",
   "execution_count": 13,
   "metadata": {},
   "outputs": [],
   "source": [
    "class Flight:\n",
    "    \"\"\"A Flight with a Particular Passenger Aircraft\"\"\"\n",
    "    \n",
    "    def __init__(self, flight_number, aircraft):\n",
    "        if not flight_number[:2].isalpha():\n",
    "            raise ValueError(f\"No Airline Code in {flight_number}\")\n",
    "        \n",
    "        if not flight_number[:2].isupper():\n",
    "            raise ValueError(f\"Invalid Airline Code {flight_number}\")\n",
    "        \n",
    "        if not (flight_number[2:].isdigit() and int(flight_number[2:]) <= 9999):\n",
    "            raise ValueError(f\"Invalid Route Number {flight_number}\")\n",
    "        \n",
    "        self._flight_number = flight_number\n",
    "        self._aircraft = aircraft\n",
    "\n",
    "    def flight_number(self):\n",
    "        return self._flight_number\n",
    "    \n",
    "    def airline(self):\n",
    "        return self._flight_number[:2]\n",
    "\n",
    "    def aircraft_model(self):\n",
    "        return self._aircraft.model()\n",
    "\n",
    "\n",
    "class Aircraft:\n",
    "\n",
    "    def __init__(self, registration, model, num_rows, num_seats_per_row):\n",
    "        self._registration = registration\n",
    "        self._model = model\n",
    "        self._num_rows = num_rows\n",
    "        self._num_seats_per_row = num_seats_per_row\n",
    "    \n",
    "    def registration(self):\n",
    "        return self._registration\n",
    "    \n",
    "    def model(self):\n",
    "        return self._model\n",
    "    \n",
    "    def seating_plan(self):\n",
    "        return (range(1, self._num_rows + 1), \"ABCDEFGHJK\"[:self._num_seats_per_row])"
   ]
  },
  {
   "cell_type": "code",
   "execution_count": 14,
   "metadata": {},
   "outputs": [
    {
     "data": {
      "text/plain": [
       "'Airbus A319'"
      ]
     },
     "execution_count": 14,
     "metadata": {},
     "output_type": "execute_result"
    }
   ],
   "source": [
    "# construct a flight with a specific aircraft\n",
    "f = Flight(\"BA758\", Aircraft(\"G-EUPT\", \"Airbus A319\", num_rows = 22, num_seats_per_row = 6))\n",
    "\n",
    "f.aircraft_model()"
   ]
  },
  {
   "cell_type": "markdown",
   "metadata": {},
   "source": [
    "### Booking Seats"
   ]
  }
 ],
 "metadata": {
  "kernelspec": {
   "display_name": "Python 3.9.13 ('pycore')",
   "language": "python",
   "name": "python3"
  },
  "language_info": {
   "codemirror_mode": {
    "name": "ipython",
    "version": 3
   },
   "file_extension": ".py",
   "mimetype": "text/x-python",
   "name": "python",
   "nbconvert_exporter": "python",
   "pygments_lexer": "ipython3",
   "version": "3.9.13"
  },
  "orig_nbformat": 4,
  "vscode": {
   "interpreter": {
    "hash": "fb1d9190babfeb8cba8eb9396f220174514f859c4df6e63a398e79bf83820f4e"
   }
  }
 },
 "nbformat": 4,
 "nbformat_minor": 2
}
