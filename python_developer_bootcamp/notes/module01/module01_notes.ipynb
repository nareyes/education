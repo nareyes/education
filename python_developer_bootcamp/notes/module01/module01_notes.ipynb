{
 "cells": [
  {
   "cell_type": "markdown",
   "metadata": {},
   "source": [
    "# Scalar Types, Operators, and Control Flow"
   ]
  },
  {
   "cell_type": "markdown",
   "metadata": {},
   "source": [
    "Scalar Types\n",
    "- int: 2\n",
    "- float: 2.0\n",
    "- bool: True, False\n",
    "- NoneType: None\n",
    "\n",
    "Relational Operators\n",
    "- == equality\n",
    "- != inequality\n",
    "- < less-than\n",
    "- > greater-than\n",
    "- <= less-than or equal to\n",
    "- >= greater-then or equal to"
   ]
  },
  {
   "cell_type": "code",
   "execution_count": 1,
   "metadata": {},
   "outputs": [
    {
     "name": "stdout",
     "output_type": "stream",
     "text": [
      "It's True.\n"
     ]
    }
   ],
   "source": [
    "# control flow\n",
    "if True:\n",
    "    print('It\\'s True.')"
   ]
  },
  {
   "cell_type": "code",
   "execution_count": 2,
   "metadata": {},
   "outputs": [
    {
     "name": "stdout",
     "output_type": "stream",
     "text": [
      "Between 20 and 50 (inclusive)\n"
     ]
    }
   ],
   "source": [
    "n = 42\n",
    "\n",
    "if n > 50:\n",
    "    print('Greather than 50')\n",
    "elif n < 20:\n",
    "    print('Less than 20')\n",
    "else:\n",
    "    print('Between 20 and 50 (inclusive)')"
   ]
  },
  {
   "cell_type": "code",
   "execution_count": 3,
   "metadata": {},
   "outputs": [
    {
     "name": "stdout",
     "output_type": "stream",
     "text": [
      "5\n",
      "4\n",
      "3\n",
      "2\n",
      "1\n"
     ]
    }
   ],
   "source": [
    "# while loops\n",
    "c = 5\n",
    "\n",
    "while c != 0:\n",
    "    print(c)\n",
    "    c -= 1"
   ]
  },
  {
   "cell_type": "code",
   "execution_count": 4,
   "metadata": {},
   "outputs": [
    {
     "name": "stdout",
     "output_type": "stream",
     "text": [
      "5\n",
      "4\n",
      "3\n",
      "2\n",
      "1\n"
     ]
    }
   ],
   "source": [
    "c = 5\n",
    "\n",
    "while c: \n",
    "    print(c)\n",
    "    c -= 1\n",
    "# bool(0) == False so this while loop functions as above\n",
    "# this is not considered pythonic due to readability and implicity"
   ]
  },
  {
   "cell_type": "markdown",
   "metadata": {},
   "source": [
    "# Strings, Collections, and Iteration"
   ]
  },
  {
   "cell_type": "markdown",
   "metadata": {},
   "source": [
    "Collection Types\n",
    "- str (string)\n",
    "- bytes\n",
    "- list\n",
    "- dict (dictionary)"
   ]
  },
  {
   "cell_type": "code",
   "execution_count": 5,
   "metadata": {},
   "outputs": [
    {
     "name": "stdout",
     "output_type": "stream",
     "text": [
      "C:\\Users\\UserName\\FolderDirectory\\SubFolder\n"
     ]
    }
   ],
   "source": [
    "# raw strings ignore escape characters (useful for directory paths)\n",
    "path = r'C:\\Users\\UserName\\FolderDirectory\\SubFolder'\n",
    "print(path)"
   ]
  },
  {
   "cell_type": "code",
   "execution_count": 6,
   "metadata": {},
   "outputs": [
    {
     "name": "stdout",
     "output_type": "stream",
     "text": [
      "London\n",
      "New York\n",
      "Paris\n",
      "Oslo\n",
      "Helsinki\n"
     ]
    }
   ],
   "source": [
    "# for loops with a list\n",
    "cities = ['London', 'New York', 'Paris', 'Oslo', 'Helsinki']\n",
    "\n",
    "for city in cities:\n",
    "    print(city)"
   ]
  },
  {
   "cell_type": "code",
   "execution_count": 7,
   "metadata": {},
   "outputs": [
    {
     "name": "stdout",
     "output_type": "stream",
     "text": [
      "Nick 123-456-7890\n",
      "Jordan 234-567-8901\n",
      "Luis 345-678-9012\n"
     ]
    }
   ],
   "source": [
    "# for loops with a dictionary\n",
    "phone_numbers = {\n",
    "    'Nick': '123-456-7890',\n",
    "    'Jordan': '234-567-8901',\n",
    "    'Luis': '345-678-9012'\n",
    "}\n",
    "\n",
    "for number in phone_numbers:\n",
    "    print(number, phone_numbers[number])"
   ]
  },
  {
   "cell_type": "code",
   "execution_count": 8,
   "metadata": {},
   "outputs": [
    {
     "name": "stdout",
     "output_type": "stream",
     "text": [
      "['It', 'was', 'the', 'best', 'of', 'times', 'it', 'was', 'the', 'worst', 'of', 'times', 'it', 'was', 'the', 'age', 'of', 'wisdom', 'it', 'was', 'the', 'age', 'of', 'foolishness', 'it', 'was', 'the', 'epoch', 'of', 'belief', 'it', 'was', 'the', 'epoch', 'of', 'incredulity', 'it', 'was', 'the', 'season', 'of', 'Light', 'it', 'was', 'the', 'season', 'of', 'Darkness', 'it', 'was', 'the', 'spring', 'of', 'hope', 'it', 'was', 'the', 'winter', 'of', 'despair', 'we', 'had', 'everything', 'before', 'us', 'we', 'had', 'nothing', 'before', 'us', 'we', 'were', 'all', 'going', 'direct', 'to', 'Heaven', 'we', 'were', 'all', 'going', 'direct', 'the', 'other', 'way', 'in', 'short', 'the', 'period', 'was', 'so', 'far', 'like', 'the', 'present', 'period', 'that', 'some', 'of', 'its', 'noisiest', 'authorities', 'insisted', 'on', 'its', 'being', 'received', 'for', 'good', 'or', 'for', 'evil', 'in', 'the', 'superlative', 'degree', 'of', 'comparison', 'only']\n"
     ]
    }
   ],
   "source": [
    "# example\n",
    "# story_words are stored as bytes and converted using decode method\n",
    "\n",
    "from urllib.request import urlopen\n",
    "\n",
    "story = urlopen('http://sixty-north.com/c/t.txt')\n",
    "story_words = []\n",
    "\n",
    "for line in story:\n",
    "    line_words = line.decode('utf8').split()\n",
    "\n",
    "    for word in line_words:\n",
    "        story_words.append(word)\n",
    "\n",
    "story.close()\n",
    "print(story_words)"
   ]
  },
  {
   "cell_type": "code",
   "execution_count": 9,
   "metadata": {},
   "outputs": [
    {
     "name": "stdout",
     "output_type": "stream",
     "text": [
      "[b'It', b'was', b'the', b'best', b'of', b'times', b'it', b'was', b'the', b'worst', b'of', b'times', b'it', b'was', b'the', b'age', b'of', b'wisdom', b'it', b'was', b'the', b'age', b'of', b'foolishness', b'it', b'was', b'the', b'epoch', b'of', b'belief', b'it', b'was', b'the', b'epoch', b'of', b'incredulity', b'it', b'was', b'the', b'season', b'of', b'Light', b'it', b'was', b'the', b'season', b'of', b'Darkness', b'it', b'was', b'the', b'spring', b'of', b'hope', b'it', b'was', b'the', b'winter', b'of', b'despair', b'we', b'had', b'everything', b'before', b'us', b'we', b'had', b'nothing', b'before', b'us', b'we', b'were', b'all', b'going', b'direct', b'to', b'Heaven', b'we', b'were', b'all', b'going', b'direct', b'the', b'other', b'way', b'in', b'short', b'the', b'period', b'was', b'so', b'far', b'like', b'the', b'present', b'period', b'that', b'some', b'of', b'its', b'noisiest', b'authorities', b'insisted', b'on', b'its', b'being', b'received', b'for', b'good', b'or', b'for', b'evil', b'in', b'the', b'superlative', b'degree', b'of', b'comparison', b'only']\n"
     ]
    }
   ],
   "source": [
    "# encoding story_words back to bytes\n",
    "story_words_copy = story_words\n",
    "story_words_bytes = []\n",
    "\n",
    "for word in story_words_copy:\n",
    "    words = word.encode()\n",
    "    story_words_bytes.append(words)\n",
    "\n",
    "print(story_words_bytes)"
   ]
  },
  {
   "cell_type": "markdown",
   "metadata": {},
   "source": [
    "# Modularity"
   ]
  },
  {
   "cell_type": "markdown",
   "metadata": {},
   "source": [
    "- Modularity gives us the power to make self-contained reusable pieces of code.\n",
    "- Reusable functions can be grouped into source code files called modules.\n",
    "- Modules can be used from other modules.\n",
    "- We will use py files for this portion of the course."
   ]
  },
  {
   "cell_type": "markdown",
   "metadata": {},
   "source": [
    "- Reference words.py and run from console:\n",
    "    - Import module words and call words.fetch_words() from REPL\n",
    "    - Alternatively, from words import fetch_words and call fetch_words()"
   ]
  },
  {
   "cell_type": "code",
   "execution_count": 10,
   "metadata": {},
   "outputs": [
    {
     "name": "stdout",
     "output_type": "stream",
     "text": [
      "25\n",
      "4.0\n",
      "3.0\n"
     ]
    }
   ],
   "source": [
    "# simple functions\n",
    "def square(x):\n",
    "    return x * x\n",
    "\n",
    "print(square(5))\n",
    "\n",
    "def nth_root(radicand, n):\n",
    "    return radicand ** (1/n)\n",
    "\n",
    "print(nth_root(16, 2)) # square root of 16\n",
    "print(nth_root(27, 3)) # cube root of 27"
   ]
  },
  {
   "cell_type": "markdown",
   "metadata": {},
   "source": [
    "- Reference root.py and run from console:\n",
    "    - Import module root and call root.display_nth_root(pass_arguments)\n",
    "    - Alternatively, from root import display_nth_root and call display_nth_root()"
   ]
  },
  {
   "cell_type": "markdown",
   "metadata": {},
   "source": [
    "Dunder Functions\n",
    "- Any function with leading and trailing double underscores.\n",
    "- Such as __name__"
   ]
  },
  {
   "cell_type": "markdown",
   "metadata": {},
   "source": [
    "# Objects and Types"
   ]
  },
  {
   "cell_type": "code",
   "execution_count": null,
   "metadata": {},
   "outputs": [],
   "source": []
  }
 ],
 "metadata": {
  "kernelspec": {
   "display_name": "Python 3.9.12 ('pycore')",
   "language": "python",
   "name": "python3"
  },
  "language_info": {
   "codemirror_mode": {
    "name": "ipython",
    "version": 3
   },
   "file_extension": ".py",
   "mimetype": "text/x-python",
   "name": "python",
   "nbconvert_exporter": "python",
   "pygments_lexer": "ipython3",
   "version": "3.9.13"
  },
  "orig_nbformat": 4,
  "vscode": {
   "interpreter": {
    "hash": "fb1d9190babfeb8cba8eb9396f220174514f859c4df6e63a398e79bf83820f4e"
   }
  }
 },
 "nbformat": 4,
 "nbformat_minor": 2
}
