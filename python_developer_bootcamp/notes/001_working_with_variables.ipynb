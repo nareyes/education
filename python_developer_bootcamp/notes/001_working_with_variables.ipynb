{
 "cells": [
  {
   "cell_type": "code",
   "execution_count": 21,
   "metadata": {},
   "outputs": [
    {
     "name": "stdout",
     "output_type": "stream",
     "text": [
      "Hello World!\n"
     ]
    }
   ],
   "source": [
    "# printing to the \"console\"\n",
    "# strings need to be wrapped in single or double quotes\n",
    "print('Hello World!')"
   ]
  },
  {
   "cell_type": "code",
   "execution_count": 22,
   "metadata": {},
   "outputs": [
    {
     "name": "stdout",
     "output_type": "stream",
     "text": [
      "Nick's Program\n",
      "Nick's Program\n"
     ]
    }
   ],
   "source": [
    "# printing strings with apostrophes (use double quotes, or \"escape\" the extra quotation character)\n",
    "print(\"Nick's Program\")\n",
    "print('Nick\\'s Program')"
   ]
  },
  {
   "cell_type": "code",
   "execution_count": 23,
   "metadata": {},
   "outputs": [
    {
     "name": "stdout",
     "output_type": "stream",
     "text": [
      "\n",
      "    Day 1- Python Print Function\n",
      "    The function is declared like this:\n",
      "    print('what to print')\n",
      "    \n"
     ]
    }
   ],
   "source": [
    "# coding exercise 1\n",
    "# Write a program that prints the same notes from the previous lesson using what you have learnt about the Python print function.\n",
    "\n",
    "print(\n",
    "    \"\"\"\n",
    "    Day 1- Python Print Function\n",
    "    The function is declared like this:\n",
    "    print('what to print')\n",
    "    \"\"\"\n",
    ")"
   ]
  },
  {
   "cell_type": "code",
   "execution_count": 24,
   "metadata": {},
   "outputs": [
    {
     "name": "stdout",
     "output_type": "stream",
     "text": [
      "Hello World!\n",
      "\tHello World!\n"
     ]
    }
   ],
   "source": [
    "# adding tabs and new lines in strings\n",
    "print('Hello World!\\n\\tHello World!')"
   ]
  },
  {
   "cell_type": "code",
   "execution_count": 25,
   "metadata": {},
   "outputs": [
    {
     "name": "stdout",
     "output_type": "stream",
     "text": [
      "Hello World!\n",
      "Hello World!\n"
     ]
    }
   ],
   "source": [
    "# using the + operator for concatenation\n",
    "print('Hello ' + 'World!')\n",
    "print('Hello' + ' ' + 'World!')"
   ]
  },
  {
   "cell_type": "code",
   "execution_count": 26,
   "metadata": {},
   "outputs": [
    {
     "name": "stdout",
     "output_type": "stream",
     "text": [
      "\n",
      "    Day 1 - String Manipulation\n",
      "    String Concatenation is done with the \"+\" sign.\n",
      "    e.g. print(\"Hello \" + \"world\")\n",
      "    New lines can be created with a backslash and n.\n",
      "    \n"
     ]
    }
   ],
   "source": [
    "# coding exercise 2\n",
    "# Look at the code in the code below. There are errors in all of the lines of code. Fix the code so that it runs without errors.\n",
    "\n",
    "# print(\"Day 1 - String Manipulation\")\n",
    "# print('String Concatenation is done with the \"+\" sign.')\n",
    "# print('e.g. print(\"Hello \" + \"world\")')\n",
    "# print(\"New lines can be created with a backslash and n.\")\n",
    "\n",
    "print(\n",
    "    \"\"\"\n",
    "    Day 1 - String Manipulation\n",
    "    String Concatenation is done with the \"+\" sign.\n",
    "    e.g. print(\"Hello \" + \"world\")\n",
    "    New lines can be created with a backslash and n.\n",
    "    \"\"\"\n",
    ")"
   ]
  },
  {
   "cell_type": "code",
   "execution_count": 27,
   "metadata": {},
   "outputs": [
    {
     "name": "stdout",
     "output_type": "stream",
     "text": [
      "Hello Nick!\n"
     ]
    }
   ],
   "source": [
    "# input function to take user input\n",
    "print('Hello ' + input('What is your name? ') + '!')"
   ]
  },
  {
   "cell_type": "code",
   "execution_count": 28,
   "metadata": {},
   "outputs": [
    {
     "name": "stdout",
     "output_type": "stream",
     "text": [
      "4\n"
     ]
    }
   ],
   "source": [
    "# coding exercise 3\n",
    "# Write a program that prints the number of characters in a user's name.\n",
    "\n",
    "print(len(input('What is your name? ')))"
   ]
  },
  {
   "cell_type": "code",
   "execution_count": 30,
   "metadata": {},
   "outputs": [
    {
     "name": "stdout",
     "output_type": "stream",
     "text": [
      "Hello Nick!\n"
     ]
    }
   ],
   "source": [
    "# creating variables with input\n",
    "name = input('What is your name? ')\n",
    "print('Hello ' + name + '!')"
   ]
  },
  {
   "cell_type": "code",
   "execution_count": 31,
   "metadata": {},
   "outputs": [
    {
     "name": "stdout",
     "output_type": "stream",
     "text": [
      "Miami\n",
      "Minneapolis\n"
     ]
    }
   ],
   "source": [
    "# changing the contents of a variable\n",
    "city = 'Miami'\n",
    "print(city)\n",
    "\n",
    "city = 'Minneapolis'\n",
    "print(city)"
   ]
  },
  {
   "cell_type": "code",
   "execution_count": 32,
   "metadata": {},
   "outputs": [
    {
     "name": "stdout",
     "output_type": "stream",
     "text": [
      "5\n"
     ]
    }
   ],
   "source": [
    "# printing the length of a variable\n",
    "greeting = 'Hello'\n",
    "length = len(greeting)\n",
    "\n",
    "print(length)"
   ]
  },
  {
   "cell_type": "code",
   "execution_count": 37,
   "metadata": {},
   "outputs": [
    {
     "name": "stdout",
     "output_type": "stream",
     "text": [
      "4 2\n",
      "2\n"
     ]
    }
   ],
   "source": [
    "# coding exercise 4\n",
    "# Write a program that switches the values stored in the variables a and b.\n",
    "# Expected Output: a = 4, b = 2\n",
    "a = 2\n",
    "b = 4\n",
    "\n",
    "c = a\n",
    "a = b\n",
    "b = c\n",
    "\n",
    "print(a, b)"
   ]
  },
  {
   "cell_type": "markdown",
   "metadata": {},
   "source": [
    "Variable Naming Conventions\n",
    "- Choose variable names that are readable and decriptive\n",
    "- Variable names cannot have spaces (you can use snake_case or camelCase)\n",
    "- Numbers can be used but variable names cannot start with numbers\n",
    "- Avoid using standard function names for variables"
   ]
  }
 ],
 "metadata": {
  "kernelspec": {
   "display_name": "Python 3.9.12 ('base')",
   "language": "python",
   "name": "python3"
  },
  "language_info": {
   "codemirror_mode": {
    "name": "ipython",
    "version": 3
   },
   "file_extension": ".py",
   "mimetype": "text/x-python",
   "name": "python",
   "nbconvert_exporter": "python",
   "pygments_lexer": "ipython3",
   "version": "3.9.12"
  },
  "orig_nbformat": 4,
  "vscode": {
   "interpreter": {
    "hash": "778d7b6bf01a84f48b9dd46c9f746c617956e7b1189498d16978cc18ff92f546"
   }
  }
 },
 "nbformat": 4,
 "nbformat_minor": 2
}
