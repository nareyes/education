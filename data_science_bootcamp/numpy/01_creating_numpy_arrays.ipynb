{
 "cells": [
  {
   "cell_type": "code",
   "execution_count": 17,
   "metadata": {},
   "outputs": [],
   "source": [
    "import numpy as np"
   ]
  },
  {
   "cell_type": "code",
   "execution_count": 18,
   "metadata": {},
   "outputs": [
    {
     "data": {
      "text/plain": [
       "array([1, 2, 3])"
      ]
     },
     "execution_count": 18,
     "metadata": {},
     "output_type": "execute_result"
    }
   ],
   "source": [
    "# create one dimmensional array\n",
    "my_1d_array = np.array([1, 2, 3])\n",
    "my_1d_array"
   ]
  },
  {
   "cell_type": "code",
   "execution_count": 19,
   "metadata": {},
   "outputs": [
    {
     "data": {
      "text/plain": [
       "(3,)"
      ]
     },
     "execution_count": 19,
     "metadata": {},
     "output_type": "execute_result"
    }
   ],
   "source": [
    "# inspect shape of one dimensional array\n",
    "my_1d_array.shape # 1 row, 3 columns"
   ]
  },
  {
   "cell_type": "code",
   "execution_count": 20,
   "metadata": {},
   "outputs": [
    {
     "name": "stdout",
     "output_type": "stream",
     "text": [
      "1\n",
      "3\n",
      "[1 2]\n"
     ]
    }
   ],
   "source": [
    "# access elements in a one dimmensional array\n",
    "print(my_1d_array[0])\n",
    "print(my_1d_array[-1])\n",
    "print(my_1d_array[0:2])"
   ]
  },
  {
   "cell_type": "code",
   "execution_count": 21,
   "metadata": {},
   "outputs": [
    {
     "data": {
      "text/plain": [
       "array([[ 1,  2,  3,  4,  5],\n",
       "       [ 6,  7,  8,  9, 10]])"
      ]
     },
     "execution_count": 21,
     "metadata": {},
     "output_type": "execute_result"
    }
   ],
   "source": [
    "# create two dimensional array\n",
    "my_2d_array = np.array([[1, 2, 3, 4, 5], [6, 7, 8, 9, 10]])\n",
    "my_2d_array"
   ]
  },
  {
   "cell_type": "code",
   "execution_count": 22,
   "metadata": {},
   "outputs": [
    {
     "data": {
      "text/plain": [
       "(2, 5)"
      ]
     },
     "execution_count": 22,
     "metadata": {},
     "output_type": "execute_result"
    }
   ],
   "source": [
    "# inspect shape of two dimensional array\n",
    "my_2d_array.shape # 2 rows, 5 columns"
   ]
  },
  {
   "cell_type": "code",
   "execution_count": 23,
   "metadata": {},
   "outputs": [
    {
     "name": "stdout",
     "output_type": "stream",
     "text": [
      "[1 2 3 4 5]\n",
      "[ 6  7  8  9 10]\n",
      "2\n",
      "2\n",
      "[[2 3]\n",
      " [7 8]]\n"
     ]
    }
   ],
   "source": [
    "# access elements in a two dimmensional array\n",
    "print(my_2d_array[0]) # row at index zero\n",
    "print(my_2d_array[1]) # row at index 1\n",
    "print(my_2d_array[0, 1]) # row at index 0, column at index 1\n",
    "print(my_2d_array[0][1]) # same as above with different syntax\n",
    "print(my_2d_array[0:2, 1:3]) # slicing \n"
   ]
  },
  {
   "cell_type": "code",
   "execution_count": 24,
   "metadata": {},
   "outputs": [
    {
     "name": "stdout",
     "output_type": "stream",
     "text": [
      "[0. 0. 0.]\n",
      "\n",
      "\n",
      "[[0. 0. 0.]\n",
      " [0. 0. 0.]\n",
      " [0. 0. 0.]]\n",
      "\n",
      "\n",
      "[[[0. 0. 0.]\n",
      "  [0. 0. 0.]\n",
      "  [0. 0. 0.]]\n",
      "\n",
      " [[0. 0. 0.]\n",
      "  [0. 0. 0.]\n",
      "  [0. 0. 0.]]\n",
      "\n",
      " [[0. 0. 0.]\n",
      "  [0. 0. 0.]\n",
      "  [0. 0. 0.]]]\n"
     ]
    }
   ],
   "source": [
    "# create array with 0 (useful to start with a base array of a certain shape)\n",
    "# can also use np.ones to fill an array with 1\n",
    "print(np.zeros(3))\n",
    "print('\\n')\n",
    "\n",
    "print(np.zeros((3, 3)))\n",
    "print('\\n')\n",
    "\n",
    "print(np.zeros((3, 3, 3)))"
   ]
  },
  {
   "cell_type": "code",
   "execution_count": 25,
   "metadata": {},
   "outputs": [
    {
     "data": {
      "text/plain": [
       "array([[5, 5, 5],\n",
       "       [5, 5, 5],\n",
       "       [5, 5, 5]])"
      ]
     },
     "execution_count": 25,
     "metadata": {},
     "output_type": "execute_result"
    }
   ],
   "source": [
    "# create array and fill with a specified value\n",
    "np.full((3, 3), 5)"
   ]
  },
  {
   "cell_type": "code",
   "execution_count": 26,
   "metadata": {},
   "outputs": [
    {
     "name": "stdout",
     "output_type": "stream",
     "text": [
      "[0 1 2 3 4 5 6 7 8 9]\n",
      "[2 3 4 5 6 7 8 9]\n",
      "[2 4 6 8]\n"
     ]
    }
   ],
   "source": [
    "# create array and fill with a specified range (start, stop, step)\n",
    "print(np.arange(10))\n",
    "print(np.arange(2, 10))\n",
    "print(np.arange(2, 10, 2))"
   ]
  },
  {
   "cell_type": "code",
   "execution_count": 27,
   "metadata": {},
   "outputs": [
    {
     "data": {
      "text/plain": [
       "array([1.        , 1.21052632, 1.42105263, 1.63157895, 1.84210526,\n",
       "       2.05263158, 2.26315789, 2.47368421, 2.68421053, 2.89473684,\n",
       "       3.10526316, 3.31578947, 3.52631579, 3.73684211, 3.94736842,\n",
       "       4.15789474, 4.36842105, 4.57894737, 4.78947368, 5.        ])"
      ]
     },
     "execution_count": 27,
     "metadata": {},
     "output_type": "execute_result"
    }
   ],
   "source": [
    "# create array with evenly spaced values that will form a straight line (start, stop, step)\n",
    "np.linspace(1, 5, 20)"
   ]
  },
  {
   "cell_type": "code",
   "execution_count": 28,
   "metadata": {},
   "outputs": [
    {
     "data": {
      "text/plain": [
       "array([1.  , 1.21, 1.42, 1.63, 1.84, 2.05, 2.26, 2.47, 2.68, 2.89, 3.11,\n",
       "       3.32, 3.53, 3.74, 3.95, 4.16, 4.37, 4.58, 4.79, 5.  ])"
      ]
     },
     "execution_count": 28,
     "metadata": {},
     "output_type": "execute_result"
    }
   ],
   "source": [
    "# rounding all values in an array\n",
    "float_array = np.linspace(1, 5, 20)\n",
    "np.round(float_array, 2)"
   ]
  },
  {
   "cell_type": "code",
   "execution_count": 29,
   "metadata": {},
   "outputs": [
    {
     "name": "stdout",
     "output_type": "stream",
     "text": [
      "[0.93368091 0.5972166  0.95963574 0.7894635  0.68952737]\n",
      "\n",
      "\n",
      "[[0.73205385 0.05755157]\n",
      " [0.91373957 0.39245089]\n",
      " [0.09207749 0.29187368]\n",
      " [0.24303343 0.74949354]\n",
      " [0.12628954 0.58942453]]\n"
     ]
    }
   ],
   "source": [
    "# create array with random numbers (rows, columns)\n",
    "print(np.random.rand(5)) # one dimensional array with 5 values\n",
    "print('\\n')\n",
    "\n",
    "print(np.random.rand(5, 2)) # two dimensional array with 5 rows and 2 columns"
   ]
  },
  {
   "cell_type": "code",
   "execution_count": 30,
   "metadata": {},
   "outputs": [
    {
     "name": "stdout",
     "output_type": "stream",
     "text": [
      "[75 20 62 57 74 62 49 39 77 21 64 25 29 22 67 56 22 74 48 60 77 71 32 49\n",
      " 23 36 50 23 23 65 71 65 29 60 75 20 32 67 27 22 39 48 21 54 79 54 70 59\n",
      " 50 79 44 61 34 76 68 26 48 41 28 57 35 66 41 47 31 65 48 42 50 46 68 37\n",
      " 42 23 69 60 26 56 54 43 41 40 68 77 27 36 47 35 20 22 77 61 77 54 25 32\n",
      " 26 31 64 37]\n",
      "\n",
      "\n",
      "[[65 76 73 44 39 33 44 32 44 24]\n",
      " [59 67 68 23 29 60 57 31 40 57]\n",
      " [24 22 65 62 46 23 33 51 27 66]\n",
      " [51 57 34 72 43 20 53 38 52 25]\n",
      " [26 24 63 75 68 71 37 30 68 27]\n",
      " [40 22 50 53 52 31 22 43 59 22]\n",
      " [61 27 58 35 37 61 54 73 43 61]\n",
      " [43 72 23 45 73 46 23 69 32 73]\n",
      " [71 54 46 72 24 66 38 36 24 27]\n",
      " [30 31 44 42 32 59 60 32 63 25]]\n"
     ]
    }
   ],
   "source": [
    "# create array with random integers (start, stop, count)\n",
    "print(np.random.randint(20, 80, 100)) # one dimensional array\n",
    "print('\\n')\n",
    "\n",
    "print(np.random.randint(20, 80, (10, 10))) # specify desired shape in paranthesis"
   ]
  },
  {
   "cell_type": "code",
   "execution_count": 31,
   "metadata": {},
   "outputs": [
    {
     "data": {
      "text/plain": [
       "array([[41, 45, 35, 25, 73, 41, 30, 47, 26, 27],\n",
       "       [20, 40, 22, 50, 43, 51, 67, 76, 34, 79],\n",
       "       [45, 45, 39, 71, 70, 66, 71, 64, 69, 67],\n",
       "       [33, 36, 72, 53, 79, 70, 37, 59, 47, 42],\n",
       "       [43, 27, 25, 69, 28, 72, 22, 53, 44, 25],\n",
       "       [56, 35, 65, 64, 33, 32, 67, 24, 41, 36],\n",
       "       [69, 60, 26, 48, 66, 30, 68, 48, 39, 62],\n",
       "       [32, 36, 65, 65, 58, 24, 32, 37, 66, 73],\n",
       "       [36, 44, 60, 56, 61, 64, 54, 22, 26, 27],\n",
       "       [22, 40, 50, 21, 36, 64, 58, 49, 60, 69]])"
      ]
     },
     "execution_count": 31,
     "metadata": {},
     "output_type": "execute_result"
    }
   ],
   "source": [
    "# reshaping an array\n",
    "rand_1d_array = np.random.randint(20, 80, 100)\n",
    "rand_2d_array = rand_1d_array.reshape(10, 10) # specify desired shape in paranthesis\n",
    "rand_2d_array"
   ]
  }
 ],
 "metadata": {
  "kernelspec": {
   "display_name": "Python 3.9.12 ('ds_infinity')",
   "language": "python",
   "name": "python3"
  },
  "language_info": {
   "codemirror_mode": {
    "name": "ipython",
    "version": 3
   },
   "file_extension": ".py",
   "mimetype": "text/x-python",
   "name": "python",
   "nbconvert_exporter": "python",
   "pygments_lexer": "ipython3",
   "version": "3.9.12"
  },
  "orig_nbformat": 4,
  "vscode": {
   "interpreter": {
    "hash": "864fb72fa58be07f4055d468487424e4132a73f6ab835237ffcd5c869bf333aa"
   }
  }
 },
 "nbformat": 4,
 "nbformat_minor": 2
}
