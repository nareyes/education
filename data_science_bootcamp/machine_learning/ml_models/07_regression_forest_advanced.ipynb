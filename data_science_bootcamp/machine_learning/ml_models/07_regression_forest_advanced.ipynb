{
 "cells": [
  {
   "cell_type": "code",
   "execution_count": 1,
   "metadata": {},
   "outputs": [],
   "source": [
    "# import modules\n",
    "import pandas as pd\n",
    "import pickle\n",
    "import matplotlib.pyplot as plt\n",
    "\n",
    "from sklearn.ensemble import RandomForestRegressor\n",
    "from sklearn.utils import shuffle\n",
    "from sklearn.model_selection import train_test_split, cross_val_score, KFold\n",
    "from sklearn.metrics import r2_score\n",
    "from sklearn.preprocessing import OneHotEncoder\n",
    "from sklearn.inspection import permutation_importance"
   ]
  },
  {
   "cell_type": "code",
   "execution_count": 2,
   "metadata": {},
   "outputs": [
    {
     "data": {
      "text/html": [
       "<div>\n",
       "<style scoped>\n",
       "    .dataframe tbody tr th:only-of-type {\n",
       "        vertical-align: middle;\n",
       "    }\n",
       "\n",
       "    .dataframe tbody tr th {\n",
       "        vertical-align: top;\n",
       "    }\n",
       "\n",
       "    .dataframe thead th {\n",
       "        text-align: right;\n",
       "    }\n",
       "</style>\n",
       "<table border=\"1\" class=\"dataframe\">\n",
       "  <thead>\n",
       "    <tr style=\"text-align: right;\">\n",
       "      <th></th>\n",
       "      <th>customer_id</th>\n",
       "      <th>distance_from_store</th>\n",
       "      <th>gender</th>\n",
       "      <th>credit_score</th>\n",
       "      <th>customer_loyalty_score</th>\n",
       "      <th>total_sales</th>\n",
       "      <th>total_items</th>\n",
       "      <th>transaction_count</th>\n",
       "      <th>product_area_count</th>\n",
       "      <th>avg_basket_value</th>\n",
       "    </tr>\n",
       "  </thead>\n",
       "  <tbody>\n",
       "    <tr>\n",
       "      <th>0</th>\n",
       "      <td>74</td>\n",
       "      <td>3.38</td>\n",
       "      <td>F</td>\n",
       "      <td>0.59</td>\n",
       "      <td>0.263</td>\n",
       "      <td>2563.71</td>\n",
       "      <td>297</td>\n",
       "      <td>44</td>\n",
       "      <td>5</td>\n",
       "      <td>58.266136</td>\n",
       "    </tr>\n",
       "    <tr>\n",
       "      <th>1</th>\n",
       "      <td>524</td>\n",
       "      <td>4.76</td>\n",
       "      <td>F</td>\n",
       "      <td>0.52</td>\n",
       "      <td>0.298</td>\n",
       "      <td>2996.02</td>\n",
       "      <td>357</td>\n",
       "      <td>49</td>\n",
       "      <td>5</td>\n",
       "      <td>61.143265</td>\n",
       "    </tr>\n",
       "    <tr>\n",
       "      <th>2</th>\n",
       "      <td>607</td>\n",
       "      <td>4.45</td>\n",
       "      <td>F</td>\n",
       "      <td>0.49</td>\n",
       "      <td>0.337</td>\n",
       "      <td>2853.82</td>\n",
       "      <td>350</td>\n",
       "      <td>49</td>\n",
       "      <td>5</td>\n",
       "      <td>58.241224</td>\n",
       "    </tr>\n",
       "    <tr>\n",
       "      <th>3</th>\n",
       "      <td>343</td>\n",
       "      <td>0.91</td>\n",
       "      <td>M</td>\n",
       "      <td>0.54</td>\n",
       "      <td>0.873</td>\n",
       "      <td>2388.31</td>\n",
       "      <td>272</td>\n",
       "      <td>54</td>\n",
       "      <td>5</td>\n",
       "      <td>44.227963</td>\n",
       "    </tr>\n",
       "    <tr>\n",
       "      <th>4</th>\n",
       "      <td>322</td>\n",
       "      <td>3.02</td>\n",
       "      <td>F</td>\n",
       "      <td>0.63</td>\n",
       "      <td>0.350</td>\n",
       "      <td>2401.64</td>\n",
       "      <td>278</td>\n",
       "      <td>50</td>\n",
       "      <td>5</td>\n",
       "      <td>48.032800</td>\n",
       "    </tr>\n",
       "  </tbody>\n",
       "</table>\n",
       "</div>"
      ],
      "text/plain": [
       "   customer_id  distance_from_store gender  credit_score  \\\n",
       "0           74                 3.38      F          0.59   \n",
       "1          524                 4.76      F          0.52   \n",
       "2          607                 4.45      F          0.49   \n",
       "3          343                 0.91      M          0.54   \n",
       "4          322                 3.02      F          0.63   \n",
       "\n",
       "   customer_loyalty_score  total_sales  total_items  transaction_count  \\\n",
       "0                   0.263      2563.71          297                 44   \n",
       "1                   0.298      2996.02          357                 49   \n",
       "2                   0.337      2853.82          350                 49   \n",
       "3                   0.873      2388.31          272                 54   \n",
       "4                   0.350      2401.64          278                 50   \n",
       "\n",
       "   product_area_count  avg_basket_value  \n",
       "0                   5         58.266136  \n",
       "1                   5         61.143265  \n",
       "2                   5         58.241224  \n",
       "3                   5         44.227963  \n",
       "4                   5         48.032800  "
      ]
     },
     "execution_count": 2,
     "metadata": {},
     "output_type": "execute_result"
    }
   ],
   "source": [
    "# load data\n",
    "df = pickle.load(open('data/abc_regression_modeling.p', 'rb')) # rb is reading\n",
    "df.head()"
   ]
  },
  {
   "cell_type": "code",
   "execution_count": 3,
   "metadata": {},
   "outputs": [],
   "source": [
    "# shuffle data\n",
    "df = shuffle(df)"
   ]
  },
  {
   "cell_type": "code",
   "execution_count": 4,
   "metadata": {},
   "outputs": [],
   "source": [
    "# drop unecessary columns\n",
    "df.drop('customer_id', axis = 1, inplace = True)"
   ]
  },
  {
   "cell_type": "code",
   "execution_count": 5,
   "metadata": {},
   "outputs": [
    {
     "name": "stdout",
     "output_type": "stream",
     "text": [
      "distance_from_store       2\n",
      "gender                    3\n",
      "credit_score              2\n",
      "customer_loyalty_score    0\n",
      "total_sales               0\n",
      "total_items               0\n",
      "transaction_count         0\n",
      "product_area_count        0\n",
      "avg_basket_value          0\n",
      "dtype: int64\n"
     ]
    }
   ],
   "source": [
    "# deal with missing value\n",
    "print(df.isna().sum())\n",
    "df.dropna(how = 'any', inplace = True) # we don't need to use imputer in this case since we have a very small amount of na records"
   ]
  },
  {
   "cell_type": "code",
   "execution_count": 6,
   "metadata": {},
   "outputs": [],
   "source": [
    "# split input and output variables\n",
    "X = df.drop(['customer_loyalty_score'], axis = 1) # input vairables\n",
    "y = df['customer_loyalty_score'] # output variable"
   ]
  },
  {
   "cell_type": "code",
   "execution_count": 7,
   "metadata": {},
   "outputs": [],
   "source": [
    "# split data into training and test sets\n",
    "X_train, X_test, y_train, y_test = train_test_split(X, y, test_size = 0.2)"
   ]
  },
  {
   "cell_type": "code",
   "execution_count": 8,
   "metadata": {},
   "outputs": [],
   "source": [
    "# deal with categorical variables\n",
    "categorical_vars = ['gender']\n",
    "\n",
    "# enstantiate one hot encoder object and apply to training and test data\n",
    "one_hot_encoder = OneHotEncoder(sparse = False, drop = 'first') # returns array, drops one of the binary categorical columns to reduce multicollinearity\n",
    "\n",
    "X_train_encoded = one_hot_encoder.fit_transform(X_train[categorical_vars])\n",
    "X_test_encoded = one_hot_encoder.transform(X_test[categorical_vars])\n",
    "\n",
    "# create object to get feature names\n",
    "encoder_feature_names = one_hot_encoder.get_feature_names_out(categorical_vars)\n",
    "\n",
    "# create data frame with encoder variables and feature names, and concat to original data frame and reset index\n",
    "X_train_encoded = pd.DataFrame(X_train_encoded, columns = encoder_feature_names)\n",
    "X_train = pd.concat([X_train.reset_index (drop = True), X_train_encoded.reset_index (drop = True)], axis = 1) # axis 1 concats columns and not rows\n",
    "X_train.drop(categorical_vars, axis = 1, inplace = True) # axis 1 drops columns and not rows\n",
    "\n",
    "X_test_encoded = pd.DataFrame(X_test_encoded, columns = encoder_feature_names)\n",
    "X_test = pd.concat([X_test.reset_index (drop = True), X_test_encoded.reset_index (drop = True)], axis = 1) # axis 1 concats columns and not rows\n",
    "X_test.drop(categorical_vars, axis = 1, inplace = True) # axis 1 drops columns and not rows"
   ]
  },
  {
   "cell_type": "code",
   "execution_count": 9,
   "metadata": {},
   "outputs": [
    {
     "data": {
      "text/plain": [
       "RandomForestRegressor()"
      ]
     },
     "execution_count": 9,
     "metadata": {},
     "output_type": "execute_result"
    }
   ],
   "source": [
    "# train model\n",
    "regressor = RandomForestRegressor()\n",
    "regressor.fit(X_train, y_train)"
   ]
  },
  {
   "cell_type": "code",
   "execution_count": 10,
   "metadata": {},
   "outputs": [
    {
     "data": {
      "text/plain": [
       "array([0.81763, 0.27382, 0.26585, 0.21429, 0.03821, 0.27401, 0.21991,\n",
       "       0.94184, 0.54884, 0.40369, 0.0948 , 0.6129 , 0.35684, 0.23602,\n",
       "       0.88358, 0.63257, 0.78316, 0.49721, 0.30785, 0.01886, 0.35866,\n",
       "       0.87176, 0.34011, 0.56431, 0.23137, 0.8647 , 0.11654, 0.7869 ,\n",
       "       0.76829, 0.66811, 0.14957, 0.08042, 0.03904, 0.6888 , 0.21417,\n",
       "       0.26029, 0.79969, 0.10789, 0.14046, 0.94841, 0.26334, 0.31225,\n",
       "       0.95412, 0.32952, 0.25045, 0.14262, 0.88689, 0.81397, 0.71095,\n",
       "       0.57966, 0.39553, 0.68333, 0.33644, 0.86962, 0.39205, 0.3907 ,\n",
       "       0.65003, 0.92667, 0.47666, 0.09642, 0.06242, 0.07569, 0.27361,\n",
       "       0.59853, 0.41079, 0.7466 , 0.67473, 0.34519, 0.58503, 0.04372,\n",
       "       0.75747, 0.26693, 0.87871, 0.12819, 0.43012, 0.89652, 0.44787,\n",
       "       0.72893, 0.61531])"
      ]
     },
     "execution_count": 10,
     "metadata": {},
     "output_type": "execute_result"
    }
   ],
   "source": [
    "# predict on the test set\n",
    "y_pred = regressor.predict(X_test)\n",
    "y_pred"
   ]
  },
  {
   "cell_type": "code",
   "execution_count": 11,
   "metadata": {},
   "outputs": [
    {
     "name": "stdout",
     "output_type": "stream",
     "text": [
      "R-Squared = 0.9353164688884795\n"
     ]
    }
   ],
   "source": [
    "# calculate R-Squared\n",
    "r_squared = r2_score(y_test, y_pred)\n",
    "print(f'R-Squared = {r_squared}')"
   ]
  },
  {
   "cell_type": "code",
   "execution_count": 12,
   "metadata": {},
   "outputs": [
    {
     "data": {
      "text/plain": [
       "0.9254309749803122"
      ]
     },
     "execution_count": 12,
     "metadata": {},
     "output_type": "execute_result"
    }
   ],
   "source": [
    "# cross validation\n",
    "cv = KFold(n_splits = 4, shuffle = True)\n",
    "cv_scores = cross_val_score(regressor, X_train, y_train, cv = cv, scoring = 'r2')\n",
    "cv_scores.mean()"
   ]
  },
  {
   "cell_type": "code",
   "execution_count": 13,
   "metadata": {},
   "outputs": [
    {
     "name": "stdout",
     "output_type": "stream",
     "text": [
      "Adjusted R-Squared = 0.9279240653328772\n"
     ]
    }
   ],
   "source": [
    "# calculate adjusted r-squared\n",
    "num_data_points, num_input_vars = X_test.shape # output of .shape is the number of rows and columns\n",
    "adjusted_r_squared = 1 - (1 - r_squared) * (num_data_points - 1) / (num_data_points - num_input_vars - 1)\n",
    "print(f'Adjusted R-Squared = {adjusted_r_squared}')"
   ]
  },
  {
   "cell_type": "code",
   "execution_count": 14,
   "metadata": {},
   "outputs": [
    {
     "data": {
      "text/html": [
       "<div>\n",
       "<style scoped>\n",
       "    .dataframe tbody tr th:only-of-type {\n",
       "        vertical-align: middle;\n",
       "    }\n",
       "\n",
       "    .dataframe tbody tr th {\n",
       "        vertical-align: top;\n",
       "    }\n",
       "\n",
       "    .dataframe thead th {\n",
       "        text-align: right;\n",
       "    }\n",
       "</style>\n",
       "<table border=\"1\" class=\"dataframe\">\n",
       "  <thead>\n",
       "    <tr style=\"text-align: right;\">\n",
       "      <th></th>\n",
       "      <th>input_variable</th>\n",
       "      <th>feature_importance</th>\n",
       "    </tr>\n",
       "  </thead>\n",
       "  <tbody>\n",
       "    <tr>\n",
       "      <th>1</th>\n",
       "      <td>gender</td>\n",
       "      <td>0.010057</td>\n",
       "    </tr>\n",
       "    <tr>\n",
       "      <th>6</th>\n",
       "      <td>product_area_count</td>\n",
       "      <td>0.011338</td>\n",
       "    </tr>\n",
       "    <tr>\n",
       "      <th>7</th>\n",
       "      <td>avg_basket_value</td>\n",
       "      <td>0.028491</td>\n",
       "    </tr>\n",
       "    <tr>\n",
       "      <th>4</th>\n",
       "      <td>total_items</td>\n",
       "      <td>0.047668</td>\n",
       "    </tr>\n",
       "    <tr>\n",
       "      <th>5</th>\n",
       "      <td>transaction_count</td>\n",
       "      <td>0.048593</td>\n",
       "    </tr>\n",
       "    <tr>\n",
       "      <th>3</th>\n",
       "      <td>total_sales</td>\n",
       "      <td>0.102720</td>\n",
       "    </tr>\n",
       "    <tr>\n",
       "      <th>2</th>\n",
       "      <td>credit_score</td>\n",
       "      <td>0.120209</td>\n",
       "    </tr>\n",
       "    <tr>\n",
       "      <th>0</th>\n",
       "      <td>distance_from_store</td>\n",
       "      <td>0.630924</td>\n",
       "    </tr>\n",
       "  </tbody>\n",
       "</table>\n",
       "</div>"
      ],
      "text/plain": [
       "        input_variable  feature_importance\n",
       "1               gender            0.010057\n",
       "6   product_area_count            0.011338\n",
       "7     avg_basket_value            0.028491\n",
       "4          total_items            0.047668\n",
       "5    transaction_count            0.048593\n",
       "3          total_sales            0.102720\n",
       "2         credit_score            0.120209\n",
       "0  distance_from_store            0.630924"
      ]
     },
     "execution_count": 14,
     "metadata": {},
     "output_type": "execute_result"
    }
   ],
   "source": [
    "# feature importance summary\n",
    "feature_importance = pd.DataFrame(regressor.feature_importances_)\n",
    "feature_names = pd.DataFrame(X.columns)\n",
    "\n",
    "feature_importance_summary = pd.concat([feature_names, feature_importance], axis = 1)\n",
    "feature_importance_summary.columns = ['input_variable', 'feature_importance']\n",
    "feature_importance_summary.sort_values(by = 'feature_importance', inplace = True)\n",
    "\n",
    "feature_importance_summary"
   ]
  },
  {
   "cell_type": "code",
   "execution_count": 15,
   "metadata": {},
   "outputs": [
    {
     "data": {
      "image/png": "[encoded data removed]",
      "text/plain": [
       "<Figure size 432x288 with 1 Axes>"
      ]
     },
     "metadata": {},
     "output_type": "display_data"
    }
   ],
   "source": [
    "# feature importance bar plot\n",
    "plt.barh(\n",
    "    feature_importance_summary['input_variable'],\n",
    "    feature_importance_summary['feature_importance']\n",
    ")\n",
    "\n",
    "plt.title(\"Random Forest Feature Importance\")\n",
    "plt.xlabel('Feature Importance')\n",
    "plt.tight_layout()\n",
    "\n",
    "plt.show()"
   ]
  },
  {
   "cell_type": "code",
   "execution_count": 16,
   "metadata": {},
   "outputs": [
    {
     "data": {
      "text/plain": [
       "{'importances_mean': array([ 1.36930674e+00, -1.95374817e-04,  6.04019386e-02,  1.05391909e-01,\n",
       "         9.11015098e-03,  4.68647167e-02,  2.50521790e-03,  4.13819745e-02]),\n",
       " 'importances_std': array([0.1315735 , 0.00129265, 0.01399824, 0.02959888, 0.00588935,\n",
       "        0.00871861, 0.00135064, 0.00979448]),\n",
       " 'importances': array([[ 1.36057755e+00,  1.26598351e+00,  1.60228074e+00,\n",
       "          1.49016539e+00,  1.35367528e+00,  1.37090967e+00,\n",
       "          1.30674121e+00,  1.54545168e+00,  1.19425955e+00,\n",
       "          1.20302282e+00],\n",
       "        [ 1.71047422e-03,  6.85118601e-04,  2.02374596e-03,\n",
       "         -6.19331635e-04,  1.26317138e-04, -9.64321511e-04,\n",
       "         -1.33273923e-03, -1.42110555e-03, -4.69364223e-05,\n",
       "         -2.11496974e-03],\n",
       "        [ 3.63601091e-02,  7.93682844e-02,  4.49496224e-02,\n",
       "          5.99855121e-02,  6.04190776e-02,  6.67494842e-02,\n",
       "          6.68118920e-02,  4.23200842e-02,  6.96594522e-02,\n",
       "          7.73958677e-02],\n",
       "        [ 5.63174386e-02,  1.21411742e-01,  8.75050783e-02,\n",
       "          1.08718846e-01,  8.63525646e-02,  1.45748826e-01,\n",
       "          9.11781056e-02,  7.42246796e-02,  1.45200555e-01,\n",
       "          1.37261253e-01],\n",
       "        [ 1.01441774e-02,  1.80891918e-02,  1.40474357e-02,\n",
       "          9.14904410e-03,  1.08397093e-02,  1.14758416e-02,\n",
       "         -1.81957960e-03,  9.63180762e-03, -1.34421891e-03,\n",
       "          1.08881008e-02],\n",
       "        [ 4.89778364e-02,  5.91450189e-02,  3.80129931e-02,\n",
       "          5.27755680e-02,  5.17392681e-02,  5.87094273e-02,\n",
       "          4.57578742e-02,  4.06979804e-02,  4.23274422e-02,\n",
       "          3.05037586e-02],\n",
       "        [ 1.68132467e-03,  3.80227441e-03,  1.41086879e-03,\n",
       "          1.45226183e-03,  1.44926633e-03,  3.20131026e-03,\n",
       "          3.71803916e-03,  2.62725266e-04,  4.66254731e-03,\n",
       "          3.41156102e-03],\n",
       "        [ 3.80164444e-02,  4.10998224e-02,  3.84625447e-02,\n",
       "          4.45409754e-02,  4.22876187e-02,  5.46918139e-02,\n",
       "          4.25482138e-02,  5.81363460e-02,  2.16925788e-02,\n",
       "          3.23433867e-02]])}"
      ]
     },
     "execution_count": 16,
     "metadata": {},
     "output_type": "execute_result"
    }
   ],
   "source": [
    "# permutation importance (decrease in model performance when particular features are randomly shuffled)\n",
    "# this is another form of feature importance\n",
    "permutation_result = permutation_importance(regressor, X_test, y_test, n_repeats = 10) # n_repeats number of times random shuffling is applied\n",
    "permutation_result"
   ]
  },
  {
   "cell_type": "code",
   "execution_count": 17,
   "metadata": {},
   "outputs": [
    {
     "data": {
      "text/html": [
       "<div>\n",
       "<style scoped>\n",
       "    .dataframe tbody tr th:only-of-type {\n",
       "        vertical-align: middle;\n",
       "    }\n",
       "\n",
       "    .dataframe tbody tr th {\n",
       "        vertical-align: top;\n",
       "    }\n",
       "\n",
       "    .dataframe thead th {\n",
       "        text-align: right;\n",
       "    }\n",
       "</style>\n",
       "<table border=\"1\" class=\"dataframe\">\n",
       "  <thead>\n",
       "    <tr style=\"text-align: right;\">\n",
       "      <th></th>\n",
       "      <th>input_variable</th>\n",
       "      <th>permutation_importance</th>\n",
       "    </tr>\n",
       "  </thead>\n",
       "  <tbody>\n",
       "    <tr>\n",
       "      <th>1</th>\n",
       "      <td>gender</td>\n",
       "      <td>-0.000195</td>\n",
       "    </tr>\n",
       "    <tr>\n",
       "      <th>6</th>\n",
       "      <td>product_area_count</td>\n",
       "      <td>0.002505</td>\n",
       "    </tr>\n",
       "    <tr>\n",
       "      <th>4</th>\n",
       "      <td>total_items</td>\n",
       "      <td>0.009110</td>\n",
       "    </tr>\n",
       "    <tr>\n",
       "      <th>7</th>\n",
       "      <td>avg_basket_value</td>\n",
       "      <td>0.041382</td>\n",
       "    </tr>\n",
       "    <tr>\n",
       "      <th>5</th>\n",
       "      <td>transaction_count</td>\n",
       "      <td>0.046865</td>\n",
       "    </tr>\n",
       "    <tr>\n",
       "      <th>2</th>\n",
       "      <td>credit_score</td>\n",
       "      <td>0.060402</td>\n",
       "    </tr>\n",
       "    <tr>\n",
       "      <th>3</th>\n",
       "      <td>total_sales</td>\n",
       "      <td>0.105392</td>\n",
       "    </tr>\n",
       "    <tr>\n",
       "      <th>0</th>\n",
       "      <td>distance_from_store</td>\n",
       "      <td>1.369307</td>\n",
       "    </tr>\n",
       "  </tbody>\n",
       "</table>\n",
       "</div>"
      ],
      "text/plain": [
       "        input_variable  permutation_importance\n",
       "1               gender               -0.000195\n",
       "6   product_area_count                0.002505\n",
       "4          total_items                0.009110\n",
       "7     avg_basket_value                0.041382\n",
       "5    transaction_count                0.046865\n",
       "2         credit_score                0.060402\n",
       "3          total_sales                0.105392\n",
       "0  distance_from_store                1.369307"
      ]
     },
     "execution_count": 17,
     "metadata": {},
     "output_type": "execute_result"
    }
   ],
   "source": [
    "# permutation importance summary\n",
    "permutation_importance = pd.DataFrame(permutation_result['importances_mean']) # average importance result for each input variable\n",
    "feature_names = pd.DataFrame(X.columns)\n",
    "\n",
    "permutation_importance_summary = pd.concat([feature_names, permutation_importance], axis = 1)\n",
    "permutation_importance_summary.columns = ['input_variable', 'permutation_importance']\n",
    "permutation_importance_summary.sort_values(by = 'permutation_importance', inplace = True)\n",
    "\n",
    "permutation_importance_summary"
   ]
  },
  {
   "cell_type": "code",
   "execution_count": 18,
   "metadata": {},
   "outputs": [
    {
     "data": {
      "image/png": "[encoded data removed]",
      "text/plain": [
       "<Figure size 432x288 with 1 Axes>"
      ]
     },
     "metadata": {},
     "output_type": "display_data"
    }
   ],
   "source": [
    "# permutation importance bar plot\n",
    "plt.barh(\n",
    "    permutation_importance_summary['input_variable'],\n",
    "    permutation_importance_summary['permutation_importance']\n",
    ")\n",
    "\n",
    "plt.title(\"Random Forest Permutation Importance\")\n",
    "plt.xlabel('Permutation Importance')\n",
    "plt.tight_layout()\n",
    "\n",
    "plt.show()"
   ]
  },
  {
   "cell_type": "code",
   "execution_count": 19,
   "metadata": {},
   "outputs": [
    {
     "name": "stdout",
     "output_type": "stream",
     "text": [
      "Record at Index 0 has a predicted loyalty score of 0.8176299999999996\n",
      "\n",
      "Data for Index 0:\n"
     ]
    },
    {
     "data": {
      "text/plain": [
       "[distance_from_store      0.500000\n",
       " credit_score             0.590000\n",
       " total_sales            938.020000\n",
       " total_items            239.000000\n",
       " transaction_count       53.000000\n",
       " product_area_count       4.000000\n",
       " avg_basket_value        17.698491\n",
       " gender_M                 0.000000\n",
       " Name: 0, dtype: float64]"
      ]
     },
     "execution_count": 19,
     "metadata": {},
     "output_type": "execute_result"
    }
   ],
   "source": [
    "# checking predictions under the hood\n",
    "prediction_test = [X_test.iloc[0]] # creates data frame with test record\n",
    "prediction_test_score = y_pred[0]\n",
    "\n",
    "print(f'Record at Index 0 has a predicted loyalty score of {prediction_test_score}\\n')\n",
    "print('Data for Index 0:')\n",
    "prediction_test"
   ]
  },
  {
   "cell_type": "code",
   "execution_count": 20,
   "metadata": {},
   "outputs": [
    {
     "name": "stdout",
     "output_type": "stream",
     "text": [
      "[0.786, 0.874, 0.797, 0.878, 0.8080000000000002, 0.786, 0.832, 0.903, 0.77, 0.797, 0.797, 0.896, 0.808, 0.808, 0.786, 0.797, 0.832, 0.896, 0.77, 0.808, 0.874, 0.759, 0.791, 0.808, 0.874, 0.77, 0.832, 0.874, 0.791, 0.786, 0.832, 0.874, 0.832, 0.797, 0.874, 0.739, 0.863, 0.77, 0.832, 0.808, 0.786, 0.797, 0.896, 0.791, 0.791, 0.832, 0.77, 0.797, 0.874, 0.896, 0.832, 0.874, 0.797, 0.808, 0.808, 0.832, 0.791, 0.808, 0.791, 0.808, 0.874, 0.775, 0.791, 0.874, 0.878, 0.832, 0.65, 0.77, 0.786, 0.78, 0.808, 0.898, 0.808, 0.889, 0.797, 0.874, 0.759, 0.874, 0.874, 0.713, 0.791, 0.832, 0.8080000000000002, 0.832, 0.878, 0.863, 0.791, 0.874, 0.832, 0.756, 0.791, 0.7799999999999999, 0.808, 0.8080000000000002, 0.791, 0.878, 0.786, 0.832, 0.77, 0.77]\n",
      "\n",
      "\n",
      "\n",
      "Record at Index 0 has a predicted loyalty score of 0.8176299999999996 when initially ran thought the model.\n",
      "Record at Index 0 has an average predicted loyalty score of 0.8176299999999996 when ran indivudally through all decision trees.\n",
      "\n"
     ]
    }
   ],
   "source": [
    "# loop through each decision tree that was made in our model and pass in our test record\n",
    "# average the predictions and confirm it is the same as our prediction above\n",
    "\n",
    "predictions = []\n",
    "tree_count = 0\n",
    "\n",
    "for tree in regressor.estimators_:\n",
    "    # create prediction for each tree and return value for that prediction [0]\n",
    "    prediction = tree.predict(prediction_test)[0]\n",
    "    # append that prediction to the prediction list\n",
    "    predictions.append(prediction)\n",
    "    # increment value of tree_count\n",
    "    tree_count += 1\n",
    "\n",
    "predictions_mean = sum(predictions) / tree_count\n",
    "\n",
    "# print predictions\n",
    "print(predictions)\n",
    "print('\\n')\n",
    "\n",
    "# print mean loyalty score prediction\n",
    "print(f'''\n",
    "Record at Index 0 has a predicted loyalty score of {prediction_test_score} when initially ran thought the model.\n",
    "Record at Index 0 has an average predicted loyalty score of {predictions_mean} when ran indivudally through all decision trees.\n",
    "'''\n",
    ")"
   ]
  },
  {
   "cell_type": "code",
   "execution_count": 21,
   "metadata": {},
   "outputs": [],
   "source": [
    "# save objects to predict loyalty scores for customers that the agency could not match\n",
    "pickle.dump(regressor, open('data/random_forest_regression_model.p', 'wb'))\n",
    "pickle.dump(one_hot_encoder, open('data/random_forest_regression_model_ohe.p', 'wb'))"
   ]
  }
 ],
 "metadata": {
  "kernelspec": {
   "display_name": "Python 3.9.12 ('base')",
   "language": "python",
   "name": "python3"
  },
  "language_info": {
   "codemirror_mode": {
    "name": "ipython",
    "version": 3
   },
   "file_extension": ".py",
   "mimetype": "text/x-python",
   "name": "python",
   "nbconvert_exporter": "python",
   "pygments_lexer": "ipython3",
   "version": "3.9.13"
  },
  "orig_nbformat": 4,
  "vscode": {
   "interpreter": {
    "hash": "778d7b6bf01a84f48b9dd46c9f746c617956e7b1189498d16978cc18ff92f546"
   }
  }
 },
 "nbformat": 4,
 "nbformat_minor": 2
}
