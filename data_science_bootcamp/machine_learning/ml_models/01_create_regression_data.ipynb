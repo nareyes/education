{
 "cells": [
  {
   "cell_type": "code",
   "execution_count": 1,
   "metadata": {},
   "outputs": [],
   "source": [
    "import pandas as pd\n",
    "import pickle"
   ]
  },
  {
   "cell_type": "code",
   "execution_count": 8,
   "metadata": {},
   "outputs": [],
   "source": [
    "# import data\n",
    "loyalty_scores = pd.read_excel(\"data/grocery_database.xlsx\", sheet_name = 'loyalty_scores')\n",
    "customer_details = pd.read_excel(\"data/grocery_database.xlsx\", sheet_name = 'customer_details')\n",
    "transactions = pd.read_excel(\"data/grocery_database.xlsx\", sheet_name = 'transactions')"
   ]
  },
  {
   "cell_type": "code",
   "execution_count": 17,
   "metadata": {},
   "outputs": [
    {
     "data": {
      "text/html": [
       "<div>\n",
       "<style scoped>\n",
       "    .dataframe tbody tr th:only-of-type {\n",
       "        vertical-align: middle;\n",
       "    }\n",
       "\n",
       "    .dataframe tbody tr th {\n",
       "        vertical-align: top;\n",
       "    }\n",
       "\n",
       "    .dataframe thead th {\n",
       "        text-align: right;\n",
       "    }\n",
       "</style>\n",
       "<table border=\"1\" class=\"dataframe\">\n",
       "  <thead>\n",
       "    <tr style=\"text-align: right;\">\n",
       "      <th></th>\n",
       "      <th>customer_id</th>\n",
       "      <th>distance_from_store</th>\n",
       "      <th>gender</th>\n",
       "      <th>credit_score</th>\n",
       "      <th>customer_loyalty_score</th>\n",
       "      <th>total_sales</th>\n",
       "      <th>total_items</th>\n",
       "      <th>transaction_count</th>\n",
       "      <th>product_area_count</th>\n",
       "      <th>avg_basket_value</th>\n",
       "    </tr>\n",
       "  </thead>\n",
       "  <tbody>\n",
       "    <tr>\n",
       "      <th>0</th>\n",
       "      <td>74</td>\n",
       "      <td>3.38</td>\n",
       "      <td>F</td>\n",
       "      <td>0.59</td>\n",
       "      <td>0.263</td>\n",
       "      <td>2563.71</td>\n",
       "      <td>297</td>\n",
       "      <td>44</td>\n",
       "      <td>5</td>\n",
       "      <td>58.266136</td>\n",
       "    </tr>\n",
       "    <tr>\n",
       "      <th>1</th>\n",
       "      <td>524</td>\n",
       "      <td>4.76</td>\n",
       "      <td>F</td>\n",
       "      <td>0.52</td>\n",
       "      <td>0.298</td>\n",
       "      <td>2996.02</td>\n",
       "      <td>357</td>\n",
       "      <td>49</td>\n",
       "      <td>5</td>\n",
       "      <td>61.143265</td>\n",
       "    </tr>\n",
       "    <tr>\n",
       "      <th>2</th>\n",
       "      <td>607</td>\n",
       "      <td>4.45</td>\n",
       "      <td>F</td>\n",
       "      <td>0.49</td>\n",
       "      <td>0.337</td>\n",
       "      <td>2853.82</td>\n",
       "      <td>350</td>\n",
       "      <td>49</td>\n",
       "      <td>5</td>\n",
       "      <td>58.241224</td>\n",
       "    </tr>\n",
       "    <tr>\n",
       "      <th>3</th>\n",
       "      <td>343</td>\n",
       "      <td>0.91</td>\n",
       "      <td>M</td>\n",
       "      <td>0.54</td>\n",
       "      <td>0.873</td>\n",
       "      <td>2388.31</td>\n",
       "      <td>272</td>\n",
       "      <td>54</td>\n",
       "      <td>5</td>\n",
       "      <td>44.227963</td>\n",
       "    </tr>\n",
       "    <tr>\n",
       "      <th>4</th>\n",
       "      <td>322</td>\n",
       "      <td>3.02</td>\n",
       "      <td>F</td>\n",
       "      <td>0.63</td>\n",
       "      <td>0.350</td>\n",
       "      <td>2401.64</td>\n",
       "      <td>278</td>\n",
       "      <td>50</td>\n",
       "      <td>5</td>\n",
       "      <td>48.032800</td>\n",
       "    </tr>\n",
       "  </tbody>\n",
       "</table>\n",
       "</div>"
      ],
      "text/plain": [
       "   customer_id  distance_from_store gender  credit_score  \\\n",
       "0           74                 3.38      F          0.59   \n",
       "1          524                 4.76      F          0.52   \n",
       "2          607                 4.45      F          0.49   \n",
       "3          343                 0.91      M          0.54   \n",
       "4          322                 3.02      F          0.63   \n",
       "\n",
       "   customer_loyalty_score  total_sales  total_items  transaction_count  \\\n",
       "0                   0.263      2563.71          297                 44   \n",
       "1                   0.298      2996.02          357                 49   \n",
       "2                   0.337      2853.82          350                 49   \n",
       "3                   0.873      2388.31          272                 54   \n",
       "4                   0.350      2401.64          278                 50   \n",
       "\n",
       "   product_area_count  avg_basket_value  \n",
       "0                   5         58.266136  \n",
       "1                   5         61.143265  \n",
       "2                   5         58.241224  \n",
       "3                   5         44.227963  \n",
       "4                   5         48.032800  "
      ]
     },
     "execution_count": 17,
     "metadata": {},
     "output_type": "execute_result"
    }
   ],
   "source": [
    "# create customer level dataset\n",
    "\n",
    "# merge existing loyalty_scores with customer_detailes\n",
    "customers_summary = pd.merge(customer_details, loyalty_scores, how = 'left', on = 'customer_id') # customers with missing loyalty scores have NaN\n",
    "\n",
    "# create aggregated sales summary\n",
    "sales_summary = transactions.groupby('customer_id').agg({\n",
    "    'sales_cost': 'sum',\n",
    "    'num_items': 'sum',\n",
    "    'transaction_id': 'count',\n",
    "    'product_area_id': 'nunique'\n",
    "}).reset_index()\n",
    "\n",
    "# rename sales_summary columns\n",
    "sales_summary.columns = ['customer_id', 'total_sales', 'total_items', 'transaction_count', 'product_area_count']\n",
    "\n",
    "# add average basket value to sales summary\n",
    "sales_summary['avg_basket_value'] = sales_summary['total_sales'] / sales_summary['transaction_count']\n",
    "\n",
    "# merge customers_summary and sales_summary\n",
    "customers_sales = pd.merge(customers_summary, sales_summary, how = 'inner', on = 'customer_id')\n",
    "customers_sales.head()"
   ]
  },
  {
   "cell_type": "code",
   "execution_count": 25,
   "metadata": {},
   "outputs": [],
   "source": [
    "# split customers_sales by loyalty_score\n",
    "regression_modelling = customers_sales.loc[customers_sales['customer_loyalty_score'].notna()] # loyalty_score present\n",
    "regression_scoring = customers_sales.loc[customers_sales['customer_loyalty_score'].isna()] # loyalty_score missing\n",
    "\n",
    "# drop loyalty score from scoring data\n",
    "regression_scoring = regression_scoring.drop(['customer_loyalty_score'], axis = 1)"
   ]
  },
  {
   "cell_type": "code",
   "execution_count": 26,
   "metadata": {},
   "outputs": [],
   "source": [
    "# save final df as pickle object\n",
    "pickle.dump(regression_modelling, open('data/abc_regression_modeling.p', 'wb')) # wb is writing\n",
    "pickle.dump(regression_scoring, open('data/abc_regression_scoring.p', 'wb'))"
   ]
  },
  {
   "cell_type": "code",
   "execution_count": 27,
   "metadata": {},
   "outputs": [],
   "source": [
    "# save final df as excel file\n",
    "regression_modelling.to_excel('data/abc_regression_modeling.xlsx')\n",
    "regression_scoring.to_excel('data/abc_regression_scoring.xlsx')"
   ]
  }
 ],
 "metadata": {
  "kernelspec": {
   "display_name": "Python 3.9.12 ('base')",
   "language": "python",
   "name": "python3"
  },
  "language_info": {
   "codemirror_mode": {
    "name": "ipython",
    "version": 3
   },
   "file_extension": ".py",
   "mimetype": "text/x-python",
   "name": "python",
   "nbconvert_exporter": "python",
   "pygments_lexer": "ipython3",
   "version": "3.9.12"
  },
  "orig_nbformat": 4,
  "vscode": {
   "interpreter": {
    "hash": "778d7b6bf01a84f48b9dd46c9f746c617956e7b1189498d16978cc18ff92f546"
   }
  }
 },
 "nbformat": 4,
 "nbformat_minor": 2
}
