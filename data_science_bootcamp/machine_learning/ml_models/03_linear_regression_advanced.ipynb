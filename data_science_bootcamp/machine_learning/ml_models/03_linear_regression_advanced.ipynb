{
 "cells": [
  {
   "cell_type": "code",
   "execution_count": 1,
   "metadata": {},
   "outputs": [],
   "source": [
    "# import modules\n",
    "import pandas as pd\n",
    "import pickle\n",
    "import matplotlib.pyplot as plt\n",
    "\n",
    "from sklearn.linear_model import LinearRegression\n",
    "from sklearn.utils import shuffle\n",
    "from sklearn.model_selection import train_test_split, cross_val_score, KFold\n",
    "from sklearn.metrics import r2_score\n",
    "from sklearn.preprocessing import OneHotEncoder\n",
    "from sklearn.feature_selection import RFECV"
   ]
  },
  {
   "cell_type": "code",
   "execution_count": 2,
   "metadata": {},
   "outputs": [
    {
     "data": {
      "text/html": [
       "<div>\n",
       "<style scoped>\n",
       "    .dataframe tbody tr th:only-of-type {\n",
       "        vertical-align: middle;\n",
       "    }\n",
       "\n",
       "    .dataframe tbody tr th {\n",
       "        vertical-align: top;\n",
       "    }\n",
       "\n",
       "    .dataframe thead th {\n",
       "        text-align: right;\n",
       "    }\n",
       "</style>\n",
       "<table border=\"1\" class=\"dataframe\">\n",
       "  <thead>\n",
       "    <tr style=\"text-align: right;\">\n",
       "      <th></th>\n",
       "      <th>customer_id</th>\n",
       "      <th>distance_from_store</th>\n",
       "      <th>gender</th>\n",
       "      <th>credit_score</th>\n",
       "      <th>customer_loyalty_score</th>\n",
       "      <th>total_sales</th>\n",
       "      <th>total_items</th>\n",
       "      <th>transaction_count</th>\n",
       "      <th>product_area_count</th>\n",
       "      <th>avg_basket_value</th>\n",
       "    </tr>\n",
       "  </thead>\n",
       "  <tbody>\n",
       "    <tr>\n",
       "      <th>0</th>\n",
       "      <td>74</td>\n",
       "      <td>3.38</td>\n",
       "      <td>F</td>\n",
       "      <td>0.59</td>\n",
       "      <td>0.263</td>\n",
       "      <td>2563.71</td>\n",
       "      <td>297</td>\n",
       "      <td>44</td>\n",
       "      <td>5</td>\n",
       "      <td>58.266136</td>\n",
       "    </tr>\n",
       "    <tr>\n",
       "      <th>1</th>\n",
       "      <td>524</td>\n",
       "      <td>4.76</td>\n",
       "      <td>F</td>\n",
       "      <td>0.52</td>\n",
       "      <td>0.298</td>\n",
       "      <td>2996.02</td>\n",
       "      <td>357</td>\n",
       "      <td>49</td>\n",
       "      <td>5</td>\n",
       "      <td>61.143265</td>\n",
       "    </tr>\n",
       "    <tr>\n",
       "      <th>2</th>\n",
       "      <td>607</td>\n",
       "      <td>4.45</td>\n",
       "      <td>F</td>\n",
       "      <td>0.49</td>\n",
       "      <td>0.337</td>\n",
       "      <td>2853.82</td>\n",
       "      <td>350</td>\n",
       "      <td>49</td>\n",
       "      <td>5</td>\n",
       "      <td>58.241224</td>\n",
       "    </tr>\n",
       "    <tr>\n",
       "      <th>3</th>\n",
       "      <td>343</td>\n",
       "      <td>0.91</td>\n",
       "      <td>M</td>\n",
       "      <td>0.54</td>\n",
       "      <td>0.873</td>\n",
       "      <td>2388.31</td>\n",
       "      <td>272</td>\n",
       "      <td>54</td>\n",
       "      <td>5</td>\n",
       "      <td>44.227963</td>\n",
       "    </tr>\n",
       "    <tr>\n",
       "      <th>4</th>\n",
       "      <td>322</td>\n",
       "      <td>3.02</td>\n",
       "      <td>F</td>\n",
       "      <td>0.63</td>\n",
       "      <td>0.350</td>\n",
       "      <td>2401.64</td>\n",
       "      <td>278</td>\n",
       "      <td>50</td>\n",
       "      <td>5</td>\n",
       "      <td>48.032800</td>\n",
       "    </tr>\n",
       "  </tbody>\n",
       "</table>\n",
       "</div>"
      ],
      "text/plain": [
       "   customer_id  distance_from_store gender  credit_score  \\\n",
       "0           74                 3.38      F          0.59   \n",
       "1          524                 4.76      F          0.52   \n",
       "2          607                 4.45      F          0.49   \n",
       "3          343                 0.91      M          0.54   \n",
       "4          322                 3.02      F          0.63   \n",
       "\n",
       "   customer_loyalty_score  total_sales  total_items  transaction_count  \\\n",
       "0                   0.263      2563.71          297                 44   \n",
       "1                   0.298      2996.02          357                 49   \n",
       "2                   0.337      2853.82          350                 49   \n",
       "3                   0.873      2388.31          272                 54   \n",
       "4                   0.350      2401.64          278                 50   \n",
       "\n",
       "   product_area_count  avg_basket_value  \n",
       "0                   5         58.266136  \n",
       "1                   5         61.143265  \n",
       "2                   5         58.241224  \n",
       "3                   5         44.227963  \n",
       "4                   5         48.032800  "
      ]
     },
     "execution_count": 2,
     "metadata": {},
     "output_type": "execute_result"
    }
   ],
   "source": [
    "# load data\n",
    "df = pickle.load(open('data/abc_regression_modeling.p', 'rb')) # rb is reading\n",
    "df.head()"
   ]
  },
  {
   "cell_type": "code",
   "execution_count": 3,
   "metadata": {},
   "outputs": [],
   "source": [
    "# shuffle data\n",
    "df = shuffle(df)"
   ]
  },
  {
   "cell_type": "code",
   "execution_count": 4,
   "metadata": {},
   "outputs": [],
   "source": [
    "# drop unecessary columns\n",
    "df.drop('customer_id', axis = 1, inplace = True)"
   ]
  },
  {
   "cell_type": "code",
   "execution_count": 5,
   "metadata": {},
   "outputs": [
    {
     "name": "stdout",
     "output_type": "stream",
     "text": [
      "distance_from_store       2\n",
      "gender                    3\n",
      "credit_score              2\n",
      "customer_loyalty_score    0\n",
      "total_sales               0\n",
      "total_items               0\n",
      "transaction_count         0\n",
      "product_area_count        0\n",
      "avg_basket_value          0\n",
      "dtype: int64\n"
     ]
    }
   ],
   "source": [
    "# deal with missing value\n",
    "print(df.isna().sum())\n",
    "df.dropna(how = 'any', inplace = True) # we don't need to use imputer in this case since we have a very small amount of na records"
   ]
  },
  {
   "cell_type": "code",
   "execution_count": 6,
   "metadata": {},
   "outputs": [
    {
     "data": {
      "text/html": [
       "<div>\n",
       "<style scoped>\n",
       "    .dataframe tbody tr th:only-of-type {\n",
       "        vertical-align: middle;\n",
       "    }\n",
       "\n",
       "    .dataframe tbody tr th {\n",
       "        vertical-align: top;\n",
       "    }\n",
       "\n",
       "    .dataframe thead th {\n",
       "        text-align: right;\n",
       "    }\n",
       "</style>\n",
       "<table border=\"1\" class=\"dataframe\">\n",
       "  <thead>\n",
       "    <tr style=\"text-align: right;\">\n",
       "      <th></th>\n",
       "      <th>distance_from_store</th>\n",
       "      <th>credit_score</th>\n",
       "      <th>customer_loyalty_score</th>\n",
       "      <th>total_sales</th>\n",
       "      <th>total_items</th>\n",
       "      <th>transaction_count</th>\n",
       "      <th>product_area_count</th>\n",
       "      <th>avg_basket_value</th>\n",
       "    </tr>\n",
       "  </thead>\n",
       "  <tbody>\n",
       "    <tr>\n",
       "      <th>count</th>\n",
       "      <td>394.000000</td>\n",
       "      <td>394.000000</td>\n",
       "      <td>394.000000</td>\n",
       "      <td>394.000000</td>\n",
       "      <td>394.000000</td>\n",
       "      <td>394.000000</td>\n",
       "      <td>394.000000</td>\n",
       "      <td>394.000000</td>\n",
       "    </tr>\n",
       "    <tr>\n",
       "      <th>mean</th>\n",
       "      <td>2.021041</td>\n",
       "      <td>0.596117</td>\n",
       "      <td>0.509589</td>\n",
       "      <td>1846.502538</td>\n",
       "      <td>278.304569</td>\n",
       "      <td>44.926396</td>\n",
       "      <td>4.312183</td>\n",
       "      <td>36.781487</td>\n",
       "    </tr>\n",
       "    <tr>\n",
       "      <th>std</th>\n",
       "      <td>2.566045</td>\n",
       "      <td>0.101352</td>\n",
       "      <td>0.294504</td>\n",
       "      <td>1767.829482</td>\n",
       "      <td>214.236424</td>\n",
       "      <td>21.248012</td>\n",
       "      <td>0.725054</td>\n",
       "      <td>19.337336</td>\n",
       "    </tr>\n",
       "    <tr>\n",
       "      <th>min</th>\n",
       "      <td>0.000000</td>\n",
       "      <td>0.260000</td>\n",
       "      <td>0.002000</td>\n",
       "      <td>45.950000</td>\n",
       "      <td>10.000000</td>\n",
       "      <td>4.000000</td>\n",
       "      <td>2.000000</td>\n",
       "      <td>9.342000</td>\n",
       "    </tr>\n",
       "    <tr>\n",
       "      <th>25%</th>\n",
       "      <td>0.710000</td>\n",
       "      <td>0.530000</td>\n",
       "      <td>0.263000</td>\n",
       "      <td>942.067500</td>\n",
       "      <td>201.000000</td>\n",
       "      <td>41.000000</td>\n",
       "      <td>4.000000</td>\n",
       "      <td>22.406953</td>\n",
       "    </tr>\n",
       "    <tr>\n",
       "      <th>50%</th>\n",
       "      <td>1.645000</td>\n",
       "      <td>0.590000</td>\n",
       "      <td>0.510500</td>\n",
       "      <td>1471.490000</td>\n",
       "      <td>258.500000</td>\n",
       "      <td>50.000000</td>\n",
       "      <td>4.000000</td>\n",
       "      <td>30.365417</td>\n",
       "    </tr>\n",
       "    <tr>\n",
       "      <th>75%</th>\n",
       "      <td>2.910000</td>\n",
       "      <td>0.660000</td>\n",
       "      <td>0.771500</td>\n",
       "      <td>2104.727500</td>\n",
       "      <td>318.500000</td>\n",
       "      <td>53.000000</td>\n",
       "      <td>5.000000</td>\n",
       "      <td>47.208474</td>\n",
       "    </tr>\n",
       "    <tr>\n",
       "      <th>max</th>\n",
       "      <td>44.370000</td>\n",
       "      <td>0.880000</td>\n",
       "      <td>1.000000</td>\n",
       "      <td>9878.760000</td>\n",
       "      <td>1187.000000</td>\n",
       "      <td>109.000000</td>\n",
       "      <td>5.000000</td>\n",
       "      <td>102.335417</td>\n",
       "    </tr>\n",
       "  </tbody>\n",
       "</table>\n",
       "</div>"
      ],
      "text/plain": [
       "       distance_from_store  credit_score  customer_loyalty_score  total_sales  \\\n",
       "count           394.000000    394.000000              394.000000   394.000000   \n",
       "mean              2.021041      0.596117                0.509589  1846.502538   \n",
       "std               2.566045      0.101352                0.294504  1767.829482   \n",
       "min               0.000000      0.260000                0.002000    45.950000   \n",
       "25%               0.710000      0.530000                0.263000   942.067500   \n",
       "50%               1.645000      0.590000                0.510500  1471.490000   \n",
       "75%               2.910000      0.660000                0.771500  2104.727500   \n",
       "max              44.370000      0.880000                1.000000  9878.760000   \n",
       "\n",
       "       total_items  transaction_count  product_area_count  avg_basket_value  \n",
       "count   394.000000         394.000000          394.000000        394.000000  \n",
       "mean    278.304569          44.926396            4.312183         36.781487  \n",
       "std     214.236424          21.248012            0.725054         19.337336  \n",
       "min      10.000000           4.000000            2.000000          9.342000  \n",
       "25%     201.000000          41.000000            4.000000         22.406953  \n",
       "50%     258.500000          50.000000            4.000000         30.365417  \n",
       "75%     318.500000          53.000000            5.000000         47.208474  \n",
       "max    1187.000000         109.000000            5.000000        102.335417  "
      ]
     },
     "execution_count": 6,
     "metadata": {},
     "output_type": "execute_result"
    }
   ],
   "source": [
    "# identify outliers (exploration)\n",
    "df_description = df.describe()\n",
    "df_description # distance_from_store, total_sales, and total_items seem to have outliers\n"
   ]
  },
  {
   "cell_type": "code",
   "execution_count": 7,
   "metadata": {},
   "outputs": [
    {
     "name": "stdout",
     "output_type": "stream",
     "text": [
      "Column [distance_from_store]: Removed 2 Outliers. \n",
      " \t Index: Int64Index([733, 35], dtype='int64')\n",
      "Column [total_sales]: Removed 23 Outliers. \n",
      " \t Index: Int64Index([791, 819, 790, 852, 806, 789, 804, 816, 782, 794, 809, 808, 793,\n",
      "            786, 850, 798, 784, 780, 788, 800, 811, 842, 797],\n",
      "           dtype='int64')\n",
      "Column [total_items]: Removed 0 Outliers. \n",
      " \t Index: Int64Index([], dtype='int64')\n"
     ]
    }
   ],
   "source": [
    "# deal with outliers using the boxplot approach\n",
    "outlier_columns = [\n",
    "    'distance_from_store', \n",
    "    'total_sales', \n",
    "    'total_items'\n",
    "]\n",
    "\n",
    "for col in outlier_columns:\n",
    "    # calculate lower and upper quartiles\n",
    "    lower_quartile = df[col].quantile(0.25)\n",
    "    upper_quartile = df[col].quantile(0.75)\n",
    "\n",
    "    # caluclate interquartile range\n",
    "    iqr = upper_quartile - lower_quartile\n",
    "\n",
    "    # calucalte extended interquartile range using a factor of 2\n",
    "    iqr_extended = iqr * 2\n",
    "\n",
    "    # calcualte max and min borders using extended iqr (these are the vertical ticks outside the boxplot)\n",
    "    max_border = upper_quartile + iqr_extended\n",
    "    min_border = lower_quartile - iqr_extended\n",
    "\n",
    "    # return index value for outliers\n",
    "    outliers = df[(df[col] < min_border) | (df[col] > max_border)].index \n",
    "\n",
    "    # print results\n",
    "    print(f'Column [{col}]: Removed {len(outliers)} Outliers. \\n \\t Index: {outliers}')\n",
    "\n",
    "    # remove outliers\n",
    "    df.drop(outliers, inplace = True)"
   ]
  },
  {
   "cell_type": "code",
   "execution_count": 8,
   "metadata": {},
   "outputs": [],
   "source": [
    "# split input and output variables\n",
    "X = df.drop(['customer_loyalty_score'], axis = 1) # input vairables\n",
    "y = df['customer_loyalty_score'] # output variable"
   ]
  },
  {
   "cell_type": "code",
   "execution_count": 9,
   "metadata": {},
   "outputs": [],
   "source": [
    "# split data into training and test sets\n",
    "X_train, X_test, y_train, y_test = train_test_split(X, y, test_size = 0.2)"
   ]
  },
  {
   "cell_type": "code",
   "execution_count": 10,
   "metadata": {},
   "outputs": [],
   "source": [
    "# deal with categorical variables\n",
    "categorical_vars = ['gender']\n",
    "\n",
    "# enstantiate one hot encoder object and apply to training and test data\n",
    "one_hot_encoder = OneHotEncoder(sparse = False, drop = 'first') # returns array, drops one of the binary categorical columns to reduce multicollinearity\n",
    "\n",
    "X_train_encoded = one_hot_encoder.fit_transform(X_train[categorical_vars])\n",
    "X_test_encoded = one_hot_encoder.transform(X_test[categorical_vars])\n",
    "\n",
    "# create object to get feature names\n",
    "encoder_feature_names = one_hot_encoder.get_feature_names_out(categorical_vars)\n",
    "\n",
    "# create data frame with encoder variables and feature names, and concat to original data frame and reset index\n",
    "X_train_encoded = pd.DataFrame(X_train_encoded, columns = encoder_feature_names)\n",
    "X_train = pd.concat([X_train.reset_index (drop = True), X_train_encoded.reset_index (drop = True)], axis = 1) # axis 1 concats columns and not rows\n",
    "X_train.drop(categorical_vars, axis = 1, inplace = True) # axis 1 drops columns and not rows\n",
    "\n",
    "X_test_encoded = pd.DataFrame(X_test_encoded, columns = encoder_feature_names)\n",
    "X_test = pd.concat([X_test.reset_index (drop = True), X_test_encoded.reset_index (drop = True)], axis = 1) # axis 1 concats columns and not rows\n",
    "X_test.drop(categorical_vars, axis = 1, inplace = True) # axis 1 drops columns and not rows"
   ]
  },
  {
   "cell_type": "code",
   "execution_count": 11,
   "metadata": {},
   "outputs": [
    {
     "name": "stdout",
     "output_type": "stream",
     "text": [
      "Optimal Number of Features: 8 \n",
      "\n"
     ]
    },
    {
     "data": {
      "image/png": "[encoded data removed]",
      "text/plain": [
       "<Figure size 432x288 with 1 Axes>"
      ]
     },
     "metadata": {},
     "output_type": "display_data"
    }
   ],
   "source": [
    "# feature selection\n",
    "\n",
    "# instantiate regression and feature selecter object\n",
    "regressor = LinearRegression()\n",
    "feature_selector = RFECV(regressor)\n",
    "\n",
    "# learn relationships\n",
    "fit = feature_selector.fit(X_train, y_train)\n",
    "\n",
    "# determine optimal number of features based on cross validation\n",
    "optimal_feature_count = feature_selector.n_features_\n",
    "print(f'Optimal Number of Features: {optimal_feature_count} \\n')\n",
    "\n",
    "# create new dataframe with selected features\n",
    "X_train = X_train.loc[:, feature_selector.get_support()]\n",
    "X_test = X_test.loc[:, feature_selector.get_support()]\n",
    "\n",
    "# plot results to visually determine best number of features\n",
    "plt.plot(range(1, len(fit.cv_results_['mean_test_score']) + 1), fit.cv_results_['mean_test_score'], marker = \"o\")\n",
    "plt.ylabel(\"Model Score\")\n",
    "plt.xlabel(\"Number of Features\")\n",
    "plt.title(f\"Feature Selection Using RFE \\n Optimal # of Features Is {optimal_feature_count} (At Score Of {round(max(fit.cv_results_['mean_test_score']),4)})\")\n",
    "plt.tight_layout()\n",
    "plt.show()"
   ]
  },
  {
   "cell_type": "code",
   "execution_count": 12,
   "metadata": {},
   "outputs": [
    {
     "data": {
      "text/plain": [
       "LinearRegression()"
      ]
     },
     "execution_count": 12,
     "metadata": {},
     "output_type": "execute_result"
    }
   ],
   "source": [
    "# train model\n",
    "regressor = LinearRegression()\n",
    "regressor.fit(X_train, y_train)"
   ]
  },
  {
   "cell_type": "code",
   "execution_count": 13,
   "metadata": {},
   "outputs": [
    {
     "data": {
      "text/plain": [
       "array([ 0.34999041,  0.55357844,  0.68994703,  0.59697507,  0.57377331,\n",
       "        0.36946199,  0.3427545 ,  0.77210916,  0.64206424,  0.78389539,\n",
       "        0.66155082,  0.46311293,  0.52567058,  0.44379352,  0.8146491 ,\n",
       "        0.81822001,  0.2549458 ,  0.84343331,  0.61723972, -0.03301876,\n",
       "       -0.37023429,  0.64547477, -0.13164465, -0.31315882,  0.54779835,\n",
       "        0.32540125,  0.25926942,  0.64432895,  0.69797204,  0.74435842,\n",
       "        0.49654839,  0.2155099 ,  0.4248362 ,  0.01508813,  0.2326245 ,\n",
       "        0.44842774,  0.32799445,  0.92301238,  0.60933382,  0.36798527,\n",
       "        0.62156284,  0.76418967,  0.67279856,  0.13790218,  0.14401659,\n",
       "        0.27729943,  0.2550268 ,  0.71607682,  0.56833698,  0.60050288,\n",
       "        0.39630673,  0.16153577,  0.85682914,  0.53243411,  0.36266956,\n",
       "       -0.14018213, -0.06533096,  0.54152951,  0.69935572,  0.48444254,\n",
       "        0.73818071,  0.81493704,  0.65874606,  0.79457803,  0.84619345,\n",
       "        0.39939204,  0.48085516,  0.40009238,  0.85482224,  0.50364183,\n",
       "        0.96217748,  0.90117606,  0.70819047,  0.6103828 ])"
      ]
     },
     "execution_count": 13,
     "metadata": {},
     "output_type": "execute_result"
    }
   ],
   "source": [
    "# predict on the test set\n",
    "y_pred = regressor.predict(X_test)\n",
    "y_pred"
   ]
  },
  {
   "cell_type": "code",
   "execution_count": 14,
   "metadata": {},
   "outputs": [
    {
     "name": "stdout",
     "output_type": "stream",
     "text": [
      "R-Squared = 0.8092401279084016\n"
     ]
    }
   ],
   "source": [
    "# calculate R-Squared\n",
    "r_squared = r2_score(y_test, y_pred)\n",
    "print(f'R-Squared = {r_squared}')"
   ]
  },
  {
   "cell_type": "code",
   "execution_count": 15,
   "metadata": {},
   "outputs": [
    {
     "data": {
      "text/plain": [
       "0.8542917484447378"
      ]
     },
     "execution_count": 15,
     "metadata": {},
     "output_type": "execute_result"
    }
   ],
   "source": [
    "# cross validation\n",
    "cv = KFold(n_splits = 4, shuffle = True)\n",
    "cv_scores = cross_val_score(regressor, X_train, y_train, cv = cv, scoring = 'r2')\n",
    "cv_scores.mean()"
   ]
  },
  {
   "cell_type": "code",
   "execution_count": 16,
   "metadata": {},
   "outputs": [
    {
     "name": "stdout",
     "output_type": "stream",
     "text": [
      "Adjusted R-Squared = 0.7857619898048203\n"
     ]
    }
   ],
   "source": [
    "# calculate adjusted r-squared\n",
    "num_data_points, num_input_vars = X_test.shape # output of .shape is the number of rows and columns\n",
    "adjusted_r_squared = 1 - (1 - r_squared) * (num_data_points - 1) / (num_data_points - num_input_vars - 1)\n",
    "print(f'Adjusted R-Squared = {adjusted_r_squared}')"
   ]
  },
  {
   "cell_type": "code",
   "execution_count": 17,
   "metadata": {},
   "outputs": [
    {
     "data": {
      "text/html": [
       "<div>\n",
       "<style scoped>\n",
       "    .dataframe tbody tr th:only-of-type {\n",
       "        vertical-align: middle;\n",
       "    }\n",
       "\n",
       "    .dataframe tbody tr th {\n",
       "        vertical-align: top;\n",
       "    }\n",
       "\n",
       "    .dataframe thead th {\n",
       "        text-align: right;\n",
       "    }\n",
       "</style>\n",
       "<table border=\"1\" class=\"dataframe\">\n",
       "  <thead>\n",
       "    <tr style=\"text-align: right;\">\n",
       "      <th></th>\n",
       "      <th>input_variable</th>\n",
       "      <th>coefficient</th>\n",
       "    </tr>\n",
       "  </thead>\n",
       "  <tbody>\n",
       "    <tr>\n",
       "      <th>0</th>\n",
       "      <td>distance_from_store</td>\n",
       "      <td>-0.195158</td>\n",
       "    </tr>\n",
       "    <tr>\n",
       "      <th>1</th>\n",
       "      <td>credit_score</td>\n",
       "      <td>-0.003191</td>\n",
       "    </tr>\n",
       "    <tr>\n",
       "      <th>2</th>\n",
       "      <td>total_sales</td>\n",
       "      <td>0.000152</td>\n",
       "    </tr>\n",
       "    <tr>\n",
       "      <th>3</th>\n",
       "      <td>total_items</td>\n",
       "      <td>0.001002</td>\n",
       "    </tr>\n",
       "    <tr>\n",
       "      <th>4</th>\n",
       "      <td>transaction_count</td>\n",
       "      <td>-0.005137</td>\n",
       "    </tr>\n",
       "    <tr>\n",
       "      <th>5</th>\n",
       "      <td>product_area_count</td>\n",
       "      <td>0.062912</td>\n",
       "    </tr>\n",
       "    <tr>\n",
       "      <th>6</th>\n",
       "      <td>avg_basket_value</td>\n",
       "      <td>-0.004349</td>\n",
       "    </tr>\n",
       "    <tr>\n",
       "      <th>7</th>\n",
       "      <td>gender_M</td>\n",
       "      <td>0.013743</td>\n",
       "    </tr>\n",
       "  </tbody>\n",
       "</table>\n",
       "</div>"
      ],
      "text/plain": [
       "        input_variable  coefficient\n",
       "0  distance_from_store    -0.195158\n",
       "1         credit_score    -0.003191\n",
       "2          total_sales     0.000152\n",
       "3          total_items     0.001002\n",
       "4    transaction_count    -0.005137\n",
       "5   product_area_count     0.062912\n",
       "6     avg_basket_value    -0.004349\n",
       "7             gender_M     0.013743"
      ]
     },
     "execution_count": 17,
     "metadata": {},
     "output_type": "execute_result"
    }
   ],
   "source": [
    "# extract model coefficients\n",
    "coefficients = pd.DataFrame(regressor.coef_)\n",
    "input_var_names = pd.DataFrame(X_train.columns)\n",
    "summary_coef = pd.concat([input_var_names, coefficients], axis = 1)\n",
    "summary_coef.columns = ['input_variable', 'coefficient']\n",
    "\n",
    "summary_coef"
   ]
  },
  {
   "cell_type": "code",
   "execution_count": 18,
   "metadata": {},
   "outputs": [
    {
     "name": "stdout",
     "output_type": "stream",
     "text": [
      "Intercept: 0.48281222429184834\n"
     ]
    }
   ],
   "source": [
    "# extract model intercept\n",
    "intercept = regressor.intercept_\n",
    "print(f'Intercept: {intercept}')"
   ]
  },
  {
   "cell_type": "code",
   "execution_count": 19,
   "metadata": {},
   "outputs": [
    {
     "name": "stdout",
     "output_type": "stream",
     "text": [
      "\n",
      "With the following input values;\n",
      "distance_from_store = 0\n",
      "credit_score = 0\n",
      "total_sales = 0\n",
      "total_items = 0\n",
      "transaction_count = 0\n",
      "product_area_count = 0\n",
      "avg_basket_value = 0\n",
      "gender_M = 0\n",
      "\n",
      "The predicted output is: 0.48281222429184834\n",
      "\n"
     ]
    }
   ],
   "source": [
    "# multiple regression formula\n",
    "\n",
    "# replace with desired input values (consider scaling)\n",
    "input_values = {\n",
    "    'distance_from_store':  0,\n",
    "    'credit_score':         0,\n",
    "    'total_sales':          0,\n",
    "    'total_items':          0,\n",
    "    'transaction_count':    0,\n",
    "    'product_area_count':   0,\n",
    "    'avg_basket_value':     0,\n",
    "    'gender_M':             0\n",
    "}  \n",
    "\n",
    "# calculate multiple regression prediction\n",
    "predicted_output = (\n",
    "    (coefficients[0][0] * input_values['distance_from_store']) +\n",
    "    (coefficients[0][1] * input_values['credit_score']) +\n",
    "    (coefficients[0][2] * input_values['total_sales']) +\n",
    "    (coefficients[0][3] * input_values['total_items']) +\n",
    "    (coefficients[0][4] * input_values['transaction_count']) +\n",
    "    (coefficients[0][5] * input_values['product_area_count']) +\n",
    "    (coefficients[0][6] * input_values['avg_basket_value']) +\n",
    "    (coefficients[0][7] * input_values['gender_M']) +\n",
    "    intercept\n",
    ")\n",
    "\n",
    "# print output\n",
    "print(f\"\"\"\n",
    "With the following input values;\n",
    "distance_from_store = {input_values['distance_from_store']}\n",
    "credit_score = {input_values['credit_score']}\n",
    "total_sales = {input_values['total_sales']}\n",
    "total_items = {input_values['total_items']}\n",
    "transaction_count = {input_values['transaction_count']}\n",
    "product_area_count = {input_values['product_area_count']}\n",
    "avg_basket_value = {input_values['avg_basket_value']}\n",
    "gender_M = {input_values['gender_M']}\n",
    "\n",
    "The predicted output is: {predicted_output}\n",
    "\"\"\")"
   ]
  }
 ],
 "metadata": {
  "kernelspec": {
   "display_name": "Python 3.9.12 ('base')",
   "language": "python",
   "name": "python3"
  },
  "language_info": {
   "codemirror_mode": {
    "name": "ipython",
    "version": 3
   },
   "file_extension": ".py",
   "mimetype": "text/x-python",
   "name": "python",
   "nbconvert_exporter": "python",
   "pygments_lexer": "ipython3",
   "version": "3.9.12"
  },
  "orig_nbformat": 4,
  "vscode": {
   "interpreter": {
    "hash": "778d7b6bf01a84f48b9dd46c9f746c617956e7b1189498d16978cc18ff92f546"
   }
  }
 },
 "nbformat": 4,
 "nbformat_minor": 2
}
