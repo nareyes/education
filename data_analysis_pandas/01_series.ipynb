{
 "cells": [
  {
   "cell_type": "code",
   "execution_count": 1,
   "metadata": {},
   "outputs": [],
   "source": [
    "import pandas as pd"
   ]
  },
  {
   "cell_type": "markdown",
   "metadata": {},
   "source": [
    "# Pandas Series\n",
    "\n",
    "- Series stores a single collection of data (column)\n",
    "- Preserves a unique identifier for each value (row index) and a specified order."
   ]
  },
  {
   "cell_type": "code",
   "execution_count": 2,
   "metadata": {},
   "outputs": [
    {
     "data": {
      "text/plain": [
       "0     Chocolate\n",
       "1       Vanilla\n",
       "2    Strawberry\n",
       "3    Rum Raisin\n",
       "dtype: object"
      ]
     },
     "execution_count": 2,
     "metadata": {},
     "output_type": "execute_result"
    }
   ],
   "source": [
    "# create a series from a list of string\n",
    "ice_cream = ['Chocolate', 'Vanilla', 'Strawberry', 'Rum Raisin']\n",
    "pd.Series(ice_cream)"
   ]
  },
  {
   "cell_type": "code",
   "execution_count": 3,
   "metadata": {},
   "outputs": [
    {
     "data": {
      "text/plain": [
       "0     4\n",
       "1     8\n",
       "2    15\n",
       "3    16\n",
       "dtype: int64"
      ]
     },
     "execution_count": 3,
     "metadata": {},
     "output_type": "execute_result"
    }
   ],
   "source": [
    "# create a series from a list of ints\n",
    "lottery = [4, 8, 15, 16]\n",
    "pd.Series(lottery)"
   ]
  },
  {
   "cell_type": "code",
   "execution_count": 4,
   "metadata": {},
   "outputs": [
    {
     "data": {
      "text/plain": [
       "0     True\n",
       "1    False\n",
       "2    False\n",
       "3     True\n",
       "dtype: bool"
      ]
     },
     "execution_count": 4,
     "metadata": {},
     "output_type": "execute_result"
    }
   ],
   "source": [
    "# create a series from a list of bools\n",
    "registrations = [True, False, False, True]\n",
    "pd.Series(registrations)"
   ]
  },
  {
   "cell_type": "code",
   "execution_count": 5,
   "metadata": {},
   "outputs": [
    {
     "data": {
      "text/plain": [
       "Salmon    Orange\n",
       "Tuna         Red\n",
       "Eel        Brown\n",
       "dtype: object"
      ]
     },
     "execution_count": 5,
     "metadata": {},
     "output_type": "execute_result"
    }
   ],
   "source": [
    "# create a series from a dict\n",
    "sushi = {\n",
    "    'Salmon': 'Orange',\n",
    "    'Tuna': 'Red',\n",
    "    'Eel': 'Brown'\n",
    "}\n",
    "pd.Series(sushi) # the dict keys become the index labels, the values still have an index position"
   ]
  },
  {
   "cell_type": "markdown",
   "metadata": {},
   "source": [
    "# Series Methods\n",
    "\n",
    "- Methods are commands we can ask an object to perform\n",
    "- Requires a parenthesis after the method name with arguments (if requried)"
   ]
  },
  {
   "cell_type": "code",
   "execution_count": 6,
   "metadata": {},
   "outputs": [
    {
     "data": {
      "text/plain": [
       "0    2.99\n",
       "1    4.45\n",
       "2    1.36\n",
       "dtype: float64"
      ]
     },
     "execution_count": 6,
     "metadata": {},
     "output_type": "execute_result"
    }
   ],
   "source": [
    "# create series\n",
    "prices = pd.Series([2.99, 4.45, 1.36])\n",
    "prices"
   ]
  },
  {
   "cell_type": "code",
   "execution_count": 7,
   "metadata": {},
   "outputs": [
    {
     "name": "stdout",
     "output_type": "stream",
     "text": [
      "8.8\n",
      "18.095480000000006\n",
      "2.9333333333333336\n"
     ]
    }
   ],
   "source": [
    "# invoke methods\n",
    "sum_prices = prices.sum()\n",
    "product_prices = prices.product()\n",
    "mean_prices = prices.mean()\n",
    "\n",
    "print(sum_prices)\n",
    "print(product_prices)\n",
    "print(mean_prices)"
   ]
  },
  {
   "cell_type": "markdown",
   "metadata": {},
   "source": [
    "# Series Attributes\n",
    "\n",
    "- Detail or characteristic that an object can tell us about itself (describes the object as it is). \n",
    "- No parenthesis after the attribute name"
   ]
  },
  {
   "cell_type": "code",
   "execution_count": 8,
   "metadata": {},
   "outputs": [
    {
     "data": {
      "text/plain": [
       "0        Smart\n",
       "1     Handsome\n",
       "2     Charming\n",
       "3    Brilliant\n",
       "4       Humble\n",
       "dtype: object"
      ]
     },
     "execution_count": 8,
     "metadata": {},
     "output_type": "execute_result"
    }
   ],
   "source": [
    "# create series\n",
    "adjectives = pd.Series([\n",
    "    'Smart',\n",
    "    'Handsome',\n",
    "    'Charming',\n",
    "    'Brilliant',\n",
    "    'Humble'\n",
    "])\n",
    "\n",
    "adjectives"
   ]
  },
  {
   "cell_type": "code",
   "execution_count": 9,
   "metadata": {},
   "outputs": [
    {
     "name": "stdout",
     "output_type": "stream",
     "text": [
      "5\n",
      "True\n",
      "['Smart' 'Handsome' 'Charming' 'Brilliant' 'Humble']\n",
      "RangeIndex(start=0, stop=5, step=1)\n",
      "object\n"
     ]
    }
   ],
   "source": [
    "# involke attributes\n",
    "size = adjectives.size\n",
    "unique = adjectives.is_unique\n",
    "vals = adjectives.values # stores values in an array\n",
    "index = adjectives.index\n",
    "data_type = adjectives.dtype\n",
    "\n",
    "print(size)\n",
    "print(unique)\n",
    "print(vals)\n",
    "print(index)\n",
    "print(data_type)"
   ]
  },
  {
   "cell_type": "markdown",
   "metadata": {},
   "source": [
    "# Parameters and Arguments\n",
    "\n",
    "- Parameters: The name we give to an expected input. Can be called in-order, or specified with the parameter name (keyword argument or positional argument)\n",
    "- Arguments: The concrete value that we provide to a parameter\n",
    "\n",
    "- Example: Difficulty - Easy, Medium, Hard\n",
    "    - Parameter: Difficulty\n",
    "    - Argument: Easy, Medium, or Hard"
   ]
  },
  {
   "cell_type": "code",
   "execution_count": 10,
   "metadata": {},
   "outputs": [
    {
     "data": {
      "text/plain": [
       "Monday           Apple\n",
       "Tuesday         Orange\n",
       "Wednesday         Plum\n",
       "Thursday         Grape\n",
       "Friday       Blueberry\n",
       "dtype: object"
      ]
     },
     "execution_count": 10,
     "metadata": {},
     "output_type": "execute_result"
    }
   ],
   "source": [
    "# create series and invoke with parameters/arguments\n",
    "fruits = ['Apple', 'Orange', 'Plum', 'Grape', 'Blueberry']\n",
    "weekdays = ['Monday', 'Tuesday', 'Wednesday', 'Thursday', 'Friday']\n",
    "\n",
    "pd.Series(data = fruits, index = weekdays, dtype = 'str')"
   ]
  },
  {
   "cell_type": "markdown",
   "metadata": {},
   "source": [
    "# Importing Data as a Series"
   ]
  },
  {
   "cell_type": "code",
   "execution_count": 11,
   "metadata": {},
   "outputs": [
    {
     "data": {
      "text/plain": [
       "0       Bulbasaur\n",
       "1         Ivysaur\n",
       "2        Venusaur\n",
       "3      Charmander\n",
       "4      Charmeleon\n",
       "          ...    \n",
       "716       Yveltal\n",
       "717       Zygarde\n",
       "718       Diancie\n",
       "719         Hoopa\n",
       "720     Volcanion\n",
       "Name: Pokemon, Length: 721, dtype: object"
      ]
     },
     "execution_count": 11,
     "metadata": {},
     "output_type": "execute_result"
    }
   ],
   "source": [
    "# import pokemon data as a series\n",
    "# pd.read_csv('data/pokemon.csv') # imports a data frame as default\n",
    "pokemon = pd.read_csv('data/pokemon.csv', usecols = ['Pokemon']).squeeze('columns') # squeeze converts data frame to a series\n",
    "pokemon"
   ]
  },
  {
   "cell_type": "code",
   "execution_count": 12,
   "metadata": {},
   "outputs": [
    {
     "data": {
      "text/plain": [
       "Pokemon\n",
       "Bulbasaur     Grass\n",
       "Ivysaur       Grass\n",
       "Venusaur      Grass\n",
       "Charmander     Fire\n",
       "Charmeleon     Fire\n",
       "Name: Type, dtype: object"
      ]
     },
     "execution_count": 12,
     "metadata": {},
     "output_type": "execute_result"
    }
   ],
   "source": [
    "# import pokemon data as a series, using a specified column as index values\n",
    "pokemon_index_val = pd.read_csv('data/pokemon.csv', index_col = 'Pokemon').squeeze('columns')\n",
    "pokemon_index_val.head()"
   ]
  },
  {
   "cell_type": "code",
   "execution_count": 13,
   "metadata": {},
   "outputs": [
    {
     "data": {
      "text/plain": [
       "0        50.12\n",
       "1        54.10\n",
       "2        54.65\n",
       "3        52.38\n",
       "4        52.95\n",
       "         ...  \n",
       "3007    772.88\n",
       "3008    771.07\n",
       "3009    773.18\n",
       "3010    771.61\n",
       "3011    782.22\n",
       "Name: Stock Price, Length: 3012, dtype: float64"
      ]
     },
     "execution_count": 13,
     "metadata": {},
     "output_type": "execute_result"
    }
   ],
   "source": [
    "# import stock data as a series\n",
    "stocks = pd.read_csv('data/google_stock_price.csv', usecols = ['Stock Price']).squeeze('columns')\n",
    "stocks"
   ]
  },
  {
   "cell_type": "markdown",
   "metadata": {},
   "source": [
    "# Head and Tail Methods"
   ]
  },
  {
   "cell_type": "code",
   "execution_count": 14,
   "metadata": {},
   "outputs": [
    {
     "data": {
      "text/plain": [
       "0     Bulbasaur\n",
       "1       Ivysaur\n",
       "2      Venusaur\n",
       "3    Charmander\n",
       "4    Charmeleon\n",
       "5     Charizard\n",
       "6      Squirtle\n",
       "7     Wartortle\n",
       "8     Blastoise\n",
       "9      Caterpie\n",
       "Name: Pokemon, dtype: object"
      ]
     },
     "execution_count": 14,
     "metadata": {},
     "output_type": "execute_result"
    }
   ],
   "source": [
    "# head method\n",
    "pokemon.head(n = 10) # default n = 5"
   ]
  },
  {
   "cell_type": "code",
   "execution_count": 15,
   "metadata": {},
   "outputs": [
    {
     "data": {
      "text/plain": [
       "3002    739.77\n",
       "3003    738.42\n",
       "3004    741.77\n",
       "3005    745.91\n",
       "3006    768.79\n",
       "3007    772.88\n",
       "3008    771.07\n",
       "3009    773.18\n",
       "3010    771.61\n",
       "3011    782.22\n",
       "Name: Stock Price, dtype: float64"
      ]
     },
     "execution_count": 15,
     "metadata": {},
     "output_type": "execute_result"
    }
   ],
   "source": [
    "# tail method (end of a series)\n",
    "stocks.tail(n = 10) # default n = 5"
   ]
  },
  {
   "cell_type": "markdown",
   "metadata": {},
   "source": [
    "# The get Method\n",
    "- Allows us to access series data with either its index position, or index label\n",
    "- Avoids errors and allows us to specify fall back values in case the position or label does not exists"
   ]
  },
  {
   "cell_type": "code",
   "execution_count": 16,
   "metadata": {},
   "outputs": [
    {
     "name": "stdout",
     "output_type": "stream",
     "text": [
      "Bulbasaur\n",
      "Fire\n"
     ]
    }
   ],
   "source": [
    "# using get method with index position and values\n",
    "print(pokemon.get(0))\n",
    "print(pokemon_index_val.get('Charmander'))"
   ]
  },
  {
   "cell_type": "code",
   "execution_count": 17,
   "metadata": {},
   "outputs": [
    {
     "name": "stdout",
     "output_type": "stream",
     "text": [
      "0    Bulbasaur\n",
      "1      Ivysaur\n",
      "2     Venusaur\n",
      "Name: Pokemon, dtype: object\n",
      "Pokemon\n",
      "Bulbasaur     Grass\n",
      "Charmander     Fire\n",
      "Name: Type, dtype: object\n"
     ]
    }
   ],
   "source": [
    "# using get method with list of index positions and values\n",
    "print(pokemon.get([0, 1, 2]))\n",
    "print(pokemon_index_val.get(['Bulbasaur', 'Charmander']))"
   ]
  },
  {
   "cell_type": "code",
   "execution_count": 18,
   "metadata": {},
   "outputs": [
    {
     "name": "stdout",
     "output_type": "stream",
     "text": [
      "None\n",
      "<class 'NoneType'>\n"
     ]
    }
   ],
   "source": [
    "# using the get method with an index value that does not exist (no error, None is returned)\n",
    "pokemon_type = pokemon_index_val.get('Digimon')\n",
    "print(pokemon_type)\n",
    "print(type(pokemon_type))"
   ]
  },
  {
   "cell_type": "code",
   "execution_count": 19,
   "metadata": {},
   "outputs": [
    {
     "name": "stdout",
     "output_type": "stream",
     "text": [
      "Does Not Exists\n",
      "Grass\n"
     ]
    }
   ],
   "source": [
    "# using a fallback value in the get method\n",
    "print(pokemon_index_val.get('Digimon', 'Does Not Exists'))\n",
    "print(pokemon_index_val.get('Bulbasaur', 'Does Not Exists'))"
   ]
  },
  {
   "cell_type": "code",
   "execution_count": 20,
   "metadata": {},
   "outputs": [
    {
     "name": "stdout",
     "output_type": "stream",
     "text": [
      "Does Not Exists\n",
      "Does Not Exists\n"
     ]
    }
   ],
   "source": [
    "# using a list with a fallback value (all must exist or method will print fallback value)\n",
    "print(pokemon.get([1, 500, 5000], 'Does Not Exists'))\n",
    "print(pokemon_index_val.get(['Digimon', 'Bulbasaur'], 'Does Not Exists'))"
   ]
  },
  {
   "cell_type": "markdown",
   "metadata": {},
   "source": [
    "# Overwriting Series Values\n",
    "- We can use the index position or index value\n",
    "- Called with square brackets\n",
    "- A list can be passed in to replace a list of values"
   ]
  },
  {
   "cell_type": "code",
   "execution_count": 21,
   "metadata": {},
   "outputs": [
    {
     "name": "stdout",
     "output_type": "stream",
     "text": [
      "Borisaur\n",
      "Bulbasaur\n"
     ]
    }
   ],
   "source": [
    "# overwrite a value using the index position\n",
    "pokemon[0] = \"Borisaur\"\n",
    "print(pokemon[0])\n",
    "\n",
    "# revert to original value\n",
    "pokemon[0] = 'Bulbasaur'\n",
    "print(pokemon[0])"
   ]
  },
  {
   "cell_type": "code",
   "execution_count": 22,
   "metadata": {},
   "outputs": [
    {
     "name": "stdout",
     "output_type": "stream",
     "text": [
      "0     First\n",
      "1    Second\n",
      "2     Third\n",
      "Name: Pokemon, dtype: object\n",
      "0    Bulbasaur\n",
      "1      Ivysaur\n",
      "2     Venusaur\n",
      "Name: Pokemon, dtype: object\n"
     ]
    }
   ],
   "source": [
    "# overwrite multiple values using the index position\n",
    "pokemon[[0, 1, 2]] = ['First', 'Second', 'Third']\n",
    "print(pokemon[[0, 1, 2]])\n",
    "\n",
    "# revert to original values\n",
    "pokemon[[0, 1, 2]] = ['Bulbasaur', 'Ivysaur', 'Venusaur']\n",
    "print(pokemon[[0, 1, 2]])"
   ]
  },
  {
   "cell_type": "code",
   "execution_count": 23,
   "metadata": {},
   "outputs": [
    {
     "name": "stdout",
     "output_type": "stream",
     "text": [
      "Pokemon\n",
      "Bulbasaur     Green Grass\n",
      "Ivysaur             Grass\n",
      "Venusaur            Grass\n",
      "Charmander           Fire\n",
      "Charmeleon           Fire\n",
      "Name: Type, dtype: object\n",
      "Pokemon\n",
      "Bulbasaur     Grass\n",
      "Ivysaur       Grass\n",
      "Venusaur      Grass\n",
      "Charmander     Fire\n",
      "Charmeleon     Fire\n",
      "Name: Type, dtype: object\n"
     ]
    }
   ],
   "source": [
    "# overwrite a value using the index value\n",
    "pokemon_index_val['Bulbasaur'] = 'Green Grass'\n",
    "print(pokemon_index_val.head())\n",
    "\n",
    "# revert to original value\n",
    "pokemon_index_val['Bulbasaur'] = 'Grass'\n",
    "print(pokemon_index_val.head())"
   ]
  },
  {
   "cell_type": "markdown",
   "metadata": {},
   "source": [
    "# The copy Method\n",
    "- Objects may not be as decupled as we may think\n",
    "- The copy method makes a copy of an object that now acts as its own entity, and any changes to it will not impact the underlying object"
   ]
  },
  {
   "cell_type": "code",
   "execution_count": 24,
   "metadata": {},
   "outputs": [
    {
     "data": {
      "text/html": [
       "<div>\n",
       "<style scoped>\n",
       "    .dataframe tbody tr th:only-of-type {\n",
       "        vertical-align: middle;\n",
       "    }\n",
       "\n",
       "    .dataframe tbody tr th {\n",
       "        vertical-align: top;\n",
       "    }\n",
       "\n",
       "    .dataframe thead th {\n",
       "        text-align: right;\n",
       "    }\n",
       "</style>\n",
       "<table border=\"1\" class=\"dataframe\">\n",
       "  <thead>\n",
       "    <tr style=\"text-align: right;\">\n",
       "      <th></th>\n",
       "      <th>Pokemon</th>\n",
       "    </tr>\n",
       "  </thead>\n",
       "  <tbody>\n",
       "    <tr>\n",
       "      <th>0</th>\n",
       "      <td>Whatever</td>\n",
       "    </tr>\n",
       "  </tbody>\n",
       "</table>\n",
       "</div>"
      ],
      "text/plain": [
       "    Pokemon\n",
       "0  Whatever"
      ]
     },
     "execution_count": 24,
     "metadata": {},
     "output_type": "execute_result"
    }
   ],
   "source": [
    "# example of unintended changes to an underlying object\n",
    "pokemon_df = pd.read_csv('data/pokemon.csv', usecols = ['Pokemon'])\n",
    "pokemon_series = pokemon_df.squeeze('columns')\n",
    "\n",
    "# if we change a value in pokemon_series, the value will also change in pokemon_df (which may be unintended)\n",
    "pokemon_series[0] = 'Whatever'\n",
    "pokemon_df.head(n = 1)"
   ]
  },
  {
   "cell_type": "code",
   "execution_count": 25,
   "metadata": {},
   "outputs": [
    {
     "data": {
      "text/html": [
       "<div>\n",
       "<style scoped>\n",
       "    .dataframe tbody tr th:only-of-type {\n",
       "        vertical-align: middle;\n",
       "    }\n",
       "\n",
       "    .dataframe tbody tr th {\n",
       "        vertical-align: top;\n",
       "    }\n",
       "\n",
       "    .dataframe thead th {\n",
       "        text-align: right;\n",
       "    }\n",
       "</style>\n",
       "<table border=\"1\" class=\"dataframe\">\n",
       "  <thead>\n",
       "    <tr style=\"text-align: right;\">\n",
       "      <th></th>\n",
       "      <th>Pokemon</th>\n",
       "    </tr>\n",
       "  </thead>\n",
       "  <tbody>\n",
       "    <tr>\n",
       "      <th>0</th>\n",
       "      <td>Bulbasaur</td>\n",
       "    </tr>\n",
       "  </tbody>\n",
       "</table>\n",
       "</div>"
      ],
      "text/plain": [
       "     Pokemon\n",
       "0  Bulbasaur"
      ]
     },
     "execution_count": 25,
     "metadata": {},
     "output_type": "execute_result"
    }
   ],
   "source": [
    "# using the copy method to prevent unintended changes\n",
    "pokemon_df = pd.read_csv('data/pokemon.csv', usecols = ['Pokemon'])\n",
    "pokemon_series = pokemon_df.squeeze('columns').copy()\n",
    "\n",
    "# changing the value in pokemon_series without impacting pokemon_df\n",
    "pokemon_series[0] = 'Whatever'\n",
    "pokemon_df.head(n = 1)"
   ]
  },
  {
   "cell_type": "markdown",
   "metadata": {},
   "source": [
    "# The inplace Parameter\n",
    "- Allows us to permanently modify the existing state of an object\n",
    "- There is no member advantage to using theinplace parameter over re-assigning the object\n",
    "- Pandas may deprecate the inplace parameter in the future"
   ]
  },
  {
   "cell_type": "code",
   "execution_count": 26,
   "metadata": {},
   "outputs": [
    {
     "data": {
      "text/plain": [
       "0    50.12\n",
       "1    54.10\n",
       "2    54.65\n",
       "3    52.38\n",
       "4    52.95\n",
       "Name: Stock Price, dtype: float64"
      ]
     },
     "execution_count": 26,
     "metadata": {},
     "output_type": "execute_result"
    }
   ],
   "source": [
    "# import data using the copy method to ensure an isolated object\n",
    "# optional formatting for increased readability, useful for long lines of code\n",
    "google = (\n",
    "    pd.read_csv('data/google_stock_price.csv', usecols = ['Stock Price'])\n",
    "    .squeeze('columns')\n",
    "    .copy()\n",
    ") \n",
    "\n",
    "google.head()"
   ]
  },
  {
   "cell_type": "code",
   "execution_count": 27,
   "metadata": {},
   "outputs": [
    {
     "data": {
      "text/plain": [
       "11    49.95\n",
       "9     50.07\n",
       "0     50.12\n",
       "10    50.70\n",
       "12    50.74\n",
       "Name: Stock Price, dtype: float64"
      ]
     },
     "execution_count": 27,
     "metadata": {},
     "output_type": "execute_result"
    }
   ],
   "source": [
    "# using inplace parameter to permanently change the object\n",
    "google.sort_values(inplace = True)\n",
    "google.head()"
   ]
  },
  {
   "cell_type": "code",
   "execution_count": 28,
   "metadata": {},
   "outputs": [
    {
     "data": {
      "text/plain": [
       "0    50.12\n",
       "1    54.10\n",
       "2    54.65\n",
       "3    52.38\n",
       "4    52.95\n",
       "Name: Stock Price, dtype: float64"
      ]
     },
     "execution_count": 28,
     "metadata": {},
     "output_type": "execute_result"
    }
   ],
   "source": [
    "# overwritting an existing object instead of using the inplace parameter\n",
    "google = google.sort_index()\n",
    "google.head()"
   ]
  },
  {
   "cell_type": "code",
   "execution_count": 29,
   "metadata": {},
   "outputs": [
    {
     "data": {
      "text/plain": [
       "3011    782.22\n",
       "2859    776.60\n",
       "3009    773.18\n",
       "3007    772.88\n",
       "3010    771.61\n",
       "Name: Stock Price, dtype: float64"
      ]
     },
     "execution_count": 29,
     "metadata": {},
     "output_type": "execute_result"
    }
   ],
   "source": [
    "# reassinging the modified object to a different variable\n",
    "google_sorted = google.sort_values(ascending = False)\n",
    "google_sorted.head()"
   ]
  },
  {
   "cell_type": "markdown",
   "metadata": {},
   "source": [
    "# Math Methods on Series Objects"
   ]
  },
  {
   "cell_type": "code",
   "execution_count": 30,
   "metadata": {},
   "outputs": [
    {
     "data": {
      "text/plain": [
       "3012"
      ]
     },
     "execution_count": 30,
     "metadata": {},
     "output_type": "execute_result"
    }
   ],
   "source": [
    "# count non-null values\n",
    "google.count()"
   ]
  },
  {
   "cell_type": "code",
   "execution_count": 31,
   "metadata": {},
   "outputs": [
    {
     "data": {
      "text/plain": [
       "1006942.0"
      ]
     },
     "execution_count": 31,
     "metadata": {},
     "output_type": "execute_result"
    }
   ],
   "source": [
    "# sum of all values in a series\n",
    "google.sum()"
   ]
  },
  {
   "cell_type": "code",
   "execution_count": 32,
   "metadata": {},
   "outputs": [
    {
     "data": {
      "text/plain": [
       "334.31009296148744"
      ]
     },
     "execution_count": 32,
     "metadata": {},
     "output_type": "execute_result"
    }
   ],
   "source": [
    "# average of all values in a series (mean)\n",
    "google.mean()"
   ]
  },
  {
   "cell_type": "code",
   "execution_count": 33,
   "metadata": {},
   "outputs": [
    {
     "data": {
      "text/plain": [
       "283.315"
      ]
     },
     "execution_count": 33,
     "metadata": {},
     "output_type": "execute_result"
    }
   ],
   "source": [
    "# median value in a series (middle point)\n",
    "google.median()"
   ]
  },
  {
   "cell_type": "code",
   "execution_count": 34,
   "metadata": {},
   "outputs": [
    {
     "data": {
      "text/plain": [
       "0    291.21\n",
       "Name: Stock Price, dtype: float64"
      ]
     },
     "execution_count": 34,
     "metadata": {},
     "output_type": "execute_result"
    }
   ],
   "source": [
    "# mode value in a series\n",
    "google.mode()"
   ]
  },
  {
   "cell_type": "code",
   "execution_count": 35,
   "metadata": {},
   "outputs": [
    {
     "data": {
      "text/plain": [
       "inf"
      ]
     },
     "execution_count": 35,
     "metadata": {},
     "output_type": "execute_result"
    }
   ],
   "source": [
    "# multiplying all values in a series\n",
    "google.product()"
   ]
  },
  {
   "cell_type": "code",
   "execution_count": 36,
   "metadata": {},
   "outputs": [
    {
     "data": {
      "text/plain": [
       "173.18720477113106"
      ]
     },
     "execution_count": 36,
     "metadata": {},
     "output_type": "execute_result"
    }
   ],
   "source": [
    "# standard deviation of all values in a series\n",
    "google.std()"
   ]
  },
  {
   "cell_type": "code",
   "execution_count": 37,
   "metadata": {},
   "outputs": [
    {
     "data": {
      "text/plain": [
       "49.95"
      ]
     },
     "execution_count": 37,
     "metadata": {},
     "output_type": "execute_result"
    }
   ],
   "source": [
    "# minimum value in a series\n",
    "google.min()"
   ]
  },
  {
   "cell_type": "code",
   "execution_count": 38,
   "metadata": {},
   "outputs": [
    {
     "data": {
      "text/plain": [
       "782.22"
      ]
     },
     "execution_count": 38,
     "metadata": {},
     "output_type": "execute_result"
    }
   ],
   "source": [
    "# maximum value in a series\n",
    "google.max()"
   ]
  },
  {
   "cell_type": "code",
   "execution_count": 39,
   "metadata": {},
   "outputs": [
    {
     "data": {
      "text/plain": [
       "count    3012.000000\n",
       "mean      334.310093\n",
       "std       173.187205\n",
       "min        49.950000\n",
       "25%       218.045000\n",
       "50%       283.315000\n",
       "75%       443.000000\n",
       "max       782.220000\n",
       "Name: Stock Price, dtype: float64"
      ]
     },
     "execution_count": 39,
     "metadata": {},
     "output_type": "execute_result"
    }
   ],
   "source": [
    "# using describe for statistical summary on a series\n",
    "google.describe()"
   ]
  },
  {
   "cell_type": "markdown",
   "metadata": {},
   "source": [
    "# Broadcasting\n",
    "- Perform mathematical operations on each value in a series"
   ]
  },
  {
   "cell_type": "code",
   "execution_count": 40,
   "metadata": {},
   "outputs": [
    {
     "data": {
      "text/plain": [
       "0        60.12\n",
       "1        64.10\n",
       "2        64.65\n",
       "3        62.38\n",
       "4        62.95\n",
       "         ...  \n",
       "3007    782.88\n",
       "3008    781.07\n",
       "3009    783.18\n",
       "3010    781.61\n",
       "3011    792.22\n",
       "Name: Stock Price, Length: 3012, dtype: float64"
      ]
     },
     "execution_count": 40,
     "metadata": {},
     "output_type": "execute_result"
    }
   ],
   "source": [
    "# add a value to every value in a series (does not change the underlying object)\n",
    "# google + 10\n",
    "google.add(10)"
   ]
  },
  {
   "cell_type": "code",
   "execution_count": 41,
   "metadata": {},
   "outputs": [
    {
     "data": {
      "text/plain": [
       "0        40.12\n",
       "1        44.10\n",
       "2        44.65\n",
       "3        42.38\n",
       "4        42.95\n",
       "         ...  \n",
       "3007    762.88\n",
       "3008    761.07\n",
       "3009    763.18\n",
       "3010    761.61\n",
       "3011    772.22\n",
       "Name: Stock Price, Length: 3012, dtype: float64"
      ]
     },
     "execution_count": 41,
     "metadata": {},
     "output_type": "execute_result"
    }
   ],
   "source": [
    "# subracting a value from every value in a series\n",
    "# google - 10\n",
    "google.subtract(10)"
   ]
  },
  {
   "cell_type": "markdown",
   "metadata": {},
   "source": [
    "# The value_counts Method\n",
    "- Counts unique values in a series"
   ]
  },
  {
   "cell_type": "code",
   "execution_count": 42,
   "metadata": {},
   "outputs": [
    {
     "data": {
      "text/plain": [
       "Water       105\n",
       "Normal       93\n",
       "Grass        66\n",
       "Bug          63\n",
       "Fire         47\n",
       "Psychic      47\n",
       "Rock         41\n",
       "Electric     36\n",
       "Ground       30\n",
       "Poison       28\n",
       "Dark         28\n",
       "Fighting     25\n",
       "Dragon       24\n",
       "Ghost        23\n",
       "Ice          23\n",
       "Steel        22\n",
       "Fairy        17\n",
       "Flying        3\n",
       "Name: Type, dtype: int64"
      ]
     },
     "execution_count": 42,
     "metadata": {},
     "output_type": "execute_result"
    }
   ],
   "source": [
    "# return distinct value counts (default order is descending)\n",
    "pokemon_index_val.value_counts()"
   ]
  },
  {
   "cell_type": "code",
   "execution_count": 43,
   "metadata": {},
   "outputs": [
    {
     "data": {
      "text/plain": [
       "Water       0.145631\n",
       "Normal      0.128988\n",
       "Grass       0.091540\n",
       "Bug         0.087379\n",
       "Fire        0.065187\n",
       "Psychic     0.065187\n",
       "Rock        0.056865\n",
       "Electric    0.049931\n",
       "Ground      0.041609\n",
       "Poison      0.038835\n",
       "Dark        0.038835\n",
       "Fighting    0.034674\n",
       "Dragon      0.033287\n",
       "Ghost       0.031900\n",
       "Ice         0.031900\n",
       "Steel       0.030513\n",
       "Fairy       0.023578\n",
       "Flying      0.004161\n",
       "Name: Type, dtype: float64"
      ]
     },
     "execution_count": 43,
     "metadata": {},
     "output_type": "execute_result"
    }
   ],
   "source": [
    "# using normalize parameter to get relative percentages of each value\n",
    "pokemon_index_val.value_counts(normalize = True)"
   ]
  },
  {
   "cell_type": "code",
   "execution_count": 44,
   "metadata": {},
   "outputs": [
    {
     "data": {
      "text/plain": [
       "Water       14.563107\n",
       "Normal      12.898752\n",
       "Grass        9.153953\n",
       "Bug          8.737864\n",
       "Fire         6.518724\n",
       "Psychic      6.518724\n",
       "Rock         5.686546\n",
       "Electric     4.993065\n",
       "Ground       4.160888\n",
       "Poison       3.883495\n",
       "Dark         3.883495\n",
       "Fighting     3.467406\n",
       "Dragon       3.328710\n",
       "Ghost        3.190014\n",
       "Ice          3.190014\n",
       "Steel        3.051318\n",
       "Fairy        2.357836\n",
       "Flying       0.416089\n",
       "Name: Type, dtype: float64"
      ]
     },
     "execution_count": 44,
     "metadata": {},
     "output_type": "execute_result"
    }
   ],
   "source": [
    "# broadcasting multiplcation on the above result to return whole percentages\n",
    "pokemon_index_val.value_counts(normalize = True).multiply(100)"
   ]
  },
  {
   "cell_type": "markdown",
   "metadata": {},
   "source": [
    "# The apply Method\n",
    "- Allows us to apply a function on every value in a series\n",
    "- We can apply our own custom functions"
   ]
  },
  {
   "cell_type": "code",
   "execution_count": 48,
   "metadata": {},
   "outputs": [
    {
     "data": {
      "text/plain": [
       "Pokemon\n",
       "Bulbasaur     5\n",
       "Ivysaur       5\n",
       "Venusaur      5\n",
       "Charmander    4\n",
       "Charmeleon    4\n",
       "             ..\n",
       "Yveltal       4\n",
       "Zygarde       6\n",
       "Diancie       4\n",
       "Hoopa         7\n",
       "Volcanion     4\n",
       "Name: Type, Length: 721, dtype: int64"
      ]
     },
     "execution_count": 48,
     "metadata": {},
     "output_type": "execute_result"
    }
   ],
   "source": [
    "# applying len function to a series (do not use paranthesis as usual)\n",
    "pokemon_index_val.apply(len)"
   ]
  },
  {
   "cell_type": "code",
   "execution_count": 49,
   "metadata": {},
   "outputs": [
    {
     "data": {
      "text/plain": [
       "Pokemon\n",
       "Bulbasaur     Classic\n",
       "Ivysaur       Classic\n",
       "Venusaur      Classic\n",
       "Charmander    Classic\n",
       "Charmeleon    Classic\n",
       "               ...   \n",
       "Yveltal           TBD\n",
       "Zygarde           TBD\n",
       "Diancie           TBD\n",
       "Hoopa             TBD\n",
       "Volcanion     Classic\n",
       "Name: Type, Length: 721, dtype: object"
      ]
     },
     "execution_count": 49,
     "metadata": {},
     "output_type": "execute_result"
    }
   ],
   "source": [
    "# applying a custom function to a series\n",
    "def rank_pokemon(pokemon_type):\n",
    "    if pokemon_type in ['Grass', 'Fire', 'Water']:\n",
    "        return 'Classic'\n",
    "    else:\n",
    "        return 'TBD'\n",
    "\n",
    "pokemon_index_val.apply(rank_pokemon)"
   ]
  },
  {
   "cell_type": "markdown",
   "metadata": {},
   "source": [
    "# The map Method\n",
    "- Allows us to map every series value to another value"
   ]
  },
  {
   "cell_type": "code",
   "execution_count": 53,
   "metadata": {},
   "outputs": [
    {
     "data": {
      "text/plain": [
       "Pokemon\n",
       "Bulbasaur     Ground\n",
       "Ivysaur       Ground\n",
       "Venusaur      Ground\n",
       "Charmander       Air\n",
       "Charmeleon       Air\n",
       "               ...  \n",
       "Yveltal          NaN\n",
       "Zygarde          NaN\n",
       "Diancie          NaN\n",
       "Hoopa            NaN\n",
       "Volcanion        Air\n",
       "Name: Type, Length: 721, dtype: object"
      ]
     },
     "execution_count": 53,
     "metadata": {},
     "output_type": "execute_result"
    }
   ],
   "source": [
    "# create a dictionary of mappings and map to a series\n",
    "mappings = {\n",
    "    'Grass': 'Ground',\n",
    "    'Fire': 'Air',\n",
    "    'Water': 'Ocean'\n",
    "}\n",
    "\n",
    "pokemon_index_val.map(mappings)"
   ]
  }
 ],
 "metadata": {
  "kernelspec": {
   "display_name": "Python 3.9.12 ('base')",
   "language": "python",
   "name": "python3"
  },
  "language_info": {
   "codemirror_mode": {
    "name": "ipython",
    "version": 3
   },
   "file_extension": ".py",
   "mimetype": "text/x-python",
   "name": "python",
   "nbconvert_exporter": "python",
   "pygments_lexer": "ipython3",
   "version": "3.9.12"
  },
  "orig_nbformat": 4,
  "vscode": {
   "interpreter": {
    "hash": "778d7b6bf01a84f48b9dd46c9f746c617956e7b1189498d16978cc18ff92f546"
   }
  }
 },
 "nbformat": 4,
 "nbformat_minor": 2
}
