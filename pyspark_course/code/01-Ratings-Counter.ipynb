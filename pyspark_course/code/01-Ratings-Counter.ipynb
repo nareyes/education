{
 "cells": [
  {
   "cell_type": "markdown",
   "metadata": {
    "application/vnd.databricks.v1+cell": {
     "cellMetadata": {
      "byteLimit": 2048000,
      "rowLimit": 10000
     },
     "inputWidgets": {},
     "nuid": "bb16c0bb-9da6-4e15-9760-109b19b95a9b",
     "showTitle": false,
     "title": ""
    }
   },
   "source": [
    "# Demo Notebook (Using RDD)"
   ]
  },
  {
   "cell_type": "code",
   "execution_count": 0,
   "metadata": {
    "application/vnd.databricks.v1+cell": {
     "cellMetadata": {
      "byteLimit": 2048000,
      "rowLimit": 10000
     },
     "inputWidgets": {},
     "nuid": "65c104ec-028f-4f83-bec8-d96ee13d615b",
     "showTitle": false,
     "title": ""
    }
   },
   "outputs": [],
   "source": [
    "# import modules\n",
    "# from pyspark import SparkConf, SparkContext\n",
    "import collections"
   ]
  },
  {
   "cell_type": "code",
   "execution_count": 0,
   "metadata": {
    "application/vnd.databricks.v1+cell": {
     "cellMetadata": {
      "byteLimit": 2048000,
      "rowLimit": 10000
     },
     "inputWidgets": {},
     "nuid": "18809f8c-ab27-4e18-86de-ab182333b85a",
     "showTitle": false,
     "title": ""
    }
   },
   "outputs": [],
   "source": [
    "# manually create spark context (applicable in shell)\n",
    "# conf = SparkConf() \\\n",
    "#     .setMaster(\"local\") \\\n",
    "#     .setAppName(\"RatingsHistogram\")\n",
    "\n",
    "# sc = SparkContext(conf = conf)"
   ]
  },
  {
   "cell_type": "code",
   "execution_count": 0,
   "metadata": {
    "application/vnd.databricks.v1+cell": {
     "cellMetadata": {
      "byteLimit": 2048000,
      "rowLimit": 10000
     },
     "inputWidgets": {},
     "nuid": "1a43cf6b-a4f6-4bb3-bf85-7f9e17e25c31",
     "showTitle": false,
     "title": ""
    }
   },
   "outputs": [
    {
     "output_type": "stream",
     "name": "stdout",
     "output_type": "stream",
     "text": [
      "196\t242\t3\t881250949\n186\t302\t3\t891717742\n22\t377\t1\t878887116\n244\t51\t2\t880606923\n166\t346\t1\t886397596\n"
     ]
    }
   ],
   "source": [
    "# load data from datalake\n",
    "lines = sc.textFile(\"abfss://pyspark-course@dbcourselakehouse.dfs.core.windows.net/ml-100k/u.data\")\n",
    "\n",
    "# display contents of text file\n",
    "rdd_contents = lines.collect()\n",
    "\n",
    "for i, line in enumerate(rdd_contents):\n",
    "    if i < 5:\n",
    "        print(line)\n",
    "    else:\n",
    "        break\n",
    "\n",
    "# schema: userId, movieId, ratingValue, timeStamp"
   ]
  },
  {
   "cell_type": "code",
   "execution_count": 0,
   "metadata": {
    "application/vnd.databricks.v1+cell": {
     "cellMetadata": {
      "byteLimit": 2048000,
      "rowLimit": 10000
     },
     "inputWidgets": {},
     "nuid": "20c13750-1201-4794-b07f-3f84efea3fcb",
     "showTitle": false,
     "title": ""
    }
   },
   "outputs": [
    {
     "output_type": "stream",
     "name": "stdout",
     "output_type": "stream",
     "text": [
      "Out[22]: defaultdict(int, {'3': 27145, '1': 6110, '2': 11370, '4': 34174, '5': 21201})"
     ]
    }
   ],
   "source": [
    "# split line on white space and return index 2 (ratingValue)\n",
    "ratings = lines.map(lambda x: x.split()[2])\n",
    "\n",
    "# count records per rating\n",
    "result = ratings.countByValue()\n",
    "\n",
    "# result is collected as key: value pair\n",
    "# rating: count\n",
    "result"
   ]
  },
  {
   "cell_type": "code",
   "execution_count": 0,
   "metadata": {
    "application/vnd.databricks.v1+cell": {
     "cellMetadata": {
      "byteLimit": 2048000,
      "rowLimit": 10000
     },
     "inputWidgets": {},
     "nuid": "633c6db6-91c6-4a16-bceb-4e9319f7e28d",
     "showTitle": false,
     "title": ""
    }
   },
   "outputs": [
    {
     "output_type": "stream",
     "name": "stdout",
     "output_type": "stream",
     "text": [
      "1 6110\n2 11370\n3 27145\n4 34174\n5 21201\n"
     ]
    }
   ],
   "source": [
    "# sort and print results\n",
    "sortedResults = collections.OrderedDict(sorted(result.items()))\n",
    "for key, value in sortedResults.items():\n",
    "    print(\"%s %i\" % (key, value))"
   ]
  }
 ],
 "metadata": {
  "application/vnd.databricks.v1+notebook": {
   "dashboards": [],
   "language": "python",
   "notebookMetadata": {
    "pythonIndentUnit": 4
   },
   "notebookName": "01-Ratings-Counter",
   "widgets": {}
  }
 },
 "nbformat": 4,
 "nbformat_minor": 0
}
