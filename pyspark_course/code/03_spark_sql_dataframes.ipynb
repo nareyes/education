{
 "cells": [
  {
   "cell_type": "markdown",
   "metadata": {},
   "source": [
    "# Setup"
   ]
  },
  {
   "cell_type": "code",
   "execution_count": 3,
   "metadata": {},
   "outputs": [],
   "source": [
    "# import modules\n",
    "from pyspark.sql import SparkSession\n",
    "from pyspark.sql import Row"
   ]
  },
  {
   "cell_type": "code",
   "execution_count": 4,
   "metadata": {},
   "outputs": [],
   "source": [
    "# create spark session\n",
    "spark = SparkSession.builder.appName('SparkSQL').getOrCreate()"
   ]
  },
  {
   "cell_type": "markdown",
   "metadata": {},
   "source": [
    "# Data Frames\n",
    "- Contains row objects\n",
    "- Can run SQL queries\n",
    "- Can store with a schema (more efficient)\n",
    "- Read and write to JSON, Hive, Parquet, etc\n",
    "- Allows for better interoperability and simplified development"
   ]
  },
  {
   "cell_type": "code",
   "execution_count": 31,
   "metadata": {},
   "outputs": [],
   "source": [
    "# import data (unstructured) as rdd\n",
    "friends = spark.sparkContext.textFile('../data/fakefriends.csv')"
   ]
  },
  {
   "cell_type": "code",
   "execution_count": 32,
   "metadata": {},
   "outputs": [],
   "source": [
    "# create schema\n",
    "def mapper(line):\n",
    "    fields = line.split(',')\n",
    "    return Row(\n",
    "        id = int(fields[0]), \\\n",
    "        name = str(fields[1].encode('utf-8')), \\\n",
    "        age = int(fields[2]), \\\n",
    "        numFriends = int(fields[3])\n",
    "    )\n",
    "\n",
    "# apply schema\n",
    "friends = friends.map(mapper)"
   ]
  },
  {
   "cell_type": "code",
   "execution_count": 33,
   "metadata": {},
   "outputs": [
    {
     "data": {
      "text/plain": [
       "pyspark.sql.dataframe.DataFrame"
      ]
     },
     "execution_count": 33,
     "metadata": {},
     "output_type": "execute_result"
    }
   ],
   "source": [
    "# register dataframe and infer schema\n",
    "schemaFriends = spark.createDataFrame(friends).cache()\n",
    "schemaFriends.createOrReplaceTempView('friends')\n",
    "\n",
    "type(schemaFriends)"
   ]
  },
  {
   "cell_type": "code",
   "execution_count": 34,
   "metadata": {},
   "outputs": [
    {
     "name": "stdout",
     "output_type": "stream",
     "text": [
      "Row(id=21, name=\"b'Miles'\", age=19, numFriends=268)\n",
      "Row(id=52, name=\"b'Beverly'\", age=19, numFriends=269)\n",
      "Row(id=54, name=\"b'Brunt'\", age=19, numFriends=5)\n",
      "Row(id=106, name=\"b'Beverly'\", age=18, numFriends=499)\n",
      "Row(id=115, name=\"b'Dukat'\", age=18, numFriends=397)\n",
      "Row(id=133, name=\"b'Quark'\", age=19, numFriends=265)\n",
      "Row(id=136, name=\"b'Will'\", age=19, numFriends=335)\n",
      "Row(id=225, name=\"b'Elim'\", age=19, numFriends=106)\n",
      "Row(id=304, name=\"b'Will'\", age=19, numFriends=404)\n",
      "Row(id=341, name=\"b'Data'\", age=18, numFriends=326)\n",
      "Row(id=366, name=\"b'Keiko'\", age=19, numFriends=119)\n",
      "Row(id=373, name=\"b'Quark'\", age=19, numFriends=272)\n",
      "Row(id=377, name=\"b'Beverly'\", age=18, numFriends=418)\n",
      "Row(id=404, name=\"b'Kasidy'\", age=18, numFriends=24)\n",
      "Row(id=409, name=\"b'Nog'\", age=19, numFriends=267)\n",
      "Row(id=439, name=\"b'Data'\", age=18, numFriends=417)\n",
      "Row(id=444, name=\"b'Keiko'\", age=18, numFriends=472)\n",
      "Row(id=492, name=\"b'Dukat'\", age=19, numFriends=36)\n",
      "Row(id=494, name=\"b'Kasidy'\", age=18, numFriends=194)\n"
     ]
    }
   ],
   "source": [
    "# query dataframe using spark sql\n",
    "teenagers_df = spark.sql(\n",
    "    'select * from friends where age >= 13 and age <= 19'\n",
    ")\n",
    "\n",
    "# display results\n",
    "for teen in teenagers_df.collect():\n",
    "    print(teen)"
   ]
  },
  {
   "cell_type": "code",
   "execution_count": 35,
   "metadata": {},
   "outputs": [
    {
     "name": "stdout",
     "output_type": "stream",
     "text": [
      "+---+-----+\n",
      "|age|count|\n",
      "+---+-----+\n",
      "| 18|    8|\n",
      "| 19|   11|\n",
      "| 20|    5|\n",
      "| 21|    8|\n",
      "| 22|    7|\n",
      "| 23|   10|\n",
      "| 24|    5|\n",
      "| 25|   11|\n",
      "| 26|   17|\n",
      "| 27|    8|\n",
      "| 28|   10|\n",
      "| 29|   12|\n",
      "| 30|   11|\n",
      "| 31|    8|\n",
      "| 32|   11|\n",
      "| 33|   12|\n",
      "| 34|    6|\n",
      "| 35|    8|\n",
      "| 36|   10|\n",
      "| 37|    9|\n",
      "+---+-----+\n",
      "only showing top 20 rows\n",
      "\n"
     ]
    }
   ],
   "source": [
    "# query dataframe using pyspark\n",
    "age_df = schemaFriends \\\n",
    "    .groupBy('age') \\\n",
    "    .count() \\\n",
    "    .orderBy('age')\n",
    "\n",
    "age_df.show()"
   ]
  },
  {
   "cell_type": "code",
   "execution_count": 36,
   "metadata": {},
   "outputs": [],
   "source": [
    "# stop spark session\n",
    "spark.stop()"
   ]
  }
 ],
 "metadata": {
  "application/vnd.databricks.v1+notebook": {
   "dashboards": [],
   "language": "python",
   "notebookMetadata": {
    "pythonIndentUnit": 4
   },
   "notebookName": "03-Spark-SQL",
   "widgets": {}
  },
  "kernelspec": {
   "display_name": "py_sandbox",
   "language": "python",
   "name": "python3"
  },
  "language_info": {
   "codemirror_mode": {
    "name": "ipython",
    "version": 3
   },
   "file_extension": ".py",
   "mimetype": "text/x-python",
   "name": "python",
   "nbconvert_exporter": "python",
   "pygments_lexer": "ipython3",
   "version": "3.11.5"
  }
 },
 "nbformat": 4,
 "nbformat_minor": 0
}
