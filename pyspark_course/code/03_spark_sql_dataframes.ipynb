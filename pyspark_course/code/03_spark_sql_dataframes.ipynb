{
 "cells": [
  {
   "cell_type": "markdown",
   "metadata": {},
   "source": [
    "# Setup"
   ]
  },
  {
   "cell_type": "code",
   "execution_count": 63,
   "metadata": {},
   "outputs": [],
   "source": [
    "# import modules\n",
    "from pyspark.sql import SparkSession, Row\n",
    "from pyspark.sql import functions as F"
   ]
  },
  {
   "cell_type": "code",
   "execution_count": 64,
   "metadata": {},
   "outputs": [],
   "source": [
    "# create spark session\n",
    "spark = SparkSession.builder.appName('SparkSQL').getOrCreate()"
   ]
  },
  {
   "cell_type": "markdown",
   "metadata": {},
   "source": [
    "# Data Frames\n",
    "- Contains row objects\n",
    "- Can run SQL queries\n",
    "- Can store with a schema (more efficient)\n",
    "- Read and write to JSON, Hive, Parquet, etc\n",
    "- Allows for better interoperability and simplified development"
   ]
  },
  {
   "cell_type": "code",
   "execution_count": 48,
   "metadata": {},
   "outputs": [],
   "source": [
    "# import data (unstructured) as rdd\n",
    "friends = spark.sparkContext.textFile('../data/fakefriends.csv')"
   ]
  },
  {
   "cell_type": "code",
   "execution_count": 49,
   "metadata": {},
   "outputs": [],
   "source": [
    "# create schema\n",
    "def mapper(line):\n",
    "    fields = line.split(',')\n",
    "    return Row(\n",
    "        id = int(fields[0]), \\\n",
    "        name = str(fields[1].encode('utf-8')), \\\n",
    "        age = int(fields[2]), \\\n",
    "        numFriends = int(fields[3])\n",
    "    )\n",
    "\n",
    "# apply schema\n",
    "friends = friends.map(mapper)"
   ]
  },
  {
   "cell_type": "code",
   "execution_count": 50,
   "metadata": {},
   "outputs": [
    {
     "name": "stderr",
     "output_type": "stream",
     "text": [
      "                                                                                \r"
     ]
    },
    {
     "data": {
      "text/plain": [
       "pyspark.sql.dataframe.DataFrame"
      ]
     },
     "execution_count": 50,
     "metadata": {},
     "output_type": "execute_result"
    }
   ],
   "source": [
    "# register dataframe and infer schema\n",
    "schemaFriends = spark.createDataFrame(friends).cache()\n",
    "schemaFriends.createOrReplaceTempView('friends')\n",
    "\n",
    "type(schemaFriends)"
   ]
  },
  {
   "cell_type": "code",
   "execution_count": 51,
   "metadata": {},
   "outputs": [
    {
     "name": "stdout",
     "output_type": "stream",
     "text": [
      "Row(id=21, name=\"b'Miles'\", age=19, numFriends=268)\n",
      "Row(id=52, name=\"b'Beverly'\", age=19, numFriends=269)\n",
      "Row(id=54, name=\"b'Brunt'\", age=19, numFriends=5)\n",
      "Row(id=106, name=\"b'Beverly'\", age=18, numFriends=499)\n",
      "Row(id=115, name=\"b'Dukat'\", age=18, numFriends=397)\n",
      "Row(id=133, name=\"b'Quark'\", age=19, numFriends=265)\n",
      "Row(id=136, name=\"b'Will'\", age=19, numFriends=335)\n",
      "Row(id=225, name=\"b'Elim'\", age=19, numFriends=106)\n",
      "Row(id=304, name=\"b'Will'\", age=19, numFriends=404)\n",
      "Row(id=341, name=\"b'Data'\", age=18, numFriends=326)\n",
      "Row(id=366, name=\"b'Keiko'\", age=19, numFriends=119)\n",
      "Row(id=373, name=\"b'Quark'\", age=19, numFriends=272)\n",
      "Row(id=377, name=\"b'Beverly'\", age=18, numFriends=418)\n",
      "Row(id=404, name=\"b'Kasidy'\", age=18, numFriends=24)\n",
      "Row(id=409, name=\"b'Nog'\", age=19, numFriends=267)\n",
      "Row(id=439, name=\"b'Data'\", age=18, numFriends=417)\n",
      "Row(id=444, name=\"b'Keiko'\", age=18, numFriends=472)\n",
      "Row(id=492, name=\"b'Dukat'\", age=19, numFriends=36)\n",
      "Row(id=494, name=\"b'Kasidy'\", age=18, numFriends=194)\n"
     ]
    }
   ],
   "source": [
    "# query dataframe using spark sql\n",
    "teenagers_df = spark.sql(\n",
    "    'select * from friends where age >= 13 and age <= 19'\n",
    ")\n",
    "\n",
    "# display results\n",
    "for teen in teenagers_df.collect():\n",
    "    print(teen)"
   ]
  },
  {
   "cell_type": "code",
   "execution_count": 52,
   "metadata": {},
   "outputs": [
    {
     "name": "stdout",
     "output_type": "stream",
     "text": [
      "+---+---------+---------------+\n",
      "|age|age_count|num_friends_sum|\n",
      "+---+---------+---------------+\n",
      "| 18|        8|           2747|\n",
      "| 19|       11|           2346|\n",
      "| 20|        5|            825|\n",
      "| 21|        8|           2807|\n",
      "| 22|        7|           1445|\n",
      "| 23|       10|           2463|\n",
      "| 24|        5|           1169|\n",
      "| 25|       11|           2172|\n",
      "| 26|       17|           4115|\n",
      "| 27|        8|           1825|\n",
      "+---+---------+---------------+\n",
      "only showing top 10 rows\n",
      "\n"
     ]
    }
   ],
   "source": [
    "# query dataframe using pyspark\n",
    "\n",
    "# age_df = schemaFriends \\\n",
    "#     .groupBy('age') \\\n",
    "#     .count() \\\n",
    "#     .orderBy('age')\n",
    "\n",
    "age_df = schemaFriends \\\n",
    "    .groupBy('age') \\\n",
    "    .agg(\n",
    "        F.count('*').alias('age_count'),\n",
    "        F.sum('numFriends').alias('num_friends_sum')\n",
    "    ) \\\n",
    "    .orderBy('age')\n",
    "\n",
    "age_df.show(n=10)"
   ]
  },
  {
   "cell_type": "code",
   "execution_count": null,
   "metadata": {},
   "outputs": [],
   "source": [
    "# stop spark session\n",
    "# spark.stop()"
   ]
  },
  {
   "cell_type": "markdown",
   "metadata": {},
   "source": [
    "# DataFrames vs RDDs\n",
    "Running prior RDD examples using DataFrames"
   ]
  },
  {
   "cell_type": "markdown",
   "metadata": {},
   "source": [
    "## Fake Friends Example"
   ]
  },
  {
   "cell_type": "code",
   "execution_count": 54,
   "metadata": {},
   "outputs": [
    {
     "data": {
      "text/plain": [
       "pyspark.sql.dataframe.DataFrame"
      ]
     },
     "execution_count": 54,
     "metadata": {},
     "output_type": "execute_result"
    }
   ],
   "source": [
    "# import data (structured) as dataframe\n",
    "friends = spark.read \\\n",
    "    .option('header', 'true') \\\n",
    "    .option('inferSchema', 'true') \\\n",
    "    .csv('../data/fakefriends-header.csv')\n",
    "\n",
    "type(friends)"
   ]
  },
  {
   "cell_type": "code",
   "execution_count": 55,
   "metadata": {},
   "outputs": [
    {
     "name": "stdout",
     "output_type": "stream",
     "text": [
      "root\n",
      " |-- userID: integer (nullable = true)\n",
      " |-- name: string (nullable = true)\n",
      " |-- age: integer (nullable = true)\n",
      " |-- friends: integer (nullable = true)\n",
      "\n"
     ]
    }
   ],
   "source": [
    "# display schema\n",
    "friends.printSchema()"
   ]
  },
  {
   "cell_type": "code",
   "execution_count": 56,
   "metadata": {},
   "outputs": [
    {
     "name": "stdout",
     "output_type": "stream",
     "text": [
      "+--------+\n",
      "|    name|\n",
      "+--------+\n",
      "|    Will|\n",
      "|Jean-Luc|\n",
      "|    Hugh|\n",
      "|  Deanna|\n",
      "|   Quark|\n",
      "+--------+\n",
      "only showing top 5 rows\n",
      "\n"
     ]
    }
   ],
   "source": [
    "# display a specified column\n",
    "friends \\\n",
    "    .select('name') \\\n",
    "    .show(n=5)"
   ]
  },
  {
   "cell_type": "code",
   "execution_count": 57,
   "metadata": {},
   "outputs": [
    {
     "name": "stdout",
     "output_type": "stream",
     "text": [
      "+------+-------+---+-------+\n",
      "|userID|   name|age|friends|\n",
      "+------+-------+---+-------+\n",
      "|    21|  Miles| 19|    268|\n",
      "|    48|    Nog| 20|      1|\n",
      "|    52|Beverly| 19|    269|\n",
      "|    54|  Brunt| 19|      5|\n",
      "|    60| Geordi| 20|    100|\n",
      "+------+-------+---+-------+\n",
      "only showing top 5 rows\n",
      "\n"
     ]
    }
   ],
   "source": [
    "# filter data on age\n",
    "friends \\\n",
    "    .filter(friends.age < 21) \\\n",
    "    .show(n=5)"
   ]
  },
  {
   "cell_type": "code",
   "execution_count": 58,
   "metadata": {},
   "outputs": [
    {
     "name": "stdout",
     "output_type": "stream",
     "text": [
      "+---+-----+\n",
      "|age|count|\n",
      "+---+-----+\n",
      "| 18|    8|\n",
      "| 19|   11|\n",
      "| 20|    5|\n",
      "| 21|    8|\n",
      "| 22|    7|\n",
      "+---+-----+\n",
      "only showing top 5 rows\n",
      "\n"
     ]
    }
   ],
   "source": [
    "# group by age\n",
    "friends \\\n",
    "    .groupBy('age') \\\n",
    "    .count() \\\n",
    "    .orderBy('age') \\\n",
    "    .show(n=5)"
   ]
  },
  {
   "cell_type": "code",
   "execution_count": 61,
   "metadata": {},
   "outputs": [
    {
     "name": "stdout",
     "output_type": "stream",
     "text": [
      "+--------+---------------+\n",
      "|    name|age_transformed|\n",
      "+--------+---------------+\n",
      "|    Will|             43|\n",
      "|Jean-Luc|             36|\n",
      "|    Hugh|             65|\n",
      "|  Deanna|             50|\n",
      "|   Quark|             78|\n",
      "+--------+---------------+\n",
      "only showing top 5 rows\n",
      "\n"
     ]
    }
   ],
   "source": [
    "# perform transformation\n",
    "friends \\\n",
    "    .select(friends.name, friends.age + 10) \\\n",
    "    .withColumnRenamed('(age + 10)', 'age_transformed') \\\n",
    "    .show(n=5)"
   ]
  },
  {
   "cell_type": "markdown",
   "metadata": {},
   "source": [
    "## Friends by Age Example"
   ]
  },
  {
   "cell_type": "code",
   "execution_count": 65,
   "metadata": {},
   "outputs": [
    {
     "data": {
      "text/plain": [
       "pyspark.sql.dataframe.DataFrame"
      ]
     },
     "execution_count": 65,
     "metadata": {},
     "output_type": "execute_result"
    }
   ],
   "source": [
    "# import data (structured) as dataframe\n",
    "friends = spark.read \\\n",
    "    .option('header', 'true') \\\n",
    "    .option('inferSchema', 'true') \\\n",
    "    .csv('../data/fakefriends-header.csv')\n",
    "\n",
    "type(friends)"
   ]
  },
  {
   "cell_type": "code",
   "execution_count": 75,
   "metadata": {},
   "outputs": [
    {
     "name": "stdout",
     "output_type": "stream",
     "text": [
      "+---+-----------+\n",
      "|age|friends_avg|\n",
      "+---+-----------+\n",
      "| 18|      343.0|\n",
      "| 19|      213.0|\n",
      "| 20|      165.0|\n",
      "| 21|      351.0|\n",
      "| 22|      206.0|\n",
      "+---+-----------+\n",
      "only showing top 5 rows\n",
      "\n"
     ]
    }
   ],
   "source": [
    "# return avg number of friends by age\n",
    "friends \\\n",
    "    .groupBy('age') \\\n",
    "    .agg(F.round(F.avg('friends'), 0).alias('friends_avg')) \\\n",
    "    .orderBy('age') \\\n",
    "    .show(n=5)"
   ]
  }
 ],
 "metadata": {
  "application/vnd.databricks.v1+notebook": {
   "dashboards": [],
   "language": "python",
   "notebookMetadata": {
    "pythonIndentUnit": 4
   },
   "notebookName": "03-Spark-SQL",
   "widgets": {}
  },
  "kernelspec": {
   "display_name": "py_sandbox",
   "language": "python",
   "name": "python3"
  },
  "language_info": {
   "codemirror_mode": {
    "name": "ipython",
    "version": 3
   },
   "file_extension": ".py",
   "mimetype": "text/x-python",
   "name": "python",
   "nbconvert_exporter": "python",
   "pygments_lexer": "ipython3",
   "version": "3.11.10"
  }
 },
 "nbformat": 4,
 "nbformat_minor": 0
}
