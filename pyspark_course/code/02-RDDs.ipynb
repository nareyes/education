{
 "cells": [
  {
   "cell_type": "markdown",
   "metadata": {
    "application/vnd.databricks.v1+cell": {
     "cellMetadata": {
      "byteLimit": 2048000,
      "rowLimit": 10000
     },
     "inputWidgets": {},
     "nuid": "af4c7883-ed9f-48b8-bb7d-2f85f89afba3",
     "showTitle": false,
     "title": ""
    }
   },
   "source": [
    "# Resilient Distributed Dataset (RDD)\n",
    "- Resilient\n",
    "- Distributed\n",
    "- Dataset\n",
    "- Lazy Evaluation: Driver program does not begin execution until an action is called.\n",
    "\n",
    "### Spark Context\n",
    "- Created by driver program\n",
    "- Creates RDDs\n",
    "- Responsible for making RDDs resilient and distributed\n",
    "- SparkContxt (sc) object created automatically\n",
    "\n",
    "### Common RDD Transformations\n",
    "- map\n",
    "- flatmap\n",
    "- filter\n",
    "- distinct\n",
    "- sample\n",
    "- union\n",
    "- intersection\n",
    "- subtract\n",
    "- cartesian\n",
    "\n",
    "### Common RDD Actions\n",
    "- collect\n",
    "- count\n",
    "- countByValue\n",
    "- take\n",
    "- top\n",
    "- reduce"
   ]
  },
  {
   "cell_type": "code",
   "execution_count": 0,
   "metadata": {
    "application/vnd.databricks.v1+cell": {
     "cellMetadata": {
      "byteLimit": 2048000,
      "rowLimit": 10000
     },
     "inputWidgets": {},
     "nuid": "471821d9-41c8-4661-bca2-b755995cde53",
     "showTitle": false,
     "title": ""
    }
   },
   "outputs": [],
   "source": [
    "# import modules\n",
    "# from pyspark import SparkConf, SparkContext\n",
    "import re\n",
    "import collections"
   ]
  },
  {
   "cell_type": "markdown",
   "metadata": {
    "application/vnd.databricks.v1+cell": {
     "cellMetadata": {
      "byteLimit": 2048000,
      "rowLimit": 10000
     },
     "inputWidgets": {},
     "nuid": "44665c9e-b0ba-41ef-8e93-3b2b41bc09f4",
     "showTitle": false,
     "title": ""
    }
   },
   "source": [
    "### Simple Example"
   ]
  },
  {
   "cell_type": "code",
   "execution_count": 0,
   "metadata": {
    "application/vnd.databricks.v1+cell": {
     "cellMetadata": {
      "byteLimit": 2048000,
      "rowLimit": 10000
     },
     "inputWidgets": {},
     "nuid": "1886beb7-445e-4382-a30d-0ce9e3625a23",
     "showTitle": false,
     "title": ""
    }
   },
   "outputs": [
    {
     "output_type": "stream",
     "name": "stdout",
     "output_type": "stream",
     "text": [
      "Out[60]: PythonRDD[237] at RDD at PythonRDD.scala:58"
     ]
    }
   ],
   "source": [
    "# map example using lambda\n",
    "rdd1 = sc.parallelize([1, 2, 3, 4])\n",
    "rdd1.map(lambda x: x*x)\n",
    "\n",
    "# same result as the following\n",
    "rdd2 = sc.parallelize([1, 2, 3, 4])\n",
    "def squareIt(x):\n",
    "    return x*x\n",
    "\n",
    "rdd2.map(squareIt)\n"
   ]
  },
  {
   "cell_type": "markdown",
   "metadata": {
    "application/vnd.databricks.v1+cell": {
     "cellMetadata": {
      "byteLimit": 2048000,
      "rowLimit": 10000
     },
     "inputWidgets": {},
     "nuid": "42c99b96-c308-4389-88f9-8cb42df50828",
     "showTitle": false,
     "title": ""
    }
   },
   "source": [
    "### Full RDD Example (Getting Started Module)"
   ]
  },
  {
   "cell_type": "code",
   "execution_count": 0,
   "metadata": {
    "application/vnd.databricks.v1+cell": {
     "cellMetadata": {
      "byteLimit": 2048000,
      "rowLimit": 10000
     },
     "inputWidgets": {},
     "nuid": "75891bea-d927-4370-8dba-a9d68227e086",
     "showTitle": false,
     "title": ""
    }
   },
   "outputs": [],
   "source": [
    "# manually create spark context (applicable in shell)\n",
    "# conf = SparkConf() \\\n",
    "#     .setMaster(\"local\") \\\n",
    "#     .setAppName(\"RatingsHistogram\")\n",
    "\n",
    "# sc = SparkContext(conf = conf)"
   ]
  },
  {
   "cell_type": "code",
   "execution_count": 0,
   "metadata": {
    "application/vnd.databricks.v1+cell": {
     "cellMetadata": {
      "byteLimit": 2048000,
      "rowLimit": 10000
     },
     "inputWidgets": {},
     "nuid": "9bf7b3a0-aa61-4509-b272-d5de1b46feca",
     "showTitle": false,
     "title": ""
    }
   },
   "outputs": [
    {
     "output_type": "stream",
     "name": "stdout",
     "output_type": "stream",
     "text": [
      "196\t242\t3\t881250949\n186\t302\t3\t891717742\n22\t377\t1\t878887116\n244\t51\t2\t880606923\n166\t346\t1\t886397596\n"
     ]
    }
   ],
   "source": [
    "# load data from datalake\n",
    "# schema: userId, movieId, ratingValue, timeStamp\n",
    "ratings = sc.textFile(\"abfss://pyspark-course@dbcourselakehouse.dfs.core.windows.net/ml-100k/u.data\")\n",
    "\n",
    "# display contents of text file\n",
    "rdd_contents = ratings.collect()\n",
    "\n",
    "for i, line in enumerate(rdd_contents):\n",
    "    if i < 5:\n",
    "        print(line)\n",
    "    else:\n",
    "        break"
   ]
  },
  {
   "cell_type": "code",
   "execution_count": 0,
   "metadata": {
    "application/vnd.databricks.v1+cell": {
     "cellMetadata": {
      "byteLimit": 2048000,
      "rowLimit": 10000
     },
     "inputWidgets": {},
     "nuid": "3017c02b-1828-4fbb-93e0-67c7938e4d82",
     "showTitle": false,
     "title": ""
    }
   },
   "outputs": [
    {
     "output_type": "stream",
     "name": "stdout",
     "output_type": "stream",
     "text": [
      "Out[63]: defaultdict(int, {'3': 27145, '1': 6110, '2': 11370, '4': 34174, '5': 21201})"
     ]
    }
   ],
   "source": [
    "# split line on white space and return index 2 (ratingValue)\n",
    "ratings = ratings.map(lambda x: x.split()[2])\n",
    "\n",
    "# count records per rating\n",
    "result = ratings.countByValue()\n",
    "\n",
    "# result is collected as key: value pair\n",
    "# rating: count\n",
    "result"
   ]
  },
  {
   "cell_type": "code",
   "execution_count": 0,
   "metadata": {
    "application/vnd.databricks.v1+cell": {
     "cellMetadata": {
      "byteLimit": 2048000,
      "rowLimit": 10000
     },
     "inputWidgets": {},
     "nuid": "f4d77ab1-7c36-4fae-bee7-1330ad483369",
     "showTitle": false,
     "title": ""
    }
   },
   "outputs": [
    {
     "output_type": "stream",
     "name": "stdout",
     "output_type": "stream",
     "text": [
      "1 6110\n2 11370\n3 27145\n4 34174\n5 21201\n"
     ]
    }
   ],
   "source": [
    "# sort and print results\n",
    "sortedResults = collections.OrderedDict(sorted(result.items()))\n",
    "for key, value in sortedResults.items():\n",
    "    print(\"%s %i\" % (key, value))"
   ]
  },
  {
   "cell_type": "markdown",
   "metadata": {
    "application/vnd.databricks.v1+cell": {
     "cellMetadata": {
      "byteLimit": 2048000,
      "rowLimit": 10000
     },
     "inputWidgets": {},
     "nuid": "85406f01-9678-442f-a350-1cd1588d6474",
     "showTitle": false,
     "title": ""
    }
   },
   "source": [
    "### Key: Value RDDs\n",
    "- Similar to a NoSQL store\n",
    "- Allows aggregation by keys\n",
    "\n",
    "### Common Key: Value Functions\n",
    "- mapValues()\n",
    "- flatMapValues()\n",
    "- reduceByKey()\n",
    "- groupByKey()\n",
    "- sortByKey()\n",
    "- keys(), values()"
   ]
  },
  {
   "cell_type": "code",
   "execution_count": 0,
   "metadata": {
    "application/vnd.databricks.v1+cell": {
     "cellMetadata": {
      "byteLimit": 2048000,
      "rowLimit": 10000
     },
     "inputWidgets": {},
     "nuid": "62235493-b6a0-46b6-b64c-c8820bb2b786",
     "showTitle": false,
     "title": ""
    }
   },
   "outputs": [],
   "source": [
    "# key value rdd example (age: number of friends)\n",
    "# load data from datalake\n",
    "# schema: userId, userName, numFriends\n",
    "friends = sc.textFile(\"abfss://pyspark-course@dbcourselakehouse.dfs.core.windows.net/fakefriends.csv\")"
   ]
  },
  {
   "cell_type": "code",
   "execution_count": 0,
   "metadata": {
    "application/vnd.databricks.v1+cell": {
     "cellMetadata": {
      "byteLimit": 2048000,
      "rowLimit": 10000
     },
     "inputWidgets": {},
     "nuid": "bf0d73b2-ae24-44fd-bec2-92793c3b33f2",
     "showTitle": false,
     "title": ""
    }
   },
   "outputs": [],
   "source": [
    "# parse (map) input data\n",
    "def parseFriends(line):\n",
    "    fields = line.split(',')\n",
    "    age = int(fields[2])\n",
    "    numFriends = int(fields[3])\n",
    "    return (age, numFriends)\n",
    "\n",
    "rdd3 = friends.map(parseFriends)"
   ]
  },
  {
   "cell_type": "code",
   "execution_count": 0,
   "metadata": {
    "application/vnd.databricks.v1+cell": {
     "cellMetadata": {
      "byteLimit": 2048000,
      "rowLimit": 10000
     },
     "inputWidgets": {},
     "nuid": "633ac0e8-0e0a-462b-86ed-f5357f251a06",
     "showTitle": false,
     "title": ""
    }
   },
   "outputs": [
    {
     "output_type": "stream",
     "name": "stdout",
     "output_type": "stream",
     "text": [
      "(18, 343)\n(19, 213)\n(20, 165)\n(21, 350)\n(22, 206)\n(23, 246)\n(24, 233)\n(25, 197)\n(26, 242)\n(27, 228)\n(28, 209)\n(29, 215)\n(30, 235)\n(31, 267)\n(32, 207)\n(33, 325)\n(34, 245)\n(35, 211)\n(36, 246)\n(37, 249)\n(38, 193)\n(39, 169)\n(40, 250)\n(41, 268)\n(42, 303)\n(43, 230)\n(44, 282)\n(45, 309)\n(46, 223)\n(47, 233)\n(48, 281)\n(49, 184)\n(50, 254)\n(51, 302)\n(52, 340)\n(53, 222)\n(54, 278)\n(55, 295)\n(56, 306)\n(57, 258)\n(58, 116)\n(59, 220)\n(60, 202)\n(61, 256)\n(62, 220)\n(63, 384)\n(64, 281)\n(65, 298)\n(66, 276)\n(67, 214)\n(68, 269)\n(69, 235)\n"
     ]
    }
   ],
   "source": [
    "# calculate average friends by age\n",
    "totalsByAge = rdd3 \\\n",
    "    .mapValues(lambda x: (x, 1)) \\\n",
    "    .reduceByKey(lambda x, y: (x[0] + y[0], x[1] + y[1]))\n",
    "\n",
    "averagesByAge = totalsByAge.mapValues(lambda x: int(x[0] / x[1]))\n",
    "sortedAveragesByAge = averagesByAge.sortBy(lambda x: x[0])\n",
    "\n",
    "results = sortedAveragesByAge.collect()\n",
    "\n",
    "for result in results:\n",
    "    print(result)"
   ]
  },
  {
   "cell_type": "markdown",
   "metadata": {
    "application/vnd.databricks.v1+cell": {
     "cellMetadata": {
      "byteLimit": 2048000,
      "rowLimit": 10000
     },
     "inputWidgets": {},
     "nuid": "e7b0c3fe-1683-424e-9415-a9ce23da458a",
     "showTitle": false,
     "title": ""
    }
   },
   "source": [
    "### Filtering RDDs\n",
    "- Removes data from RDD based on boolean condition"
   ]
  },
  {
   "cell_type": "code",
   "execution_count": 0,
   "metadata": {
    "application/vnd.databricks.v1+cell": {
     "cellMetadata": {
      "byteLimit": 2048000,
      "rowLimit": 10000
     },
     "inputWidgets": {},
     "nuid": "7b15db00-6e46-4593-83f1-86e98633bdb5",
     "showTitle": false,
     "title": ""
    }
   },
   "outputs": [],
   "source": [
    "# load data from datalake\n",
    "# schema: weatherStationId, date, entryType, temperature\n",
    "temps = sc.textFile(\"abfss://pyspark-course@dbcourselakehouse.dfs.core.windows.net/1800.csv\")"
   ]
  },
  {
   "cell_type": "code",
   "execution_count": 0,
   "metadata": {
    "application/vnd.databricks.v1+cell": {
     "cellMetadata": {
      "byteLimit": 2048000,
      "rowLimit": 10000
     },
     "inputWidgets": {},
     "nuid": "4ebe7237-d8ca-4fb6-bcd9-a77327b6b61f",
     "showTitle": false,
     "title": ""
    }
   },
   "outputs": [],
   "source": [
    "# parse input data\n",
    "def parseTemps(line):\n",
    "    fields = line.split(',')\n",
    "    stationId = fields[0]\n",
    "    entryType = fields[2]\n",
    "    temperature = float(fields[3]) * 0.1 * (9.0 / 5.0) + 32.0\n",
    "    return (stationId, entryType, temperature)\n",
    "\n",
    "rdd4 = temps.map(parseTemps)"
   ]
  },
  {
   "cell_type": "code",
   "execution_count": 0,
   "metadata": {
    "application/vnd.databricks.v1+cell": {
     "cellMetadata": {
      "byteLimit": 2048000,
      "rowLimit": 10000
     },
     "inputWidgets": {},
     "nuid": "3846ae0a-bfc7-48b3-a9b6-7c6f9a2becef",
     "showTitle": false,
     "title": ""
    }
   },
   "outputs": [
    {
     "output_type": "stream",
     "name": "stdout",
     "output_type": "stream",
     "text": [
      "ITE00100554\t5.36F\nEZE00100082\t7.7F\n"
     ]
    }
   ],
   "source": [
    "# calculate min temp for each weather station\n",
    "minTemps = rdd4.filter(lambda x: 'TMIN' in x[1])\n",
    "minStationTemps = minTemps.map(lambda x: (x[0], x[2]))\n",
    "minStationTempsPer = minStationTemps.reduceByKey(lambda x, y: min(x,y))\n",
    "\n",
    "results = minStationTempsPer.collect()\n",
    "\n",
    "for result in results:\n",
    "    print(result[0] + f'\\t{round(result[1], 4)}F')"
   ]
  },
  {
   "cell_type": "code",
   "execution_count": 0,
   "metadata": {
    "application/vnd.databricks.v1+cell": {
     "cellMetadata": {
      "byteLimit": 2048000,
      "rowLimit": 10000
     },
     "inputWidgets": {},
     "nuid": "0e4cf242-6de4-4ddf-b0a9-f7d3921f45b3",
     "showTitle": false,
     "title": ""
    }
   },
   "outputs": [
    {
     "output_type": "stream",
     "name": "stdout",
     "output_type": "stream",
     "text": [
      "ITE00100554\t90.14F\nEZE00100082\t90.14F\n"
     ]
    }
   ],
   "source": [
    "# calculate max temp for each weather station\n",
    "maxTemps = rdd4.filter(lambda x: 'TMAX' in x[1])\n",
    "maxStationTemps = maxTemps.map(lambda x: (x[0], x[2]))\n",
    "maxStationTempsPer = maxStationTemps.reduceByKey(lambda x, y: max(x,y))\n",
    "\n",
    "results = maxStationTempsPer.collect()\n",
    "\n",
    "for result in results:\n",
    "    print(result[0] + f'\\t{round(result[1], 4)}F')"
   ]
  },
  {
   "cell_type": "markdown",
   "metadata": {
    "application/vnd.databricks.v1+cell": {
     "cellMetadata": {
      "byteLimit": 2048000,
      "rowLimit": 10000
     },
     "inputWidgets": {},
     "nuid": "0ff4a239-92d5-4e1a-bd95-4e0419189c22",
     "showTitle": false,
     "title": ""
    }
   },
   "source": [
    "### Applying map() and flatMap() to RDDs\n",
    "- map() transforms each element of an RDD into one new element\n",
    "- flatMap() can create many new elements from each element"
   ]
  },
  {
   "cell_type": "code",
   "execution_count": 0,
   "metadata": {
    "application/vnd.databricks.v1+cell": {
     "cellMetadata": {
      "byteLimit": 2048000,
      "rowLimit": 10000
     },
     "inputWidgets": {},
     "nuid": "973458cf-68af-4516-9c57-92d9a01a92e0",
     "showTitle": false,
     "title": ""
    }
   },
   "outputs": [],
   "source": [
    "# load data from datalake\n",
    "book = sc.textFile(\"abfss://pyspark-course@dbcourselakehouse.dfs.core.windows.net/book.txt\")"
   ]
  },
  {
   "cell_type": "code",
   "execution_count": 0,
   "metadata": {
    "application/vnd.databricks.v1+cell": {
     "cellMetadata": {
      "byteLimit": 2048000,
      "rowLimit": 10000
     },
     "inputWidgets": {},
     "nuid": "33aaeb2f-fdb4-4d9f-802c-7a14620afe23",
     "showTitle": false,
     "title": ""
    }
   },
   "outputs": [],
   "source": [
    "# normalize words function\n",
    "def normalizeWords(text):\n",
    "    return re.compile(r'\\W+', re.UNICODE).split(text.lower())"
   ]
  },
  {
   "cell_type": "code",
   "execution_count": 0,
   "metadata": {
    "application/vnd.databricks.v1+cell": {
     "cellMetadata": {
      "byteLimit": 2048000,
      "rowLimit": 10000
     },
     "inputWidgets": {},
     "nuid": "b474b3d3-f9ba-400d-a29d-de275b949c6b",
     "showTitle": false,
     "title": ""
    }
   },
   "outputs": [
    {
     "output_type": "stream",
     "name": "stdout",
     "output_type": "stream",
     "text": [
      "you 1878\nto 1828\nyour 1420\nthe 1292\na 1191\nof 970\nand 934\nthat 747\nit 649\nin 616\nis 560\nfor 537\non 428\nare 424\nif 411\ns 391\ni 387\nbusiness 383\ncan 376\nbe 369\nas 343\nhave 321\nwith 315\nt 301\nthis 280\nor 278\ntime 255\nbut 242\nthey 234\nwill 231\nwhat 229\nat 220\nmy 215\nre 214\ndo 207\nnot 203\nabout 202\nmore 200\nproduct 182\nan 178\nup 177\nneed 174\nthem 166\nfrom 166\nhow 163\nthere 162\nout 161\nnew 153\npeople 145\nwork 144\nso 143\njust 142\nown 140\nall 137\ndon 133\nget 123\ncustomers 123\nby 122\nwant 122\ncompany 122\ntheir 122\nsome 121\nll 114\nself 111\nwebsite 109\nmake 108\nmay 107\neven 104\nwhen 102\none 100\nve 95\nthan 92\nalso 91\njob 90\nmuch 90\nwho 88\nmoney 86\nwas 85\nthese 82\nfind 81\nsales 80\nonly 79\ninto 79\nyourself 78\nother 78\nlike 78\nno 76\nprobably 76\nemployment 75\nads 75\nday 73\ngood 72\nmany 71\nbefore 70\nmost 70\nmight 70\nad 70\nshould 69\nthose 68\nproducts 67\nmarket 66\nwell 66\nsure 65\nstill 65\nplan 64\ngoogle 63\nsomeone 62\nover 62\nany 62\nsoftware 60\nidea 60\nenough 59\nonce 59\nthen 59\nvery 58\nworking 58\nthink 58\nimportant 58\nuse 58\nthrough 57\nsearch 56\nsomething 56\nway 55\ntake 55\ngoing 55\nlot 55\nwhere 53\ncost 53\nknow 52\ndoing 51\nfirst 51\nonline 50\nhelp 50\nend 49\nbetter 49\nyear 49\npersonal 48\nnow 48\nsee 48\nhard 47\ntry 47\nsmall 47\nbusinesses 47\nlong 47\ncould 46\ngo 45\npay 45\ncreate 45\nlifestyle 44\nemployer 44\nadvice 44\nrevenue 44\nstart 44\nbest 44\nwe 43\nwhile 43\nspend 43\nsuch 43\npress 43\nbig 42\nmarketing 42\npage 42\nkeep 42\nreally 42\nfreedom 41\nadvertising 41\nnumber 41\ncustomer 41\nwithout 40\nfew 40\nhas 40\nworth 39\ngrowth 39\nbook 39\nwere 39\nwon 39\nlocal 39\npotential 38\nyears 38\nemployed 38\nthings 38\nexpenses 38\nsite 38\nwhich 37\npoint 37\ninstead 37\nothers 37\nsocial 36\nhowever 36\nwould 36\nits 36\nhealth 35\nhours 35\nunderstand 35\nweb 35\nfree 35\nspecific 35\nme 34\nback 34\nper 34\nbuilding 33\npart 33\nelse 33\nemail 33\nafter 33\ntraffic 33\nselling 33\nevery 32\nlet 32\norder 32\nactually 32\neasy 32\ntalk 32\nbeing 32\nrelease 32\ncareer 31\nlife 31\ngive 31\nreal 31\ngetting 31\nleast 31\nsell 31\ncompanies 31\nwebsites 31\nhaving 30\nside 30\nm 30\nmeans 30\npossible 30\ncome 30\ndoes 30\nlarge 30\naccount 30\nadwords 30\ntax 29\nlittle 29\nsame 29\nmust 29\nhad 29\nthing 29\noffice 29\nhere 29\noffer 29\nbecause 28\ntoo 28\ndone 28\nlook 28\n___ 28\nideas 27\nmeasure 27\nsuccessful 27\nhome 27\nnever 27\nliving 27\nrun 27\nisn 27\nfull 27\ninitial 27\nsimilar 27\nrelevant 27\ninternet 26\nconsider 26\ncase 26\noften 26\nfamily 26\nanother 26\nset 26\neffort 26\nwhatever 26\nperhaps 26\nlikely 26\nmaking 25\nwhy 25\nlive 25\nresults 25\nusing 25\nweek 25\nbeen 25\ntrying 25\nless 25\ninformation 25\ncare 24\nsundog 24\nincome 24\nsuccess 24\nresult 24\nworld 24\n000 24\ninsurance 24\nright 24\nbuild 24\nprovide 24\nneeds 24\ndata 24\nlaunch 24\ncampaigns 23\nmetrics 23\ngot 23\nanything 23\noff 23\nfeel 23\nalready 23\nus 23\nsay 23\n10 23\nmonths 23\npaid 23\nremember 23\nlater 22\nfocus 22\nlearn 22\npaying 22\nextra 22\nproblem 22\nfound 22\nable 22\nlist 22\nname 22\ndeveloping 21\nquit 21\ncosts 21\nspent 21\nplace 21\navailable 21\ngrow 21\ndown 21\ndifferent 21\nwhether 21\naction 21\nclick 21\ncampaign 21\nhire 20\nattention 20\ndollars 20\nones 20\nterms 20\naround 20\nusually 20\naren 20\nask 20\nterm 20\nsort 20\ncontractors 20\nservices 20\nbenefits 20\nexample 20\nniche 20\nfacebook 20\nlanding 19\ngreat 19\nhour 19\ndevelopment 19\naway 19\nnobody 19\nmaybe 19\npath 19\ntaking 19\nways 19\ncurrent 19\nindustry 19\ndecide 19\ngoal 19\nalways 19\ninvestment 19\ncash 19\nbased 19\nagain 19\naccountant 19\nperson 19\ndoesn 19\nshow 19\nphysical 19\ncom 19\nrisk 18\neach 18\npretty 18\nchange 18\ndevelopers 18\nvalue 18\nmedia 18\nd 18\ndisplay 18\nmonth 18\nstarted 18\nwithin 18\nused 18\nsites 18\nfinancial 17\nhiring 17\nfinding 17\nwrong 17\ncorporate 17\nspending 17\nefforts 17\nlawyer 17\nskills 17\nowner 17\ncoming 17\nexisting 17\nmind 17\namount 17\ntwo 17\nprofit 17\ncontent 17\ninvesting 16\nplanning 16\nnetworks 16\ncreating 16\nworked 16\ndid 16\n50 16\nuntil 16\nprofessional 16\ngiving 16\nthemselves 16\nearn 16\nbelieve 16\nnext 16\noffers 16\nstate 16\ngenerate 16\narea 16\ncontact 16\noffering 16\nreleases 16\nanalytics 16\nwriting 15\ncheck 15\noptimization 15\nhappy 15\nentire 15\nentirely 15\nfreelance 15\nquickly 15\nlow 15\ndidn 15\nyours 15\nbuy 15\nfar 15\nreturn 15\nability 15\nnothing 15\nproblems 15\nfuture 15\nreach 15\nseo 15\nkeywords 15\ncommute 14\nmanagement 14\nrealize 14\ntell 14\nread 14\nbecome 14\nboth 14\neither 14\nrequired 14\nface 14\nrequire 14\noutside 14\nstuff 14\nfigure 14\nfact 14\nestimate 14\naddress 14\nautomatically 14\ntargeted 14\nnews 14\ntrends 14\neffective 14\npages 14\nnet 13\nhappen 13\nengine 13\nmatter 13\nmade 13\nmyself 13\nlower 13\nlonger 13\nenjoy 13\ntoward 13\nensure 13\nquestions 13\ngame 13\nprice 13\n3 13\nunless 13\ntied 13\ndirect 13\nongoing 13\n1 13\npersonally 13\nhuge 13\nitself 13\ndays 13\nyet 13\nput 13\n5 13\nsupport 13\navoid 13\nbad 13\ninterest 13\ncoverage 13\nowners 13\nlooking 13\npurchase 13\nsend 13\ndecision 12\nlicenses 12\nbasics 12\ngrowing 12\neverything 12\nam 12\nneeded 12\nstress 12\nagainst 12\nfreelancers 12\nchance 12\nadvantage 12\nalmost 12\nlimited 12\ncomes 12\nresources 12\nmakes 12\nscale 12\nmove 12\nemails 12\nsense 12\nexperience 12\nbudget 12\ncover 12\nautomated 12\ncommunity 12\nequipment 12\nvaluable 12\nrealistic 12\nopportunity 12\nchannels 12\nnetwork 12\nlinks 12\nlink 12\ntarget 12\ntechnology 11\nfrank 11\nreality 11\nlaunching 11\nact 11\nstatistics 11\nlearned 11\ntoday 11\n9 11\nbasically 11\nresponsibilities 11\nsituation 11\npaycheck 11\nwilling 11\nbound 11\nexpect 11\naverage 11\nseem 11\nearly 11\nbills 11\nrewards 11\nstartup 11\nhigh 11\nrunning 11\nclose 11\ncall 11\ngoals 11\naccounting 11\nservice 11\ncontractor 11\nbetween 11\ninvest 11\nlarger 11\nfront 11\nduring 11\nresearch 11\nsize 11\nsection 11\nsearching 11\ndigital 11\ninterested 11\ntest 11\ntechnical 11\npublications 11\ndirectly 11\nrecommend 11\npatent 11\ncame 11\nhighly 11\nlinkedin 11\nvisitors 11\nocean 11\ninclude 11\ncpa 11\ncountries 11\nkane 10\nlast 10\nbeware 10\nquitting 10\nalong 10\nemployee 10\nalthough 10\ntraditional 10\nemployees 10\never 10\nreceive 10\nperformance 10\nlevel 10\nprocess 10\naccording 10\nlose 10\nstarting 10\nquestion 10\ntraining 10\npromotion 10\nknown 10\nended 10\nexpense 10\nodds 10\nfriends 10\nsince 10\ntakes 10\npr 10\ndepending 10\nanyhow 10\njobs 10\n100 10\nthinking 10\ndeliver 10\nnecessary 10\nexpensive 10\nplans 10\nstop 10\nindividual 10\nmaintain 10\nmonthly 10\ntalking 10\nshort 10\ninvestors 10\nexchange 10\nrelated 10\ncourse 10\nhopefully 10\ngiven 10\nunique 10\npopular 10\ndomain 10\npercentage 10\npurposes 10\nmailing 10\nnames 10\nblog 10\nbanner 10\nmeasuring 9\nalone 9\nboss 9\nreading 9\nbit 9\nultimately 9\nminimum 9\nmanager 9\nstock 9\nstream 9\ntech 9\ndeal 9\nachieve 9\nposition 9\nhouse 9\nviable 9\nanswer 9\n4 9\noption 9\ncollege 9\nfollowing 9\nloan 9\nmeet 9\nhear 9\nincrease 9\nrelationship 9\naffect 9\naccept 9\nquality 9\ndemand 9\nceo 9\nshare 9\nsimply 9\ncreated 9\ncalled 9\nrate 9\ncreative 9\nacross 9\nhappens 9\ninvolved 9\nclients 9\ncannot 9\nsavings 9\nphone 9\nsystem 9\npurchasing 9\ngovernment 9\nmaximize 9\ngoods 9\namazon 9\neasier 9\napply 9\nsometimes 9\ntimes 9\nsaid 9\nhttp 9\nmobile 9\nhe 9\ntext 9\nfraud 9\ntwitter 9\nsecurity 8\nagreement 8\nthree 8\nunder 8\nworry 8\nwrite 8\nanyone 8\nold 8\nleft 8\nrich 8\n2012 8\nunderstanding 8\nreserves 8\ncommon 8\nhaven 8\nbeyond 8\ndevelop 8\nseveral 8\ncredit 8\ntaxes 8\nlean 8\nventure 8\ntook 8\neasily 8\ncar 8\nadd 8\ntend 8\nhigher 8\nopportunities 8\n2014 8\ntop 8\ncomputer 8\nidentify 8\nbank 8\nsuccessfully 8\nchecking 8\nvisit 8\nwww 8\nleave 8\ntasks 8\nstage 8\ngets 8\ncity 8\nsoon 8\nevaluate 8\nuseful 8\nnotice 8\nmission 8\nfeedback 8\nlpo 8\nmatters 8\nform 8\neditors 8\ntriton 8\nuser 8\nmessage 8\nprotection 7\nsafety 7\ndescription 7\nstrategy 7\nkids 7\nsomeplace 7\nmeetings 7\nzero 7\nsave 7\ncontinue 7\nimages 7\nupper 7\nworkers 7\nlots 7\ntrack 7\nupon 7\ninterests 7\neveryone 7\nwants 7\nstay 7\nsingle 7\ngroups 7\ndental 7\nspouse 7\nreason 7\nbunch 7\ntrade 7\nthousands 7\nrequires 7\nenergy 7\nvalley 7\nmention 7\nmarketplace 7\nhalf 7\n8 7\ndescribe 7\nmistake 7\nfund 7\nbet 7\nperiod 7\nfreelancer 7\nearlier 7\nfurther 7\ndesigned 7\nlocation 7\ncompletely 7\ngenerally 7\ndifficult 7\nopen 7\npresence 7\ndedicate 7\ncertain 7\nvideo 7\ngames 7\ndefense 7\nadditional 7\nwordpress 7\nbooks 7\ngeneral 7\nsalesperson 7\nheard 7\nview 7\nstandpoint 7\nflow 7\nengines 7\ncarefully 7\nfollow 7\nmaintaining 7\nok 7\ntaken 7\nsetting 7\ncrucial 7\nturn 7\naddresses 7\norlando 7\nownership 7\nleaving 7\nsdk 7\nappear 7\nleads 7\nstick 6\nunlimited 6\ndependencies 6\nkey 6\nvision 6\nfire 6\nconsidered 6\nknew 6\ncountry 6\nmillion 6\nseeking 6\ncommuting 6\nreward 6\nsaved 6\nshares 6\nscary 6\ncomfortable 6\nforced 6\nconnections 6\ntold 6\nchoice 6\nline 6\ncontrol 6\nstory 6\ncareful 6\nchoose 6\nlost 6\nentrepreneurs 6\nassociated 6\nbenefit 6\nrarely 6\nmarkets 6\nwall 6\ngoes 6\ndepend 6\ndue 6\nfail 6\nrely 6\nexist 6\nsound 6\nrent 6\nsilicon 6\nkind 6\nsale 6\nproviding 6\nconcept 6\nrest 6\nhandle 6\nforms 6\nmain 6\nbasic 6\netc 6\nahead 6\ncontract 6\nmanner 6\npackage 6\nmean 6\ncertainly 6\nsorts 6\nassume 6\ndeductible 6\nsomehow 6\nqualities 6\nproductive 6\nitems 6\npartner 6\ntv 6\nstake 6\nworks 6\nfounder 6\nsole 6\ndistribution 6\nlargely 6\nreasonable 6\ntalked 6\nbase 6\nmessages 6\nexperienced 6\nllc 6\nflight 6\ndesigner 6\nmine 6\nresulting 6\nsending 6\nbecame 6\nboard 6\nseparate 6\nsolve 6\ninitially 6\nglobally 6\nespecially 6\nautomate 6\ntechniques 6\nadvertise 6\nallow 6\nstructure 6\nliability 6\ncomments 6\neffectiveness 6\ncollect 6\nremarketing 6\nhosting 6\nfinally 6\npast 6\nproperly 6\ndetermine 6\nkeeping 6\nmet 6\nusers 6\nurl 6\nbooth 6\nindoctrination 5\npoints 5\ntelling 5\nimportance 5\ntracking 5\navoiding 5\nmeaning 5\nsalespeople 5\nmisleading 5\nfixed 5\nrecommended 5\nrelies 5\ngives 5\ndecisions 5\n2 5\nquite 5\nmodel 5\nsleep 5\nwasn 5\nthought 5\nsaying 5\nknows 5\nexpectations 5\nfocusing 5\nhope 5\ndeveloper 5\nstep 5\ndetails 5\nminimize 5\nfast 5\nrisky 5\nfive 5\nten 5\n6 5\nword 5\nlucky 5\nage 5\ndebt 5\nseems 5\nbuying 5\nbigger 5\nbottom 5\nexclusively 5\nhundred 5\nhonestly 5\nraise 5\nschedule 5\nearning 5\nsounds 5\ngrows 5\nattainable 5\nsignificant 5\nyes 5\nmeetup 5\ncoffee 5\nspace 5\nminimal 5\nareas 5\ncapital 5\nabove 5\notherwise 5\nprofits 5\nhundreds 5\nsustain 5\nproject 5\nremain 5\nactions 5\nhonest 5\nlack 5\n20 5\nends 5\nunited 5\nstates 5\ndealing 5\nsecond 5\nnear 5\nsomewhere 5\nsign 5\nbackup 5\n7 5\ntravel 5\nlunch 5\nsurprised 5\nregardless 5\nfarm 5\nfactor 5\nendeavor 5\nwouldn 5\nour 5\nstatement 5\nworse 5\nvary 5\nnumbers 5\npositive 5\ntask 5\nhand 5\ncommunication 5\ncases 5\nseek 5\noculus 5\nremind 5\nowned 5\ndiscussed 5\nreview 5\nconversions 5\noutsource 5\nrespond 5\nwhenever 5\nglobal 5\nclouds 5\nsimulators 5\n300 5\nobtain 5\nstorefront 5\nwent 5\nmail 5\nreceived 5\nincubator 5\ncompete 5\nnon 5\ncompetition 5\ntopic 5\nwritten 5\nturning 5\nprototype 5\nspare 5\ncreatively 5\nwaste 5\nfill 5\ndiscover 5\ntools 5\neconomic 5\nsimulation 5\ncompeting 5\nhuman 5\nstarts 5\ninteresting 5\nletter 5\ntrolls 5\nfees 5\nparagraph 5\ncater 5\nincluding 5\nitem 5\nfeatures 5\ncounty 5\nideally 5\nappropriate 5\nforums 5\nlists 5\nevaluation 5\nagreements 5\nfocused 5\nconversation 5\nnegative 5\narticles 5\nprepared 5\nflorida 5\ntotal 5\nlaunched 5\nvisited 5\npost 5\npublish 5\nplacement 5\nwhole 5\nlocally 5\nallows 5\nprogram 5\ndevices 5\nimage 5\nheadline 5\nmass 5\nplacements 5\npublication 5\nworthwhile 5\noptimizing 5\nvarious 5\nenglish 5\ngroup 5\nimpressions 5\nrelatively 5\nsells 5\nrank 5\nlets 5\nreferrer 5\nhis 5\n2015 4\nworldwide 4\ncarrot 4\nflowchart 4\nassessment 4\nquiz 4\ndesigning 4\nstudy 4\nevaluating 4\ndefinition 4\nfinal 4\npublic 4\nrelations 4\nclosing 4\neffect 4\nletting 4\ntells 4\nadventure 4\nago 4\namerican 4\nsupposed 4\nfelt 4\nfaced 4\neat 4\nretirement 4\nsalary 4\nfamiliar 4\nindividuals 4\nmotivated 4\nreport 4\nforces 4\nleap 4\nrules 4\nlabor 4\nsurvive 4\nthird 4\nfinancially 4\nmanaged 4\nstrong 4\nresponsible 4\nauthority 4\nfired 4\nbusy 4\nsteady 4\nforward 4\nmorning 4\ndeveloped 4\nbecoming 4\nthrow 4\ncompare 4\ntrust 4\nco 4\ndegree 4\ngamble 4\nexperiences 4\nalongside 4\nguess 4\nimpact 4\narrange 4\nunemployment 4\nrequirements 4\nnarrow 4\ntrick 4\nwisely 4\naccess 4\nexciting 4\nindependently 4\ndedicated 4\ncontinues 4\npays 4\nwide 4\ngain 4\naccomplish 4\nprojects 4\nparts 4\nreplace 4\nteam 4\nhang 4\nminutes 4\nmaintenance 4\nplaces 4\nengineer 4\nchanges 4\nmoving 4\nsky 4\nanywhere 4\nshowed 4\nflexibility 4\nhandled 4\nworthless 4\npool 4\nmental 4\ndepth 4\ntitle 4\n40 4\nbreak 4\ndiscipline 4\nspecifications 4\nextremely 4\nstyle 4\nhelps 4\nfavor 4\nbill 4\ncontracts 4\ntrouble 4\ncollecting 4\nreaders 4\npremiums 4\nprovided 4\noffered 4\ngov 4\npocket 4\ngotten 4\ncount 4\nputting 4\nquickbooks 4\nreliable 4\nnotes 4\nmentioned 4\nobjective 4\nstartups 4\narticle 4\nsold 4\nacquired 4\ncontrast 4\npurpose 4\nlove 4\noptions 4\ninvolve 4\nmodern 4\nplus 4\nbecomes 4\nremotely 4\npresent 4\nfit 4\nafford 4\ninvolving 4\ncraft 4\nspecializes 4\noceans 4\nlicense 4\nmajority 4\nmanufacturing 4\ndemos 4\ntrial 4\nsource 4\nengineers 4\noptimize 4\nresponse 4\nefficient 4\nrather 4\ndecent 4\nweird 4\nproducing 4\ndrop 4\nindustries 4\nsaw 4\ncourses 4\ncreation 4\namong 4\nsolving 4\nsearched 4\nexcited 4\nkeeps 4\nproduce 4\nkeyword 4\ntool 4\ncompetitors 4\ncompetitive 4\ncold 4\nsystems 4\nprotect 4\nunlikely 4\ninfringing 4\nsearches 4\nformat 4\ndifference 4\ndrives 4\nactive 4\nposts 4\nprospects 4\nsimple 4\nshowing 4\ncalls 4\narmed 4\naware 4\nactual 4\nsubject 4\nidentifying 4\nchina 4\ndetailed 4\nsignificantly 4\nwidely 4\nquarter 4\nclicking 4\ndriving 4\nissue 4\nleading 4\npush 4\nchannel 4\nexpected 4\nupdate 4\nvisits 4\ncouple 4\nexecute 4\nsigned 4\nretain 4\nbelongings 4\nbuilt 4\nbasis 4\nconversion 4\nplatform 4\nclear 4\nchallenging 4\nrift 4\ngaming 4\npick 4\nfollowed 4\nspeak 4\nconvert 4\nshown 4\nviews 4\ndesign 4\ntogether 4\nfake 4\nbring 4\nlead 4\nspam 4\nmailchimp 4\ndiscussions 4\nsurge 4\n2011 4\ncopyright 3\nrights 3\nfear 3\nfailure 3\nego 3\nintroducing 3\nideal 3\nobtaining 3\ntrigger 3\nchecklist 3\nsustainable 3\nstories 3\ntalents 3\nresponsibly 3\npossibility 3\nhappened 3\nresponsibility 3\nlived 3\nsenior 3\naccepted 3\nminimizing 3\nrisks 3\nproposition 3\ntransition 3\nbarriers 3\nbrings 3\nproper 3\nworkplace 3\nworst 3\nentrepreneurship 3\nbureau 3\nadministration 3\nshows 3\n22 3\nstrongly 3\nagree 3\nrepresent 3\n2010 3\nrange 3\nmillions 3\nworthy 3\ntaught 3\nschool 3\nparents 3\nalternatives 3\nmortgage 3\nstudent 3\nfeed 3\nstressful 3\nimprove 3\npromising 3\nequity 3\nvesting 3\nacquisition 3\nannual 3\nsmart 3\ncompared 3\npeers 3\nabilities 3\nharder 3\nhit 3\nearns 3\nasking 3\nc 3\nsmaller 3\nimportantly 3\ndaily 3\ninteraction 3\nshop 3\nshared 3\nlegal 3\nfunded 3\nunlike 3\neffectively 3\n90 3\nminute 3\nearnings 3\nstreams 3\nlimit 3\nprofitable 3\ngenerates 3\namass 3\nportion 3\ncorporation 3\nyield 3\nconfident 3\naccident 3\nbedroom 3\namazed 3\ndrain 3\ncurrently 3\nwasted 3\ndepends 3\nwherever 3\nstandard 3\nshouldn 3\nemployers 3\nconnection 3\nplanet 3\n46 3\ndrive 3\n11 3\nachieved 3\nexactly 3\ntrue 3\ntempting 3\ncause 3\nfield 3\ncode 3\nconventional 3\nensuring 3\ntruly 3\ndecrease 3\ntesting 3\nadding 3\nstatements 3\ntimely 3\nsake 3\nsucceeds 3\nsurrounding 3\ncomplicated 3\nplanned 3\noffset 3\naddition 3\nresponsive 3\nmanage 3\naugment 3\nmissing 3\ncatch 3\nobvious 3\nevolve 3\nofferings 3\nexpectation 3\namounts 3\nfailed 3\nageism 3\nfunding 3\npaperwork 3\nbeauty 3\nlosing 3\ninside 3\nclient 3\nthroughout 3\nkinds 3\nfreelancing 3\nexact 3\nties 3\nempty 3\neffects 3\nsimulator 3\ndownload 3\nprospective 3\nliterally 3\ncommercial 3\nnote 3\nsurprisingly 3\nprices 3\nregular 3\nreplicate 3\nrestricted 3\nlasted 3\nreplicated 3\nallowing 3\nmetric 3\nconnect 3\nexpertise 3\nunderserved 3\nplatforms 3\nart 3\npotentially 3\nwatch 3\nencounter 3\neventually 3\neliminate 3\nhourly 3\nbehind 3\nsizes 3\nbillion 3\nprimarily 3\nprofessionally 3\nsteps 3\nhate 3\nintellectual 3\nproperty 3\ninadvertently 3\nproposed 3\nconfused 3\npeoples 3\npatents 3\nclarity 3\npower 3\nvirtual 3\nleverage 3\nextend 3\ndetail 3\nanalysis 3\ntype 3\nsolves 3\nmeasurement 3\nlisten 3\nupdates 3\neric 3\ncovers 3\napproach 3\ncheap 3\npermits 3\nlevels 3\nestimates 3\nradio 3\ntread 3\nquick 3\ntouch 3\nmath 3\ncapture 3\npenetration 3\ninformed 3\nresist 3\ntemptation 3\nensured 3\ndig 3\nencouraging 3\n62 3\ninterview 3\nnight 3\npolish 3\nafraid 3\ndouble 3\naspect 3\nseen 3\ntrademarks 3\nencourage 3\nirs 3\ncontracting 3\nincludes 3\nfairly 3\nsoft 3\ndistracting 3\nversion 3\nlivelihood 3\nlanguage 3\npre 3\nready 3\nnecessarily 3\nsafe 3\npublicity 3\nmonitor 3\npublicly 3\nmerit 3\ntargets 3\neye 3\nprescriptions 3\nviewed 3\nseattle 3\nresignation 3\npurchased 3\naspects 3\nlearning 3\nincubation 3\ncommission 3\ncities 3\nuniversity 3\ncentral 3\nmoment 3\nburn 3\nformer 3\ngenuinely 3\nwalk 3\naccompanied 3\nincluded 3\nreputation 3\ntips 3\ngrabbing 3\nreferrals 3\naccordingly 3\ntablet 3\nperform 3\nmilitary 3\nheadset 3\nagilesrc 3\nannouncement 3\ntwofold 3\nbroad 3\ninstall 3\nplugin 3\nbelow 3\npaper 3\nparticipate 3\nreferred 3\ndownloading 3\ninexpensive 3\ncharge 3\napp 3\nadvertiser 3\ntargeting 3\nclicks 3\nclicked 3\nextensions 3\nknowledgeable 3\nwaters 3\nbargain 3\ngenerated 3\ntrained 3\nlikes 3\nfarms 3\nsent 3\ntitles 3\ncareers 3\nmoz 3\nresource 3\nbutton 3\nwary 3\nreaching 3\nconstant 3\nannouncements 3\nnoise 3\nsessions 3\nring 3\ncrm 3\neconomy 3\ncouncil 3\ndummies 3\noutsourcing 3\nweekend 3\nguilty 3\naaron 3\nmichal 3\n27 3\nreserved 2\ndisclaimer 2\npreface 2\novercoming 2\ninertia 2\nblanket 2\nii 2\nfallacy 2\norganization 2\nnaming 2\nmitigation 2\npulling 2\niii 2\nfueling 2\noffline 2\ninterpreting 2\npitfalls 2\nleeches 2\npressure 2\ncompounding 2\nadapting 2\nsurvivor 2\nguilt 2\nschedules 2\nacknowledgments 2\nauthor 2\nimproved 2\nluck 2\nthoughts 2\nseemed 2\nhardly 2\nprescription 2\naids 2\nextreme 2\nweren 2\nduty 2\nprovider 2\ngrants 2\ncloser 2\nanymore 2\nexecutive 2\nartificial 2\nreviews 2\nlay 2\nexcept 2\ntrapped 2\nsociety 2\nsufficient 2\neasiest 2\nstriking 2\ntherefore 2\n29 2\nnecessity 2\nflowing 2\narm 2\nreasons 2\novercome 2\nputs 2\nfood 2\ntable 2\nhead 2\nreliably 2\neducated 2\ncalling 2\nbls 2\nstatistic 2\nworkforce 2\nhousekeepers 2\nconstruction 2\ndoctors 2\nfancy 2\neducation 2\nwaking 2\nsomebody 2\nricher 2\nraised 2\nexternal 2\nbiggest 2\nbarrier 2\nmember 2\nprecisely 2\npushed 2\nloyalty 2\nmeanwhile 2\npicked 2\ndemands 2\nhelplessness 2\nbreaking 2\nawarded 2\nincreased 2\nwin 2\nsum 2\nbankers 2\nbehave 2\nbehavior 2\nslice 2\nturns 2\nstaying 2\nserve 2\ndirector 2\nintentionally 2\nprevent 2\ninequities 2\ndependent 2\nwealth 2\nsituations 2\nconnected 2\nmoved 2\nfriend 2\njoin 2\ncontribute 2\nmedicare 2\ndeals 2\nlicensing 2\nhonesty 2\nintimidating 2\nwear 2\nprofessionals 2\nincubators 2\ngovernments 2\nexperts 2\nperceived 2\ncovered 2\n55 2\ndoubled 2\ngave 2\nlens 2\nactivity 2\ndevote 2\nendeavors 2\nbeneficiary 2\nscales 2\nexceeds 2\nworried 2\nexecutives 2\nstreet 2\nstraight 2\ndisciplines 2\npicture 2\nteams 2\n41 2\nengineering 2\nproved 2\nunnecessary 2\ndecided 2\npolitics 2\nstands 2\ncosting 2\nautomobile 2\ndisturbing 2\ndie 2\nkill 2\nsitting 2\ncensus 2\nspends 2\nbus 2\neliminating 2\nunfortunately 2\nconcentrated 2\ncalifornia 2\nhousing 2\nlimiting 2\nestablished 2\nhawaii 2\nworker 2\nglobe 2\nzone 2\nmeaningless 2\nroom 2\ndoctor 2\noccasional 2\nconstruct 2\nrelax 2\ntradeoffs 2\nferriss 2\nhyperbole 2\nhandling 2\nvacation 2\npowerlessness 2\nuniversal 2\nprey 2\ncomplete 2\nrestrictions 2\nguide 2\nmeeting 2\ndiving 2\nlikelihood 2\nstand 2\nstore 2\ncrazy 2\nparticular 2\nbust 2\nprove 2\nsupportive 2\npayments 2\nbonus 2\ninvoices 2\nbillable 2\nuncle 2\nbob 2\ncards 2\nlaws 2\nchanging 2\npolitical 2\nsubsidies 2\ncheaper 2\nhealthcare 2\npremium 2\nbother 2\nincur 2\nmedical 2\nfactored 2\nrevisit 2\nresponses 2\nchosen 2\nconsistently 2\nexamples 2\nskill 2\nfinish 2\nignore 2\ntuning 2\nscore 2\npossess 2\nindependent 2\nwhom 2\nguarantee 2\nembark 2\nforget 2\nacquire 2\nrefine 2\nexplore 2\nshark 2\ntank 2\nultimate 2\n2013 2\nwisdom 2\ncapitalists 2\nrare 2\nshoestring 2\nriches 2\nattract 2\nridiculously 2\nwomen 2\nsexism 2\nyoung 2\nfounders 2\nfair 2\nfunds 2\nexception 2\nemploys 2\nmanaging 2\nindefinitely 2\noptimized 2\nbootstrap 2\npayoff 2\nloans 2\nleaves 2\nbootstrapping 2\noutlay 2\ntemporary 2\npenny 2\nrelying 2\nsuppliers 2\ntying 2\nphysically 2\ntheme 2\nwasting 2\nfiguring 2\nconsidering 2\nproduced 2\ncaution 2\nchoosing 2\nfine 2\ndeeper 2\nmotivates 2\nchoices 2\nskies 2\naerospace 2\nenthusiasts 2\nvast 2\nfix 2\nshipping 2\ncard 2\nversions 2\nhobby 2\nearned 2\nmoonlighting 2\nthough 2\nhelping 2\nresulted 2\ncircumstances 2\ndevoting 2\ncomfortably 2\nnewsletters 2\nstopped 2\ncomplex 2\ncompetitor 2\ncontracted 2\nwanted 2\npile 2\nwaiting 2\nadvisors 2\nseamlessly 2\nstaff 2\nebay 2\netsy 2\nserved 2\ndistributing 2\nfee 2\nimagine 2\nchallenge 2\nincreasingly 2\ncoursera 2\nudemy 2\ninstructional 2\nvideos 2\nfits 2\npressed 2\noriginal 2\nleaning 2\nvalidates 2\nwish 2\n3d 2\nsolutions 2\nestimating 2\nx 2\ngrossly 2\noverestimate 2\nshell 2\nprojections 2\nscience 2\nbudgets 2\nconsideration 2\nlight 2\norders 2\nmaximizing 2\nrecent 2\napplication 2\nleveraging 2\namateur 2\napart 2\ntrademark 2\ndatabase 2\npatented 2\nmeaningful 2\ntechnologies 2\nimproving 2\nserves 2\nsections 2\ncountless 2\nalternative 2\nmodels 2\nsecrets 2\nhal 2\nshelton 2\nplay 2\nmeasurable 2\nclarify 2\nlooks 2\nconvince 2\napprove 2\nhugely 2\nreports 2\nbelong 2\nfeature 2\nconsumers 2\nunnecessarily 2\nmvp 2\nries 2\nconsumer 2\nannouncing 2\nadvertisements 2\nwindfall 2\nrafi 2\nmohammed 2\nprecise 2\ndetermining 2\ntransaction 2\nsubscription 2\npayment 2\nremoves 2\ncreates 2\nissues 2\ntreat 2\ncomplexity 2\nstages 2\ntried 2\ntaxable 2\nreputable 2\naccountants 2\nlawyers 2\nspecialize 2\nrefer 2\nfrequent 2\ncommitment 2\ncongregate 2\nranking 2\nmagazines 2\ntelevision 2\nnewspapers 2\ndefined 2\nenvelope 2\nspreadsheet 2\nestimated 2\nmouth 2\nspread 2\ncomputers 2\naccounts 2\nkeen 2\nmentally 2\npolicies 2\ncopies 2\ncopy 2\nprovision 2\ncommonly 2\ninvolves 2\nassumption 2\nseries 2\nhanging 2\nwait 2\nexplain 2\nprecious 2\nmeets 2\nrefining 2\nmanufacture 2\nminds 2\nfederal 2\nwhoever 2\ndomains 2\nvariants 2\nhostage 2\nconsultation 2\nclean 2\nmess 2\nfiling 2\nw2 2\nrealistically 2\ndeductions 2\ncontains 2\nbookkeeping 2\nteach 2\nhim 2\nactivities 2\nhands 2\nannounce 2\ndefine 2\nvariable 2\nprevious 2\nrefinement 2\nbear 2\nticket 2\nbehalf 2\nthankful 2\nkept 2\nprivate 2\nemergency 2\nanalyze 2\ndisability 2\ncarry 2\npractical 2\nregion 2\ndiscount 2\ncleanings 2\nglasses 2\nperiodic 2\ntotally 2\ngap 2\ntemporarily 2\nprojected 2\nslow 2\ndirection 2\nsuffer 2\nmajor 2\nauto 2\nimpossible 2\nenter 2\ntransitioning 2\nshake 2\nreached 2\nprograms 2\ngospel 2\nhorror 2\ndisappears 2\nexplicit 2\ncopyrights 2\nexams 2\nnature 2\narms 2\ngrown 2\ngone 2\nexperimenting 2\nappeal 2\nfeelings 2\nbonuses 2\nraises 2\nthrowing 2\ndesk 2\nbox 2\ngather 2\nchaos 2\nwrap 2\nprior 2\ncobra 2\nexit 2\nfeels 2\nexposure 2\nprofiles 2\nadapt 2\nseconds 2\nintegrated 2\nmodify 2\nlibrary 2\nplugins 2\nnavigation 2\nlightly 2\nadjust 2\npoor 2\nscroll 2\ntrend 2\nlately 2\ngeared 2\ninsert 2\nseas 2\ndepicting 2\nwave 2\npresented 2\nimmediately 2\npark 2\norange 2\nxxx 2\nsilverlining 2\nvisual 2\nunderneath 2\nbody 2\nprefer 2\nsubmitting 2\ntoot 2\nhorn 2\nsubmission 2\ngeographical 2\neditor 2\ndpi 2\nprinted 2\ntailor 2\nspeaking 2\nestablish 2\nrepresentatives 2\ndollar 2\nawareness 2\nconfigure 2\ncache 2\nconvention 2\nwhite 2\nguest 2\nbid 2\nadsense 2\nparty 2\ntie 2\nproxy 2\ngeographically 2\ndefault 2\npc 2\ntablets 2\nscreen 2\napps 2\nseparately 2\nban 2\nembargoed 2\nincreases 2\ntab 2\nemerge 2\nmatch 2\nalgorithms 2\nmatching 2\nautomatic 2\nstrategist 2\ndefinitely 2\nsplit 2\nremnant 2\naccustomed 2\nfresh 2\nintegrate 2\ngraphic 2\ndemographic 2\nslices 2\nescape 2\nsophisticated 2\noriginating 2\nfilter 2\niraq 2\ninstagram 2\nmagazine 2\nexperiment 2\ngathering 2\nattendees 2\ndemo 2\nsmartphone 2\nnetworking 2\nrankings 2\npractices 2\norganic 2\nsharing 2\ntyped 2\nbar 2\ndescribing 2\ntags 2\nheaders 2\nwebmaster 2\nessentially 2\nsays 2\nvisitor 2\nmenu 2\nclearly 2\nharm 2\nrelevance 2\nsubscriber 2\nspammer 2\nsubscribers 2\ntypos 2\nposting 2\nfollowers 2\nincredibly 2\nconsuming 2\ndiscovered 2\nintegration 2\nchanged 2\nindicate 2\ndropping 2\nmalicious 2\nbalance 2\nsources 2\ninfluence 2\ndigging 2\nevents 2\npolluted 2\ndespite 2\nreminders 2\nnudge 2\npredators 2\nrecently 2\npartners 2\nknowledge 2\ncut 2\nvariation 2\nautomating 2\ndecline 2\naccomplishing 2\nmostly 2\n75 2\ngloating 2\npm 2\nfilling 2\nthank 2\nwife 2\ndaughters 2\nimdb 2\nreuters 2\ncrash 2\nforbes 2\nniosh 2\n99 2\n101 2\nachieving 1\ncontents 1\npreparation 1\nskillset 1\ndetermination 1\nconfidence 1\nstrike 1\nblame 1\ndevoted 1\ncommuted 1\ncomplaint 1\nrewarded 1\nrole 1\nmarriage 1\ncombat 1\nsecondary 1\nultimatum 1\nweeks 1\nwalked 1\nmatches 1\nnor 1\nrequirement 1\n43 1\nbroke 1\ngloat 1\nheart 1\nattack 1\n65 1\nretire 1\nsmarts 1\ntenacity 1\ndiscarding 1\nbold 1\npsyche 1\nrebel 1\nmagnitude 1\njustify 1\nsurprising 1\nfell 1\nlaid 1\ndownsized 1\nimagined 1\npursuing 1\nroof 1\nstarving 1\nforeclosed 1\nreturning 1\nprototyped 1\nproven 1\nquits 1\nsba 1\ntenure 1\nsecure 1\n28 1\nmoderately 1\namericans 1\nrepresenting 1\n14 1\nfringe 1\ninternal 1\nreligious 1\ncults 1\nbrainwashing 1\nbeliefs 1\nquestioning 1\ninstill 1\nyouth 1\ngrew 1\nteachers 1\ngrades 1\ngraduated 1\nabsorbed 1\nculture 1\npromotes 1\nindoctrinated 1\nlanded 1\nchildren 1\nterrifying 1\nbarely 1\nmouths 1\nfulfill 1\nthrust 1\nfoam 1\ncup 1\nramen 1\nnoodles 1\ndesire 1\nalternate 1\npaths 1\ncommensurate 1\nstruggling 1\nspin 1\nbanking 1\nimpacts 1\nmaterially 1\nrationally 1\ntiny 1\nproceeds 1\nanswered 1\naversion 1\nawards 1\nwondered 1\nchasing 1\nproverbial 1\ndoubting 1\nthrived 1\ndead 1\ndifficulty 1\npromoted 1\nlobbying 1\nquantify 1\nmitigate 1\nsuite 1\nattaining 1\nmillionaire 1\nliked 1\nrespected 1\nformed 1\nbonds 1\npresident 1\nrespect 1\nguts 1\nmiles 1\nminded 1\nmultiple 1\nfilled 1\naccomplishments 1\nwithhold 1\nspecialist 1\nmarketer 1\nparalegal 1\narranging 1\nhassle 1\nswitch 1\nsuper 1\ncheapest 1\nhats 1\ncss 1\nsimilarly 1\nhopes 1\nhappier 1\npassive 1\nbeautiful 1\ndisproportionate 1\nsmarter 1\npromote 1\nratio 1\npresumably 1\nfaceless 1\nfruits 1\nreturns 1\n401 1\nk 1\ncooperation 1\ncommitted 1\nde 1\nprioritize 1\nwarning 1\nteammates 1\nderail 1\nfrustrating 1\nfailing 1\ninaction 1\n20081 1\n68 1\nhinges 1\nfault 1\nscrew 1\nscares 1\nmile 1\nyears2 1\n17 1\nyears3 1\nlifetime 1\nkilled 1\nmotor 1\nvehicle 1\n1124 1\ninjury 1\ndraining 1\nhallway 1\nrush 1\nkiss 1\ngoodbye 1\nrelaxing 1\nrecharging 1\nhobbies 1\nreliever 1\ngas 1\nparking 1\ntolls 1\nfares 1\nchances 1\nsan 1\njose 1\narea5 1\n49 1\naverage6 1\nsix 1\naustin 1\ntexas 1\ndiscretionary 1\ndo7 1\nnicer 1\nconducted 1\ndesirable 1\nopens 1\nkick 1\ntropics 1\nmetropolitan 1\nhouses 1\nlawn 1\nmanageable 1\nreaches 1\ndisposal 1\nfiji 1\nzealand 1\ndream 1\ngallup 1\npoll8 1\n18 1\n60 1\ndictate 1\nlate 1\nconvenient 1\nfreeing 1\ncalendar 1\nappointment 1\ncatching 1\nconcert 1\naward 1\npresentation 1\neight 1\narbitrary 1\nfatigued 1\nassistants 1\ntim 1\nfour 1\ninquiries 1\nbatched 1\ndirecting 1\nvacations 1\nethic 1\ndividends 1\nrated 1\nrespondents 1\nmyth 1\nopposite 1\npsychological 1\nassociation 1\narises 1\ntimeframe 1\nfeeling 1\npowerless 1\ndepression 1\ntraveling 1\ncompanions 1\nhopelessness 1\nalter 1\ncenters 1\ndisease 1\ncontrol10 1\ncomplaints 1\nwelcome 1\nprogrammer 1\nconform 1\narchitecture 1\nartist 1\ndress 1\nwardrobe 1\nframe 1\nenvironment 1\nunbounded 1\nserious 1\nassess 1\nundertaking 1\nguarantees 1\nexercises 1\nchapter 1\nunimaginably 1\nbadly 1\ncushion 1\nbetting 1\ndevice 1\nassuming 1\nlegwork 1\nburning 1\nwithdraw 1\npenalties 1\ncell 1\ntighten 1\nbelt 1\nmultiply 1\nlooming 1\nrefund 1\nspins 1\nsaddled 1\ndepleted 1\ngod 1\nmax 1\navoided 1\nseverance 1\ndeciding 1\npassage 1\naffordable 1\nobamacare 1\nfriendlier 1\nsubsidizes 1\nu 1\nconservative 1\nsticker 1\nshock 1\nangry 1\nlaw 1\npesky 1\nprudent 1\nhorribly 1\ntrip 1\nhospital 1\nscientific 1\nmerely 1\ncollection 1\nessential 1\nfinished 1\nunfinished 1\nvoice 1\nmails 1\noverwhelmed 1\ndistractions 1\nmonitoring 1\npull 1\nmotivate 1\n0 1\nchild 1\naggregated 1\nrunaway 1\npartnering 1\npossesses 1\nimplicitly 1\ndetermined 1\nrough 1\noutlook 1\nvariety 1\ndiversify 1\nmoleskine 1\nnotebooks 1\nlearnings 1\nrevisiting 1\ncontinually 1\nemploying 1\ngestating 1\npursue 1\nobjectives 1\ntends 1\nattempt 1\noffsets 1\n93 1\ntouted 1\ny 1\ncombinator 1\naccelerator 1\ninsider11 1\nconsistent 1\nlosses 1\nacqui 1\nhires 1\ntalented 1\napple 1\nawesome 1\nwhatsapp 1\noutrageous 1\nslim 1\nhappening 1\nyork 1\nmale 1\nbrutal 1\nrepublic 1\nhell 1\nageist 1\nsexist 1\ninc 1\n212 1\nenergetic 1\nhappily 1\nhopeful 1\nsubside 1\ndrawn 1\npersist 1\nbegin 1\nminority 1\nbillionaire 1\nastute 1\nexists 1\nrestaurants 1\nbarber 1\nshops 1\ncleaners 1\nlandscapers 1\nroofing 1\ncrafts 1\nimported 1\nbillions 1\nsurrounded 1\nlandscaper 1\nrestaurateur 1\nfullest 1\nproduction 1\nbacked 1\ncollateral 1\ncrowd 1\ncongress 1\nshutdown 1\narcane 1\nregulations 1\nabsolutely 1\nsalon 1\ntahiti 1\noversight 1\nreclaiming 1\nsuburbs 1\ncounts 1\nviolates 1\ntenet 1\nsupply 1\nbatch 1\nwindow 1\nremains 1\nsupervision 1\nincorrectly 1\nsticking 1\ntrading 1\ncompensate 1\nmom 1\ndad 1\nshots 1\nstrings 1\nadvise 1\nadmittedly 1\ncentered 1\nrevolve 1\nrelationships 1\nmembers 1\nwarm 1\nbeachside 1\ncaf 1\nportable 1\nreplaced 1\nreflects 1\nadvantages 1\ngraphics 1\nenvironmental 1\nbugs 1\nlinear 1\ninteracting 1\nrealized 1\nremarkably 1\ngenerous 1\nregards 1\nlaying 1\nclaim 1\nupset 1\njeopardy 1\nplaying 1\nproof 1\nblinks 1\n150 1\nparanoia 1\ndepleting 1\ndelivering 1\nscope 1\noccasionally 1\nartists 1\noffices 1\nspec 1\npreserved 1\nimmediate 1\ne 1\nnorm 1\ncommunicate 1\npreserving 1\nnewly 1\ninterviewing 1\nbinding 1\ndelivers 1\nhandedly 1\nprevented 1\nneeding 1\npassionate 1\nmerchandise 1\ncommodity 1\nelectronics 1\nretailer 1\npopularity 1\nmagic 1\nweekends 1\nangie 1\nmarketplaces 1\neducational 1\nstumble 1\npublishing 1\nvampire 1\nromance 1\nnovel 1\ntuition 1\nassembly 1\ninstructors 1\nscouring 1\nfairs 1\npainting 1\nartisans 1\ntastes 1\nextensible 1\nnone 1\nguaranteed 1\nlegs 1\njuices 1\nsubscribe 1\ntechcrunch 1\nragged 1\nconjure 1\nvigilant 1\nunsolved 1\nunavailable 1\nevaluates 1\nfrees 1\nviolate 1\nmanufactured 1\nbilled 1\nquantity 1\nobservation 1\ndeep 1\npockets 1\nalexa 1\noverall 1\nniches 1\ndifferentiate 1\nconsume 1\nunto 1\neducate 1\nintelligence 1\nplenty 1\ndisposable 1\ninsulating 1\ncrises 1\nstagnant 1\ncanada 1\neurope 1\nasia 1\neverywhere 1\ndemographics 1\nobligation 1\nseven 1\nborn 1\nserving 1\nprovisional 1\ndefend 1\nlends 1\ninsurmountably 1\nstolen 1\npirates 1\npirate 1\nruined 1\nthousand 1\nchump 1\nriskier 1\ngaining 1\ntraction 1\nroad 1\nsued 1\nflipside 1\nprotecting 1\ntrademarked 1\nbasing 1\ncease 1\ndesist 1\ntroll 1\nextorting 1\nextort 1\nnotable 1\nexceptions 1\nuniloc 1\nsuit 1\nlaminar 1\npatenting 1\nfigured 1\nsanity 1\nreact 1\nreaction 1\ndeviate 1\ngeneration 1\nexamine 1\nshirt 1\nsuccinct 1\nimmersive 1\noutdoor 1\nworlds 1\nentertainment 1\nexpansion 1\nwasteful 1\nuncertain 1\nknowing 1\npopulation 1\nlazy 1\noverstated 1\ndiscuss 1\nshrinking 1\norganizations 1\nmembership 1\nlandscape 1\nhomework 1\ncritique 1\ncreep 1\ncram 1\ndelay 1\ncomplicate 1\ninform 1\ntalks 1\napplies 1\nequally 1\npricing 1\narriving 1\napproaches 1\noptimal 1\nregarding 1\nproprietor 1\nentity 1\ntreatment 1\nvaries 1\nunexpected 1\ndealt 1\ncommerce 1\nopening 1\nconcerns 1\ntheft 1\nbuilds 1\nnurturing 1\npowerful 1\nflyers 1\npostcards 1\nfashioned 1\noverlooked 1\nrule 1\nnotoriously 1\nvisiting 1\nprod 1\ncompleting 1\nsalesman 1\nharass 1\ncave 1\noutdated 1\ntransactions 1\nmultiplied 1\nmature 1\npersonnel 1\nfurniture 1\nsubscriptions 1\nseparated 1\ntransfer 1\n70 1\nfudge 1\ndictates 1\noverly 1\noptimistic 1\npleasant 1\nsurprise 1\nman 1\nfinances 1\nconflict 1\nshift 1\nexcitement 1\nchecked 1\ndefeats 1\nbreathe 1\nadmitting 1\nentering 1\nworded 1\nvague 1\nopinion 1\nconflicts 1\ncompetes 1\nsubsequent 1\ndebate 1\nenforceable 1\nuncomfortable 1\nviolated 1\nfax 1\nmachine 1\nlogs 1\nfool 1\nlimits 1\nhacking 1\nunproven 1\nwonderful 1\nreacts 1\npainful 1\nwatching 1\ncat 1\nbinging 1\nlatest 1\nhot 1\nclasses 1\nhousehold 1\nchores 1\nbars 1\ndelegated 1\ndiligent 1\nsustained 1\ngrumpy 1\nasleep 1\ndisrupted 1\ndistract 1\nmethodology 1\ndescribes 1\ncult 1\nstatus 1\nconversations 1\nproficient 1\nawake 1\nmantra 1\nassed 1\nreleasing 1\nesthetically 1\ndistasteful 1\nlacked 1\nstraightforward 1\ncloud 1\naws 1\nscaling 1\ngarage 1\nmanufacturer 1\nalibaba 1\noverseas 1\nmanufacturers 1\nneomek 1\nvolume 1\nendorsement 1\nbrainstorm 1\nenlist 1\njudging 1\nbrainstorming 1\nspell 1\nmemorable 1\nregistered 1\ngodaddy 1\navailability 1\nabbreviation 1\nhyphenation 1\nsquatters 1\nhold 1\nproprietorship 1\nsplitting 1\nincurred 1\n125 1\nreceipt 1\n82 1\nmunicipality 1\n500 1\nobtained 1\nhall 1\ntrades 1\nelectricians 1\nidentification 1\nfein 1\nr 1\nhelped 1\ndifferently 1\nrecommends 1\npayroll 1\nstresses 1\nrelative 1\nreporting 1\ntrips 1\nutility 1\nrepairs 1\nreceipts 1\nissuing 1\nvalidation 1\nsplash 1\nsubset 1\ngeographic 1\nextrapolate 1\nspinning 1\nbots 1\ndeeply 1\nnuance 1\nversus 1\nsunk 1\ncalculating 1\nhelpful 1\nrepresents 1\ntactful 1\ney 1\nanticipate 1\nhurting 1\niterate 1\ntranslates 1\ncontinuing 1\norganically 1\nburst 1\ndies 1\nnormal 1\ncycle 1\nrecommending 1\nannounced 1\nmentions 1\nalerts 1\nharsh 1\ncriticism 1\nconstructive 1\nreacting 1\ninflammatory 1\nnoticed 1\naccomplishment 1\nvote 1\nwallets 1\noverwhelmingly 1\ndamage 1\ninadequate 1\nconstrained 1\nquiet 1\npublicizing 1\nsilly 1\nplacing 1\npizza 1\ndelivery 1\nswat 1\nalleged 1\nidentity 1\ncongratulations 1\nseriously 1\nproud 1\ntolerance 1\nentrepreneur 1\nbenefits12 1\nfactoring 1\nstrategies 1\ncorp 1\nsubsidized 1\nparticipating 1\ndentists 1\nbraces 1\nrays 1\nsurprises 1\ncropping 1\npair 1\nlenses 1\nexam 1\nabstract 1\noh 1\nhealthy 1\nbudgeting 1\nmedication 1\ndurable 1\nreplacement 1\nauthorize 1\nrefills 1\nrecurring 1\nassociations 1\ndriver 1\nimproves 1\nb 1\ndiminish 1\nconcretely 1\napplicants 1\nplentiful 1\nengineered 1\ntuck 1\nmarketable 1\nfarming 1\nclimate 1\nlowered 1\ndire 1\nturned 1\nlease 1\nbought 1\ndealership 1\nwaited 1\nrelocation 1\ntricky 1\ndisposing 1\nforeseeable 1\nexercise 1\nintention 1\nrealities 1\ncontingency 1\nhabits 1\nimperative 1\ncoached 1\nbeer 1\nembarking 1\nfrankly 1\nimmersed 1\nentrepreneurial 1\nrevisited 1\nfostering 1\nconsultations 1\ndesigners 1\nofficials 1\nplunge 1\nlocale 1\nangel 1\nproceeding 1\naccepting 1\ninvestments 1\nregularly 1\nexpress 1\nforum 1\nopenforum 1\ncontradicts 1\ndistraction 1\nlistening 1\nweigh 1\nsimilarity 1\ndistance 1\nhanding 1\npromptly 1\nshortage 1\nbizarre 1\ndrafted 1\nuncommon 1\ntender 1\ngathered 1\nexpanding 1\nfiled 1\ndeductibles 1\nopened 1\nselected 1\nexplored 1\ndate 1\ncheckups 1\nrefilled 1\npurchases 1\nfinalized 1\nvia 1\ncollected 1\nbrought 1\ndelete 1\nducks 1\nrow 1\nlined 1\nbridges 1\nscenario 1\nwelcomes 1\nappreciates 1\nrestate 1\nseparation 1\nburned 1\nbridge 1\nmanagers 1\nupbeat 1\ndangle 1\nincentives 1\nretention 1\nwondering 1\ndreaming 1\nscare 1\nagenda 1\nshocked 1\nloyal 1\nunidirectional 1\nescort 1\nunceremoniously 1\ndoor 1\nguard 1\nstern 1\nlecture 1\nupholding 1\nconfidentiality 1\nspared 1\nindignities 1\napplied 1\nwhirlwind 1\nlock 1\ncertificate 1\nfile 1\nh 1\nbleed 1\ndry 1\nlasts 1\nvent 1\nfrustrations 1\nfriendly 1\nforgivable 1\ncardboard 1\nunemployed 1\nunproductive 1\nartificially 1\ndeadlines 1\nappeasing 1\nfearing 1\nadvancement 1\nsurvival 1\ninstinct 1\nfuel 1\nbits 1\npermanent 1\nfully 1\nsecret 1\nbare 1\nshying 1\ncornerstone 1\nattracts 1\nrepelling 1\nstorefronts 1\ncares 1\nimmortalize 1\nheavily 1\nemulate 1\ncredits 1\nmaintainable 1\nanswers 1\nsecuring 1\ncapabilities 1\nsketches 1\nwireframes 1\napproved 1\napproval 1\nrecommendations 1\ndesigns 1\nmisunderstandings 1\ntradeoff 1\nstatic 1\ncatchy 1\nquote 1\nblurb 1\nhistory 1\naffiliated 1\ncopywriting 1\ncomplimentary 1\njournalism 1\nrefines 1\nfla 1\ndecember 1\n19 1\nstartlingly 1\nreleased 1\nvr 1\nchief 1\nofficer 1\nfirm 1\nteamed 1\nnewest 1\n360 1\ndegrees 1\naid 1\nadapted 1\nrealism 1\nlakes 1\ndistributed 1\nmainstay 1\nnaval 1\nair 1\ndepicts 1\nworries 1\nseasick 1\nwater 1\nsurfaces 1\nsymmetrically 1\npatterns 1\nsymmetrical 1\ninteract 1\nmanages 1\ncoordinate 1\nunity 1\neast 1\nxxxx 1\nfkane 1\nfounded 1\n2006 1\nrendering 1\nnatural 1\nenvironments 1\nlibraries 1\nopengl 1\ndirectx 1\nvolumetric 1\nweather 1\naviation 1\narchitectural 1\nvisualization 1\nbroadcast 1\nnasa 1\nfaa 1\nplease 1\nstars 1\ndashes 1\npublished 1\nobscured 1\ntelephone 1\npreferred 1\nlisting 1\nsteers 1\nunderstood 1\ncursory 1\naudiences 1\ncrafted 1\nintended 1\njargon 1\nmaritime 1\ncustomizing 1\njournalists 1\nconcrete 1\nsubstantiation 1\nfacts 1\nproofread 1\nerrors 1\ncategory 1\nnewsworthy 1\ncatches 1\nignored 1\nhandful 1\nnewspaper 1\nhighlight 1\neditorial 1\ndots 1\ninch 1\ncompressed 1\npng 1\nspan 1\nformal 1\ninformal 1\nsummary 1\nhosted 1\nequivalent 1\nintroductory 1\naccompanies 1\nprint 1\nattach 1\npitch 1\naccompany 1\nadmit 1\nexpert 1\ninterviewed 1\nreply 1\nreadership 1\nconnecting 1\nreporters 1\nhelpareporter 1\nquoted 1\nw3 1\nw3tc 1\nserver 1\narchive 1\nhurt 1\nreinforce 1\nwonder 1\ndistribute 1\nsuggestions 1\nimpressive 1\ntoolset 1\nseeing 1\nfamiliarizing 1\nterminology 1\nskyscraper 1\nsquare 1\nshaped 1\nlessons 1\nstunning 1\ngraphs 1\nindicates 1\nnotifies 1\noccurs 1\nconverted 1\ncolumn 1\nretail 1\nrestrict 1\ndesktop 1\ndesired 1\ntap 1\ntapping 1\nembedded 1\ndisable 1\ntechnique 1\nexclude 1\nexclusion 1\nadsenseformobileapps 1\npractice 1\nsettings 1\nnotorious 1\ndepartment 1\nforeigners 1\nrussia 1\ngermany 1\nspecify 1\nvictim 1\nfraudulent 1\nperiodically 1\ndimensions 1\nselecting 1\nunrelated 1\ncuriosity 1\nweekly 1\npop 1\nmovie 1\nsilver 1\nlining 1\nplaybook 1\nreviewing 1\nreveal 1\nphrases 1\nphrase 1\nsaves 1\nouts 1\nsnippets 1\nbrowse 1\naudience 1\ncomposed 1\namazingly 1\nclosely 1\npersonas 1\nbuys 1\nunused 1\ngauge 1\nplaced 1\nsubstantially 1\noftentimes 1\nbrand 1\nintangible 1\nattractive 1\nbundle 1\ncodes 1\nbehaved 1\nbuilder 1\ndeteriorates 1\nreplacing 1\ntune 1\nadvertorial 1\nnative 1\ncolors 1\ncaters 1\ngender 1\noccupation 1\nentrust 1\nridiculous 1\ncorrelate 1\nincurring 1\noutperforms 1\nrobust 1\nliking 1\npresenting 1\nphilippines 1\narmies 1\ndetection 1\njoke 1\nending 1\nrace 1\nfraudsters 1\ntests 1\nbing 1\nyahoo 1\noriented 1\nbackwards 1\ngambling 1\nlowest 1\ncomparing 1\nspecialty 1\nastronomers 1\ntelescope 1\nperfect 1\ndeserves 1\ncalculations 1\nreturned 1\nunsold 1\ncustom 1\nacted 1\ncable 1\nvenues 1\nviewers 1\nconference 1\nsponsor 1\nnearby 1\nbillboard 1\nbench 1\nvenue 1\njoining 1\nsponsoring 1\nafterward 1\nbooths 1\ndodgy 1\nsmallest 1\ntall 1\ncorner 1\ndump 1\nlap 1\npublicize 1\nafterwards 1\nattend 1\nparties 1\nafoul 1\npermitted 1\nonto 1\nfloor 1\nmanning 1\narcade 1\nmailings 1\nmined 1\nbrochure 1\npersonalized 1\ncontacted 1\nexcellent 1\nstamp 1\nabandoned 1\nmailbox 1\ngrab 1\nhost 1\nyoast 1\n15 1\noriginate 1\n85 1\ndoubt 1\nlinked 1\nauthoritative 1\neyes 1\ndirectories 1\nsneak 1\nsignature 1\nrecognize 1\npenalize 1\nhung 1\ntypes 1\nsorting 1\nctr 1\nparagraphs 1\nalt 1\ntextual 1\nspecial 1\nhtml 1\ncontained 1\nh1 1\nh2 1\nhighlighted 1\nwebpage 1\ncontain 1\ncharacters 1\ncrawls 1\ninvisible 1\nadaptive 1\nlays 1\nscreens 1\nload 1\nspeed 1\ncaching 1\ndiscovers 1\nsimulating 1\nconvey 1\ninviting 1\nfold 1\ndominates 1\nplays 1\nloaded 1\nconcisely 1\ncommunicated 1\nshelf 1\nrequesting 1\nnewsletter 1\nscared 1\noptional 1\nsubmit 1\nundeliverable 1\nspecialized 1\nfocuses 1\nwords 1\nslightly 1\nfiltered 1\nbeginners 1\nfoolproof 1\ndada 1\ntechnically 1\ninclined 1\ndelivered 1\nupgrade 1\nadvanced 1\nopt 1\nsignup 1\nsolicit 1\nlegally 1\nunsubscribe 1\nprocessed 1\ncorrectly 1\ndigest 1\nentries 1\ntone 1\nconversational 1\nfrequency 1\ntwice 1\nfrequently 1\nunsubscribing 1\npushing 1\nlines 1\nbroken 1\nediting 1\nproofreading 1\ncomponent 1\ninbound 1\npinterest 1\nyounger 1\noutreach 1\nretweeting 1\nreplying 1\ntweeted 1\ntweeting 1\ntries 1\nforce 1\nb2b 1\nframed 1\nachievement 1\nspammy 1\ninbox 1\nvalued 1\nclever 1\naddictive 1\nsubstantial 1\nsegue 1\nsudden 1\nfixing 1\npanic 1\ndrops 1\ncongratulate 1\ncompleted 1\ncritical 1\nboost 1\nappealing 1\nabandon 1\nengagement 1\nattracting 1\nrise 1\nblock 1\noriginated 1\nreferral 1\nchime 1\ndiscussion 1\ntag 1\nspam13 1\ntricks 1\njunk 1\nskepticism 1\ndrove 1\nlegitimate 1\nindicative 1\naffected 1\ndropped 1\nheading 1\noverlook 1\nhardest 1\nslowly 1\ndoubling 1\nstable 1\noverspend 1\nrequiring 1\ndries 1\nindicator 1\nsalesforce 1\nzoho 1\ndriven 1\nadded 1\nsigns 1\nreminding 1\nnudges 1\ngross 1\ndomestic 1\nunprepared 1\nfortune 1\nwillingness 1\nscam 1\ndirectors 1\ndivorce 1\ntransferred 1\ncontributing 1\ncontingencies 1\ndivorced 1\nmaker 1\nacquirers 1\ncomplement 1\nbeast 1\nunsure 1\nchallenges 1\nunsolicited 1\nbears 1\nrepeating 1\ntestified 1\nconvinced 1\nrelied 1\ntens 1\nfurthermore 1\ndistinction 1\nidentified 1\nasked 1\nrepeatedly 1\nfortunate 1\noriginally 1\nagreed 1\nburdened 1\nspot 1\nmainly 1\nmanipulation 1\nineffective 1\nulterior 1\nmotive 1\nnegotiating 1\nscammer 1\nmaximizes 1\nquestionable 1\nramp 1\nhanded 1\nprospecting 1\noutsourced 1\nemailing 1\nqualified 1\nindependence 1\ncompromises 1\nethical 1\ndilemma 1\nadvocates 1\npreserve 1\nasks 1\nemploy 1\nflows 1\nmeasured 1\npitfall 1\nrandom 1\nvariations 1\ndisappearance 1\nsees 1\nseasonal 1\ncycles 1\naggregate 1\nsusceptible 1\noutliers 1\nanalyzing 1\ndeviation 1\ngamed 1\ncongratulated 1\nbelieving 1\ndug 1\nvietnam 1\ndocumentation 1\nblocking 1\nsuspicious 1\nvariance 1\nthriving 1\nforever 1\nsaturate 1\nprovides 1\nmetaphorical 1\nsupporting 1\nadopt 1\nmindset 1\nconservatively 1\n104 1\n312 1\nmindful 1\nreserve 1\nbankrupt 1\nautomation 1\nsink 1\nsucceed 1\ncapitalist 1\nhits 1\ncritically 1\nexpand 1\nadvance 1\npessimistic 1\npromise 1\nperpetuity 1\ndiscontinue 1\nexplicitly 1\nevolving 1\nhired 1\npresumption 1\nroutine 1\nelance 1\nratings 1\nstrict 1\nflexible 1\ncommitting 1\nboilerplate 1\ndeliverables 1\nowns 1\nperformed 1\nheadache 1\nw9 1\n1099 1\nassumes 1\ngates 1\nsurvey 1\nkits 1\nrealizing 1\nons 1\nderivative 1\ncheaply 1\npackaging 1\ncaffeine 1\nfueled 1\ncoding 1\ngenerating 1\n1000 1\n800 1\ncast 1\nstone 1\nrisking 1\npivoting 1\ngenius 1\nmentality 1\nsmashing 1\nolder 1\ndiligence 1\nforcing 1\nincreasing 1\nscheme 1\nsolo 1\npreneurs 1\npromoting 1\nhitting 1\nreasonably 1\nnobel 1\nlaureate 1\ndaniel 1\nkahneman 1\nhappiness 1\nachievable 1\nexisted 1\ntransitions 1\ndenial 1\ndecades 1\nvirtuous 1\nthrew 1\nsuspect 1\nreminds 1\nfondly 1\nconsumed 1\nrefined 1\nregret 1\ncontinued 1\nhearing 1\nfeet 1\ndrained 1\nclock 1\nbreakfast 1\nluxuries 1\ncheating 1\nworkaholic 1\nparticularly 1\ntough 1\nexpects 1\ncontinuously 1\nrestriction 1\nrecharge 1\nmenial 1\nfreed 1\nburdens 1\nrejected 1\nnotion 1\npursuit 1\nundefined 1\nbeach 1\nboring 1\nrewarding 1\npassed 1\npleasure 1\nintimately 1\nconstructed 1\nreader 1\nachieves 1\njourney 1\ntopics 1\ntimothy 1\nworkweek 1\nharmony 1\n2009 1\nharper 1\nreis 1\ncontinuous 1\ninnovation 1\nradically 1\ncrown 1\nrumsey 1\ndeborah 1\nj 1\npro 1\nsummit 1\nowes 1\ncolleagues 1\ngraciously 1\nvolunteered 1\nmeticulous 1\nedits 1\ndraft 1\ndykstra 1\nranged 1\nstylistic 1\nimprovements 1\ncontinuity 1\nthanks 1\nencouragement 1\nanecdotes 1\nscenarios 1\nbryc 1\nspotted 1\nacknowledge 1\nnearly 1\nenjoyable 1\nproduces 1\nelectrical 1\nmassachusetts 1\ndartmouth 1\nsierra 1\nglass 1\nstudios 1\nboston 1\nnine 1\nprogressed 1\npersonalization 1\nrecommendation 1\nsubsidiary 1\nlives 1\nenjoys 1\nparks 1\nstar 1\ntrek 1\nmemorabilia 1\nhimself 1\nrequirments 1\niag 1\nconsulting 1\n05 1\nusa 1\niduskbn0e721m20140527 1\nmoneybuilder 1\n07 1\nnational 1\nbrookings 1\ninstitution 1\ntgeonetta 1\nvs 1\n47 1\nwashington 1\nseptember 1\napa 1\norg 1\nhelpcenter 1\naspx 1\ndhhs 1\ncdc 1\ndocs 1\nbusinessinsider 1\n12 1\ntreated 1\n13 1\ntricking 1\n"
     ]
    }
   ],
   "source": [
    "# calculate unique word count and sort\n",
    "words = book.flatMap(normalizeWords)\n",
    "wordCounts = words.countByValue()\n",
    "sortedWordCounts = sorted(wordCounts.items(), key = lambda x: x[1], reverse = True)\n",
    "\n",
    "for word, count in sortedWordCounts:\n",
    "    cleanWord = word.encode('ascii', 'ignore')\n",
    "\n",
    "    if cleanWord:\n",
    "        print(cleanWord.decode() + ' ' + str(count))"
   ]
  },
  {
   "cell_type": "markdown",
   "metadata": {
    "application/vnd.databricks.v1+cell": {
     "cellMetadata": {
      "byteLimit": 2048000,
      "rowLimit": 10000
     },
     "inputWidgets": {},
     "nuid": "6a827610-ec92-47d4-989c-cb5130cd4296",
     "showTitle": false,
     "title": ""
    }
   },
   "source": [
    "# Exercise: Find Total Amount by Customer"
   ]
  },
  {
   "cell_type": "code",
   "execution_count": 0,
   "metadata": {
    "application/vnd.databricks.v1+cell": {
     "cellMetadata": {
      "byteLimit": 2048000,
      "rowLimit": 10000
     },
     "inputWidgets": {},
     "nuid": "58b9e46f-9e57-45a8-b69d-8d88da68e7b4",
     "showTitle": false,
     "title": ""
    }
   },
   "outputs": [],
   "source": [
    "# load data from datalake\n",
    "# schema: customerId, itemId, amountSpent\n",
    "\n",
    "orders = sc.textFile(\"abfss://pyspark-course@dbcourselakehouse.dfs.core.windows.net/customer-orders.csv\")"
   ]
  },
  {
   "cell_type": "code",
   "execution_count": 0,
   "metadata": {
    "application/vnd.databricks.v1+cell": {
     "cellMetadata": {
      "byteLimit": 2048000,
      "rowLimit": 10000
     },
     "inputWidgets": {},
     "nuid": "e3402b4a-4fe5-4261-8a44-bfc32b83499a",
     "showTitle": false,
     "title": ""
    }
   },
   "outputs": [],
   "source": [
    "# extract cutomer price pair function\n",
    "def extractCustomerPricePairs(line):\n",
    "    fields = line.split(',')\n",
    "    return(int(fields[0]), float(fields[2]))"
   ]
  },
  {
   "cell_type": "code",
   "execution_count": 0,
   "metadata": {
    "application/vnd.databricks.v1+cell": {
     "cellMetadata": {
      "byteLimit": 2048000,
      "rowLimit": 10000
     },
     "inputWidgets": {},
     "nuid": "99b30cbb-2a68-437d-9e16-e638df92371c",
     "showTitle": false,
     "title": ""
    }
   },
   "outputs": [
    {
     "output_type": "stream",
     "name": "stdout",
     "output_type": "stream",
     "text": [
      "CustomerId: 68 \tTotal Amt: $6375.45\nCustomerId: 73 \tTotal Amt: $6206.2\nCustomerId: 39 \tTotal Amt: $6193.11\nCustomerId: 54 \tTotal Amt: $6065.39\nCustomerId: 71 \tTotal Amt: $5995.66\nCustomerId: 2 \tTotal Amt: $5994.59\nCustomerId: 97 \tTotal Amt: $5977.19\nCustomerId: 46 \tTotal Amt: $5963.11\nCustomerId: 42 \tTotal Amt: $5696.84\nCustomerId: 59 \tTotal Amt: $5642.89\nCustomerId: 41 \tTotal Amt: $5637.62\nCustomerId: 0 \tTotal Amt: $5524.95\nCustomerId: 8 \tTotal Amt: $5517.24\nCustomerId: 85 \tTotal Amt: $5503.43\nCustomerId: 61 \tTotal Amt: $5497.48\nCustomerId: 32 \tTotal Amt: $5496.05\nCustomerId: 58 \tTotal Amt: $5437.73\nCustomerId: 63 \tTotal Amt: $5415.15\nCustomerId: 15 \tTotal Amt: $5413.51\nCustomerId: 6 \tTotal Amt: $5397.88\nCustomerId: 92 \tTotal Amt: $5379.28\nCustomerId: 43 \tTotal Amt: $5368.83\nCustomerId: 70 \tTotal Amt: $5368.25\nCustomerId: 72 \tTotal Amt: $5337.44\nCustomerId: 34 \tTotal Amt: $5330.8\nCustomerId: 9 \tTotal Amt: $5322.65\nCustomerId: 55 \tTotal Amt: $5298.09\nCustomerId: 90 \tTotal Amt: $5290.41\nCustomerId: 64 \tTotal Amt: $5288.69\nCustomerId: 93 \tTotal Amt: $5265.75\nCustomerId: 24 \tTotal Amt: $5259.92\nCustomerId: 33 \tTotal Amt: $5254.66\nCustomerId: 62 \tTotal Amt: $5253.32\nCustomerId: 26 \tTotal Amt: $5250.4\nCustomerId: 52 \tTotal Amt: $5245.06\nCustomerId: 87 \tTotal Amt: $5206.4\nCustomerId: 40 \tTotal Amt: $5186.43\nCustomerId: 35 \tTotal Amt: $5155.42\nCustomerId: 11 \tTotal Amt: $5152.29\nCustomerId: 65 \tTotal Amt: $5140.35\nCustomerId: 69 \tTotal Amt: $5123.01\nCustomerId: 81 \tTotal Amt: $5112.71\nCustomerId: 19 \tTotal Amt: $5059.43\nCustomerId: 25 \tTotal Amt: $5057.61\nCustomerId: 60 \tTotal Amt: $5040.71\nCustomerId: 17 \tTotal Amt: $5032.68\nCustomerId: 29 \tTotal Amt: $5032.53\nCustomerId: 22 \tTotal Amt: $5019.45\nCustomerId: 28 \tTotal Amt: $5000.71\nCustomerId: 30 \tTotal Amt: $4990.72\nCustomerId: 16 \tTotal Amt: $4979.06\nCustomerId: 51 \tTotal Amt: $4975.22\nCustomerId: 1 \tTotal Amt: $4958.6\nCustomerId: 53 \tTotal Amt: $4945.3\nCustomerId: 18 \tTotal Amt: $4921.27\nCustomerId: 27 \tTotal Amt: $4915.89\nCustomerId: 86 \tTotal Amt: $4908.81\nCustomerId: 76 \tTotal Amt: $4904.21\nCustomerId: 38 \tTotal Amt: $4898.46\nCustomerId: 95 \tTotal Amt: $4876.84\nCustomerId: 89 \tTotal Amt: $4851.48\nCustomerId: 20 \tTotal Amt: $4836.86\nCustomerId: 88 \tTotal Amt: $4830.55\nCustomerId: 10 \tTotal Amt: $4819.7\nCustomerId: 4 \tTotal Amt: $4815.05\nCustomerId: 82 \tTotal Amt: $4812.49\nCustomerId: 31 \tTotal Amt: $4765.05\nCustomerId: 44 \tTotal Amt: $4756.89\nCustomerId: 7 \tTotal Amt: $4755.07\nCustomerId: 37 \tTotal Amt: $4735.2\nCustomerId: 14 \tTotal Amt: $4735.03\nCustomerId: 80 \tTotal Amt: $4727.86\nCustomerId: 21 \tTotal Amt: $4707.41\nCustomerId: 56 \tTotal Amt: $4701.02\nCustomerId: 66 \tTotal Amt: $4681.92\nCustomerId: 12 \tTotal Amt: $4664.59\nCustomerId: 3 \tTotal Amt: $4659.63\nCustomerId: 84 \tTotal Amt: $4652.94\nCustomerId: 74 \tTotal Amt: $4647.13\nCustomerId: 91 \tTotal Amt: $4642.26\nCustomerId: 83 \tTotal Amt: $4635.8\nCustomerId: 57 \tTotal Amt: $4628.4\nCustomerId: 5 \tTotal Amt: $4561.07\nCustomerId: 78 \tTotal Amt: $4524.51\nCustomerId: 50 \tTotal Amt: $4517.27\nCustomerId: 67 \tTotal Amt: $4505.79\nCustomerId: 94 \tTotal Amt: $4475.57\nCustomerId: 49 \tTotal Amt: $4394.6\nCustomerId: 48 \tTotal Amt: $4384.33\nCustomerId: 13 \tTotal Amt: $4367.62\nCustomerId: 77 \tTotal Amt: $4327.73\nCustomerId: 47 \tTotal Amt: $4316.3\nCustomerId: 98 \tTotal Amt: $4297.26\nCustomerId: 36 \tTotal Amt: $4278.05\nCustomerId: 75 \tTotal Amt: $4178.5\nCustomerId: 99 \tTotal Amt: $4172.29\nCustomerId: 23 \tTotal Amt: $4042.65\nCustomerId: 96 \tTotal Amt: $3924.23\nCustomerId: 79 \tTotal Amt: $3790.57\nCustomerId: 45 \tTotal Amt: $3309.38\n"
     ]
    }
   ],
   "source": [
    "# calcuate sum by customer\n",
    "mappedOrders = orders.map(extractCustomerPricePairs)\n",
    "totalByCustomer = mappedOrders.reduceByKey(lambda x, y: x + y)\n",
    "sortedTotalByCustomer = totalByCustomer.sortBy(lambda x: x[1], ascending = False)\n",
    "\n",
    "results = sortedTotalByCustomer.collect()\n",
    "\n",
    "for result in results:\n",
    "    customer = result[0]\n",
    "    totalAmount = round(result[1], 2)\n",
    "    print(f'CustomerId: {customer} \\tTotal Amt: ${totalAmount}')"
   ]
  }
 ],
 "metadata": {
  "application/vnd.databricks.v1+notebook": {
   "dashboards": [],
   "language": "python",
   "notebookMetadata": {
    "pythonIndentUnit": 4
   },
   "notebookName": "01-RDDs",
   "widgets": {}
  }
 },
 "nbformat": 4,
 "nbformat_minor": 0
}
